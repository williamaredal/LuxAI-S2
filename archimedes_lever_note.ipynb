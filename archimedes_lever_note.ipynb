{
 "cells": [
  {
   "cell_type": "code",
   "execution_count": null,
   "metadata": {},
   "outputs": [],
   "source": [
    "# In case of import requirements\n",
    "# verify version\n",
    "!python3 --version\n",
    "!pip install --upgrade luxai_s2\n",
    "!pip install importlib-metadata==4.13.0\n",
    "!pip install --upgrade moviepy # needed to render videos of episodes"
   ]
  },
  {
   "cell_type": "code",
   "execution_count": null,
   "metadata": {},
   "outputs": [],
   "source": [
    "from luxai_s2.env import LuxAI_S2\n",
    "from lux.kit import obs_to_game_state, GameState, EnvConfig\n",
    "from lux.utils import my_turn_to_place_factory, direction_to \n",
    "import matplotlib.pyplot as plt\n",
    "import numpy as np\n",
    "import plotly.express as px\n",
    "import random\n",
    "import math\n",
    "import cv2"
   ]
  },
  {
   "cell_type": "code",
   "execution_count": null,
   "metadata": {},
   "outputs": [],
   "source": [
    "'''DONE'''\n",
    "\n",
    "'''STRATEGY'''\n",
    "# TODO Remove enemy factory tile coordinates from closest rubble low list to avoid clearing out rubble for opponent\n",
    "# [X]\n",
    "# TODO Make bots with ore assignments fetch power from factory with \"pickup\", as power is not utilized to full extent\n",
    "# []\n",
    "# TODO Evaluate weather to use 150-N turns to gather ore for multiplication of bots before water hoarding\n",
    "# []\n",
    "\n",
    "'''PLACEMENT LOCATIONS'''\n",
    "# TODO Simple switch from average rubble to median rubble for spawn selection better?\n",
    "# []\n",
    "\n",
    "\n",
    "'''HEAVY BEHAVIOUR'''\n",
    "# TODO Add \"hostile_facotry_ajacent\" to heavy and light overwatch functions and checks to avoid random choice of trying to attack, when it should\n",
    "#      move home (always when next to hostile factory)\n",
    "# []\n",
    "\n",
    "'''LIGHT BEHAVIOUR'''\n",
    "# TODO Set one light bot to mining assignment. If closest factory has more than 1500 power, recharge there. This bot assignment does not stop\n",
    "#      mining ore for new bots until turn N\n",
    "# []\n",
    "\n",
    "\n",
    "'''MISC'''\n",
    "# TODO Change spawn selection from using coordinates to use Djikstra algorithm to calculate distances from each ice tile, which then returns the\n",
    "#      average of the heatmap instead of ajacent rubble tiles for that ice tile.\n",
    "#      This means retooling the spawn filtering section to evaluate the spawns by their \"distance score\".\n",
    "# []\n",
    "# TODO Introduce switch for light bots toggling between curren behaviour (after turn 200), and creation of a \"human chain\" on a ore tile, if \n",
    "#      there is one ore tile N distance away from the factory center tile (can find where center coords are defined).\n",
    "#      Here one light bot is assigned as miner, while rest follows, and charges during daytime, and transfers M power forwards to mining bot.\n",
    "#      The mining bot transfers ore towards factory tile, and supporting bots towards factory, if bot is on coordinate towards factory.\n",
    "#      If no bot can recieve, the light bot starts moving towards factory to drop off ore (it has ore greater than free cargo space)\n",
    "# []"
   ]
  },
  {
   "cell_type": "code",
   "execution_count": 158,
   "metadata": {},
   "outputs": [
    {
     "data": {
      "application/vnd.plotly.v1+json": {
       "config": {
        "plotlyServerURL": "https://plot.ly"
       },
       "data": [
        {
         "hovertemplate": "x: %{x}<br>y: %{y}<br>color: [%{z[0]}, %{z[1]}, %{z[2]}]<extra></extra>",
         "name": "0",
         "source": "data:image/png;base64,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",
         "type": "image",
         "xaxis": "x",
         "yaxis": "y"
        }
       ],
       "layout": {
        "margin": {
         "t": 60
        },
        "template": {
         "data": {
          "bar": [
           {
            "error_x": {
             "color": "#2a3f5f"
            },
            "error_y": {
             "color": "#2a3f5f"
            },
            "marker": {
             "line": {
              "color": "#E5ECF6",
              "width": 0.5
             },
             "pattern": {
              "fillmode": "overlay",
              "size": 10,
              "solidity": 0.2
             }
            },
            "type": "bar"
           }
          ],
          "barpolar": [
           {
            "marker": {
             "line": {
              "color": "#E5ECF6",
              "width": 0.5
             },
             "pattern": {
              "fillmode": "overlay",
              "size": 10,
              "solidity": 0.2
             }
            },
            "type": "barpolar"
           }
          ],
          "carpet": [
           {
            "aaxis": {
             "endlinecolor": "#2a3f5f",
             "gridcolor": "white",
             "linecolor": "white",
             "minorgridcolor": "white",
             "startlinecolor": "#2a3f5f"
            },
            "baxis": {
             "endlinecolor": "#2a3f5f",
             "gridcolor": "white",
             "linecolor": "white",
             "minorgridcolor": "white",
             "startlinecolor": "#2a3f5f"
            },
            "type": "carpet"
           }
          ],
          "choropleth": [
           {
            "colorbar": {
             "outlinewidth": 0,
             "ticks": ""
            },
            "type": "choropleth"
           }
          ],
          "contour": [
           {
            "colorbar": {
             "outlinewidth": 0,
             "ticks": ""
            },
            "colorscale": [
             [
              0,
              "#0d0887"
             ],
             [
              0.1111111111111111,
              "#46039f"
             ],
             [
              0.2222222222222222,
              "#7201a8"
             ],
             [
              0.3333333333333333,
              "#9c179e"
             ],
             [
              0.4444444444444444,
              "#bd3786"
             ],
             [
              0.5555555555555556,
              "#d8576b"
             ],
             [
              0.6666666666666666,
              "#ed7953"
             ],
             [
              0.7777777777777778,
              "#fb9f3a"
             ],
             [
              0.8888888888888888,
              "#fdca26"
             ],
             [
              1,
              "#f0f921"
             ]
            ],
            "type": "contour"
           }
          ],
          "contourcarpet": [
           {
            "colorbar": {
             "outlinewidth": 0,
             "ticks": ""
            },
            "type": "contourcarpet"
           }
          ],
          "heatmap": [
           {
            "colorbar": {
             "outlinewidth": 0,
             "ticks": ""
            },
            "colorscale": [
             [
              0,
              "#0d0887"
             ],
             [
              0.1111111111111111,
              "#46039f"
             ],
             [
              0.2222222222222222,
              "#7201a8"
             ],
             [
              0.3333333333333333,
              "#9c179e"
             ],
             [
              0.4444444444444444,
              "#bd3786"
             ],
             [
              0.5555555555555556,
              "#d8576b"
             ],
             [
              0.6666666666666666,
              "#ed7953"
             ],
             [
              0.7777777777777778,
              "#fb9f3a"
             ],
             [
              0.8888888888888888,
              "#fdca26"
             ],
             [
              1,
              "#f0f921"
             ]
            ],
            "type": "heatmap"
           }
          ],
          "heatmapgl": [
           {
            "colorbar": {
             "outlinewidth": 0,
             "ticks": ""
            },
            "colorscale": [
             [
              0,
              "#0d0887"
             ],
             [
              0.1111111111111111,
              "#46039f"
             ],
             [
              0.2222222222222222,
              "#7201a8"
             ],
             [
              0.3333333333333333,
              "#9c179e"
             ],
             [
              0.4444444444444444,
              "#bd3786"
             ],
             [
              0.5555555555555556,
              "#d8576b"
             ],
             [
              0.6666666666666666,
              "#ed7953"
             ],
             [
              0.7777777777777778,
              "#fb9f3a"
             ],
             [
              0.8888888888888888,
              "#fdca26"
             ],
             [
              1,
              "#f0f921"
             ]
            ],
            "type": "heatmapgl"
           }
          ],
          "histogram": [
           {
            "marker": {
             "pattern": {
              "fillmode": "overlay",
              "size": 10,
              "solidity": 0.2
             }
            },
            "type": "histogram"
           }
          ],
          "histogram2d": [
           {
            "colorbar": {
             "outlinewidth": 0,
             "ticks": ""
            },
            "colorscale": [
             [
              0,
              "#0d0887"
             ],
             [
              0.1111111111111111,
              "#46039f"
             ],
             [
              0.2222222222222222,
              "#7201a8"
             ],
             [
              0.3333333333333333,
              "#9c179e"
             ],
             [
              0.4444444444444444,
              "#bd3786"
             ],
             [
              0.5555555555555556,
              "#d8576b"
             ],
             [
              0.6666666666666666,
              "#ed7953"
             ],
             [
              0.7777777777777778,
              "#fb9f3a"
             ],
             [
              0.8888888888888888,
              "#fdca26"
             ],
             [
              1,
              "#f0f921"
             ]
            ],
            "type": "histogram2d"
           }
          ],
          "histogram2dcontour": [
           {
            "colorbar": {
             "outlinewidth": 0,
             "ticks": ""
            },
            "colorscale": [
             [
              0,
              "#0d0887"
             ],
             [
              0.1111111111111111,
              "#46039f"
             ],
             [
              0.2222222222222222,
              "#7201a8"
             ],
             [
              0.3333333333333333,
              "#9c179e"
             ],
             [
              0.4444444444444444,
              "#bd3786"
             ],
             [
              0.5555555555555556,
              "#d8576b"
             ],
             [
              0.6666666666666666,
              "#ed7953"
             ],
             [
              0.7777777777777778,
              "#fb9f3a"
             ],
             [
              0.8888888888888888,
              "#fdca26"
             ],
             [
              1,
              "#f0f921"
             ]
            ],
            "type": "histogram2dcontour"
           }
          ],
          "mesh3d": [
           {
            "colorbar": {
             "outlinewidth": 0,
             "ticks": ""
            },
            "type": "mesh3d"
           }
          ],
          "parcoords": [
           {
            "line": {
             "colorbar": {
              "outlinewidth": 0,
              "ticks": ""
             }
            },
            "type": "parcoords"
           }
          ],
          "pie": [
           {
            "automargin": true,
            "type": "pie"
           }
          ],
          "scatter": [
           {
            "fillpattern": {
             "fillmode": "overlay",
             "size": 10,
             "solidity": 0.2
            },
            "type": "scatter"
           }
          ],
          "scatter3d": [
           {
            "line": {
             "colorbar": {
              "outlinewidth": 0,
              "ticks": ""
             }
            },
            "marker": {
             "colorbar": {
              "outlinewidth": 0,
              "ticks": ""
             }
            },
            "type": "scatter3d"
           }
          ],
          "scattercarpet": [
           {
            "marker": {
             "colorbar": {
              "outlinewidth": 0,
              "ticks": ""
             }
            },
            "type": "scattercarpet"
           }
          ],
          "scattergeo": [
           {
            "marker": {
             "colorbar": {
              "outlinewidth": 0,
              "ticks": ""
             }
            },
            "type": "scattergeo"
           }
          ],
          "scattergl": [
           {
            "marker": {
             "colorbar": {
              "outlinewidth": 0,
              "ticks": ""
             }
            },
            "type": "scattergl"
           }
          ],
          "scattermapbox": [
           {
            "marker": {
             "colorbar": {
              "outlinewidth": 0,
              "ticks": ""
             }
            },
            "type": "scattermapbox"
           }
          ],
          "scatterpolar": [
           {
            "marker": {
             "colorbar": {
              "outlinewidth": 0,
              "ticks": ""
             }
            },
            "type": "scatterpolar"
           }
          ],
          "scatterpolargl": [
           {
            "marker": {
             "colorbar": {
              "outlinewidth": 0,
              "ticks": ""
             }
            },
            "type": "scatterpolargl"
           }
          ],
          "scatterternary": [
           {
            "marker": {
             "colorbar": {
              "outlinewidth": 0,
              "ticks": ""
             }
            },
            "type": "scatterternary"
           }
          ],
          "surface": [
           {
            "colorbar": {
             "outlinewidth": 0,
             "ticks": ""
            },
            "colorscale": [
             [
              0,
              "#0d0887"
             ],
             [
              0.1111111111111111,
              "#46039f"
             ],
             [
              0.2222222222222222,
              "#7201a8"
             ],
             [
              0.3333333333333333,
              "#9c179e"
             ],
             [
              0.4444444444444444,
              "#bd3786"
             ],
             [
              0.5555555555555556,
              "#d8576b"
             ],
             [
              0.6666666666666666,
              "#ed7953"
             ],
             [
              0.7777777777777778,
              "#fb9f3a"
             ],
             [
              0.8888888888888888,
              "#fdca26"
             ],
             [
              1,
              "#f0f921"
             ]
            ],
            "type": "surface"
           }
          ],
          "table": [
           {
            "cells": {
             "fill": {
              "color": "#EBF0F8"
             },
             "line": {
              "color": "white"
             }
            },
            "header": {
             "fill": {
              "color": "#C8D4E3"
             },
             "line": {
              "color": "white"
             }
            },
            "type": "table"
           }
          ]
         },
         "layout": {
          "annotationdefaults": {
           "arrowcolor": "#2a3f5f",
           "arrowhead": 0,
           "arrowwidth": 1
          },
          "autotypenumbers": "strict",
          "coloraxis": {
           "colorbar": {
            "outlinewidth": 0,
            "ticks": ""
           }
          },
          "colorscale": {
           "diverging": [
            [
             0,
             "#8e0152"
            ],
            [
             0.1,
             "#c51b7d"
            ],
            [
             0.2,
             "#de77ae"
            ],
            [
             0.3,
             "#f1b6da"
            ],
            [
             0.4,
             "#fde0ef"
            ],
            [
             0.5,
             "#f7f7f7"
            ],
            [
             0.6,
             "#e6f5d0"
            ],
            [
             0.7,
             "#b8e186"
            ],
            [
             0.8,
             "#7fbc41"
            ],
            [
             0.9,
             "#4d9221"
            ],
            [
             1,
             "#276419"
            ]
           ],
           "sequential": [
            [
             0,
             "#0d0887"
            ],
            [
             0.1111111111111111,
             "#46039f"
            ],
            [
             0.2222222222222222,
             "#7201a8"
            ],
            [
             0.3333333333333333,
             "#9c179e"
            ],
            [
             0.4444444444444444,
             "#bd3786"
            ],
            [
             0.5555555555555556,
             "#d8576b"
            ],
            [
             0.6666666666666666,
             "#ed7953"
            ],
            [
             0.7777777777777778,
             "#fb9f3a"
            ],
            [
             0.8888888888888888,
             "#fdca26"
            ],
            [
             1,
             "#f0f921"
            ]
           ],
           "sequentialminus": [
            [
             0,
             "#0d0887"
            ],
            [
             0.1111111111111111,
             "#46039f"
            ],
            [
             0.2222222222222222,
             "#7201a8"
            ],
            [
             0.3333333333333333,
             "#9c179e"
            ],
            [
             0.4444444444444444,
             "#bd3786"
            ],
            [
             0.5555555555555556,
             "#d8576b"
            ],
            [
             0.6666666666666666,
             "#ed7953"
            ],
            [
             0.7777777777777778,
             "#fb9f3a"
            ],
            [
             0.8888888888888888,
             "#fdca26"
            ],
            [
             1,
             "#f0f921"
            ]
           ]
          },
          "colorway": [
           "#636efa",
           "#EF553B",
           "#00cc96",
           "#ab63fa",
           "#FFA15A",
           "#19d3f3",
           "#FF6692",
           "#B6E880",
           "#FF97FF",
           "#FECB52"
          ],
          "font": {
           "color": "#2a3f5f"
          },
          "geo": {
           "bgcolor": "white",
           "lakecolor": "white",
           "landcolor": "#E5ECF6",
           "showlakes": true,
           "showland": true,
           "subunitcolor": "white"
          },
          "hoverlabel": {
           "align": "left"
          },
          "hovermode": "closest",
          "mapbox": {
           "style": "light"
          },
          "paper_bgcolor": "white",
          "plot_bgcolor": "#E5ECF6",
          "polar": {
           "angularaxis": {
            "gridcolor": "white",
            "linecolor": "white",
            "ticks": ""
           },
           "bgcolor": "#E5ECF6",
           "radialaxis": {
            "gridcolor": "white",
            "linecolor": "white",
            "ticks": ""
           }
          },
          "scene": {
           "xaxis": {
            "backgroundcolor": "#E5ECF6",
            "gridcolor": "white",
            "gridwidth": 2,
            "linecolor": "white",
            "showbackground": true,
            "ticks": "",
            "zerolinecolor": "white"
           },
           "yaxis": {
            "backgroundcolor": "#E5ECF6",
            "gridcolor": "white",
            "gridwidth": 2,
            "linecolor": "white",
            "showbackground": true,
            "ticks": "",
            "zerolinecolor": "white"
           },
           "zaxis": {
            "backgroundcolor": "#E5ECF6",
            "gridcolor": "white",
            "gridwidth": 2,
            "linecolor": "white",
            "showbackground": true,
            "ticks": "",
            "zerolinecolor": "white"
           }
          },
          "shapedefaults": {
           "line": {
            "color": "#2a3f5f"
           }
          },
          "ternary": {
           "aaxis": {
            "gridcolor": "white",
            "linecolor": "white",
            "ticks": ""
           },
           "baxis": {
            "gridcolor": "white",
            "linecolor": "white",
            "ticks": ""
           },
           "bgcolor": "#E5ECF6",
           "caxis": {
            "gridcolor": "white",
            "linecolor": "white",
            "ticks": ""
           }
          },
          "title": {
           "x": 0.05
          },
          "xaxis": {
           "automargin": true,
           "gridcolor": "white",
           "linecolor": "white",
           "ticks": "",
           "title": {
            "standoff": 15
           },
           "zerolinecolor": "white",
           "zerolinewidth": 2
          },
          "yaxis": {
           "automargin": true,
           "gridcolor": "white",
           "linecolor": "white",
           "ticks": "",
           "title": {
            "standoff": 15
           },
           "zerolinecolor": "white",
           "zerolinewidth": 2
          }
         }
        },
        "xaxis": {
         "anchor": "y",
         "domain": [
          0,
          1
         ]
        },
        "yaxis": {
         "anchor": "x",
         "domain": [
          0,
          1
         ]
        }
       }
      }
     },
     "metadata": {},
     "output_type": "display_data"
    }
   ],
   "source": [
    "env = LuxAI_S2() # create the environment object\n",
    "obs = env.reset(seed=1051943745) # resets an environment with a seed\n",
    "\n",
    "# the observation is always composed of observations for both players.\n",
    "obs.keys(), obs[\"player_0\"].keys()\n",
    "\n",
    "# visualize the environment so far with rgb_array to get a quick look at the map\n",
    "# dark orange - high rubble, light orange - low rubble\n",
    "# blue = ice, yellow = ore\n",
    "img = env.render(\"rgb_array\", width=48, height=48)\n",
    "px.imshow(img).show()"
   ]
  },
  {
   "cell_type": "code",
   "execution_count": 159,
   "metadata": {},
   "outputs": [],
   "source": [
    "# TODO can be replaced with the interval method for searching in a square radius, perhaps not required to have else vision\n",
    "def rubble_tile_vision(x, y, rubble_map):\n",
    "    height = len(rubble_map) - 1\n",
    "    width = len(rubble_map[0]) - 1\n",
    "    vision_coords =  [\n",
    "\n",
    "        [x-1, y], [x, y-1], # left and top\n",
    "        [x+1, y], [x, y+1], # right and bottom\n",
    "        [x-1, y-1], [x+1, y-1], # diagonals\n",
    "        [x-1, y+1], [x+1, y+1], # diagonals\n",
    "        [x-2, y],   [x, y-2], # left and top \n",
    "        [x+2, y],   [x, y+2], # right and bottom \n",
    "        [x-2, y-1], [x-1, y-2], [x-2, y-2], # left and top diagonals \n",
    "        [x+2, y+1], [x+1, y+2], [x+2, y+2], # right and bottom diagonals \n",
    "        [x+2, y-1], [x+1, y-2], [x+2, y-2], # right and top diagonals \n",
    "        [x-2, y+1], [x-1, y+2], [x-2, y+2], # left and bottom diagonals \n",
    "\n",
    "        # feeler coords\n",
    "        [x-3, y],   [x, y-3], # left and top \n",
    "        [x+3, y],   [x, y+3], # right and bottom \n",
    "\n",
    "        [x, y-5],\n",
    "        [x-2, y-3], [x+2, y-3],\n",
    "        [x-5, y-2], [x-3, y-2], [x+3, y-2], [x+5, y-2],\n",
    "        [x+4, y-1], [x-4, y-1],\n",
    "        [x-6, y], [x+6, y],\n",
    "        [x+4, y+1], [x-4, y+1],\n",
    "        [x-5, y+2], [x-3, y+2], [x+3, y+2], [x+5, y+2],\n",
    "        [x-2, y+3], [x+2, y+3],\n",
    "        [x, y+5],\n",
    "\n",
    "    ]\n",
    "\n",
    "    return [(rubble_coord, rubble_map[rubble_coord[0]][rubble_coord[1]]) for rubble_coord in vision_coords \n",
    "        if rubble_coord[0] >= 0 and rubble_coord[0] <= width and\n",
    "           rubble_coord[1] >= 0 and rubble_coord[1] <= height\n",
    "    ]\n",
    "'''\n",
    "                  [ ]\n",
    "            [ ]   ^-5   [ ]\n",
    "    [ ]  [ ]      [ ]      [ ]   [ ]\n",
    "               [ ][ ][ ]   \n",
    "      [ ]   [ ][ ][ ][ ][ ]   [ ]\n",
    "[ ]      [ ][ ][ ] x [ ][ ][ ]      [ ]\n",
    "^-6   [ ]   [ ][ ][ ][ ][ ]   [ ]   ^+6\n",
    "               [ ][ ][ ]   \n",
    "    [ ]  [ ]      [ ]      [ ]   [ ]\n",
    "            [ ]         [ ]\n",
    "                  [ ]\n",
    "                  ^+5\n",
    "'''\n",
    "\n",
    "\n",
    "# TODO replace use of this function with the interval function\n",
    "def get_factory_tiles_from_center(x, y):\n",
    "    return np.array([\n",
    "        (x, y), # factory center\n",
    "        (x-1, y), (x, y-1), # left and top\n",
    "        (x+1, y), (x, y+1), # right and bottom\n",
    "        (x-1, y-1), (x+1, y-1), # diagonals\n",
    "        (x-1, y+1), (x+1, y+1), # diagonals\n",
    "    ]) \n",
    "'''\n",
    "[.][.][.]\n",
    "[.][.][.]\n",
    "[.][.][.]\n",
    "'''\n",
    "\n",
    "\n",
    "def get_factory_occupied_tiles(x, y):\n",
    "    return np.array([\n",
    "        (x, y), # factory center\n",
    "        (x-1, y), (x, y-1), # left and top\n",
    "        (x+1, y), (x, y+1), # right and bottom\n",
    "        (x-1, y-1), (x+1, y-1), # diagonals\n",
    "        (x-1, y+1), (x+1, y+1), # diagonals\n",
    "        (x-2, y), (x, y-2), # left and top \n",
    "        (x+2, y), (x, y+2), # right and bottom \n",
    "        (x-2, y-1), (x-1, y-2), (x-2, y-2), # left and top diagonals \n",
    "        (x+2, y+1), (x+1, y+2), (x+2, y+2), # right and bottom diagonals \n",
    "        (x+2, y-1), (x+1, y-2), (x+2, y-2), # right and top diagonals \n",
    "        (x-2, y+1), (x-1, y+2), (x-2, y+2), # left and bottom diagonals \n",
    "        (x-3, y), (x, y-3), (x+3, y), (x, y+3), # left and top\n",
    "        (x-3, y), (x, y-3), (x+3, y), (x, y+3), # right and bottom\n",
    "        (x-3, y-1), (x-1, y-3), (x-3, y-3), # left and top diagonals \n",
    "        (x+3, y+1), (x+1, y+3), (x+3, y+3), # right and bottom diagonals \n",
    "        (x+3, y-1), (x+1, y-3), (x+3, y-3), # left and top diagonals \n",
    "        (x-3, y+1), (x-1, y+3), (x-3, y+3), # right and bottom diagonals \n",
    "        (x-4, y), (x, y-4), (x+4, y), (x, y+4), # left and top\n",
    "        (x-5, y), (x, y-5), (x+5, y), (x, y+5), # right and bottom\n",
    "    ]) \n",
    "'''\n",
    "    [ ][ ][.][ ][ ]\n",
    "    [ ][ ][.][ ][ ]\n",
    "    [ ][.][.][.][ ]\n",
    " [.][.][.][X][.][.][.]\n",
    "    [ ][.][.][.][ ]\n",
    "    [ ][ ][.][ ][ ]\n",
    "    [ ][ ][.][ ][ ]\n",
    "'''\n",
    "\n",
    "\n",
    "def get_tiles_by_interval(x, y, interval_x, interval_y):\n",
    "    coordinates = np.array(\n",
    "        [(x + n, y + m) for n in range((-1 * interval_x), interval_x +1) for m in range((-1 * interval_y), interval_y +1) if (0 <= (x + n) <= 47) and (0 <= (y + m) <= 47)]\n",
    "    )\n",
    "    return coordinates\n",
    "'''\n",
    "    ^ interval y\n",
    "    [ ][ ][ ]\n",
    "    [ ][ ][ ]\n",
    "    [ ][ ][ ]\n",
    "    interval x ->\n",
    "'''\n",
    "\n",
    "\n",
    "# TODO use this so i can remove opponent factory tile neighbours from rubble removal\n",
    "def get_surrounding_tiles_by_interval(x, y, interval_x, interval_y):\n",
    "    coordinates = np.array(\n",
    "        [\n",
    "            (x + n, y + m) for n in range((-1 * interval_x), interval_x +1) for m in range((-1 * interval_y), interval_y +1) if\n",
    "            (0 <= (x + n) <= 47) and (n < -1 or n > 1 or m < -1 or m > 1) and\n",
    "            (0 <= (y + m) <= 47) #and (m < -1 or m > 1)\n",
    "        ]\n",
    "    )\n",
    "    return coordinates \n",
    "'''\n",
    "X = not marked factory tiles\n",
    "    ^ interval y\n",
    "    [ ][ ][ ][ ][ ][ ][ ]\n",
    "    [ ][ ][ ][ ][ ][ ][ ]\n",
    "    [ ][ ][X][X][X][ ][ ]\n",
    "    [ ][ ][X][X][X][ ][ ]\n",
    "    [ ][ ][X][X][X][ ][ ]\n",
    "    [ ][ ][ ][ ][ ][ ][ ]\n",
    "    [ ][ ][ ][ ][ ][ ][ ]\n",
    "    interval x ->\n",
    "'''\n",
    "\n",
    "\n",
    "def get_bordering_coords(x, y):\n",
    "    return np.array([\n",
    "        (x, y), # center\n",
    "        (x-1, y), (x, y-1), # left and top\n",
    "        (x+1, y), (x, y+1), # right and bottom\n",
    "        (x-1, y-1), (x+1, y-1), # diagonals\n",
    "        (x-1, y+1), (x+1, y+1), # diagonals\n",
    "    ])\n",
    "\n",
    "\n",
    "# function used by Archimedes for locating resource border coordinates\n",
    "def neighbors(x, y):\n",
    "    return np.array([\n",
    "        # startes at layer 2 to give buffer, avoiding placing factory on resource\n",
    "        (x-2, y), (x, y-2), # left and top \n",
    "        (x+2, y), (x, y+2), # right and bottom \n",
    "\n",
    "        (x-2, y-1), (x-1, y-2), # (x-2, y-2), # left and top diagonals \n",
    "        (x+2, y+1), (x+1, y+2), # (x+2, y+2), # right and bottom diagonals \n",
    "\n",
    "        (x+2, y-1), (x+1, y-2), # (x+2, y-2), # right and top diagonals \n",
    "        (x-2, y+1), (x-1, y+2), # (x-2, y+2), # left and bottom diagonals \n",
    "    ])\n",
    "'''\n",
    "[ ][.][.][.][ ]\n",
    "[.][ ][ ][ ][.]\n",
    "[.][ ][X][ ][.]\n",
    "[.][ ][ ][ ][.]\n",
    "[ ][.][.][.][ ]\n",
    "'''\n",
    "\n",
    "\n",
    "def coord_from_direction(x, y, direction):\n",
    "    if direction == 0:\n",
    "        return (x, y)\n",
    "    elif direction == 1:\n",
    "        return (x, y-1)\n",
    "    elif direction == 2:\n",
    "        return (x+1, y)\n",
    "    elif direction == 3:\n",
    "        return (x, y+1)\n",
    "    elif direction == 4:\n",
    "        return (x-1, y)\n",
    "\n",
    "\n",
    "# function used by Archimedes to check if tile is occupied by other bots\n",
    "def check_tile_occupation(game_state, unit_x, unit_y, direction, booked_coords, player, opponent):\n",
    "    friendly_bots = game_state.units[player]\n",
    "    hostile_bots = game_state.units[opponent]\n",
    "\n",
    "    friendly_coords = {(unit.pos[0], unit.pos[1]): unit.unit_type for (unit_id, unit) in friendly_bots.items()}\n",
    "    hostile_coords = {(unit.pos[0], unit.pos[1]): unit.unit_type for (unit_id, unit) in hostile_bots.items()}\n",
    "\n",
    "    # a[1] = direction (1 = up, 2 = right, 3 = down, 4 = left)\n",
    "    # move_deltas = np.array([0, -1], [1, 0], [0, 1], [-1, 0]])\n",
    "    bot_up = (unit_x, unit_y - 1)\n",
    "    bot_right = (unit_x + 1, unit_y)\n",
    "    bot_down = (unit_x, unit_y + 1)\n",
    "    bot_left = (unit_x - 1, unit_y)\n",
    "\n",
    "\n",
    "    # checks if no friendly is on direction tile, if none, direction remains, else set to 0\n",
    "    up_friendly = (bot_up not in friendly_coords and (not any([bot_up == b_coord for b_coord in booked_coords]) or len(booked_coords) == 0)) * 1\n",
    "    right_friendly = (bot_right not in friendly_coords and (not any([bot_right == b_coord for b_coord in booked_coords]) or len(booked_coords) == 0)) * 2\n",
    "    down_friendly = (bot_down not in friendly_coords and (not any([bot_down == b_coord for b_coord in booked_coords]) or len(booked_coords) == 0)) * 3\n",
    "    left_friendly = (bot_left not in friendly_coords and (not any([bot_left == b_coord for b_coord in booked_coords]) or len(booked_coords) == 0)) * 4\n",
    "\n",
    "    # checks if hostile bot is on direction tile, if there is one of type 'LIGHT', direction remains, else set to 0\n",
    "    up_hostile = True if (bot_up not in hostile_coords) or (bot_up in hostile_coords and hostile_coords[bot_up] == 'LIGHT' ) else False\n",
    "    right_hostile = True if (bot_right not in hostile_coords) or (bot_right in hostile_coords and hostile_coords[bot_right] == 'LIGHT' ) else False\n",
    "    down_hostile = True if (bot_down not in hostile_coords) or (bot_down in hostile_coords and hostile_coords[bot_down] == 'LIGHT' ) else False\n",
    "    left_hostile = True if (bot_left not in hostile_coords) or (bot_left in hostile_coords and hostile_coords[bot_left] == 'LIGHT' ) else False\n",
    "\n",
    "    # sets non occupied tile directions\n",
    "    up_free = up_friendly * up_hostile\n",
    "    right_free = right_friendly * right_hostile\n",
    "    down_free = down_friendly * down_hostile\n",
    "    left_free = left_friendly * left_hostile\n",
    "\n",
    "\n",
    "    # finds possible directions not occupied by friendly bots and hostile bots\n",
    "    directions = [up_free, right_free, down_free, left_free]\n",
    "    if direction in directions:\n",
    "        return direction\n",
    "    \n",
    "    elif sum(directions) > 0:\n",
    "        alt_directions = [d for d in directions if d > 0]\n",
    "        return random.choice(alt_directions)\n",
    "    '''\n",
    "      []1\n",
    "    []2[][]4\n",
    "      []3\n",
    "    ''' \n",
    "\n",
    "    # if all direction tiles occupied with friendly bots, recharge recommended\n",
    "    return 0\n",
    "\n",
    "\n",
    "def heavy_overwatch(unit, unit_x, unit_y, on_factory, closest_factory_tile, game_state, opponent):\n",
    "    # gets hostile bot coords\n",
    "    hostile_bots = game_state.units[opponent]\n",
    "    hostile_coords_heavy = [(unit.pos[0], unit.pos[1]) for (unit_id, unit) in hostile_bots.items() if unit.unit_type == 'HEAVY']\n",
    "\n",
    "    # coords relative to bot position\n",
    "    bot_up = (unit_x, unit_y - 1)\n",
    "    bot_right = (unit_x + 1, unit_y)\n",
    "    bot_down = (unit_x, unit_y + 1)\n",
    "    bot_left = (unit_x - 1, unit_y)\n",
    "\n",
    "    # checks if hostile bot is on directly neighbouring tiles, and is of type HEAVY\n",
    "    up_hostile = True if (bot_up in hostile_coords_heavy) else False\n",
    "    right_hostile = True if (bot_right in hostile_coords_heavy) else False\n",
    "    down_hostile = True if (bot_down in hostile_coords_heavy) else False\n",
    "    left_hostile = True if (bot_left in hostile_coords_heavy) else False\n",
    "    hostile_on_flank = (up_hostile or right_hostile or down_hostile or left_hostile)\n",
    "\n",
    "    # check for heavy hostiles on opposing tiles, if on factory tile move on hostile tile, else move to closest factory tile \n",
    "    if on_factory and hostile_on_flank:\n",
    "        up_target = up_hostile * 1\n",
    "        right_target = right_hostile * 2\n",
    "        down_target = down_hostile * 3\n",
    "        left_target = left_hostile * 4\n",
    "        directions = [up_target, right_target, down_target, left_target]\n",
    "        target_dir = [target for target in directions if target != 0]\n",
    "\n",
    "        return random.choice(target_dir)\n",
    "    \n",
    "    # attack if energy is greater than 240, but introduced random choice to disengage and move home\n",
    "    elif not on_factory and hostile_on_flank:\n",
    "        if unit.power > 240:\n",
    "            up_target = up_hostile * 1\n",
    "            right_target = right_hostile * 2\n",
    "            down_target = down_hostile * 3\n",
    "            left_target = left_hostile * 4\n",
    "            directions = [up_target, right_target, down_target, left_target, direction_to(np.array([unit_x, unit_y]), target=closest_factory_tile)]\n",
    "            target_dir = [target for target in directions if target != 0]\n",
    "            return random.choice(target_dir)\n",
    "        \n",
    "        else:\n",
    "            return direction_to(src=np.array([unit_x, unit_y]), target=closest_factory_tile)\n",
    "    \n",
    "    else:\n",
    "        return False\n",
    "\n",
    "\n",
    "def light_overwatch(unit, unit_x, unit_y, game_state, opponent):\n",
    "    # gets hostile bot coords\n",
    "    hostile_bots = game_state.units[opponent]\n",
    "    hostile_coords_heavy = [(unit.pos[0], unit.pos[1]) for (unit_id, unit) in hostile_bots.items() if unit.unit_type == 'HEAVY']\n",
    "    hostile_coords_light = [(unit.pos[0], unit.pos[1]) for (unit_id, unit) in hostile_bots.items() if unit.unit_type == 'LIGHT']\n",
    "\n",
    "    # coords relative to bot position\n",
    "    bot_up = (unit_x, unit_y - 1)\n",
    "    bot_right = (unit_x + 1, unit_y)\n",
    "    bot_down = (unit_x, unit_y + 1)\n",
    "    bot_left = (unit_x - 1, unit_y)\n",
    "\n",
    "    # checks if light hostile bot is on directly neighbouring tiles\n",
    "    up_hostile_light = True if (bot_up in hostile_coords_light) else False\n",
    "    right_hostile_light = True if (bot_right in hostile_coords_light) else False\n",
    "    down_hostile_light = True if (bot_down in hostile_coords_light) else False\n",
    "    left_hostile_light = True if (bot_left in hostile_coords_light) else False\n",
    "    light_hostile_on_flank = (up_hostile_light or right_hostile_light or down_hostile_light or left_hostile_light)\n",
    "\n",
    "    # checks if heavy hostile bot is on directly neighbouring tiles\n",
    "    up_hostile_heavy = True if (bot_up in hostile_coords_heavy) else False\n",
    "    right_hostile_heavy = True if (bot_right in hostile_coords_heavy) else False\n",
    "    down_hostile_heavy = True if (bot_down in hostile_coords_heavy) else False\n",
    "    left_hostile_heavy = True if (bot_left in hostile_coords_heavy) else False\n",
    "    heavy_hostile_on_flank = (up_hostile_heavy or right_hostile_heavy or down_hostile_heavy or left_hostile_heavy)\n",
    "\n",
    "\n",
    "    # if only heavy hostile on flank, returns direction that is away from heavy hostile\n",
    "    if heavy_hostile_on_flank and not light_hostile_on_flank:\n",
    "        if up_hostile_heavy:\n",
    "            return 3\n",
    "        elif right_hostile_heavy:\n",
    "            return 4\n",
    "        elif down_hostile_heavy:\n",
    "            return 1\n",
    "        elif left_hostile_heavy:\n",
    "            return 2\n",
    "    \n",
    "    # if light hostile on flank, attack\n",
    "    elif light_hostile_on_flank:\n",
    "        up_target = up_hostile_light * 1\n",
    "        right_target = right_hostile_light * 2\n",
    "        down_target = down_hostile_light * 3\n",
    "        left_target = left_hostile_light * 4\n",
    "        directions = [up_target, right_target, down_target, left_target]\n",
    "        target_dir = [target for target in directions if target != 0]\n",
    "        return random.choice(target_dir)\n",
    "    \n",
    "    else:\n",
    "        return False\n",
    "\n",
    "   \n",
    "\n",
    "class Archimedes_Lever():\n",
    "    def __init__(self, player: str, env_cfg: EnvConfig) -> None:\n",
    "        self.player = player\n",
    "        self.opp_player = \"player_1\" if self.player == \"player_0\" else \"player_0\"\n",
    "        self.env_cfg: EnvConfig = env_cfg\n",
    "\n",
    "    # Setup of early game\n",
    "    def early_setup(self, step: int, obs, remainingOverageTime: int = 60):\n",
    "        if step == 0:\n",
    "            # bid 0 to not waste resources bidding and declare as the default faction\n",
    "            # you can bid -n to prefer going second or n to prefer going first in placement\n",
    "            return dict(faction=\"AlphaStrike\", bid=10)\n",
    "        else:\n",
    "            game_state = obs_to_game_state(step, self.env_cfg, obs)\n",
    "            my_turn_to_evaluate_spawns = my_turn_to_place_factory(game_state.teams[self.player].place_first, step)\n",
    "\n",
    "            ### Using numpy arrays, maps out desirable spawn locations\n",
    "            # only processes map on my placement turns\n",
    "            if my_turn_to_evaluate_spawns:\n",
    "                # gets border indexes of ore coordinates and ice coordinates\n",
    "                indOre = np.transpose(np.where(game_state.board.ore > 0))\n",
    "                indIce = np.transpose(np.where(game_state.board.ice > 0))\n",
    "                indFactories = np.transpose(np.where(game_state.board.factory_occupancy_map >= 0))\n",
    "\n",
    "                # finds possible spawns around resources\n",
    "                array_spawns = np.unique(np.concatenate(\n",
    "                    [neighbors(*ind) for ind in indIce],\n",
    "                    #[neighbors(*ind) for ind in iceSpawns],\n",
    "                    ), axis=0)\n",
    "\n",
    "                # finds tiles that are occupied or invalid spawn coords\n",
    "                array_occupied_coords = np.unique(np.concatenate([get_factory_occupied_tiles(*i) for i in indFactories]), axis=0) if len(indFactories) > 0 else []\n",
    "                array_invalid_coords = np.unique(np.concatenate(\n",
    "                    (np.concatenate([get_bordering_coords(*ind) for ind in indOre], axis=0),\n",
    "                    np.concatenate([get_bordering_coords(*ind) for ind in indIce], axis=0))\n",
    "                ), axis=0)\n",
    "\n",
    "\n",
    "                # filters spawn coords for outside map coords (and those doesn't include spawns on map border), and those overlapping ivalid or occupied tiles\n",
    "                x_search_radius = 3\n",
    "                y_search_radius = 3\n",
    "                array_inside_map_spawns = [\n",
    "                    (np.array(\n",
    "                        [spawn_coord[0], spawn_coord[1]]), # first element in tuple is np array coordinate\n",
    "                        np.mean(                        # second elment in tuple is mean rubble value from ajacent coords\n",
    "                            [game_state.board.rubble[c[0]][c[1]] for c in get_surrounding_tiles_by_interval(x=spawn_coord[0], y=spawn_coord[1], interval_x=x_search_radius, interval_y=y_search_radius)]\n",
    "                        )\n",
    "                    ) for spawn_coord in array_spawns if (1 <= spawn_coord[0] <= 46) and (1 <= spawn_coord[1] <= 46)\n",
    "                ]\n",
    "                array_valid_spawns = [coord for coord in array_inside_map_spawns if \n",
    "                    all(all(coord[0] == inv_coord) == False for inv_coord in array_invalid_coords) and \n",
    "                    all(all(coord[0] == occ_coord) == False for occ_coord in array_occupied_coords)\n",
    "                ]\n",
    "\n",
    "                '''\n",
    "                # TODO mirror filtering here\n",
    "                desirable_coordinates_filtered = np.copy(game_state.board.valid_spawns_mask)\n",
    "                desirable_coordinates_filtered[desirable_coordinates_filtered == 1] = 0\n",
    "                for coord in array_valid_spawns:\n",
    "                    desirable_coordinates_filtered[coord[0]][coord[1]] == 1\n",
    "                # visualizes the map and AI vision\n",
    "                img = env.render(\"rgb_array\", width=48, height=48)\n",
    "                #px.imshow(game_state.board.rubble.T).show()\n",
    "                px.imshow(img).show()\n",
    "                px.imshow(desirable_coordinates_filtered.T).show()\n",
    "                '''\n",
    "\n",
    "                ### Factory placement period\n",
    "                # how much water and metal you have in your starting pool to give to new factories\n",
    "                water_left = game_state.teams[self.player].water\n",
    "                metal_left = game_state.teams[self.player].metal\n",
    "                \n",
    "                # how many factories you have left to place, and if its my turn to place\n",
    "                factories_to_place = game_state.teams[self.player].factories_to_place\n",
    "                my_turn_to_place = my_turn_to_place_factory(game_state.teams[self.player].place_first, step)\n",
    "\n",
    "                if factories_to_place > 0 and my_turn_to_place and len(array_valid_spawns) > 0:\n",
    "                    array_sorted_spawns = sorted(array_valid_spawns, key=lambda coord: coord[1])\n",
    "                    #print(\"spawn choices\", len(array_sorted_spawns))\n",
    "                    #print(array_sorted_spawns[0][0])\n",
    "                    spawn_loc = array_sorted_spawns[0][0]\n",
    "                    if water_left < 150 and metal_left < 150:\n",
    "                        return dict(spawn=spawn_loc, metal=metal_left, water=water_left)\n",
    "                    else:\n",
    "                        return dict(spawn=spawn_loc, metal=150, water=150)\n",
    "\n",
    "                else:\n",
    "                    # returns empty dictionary if there are no  valid spawn points to choose from\n",
    "                    return dict()\n",
    "\n",
    "            else:\n",
    "                # returns empty dictionary if no decisions were reached\n",
    "                return dict()\n",
    "\n",
    "\n",
    "    \n",
    "    # Setup of logic in the act phase\n",
    "    def act(self, step: int, obs, remainingOverageTime: int = 60):\n",
    "        # game state and other variables\n",
    "        actions = dict()\n",
    "        game_state: GameState = obs_to_game_state(step, self.env_cfg, obs)\n",
    "        game_state.teams[self.player].place_first\n",
    "\n",
    "\n",
    "        ### Factory decision making\n",
    "        factories = game_state.factories[self.player]\n",
    "        factory_tiles, factory_units, factory_centers = [], [], []\n",
    "        for unit_id, factory in factories.items():\n",
    "            center = factory.pos\n",
    "            tiles = get_factory_tiles_from_center(x=center[0], y=center[1])\n",
    "            factory_centers += [center]\n",
    "            for tile in tiles:\n",
    "                factory_tiles += [tile]\n",
    "            factory_units += [factory]\n",
    "        factory_tiles = np.array(factory_tiles)\n",
    "\n",
    "        hostile_factory_centers, hostile_factory_tiles = [], []\n",
    "        for h_unit_id, h_factory in game_state.factories[self.opp_player].items():\n",
    "            center = h_factory.pos\n",
    "            hostile_factory_centers.append(center)\n",
    "\n",
    "            tiles = get_factory_tiles_from_center(x=center[0], y=center[1])\n",
    "            for tile in tiles:\n",
    "                hostile_factory_tiles += [tile]\n",
    "        hostile_factory_tiles = np.array(hostile_factory_tiles)\n",
    "\n",
    "        # Creation of bots\n",
    "        heavy_bot_cost = self.env_cfg.ROBOTS[\"HEAVY\"]\n",
    "        light_bot_cost = self.env_cfg.ROBOTS[\"LIGHT\"]\n",
    "\n",
    "        # heavy bots\n",
    "        for unit_id, factory in factories.items():\n",
    "            if factory.power >= heavy_bot_cost.POWER_COST and factory.cargo.metal >= heavy_bot_cost.METAL_COST:\n",
    "                actions[unit_id] = factory.build_heavy()\n",
    "        \n",
    "        # light bots\n",
    "        if game_state.real_env_steps >= 1:\n",
    "            for unit_id, factory in factories.items():\n",
    "                if factory.power >= light_bot_cost.POWER_COST and factory.cargo.metal >= light_bot_cost.METAL_COST:\n",
    "                    actions[unit_id] = factory.build_light()\n",
    "\n",
    "\n",
    "        # Watering lichen if at right turn\n",
    "        growth_turn = 990 - 250 # calculations suggenst 77 turns prior\n",
    "        turns_left = 988 - game_state.real_env_steps\n",
    "        grow = game_state.real_env_steps >= growth_turn\n",
    "        for factory_id, factory in factories.items():\n",
    "            water_cost_reactor = turns_left\n",
    "            water_per_turn = 3.2\n",
    "            water_formula = (factory.cargo.water - water_cost_reactor + (water_per_turn * turns_left)) > (factory.water_cost(game_state) * turns_left)\n",
    "\n",
    "            # UNCOMMENT FOR TESTING OF LICHEN GROWTH\n",
    "            '''\n",
    "            if factory_id == 'factory_0' or factory_id == 'factory_1':\n",
    "                water_gathered = factory.cargo.water - 150 + game_state.real_env_steps\n",
    "                factory_lichen = 0\n",
    "                lichen_strain_tiles = np.argwhere(game_state.board.lichen_strains == factory.strain_id)\n",
    "                for tile in lichen_strain_tiles:\n",
    "                    factory_lichen += game_state.board.lichen[tile[0]][tile[1]]\n",
    "\n",
    "                print(str(factory.power) + \",\" +  str(water_gathered) + ',' + str(factory.cargo.water) + \",\" + str(factory.water_cost(game_state)) + ',' + str(factory_lichen))\n",
    "\n",
    "            if(factory.can_water(game_state) and factory.power < 2000 and factory.cargo.water > 150):\n",
    "                actions[factory_id] = factory.water()\n",
    "            '''\n",
    "\n",
    "            factory_power_formula = factory.can_water(game_state) and factory.power < 1000 and factory.cargo.water > 100 and factory.water_cost(game_state) < 3 and (game_state.real_env_steps >= 6)\n",
    "            if (game_state.real_env_steps >= growth_turn and water_formula) or (factory_power_formula):\n",
    "                actions[factory_id] = factory.water()\n",
    "\n",
    "        ### Finds all ice and ore tiles\n",
    "        ice_map = game_state.board.ice \n",
    "        ore_map = game_state.board.ore \n",
    "        rubble_map = game_state.board.rubble\n",
    "        ice_tile_locations = np.argwhere(ice_map == 1) # numpy magic to get the position of every ice tile\n",
    "        ore_tile_locations = np.argwhere(ore_map == 1) # numpy magic to get the position of every ore tile\n",
    "        rubble_tile_locations = np.argwhere(rubble_map > 0) # numpy magic to get the position of every rubble tile\n",
    "        rubble_tile_locations_low_rubble = np.argwhere(rubble_map <= 20)\n",
    "\n",
    "        # sets hostile rubble mask\n",
    "        hostile_rubble_mask = np.zeros((48, 48))\n",
    "        hostile_factory_rubble = np.concatenate([\n",
    "            get_surrounding_tiles_by_interval(\n",
    "                x=hostile_factory_center[0],\n",
    "                y=hostile_factory_center[1],\n",
    "                interval_x=4,\n",
    "                interval_y=4\n",
    "            ) for hostile_factory_center in hostile_factory_centers\n",
    "        ], axis=0)\n",
    "        \n",
    "        for tile in hostile_factory_rubble:\n",
    "            hostile_rubble_mask[tile[1]][tile[0]] = 1\n",
    "\n",
    "\n",
    "        units = game_state.units[self.player]\n",
    "\n",
    "        ### Specifies assignments for heavy and light bots\n",
    "        light_ore_miners = 0\n",
    "        mine_assignments = 0\n",
    "        rubble_assignments = 0\n",
    "        power_assignments = 0\n",
    "\n",
    "\n",
    "        # booked tiles for avoiding \n",
    "        move_bookings = []\n",
    "\n",
    "        for unit_id, unit in units.items():\n",
    "            isHeavy = unit.unit_type == 'HEAVY'\n",
    "            isLight = unit.unit_type == 'LIGHT'\n",
    "\n",
    "            # info about closest map tiles\n",
    "            closest_factory_tile = sorted(factory_tiles, key=lambda p: (p[0] - unit.pos[0])**2 + (p[1] - unit.pos[1])**2 )[0]\n",
    "            closest_hostile_factory_tile = sorted(hostile_factory_tiles, key=lambda p: (p[0] - unit.pos[0])**2 + (p[1] - unit.pos[1])**2)[0]\n",
    "            closest_ice_tile = sorted(ice_tile_locations, key=lambda p: (p[0] - unit.pos[0])**2 + (p[1] - unit.pos[1])**2 )[0]\n",
    "            \n",
    "            cargo_limit_ice = 960\n",
    "            on_factory = all(unit.pos == closest_factory_tile)\n",
    "            ajacent_factory = 1 >= abs((unit.pos[0] - closest_factory_tile[0])**2 + (unit.pos[1] - closest_factory_tile[1])**2)\n",
    "            ajacent_hostile_factory = 1 >= abs((unit.pos[0] - closest_hostile_factory_tile[0])**2 + (unit.pos[1] - closest_hostile_factory_tile[1])**2)\n",
    "\n",
    "\n",
    "            ### Heavy bot logic\n",
    "            if isHeavy:\n",
    "                below_power_threshold_heavy = unit.power <= 100\n",
    "                below_power_move_heavy = unit.power <= 50\n",
    "                free_cargo_ice = unit.cargo.ice < cargo_limit_ice\n",
    "                recharge_need_heavy = math.floor(3000 - unit.power)\n",
    "                on_ice = all(unit.pos == closest_ice_tile)\n",
    "                \n",
    "                # has hostile HEAVY on flank, moves to attack, or to factory tile if not already on one\n",
    "                overwatch_check = heavy_overwatch(\n",
    "                    unit=unit,\n",
    "                    unit_x=unit.pos[0],\n",
    "                    unit_y=unit.pos[1],\n",
    "                    on_factory=on_factory,\n",
    "                    closest_factory_tile=closest_factory_tile,\n",
    "                    game_state=game_state,\n",
    "                    opponent=self.opp_player\n",
    "                )\n",
    "                if overwatch_check != False:\n",
    "                    move_bookings.append(overwatch_check)\n",
    "                    actions[unit_id] = [unit.move(overwatch_check, repeat=0)]\n",
    "                    continue\n",
    "\n",
    "                # on ice, but not over cargo capacity limit. Dig ice\n",
    "                elif on_ice and free_cargo_ice and not below_power_threshold_heavy:\n",
    "                    move_bookings.append((unit.pos[0], unit.pos[1]))\n",
    "                    actions[unit_id] = [unit.dig(repeat=0)]\n",
    "                    #print(unit_id, \"digging\")\n",
    "                \n",
    "                # not on ice, not over cargo capacity limit. Move to ice\n",
    "                elif not on_ice and free_cargo_ice and not below_power_threshold_heavy:\n",
    "                    direction = direction_to(unit.pos, closest_ice_tile)\n",
    "                    move_bookings.append(coord_from_direction(x=unit.pos[0], y=unit.pos[1], direction=direction))\n",
    "                    actions[unit_id] = [unit.move(direction, repeat=0)]\n",
    "                    #print(unit_id, \"move dig\")\n",
    "                \n",
    "                # on factory, below power threshold. Pickup power\n",
    "                elif on_factory and below_power_threshold_heavy:\n",
    "                    direction = direction_to(unit.pos, closest_factory_tile)\n",
    "                    move_bookings.append((unit.pos[0], unit.pos[1]))\n",
    "                    actions[unit_id] = [unit.pickup(4, recharge_need_heavy, repeat=0)]\n",
    "                    #print(unit_id, \"pickup power\")\n",
    "                \n",
    "                # not on factory, below power threshold. Move to recharge\n",
    "                elif not on_factory and (below_power_threshold_heavy and not below_power_move_heavy):\n",
    "                    direction = direction_to(unit.pos, closest_factory_tile)\n",
    "                    move_bookings.append(coord_from_direction(x=unit.pos[0], y=unit.pos[1], direction=direction))\n",
    "                    actions[unit_id] = [unit.move(direction, repeat=0)]\n",
    "                    #print(unit_id, \"move recharge\")\n",
    "\n",
    "                # ajacent to factory, over cargo limit. Transfer ice\n",
    "                elif ajacent_factory and not free_cargo_ice and not below_power_threshold_heavy:\n",
    "                    direction = direction_to(unit.pos, closest_factory_tile)\n",
    "                    move_bookings.append((unit.pos[0], unit.pos[1]))\n",
    "                    actions[unit_id] = [unit.transfer(direction, 0, unit.cargo.ice, repeat=0)]\n",
    "                    #print(unit_id, \"transfer\")\n",
    "\n",
    "                # not ajacent to factory. Move to transfer\n",
    "                elif not ajacent_factory and not free_cargo_ice and not below_power_threshold_heavy:\n",
    "                    direction = direction_to(unit.pos, closest_factory_tile)\n",
    "                    move_bookings.append(coord_from_direction(x=unit.pos[0], y=unit.pos[1], direction=direction))\n",
    "                    actions[unit_id] = [unit.move(direction, repeat=0)]\n",
    "                    #print(unit_id, \"move transfer\")\n",
    "                \n",
    "                # not on factory, below critical power. Do nothing (recharge)\n",
    "                elif not on_factory and (below_power_threshold_heavy and below_power_move_heavy):\n",
    "                    #print(unit_id, \"doing nothing (recharging)\")\n",
    "                    continue\n",
    "\n",
    "\n",
    "            ### Light bot logic\n",
    "            if isLight:\n",
    "                # sorts low rubble tiles by proximity to closest factory tile to unit\n",
    "                sorted_rubble_tile_vision = sorted(\n",
    "                    [\n",
    "                        tile for tile in rubble_tile_locations_low_rubble if \n",
    "                        (hostile_rubble_mask[tile[0]][tile[1]] != 1) and\n",
    "                        (game_state.board.rubble[tile[0]][tile[1]] != 0) and \n",
    "                        (game_state.board.ice[tile[0]][tile[1]] != 1) and \n",
    "                        (game_state.board.ore[tile[0]][tile[1]] != 1)\n",
    "                    ], \n",
    "                    key=lambda coord: (coord[0] - closest_factory_tile[0])**2 + (coord[1] - closest_factory_tile[1])**2\n",
    "                )\n",
    "\n",
    "                lowest_rubble__tile_visible = sorted_rubble_tile_vision[0]\n",
    "                \n",
    "\n",
    "\n",
    "                closest_ore_tiles = sorted(ore_tile_locations, key=lambda p: (p[0] - unit.pos[0])**2 + (p[1] - unit.pos[1])**2 )\n",
    "                closest_rubble_tiles = sorted(rubble_tile_locations, key=lambda p: (p[0] - unit.pos[0])**2 + (p[1] - unit.pos[1])**2 )\n",
    "                closest_ore_tile = closest_ore_tiles[0]\n",
    "                closest_rubble_tile = closest_rubble_tiles[0]\n",
    "                \n",
    "                # decides if the bot should be assigned an ore location or find closest rubble\n",
    "                on_ore_assignment = mine_assignments < light_ore_miners\n",
    "                if on_ore_assignment and mine_assignments < len(closest_ore_tiles):\n",
    "                    closest_ore_tile = closest_ore_tiles[mine_assignments]\n",
    "                    mine_assignments += 1\n",
    "                if not on_ore_assignment and rubble_assignments < len(closest_rubble_tiles):\n",
    "                    rubble_assignments += 1\n",
    "\n",
    "                # info about closest factory power and resources\n",
    "                closest_factory = [(factory_id, factory) for factory_id, factory in factories.items() if (closest_factory_tile in get_factory_tiles_from_center(x=factory.pos[0], y=factory.pos[1]))]\n",
    "                free_power = (closest_factory[0][1].power - (power_assignments * 150)) > 1500 or water_formula\n",
    "                #print(free_power, closest_factory[0][0], closest_factory[0][1].pos, closest_factory[0][1].power)\n",
    "\n",
    "                charge_state = game_state.is_day() and unit.power < 150 and not on_factory and not factory_power_formula\n",
    "                below_power_threshold_light = unit.power <= 35\n",
    "                on_ore = all(unit.pos == closest_ore_tile)\n",
    "                on_rubble = all(unit.pos == closest_rubble_tile)\n",
    "                free_cargo_ore = unit.cargo.ore < 50\n",
    "\n",
    "                ### performs overwatch check to see if HEAVY bots on flanks\n",
    "                overwatch_check = light_overwatch(unit=unit, unit_x=unit.pos[0], unit_y=unit.pos[1], game_state=game_state, opponent=self.opp_player)\n",
    "                if overwatch_check != False:\n",
    "                    newDirection = check_tile_occupation(\n",
    "                        game_state=game_state,\n",
    "                        unit_x=unit.pos[0],\n",
    "                        unit_y=unit.pos[1],\n",
    "                        direction=overwatch_check,\n",
    "                        booked_coords=move_bookings,\n",
    "                        player=self.player,\n",
    "                        opponent=self.opp_player\n",
    "                    )\n",
    "                    move_bookings.append(coord_from_direction(x=unit.pos[0], y=unit.pos[1], direction=newDirection))\n",
    "                    actions[unit_id] = [unit.move(newDirection, repeat=0)]\n",
    "                    continue\n",
    "\n",
    "                # on ore, under cargo limit, not below power threshold, not charge state, not charge state. Dig ore\n",
    "                if on_ore and free_cargo_ore and not below_power_threshold_light and not charge_state:\n",
    "                    move_bookings.append((unit.pos[0], unit.pos[1]))\n",
    "                    actions[unit_id] = [unit.dig(repeat=0)]\n",
    "                    #print(unit_id, \"dig ore\")\n",
    "\n",
    "                # on rubble, under cargo limit, not below power threshold, not charge state. Dig rubble\n",
    "                elif on_rubble and free_cargo_ore and not below_power_threshold_light and not charge_state:\n",
    "                    actions[unit_id] = [unit.dig(repeat=0)]\n",
    "                    #print(unit_id, \"dig rubble\")\n",
    "\n",
    "                # on ore assignment, not on ore, not on rubble, under cargo limit, not below power threshold, not charge state. Move to ore\n",
    "                elif on_ore_assignment and not on_ore and not on_rubble and free_cargo_ore and not below_power_threshold_light and not charge_state:\n",
    "                    direction = direction_to(unit.pos, closest_ore_tile)\n",
    "                    newDirection = check_tile_occupation(game_state=game_state,\n",
    "                        unit_x=unit.pos[0],\n",
    "                        unit_y=unit.pos[1],\n",
    "                        direction=direction,\n",
    "                        booked_coords=move_bookings,\n",
    "                        player=self.player,\n",
    "                        opponent=self.opp_player\n",
    "                    )\n",
    "                \n",
    "                    if newDirection == 0:\n",
    "                        continue\n",
    "                        #print(unit_id, \"recharge instead of moving\")\n",
    "                    else:\n",
    "                        move_bookings.append(coord_from_direction(x=unit.pos[0], y=unit.pos[1], direction=newDirection))\n",
    "                        actions[unit_id] = [unit.move(newDirection, repeat=0)]\n",
    "                        #print(unit_id, \"move to ore\")\n",
    "                    \n",
    "                # not on ore assignment, not on ore, not on rubble, under cargo limit, not below power threshold, not charge state. Move to rubble\n",
    "                elif not on_ore_assignment and not on_rubble and free_cargo_ore and not below_power_threshold_light and not charge_state:\n",
    "                    direction = direction_to(unit.pos, lowest_rubble__tile_visible)\n",
    "                    newDirection = check_tile_occupation(\n",
    "                        game_state=game_state,\n",
    "                        unit_x=unit.pos[0],\n",
    "                        unit_y=unit.pos[1],\n",
    "                        direction=direction,\n",
    "                        booked_coords=move_bookings,\n",
    "                        player=self.player,\n",
    "                        opponent=self.opp_player\n",
    "                    )\n",
    "\n",
    "                    if newDirection == 0:\n",
    "                        continue\n",
    "                        #print(unit_id, \"recharge instead of moving\")\n",
    "                    else:\n",
    "                        move_bookings.append(coord_from_direction(x=unit.pos[0], y=unit.pos[1], direction=newDirection))\n",
    "                        actions[unit_id] = [unit.move(newDirection, repeat=0)]\n",
    "                        #print(unit_id, \"move to rubble\")\n",
    "\n",
    "                # ajacent to factory, at/over cargo limit, not below power threshold, not charge state. Transfer ore\n",
    "                elif ajacent_factory and not free_cargo_ore and not below_power_threshold_light and not charge_state:\n",
    "                    direction = direction_to(unit.pos, closest_factory_tile)\n",
    "                    move_bookings.append((unit.pos[0], unit.pos[1]))\n",
    "                    actions[unit_id] = [unit.transfer(direction, 1, unit.cargo.ore)]\n",
    "                    #print(unit_id, \"transfer cargo\")\n",
    "                \n",
    "                # not ajacent to factory, at/over cargo limit, not below power threshold, not charge state. Move to transfer\n",
    "                elif not ajacent_factory and not free_cargo_ore and not below_power_threshold_light and not charge_state:\n",
    "                    direction = direction_to(unit.pos, closest_factory_tile)\n",
    "                    direction = direction_to(unit.pos, closest_factory_tile)\n",
    "                    newDirection = check_tile_occupation(\n",
    "                        game_state=game_state,\n",
    "                        unit_x=unit.pos[0],\n",
    "                        unit_y=unit.pos[1],\n",
    "                        direction=direction,\n",
    "                        booked_coords=move_bookings,\n",
    "                        player=self.player,\n",
    "                        opponent=self.opp_player\n",
    "                    )\n",
    "\n",
    "                    if newDirection == 0:\n",
    "                        continue\n",
    "                        #print(unit_id, \"recharge instead of moving\")\n",
    "                    else:\n",
    "                        move_bookings.append(coord_from_direction(x=unit.pos[0], y=unit.pos[1], direction=newDirection))\n",
    "                        actions[unit_id] = [unit.move(newDirection, repeat=0)]\n",
    "                        #print(unit_id, \"move to transfer cargo\")\n",
    "\n",
    "                # below power threshold and in a charge state. Do nothing (recharge)\n",
    "                elif below_power_threshold_light and charge_state:\n",
    "                    continue\n",
    "                    #print(unit_id, \"recharge\")\n",
    "                \n",
    "                # below power threshold, not in charge state, on factory tile, nearest factory power > 1500. Pickup power\n",
    "                elif below_power_threshold_light and not charge_state and on_factory and free_power:\n",
    "                    power_assignments += 1\n",
    "                    move_bookings.append((unit.pos[0], unit.pos[1]))\n",
    "                    actions[unit_id] = [unit.pickup(4, 150 - unit.power, repeat=0)]\n",
    "                    #print(unit_id, \"pickup power light\")\n",
    "                \n",
    "                # below power threshold, not in charge state, not on factory tile, nearest factory power > 1500. Pickup power\n",
    "                elif below_power_threshold_light and not charge_state and not on_factory and free_power:\n",
    "                    power_assignments += 1\n",
    "                    direction = direction_to(unit.pos, closest_factory_tile)\n",
    "                    newDirection = check_tile_occupation(\n",
    "                        game_state=game_state,\n",
    "                        unit_x=unit.pos[0],\n",
    "                        unit_y=unit.pos[1],\n",
    "                        direction=direction,\n",
    "                        booked_coords=move_bookings,\n",
    "                        player=self.player,\n",
    "                        opponent=self.opp_player\n",
    "                    )\n",
    "\n",
    "                    if newDirection == 0:\n",
    "                        continue\n",
    "                        #print(unit_id, \"recharge instead of moving\")\n",
    "                    else:\n",
    "                        move_bookings.append(coord_from_direction(x=unit.pos[0], y=unit.pos[1], direction=newDirection))\n",
    "                        actions[unit_id] = [unit.move(newDirection, repeat=0)]\n",
    "                        #print(unit_id, \"move to factory recharge\")\n",
    "\n",
    "\n",
    "        return actions"
   ]
  },
  {
   "cell_type": "code",
   "execution_count": 160,
   "metadata": {},
   "outputs": [
    {
     "data": {
      "application/vnd.plotly.v1+json": {
       "config": {
        "plotlyServerURL": "https://plot.ly"
       },
       "data": [
        {
         "hovertemplate": "x: %{x}<br>y: %{y}<br>color: [%{z[0]}, %{z[1]}, %{z[2]}]<extra></extra>",
         "name": "0",
         "source": "data:image/png;base64,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",
         "type": "image",
         "xaxis": "x",
         "yaxis": "y"
        }
       ],
       "layout": {
        "margin": {
         "t": 60
        },
        "template": {
         "data": {
          "bar": [
           {
            "error_x": {
             "color": "#2a3f5f"
            },
            "error_y": {
             "color": "#2a3f5f"
            },
            "marker": {
             "line": {
              "color": "#E5ECF6",
              "width": 0.5
             },
             "pattern": {
              "fillmode": "overlay",
              "size": 10,
              "solidity": 0.2
             }
            },
            "type": "bar"
           }
          ],
          "barpolar": [
           {
            "marker": {
             "line": {
              "color": "#E5ECF6",
              "width": 0.5
             },
             "pattern": {
              "fillmode": "overlay",
              "size": 10,
              "solidity": 0.2
             }
            },
            "type": "barpolar"
           }
          ],
          "carpet": [
           {
            "aaxis": {
             "endlinecolor": "#2a3f5f",
             "gridcolor": "white",
             "linecolor": "white",
             "minorgridcolor": "white",
             "startlinecolor": "#2a3f5f"
            },
            "baxis": {
             "endlinecolor": "#2a3f5f",
             "gridcolor": "white",
             "linecolor": "white",
             "minorgridcolor": "white",
             "startlinecolor": "#2a3f5f"
            },
            "type": "carpet"
           }
          ],
          "choropleth": [
           {
            "colorbar": {
             "outlinewidth": 0,
             "ticks": ""
            },
            "type": "choropleth"
           }
          ],
          "contour": [
           {
            "colorbar": {
             "outlinewidth": 0,
             "ticks": ""
            },
            "colorscale": [
             [
              0,
              "#0d0887"
             ],
             [
              0.1111111111111111,
              "#46039f"
             ],
             [
              0.2222222222222222,
              "#7201a8"
             ],
             [
              0.3333333333333333,
              "#9c179e"
             ],
             [
              0.4444444444444444,
              "#bd3786"
             ],
             [
              0.5555555555555556,
              "#d8576b"
             ],
             [
              0.6666666666666666,
              "#ed7953"
             ],
             [
              0.7777777777777778,
              "#fb9f3a"
             ],
             [
              0.8888888888888888,
              "#fdca26"
             ],
             [
              1,
              "#f0f921"
             ]
            ],
            "type": "contour"
           }
          ],
          "contourcarpet": [
           {
            "colorbar": {
             "outlinewidth": 0,
             "ticks": ""
            },
            "type": "contourcarpet"
           }
          ],
          "heatmap": [
           {
            "colorbar": {
             "outlinewidth": 0,
             "ticks": ""
            },
            "colorscale": [
             [
              0,
              "#0d0887"
             ],
             [
              0.1111111111111111,
              "#46039f"
             ],
             [
              0.2222222222222222,
              "#7201a8"
             ],
             [
              0.3333333333333333,
              "#9c179e"
             ],
             [
              0.4444444444444444,
              "#bd3786"
             ],
             [
              0.5555555555555556,
              "#d8576b"
             ],
             [
              0.6666666666666666,
              "#ed7953"
             ],
             [
              0.7777777777777778,
              "#fb9f3a"
             ],
             [
              0.8888888888888888,
              "#fdca26"
             ],
             [
              1,
              "#f0f921"
             ]
            ],
            "type": "heatmap"
           }
          ],
          "heatmapgl": [
           {
            "colorbar": {
             "outlinewidth": 0,
             "ticks": ""
            },
            "colorscale": [
             [
              0,
              "#0d0887"
             ],
             [
              0.1111111111111111,
              "#46039f"
             ],
             [
              0.2222222222222222,
              "#7201a8"
             ],
             [
              0.3333333333333333,
              "#9c179e"
             ],
             [
              0.4444444444444444,
              "#bd3786"
             ],
             [
              0.5555555555555556,
              "#d8576b"
             ],
             [
              0.6666666666666666,
              "#ed7953"
             ],
             [
              0.7777777777777778,
              "#fb9f3a"
             ],
             [
              0.8888888888888888,
              "#fdca26"
             ],
             [
              1,
              "#f0f921"
             ]
            ],
            "type": "heatmapgl"
           }
          ],
          "histogram": [
           {
            "marker": {
             "pattern": {
              "fillmode": "overlay",
              "size": 10,
              "solidity": 0.2
             }
            },
            "type": "histogram"
           }
          ],
          "histogram2d": [
           {
            "colorbar": {
             "outlinewidth": 0,
             "ticks": ""
            },
            "colorscale": [
             [
              0,
              "#0d0887"
             ],
             [
              0.1111111111111111,
              "#46039f"
             ],
             [
              0.2222222222222222,
              "#7201a8"
             ],
             [
              0.3333333333333333,
              "#9c179e"
             ],
             [
              0.4444444444444444,
              "#bd3786"
             ],
             [
              0.5555555555555556,
              "#d8576b"
             ],
             [
              0.6666666666666666,
              "#ed7953"
             ],
             [
              0.7777777777777778,
              "#fb9f3a"
             ],
             [
              0.8888888888888888,
              "#fdca26"
             ],
             [
              1,
              "#f0f921"
             ]
            ],
            "type": "histogram2d"
           }
          ],
          "histogram2dcontour": [
           {
            "colorbar": {
             "outlinewidth": 0,
             "ticks": ""
            },
            "colorscale": [
             [
              0,
              "#0d0887"
             ],
             [
              0.1111111111111111,
              "#46039f"
             ],
             [
              0.2222222222222222,
              "#7201a8"
             ],
             [
              0.3333333333333333,
              "#9c179e"
             ],
             [
              0.4444444444444444,
              "#bd3786"
             ],
             [
              0.5555555555555556,
              "#d8576b"
             ],
             [
              0.6666666666666666,
              "#ed7953"
             ],
             [
              0.7777777777777778,
              "#fb9f3a"
             ],
             [
              0.8888888888888888,
              "#fdca26"
             ],
             [
              1,
              "#f0f921"
             ]
            ],
            "type": "histogram2dcontour"
           }
          ],
          "mesh3d": [
           {
            "colorbar": {
             "outlinewidth": 0,
             "ticks": ""
            },
            "type": "mesh3d"
           }
          ],
          "parcoords": [
           {
            "line": {
             "colorbar": {
              "outlinewidth": 0,
              "ticks": ""
             }
            },
            "type": "parcoords"
           }
          ],
          "pie": [
           {
            "automargin": true,
            "type": "pie"
           }
          ],
          "scatter": [
           {
            "fillpattern": {
             "fillmode": "overlay",
             "size": 10,
             "solidity": 0.2
            },
            "type": "scatter"
           }
          ],
          "scatter3d": [
           {
            "line": {
             "colorbar": {
              "outlinewidth": 0,
              "ticks": ""
             }
            },
            "marker": {
             "colorbar": {
              "outlinewidth": 0,
              "ticks": ""
             }
            },
            "type": "scatter3d"
           }
          ],
          "scattercarpet": [
           {
            "marker": {
             "colorbar": {
              "outlinewidth": 0,
              "ticks": ""
             }
            },
            "type": "scattercarpet"
           }
          ],
          "scattergeo": [
           {
            "marker": {
             "colorbar": {
              "outlinewidth": 0,
              "ticks": ""
             }
            },
            "type": "scattergeo"
           }
          ],
          "scattergl": [
           {
            "marker": {
             "colorbar": {
              "outlinewidth": 0,
              "ticks": ""
             }
            },
            "type": "scattergl"
           }
          ],
          "scattermapbox": [
           {
            "marker": {
             "colorbar": {
              "outlinewidth": 0,
              "ticks": ""
             }
            },
            "type": "scattermapbox"
           }
          ],
          "scatterpolar": [
           {
            "marker": {
             "colorbar": {
              "outlinewidth": 0,
              "ticks": ""
             }
            },
            "type": "scatterpolar"
           }
          ],
          "scatterpolargl": [
           {
            "marker": {
             "colorbar": {
              "outlinewidth": 0,
              "ticks": ""
             }
            },
            "type": "scatterpolargl"
           }
          ],
          "scatterternary": [
           {
            "marker": {
             "colorbar": {
              "outlinewidth": 0,
              "ticks": ""
             }
            },
            "type": "scatterternary"
           }
          ],
          "surface": [
           {
            "colorbar": {
             "outlinewidth": 0,
             "ticks": ""
            },
            "colorscale": [
             [
              0,
              "#0d0887"
             ],
             [
              0.1111111111111111,
              "#46039f"
             ],
             [
              0.2222222222222222,
              "#7201a8"
             ],
             [
              0.3333333333333333,
              "#9c179e"
             ],
             [
              0.4444444444444444,
              "#bd3786"
             ],
             [
              0.5555555555555556,
              "#d8576b"
             ],
             [
              0.6666666666666666,
              "#ed7953"
             ],
             [
              0.7777777777777778,
              "#fb9f3a"
             ],
             [
              0.8888888888888888,
              "#fdca26"
             ],
             [
              1,
              "#f0f921"
             ]
            ],
            "type": "surface"
           }
          ],
          "table": [
           {
            "cells": {
             "fill": {
              "color": "#EBF0F8"
             },
             "line": {
              "color": "white"
             }
            },
            "header": {
             "fill": {
              "color": "#C8D4E3"
             },
             "line": {
              "color": "white"
             }
            },
            "type": "table"
           }
          ]
         },
         "layout": {
          "annotationdefaults": {
           "arrowcolor": "#2a3f5f",
           "arrowhead": 0,
           "arrowwidth": 1
          },
          "autotypenumbers": "strict",
          "coloraxis": {
           "colorbar": {
            "outlinewidth": 0,
            "ticks": ""
           }
          },
          "colorscale": {
           "diverging": [
            [
             0,
             "#8e0152"
            ],
            [
             0.1,
             "#c51b7d"
            ],
            [
             0.2,
             "#de77ae"
            ],
            [
             0.3,
             "#f1b6da"
            ],
            [
             0.4,
             "#fde0ef"
            ],
            [
             0.5,
             "#f7f7f7"
            ],
            [
             0.6,
             "#e6f5d0"
            ],
            [
             0.7,
             "#b8e186"
            ],
            [
             0.8,
             "#7fbc41"
            ],
            [
             0.9,
             "#4d9221"
            ],
            [
             1,
             "#276419"
            ]
           ],
           "sequential": [
            [
             0,
             "#0d0887"
            ],
            [
             0.1111111111111111,
             "#46039f"
            ],
            [
             0.2222222222222222,
             "#7201a8"
            ],
            [
             0.3333333333333333,
             "#9c179e"
            ],
            [
             0.4444444444444444,
             "#bd3786"
            ],
            [
             0.5555555555555556,
             "#d8576b"
            ],
            [
             0.6666666666666666,
             "#ed7953"
            ],
            [
             0.7777777777777778,
             "#fb9f3a"
            ],
            [
             0.8888888888888888,
             "#fdca26"
            ],
            [
             1,
             "#f0f921"
            ]
           ],
           "sequentialminus": [
            [
             0,
             "#0d0887"
            ],
            [
             0.1111111111111111,
             "#46039f"
            ],
            [
             0.2222222222222222,
             "#7201a8"
            ],
            [
             0.3333333333333333,
             "#9c179e"
            ],
            [
             0.4444444444444444,
             "#bd3786"
            ],
            [
             0.5555555555555556,
             "#d8576b"
            ],
            [
             0.6666666666666666,
             "#ed7953"
            ],
            [
             0.7777777777777778,
             "#fb9f3a"
            ],
            [
             0.8888888888888888,
             "#fdca26"
            ],
            [
             1,
             "#f0f921"
            ]
           ]
          },
          "colorway": [
           "#636efa",
           "#EF553B",
           "#00cc96",
           "#ab63fa",
           "#FFA15A",
           "#19d3f3",
           "#FF6692",
           "#B6E880",
           "#FF97FF",
           "#FECB52"
          ],
          "font": {
           "color": "#2a3f5f"
          },
          "geo": {
           "bgcolor": "white",
           "lakecolor": "white",
           "landcolor": "#E5ECF6",
           "showlakes": true,
           "showland": true,
           "subunitcolor": "white"
          },
          "hoverlabel": {
           "align": "left"
          },
          "hovermode": "closest",
          "mapbox": {
           "style": "light"
          },
          "paper_bgcolor": "white",
          "plot_bgcolor": "#E5ECF6",
          "polar": {
           "angularaxis": {
            "gridcolor": "white",
            "linecolor": "white",
            "ticks": ""
           },
           "bgcolor": "#E5ECF6",
           "radialaxis": {
            "gridcolor": "white",
            "linecolor": "white",
            "ticks": ""
           }
          },
          "scene": {
           "xaxis": {
            "backgroundcolor": "#E5ECF6",
            "gridcolor": "white",
            "gridwidth": 2,
            "linecolor": "white",
            "showbackground": true,
            "ticks": "",
            "zerolinecolor": "white"
           },
           "yaxis": {
            "backgroundcolor": "#E5ECF6",
            "gridcolor": "white",
            "gridwidth": 2,
            "linecolor": "white",
            "showbackground": true,
            "ticks": "",
            "zerolinecolor": "white"
           },
           "zaxis": {
            "backgroundcolor": "#E5ECF6",
            "gridcolor": "white",
            "gridwidth": 2,
            "linecolor": "white",
            "showbackground": true,
            "ticks": "",
            "zerolinecolor": "white"
           }
          },
          "shapedefaults": {
           "line": {
            "color": "#2a3f5f"
           }
          },
          "ternary": {
           "aaxis": {
            "gridcolor": "white",
            "linecolor": "white",
            "ticks": ""
           },
           "baxis": {
            "gridcolor": "white",
            "linecolor": "white",
            "ticks": ""
           },
           "bgcolor": "#E5ECF6",
           "caxis": {
            "gridcolor": "white",
            "linecolor": "white",
            "ticks": ""
           }
          },
          "title": {
           "x": 0.05
          },
          "xaxis": {
           "automargin": true,
           "gridcolor": "white",
           "linecolor": "white",
           "ticks": "",
           "title": {
            "standoff": 15
           },
           "zerolinecolor": "white",
           "zerolinewidth": 2
          },
          "yaxis": {
           "automargin": true,
           "gridcolor": "white",
           "linecolor": "white",
           "ticks": "",
           "title": {
            "standoff": 15
           },
           "zerolinecolor": "white",
           "zerolinewidth": 2
          }
         }
        },
        "xaxis": {
         "anchor": "y",
         "domain": [
          0,
          1
         ]
        },
        "yaxis": {
         "anchor": "x",
         "domain": [
          0,
          1
         ]
        }
       }
      }
     },
     "metadata": {},
     "output_type": "display_data"
    },
    {
     "name": "stdout",
     "output_type": "stream",
     "text": [
      "1000,0,150,0.0,0\n",
      "550,0,149,0.0,0\n",
      "550,0,148,0.0,0\n",
      "550,0,147,0.0,0\n",
      "550,0,146,0.0,0\n",
      "550,0,145,0.0,0\n",
      "550,0,144,0.0,0\n",
      "600,-2,141,2.0,11\n",
      "661,-4,138,2.0,22\n",
      "722,-6,135,2.0,33\n",
      "783,-8,132,2.0,44\n",
      "844,-10,129,2.0,55\n",
      "61,-12,126,2.0,66\n",
      "61,-14,123,2.0,77\n",
      "122,-16,120,2.0,88\n",
      "61,-18,117,2.0,99\n",
      "122,-20,114,2.0,110\n",
      "183,-22,111,2.0,121\n",
      "61,-24,108,2.0,132\n",
      "61,-26,105,2.0,143\n",
      "122,-28,102,2.0,154\n",
      "183,-30,99,2.0,165\n",
      "244,-30,98,2.0,154\n",
      "305,-30,97,2.0,143\n",
      "366,-30,96,2.0,132\n",
      "427,-30,95,2.0,121\n",
      "488,-30,94,2.0,110\n",
      "549,-30,93,2.0,99\n",
      "61,-30,92,2.0,88\n",
      "122,-30,91,2.0,77\n",
      "183,-30,90,2.0,66\n",
      "244,-30,89,2.0,55\n",
      "305,-30,88,2.0,44\n",
      "366,-30,87,2.0,33\n",
      "427,-30,86,2.0,22\n",
      "488,-30,85,2.0,11\n",
      "549,-30,84,0.0,0\n",
      "599,-30,83,0.0,0\n",
      "649,-30,82,0.0,0\n",
      "50,-30,81,0.0,0\n",
      "100,-30,80,0.0,0\n",
      "150,-30,79,0.0,0\n",
      "74,-30,78,0.0,0\n",
      "124,-30,77,0.0,0\n",
      "174,-30,76,0.0,0\n",
      "99,-30,75,0.0,0\n",
      "149,-30,74,0.0,0\n",
      "199,-30,73,0.0,0\n",
      "249,-30,72,0.0,0\n",
      "299,-30,71,0.0,0\n",
      "50,-30,70,0.0,0\n",
      "50,-30,69,0.0,0\n",
      "100,-30,68,0.0,0\n",
      "150,-30,67,0.0,0\n",
      "200,-30,66,0.0,0\n",
      "250,-30,65,0.0,0\n",
      "300,-30,64,0.0,0\n",
      "50,-30,63,0.0,0\n",
      "100,-30,62,0.0,0\n",
      "150,-30,61,0.0,0\n",
      "200,-30,60,0.0,0\n",
      "250,-30,59,0.0,0\n",
      "300,-30,58,0.0,0\n",
      "350,-30,57,0.0,0\n",
      "50,-30,56,0.0,0\n",
      "100,-30,55,0.0,0\n",
      "150,-30,54,0.0,0\n",
      "200,-30,53,0.0,0\n",
      "250,-30,52,0.0,0\n",
      "300,-30,51,0.0,0\n",
      "350,-30,50,0.0,0\n",
      "400,-30,49,0.0,0\n",
      "450,-30,48,0.0,0\n",
      "500,-30,47,0.0,0\n",
      "50,-30,46,0.0,0\n",
      "100,-5,70,0.0,0\n",
      "150,20,94,0.0,0\n",
      "200,45,118,0.0,0\n",
      "250,68,140,2.0,11\n",
      "311,91,162,2.0,22\n",
      "372,114,184,2.0,33\n",
      "433,137,206,2.0,44\n",
      "494,160,228,2.0,55\n",
      "555,183,250,2.0,66\n",
      "616,196,262,2.0,77\n",
      "61,194,259,2.0,88\n",
      "122,192,256,2.0,99\n",
      "183,190,253,2.0,110\n",
      "244,188,250,2.0,121\n",
      "181,186,247,2.0,132\n",
      "242,184,244,2.0,143\n",
      "303,182,241,2.0,154\n",
      "235,180,238,2.0,165\n",
      "296,178,235,2.0,176\n",
      "357,176,232,2.0,187\n",
      "418,174,229,2.0,198\n",
      "479,172,226,2.0,209\n",
      "540,170,223,2.0,220\n",
      "601,167,219,3.0,246\n",
      "677,167,218,2.0,220\n",
      "610,164,214,3.0,246\n",
      "686,164,213,2.0,220\n",
      "747,161,209,3.0,246\n",
      "76,161,208,2.0,220\n",
      "137,158,204,3.0,246\n",
      "213,158,203,2.0,220\n",
      "152,155,199,3.0,246\n",
      "228,155,198,2.0,220\n",
      "289,152,194,3.0,246\n",
      "365,152,193,2.0,220\n",
      "426,149,189,3.0,246\n",
      "502,149,188,2.0,220\n",
      "563,146,184,3.0,246\n",
      "639,146,183,2.0,220\n",
      "700,143,179,3.0,246\n",
      "776,143,178,2.0,220\n",
      "837,140,174,3.0,246\n",
      "913,140,173,2.0,220\n",
      "974,137,169,3.0,246\n",
      "76,137,168,2.0,220\n",
      "137,134,164,3.0,246\n",
      "213,134,163,2.0,220\n",
      "274,131,159,3.0,246\n",
      "350,131,158,2.0,220\n",
      "291,128,154,3.0,246\n",
      "367,128,153,2.0,220\n",
      "428,125,149,3.0,246\n",
      "504,125,148,2.0,220\n",
      "565,122,144,3.0,246\n",
      "641,122,143,2.0,220\n",
      "702,119,139,3.0,246\n",
      "778,119,138,2.0,220\n",
      "839,116,134,3.0,246\n",
      "915,116,133,2.0,220\n",
      "976,113,129,3.0,246\n",
      "1052,113,128,2.0,220\n",
      "1113,113,127,2.0,209\n",
      "1174,113,126,2.0,198\n",
      "1235,113,125,2.0,187\n",
      "1296,113,124,2.0,176\n",
      "1357,113,123,2.0,165\n",
      "1418,113,122,2.0,154\n",
      "1350,113,121,2.0,143\n",
      "1411,113,120,2.0,132\n",
      "1472,113,119,2.0,121\n",
      "1404,113,118,2.0,110\n",
      "1465,113,117,2.0,99\n",
      "1397,113,116,2.0,88\n",
      "1458,113,115,2.0,77\n",
      "1519,113,114,2.0,66\n",
      "1580,113,113,2.0,55\n",
      "1641,113,112,2.0,44\n",
      "1702,113,111,2.0,33\n",
      "61,113,110,2.0,22\n",
      "122,111,107,2.0,33\n",
      "183,109,104,2.0,44\n",
      "125,107,101,2.0,55\n",
      "186,105,98,2.0,66\n",
      "247,105,97,2.0,55\n",
      "308,105,96,2.0,44\n",
      "250,105,95,2.0,33\n",
      "311,130,119,2.0,22\n",
      "372,153,141,2.0,33\n",
      "433,176,163,2.0,44\n",
      "494,199,185,2.0,55\n",
      "555,222,207,2.0,66\n",
      "616,245,229,2.0,77\n",
      "677,268,251,2.0,88\n",
      "738,291,273,2.0,99\n",
      "799,314,295,2.0,110\n",
      "860,327,307,2.0,121\n",
      "921,325,304,2.0,132\n",
      "982,323,301,2.0,143\n",
      "1043,321,298,2.0,154\n",
      "1104,321,297,2.0,143\n",
      "1165,321,296,2.0,132\n",
      "1226,321,295,2.0,121\n",
      "1287,321,294,2.0,110\n",
      "1348,321,293,2.0,99\n",
      "1409,321,292,2.0,88\n",
      "1470,321,291,2.0,77\n",
      "1531,321,290,2.0,66\n",
      "1592,321,289,2.0,55\n",
      "1653,321,288,2.0,44\n",
      "61,321,287,2.0,33\n",
      "122,319,284,2.0,44\n",
      "183,317,281,2.0,55\n",
      "244,315,278,2.0,66\n",
      "305,313,275,2.0,77\n",
      "366,311,272,2.0,88\n",
      "427,309,269,2.0,99\n",
      "488,307,266,2.0,110\n",
      "549,305,263,2.0,121\n",
      "610,303,260,2.0,132\n",
      "671,301,257,2.0,143\n",
      "732,299,254,2.0,154\n",
      "793,297,251,2.0,165\n",
      "723,295,248,2.0,176\n",
      "784,293,245,2.0,187\n",
      "845,291,242,2.0,198\n",
      "906,289,239,2.0,209\n",
      "967,287,236,2.0,220\n",
      "1028,284,232,3.0,246\n",
      "1104,284,231,2.0,220\n",
      "1034,284,230,2.0,209\n",
      "970,284,229,2.0,198\n",
      "1031,282,226,2.0,209\n",
      "1092,282,225,2.0,198\n",
      "1153,282,224,2.0,187\n",
      "1088,282,223,2.0,176\n",
      "1149,282,222,2.0,165\n",
      "61,282,221,2.0,154\n",
      "122,280,218,2.0,165\n",
      "183,278,215,2.0,176\n",
      "244,276,212,2.0,187\n",
      "305,274,209,2.0,198\n",
      "366,297,231,2.0,209\n",
      "427,320,253,2.0,220\n",
      "488,342,274,3.0,246\n",
      "564,367,298,2.0,220\n",
      "625,389,319,3.0,246\n",
      "701,414,343,2.0,220\n",
      "762,436,364,3.0,246\n",
      "838,461,388,2.0,220\n",
      "899,483,409,3.0,246\n",
      "975,498,423,2.0,220\n",
      "1036,495,419,3.0,246\n",
      "1112,495,418,2.0,220\n",
      "1173,495,417,2.0,209\n",
      "1115,495,416,2.0,198\n",
      "1176,495,415,2.0,187\n",
      "1237,495,414,2.0,176\n",
      "1298,495,413,2.0,165\n",
      "61,495,412,2.0,154\n",
      "122,493,409,2.0,165\n",
      "183,491,406,2.0,176\n",
      "244,489,403,2.0,187\n",
      "305,487,400,2.0,198\n",
      "366,485,397,2.0,209\n",
      "427,483,394,2.0,220\n",
      "488,480,390,3.0,246\n",
      "564,480,389,2.0,220\n",
      "625,477,385,3.0,246\n",
      "701,477,384,2.0,220\n",
      "762,474,380,3.0,246\n",
      "838,474,379,2.0,220\n",
      "899,471,375,3.0,246\n",
      "975,471,374,2.0,220\n",
      "906,468,370,3.0,246\n",
      "849,468,369,2.0,220\n",
      "910,465,365,3.0,246\n",
      "862,465,364,2.0,220\n",
      "795,462,360,3.0,246\n",
      "871,462,359,2.0,220\n",
      "61,459,355,3.0,246\n",
      "137,459,354,2.0,220\n",
      "198,456,350,3.0,246\n",
      "274,456,349,2.0,220\n",
      "335,453,345,3.0,246\n",
      "411,453,344,2.0,220\n",
      "472,450,340,3.0,246\n",
      "548,450,339,2.0,220\n",
      "609,447,335,3.0,246\n",
      "685,447,334,2.0,220\n",
      "746,444,330,3.0,246\n",
      "822,444,329,2.0,220\n",
      "883,441,325,3.0,246\n",
      "959,441,324,2.0,220\n",
      "1020,438,320,3.0,246\n",
      "1096,438,319,2.0,220\n",
      "1157,438,318,2.0,209\n",
      "61,438,317,2.0,198\n",
      "122,436,314,2.0,209\n",
      "183,434,311,2.0,220\n",
      "244,456,332,3.0,246\n",
      "320,481,356,2.0,220\n",
      "381,503,377,3.0,246\n",
      "457,528,401,2.0,220\n",
      "518,550,422,3.0,246\n",
      "594,575,446,2.0,220\n",
      "655,597,467,3.0,246\n",
      "731,622,491,2.0,220\n",
      "792,644,512,3.0,246\n",
      "749,659,526,2.0,220\n",
      "810,656,522,3.0,246\n",
      "886,656,521,2.0,220\n",
      "947,653,517,3.0,246\n",
      "1023,653,516,2.0,220\n",
      "1084,653,515,2.0,209\n",
      "1145,653,514,2.0,198\n",
      "1206,653,513,2.0,187\n",
      "1267,653,512,2.0,176\n",
      "61,653,511,2.0,165\n",
      "122,651,508,2.0,176\n",
      "183,649,505,2.0,187\n",
      "244,647,502,2.0,198\n",
      "305,645,499,2.0,209\n",
      "366,643,496,2.0,220\n",
      "427,640,492,3.0,246\n",
      "376,640,491,2.0,220\n",
      "437,637,487,3.0,246\n",
      "513,637,486,2.0,220\n",
      "574,634,482,3.0,246\n",
      "650,634,481,2.0,220\n",
      "711,631,477,3.0,246\n",
      "787,631,476,2.0,220\n",
      "848,628,472,3.0,246\n",
      "924,628,471,2.0,220\n",
      "985,625,467,3.0,246\n",
      "1061,625,466,2.0,220\n",
      "1122,625,465,2.0,209\n",
      "1054,625,464,2.0,198\n",
      "1115,625,463,2.0,187\n",
      "1176,625,462,2.0,176\n",
      "1237,625,461,2.0,165\n",
      "61,625,460,2.0,154\n",
      "122,623,457,2.0,165\n",
      "183,621,454,2.0,176\n",
      "244,619,451,2.0,187\n",
      "305,617,448,2.0,198\n",
      "366,615,445,2.0,209\n",
      "427,613,442,2.0,220\n",
      "488,610,438,3.0,246\n",
      "564,610,437,2.0,220\n",
      "625,607,433,3.0,246\n",
      "701,607,432,2.0,220\n",
      "762,604,428,3.0,246\n",
      "838,604,427,2.0,220\n",
      "899,601,423,3.0,246\n",
      "975,601,422,2.0,220\n",
      "1036,623,443,3.0,246\n",
      "1112,648,467,2.0,220\n",
      "1173,673,491,2.0,209\n",
      "1117,698,515,2.0,198\n",
      "1178,723,539,2.0,187\n",
      "1239,748,563,2.0,176\n",
      "1300,773,587,2.0,165\n",
      "1361,798,611,2.0,154\n",
      "61,823,635,2.0,143\n",
      "122,836,647,2.0,154\n",
      "183,834,644,2.0,165\n",
      "244,832,641,2.0,176\n",
      "174,830,638,2.0,187\n",
      "235,828,635,2.0,198\n",
      "296,826,632,2.0,209\n",
      "357,824,629,2.0,220\n",
      "418,821,625,3.0,246\n",
      "369,821,624,2.0,220\n",
      "430,818,620,3.0,246\n",
      "506,818,619,2.0,220\n",
      "567,815,615,3.0,246\n",
      "643,815,614,2.0,220\n",
      "704,812,610,3.0,246\n",
      "780,812,609,2.0,220\n",
      "841,809,605,3.0,246\n",
      "917,809,604,2.0,220\n",
      "978,806,600,3.0,246\n",
      "1054,806,599,2.0,220\n",
      "1115,806,598,2.0,209\n",
      "1176,806,597,2.0,198\n",
      "61,806,596,2.0,187\n",
      "122,804,593,2.0,198\n",
      "183,802,590,2.0,209\n",
      "244,800,587,2.0,220\n",
      "305,797,583,3.0,246\n",
      "381,797,582,2.0,220\n",
      "442,794,578,3.0,246\n",
      "518,794,577,2.0,220\n",
      "579,791,573,3.0,246\n",
      "655,791,572,2.0,220\n",
      "716,788,568,3.0,246\n",
      "792,788,567,2.0,220\n",
      "853,785,563,3.0,246\n",
      "929,785,562,2.0,220\n",
      "990,782,558,3.0,246\n",
      "1066,782,557,2.0,220\n",
      "1127,782,556,2.0,209\n",
      "1188,782,555,2.0,198\n",
      "1249,782,554,2.0,187\n",
      "1310,782,553,2.0,176\n",
      "1371,782,552,2.0,165\n",
      "1432,782,551,2.0,154\n",
      "61,782,550,2.0,143\n",
      "61,780,547,2.0,154\n",
      "122,778,544,2.0,165\n",
      "183,776,541,2.0,176\n",
      "244,774,538,2.0,187\n",
      "305,772,535,2.0,198\n",
      "366,795,557,2.0,209\n",
      "427,818,579,2.0,220\n",
      "488,840,600,3.0,246\n",
      "564,865,624,2.0,220\n",
      "625,887,645,3.0,246\n",
      "572,912,669,2.0,220\n",
      "633,934,690,3.0,246\n",
      "709,959,714,2.0,220\n",
      "770,981,735,3.0,246\n",
      "846,996,749,2.0,220\n",
      "782,993,745,3.0,246\n",
      "858,993,744,2.0,220\n",
      "919,990,740,3.0,246\n",
      "995,990,739,2.0,220\n",
      "928,987,735,3.0,246\n",
      "1004,987,734,2.0,220\n",
      "1065,987,733,2.0,209\n",
      "1126,987,732,2.0,198\n",
      "61,987,731,2.0,187\n",
      "122,985,728,2.0,198\n",
      "183,983,725,2.0,209\n",
      "244,981,722,2.0,220\n",
      "305,978,718,3.0,246\n",
      "381,978,717,2.0,220\n",
      "325,975,713,3.0,246\n",
      "401,975,712,2.0,220\n",
      "462,972,708,3.0,246\n",
      "538,972,707,2.0,220\n",
      "599,969,703,3.0,246\n",
      "675,969,702,2.0,220\n",
      "736,966,698,3.0,246\n",
      "812,966,697,2.0,220\n",
      "873,963,693,3.0,246\n",
      "949,963,692,2.0,220\n",
      "1010,960,688,3.0,246\n",
      "1086,960,687,2.0,220\n",
      "1147,960,686,2.0,209\n",
      "1208,960,685,2.0,198\n",
      "1269,960,684,2.0,187\n",
      "61,960,683,2.0,176\n",
      "122,958,680,2.0,187\n",
      "183,956,677,2.0,198\n",
      "244,954,674,2.0,209\n",
      "305,952,671,2.0,220\n",
      "366,949,667,3.0,246\n",
      "442,949,666,2.0,220\n",
      "503,946,662,3.0,246\n",
      "579,946,661,2.0,220\n",
      "640,943,657,3.0,246\n",
      "716,943,656,2.0,220\n",
      "777,940,652,3.0,246\n",
      "853,940,651,2.0,220\n",
      "914,937,647,3.0,246\n",
      "990,937,646,2.0,220\n",
      "1051,934,642,3.0,246\n",
      "1127,959,666,2.0,220\n",
      "1188,984,690,2.0,209\n",
      "1118,1009,714,2.0,198\n",
      "1179,1034,738,2.0,187\n",
      "1240,1059,762,2.0,176\n",
      "1301,1084,786,2.0,165\n",
      "61,1109,810,2.0,154\n",
      "122,1132,832,2.0,165\n",
      "61,1155,854,2.0,176\n",
      "122,1168,866,2.0,187\n",
      "183,1166,863,2.0,198\n",
      "244,1164,860,2.0,209\n",
      "305,1162,857,2.0,220\n",
      "366,1159,853,3.0,246\n",
      "316,1159,852,2.0,220\n",
      "377,1156,848,3.0,246\n",
      "453,1156,847,2.0,220\n",
      "514,1153,843,3.0,246\n",
      "466,1153,842,2.0,220\n",
      "527,1150,838,3.0,246\n",
      "603,1150,837,2.0,220\n",
      "664,1147,833,3.0,246\n",
      "740,1147,832,2.0,220\n",
      "801,1144,828,3.0,246\n",
      "877,1144,827,2.0,220\n",
      "938,1141,823,3.0,246\n",
      "1014,1141,822,2.0,220\n",
      "1075,1141,821,2.0,209\n",
      "1136,1141,820,2.0,198\n",
      "61,1141,819,2.0,187\n",
      "122,1139,816,2.0,198\n",
      "183,1137,813,2.0,209\n",
      "244,1135,810,2.0,220\n",
      "305,1132,806,3.0,246\n",
      "381,1132,805,2.0,220\n",
      "442,1129,801,3.0,246\n",
      "518,1129,800,2.0,220\n",
      "579,1126,796,3.0,246\n",
      "655,1126,795,2.0,220\n",
      "716,1123,791,3.0,246\n",
      "792,1123,790,2.0,220\n",
      "853,1120,786,3.0,246\n",
      "929,1120,785,2.0,220\n",
      "990,1117,781,3.0,246\n",
      "1066,1117,780,2.0,220\n",
      "1127,1117,779,2.0,209\n",
      "1188,1117,778,2.0,198\n",
      "1249,1117,777,2.0,187\n",
      "1310,1117,776,2.0,176\n",
      "61,1117,775,2.0,165\n",
      "122,1115,772,2.0,176\n",
      "183,1113,769,2.0,187\n",
      "244,1111,766,2.0,198\n",
      "305,1109,763,2.0,209\n",
      "366,1107,760,2.0,220\n",
      "292,1104,756,3.0,246\n",
      "368,1104,755,2.0,220\n",
      "429,1101,751,3.0,246\n",
      "505,1126,775,2.0,220\n",
      "566,1148,796,3.0,246\n",
      "642,1173,820,2.0,220\n",
      "703,1195,841,3.0,246\n",
      "779,1220,865,2.0,220\n",
      "840,1242,886,3.0,246\n",
      "916,1267,910,2.0,220\n",
      "977,1289,931,3.0,246\n",
      "922,1314,955,2.0,220\n",
      "861,1326,966,3.0,246\n",
      "937,1326,965,2.0,220\n",
      "998,1323,961,3.0,246\n",
      "1074,1323,960,2.0,220\n",
      "1011,1323,959,2.0,209\n",
      "1072,1323,958,2.0,198\n",
      "1133,1323,957,2.0,187\n",
      "61,1323,956,2.0,176\n",
      "122,1321,953,2.0,187\n",
      "183,1319,950,2.0,198\n",
      "244,1317,947,2.0,209\n",
      "305,1315,944,2.0,220\n",
      "366,1312,940,3.0,246\n",
      "442,1312,939,2.0,220\n",
      "503,1309,935,3.0,246\n",
      "579,1309,934,2.0,220\n",
      "640,1306,930,3.0,246\n",
      "716,1306,929,2.0,220\n",
      "777,1303,925,3.0,246\n",
      "853,1303,924,2.0,220\n",
      "914,1300,920,3.0,246\n",
      "990,1300,919,2.0,220\n",
      "1051,1297,915,3.0,246\n",
      "1127,1297,914,2.0,220\n",
      "1188,1297,913,2.0,209\n",
      "1249,1297,912,2.0,198\n",
      "1310,1297,911,2.0,187\n",
      "61,1297,910,2.0,176\n",
      "122,1295,907,2.0,187\n",
      "183,1293,904,2.0,198\n",
      "244,1291,901,2.0,209\n",
      "305,1289,898,2.0,220\n",
      "366,1286,894,3.0,246\n",
      "442,1286,893,2.0,220\n",
      "503,1283,889,3.0,246\n",
      "579,1283,888,2.0,220\n",
      "640,1280,884,3.0,246\n",
      "716,1280,883,2.0,220\n",
      "777,1277,879,3.0,246\n",
      "853,1277,878,2.0,220\n",
      "914,1274,874,3.0,246\n",
      "990,1274,873,2.0,220\n",
      "1051,1271,869,3.0,246\n",
      "1127,1271,868,2.0,220\n",
      "1188,1271,867,2.0,209\n",
      "1249,1271,866,2.0,198\n",
      "1310,1271,865,2.0,187\n",
      "1371,1296,889,2.0,176\n",
      "1432,1321,913,2.0,165\n",
      "1375,1346,937,2.0,154\n",
      "61,1371,961,2.0,143\n",
      "122,1394,983,2.0,154\n",
      "183,1417,1005,2.0,165\n",
      "244,1440,1027,2.0,176\n",
      "305,1463,1049,2.0,187\n",
      "366,1486,1071,2.0,198\n",
      "308,1499,1083,2.0,209\n",
      "369,1497,1080,2.0,220\n",
      "430,1494,1076,3.0,246\n",
      "506,1494,1075,2.0,220\n",
      "567,1491,1071,3.0,246\n",
      "643,1491,1070,2.0,220\n",
      "704,1488,1066,3.0,246\n",
      "780,1488,1065,2.0,220\n",
      "718,1485,1061,3.0,246\n",
      "794,1485,1060,2.0,220\n",
      "855,1482,1056,3.0,246\n",
      "931,1482,1055,2.0,220\n",
      "992,1479,1051,3.0,246\n",
      "1068,1479,1050,2.0,220\n",
      "1129,1479,1049,2.0,209\n",
      "1190,1479,1048,2.0,198\n",
      "1251,1479,1047,2.0,187\n",
      "1312,1479,1046,2.0,176\n",
      "1373,1479,1045,2.0,165\n",
      "1434,1479,1044,2.0,154\n",
      "1495,1479,1043,2.0,143\n",
      "1556,1479,1042,2.0,132\n",
      "1490,1479,1041,2.0,121\n",
      "1551,1479,1040,2.0,110\n",
      "1612,1479,1039,2.0,99\n",
      "1673,1479,1038,2.0,88\n",
      "1734,1479,1037,2.0,77\n",
      "1795,1479,1036,2.0,66\n",
      "1856,1479,1035,2.0,55\n",
      "1917,1479,1034,2.0,44\n",
      "1978,1479,1033,2.0,33\n",
      "2039,1479,1032,2.0,22\n",
      "2100,1479,1031,2.0,11\n",
      "2161,1479,1030,0.0,0\n",
      "2211,1479,1029,0.0,0\n",
      "2261,1479,1028,0.0,0\n",
      "2311,1479,1027,0.0,0\n",
      "50,1479,1026,0.0,0\n",
      "50,1477,1023,2.0,11\n",
      "111,1475,1020,2.0,22\n",
      "172,1473,1017,2.0,33\n",
      "233,1471,1014,2.0,44\n",
      "171,1469,1011,2.0,55\n",
      "232,1467,1008,2.0,66\n",
      "293,1465,1005,2.0,77\n",
      "354,1463,1002,2.0,88\n",
      "415,1461,999,2.0,99\n",
      "476,1459,996,2.0,110\n",
      "537,1457,993,2.0,121\n",
      "598,1455,990,2.0,132\n",
      "659,1453,987,2.0,143\n",
      "720,1451,984,2.0,154\n",
      "781,1449,981,2.0,165\n",
      "842,1447,978,2.0,176\n",
      "903,1445,975,2.0,187\n",
      "964,1443,972,2.0,198\n",
      "1025,1441,969,2.0,209\n",
      "1086,1441,968,2.0,198\n",
      "1147,1441,967,2.0,187\n",
      "1208,1441,966,2.0,176\n",
      "1269,1441,965,2.0,165\n",
      "1330,1441,964,2.0,154\n",
      "1391,1441,963,2.0,143\n",
      "1452,1441,962,2.0,132\n",
      "1513,1466,986,2.0,121\n",
      "1574,1491,1010,2.0,110\n",
      "1635,1516,1034,2.0,99\n",
      "1696,1541,1058,2.0,88\n",
      "1757,1566,1082,2.0,77\n",
      "1818,1591,1106,2.0,66\n",
      "1879,1616,1130,2.0,55\n",
      "1811,1641,1154,2.0,44\n",
      "1872,1666,1178,2.0,33\n",
      "1933,1681,1192,2.0,22\n",
      "1994,1681,1191,2.0,11\n",
      "1789,1681,1190,0.0,0\n",
      "1839,1681,1189,0.0,0\n",
      "50,1681,1188,0.0,0\n",
      "100,1679,1185,2.0,11\n",
      "161,1677,1182,2.0,22\n",
      "222,1675,1179,2.0,33\n",
      "283,1673,1176,2.0,44\n",
      "344,1671,1173,2.0,55\n",
      "405,1669,1170,2.0,66\n",
      "466,1667,1167,2.0,77\n",
      "527,1665,1164,2.0,88\n",
      "588,1663,1161,2.0,99\n",
      "649,1661,1158,2.0,110\n",
      "710,1659,1155,2.0,121\n",
      "771,1657,1152,2.0,132\n",
      "832,1655,1149,2.0,143\n",
      "893,1653,1146,2.0,154\n",
      "954,1651,1143,2.0,165\n",
      "1015,1649,1140,2.0,176\n",
      "1076,1649,1139,2.0,165\n",
      "1137,1649,1138,2.0,154\n",
      "1198,1649,1137,2.0,143\n",
      "1259,1649,1136,2.0,132\n",
      "1320,1649,1135,2.0,121\n",
      "1381,1649,1134,2.0,110\n",
      "1442,1649,1133,2.0,99\n",
      "1503,1649,1132,2.0,88\n",
      "1564,1649,1131,2.0,77\n",
      "1625,1649,1130,2.0,66\n",
      "1686,1649,1129,2.0,55\n",
      "1747,1649,1128,2.0,44\n",
      "1808,1649,1127,2.0,33\n",
      "1869,1649,1126,2.0,22\n",
      "61,1649,1125,2.0,11\n",
      "122,1647,1122,2.0,22\n",
      "183,1645,1119,2.0,33\n",
      "244,1643,1116,2.0,44\n",
      "305,1641,1113,2.0,55\n",
      "366,1639,1110,2.0,66\n",
      "427,1637,1107,2.0,77\n",
      "488,1635,1104,2.0,88\n",
      "429,1633,1101,2.0,99\n",
      "490,1631,1098,2.0,110\n",
      "551,1629,1095,2.0,121\n",
      "612,1652,1117,2.0,132\n",
      "673,1675,1139,2.0,143\n",
      "734,1698,1161,2.0,154\n",
      "795,1721,1183,2.0,165\n",
      "856,1744,1205,2.0,176\n",
      "917,1767,1227,2.0,187\n",
      "978,1790,1249,2.0,198\n",
      "1039,1813,1271,2.0,209\n",
      "1100,1838,1295,2.0,198\n",
      "1161,1853,1309,2.0,187\n",
      "1222,1853,1308,2.0,176\n",
      "1283,1853,1307,2.0,165\n",
      "1344,1853,1306,2.0,154\n",
      "1265,1853,1305,2.0,143\n",
      "1326,1853,1304,2.0,132\n",
      "1387,1853,1303,2.0,121\n",
      "1448,1853,1302,2.0,110\n",
      "1509,1853,1301,2.0,99\n",
      "1570,1853,1300,2.0,88\n",
      "1631,1853,1299,2.0,77\n",
      "61,1853,1298,2.0,66\n",
      "61,1851,1295,2.0,77\n",
      "122,1849,1292,2.0,88\n",
      "183,1847,1289,2.0,99\n",
      "244,1845,1286,2.0,110\n",
      "167,1843,1283,2.0,121\n",
      "228,1841,1280,2.0,132\n",
      "289,1839,1277,2.0,143\n",
      "350,1837,1274,2.0,154\n",
      "411,1835,1271,2.0,165\n",
      "472,1833,1268,2.0,176\n",
      "533,1831,1265,2.0,187\n",
      "594,1829,1262,2.0,198\n",
      "655,1827,1259,2.0,209\n",
      "716,1825,1256,2.0,220\n",
      "777,1822,1252,3.0,246\n",
      "853,1822,1251,2.0,220\n",
      "914,1819,1247,3.0,246\n",
      "990,1819,1246,2.0,220\n",
      "1051,1816,1242,3.0,246\n",
      "1127,1816,1241,2.0,220\n",
      "1188,1816,1240,2.0,209\n",
      "1249,1816,1239,2.0,198\n",
      "1310,1816,1238,2.0,187\n",
      "1371,1816,1237,2.0,176\n",
      "1432,1816,1236,2.0,165\n",
      "1493,1816,1235,2.0,154\n",
      "1554,1816,1234,2.0,143\n",
      "1615,1816,1233,2.0,132\n",
      "1676,1816,1232,2.0,121\n",
      "1737,1816,1231,2.0,110\n",
      "1798,1816,1230,2.0,99\n",
      "1859,1816,1229,2.0,88\n",
      "1785,1816,1228,2.0,77\n",
      "1846,1816,1227,2.0,66\n",
      "1907,1816,1226,2.0,55\n",
      "1968,1814,1223,2.0,66\n",
      "2029,1812,1220,2.0,77\n",
      "2090,1810,1217,2.0,88\n",
      "2009,1808,1214,2.0,99\n",
      "2070,1806,1211,2.0,110\n",
      "2131,1804,1208,2.0,121\n",
      "2192,1802,1205,2.0,132\n",
      "2253,1800,1202,2.0,143\n",
      "2314,1798,1199,2.0,154\n",
      "2375,1796,1196,2.0,165\n",
      "2436,1794,1193,2.0,176\n",
      "2497,1792,1190,2.0,187\n",
      "2558,1790,1187,2.0,198\n",
      "61,1788,1184,2.0,209\n",
      "122,1786,1181,2.0,220\n",
      "183,1783,1177,3.0,246\n",
      "259,1780,1173,3.0,272\n",
      "335,1777,1169,3.0,298\n",
      "411,1799,1190,3.0,324\n",
      "487,1821,1211,3.0,350\n",
      "563,1843,1232,3.0,376\n",
      "639,1865,1253,3.0,402\n",
      "715,1887,1274,3.0,428\n",
      "791,1909,1295,3.0,454\n",
      "867,1931,1316,3.0,480\n",
      "943,1953,1337,3.0,506\n",
      "1019,1975,1358,3.0,532\n",
      "1095,1987,1369,3.0,558\n",
      "1171,1984,1365,3.0,584\n",
      "1247,1981,1361,3.0,610\n",
      "1323,1978,1357,3.0,636\n",
      "1399,1975,1353,3.0,662\n",
      "1475,1972,1349,3.0,688\n",
      "1551,1969,1345,3.0,714\n",
      "1627,1966,1341,3.0,740\n",
      "1703,1961,1335,5.0,786\n",
      "1799,1956,1329,5.0,832\n",
      "1895,1951,1323,5.0,878\n",
      "1991,1946,1317,5.0,924\n",
      "2087,1941,1311,5.0,970\n",
      "2183,1936,1305,5.0,1016\n",
      "2279,1931,1299,5.0,1062\n",
      "2375,1926,1293,5.0,1108\n",
      "2471,1921,1287,5.0,1154\n",
      "2567,1916,1281,5.0,1200\n",
      "2663,1911,1275,5.0,1246\n",
      "2759,1906,1269,5.0,1292\n",
      "2855,1901,1263,5.0,1338\n",
      "2951,1896,1257,5.0,1384\n",
      "3047,1891,1251,5.0,1430\n",
      "3143,1886,1245,5.0,1476\n",
      "3239,1881,1239,5.0,1522\n",
      "3335,1876,1233,5.0,1568\n",
      "3431,1871,1227,5.0,1614\n",
      "3527,1866,1221,5.0,1660\n",
      "3357,1859,1213,7.0,1730\n",
      "529,1852,1205,7.0,1800\n",
      "649,1845,1197,7.0,1870\n",
      "769,1838,1189,7.0,1940\n",
      "889,1831,1181,7.0,2010\n",
      "1009,1824,1173,7.0,2080\n",
      "1129,1817,1165,7.0,2150\n",
      "1249,1810,1157,7.0,2220\n",
      "1369,1803,1149,7.0,2290\n",
      "1489,1796,1141,7.0,2360\n",
      "1609,1789,1133,7.0,2430\n",
      "1729,1782,1125,7.0,2500\n",
      "1849,1775,1117,7.0,2570\n",
      "1969,1768,1109,7.0,2640\n",
      "2089,1761,1101,7.0,2710\n",
      "2209,1779,1118,7.0,2780\n",
      "2329,1797,1135,7.0,2850\n",
      "2449,1815,1152,7.0,2920\n",
      "2569,1833,1169,7.0,2990\n",
      "2689,1851,1186,7.0,3060\n",
      "2809,1866,1200,10.0,3154\n",
      "2953,1891,1224,7.0,3060\n",
      "3073,1906,1238,10.0,3154\n",
      "3217,1931,1262,7.0,3060\n",
      "3337,1936,1266,10.0,3154\n",
      "3481,1936,1265,7.0,3060\n",
      "3601,1926,1254,10.0,3154\n",
      "3745,1926,1253,7.0,3060\n",
      "3865,1916,1242,10.0,3154\n",
      "4009,1916,1241,7.0,3060\n",
      "4129,1906,1230,10.0,3154\n",
      "4273,1906,1229,7.0,3060\n",
      "4393,1896,1218,10.0,3154\n",
      "4537,1896,1217,7.0,3060\n",
      "4657,1886,1206,10.0,3154\n",
      "4801,1886,1205,7.0,3060\n",
      "4921,1876,1194,10.0,3154\n",
      "5065,1876,1193,7.0,3060\n",
      "5185,1866,1182,10.0,3154\n",
      "5329,1866,1181,7.0,3060\n",
      "5449,1856,1170,10.0,3154\n",
      "5593,1856,1169,7.0,3060\n",
      "5713,1846,1158,10.0,3154\n",
      "5857,1846,1157,7.0,3060\n",
      "5977,1836,1146,10.0,3154\n",
      "6121,1836,1145,7.0,3060\n",
      "6241,1826,1134,10.0,3154\n",
      "6385,1826,1133,7.0,3060\n",
      "6372,1817,1123,9.0,3150\n",
      "6512,1808,1113,9.0,3240\n",
      "3722,1799,1103,9.0,3330\n",
      "3862,1790,1093,9.0,3420\n",
      "4002,1781,1083,9.0,3510\n",
      "4142,1772,1073,9.0,3600\n",
      "4282,1763,1063,9.0,3690\n",
      "4422,1754,1053,9.0,3780\n",
      "4562,1745,1043,9.0,3870\n",
      "4702,1736,1033,9.0,3960\n",
      "4842,1727,1023,9.0,4050\n",
      "4982,1718,1013,9.0,4140\n",
      "5122,1709,1003,9.0,4230\n",
      "5262,1700,993,9.0,4320\n",
      "5402,1691,983,9.0,4410\n",
      "5542,1682,973,9.0,4500\n",
      "5682,1673,963,9.0,4590\n",
      "5822,1664,953,9.0,4680\n",
      "5962,1655,943,9.0,4770\n",
      "6102,1671,958,9.0,4860\n",
      "6242,1685,971,11.0,4952\n",
      "6395,1710,995,9.0,4849\n",
      "6535,1724,1008,11.0,4952\n",
      "6688,1749,1032,9.0,4849\n",
      "6828,1763,1045,11.0,4952\n",
      "6981,1788,1069,9.0,4849\n",
      "7121,1802,1082,11.0,4952\n",
      "7274,1816,1095,11.0,5044\n",
      "7427,1820,1098,11.0,5136\n",
      "7580,1809,1086,11.0,5228\n",
      "7733,1798,1074,11.0,5320\n",
      "7886,1787,1062,11.0,5412\n",
      "8039,1776,1050,11.0,5504\n",
      "8192,1765,1038,11.0,5596\n",
      "8345,1754,1026,11.0,5688\n",
      "8498,1743,1014,11.0,5780\n",
      "8651,1732,1002,11.0,5872\n",
      "8804,1721,990,11.0,5964\n",
      "8957,1710,978,11.0,6056\n",
      "9110,1699,966,11.0,6148\n",
      "9263,1688,954,11.0,6240\n",
      "9416,1677,942,11.0,6332\n",
      "9569,1666,930,11.0,6424\n",
      "9722,1655,918,11.0,6516\n",
      "9875,1644,906,11.0,6608\n",
      "10028,1633,894,11.0,6700\n",
      "10181,1621,881,12.0,6789\n",
      "10346,1621,880,11.0,6674\n",
      "10499,1609,867,12.0,6789\n",
      "10664,1609,866,11.0,6674\n",
      "10817,1597,853,12.0,6789\n",
      "8052,1597,852,11.0,6674\n",
      "8205,1585,839,12.0,6789\n",
      "8370,1585,838,11.0,6674\n",
      "8388,1573,825,12.0,6789\n",
      "8414,1573,824,11.0,6674\n",
      "8567,1561,811,12.0,6789\n",
      "8732,1561,810,11.0,6674\n",
      "8885,1549,797,12.0,6789\n",
      "9050,1549,796,11.0,6674\n",
      "9203,1537,783,12.0,6789\n",
      "9368,1537,782,11.0,6674\n",
      "9521,1525,769,12.0,6789\n",
      "9686,1525,768,11.0,6674\n",
      "9839,1513,755,12.0,6789\n",
      "10004,1513,754,11.0,6674\n",
      "10157,1501,741,12.0,6789\n",
      "10322,1501,740,11.0,6674\n",
      "10475,1489,727,12.0,6789\n",
      "10640,1489,726,11.0,6674\n",
      "10793,1477,713,12.0,6789\n",
      "10958,1502,737,11.0,6674\n",
      "11111,1515,749,12.0,6789\n",
      "11276,1528,761,12.0,6878\n",
      "11441,1541,773,12.0,6967\n",
      "11606,1554,785,12.0,7056\n",
      "11771,1567,797,12.0,7145\n",
      "11936,1580,809,12.0,7234\n",
      "12101,1593,821,12.0,7323\n",
      "12266,1606,833,12.0,7412\n",
      "12431,1609,835,12.0,7501\n",
      "12596,1597,822,12.0,7590\n",
      "12761,1585,809,12.0,7679\n",
      "12926,1573,796,12.0,7768\n",
      "13091,1561,783,12.0,7857\n",
      "13256,1549,770,12.0,7946\n",
      "13421,1537,757,12.0,8035\n",
      "13586,1525,744,12.0,8124\n",
      "13751,1513,731,12.0,8213\n",
      "13916,1501,718,12.0,8302\n",
      "14081,1489,705,12.0,8391\n",
      "14246,1477,692,12.0,8480\n",
      "14290,1464,678,13.0,8557\n",
      "14463,1451,664,13.0,8634\n",
      "14636,1438,650,13.0,8711\n",
      "14809,1425,636,13.0,8788\n",
      "14982,1412,622,13.0,8865\n",
      "15155,1399,608,13.0,8942\n",
      "15328,1386,594,13.0,9019\n",
      "15501,1373,580,13.0,9096\n",
      "12744,1360,566,13.0,9173\n",
      "12917,1347,552,13.0,9250\n",
      "13090,1334,538,13.0,9327\n",
      "13263,1321,524,13.0,9404\n",
      "13436,1308,510,13.0,9481\n",
      "13609,1295,496,13.0,9558\n",
      "13782,1282,482,13.0,9635\n",
      "13955,1269,468,13.0,9712\n",
      "14128,1256,454,13.0,9789\n",
      "14301,1243,440,13.0,9866\n",
      "14474,1230,426,13.0,9943\n",
      "14647,1217,412,13.0,10020\n",
      "14820,1204,398,13.0,10077\n",
      "14997,1191,384,13.0,10134\n",
      "15174,1178,370,13.0,10191\n",
      "15351,1165,356,13.0,10248\n",
      "15528,1152,342,13.0,10305\n",
      "15705,1139,328,13.0,10362\n",
      "15882,1126,314,13.0,10419\n",
      "16059,1113,300,13.0,10476\n",
      "16236,1100,286,13.0,10533\n",
      "16413,1087,272,13.0,10590\n",
      "16590,1074,258,13.0,10647\n",
      "16767,1086,269,13.0,10704\n",
      "16944,1098,280,13.0,10761\n",
      "17121,1110,291,13.0,10818\n",
      "17298,1122,302,13.0,10875\n",
      "17475,1134,313,13.0,10932\n",
      "17652,1146,324,13.0,10989\n",
      "17829,1158,335,13.0,11046\n",
      "18006,1170,346,13.0,11103\n",
      "18183,1182,357,13.0,11160\n",
      "18360,1184,358,13.0,11197\n",
      "18537,1171,344,13.0,11234\n",
      "18714,1158,330,13.0,11271\n",
      "18891,1145,316,13.0,11308\n",
      "19068,1132,302,13.0,11345\n",
      "19245,1119,288,13.0,11382\n",
      "19422,1106,274,13.0,11419\n",
      "19599,1093,260,13.0,11457\n",
      "19777,1080,246,13.0,11495\n",
      "19955,1067,232,13.0,11533\n",
      "20133,1054,218,13.0,11571\n",
      "20311,1041,204,13.0,11609\n",
      "20489,1028,190,13.0,11648\n"
     ]
    },
    {
     "name": "stderr",
     "output_type": "stream",
     "text": [
      "OpenCV: FFMPEG: tag 0x30395056/'VP90' is not supported with codec id 167 and format 'webm / WebM'\n"
     ]
    },
    {
     "data": {
      "text/html": [
       "<video src=\"DoKyRRupHMfWxavNdk.webm\" controls  >\n",
       "      Your browser does not support the <code>video</code> element.\n",
       "    </video>"
      ],
      "text/plain": [
       "<IPython.core.display.Video object>"
      ]
     },
     "execution_count": 160,
     "metadata": {},
     "output_type": "execute_result"
    }
   ],
   "source": [
    "# imports from support files with class and functions\n",
    "from Test_agents import submission_7_agent\n",
    "import lux_functions\n",
    "\n",
    "# recreate our agents and run\n",
    "player0 = env.agents[0]\n",
    "player1 = env.agents[1]\n",
    "agents = {\n",
    "    player0: Archimedes_Lever(env.agents[0], env.state.env_cfg), \n",
    "    player1: submission_7_agent.Archimedes_Lever_s(env.agents[1], env.state.env_cfg)#default_agent.Default_Agent(env.agents[1], env.state.env_cfg)\n",
    "}\n",
    "img = env.render(\"rgb_array\", width=48, height=48)\n",
    "px.imshow(img).show()\n",
    "lux_functions.interact(env=env, agents=agents, steps=1000, video=True)"
   ]
  },
  {
   "cell_type": "code",
   "execution_count": null,
   "metadata": {},
   "outputs": [],
   "source": [
    "### AGENT TESTING\n",
    "from Test_agents import submission_7_agent\n",
    "import default_agent\n",
    "import lux_functions\n",
    "\n",
    "tests = 30\n",
    "results = []\n",
    "for t in range(tests):\n",
    "    test_env = LuxAI_S2() # create the environment object\n",
    "    test_obs = test_env.reset(seed=np.random.seed()) # resets an environment with a seed\n",
    "\n",
    "    # recreate our agents and run\n",
    "    player0 = test_env.agents[0]\n",
    "    player1 = test_env.agents[1]\n",
    "    agents = {\n",
    "        player0: Archimedes_Lever(test_env.agents[0], test_env.state.env_cfg), \n",
    "        player1: submission_7_agent.Archimedes_Lever_s(test_env.agents[1], test_env.state.env_cfg)#default_agent.Default_Agent(test_env.agents[1], test_env.state.env_cfg)\n",
    "    }\n",
    "    # UNCOMMENT IF MAPS SHOULD BE VISUALIZED\n",
    "    '''\n",
    "    img = test_env.render(\"rgb_array\", width=48, height=48)\n",
    "    px.imshow(img).show()\n",
    "    '''\n",
    "    test_results = lux_functions.test_agents(env=test_env, agents=agents, steps=1000)\n",
    "    results.append(test_results)\n",
    "    del test_env\n",
    "    del test_obs\n",
    "\n",
    "# displays tests results sorted by performance difference\n",
    "for result in sorted(results, key=lambda test: test[2][1]):\n",
    "    print(result)"
   ]
  },
  {
   "cell_type": "code",
   "execution_count": null,
   "metadata": {},
   "outputs": [],
   "source": [
    "# map viewer for analysis of poor performance tests\n",
    "view_seed = 1661893797\n",
    "view_env = LuxAI_S2()\n",
    "view_obs = view_env.reset(seed=view_seed)\n",
    "view_image = view_env.render(\"rgb_array\", width=48, height=48)\n",
    "px.imshow(view_image).show()"
   ]
  },
  {
   "cell_type": "code",
   "execution_count": null,
   "metadata": {},
   "outputs": [],
   "source": [
    "#!luxai-s2 archimedes_main.py main.py -v 2 -s 101 -o replay.html\n",
    "#!tar -czf submission.tar.gz *"
   ]
  }
 ],
 "metadata": {
  "kernelspec": {
   "display_name": "Python 3.10.0 64-bit",
   "language": "python",
   "name": "python3"
  },
  "language_info": {
   "codemirror_mode": {
    "name": "ipython",
    "version": 3
   },
   "file_extension": ".py",
   "mimetype": "text/x-python",
   "name": "python",
   "nbconvert_exporter": "python",
   "pygments_lexer": "ipython3",
   "version": "3.10.0"
  },
  "orig_nbformat": 4,
  "vscode": {
   "interpreter": {
    "hash": "aee8b7b246df8f9039afb4144a1f6fd8d2ca17a180786b69acc140d282b71a49"
   }
  }
 },
 "nbformat": 4,
 "nbformat_minor": 2
}
