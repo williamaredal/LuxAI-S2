{
 "cells": [
  {
   "cell_type": "code",
   "execution_count": null,
   "metadata": {},
   "outputs": [],
   "source": [
    "# In case of import requirements\n",
    "# verify version\n",
    "!python3 --version\n",
    "!pip install --upgrade luxai_s2\n",
    "!pip install importlib-metadata==4.13.0\n",
    "!pip install --upgrade moviepy # needed to render videos of episodes"
   ]
  },
  {
   "cell_type": "code",
   "execution_count": 37,
   "metadata": {},
   "outputs": [],
   "source": [
    "from luxai_s2.env import LuxAI_S2\n",
    "from lux.kit import obs_to_game_state, GameState, EnvConfig\n",
    "from lux.utils import my_turn_to_place_factory, direction_to \n",
    "import matplotlib.pyplot as plt\n",
    "import numpy as np\n",
    "import plotly.express as px\n",
    "import random\n",
    "import math\n",
    "import cv2"
   ]
  },
  {
   "cell_type": "code",
   "execution_count": null,
   "metadata": {},
   "outputs": [],
   "source": [
    "'''STRATEGY'''\n",
    "# TODO Gather statistics on the current water to power conversion utilizing the same seed as the previous tests (this entails retesting the old results)\n",
    "# []\n",
    "\n",
    "# TODO Take a good look at my strategy for watering lichen to ensure:\n",
    "#      [] No factory runs out of water at end of turn\n",
    "#      [] Every factory uses as much water as it possibly can, resulting in as close to 0 water remaining at turn 1000\n",
    "\n",
    "# TODO Add watering stategy evaluation that checks the available rubble free area connected to the factory to calculate when it needs to start\n",
    "#      watering to reach almost all of the area, while also considering the available water do cover this area.\n",
    "# []\n",
    "\n",
    "# TODO Evaluate weather to use 150-N turns to gather ore for multiplication of bots before water hoarding\n",
    "# []\n",
    "\n",
    "\n",
    "'''PLACEMENT LOCATIONS'''\n",
    "# TODO Work on spawn placement by displaying alternative selection methods on paralell and overlapping masks to find spawn points that allow\n",
    "#      placing on rubble, but with low/no rubble tiles ajacent to allow water conversion to start early.\n",
    "# []\n",
    "\n",
    "# TODO Simple switch from average rubble to median rubble for spawn selection better?\n",
    "# []\n",
    "\n",
    "\n",
    "'''HEAVY BEHAVIOUR'''\n",
    "# TODO Implement a behaviour check for when to transfer ice prematurely to its home factory by checking if the factory has critical water\n",
    "# []\n",
    "\n",
    "# TODO Add \"hostile_facotry_ajacent\" to heavy and light overwatch functions and checks to avoid random choice of trying to attack, when it should\n",
    "#      move home (always when next to hostile factory)\n",
    "# []\n",
    "\n",
    "\n",
    "'''LIGHT BEHAVIOUR'''\n",
    "# TODO Light bots attacking hostile bots seem to ignore booked coords already placed and collides with friendy bots thinking the same. This needs \n",
    "#      to be fixed to be able to withstand hordes of hostile light bots\n",
    "# []\n",
    "\n",
    "# TODO Set one light bot to mining assignment. If closest factory has more than 1500 power, recharge there. This bot assignment does not stop\n",
    "#      mining ore for new bots until turn N\n",
    "# []\n",
    "\n",
    "\n",
    "'''MISC'''\n",
    "# TODO Change spawn selection from using coordinates to use Djikstra algorithm to calculate distances from each ice tile, which then returns the\n",
    "#      average of the heatmap instead of ajacent rubble tiles for that ice tile.\n",
    "#      This means retooling the spawn filtering section to evaluate the spawns by their \"distance score\".\n",
    "# []\n"
   ]
  },
  {
   "cell_type": "code",
   "execution_count": 86,
   "metadata": {},
   "outputs": [
    {
     "data": {
      "application/vnd.plotly.v1+json": {
       "config": {
        "plotlyServerURL": "https://plot.ly"
       },
       "data": [
        {
         "hovertemplate": "x: %{x}<br>y: %{y}<br>color: [%{z[0]}, %{z[1]}, %{z[2]}]<extra></extra>",
         "name": "0",
         "source": "data:image/png;base64,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",
         "type": "image",
         "xaxis": "x",
         "yaxis": "y"
        }
       ],
       "layout": {
        "margin": {
         "t": 60
        },
        "template": {
         "data": {
          "bar": [
           {
            "error_x": {
             "color": "#2a3f5f"
            },
            "error_y": {
             "color": "#2a3f5f"
            },
            "marker": {
             "line": {
              "color": "#E5ECF6",
              "width": 0.5
             },
             "pattern": {
              "fillmode": "overlay",
              "size": 10,
              "solidity": 0.2
             }
            },
            "type": "bar"
           }
          ],
          "barpolar": [
           {
            "marker": {
             "line": {
              "color": "#E5ECF6",
              "width": 0.5
             },
             "pattern": {
              "fillmode": "overlay",
              "size": 10,
              "solidity": 0.2
             }
            },
            "type": "barpolar"
           }
          ],
          "carpet": [
           {
            "aaxis": {
             "endlinecolor": "#2a3f5f",
             "gridcolor": "white",
             "linecolor": "white",
             "minorgridcolor": "white",
             "startlinecolor": "#2a3f5f"
            },
            "baxis": {
             "endlinecolor": "#2a3f5f",
             "gridcolor": "white",
             "linecolor": "white",
             "minorgridcolor": "white",
             "startlinecolor": "#2a3f5f"
            },
            "type": "carpet"
           }
          ],
          "choropleth": [
           {
            "colorbar": {
             "outlinewidth": 0,
             "ticks": ""
            },
            "type": "choropleth"
           }
          ],
          "contour": [
           {
            "colorbar": {
             "outlinewidth": 0,
             "ticks": ""
            },
            "colorscale": [
             [
              0,
              "#0d0887"
             ],
             [
              0.1111111111111111,
              "#46039f"
             ],
             [
              0.2222222222222222,
              "#7201a8"
             ],
             [
              0.3333333333333333,
              "#9c179e"
             ],
             [
              0.4444444444444444,
              "#bd3786"
             ],
             [
              0.5555555555555556,
              "#d8576b"
             ],
             [
              0.6666666666666666,
              "#ed7953"
             ],
             [
              0.7777777777777778,
              "#fb9f3a"
             ],
             [
              0.8888888888888888,
              "#fdca26"
             ],
             [
              1,
              "#f0f921"
             ]
            ],
            "type": "contour"
           }
          ],
          "contourcarpet": [
           {
            "colorbar": {
             "outlinewidth": 0,
             "ticks": ""
            },
            "type": "contourcarpet"
           }
          ],
          "heatmap": [
           {
            "colorbar": {
             "outlinewidth": 0,
             "ticks": ""
            },
            "colorscale": [
             [
              0,
              "#0d0887"
             ],
             [
              0.1111111111111111,
              "#46039f"
             ],
             [
              0.2222222222222222,
              "#7201a8"
             ],
             [
              0.3333333333333333,
              "#9c179e"
             ],
             [
              0.4444444444444444,
              "#bd3786"
             ],
             [
              0.5555555555555556,
              "#d8576b"
             ],
             [
              0.6666666666666666,
              "#ed7953"
             ],
             [
              0.7777777777777778,
              "#fb9f3a"
             ],
             [
              0.8888888888888888,
              "#fdca26"
             ],
             [
              1,
              "#f0f921"
             ]
            ],
            "type": "heatmap"
           }
          ],
          "heatmapgl": [
           {
            "colorbar": {
             "outlinewidth": 0,
             "ticks": ""
            },
            "colorscale": [
             [
              0,
              "#0d0887"
             ],
             [
              0.1111111111111111,
              "#46039f"
             ],
             [
              0.2222222222222222,
              "#7201a8"
             ],
             [
              0.3333333333333333,
              "#9c179e"
             ],
             [
              0.4444444444444444,
              "#bd3786"
             ],
             [
              0.5555555555555556,
              "#d8576b"
             ],
             [
              0.6666666666666666,
              "#ed7953"
             ],
             [
              0.7777777777777778,
              "#fb9f3a"
             ],
             [
              0.8888888888888888,
              "#fdca26"
             ],
             [
              1,
              "#f0f921"
             ]
            ],
            "type": "heatmapgl"
           }
          ],
          "histogram": [
           {
            "marker": {
             "pattern": {
              "fillmode": "overlay",
              "size": 10,
              "solidity": 0.2
             }
            },
            "type": "histogram"
           }
          ],
          "histogram2d": [
           {
            "colorbar": {
             "outlinewidth": 0,
             "ticks": ""
            },
            "colorscale": [
             [
              0,
              "#0d0887"
             ],
             [
              0.1111111111111111,
              "#46039f"
             ],
             [
              0.2222222222222222,
              "#7201a8"
             ],
             [
              0.3333333333333333,
              "#9c179e"
             ],
             [
              0.4444444444444444,
              "#bd3786"
             ],
             [
              0.5555555555555556,
              "#d8576b"
             ],
             [
              0.6666666666666666,
              "#ed7953"
             ],
             [
              0.7777777777777778,
              "#fb9f3a"
             ],
             [
              0.8888888888888888,
              "#fdca26"
             ],
             [
              1,
              "#f0f921"
             ]
            ],
            "type": "histogram2d"
           }
          ],
          "histogram2dcontour": [
           {
            "colorbar": {
             "outlinewidth": 0,
             "ticks": ""
            },
            "colorscale": [
             [
              0,
              "#0d0887"
             ],
             [
              0.1111111111111111,
              "#46039f"
             ],
             [
              0.2222222222222222,
              "#7201a8"
             ],
             [
              0.3333333333333333,
              "#9c179e"
             ],
             [
              0.4444444444444444,
              "#bd3786"
             ],
             [
              0.5555555555555556,
              "#d8576b"
             ],
             [
              0.6666666666666666,
              "#ed7953"
             ],
             [
              0.7777777777777778,
              "#fb9f3a"
             ],
             [
              0.8888888888888888,
              "#fdca26"
             ],
             [
              1,
              "#f0f921"
             ]
            ],
            "type": "histogram2dcontour"
           }
          ],
          "mesh3d": [
           {
            "colorbar": {
             "outlinewidth": 0,
             "ticks": ""
            },
            "type": "mesh3d"
           }
          ],
          "parcoords": [
           {
            "line": {
             "colorbar": {
              "outlinewidth": 0,
              "ticks": ""
             }
            },
            "type": "parcoords"
           }
          ],
          "pie": [
           {
            "automargin": true,
            "type": "pie"
           }
          ],
          "scatter": [
           {
            "fillpattern": {
             "fillmode": "overlay",
             "size": 10,
             "solidity": 0.2
            },
            "type": "scatter"
           }
          ],
          "scatter3d": [
           {
            "line": {
             "colorbar": {
              "outlinewidth": 0,
              "ticks": ""
             }
            },
            "marker": {
             "colorbar": {
              "outlinewidth": 0,
              "ticks": ""
             }
            },
            "type": "scatter3d"
           }
          ],
          "scattercarpet": [
           {
            "marker": {
             "colorbar": {
              "outlinewidth": 0,
              "ticks": ""
             }
            },
            "type": "scattercarpet"
           }
          ],
          "scattergeo": [
           {
            "marker": {
             "colorbar": {
              "outlinewidth": 0,
              "ticks": ""
             }
            },
            "type": "scattergeo"
           }
          ],
          "scattergl": [
           {
            "marker": {
             "colorbar": {
              "outlinewidth": 0,
              "ticks": ""
             }
            },
            "type": "scattergl"
           }
          ],
          "scattermapbox": [
           {
            "marker": {
             "colorbar": {
              "outlinewidth": 0,
              "ticks": ""
             }
            },
            "type": "scattermapbox"
           }
          ],
          "scatterpolar": [
           {
            "marker": {
             "colorbar": {
              "outlinewidth": 0,
              "ticks": ""
             }
            },
            "type": "scatterpolar"
           }
          ],
          "scatterpolargl": [
           {
            "marker": {
             "colorbar": {
              "outlinewidth": 0,
              "ticks": ""
             }
            },
            "type": "scatterpolargl"
           }
          ],
          "scatterternary": [
           {
            "marker": {
             "colorbar": {
              "outlinewidth": 0,
              "ticks": ""
             }
            },
            "type": "scatterternary"
           }
          ],
          "surface": [
           {
            "colorbar": {
             "outlinewidth": 0,
             "ticks": ""
            },
            "colorscale": [
             [
              0,
              "#0d0887"
             ],
             [
              0.1111111111111111,
              "#46039f"
             ],
             [
              0.2222222222222222,
              "#7201a8"
             ],
             [
              0.3333333333333333,
              "#9c179e"
             ],
             [
              0.4444444444444444,
              "#bd3786"
             ],
             [
              0.5555555555555556,
              "#d8576b"
             ],
             [
              0.6666666666666666,
              "#ed7953"
             ],
             [
              0.7777777777777778,
              "#fb9f3a"
             ],
             [
              0.8888888888888888,
              "#fdca26"
             ],
             [
              1,
              "#f0f921"
             ]
            ],
            "type": "surface"
           }
          ],
          "table": [
           {
            "cells": {
             "fill": {
              "color": "#EBF0F8"
             },
             "line": {
              "color": "white"
             }
            },
            "header": {
             "fill": {
              "color": "#C8D4E3"
             },
             "line": {
              "color": "white"
             }
            },
            "type": "table"
           }
          ]
         },
         "layout": {
          "annotationdefaults": {
           "arrowcolor": "#2a3f5f",
           "arrowhead": 0,
           "arrowwidth": 1
          },
          "autotypenumbers": "strict",
          "coloraxis": {
           "colorbar": {
            "outlinewidth": 0,
            "ticks": ""
           }
          },
          "colorscale": {
           "diverging": [
            [
             0,
             "#8e0152"
            ],
            [
             0.1,
             "#c51b7d"
            ],
            [
             0.2,
             "#de77ae"
            ],
            [
             0.3,
             "#f1b6da"
            ],
            [
             0.4,
             "#fde0ef"
            ],
            [
             0.5,
             "#f7f7f7"
            ],
            [
             0.6,
             "#e6f5d0"
            ],
            [
             0.7,
             "#b8e186"
            ],
            [
             0.8,
             "#7fbc41"
            ],
            [
             0.9,
             "#4d9221"
            ],
            [
             1,
             "#276419"
            ]
           ],
           "sequential": [
            [
             0,
             "#0d0887"
            ],
            [
             0.1111111111111111,
             "#46039f"
            ],
            [
             0.2222222222222222,
             "#7201a8"
            ],
            [
             0.3333333333333333,
             "#9c179e"
            ],
            [
             0.4444444444444444,
             "#bd3786"
            ],
            [
             0.5555555555555556,
             "#d8576b"
            ],
            [
             0.6666666666666666,
             "#ed7953"
            ],
            [
             0.7777777777777778,
             "#fb9f3a"
            ],
            [
             0.8888888888888888,
             "#fdca26"
            ],
            [
             1,
             "#f0f921"
            ]
           ],
           "sequentialminus": [
            [
             0,
             "#0d0887"
            ],
            [
             0.1111111111111111,
             "#46039f"
            ],
            [
             0.2222222222222222,
             "#7201a8"
            ],
            [
             0.3333333333333333,
             "#9c179e"
            ],
            [
             0.4444444444444444,
             "#bd3786"
            ],
            [
             0.5555555555555556,
             "#d8576b"
            ],
            [
             0.6666666666666666,
             "#ed7953"
            ],
            [
             0.7777777777777778,
             "#fb9f3a"
            ],
            [
             0.8888888888888888,
             "#fdca26"
            ],
            [
             1,
             "#f0f921"
            ]
           ]
          },
          "colorway": [
           "#636efa",
           "#EF553B",
           "#00cc96",
           "#ab63fa",
           "#FFA15A",
           "#19d3f3",
           "#FF6692",
           "#B6E880",
           "#FF97FF",
           "#FECB52"
          ],
          "font": {
           "color": "#2a3f5f"
          },
          "geo": {
           "bgcolor": "white",
           "lakecolor": "white",
           "landcolor": "#E5ECF6",
           "showlakes": true,
           "showland": true,
           "subunitcolor": "white"
          },
          "hoverlabel": {
           "align": "left"
          },
          "hovermode": "closest",
          "mapbox": {
           "style": "light"
          },
          "paper_bgcolor": "white",
          "plot_bgcolor": "#E5ECF6",
          "polar": {
           "angularaxis": {
            "gridcolor": "white",
            "linecolor": "white",
            "ticks": ""
           },
           "bgcolor": "#E5ECF6",
           "radialaxis": {
            "gridcolor": "white",
            "linecolor": "white",
            "ticks": ""
           }
          },
          "scene": {
           "xaxis": {
            "backgroundcolor": "#E5ECF6",
            "gridcolor": "white",
            "gridwidth": 2,
            "linecolor": "white",
            "showbackground": true,
            "ticks": "",
            "zerolinecolor": "white"
           },
           "yaxis": {
            "backgroundcolor": "#E5ECF6",
            "gridcolor": "white",
            "gridwidth": 2,
            "linecolor": "white",
            "showbackground": true,
            "ticks": "",
            "zerolinecolor": "white"
           },
           "zaxis": {
            "backgroundcolor": "#E5ECF6",
            "gridcolor": "white",
            "gridwidth": 2,
            "linecolor": "white",
            "showbackground": true,
            "ticks": "",
            "zerolinecolor": "white"
           }
          },
          "shapedefaults": {
           "line": {
            "color": "#2a3f5f"
           }
          },
          "ternary": {
           "aaxis": {
            "gridcolor": "white",
            "linecolor": "white",
            "ticks": ""
           },
           "baxis": {
            "gridcolor": "white",
            "linecolor": "white",
            "ticks": ""
           },
           "bgcolor": "#E5ECF6",
           "caxis": {
            "gridcolor": "white",
            "linecolor": "white",
            "ticks": ""
           }
          },
          "title": {
           "x": 0.05
          },
          "xaxis": {
           "automargin": true,
           "gridcolor": "white",
           "linecolor": "white",
           "ticks": "",
           "title": {
            "standoff": 15
           },
           "zerolinecolor": "white",
           "zerolinewidth": 2
          },
          "yaxis": {
           "automargin": true,
           "gridcolor": "white",
           "linecolor": "white",
           "ticks": "",
           "title": {
            "standoff": 15
           },
           "zerolinecolor": "white",
           "zerolinewidth": 2
          }
         }
        },
        "xaxis": {
         "anchor": "y",
         "domain": [
          0,
          1
         ]
        },
        "yaxis": {
         "anchor": "x",
         "domain": [
          0,
          1
         ]
        }
       }
      }
     },
     "metadata": {},
     "output_type": "display_data"
    }
   ],
   "source": [
    "env = LuxAI_S2() # create the environment object\n",
    "obs = env.reset(seed=872293845) # resets an environment with a seed\n",
    "\n",
    "# the observation is always composed of observations for both players.\n",
    "obs.keys(), obs[\"player_0\"].keys()\n",
    "\n",
    "# visualize the environment so far with rgb_array to get a quick look at the map\n",
    "# dark orange - high rubble, light orange - low rubble\n",
    "# blue = ice, yellow = ore\n",
    "img = env.render(\"rgb_array\", width=48, height=48)\n",
    "px.imshow(img).show()"
   ]
  },
  {
   "cell_type": "code",
   "execution_count": 87,
   "metadata": {},
   "outputs": [],
   "source": [
    "# TODO can be replaced with the interval method for searching in a square radius, perhaps not required to have else vision\n",
    "\n",
    "# TODO replace use of this function with the interval function\n",
    "def get_factory_tiles_from_center(x, y):\n",
    "    return np.array([\n",
    "        (x, y), # factory center\n",
    "        (x-1, y), (x, y-1), # left and top\n",
    "        (x+1, y), (x, y+1), # right and bottom\n",
    "        (x-1, y-1), (x+1, y-1), # diagonals\n",
    "        (x-1, y+1), (x+1, y+1), # diagonals\n",
    "    ]) \n",
    "'''\n",
    "[.][.][.]\n",
    "[.][.][.]\n",
    "[.][.][.]\n",
    "'''\n",
    "\n",
    "\n",
    "def get_factory_occupied_tiles(x, y):\n",
    "    return np.array([\n",
    "        (x, y), # factory center\n",
    "        (x-1, y), (x, y-1), # left and top\n",
    "        (x+1, y), (x, y+1), # right and bottom\n",
    "        (x-1, y-1), (x+1, y-1), # diagonals\n",
    "        (x-1, y+1), (x+1, y+1), # diagonals\n",
    "        (x-2, y), (x, y-2), # left and top \n",
    "        (x+2, y), (x, y+2), # right and bottom \n",
    "        (x-2, y-1), (x-1, y-2), (x-2, y-2), # left and top diagonals \n",
    "        (x+2, y+1), (x+1, y+2), (x+2, y+2), # right and bottom diagonals \n",
    "        (x+2, y-1), (x+1, y-2), (x+2, y-2), # right and top diagonals \n",
    "        (x-2, y+1), (x-1, y+2), (x-2, y+2), # left and bottom diagonals \n",
    "        (x-3, y), (x, y-3), (x+3, y), (x, y+3), # left and top\n",
    "        (x-3, y), (x, y-3), (x+3, y), (x, y+3), # right and bottom\n",
    "        (x-3, y-1), (x-1, y-3), (x-3, y-3), # left and top diagonals \n",
    "        (x+3, y+1), (x+1, y+3), (x+3, y+3), # right and bottom diagonals \n",
    "        (x+3, y-1), (x+1, y-3), (x+3, y-3), # left and top diagonals \n",
    "        (x-3, y+1), (x-1, y+3), (x-3, y+3), # right and bottom diagonals \n",
    "        (x-4, y), (x, y-4), (x+4, y), (x, y+4), # left and top\n",
    "        (x-5, y), (x, y-5), (x+5, y), (x, y+5), # right and bottom\n",
    "    ]) \n",
    "'''\n",
    "    [ ][ ][.][ ][ ]\n",
    "    [ ][ ][.][ ][ ]\n",
    "    [ ][.][.][.][ ]\n",
    " [.][.][.][X][.][.][.]\n",
    "    [ ][.][.][.][ ]\n",
    "    [ ][ ][.][ ][ ]\n",
    "    [ ][ ][.][ ][ ]\n",
    "'''\n",
    "\n",
    "\n",
    "def get_tiles_by_interval(x, y, interval_x, interval_y):\n",
    "    coordinates = np.array(\n",
    "        [(x + n, y + m) for n in range((-1 * interval_x), interval_x +1) for m in range((-1 * interval_y), interval_y +1) if (0 <= (x + n) <= 47) and (0 <= (y + m) <= 47)]\n",
    "    )\n",
    "    return coordinates\n",
    "'''\n",
    "    ^ interval y\n",
    "    [ ][ ][ ]\n",
    "    [ ][ ][ ]\n",
    "    [ ][ ][ ]\n",
    "    interval x ->\n",
    "'''\n",
    "\n",
    "\n",
    "# TODO use this so i can remove opponent factory tile neighbours from rubble removal\n",
    "def get_surrounding_tiles_by_interval(x, y, interval_x, interval_y):\n",
    "    coordinates = np.array(\n",
    "        [\n",
    "            (x + n, y + m) for n in range((-1 * interval_x), interval_x +1) for m in range((-1 * interval_y), interval_y +1) if\n",
    "            (0 <= (x + n) <= 47) and (n < -1 or n > 1 or m < -1 or m > 1) and\n",
    "            (0 <= (y + m) <= 47) #and (m < -1 or m > 1)\n",
    "        ]\n",
    "    )\n",
    "    return coordinates \n",
    "'''\n",
    "X = not marked factory tiles\n",
    "    ^ interval y\n",
    "    [ ][ ][ ][ ][ ][ ][ ]\n",
    "    [ ][ ][ ][ ][ ][ ][ ]\n",
    "    [ ][ ][X][X][X][ ][ ]\n",
    "    [ ][ ][X][X][X][ ][ ]\n",
    "    [ ][ ][X][X][X][ ][ ]\n",
    "    [ ][ ][ ][ ][ ][ ][ ]\n",
    "    [ ][ ][ ][ ][ ][ ][ ]\n",
    "    interval x ->\n",
    "'''\n",
    "\n",
    "\n",
    "def get_bordering_coords(x, y):\n",
    "    return np.array([\n",
    "        (x, y), # center\n",
    "        (x-1, y), (x, y-1), # left and top\n",
    "        (x+1, y), (x, y+1), # right and bottom\n",
    "        (x-1, y-1), (x+1, y-1), # diagonals\n",
    "        (x-1, y+1), (x+1, y+1), # diagonals\n",
    "    ])\n",
    "\n",
    "\n",
    "# function used by Archimedes for locating resource border coordinates\n",
    "def neighbors(x, y):\n",
    "    return np.array([\n",
    "        # startes at layer 2 to give buffer, avoiding placing factory on resource\n",
    "        (x-2, y), (x, y-2), # left and top \n",
    "        (x+2, y), (x, y+2), # right and bottom \n",
    "\n",
    "        (x-2, y-1), (x-1, y-2), # (x-2, y-2), # left and top diagonals \n",
    "        (x+2, y+1), (x+1, y+2), # (x+2, y+2), # right and bottom diagonals \n",
    "\n",
    "        (x+2, y-1), (x+1, y-2), # (x+2, y-2), # right and top diagonals \n",
    "        (x-2, y+1), (x-1, y+2), # (x-2, y+2), # left and bottom diagonals \n",
    "    ])\n",
    "'''\n",
    "[ ][.][.][.][ ]\n",
    "[.][ ][ ][ ][.]\n",
    "[.][ ][X][ ][.]\n",
    "[.][ ][ ][ ][.]\n",
    "[ ][.][.][.][ ]\n",
    "'''\n",
    "\n",
    "\n",
    "def coord_from_direction(x, y, direction):\n",
    "    if direction == 0:\n",
    "        return (x, y)\n",
    "    elif direction == 1:\n",
    "        return (x, y-1)\n",
    "    elif direction == 2:\n",
    "        return (x+1, y)\n",
    "    elif direction == 3:\n",
    "        return (x, y+1)\n",
    "    elif direction == 4:\n",
    "        return (x-1, y)\n",
    "\n",
    "\n",
    "def expedition_check_tile_occupation(game_state, unit_x, unit_y, direction, player, opponent):\n",
    "    friendly_bots = game_state.units[player]\n",
    "    hostile_bots = game_state.units[opponent]\n",
    "\n",
    "    friendly_coords = [(unit.pos[0], unit.pos[1]) for (unit_id, unit) in friendly_bots.items()]\n",
    "    hostile_lights = [(unit.pos[0], unit.pos[1]) for unit_id, unit in hostile_bots.items() if unit.unit_type == 'LIGHT']\n",
    "    hostile_heavys = [(unit.pos[0], unit.pos[1]) for unit_id, unit in hostile_bots.items() if unit.unit_type == 'HEAVY']\n",
    "\n",
    "    # a[1] = direction (1 = up, 2 = right, 3 = down, 4 = left)\n",
    "    # move_deltas = np.array([0, -1], [1, 0], [0, 1], [-1, 0]])\n",
    "    bot_center = (unit_x, unit_y)\n",
    "    bot_up = (unit_x, unit_y - 1)\n",
    "    bot_right = (unit_x + 1, unit_y)\n",
    "    bot_down = (unit_x, unit_y + 1)\n",
    "    bot_left = (unit_x - 1, unit_y)\n",
    "\n",
    "    # checks if no friendly is on direction tile, if none, direction remains, else set to 0\n",
    "    up_friendly = (bot_up not in friendly_coords) * 1\n",
    "    right_friendly = (bot_right not in friendly_coords) * 2\n",
    "    down_friendly = (bot_down not in friendly_coords) * 3\n",
    "    left_friendly = (bot_left not in friendly_coords) * 4\n",
    "\n",
    "\n",
    "\n",
    "    # checks if no friendly is on direction tile, if none, direction remains, else set to 0\n",
    "    up_friendly = (not any(bot_up == f_pos for f_pos in friendly_coords)) * 1\n",
    "    right_friendly = (not any(bot_right == f_pos for f_pos in friendly_coords)) * 2\n",
    "    down_friendly = (not any(bot_down == f_pos for f_pos in friendly_coords)) * 3\n",
    "    left_friendly = (not any(bot_left == f_pos for f_pos in friendly_coords)) * 4\n",
    "    \n",
    "    # checks if hostile bot is on direction tile, if there is one of type 'LIGHT', direction remains, else set to 0\n",
    "    up_hostile = True if not any(bot_up == h_pos for h_pos in hostile_heavys) or any(bot_up == h_pos for h_pos in hostile_lights) else False\n",
    "    right_hostile = True if not any(bot_right == h_pos for h_pos in hostile_heavys) or any(bot_right == h_pos for h_pos in hostile_lights) else False\n",
    "    down_hostile = True if not any(bot_down == h_pos for h_pos in hostile_heavys) or any(bot_down == h_pos for h_pos in hostile_lights) else False\n",
    "    left_hostile = True if not any(bot_left == h_pos for h_pos in hostile_heavys) or any(bot_left == h_pos for h_pos in hostile_lights) else False\n",
    "\n",
    "\n",
    "    # sets non occupied tile directions\n",
    "    up_free = up_friendly * up_hostile\n",
    "    right_free = right_friendly * right_hostile\n",
    "    down_free = down_friendly * down_hostile\n",
    "    left_free = left_friendly * left_hostile\n",
    "\n",
    "\n",
    "    # finds possible directions not occupied by friendly bots and hostile bots\n",
    "    directions = [up_free, right_free, down_free, left_free]\n",
    "    if direction in directions:\n",
    "        return direction\n",
    "\n",
    "    # if all direction tiles occupied with friendly bots, recharge recommended\n",
    "    return 0\n",
    "'''\n",
    "       []1\n",
    "    []2[]0[]4\n",
    "       []3\n",
    "''' \n",
    "\n",
    "\n",
    "\n",
    "\n",
    "# function used by Archimedes to check if tile is occupied by other bots\n",
    "def check_tile_occupation(game_state, unit_x, unit_y, direction, booked_coords, player, opponent):\n",
    "    friendly_bots = game_state.units[player]\n",
    "    hostile_bots = game_state.units[opponent]\n",
    "\n",
    "    friendly_coords = {(unit.pos[0], unit.pos[1]): unit.unit_type for (unit_id, unit) in friendly_bots.items()}\n",
    "    hostile_coords = {(unit.pos[0], unit.pos[1]): unit.unit_type for (unit_id, unit) in hostile_bots.items()}\n",
    "\n",
    "    # coords relative to bot position\n",
    "    # a[1] = direction (1 = up, 2 = right, 3 = down, 4 = left)\n",
    "    # move_deltas = np.array([0, -1], [1, 0], [0, 1], [-1, 0]])\n",
    "    bot_center = (unit_x, unit_y)\n",
    "    bot_up = (unit_x, unit_y - 1)\n",
    "    bot_right = (unit_x + 1, unit_y)\n",
    "    bot_down = (unit_x, unit_y + 1)\n",
    "    bot_left = (unit_x - 1, unit_y)\n",
    "\n",
    "\n",
    "    # checks if no friendly is on direction tile, if none, direction remains, else set to 0\n",
    "    up_friendly = (bot_up not in friendly_coords and (bot_up not in booked_coords)) * 1\n",
    "    right_friendly = (bot_right not in friendly_coords and (bot_right not in booked_coords)) * 2\n",
    "    down_friendly = (bot_down not in friendly_coords and (bot_down not in booked_coords)) * 3\n",
    "    left_friendly = (bot_left not in friendly_coords and (bot_left not in booked_coords)) * 4\n",
    "\n",
    "    # checks if hostile bot is on direction tile, if there is one of type 'LIGHT', direction remains, else set to 0\n",
    "    up_hostile = True if (bot_up not in hostile_coords) or (bot_up in hostile_coords and hostile_coords[bot_up] == 'LIGHT' ) else False\n",
    "    right_hostile = True if (bot_right not in hostile_coords) or (bot_right in hostile_coords and hostile_coords[bot_right] == 'LIGHT' ) else False\n",
    "    down_hostile = True if (bot_down not in hostile_coords) or (bot_down in hostile_coords and hostile_coords[bot_down] == 'LIGHT' ) else False\n",
    "    left_hostile = True if (bot_left not in hostile_coords) or (bot_left in hostile_coords and hostile_coords[bot_left] == 'LIGHT' ) else False\n",
    "\n",
    "    # sets non occupied tile directions\n",
    "    up_free = up_friendly * up_hostile\n",
    "    right_free = right_friendly * right_hostile\n",
    "    down_free = down_friendly * down_hostile\n",
    "    left_free = left_friendly * left_hostile\n",
    "\n",
    "\n",
    "    # finds possible directions not occupied by friendly bots and hostile bots\n",
    "    directions = [up_free, right_free, down_free, left_free]\n",
    "    if direction in directions:\n",
    "        return direction\n",
    "    \n",
    "    elif sum(directions) > 0:\n",
    "        alt_directions = [d for d in directions if d > 0]\n",
    "        return random.choice(alt_directions)\n",
    " \n",
    "    # if all direction tiles occupied with friendly bots, recharge recommended\n",
    "    return 0\n",
    "'''\n",
    "       []1\n",
    "    []2[]0[]4\n",
    "       []3\n",
    "'''\n",
    "\n",
    "def heavy_overwatch(unit, on_factory, closest_factory_tile, game_state, opponent):\n",
    "    unit_x = unit.pos[0]\n",
    "    unit_y = unit.pos[1]\n",
    "    # gets hostile bot coords\n",
    "    hostile_bots = game_state.units[opponent]\n",
    "    hostile_coords_heavy = [(unit.pos[0], unit.pos[1]) for (unit_id, unit) in hostile_bots.items() if unit.unit_type == 'HEAVY']\n",
    "\n",
    "    # coords relative to bot position\n",
    "    # a[1] = direction (1 = up, 2 = right, 3 = down, 4 = left)\n",
    "    # move_deltas = np.array([0, -1], [1, 0], [0, 1], [-1, 0]])\n",
    "    bot_up = (unit_x, unit_y - 1)\n",
    "    bot_right = (unit_x + 1, unit_y)\n",
    "    bot_down = (unit_x, unit_y + 1)\n",
    "    bot_left = (unit_x - 1, unit_y)\n",
    "\n",
    "    # checks if hostile bot is on directly neighbouring tiles, and is of type HEAVY\n",
    "    up_hostile = True if (bot_up in hostile_coords_heavy) else False\n",
    "    right_hostile = True if (bot_right in hostile_coords_heavy) else False\n",
    "    down_hostile = True if (bot_down in hostile_coords_heavy) else False\n",
    "    left_hostile = True if (bot_left in hostile_coords_heavy) else False\n",
    "    hostile_on_flank = (up_hostile or right_hostile or down_hostile or left_hostile)\n",
    "\n",
    "    # check for heavy hostiles on opposing tiles, if on factory tile move on hostile tile, else move to closest factory tile \n",
    "    if on_factory and hostile_on_flank:\n",
    "        up_target = up_hostile * 1\n",
    "        right_target = right_hostile * 2\n",
    "        down_target = down_hostile * 3\n",
    "        left_target = left_hostile * 4\n",
    "        directions = [up_target, right_target, down_target, left_target]\n",
    "        target_dir = [target for target in directions if target != 0]\n",
    "\n",
    "        return random.choice(target_dir)\n",
    "    \n",
    "    # attack if energy is greater than 240, but introduced random choice to disengage and move home\n",
    "    elif not on_factory and hostile_on_flank:\n",
    "        if unit.power > 240:\n",
    "            up_target = up_hostile * 1\n",
    "            right_target = right_hostile * 2\n",
    "            down_target = down_hostile * 3\n",
    "            left_target = left_hostile * 4\n",
    "            directions = [up_target, right_target, down_target, left_target, direction_to(np.array([unit_x, unit_y]), target=closest_factory_tile)]\n",
    "            target_dir = [target for target in directions if target != 0]\n",
    "            return random.choice(target_dir)\n",
    "        \n",
    "        else:\n",
    "            return direction_to(src=np.array([unit_x, unit_y]), target=closest_factory_tile)\n",
    "    \n",
    "    else:\n",
    "        return False\n",
    "\n",
    "\n",
    "def light_overwatch(unit, on_factory, on_ice_assistance, home_factory, booked_coords, overwatch_priority, game_state, player, opponent):\n",
    "    # gets hostile bot coords\n",
    "    hostile_bots = game_state.units[opponent]\n",
    "    hostile_coords_heavy = [(unit.pos[0], unit.pos[1]) for (unit_id, unit) in hostile_bots.items() if unit.unit_type == 'HEAVY']\n",
    "    hostile_coords_light = [(unit.pos[0], unit.pos[1]) for (unit_id, unit) in hostile_bots.items() if unit.unit_type == 'LIGHT']\n",
    "\n",
    "    # coords relative to bot position\n",
    "    # a[1] = direction (1 = up, 2 = right, 3 = down, 4 = left)\n",
    "    # move_deltas = np.array([0, -1], [1, 0], [0, 1], [-1, 0]])\n",
    "    unit_x = unit.pos[0]\n",
    "    unit_y = unit.pos[1]\n",
    "    bot_center = (unit_x, unit_y)\n",
    "    bot_up = (unit_x, unit_y - 1)\n",
    "    bot_right = (unit_x + 1, unit_y)\n",
    "    bot_down = (unit_x, unit_y + 1)\n",
    "    bot_left = (unit_x - 1, unit_y)\n",
    "\n",
    "    # checks if light hostile bot is on directly neighbouring tiles\n",
    "    up_hostile_light = True if (bot_up in hostile_coords_light) else False\n",
    "    right_hostile_light = True if (bot_right in hostile_coords_light) else False\n",
    "    down_hostile_light = True if (bot_down in hostile_coords_light) else False\n",
    "    left_hostile_light = True if (bot_left in hostile_coords_light) else False\n",
    "    light_hostile_on_flank = (up_hostile_light or right_hostile_light or down_hostile_light or left_hostile_light)\n",
    "\n",
    "    # checks if heavy hostile bot is on directly neighbouring tiles\n",
    "    up_hostile_heavy = True if (bot_up in hostile_coords_heavy) else False\n",
    "    right_hostile_heavy = True if (bot_right in hostile_coords_heavy) else False\n",
    "    down_hostile_heavy = True if (bot_down in hostile_coords_heavy) else False\n",
    "    left_hostile_heavy = True if (bot_left in hostile_coords_heavy) else False\n",
    "    heavy_hostile_on_flank = (up_hostile_heavy or right_hostile_heavy or down_hostile_heavy or left_hostile_heavy)\n",
    "\n",
    "\n",
    "    # if only heavy hostile on flank, returns direction that is away from heavy hostile\n",
    "    if heavy_hostile_on_flank and not light_hostile_on_flank and not on_factory:\n",
    "        if up_hostile_heavy:\n",
    "            return 3\n",
    "        elif right_hostile_heavy:\n",
    "            return 4\n",
    "        elif down_hostile_heavy:\n",
    "            return 1\n",
    "        elif left_hostile_heavy:\n",
    "            return 2\n",
    "    \n",
    "    # if light hostile on flank, attack\n",
    "    elif light_hostile_on_flank and unit.power >= 20 and not on_ice_assistance:\n",
    "        up_target = up_hostile_light * 1\n",
    "        right_target = right_hostile_light * 2\n",
    "        down_target = down_hostile_light * 3\n",
    "        left_target = left_hostile_light * 4\n",
    "        directions = [up_target, right_target, down_target, left_target]\n",
    "        target_dir = [target for target in directions if target != 0]\n",
    "        return random.choice(target_dir)\n",
    "\n",
    "    # if light on flank, but below unit power threshold\n",
    "    elif light_hostile_on_flank and unit.power < 20 and not on_ice_assistance:\n",
    "        direction = direction_to(unit.pos, home_factory)\n",
    "        newDirection = check_tile_occupation(\n",
    "            game_state=game_state,\n",
    "            unit_x=unit_x,\n",
    "            unit_y=unit_y,\n",
    "            direction=direction,\n",
    "            booked_coords=booked_coords,\n",
    "            player=player,\n",
    "            opponent=opponent\n",
    "        )\n",
    "        booked_coords[coord_from_direction(x=unit_x, y=unit_y, direction=newDirection)] = overwatch_priority\n",
    "        return newDirection\n",
    "\n",
    "    # move home if unit position is booked\n",
    "    elif bot_center in booked_coords:\n",
    "        evasion_direction = direction_to([unit_x, unit_y], home_factory)\n",
    "        newDirection = check_tile_occupation(\n",
    "            game_state=game_state,\n",
    "            unit_x=unit_x,\n",
    "            unit_y=unit_y,\n",
    "            direction=evasion_direction,\n",
    "            booked_coords=booked_coords,\n",
    "            player=player,\n",
    "            opponent=opponent\n",
    "        )\n",
    "        booked_coords[coord_from_direction(x=unit_x, y=unit_y, direction=newDirection)] = overwatch_priority\n",
    "        return newDirection\n",
    "\n",
    "    # if no overwatch triggers return this status\n",
    "    else:\n",
    "        return False\n",
    "\n",
    "\n",
    "def get_closest_factory_tile(unit_x, unit_y, factories):\n",
    "    closest_factory = sorted([(factory.pos, factory) for factory_id, factory in factories.items()], key=lambda f: (f[0][0] - unit_x)**2 + (f[0][1] - unit_y)**2)[0]\n",
    "    factory_pos = closest_factory[0]\n",
    "    factory = closest_factory[1]\n",
    "    return (factory_pos, factory)\n",
    "\n",
    "\n",
    "\n",
    "class Archimedes_Lever():\n",
    "    def __init__(self, player: str, env_cfg: EnvConfig) -> None:\n",
    "        self.player = player\n",
    "        self.opp_player = \"player_1\" if self.player == \"player_0\" else \"player_0\"\n",
    "        self.env_cfg: EnvConfig = env_cfg\n",
    "\n",
    "        # dictionary for keeping track of bots home factory by unit_id and home coord\n",
    "        self.home_factory = dict()\n",
    "\n",
    "    # Setup of early game\n",
    "    def early_setup(self, step: int, obs, remainingOverageTime: int = 60):\n",
    "        if step == 0:\n",
    "            # bid 0 to not waste resources bidding and declare as the default faction\n",
    "            # you can bid -n to prefer going second or n to prefer going first in placement\n",
    "            return dict(faction=\"AlphaStrike\", bid=10)\n",
    "        else:\n",
    "            game_state = obs_to_game_state(step, self.env_cfg, obs)\n",
    "            my_turn_to_evaluate_spawns = my_turn_to_place_factory(game_state.teams[self.player].place_first, step)\n",
    "\n",
    "            ### Using numpy arrays, maps out desirable spawn locations\n",
    "            # only processes map on my placement turns\n",
    "            if my_turn_to_evaluate_spawns:\n",
    "                # gets border indexes of ore coordinates and ice coordinates\n",
    "                indOre = np.transpose(np.where(game_state.board.ore > 0))\n",
    "                indIce = np.transpose(np.where(game_state.board.ice > 0))\n",
    "                indFactories = np.transpose(np.where(game_state.board.factory_occupancy_map >= 0))\n",
    "\n",
    "                # finds possible spawns around resources\n",
    "                array_spawns = np.unique(np.concatenate(\n",
    "                    [neighbors(*ind) for ind in indIce],\n",
    "                    #[neighbors(*ind) for ind in iceSpawns],\n",
    "                    ), axis=0)\n",
    "\n",
    "                # finds tiles that are occupied or invalid spawn coords\n",
    "                array_occupied_coords = np.unique(np.concatenate([get_factory_occupied_tiles(*i) for i in indFactories]), axis=0) if len(indFactories) > 0 else []\n",
    "                array_invalid_coords = np.unique(np.concatenate(\n",
    "                    (np.concatenate([get_bordering_coords(*ind) for ind in indOre], axis=0),\n",
    "                    np.concatenate([get_bordering_coords(*ind) for ind in indIce], axis=0))\n",
    "                ), axis=0)\n",
    "\n",
    "\n",
    "                # filters spawn coords for outside map coords (and those doesn't include spawns on map border), and those overlapping ivalid or occupied tiles\n",
    "                x_search_radius = 3\n",
    "                y_search_radius = 3\n",
    "                array_inside_map_spawns = [\n",
    "                    (np.array(\n",
    "                        [spawn_coord[0], spawn_coord[1]]), # first element in tuple is np array coordinate\n",
    "                        np.mean(                        # second elment in tuple is mean rubble value from ajacent coords\n",
    "                            [game_state.board.rubble[c[0]][c[1]] for c in get_surrounding_tiles_by_interval(x=spawn_coord[0], y=spawn_coord[1], interval_x=x_search_radius, interval_y=y_search_radius)]\n",
    "                        )\n",
    "                    ) for spawn_coord in array_spawns if (2 <= spawn_coord[0] <= 45) and (2 <= spawn_coord[1] <= 45)\n",
    "                ]\n",
    "                array_valid_spawns = [coord for coord in array_inside_map_spawns if \n",
    "                    all(all(coord[0] == inv_coord) == False for inv_coord in array_invalid_coords) and \n",
    "                    all(all(coord[0] == occ_coord) == False for occ_coord in array_occupied_coords)\n",
    "                ]\n",
    "\n",
    "                '''\n",
    "                # TODO mirror filtering here\n",
    "                desirable_coordinates_filtered = np.copy(game_state.board.valid_spawns_mask)\n",
    "                desirable_coordinates_filtered[desirable_coordinates_filtered == 1] = 0\n",
    "                for coord in array_valid_spawns:\n",
    "                    desirable_coordinates_filtered[coord[0]][coord[1]] == 1\n",
    "                # visualizes the map and AI vision\n",
    "                img = env.render(\"rgb_array\", width=48, height=48)\n",
    "                #px.imshow(game_state.board.rubble.T).show()\n",
    "                px.imshow(img).show()\n",
    "                px.imshow(desirable_coordinates_filtered.T).show()\n",
    "                '''\n",
    "\n",
    "                ### Factory placement period\n",
    "                # how much water and metal you have in your starting pool to give to new factories\n",
    "                water_left = game_state.teams[self.player].water\n",
    "                metal_left = game_state.teams[self.player].metal\n",
    "                \n",
    "                # how many factories you have left to place, and if its my turn to place\n",
    "                factories_to_place = game_state.teams[self.player].factories_to_place\n",
    "                my_turn_to_place = my_turn_to_place_factory(game_state.teams[self.player].place_first, step)\n",
    "\n",
    "                if factories_to_place > 0 and my_turn_to_place and len(array_valid_spawns) > 0:\n",
    "                    array_sorted_spawns = sorted(array_valid_spawns, key=lambda coord: coord[1])\n",
    "                    #print(\"spawn choices\", len(array_sorted_spawns))\n",
    "                    #print(array_sorted_spawns[0][0])\n",
    "                    spawn_loc = array_sorted_spawns[0][0]\n",
    "                    if water_left < 150 and metal_left < 150:\n",
    "                        return dict(spawn=spawn_loc, metal=metal_left, water=water_left)\n",
    "                    else:\n",
    "                        return dict(spawn=spawn_loc, metal=150, water=150)\n",
    "\n",
    "                else:\n",
    "                    # returns empty dictionary if there are no  valid spawn points to choose from\n",
    "                    return dict()\n",
    "\n",
    "            else:\n",
    "                # returns empty dictionary if no decisions were reached\n",
    "                return dict()\n",
    "\n",
    "\n",
    "    \n",
    "    # Setup of logic in the act phase\n",
    "    def act(self, step: int, obs, remainingOverageTime: int = 60):\n",
    "        # game state and other variables\n",
    "        actions = dict()\n",
    "        game_state: GameState = obs_to_game_state(step, self.env_cfg, obs)\n",
    "        game_state.teams[self.player].place_first\n",
    "\n",
    "\n",
    "        ### Factory decision making\n",
    "        factories = game_state.factories[self.player]\n",
    "        factory_tiles, factory_units, factory_centers = [], [], []\n",
    "        for unit_id, factory in factories.items():\n",
    "            center = factory.pos\n",
    "            tiles = get_factory_tiles_from_center(x=center[0], y=center[1])\n",
    "            factory_centers += [center]\n",
    "            for tile in tiles:\n",
    "                factory_tiles += [tile]\n",
    "            factory_units += [factory]\n",
    "        factory_tiles = np.array(factory_tiles)\n",
    "\n",
    "        hostile_factory_centers, hostile_factory_tiles = [], []\n",
    "        for h_unit_id, h_factory in game_state.factories[self.opp_player].items():\n",
    "            center = h_factory.pos\n",
    "            hostile_factory_centers.append(center)\n",
    "\n",
    "            tiles = get_factory_tiles_from_center(x=center[0], y=center[1])\n",
    "            for tile in tiles:\n",
    "                hostile_factory_tiles += [tile]\n",
    "        hostile_factory_tiles = np.array(hostile_factory_tiles)\n",
    "\n",
    "        # Creation of bots\n",
    "        heavy_bot_cost = self.env_cfg.ROBOTS[\"HEAVY\"]\n",
    "        light_bot_cost = self.env_cfg.ROBOTS[\"LIGHT\"]\n",
    "\n",
    "        # heavy bots\n",
    "        for unit_id, factory in factories.items():\n",
    "            center_occupied = any((factory.pos[0], factory.pos[1]) == (unit.pos[0], unit.pos[1]) for unit_id, unit in game_state.units[self.player].items())\n",
    "            #print(center_occupied, (factory.pos[0], factory.pos[1]), [unit.pos for unit_id, unit in game_state.units[self.player].items()])\n",
    "            if factory.power >= heavy_bot_cost.POWER_COST and factory.cargo.metal >= heavy_bot_cost.METAL_COST and not center_occupied:\n",
    "                actions[unit_id] = factory.build_heavy()\n",
    "        \n",
    "        # light bots\n",
    "        if game_state.real_env_steps > 1:\n",
    "            center_occupied = any((factory.pos[0], factory.pos[1]) == (unit.pos[0], unit.pos[1]) for unit_id, unit in game_state.units[self.player].items())\n",
    "            #print(center_occupied, (factory.pos[0], factory.pos[1]), [unit.pos for unit_id, unit in game_state.units[self.player].items()])\n",
    "            for unit_id, factory in factories.items():\n",
    "                if factory.power >= light_bot_cost.POWER_COST and factory.cargo.metal >= light_bot_cost.METAL_COST and not center_occupied:\n",
    "                    actions[unit_id] = factory.build_light()\n",
    "\n",
    "\n",
    "        # Watering lichen if at right turn\n",
    "        growth_turn = 990 - 250 # calculations suggenst 77 turns prior\n",
    "        turns_left = 988 - game_state.real_env_steps\n",
    "        grow = game_state.real_env_steps >= growth_turn\n",
    "        for factory_id, factory in factories.items():\n",
    "            water_cost_reactor = turns_left\n",
    "            water_per_turn = 3.2\n",
    "            \n",
    "            base_water_cost = (factory.cargo.water - water_cost_reactor + (water_per_turn * turns_left))\n",
    "            water_cost_threshold = (factory.water_cost(game_state) * turns_left)\n",
    "            water_formula = base_water_cost > water_cost_threshold\n",
    "\n",
    "            # UNCOMMENT FOR TESTING OF LICHEN GROWTH\n",
    "            '''\n",
    "            if factory_id == 'factory_0' or factory_id == 'factory_1':\n",
    "                water_gathered = factory.cargo.water - 150 + game_state.real_env_steps\n",
    "                factory_lichen = 0\n",
    "                lichen_strain_tiles = np.argwhere(game_state.board.lichen_strains == factory.strain_id)\n",
    "                for tile in lichen_strain_tiles:\n",
    "                    factory_lichen += game_state.board.lichen[tile[0]][tile[1]]\n",
    "\n",
    "                print(str(factory.power) + \",\" +  str(water_gathered) + ',' + str(factory.cargo.water) + \",\" + str(factory.water_cost(game_state)) + ',' + str(factory_lichen))\n",
    "\n",
    "            if(factory.can_water(game_state) and factory.power < 2000 and factory.cargo.water > 150):\n",
    "                actions[factory_id] = factory.water()\n",
    "            '''\n",
    "\n",
    "            factory_power_formula = factory.can_water(game_state) and factory.power < 1500 and factory.cargo.water > 20 and factory.water_cost(game_state) < 3 and (game_state.real_env_steps >= 12)\n",
    "            if (game_state.real_env_steps >= growth_turn and water_formula) or (factory_power_formula):\n",
    "                actions[factory_id] = factory.water()\n",
    "\n",
    "        ### Finds all ice and ore tiles\n",
    "        ice_map = game_state.board.ice \n",
    "        ore_map = game_state.board.ore \n",
    "        rubble_map = game_state.board.rubble\n",
    "        ice_tile_locations = np.argwhere(ice_map == 1) # numpy magic to get the position of every ice tile\n",
    "        ore_tile_locations = np.argwhere(ore_map == 1) # numpy magic to get the position of every ore tile\n",
    "        rubble_tile_locations = np.argwhere(rubble_map > 0) # numpy magic to get the position of every rubble tile\n",
    "        rubble_tile_locations_low_rubble = np.argwhere(rubble_map <= 20)\n",
    "\n",
    "        # sets hostile rubble mask\n",
    "        hostile_rubble_mask = np.zeros((48, 48))\n",
    "        hostile_factory_rubble = np.concatenate([\n",
    "            get_surrounding_tiles_by_interval(\n",
    "                x=hostile_factory_center[0],\n",
    "                y=hostile_factory_center[1],\n",
    "                interval_x=6,\n",
    "                interval_y=6\n",
    "            ) for hostile_factory_center in hostile_factory_centers\n",
    "        ], axis=0)\n",
    "        \n",
    "        for tile in hostile_factory_rubble:\n",
    "            hostile_rubble_mask[tile[0]][tile[1]] = 1\n",
    "\n",
    "\n",
    "        units = game_state.units[self.player]\n",
    "\n",
    "\n",
    "        ### Specifies assignments for heavy and light bots\n",
    "        light_ice_supporters = len(factories)\n",
    "        ice_support_assignments = 0\n",
    "        rubble_assignments = 0\n",
    "        power_assignments = 0\n",
    "\n",
    "        # action priority values\n",
    "        overwatch_priority = 6\n",
    "        pickup_priority = 5\n",
    "        transfer_priority = 4\n",
    "        dig_priority = 3\n",
    "        move_priority = 2\n",
    "        recharge_priority = 1\n",
    "\n",
    "        # booked tiles for avoiding \n",
    "        move_bookings = {}\n",
    "\n",
    "\n",
    "        for unit_id, unit in units.items():\n",
    "            # sets factory that built unit as home factory\n",
    "            if unit_id not in self.home_factory:\n",
    "                self.home_factory[unit_id] = get_closest_factory_tile(\n",
    "                    unit_x=unit.pos[0],\n",
    "                    unit_y=unit.pos[1],\n",
    "                    factories=factories\n",
    "                )\n",
    "\n",
    "            # info about closest map tiles\n",
    "            closest_factory_tile = sorted(factory_tiles, key=lambda p: (p[0] - unit.pos[0])**2 + (p[1] - unit.pos[1])**2 )[0]\n",
    "            closest_hostile_factory_tile = sorted(hostile_factory_tiles, key=lambda p: abs(p[0] - unit.pos[0]) + abs(p[1] - unit.pos[1]) )[0]\n",
    "            closest_ice_tile = sorted(ice_tile_locations, key=lambda p: (p[0] - self.home_factory[unit_id][0][0])**2 + (p[1] - self.home_factory[unit_id][0][1])**2 )[0]\n",
    "            \n",
    "            cargo_limit_ice = 960\n",
    "            on_factory = all(unit.pos == closest_factory_tile)\n",
    "            ajacent_factory = 1 >= (abs(unit.pos[0] - closest_factory_tile[0]) + abs(unit.pos[1] - closest_factory_tile[1]))\n",
    "            ajacent_hostile_factory = 1 >= (abs(unit.pos[0] - closest_hostile_factory_tile[0]) + abs(unit.pos[1] - closest_hostile_factory_tile[1]))\n",
    "            \n",
    "            \n",
    "\n",
    "            # relevant info for light and heavy bots\n",
    "            home_factory_tile = self.home_factory[unit_id][0]\n",
    "            isHeavy = unit.unit_type == 'HEAVY'\n",
    "            isLight = unit.unit_type == 'LIGHT'\n",
    "\n",
    "\n",
    "             \n",
    "\n",
    "        \n",
    "            ### Heavy bot logic\n",
    "            if isHeavy:\n",
    "                # sets new home factory if original died\n",
    "                if len([(factory_id, factory) for factory_id, factory in factories.items() if all(self.home_factory[unit_id][0] == factory.pos)]) == 0:\n",
    "                    self.home_factory[unit_id] = get_closest_factory_tile(\n",
    "                        unit_x=unit.pos[0],\n",
    "                        unit_y=unit.pos[1],\n",
    "                        factories=factories\n",
    "                    )\n",
    "\n",
    "                # info about unit's home factory power and resources\n",
    "                home_factory = [(factory_id, factory) for factory_id, factory in factories.items() if all(self.home_factory[unit_id][0] == factory.pos)]\n",
    "\n",
    "               #print('heavy', unit_id, unit.pos, unit.power)\n",
    "                below_power_threshold_heavy = unit.power <= 100\n",
    "                below_power_move_heavy = unit.power <= 50\n",
    "                free_cargo_ice = unit.cargo.ice < cargo_limit_ice\n",
    "                recharge_need_heavy = math.floor(3000 - unit.power)\n",
    "                on_ice = all(unit.pos == closest_ice_tile)\n",
    "\n",
    "                # condition for when heavy is set to clear rubble\n",
    "                on_rubble_clearing = (home_factory[0][1].cargo.water) > 500 and 0 != sum(\n",
    "                    [game_state.board.rubble[tile[0]][tile[1]] for tile in get_surrounding_tiles_by_interval(\n",
    "                        x=home_factory[0][1].pos[0], \n",
    "                        y=home_factory[0][1].pos[1], \n",
    "                        interval_x=2,\n",
    "                        interval_y=2\n",
    "                    ) if game_state.board.ore[tile[0]][tile[1]] != 1]\n",
    "                )\n",
    "                #print(on_rubble_clearing, home_factory[0][0], home_factory[0][1].pos, home_factory[0][1].power, home_factory[0][1].cargo.water)\n",
    "                if on_rubble_clearing:\n",
    "                    closest_rubble_tiles = sorted(rubble_tile_locations, key=lambda p: abs(p[0] - unit.pos[0]) + abs(p[1] - unit.pos[1]))\n",
    "                    closest_rubble_tile = closest_rubble_tiles[0]\n",
    "                    on_rubble = all(unit.pos == closest_rubble_tile)\n",
    "                    factory_rubble_tiles = [coord for coord in get_surrounding_tiles_by_interval(\n",
    "                        x=home_factory[0][1].pos[0],\n",
    "                        y=home_factory[0][1].pos[1],\n",
    "                        interval_x=2,\n",
    "                        interval_y=2\n",
    "                    )]\n",
    "\n",
    "                    closest_factory_rubble_tile = sorted([tile for tile in factory_rubble_tiles if \n",
    "                        (game_state.board.rubble[tile[0]][tile[1]] != 0) and \n",
    "                        (game_state.board.ore[tile[0]][tile[1]] != 1)\n",
    "                    ], key=lambda p: (game_state.board.rubble[p[0]][p[1]]))[0]\n",
    "                    #print(unit_id, closest_factory_rubble_tile)\n",
    "\n",
    "\n",
    "                # has hostile HEAVY on flank, moves to attack, or to factory tile if not already on one\n",
    "                overwatch_check = heavy_overwatch(\n",
    "                    unit=unit,\n",
    "                    on_factory=on_factory,\n",
    "                    closest_factory_tile=closest_factory_tile,\n",
    "                    game_state=game_state,\n",
    "                    opponent=self.opp_player\n",
    "                )\n",
    "                if overwatch_check != False:\n",
    "                    move_bookings[coord_from_direction(x=unit.pos[0], y=unit.pos[1], direction=overwatch_check)] = overwatch_priority\n",
    "                    actions[unit_id] = [unit.move(overwatch_check, repeat=0)]\n",
    "                    continue\n",
    "\n",
    "                ### Clearing factory rubble\n",
    "                # on rubble clearing, on rubble, not below power limit. Dig rubble\n",
    "                elif on_rubble_clearing and on_rubble and not below_power_threshold_heavy:\n",
    "                    move_bookings[(unit.pos[0], unit.pos[1])] = dig_priority\n",
    "                    actions[unit_id] = [unit.dig(repeat=0)]\n",
    "                    #print(unit_id, \"clearing factory rubble\")\n",
    "                    continue\n",
    "\n",
    "                # on rubble clearing, not on rubble, not below power limit. Move to factory rubble\n",
    "                elif on_rubble_clearing and not on_rubble and not below_power_threshold_heavy:\n",
    "                    direction = direction_to(unit.pos, closest_factory_rubble_tile)\n",
    "                    move_bookings[coord_from_direction(x=unit.pos[0], y=unit.pos[1], direction=direction)] = move_priority\n",
    "                    actions[unit_id] = [unit.move(direction, repeat=0)]\n",
    "                    #print(unit_id, \"moving to factory rubble\")\n",
    "                    continue\n",
    "\n",
    "                ### Collecting ice\n",
    "                # on ice, but not over cargo capacity limit. Dig ice\n",
    "                elif not on_rubble_clearing and on_ice and free_cargo_ice and not below_power_threshold_heavy:\n",
    "                    move_bookings[(unit.pos[0], unit.pos[1])] = dig_priority\n",
    "                    actions[unit_id] = [unit.dig(repeat=0)]\n",
    "                    #print(unit_id, \"digging\")\n",
    "                    continue\n",
    "                \n",
    "                # not on ice, not over cargo capacity limit. Move to ice\n",
    "                elif not on_rubble_clearing and not on_ice and free_cargo_ice and not below_power_threshold_heavy:\n",
    "                    direction = direction_to(unit.pos, closest_ice_tile)\n",
    "                    move_bookings[coord_from_direction(x=unit.pos[0], y=unit.pos[1], direction=direction)] = move_priority\n",
    "                    actions[unit_id] = [unit.move(direction, repeat=0)]\n",
    "                    #print(unit_id, \"move dig\")\n",
    "                    continue\n",
    "                \n",
    "                # on factory, below power threshold. Pickup power\n",
    "                elif not on_rubble_clearing and on_factory and below_power_threshold_heavy:\n",
    "                    direction = direction_to(unit.pos, closest_factory_tile)\n",
    "                    move_bookings[(unit.pos[0], unit.pos[1])] = pickup_priority\n",
    "                    actions[unit_id] = [unit.pickup(4, recharge_need_heavy, repeat=0)]\n",
    "                    #print(unit_id, \"pickup power\")\n",
    "                    continue\n",
    "                \n",
    "                # not on factory, below power threshold. Move to recharge\n",
    "                elif not on_rubble_clearing and not on_factory and (below_power_threshold_heavy and not below_power_move_heavy):\n",
    "                    direction = direction_to(unit.pos, closest_factory_tile)\n",
    "                    newDirection = check_tile_occupation(\n",
    "                        game_state=game_state,\n",
    "                        unit_x=unit.pos[0],\n",
    "                        unit_y=unit.pos[1],\n",
    "                        direction=direction,\n",
    "                        booked_coords=move_bookings,\n",
    "                        player=self.player,\n",
    "                        opponent=self.opp_player\n",
    "                    )\n",
    "                    if newDirection != direction:\n",
    "                        move_bookings[(unit.pos[0], unit.pos[1])] = recharge_priority\n",
    "                        #print(unit_id, \"move recharge, wait\")\n",
    "                        continue\n",
    "\n",
    "                    elif newDirection == direction:\n",
    "                        move_bookings[coord_from_direction(x=unit.pos[0], y=unit.pos[1], direction=direction)] = move_priority\n",
    "                        actions[unit_id] = [unit.move(direction, repeat=0)]\n",
    "                        #print(unit_id, \"move recharge\")\n",
    "                        continue\n",
    "\n",
    "                # ajacent to factory, over cargo limit. Transfer ice\n",
    "                elif not on_rubble_clearing and ajacent_factory and not free_cargo_ice and not below_power_threshold_heavy:\n",
    "                    direction = direction_to(unit.pos, closest_factory_tile)\n",
    "                    move_bookings[(unit.pos[0], unit.pos[1])] = transfer_priority\n",
    "                    actions[unit_id] = [unit.transfer(direction, 0, unit.cargo.ice, repeat=0)]\n",
    "                    #print(unit_id, \"transfer\")\n",
    "                    continue\n",
    "\n",
    "                # not ajacent to factory. Move to transfer\n",
    "                elif not on_rubble_clearing and not ajacent_factory and not free_cargo_ice and not below_power_threshold_heavy:\n",
    "                    direction = direction_to(unit.pos, closest_factory_tile)\n",
    "                    move_bookings[coord_from_direction(x=unit.pos[0], y=unit.pos[1], direction=direction)] = move_priority\n",
    "                    actions[unit_id] = [unit.move(direction, repeat=0)]\n",
    "                    #print(unit_id, \"move transfer\")\n",
    "                    continue\n",
    "                \n",
    "                # not on factory, below critical power. Do nothing (recharge)\n",
    "                elif not on_factory and (below_power_threshold_heavy and below_power_move_heavy):\n",
    "                    move_bookings[(unit.pos[0], unit.pos[1])] = recharge_priority\n",
    "                    #print(unit_id, \"doing nothing (recharging)\")\n",
    "                    continue\n",
    "\n",
    "\n",
    "            ### Light bot logic\n",
    "            if isLight:\n",
    "                # sets new home factory if original died\n",
    "                if len([(factory_id, factory) for factory_id, factory in factories.items() if all(self.home_factory[unit_id][0] == factory.pos)]) == 0:\n",
    "                    self.home_factory[unit_id] = get_closest_factory_tile(\n",
    "                        unit_x=unit.pos[0],\n",
    "                        unit_y=unit.pos[1],\n",
    "                        factories=factories\n",
    "                    )\n",
    "\n",
    "                # info about unit's home factory power and resources\n",
    "                home_factory = [(factory_id, factory) for factory_id, factory in factories.items() if all(self.home_factory[unit_id][0] == (factory.pos[0], factory.pos[1]))]\n",
    "                free_power = (home_factory[0][1].power - (power_assignments * 150)) > 500\n",
    "\n",
    "                # sorts low rubble tiles by proximity to closest factory tile to unit\n",
    "                sorted_rubble_tile_vision = sorted(\n",
    "                    [\n",
    "                        tile for tile in rubble_tile_locations_low_rubble if \n",
    "                        (hostile_rubble_mask[tile[0]][tile[1]] != 1) and\n",
    "                        (game_state.board.rubble[tile[0]][tile[1]] != 0) and\n",
    "                        (game_state.board.ice[tile[0]][tile[1]] != 1) and \n",
    "                        (game_state.board.ore[tile[0]][tile[1]] != 1)\n",
    "                    ], \n",
    "                    key=lambda coord: (coord[0] - closest_factory_tile[0])**2 + (coord[1] - closest_factory_tile[1])**2\n",
    "                )\n",
    "                lowest_rubble__tile_visible = sorted_rubble_tile_vision[0]\n",
    "                \n",
    "\n",
    "                closest_ore_tiles = sorted(ore_tile_locations, key=lambda p: abs(p[0] - self.home_factory[unit_id][0][0]) + abs(p[1] - self.home_factory[unit_id][0][1]))\n",
    "                closest_ice_tiles = sorted(ice_tile_locations, key=lambda p: (p[0] - self.home_factory[unit_id][0][0])**2 + (p[1] - self.home_factory[unit_id][0][1])**2 )\n",
    "                closest_rubble_tiles = sorted(rubble_tile_locations, key=lambda p: abs(p[0] - unit.pos[0]) + abs(p[1] - unit.pos[1]))\n",
    "                closest_ore_tile = closest_ore_tiles[0]\n",
    "                closest_ice_tile = closest_ice_tiles[0]\n",
    "                closest_rubble_tile = closest_rubble_tiles[0]\n",
    "                assistance_ice_tile = sorted(factory_tiles, key=lambda p: (p[0] - closest_ice_tile[0])**2 + (p[1] - closest_ice_tile[1])**2 )[0]\n",
    "                \n",
    "\n",
    "                \n",
    "                # decides if the bot should be assigned to assist its heavy bot in ice collection\n",
    "                on_ice_assistance = ice_support_assignments < light_ice_supporters\n",
    "                if on_ice_assistance:\n",
    "                    ice_support_assignments += 1\n",
    "\n",
    "                charge_state = game_state.is_day() and unit.power < 150 and not on_factory and (not factory_power_formula or (game_state.real_env_steps >= 600 and water_formula))\n",
    "                power_treshold_light = 30\n",
    "                below_power_threshold_light = unit.power <= power_treshold_light\n",
    "                above_power_threshold_light = not below_power_threshold_light\n",
    "                above_assistance_power = unit.power >= 120\n",
    "                ajacent_ice = (abs(unit.pos[0] - closest_ice_tile[0]) + abs(unit.pos[1] - closest_ice_tile[1])) <= 1\n",
    "                on_ore = all(unit.pos == closest_ore_tile)\n",
    "                on_rubble = all(unit.pos == closest_rubble_tile)\n",
    "                free_cargo_ore = unit.cargo.ore < 50\n",
    "\n",
    "                ### performs overwatch check to see if HEAVY bots on flanks\n",
    "                overwatch_check = light_overwatch(\n",
    "                    unit=unit,\n",
    "                    on_factory=on_factory, \n",
    "                    on_ice_assistance=on_ice_assistance, \n",
    "                    home_factory=self.home_factory[unit_id][0], \n",
    "                    booked_coords=move_bookings, \n",
    "                    overwatch_priority=overwatch_priority,\n",
    "                    game_state=game_state, \n",
    "                    player=self.player, \n",
    "                    opponent=self.opp_player\n",
    "                )\n",
    "                if overwatch_check != False:\n",
    "                    move_bookings[coord_from_direction(x=unit.pos[0], y=unit.pos[1], direction=overwatch_check)] = overwatch_priority\n",
    "                    actions[unit_id] = [unit.move(overwatch_check, repeat=0)]\n",
    "                    #print(game_state.real_env_steps, unit_id, unit.pos, 'moving to', coord_from_direction(x=unit.pos[0], y=unit.pos[1], direction=overwatch_check), 'overwatch triggered')\n",
    "                    continue\n",
    "        \n",
    "\n",
    "\n",
    "\n",
    "                ### On ice assistance duty\n",
    "                # Light bot should move onto home factory tile if not on a factory tile.\n",
    "                if on_ice_assistance and not on_factory and above_power_threshold_light:\n",
    "                    direction = direction_to(unit.pos, assistance_ice_tile)\n",
    "                    newDirection = check_tile_occupation(\n",
    "                        game_state=game_state,\n",
    "                        unit_x=unit.pos[0],\n",
    "                        unit_y=unit.pos[1],\n",
    "                        direction=direction,\n",
    "                        booked_coords=move_bookings,\n",
    "                        player=self.player,\n",
    "                        opponent=self.opp_player\n",
    "                    )\n",
    "                    move_bookings[coord_from_direction(x=unit.pos[0], y=unit.pos[1], direction=newDirection)] = move_priority\n",
    "                    actions[unit_id] = [unit.move(direction=newDirection, repeat=0)]\n",
    "                    #print(game_state.real_env_steps, unit_id, unit.pos, 'moving to assistance tile')\n",
    "                    continue\n",
    "\n",
    "                # Light bot should move towards ice tile until it is ajacent to it while being on a factory tile \n",
    "                elif on_ice_assistance and on_factory and not ajacent_ice and above_assistance_power:\n",
    "                    direction = direction_to(unit.pos, assistance_ice_tile)\n",
    "                    target_coord = coord_from_direction(x=unit.pos[0], y=unit.pos[1], direction=direction)\n",
    "                    move_occupied = any(target_coord == (unit.pos[0], unit.pos[1]) for unit_id, unit in units.items())\n",
    "                    # if factory tile occupied, wait\n",
    "                    if move_occupied:\n",
    "                        move_bookings[(unit.pos[0], unit.pos[1])] = recharge_priority\n",
    "                        continue\n",
    "                    \n",
    "                    # else move towards goal\n",
    "                    elif not move_occupied:\n",
    "                        move_bookings[coord_from_direction(x=unit.pos[0], y=unit.pos[1], direction=direction)] = move_priority\n",
    "                        actions[unit_id] = [unit.move(direction=direction, repeat=0)]\n",
    "                        #print(game_state.real_env_steps, unit_id, unit.pos, 'moving from factory tile to assistance tile')\n",
    "                        continue\n",
    "\n",
    "\n",
    "                # If on factory tile, ajacent to ice, and has transferrable power. Look up heavy bot on ice tile, get its demand, and transfer power\n",
    "                elif on_ice_assistance and on_factory and ajacent_ice and above_assistance_power: \n",
    "                    direction = direction_to(unit.pos, closest_ice_tile)\n",
    "                    target_coord = coord_from_direction(x=unit.pos[0], y=unit.pos[1], direction=direction)\n",
    "                    target_bot = [unit for unit_id, unit in units.items() if (unit.pos[0], unit.pos[1]) == target_coord]\n",
    "\n",
    "                    # lookup ajacent ice heavy bot power demand, transfer demand or available supply to heavy on ice\n",
    "                    if len(target_bot) > 0:\n",
    "                        transfer_supply = unit.power - 1\n",
    "                        transfer_demand = 400 - target_bot[0].power\n",
    "                        transfer_amount = transfer_demand -1 if (0 < transfer_demand <= transfer_supply) else transfer_supply - 1\n",
    "                        move_bookings[(unit.pos[0], unit.pos[1])] = transfer_priority\n",
    "                        actions[unit_id] = [unit.transfer(direction, 4, transfer_amount)]\n",
    "                        #print(game_state.real_env_steps, unit_id, unit.pos, 'transferring power')\n",
    "                        continue\n",
    "\n",
    "                    # transfer nothing if there is no heavy bot on that tile\n",
    "                    elif len(target_bot) == 0: \n",
    "                        move_bookings[(unit.pos[0], unit.pos[1])] = transfer_priority\n",
    "                        #print(game_state.real_env_steps, unit_id, unit.pos, 'did not transfer power')\n",
    "                        continue\n",
    "\n",
    "\n",
    "                # If on facotry tile, ajacent to ice, and has not transferrable power. Pickup power so it gets to max power.\n",
    "                elif on_ice_assistance and on_factory and not above_assistance_power:\n",
    "                    move_bookings[(unit.pos[0], unit.pos[1])] = pickup_priority\n",
    "                    actions[unit_id] = [unit.pickup(4, 150 - unit.power, repeat=0)]\n",
    "                    #print(game_state.real_env_steps, unit_id, unit.pos, 'pickup power')\n",
    "                    continue\n",
    "\n",
    "                # if bot is lost and not above power threshold, do nothing (recharge)\n",
    "                elif on_ice_assistance and not on_factory and not above_power_threshold_light:\n",
    "                    move_bookings[(unit.pos[0], unit.pos[1])] = recharge_priority\n",
    "                    #print(game_state.real_env_steps, unit_id, unit.pos, 'do nothing')\n",
    "                    continue\n",
    "                \n",
    "\n",
    "\n",
    "\n",
    "                ### Rubble clearing duty\n",
    "                # on rubble, under cargo limit, not below power threshold, not charge state. Dig rubble\n",
    "                if on_rubble and free_cargo_ore and not below_power_threshold_light and not charge_state:\n",
    "                    move_bookings[(unit.pos[0], unit.pos[1])] = dig_priority\n",
    "                    actions[unit_id] = [unit.dig(repeat=0)]\n",
    "                    #print(unit_id, \"dig rubble\")\n",
    "\n",
    "\n",
    "                # not on ore, not on rubble, under cargo limit, not below power threshold, not charge state. Move to rubble\n",
    "                elif not on_rubble and free_cargo_ore and not below_power_threshold_light and not charge_state:\n",
    "                    direction = direction_to(unit.pos, lowest_rubble__tile_visible)\n",
    "                    newDirection = check_tile_occupation(\n",
    "                        game_state=game_state,\n",
    "                        unit_x=unit.pos[0],\n",
    "                        unit_y=unit.pos[1],\n",
    "                        direction=direction,\n",
    "                        booked_coords=move_bookings,\n",
    "                        player=self.player,\n",
    "                        opponent=self.opp_player\n",
    "                    )\n",
    "                    move_bookings[coord_from_direction(x=unit.pos[0], y=unit.pos[1], direction=newDirection)] = move_priority\n",
    "                    actions[unit_id] = [unit.move(newDirection, repeat=0)]\n",
    "                    #print(unit_id, \"move to rubble\")\n",
    "               \n",
    "                # below power threshold, not in charge state, on factory tile, nearest factory power > 1500. Pickup power\n",
    "                elif below_power_threshold_light and not charge_state and on_factory and free_power:\n",
    "                    power_assignments += 1\n",
    "                    move_bookings[(unit.pos[0], unit.pos[1])] = pickup_priority\n",
    "                    actions[unit_id] = [unit.pickup(4, 150 - unit.power, repeat=0)]\n",
    "                    #print(unit_id, \"pickup power light\")\n",
    "                \n",
    "                # below power threshold, not in charge state, not on factory tile, nearest factory power > 1500. Pickup power\n",
    "                elif below_power_threshold_light and not charge_state and not on_factory and free_power:\n",
    "                    power_assignments += 1\n",
    "                    direction = direction_to(unit.pos, closest_factory_tile)\n",
    "                    newDirection = check_tile_occupation(\n",
    "                        game_state=game_state,\n",
    "                        unit_x=unit.pos[0],\n",
    "                        unit_y=unit.pos[1],\n",
    "                        direction=direction,\n",
    "                        booked_coords=move_bookings,\n",
    "                        player=self.player,\n",
    "                        opponent=self.opp_player\n",
    "                    )\n",
    "                    move_bookings[coord_from_direction(x=unit.pos[0], y=unit.pos[1], direction=newDirection)] = move_priority\n",
    "                    actions[unit_id] = [unit.move(newDirection, repeat=0)]\n",
    "                    #print(unit_id, \"move to factory recharge\")\n",
    "\n",
    "                # below power threshold and in a charge state. Do nothing (recharge)\n",
    "                elif below_power_threshold_light and charge_state:\n",
    "                    move_bookings[(unit.pos[0], unit.pos[1])] = recharge_priority\n",
    "                    continue\n",
    "                    #print(unit_id, \"recharge\")\n",
    " \n",
    "        return actions"
   ]
  },
  {
   "cell_type": "code",
   "execution_count": 88,
   "metadata": {},
   "outputs": [
    {
     "data": {
      "application/vnd.plotly.v1+json": {
       "config": {
        "plotlyServerURL": "https://plot.ly"
       },
       "data": [
        {
         "hovertemplate": "x: %{x}<br>y: %{y}<br>color: [%{z[0]}, %{z[1]}, %{z[2]}]<extra></extra>",
         "name": "0",
         "source": "data:image/png;base64,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",
         "type": "image",
         "xaxis": "x",
         "yaxis": "y"
        }
       ],
       "layout": {
        "margin": {
         "t": 60
        },
        "template": {
         "data": {
          "bar": [
           {
            "error_x": {
             "color": "#2a3f5f"
            },
            "error_y": {
             "color": "#2a3f5f"
            },
            "marker": {
             "line": {
              "color": "#E5ECF6",
              "width": 0.5
             },
             "pattern": {
              "fillmode": "overlay",
              "size": 10,
              "solidity": 0.2
             }
            },
            "type": "bar"
           }
          ],
          "barpolar": [
           {
            "marker": {
             "line": {
              "color": "#E5ECF6",
              "width": 0.5
             },
             "pattern": {
              "fillmode": "overlay",
              "size": 10,
              "solidity": 0.2
             }
            },
            "type": "barpolar"
           }
          ],
          "carpet": [
           {
            "aaxis": {
             "endlinecolor": "#2a3f5f",
             "gridcolor": "white",
             "linecolor": "white",
             "minorgridcolor": "white",
             "startlinecolor": "#2a3f5f"
            },
            "baxis": {
             "endlinecolor": "#2a3f5f",
             "gridcolor": "white",
             "linecolor": "white",
             "minorgridcolor": "white",
             "startlinecolor": "#2a3f5f"
            },
            "type": "carpet"
           }
          ],
          "choropleth": [
           {
            "colorbar": {
             "outlinewidth": 0,
             "ticks": ""
            },
            "type": "choropleth"
           }
          ],
          "contour": [
           {
            "colorbar": {
             "outlinewidth": 0,
             "ticks": ""
            },
            "colorscale": [
             [
              0,
              "#0d0887"
             ],
             [
              0.1111111111111111,
              "#46039f"
             ],
             [
              0.2222222222222222,
              "#7201a8"
             ],
             [
              0.3333333333333333,
              "#9c179e"
             ],
             [
              0.4444444444444444,
              "#bd3786"
             ],
             [
              0.5555555555555556,
              "#d8576b"
             ],
             [
              0.6666666666666666,
              "#ed7953"
             ],
             [
              0.7777777777777778,
              "#fb9f3a"
             ],
             [
              0.8888888888888888,
              "#fdca26"
             ],
             [
              1,
              "#f0f921"
             ]
            ],
            "type": "contour"
           }
          ],
          "contourcarpet": [
           {
            "colorbar": {
             "outlinewidth": 0,
             "ticks": ""
            },
            "type": "contourcarpet"
           }
          ],
          "heatmap": [
           {
            "colorbar": {
             "outlinewidth": 0,
             "ticks": ""
            },
            "colorscale": [
             [
              0,
              "#0d0887"
             ],
             [
              0.1111111111111111,
              "#46039f"
             ],
             [
              0.2222222222222222,
              "#7201a8"
             ],
             [
              0.3333333333333333,
              "#9c179e"
             ],
             [
              0.4444444444444444,
              "#bd3786"
             ],
             [
              0.5555555555555556,
              "#d8576b"
             ],
             [
              0.6666666666666666,
              "#ed7953"
             ],
             [
              0.7777777777777778,
              "#fb9f3a"
             ],
             [
              0.8888888888888888,
              "#fdca26"
             ],
             [
              1,
              "#f0f921"
             ]
            ],
            "type": "heatmap"
           }
          ],
          "heatmapgl": [
           {
            "colorbar": {
             "outlinewidth": 0,
             "ticks": ""
            },
            "colorscale": [
             [
              0,
              "#0d0887"
             ],
             [
              0.1111111111111111,
              "#46039f"
             ],
             [
              0.2222222222222222,
              "#7201a8"
             ],
             [
              0.3333333333333333,
              "#9c179e"
             ],
             [
              0.4444444444444444,
              "#bd3786"
             ],
             [
              0.5555555555555556,
              "#d8576b"
             ],
             [
              0.6666666666666666,
              "#ed7953"
             ],
             [
              0.7777777777777778,
              "#fb9f3a"
             ],
             [
              0.8888888888888888,
              "#fdca26"
             ],
             [
              1,
              "#f0f921"
             ]
            ],
            "type": "heatmapgl"
           }
          ],
          "histogram": [
           {
            "marker": {
             "pattern": {
              "fillmode": "overlay",
              "size": 10,
              "solidity": 0.2
             }
            },
            "type": "histogram"
           }
          ],
          "histogram2d": [
           {
            "colorbar": {
             "outlinewidth": 0,
             "ticks": ""
            },
            "colorscale": [
             [
              0,
              "#0d0887"
             ],
             [
              0.1111111111111111,
              "#46039f"
             ],
             [
              0.2222222222222222,
              "#7201a8"
             ],
             [
              0.3333333333333333,
              "#9c179e"
             ],
             [
              0.4444444444444444,
              "#bd3786"
             ],
             [
              0.5555555555555556,
              "#d8576b"
             ],
             [
              0.6666666666666666,
              "#ed7953"
             ],
             [
              0.7777777777777778,
              "#fb9f3a"
             ],
             [
              0.8888888888888888,
              "#fdca26"
             ],
             [
              1,
              "#f0f921"
             ]
            ],
            "type": "histogram2d"
           }
          ],
          "histogram2dcontour": [
           {
            "colorbar": {
             "outlinewidth": 0,
             "ticks": ""
            },
            "colorscale": [
             [
              0,
              "#0d0887"
             ],
             [
              0.1111111111111111,
              "#46039f"
             ],
             [
              0.2222222222222222,
              "#7201a8"
             ],
             [
              0.3333333333333333,
              "#9c179e"
             ],
             [
              0.4444444444444444,
              "#bd3786"
             ],
             [
              0.5555555555555556,
              "#d8576b"
             ],
             [
              0.6666666666666666,
              "#ed7953"
             ],
             [
              0.7777777777777778,
              "#fb9f3a"
             ],
             [
              0.8888888888888888,
              "#fdca26"
             ],
             [
              1,
              "#f0f921"
             ]
            ],
            "type": "histogram2dcontour"
           }
          ],
          "mesh3d": [
           {
            "colorbar": {
             "outlinewidth": 0,
             "ticks": ""
            },
            "type": "mesh3d"
           }
          ],
          "parcoords": [
           {
            "line": {
             "colorbar": {
              "outlinewidth": 0,
              "ticks": ""
             }
            },
            "type": "parcoords"
           }
          ],
          "pie": [
           {
            "automargin": true,
            "type": "pie"
           }
          ],
          "scatter": [
           {
            "fillpattern": {
             "fillmode": "overlay",
             "size": 10,
             "solidity": 0.2
            },
            "type": "scatter"
           }
          ],
          "scatter3d": [
           {
            "line": {
             "colorbar": {
              "outlinewidth": 0,
              "ticks": ""
             }
            },
            "marker": {
             "colorbar": {
              "outlinewidth": 0,
              "ticks": ""
             }
            },
            "type": "scatter3d"
           }
          ],
          "scattercarpet": [
           {
            "marker": {
             "colorbar": {
              "outlinewidth": 0,
              "ticks": ""
             }
            },
            "type": "scattercarpet"
           }
          ],
          "scattergeo": [
           {
            "marker": {
             "colorbar": {
              "outlinewidth": 0,
              "ticks": ""
             }
            },
            "type": "scattergeo"
           }
          ],
          "scattergl": [
           {
            "marker": {
             "colorbar": {
              "outlinewidth": 0,
              "ticks": ""
             }
            },
            "type": "scattergl"
           }
          ],
          "scattermapbox": [
           {
            "marker": {
             "colorbar": {
              "outlinewidth": 0,
              "ticks": ""
             }
            },
            "type": "scattermapbox"
           }
          ],
          "scatterpolar": [
           {
            "marker": {
             "colorbar": {
              "outlinewidth": 0,
              "ticks": ""
             }
            },
            "type": "scatterpolar"
           }
          ],
          "scatterpolargl": [
           {
            "marker": {
             "colorbar": {
              "outlinewidth": 0,
              "ticks": ""
             }
            },
            "type": "scatterpolargl"
           }
          ],
          "scatterternary": [
           {
            "marker": {
             "colorbar": {
              "outlinewidth": 0,
              "ticks": ""
             }
            },
            "type": "scatterternary"
           }
          ],
          "surface": [
           {
            "colorbar": {
             "outlinewidth": 0,
             "ticks": ""
            },
            "colorscale": [
             [
              0,
              "#0d0887"
             ],
             [
              0.1111111111111111,
              "#46039f"
             ],
             [
              0.2222222222222222,
              "#7201a8"
             ],
             [
              0.3333333333333333,
              "#9c179e"
             ],
             [
              0.4444444444444444,
              "#bd3786"
             ],
             [
              0.5555555555555556,
              "#d8576b"
             ],
             [
              0.6666666666666666,
              "#ed7953"
             ],
             [
              0.7777777777777778,
              "#fb9f3a"
             ],
             [
              0.8888888888888888,
              "#fdca26"
             ],
             [
              1,
              "#f0f921"
             ]
            ],
            "type": "surface"
           }
          ],
          "table": [
           {
            "cells": {
             "fill": {
              "color": "#EBF0F8"
             },
             "line": {
              "color": "white"
             }
            },
            "header": {
             "fill": {
              "color": "#C8D4E3"
             },
             "line": {
              "color": "white"
             }
            },
            "type": "table"
           }
          ]
         },
         "layout": {
          "annotationdefaults": {
           "arrowcolor": "#2a3f5f",
           "arrowhead": 0,
           "arrowwidth": 1
          },
          "autotypenumbers": "strict",
          "coloraxis": {
           "colorbar": {
            "outlinewidth": 0,
            "ticks": ""
           }
          },
          "colorscale": {
           "diverging": [
            [
             0,
             "#8e0152"
            ],
            [
             0.1,
             "#c51b7d"
            ],
            [
             0.2,
             "#de77ae"
            ],
            [
             0.3,
             "#f1b6da"
            ],
            [
             0.4,
             "#fde0ef"
            ],
            [
             0.5,
             "#f7f7f7"
            ],
            [
             0.6,
             "#e6f5d0"
            ],
            [
             0.7,
             "#b8e186"
            ],
            [
             0.8,
             "#7fbc41"
            ],
            [
             0.9,
             "#4d9221"
            ],
            [
             1,
             "#276419"
            ]
           ],
           "sequential": [
            [
             0,
             "#0d0887"
            ],
            [
             0.1111111111111111,
             "#46039f"
            ],
            [
             0.2222222222222222,
             "#7201a8"
            ],
            [
             0.3333333333333333,
             "#9c179e"
            ],
            [
             0.4444444444444444,
             "#bd3786"
            ],
            [
             0.5555555555555556,
             "#d8576b"
            ],
            [
             0.6666666666666666,
             "#ed7953"
            ],
            [
             0.7777777777777778,
             "#fb9f3a"
            ],
            [
             0.8888888888888888,
             "#fdca26"
            ],
            [
             1,
             "#f0f921"
            ]
           ],
           "sequentialminus": [
            [
             0,
             "#0d0887"
            ],
            [
             0.1111111111111111,
             "#46039f"
            ],
            [
             0.2222222222222222,
             "#7201a8"
            ],
            [
             0.3333333333333333,
             "#9c179e"
            ],
            [
             0.4444444444444444,
             "#bd3786"
            ],
            [
             0.5555555555555556,
             "#d8576b"
            ],
            [
             0.6666666666666666,
             "#ed7953"
            ],
            [
             0.7777777777777778,
             "#fb9f3a"
            ],
            [
             0.8888888888888888,
             "#fdca26"
            ],
            [
             1,
             "#f0f921"
            ]
           ]
          },
          "colorway": [
           "#636efa",
           "#EF553B",
           "#00cc96",
           "#ab63fa",
           "#FFA15A",
           "#19d3f3",
           "#FF6692",
           "#B6E880",
           "#FF97FF",
           "#FECB52"
          ],
          "font": {
           "color": "#2a3f5f"
          },
          "geo": {
           "bgcolor": "white",
           "lakecolor": "white",
           "landcolor": "#E5ECF6",
           "showlakes": true,
           "showland": true,
           "subunitcolor": "white"
          },
          "hoverlabel": {
           "align": "left"
          },
          "hovermode": "closest",
          "mapbox": {
           "style": "light"
          },
          "paper_bgcolor": "white",
          "plot_bgcolor": "#E5ECF6",
          "polar": {
           "angularaxis": {
            "gridcolor": "white",
            "linecolor": "white",
            "ticks": ""
           },
           "bgcolor": "#E5ECF6",
           "radialaxis": {
            "gridcolor": "white",
            "linecolor": "white",
            "ticks": ""
           }
          },
          "scene": {
           "xaxis": {
            "backgroundcolor": "#E5ECF6",
            "gridcolor": "white",
            "gridwidth": 2,
            "linecolor": "white",
            "showbackground": true,
            "ticks": "",
            "zerolinecolor": "white"
           },
           "yaxis": {
            "backgroundcolor": "#E5ECF6",
            "gridcolor": "white",
            "gridwidth": 2,
            "linecolor": "white",
            "showbackground": true,
            "ticks": "",
            "zerolinecolor": "white"
           },
           "zaxis": {
            "backgroundcolor": "#E5ECF6",
            "gridcolor": "white",
            "gridwidth": 2,
            "linecolor": "white",
            "showbackground": true,
            "ticks": "",
            "zerolinecolor": "white"
           }
          },
          "shapedefaults": {
           "line": {
            "color": "#2a3f5f"
           }
          },
          "ternary": {
           "aaxis": {
            "gridcolor": "white",
            "linecolor": "white",
            "ticks": ""
           },
           "baxis": {
            "gridcolor": "white",
            "linecolor": "white",
            "ticks": ""
           },
           "bgcolor": "#E5ECF6",
           "caxis": {
            "gridcolor": "white",
            "linecolor": "white",
            "ticks": ""
           }
          },
          "title": {
           "x": 0.05
          },
          "xaxis": {
           "automargin": true,
           "gridcolor": "white",
           "linecolor": "white",
           "ticks": "",
           "title": {
            "standoff": 15
           },
           "zerolinecolor": "white",
           "zerolinewidth": 2
          },
          "yaxis": {
           "automargin": true,
           "gridcolor": "white",
           "linecolor": "white",
           "ticks": "",
           "title": {
            "standoff": 15
           },
           "zerolinecolor": "white",
           "zerolinewidth": 2
          }
         }
        },
        "xaxis": {
         "anchor": "y",
         "domain": [
          0,
          1
         ]
        },
        "yaxis": {
         "anchor": "x",
         "domain": [
          0,
          1
         ]
        }
       }
      }
     },
     "metadata": {},
     "output_type": "display_data"
    },
    {
     "ename": "KeyError",
     "evalue": "'unit_8'",
     "output_type": "error",
     "traceback": [
      "\u001b[0;31m---------------------------------------------------------------------------\u001b[0m",
      "\u001b[0;31mKeyError\u001b[0m                                  Traceback (most recent call last)",
      "Cell \u001b[0;32mIn[88], line 15\u001b[0m\n\u001b[1;32m     13\u001b[0m img \u001b[38;5;241m=\u001b[39m env\u001b[38;5;241m.\u001b[39mrender(\u001b[38;5;124m\"\u001b[39m\u001b[38;5;124mrgb_array\u001b[39m\u001b[38;5;124m\"\u001b[39m, width\u001b[38;5;241m=\u001b[39m\u001b[38;5;241m48\u001b[39m, height\u001b[38;5;241m=\u001b[39m\u001b[38;5;241m48\u001b[39m)\n\u001b[1;32m     14\u001b[0m px\u001b[38;5;241m.\u001b[39mimshow(img)\u001b[38;5;241m.\u001b[39mshow()\n\u001b[0;32m---> 15\u001b[0m \u001b[43mlux_functions\u001b[49m\u001b[38;5;241;43m.\u001b[39;49m\u001b[43minteract\u001b[49m\u001b[43m(\u001b[49m\u001b[43menv\u001b[49m\u001b[38;5;241;43m=\u001b[39;49m\u001b[43menv\u001b[49m\u001b[43m,\u001b[49m\u001b[43m \u001b[49m\u001b[43magents\u001b[49m\u001b[38;5;241;43m=\u001b[39;49m\u001b[43magents\u001b[49m\u001b[43m,\u001b[49m\u001b[43m \u001b[49m\u001b[43msteps\u001b[49m\u001b[38;5;241;43m=\u001b[39;49m\u001b[38;5;241;43m1000\u001b[39;49m\u001b[43m,\u001b[49m\u001b[43m \u001b[49m\u001b[43mvideo\u001b[49m\u001b[38;5;241;43m=\u001b[39;49m\u001b[38;5;28;43;01mTrue\u001b[39;49;00m\u001b[43m)\u001b[49m\n",
      "File \u001b[0;32m~/Documents/LuxAI-S2/lux_functions.py:59\u001b[0m, in \u001b[0;36minteract\u001b[0;34m(env, agents, steps, video)\u001b[0m\n\u001b[1;32m     57\u001b[0m \u001b[39mfor\u001b[39;00m player \u001b[39min\u001b[39;00m env\u001b[39m.\u001b[39magents:\n\u001b[1;32m     58\u001b[0m     o \u001b[39m=\u001b[39m obs[player]\n\u001b[0;32m---> 59\u001b[0m     a \u001b[39m=\u001b[39m agents[player]\u001b[39m.\u001b[39;49mact(step, o)\n\u001b[1;32m     60\u001b[0m     actions[player] \u001b[39m=\u001b[39m a\n\u001b[1;32m     61\u001b[0m step \u001b[39m+\u001b[39m\u001b[39m=\u001b[39m \u001b[39m1\u001b[39m\n",
      "Cell \u001b[0;32mIn[87], line 625\u001b[0m, in \u001b[0;36mArchimedes_Lever.act\u001b[0;34m(self, step, obs, remainingOverageTime)\u001b[0m\n\u001b[1;32m    623\u001b[0m closest_factory_tile \u001b[38;5;241m=\u001b[39m \u001b[38;5;28msorted\u001b[39m(factory_tiles, key\u001b[38;5;241m=\u001b[39m\u001b[38;5;28;01mlambda\u001b[39;00m p: (p[\u001b[38;5;241m0\u001b[39m] \u001b[38;5;241m-\u001b[39m unit\u001b[38;5;241m.\u001b[39mpos[\u001b[38;5;241m0\u001b[39m])\u001b[38;5;241m*\u001b[39m\u001b[38;5;241m*\u001b[39m\u001b[38;5;241m2\u001b[39m \u001b[38;5;241m+\u001b[39m (p[\u001b[38;5;241m1\u001b[39m] \u001b[38;5;241m-\u001b[39m unit\u001b[38;5;241m.\u001b[39mpos[\u001b[38;5;241m1\u001b[39m])\u001b[38;5;241m*\u001b[39m\u001b[38;5;241m*\u001b[39m\u001b[38;5;241m2\u001b[39m )[\u001b[38;5;241m0\u001b[39m]\n\u001b[1;32m    624\u001b[0m closest_hostile_factory_tile \u001b[38;5;241m=\u001b[39m \u001b[38;5;28msorted\u001b[39m(hostile_factory_tiles, key\u001b[38;5;241m=\u001b[39m\u001b[38;5;28;01mlambda\u001b[39;00m p: \u001b[38;5;28mabs\u001b[39m(p[\u001b[38;5;241m0\u001b[39m] \u001b[38;5;241m-\u001b[39m unit\u001b[38;5;241m.\u001b[39mpos[\u001b[38;5;241m0\u001b[39m]) \u001b[38;5;241m+\u001b[39m \u001b[38;5;28mabs\u001b[39m(p[\u001b[38;5;241m1\u001b[39m] \u001b[38;5;241m-\u001b[39m unit\u001b[38;5;241m.\u001b[39mpos[\u001b[38;5;241m1\u001b[39m]) )[\u001b[38;5;241m0\u001b[39m]\n\u001b[0;32m--> 625\u001b[0m closest_ice_tile \u001b[38;5;241m=\u001b[39m \u001b[38;5;28;43msorted\u001b[39;49m\u001b[43m(\u001b[49m\u001b[43mice_tile_locations\u001b[49m\u001b[43m,\u001b[49m\u001b[43m \u001b[49m\u001b[43mkey\u001b[49m\u001b[38;5;241;43m=\u001b[39;49m\u001b[38;5;28;43;01mlambda\u001b[39;49;00m\u001b[43m \u001b[49m\u001b[43mp\u001b[49m\u001b[43m:\u001b[49m\u001b[43m \u001b[49m\u001b[43m(\u001b[49m\u001b[43mp\u001b[49m\u001b[43m[\u001b[49m\u001b[38;5;241;43m0\u001b[39;49m\u001b[43m]\u001b[49m\u001b[43m \u001b[49m\u001b[38;5;241;43m-\u001b[39;49m\u001b[43m \u001b[49m\u001b[38;5;28;43mself\u001b[39;49m\u001b[38;5;241;43m.\u001b[39;49m\u001b[43mhome_factory\u001b[49m\u001b[43m[\u001b[49m\u001b[43munit_id\u001b[49m\u001b[43m]\u001b[49m\u001b[43m[\u001b[49m\u001b[38;5;241;43m0\u001b[39;49m\u001b[43m]\u001b[49m\u001b[43m[\u001b[49m\u001b[38;5;241;43m0\u001b[39;49m\u001b[43m]\u001b[49m\u001b[43m)\u001b[49m\u001b[38;5;241;43m*\u001b[39;49m\u001b[38;5;241;43m*\u001b[39;49m\u001b[38;5;241;43m2\u001b[39;49m\u001b[43m \u001b[49m\u001b[38;5;241;43m+\u001b[39;49m\u001b[43m \u001b[49m\u001b[43m(\u001b[49m\u001b[43mp\u001b[49m\u001b[43m[\u001b[49m\u001b[38;5;241;43m1\u001b[39;49m\u001b[43m]\u001b[49m\u001b[43m \u001b[49m\u001b[38;5;241;43m-\u001b[39;49m\u001b[43m \u001b[49m\u001b[38;5;28;43mself\u001b[39;49m\u001b[38;5;241;43m.\u001b[39;49m\u001b[43mhome_factory\u001b[49m\u001b[43m[\u001b[49m\u001b[43munit_id\u001b[49m\u001b[43m]\u001b[49m\u001b[43m[\u001b[49m\u001b[38;5;241;43m0\u001b[39;49m\u001b[43m]\u001b[49m\u001b[43m[\u001b[49m\u001b[38;5;241;43m1\u001b[39;49m\u001b[43m]\u001b[49m\u001b[43m)\u001b[49m\u001b[38;5;241;43m*\u001b[39;49m\u001b[38;5;241;43m*\u001b[39;49m\u001b[38;5;241;43m2\u001b[39;49m\u001b[43m \u001b[49m\u001b[43m)\u001b[49m[\u001b[38;5;241m0\u001b[39m]\n\u001b[1;32m    627\u001b[0m cargo_limit_ice \u001b[38;5;241m=\u001b[39m \u001b[38;5;241m960\u001b[39m\n\u001b[1;32m    628\u001b[0m on_factory \u001b[38;5;241m=\u001b[39m \u001b[38;5;28mall\u001b[39m(unit\u001b[38;5;241m.\u001b[39mpos \u001b[38;5;241m==\u001b[39m closest_factory_tile)\n",
      "Cell \u001b[0;32mIn[87], line 625\u001b[0m, in \u001b[0;36mArchimedes_Lever.act.<locals>.<lambda>\u001b[0;34m(p)\u001b[0m\n\u001b[1;32m    623\u001b[0m closest_factory_tile \u001b[38;5;241m=\u001b[39m \u001b[38;5;28msorted\u001b[39m(factory_tiles, key\u001b[38;5;241m=\u001b[39m\u001b[38;5;28;01mlambda\u001b[39;00m p: (p[\u001b[38;5;241m0\u001b[39m] \u001b[38;5;241m-\u001b[39m unit\u001b[38;5;241m.\u001b[39mpos[\u001b[38;5;241m0\u001b[39m])\u001b[38;5;241m*\u001b[39m\u001b[38;5;241m*\u001b[39m\u001b[38;5;241m2\u001b[39m \u001b[38;5;241m+\u001b[39m (p[\u001b[38;5;241m1\u001b[39m] \u001b[38;5;241m-\u001b[39m unit\u001b[38;5;241m.\u001b[39mpos[\u001b[38;5;241m1\u001b[39m])\u001b[38;5;241m*\u001b[39m\u001b[38;5;241m*\u001b[39m\u001b[38;5;241m2\u001b[39m )[\u001b[38;5;241m0\u001b[39m]\n\u001b[1;32m    624\u001b[0m closest_hostile_factory_tile \u001b[38;5;241m=\u001b[39m \u001b[38;5;28msorted\u001b[39m(hostile_factory_tiles, key\u001b[38;5;241m=\u001b[39m\u001b[38;5;28;01mlambda\u001b[39;00m p: \u001b[38;5;28mabs\u001b[39m(p[\u001b[38;5;241m0\u001b[39m] \u001b[38;5;241m-\u001b[39m unit\u001b[38;5;241m.\u001b[39mpos[\u001b[38;5;241m0\u001b[39m]) \u001b[38;5;241m+\u001b[39m \u001b[38;5;28mabs\u001b[39m(p[\u001b[38;5;241m1\u001b[39m] \u001b[38;5;241m-\u001b[39m unit\u001b[38;5;241m.\u001b[39mpos[\u001b[38;5;241m1\u001b[39m]) )[\u001b[38;5;241m0\u001b[39m]\n\u001b[0;32m--> 625\u001b[0m closest_ice_tile \u001b[38;5;241m=\u001b[39m \u001b[38;5;28msorted\u001b[39m(ice_tile_locations, key\u001b[38;5;241m=\u001b[39m\u001b[38;5;28;01mlambda\u001b[39;00m p: (p[\u001b[38;5;241m0\u001b[39m] \u001b[38;5;241m-\u001b[39m \u001b[38;5;28;43mself\u001b[39;49m\u001b[38;5;241;43m.\u001b[39;49m\u001b[43mhome_factory\u001b[49m\u001b[43m[\u001b[49m\u001b[43munit_id\u001b[49m\u001b[43m]\u001b[49m[\u001b[38;5;241m0\u001b[39m][\u001b[38;5;241m0\u001b[39m])\u001b[38;5;241m*\u001b[39m\u001b[38;5;241m*\u001b[39m\u001b[38;5;241m2\u001b[39m \u001b[38;5;241m+\u001b[39m (p[\u001b[38;5;241m1\u001b[39m] \u001b[38;5;241m-\u001b[39m \u001b[38;5;28mself\u001b[39m\u001b[38;5;241m.\u001b[39mhome_factory[unit_id][\u001b[38;5;241m0\u001b[39m][\u001b[38;5;241m1\u001b[39m])\u001b[38;5;241m*\u001b[39m\u001b[38;5;241m*\u001b[39m\u001b[38;5;241m2\u001b[39m )[\u001b[38;5;241m0\u001b[39m]\n\u001b[1;32m    627\u001b[0m cargo_limit_ice \u001b[38;5;241m=\u001b[39m \u001b[38;5;241m960\u001b[39m\n\u001b[1;32m    628\u001b[0m on_factory \u001b[38;5;241m=\u001b[39m \u001b[38;5;28mall\u001b[39m(unit\u001b[38;5;241m.\u001b[39mpos \u001b[38;5;241m==\u001b[39m closest_factory_tile)\n",
      "\u001b[0;31mKeyError\u001b[0m: 'unit_8'"
     ]
    }
   ],
   "source": [
    "# imports from support files with class and functions\n",
    "from Test_agents import submission_8_agent\n",
    "import lux_functions\n",
    "\n",
    "# recreate our agents and run\n",
    "player0 = env.agents[0]\n",
    "player1 = env.agents[1]\n",
    "agents = {\n",
    "    player0: Archimedes_Lever(env.agents[0], env.state.env_cfg), \n",
    "    player1: submission_8_agent.Archimedes_Lever_s(env.agents[1], env.state.env_cfg)\n",
    "    #player1: default_agent.Default_Agent(env.agents[1], env.state.env_cfg)\n",
    "}\n",
    "img = env.render(\"rgb_array\", width=48, height=48)\n",
    "px.imshow(img).show()\n",
    "lux_functions.interact(env=env, agents=agents, steps=1000, video=True)"
   ]
  },
  {
   "cell_type": "code",
   "execution_count": 78,
   "metadata": {},
   "outputs": [
    {
     "name": "stdout",
     "output_type": "stream",
     "text": [
      "[('player_0', 11638), ('player_1', 27543), ('p0 % performance:', 0.4225393021820426), ('p0-p1 lichen difference:', -15905), ('map seed:', 1532044219)]\n",
      "[('player_0', 16895), ('player_1', 22041), ('p0 % performance:', 0.7665260196905767), ('p0-p1 lichen difference:', -5146), ('map seed:', 2175335875)]\n",
      "[('player_0', 29955), ('player_1', 37673), ('p0 % performance:', 0.7951317919995753), ('p0-p1 lichen difference:', -7718), ('map seed:', 4083380779)]\n",
      "[('player_0', 21936), ('player_1', 26163), ('p0 % performance:', 0.8384359591789933), ('p0-p1 lichen difference:', -4227), ('map seed:', 2100664903)]\n",
      "[('player_0', 9224), ('player_1', 10608), ('p0 % performance:', 0.8695324283559578), ('p0-p1 lichen difference:', -1384), ('map seed:', 3329194918)]\n",
      "[('player_0', 24162), ('player_1', 26789), ('p0 % performance:', 0.9019373623502184), ('p0-p1 lichen difference:', -2627), ('map seed:', 72685428)]\n",
      "[('player_0', 33230), ('player_1', 36408), ('p0 % performance:', 0.9127114919797846), ('p0-p1 lichen difference:', -3178), ('map seed:', 380194794)]\n",
      "[('player_0', 10501), ('player_1', 10670), ('p0 % performance:', 0.9841611996251172), ('p0-p1 lichen difference:', -169), ('map seed:', 920396932)]\n",
      "[('player_0', 24649), ('player_1', 24683), ('p0 % performance:', 0.9986225337276669), ('p0-p1 lichen difference:', -34), ('map seed:', 3185131537)]\n",
      "[('player_0', 20965), ('player_1', 20213), ('p0 % performance:', 1.037203779745708), ('p0-p1 lichen difference:', 752), ('map seed:', 1844949823)]\n",
      "[('player_0', 29639), ('player_1', 27566), ('p0 % performance:', 1.0752013349778713), ('p0-p1 lichen difference:', 2073), ('map seed:', 3493913136)]\n",
      "[('player_0', 23413), ('player_1', 21543), ('p0 % performance:', 1.086803137910226), ('p0-p1 lichen difference:', 1870), ('map seed:', 44246283)]\n",
      "[('player_0', 32598), ('player_1', 29620), ('p0 % performance:', 1.100540175557056), ('p0-p1 lichen difference:', 2978), ('map seed:', 3573772558)]\n",
      "[('player_0', 43692), ('player_1', 39348), ('p0 % performance:', 1.1103995120463557), ('p0-p1 lichen difference:', 4344), ('map seed:', 2031611240)]\n",
      "[('player_0', 34996), ('player_1', 26930), ('p0 % performance:', 1.2995172669884887), ('p0-p1 lichen difference:', 8066), ('map seed:', 3243051665)]\n",
      "[('player_0', 30848), ('player_1', 23269), ('p0 % performance:', 1.3257123211139283), ('p0-p1 lichen difference:', 7579), ('map seed:', 1801124005)]\n",
      "[('player_0', 34842), ('player_1', 24856), ('p0 % performance:', 1.4017541036369487), ('p0-p1 lichen difference:', 9986), ('map seed:', 1159017948)]\n",
      "[('player_0', 40541), ('player_1', 27180), ('p0 % performance:', 1.4915746872700515), ('p0-p1 lichen difference:', 13361), ('map seed:', 964868752)]\n",
      "[('player_0', 31038), ('player_1', 20217), ('p0 % performance:', 1.5352426175990503), ('p0-p1 lichen difference:', 10821), ('map seed:', 303001387)]\n",
      "[('player_0', 49340), ('player_1', 25240), ('p0 % performance:', 1.9548335974643423), ('p0-p1 lichen difference:', 24100), ('map seed:', 3768122899)]\n"
     ]
    }
   ],
   "source": [
    "### AGENT TESTING\n",
    "from Test_agents import submission_8_agent\n",
    "import default_agent\n",
    "import lux_functions\n",
    "\n",
    "tests = 20\n",
    "results = []\n",
    "for t in range(tests):\n",
    "    test_env = LuxAI_S2() # create the environment object\n",
    "    test_obs = test_env.reset(seed=np.random.seed()) # resets an environment with a seed\n",
    "\n",
    "    # recreate our agents and run\n",
    "    player0 = test_env.agents[0]\n",
    "    player1 = test_env.agents[1]\n",
    "    agents = {\n",
    "        player0: Archimedes_Lever(test_env.agents[0], test_env.state.env_cfg), \n",
    "        player1: submission_8_agent.Archimedes_Lever_s(test_env.agents[1], test_env.state.env_cfg)\n",
    "        #player1: default_agent.Default_Agent(test_env.agents[1], test_env.state.env_cfg)\n",
    "    }\n",
    "    # UNCOMMENT IF MAPS SHOULD BE VISUALIZED\n",
    "    '''\n",
    "    img = test_env.render(\"rgb_array\", width=48, height=48)\n",
    "    px.imshow(img).show()\n",
    "    '''\n",
    "    test_results = lux_functions.test_agents(env=test_env, agents=agents, steps=1000)\n",
    "    results.append(test_results)\n",
    "    del test_env\n",
    "    del test_obs\n",
    "\n",
    "# displays tests results sorted by performance difference\n",
    "for result in sorted(results, key=lambda test: test[2][1]):\n",
    "    print(result)"
   ]
  },
  {
   "cell_type": "code",
   "execution_count": 27,
   "metadata": {},
   "outputs": [
    {
     "data": {
      "application/vnd.plotly.v1+json": {
       "config": {
        "plotlyServerURL": "https://plot.ly"
       },
       "data": [
        {
         "hovertemplate": "x: %{x}<br>y: %{y}<br>color: [%{z[0]}, %{z[1]}, %{z[2]}]<extra></extra>",
         "name": "0",
         "source": "data:image/png;base64,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",
         "type": "image",
         "xaxis": "x",
         "yaxis": "y"
        }
       ],
       "layout": {
        "margin": {
         "t": 60
        },
        "template": {
         "data": {
          "bar": [
           {
            "error_x": {
             "color": "#2a3f5f"
            },
            "error_y": {
             "color": "#2a3f5f"
            },
            "marker": {
             "line": {
              "color": "#E5ECF6",
              "width": 0.5
             },
             "pattern": {
              "fillmode": "overlay",
              "size": 10,
              "solidity": 0.2
             }
            },
            "type": "bar"
           }
          ],
          "barpolar": [
           {
            "marker": {
             "line": {
              "color": "#E5ECF6",
              "width": 0.5
             },
             "pattern": {
              "fillmode": "overlay",
              "size": 10,
              "solidity": 0.2
             }
            },
            "type": "barpolar"
           }
          ],
          "carpet": [
           {
            "aaxis": {
             "endlinecolor": "#2a3f5f",
             "gridcolor": "white",
             "linecolor": "white",
             "minorgridcolor": "white",
             "startlinecolor": "#2a3f5f"
            },
            "baxis": {
             "endlinecolor": "#2a3f5f",
             "gridcolor": "white",
             "linecolor": "white",
             "minorgridcolor": "white",
             "startlinecolor": "#2a3f5f"
            },
            "type": "carpet"
           }
          ],
          "choropleth": [
           {
            "colorbar": {
             "outlinewidth": 0,
             "ticks": ""
            },
            "type": "choropleth"
           }
          ],
          "contour": [
           {
            "colorbar": {
             "outlinewidth": 0,
             "ticks": ""
            },
            "colorscale": [
             [
              0,
              "#0d0887"
             ],
             [
              0.1111111111111111,
              "#46039f"
             ],
             [
              0.2222222222222222,
              "#7201a8"
             ],
             [
              0.3333333333333333,
              "#9c179e"
             ],
             [
              0.4444444444444444,
              "#bd3786"
             ],
             [
              0.5555555555555556,
              "#d8576b"
             ],
             [
              0.6666666666666666,
              "#ed7953"
             ],
             [
              0.7777777777777778,
              "#fb9f3a"
             ],
             [
              0.8888888888888888,
              "#fdca26"
             ],
             [
              1,
              "#f0f921"
             ]
            ],
            "type": "contour"
           }
          ],
          "contourcarpet": [
           {
            "colorbar": {
             "outlinewidth": 0,
             "ticks": ""
            },
            "type": "contourcarpet"
           }
          ],
          "heatmap": [
           {
            "colorbar": {
             "outlinewidth": 0,
             "ticks": ""
            },
            "colorscale": [
             [
              0,
              "#0d0887"
             ],
             [
              0.1111111111111111,
              "#46039f"
             ],
             [
              0.2222222222222222,
              "#7201a8"
             ],
             [
              0.3333333333333333,
              "#9c179e"
             ],
             [
              0.4444444444444444,
              "#bd3786"
             ],
             [
              0.5555555555555556,
              "#d8576b"
             ],
             [
              0.6666666666666666,
              "#ed7953"
             ],
             [
              0.7777777777777778,
              "#fb9f3a"
             ],
             [
              0.8888888888888888,
              "#fdca26"
             ],
             [
              1,
              "#f0f921"
             ]
            ],
            "type": "heatmap"
           }
          ],
          "heatmapgl": [
           {
            "colorbar": {
             "outlinewidth": 0,
             "ticks": ""
            },
            "colorscale": [
             [
              0,
              "#0d0887"
             ],
             [
              0.1111111111111111,
              "#46039f"
             ],
             [
              0.2222222222222222,
              "#7201a8"
             ],
             [
              0.3333333333333333,
              "#9c179e"
             ],
             [
              0.4444444444444444,
              "#bd3786"
             ],
             [
              0.5555555555555556,
              "#d8576b"
             ],
             [
              0.6666666666666666,
              "#ed7953"
             ],
             [
              0.7777777777777778,
              "#fb9f3a"
             ],
             [
              0.8888888888888888,
              "#fdca26"
             ],
             [
              1,
              "#f0f921"
             ]
            ],
            "type": "heatmapgl"
           }
          ],
          "histogram": [
           {
            "marker": {
             "pattern": {
              "fillmode": "overlay",
              "size": 10,
              "solidity": 0.2
             }
            },
            "type": "histogram"
           }
          ],
          "histogram2d": [
           {
            "colorbar": {
             "outlinewidth": 0,
             "ticks": ""
            },
            "colorscale": [
             [
              0,
              "#0d0887"
             ],
             [
              0.1111111111111111,
              "#46039f"
             ],
             [
              0.2222222222222222,
              "#7201a8"
             ],
             [
              0.3333333333333333,
              "#9c179e"
             ],
             [
              0.4444444444444444,
              "#bd3786"
             ],
             [
              0.5555555555555556,
              "#d8576b"
             ],
             [
              0.6666666666666666,
              "#ed7953"
             ],
             [
              0.7777777777777778,
              "#fb9f3a"
             ],
             [
              0.8888888888888888,
              "#fdca26"
             ],
             [
              1,
              "#f0f921"
             ]
            ],
            "type": "histogram2d"
           }
          ],
          "histogram2dcontour": [
           {
            "colorbar": {
             "outlinewidth": 0,
             "ticks": ""
            },
            "colorscale": [
             [
              0,
              "#0d0887"
             ],
             [
              0.1111111111111111,
              "#46039f"
             ],
             [
              0.2222222222222222,
              "#7201a8"
             ],
             [
              0.3333333333333333,
              "#9c179e"
             ],
             [
              0.4444444444444444,
              "#bd3786"
             ],
             [
              0.5555555555555556,
              "#d8576b"
             ],
             [
              0.6666666666666666,
              "#ed7953"
             ],
             [
              0.7777777777777778,
              "#fb9f3a"
             ],
             [
              0.8888888888888888,
              "#fdca26"
             ],
             [
              1,
              "#f0f921"
             ]
            ],
            "type": "histogram2dcontour"
           }
          ],
          "mesh3d": [
           {
            "colorbar": {
             "outlinewidth": 0,
             "ticks": ""
            },
            "type": "mesh3d"
           }
          ],
          "parcoords": [
           {
            "line": {
             "colorbar": {
              "outlinewidth": 0,
              "ticks": ""
             }
            },
            "type": "parcoords"
           }
          ],
          "pie": [
           {
            "automargin": true,
            "type": "pie"
           }
          ],
          "scatter": [
           {
            "fillpattern": {
             "fillmode": "overlay",
             "size": 10,
             "solidity": 0.2
            },
            "type": "scatter"
           }
          ],
          "scatter3d": [
           {
            "line": {
             "colorbar": {
              "outlinewidth": 0,
              "ticks": ""
             }
            },
            "marker": {
             "colorbar": {
              "outlinewidth": 0,
              "ticks": ""
             }
            },
            "type": "scatter3d"
           }
          ],
          "scattercarpet": [
           {
            "marker": {
             "colorbar": {
              "outlinewidth": 0,
              "ticks": ""
             }
            },
            "type": "scattercarpet"
           }
          ],
          "scattergeo": [
           {
            "marker": {
             "colorbar": {
              "outlinewidth": 0,
              "ticks": ""
             }
            },
            "type": "scattergeo"
           }
          ],
          "scattergl": [
           {
            "marker": {
             "colorbar": {
              "outlinewidth": 0,
              "ticks": ""
             }
            },
            "type": "scattergl"
           }
          ],
          "scattermapbox": [
           {
            "marker": {
             "colorbar": {
              "outlinewidth": 0,
              "ticks": ""
             }
            },
            "type": "scattermapbox"
           }
          ],
          "scatterpolar": [
           {
            "marker": {
             "colorbar": {
              "outlinewidth": 0,
              "ticks": ""
             }
            },
            "type": "scatterpolar"
           }
          ],
          "scatterpolargl": [
           {
            "marker": {
             "colorbar": {
              "outlinewidth": 0,
              "ticks": ""
             }
            },
            "type": "scatterpolargl"
           }
          ],
          "scatterternary": [
           {
            "marker": {
             "colorbar": {
              "outlinewidth": 0,
              "ticks": ""
             }
            },
            "type": "scatterternary"
           }
          ],
          "surface": [
           {
            "colorbar": {
             "outlinewidth": 0,
             "ticks": ""
            },
            "colorscale": [
             [
              0,
              "#0d0887"
             ],
             [
              0.1111111111111111,
              "#46039f"
             ],
             [
              0.2222222222222222,
              "#7201a8"
             ],
             [
              0.3333333333333333,
              "#9c179e"
             ],
             [
              0.4444444444444444,
              "#bd3786"
             ],
             [
              0.5555555555555556,
              "#d8576b"
             ],
             [
              0.6666666666666666,
              "#ed7953"
             ],
             [
              0.7777777777777778,
              "#fb9f3a"
             ],
             [
              0.8888888888888888,
              "#fdca26"
             ],
             [
              1,
              "#f0f921"
             ]
            ],
            "type": "surface"
           }
          ],
          "table": [
           {
            "cells": {
             "fill": {
              "color": "#EBF0F8"
             },
             "line": {
              "color": "white"
             }
            },
            "header": {
             "fill": {
              "color": "#C8D4E3"
             },
             "line": {
              "color": "white"
             }
            },
            "type": "table"
           }
          ]
         },
         "layout": {
          "annotationdefaults": {
           "arrowcolor": "#2a3f5f",
           "arrowhead": 0,
           "arrowwidth": 1
          },
          "autotypenumbers": "strict",
          "coloraxis": {
           "colorbar": {
            "outlinewidth": 0,
            "ticks": ""
           }
          },
          "colorscale": {
           "diverging": [
            [
             0,
             "#8e0152"
            ],
            [
             0.1,
             "#c51b7d"
            ],
            [
             0.2,
             "#de77ae"
            ],
            [
             0.3,
             "#f1b6da"
            ],
            [
             0.4,
             "#fde0ef"
            ],
            [
             0.5,
             "#f7f7f7"
            ],
            [
             0.6,
             "#e6f5d0"
            ],
            [
             0.7,
             "#b8e186"
            ],
            [
             0.8,
             "#7fbc41"
            ],
            [
             0.9,
             "#4d9221"
            ],
            [
             1,
             "#276419"
            ]
           ],
           "sequential": [
            [
             0,
             "#0d0887"
            ],
            [
             0.1111111111111111,
             "#46039f"
            ],
            [
             0.2222222222222222,
             "#7201a8"
            ],
            [
             0.3333333333333333,
             "#9c179e"
            ],
            [
             0.4444444444444444,
             "#bd3786"
            ],
            [
             0.5555555555555556,
             "#d8576b"
            ],
            [
             0.6666666666666666,
             "#ed7953"
            ],
            [
             0.7777777777777778,
             "#fb9f3a"
            ],
            [
             0.8888888888888888,
             "#fdca26"
            ],
            [
             1,
             "#f0f921"
            ]
           ],
           "sequentialminus": [
            [
             0,
             "#0d0887"
            ],
            [
             0.1111111111111111,
             "#46039f"
            ],
            [
             0.2222222222222222,
             "#7201a8"
            ],
            [
             0.3333333333333333,
             "#9c179e"
            ],
            [
             0.4444444444444444,
             "#bd3786"
            ],
            [
             0.5555555555555556,
             "#d8576b"
            ],
            [
             0.6666666666666666,
             "#ed7953"
            ],
            [
             0.7777777777777778,
             "#fb9f3a"
            ],
            [
             0.8888888888888888,
             "#fdca26"
            ],
            [
             1,
             "#f0f921"
            ]
           ]
          },
          "colorway": [
           "#636efa",
           "#EF553B",
           "#00cc96",
           "#ab63fa",
           "#FFA15A",
           "#19d3f3",
           "#FF6692",
           "#B6E880",
           "#FF97FF",
           "#FECB52"
          ],
          "font": {
           "color": "#2a3f5f"
          },
          "geo": {
           "bgcolor": "white",
           "lakecolor": "white",
           "landcolor": "#E5ECF6",
           "showlakes": true,
           "showland": true,
           "subunitcolor": "white"
          },
          "hoverlabel": {
           "align": "left"
          },
          "hovermode": "closest",
          "mapbox": {
           "style": "light"
          },
          "paper_bgcolor": "white",
          "plot_bgcolor": "#E5ECF6",
          "polar": {
           "angularaxis": {
            "gridcolor": "white",
            "linecolor": "white",
            "ticks": ""
           },
           "bgcolor": "#E5ECF6",
           "radialaxis": {
            "gridcolor": "white",
            "linecolor": "white",
            "ticks": ""
           }
          },
          "scene": {
           "xaxis": {
            "backgroundcolor": "#E5ECF6",
            "gridcolor": "white",
            "gridwidth": 2,
            "linecolor": "white",
            "showbackground": true,
            "ticks": "",
            "zerolinecolor": "white"
           },
           "yaxis": {
            "backgroundcolor": "#E5ECF6",
            "gridcolor": "white",
            "gridwidth": 2,
            "linecolor": "white",
            "showbackground": true,
            "ticks": "",
            "zerolinecolor": "white"
           },
           "zaxis": {
            "backgroundcolor": "#E5ECF6",
            "gridcolor": "white",
            "gridwidth": 2,
            "linecolor": "white",
            "showbackground": true,
            "ticks": "",
            "zerolinecolor": "white"
           }
          },
          "shapedefaults": {
           "line": {
            "color": "#2a3f5f"
           }
          },
          "ternary": {
           "aaxis": {
            "gridcolor": "white",
            "linecolor": "white",
            "ticks": ""
           },
           "baxis": {
            "gridcolor": "white",
            "linecolor": "white",
            "ticks": ""
           },
           "bgcolor": "#E5ECF6",
           "caxis": {
            "gridcolor": "white",
            "linecolor": "white",
            "ticks": ""
           }
          },
          "title": {
           "x": 0.05
          },
          "xaxis": {
           "automargin": true,
           "gridcolor": "white",
           "linecolor": "white",
           "ticks": "",
           "title": {
            "standoff": 15
           },
           "zerolinecolor": "white",
           "zerolinewidth": 2
          },
          "yaxis": {
           "automargin": true,
           "gridcolor": "white",
           "linecolor": "white",
           "ticks": "",
           "title": {
            "standoff": 15
           },
           "zerolinecolor": "white",
           "zerolinewidth": 2
          }
         }
        },
        "xaxis": {
         "anchor": "y",
         "domain": [
          0,
          1
         ]
        },
        "yaxis": {
         "anchor": "x",
         "domain": [
          0,
          1
         ]
        }
       }
      }
     },
     "metadata": {},
     "output_type": "display_data"
    }
   ],
   "source": [
    "# map viewer for analysis of poor performance tests\n",
    "view_seed = 4114348658\n",
    "view_env = LuxAI_S2()\n",
    "view_obs = view_env.reset(seed=view_seed)\n",
    "view_image = view_env.render(\"rgb_array\", width=48, height=48)\n",
    "px.imshow(view_image).show()"
   ]
  },
  {
   "cell_type": "code",
   "execution_count": null,
   "metadata": {},
   "outputs": [],
   "source": [
    "#!luxai-s2 archimedes_main.py main.py -v 2 -s 101 -o replay.html\n",
    "#!tar -czf submission.tar.gz *"
   ]
  }
 ],
 "metadata": {
  "kernelspec": {
   "display_name": "Python 3.10.0 64-bit",
   "language": "python",
   "name": "python3"
  },
  "language_info": {
   "codemirror_mode": {
    "name": "ipython",
    "version": 3
   },
   "file_extension": ".py",
   "mimetype": "text/x-python",
   "name": "python",
   "nbconvert_exporter": "python",
   "pygments_lexer": "ipython3",
   "version": "3.10.0"
  },
  "orig_nbformat": 4,
  "vscode": {
   "interpreter": {
    "hash": "aee8b7b246df8f9039afb4144a1f6fd8d2ca17a180786b69acc140d282b71a49"
   }
  }
 },
 "nbformat": 4,
 "nbformat_minor": 2
}
