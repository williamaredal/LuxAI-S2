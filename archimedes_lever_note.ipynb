{
 "cells": [
  {
   "cell_type": "code",
   "execution_count": null,
   "metadata": {},
   "outputs": [],
   "source": [
    "# In case of import requirements\n",
    "# verify version\n",
    "!python3 --version\n",
    "!pip install --upgrade luxai_s2\n",
    "!pip install importlib-metadata==4.13.0\n",
    "!pip install --upgrade moviepy # needed to render videos of episodes"
   ]
  },
  {
   "cell_type": "code",
   "execution_count": 8,
   "metadata": {},
   "outputs": [],
   "source": [
    "from luxai_s2.env import LuxAI_S2\n",
    "from lux.kit import obs_to_game_state, GameState, EnvConfig\n",
    "from lux.utils import my_turn_to_place_factory, direction_to \n",
    "import matplotlib.pyplot as plt\n",
    "import numpy as np\n",
    "import plotly.express as px\n",
    "import random\n",
    "import math\n",
    "import cv2"
   ]
  },
  {
   "cell_type": "code",
   "execution_count": null,
   "metadata": {},
   "outputs": [],
   "source": [
    "# Create excel spreadsheets to look at strategies for when to start producing lichen to find weather its more optimal to\n",
    "#      continually grow lichen, or to hoard water until a certain turn (depending on water gathered?) and mass produce lichen then\n",
    "# [X] Made graphs and have found good enough growth estimates with tables for further estimation if necessary.\n",
    "# TODO Update files in repo, or move agent files to new repo. Basically move from beta to season 2.\n",
    "# [X]\n",
    "# TODO Clean up structure of notebook cells and segments of the algorithm to make it easier to find where what desicion is being made\n",
    "# [X]\n",
    "# TODO Make the agent place a factory right next to one ice tile\n",
    "# [X]\n",
    "# TODO Make the agent update its possible placing locations by removing coordinates around placed (friendly and foe) factory tiles\n",
    "# [X]\n",
    "# TODO Update the assignments to have n heavy bots on ice gathering just outside the factory, and some light for ore collection\n",
    "# [X]\n",
    "# TODO Observe the total ammount of water possible to gather with 1 heavy bot\n",
    "# [X]\n",
    "# TODO Fix ordering system so that heavies are assigned to ice tiles right by the factory for instant dropof and charging,\n",
    "#      and so that the bots are ordered to correct coordinates,\n",
    "#      and so that the return to factory scheduling works.\n",
    "# [X]\n",
    "# TODO Fix bug where only 4 out of 5 factories are built \n",
    "# [X]\n",
    "# TODO Fix placement of factories? So that all place near ice\n",
    "# [X]\n",
    "# TODO Fix bug where not every factory is watering lichen\n",
    "# [X]\n",
    "# TODO Optimize heavy bots ice collection, by increasing storage limit, and or tweaking their power level threshold\n",
    "# [X]\n",
    "# TODO Take second look at spawn selection functions as this might be running into \"overtime\" making me miss out on placing some crucial factories\n",
    "#      This can be reduced by looking at efficiency gains that can be made in the startup section\n",
    "# [X]\n",
    "# TODO Take second look at border coordinate function to fix it so that it removes first and second rows on all 4 sides\n",
    "# [X]\n",
    "# TODO, make selection of spawn points less random, by sorting for rubble value, and selecting first in list, not random\n",
    "# [X]\n",
    "# TODO Check if there is logic in heavy and light bots that can be merged to reduce complexity in logic? If not, make sure google sheet matricees\n",
    "#      are up to date\n",
    "# [X]\n",
    "# TODO Doing nothing equals recharging. Rewrite logic for light bots so that they do nothing instead of queueing 6 turn imobilizing recharge action.\n",
    "# [X]\n",
    "# TODO Heavy bot sometimes dont have enough power to move back to factory if there is one tile between ice tile being mined and factory\n",
    "# [X]\n",
    "# TODO Incorporate a sorting function for rubble tiles as well as proximity to the light bot (changed to factory tile with closest proximity to unit),\n",
    "#      this allows \"bootstrapping\" from start pos in factory\n",
    "# [X]\n",
    "# TODO Make function that gets the coordinates around factories with only rubble on, and assigns these tiles (by filtering for proximity) to light bots\n",
    "# [X]\n",
    "# TODO Take second look at non colision function. Also make ice tiles \"no go\" for lights.\n",
    "#      Function should be rewritten so that bot logic places \"tile bookings\" for where they want to go. \n",
    "#      If the booking is in the array of existing bookings, check opposite axis directions if in \"tile bookings\".\n",
    "#      If these are not in the np array, select that direction and return the direction.\n",
    "#      If doing nothing (recharging), place a booking for their current tile\n",
    "#\n",
    "#      This booking system should consist of a tuple of two np arrays, that indicate a vector for that unit.\n",
    "#      Start function by checking straight directions from bot pos, if not occupied, do final check if tile is in \"tile bookings\" array.\n",
    "#      This way diagonal directions can be accounted for, for friendly bots\n",
    "# [X]\n",
    "# TODO Add function that checks surrounding tiles for hostiles if on ice or factory tile, that affects behaviour of heavy bots (moves bot on hostile heavy bot on ajacent tile, ambush this bot by moving onto this tile)\n",
    "# [X]\n",
    "# TODO Develop formula for when to start watering to optimize so that factory water, and a variable (average water gathering from 1 heavy),\n",
    "#      find the optimal turn for beginning watering\n",
    "# [X]\n",
    "# TODO Make sure coords round factory tiles (2 layers) are clear of rubble\n",
    "# [X]\n",
    "# TODO Update spawn selection so that spawn rubble values are set to average rubble value for the 9 factory tiles and one tile around these.\n",
    "#      This allows selecting areas with lower rubble\n",
    "# [X]\n",
    "# TODO Make heavy bots more defensive, and move to factory tile if low on power (made overwatch decision more random for moving home)\n",
    "# [X]\n",
    "\n",
    "\n",
    "\"\"\"HIGH PRIORITY\"\"\"\n",
    "# TODO Change spawn selection from using coordinates to use Djikstra algorithm to calculate distances from each ice tile, which then returns the\n",
    "#      average of the heatmap instead of ajacent rubble tiles for that ice tile.\n",
    "#      This means retooling the spawn filtering section to evaluate the spawns by their \"distance score\".\n",
    "# []\n",
    "\n",
    "# TODO Remove enemy factory tile coordinates from closest rubble low list to avoid clearing out rubble for opponent\n",
    "# []\n",
    "\n",
    "# TODO Add \"hostile_facotry_ajacent\" to heavy and light overwatch functions and checks to avoid random choice of trying to attack, when it should\n",
    "#      move home (always when next to hostile factory)\n",
    "# []\n",
    "\n",
    "\n",
    "\"\"\"MEDIUM PRIORITY\"\"\"\n",
    "# TODO Introduce switch for light bots toggling between curren behaviour (after turn 200), and creation of a \"human chain\" on a ore tile, if \n",
    "#      there is one ore tile N distance away from the factory center tile (can find where center coords are defined).\n",
    "#      Here one light bot is assigned as miner, while rest follows, and charges during daytime, and transfers M power forwards to mining bot.\n",
    "#      The mining bot transfers ore towards factory tile, and supporting bots towards factory, if bot is on coordinate towards factory.\n",
    "#      If no bot can recieve, the light bot starts moving towards factory to drop off ore (it has ore greater than free cargo space)\n",
    "# []\n",
    "# TODO Make bots with ore assignments fetch power from factory with \"pickup\", as power is not utilized to full extent\n",
    "# []\n",
    "\n",
    "\n",
    "\"\"\"LOW PRIORITY\"\"\"\n",
    "# TODO Check if bidding 1 water and metal affects the number of factories that can be placed, if factories dont cost metal, bid 1 as default. This\n",
    "#      secures the first, best location more often. Combined with selection of 3rd best spot forces opponent to choose more bad spots with more rubble\n",
    "# []\n",
    "# TODO Make toggle between construction of heavy and light bots based on real env turns\n",
    "\n",
    "# TODO Evaluate weather to use 150-N turns to gather ore for multiplication of bots before water hoarding\n",
    "# []\n"
   ]
  },
  {
   "cell_type": "code",
   "execution_count": 24,
   "metadata": {},
   "outputs": [
    {
     "data": {
      "application/vnd.plotly.v1+json": {
       "config": {
        "plotlyServerURL": "https://plot.ly"
       },
       "data": [
        {
         "hovertemplate": "x: %{x}<br>y: %{y}<br>color: [%{z[0]}, %{z[1]}, %{z[2]}]<extra></extra>",
         "name": "0",
         "source": "data:image/png;base64,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",
         "type": "image",
         "xaxis": "x",
         "yaxis": "y"
        }
       ],
       "layout": {
        "margin": {
         "t": 60
        },
        "template": {
         "data": {
          "bar": [
           {
            "error_x": {
             "color": "#2a3f5f"
            },
            "error_y": {
             "color": "#2a3f5f"
            },
            "marker": {
             "line": {
              "color": "#E5ECF6",
              "width": 0.5
             },
             "pattern": {
              "fillmode": "overlay",
              "size": 10,
              "solidity": 0.2
             }
            },
            "type": "bar"
           }
          ],
          "barpolar": [
           {
            "marker": {
             "line": {
              "color": "#E5ECF6",
              "width": 0.5
             },
             "pattern": {
              "fillmode": "overlay",
              "size": 10,
              "solidity": 0.2
             }
            },
            "type": "barpolar"
           }
          ],
          "carpet": [
           {
            "aaxis": {
             "endlinecolor": "#2a3f5f",
             "gridcolor": "white",
             "linecolor": "white",
             "minorgridcolor": "white",
             "startlinecolor": "#2a3f5f"
            },
            "baxis": {
             "endlinecolor": "#2a3f5f",
             "gridcolor": "white",
             "linecolor": "white",
             "minorgridcolor": "white",
             "startlinecolor": "#2a3f5f"
            },
            "type": "carpet"
           }
          ],
          "choropleth": [
           {
            "colorbar": {
             "outlinewidth": 0,
             "ticks": ""
            },
            "type": "choropleth"
           }
          ],
          "contour": [
           {
            "colorbar": {
             "outlinewidth": 0,
             "ticks": ""
            },
            "colorscale": [
             [
              0,
              "#0d0887"
             ],
             [
              0.1111111111111111,
              "#46039f"
             ],
             [
              0.2222222222222222,
              "#7201a8"
             ],
             [
              0.3333333333333333,
              "#9c179e"
             ],
             [
              0.4444444444444444,
              "#bd3786"
             ],
             [
              0.5555555555555556,
              "#d8576b"
             ],
             [
              0.6666666666666666,
              "#ed7953"
             ],
             [
              0.7777777777777778,
              "#fb9f3a"
             ],
             [
              0.8888888888888888,
              "#fdca26"
             ],
             [
              1,
              "#f0f921"
             ]
            ],
            "type": "contour"
           }
          ],
          "contourcarpet": [
           {
            "colorbar": {
             "outlinewidth": 0,
             "ticks": ""
            },
            "type": "contourcarpet"
           }
          ],
          "heatmap": [
           {
            "colorbar": {
             "outlinewidth": 0,
             "ticks": ""
            },
            "colorscale": [
             [
              0,
              "#0d0887"
             ],
             [
              0.1111111111111111,
              "#46039f"
             ],
             [
              0.2222222222222222,
              "#7201a8"
             ],
             [
              0.3333333333333333,
              "#9c179e"
             ],
             [
              0.4444444444444444,
              "#bd3786"
             ],
             [
              0.5555555555555556,
              "#d8576b"
             ],
             [
              0.6666666666666666,
              "#ed7953"
             ],
             [
              0.7777777777777778,
              "#fb9f3a"
             ],
             [
              0.8888888888888888,
              "#fdca26"
             ],
             [
              1,
              "#f0f921"
             ]
            ],
            "type": "heatmap"
           }
          ],
          "heatmapgl": [
           {
            "colorbar": {
             "outlinewidth": 0,
             "ticks": ""
            },
            "colorscale": [
             [
              0,
              "#0d0887"
             ],
             [
              0.1111111111111111,
              "#46039f"
             ],
             [
              0.2222222222222222,
              "#7201a8"
             ],
             [
              0.3333333333333333,
              "#9c179e"
             ],
             [
              0.4444444444444444,
              "#bd3786"
             ],
             [
              0.5555555555555556,
              "#d8576b"
             ],
             [
              0.6666666666666666,
              "#ed7953"
             ],
             [
              0.7777777777777778,
              "#fb9f3a"
             ],
             [
              0.8888888888888888,
              "#fdca26"
             ],
             [
              1,
              "#f0f921"
             ]
            ],
            "type": "heatmapgl"
           }
          ],
          "histogram": [
           {
            "marker": {
             "pattern": {
              "fillmode": "overlay",
              "size": 10,
              "solidity": 0.2
             }
            },
            "type": "histogram"
           }
          ],
          "histogram2d": [
           {
            "colorbar": {
             "outlinewidth": 0,
             "ticks": ""
            },
            "colorscale": [
             [
              0,
              "#0d0887"
             ],
             [
              0.1111111111111111,
              "#46039f"
             ],
             [
              0.2222222222222222,
              "#7201a8"
             ],
             [
              0.3333333333333333,
              "#9c179e"
             ],
             [
              0.4444444444444444,
              "#bd3786"
             ],
             [
              0.5555555555555556,
              "#d8576b"
             ],
             [
              0.6666666666666666,
              "#ed7953"
             ],
             [
              0.7777777777777778,
              "#fb9f3a"
             ],
             [
              0.8888888888888888,
              "#fdca26"
             ],
             [
              1,
              "#f0f921"
             ]
            ],
            "type": "histogram2d"
           }
          ],
          "histogram2dcontour": [
           {
            "colorbar": {
             "outlinewidth": 0,
             "ticks": ""
            },
            "colorscale": [
             [
              0,
              "#0d0887"
             ],
             [
              0.1111111111111111,
              "#46039f"
             ],
             [
              0.2222222222222222,
              "#7201a8"
             ],
             [
              0.3333333333333333,
              "#9c179e"
             ],
             [
              0.4444444444444444,
              "#bd3786"
             ],
             [
              0.5555555555555556,
              "#d8576b"
             ],
             [
              0.6666666666666666,
              "#ed7953"
             ],
             [
              0.7777777777777778,
              "#fb9f3a"
             ],
             [
              0.8888888888888888,
              "#fdca26"
             ],
             [
              1,
              "#f0f921"
             ]
            ],
            "type": "histogram2dcontour"
           }
          ],
          "mesh3d": [
           {
            "colorbar": {
             "outlinewidth": 0,
             "ticks": ""
            },
            "type": "mesh3d"
           }
          ],
          "parcoords": [
           {
            "line": {
             "colorbar": {
              "outlinewidth": 0,
              "ticks": ""
             }
            },
            "type": "parcoords"
           }
          ],
          "pie": [
           {
            "automargin": true,
            "type": "pie"
           }
          ],
          "scatter": [
           {
            "fillpattern": {
             "fillmode": "overlay",
             "size": 10,
             "solidity": 0.2
            },
            "type": "scatter"
           }
          ],
          "scatter3d": [
           {
            "line": {
             "colorbar": {
              "outlinewidth": 0,
              "ticks": ""
             }
            },
            "marker": {
             "colorbar": {
              "outlinewidth": 0,
              "ticks": ""
             }
            },
            "type": "scatter3d"
           }
          ],
          "scattercarpet": [
           {
            "marker": {
             "colorbar": {
              "outlinewidth": 0,
              "ticks": ""
             }
            },
            "type": "scattercarpet"
           }
          ],
          "scattergeo": [
           {
            "marker": {
             "colorbar": {
              "outlinewidth": 0,
              "ticks": ""
             }
            },
            "type": "scattergeo"
           }
          ],
          "scattergl": [
           {
            "marker": {
             "colorbar": {
              "outlinewidth": 0,
              "ticks": ""
             }
            },
            "type": "scattergl"
           }
          ],
          "scattermapbox": [
           {
            "marker": {
             "colorbar": {
              "outlinewidth": 0,
              "ticks": ""
             }
            },
            "type": "scattermapbox"
           }
          ],
          "scatterpolar": [
           {
            "marker": {
             "colorbar": {
              "outlinewidth": 0,
              "ticks": ""
             }
            },
            "type": "scatterpolar"
           }
          ],
          "scatterpolargl": [
           {
            "marker": {
             "colorbar": {
              "outlinewidth": 0,
              "ticks": ""
             }
            },
            "type": "scatterpolargl"
           }
          ],
          "scatterternary": [
           {
            "marker": {
             "colorbar": {
              "outlinewidth": 0,
              "ticks": ""
             }
            },
            "type": "scatterternary"
           }
          ],
          "surface": [
           {
            "colorbar": {
             "outlinewidth": 0,
             "ticks": ""
            },
            "colorscale": [
             [
              0,
              "#0d0887"
             ],
             [
              0.1111111111111111,
              "#46039f"
             ],
             [
              0.2222222222222222,
              "#7201a8"
             ],
             [
              0.3333333333333333,
              "#9c179e"
             ],
             [
              0.4444444444444444,
              "#bd3786"
             ],
             [
              0.5555555555555556,
              "#d8576b"
             ],
             [
              0.6666666666666666,
              "#ed7953"
             ],
             [
              0.7777777777777778,
              "#fb9f3a"
             ],
             [
              0.8888888888888888,
              "#fdca26"
             ],
             [
              1,
              "#f0f921"
             ]
            ],
            "type": "surface"
           }
          ],
          "table": [
           {
            "cells": {
             "fill": {
              "color": "#EBF0F8"
             },
             "line": {
              "color": "white"
             }
            },
            "header": {
             "fill": {
              "color": "#C8D4E3"
             },
             "line": {
              "color": "white"
             }
            },
            "type": "table"
           }
          ]
         },
         "layout": {
          "annotationdefaults": {
           "arrowcolor": "#2a3f5f",
           "arrowhead": 0,
           "arrowwidth": 1
          },
          "autotypenumbers": "strict",
          "coloraxis": {
           "colorbar": {
            "outlinewidth": 0,
            "ticks": ""
           }
          },
          "colorscale": {
           "diverging": [
            [
             0,
             "#8e0152"
            ],
            [
             0.1,
             "#c51b7d"
            ],
            [
             0.2,
             "#de77ae"
            ],
            [
             0.3,
             "#f1b6da"
            ],
            [
             0.4,
             "#fde0ef"
            ],
            [
             0.5,
             "#f7f7f7"
            ],
            [
             0.6,
             "#e6f5d0"
            ],
            [
             0.7,
             "#b8e186"
            ],
            [
             0.8,
             "#7fbc41"
            ],
            [
             0.9,
             "#4d9221"
            ],
            [
             1,
             "#276419"
            ]
           ],
           "sequential": [
            [
             0,
             "#0d0887"
            ],
            [
             0.1111111111111111,
             "#46039f"
            ],
            [
             0.2222222222222222,
             "#7201a8"
            ],
            [
             0.3333333333333333,
             "#9c179e"
            ],
            [
             0.4444444444444444,
             "#bd3786"
            ],
            [
             0.5555555555555556,
             "#d8576b"
            ],
            [
             0.6666666666666666,
             "#ed7953"
            ],
            [
             0.7777777777777778,
             "#fb9f3a"
            ],
            [
             0.8888888888888888,
             "#fdca26"
            ],
            [
             1,
             "#f0f921"
            ]
           ],
           "sequentialminus": [
            [
             0,
             "#0d0887"
            ],
            [
             0.1111111111111111,
             "#46039f"
            ],
            [
             0.2222222222222222,
             "#7201a8"
            ],
            [
             0.3333333333333333,
             "#9c179e"
            ],
            [
             0.4444444444444444,
             "#bd3786"
            ],
            [
             0.5555555555555556,
             "#d8576b"
            ],
            [
             0.6666666666666666,
             "#ed7953"
            ],
            [
             0.7777777777777778,
             "#fb9f3a"
            ],
            [
             0.8888888888888888,
             "#fdca26"
            ],
            [
             1,
             "#f0f921"
            ]
           ]
          },
          "colorway": [
           "#636efa",
           "#EF553B",
           "#00cc96",
           "#ab63fa",
           "#FFA15A",
           "#19d3f3",
           "#FF6692",
           "#B6E880",
           "#FF97FF",
           "#FECB52"
          ],
          "font": {
           "color": "#2a3f5f"
          },
          "geo": {
           "bgcolor": "white",
           "lakecolor": "white",
           "landcolor": "#E5ECF6",
           "showlakes": true,
           "showland": true,
           "subunitcolor": "white"
          },
          "hoverlabel": {
           "align": "left"
          },
          "hovermode": "closest",
          "mapbox": {
           "style": "light"
          },
          "paper_bgcolor": "white",
          "plot_bgcolor": "#E5ECF6",
          "polar": {
           "angularaxis": {
            "gridcolor": "white",
            "linecolor": "white",
            "ticks": ""
           },
           "bgcolor": "#E5ECF6",
           "radialaxis": {
            "gridcolor": "white",
            "linecolor": "white",
            "ticks": ""
           }
          },
          "scene": {
           "xaxis": {
            "backgroundcolor": "#E5ECF6",
            "gridcolor": "white",
            "gridwidth": 2,
            "linecolor": "white",
            "showbackground": true,
            "ticks": "",
            "zerolinecolor": "white"
           },
           "yaxis": {
            "backgroundcolor": "#E5ECF6",
            "gridcolor": "white",
            "gridwidth": 2,
            "linecolor": "white",
            "showbackground": true,
            "ticks": "",
            "zerolinecolor": "white"
           },
           "zaxis": {
            "backgroundcolor": "#E5ECF6",
            "gridcolor": "white",
            "gridwidth": 2,
            "linecolor": "white",
            "showbackground": true,
            "ticks": "",
            "zerolinecolor": "white"
           }
          },
          "shapedefaults": {
           "line": {
            "color": "#2a3f5f"
           }
          },
          "ternary": {
           "aaxis": {
            "gridcolor": "white",
            "linecolor": "white",
            "ticks": ""
           },
           "baxis": {
            "gridcolor": "white",
            "linecolor": "white",
            "ticks": ""
           },
           "bgcolor": "#E5ECF6",
           "caxis": {
            "gridcolor": "white",
            "linecolor": "white",
            "ticks": ""
           }
          },
          "title": {
           "x": 0.05
          },
          "xaxis": {
           "automargin": true,
           "gridcolor": "white",
           "linecolor": "white",
           "ticks": "",
           "title": {
            "standoff": 15
           },
           "zerolinecolor": "white",
           "zerolinewidth": 2
          },
          "yaxis": {
           "automargin": true,
           "gridcolor": "white",
           "linecolor": "white",
           "ticks": "",
           "title": {
            "standoff": 15
           },
           "zerolinecolor": "white",
           "zerolinewidth": 2
          }
         }
        },
        "xaxis": {
         "anchor": "y",
         "domain": [
          0,
          1
         ]
        },
        "yaxis": {
         "anchor": "x",
         "domain": [
          0,
          1
         ]
        }
       }
      }
     },
     "metadata": {},
     "output_type": "display_data"
    }
   ],
   "source": [
    "env = LuxAI_S2() # create the environment object\n",
    "obs = env.reset(seed=361203580) # resets an environment with a seed\n",
    "\n",
    "# the observation is always composed of observations for both players.\n",
    "obs.keys(), obs[\"player_0\"].keys()\n",
    "\n",
    "# visualize the environment so far with rgb_array to get a quick look at the map\n",
    "# dark orange - high rubble, light orange - low rubble\n",
    "# blue = ice, yellow = ore\n",
    "img = env.render(\"rgb_array\", width=48, height=48)\n",
    "px.imshow(img).show()"
   ]
  },
  {
   "cell_type": "code",
   "execution_count": 25,
   "metadata": {},
   "outputs": [],
   "source": [
    "def rubble_tile_vision(x, y, rubble_map):\n",
    "    height = len(rubble_map) - 1\n",
    "    width = len(rubble_map[0]) - 1\n",
    "    vision_coords =  [\n",
    "\n",
    "        [x-1, y], [x, y-1], # left and top\n",
    "        [x+1, y], [x, y+1], # right and bottom\n",
    "        [x-1, y-1], [x+1, y-1], # diagonals\n",
    "        [x-1, y+1], [x+1, y+1], # diagonals\n",
    "        [x-2, y],   [x, y-2], # left and top \n",
    "        [x+2, y],   [x, y+2], # right and bottom \n",
    "        [x-2, y-1], [x-1, y-2], [x-2, y-2], # left and top diagonals \n",
    "        [x+2, y+1], [x+1, y+2], [x+2, y+2], # right and bottom diagonals \n",
    "        [x+2, y-1], [x+1, y-2], [x+2, y-2], # right and top diagonals \n",
    "        [x-2, y+1], [x-1, y+2], [x-2, y+2], # left and bottom diagonals \n",
    "\n",
    "        # feeler coords\n",
    "        [x-3, y],   [x, y-3], # left and top \n",
    "        [x+3, y],   [x, y+3], # right and bottom \n",
    "\n",
    "        [x, y-5],\n",
    "        [x-2, y-3], [x+2, y-3],\n",
    "        [x-5, y-2], [x-3, y-2], [x+3, y-2], [x+5, y-2],\n",
    "        [x+4, y-1], [x-4, y-1],\n",
    "        [x-6, y], [x+6, y],\n",
    "        [x+4, y+1], [x-4, y+1],\n",
    "        [x-5, y+2], [x-3, y+2], [x+3, y+2], [x+5, y+2],\n",
    "        [x-2, y+3], [x+2, y+3],\n",
    "        [x, y+5],\n",
    "\n",
    "    ]\n",
    "\n",
    "    return [(rubble_coord, rubble_map[rubble_coord[0]][rubble_coord[1]]) for rubble_coord in vision_coords \n",
    "        if rubble_coord[0] >= 0 and rubble_coord[0] <= width and\n",
    "           rubble_coord[1] >= 0 and rubble_coord[1] <= height\n",
    "    ]\n",
    "'''\n",
    "                  [ ]\n",
    "            [ ]   ^-5   [ ]\n",
    "    [ ]  [ ]      [ ]      [ ]   [ ]\n",
    "               [ ][ ][ ]   \n",
    "      [ ]   [ ][ ][ ][ ][ ]   [ ]\n",
    "[ ]      [ ][ ][ ] x [ ][ ][ ]      [ ]\n",
    "^-6   [ ]   [ ][ ][ ][ ][ ]   [ ]   ^+6\n",
    "               [ ][ ][ ]   \n",
    "    [ ]  [ ]      [ ]      [ ]   [ ]\n",
    "            [ ]         [ ]\n",
    "                  [ ]\n",
    "                  ^+5\n",
    "'''\n",
    "\n",
    "\n",
    "def get_factory_tiles_from_center(x, y):\n",
    "    return np.array([\n",
    "        (x, y), # factory center\n",
    "        (x-1, y), (x, y-1), # left and top\n",
    "        (x+1, y), (x, y+1), # right and bottom\n",
    "        (x-1, y-1), (x+1, y-1), # diagonals\n",
    "        (x-1, y+1), (x+1, y+1), # diagonals\n",
    "    ]) \n",
    "'''\n",
    "[.][.][.]\n",
    "[.][.][.]\n",
    "[.][.][.]\n",
    "'''\n",
    "\n",
    "\n",
    "def get_factory_occupied_tiles(x, y):\n",
    "    return np.array([\n",
    "        (x, y), # factory center\n",
    "        (x-1, y), (x, y-1), # left and top\n",
    "        (x+1, y), (x, y+1), # right and bottom\n",
    "        (x-1, y-1), (x+1, y-1), # diagonals\n",
    "        (x-1, y+1), (x+1, y+1), # diagonals\n",
    "        (x-2, y), (x, y-2), # left and top \n",
    "        (x+2, y), (x, y+2), # right and bottom \n",
    "        (x-2, y-1), (x-1, y-2), (x-2, y-2), # left and top diagonals \n",
    "        (x+2, y+1), (x+1, y+2), (x+2, y+2), # right and bottom diagonals \n",
    "        (x+2, y-1), (x+1, y-2), (x+2, y-2), # right and top diagonals \n",
    "        (x-2, y+1), (x-1, y+2), (x-2, y+2), # left and bottom diagonals \n",
    "        (x-3, y), (x, y-3), (x+3, y), (x, y+3), # left and top\n",
    "        (x-3, y), (x, y-3), (x+3, y), (x, y+3), # right and bottom\n",
    "        (x-3, y-1), (x-1, y-3), (x-3, y-3), # left and top diagonals \n",
    "        (x+3, y+1), (x+1, y+3), (x+3, y+3), # right and bottom diagonals \n",
    "        (x+3, y-1), (x+1, y-3), (x+3, y-3), # left and top diagonals \n",
    "        (x-3, y+1), (x-1, y+3), (x-3, y+3), # right and bottom diagonals \n",
    "        (x-4, y), (x, y-4), (x+4, y), (x, y+4), # left and top\n",
    "        (x-5, y), (x, y-5), (x+5, y), (x, y+5), # right and bottom\n",
    "    ]) \n",
    "'''\n",
    "    [ ][ ][.][ ][ ]\n",
    "    [ ][ ][.][ ][ ]\n",
    "    [ ][.][.][.][ ]\n",
    " [.][.][.][X][.][.][.]\n",
    "    [ ][.][.][.][ ]\n",
    "    [ ][ ][.][ ][ ]\n",
    "    [ ][ ][.][ ][ ]\n",
    "'''\n",
    "\n",
    "\n",
    "def get_tiles_by_interval(x, y, interval_x, interval_y):\n",
    "    coordinates = np.array(\n",
    "        [(x + n, y + m) for n in range((-1 * interval_x), interval_x +1) for m in range((-1 * interval_y), interval_y +1) if (0 <= (x + n) <= 47) and (0 <= (y + m) <= 47)]\n",
    "    )\n",
    "    return coordinates\n",
    "'''\n",
    "    ^ interval y\n",
    "    [ ][ ][ ]\n",
    "    [ ][ ][ ]\n",
    "    [ ][ ][ ]\n",
    "    interval x ->\n",
    "'''\n",
    "\n",
    "\n",
    "def get_surrounding_tiles_by_interval(x, y, interval_x, interval_y):\n",
    "    coordinates = np.array(\n",
    "        [\n",
    "            (x + n, y + m) for n in range((-1 * interval_x), interval_x +1) for m in range((-1 * interval_y), interval_y +1) if\n",
    "            (0 <= (x + n) <= 47) and (n < -1 or n > 1) and\n",
    "            (0 <= (y + m) <= 47) and (m < -1 or m > 1)\n",
    "        ]\n",
    "    )\n",
    "    return coordinates \n",
    "'''\n",
    "X = not marked factory tiles\n",
    "    ^ interval y\n",
    "    [ ][ ][ ][ ][ ][ ][ ]\n",
    "    [ ][ ][ ][ ][ ][ ][ ]\n",
    "    [ ][ ][X][X][X][ ][ ]\n",
    "    [ ][ ][X][X][X][ ][ ]\n",
    "    [ ][ ][X][X][X][ ][ ]\n",
    "    [ ][ ][ ][ ][ ][ ][ ]\n",
    "    [ ][ ][ ][ ][ ][ ][ ]\n",
    "    interval x ->\n",
    "'''\n",
    "\n",
    "\n",
    "# TODO finish this so i can remove opponent factory tile neighbours from rubble removal\n",
    "def get_factory_neighbouring_tiles(x, y):\n",
    "    test_generator_coords = np.array([(x-j, y-k) for j in range(2, 3) for k in range(2, 3)])\n",
    "    coords =  np.array([\n",
    "        (x-2, y), (x, y-2), # left and top\n",
    "        (x+2, y), (x, y+2), # right and bottom\n",
    "        (x-2, y-2), (x+2, y-2), # top left corner\n",
    "        (x-2, y-2), (x+2, y-2), # diagonals\n",
    "\n",
    "        (x-2, y+2), (x+2, y+2), # diagonals\n",
    "        (x-2, y+2), (x+2, y+2), # diagonals\n",
    "    ])\n",
    "    return [coord for coord in coords if (coord[0] >= 0 and coord[0] <= 47) and (coord[1] >= 0 and coord[1] <= 47)]\n",
    "'''\n",
    "    [.][.][.][.][.][.][.]\n",
    "    [.][.][.][.][.][.][.]\n",
    "    [.][.][X][X][X][.][.]\n",
    "    [.][.][X][X][X][.][.]\n",
    "    [.][.][X][X][X][.][.]\n",
    "    [.][.][.][.][.][.][.]\n",
    "    [.][.][.][.][.][.][.]\n",
    "'''\n",
    "\n",
    "def get_bordering_coords(x, y):\n",
    "    return np.array([\n",
    "        (x, y), # center\n",
    "        (x-1, y), (x, y-1), # left and top\n",
    "        (x+1, y), (x, y+1), # right and bottom\n",
    "        (x-1, y-1), (x+1, y-1), # diagonals\n",
    "        (x-1, y+1), (x+1, y+1), # diagonals\n",
    "    ])\n",
    "\n",
    "\n",
    "# function used by Archimedes for locating resource border coordinates\n",
    "def neighbors(x, y):\n",
    "    return np.array([\n",
    "        # commented to give buffer, avoiding placing factory on resource\n",
    "        # layer 1\n",
    "        #(x-1, y), (x, y-1), # left and top\n",
    "        #(x+1, y), (x, y+1), # right and bottom\n",
    "\n",
    "        # layer 2\n",
    "        (x-2, y), (x, y-2), # left and top \n",
    "        (x+2, y), (x, y+2), # right and bottom \n",
    "\n",
    "        (x-2, y-1), (x-1, y-2), # (x-2, y-2), # left and top diagonals \n",
    "        (x+2, y+1), (x+1, y+2), # (x+2, y+2), # right and bottom diagonals \n",
    "\n",
    "        (x+2, y-1), (x+1, y-2), # (x+2, y-2), # right and top diagonals \n",
    "        (x-2, y+1), (x-1, y+2), # (x-2, y+2), # left and bottom diagonals \n",
    "\n",
    "        # commented away to try to get factory right next to resource\n",
    "        # layer 3\n",
    "        #(x-3, y), (x, y-3), (x+3, y), (x, y+3), # left and top\n",
    "        #(x-3, y), (x, y-3), (x+3, y), (x, y+3), # right and bottom\n",
    "\n",
    "        #(x-3, y-1), (x-1, y-3), (x-3, y-3), # left and top diagonals \n",
    "        #(x+3, y+1), (x+1, y+3), (x+3, y+3), # right and bottom diagonals \n",
    "\n",
    "        #(x+3, y-1), (x+1, y-3), (x+3, y-3), # left and top diagonals \n",
    "        #(x-3, y+1), (x-1, y+3), (x-3, y+3), # right and bottom diagonals \n",
    "\n",
    "    ])\n",
    "'''\n",
    "[ ][.][.][.][ ]\n",
    "[.][ ][ ][ ][.]\n",
    "[.][ ][X][ ][.]\n",
    "[.][ ][ ][ ][.]\n",
    "[ ][.][.][.][ ]\n",
    "'''\n",
    "\n",
    "\n",
    "def coord_from_direction(x, y, direction):\n",
    "    if direction == 0:\n",
    "        return (x, y)\n",
    "    elif direction == 1:\n",
    "        return (x, y-1)\n",
    "    elif direction == 2:\n",
    "        return (x+1, y)\n",
    "    elif direction == 3:\n",
    "        return (x, y+1)\n",
    "    elif direction == 4:\n",
    "        return (x-1, y)\n",
    "'''\n",
    "# a[1] = direction (0 = center, 1 = up, 2 = right, 3 = down, 4 = left)\n",
    "move_deltas = np.array([[0, 0], [0, -1], [1, 0], [0, 1], [-1, 0]])\n",
    "'''\n",
    "\n",
    "\n",
    "# function used by Archimedes to check if tile is occupied by other bots\n",
    "def check_tile_occupation(game_state, unit_x, unit_y, direction, booked_coords, player, opponent):\n",
    "    friendly_bots = game_state.units[player]\n",
    "    hostile_bots = game_state.units[opponent]\n",
    "\n",
    "    friendly_coords = {(unit.pos[0], unit.pos[1]): unit.unit_type for (unit_id, unit) in friendly_bots.items()}\n",
    "    hostile_coords = {(unit.pos[0], unit.pos[1]): unit.unit_type for (unit_id, unit) in hostile_bots.items()}\n",
    "\n",
    "    # a[1] = direction (1 = up, 2 = right, 3 = down, 4 = left)\n",
    "    # move_deltas = np.array([0, -1], [1, 0], [0, 1], [-1, 0]])\n",
    "    bot_up = (unit_x, unit_y - 1)\n",
    "    bot_right = (unit_x + 1, unit_y)\n",
    "    bot_down = (unit_x, unit_y + 1)\n",
    "    bot_left = (unit_x - 1, unit_y)\n",
    "\n",
    "\n",
    "    # checks if no friendly is on direction tile, if none, direction remains, else set to 0\n",
    "    up_friendly = (bot_up not in friendly_coords and bot_up not in booked_coords) * 1\n",
    "    right_friendly = (bot_right not in friendly_coords and bot_right not in booked_coords) * 2\n",
    "    down_friendly = (bot_down not in friendly_coords and bot_down not in booked_coords) * 3\n",
    "    left_friendly = (bot_left not in friendly_coords and bot_left not in booked_coords) * 4\n",
    "\n",
    "    # checks if hostile bot is on direction tile, if there is one of type 'LIGHT', direction remains, else set to 0\n",
    "    up_hostile = True if (bot_up not in hostile_coords) or (bot_up in hostile_coords and hostile_coords[bot_up] == 'LIGHT' ) else False\n",
    "    right_hostile = True if (bot_right not in hostile_coords) or (bot_right in hostile_coords and hostile_coords[bot_right] == 'LIGHT' ) else False\n",
    "    down_hostile = True if (bot_down not in hostile_coords) or (bot_down in hostile_coords and hostile_coords[bot_down] == 'LIGHT' ) else False\n",
    "    left_hostile = True if (bot_left not in hostile_coords) or (bot_left in hostile_coords and hostile_coords[bot_left] == 'LIGHT' ) else False\n",
    "\n",
    "    '''\n",
    "    # this is where the hostile attack decision making will be placed, as distinguishing between light/heavy is important for combat\n",
    "    hostiles = [up_hostile, right_hostile, down_hostile, left_hostile]\n",
    "    '''\n",
    "    \n",
    "    # sets non occupied tile directions\n",
    "    up_free = up_friendly * up_hostile\n",
    "    right_free = right_friendly * right_hostile\n",
    "    down_free = down_friendly * down_hostile\n",
    "    left_free = left_friendly * left_hostile\n",
    "\n",
    "\n",
    "    # finds possible directions not occupied by friendly bots and hostile bots\n",
    "    directions = [up_free, right_free, down_free, left_free]\n",
    "    if direction in directions:\n",
    "        return direction\n",
    "    \n",
    "    elif sum(directions) > 0:\n",
    "        alt_directions = [d for d in directions if d > 0]\n",
    "        return random.choice(alt_directions)\n",
    "    '''\n",
    "    # this directs the random movement choice in the opposite axis to direction to keep the bot moving in the general direction\n",
    "    odd_direction = direction % 2 > 0\n",
    "    for alt_direction in directions:\n",
    "        alt_horisontal_directions = [d for d in directions if d > 0 and d % 2 == 0]\n",
    "        if odd_direction and len(alt_horisontal_directions) > 0:\n",
    "            return random.choice(alt_horisontal_directions)\n",
    "\n",
    "        alt_vertical_directions = [d for d in directions if d > 0 and d % 2 == 1]\n",
    "        if not odd_direction and len(alt_vertical_directions) > 0:\n",
    "            return random.choice(alt_vertical_directions)\n",
    "    '''\n",
    "\n",
    "    '''\n",
    "      []1\n",
    "    []2[][]4\n",
    "      []3\n",
    "    ''' \n",
    "\n",
    "    # if all direction tiles occupied with friendly bots, recharge recommended\n",
    "    return 0\n",
    "\n",
    "\n",
    "def heavy_overwatch(unit, unit_x, unit_y, on_factory, closest_factory_tile, game_state, opponent):\n",
    "    # gets hostile bot coords\n",
    "    hostile_bots = game_state.units[opponent]\n",
    "    hostile_coords_heavy = [(unit.pos[0], unit.pos[1]) for (unit_id, unit) in hostile_bots.items() if unit.unit_type == 'HEAVY']\n",
    "\n",
    "    # coords relative to bot position\n",
    "    bot_up = (unit_x, unit_y - 1)\n",
    "    bot_right = (unit_x + 1, unit_y)\n",
    "    bot_down = (unit_x, unit_y + 1)\n",
    "    bot_left = (unit_x - 1, unit_y)\n",
    "\n",
    "    # checks if hostile bot is on directly neighbouring tiles, and is of type HEAVY\n",
    "    up_hostile = True if (bot_up in hostile_coords_heavy) else False\n",
    "    right_hostile = True if (bot_right in hostile_coords_heavy) else False\n",
    "    down_hostile = True if (bot_down in hostile_coords_heavy) else False\n",
    "    left_hostile = True if (bot_left in hostile_coords_heavy) else False\n",
    "    hostile_on_flank = (up_hostile or right_hostile or down_hostile or left_hostile)\n",
    "\n",
    "    # check for heavy hostiles on opposing tiles, if on factory tile move on hostile tile, else move to closest factory tile \n",
    "    if on_factory and hostile_on_flank:\n",
    "        up_target = up_hostile * 1\n",
    "        right_target = right_hostile * 2\n",
    "        down_target = down_hostile * 3\n",
    "        left_target = left_hostile * 4\n",
    "        directions = [up_target, right_target, down_target, left_target]\n",
    "        target_dir = [target for target in directions if target != 0]\n",
    "\n",
    "        return random.choice(target_dir)\n",
    "    \n",
    "    # attack if energy is greater than 240, but introduced random choice to disengage and move home\n",
    "    elif not on_factory and hostile_on_flank:\n",
    "        if unit.power > 240:\n",
    "            up_target = up_hostile * 1\n",
    "            right_target = right_hostile * 2\n",
    "            down_target = down_hostile * 3\n",
    "            left_target = left_hostile * 4\n",
    "            directions = [up_target, right_target, down_target, left_target, direction_to(np.array([unit_x, unit_y]), target=closest_factory_tile)]\n",
    "            target_dir = [target for target in directions if target != 0]\n",
    "            return random.choice(target_dir)\n",
    "        \n",
    "        else:\n",
    "            return direction_to(src=np.array([unit_x, unit_y]), target=closest_factory_tile)\n",
    "    \n",
    "    else:\n",
    "        return False\n",
    "\n",
    "\n",
    "def light_overwatch(unit, unit_x, unit_y, game_state, opponent):\n",
    "    # gets hostile bot coords\n",
    "    hostile_bots = game_state.units[opponent]\n",
    "    hostile_coords_heavy = [(unit.pos[0], unit.pos[1]) for (unit_id, unit) in hostile_bots.items() if unit.unit_type == 'HEAVY']\n",
    "    hostile_coords_light = [(unit.pos[0], unit.pos[1]) for (unit_id, unit) in hostile_bots.items() if unit.unit_type == 'LIGHT']\n",
    "\n",
    "    # coords relative to bot position\n",
    "    bot_up = (unit_x, unit_y - 1)\n",
    "    bot_right = (unit_x + 1, unit_y)\n",
    "    bot_down = (unit_x, unit_y + 1)\n",
    "    bot_left = (unit_x - 1, unit_y)\n",
    "\n",
    "    # checks if light hostile bot is on directly neighbouring tiles\n",
    "    up_hostile_light = True if (bot_up in hostile_coords_light) else False\n",
    "    right_hostile_light = True if (bot_right in hostile_coords_light) else False\n",
    "    down_hostile_light = True if (bot_down in hostile_coords_light) else False\n",
    "    left_hostile_light = True if (bot_left in hostile_coords_light) else False\n",
    "    light_hostile_on_flank = (up_hostile_light or right_hostile_light or down_hostile_light or left_hostile_light)\n",
    "\n",
    "    # checks if heavy hostile bot is on directly neighbouring tiles\n",
    "    up_hostile_heavy = True if (bot_up in hostile_coords_heavy) else False\n",
    "    right_hostile_heavy = True if (bot_right in hostile_coords_heavy) else False\n",
    "    down_hostile_heavy = True if (bot_down in hostile_coords_heavy) else False\n",
    "    left_hostile_heavy = True if (bot_left in hostile_coords_heavy) else False\n",
    "    heavy_hostile_on_flank = (up_hostile_heavy or right_hostile_heavy or down_hostile_heavy or left_hostile_heavy)\n",
    "\n",
    "\n",
    "    # if only heavy hostile on flank, returns direction that is away from heavy hostile\n",
    "    if heavy_hostile_on_flank and not light_hostile_on_flank:\n",
    "        if up_hostile_heavy:\n",
    "            return 3\n",
    "        elif right_hostile_heavy:\n",
    "            return 4\n",
    "        elif down_hostile_heavy:\n",
    "            return 1\n",
    "        elif left_hostile_heavy:\n",
    "            return 2\n",
    "    \n",
    "    # if light hostile on flank, attack\n",
    "    elif light_hostile_on_flank:\n",
    "        up_target = up_hostile_light * 1\n",
    "        right_target = right_hostile_light * 2\n",
    "        down_target = down_hostile_light * 3\n",
    "        left_target = left_hostile_light * 4\n",
    "        directions = [up_target, right_target, down_target, left_target]\n",
    "        target_dir = [target for target in directions if target != 0]\n",
    "        return random.choice(target_dir)\n",
    "    \n",
    "    else:\n",
    "        return False\n",
    "\n",
    "   \n",
    "\n",
    "class Archimedes_Lever():\n",
    "    def __init__(self, player: str, env_cfg: EnvConfig) -> None:\n",
    "        self.player = player\n",
    "        self.opp_player = \"player_1\" if self.player == \"player_0\" else \"player_0\"\n",
    "        np.random.seed(0)\n",
    "        self.env_cfg: EnvConfig = env_cfg\n",
    "\n",
    "    # Setup of early game\n",
    "    def early_setup(self, step: int, obs, remainingOverageTime: int = 60):\n",
    "        if step == 0:\n",
    "            # bid 0 to not waste resources bidding and declare as the default faction\n",
    "            # you can bid -n to prefer going second or n to prefer going first in placement\n",
    "            return dict(faction=\"AlphaStrike\", bid=0)\n",
    "        else:\n",
    "            game_state = obs_to_game_state(step, self.env_cfg, obs)\n",
    "            my_turn_to_evaluate_spawns = my_turn_to_place_factory(game_state.teams[self.player].place_first, step)\n",
    "\n",
    "            # only processes map on my placement turns\n",
    "            if my_turn_to_evaluate_spawns:\n",
    "                ### Using numpy arrays, maps out desirable spawn locations\n",
    "                # gets border indexes of ore coordinates and ice coordinates\n",
    "                indOre = np.transpose(np.where(game_state.board.ore > 0))\n",
    "                indIce = np.transpose(np.where(game_state.board.ice > 0))\n",
    "                indFactories = np.transpose(np.where(game_state.board.factory_occupancy_map >= 0))\n",
    "\n",
    "                # finds possible spawns around resources\n",
    "                array_spawns = np.unique(np.concatenate(\n",
    "                    [neighbors(*ind) for ind in indIce],\n",
    "                    #[neighbors(*ind) for ind in iceSpawns],\n",
    "                    ), axis=0)\n",
    "\n",
    "                # finds tiles that are occupied or invalid spawn coords\n",
    "                array_occupied_coords = np.unique(np.concatenate([get_factory_occupied_tiles(*i) for i in indFactories]), axis=0) if len(indFactories) > 0 else []\n",
    "                array_invalid_coords = np.unique(np.concatenate(\n",
    "                    (np.concatenate([get_bordering_coords(*ind) for ind in indOre], axis=0),\n",
    "                    np.concatenate([get_bordering_coords(*ind) for ind in indIce], axis=0))\n",
    "                ), axis=0)\n",
    "\n",
    "\n",
    "                # filters spawn coords for outside map coords (and those doesn't include spawns on map border), and those overlapping ivalid or occupied tiles\n",
    "                x_search_radius = 3\n",
    "                y_search_radius = 3\n",
    "                array_inside_map_spawns = [\n",
    "                    (np.array(\n",
    "                        [spawn_coord[0], spawn_coord[1]]), # first element in tuple is np array coordinate\n",
    "                        np.average(                        # second elment in tuple is average rubble value from ajacent coords\n",
    "                            [game_state.board.rubble[c[0]][c[1]] for c in get_surrounding_tiles_by_interval(x=spawn_coord[0], y=spawn_coord[1], interval_x=x_search_radius, interval_y=y_search_radius)]\n",
    "                        )\n",
    "                    ) for spawn_coord in array_spawns if (1 <= spawn_coord[0] <= 46) and (1 <= spawn_coord[1] <= 46)\n",
    "                ]\n",
    "                array_valid_spawns = [coord for coord in array_inside_map_spawns if \n",
    "                    all(all(coord[0] == inv_coord) == False for inv_coord in array_invalid_coords) and \n",
    "                    all(all(coord[0] == occ_coord) == False for occ_coord in array_occupied_coords)\n",
    "                ]\n",
    "\n",
    "                '''\n",
    "                desirable_coordinates_filtered = np.copy(game_state.board.valid_spawns_mask)\n",
    "                desirable_coordinates_filtered[desirable_coordinates_filtered == 1] = 0\n",
    "                for coord in array_valid_spawns:\n",
    "                    desirable_coordinates_filtered[coord[0]][coord[1]] == 1\n",
    "                # TODO mirror filtering here\n",
    "                # visualizes the map and AI vision\n",
    "                img = env.render(\"rgb_array\", width=48, height=48)\n",
    "                #px.imshow(game_state.board.rubble.T).show()\n",
    "                px.imshow(img).show()\n",
    "                px.imshow(desirable_coordinates_filtered.T).show()\n",
    "                '''\n",
    "\n",
    "\n",
    "                ### Factory placement period\n",
    "                # how much water and metal you have in your starting pool to give to new factories\n",
    "                water_left = game_state.teams[self.player].water\n",
    "                metal_left = game_state.teams[self.player].metal\n",
    "                \n",
    "                # how many factories you have left to place\n",
    "                factories_to_place = game_state.teams[self.player].factories_to_place\n",
    "                # whether it is your turn to place a factory\n",
    "                my_turn_to_place = my_turn_to_place_factory(game_state.teams[self.player].place_first, step)\n",
    "\n",
    "                if factories_to_place > 0 and my_turn_to_place and len(array_valid_spawns) > 0:\n",
    "                    # we will spawn our factory in a random location with 150 metal and water if it is our turn to place\n",
    "                    array_sorted_spawns = sorted(array_valid_spawns, key=lambda coord: coord[1])\n",
    "                    #print(\"spawn choices\", len(array_sorted_spawns))\n",
    "                    #print(array_sorted_spawns[0][0])\n",
    "                    spawn_loc = array_sorted_spawns[0][0]\n",
    "\n",
    "                    return dict(spawn=spawn_loc, metal=150, water=150)\n",
    "\n",
    "                else:\n",
    "                    # returns empty dictionary if there are no  valid spawn points to choose from\n",
    "                    return dict()\n",
    "\n",
    "            else:\n",
    "                # returns empty dictionary if no decisions were reached\n",
    "                return dict()\n",
    "\n",
    "\n",
    "    \n",
    "    # Setup of logic in the act phase\n",
    "    def act(self, step: int, obs, remainingOverageTime: int = 60):\n",
    "        # info used to make decisions in the act phase\n",
    "        actions = dict()\n",
    "        game_state: GameState = obs_to_game_state(step, self.env_cfg, obs)\n",
    "        factories = game_state.factories[self.player]\n",
    "        game_state.teams[self.player].place_first\n",
    "\n",
    "        # storing of info about factories\n",
    "        factory_tiles, factory_units, factory_centers = [], [], []\n",
    "        for unit_id, factory in factories.items():\n",
    "            center = factory.pos\n",
    "            tiles = get_factory_tiles_from_center(x=center[0], y=center[1])\n",
    "            factory_centers += [center]\n",
    "            for tile in tiles:\n",
    "                factory_tiles += [tile]\n",
    "            factory_units += [factory]\n",
    "        factory_tiles = np.array(factory_tiles)\n",
    "\n",
    "        ### Creation of bots\n",
    "        heavy_bot_cost = self.env_cfg.ROBOTS[\"HEAVY\"]\n",
    "        light_bot_cost = self.env_cfg.ROBOTS[\"LIGHT\"]\n",
    "\n",
    "        # heavy bots\n",
    "        for unit_id, factory in factories.items():\n",
    "            if factory.power >= heavy_bot_cost.POWER_COST and factory.cargo.metal >= heavy_bot_cost.METAL_COST:\n",
    "                actions[unit_id] = factory.build_heavy()\n",
    "\n",
    "        \n",
    "        # light bots\n",
    "        if game_state.real_env_steps >= 2:\n",
    "            for unit_id, factory in factories.items():\n",
    "                if factory.power >= light_bot_cost.POWER_COST and factory.cargo.metal >= light_bot_cost.METAL_COST:\n",
    "                    actions[unit_id] = factory.build_light()\n",
    "\n",
    "\n",
    "        \n",
    "\n",
    "        #print(self.player)\n",
    "        #print(\"turn:\", game_state.real_env_steps)\n",
    "\n",
    "        ### Decides when the factories should start growing Lichen\n",
    "        # Watering lichen if at right turn\n",
    "        '''\n",
    "        # starting idea of some sort of regulating mechanism on when to start watering\n",
    "        # see google sheets for optimal time to start watering by looking at water cargo,\n",
    "        # number of turns left, \n",
    "        # and the water cost from the calculus of water consumption growth\n",
    "        '''\n",
    "        growth_turn = 990 - 250 # calculations suggenst 77 turns prior\n",
    "        turns_left = 988 - game_state.real_env_steps\n",
    "        grow = game_state.real_env_steps >= growth_turn\n",
    "        for factory_id, factory in factories.items():\n",
    "            #print(factory_id, \"has;\", factory.cargo.metal, \"metal\", factory.cargo.water, \"water\", factory.cargo.ice, \"ice\", factory.power, \"power\", \"watering cost: \", factory.water_cost(game_state))\n",
    "            water_cost_reactor = turns_left\n",
    "            water_per_turn = 3.2\n",
    "            water_formula = (factory.cargo.water - water_cost_reactor + (water_per_turn * turns_left)) > (factory.water_cost(game_state) * turns_left)\n",
    "            #print(factory_id, factory.cargo.water, factory.water_cost(game_state))\n",
    "            if game_state.real_env_steps >= growth_turn and water_formula:\n",
    "                actions[factory_id] = factory.water()\n",
    "        '''\n",
    "        # TODO continue this experiment of water to power conversion to see what strategies this unlocks, such as more efficient clearing of rubble,\n",
    "        #      or mining assignments picking up power for ore mining\n",
    "        grow = game_state.real_env_steps % 3 == 0\n",
    "        for factory_id, factory in factories.items():\n",
    "            #print(factory_id, \"has;\", factory.cargo.metal, \"metal\", factory.cargo.water, \"water\", factory.cargo.ice, \"ice\", factory.power, \"power\", \"watering cost: \", factory.water_cost(game_state))\n",
    "            if grow:\n",
    "                actions[factory_id] = factory.water()\n",
    "        '''\n",
    "\n",
    "        ### Finds all ice and ore tiles\n",
    "        ice_map = game_state.board.ice \n",
    "        ore_map = game_state.board.ore \n",
    "        rubble_map = game_state.board.rubble\n",
    "        ice_tile_locations = np.argwhere(ice_map == 1) # numpy magic to get the position of every ice tile\n",
    "        ore_tile_locations = np.argwhere(ore_map == 1) # numpy magic to get the position of every ore tile\n",
    "        rubble_tile_locations = np.argwhere(rubble_map > 0) # numpy magic to get the position of every rubble tile\n",
    "        rubble_tile_locations_low_rubble = np.argwhere(rubble_map <= 20)\n",
    "        units = game_state.units[self.player]\n",
    "\n",
    "        ### Specifies assignments for heavy and light bots\n",
    "        light_ore_miners = 0\n",
    "        mine_assignments = 0\n",
    "        rubble_assignments = 0\n",
    "\n",
    "\n",
    "        # booked tiles for avoiding \n",
    "        move_bookings = []\n",
    "\n",
    "        for unit_id, unit in units.items():\n",
    "            isHeavy = unit.unit_type == 'HEAVY'\n",
    "            isLight = unit.unit_type == 'LIGHT'\n",
    "\n",
    "            # info about closest map tiles\n",
    "            closest_factory_tile = sorted(factory_tiles, key=lambda p: (p[0] - unit.pos[0])**2 + (p[1] - unit.pos[1])**2 )[0]\n",
    "            closest_ice_tile = sorted(ice_tile_locations, key=lambda p: (p[0] - unit.pos[0])**2 + (p[1] - unit.pos[1])**2 )[0]\n",
    "            \n",
    "\n",
    "            cargo_limit_ice = 960\n",
    "            cargo_limit_ore = 50\n",
    "            on_factory = all(unit.pos == closest_factory_tile)\n",
    "            ajacent_factory = 1 >= abs((unit.pos[0] - closest_factory_tile[0])**2 + (unit.pos[1] - closest_factory_tile[1])**2)\n",
    "\n",
    "\n",
    "            ### Heavy bot logic\n",
    "            if isHeavy:\n",
    "                below_power_threshold_heavy = unit.power <= 100\n",
    "                below_power_move_heavy = unit.power <= 50\n",
    "                free_cargo_ice = unit.cargo.ice < cargo_limit_ice\n",
    "                recharge_need_heavy = math.floor(1000 - unit.power)\n",
    "                on_ice = all(unit.pos == closest_ice_tile)\n",
    "\n",
    "                # Print out bot info \n",
    "                #print(unit.unit_type, unit_id, \"at:\", unit.pos, \"power and ice:\", unit.power, unit.cargo.ice, \"unit queue:\", len(unit.action_queue))\n",
    "                \n",
    "                ### performs overwatch check to see if HEAVY bots on flanks\n",
    "                overwatch_check = heavy_overwatch(\n",
    "                    unit=unit,\n",
    "                    unit_x=unit.pos[0],\n",
    "                    unit_y=unit.pos[1],\n",
    "                    on_factory=on_factory,\n",
    "                    closest_factory_tile=closest_factory_tile,\n",
    "                    game_state=game_state,\n",
    "                    opponent=self.opp_player\n",
    "                )\n",
    "\n",
    "                # has hostile HEAVY on flank, moves to attack, or to factory tile if not already on one\n",
    "                if overwatch_check != False:\n",
    "                    move_bookings.append(overwatch_check)\n",
    "                    actions[unit_id] = [unit.move(overwatch_check, repeat=0)]\n",
    "                    continue\n",
    "\n",
    "                # on ice, but not over cargo capacity limit. Dig ice\n",
    "                elif on_ice and free_cargo_ice and not below_power_threshold_heavy:\n",
    "                    actions[unit_id] = [unit.dig(repeat=0)]\n",
    "                    #print(unit_id, \"digging\")\n",
    "                \n",
    "                # not on ice, not over cargo capacity limit. Move to ice\n",
    "                elif not on_ice and free_cargo_ice and not below_power_threshold_heavy:\n",
    "                    direction = direction_to(unit.pos, closest_ice_tile)\n",
    "                    move_bookings.append(coord_from_direction(x=unit.pos[0], y=unit.pos[1], direction=direction))\n",
    "                    actions[unit_id] = [unit.move(direction, repeat=0)]\n",
    "                    #print(unit_id, \"move dig\")\n",
    "                \n",
    "                # on factory, below power threshold. Pickup power\n",
    "                elif on_factory and below_power_threshold_heavy:\n",
    "                    direction = direction_to(unit.pos, closest_factory_tile)\n",
    "                    actions[unit_id] = [unit.pickup(4, recharge_need_heavy, repeat=0)]\n",
    "                    #print(unit_id, \"pickup power\")\n",
    "                \n",
    "                # not on factory, below power threshold. Move to recharge\n",
    "                elif not on_factory and (below_power_threshold_heavy and not below_power_move_heavy):\n",
    "                    direction = direction_to(unit.pos, closest_factory_tile)\n",
    "                    move_bookings.append(coord_from_direction(x=unit.pos[0], y=unit.pos[1], direction=direction))\n",
    "                    actions[unit_id] = [unit.move(direction, repeat=0)]\n",
    "                    #print(unit_id, \"move recharge\")\n",
    "\n",
    "                # ajacent to factory, over cargo limit. Transfer ice\n",
    "                elif ajacent_factory and not free_cargo_ice and not below_power_threshold_heavy:\n",
    "                    direction = direction_to(unit.pos, closest_factory_tile)\n",
    "                    actions[unit_id] = [unit.transfer(direction, 0, unit.cargo.ice, repeat=0)]\n",
    "                    #print(unit_id, \"transfer\")\n",
    "\n",
    "                # not ajacent to factory. Move to transfer\n",
    "                elif not ajacent_factory and not free_cargo_ice and not below_power_threshold_heavy:\n",
    "                    direction = direction_to(unit.pos, closest_factory_tile)\n",
    "                    move_bookings.append(coord_from_direction(x=unit.pos[0], y=unit.pos[1], direction=direction))\n",
    "                    actions[unit_id] = [unit.move(direction, repeat=0)]\n",
    "                    #print(unit_id, \"move transfer\")\n",
    "                \n",
    "                # not on factory, below critical power. Do nothing (recharge)\n",
    "                elif not on_factory and (below_power_threshold_heavy and below_power_move_heavy):\n",
    "                    #print(unit_id, \"doing nothing (recharging)\")\n",
    "                    continue\n",
    "\n",
    "\n",
    "            ### Finds all ore tiles, sorts by proximity to light bot\n",
    "            ### Light bot logic\n",
    "            if isLight:\n",
    "                # sorts low rubble tiles by proximity to closest factory tile to unit\n",
    "                sorted_rubble_tile_vision = sorted(filter(lambda x: (game_state.board.rubble[x[0]][x[1]] != 0) and (game_state.board.ice[x[0]][x[1]] != 1) and (game_state.board.ore[x[0]][x[1]] != 1), rubble_tile_locations_low_rubble), key=lambda coord: (coord[0] - closest_factory_tile[0])**2 + (coord[1] - closest_factory_tile[1])**2)\n",
    "                lowest_rubble__tile_visible = sorted_rubble_tile_vision[0]\n",
    "\n",
    "                closest_ore_tiles = sorted(ore_tile_locations, key=lambda p: (p[0] - unit.pos[0])**2 + (p[1] - unit.pos[1])**2 )\n",
    "                closest_rubble_tiles = sorted(rubble_tile_locations, key=lambda p: (p[0] - unit.pos[0])**2 + (p[1] - unit.pos[1])**2 )\n",
    "                closest_ore_tile = closest_ore_tiles[0]\n",
    "                closest_rubble_tile = closest_rubble_tiles[0]\n",
    "                \n",
    "                # decides if the bot should be assigned an ore location or find closest rubble\n",
    "                on_ore_assignment = mine_assignments < light_ore_miners\n",
    "                if on_ore_assignment and mine_assignments < len(closest_ore_tiles):\n",
    "                    closest_ore_tile = closest_ore_tiles[mine_assignments]\n",
    "                    mine_assignments += 1\n",
    "                if not on_ore_assignment and rubble_assignments < len(closest_rubble_tiles):\n",
    "                    rubble_assignments += 1\n",
    "\n",
    "                charge_state = game_state.is_day() and unit.power < 150 and not on_factory\n",
    "                below_power_threshold_light = unit.power <= 6\n",
    "                power_for_dig = unit.power >= unit.dig_cost(game_state)\n",
    "                recharge_need_light = math.floor(150 - unit.power)\n",
    "                on_ore = all(unit.pos == closest_ore_tile)\n",
    "                on_rubble = all(unit.pos == closest_rubble_tile)\n",
    "                free_cargo_ore = unit.cargo.ore < cargo_limit_ore\n",
    "\n",
    "                ### performs overwatch check to see if HEAVY bots on flanks\n",
    "                overwatch_check = light_overwatch(\n",
    "                    unit=unit,\n",
    "                    unit_x=unit.pos[0],\n",
    "                    unit_y=unit.pos[1],\n",
    "                    game_state=game_state,\n",
    "                    opponent=self.opp_player\n",
    "                )\n",
    "\n",
    "                if overwatch_check != False:\n",
    "                    newDirection = check_tile_occupation(\n",
    "                        game_state=game_state,\n",
    "                        unit_x=unit.pos[0],\n",
    "                        unit_y=unit.pos[1],\n",
    "                        direction=overwatch_check,\n",
    "                        booked_coords=move_bookings,\n",
    "                        player=self.player,\n",
    "                        opponent=self.opp_player\n",
    "                    )\n",
    "                    move_bookings.append(coord_from_direction(x=unit.pos[0], y=unit.pos[1], direction=newDirection))\n",
    "                    actions[unit_id] = [unit.move(newDirection, repeat=0)]\n",
    "                    continue\n",
    "\n",
    "                # Print out bot info \n",
    "                #print(unit.unit_type, unit_id, \"at:\", unit.pos, \"power and ore:\", unit.power, unit.cargo.ore, \"unit queue:\", len(unit.action_queue))\n",
    "\n",
    "                # TODO perform some sort of check to see if bot has hostile bot (light = attack, heavy = flee) on horizontal/vertical tiles\n",
    "\n",
    "                # on ore, under cargo limit, not below power threshold, not charge state, not charge state. Dig ore\n",
    "                if on_ore and free_cargo_ore and not below_power_threshold_light and not charge_state:\n",
    "                    actions[unit_id] = [unit.dig(repeat=0)]\n",
    "                    #print(unit_id, \"dig ore\")\n",
    "                \n",
    "\n",
    "                # on rubble, under cargo limit, not below power threshold, not charge state. Dig rubble\n",
    "                elif on_rubble and free_cargo_ore and not below_power_threshold_light and not charge_state:\n",
    "                    actions[unit_id] = [unit.dig(repeat=0)]\n",
    "                    #print(unit_id, \"dig rubble\")\n",
    "                \n",
    "\n",
    "                # on ore assignment, not on ore, not on rubble, under cargo limit, not below power threshold, not charge state. Move to ore\n",
    "                elif on_ore_assignment and not on_ore and not on_rubble and free_cargo_ore and not below_power_threshold_light and not charge_state:\n",
    "                    direction = direction_to(unit.pos, closest_ore_tile)\n",
    "                    newDirection = check_tile_occupation(game_state=game_state,\n",
    "                        unit_x=unit.pos[0],\n",
    "                        unit_y=unit.pos[1],\n",
    "                        direction=direction,\n",
    "                        booked_coords=move_bookings,\n",
    "                        player=self.player,\n",
    "                        opponent=self.opp_player\n",
    "                    )\n",
    "                \n",
    "                    if newDirection == 0:\n",
    "                        continue\n",
    "                        #print(unit_id, \"recharge instead of moving\")\n",
    "                        \n",
    "                    else:\n",
    "                        move_bookings.append(coord_from_direction(x=unit.pos[0], y=unit.pos[1], direction=newDirection))\n",
    "                        actions[unit_id] = [unit.move(newDirection, repeat=0)]\n",
    "                        #print(unit_id, \"move to ore\")\n",
    "                    \n",
    "\n",
    "                # not on ore assignment, not on ore, not on rubble, under cargo limit, not below power threshold, not charge state. Move to rubble\n",
    "                elif not on_ore_assignment and not on_rubble and free_cargo_ore and not below_power_threshold_light and not charge_state:\n",
    "                    direction = direction_to(unit.pos, lowest_rubble__tile_visible)\n",
    "                    newDirection = check_tile_occupation(game_state=game_state,\n",
    "                        unit_x=unit.pos[0],\n",
    "                        unit_y=unit.pos[1],\n",
    "                        direction=direction,\n",
    "                        booked_coords=move_bookings,\n",
    "                        player=self.player,\n",
    "                        opponent=self.opp_player\n",
    "                    )\n",
    "\n",
    "                    if newDirection == 0:\n",
    "                        continue\n",
    "                        #print(unit_id, \"recharge instead of moving\")\n",
    "                        \n",
    "                    else:\n",
    "                        move_bookings.append(coord_from_direction(x=unit.pos[0], y=unit.pos[1], direction=newDirection))\n",
    "                        actions[unit_id] = [unit.move(newDirection, repeat=0)]\n",
    "                        #print(unit_id, \"move to rubble\")\n",
    "\n",
    "\n",
    "                # below power threshold or in a charge state. Do nothing (recharge)\n",
    "                elif below_power_threshold_light or charge_state:\n",
    "                    continue\n",
    "                    #print(unit_id, \"recharge\")\n",
    "                \n",
    "\n",
    "                # ajacent to factory, at/over cargo limit, not below power threshold, not charge state. Transfer ore\n",
    "                elif ajacent_factory and not free_cargo_ore and not below_power_threshold_light and not charge_state:\n",
    "                    direction = direction_to(unit.pos, closest_factory_tile)\n",
    "                    actions[unit_id] = [unit.transfer(direction, 1, unit.cargo.ore)]\n",
    "                    #print(unit_id, \"transfer cargo\")\n",
    "                \n",
    "\n",
    "                # not ajacent to factory, at/over cargo limit, not below power threshold, not charge state. Move to transfer\n",
    "                elif not ajacent_factory and not free_cargo_ore and not below_power_threshold_light and not charge_state:\n",
    "                    direction = direction_to(unit.pos, closest_factory_tile)\n",
    "                    move_bookings.append(coord_from_direction(x=unit.pos[0], y=unit.pos[1], direction=direction))\n",
    "                    actions[unit_id] = [unit.move(direction, repeat=0)]\n",
    "                    #print(unit_id, \"move to transfer cargo\")\n",
    "\n",
    "        '''\n",
    "        # NB DO NOT REMOVE\n",
    "        # SERVES AS BACKUP FOR TESTING if lux_functions stops working\n",
    "        if game_state.env_steps >= 998:\n",
    "            player0_total_lichen = 0\n",
    "            player1_total_lichen = 0\n",
    "            game_state: GameState = obs_to_game_state(step, env.state.env_cfg, obs)\n",
    "            player0_factories = game_state.factories['player_0']\n",
    "            player1_factories = game_state.factories['player_1']\n",
    "\n",
    "            for factory_id, factory in player0_factories.items():\n",
    "                lichen_strain_tiles = np.argwhere(game_state.board.lichen_strains == factory.strain_id)\n",
    "                for tile in lichen_strain_tiles:\n",
    "                    player0_total_lichen += game_state.board.lichen[tile[0]][tile[1]]\n",
    "\n",
    "\n",
    "            for factory_id, factory in player1_factories.items():\n",
    "                lichen_strain_tiles = np.argwhere(game_state.board.lichen_strains == factory.strain_id)\n",
    "                for tile in lichen_strain_tiles:\n",
    "                    player1_total_lichen += game_state.board.lichen[tile[0]][tile[1]]\n",
    "\n",
    "\n",
    "            print(\"turn:\", game_state.env_steps)\n",
    "            print('player_0 lichen:', player0_total_lichen)\n",
    "            print('player_1 lichen:', player1_total_lichen)\n",
    "        '''\n",
    "\n",
    "        #print()\n",
    "\n",
    "\n",
    "\n",
    "\n",
    "        \n",
    "\n",
    "        return actions\n",
    "\n"
   ]
  },
  {
   "cell_type": "code",
   "execution_count": 26,
   "metadata": {},
   "outputs": [
    {
     "data": {
      "application/vnd.plotly.v1+json": {
       "config": {
        "plotlyServerURL": "https://plot.ly"
       },
       "data": [
        {
         "hovertemplate": "x: %{x}<br>y: %{y}<br>color: [%{z[0]}, %{z[1]}, %{z[2]}]<extra></extra>",
         "name": "0",
         "source": "data:image/png;base64,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",
         "type": "image",
         "xaxis": "x",
         "yaxis": "y"
        }
       ],
       "layout": {
        "margin": {
         "t": 60
        },
        "template": {
         "data": {
          "bar": [
           {
            "error_x": {
             "color": "#2a3f5f"
            },
            "error_y": {
             "color": "#2a3f5f"
            },
            "marker": {
             "line": {
              "color": "#E5ECF6",
              "width": 0.5
             },
             "pattern": {
              "fillmode": "overlay",
              "size": 10,
              "solidity": 0.2
             }
            },
            "type": "bar"
           }
          ],
          "barpolar": [
           {
            "marker": {
             "line": {
              "color": "#E5ECF6",
              "width": 0.5
             },
             "pattern": {
              "fillmode": "overlay",
              "size": 10,
              "solidity": 0.2
             }
            },
            "type": "barpolar"
           }
          ],
          "carpet": [
           {
            "aaxis": {
             "endlinecolor": "#2a3f5f",
             "gridcolor": "white",
             "linecolor": "white",
             "minorgridcolor": "white",
             "startlinecolor": "#2a3f5f"
            },
            "baxis": {
             "endlinecolor": "#2a3f5f",
             "gridcolor": "white",
             "linecolor": "white",
             "minorgridcolor": "white",
             "startlinecolor": "#2a3f5f"
            },
            "type": "carpet"
           }
          ],
          "choropleth": [
           {
            "colorbar": {
             "outlinewidth": 0,
             "ticks": ""
            },
            "type": "choropleth"
           }
          ],
          "contour": [
           {
            "colorbar": {
             "outlinewidth": 0,
             "ticks": ""
            },
            "colorscale": [
             [
              0,
              "#0d0887"
             ],
             [
              0.1111111111111111,
              "#46039f"
             ],
             [
              0.2222222222222222,
              "#7201a8"
             ],
             [
              0.3333333333333333,
              "#9c179e"
             ],
             [
              0.4444444444444444,
              "#bd3786"
             ],
             [
              0.5555555555555556,
              "#d8576b"
             ],
             [
              0.6666666666666666,
              "#ed7953"
             ],
             [
              0.7777777777777778,
              "#fb9f3a"
             ],
             [
              0.8888888888888888,
              "#fdca26"
             ],
             [
              1,
              "#f0f921"
             ]
            ],
            "type": "contour"
           }
          ],
          "contourcarpet": [
           {
            "colorbar": {
             "outlinewidth": 0,
             "ticks": ""
            },
            "type": "contourcarpet"
           }
          ],
          "heatmap": [
           {
            "colorbar": {
             "outlinewidth": 0,
             "ticks": ""
            },
            "colorscale": [
             [
              0,
              "#0d0887"
             ],
             [
              0.1111111111111111,
              "#46039f"
             ],
             [
              0.2222222222222222,
              "#7201a8"
             ],
             [
              0.3333333333333333,
              "#9c179e"
             ],
             [
              0.4444444444444444,
              "#bd3786"
             ],
             [
              0.5555555555555556,
              "#d8576b"
             ],
             [
              0.6666666666666666,
              "#ed7953"
             ],
             [
              0.7777777777777778,
              "#fb9f3a"
             ],
             [
              0.8888888888888888,
              "#fdca26"
             ],
             [
              1,
              "#f0f921"
             ]
            ],
            "type": "heatmap"
           }
          ],
          "heatmapgl": [
           {
            "colorbar": {
             "outlinewidth": 0,
             "ticks": ""
            },
            "colorscale": [
             [
              0,
              "#0d0887"
             ],
             [
              0.1111111111111111,
              "#46039f"
             ],
             [
              0.2222222222222222,
              "#7201a8"
             ],
             [
              0.3333333333333333,
              "#9c179e"
             ],
             [
              0.4444444444444444,
              "#bd3786"
             ],
             [
              0.5555555555555556,
              "#d8576b"
             ],
             [
              0.6666666666666666,
              "#ed7953"
             ],
             [
              0.7777777777777778,
              "#fb9f3a"
             ],
             [
              0.8888888888888888,
              "#fdca26"
             ],
             [
              1,
              "#f0f921"
             ]
            ],
            "type": "heatmapgl"
           }
          ],
          "histogram": [
           {
            "marker": {
             "pattern": {
              "fillmode": "overlay",
              "size": 10,
              "solidity": 0.2
             }
            },
            "type": "histogram"
           }
          ],
          "histogram2d": [
           {
            "colorbar": {
             "outlinewidth": 0,
             "ticks": ""
            },
            "colorscale": [
             [
              0,
              "#0d0887"
             ],
             [
              0.1111111111111111,
              "#46039f"
             ],
             [
              0.2222222222222222,
              "#7201a8"
             ],
             [
              0.3333333333333333,
              "#9c179e"
             ],
             [
              0.4444444444444444,
              "#bd3786"
             ],
             [
              0.5555555555555556,
              "#d8576b"
             ],
             [
              0.6666666666666666,
              "#ed7953"
             ],
             [
              0.7777777777777778,
              "#fb9f3a"
             ],
             [
              0.8888888888888888,
              "#fdca26"
             ],
             [
              1,
              "#f0f921"
             ]
            ],
            "type": "histogram2d"
           }
          ],
          "histogram2dcontour": [
           {
            "colorbar": {
             "outlinewidth": 0,
             "ticks": ""
            },
            "colorscale": [
             [
              0,
              "#0d0887"
             ],
             [
              0.1111111111111111,
              "#46039f"
             ],
             [
              0.2222222222222222,
              "#7201a8"
             ],
             [
              0.3333333333333333,
              "#9c179e"
             ],
             [
              0.4444444444444444,
              "#bd3786"
             ],
             [
              0.5555555555555556,
              "#d8576b"
             ],
             [
              0.6666666666666666,
              "#ed7953"
             ],
             [
              0.7777777777777778,
              "#fb9f3a"
             ],
             [
              0.8888888888888888,
              "#fdca26"
             ],
             [
              1,
              "#f0f921"
             ]
            ],
            "type": "histogram2dcontour"
           }
          ],
          "mesh3d": [
           {
            "colorbar": {
             "outlinewidth": 0,
             "ticks": ""
            },
            "type": "mesh3d"
           }
          ],
          "parcoords": [
           {
            "line": {
             "colorbar": {
              "outlinewidth": 0,
              "ticks": ""
             }
            },
            "type": "parcoords"
           }
          ],
          "pie": [
           {
            "automargin": true,
            "type": "pie"
           }
          ],
          "scatter": [
           {
            "fillpattern": {
             "fillmode": "overlay",
             "size": 10,
             "solidity": 0.2
            },
            "type": "scatter"
           }
          ],
          "scatter3d": [
           {
            "line": {
             "colorbar": {
              "outlinewidth": 0,
              "ticks": ""
             }
            },
            "marker": {
             "colorbar": {
              "outlinewidth": 0,
              "ticks": ""
             }
            },
            "type": "scatter3d"
           }
          ],
          "scattercarpet": [
           {
            "marker": {
             "colorbar": {
              "outlinewidth": 0,
              "ticks": ""
             }
            },
            "type": "scattercarpet"
           }
          ],
          "scattergeo": [
           {
            "marker": {
             "colorbar": {
              "outlinewidth": 0,
              "ticks": ""
             }
            },
            "type": "scattergeo"
           }
          ],
          "scattergl": [
           {
            "marker": {
             "colorbar": {
              "outlinewidth": 0,
              "ticks": ""
             }
            },
            "type": "scattergl"
           }
          ],
          "scattermapbox": [
           {
            "marker": {
             "colorbar": {
              "outlinewidth": 0,
              "ticks": ""
             }
            },
            "type": "scattermapbox"
           }
          ],
          "scatterpolar": [
           {
            "marker": {
             "colorbar": {
              "outlinewidth": 0,
              "ticks": ""
             }
            },
            "type": "scatterpolar"
           }
          ],
          "scatterpolargl": [
           {
            "marker": {
             "colorbar": {
              "outlinewidth": 0,
              "ticks": ""
             }
            },
            "type": "scatterpolargl"
           }
          ],
          "scatterternary": [
           {
            "marker": {
             "colorbar": {
              "outlinewidth": 0,
              "ticks": ""
             }
            },
            "type": "scatterternary"
           }
          ],
          "surface": [
           {
            "colorbar": {
             "outlinewidth": 0,
             "ticks": ""
            },
            "colorscale": [
             [
              0,
              "#0d0887"
             ],
             [
              0.1111111111111111,
              "#46039f"
             ],
             [
              0.2222222222222222,
              "#7201a8"
             ],
             [
              0.3333333333333333,
              "#9c179e"
             ],
             [
              0.4444444444444444,
              "#bd3786"
             ],
             [
              0.5555555555555556,
              "#d8576b"
             ],
             [
              0.6666666666666666,
              "#ed7953"
             ],
             [
              0.7777777777777778,
              "#fb9f3a"
             ],
             [
              0.8888888888888888,
              "#fdca26"
             ],
             [
              1,
              "#f0f921"
             ]
            ],
            "type": "surface"
           }
          ],
          "table": [
           {
            "cells": {
             "fill": {
              "color": "#EBF0F8"
             },
             "line": {
              "color": "white"
             }
            },
            "header": {
             "fill": {
              "color": "#C8D4E3"
             },
             "line": {
              "color": "white"
             }
            },
            "type": "table"
           }
          ]
         },
         "layout": {
          "annotationdefaults": {
           "arrowcolor": "#2a3f5f",
           "arrowhead": 0,
           "arrowwidth": 1
          },
          "autotypenumbers": "strict",
          "coloraxis": {
           "colorbar": {
            "outlinewidth": 0,
            "ticks": ""
           }
          },
          "colorscale": {
           "diverging": [
            [
             0,
             "#8e0152"
            ],
            [
             0.1,
             "#c51b7d"
            ],
            [
             0.2,
             "#de77ae"
            ],
            [
             0.3,
             "#f1b6da"
            ],
            [
             0.4,
             "#fde0ef"
            ],
            [
             0.5,
             "#f7f7f7"
            ],
            [
             0.6,
             "#e6f5d0"
            ],
            [
             0.7,
             "#b8e186"
            ],
            [
             0.8,
             "#7fbc41"
            ],
            [
             0.9,
             "#4d9221"
            ],
            [
             1,
             "#276419"
            ]
           ],
           "sequential": [
            [
             0,
             "#0d0887"
            ],
            [
             0.1111111111111111,
             "#46039f"
            ],
            [
             0.2222222222222222,
             "#7201a8"
            ],
            [
             0.3333333333333333,
             "#9c179e"
            ],
            [
             0.4444444444444444,
             "#bd3786"
            ],
            [
             0.5555555555555556,
             "#d8576b"
            ],
            [
             0.6666666666666666,
             "#ed7953"
            ],
            [
             0.7777777777777778,
             "#fb9f3a"
            ],
            [
             0.8888888888888888,
             "#fdca26"
            ],
            [
             1,
             "#f0f921"
            ]
           ],
           "sequentialminus": [
            [
             0,
             "#0d0887"
            ],
            [
             0.1111111111111111,
             "#46039f"
            ],
            [
             0.2222222222222222,
             "#7201a8"
            ],
            [
             0.3333333333333333,
             "#9c179e"
            ],
            [
             0.4444444444444444,
             "#bd3786"
            ],
            [
             0.5555555555555556,
             "#d8576b"
            ],
            [
             0.6666666666666666,
             "#ed7953"
            ],
            [
             0.7777777777777778,
             "#fb9f3a"
            ],
            [
             0.8888888888888888,
             "#fdca26"
            ],
            [
             1,
             "#f0f921"
            ]
           ]
          },
          "colorway": [
           "#636efa",
           "#EF553B",
           "#00cc96",
           "#ab63fa",
           "#FFA15A",
           "#19d3f3",
           "#FF6692",
           "#B6E880",
           "#FF97FF",
           "#FECB52"
          ],
          "font": {
           "color": "#2a3f5f"
          },
          "geo": {
           "bgcolor": "white",
           "lakecolor": "white",
           "landcolor": "#E5ECF6",
           "showlakes": true,
           "showland": true,
           "subunitcolor": "white"
          },
          "hoverlabel": {
           "align": "left"
          },
          "hovermode": "closest",
          "mapbox": {
           "style": "light"
          },
          "paper_bgcolor": "white",
          "plot_bgcolor": "#E5ECF6",
          "polar": {
           "angularaxis": {
            "gridcolor": "white",
            "linecolor": "white",
            "ticks": ""
           },
           "bgcolor": "#E5ECF6",
           "radialaxis": {
            "gridcolor": "white",
            "linecolor": "white",
            "ticks": ""
           }
          },
          "scene": {
           "xaxis": {
            "backgroundcolor": "#E5ECF6",
            "gridcolor": "white",
            "gridwidth": 2,
            "linecolor": "white",
            "showbackground": true,
            "ticks": "",
            "zerolinecolor": "white"
           },
           "yaxis": {
            "backgroundcolor": "#E5ECF6",
            "gridcolor": "white",
            "gridwidth": 2,
            "linecolor": "white",
            "showbackground": true,
            "ticks": "",
            "zerolinecolor": "white"
           },
           "zaxis": {
            "backgroundcolor": "#E5ECF6",
            "gridcolor": "white",
            "gridwidth": 2,
            "linecolor": "white",
            "showbackground": true,
            "ticks": "",
            "zerolinecolor": "white"
           }
          },
          "shapedefaults": {
           "line": {
            "color": "#2a3f5f"
           }
          },
          "ternary": {
           "aaxis": {
            "gridcolor": "white",
            "linecolor": "white",
            "ticks": ""
           },
           "baxis": {
            "gridcolor": "white",
            "linecolor": "white",
            "ticks": ""
           },
           "bgcolor": "#E5ECF6",
           "caxis": {
            "gridcolor": "white",
            "linecolor": "white",
            "ticks": ""
           }
          },
          "title": {
           "x": 0.05
          },
          "xaxis": {
           "automargin": true,
           "gridcolor": "white",
           "linecolor": "white",
           "ticks": "",
           "title": {
            "standoff": 15
           },
           "zerolinecolor": "white",
           "zerolinewidth": 2
          },
          "yaxis": {
           "automargin": true,
           "gridcolor": "white",
           "linecolor": "white",
           "ticks": "",
           "title": {
            "standoff": 15
           },
           "zerolinecolor": "white",
           "zerolinewidth": 2
          }
         }
        },
        "xaxis": {
         "anchor": "y",
         "domain": [
          0,
          1
         ]
        },
        "yaxis": {
         "anchor": "x",
         "domain": [
          0,
          1
         ]
        }
       }
      }
     },
     "metadata": {},
     "output_type": "display_data"
    },
    {
     "name": "stdout",
     "output_type": "stream",
     "text": [
      "spawn choices 105\n",
      "[(array([15, 15]), 6.5625), (array([13, 17]), 9.1875), (array([15, 16]), 9.5), (array([15, 14]), 9.625), (array([14, 17]), 11.5625), (array([12, 17]), 12.0), (array([32, 36]), 13.3125), (array([10,  4]), 13.5), (array([9, 3]), 13.5625), (array([31, 36]), 13.6875), (array([30, 36]), 13.875), (array([8, 3]), 14.1875), (array([10,  5]), 14.1875), (array([13, 13]), 15.0), (array([14, 13]), 15.3125), (array([29, 36]), 15.4375), (array([12, 13]), 16.3125), (array([10,  6]), 16.4375), (array([28, 36]), 17.0), (array([7, 3]), 17.9375), (array([27, 36]), 18.875), (array([33, 35]), 18.875), (array([11, 14]), 22.5), (array([9, 7]), 23.5), (array([11, 16]), 24.0625), (array([11, 15]), 24.125), (array([26, 35]), 24.25), (array([8, 7]), 25.25), (array([33, 34]), 25.5625), (array([6, 4]), 25.875), (array([6, 5]), 27.3125), (array([26, 34]), 27.8125), (array([7, 7]), 28.5), (array([33, 33]), 28.5625), (array([26, 33]), 28.75), (array([6, 6]), 29.125), (array([27, 32]), 30.125), (array([28, 32]), 31.125), (array([31, 28]), 32.6875), (array([29, 32]), 32.8125), (array([32, 32]), 32.9375), (array([34, 31]), 33.5625), (array([33, 31]), 33.8125), (array([35, 30]), 34.3125), (array([32, 31]), 35.0), (array([35, 29]), 35.1875), (array([35, 28]), 35.25), (array([31, 29]), 35.375), (array([30, 32]), 35.5625), (array([31, 32]), 35.625), (array([31, 30]), 36.875), (array([32, 27]), 38.5625), (array([ 3, 14]), 39.125), (array([33, 27]), 39.9375), (array([34, 27]), 39.9375), (array([ 2, 13]), 41.333333333333336), (array([ 6, 11]), 41.875), (array([ 5, 10]), 42.625), (array([31, 13]), 42.6875), (array([ 4, 14]), 42.8125), (array([ 3, 10]), 42.9375), (array([32, 13]), 42.9375), (array([ 4, 10]), 43.375), (array([30, 14]), 43.4375), (array([ 2, 12]), 43.833333333333336), (array([30, 15]), 44.5), (array([35, 14]), 44.5625), (array([34, 14]), 45.1875), (array([36, 17]), 45.375), (array([36, 18]), 45.8125), (array([11, 42]), 46.75), (array([35, 19]), 46.9375), (array([16, 44]), 47.125), (array([16, 43]), 47.25), (array([33, 13]), 47.375), (array([34, 19]), 47.625), (array([11, 43]), 47.6875), (array([ 2, 11]), 47.833333333333336), (array([36, 16]), 49.0), (array([36, 15]), 49.8125), (array([30, 16]), 49.9375), (array([11, 41]), 50.75), (array([16, 42]), 51.625), (array([30, 17]), 52.4375), (array([33, 19]), 52.5), (array([ 6, 35]), 53.125), (array([12, 44]), 53.4375), (array([15, 45]), 55.5), (array([ 7, 31]), 55.6875), (array([15, 41]), 55.75), (array([ 6, 31]), 55.875), (array([ 8, 32]), 56.25), (array([14, 40]), 56.75), (array([ 7, 35]), 56.8125), (array([ 8, 33]), 57.0), (array([ 5, 31]), 57.0625), (array([13, 45]), 57.416666666666664), (array([ 5, 35]), 57.4375), (array([ 4, 32]), 58.8125), (array([ 8, 34]), 58.8125), (array([13, 40]), 58.9375), (array([ 4, 33]), 59.25), (array([14, 45]), 60.083333333333336), (array([ 4, 34]), 60.5625), (array([12, 40]), 62.6875)]\n",
      "[15 15]\n",
      "spawn choices 81\n",
      "[(array([32, 36]), 13.3125), (array([31, 36]), 13.6875), (array([30, 36]), 13.875), (array([29, 36]), 15.4375), (array([28, 36]), 17.0), (array([27, 36]), 18.875), (array([33, 35]), 18.875), (array([26, 35]), 24.25), (array([33, 34]), 25.5625), (array([26, 34]), 27.8125), (array([33, 33]), 28.5625), (array([26, 33]), 28.75), (array([27, 32]), 30.125), (array([28, 32]), 31.125), (array([31, 28]), 32.6875), (array([29, 32]), 32.8125), (array([32, 32]), 32.9375), (array([34, 31]), 33.5625), (array([33, 31]), 33.8125), (array([35, 30]), 34.3125), (array([32, 31]), 35.0), (array([35, 29]), 35.1875), (array([35, 28]), 35.25), (array([31, 29]), 35.375), (array([30, 32]), 35.5625), (array([31, 32]), 35.625), (array([31, 30]), 36.875), (array([32, 27]), 38.5625), (array([ 3, 14]), 39.125), (array([33, 27]), 39.9375), (array([34, 27]), 39.9375), (array([ 2, 13]), 41.333333333333336), (array([ 6, 11]), 41.875), (array([ 5, 10]), 42.625), (array([31, 13]), 42.6875), (array([ 4, 14]), 42.8125), (array([ 3, 10]), 42.9375), (array([32, 13]), 42.9375), (array([ 4, 10]), 43.375), (array([30, 14]), 43.4375), (array([ 2, 12]), 43.833333333333336), (array([30, 15]), 44.5), (array([35, 14]), 44.5625), (array([34, 14]), 45.1875), (array([36, 17]), 45.375), (array([36, 18]), 45.8125), (array([11, 42]), 46.75), (array([35, 19]), 46.9375), (array([16, 44]), 47.125), (array([16, 43]), 47.25), (array([33, 13]), 47.375), (array([34, 19]), 47.625), (array([11, 43]), 47.6875), (array([ 2, 11]), 47.833333333333336), (array([36, 16]), 49.0), (array([36, 15]), 49.8125), (array([30, 16]), 49.9375), (array([11, 41]), 50.75), (array([16, 42]), 51.625), (array([30, 17]), 52.4375), (array([33, 19]), 52.5), (array([ 6, 35]), 53.125), (array([12, 44]), 53.4375), (array([15, 45]), 55.5), (array([ 7, 31]), 55.6875), (array([15, 41]), 55.75), (array([ 6, 31]), 55.875), (array([ 8, 32]), 56.25), (array([14, 40]), 56.75), (array([ 7, 35]), 56.8125), (array([ 8, 33]), 57.0), (array([ 5, 31]), 57.0625), (array([13, 45]), 57.416666666666664), (array([ 5, 35]), 57.4375), (array([ 4, 32]), 58.8125), (array([ 8, 34]), 58.8125), (array([13, 40]), 58.9375), (array([ 4, 33]), 59.25), (array([14, 45]), 60.083333333333336), (array([ 4, 34]), 60.5625), (array([12, 40]), 62.6875)]\n",
      "[32 36]\n",
      "spawn choices 60\n",
      "[(array([31, 28]), 32.6875), (array([34, 31]), 33.5625), (array([35, 30]), 34.3125), (array([35, 29]), 35.1875), (array([35, 28]), 35.25), (array([31, 29]), 35.375), (array([32, 27]), 38.5625), (array([ 3, 14]), 39.125), (array([33, 27]), 39.9375), (array([34, 27]), 39.9375), (array([ 2, 13]), 41.333333333333336), (array([ 6, 11]), 41.875), (array([ 5, 10]), 42.625), (array([31, 13]), 42.6875), (array([ 4, 14]), 42.8125), (array([ 3, 10]), 42.9375), (array([32, 13]), 42.9375), (array([ 4, 10]), 43.375), (array([30, 14]), 43.4375), (array([ 2, 12]), 43.833333333333336), (array([30, 15]), 44.5), (array([35, 14]), 44.5625), (array([34, 14]), 45.1875), (array([36, 17]), 45.375), (array([36, 18]), 45.8125), (array([11, 42]), 46.75), (array([35, 19]), 46.9375), (array([16, 44]), 47.125), (array([16, 43]), 47.25), (array([33, 13]), 47.375), (array([34, 19]), 47.625), (array([11, 43]), 47.6875), (array([ 2, 11]), 47.833333333333336), (array([36, 16]), 49.0), (array([36, 15]), 49.8125), (array([30, 16]), 49.9375), (array([11, 41]), 50.75), (array([16, 42]), 51.625), (array([30, 17]), 52.4375), (array([33, 19]), 52.5), (array([ 6, 35]), 53.125), (array([12, 44]), 53.4375), (array([15, 45]), 55.5), (array([ 7, 31]), 55.6875), (array([15, 41]), 55.75), (array([ 6, 31]), 55.875), (array([ 8, 32]), 56.25), (array([14, 40]), 56.75), (array([ 7, 35]), 56.8125), (array([ 8, 33]), 57.0), (array([ 5, 31]), 57.0625), (array([13, 45]), 57.416666666666664), (array([ 5, 35]), 57.4375), (array([ 4, 32]), 58.8125), (array([ 8, 34]), 58.8125), (array([13, 40]), 58.9375), (array([ 4, 33]), 59.25), (array([14, 45]), 60.083333333333336), (array([ 4, 34]), 60.5625), (array([12, 40]), 62.6875)]\n",
      "[31 28]\n",
      "spawn choices 42\n",
      "[(array([31, 13]), 42.6875), (array([32, 13]), 42.9375), (array([30, 14]), 43.4375), (array([30, 15]), 44.5), (array([35, 14]), 44.5625), (array([34, 14]), 45.1875), (array([36, 17]), 45.375), (array([36, 18]), 45.8125), (array([11, 42]), 46.75), (array([35, 19]), 46.9375), (array([16, 44]), 47.125), (array([16, 43]), 47.25), (array([33, 13]), 47.375), (array([34, 19]), 47.625), (array([11, 43]), 47.6875), (array([36, 16]), 49.0), (array([36, 15]), 49.8125), (array([30, 16]), 49.9375), (array([11, 41]), 50.75), (array([16, 42]), 51.625), (array([30, 17]), 52.4375), (array([33, 19]), 52.5), (array([ 6, 35]), 53.125), (array([12, 44]), 53.4375), (array([15, 45]), 55.5), (array([ 7, 31]), 55.6875), (array([15, 41]), 55.75), (array([ 6, 31]), 55.875), (array([ 8, 32]), 56.25), (array([14, 40]), 56.75), (array([ 7, 35]), 56.8125), (array([ 8, 33]), 57.0), (array([ 5, 31]), 57.0625), (array([13, 45]), 57.416666666666664), (array([ 5, 35]), 57.4375), (array([ 4, 32]), 58.8125), (array([ 8, 34]), 58.8125), (array([13, 40]), 58.9375), (array([ 4, 33]), 59.25), (array([14, 45]), 60.083333333333336), (array([ 4, 34]), 60.5625), (array([12, 40]), 62.6875)]\n",
      "[31 13]\n"
     ]
    },
    {
     "name": "stderr",
     "output_type": "stream",
     "text": [
      "OpenCV: FFMPEG: tag 0x30395056/'VP90' is not supported with codec id 167 and format 'webm / WebM'\n"
     ]
    },
    {
     "data": {
      "text/html": [
       "<video src=\"SPIrwHGimUzDnIqnRF.webm\" controls  >\n",
       "      Your browser does not support the <code>video</code> element.\n",
       "    </video>"
      ],
      "text/plain": [
       "<IPython.core.display.Video object>"
      ]
     },
     "execution_count": 26,
     "metadata": {},
     "output_type": "execute_result"
    }
   ],
   "source": [
    "# imports from support files with class and functions\n",
    "#from Submission1.agent import Archimedes_Lever_s\n",
    "import submission_6_agent\n",
    "import default_agent\n",
    "import lux_functions\n",
    "\n",
    "# recreate our agents and run\n",
    "player0 = env.agents[0]\n",
    "player1 = env.agents[1]\n",
    "agents = {\n",
    "    player0: Archimedes_Lever(env.agents[0], env.state.env_cfg), \n",
    "    player1: submission_6_agent.Archimedes_Lever_s(env.agents[1], env.state.env_cfg)#default_agent.Default_Agent(env.agents[1], env.state.env_cfg)\n",
    "}\n",
    "img = env.render(\"rgb_array\", width=48, height=48)\n",
    "px.imshow(img).show()\n",
    "lux_functions.interact(env=env, agents=agents, steps=1000, video=True)"
   ]
  },
  {
   "cell_type": "code",
   "execution_count": 27,
   "metadata": {},
   "outputs": [
    {
     "name": "stdout",
     "output_type": "stream",
     "text": [
      "spawn choices 152\n",
      "[(array([39,  1]), 5.875), (array([ 1, 33]), 12.5), (array([36,  8]), 12.75), (array([ 1, 21]), 14.125), (array([38,  4]), 14.5), (array([35,  7]), 17.3125), (array([35,  6]), 17.375), (array([41, 41]), 18.875), (array([40, 41]), 18.9375), (array([ 1, 34]), 21.625), (array([37,  4]), 22.75), (array([39, 41]), 23.0625), (array([38, 41]), 23.5625), (array([14, 11]), 24.4375), (array([ 5, 31]), 24.5625), (array([ 4, 22]), 24.625), (array([ 4, 23]), 24.8125), (array([11, 10]), 24.8125), (array([15, 10]), 25.5), (array([ 2, 21]), 26.166666666666668), (array([ 1, 32]), 26.25), (array([13, 11]), 26.6875), (array([34,  7]), 27.375), (array([12, 11]), 27.5625), (array([36,  5]), 27.75), (array([ 5, 34]), 28.25), (array([39,  2]), 28.333333333333332), (array([ 4, 24]), 29.0), (array([43,  1]), 29.5), (array([36,  9]), 29.6875), (array([41, 45]), 29.75), (array([39,  3]), 30.3125), (array([ 3, 21]), 30.6875), (array([ 5, 32]), 30.75), (array([11,  9]), 30.9375), (array([ 1, 14]), 31.125), (array([ 2, 14]), 31.166666666666668), (array([ 5, 21]), 31.4375), (array([ 5, 33]), 31.5625), (array([ 4, 12]), 31.8125), (array([40,  3]), 32.5625), (array([ 4, 30]), 32.8125), (array([41,  3]), 32.875), (array([ 4, 13]), 33.0625), (array([ 3, 14]), 33.1875), (array([ 4, 11]), 33.4375), (array([ 1, 35]), 33.75), (array([42,  3]), 34.0), (array([40, 45]), 34.166666666666664), (array([ 3, 25]), 35.1875), (array([42, 32]), 35.25), (array([ 5, 35]), 35.5), (array([ 5, 25]), 35.875), (array([ 6, 21]), 36.5625), (array([42, 42]), 37.1875), (array([42, 33]), 37.3125), (array([ 7, 25]), 37.625), (array([37, 42]), 37.6875), (array([ 7, 10]), 37.75), (array([35, 11]), 38.1875), (array([ 8, 24]), 38.3125), (array([42, 43]), 38.5), (array([ 1, 25]), 39.0), (array([13,  7]), 39.0625), (array([34, 11]), 39.1875), (array([15,  9]), 39.6875), (array([43,  2]), 40.166666666666664), (array([ 3, 30]), 40.375), (array([42, 44]), 40.4375), (array([38, 45]), 40.666666666666664), (array([ 2, 25]), 40.75), (array([ 5, 10]), 40.8125), (array([37, 43]), 40.8125), (array([ 7, 21]), 41.0), (array([ 2, 30]), 41.083333333333336), (array([ 1, 31]), 42.0), (array([42, 31]), 42.0625), (array([ 6, 10]), 42.125), (array([39, 45]), 42.166666666666664), (array([11,  8]), 42.625), (array([ 1, 10]), 42.875), (array([ 2, 10]), 43.0), (array([ 3, 10]), 43.125), (array([8, 9]), 43.1875), (array([37, 44]), 43.3125), (array([30,  5]), 43.75), (array([ 6, 25]), 44.1875), (array([30,  6]), 44.5), (array([36, 10]), 44.5625), (array([30,  7]), 44.6875), (array([33, 11]), 45.5625), (array([ 2, 36]), 45.583333333333336), (array([8, 8]), 46.8125), (array([ 8, 23]), 47.625), (array([ 8, 22]), 47.75), (array([30,  8]), 48.3125), (array([4, 9]), 49.25), (array([ 4, 36]), 49.25), (array([43, 30]), 50.25), (array([15,  8]), 51.0625), (array([31, 11]), 51.0625), (array([8, 7]), 52.25), (array([43, 34]), 52.25), (array([12,  7]), 52.375), (array([46, 31]), 52.625), (array([ 3, 36]), 52.9375), (array([13,  6]), 53.875), (array([30,  4]), 54.0625), (array([4, 8]), 54.75), (array([25, 37]), 54.8125), (array([24, 37]), 54.875), (array([32, 11]), 55.25), (array([30,  1]), 55.5), (array([30, 10]), 55.5), (array([30,  9]), 56.125), (array([4, 7]), 56.9375), (array([18,  6]), 58.5625), (array([46, 33]), 59.0), (array([26, 37]), 59.625), (array([46, 32]), 59.75), (array([27, 36]), 60.0), (array([44, 34]), 60.1875), (array([44, 30]), 60.5625), (array([45, 30]), 60.666666666666664), (array([25, 33]), 61.5625), (array([45, 34]), 61.75), (array([16,  8]), 62.25), (array([17,  7]), 62.75), (array([27, 34]), 63.75), (array([24, 33]), 65.625), (array([13,  5]), 65.9375), (array([18,  5]), 66.3125), (array([26, 33]), 66.6875), (array([14,  2]), 66.83333333333333), (array([5, 6]), 66.9375), (array([19,  2]), 67.91666666666667), (array([7, 6]), 68.0), (array([27, 35]), 68.8125), (array([6, 6]), 69.375), (array([23, 34]), 71.125), (array([13,  4]), 72.5), (array([19,  4]), 72.625), (array([23, 36]), 73.125), (array([15,  1]), 73.25), (array([14,  3]), 73.3125), (array([19,  3]), 73.5625), (array([30,  3]), 74.125), (array([18,  1]), 74.25), (array([23, 35]), 76.5625), (array([30,  2]), 80.25), (array([16,  1]), 92.375), (array([17,  1]), 92.375)]\n",
      "[39  1]\n",
      "spawn choices 123\n",
      "[(array([ 1, 33]), 12.5), (array([36,  8]), 12.75), (array([35,  7]), 17.3125), (array([35,  6]), 17.375), (array([41, 41]), 18.875), (array([40, 41]), 18.9375), (array([ 1, 34]), 21.625), (array([39, 41]), 23.0625), (array([38, 41]), 23.5625), (array([14, 11]), 24.4375), (array([ 5, 31]), 24.5625), (array([11, 10]), 24.8125), (array([15, 10]), 25.5), (array([ 1, 32]), 26.25), (array([13, 11]), 26.6875), (array([34,  7]), 27.375), (array([12, 11]), 27.5625), (array([ 5, 34]), 28.25), (array([36,  9]), 29.6875), (array([41, 45]), 29.75), (array([ 5, 32]), 30.75), (array([11,  9]), 30.9375), (array([ 1, 14]), 31.125), (array([ 2, 14]), 31.166666666666668), (array([ 5, 33]), 31.5625), (array([ 4, 12]), 31.8125), (array([ 4, 30]), 32.8125), (array([ 4, 13]), 33.0625), (array([ 3, 14]), 33.1875), (array([ 4, 11]), 33.4375), (array([ 1, 35]), 33.75), (array([40, 45]), 34.166666666666664), (array([42, 32]), 35.25), (array([ 5, 35]), 35.5), (array([42, 42]), 37.1875), (array([42, 33]), 37.3125), (array([37, 42]), 37.6875), (array([ 7, 10]), 37.75), (array([35, 11]), 38.1875), (array([42, 43]), 38.5), (array([13,  7]), 39.0625), (array([34, 11]), 39.1875), (array([15,  9]), 39.6875), (array([ 3, 30]), 40.375), (array([42, 44]), 40.4375), (array([38, 45]), 40.666666666666664), (array([ 5, 10]), 40.8125), (array([37, 43]), 40.8125), (array([ 2, 30]), 41.083333333333336), (array([ 1, 31]), 42.0), (array([42, 31]), 42.0625), (array([ 6, 10]), 42.125), (array([39, 45]), 42.166666666666664), (array([11,  8]), 42.625), (array([ 1, 10]), 42.875), (array([ 2, 10]), 43.0), (array([ 3, 10]), 43.125), (array([8, 9]), 43.1875), (array([37, 44]), 43.3125), (array([30,  5]), 43.75), (array([30,  6]), 44.5), (array([36, 10]), 44.5625), (array([30,  7]), 44.6875), (array([33, 11]), 45.5625), (array([ 2, 36]), 45.583333333333336), (array([8, 8]), 46.8125), (array([30,  8]), 48.3125), (array([4, 9]), 49.25), (array([ 4, 36]), 49.25), (array([43, 30]), 50.25), (array([15,  8]), 51.0625), (array([31, 11]), 51.0625), (array([8, 7]), 52.25), (array([43, 34]), 52.25), (array([12,  7]), 52.375), (array([46, 31]), 52.625), (array([ 3, 36]), 52.9375), (array([13,  6]), 53.875), (array([30,  4]), 54.0625), (array([4, 8]), 54.75), (array([25, 37]), 54.8125), (array([24, 37]), 54.875), (array([32, 11]), 55.25), (array([30,  1]), 55.5), (array([30, 10]), 55.5), (array([30,  9]), 56.125), (array([4, 7]), 56.9375), (array([18,  6]), 58.5625), (array([46, 33]), 59.0), (array([26, 37]), 59.625), (array([46, 32]), 59.75), (array([27, 36]), 60.0), (array([44, 34]), 60.1875), (array([44, 30]), 60.5625), (array([45, 30]), 60.666666666666664), (array([25, 33]), 61.5625), (array([45, 34]), 61.75), (array([16,  8]), 62.25), (array([17,  7]), 62.75), (array([27, 34]), 63.75), (array([24, 33]), 65.625), (array([13,  5]), 65.9375), (array([18,  5]), 66.3125), (array([26, 33]), 66.6875), (array([14,  2]), 66.83333333333333), (array([5, 6]), 66.9375), (array([19,  2]), 67.91666666666667), (array([7, 6]), 68.0), (array([27, 35]), 68.8125), (array([6, 6]), 69.375), (array([23, 34]), 71.125), (array([13,  4]), 72.5), (array([19,  4]), 72.625), (array([23, 36]), 73.125), (array([15,  1]), 73.25), (array([14,  3]), 73.3125), (array([19,  3]), 73.5625), (array([30,  3]), 74.125), (array([18,  1]), 74.25), (array([23, 35]), 76.5625), (array([30,  2]), 80.25), (array([16,  1]), 92.375), (array([17,  1]), 92.375)]\n",
      "[ 1 33]\n"
     ]
    },
    {
     "ename": "KeyboardInterrupt",
     "evalue": "",
     "output_type": "error",
     "traceback": [
      "\u001b[0;31m---------------------------------------------------------------------------\u001b[0m",
      "\u001b[0;31mKeyboardInterrupt\u001b[0m                         Traceback (most recent call last)",
      "Cell \u001b[0;32mIn[27], line 24\u001b[0m\n\u001b[1;32m     19\u001b[0m \u001b[38;5;66;03m# UNCOMMENT IF MAPS SHOULD BE VISUALIZED\u001b[39;00m\n\u001b[1;32m     20\u001b[0m \u001b[38;5;250m\u001b[39m\u001b[38;5;124;03m'''\u001b[39;00m\n\u001b[1;32m     21\u001b[0m \u001b[38;5;124;03mimg = test_env.render(\"rgb_array\", width=48, height=48)\u001b[39;00m\n\u001b[1;32m     22\u001b[0m \u001b[38;5;124;03mpx.imshow(img).show()\u001b[39;00m\n\u001b[1;32m     23\u001b[0m \u001b[38;5;124;03m'''\u001b[39;00m\n\u001b[0;32m---> 24\u001b[0m test_results \u001b[38;5;241m=\u001b[39m \u001b[43mlux_functions\u001b[49m\u001b[38;5;241;43m.\u001b[39;49m\u001b[43mtest_agents\u001b[49m\u001b[43m(\u001b[49m\u001b[43menv\u001b[49m\u001b[38;5;241;43m=\u001b[39;49m\u001b[43mtest_env\u001b[49m\u001b[43m,\u001b[49m\u001b[43m \u001b[49m\u001b[43magents\u001b[49m\u001b[38;5;241;43m=\u001b[39;49m\u001b[43magents\u001b[49m\u001b[43m,\u001b[49m\u001b[43m \u001b[49m\u001b[43msteps\u001b[49m\u001b[38;5;241;43m=\u001b[39;49m\u001b[38;5;241;43m1000\u001b[39;49m\u001b[43m)\u001b[49m\n\u001b[1;32m     25\u001b[0m results\u001b[38;5;241m.\u001b[39mappend(test_results)\n\u001b[1;32m     26\u001b[0m \u001b[38;5;28;01mdel\u001b[39;00m test_env\n",
      "File \u001b[0;32m~/Documents/LuxAI-S2/lux_functions.py:104\u001b[0m, in \u001b[0;36mtest_agents\u001b[0;34m(env, agents, steps)\u001b[0m\n\u001b[1;32m    102\u001b[0m \u001b[39mfor\u001b[39;00m player \u001b[39min\u001b[39;00m env\u001b[39m.\u001b[39magents:\n\u001b[1;32m    103\u001b[0m     o \u001b[39m=\u001b[39m obs[player]\n\u001b[0;32m--> 104\u001b[0m     a \u001b[39m=\u001b[39m agents[player]\u001b[39m.\u001b[39;49mact(step, o)\n\u001b[1;32m    105\u001b[0m     actions[player] \u001b[39m=\u001b[39m a\n\u001b[1;32m    110\u001b[0m step \u001b[39m+\u001b[39m\u001b[39m=\u001b[39m \u001b[39m1\u001b[39m\n",
      "Cell \u001b[0;32mIn[25], line 678\u001b[0m, in \u001b[0;36mArchimedes_Lever.act\u001b[0;34m(self, step, obs, remainingOverageTime)\u001b[0m\n\u001b[1;32m    674\u001b[0m \u001b[38;5;66;03m### Finds all ore tiles, sorts by proximity to light bot\u001b[39;00m\n\u001b[1;32m    675\u001b[0m \u001b[38;5;66;03m### Light bot logic\u001b[39;00m\n\u001b[1;32m    676\u001b[0m \u001b[38;5;28;01mif\u001b[39;00m isLight:\n\u001b[1;32m    677\u001b[0m     \u001b[38;5;66;03m# sorts low rubble tiles by proximity to closest factory tile to unit\u001b[39;00m\n\u001b[0;32m--> 678\u001b[0m     sorted_rubble_tile_vision \u001b[38;5;241m=\u001b[39m \u001b[38;5;28;43msorted\u001b[39;49m\u001b[43m(\u001b[49m\u001b[38;5;28;43mfilter\u001b[39;49m\u001b[43m(\u001b[49m\u001b[38;5;28;43;01mlambda\u001b[39;49;00m\u001b[43m \u001b[49m\u001b[43mx\u001b[49m\u001b[43m:\u001b[49m\u001b[43m \u001b[49m\u001b[43m(\u001b[49m\u001b[43mgame_state\u001b[49m\u001b[38;5;241;43m.\u001b[39;49m\u001b[43mboard\u001b[49m\u001b[38;5;241;43m.\u001b[39;49m\u001b[43mrubble\u001b[49m\u001b[43m[\u001b[49m\u001b[43mx\u001b[49m\u001b[43m[\u001b[49m\u001b[38;5;241;43m0\u001b[39;49m\u001b[43m]\u001b[49m\u001b[43m]\u001b[49m\u001b[43m[\u001b[49m\u001b[43mx\u001b[49m\u001b[43m[\u001b[49m\u001b[38;5;241;43m1\u001b[39;49m\u001b[43m]\u001b[49m\u001b[43m]\u001b[49m\u001b[43m \u001b[49m\u001b[38;5;241;43m!=\u001b[39;49m\u001b[43m \u001b[49m\u001b[38;5;241;43m0\u001b[39;49m\u001b[43m)\u001b[49m\u001b[43m \u001b[49m\u001b[38;5;129;43;01mand\u001b[39;49;00m\u001b[43m \u001b[49m\u001b[43m(\u001b[49m\u001b[43mgame_state\u001b[49m\u001b[38;5;241;43m.\u001b[39;49m\u001b[43mboard\u001b[49m\u001b[38;5;241;43m.\u001b[39;49m\u001b[43mice\u001b[49m\u001b[43m[\u001b[49m\u001b[43mx\u001b[49m\u001b[43m[\u001b[49m\u001b[38;5;241;43m0\u001b[39;49m\u001b[43m]\u001b[49m\u001b[43m]\u001b[49m\u001b[43m[\u001b[49m\u001b[43mx\u001b[49m\u001b[43m[\u001b[49m\u001b[38;5;241;43m1\u001b[39;49m\u001b[43m]\u001b[49m\u001b[43m]\u001b[49m\u001b[43m \u001b[49m\u001b[38;5;241;43m!=\u001b[39;49m\u001b[43m \u001b[49m\u001b[38;5;241;43m1\u001b[39;49m\u001b[43m)\u001b[49m\u001b[43m \u001b[49m\u001b[38;5;129;43;01mand\u001b[39;49;00m\u001b[43m \u001b[49m\u001b[43m(\u001b[49m\u001b[43mgame_state\u001b[49m\u001b[38;5;241;43m.\u001b[39;49m\u001b[43mboard\u001b[49m\u001b[38;5;241;43m.\u001b[39;49m\u001b[43more\u001b[49m\u001b[43m[\u001b[49m\u001b[43mx\u001b[49m\u001b[43m[\u001b[49m\u001b[38;5;241;43m0\u001b[39;49m\u001b[43m]\u001b[49m\u001b[43m]\u001b[49m\u001b[43m[\u001b[49m\u001b[43mx\u001b[49m\u001b[43m[\u001b[49m\u001b[38;5;241;43m1\u001b[39;49m\u001b[43m]\u001b[49m\u001b[43m]\u001b[49m\u001b[43m \u001b[49m\u001b[38;5;241;43m!=\u001b[39;49m\u001b[43m \u001b[49m\u001b[38;5;241;43m1\u001b[39;49m\u001b[43m)\u001b[49m\u001b[43m,\u001b[49m\u001b[43m \u001b[49m\u001b[43mrubble_tile_locations_low_rubble\u001b[49m\u001b[43m)\u001b[49m\u001b[43m,\u001b[49m\u001b[43m \u001b[49m\u001b[43mkey\u001b[49m\u001b[38;5;241;43m=\u001b[39;49m\u001b[38;5;28;43;01mlambda\u001b[39;49;00m\u001b[43m \u001b[49m\u001b[43mcoord\u001b[49m\u001b[43m:\u001b[49m\u001b[43m \u001b[49m\u001b[43m(\u001b[49m\u001b[43mcoord\u001b[49m\u001b[43m[\u001b[49m\u001b[38;5;241;43m0\u001b[39;49m\u001b[43m]\u001b[49m\u001b[43m \u001b[49m\u001b[38;5;241;43m-\u001b[39;49m\u001b[43m \u001b[49m\u001b[43mclosest_factory_tile\u001b[49m\u001b[43m[\u001b[49m\u001b[38;5;241;43m0\u001b[39;49m\u001b[43m]\u001b[49m\u001b[43m)\u001b[49m\u001b[38;5;241;43m*\u001b[39;49m\u001b[38;5;241;43m*\u001b[39;49m\u001b[38;5;241;43m2\u001b[39;49m\u001b[43m \u001b[49m\u001b[38;5;241;43m+\u001b[39;49m\u001b[43m \u001b[49m\u001b[43m(\u001b[49m\u001b[43mcoord\u001b[49m\u001b[43m[\u001b[49m\u001b[38;5;241;43m1\u001b[39;49m\u001b[43m]\u001b[49m\u001b[43m \u001b[49m\u001b[38;5;241;43m-\u001b[39;49m\u001b[43m \u001b[49m\u001b[43mclosest_factory_tile\u001b[49m\u001b[43m[\u001b[49m\u001b[38;5;241;43m1\u001b[39;49m\u001b[43m]\u001b[49m\u001b[43m)\u001b[49m\u001b[38;5;241;43m*\u001b[39;49m\u001b[38;5;241;43m*\u001b[39;49m\u001b[38;5;241;43m2\u001b[39;49m\u001b[43m)\u001b[49m\n\u001b[1;32m    679\u001b[0m     lowest_rubble__tile_visible \u001b[38;5;241m=\u001b[39m sorted_rubble_tile_vision[\u001b[38;5;241m0\u001b[39m]\n\u001b[1;32m    681\u001b[0m     closest_ore_tiles \u001b[38;5;241m=\u001b[39m \u001b[38;5;28msorted\u001b[39m(ore_tile_locations, key\u001b[38;5;241m=\u001b[39m\u001b[38;5;28;01mlambda\u001b[39;00m p: (p[\u001b[38;5;241m0\u001b[39m] \u001b[38;5;241m-\u001b[39m unit\u001b[38;5;241m.\u001b[39mpos[\u001b[38;5;241m0\u001b[39m])\u001b[38;5;241m*\u001b[39m\u001b[38;5;241m*\u001b[39m\u001b[38;5;241m2\u001b[39m \u001b[38;5;241m+\u001b[39m (p[\u001b[38;5;241m1\u001b[39m] \u001b[38;5;241m-\u001b[39m unit\u001b[38;5;241m.\u001b[39mpos[\u001b[38;5;241m1\u001b[39m])\u001b[38;5;241m*\u001b[39m\u001b[38;5;241m*\u001b[39m\u001b[38;5;241m2\u001b[39m )\n",
      "Cell \u001b[0;32mIn[25], line 678\u001b[0m, in \u001b[0;36mArchimedes_Lever.act.<locals>.<lambda>\u001b[0;34m(x)\u001b[0m\n\u001b[1;32m    674\u001b[0m \u001b[38;5;66;03m### Finds all ore tiles, sorts by proximity to light bot\u001b[39;00m\n\u001b[1;32m    675\u001b[0m \u001b[38;5;66;03m### Light bot logic\u001b[39;00m\n\u001b[1;32m    676\u001b[0m \u001b[38;5;28;01mif\u001b[39;00m isLight:\n\u001b[1;32m    677\u001b[0m     \u001b[38;5;66;03m# sorts low rubble tiles by proximity to closest factory tile to unit\u001b[39;00m\n\u001b[0;32m--> 678\u001b[0m     sorted_rubble_tile_vision \u001b[38;5;241m=\u001b[39m \u001b[38;5;28msorted\u001b[39m(\u001b[38;5;28mfilter\u001b[39m(\u001b[38;5;28;01mlambda\u001b[39;00m x: (game_state\u001b[38;5;241m.\u001b[39mboard\u001b[38;5;241m.\u001b[39mrubble[x[\u001b[38;5;241m0\u001b[39m]][x[\u001b[38;5;241m1\u001b[39m]] \u001b[38;5;241m!=\u001b[39m \u001b[38;5;241m0\u001b[39m) \u001b[38;5;129;01mand\u001b[39;00m (game_state\u001b[38;5;241m.\u001b[39mboard\u001b[38;5;241m.\u001b[39mice[x[\u001b[38;5;241m0\u001b[39m]][x[\u001b[38;5;241m1\u001b[39m]] \u001b[38;5;241m!=\u001b[39m \u001b[38;5;241m1\u001b[39m) \u001b[38;5;129;01mand\u001b[39;00m (game_state\u001b[38;5;241m.\u001b[39mboard\u001b[38;5;241m.\u001b[39more[x[\u001b[38;5;241m0\u001b[39m]][x[\u001b[38;5;241m1\u001b[39m]] \u001b[38;5;241m!=\u001b[39m \u001b[38;5;241m1\u001b[39m), rubble_tile_locations_low_rubble), key\u001b[38;5;241m=\u001b[39m\u001b[38;5;28;01mlambda\u001b[39;00m coord: (coord[\u001b[38;5;241m0\u001b[39m] \u001b[38;5;241m-\u001b[39m closest_factory_tile[\u001b[38;5;241m0\u001b[39m])\u001b[38;5;241m*\u001b[39m\u001b[38;5;241m*\u001b[39m\u001b[38;5;241m2\u001b[39m \u001b[38;5;241m+\u001b[39m (coord[\u001b[38;5;241m1\u001b[39m] \u001b[38;5;241m-\u001b[39m closest_factory_tile[\u001b[38;5;241m1\u001b[39m])\u001b[38;5;241m*\u001b[39m\u001b[38;5;241m*\u001b[39m\u001b[38;5;241m2\u001b[39m)\n\u001b[1;32m    679\u001b[0m     lowest_rubble__tile_visible \u001b[38;5;241m=\u001b[39m sorted_rubble_tile_vision[\u001b[38;5;241m0\u001b[39m]\n\u001b[1;32m    681\u001b[0m     closest_ore_tiles \u001b[38;5;241m=\u001b[39m \u001b[38;5;28msorted\u001b[39m(ore_tile_locations, key\u001b[38;5;241m=\u001b[39m\u001b[38;5;28;01mlambda\u001b[39;00m p: (p[\u001b[38;5;241m0\u001b[39m] \u001b[38;5;241m-\u001b[39m unit\u001b[38;5;241m.\u001b[39mpos[\u001b[38;5;241m0\u001b[39m])\u001b[38;5;241m*\u001b[39m\u001b[38;5;241m*\u001b[39m\u001b[38;5;241m2\u001b[39m \u001b[38;5;241m+\u001b[39m (p[\u001b[38;5;241m1\u001b[39m] \u001b[38;5;241m-\u001b[39m unit\u001b[38;5;241m.\u001b[39mpos[\u001b[38;5;241m1\u001b[39m])\u001b[38;5;241m*\u001b[39m\u001b[38;5;241m*\u001b[39m\u001b[38;5;241m2\u001b[39m )\n",
      "\u001b[0;31mKeyboardInterrupt\u001b[0m: "
     ]
    }
   ],
   "source": [
    "### AGENT TESTING\n",
    "import submission_6_agent\n",
    "import default_agent\n",
    "import lux_functions\n",
    "\n",
    "tests = 10\n",
    "results = []\n",
    "for t in range(tests):\n",
    "    test_env = LuxAI_S2() # create the environment object\n",
    "    test_obs = test_env.reset(seed=np.random.seed()) # resets an environment with a seed\n",
    "\n",
    "    # recreate our agents and run\n",
    "    player0 = test_env.agents[0]\n",
    "    player1 = test_env.agents[1]\n",
    "    agents = {\n",
    "        player0: Archimedes_Lever(test_env.agents[0], test_env.state.env_cfg), \n",
    "        player1: submission_6_agent.Archimedes_Lever_s(test_env.agents[1], test_env.state.env_cfg)#default_agent.Default_Agent(test_env.agents[1], test_env.state.env_cfg)\n",
    "    }\n",
    "    # UNCOMMENT IF MAPS SHOULD BE VISUALIZED\n",
    "    '''\n",
    "    img = test_env.render(\"rgb_array\", width=48, height=48)\n",
    "    px.imshow(img).show()\n",
    "    '''\n",
    "    test_results = lux_functions.test_agents(env=test_env, agents=agents, steps=1000)\n",
    "    results.append(test_results)\n",
    "    del test_env\n",
    "    del test_obs\n",
    "\n",
    "for result in results:\n",
    "    print(result)"
   ]
  },
  {
   "cell_type": "code",
   "execution_count": null,
   "metadata": {},
   "outputs": [],
   "source": [
    "#!luxai-s2 archimedes_main.py main.py -v 2 -s 101 -o replay.html\n",
    "#!tar -czf submission.tar.gz *"
   ]
  }
 ],
 "metadata": {
  "kernelspec": {
   "display_name": "Python 3.10.0 64-bit",
   "language": "python",
   "name": "python3"
  },
  "language_info": {
   "codemirror_mode": {
    "name": "ipython",
    "version": 3
   },
   "file_extension": ".py",
   "mimetype": "text/x-python",
   "name": "python",
   "nbconvert_exporter": "python",
   "pygments_lexer": "ipython3",
   "version": "3.10.0"
  },
  "orig_nbformat": 4,
  "vscode": {
   "interpreter": {
    "hash": "aee8b7b246df8f9039afb4144a1f6fd8d2ca17a180786b69acc140d282b71a49"
   }
  }
 },
 "nbformat": 4,
 "nbformat_minor": 2
}
