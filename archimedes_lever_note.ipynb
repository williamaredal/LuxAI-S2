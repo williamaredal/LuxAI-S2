{
 "cells": [
  {
   "cell_type": "code",
   "execution_count": 1,
   "metadata": {},
   "outputs": [
    {
     "name": "stdout",
     "output_type": "stream",
     "text": [
      "Python 3.10.0\n",
      "Requirement already satisfied: luxai_s2 in /Library/Frameworks/Python.framework/Versions/3.10/lib/python3.10/site-packages (2.1.8)\n",
      "Requirement already satisfied: importlib-metadata<5.0 in /Library/Frameworks/Python.framework/Versions/3.10/lib/python3.10/site-packages (from luxai_s2) (4.13.0)\n",
      "Requirement already satisfied: scipy in /Library/Frameworks/Python.framework/Versions/3.10/lib/python3.10/site-packages (from luxai_s2) (1.10.0)\n",
      "Requirement already satisfied: vec-noise in /Library/Frameworks/Python.framework/Versions/3.10/lib/python3.10/site-packages (from luxai_s2) (1.1.4)\n",
      "Requirement already satisfied: pettingzoo in /Library/Frameworks/Python.framework/Versions/3.10/lib/python3.10/site-packages (from luxai_s2) (1.22.3)\n",
      "Requirement already satisfied: termcolor in /Library/Frameworks/Python.framework/Versions/3.10/lib/python3.10/site-packages (from luxai_s2) (2.2.0)\n",
      "Requirement already satisfied: matplotlib in /Library/Frameworks/Python.framework/Versions/3.10/lib/python3.10/site-packages (from luxai_s2) (3.7.0)\n",
      "Requirement already satisfied: numpy in /Library/Frameworks/Python.framework/Versions/3.10/lib/python3.10/site-packages (from luxai_s2) (1.24.2)\n",
      "Requirement already satisfied: gym==0.21.0 in /Library/Frameworks/Python.framework/Versions/3.10/lib/python3.10/site-packages (from luxai_s2) (0.21.0)\n",
      "Requirement already satisfied: pygame in /Library/Frameworks/Python.framework/Versions/3.10/lib/python3.10/site-packages (from luxai_s2) (2.1.3)\n",
      "Requirement already satisfied: cloudpickle>=1.2.0 in /Library/Frameworks/Python.framework/Versions/3.10/lib/python3.10/site-packages (from gym==0.21.0->luxai_s2) (1.6.0)\n",
      "Requirement already satisfied: zipp>=0.5 in /Library/Frameworks/Python.framework/Versions/3.10/lib/python3.10/site-packages (from importlib-metadata<5.0->luxai_s2) (3.14.0)\n",
      "Requirement already satisfied: contourpy>=1.0.1 in /Library/Frameworks/Python.framework/Versions/3.10/lib/python3.10/site-packages (from matplotlib->luxai_s2) (1.0.7)\n",
      "Requirement already satisfied: pyparsing>=2.3.1 in /Library/Frameworks/Python.framework/Versions/3.10/lib/python3.10/site-packages (from matplotlib->luxai_s2) (3.0.9)\n",
      "Requirement already satisfied: cycler>=0.10 in /Library/Frameworks/Python.framework/Versions/3.10/lib/python3.10/site-packages (from matplotlib->luxai_s2) (0.11.0)\n",
      "Requirement already satisfied: kiwisolver>=1.0.1 in /Library/Frameworks/Python.framework/Versions/3.10/lib/python3.10/site-packages (from matplotlib->luxai_s2) (1.4.4)\n",
      "Requirement already satisfied: packaging>=20.0 in /Library/Frameworks/Python.framework/Versions/3.10/lib/python3.10/site-packages (from matplotlib->luxai_s2) (23.0)\n",
      "Requirement already satisfied: python-dateutil>=2.7 in /Library/Frameworks/Python.framework/Versions/3.10/lib/python3.10/site-packages (from matplotlib->luxai_s2) (2.8.2)\n",
      "Requirement already satisfied: pillow>=6.2.0 in /Library/Frameworks/Python.framework/Versions/3.10/lib/python3.10/site-packages (from matplotlib->luxai_s2) (9.4.0)\n",
      "Requirement already satisfied: fonttools>=4.22.0 in /Library/Frameworks/Python.framework/Versions/3.10/lib/python3.10/site-packages (from matplotlib->luxai_s2) (4.38.0)\n",
      "Requirement already satisfied: gymnasium>=0.26.0 in /Library/Frameworks/Python.framework/Versions/3.10/lib/python3.10/site-packages (from pettingzoo->luxai_s2) (0.27.1)\n",
      "Requirement already satisfied: typing-extensions>=4.3.0 in /Library/Frameworks/Python.framework/Versions/3.10/lib/python3.10/site-packages (from gymnasium>=0.26.0->pettingzoo->luxai_s2) (4.5.0)\n",
      "Requirement already satisfied: gymnasium-notices>=0.0.1 in /Library/Frameworks/Python.framework/Versions/3.10/lib/python3.10/site-packages (from gymnasium>=0.26.0->pettingzoo->luxai_s2) (0.0.1)\n",
      "Requirement already satisfied: jax-jumpy>=0.2.0 in /Library/Frameworks/Python.framework/Versions/3.10/lib/python3.10/site-packages (from gymnasium>=0.26.0->pettingzoo->luxai_s2) (0.2.0)\n",
      "Requirement already satisfied: six>=1.5 in /Library/Frameworks/Python.framework/Versions/3.10/lib/python3.10/site-packages (from python-dateutil>=2.7->matplotlib->luxai_s2) (1.16.0)\n",
      "Requirement already satisfied: importlib-metadata==4.13.0 in /Library/Frameworks/Python.framework/Versions/3.10/lib/python3.10/site-packages (4.13.0)\n",
      "Requirement already satisfied: zipp>=0.5 in /Library/Frameworks/Python.framework/Versions/3.10/lib/python3.10/site-packages (from importlib-metadata==4.13.0) (3.14.0)\n",
      "Requirement already satisfied: moviepy in /Library/Frameworks/Python.framework/Versions/3.10/lib/python3.10/site-packages (1.0.3)\n",
      "Requirement already satisfied: decorator<5.0,>=4.0.2 in /Library/Frameworks/Python.framework/Versions/3.10/lib/python3.10/site-packages (from moviepy) (4.4.2)\n",
      "Requirement already satisfied: tqdm<5.0,>=4.11.2 in /Library/Frameworks/Python.framework/Versions/3.10/lib/python3.10/site-packages (from moviepy) (4.64.1)\n",
      "Requirement already satisfied: requests<3.0,>=2.8.1 in /Library/Frameworks/Python.framework/Versions/3.10/lib/python3.10/site-packages (from moviepy) (2.28.2)\n",
      "Requirement already satisfied: proglog<=1.0.0 in /Library/Frameworks/Python.framework/Versions/3.10/lib/python3.10/site-packages (from moviepy) (0.1.10)\n",
      "Requirement already satisfied: numpy>=1.17.3 in /Library/Frameworks/Python.framework/Versions/3.10/lib/python3.10/site-packages (from moviepy) (1.24.2)\n",
      "Requirement already satisfied: imageio<3.0,>=2.5 in /Library/Frameworks/Python.framework/Versions/3.10/lib/python3.10/site-packages (from moviepy) (2.25.1)\n",
      "Requirement already satisfied: imageio_ffmpeg>=0.2.0 in /Library/Frameworks/Python.framework/Versions/3.10/lib/python3.10/site-packages (from moviepy) (0.4.8)\n",
      "Requirement already satisfied: pillow>=8.3.2 in /Library/Frameworks/Python.framework/Versions/3.10/lib/python3.10/site-packages (from imageio<3.0,>=2.5->moviepy) (9.4.0)\n",
      "Requirement already satisfied: certifi>=2017.4.17 in /Library/Frameworks/Python.framework/Versions/3.10/lib/python3.10/site-packages (from requests<3.0,>=2.8.1->moviepy) (2022.12.7)\n",
      "Requirement already satisfied: urllib3<1.27,>=1.21.1 in /Library/Frameworks/Python.framework/Versions/3.10/lib/python3.10/site-packages (from requests<3.0,>=2.8.1->moviepy) (1.26.14)\n",
      "Requirement already satisfied: idna<4,>=2.5 in /Library/Frameworks/Python.framework/Versions/3.10/lib/python3.10/site-packages (from requests<3.0,>=2.8.1->moviepy) (3.4)\n",
      "Requirement already satisfied: charset-normalizer<4,>=2 in /Library/Frameworks/Python.framework/Versions/3.10/lib/python3.10/site-packages (from requests<3.0,>=2.8.1->moviepy) (3.0.1)\n"
     ]
    }
   ],
   "source": [
    "# In case of import requirements\n",
    "# verify version\n",
    "!python3 --version\n",
    "!pip install --upgrade luxai_s2\n",
    "!pip install importlib-metadata==4.13.0\n",
    "!pip install --upgrade moviepy # needed to render videos of episodes"
   ]
  },
  {
   "cell_type": "code",
   "execution_count": 2,
   "metadata": {},
   "outputs": [],
   "source": [
    "from luxai_s2.env import LuxAI_S2\n",
    "from lux.kit import obs_to_game_state, GameState, EnvConfig\n",
    "from lux.utils import my_turn_to_place_factory, direction_to \n",
    "import matplotlib.pyplot as plt\n",
    "import numpy as np\n",
    "import plotly.express as px\n",
    "import math\n",
    "import cv2"
   ]
  },
  {
   "cell_type": "code",
   "execution_count": 3,
   "metadata": {},
   "outputs": [],
   "source": [
    "# Create excel spreadsheets to look at strategies for when to start producing lichen to find weather its more optimal to\n",
    "#      continually grow lichen, or to hoard water until a certain turn (depending on water gathered?) and mass produce lichen then\n",
    "# [X] Made graphs and have found good enough growth estimates with tables for further estimation if necessary.\n",
    "# TODO Update files in repo, or move agent files to new repo. Basically move from beta to season 2.\n",
    "# [X]\n",
    "# TODO Clean up structure of notebook cells and segments of the algorithm to make it easier to find where what desicion is being made\n",
    "# [X]\n",
    "# TODO Make the agent place a factory right next to one ice tile\n",
    "# [X]\n",
    "# TODO Make the agent update its possible placing locations by removing coordinates around placed (friendly and foe) factory tiles\n",
    "# [X]\n",
    "\n",
    "# TODO Update placement of factories so that they place only right next to ice tiles, with no/low rubble\n",
    "#      This can be acchieved through the \"board.rubble\" property\n",
    "# []\n",
    "\n",
    "# TODO Update the assignments to have n heavy bots on ice gathering just outside the factory, and some light for ore collection\n",
    "# [X]\n",
    "\n",
    "# TODO Observe the total ammount of water possible to gather with 1 heavy bot\n",
    "# []\n",
    "\n",
    "# TODO Evaluate weather to use 150-N turns to gather ore for multiplication of bots before water hoarding\n",
    "# []\n",
    "\n",
    "# TODO Fix ordering system so that heavies are assigned to ice tiles right by the factory for instant dropof and charging,\n",
    "#      and so that the bots are ordered to correct coordinates,\n",
    "#      and so that the return to factory scheduling works.\n",
    "# [X]\n",
    "\n",
    "# TODO Move functions used by algorithm to separate file?\n",
    "# []\n"
   ]
  },
  {
   "cell_type": "code",
   "execution_count": 4,
   "metadata": {},
   "outputs": [
    {
     "data": {
      "application/vnd.plotly.v1+json": {
       "config": {
        "plotlyServerURL": "https://plot.ly"
       },
       "data": [
        {
         "hovertemplate": "x: %{x}<br>y: %{y}<br>color: [%{z[0]}, %{z[1]}, %{z[2]}]<extra></extra>",
         "name": "0",
         "source": "data:image/png;base64,iVBORw0KGgoAAAANSUhEUgAAADAAAAAwCAIAAADYYG7QAAAHMElEQVR4Xu1Yz5NWRxU99/b7ZpCfgfCrIPxKRgYKs7OslFQkQ5Doxg1Eq7KVxAT+Bxfu3WBVUIhbFxjWSQUiUqlyYbkwsQoDZWmQpAJlAmFgmJnv9b3Hxe33vjffDBMSRbPgVNdUf939uk+fPvf2eyN/PrIPXyXocMP/Gw8JfR4eEvo8PCS0KEh+xQiB1XDbg4HTo6KymAQk/leEnAAcAEyBKqWhAQHyASiUzYbWm80ZAFl+OmDMo9Xw0jGstGYz3Jv4F4IDs3nOeuaFC0kAIgJiul8D+NpIrx0WjMtjRg5+/GdwJ8npfk2ADA4g6I1EKiIQACK4268BLB3pAVjSq+7268JhvoBfGkt61dRsv8uDBIs6AOBCgYhAIUIAmJrtt48v5vkvDSeNnt2zuzmzezbP5rVZVLL7KxMnywC6k22RB/E+9NndmZDESXca6e4kHFSIqiQVFVEJIAQLPBCFju4/6U5zd2d2N/PafCbn6X6eybmfrc6evUgSB1oq/CKEbkxN35ia7ra88NTxaHzhqeNt46d37h4/dyQWy+7urN1qs5k6356ZnalzbZbd3cP9DBWP7T9FkLi/I/vX7anhpojeeQjrxqbNy3lls9lsU7P1RzcnN69euXzJyGiVqqSVaqUqAhGRZsLq+uQdABtWLh+ausXHt+4MNwEqg0wXMRwgCMAZAU9vAl9ERirdtHrFSKXdjRAEIzGVCTVs/9HNycGoDj68MWnm80s8Zc4SRO5GGhktDbDzkBMUQEV6KS0d6fVSSiEIQDJSZtEVIFBZbAFYMnFz5vzq4PHBJ59FBc2mWzQ5TcYP++UzCkCLQmyWAQAHAbz/WwEIIKkAmgCVQWIMhEgxTER065pVTnf6xdPtGJi7+SCRdEuOLrOLp9HG0dghGztkIZKDDu485G0mDEVSG+0qu55ns405ICmv/+DJ9geAr294FMCla5+GMO2kXUTm0I4ZQ5vuvgPzJynPqkRCEhGVVnUA0No8u9fm2RlsAJQMa57NotS5lBzZ1j0X99DcI6DabBsB3J61SKdAdj0fpxOdA6xbsYxEZe4AvrF5fbfPzAlGsCDs1saURJKFiqiqCggIoY0+0khSdCtPRZeIyOUzopDNq1e2vV0UQu9evYYmXNEwIBHxW8IYACBAlVRFkmqis5E9ziaOEoCIkCwUO8wiFB5bszCb9SuXVXnuy8p8EiRtkOapIj3XKiUSVEkQFaGIiOzZtA7A+9c+EQhIDX+VmQestq5ZVWoLQePSiVKb12a1+b4fL8tm7c/s3s823a8nZ/rTde6Ht8pNzux0Z7ABsGvj2rBRbMmbXUVvm1nuBR341zlxZJm512ZvnLgVPBpre232m5+8+frRt6b7uZ8tBjs9vGzku1evvXf1+l8+vA6USz7aBzZgCbrFoc6Ymtn8zV/eqs3r3Ahjns2dNDqBw68eBNBLCoDk2V9NmnPAyWnkk49teO/q9bg4g1aRqiPS4pBffGe7F99EPiypT0QEUBXE5kgnASTVXtKkWqk+9/LK869NqUCl3JEAwjklI0dIqqSmLoIdaxc7tXJ1xHrmrM1ms505dhbAj048RyAuQ5GYFCkyIkDw3MnbIgII4GHkJsXRRVSQBFDAAUUC5nj7HtDyVgKQMLo5zxw7+82ffQtA9vJ1J5F1RJJo7DjmJfnsi8vZ3KmhbghcSjk1kGgObs5FOR9KNFkHRJPB/vTTPwJIRZu4KMpNJIMEKADOnby9/8XlBMKLkdb72WrrcvJ2fgAEl0zcjPp8yM/3bgUGRxY2MlKBlDSEifLdPY+fu/j31grdHNjMgPAyyaT6/VdWXfj1VJVSTzUlTSqpsZSKbnt01VwmBYOvn7KAqggTQ60izME9T8SY8NMQSAKI0zFn36zONtqr3jhxa7RKScOiJMWB2APJf964tWCGjAEQkTBKUqlUk5Y4StoeUTusyNM2AijvWYCTs9lOH32rn83ZcQ8ZvKMFzd/50P27dzy7e4d0OAWt4pi5YSFSLIV2Kx0IIIKRpD989eBIlXTOo8MYP1wiZgjlq0NEBE3mGHw0Iert6GfGty/IpjVTUh2tqqWjvZEqVTHdIqQWQvHQxK7tbdPv/vqP7jRDU+4b3wbgnctXul1k+ToOjUWQ4nVARUR0SGcA977UFvgu2797R2ytwfAAAE/v3CYiB15aEUVKUkASqVS+9/KqYBOnFqLGRGPr1zy+bvX2tY8MTdhiEGUXLl1BI0CXxJB/Wxx4aUVU3j51JxYrf4Hzr00llZK2Ol33g4X/6fHM+PbgF4gDenrntvgZae3tU4Pvte5q0pyRCAQoFw0AYHxjeUVeBAsTCoRaaAi9c/lKbPTAxIqWzd6xLQD+8Ler0dW6u4jTEeY+NVrAQwAuXLrSZdNqg85J7R3bEmwAfHtsCzpsimkAACHWnk3rdm1cG4MXR1Ho95c+ACCQ+SfVrbRoqfzX8W9YlnVbcdeyeAAAAABJRU5ErkJggg==",
         "type": "image",
         "xaxis": "x",
         "yaxis": "y"
        }
       ],
       "layout": {
        "margin": {
         "t": 60
        },
        "template": {
         "data": {
          "bar": [
           {
            "error_x": {
             "color": "#2a3f5f"
            },
            "error_y": {
             "color": "#2a3f5f"
            },
            "marker": {
             "line": {
              "color": "#E5ECF6",
              "width": 0.5
             },
             "pattern": {
              "fillmode": "overlay",
              "size": 10,
              "solidity": 0.2
             }
            },
            "type": "bar"
           }
          ],
          "barpolar": [
           {
            "marker": {
             "line": {
              "color": "#E5ECF6",
              "width": 0.5
             },
             "pattern": {
              "fillmode": "overlay",
              "size": 10,
              "solidity": 0.2
             }
            },
            "type": "barpolar"
           }
          ],
          "carpet": [
           {
            "aaxis": {
             "endlinecolor": "#2a3f5f",
             "gridcolor": "white",
             "linecolor": "white",
             "minorgridcolor": "white",
             "startlinecolor": "#2a3f5f"
            },
            "baxis": {
             "endlinecolor": "#2a3f5f",
             "gridcolor": "white",
             "linecolor": "white",
             "minorgridcolor": "white",
             "startlinecolor": "#2a3f5f"
            },
            "type": "carpet"
           }
          ],
          "choropleth": [
           {
            "colorbar": {
             "outlinewidth": 0,
             "ticks": ""
            },
            "type": "choropleth"
           }
          ],
          "contour": [
           {
            "colorbar": {
             "outlinewidth": 0,
             "ticks": ""
            },
            "colorscale": [
             [
              0,
              "#0d0887"
             ],
             [
              0.1111111111111111,
              "#46039f"
             ],
             [
              0.2222222222222222,
              "#7201a8"
             ],
             [
              0.3333333333333333,
              "#9c179e"
             ],
             [
              0.4444444444444444,
              "#bd3786"
             ],
             [
              0.5555555555555556,
              "#d8576b"
             ],
             [
              0.6666666666666666,
              "#ed7953"
             ],
             [
              0.7777777777777778,
              "#fb9f3a"
             ],
             [
              0.8888888888888888,
              "#fdca26"
             ],
             [
              1,
              "#f0f921"
             ]
            ],
            "type": "contour"
           }
          ],
          "contourcarpet": [
           {
            "colorbar": {
             "outlinewidth": 0,
             "ticks": ""
            },
            "type": "contourcarpet"
           }
          ],
          "heatmap": [
           {
            "colorbar": {
             "outlinewidth": 0,
             "ticks": ""
            },
            "colorscale": [
             [
              0,
              "#0d0887"
             ],
             [
              0.1111111111111111,
              "#46039f"
             ],
             [
              0.2222222222222222,
              "#7201a8"
             ],
             [
              0.3333333333333333,
              "#9c179e"
             ],
             [
              0.4444444444444444,
              "#bd3786"
             ],
             [
              0.5555555555555556,
              "#d8576b"
             ],
             [
              0.6666666666666666,
              "#ed7953"
             ],
             [
              0.7777777777777778,
              "#fb9f3a"
             ],
             [
              0.8888888888888888,
              "#fdca26"
             ],
             [
              1,
              "#f0f921"
             ]
            ],
            "type": "heatmap"
           }
          ],
          "heatmapgl": [
           {
            "colorbar": {
             "outlinewidth": 0,
             "ticks": ""
            },
            "colorscale": [
             [
              0,
              "#0d0887"
             ],
             [
              0.1111111111111111,
              "#46039f"
             ],
             [
              0.2222222222222222,
              "#7201a8"
             ],
             [
              0.3333333333333333,
              "#9c179e"
             ],
             [
              0.4444444444444444,
              "#bd3786"
             ],
             [
              0.5555555555555556,
              "#d8576b"
             ],
             [
              0.6666666666666666,
              "#ed7953"
             ],
             [
              0.7777777777777778,
              "#fb9f3a"
             ],
             [
              0.8888888888888888,
              "#fdca26"
             ],
             [
              1,
              "#f0f921"
             ]
            ],
            "type": "heatmapgl"
           }
          ],
          "histogram": [
           {
            "marker": {
             "pattern": {
              "fillmode": "overlay",
              "size": 10,
              "solidity": 0.2
             }
            },
            "type": "histogram"
           }
          ],
          "histogram2d": [
           {
            "colorbar": {
             "outlinewidth": 0,
             "ticks": ""
            },
            "colorscale": [
             [
              0,
              "#0d0887"
             ],
             [
              0.1111111111111111,
              "#46039f"
             ],
             [
              0.2222222222222222,
              "#7201a8"
             ],
             [
              0.3333333333333333,
              "#9c179e"
             ],
             [
              0.4444444444444444,
              "#bd3786"
             ],
             [
              0.5555555555555556,
              "#d8576b"
             ],
             [
              0.6666666666666666,
              "#ed7953"
             ],
             [
              0.7777777777777778,
              "#fb9f3a"
             ],
             [
              0.8888888888888888,
              "#fdca26"
             ],
             [
              1,
              "#f0f921"
             ]
            ],
            "type": "histogram2d"
           }
          ],
          "histogram2dcontour": [
           {
            "colorbar": {
             "outlinewidth": 0,
             "ticks": ""
            },
            "colorscale": [
             [
              0,
              "#0d0887"
             ],
             [
              0.1111111111111111,
              "#46039f"
             ],
             [
              0.2222222222222222,
              "#7201a8"
             ],
             [
              0.3333333333333333,
              "#9c179e"
             ],
             [
              0.4444444444444444,
              "#bd3786"
             ],
             [
              0.5555555555555556,
              "#d8576b"
             ],
             [
              0.6666666666666666,
              "#ed7953"
             ],
             [
              0.7777777777777778,
              "#fb9f3a"
             ],
             [
              0.8888888888888888,
              "#fdca26"
             ],
             [
              1,
              "#f0f921"
             ]
            ],
            "type": "histogram2dcontour"
           }
          ],
          "mesh3d": [
           {
            "colorbar": {
             "outlinewidth": 0,
             "ticks": ""
            },
            "type": "mesh3d"
           }
          ],
          "parcoords": [
           {
            "line": {
             "colorbar": {
              "outlinewidth": 0,
              "ticks": ""
             }
            },
            "type": "parcoords"
           }
          ],
          "pie": [
           {
            "automargin": true,
            "type": "pie"
           }
          ],
          "scatter": [
           {
            "fillpattern": {
             "fillmode": "overlay",
             "size": 10,
             "solidity": 0.2
            },
            "type": "scatter"
           }
          ],
          "scatter3d": [
           {
            "line": {
             "colorbar": {
              "outlinewidth": 0,
              "ticks": ""
             }
            },
            "marker": {
             "colorbar": {
              "outlinewidth": 0,
              "ticks": ""
             }
            },
            "type": "scatter3d"
           }
          ],
          "scattercarpet": [
           {
            "marker": {
             "colorbar": {
              "outlinewidth": 0,
              "ticks": ""
             }
            },
            "type": "scattercarpet"
           }
          ],
          "scattergeo": [
           {
            "marker": {
             "colorbar": {
              "outlinewidth": 0,
              "ticks": ""
             }
            },
            "type": "scattergeo"
           }
          ],
          "scattergl": [
           {
            "marker": {
             "colorbar": {
              "outlinewidth": 0,
              "ticks": ""
             }
            },
            "type": "scattergl"
           }
          ],
          "scattermapbox": [
           {
            "marker": {
             "colorbar": {
              "outlinewidth": 0,
              "ticks": ""
             }
            },
            "type": "scattermapbox"
           }
          ],
          "scatterpolar": [
           {
            "marker": {
             "colorbar": {
              "outlinewidth": 0,
              "ticks": ""
             }
            },
            "type": "scatterpolar"
           }
          ],
          "scatterpolargl": [
           {
            "marker": {
             "colorbar": {
              "outlinewidth": 0,
              "ticks": ""
             }
            },
            "type": "scatterpolargl"
           }
          ],
          "scatterternary": [
           {
            "marker": {
             "colorbar": {
              "outlinewidth": 0,
              "ticks": ""
             }
            },
            "type": "scatterternary"
           }
          ],
          "surface": [
           {
            "colorbar": {
             "outlinewidth": 0,
             "ticks": ""
            },
            "colorscale": [
             [
              0,
              "#0d0887"
             ],
             [
              0.1111111111111111,
              "#46039f"
             ],
             [
              0.2222222222222222,
              "#7201a8"
             ],
             [
              0.3333333333333333,
              "#9c179e"
             ],
             [
              0.4444444444444444,
              "#bd3786"
             ],
             [
              0.5555555555555556,
              "#d8576b"
             ],
             [
              0.6666666666666666,
              "#ed7953"
             ],
             [
              0.7777777777777778,
              "#fb9f3a"
             ],
             [
              0.8888888888888888,
              "#fdca26"
             ],
             [
              1,
              "#f0f921"
             ]
            ],
            "type": "surface"
           }
          ],
          "table": [
           {
            "cells": {
             "fill": {
              "color": "#EBF0F8"
             },
             "line": {
              "color": "white"
             }
            },
            "header": {
             "fill": {
              "color": "#C8D4E3"
             },
             "line": {
              "color": "white"
             }
            },
            "type": "table"
           }
          ]
         },
         "layout": {
          "annotationdefaults": {
           "arrowcolor": "#2a3f5f",
           "arrowhead": 0,
           "arrowwidth": 1
          },
          "autotypenumbers": "strict",
          "coloraxis": {
           "colorbar": {
            "outlinewidth": 0,
            "ticks": ""
           }
          },
          "colorscale": {
           "diverging": [
            [
             0,
             "#8e0152"
            ],
            [
             0.1,
             "#c51b7d"
            ],
            [
             0.2,
             "#de77ae"
            ],
            [
             0.3,
             "#f1b6da"
            ],
            [
             0.4,
             "#fde0ef"
            ],
            [
             0.5,
             "#f7f7f7"
            ],
            [
             0.6,
             "#e6f5d0"
            ],
            [
             0.7,
             "#b8e186"
            ],
            [
             0.8,
             "#7fbc41"
            ],
            [
             0.9,
             "#4d9221"
            ],
            [
             1,
             "#276419"
            ]
           ],
           "sequential": [
            [
             0,
             "#0d0887"
            ],
            [
             0.1111111111111111,
             "#46039f"
            ],
            [
             0.2222222222222222,
             "#7201a8"
            ],
            [
             0.3333333333333333,
             "#9c179e"
            ],
            [
             0.4444444444444444,
             "#bd3786"
            ],
            [
             0.5555555555555556,
             "#d8576b"
            ],
            [
             0.6666666666666666,
             "#ed7953"
            ],
            [
             0.7777777777777778,
             "#fb9f3a"
            ],
            [
             0.8888888888888888,
             "#fdca26"
            ],
            [
             1,
             "#f0f921"
            ]
           ],
           "sequentialminus": [
            [
             0,
             "#0d0887"
            ],
            [
             0.1111111111111111,
             "#46039f"
            ],
            [
             0.2222222222222222,
             "#7201a8"
            ],
            [
             0.3333333333333333,
             "#9c179e"
            ],
            [
             0.4444444444444444,
             "#bd3786"
            ],
            [
             0.5555555555555556,
             "#d8576b"
            ],
            [
             0.6666666666666666,
             "#ed7953"
            ],
            [
             0.7777777777777778,
             "#fb9f3a"
            ],
            [
             0.8888888888888888,
             "#fdca26"
            ],
            [
             1,
             "#f0f921"
            ]
           ]
          },
          "colorway": [
           "#636efa",
           "#EF553B",
           "#00cc96",
           "#ab63fa",
           "#FFA15A",
           "#19d3f3",
           "#FF6692",
           "#B6E880",
           "#FF97FF",
           "#FECB52"
          ],
          "font": {
           "color": "#2a3f5f"
          },
          "geo": {
           "bgcolor": "white",
           "lakecolor": "white",
           "landcolor": "#E5ECF6",
           "showlakes": true,
           "showland": true,
           "subunitcolor": "white"
          },
          "hoverlabel": {
           "align": "left"
          },
          "hovermode": "closest",
          "mapbox": {
           "style": "light"
          },
          "paper_bgcolor": "white",
          "plot_bgcolor": "#E5ECF6",
          "polar": {
           "angularaxis": {
            "gridcolor": "white",
            "linecolor": "white",
            "ticks": ""
           },
           "bgcolor": "#E5ECF6",
           "radialaxis": {
            "gridcolor": "white",
            "linecolor": "white",
            "ticks": ""
           }
          },
          "scene": {
           "xaxis": {
            "backgroundcolor": "#E5ECF6",
            "gridcolor": "white",
            "gridwidth": 2,
            "linecolor": "white",
            "showbackground": true,
            "ticks": "",
            "zerolinecolor": "white"
           },
           "yaxis": {
            "backgroundcolor": "#E5ECF6",
            "gridcolor": "white",
            "gridwidth": 2,
            "linecolor": "white",
            "showbackground": true,
            "ticks": "",
            "zerolinecolor": "white"
           },
           "zaxis": {
            "backgroundcolor": "#E5ECF6",
            "gridcolor": "white",
            "gridwidth": 2,
            "linecolor": "white",
            "showbackground": true,
            "ticks": "",
            "zerolinecolor": "white"
           }
          },
          "shapedefaults": {
           "line": {
            "color": "#2a3f5f"
           }
          },
          "ternary": {
           "aaxis": {
            "gridcolor": "white",
            "linecolor": "white",
            "ticks": ""
           },
           "baxis": {
            "gridcolor": "white",
            "linecolor": "white",
            "ticks": ""
           },
           "bgcolor": "#E5ECF6",
           "caxis": {
            "gridcolor": "white",
            "linecolor": "white",
            "ticks": ""
           }
          },
          "title": {
           "x": 0.05
          },
          "xaxis": {
           "automargin": true,
           "gridcolor": "white",
           "linecolor": "white",
           "ticks": "",
           "title": {
            "standoff": 15
           },
           "zerolinecolor": "white",
           "zerolinewidth": 2
          },
          "yaxis": {
           "automargin": true,
           "gridcolor": "white",
           "linecolor": "white",
           "ticks": "",
           "title": {
            "standoff": 15
           },
           "zerolinecolor": "white",
           "zerolinewidth": 2
          }
         }
        },
        "xaxis": {
         "anchor": "y",
         "domain": [
          0,
          1
         ]
        },
        "yaxis": {
         "anchor": "x",
         "domain": [
          0,
          1
         ]
        }
       }
      }
     },
     "metadata": {},
     "output_type": "display_data"
    }
   ],
   "source": [
    "env = LuxAI_S2() # create the environment object\n",
    "obs = env.reset(seed=69) # resets an environment with a seed\n",
    "\n",
    "# the observation is always composed of observations for both players.\n",
    "obs.keys(), obs[\"player_0\"].keys()\n",
    "\n",
    "# visualize the environment so far with rgb_array to get a quick look at the map\n",
    "# dark orange - high rubble, light orange - low rubble\n",
    "# blue = ice, yellow = ore\n",
    "img = env.render(\"rgb_array\", width=48, height=48)\n",
    "px.imshow(img).show()"
   ]
  },
  {
   "cell_type": "code",
   "execution_count": 5,
   "metadata": {},
   "outputs": [],
   "source": [
    "def remove_spawns_at_border(desirable_coordinates, map_width, map_height):\n",
    "    for x in range(0, map_width):\n",
    "        desirable_coordinates[0][x] = 0\n",
    "        desirable_coordinates[map_width - 1][x] = 0\n",
    "\n",
    "    for y in range(0, map_height):\n",
    "        desirable_coordinates[0][x] = 0\n",
    "        desirable_coordinates[y][map_height - 1] = 0\n",
    "\n",
    "    return desirable_coordinates\n",
    "\n",
    "\n",
    "def set_coords_zero(desirable_coordinates, resource_indexes):\n",
    "    for x, y in resource_indexes:\n",
    "        try:\n",
    "            desirable_coordinates[x][y] = 0\n",
    "       \n",
    "        except IndexError:\n",
    "            continue\n",
    "\n",
    "    return desirable_coordinates\n",
    "\n",
    "\n",
    "def set_coords_one(desirable_coordinates, spawn_indexes):\n",
    "    for x, y in spawn_indexes:\n",
    "        try:\n",
    "            desirable_coordinates[x][y] = 1\n",
    "       \n",
    "        except IndexError:\n",
    "            continue\n",
    "\n",
    "    return desirable_coordinates\n",
    "\n",
    "\n",
    "def get_factory_occupied_tiles(x, y):\n",
    "    return np.array([\n",
    "        (x, y), # factory center\n",
    "        (x-1, y), (x, y-1), # left and top\n",
    "        (x+1, y), (x, y+1), # right and bottom\n",
    "        (x-1, y-1), (x+1, y-1), # diagonals\n",
    "        (x-1, y+1), (x+1, y+1), # diagonals\n",
    "        (x-2, y), (x, y-2), # left and top \n",
    "        (x+2, y), (x, y+2), # right and bottom \n",
    "        (x-2, y-1), (x-1, y-2), (x-2, y-2), # left and top diagonals \n",
    "        (x+2, y+1), (x+1, y+2), (x+2, y+2), # right and bottom diagonals \n",
    "        (x+2, y-1), (x+1, y-2), (x+2, y-2), # right and top diagonals \n",
    "        (x-2, y+1), (x-1, y+2), (x-2, y+2), # left and bottom diagonals \n",
    "        (x-3, y), (x, y-3), (x+3, y), (x, y+3), # left and top\n",
    "        (x-3, y), (x, y-3), (x+3, y), (x, y+3), # right and bottom\n",
    "        (x-3, y-1), (x-1, y-3), (x-3, y-3), # left and top diagonals \n",
    "        (x+3, y+1), (x+1, y+3), (x+3, y+3), # right and bottom diagonals \n",
    "        (x+3, y-1), (x+1, y-3), (x+3, y-3), # left and top diagonals \n",
    "        (x-3, y+1), (x-1, y+3), (x-3, y+3), # right and bottom diagonals \n",
    "\n",
    "    ]) \n",
    "\n",
    "\n",
    "def get_bordering_coords(x, y):\n",
    "    return np.array([\n",
    "        (x, y), # center\n",
    "        (x-1, y), (x, y-1), # left and top\n",
    "        (x+1, y), (x, y+1), # right and bottom\n",
    "        (x-1, y-1), (x+1, y-1), # diagonals\n",
    "        (x-1, y+1), (x+1, y+1), # diagonals\n",
    "    ])\n",
    "\n",
    "\n",
    "# function used by Archimedes for locating resource border coordinates\n",
    "def neighbors(x, y):\n",
    "    return np.array([\n",
    "        # commented to give buffer, avoiding placing factory on resource\n",
    "        # layer 1\n",
    "        #(x-1, y), (x, y-1), # left and top\n",
    "        #(x+1, y), (x, y+1), # right and bottom\n",
    "\n",
    "        # layer 2\n",
    "        (x-2, y), (x, y-2), # left and top \n",
    "        (x+2, y), (x, y+2), # right and bottom \n",
    "\n",
    "        (x-2, y-1), #(x-1, y-2), (x-2, y-2), # left and top diagonals \n",
    "        (x+2, y+1), #(x+1, y+2), (x+2, y+2), # right and bottom diagonals \n",
    "\n",
    "        (x+2, y-1), #(x+1, y-2), (x+2, y-2), # right and top diagonals \n",
    "        (x-2, y+1), #(x-1, y+2), (x-2, y+2), # left and bottom diagonals \n",
    "\n",
    "        # commented away to try to get factory right next to resource\n",
    "        # layer 3\n",
    "        #(x-3, y), (x, y-3), (x+3, y), (x, y+3), # left and top\n",
    "        #(x-3, y), (x, y-3), (x+3, y), (x, y+3), # right and bottom\n",
    "\n",
    "        #(x-3, y-1), (x-1, y-3), (x-3, y-3), # left and top diagonals \n",
    "        #(x+3, y+1), (x+1, y+3), (x+3, y+3), # right and bottom diagonals \n",
    "\n",
    "        #(x+3, y-1), (x+1, y-3), (x+3, y-3), # left and top diagonals \n",
    "        #(x-3, y+1), (x-1, y+3), (x-3, y+3), # right and bottom diagonals \n",
    "\n",
    "    ])\n",
    "    # expand this to include diagonal border coordinates, up to 3 away, or possibly make this method take a search grid range \n",
    "    # and return a np array with results from this grid range\n",
    "\n",
    "\n",
    "# function used by Archimedes for sorting list of resource locations by point x and y value\n",
    "def get_ordered_list(points, x, y):\n",
    "    p_list2 = sorted(points, key=lambda p: abs(p[0] - x) + abs(p[1] - y))\n",
    "    return p_list2\n",
    "\n",
    "\n",
    "# function used by Archimedes for deciding what action the unit should take to accieve its assignment\n",
    "def assignment_action_decision(unit, unit_id, assignment_tile, actions, direction, move_power_cost, dig_power_cost):\n",
    "    if type(assignment_tile) == str or (unit.power < move_power_cost) or (unit.power < dig_power_cost):\n",
    "        print('idle assignment: ', assignment_tile)\n",
    "        actions[unit_id] = [unit.recharge(1, repeat=0)]\n",
    "        #actions[unit_id] = [unit.move(0, repeat=0)] # move 0 equals move center\n",
    "\n",
    "    if all(unit.pos == assignment_tile) and (unit.power >= dig_power_cost):\n",
    "        print('dig assignment: ', assignment_tile)\n",
    "        actions[unit_id] = [unit.dig(repeat=0)]\n",
    "\n",
    "    else:\n",
    "        direction = direction_to(unit.pos, assignment_tile)\n",
    "        print('move assignment: ', assignment_tile, direction)\n",
    "        actions[unit_id] = [unit.move(direction, repeat=0)]\n",
    "\n",
    "\n",
    "# function used by Archimedes to check if tile is occupied by other bots\n",
    "def check_tile_occupation(game_state, unit_x, unit_y, direction, player, opponent):\n",
    "    friendly_bots = game_state.units[player]\n",
    "    hostile_bots = game_state.units[opponent]\n",
    "\n",
    "    friendly_coords = {(unit.pos[0], unit.pos[1]): unit.unit_type for (unit_id, unit) in friendly_bots.items()}\n",
    "    hostile_coords = {(unit.pos[0], unit.pos[1]): unit.unit_type for (unit_id, unit) in hostile_bots.items()}\n",
    "\n",
    "    # a[1] = direction (1 = up, 2 = right, 3 = down, 4 = left)\n",
    "    # move_deltas = np.array([0, -1], [1, 0], [0, 1], [-1, 0]])\n",
    "    bot_up = (unit_x, unit_y - 1)\n",
    "    bot_right = (unit_x + 1, unit_y)\n",
    "    bot_down = (unit_x, unit_y + 1)\n",
    "    bot_left = (unit_x - 1, unit_y)\n",
    "\n",
    "\n",
    "    # checks if no friendly is on direction tile, if none, direction remains, else set to 0\n",
    "    up_friendly = (bot_up not in friendly_coords) * 1\n",
    "    right_friendly = (bot_right not in friendly_coords) * 2\n",
    "    down_friendly = (bot_down not in friendly_coords) * 3\n",
    "    left_friendly = (bot_left not in friendly_coords) * 4\n",
    "\n",
    "    # checks if hostile bot is on direction tile, if there is one of type 'LIGHT', direction remains, else set to 0\n",
    "    up_hostile = True if (bot_up not in hostile_coords) or (bot_up in hostile_coords and hostile_coords[bot_up] == 'LIGHT' ) else False\n",
    "    right_hostile = True if (bot_up not in hostile_coords) and (bot_up in hostile_coords and hostile_coords[bot_up] == 'LIGHT' ) else False\n",
    "    down_hostile = True if (bot_up not in hostile_coords) and (bot_up in hostile_coords and hostile_coords[bot_up] == 'LIGHT' ) else False\n",
    "    left_hostile = True if (bot_up not in hostile_coords) and (bot_up in hostile_coords and hostile_coords[bot_up] == 'LIGHT' ) else False\n",
    "\n",
    "    '''\n",
    "    # this is where the hostile attack decision making will be placed, as distinguishing between light/heavy is important for combat\n",
    "    hostiles = [up_hostile, right_hostile, down_hostile, left_hostile]\n",
    "    '''\n",
    "\n",
    "    # sets non occupied tile directions\n",
    "    up_free = up_friendly * up_hostile\n",
    "    right_free = right_friendly * right_hostile\n",
    "    down_free = down_friendly * down_hostile\n",
    "    left_free = left_friendly * left_hostile\n",
    "\n",
    "\n",
    "    # finds possible directions not occupied by friendly bots and hostile bots\n",
    "    directions = [up_free, right_free, down_free, left_free]\n",
    "    print(direction, directions)\n",
    "    if direction in directions:\n",
    "        return direction\n",
    "    \n",
    "    odd_direction = direction % 2 > 0\n",
    "    for alt_direction in directions:\n",
    "        if alt_direction > 0:\n",
    "            return alt_direction\n",
    "\n",
    "        if alt_direction > 0:\n",
    "            return alt_direction\n",
    "\n",
    "    # if all direction tiles occupied with friendly bots, recharge recommended\n",
    "    return -1\n",
    "\n",
    "    \n",
    "\n",
    "class Archimedes_Lever():\n",
    "    def __init__(self, player: str, env_cfg: EnvConfig) -> None:\n",
    "        self.player = player\n",
    "        self.opp_player = \"player_1\" if self.player == \"player_0\" else \"player_0\"\n",
    "        #np.random.seed(0)\n",
    "        self.env_cfg: EnvConfig = env_cfg\n",
    "\n",
    "    # Setup of early game\n",
    "    def early_setup(self, step: int, obs, remainingOverageTime: int = 60):\n",
    "        if step == 0:\n",
    "            # bid 0 to not waste resources bidding and declare as the default faction\n",
    "            # you can bid -n to prefer going second or n to prefer going first in placement\n",
    "            return dict(faction=\"AlphaStrike\", bid=0)\n",
    "        else:\n",
    "            game_state = obs_to_game_state(step, self.env_cfg, obs)\n",
    "\n",
    "            ### Resets spawn mask coordinates and sets desirable coords with proximity to ice/ore coordinates as spawn coordinates\n",
    "            # sets all valid coordinates to 0 as only zero and one are possible \n",
    "            desirable_coordinates_filtered = np.copy(game_state.board.valid_spawns_mask)\n",
    "            desirable_coordinates_filtered[desirable_coordinates_filtered == 1] = 0\n",
    "\n",
    "            # gets border indexes of ore coordinates and ice coordinates\n",
    "            indOre = np.transpose(np.where(game_state.board.ore > 0))\n",
    "            oreSpawns = np.unique(np.concatenate([neighbors(*i) for i in indOre]), axis=0)\n",
    "\n",
    "            indIce = np.transpose(np.where(game_state.board.ice > 0))\n",
    "            iceSpawns = np.unique(np.concatenate([neighbors(*i) for i in indIce]), axis=0)\n",
    "\n",
    "            # sets coordinates around ore and ice to 1\n",
    "            '''\n",
    "            desirable_coordinates_filtered = set_coords_one(desirable_coordinates=desirable_coordinates_filtered, spawn_indexes=oreSpawns)\n",
    "            '''\n",
    "            desirable_coordinates_filtered = set_coords_one(desirable_coordinates=desirable_coordinates_filtered, spawn_indexes=iceSpawns)\n",
    "\n",
    "            # then replaces ore and ice coordinates (and directly ajacent ones) with 0, as these are not valid spawn locations\n",
    "            oreNeighb = np.unique(np.concatenate([get_bordering_coords(*i) for i in indOre]), axis=0)\n",
    "            desirable_coordinates_filtered = set_coords_zero(desirable_coordinates=desirable_coordinates_filtered, resource_indexes=oreNeighb)\n",
    "\n",
    "            iceNeighb = np.unique(np.concatenate([get_bordering_coords(*i) for i in indIce]), axis=0)\n",
    "            desirable_coordinates_filtered = set_coords_zero(desirable_coordinates=desirable_coordinates_filtered, resource_indexes=iceNeighb)\n",
    "            \n",
    "            \n",
    "            # then replace border coordinates with 0, as these are not valid spawn locations\n",
    "            map_width = len(desirable_coordinates_filtered[0])\n",
    "            map_height = len(desirable_coordinates_filtered)\n",
    "            desirable_coordinates_filtered = remove_spawns_at_border(desirable_coordinates=desirable_coordinates_filtered, map_width=map_width, map_height=map_height)\n",
    "\n",
    "            # then replace coordinates where there are factories (and directly ajacent ones) with 0, as these are no longer valid spawn locations\n",
    "            factory_indexes = np.transpose(np.where(game_state.board.factory_occupancy_map > 0))\n",
    "            if len(factory_indexes) > 0:\n",
    "                occupied_indexes = np.unique(np.concatenate([get_factory_occupied_tiles(*i) for i in factory_indexes]), axis=0)\n",
    "                desirable_coordinates_filtered = set_coords_zero(desirable_coordinates=desirable_coordinates_filtered, resource_indexes=occupied_indexes)\n",
    "\n",
    "\n",
    "            # visualizes the map and AI vision\n",
    "            #img = env.render(\"rgb_array\", width=48, height=48)\n",
    "            #px.imshow(img).show()\n",
    "            #px.imshow(desirable_coordinates_filtered.T).show()\n",
    "\n",
    "\n",
    "            ### Factory placement period\n",
    "            # how much water and metal you have in your starting pool to give to new factories\n",
    "            water_left = game_state.teams[self.player].water\n",
    "            metal_left = game_state.teams[self.player].metal\n",
    "            \n",
    "            # how many factories you have left to place\n",
    "            factories_to_place = game_state.teams[self.player].factories_to_place\n",
    "\n",
    "            # whether it is your turn to place a factory\n",
    "            my_turn_to_place = my_turn_to_place_factory(game_state.teams[self.player].place_first, step)\n",
    "            if factories_to_place > 0 and my_turn_to_place:\n",
    "                # we will spawn our factory in a random location with 150 metal and water if it is our turn to place\n",
    "                potential_spawns = np.array(list(zip(*np.where(desirable_coordinates_filtered == 1))))\n",
    "                spawn_loc = potential_spawns[np.random.randint(0, len(potential_spawns))]\n",
    "\n",
    "                return dict(spawn=spawn_loc, metal=150, water=150)\n",
    "\n",
    "            # returns empty dictionary if no decisions were reached\n",
    "            return dict()\n",
    "\n",
    "\n",
    "    \n",
    "    # Setup of logic in the act phase\n",
    "    def act(self, step: int, obs, remainingOverageTime: int = 60):\n",
    "        # info used to make decisions in the act phase\n",
    "        actions = dict()\n",
    "        game_state: GameState = obs_to_game_state(step, self.env_cfg, obs)\n",
    "        factories = game_state.factories[self.player]\n",
    "        game_state.teams[self.player].place_first\n",
    "\n",
    "        # storing of info about factories\n",
    "        factory_tiles, factory_units = [], []\n",
    "        for unit_id, factory in factories.items():\n",
    "            factory_tiles += [factory.pos]\n",
    "            factory_units += [factory]\n",
    "        factory_tiles = np.array(factory_tiles)\n",
    "\n",
    "        ### Creation of bots\n",
    "        heavy_bot_cost = self.env_cfg.ROBOTS[\"HEAVY\"]\n",
    "        light_bot_cost = self.env_cfg.ROBOTS[\"LIGHT\"]\n",
    "\n",
    "        # heavy bots\n",
    "        for unit_id, factory in factories.items():\n",
    "            if factory.power >= heavy_bot_cost.POWER_COST and factory.cargo.metal >= heavy_bot_cost.METAL_COST:\n",
    "                actions[unit_id] = factory.build_heavy()\n",
    "\n",
    "        \n",
    "        # light bots\n",
    "        if game_state.real_env_steps >= 5:\n",
    "            for unit_id, factory in factories.items():\n",
    "                if factory.power >= light_bot_cost.POWER_COST and factory.cargo.metal >= light_bot_cost.METAL_COST:\n",
    "                    actions[unit_id] = factory.build_light()\n",
    "\n",
    "\n",
    "        \n",
    "\n",
    "        print(self.player)\n",
    "        print(\"turn:\", game_state.real_env_steps)\n",
    "\n",
    "        ### Decides when the factories should start growing Lichen\n",
    "        # Watering lichen if at right turn\n",
    "        '''\n",
    "        # starting idea of some sort of regulating mechanism on when to start watering\n",
    "        # see google sheets for optimal time to start watering by looking at water cargo,\n",
    "        # number of turns left, \n",
    "        # and the water cost from the calculus of water consumption growth\n",
    "\n",
    "        if self.env_cfg.max_episode_length - game_state.real_env_steps < 50:\n",
    "                if factory.water_cost(game_state) <= factory.cargo.water:\n",
    "                    actions[unit_id] = factory.water()\n",
    "        '''\n",
    "        growth_turn = 1000 - 77\n",
    "        grow = game_state.real_env_steps >= growth_turn\n",
    "        for factory_id, factory in factories.items():\n",
    "            if grow and factory.can_water:\n",
    "                factory.water\n",
    "            print(factory_id, \"has;\", factory.cargo.metal, \"metal\", factory.cargo.water, \"water\", factory.power, \"power\")\n",
    "        \n",
    "        ### Finds all ice and ore tiles\n",
    "        ice_map = game_state.board.ice \n",
    "        ore_map = game_state.board.ore \n",
    "        rubble_map = game_state.board.rubble\n",
    "        ice_tile_locations = np.argwhere(ice_map == 1) # numpy magic to get the position of every ice tile\n",
    "        ore_tile_locations = np.argwhere(ore_map == 1) # numpy magic to get the position of every ore tile\n",
    "        rubble_tile_locations = np.argwhere(rubble_map > 0) # numpy magic to get the position of every rubble tile\n",
    "        units = game_state.units[self.player]\n",
    "\n",
    "        for unit_id, unit in units.items():\n",
    "            isHeavy = unit.unit_type == 'HEAVY'\n",
    "            isLight = unit.unit_type == 'LIGHT'\n",
    "\n",
    "            # info about closest map tiles\n",
    "            closest_ice_tile = sorted(ice_tile_locations, key=lambda p: (p[0] - unit.pos[0])**2 + (p[1] - unit.pos[1])**2 )[0]\n",
    "            closest_ore_tile = sorted(ore_tile_locations, key=lambda p: (p[0] - unit.pos[0])**2 + (p[1] - unit.pos[1])**2 )[0]\n",
    "            closest_rubble_tile = sorted(rubble_tile_locations, key=lambda p: (p[0] - unit.pos[0])**2 + (p[1] - unit.pos[1])**2 )[0]\n",
    "            closest_factory_tile = sorted(factory_tiles, key=lambda p: (p[0] - unit.pos[0])**2 + (p[1] - unit.pos[1])**2 )[0]\n",
    "\n",
    "            cargo_limit_ice = 100\n",
    "            cargo_limit_ore = 50\n",
    "            on_factory = all(unit.pos == closest_factory_tile)\n",
    "            ajacent_factory = 1 >= abs((unit.pos[0] - closest_factory_tile[0])**2 + (unit.pos[1] - closest_factory_tile[1])**2)\n",
    "\n",
    "\n",
    "\n",
    "            ### Heavy bot logic\n",
    "            if isHeavy:\n",
    "                below_power_threshold_heavy = unit.power < 200\n",
    "                recharge_need_heavy = math.floor(1000 - unit.power)\n",
    "                on_ice = all(unit.pos == closest_ice_tile)\n",
    "\n",
    "                # Print out bot info \n",
    "                print(unit.unit_type, unit_id, \"at:\", unit.pos, \"power and ice:\", unit.power, unit.cargo.ice, \"unit queue:\", len(unit.action_queue))\n",
    "                # on ice, but not over cargo capacity limit\n",
    "                if on_ice and unit.cargo.ice < cargo_limit_ice and not below_power_threshold_heavy:\n",
    "                    actions[unit_id] = [unit.dig(repeat=0)]\n",
    "                    #print(unit_id, \"digging\")\n",
    "                \n",
    "                # not on ice, not over cargo capacity limit, moves to closest ice\n",
    "                elif not on_ice and unit.cargo.ice < cargo_limit_ice and not below_power_threshold_heavy:\n",
    "                    direction = direction_to(unit.pos, closest_ice_tile)\n",
    "                    actions[unit_id] = [unit.move(direction, repeat=0)]\n",
    "                    #print(unit_id, \"move dig\")\n",
    "                \n",
    "                # on factory, below power threshold, pickup power\n",
    "                elif ajacent_factory and below_power_threshold_heavy:\n",
    "                    direction = direction_to(unit.pos, closest_factory_tile)\n",
    "                    actions[unit_id] = [unit.pickup(4, recharge_need_heavy, repeat=0)]\n",
    "                    #print(unit_id, \"recharging\")\n",
    "                \n",
    "                # not on factory, below power threshold. move on factory\n",
    "                elif not ajacent_factory and below_power_threshold_heavy:\n",
    "                    direction = direction_to(unit.pos, closest_factory_tile)\n",
    "                    actions[unit_id] = [unit.move(direction, repeat=0)]\n",
    "                    #print(unit_id, \"move recharge\")\n",
    "\n",
    "                # ajacent to factory, over cargo limit \n",
    "                elif ajacent_factory and unit.cargo.ice >= cargo_limit_ice and not below_power_threshold_heavy:\n",
    "                    direction = direction_to(unit.pos, closest_factory_tile)\n",
    "                    actions[unit_id] = [unit.transfer(direction, 0, unit.cargo.ice, repeat=0)]\n",
    "                    #print(unit_id, \"transfer\")\n",
    "\n",
    "                # not ajacent to factory, moves to closest factory\n",
    "                elif not ajacent_factory and unit.cargo.ice >= cargo_limit_ice and not below_power_threshold_heavy:\n",
    "                    direction = direction_to(unit.pos, closest_factory_tile)\n",
    "                    actions[unit_id] = [unit.move(direction, repeat=0)]\n",
    "                    #print(unit_id, \"move transfer\")\n",
    "\n",
    "\n",
    "            ### Finds all ore tiles, sorts by proximity to light bot\n",
    "            ### Light bot logic\n",
    "            if isLight:\n",
    "                power_threshold_light = 6\n",
    "                below_power_threshold_light = unit.power < power_threshold_light\n",
    "                power_for_dig = unit.power >= unit.dig_cost(game_state)\n",
    "                recharge_need_light = math.floor(150 - unit.power)\n",
    "                on_ore = all(unit.pos == closest_ore_tile)\n",
    "                on_rubble = all(unit.pos == closest_rubble_tile) \n",
    "\n",
    "                # TODO remove the ore assignment to spread the bots\n",
    "\n",
    "                # Print out bot info \n",
    "                print(unit.unit_type, unit_id, \"at:\", unit.pos, \"power and ore:\", unit.power, unit.cargo.ore, \"unit queue:\", len(unit.action_queue))\n",
    "\n",
    "                # on ore, not on rubble, under cargo limit, not below power threshold. dig ore\n",
    "                if on_ore and not on_rubble and unit.cargo.ore < cargo_limit_ore and not below_power_threshold_light:\n",
    "                    actions[unit_id] = [unit.dig(repeat=0)]\n",
    "                    #print(unit_id, \"dig ore\")\n",
    "                \n",
    "                # on rubble, under cargo limit, not below power threshold. dig rubble\n",
    "                elif on_rubble and unit.cargo.ore < cargo_limit_ore and not below_power_threshold_light:\n",
    "                    actions[unit_id] = [unit.dig(repeat=0)]\n",
    "                    #print(unit_id, \"dig rubble\")\n",
    "                \n",
    "                # not on ore, not on rubble, under cargo limit, not below power threshold. move towards ore\n",
    "                elif not on_ore and not on_rubble and unit.cargo.ore < cargo_limit_ore and not below_power_threshold_light:\n",
    "                    direction = direction_to(unit.pos, closest_ore_tile)\n",
    "                    newDirection = check_tile_occupation(game_state=game_state,\n",
    "                        unit_x=unit.pos[0],\n",
    "                        unit_y=unit.pos[1],\n",
    "                        direction=direction,\n",
    "                        player=self.player,\n",
    "                        opponent=self.opp_player\n",
    "                    )\n",
    "                    if newDirection == -1:\n",
    "                        print(unit_id, \"recharging instead\")\n",
    "                        actions[unit_id] = [unit.recharge(unit.power + power_threshold_light)]\n",
    "                        #print(unit_id, \"recharge instead of moving\")\n",
    "                        \n",
    "                    else:\n",
    "                        print(unit_id, \"move direction\", newDirection)\n",
    "                        actions[unit_id] = [unit.move(newDirection, repeat=0)]\n",
    "                        #print(unit_id, \"move to ore\")\n",
    "\n",
    "                # below power threshold, no actions in queue. recharge to power threshold\n",
    "                elif below_power_threshold_light and len(unit.action_queue) < 1:\n",
    "                    actions[unit_id] = [unit.recharge(power_threshold_light)]\n",
    "                    #print(unit_id, \"recharge\")\n",
    "                \n",
    "                # ajacent to factory, at/over cargo limit, not below power threshold. transfer ore\n",
    "                elif ajacent_factory and unit.cargo.ore >= cargo_limit_ore and not below_power_threshold_light:\n",
    "                    direction = direction_to(unit.pos, closest_factory_tile)\n",
    "                    actions[unit_id] = [unit.transfer(direction, 1, unit.cargo.ore)]\n",
    "                    #print(unit_id, \"transfer cargo\")\n",
    "                \n",
    "                # not ajacent to factory, at/over cargo limit, not below power threshold. move to factory\n",
    "                elif not ajacent_factory and unit.cargo.ore >= cargo_limit_ore and not below_power_threshold_light:\n",
    "                    direction = direction_to(unit.pos, closest_factory_tile)\n",
    "                    actions[unit_id] = [unit.move(direction, repeat=0)]\n",
    "                    #print(unit_id, \"move to transfer cargo\")\n",
    "                \n",
    "                # wait for recharging queue to finish\n",
    "                else:\n",
    "                    #print(\"do nothing\")\n",
    "                    continue\n",
    "\n",
    "\n",
    "            \n",
    "\n",
    "        print()\n",
    "\n",
    "\n",
    "\n",
    "\n",
    "        \n",
    "\n",
    "        return actions\n",
    "\n"
   ]
  },
  {
   "cell_type": "code",
   "execution_count": 6,
   "metadata": {},
   "outputs": [
    {
     "data": {
      "application/vnd.plotly.v1+json": {
       "config": {
        "plotlyServerURL": "https://plot.ly"
       },
       "data": [
        {
         "hovertemplate": "x: %{x}<br>y: %{y}<br>color: [%{z[0]}, %{z[1]}, %{z[2]}]<extra></extra>",
         "name": "0",
         "source": "data:image/png;base64,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",
         "type": "image",
         "xaxis": "x",
         "yaxis": "y"
        }
       ],
       "layout": {
        "margin": {
         "t": 60
        },
        "template": {
         "data": {
          "bar": [
           {
            "error_x": {
             "color": "#2a3f5f"
            },
            "error_y": {
             "color": "#2a3f5f"
            },
            "marker": {
             "line": {
              "color": "#E5ECF6",
              "width": 0.5
             },
             "pattern": {
              "fillmode": "overlay",
              "size": 10,
              "solidity": 0.2
             }
            },
            "type": "bar"
           }
          ],
          "barpolar": [
           {
            "marker": {
             "line": {
              "color": "#E5ECF6",
              "width": 0.5
             },
             "pattern": {
              "fillmode": "overlay",
              "size": 10,
              "solidity": 0.2
             }
            },
            "type": "barpolar"
           }
          ],
          "carpet": [
           {
            "aaxis": {
             "endlinecolor": "#2a3f5f",
             "gridcolor": "white",
             "linecolor": "white",
             "minorgridcolor": "white",
             "startlinecolor": "#2a3f5f"
            },
            "baxis": {
             "endlinecolor": "#2a3f5f",
             "gridcolor": "white",
             "linecolor": "white",
             "minorgridcolor": "white",
             "startlinecolor": "#2a3f5f"
            },
            "type": "carpet"
           }
          ],
          "choropleth": [
           {
            "colorbar": {
             "outlinewidth": 0,
             "ticks": ""
            },
            "type": "choropleth"
           }
          ],
          "contour": [
           {
            "colorbar": {
             "outlinewidth": 0,
             "ticks": ""
            },
            "colorscale": [
             [
              0,
              "#0d0887"
             ],
             [
              0.1111111111111111,
              "#46039f"
             ],
             [
              0.2222222222222222,
              "#7201a8"
             ],
             [
              0.3333333333333333,
              "#9c179e"
             ],
             [
              0.4444444444444444,
              "#bd3786"
             ],
             [
              0.5555555555555556,
              "#d8576b"
             ],
             [
              0.6666666666666666,
              "#ed7953"
             ],
             [
              0.7777777777777778,
              "#fb9f3a"
             ],
             [
              0.8888888888888888,
              "#fdca26"
             ],
             [
              1,
              "#f0f921"
             ]
            ],
            "type": "contour"
           }
          ],
          "contourcarpet": [
           {
            "colorbar": {
             "outlinewidth": 0,
             "ticks": ""
            },
            "type": "contourcarpet"
           }
          ],
          "heatmap": [
           {
            "colorbar": {
             "outlinewidth": 0,
             "ticks": ""
            },
            "colorscale": [
             [
              0,
              "#0d0887"
             ],
             [
              0.1111111111111111,
              "#46039f"
             ],
             [
              0.2222222222222222,
              "#7201a8"
             ],
             [
              0.3333333333333333,
              "#9c179e"
             ],
             [
              0.4444444444444444,
              "#bd3786"
             ],
             [
              0.5555555555555556,
              "#d8576b"
             ],
             [
              0.6666666666666666,
              "#ed7953"
             ],
             [
              0.7777777777777778,
              "#fb9f3a"
             ],
             [
              0.8888888888888888,
              "#fdca26"
             ],
             [
              1,
              "#f0f921"
             ]
            ],
            "type": "heatmap"
           }
          ],
          "heatmapgl": [
           {
            "colorbar": {
             "outlinewidth": 0,
             "ticks": ""
            },
            "colorscale": [
             [
              0,
              "#0d0887"
             ],
             [
              0.1111111111111111,
              "#46039f"
             ],
             [
              0.2222222222222222,
              "#7201a8"
             ],
             [
              0.3333333333333333,
              "#9c179e"
             ],
             [
              0.4444444444444444,
              "#bd3786"
             ],
             [
              0.5555555555555556,
              "#d8576b"
             ],
             [
              0.6666666666666666,
              "#ed7953"
             ],
             [
              0.7777777777777778,
              "#fb9f3a"
             ],
             [
              0.8888888888888888,
              "#fdca26"
             ],
             [
              1,
              "#f0f921"
             ]
            ],
            "type": "heatmapgl"
           }
          ],
          "histogram": [
           {
            "marker": {
             "pattern": {
              "fillmode": "overlay",
              "size": 10,
              "solidity": 0.2
             }
            },
            "type": "histogram"
           }
          ],
          "histogram2d": [
           {
            "colorbar": {
             "outlinewidth": 0,
             "ticks": ""
            },
            "colorscale": [
             [
              0,
              "#0d0887"
             ],
             [
              0.1111111111111111,
              "#46039f"
             ],
             [
              0.2222222222222222,
              "#7201a8"
             ],
             [
              0.3333333333333333,
              "#9c179e"
             ],
             [
              0.4444444444444444,
              "#bd3786"
             ],
             [
              0.5555555555555556,
              "#d8576b"
             ],
             [
              0.6666666666666666,
              "#ed7953"
             ],
             [
              0.7777777777777778,
              "#fb9f3a"
             ],
             [
              0.8888888888888888,
              "#fdca26"
             ],
             [
              1,
              "#f0f921"
             ]
            ],
            "type": "histogram2d"
           }
          ],
          "histogram2dcontour": [
           {
            "colorbar": {
             "outlinewidth": 0,
             "ticks": ""
            },
            "colorscale": [
             [
              0,
              "#0d0887"
             ],
             [
              0.1111111111111111,
              "#46039f"
             ],
             [
              0.2222222222222222,
              "#7201a8"
             ],
             [
              0.3333333333333333,
              "#9c179e"
             ],
             [
              0.4444444444444444,
              "#bd3786"
             ],
             [
              0.5555555555555556,
              "#d8576b"
             ],
             [
              0.6666666666666666,
              "#ed7953"
             ],
             [
              0.7777777777777778,
              "#fb9f3a"
             ],
             [
              0.8888888888888888,
              "#fdca26"
             ],
             [
              1,
              "#f0f921"
             ]
            ],
            "type": "histogram2dcontour"
           }
          ],
          "mesh3d": [
           {
            "colorbar": {
             "outlinewidth": 0,
             "ticks": ""
            },
            "type": "mesh3d"
           }
          ],
          "parcoords": [
           {
            "line": {
             "colorbar": {
              "outlinewidth": 0,
              "ticks": ""
             }
            },
            "type": "parcoords"
           }
          ],
          "pie": [
           {
            "automargin": true,
            "type": "pie"
           }
          ],
          "scatter": [
           {
            "fillpattern": {
             "fillmode": "overlay",
             "size": 10,
             "solidity": 0.2
            },
            "type": "scatter"
           }
          ],
          "scatter3d": [
           {
            "line": {
             "colorbar": {
              "outlinewidth": 0,
              "ticks": ""
             }
            },
            "marker": {
             "colorbar": {
              "outlinewidth": 0,
              "ticks": ""
             }
            },
            "type": "scatter3d"
           }
          ],
          "scattercarpet": [
           {
            "marker": {
             "colorbar": {
              "outlinewidth": 0,
              "ticks": ""
             }
            },
            "type": "scattercarpet"
           }
          ],
          "scattergeo": [
           {
            "marker": {
             "colorbar": {
              "outlinewidth": 0,
              "ticks": ""
             }
            },
            "type": "scattergeo"
           }
          ],
          "scattergl": [
           {
            "marker": {
             "colorbar": {
              "outlinewidth": 0,
              "ticks": ""
             }
            },
            "type": "scattergl"
           }
          ],
          "scattermapbox": [
           {
            "marker": {
             "colorbar": {
              "outlinewidth": 0,
              "ticks": ""
             }
            },
            "type": "scattermapbox"
           }
          ],
          "scatterpolar": [
           {
            "marker": {
             "colorbar": {
              "outlinewidth": 0,
              "ticks": ""
             }
            },
            "type": "scatterpolar"
           }
          ],
          "scatterpolargl": [
           {
            "marker": {
             "colorbar": {
              "outlinewidth": 0,
              "ticks": ""
             }
            },
            "type": "scatterpolargl"
           }
          ],
          "scatterternary": [
           {
            "marker": {
             "colorbar": {
              "outlinewidth": 0,
              "ticks": ""
             }
            },
            "type": "scatterternary"
           }
          ],
          "surface": [
           {
            "colorbar": {
             "outlinewidth": 0,
             "ticks": ""
            },
            "colorscale": [
             [
              0,
              "#0d0887"
             ],
             [
              0.1111111111111111,
              "#46039f"
             ],
             [
              0.2222222222222222,
              "#7201a8"
             ],
             [
              0.3333333333333333,
              "#9c179e"
             ],
             [
              0.4444444444444444,
              "#bd3786"
             ],
             [
              0.5555555555555556,
              "#d8576b"
             ],
             [
              0.6666666666666666,
              "#ed7953"
             ],
             [
              0.7777777777777778,
              "#fb9f3a"
             ],
             [
              0.8888888888888888,
              "#fdca26"
             ],
             [
              1,
              "#f0f921"
             ]
            ],
            "type": "surface"
           }
          ],
          "table": [
           {
            "cells": {
             "fill": {
              "color": "#EBF0F8"
             },
             "line": {
              "color": "white"
             }
            },
            "header": {
             "fill": {
              "color": "#C8D4E3"
             },
             "line": {
              "color": "white"
             }
            },
            "type": "table"
           }
          ]
         },
         "layout": {
          "annotationdefaults": {
           "arrowcolor": "#2a3f5f",
           "arrowhead": 0,
           "arrowwidth": 1
          },
          "autotypenumbers": "strict",
          "coloraxis": {
           "colorbar": {
            "outlinewidth": 0,
            "ticks": ""
           }
          },
          "colorscale": {
           "diverging": [
            [
             0,
             "#8e0152"
            ],
            [
             0.1,
             "#c51b7d"
            ],
            [
             0.2,
             "#de77ae"
            ],
            [
             0.3,
             "#f1b6da"
            ],
            [
             0.4,
             "#fde0ef"
            ],
            [
             0.5,
             "#f7f7f7"
            ],
            [
             0.6,
             "#e6f5d0"
            ],
            [
             0.7,
             "#b8e186"
            ],
            [
             0.8,
             "#7fbc41"
            ],
            [
             0.9,
             "#4d9221"
            ],
            [
             1,
             "#276419"
            ]
           ],
           "sequential": [
            [
             0,
             "#0d0887"
            ],
            [
             0.1111111111111111,
             "#46039f"
            ],
            [
             0.2222222222222222,
             "#7201a8"
            ],
            [
             0.3333333333333333,
             "#9c179e"
            ],
            [
             0.4444444444444444,
             "#bd3786"
            ],
            [
             0.5555555555555556,
             "#d8576b"
            ],
            [
             0.6666666666666666,
             "#ed7953"
            ],
            [
             0.7777777777777778,
             "#fb9f3a"
            ],
            [
             0.8888888888888888,
             "#fdca26"
            ],
            [
             1,
             "#f0f921"
            ]
           ],
           "sequentialminus": [
            [
             0,
             "#0d0887"
            ],
            [
             0.1111111111111111,
             "#46039f"
            ],
            [
             0.2222222222222222,
             "#7201a8"
            ],
            [
             0.3333333333333333,
             "#9c179e"
            ],
            [
             0.4444444444444444,
             "#bd3786"
            ],
            [
             0.5555555555555556,
             "#d8576b"
            ],
            [
             0.6666666666666666,
             "#ed7953"
            ],
            [
             0.7777777777777778,
             "#fb9f3a"
            ],
            [
             0.8888888888888888,
             "#fdca26"
            ],
            [
             1,
             "#f0f921"
            ]
           ]
          },
          "colorway": [
           "#636efa",
           "#EF553B",
           "#00cc96",
           "#ab63fa",
           "#FFA15A",
           "#19d3f3",
           "#FF6692",
           "#B6E880",
           "#FF97FF",
           "#FECB52"
          ],
          "font": {
           "color": "#2a3f5f"
          },
          "geo": {
           "bgcolor": "white",
           "lakecolor": "white",
           "landcolor": "#E5ECF6",
           "showlakes": true,
           "showland": true,
           "subunitcolor": "white"
          },
          "hoverlabel": {
           "align": "left"
          },
          "hovermode": "closest",
          "mapbox": {
           "style": "light"
          },
          "paper_bgcolor": "white",
          "plot_bgcolor": "#E5ECF6",
          "polar": {
           "angularaxis": {
            "gridcolor": "white",
            "linecolor": "white",
            "ticks": ""
           },
           "bgcolor": "#E5ECF6",
           "radialaxis": {
            "gridcolor": "white",
            "linecolor": "white",
            "ticks": ""
           }
          },
          "scene": {
           "xaxis": {
            "backgroundcolor": "#E5ECF6",
            "gridcolor": "white",
            "gridwidth": 2,
            "linecolor": "white",
            "showbackground": true,
            "ticks": "",
            "zerolinecolor": "white"
           },
           "yaxis": {
            "backgroundcolor": "#E5ECF6",
            "gridcolor": "white",
            "gridwidth": 2,
            "linecolor": "white",
            "showbackground": true,
            "ticks": "",
            "zerolinecolor": "white"
           },
           "zaxis": {
            "backgroundcolor": "#E5ECF6",
            "gridcolor": "white",
            "gridwidth": 2,
            "linecolor": "white",
            "showbackground": true,
            "ticks": "",
            "zerolinecolor": "white"
           }
          },
          "shapedefaults": {
           "line": {
            "color": "#2a3f5f"
           }
          },
          "ternary": {
           "aaxis": {
            "gridcolor": "white",
            "linecolor": "white",
            "ticks": ""
           },
           "baxis": {
            "gridcolor": "white",
            "linecolor": "white",
            "ticks": ""
           },
           "bgcolor": "#E5ECF6",
           "caxis": {
            "gridcolor": "white",
            "linecolor": "white",
            "ticks": ""
           }
          },
          "title": {
           "x": 0.05
          },
          "xaxis": {
           "automargin": true,
           "gridcolor": "white",
           "linecolor": "white",
           "ticks": "",
           "title": {
            "standoff": 15
           },
           "zerolinecolor": "white",
           "zerolinewidth": 2
          },
          "yaxis": {
           "automargin": true,
           "gridcolor": "white",
           "linecolor": "white",
           "ticks": "",
           "title": {
            "standoff": 15
           },
           "zerolinecolor": "white",
           "zerolinewidth": 2
          }
         }
        },
        "xaxis": {
         "anchor": "y",
         "domain": [
          0,
          1
         ]
        },
        "yaxis": {
         "anchor": "x",
         "domain": [
          0,
          1
         ]
        }
       }
      }
     },
     "metadata": {},
     "output_type": "display_data"
    },
    {
     "name": "stdout",
     "output_type": "stream",
     "text": [
      "player_0\n",
      "turn: 0\n",
      "factory_0 has; 150 metal 150 water 1000 power\n",
      "factory_2 has; 150 metal 150 water 1000 power\n",
      "factory_4 has; 150 metal 150 water 1000 power\n",
      "factory_6 has; 150 metal 150 water 1000 power\n",
      "\n",
      "player_1\n",
      "turn: 0\n",
      "factory_1 has; 150 metal 150 water 1000 power\n",
      "factory_3 has; 150 metal 150 water 1000 power\n",
      "factory_5 has; 150 metal 150 water 1000 power\n",
      "factory_7 has; 150 metal 150 water 1000 power\n",
      "\n",
      "player_0\n",
      "turn: 1\n",
      "factory_0 has; 50 metal 149 water 550 power\n",
      "factory_2 has; 50 metal 149 water 550 power\n",
      "factory_4 has; 50 metal 149 water 550 power\n",
      "factory_6 has; 50 metal 149 water 550 power\n",
      "HEAVY unit_8 at: [28 36] power and ice: 510 0 unit queue: 0\n",
      "HEAVY unit_9 at: [43 19] power and ice: 510 0 unit queue: 0\n",
      "HEAVY unit_10 at: [10 35] power and ice: 510 0 unit queue: 0\n",
      "HEAVY unit_11 at: [15 28] power and ice: 510 0 unit queue: 0\n",
      "\n",
      "player_1\n",
      "turn: 1\n",
      "factory_1 has; 50 metal 149 water 550 power\n",
      "factory_3 has; 50 metal 149 water 550 power\n",
      "factory_5 has; 50 metal 149 water 550 power\n",
      "factory_7 has; 50 metal 149 water 550 power\n",
      "HEAVY unit_12 at: [30 17] power and ice: 510 0 unit queue: 0\n",
      "HEAVY unit_13 at: [ 4 33] power and ice: 510 0 unit queue: 0\n",
      "HEAVY unit_14 at: [38 15] power and ice: 510 0 unit queue: 0\n",
      "HEAVY unit_15 at: [23 20] power and ice: 510 0 unit queue: 0\n",
      "\n",
      "player_0\n",
      "turn: 2\n",
      "factory_0 has; 50 metal 148 water 600 power\n",
      "factory_2 has; 50 metal 148 water 600 power\n",
      "factory_4 has; 50 metal 148 water 600 power\n",
      "factory_6 has; 50 metal 148 water 600 power\n",
      "HEAVY unit_8 at: [28 37] power and ice: 490 0 unit queue: 0\n",
      "HEAVY unit_9 at: [44 19] power and ice: 490 0 unit queue: 0\n",
      "HEAVY unit_10 at: [ 9 35] power and ice: 490 0 unit queue: 0\n",
      "HEAVY unit_11 at: [15 29] power and ice: 490 0 unit queue: 0\n",
      "\n",
      "player_1\n",
      "turn: 2\n",
      "factory_1 has; 50 metal 148 water 600 power\n",
      "factory_3 has; 50 metal 148 water 600 power\n",
      "factory_5 has; 50 metal 148 water 600 power\n",
      "factory_7 has; 50 metal 148 water 600 power\n",
      "HEAVY unit_12 at: [29 17] power and ice: 490 0 unit queue: 0\n",
      "HEAVY unit_13 at: [ 5 33] power and ice: 490 0 unit queue: 0\n",
      "HEAVY unit_14 at: [39 15] power and ice: 490 0 unit queue: 0\n",
      "HEAVY unit_15 at: [23 19] power and ice: 490 0 unit queue: 0\n",
      "\n",
      "player_0\n",
      "turn: 3\n",
      "factory_0 has; 50 metal 147 water 650 power\n",
      "factory_2 has; 50 metal 147 water 650 power\n",
      "factory_4 has; 50 metal 147 water 650 power\n",
      "factory_6 has; 50 metal 147 water 650 power\n",
      "HEAVY unit_8 at: [28 38] power and ice: 376 0 unit queue: 0\n",
      "HEAVY unit_9 at: [44 18] power and ice: 470 0 unit queue: 0\n",
      "HEAVY unit_10 at: [ 8 35] power and ice: 394 0 unit queue: 0\n",
      "HEAVY unit_11 at: [15 30] power and ice: 373 0 unit queue: 0\n",
      "\n",
      "player_1\n",
      "turn: 3\n",
      "factory_1 has; 50 metal 147 water 650 power\n",
      "factory_3 has; 50 metal 147 water 650 power\n",
      "factory_5 has; 50 metal 147 water 650 power\n",
      "factory_7 has; 50 metal 147 water 650 power\n",
      "HEAVY unit_12 at: [28 17] power and ice: 454 0 unit queue: 0\n",
      "HEAVY unit_13 at: [ 5 34] power and ice: 470 0 unit queue: 0\n",
      "HEAVY unit_14 at: [40 15] power and ice: 454 0 unit queue: 0\n",
      "HEAVY unit_15 at: [23 18] power and ice: 454 0 unit queue: 0\n",
      "\n",
      "player_0\n",
      "turn: 4\n",
      "factory_0 has; 50 metal 146 water 700 power\n",
      "factory_2 has; 50 metal 146 water 700 power\n",
      "factory_4 has; 50 metal 146 water 700 power\n",
      "factory_6 has; 50 metal 146 water 700 power\n",
      "HEAVY unit_8 at: [28 38] power and ice: 316 0 unit queue: 0\n",
      "HEAVY unit_9 at: [45 18] power and ice: 434 0 unit queue: 0\n",
      "HEAVY unit_10 at: [ 8 35] power and ice: 334 0 unit queue: 0\n",
      "HEAVY unit_11 at: [15 30] power and ice: 313 0 unit queue: 0\n",
      "\n",
      "player_1\n",
      "turn: 4\n",
      "factory_1 has; 50 metal 146 water 700 power\n",
      "factory_3 has; 50 metal 146 water 700 power\n",
      "factory_5 has; 50 metal 146 water 700 power\n",
      "factory_7 has; 50 metal 146 water 700 power\n",
      "HEAVY unit_12 at: [28 17] power and ice: 394 0 unit queue: 0\n",
      "HEAVY unit_13 at: [ 6 34] power and ice: 371 0 unit queue: 0\n",
      "HEAVY unit_14 at: [40 15] power and ice: 394 0 unit queue: 0\n",
      "HEAVY unit_15 at: [23 18] power and ice: 394 0 unit queue: 0\n",
      "\n",
      "player_0\n",
      "turn: 5\n",
      "factory_0 has; 50 metal 145 water 750 power\n",
      "factory_2 has; 50 metal 145 water 750 power\n",
      "factory_4 has; 50 metal 145 water 750 power\n",
      "factory_6 has; 50 metal 145 water 750 power\n",
      "HEAVY unit_8 at: [28 38] power and ice: 256 0 unit queue: 0\n",
      "HEAVY unit_9 at: [45 18] power and ice: 374 0 unit queue: 0\n",
      "HEAVY unit_10 at: [ 8 35] power and ice: 274 0 unit queue: 0\n",
      "HEAVY unit_11 at: [15 30] power and ice: 253 0 unit queue: 0\n",
      "\n",
      "player_1\n",
      "turn: 5\n",
      "factory_1 has; 50 metal 145 water 750 power\n",
      "factory_3 has; 50 metal 145 water 750 power\n",
      "factory_5 has; 50 metal 145 water 750 power\n",
      "factory_7 has; 50 metal 145 water 750 power\n",
      "HEAVY unit_12 at: [28 17] power and ice: 334 20 unit queue: 0\n",
      "HEAVY unit_13 at: [ 6 34] power and ice: 311 0 unit queue: 0\n",
      "HEAVY unit_14 at: [40 15] power and ice: 334 20 unit queue: 0\n",
      "HEAVY unit_15 at: [23 18] power and ice: 334 20 unit queue: 0\n",
      "\n",
      "player_0\n",
      "turn: 6\n",
      "factory_0 has; 40 metal 144 water 750 power\n",
      "factory_2 has; 40 metal 144 water 750 power\n",
      "factory_4 has; 40 metal 144 water 750 power\n",
      "factory_6 has; 40 metal 144 water 750 power\n",
      "HEAVY unit_8 at: [28 38] power and ice: 196 0 unit queue: 0\n",
      "HEAVY unit_9 at: [45 18] power and ice: 314 20 unit queue: 0\n",
      "HEAVY unit_10 at: [ 8 35] power and ice: 214 0 unit queue: 0\n",
      "HEAVY unit_11 at: [15 30] power and ice: 193 0 unit queue: 0\n",
      "LIGHT unit_16 at: [28 36] power and ore: 51 0 unit queue: 0\n",
      "2 [1, 0, 0, 0]\n",
      "unit_16 move direction 1\n"
     ]
    },
    {
     "name": "stderr",
     "output_type": "stream",
     "text": [
      "/var/folders/7q/hp4g9tfx10nccy9bdgxmtzgh0000gn/T/ipykernel_37253/1830213910.py:399: DeprecationWarning:\n",
      "\n",
      "elementwise comparison failed; this will raise an error in the future.\n",
      "\n"
     ]
    },
    {
     "ename": "TypeError",
     "evalue": "'bool' object is not iterable",
     "output_type": "error",
     "traceback": [
      "\u001b[0;31m---------------------------------------------------------------------------\u001b[0m",
      "\u001b[0;31mTypeError\u001b[0m                                 Traceback (most recent call last)",
      "Cell \u001b[0;32mIn[6], line 14\u001b[0m\n\u001b[1;32m     12\u001b[0m img \u001b[38;5;241m=\u001b[39m env\u001b[38;5;241m.\u001b[39mrender(\u001b[38;5;124m\"\u001b[39m\u001b[38;5;124mrgb_array\u001b[39m\u001b[38;5;124m\"\u001b[39m, width\u001b[38;5;241m=\u001b[39m\u001b[38;5;241m48\u001b[39m, height\u001b[38;5;241m=\u001b[39m\u001b[38;5;241m48\u001b[39m)\n\u001b[1;32m     13\u001b[0m px\u001b[38;5;241m.\u001b[39mimshow(img)\u001b[38;5;241m.\u001b[39mshow()\n\u001b[0;32m---> 14\u001b[0m \u001b[43mlux_functions\u001b[49m\u001b[38;5;241;43m.\u001b[39;49m\u001b[43minteract\u001b[49m\u001b[43m(\u001b[49m\u001b[43menv\u001b[49m\u001b[38;5;241;43m=\u001b[39;49m\u001b[43menv\u001b[49m\u001b[43m,\u001b[49m\u001b[43m \u001b[49m\u001b[43magents\u001b[49m\u001b[38;5;241;43m=\u001b[39;49m\u001b[43magents\u001b[49m\u001b[43m,\u001b[49m\u001b[43m \u001b[49m\u001b[43msteps\u001b[49m\u001b[38;5;241;43m=\u001b[39;49m\u001b[38;5;241;43m1000\u001b[39;49m\u001b[43m,\u001b[49m\u001b[43m \u001b[49m\u001b[43mvideo\u001b[49m\u001b[38;5;241;43m=\u001b[39;49m\u001b[38;5;28;43;01mTrue\u001b[39;49;00m\u001b[43m)\u001b[49m\n",
      "File \u001b[0;32m~/Documents/LuxAI-S2/lux_functions.py:57\u001b[0m, in \u001b[0;36minteract\u001b[0;34m(env, agents, steps, video)\u001b[0m\n\u001b[1;32m     55\u001b[0m \u001b[39mfor\u001b[39;00m player \u001b[39min\u001b[39;00m env\u001b[39m.\u001b[39magents:\n\u001b[1;32m     56\u001b[0m     o \u001b[39m=\u001b[39m obs[player]\n\u001b[0;32m---> 57\u001b[0m     a \u001b[39m=\u001b[39m agents[player]\u001b[39m.\u001b[39;49mact(step, o)\n\u001b[1;32m     58\u001b[0m     actions[player] \u001b[39m=\u001b[39m a\n\u001b[1;32m     59\u001b[0m step \u001b[39m+\u001b[39m\u001b[39m=\u001b[39m \u001b[39m1\u001b[39m\n",
      "Cell \u001b[0;32mIn[5], line 399\u001b[0m, in \u001b[0;36mArchimedes_Lever.act\u001b[0;34m(self, step, obs, remainingOverageTime)\u001b[0m\n\u001b[1;32m    397\u001b[0m power_for_dig \u001b[38;5;241m=\u001b[39m unit\u001b[38;5;241m.\u001b[39mpower \u001b[38;5;241m>\u001b[39m\u001b[38;5;241m=\u001b[39m unit\u001b[38;5;241m.\u001b[39mdig_cost(game_state)\n\u001b[1;32m    398\u001b[0m recharge_need_light \u001b[38;5;241m=\u001b[39m math\u001b[38;5;241m.\u001b[39mfloor(\u001b[38;5;241m150\u001b[39m \u001b[38;5;241m-\u001b[39m unit\u001b[38;5;241m.\u001b[39mpower)\n\u001b[0;32m--> 399\u001b[0m on_ore \u001b[38;5;241m=\u001b[39m \u001b[38;5;28;43mall\u001b[39;49m\u001b[43m(\u001b[49m\u001b[43munit\u001b[49m\u001b[38;5;241;43m.\u001b[39;49m\u001b[43mpos\u001b[49m\u001b[43m \u001b[49m\u001b[38;5;241;43m==\u001b[39;49m\u001b[43m \u001b[49m\u001b[43mclosest_ore_tile\u001b[49m\u001b[43m)\u001b[49m\n\u001b[1;32m    400\u001b[0m on_rubble \u001b[38;5;241m=\u001b[39m \u001b[38;5;28mall\u001b[39m(unit\u001b[38;5;241m.\u001b[39mpos \u001b[38;5;241m==\u001b[39m closest_rubble_tile) \n\u001b[1;32m    402\u001b[0m \u001b[38;5;66;03m# Print out bot info \u001b[39;00m\n",
      "\u001b[0;31mTypeError\u001b[0m: 'bool' object is not iterable"
     ]
    }
   ],
   "source": [
    "# imports from support files with class and functions\n",
    "import default_agent\n",
    "import lux_functions\n",
    "\n",
    "# recreate our agents and run\n",
    "player0 = env.agents[0]\n",
    "player1 = env.agents[1]\n",
    "agents = {\n",
    "    player0: Archimedes_Lever(env.agents[0], env.state.env_cfg), \n",
    "    player1: Archimedes_Lever(env.agents[1], env.state.env_cfg)#default_agent.Default_Agent(env.agents[1], env.state.env_cfg)\n",
    "}\n",
    "img = env.render(\"rgb_array\", width=48, height=48)\n",
    "px.imshow(img).show()\n",
    "lux_functions.interact(env=env, agents=agents, steps=1000, video=True)"
   ]
  },
  {
   "cell_type": "code",
   "execution_count": null,
   "metadata": {},
   "outputs": [],
   "source": [
    "#!luxai-s2 archimedes_main.py main.py -v 2 -s 101 -o replay.html"
   ]
  }
 ],
 "metadata": {
  "kernelspec": {
   "display_name": "Python 3.10.0 64-bit",
   "language": "python",
   "name": "python3"
  },
  "language_info": {
   "codemirror_mode": {
    "name": "ipython",
    "version": 3
   },
   "file_extension": ".py",
   "mimetype": "text/x-python",
   "name": "python",
   "nbconvert_exporter": "python",
   "pygments_lexer": "ipython3",
   "version": "3.10.0"
  },
  "orig_nbformat": 4,
  "vscode": {
   "interpreter": {
    "hash": "aee8b7b246df8f9039afb4144a1f6fd8d2ca17a180786b69acc140d282b71a49"
   }
  }
 },
 "nbformat": 4,
 "nbformat_minor": 2
}
