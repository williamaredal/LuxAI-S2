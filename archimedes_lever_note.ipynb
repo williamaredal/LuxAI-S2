{
 "cells": [
  {
   "cell_type": "code",
   "execution_count": null,
   "metadata": {},
   "outputs": [],
   "source": [
    "# In case of import requirements\n",
    "# verify version\n",
    "!python3 --version\n",
    "!pip install --upgrade luxai_s2\n",
    "!pip install importlib-metadata==4.13.0\n",
    "!pip install --upgrade moviepy # needed to render videos of episodes"
   ]
  },
  {
   "cell_type": "code",
   "execution_count": 28,
   "metadata": {},
   "outputs": [],
   "source": [
    "from luxai_s2.env import LuxAI_S2\n",
    "from lux.kit import obs_to_game_state, GameState, EnvConfig\n",
    "from lux.utils import my_turn_to_place_factory, direction_to \n",
    "import matplotlib.pyplot as plt\n",
    "import numpy as np\n",
    "import plotly.express as px\n",
    "import random\n",
    "import math\n",
    "import cv2"
   ]
  },
  {
   "cell_type": "code",
   "execution_count": null,
   "metadata": {},
   "outputs": [],
   "source": [
    "# TODO remove and reduce redunant lines and operations in agent code to reduce code required\n",
    "'''STRATEGY'''\n",
    "# TODO Remove enemy factory tile coordinates from closest rubble low list to avoid clearing out rubble for opponent\n",
    "# []\n",
    "# TODO Make bots with ore assignments fetch power from factory with \"pickup\", as power is not utilized to full extent\n",
    "# []\n",
    "# TODO Check if bidding 10 water and metal affects the number of factories that can be placed, if factories dont cost metal, bid 1 as default. This\n",
    "#      secures the first, best location more often. Combined with selection of 3rd best spot forces opponent to choose more bad spots with more rubble\n",
    "# []\n",
    "# TODO Evaluate weather to use 150-N turns to gather ore for multiplication of bots before water hoarding\n",
    "# []\n",
    "\n",
    "'''PLACEMENT LOCATIONS'''\n",
    "\n",
    "\n",
    "'''HEAVY BEHAVIOUR'''\n",
    "# TODO Add \"hostile_facotry_ajacent\" to heavy and light overwatch functions and checks to avoid random choice of trying to attack, when it should\n",
    "#      move home (always when next to hostile factory)\n",
    "# []\n",
    "\n",
    "'''LIGHT BEHAVIOUR'''\n",
    "\n",
    "\n",
    "'''MISC'''\n",
    "# TODO Change spawn selection from using coordinates to use Djikstra algorithm to calculate distances from each ice tile, which then returns the\n",
    "#      average of the heatmap instead of ajacent rubble tiles for that ice tile.\n",
    "#      This means retooling the spawn filtering section to evaluate the spawns by their \"distance score\".\n",
    "# []\n",
    "# TODO Introduce switch for light bots toggling between curren behaviour (after turn 200), and creation of a \"human chain\" on a ore tile, if \n",
    "#      there is one ore tile N distance away from the factory center tile (can find where center coords are defined).\n",
    "#      Here one light bot is assigned as miner, while rest follows, and charges during daytime, and transfers M power forwards to mining bot.\n",
    "#      The mining bot transfers ore towards factory tile, and supporting bots towards factory, if bot is on coordinate towards factory.\n",
    "#      If no bot can recieve, the light bot starts moving towards factory to drop off ore (it has ore greater than free cargo space)\n",
    "# []"
   ]
  },
  {
   "cell_type": "code",
   "execution_count": 38,
   "metadata": {},
   "outputs": [
    {
     "data": {
      "application/vnd.plotly.v1+json": {
       "config": {
        "plotlyServerURL": "https://plot.ly"
       },
       "data": [
        {
         "hovertemplate": "x: %{x}<br>y: %{y}<br>color: [%{z[0]}, %{z[1]}, %{z[2]}]<extra></extra>",
         "name": "0",
         "source": "data:image/png;base64,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",
         "type": "image",
         "xaxis": "x",
         "yaxis": "y"
        }
       ],
       "layout": {
        "margin": {
         "t": 60
        },
        "template": {
         "data": {
          "bar": [
           {
            "error_x": {
             "color": "#2a3f5f"
            },
            "error_y": {
             "color": "#2a3f5f"
            },
            "marker": {
             "line": {
              "color": "#E5ECF6",
              "width": 0.5
             },
             "pattern": {
              "fillmode": "overlay",
              "size": 10,
              "solidity": 0.2
             }
            },
            "type": "bar"
           }
          ],
          "barpolar": [
           {
            "marker": {
             "line": {
              "color": "#E5ECF6",
              "width": 0.5
             },
             "pattern": {
              "fillmode": "overlay",
              "size": 10,
              "solidity": 0.2
             }
            },
            "type": "barpolar"
           }
          ],
          "carpet": [
           {
            "aaxis": {
             "endlinecolor": "#2a3f5f",
             "gridcolor": "white",
             "linecolor": "white",
             "minorgridcolor": "white",
             "startlinecolor": "#2a3f5f"
            },
            "baxis": {
             "endlinecolor": "#2a3f5f",
             "gridcolor": "white",
             "linecolor": "white",
             "minorgridcolor": "white",
             "startlinecolor": "#2a3f5f"
            },
            "type": "carpet"
           }
          ],
          "choropleth": [
           {
            "colorbar": {
             "outlinewidth": 0,
             "ticks": ""
            },
            "type": "choropleth"
           }
          ],
          "contour": [
           {
            "colorbar": {
             "outlinewidth": 0,
             "ticks": ""
            },
            "colorscale": [
             [
              0,
              "#0d0887"
             ],
             [
              0.1111111111111111,
              "#46039f"
             ],
             [
              0.2222222222222222,
              "#7201a8"
             ],
             [
              0.3333333333333333,
              "#9c179e"
             ],
             [
              0.4444444444444444,
              "#bd3786"
             ],
             [
              0.5555555555555556,
              "#d8576b"
             ],
             [
              0.6666666666666666,
              "#ed7953"
             ],
             [
              0.7777777777777778,
              "#fb9f3a"
             ],
             [
              0.8888888888888888,
              "#fdca26"
             ],
             [
              1,
              "#f0f921"
             ]
            ],
            "type": "contour"
           }
          ],
          "contourcarpet": [
           {
            "colorbar": {
             "outlinewidth": 0,
             "ticks": ""
            },
            "type": "contourcarpet"
           }
          ],
          "heatmap": [
           {
            "colorbar": {
             "outlinewidth": 0,
             "ticks": ""
            },
            "colorscale": [
             [
              0,
              "#0d0887"
             ],
             [
              0.1111111111111111,
              "#46039f"
             ],
             [
              0.2222222222222222,
              "#7201a8"
             ],
             [
              0.3333333333333333,
              "#9c179e"
             ],
             [
              0.4444444444444444,
              "#bd3786"
             ],
             [
              0.5555555555555556,
              "#d8576b"
             ],
             [
              0.6666666666666666,
              "#ed7953"
             ],
             [
              0.7777777777777778,
              "#fb9f3a"
             ],
             [
              0.8888888888888888,
              "#fdca26"
             ],
             [
              1,
              "#f0f921"
             ]
            ],
            "type": "heatmap"
           }
          ],
          "heatmapgl": [
           {
            "colorbar": {
             "outlinewidth": 0,
             "ticks": ""
            },
            "colorscale": [
             [
              0,
              "#0d0887"
             ],
             [
              0.1111111111111111,
              "#46039f"
             ],
             [
              0.2222222222222222,
              "#7201a8"
             ],
             [
              0.3333333333333333,
              "#9c179e"
             ],
             [
              0.4444444444444444,
              "#bd3786"
             ],
             [
              0.5555555555555556,
              "#d8576b"
             ],
             [
              0.6666666666666666,
              "#ed7953"
             ],
             [
              0.7777777777777778,
              "#fb9f3a"
             ],
             [
              0.8888888888888888,
              "#fdca26"
             ],
             [
              1,
              "#f0f921"
             ]
            ],
            "type": "heatmapgl"
           }
          ],
          "histogram": [
           {
            "marker": {
             "pattern": {
              "fillmode": "overlay",
              "size": 10,
              "solidity": 0.2
             }
            },
            "type": "histogram"
           }
          ],
          "histogram2d": [
           {
            "colorbar": {
             "outlinewidth": 0,
             "ticks": ""
            },
            "colorscale": [
             [
              0,
              "#0d0887"
             ],
             [
              0.1111111111111111,
              "#46039f"
             ],
             [
              0.2222222222222222,
              "#7201a8"
             ],
             [
              0.3333333333333333,
              "#9c179e"
             ],
             [
              0.4444444444444444,
              "#bd3786"
             ],
             [
              0.5555555555555556,
              "#d8576b"
             ],
             [
              0.6666666666666666,
              "#ed7953"
             ],
             [
              0.7777777777777778,
              "#fb9f3a"
             ],
             [
              0.8888888888888888,
              "#fdca26"
             ],
             [
              1,
              "#f0f921"
             ]
            ],
            "type": "histogram2d"
           }
          ],
          "histogram2dcontour": [
           {
            "colorbar": {
             "outlinewidth": 0,
             "ticks": ""
            },
            "colorscale": [
             [
              0,
              "#0d0887"
             ],
             [
              0.1111111111111111,
              "#46039f"
             ],
             [
              0.2222222222222222,
              "#7201a8"
             ],
             [
              0.3333333333333333,
              "#9c179e"
             ],
             [
              0.4444444444444444,
              "#bd3786"
             ],
             [
              0.5555555555555556,
              "#d8576b"
             ],
             [
              0.6666666666666666,
              "#ed7953"
             ],
             [
              0.7777777777777778,
              "#fb9f3a"
             ],
             [
              0.8888888888888888,
              "#fdca26"
             ],
             [
              1,
              "#f0f921"
             ]
            ],
            "type": "histogram2dcontour"
           }
          ],
          "mesh3d": [
           {
            "colorbar": {
             "outlinewidth": 0,
             "ticks": ""
            },
            "type": "mesh3d"
           }
          ],
          "parcoords": [
           {
            "line": {
             "colorbar": {
              "outlinewidth": 0,
              "ticks": ""
             }
            },
            "type": "parcoords"
           }
          ],
          "pie": [
           {
            "automargin": true,
            "type": "pie"
           }
          ],
          "scatter": [
           {
            "fillpattern": {
             "fillmode": "overlay",
             "size": 10,
             "solidity": 0.2
            },
            "type": "scatter"
           }
          ],
          "scatter3d": [
           {
            "line": {
             "colorbar": {
              "outlinewidth": 0,
              "ticks": ""
             }
            },
            "marker": {
             "colorbar": {
              "outlinewidth": 0,
              "ticks": ""
             }
            },
            "type": "scatter3d"
           }
          ],
          "scattercarpet": [
           {
            "marker": {
             "colorbar": {
              "outlinewidth": 0,
              "ticks": ""
             }
            },
            "type": "scattercarpet"
           }
          ],
          "scattergeo": [
           {
            "marker": {
             "colorbar": {
              "outlinewidth": 0,
              "ticks": ""
             }
            },
            "type": "scattergeo"
           }
          ],
          "scattergl": [
           {
            "marker": {
             "colorbar": {
              "outlinewidth": 0,
              "ticks": ""
             }
            },
            "type": "scattergl"
           }
          ],
          "scattermapbox": [
           {
            "marker": {
             "colorbar": {
              "outlinewidth": 0,
              "ticks": ""
             }
            },
            "type": "scattermapbox"
           }
          ],
          "scatterpolar": [
           {
            "marker": {
             "colorbar": {
              "outlinewidth": 0,
              "ticks": ""
             }
            },
            "type": "scatterpolar"
           }
          ],
          "scatterpolargl": [
           {
            "marker": {
             "colorbar": {
              "outlinewidth": 0,
              "ticks": ""
             }
            },
            "type": "scatterpolargl"
           }
          ],
          "scatterternary": [
           {
            "marker": {
             "colorbar": {
              "outlinewidth": 0,
              "ticks": ""
             }
            },
            "type": "scatterternary"
           }
          ],
          "surface": [
           {
            "colorbar": {
             "outlinewidth": 0,
             "ticks": ""
            },
            "colorscale": [
             [
              0,
              "#0d0887"
             ],
             [
              0.1111111111111111,
              "#46039f"
             ],
             [
              0.2222222222222222,
              "#7201a8"
             ],
             [
              0.3333333333333333,
              "#9c179e"
             ],
             [
              0.4444444444444444,
              "#bd3786"
             ],
             [
              0.5555555555555556,
              "#d8576b"
             ],
             [
              0.6666666666666666,
              "#ed7953"
             ],
             [
              0.7777777777777778,
              "#fb9f3a"
             ],
             [
              0.8888888888888888,
              "#fdca26"
             ],
             [
              1,
              "#f0f921"
             ]
            ],
            "type": "surface"
           }
          ],
          "table": [
           {
            "cells": {
             "fill": {
              "color": "#EBF0F8"
             },
             "line": {
              "color": "white"
             }
            },
            "header": {
             "fill": {
              "color": "#C8D4E3"
             },
             "line": {
              "color": "white"
             }
            },
            "type": "table"
           }
          ]
         },
         "layout": {
          "annotationdefaults": {
           "arrowcolor": "#2a3f5f",
           "arrowhead": 0,
           "arrowwidth": 1
          },
          "autotypenumbers": "strict",
          "coloraxis": {
           "colorbar": {
            "outlinewidth": 0,
            "ticks": ""
           }
          },
          "colorscale": {
           "diverging": [
            [
             0,
             "#8e0152"
            ],
            [
             0.1,
             "#c51b7d"
            ],
            [
             0.2,
             "#de77ae"
            ],
            [
             0.3,
             "#f1b6da"
            ],
            [
             0.4,
             "#fde0ef"
            ],
            [
             0.5,
             "#f7f7f7"
            ],
            [
             0.6,
             "#e6f5d0"
            ],
            [
             0.7,
             "#b8e186"
            ],
            [
             0.8,
             "#7fbc41"
            ],
            [
             0.9,
             "#4d9221"
            ],
            [
             1,
             "#276419"
            ]
           ],
           "sequential": [
            [
             0,
             "#0d0887"
            ],
            [
             0.1111111111111111,
             "#46039f"
            ],
            [
             0.2222222222222222,
             "#7201a8"
            ],
            [
             0.3333333333333333,
             "#9c179e"
            ],
            [
             0.4444444444444444,
             "#bd3786"
            ],
            [
             0.5555555555555556,
             "#d8576b"
            ],
            [
             0.6666666666666666,
             "#ed7953"
            ],
            [
             0.7777777777777778,
             "#fb9f3a"
            ],
            [
             0.8888888888888888,
             "#fdca26"
            ],
            [
             1,
             "#f0f921"
            ]
           ],
           "sequentialminus": [
            [
             0,
             "#0d0887"
            ],
            [
             0.1111111111111111,
             "#46039f"
            ],
            [
             0.2222222222222222,
             "#7201a8"
            ],
            [
             0.3333333333333333,
             "#9c179e"
            ],
            [
             0.4444444444444444,
             "#bd3786"
            ],
            [
             0.5555555555555556,
             "#d8576b"
            ],
            [
             0.6666666666666666,
             "#ed7953"
            ],
            [
             0.7777777777777778,
             "#fb9f3a"
            ],
            [
             0.8888888888888888,
             "#fdca26"
            ],
            [
             1,
             "#f0f921"
            ]
           ]
          },
          "colorway": [
           "#636efa",
           "#EF553B",
           "#00cc96",
           "#ab63fa",
           "#FFA15A",
           "#19d3f3",
           "#FF6692",
           "#B6E880",
           "#FF97FF",
           "#FECB52"
          ],
          "font": {
           "color": "#2a3f5f"
          },
          "geo": {
           "bgcolor": "white",
           "lakecolor": "white",
           "landcolor": "#E5ECF6",
           "showlakes": true,
           "showland": true,
           "subunitcolor": "white"
          },
          "hoverlabel": {
           "align": "left"
          },
          "hovermode": "closest",
          "mapbox": {
           "style": "light"
          },
          "paper_bgcolor": "white",
          "plot_bgcolor": "#E5ECF6",
          "polar": {
           "angularaxis": {
            "gridcolor": "white",
            "linecolor": "white",
            "ticks": ""
           },
           "bgcolor": "#E5ECF6",
           "radialaxis": {
            "gridcolor": "white",
            "linecolor": "white",
            "ticks": ""
           }
          },
          "scene": {
           "xaxis": {
            "backgroundcolor": "#E5ECF6",
            "gridcolor": "white",
            "gridwidth": 2,
            "linecolor": "white",
            "showbackground": true,
            "ticks": "",
            "zerolinecolor": "white"
           },
           "yaxis": {
            "backgroundcolor": "#E5ECF6",
            "gridcolor": "white",
            "gridwidth": 2,
            "linecolor": "white",
            "showbackground": true,
            "ticks": "",
            "zerolinecolor": "white"
           },
           "zaxis": {
            "backgroundcolor": "#E5ECF6",
            "gridcolor": "white",
            "gridwidth": 2,
            "linecolor": "white",
            "showbackground": true,
            "ticks": "",
            "zerolinecolor": "white"
           }
          },
          "shapedefaults": {
           "line": {
            "color": "#2a3f5f"
           }
          },
          "ternary": {
           "aaxis": {
            "gridcolor": "white",
            "linecolor": "white",
            "ticks": ""
           },
           "baxis": {
            "gridcolor": "white",
            "linecolor": "white",
            "ticks": ""
           },
           "bgcolor": "#E5ECF6",
           "caxis": {
            "gridcolor": "white",
            "linecolor": "white",
            "ticks": ""
           }
          },
          "title": {
           "x": 0.05
          },
          "xaxis": {
           "automargin": true,
           "gridcolor": "white",
           "linecolor": "white",
           "ticks": "",
           "title": {
            "standoff": 15
           },
           "zerolinecolor": "white",
           "zerolinewidth": 2
          },
          "yaxis": {
           "automargin": true,
           "gridcolor": "white",
           "linecolor": "white",
           "ticks": "",
           "title": {
            "standoff": 15
           },
           "zerolinecolor": "white",
           "zerolinewidth": 2
          }
         }
        },
        "xaxis": {
         "anchor": "y",
         "domain": [
          0,
          1
         ]
        },
        "yaxis": {
         "anchor": "x",
         "domain": [
          0,
          1
         ]
        }
       }
      }
     },
     "metadata": {},
     "output_type": "display_data"
    }
   ],
   "source": [
    "env = LuxAI_S2() # create the environment object\n",
    "obs = env.reset(seed=361203580) # resets an environment with a seed\n",
    "\n",
    "# the observation is always composed of observations for both players.\n",
    "obs.keys(), obs[\"player_0\"].keys()\n",
    "\n",
    "# visualize the environment so far with rgb_array to get a quick look at the map\n",
    "# dark orange - high rubble, light orange - low rubble\n",
    "# blue = ice, yellow = ore\n",
    "img = env.render(\"rgb_array\", width=48, height=48)\n",
    "px.imshow(img).show()"
   ]
  },
  {
   "cell_type": "code",
   "execution_count": 39,
   "metadata": {},
   "outputs": [],
   "source": [
    "# TODO can be replaced with the interval method for searching in a square radius, perhaps not required to have else vision\n",
    "def rubble_tile_vision(x, y, rubble_map):\n",
    "    height = len(rubble_map) - 1\n",
    "    width = len(rubble_map[0]) - 1\n",
    "    vision_coords =  [\n",
    "\n",
    "        [x-1, y], [x, y-1], # left and top\n",
    "        [x+1, y], [x, y+1], # right and bottom\n",
    "        [x-1, y-1], [x+1, y-1], # diagonals\n",
    "        [x-1, y+1], [x+1, y+1], # diagonals\n",
    "        [x-2, y],   [x, y-2], # left and top \n",
    "        [x+2, y],   [x, y+2], # right and bottom \n",
    "        [x-2, y-1], [x-1, y-2], [x-2, y-2], # left and top diagonals \n",
    "        [x+2, y+1], [x+1, y+2], [x+2, y+2], # right and bottom diagonals \n",
    "        [x+2, y-1], [x+1, y-2], [x+2, y-2], # right and top diagonals \n",
    "        [x-2, y+1], [x-1, y+2], [x-2, y+2], # left and bottom diagonals \n",
    "\n",
    "        # feeler coords\n",
    "        [x-3, y],   [x, y-3], # left and top \n",
    "        [x+3, y],   [x, y+3], # right and bottom \n",
    "\n",
    "        [x, y-5],\n",
    "        [x-2, y-3], [x+2, y-3],\n",
    "        [x-5, y-2], [x-3, y-2], [x+3, y-2], [x+5, y-2],\n",
    "        [x+4, y-1], [x-4, y-1],\n",
    "        [x-6, y], [x+6, y],\n",
    "        [x+4, y+1], [x-4, y+1],\n",
    "        [x-5, y+2], [x-3, y+2], [x+3, y+2], [x+5, y+2],\n",
    "        [x-2, y+3], [x+2, y+3],\n",
    "        [x, y+5],\n",
    "\n",
    "    ]\n",
    "\n",
    "    return [(rubble_coord, rubble_map[rubble_coord[0]][rubble_coord[1]]) for rubble_coord in vision_coords \n",
    "        if rubble_coord[0] >= 0 and rubble_coord[0] <= width and\n",
    "           rubble_coord[1] >= 0 and rubble_coord[1] <= height\n",
    "    ]\n",
    "'''\n",
    "                  [ ]\n",
    "            [ ]   ^-5   [ ]\n",
    "    [ ]  [ ]      [ ]      [ ]   [ ]\n",
    "               [ ][ ][ ]   \n",
    "      [ ]   [ ][ ][ ][ ][ ]   [ ]\n",
    "[ ]      [ ][ ][ ] x [ ][ ][ ]      [ ]\n",
    "^-6   [ ]   [ ][ ][ ][ ][ ]   [ ]   ^+6\n",
    "               [ ][ ][ ]   \n",
    "    [ ]  [ ]      [ ]      [ ]   [ ]\n",
    "            [ ]         [ ]\n",
    "                  [ ]\n",
    "                  ^+5\n",
    "'''\n",
    "\n",
    "\n",
    "# TODO replace use of this function with the interval function\n",
    "def get_factory_tiles_from_center(x, y):\n",
    "    return np.array([\n",
    "        (x, y), # factory center\n",
    "        (x-1, y), (x, y-1), # left and top\n",
    "        (x+1, y), (x, y+1), # right and bottom\n",
    "        (x-1, y-1), (x+1, y-1), # diagonals\n",
    "        (x-1, y+1), (x+1, y+1), # diagonals\n",
    "    ]) \n",
    "'''\n",
    "[.][.][.]\n",
    "[.][.][.]\n",
    "[.][.][.]\n",
    "'''\n",
    "\n",
    "\n",
    "def get_factory_occupied_tiles(x, y):\n",
    "    return np.array([\n",
    "        (x, y), # factory center\n",
    "        (x-1, y), (x, y-1), # left and top\n",
    "        (x+1, y), (x, y+1), # right and bottom\n",
    "        (x-1, y-1), (x+1, y-1), # diagonals\n",
    "        (x-1, y+1), (x+1, y+1), # diagonals\n",
    "        (x-2, y), (x, y-2), # left and top \n",
    "        (x+2, y), (x, y+2), # right and bottom \n",
    "        (x-2, y-1), (x-1, y-2), (x-2, y-2), # left and top diagonals \n",
    "        (x+2, y+1), (x+1, y+2), (x+2, y+2), # right and bottom diagonals \n",
    "        (x+2, y-1), (x+1, y-2), (x+2, y-2), # right and top diagonals \n",
    "        (x-2, y+1), (x-1, y+2), (x-2, y+2), # left and bottom diagonals \n",
    "        (x-3, y), (x, y-3), (x+3, y), (x, y+3), # left and top\n",
    "        (x-3, y), (x, y-3), (x+3, y), (x, y+3), # right and bottom\n",
    "        (x-3, y-1), (x-1, y-3), (x-3, y-3), # left and top diagonals \n",
    "        (x+3, y+1), (x+1, y+3), (x+3, y+3), # right and bottom diagonals \n",
    "        (x+3, y-1), (x+1, y-3), (x+3, y-3), # left and top diagonals \n",
    "        (x-3, y+1), (x-1, y+3), (x-3, y+3), # right and bottom diagonals \n",
    "        (x-4, y), (x, y-4), (x+4, y), (x, y+4), # left and top\n",
    "        (x-5, y), (x, y-5), (x+5, y), (x, y+5), # right and bottom\n",
    "    ]) \n",
    "'''\n",
    "    [ ][ ][.][ ][ ]\n",
    "    [ ][ ][.][ ][ ]\n",
    "    [ ][.][.][.][ ]\n",
    " [.][.][.][X][.][.][.]\n",
    "    [ ][.][.][.][ ]\n",
    "    [ ][ ][.][ ][ ]\n",
    "    [ ][ ][.][ ][ ]\n",
    "'''\n",
    "\n",
    "\n",
    "def get_tiles_by_interval(x, y, interval_x, interval_y):\n",
    "    coordinates = np.array(\n",
    "        [(x + n, y + m) for n in range((-1 * interval_x), interval_x +1) for m in range((-1 * interval_y), interval_y +1) if (0 <= (x + n) <= 47) and (0 <= (y + m) <= 47)]\n",
    "    )\n",
    "    return coordinates\n",
    "'''\n",
    "    ^ interval y\n",
    "    [ ][ ][ ]\n",
    "    [ ][ ][ ]\n",
    "    [ ][ ][ ]\n",
    "    interval x ->\n",
    "'''\n",
    "\n",
    "\n",
    "# TODO use this so i can remove opponent factory tile neighbours from rubble removal\n",
    "def get_surrounding_tiles_by_interval(x, y, interval_x, interval_y):\n",
    "    coordinates = np.array(\n",
    "        [\n",
    "            (x + n, y + m) for n in range((-1 * interval_x), interval_x +1) for m in range((-1 * interval_y), interval_y +1) if\n",
    "            (0 <= (x + n) <= 47) and (n < -1 or n > 1) and\n",
    "            (0 <= (y + m) <= 47) and (m < -1 or m > 1)\n",
    "        ]\n",
    "    )\n",
    "    return coordinates \n",
    "'''\n",
    "X = not marked factory tiles\n",
    "    ^ interval y\n",
    "    [ ][ ][ ][ ][ ][ ][ ]\n",
    "    [ ][ ][ ][ ][ ][ ][ ]\n",
    "    [ ][ ][X][X][X][ ][ ]\n",
    "    [ ][ ][X][X][X][ ][ ]\n",
    "    [ ][ ][X][X][X][ ][ ]\n",
    "    [ ][ ][ ][ ][ ][ ][ ]\n",
    "    [ ][ ][ ][ ][ ][ ][ ]\n",
    "    interval x ->\n",
    "'''\n",
    "\n",
    "\n",
    "def get_bordering_coords(x, y):\n",
    "    return np.array([\n",
    "        (x, y), # center\n",
    "        (x-1, y), (x, y-1), # left and top\n",
    "        (x+1, y), (x, y+1), # right and bottom\n",
    "        (x-1, y-1), (x+1, y-1), # diagonals\n",
    "        (x-1, y+1), (x+1, y+1), # diagonals\n",
    "    ])\n",
    "\n",
    "\n",
    "# function used by Archimedes for locating resource border coordinates\n",
    "def neighbors(x, y):\n",
    "    return np.array([\n",
    "        # startes at layer 2 to give buffer, avoiding placing factory on resource\n",
    "        (x-2, y), (x, y-2), # left and top \n",
    "        (x+2, y), (x, y+2), # right and bottom \n",
    "\n",
    "        (x-2, y-1), (x-1, y-2), # (x-2, y-2), # left and top diagonals \n",
    "        (x+2, y+1), (x+1, y+2), # (x+2, y+2), # right and bottom diagonals \n",
    "\n",
    "        (x+2, y-1), (x+1, y-2), # (x+2, y-2), # right and top diagonals \n",
    "        (x-2, y+1), (x-1, y+2), # (x-2, y+2), # left and bottom diagonals \n",
    "    ])\n",
    "'''\n",
    "[ ][.][.][.][ ]\n",
    "[.][ ][ ][ ][.]\n",
    "[.][ ][X][ ][.]\n",
    "[.][ ][ ][ ][.]\n",
    "[ ][.][.][.][ ]\n",
    "'''\n",
    "\n",
    "\n",
    "def coord_from_direction(x, y, direction):\n",
    "    if direction == 0:\n",
    "        return (x, y)\n",
    "    elif direction == 1:\n",
    "        return (x, y-1)\n",
    "    elif direction == 2:\n",
    "        return (x+1, y)\n",
    "    elif direction == 3:\n",
    "        return (x, y+1)\n",
    "    elif direction == 4:\n",
    "        return (x-1, y)\n",
    "\n",
    "\n",
    "# function used by Archimedes to check if tile is occupied by other bots\n",
    "def check_tile_occupation(game_state, unit_x, unit_y, direction, booked_coords, player, opponent):\n",
    "    friendly_bots = game_state.units[player]\n",
    "    hostile_bots = game_state.units[opponent]\n",
    "\n",
    "    friendly_coords = {(unit.pos[0], unit.pos[1]): unit.unit_type for (unit_id, unit) in friendly_bots.items()}\n",
    "    hostile_coords = {(unit.pos[0], unit.pos[1]): unit.unit_type for (unit_id, unit) in hostile_bots.items()}\n",
    "\n",
    "    # a[1] = direction (1 = up, 2 = right, 3 = down, 4 = left)\n",
    "    # move_deltas = np.array([0, -1], [1, 0], [0, 1], [-1, 0]])\n",
    "    bot_up = (unit_x, unit_y - 1)\n",
    "    bot_right = (unit_x + 1, unit_y)\n",
    "    bot_down = (unit_x, unit_y + 1)\n",
    "    bot_left = (unit_x - 1, unit_y)\n",
    "\n",
    "\n",
    "    # checks if no friendly is on direction tile, if none, direction remains, else set to 0\n",
    "    up_friendly = (bot_up not in friendly_coords and bot_up not in booked_coords) * 1\n",
    "    right_friendly = (bot_right not in friendly_coords and bot_right not in booked_coords) * 2\n",
    "    down_friendly = (bot_down not in friendly_coords and bot_down not in booked_coords) * 3\n",
    "    left_friendly = (bot_left not in friendly_coords and bot_left not in booked_coords) * 4\n",
    "\n",
    "    # checks if hostile bot is on direction tile, if there is one of type 'LIGHT', direction remains, else set to 0\n",
    "    up_hostile = True if (bot_up not in hostile_coords) or (bot_up in hostile_coords and hostile_coords[bot_up] == 'LIGHT' ) else False\n",
    "    right_hostile = True if (bot_right not in hostile_coords) or (bot_right in hostile_coords and hostile_coords[bot_right] == 'LIGHT' ) else False\n",
    "    down_hostile = True if (bot_down not in hostile_coords) or (bot_down in hostile_coords and hostile_coords[bot_down] == 'LIGHT' ) else False\n",
    "    left_hostile = True if (bot_left not in hostile_coords) or (bot_left in hostile_coords and hostile_coords[bot_left] == 'LIGHT' ) else False\n",
    "\n",
    "    # sets non occupied tile directions\n",
    "    up_free = up_friendly * up_hostile\n",
    "    right_free = right_friendly * right_hostile\n",
    "    down_free = down_friendly * down_hostile\n",
    "    left_free = left_friendly * left_hostile\n",
    "\n",
    "\n",
    "    # finds possible directions not occupied by friendly bots and hostile bots\n",
    "    directions = [up_free, right_free, down_free, left_free]\n",
    "    if direction in directions:\n",
    "        return direction\n",
    "    \n",
    "    elif sum(directions) > 0:\n",
    "        alt_directions = [d for d in directions if d > 0]\n",
    "        return random.choice(alt_directions)\n",
    "    '''\n",
    "      []1\n",
    "    []2[][]4\n",
    "      []3\n",
    "    ''' \n",
    "\n",
    "    # if all direction tiles occupied with friendly bots, recharge recommended\n",
    "    return 0\n",
    "\n",
    "\n",
    "def heavy_overwatch(unit, unit_x, unit_y, on_factory, closest_factory_tile, game_state, opponent):\n",
    "    # gets hostile bot coords\n",
    "    hostile_bots = game_state.units[opponent]\n",
    "    hostile_coords_heavy = [(unit.pos[0], unit.pos[1]) for (unit_id, unit) in hostile_bots.items() if unit.unit_type == 'HEAVY']\n",
    "\n",
    "    # coords relative to bot position\n",
    "    bot_up = (unit_x, unit_y - 1)\n",
    "    bot_right = (unit_x + 1, unit_y)\n",
    "    bot_down = (unit_x, unit_y + 1)\n",
    "    bot_left = (unit_x - 1, unit_y)\n",
    "\n",
    "    # checks if hostile bot is on directly neighbouring tiles, and is of type HEAVY\n",
    "    up_hostile = True if (bot_up in hostile_coords_heavy) else False\n",
    "    right_hostile = True if (bot_right in hostile_coords_heavy) else False\n",
    "    down_hostile = True if (bot_down in hostile_coords_heavy) else False\n",
    "    left_hostile = True if (bot_left in hostile_coords_heavy) else False\n",
    "    hostile_on_flank = (up_hostile or right_hostile or down_hostile or left_hostile)\n",
    "\n",
    "    # check for heavy hostiles on opposing tiles, if on factory tile move on hostile tile, else move to closest factory tile \n",
    "    if on_factory and hostile_on_flank:\n",
    "        up_target = up_hostile * 1\n",
    "        right_target = right_hostile * 2\n",
    "        down_target = down_hostile * 3\n",
    "        left_target = left_hostile * 4\n",
    "        directions = [up_target, right_target, down_target, left_target]\n",
    "        target_dir = [target for target in directions if target != 0]\n",
    "\n",
    "        return random.choice(target_dir)\n",
    "    \n",
    "    # attack if energy is greater than 240, but introduced random choice to disengage and move home\n",
    "    elif not on_factory and hostile_on_flank:\n",
    "        if unit.power > 240:\n",
    "            up_target = up_hostile * 1\n",
    "            right_target = right_hostile * 2\n",
    "            down_target = down_hostile * 3\n",
    "            left_target = left_hostile * 4\n",
    "            directions = [up_target, right_target, down_target, left_target, direction_to(np.array([unit_x, unit_y]), target=closest_factory_tile)]\n",
    "            target_dir = [target for target in directions if target != 0]\n",
    "            return random.choice(target_dir)\n",
    "        \n",
    "        else:\n",
    "            return direction_to(src=np.array([unit_x, unit_y]), target=closest_factory_tile)\n",
    "    \n",
    "    else:\n",
    "        return False\n",
    "\n",
    "\n",
    "def light_overwatch(unit, unit_x, unit_y, game_state, opponent):\n",
    "    # gets hostile bot coords\n",
    "    hostile_bots = game_state.units[opponent]\n",
    "    hostile_coords_heavy = [(unit.pos[0], unit.pos[1]) for (unit_id, unit) in hostile_bots.items() if unit.unit_type == 'HEAVY']\n",
    "    hostile_coords_light = [(unit.pos[0], unit.pos[1]) for (unit_id, unit) in hostile_bots.items() if unit.unit_type == 'LIGHT']\n",
    "\n",
    "    # coords relative to bot position\n",
    "    bot_up = (unit_x, unit_y - 1)\n",
    "    bot_right = (unit_x + 1, unit_y)\n",
    "    bot_down = (unit_x, unit_y + 1)\n",
    "    bot_left = (unit_x - 1, unit_y)\n",
    "\n",
    "    # checks if light hostile bot is on directly neighbouring tiles\n",
    "    up_hostile_light = True if (bot_up in hostile_coords_light) else False\n",
    "    right_hostile_light = True if (bot_right in hostile_coords_light) else False\n",
    "    down_hostile_light = True if (bot_down in hostile_coords_light) else False\n",
    "    left_hostile_light = True if (bot_left in hostile_coords_light) else False\n",
    "    light_hostile_on_flank = (up_hostile_light or right_hostile_light or down_hostile_light or left_hostile_light)\n",
    "\n",
    "    # checks if heavy hostile bot is on directly neighbouring tiles\n",
    "    up_hostile_heavy = True if (bot_up in hostile_coords_heavy) else False\n",
    "    right_hostile_heavy = True if (bot_right in hostile_coords_heavy) else False\n",
    "    down_hostile_heavy = True if (bot_down in hostile_coords_heavy) else False\n",
    "    left_hostile_heavy = True if (bot_left in hostile_coords_heavy) else False\n",
    "    heavy_hostile_on_flank = (up_hostile_heavy or right_hostile_heavy or down_hostile_heavy or left_hostile_heavy)\n",
    "\n",
    "\n",
    "    # if only heavy hostile on flank, returns direction that is away from heavy hostile\n",
    "    if heavy_hostile_on_flank and not light_hostile_on_flank:\n",
    "        if up_hostile_heavy:\n",
    "            return 3\n",
    "        elif right_hostile_heavy:\n",
    "            return 4\n",
    "        elif down_hostile_heavy:\n",
    "            return 1\n",
    "        elif left_hostile_heavy:\n",
    "            return 2\n",
    "    \n",
    "    # if light hostile on flank, attack\n",
    "    elif light_hostile_on_flank:\n",
    "        up_target = up_hostile_light * 1\n",
    "        right_target = right_hostile_light * 2\n",
    "        down_target = down_hostile_light * 3\n",
    "        left_target = left_hostile_light * 4\n",
    "        directions = [up_target, right_target, down_target, left_target]\n",
    "        target_dir = [target for target in directions if target != 0]\n",
    "        return random.choice(target_dir)\n",
    "    \n",
    "    else:\n",
    "        return False\n",
    "\n",
    "   \n",
    "\n",
    "class Archimedes_Lever():\n",
    "    def __init__(self, player: str, env_cfg: EnvConfig) -> None:\n",
    "        self.player = player\n",
    "        self.opp_player = \"player_1\" if self.player == \"player_0\" else \"player_0\"\n",
    "        self.env_cfg: EnvConfig = env_cfg\n",
    "\n",
    "    # Setup of early game\n",
    "    def early_setup(self, step: int, obs, remainingOverageTime: int = 60):\n",
    "        if step == 0:\n",
    "            # bid 0 to not waste resources bidding and declare as the default faction\n",
    "            # you can bid -n to prefer going second or n to prefer going first in placement\n",
    "            return dict(faction=\"AlphaStrike\", bid=0)\n",
    "        else:\n",
    "            game_state = obs_to_game_state(step, self.env_cfg, obs)\n",
    "            my_turn_to_evaluate_spawns = my_turn_to_place_factory(game_state.teams[self.player].place_first, step)\n",
    "\n",
    "            ### Using numpy arrays, maps out desirable spawn locations\n",
    "            # only processes map on my placement turns\n",
    "            if my_turn_to_evaluate_spawns:\n",
    "                # gets border indexes of ore coordinates and ice coordinates\n",
    "                indOre = np.transpose(np.where(game_state.board.ore > 0))\n",
    "                indIce = np.transpose(np.where(game_state.board.ice > 0))\n",
    "                indFactories = np.transpose(np.where(game_state.board.factory_occupancy_map >= 0))\n",
    "\n",
    "                # finds possible spawns around resources\n",
    "                array_spawns = np.unique(np.concatenate(\n",
    "                    [neighbors(*ind) for ind in indIce],\n",
    "                    #[neighbors(*ind) for ind in iceSpawns],\n",
    "                    ), axis=0)\n",
    "\n",
    "                # finds tiles that are occupied or invalid spawn coords\n",
    "                array_occupied_coords = np.unique(np.concatenate([get_factory_occupied_tiles(*i) for i in indFactories]), axis=0) if len(indFactories) > 0 else []\n",
    "                array_invalid_coords = np.unique(np.concatenate(\n",
    "                    (np.concatenate([get_bordering_coords(*ind) for ind in indOre], axis=0),\n",
    "                    np.concatenate([get_bordering_coords(*ind) for ind in indIce], axis=0))\n",
    "                ), axis=0)\n",
    "\n",
    "\n",
    "                # filters spawn coords for outside map coords (and those doesn't include spawns on map border), and those overlapping ivalid or occupied tiles\n",
    "                x_search_radius = 4\n",
    "                y_search_radius = 4\n",
    "                array_inside_map_spawns = [\n",
    "                    (np.array(\n",
    "                        [spawn_coord[0], spawn_coord[1]]), # first element in tuple is np array coordinate\n",
    "                        np.average(                        # second elment in tuple is average rubble value from ajacent coords\n",
    "                            [game_state.board.rubble[c[0]][c[1]] for c in get_surrounding_tiles_by_interval(x=spawn_coord[0], y=spawn_coord[1], interval_x=x_search_radius, interval_y=y_search_radius)]\n",
    "                        )\n",
    "                    ) for spawn_coord in array_spawns if (1 <= spawn_coord[0] <= 46) and (1 <= spawn_coord[1] <= 46)\n",
    "                ]\n",
    "                array_valid_spawns = [coord for coord in array_inside_map_spawns if \n",
    "                    all(all(coord[0] == inv_coord) == False for inv_coord in array_invalid_coords) and \n",
    "                    all(all(coord[0] == occ_coord) == False for occ_coord in array_occupied_coords)\n",
    "                ]\n",
    "\n",
    "                '''\n",
    "                # TODO mirror filtering here\n",
    "                desirable_coordinates_filtered = np.copy(game_state.board.valid_spawns_mask)\n",
    "                desirable_coordinates_filtered[desirable_coordinates_filtered == 1] = 0\n",
    "                for coord in array_valid_spawns:\n",
    "                    desirable_coordinates_filtered[coord[0]][coord[1]] == 1\n",
    "                # visualizes the map and AI vision\n",
    "                img = env.render(\"rgb_array\", width=48, height=48)\n",
    "                #px.imshow(game_state.board.rubble.T).show()\n",
    "                px.imshow(img).show()\n",
    "                px.imshow(desirable_coordinates_filtered.T).show()\n",
    "                '''\n",
    "\n",
    "                ### Factory placement period\n",
    "                # how much water and metal you have in your starting pool to give to new factories\n",
    "                water_left = game_state.teams[self.player].water\n",
    "                metal_left = game_state.teams[self.player].metal\n",
    "                \n",
    "                # how many factories you have left to place, and if its my turn to place\n",
    "                factories_to_place = game_state.teams[self.player].factories_to_place\n",
    "                my_turn_to_place = my_turn_to_place_factory(game_state.teams[self.player].place_first, step)\n",
    "\n",
    "                if factories_to_place > 0 and my_turn_to_place and len(array_valid_spawns) > 0:\n",
    "                    array_sorted_spawns = sorted(array_valid_spawns, key=lambda coord: coord[1])\n",
    "                    #print(\"spawn choices\", len(array_sorted_spawns))\n",
    "                    #print(array_sorted_spawns[0][0])\n",
    "                    spawn_loc = array_sorted_spawns[0][0]\n",
    "\n",
    "                    return dict(spawn=spawn_loc, metal=150, water=150)\n",
    "\n",
    "                else:\n",
    "                    # returns empty dictionary if there are no  valid spawn points to choose from\n",
    "                    return dict()\n",
    "\n",
    "            else:\n",
    "                # returns empty dictionary if no decisions were reached\n",
    "                return dict()\n",
    "\n",
    "\n",
    "    \n",
    "    # Setup of logic in the act phase\n",
    "    def act(self, step: int, obs, remainingOverageTime: int = 60):\n",
    "        # game state and other variables\n",
    "        actions = dict()\n",
    "        game_state: GameState = obs_to_game_state(step, self.env_cfg, obs)\n",
    "        game_state.teams[self.player].place_first\n",
    "\n",
    "\n",
    "        ### Factory decision making\n",
    "        factories = game_state.factories[self.player]\n",
    "        factory_tiles, factory_units, factory_centers = [], [], []\n",
    "        for unit_id, factory in factories.items():\n",
    "            center = factory.pos\n",
    "            tiles = get_factory_tiles_from_center(x=center[0], y=center[1])\n",
    "            factory_centers += [center]\n",
    "            for tile in tiles:\n",
    "                factory_tiles += [tile]\n",
    "            factory_units += [factory]\n",
    "        factory_tiles = np.array(factory_tiles)\n",
    "\n",
    "        hostile_factory_tiles = []\n",
    "        for h_unit_id, h_factory in game_state.factories[self.opp_player].items():\n",
    "            center = h_factory.pos\n",
    "            tiles = get_factory_tiles_from_center(x=center[0], y=center[1])\n",
    "            for tile in tiles:\n",
    "                hostile_factory_tiles += [tile]\n",
    "        hostile_factory_tiles = np.array(hostile_factory_tiles)\n",
    "\n",
    "        # Creation of bots\n",
    "        heavy_bot_cost = self.env_cfg.ROBOTS[\"HEAVY\"]\n",
    "        light_bot_cost = self.env_cfg.ROBOTS[\"LIGHT\"]\n",
    "\n",
    "        # heavy bots\n",
    "        for unit_id, factory in factories.items():\n",
    "            if factory.power >= heavy_bot_cost.POWER_COST and factory.cargo.metal >= heavy_bot_cost.METAL_COST:\n",
    "                actions[unit_id] = factory.build_heavy()\n",
    "        \n",
    "        # light bots\n",
    "        if game_state.real_env_steps >= 1:\n",
    "            for unit_id, factory in factories.items():\n",
    "                if factory.power >= light_bot_cost.POWER_COST and factory.cargo.metal >= light_bot_cost.METAL_COST:\n",
    "                    actions[unit_id] = factory.build_light()\n",
    "\n",
    "\n",
    "        # Watering lichen if at right turn\n",
    "        growth_turn = 990 - 250 # calculations suggenst 77 turns prior\n",
    "        turns_left = 988 - game_state.real_env_steps\n",
    "        grow = game_state.real_env_steps >= growth_turn\n",
    "        for factory_id, factory in factories.items():\n",
    "            water_cost_reactor = turns_left\n",
    "            water_per_turn = 3.2\n",
    "            water_formula = (factory.cargo.water - water_cost_reactor + (water_per_turn * turns_left)) > (factory.water_cost(game_state) * turns_left)\n",
    "\n",
    "            if factory_id == 'factory_0' or factory_id == 'factory_1':\n",
    "                water_gathered = factory.cargo.water - 150 + game_state.real_env_steps\n",
    "                factory_lichen = 0\n",
    "                lichen_strain_tiles = np.argwhere(game_state.board.lichen_strains == factory.strain_id)\n",
    "                for tile in lichen_strain_tiles:\n",
    "                    factory_lichen += game_state.board.lichen[tile[0]][tile[1]]\n",
    "\n",
    "                print(str(factory.power) + \",\" +  str(water_gathered) + ',' + str(factory.cargo.water) + \",\" + str(factory.water_cost(game_state)) + ',' + str(factory_lichen))\n",
    "\n",
    "            if(factory.can_water(game_state) and factory.power < 3000 and factory.cargo.water > 150):\n",
    "                actions[factory_id] = factory.water()\n",
    "            #if (game_state.real_env_steps >= growth_turn and water_formula): # or (factory.can_water(game_state) and factory.power < 1000 and factory.cargo.water > 50):\n",
    "            #    actions[factory_id] = factory.water()\n",
    "\n",
    "        ### Finds all ice and ore tiles\n",
    "        ice_map = game_state.board.ice \n",
    "        ore_map = game_state.board.ore \n",
    "        rubble_map = game_state.board.rubble\n",
    "        ice_tile_locations = np.argwhere(ice_map == 1) # numpy magic to get the position of every ice tile\n",
    "        ore_tile_locations = np.argwhere(ore_map == 1) # numpy magic to get the position of every ore tile\n",
    "        rubble_tile_locations = np.argwhere(rubble_map > 0) # numpy magic to get the position of every rubble tile\n",
    "        rubble_tile_locations_low_rubble = np.argwhere(rubble_map <= 20)\n",
    "        units = game_state.units[self.player]\n",
    "\n",
    "        ### Specifies assignments for heavy and light bots\n",
    "        light_ore_miners = 0\n",
    "        mine_assignments = 0\n",
    "        rubble_assignments = 0\n",
    "\n",
    "\n",
    "        # booked tiles for avoiding \n",
    "        move_bookings = []\n",
    "\n",
    "        for unit_id, unit in units.items():\n",
    "            isHeavy = unit.unit_type == 'HEAVY'\n",
    "            isLight = unit.unit_type == 'LIGHT'\n",
    "\n",
    "            # info about closest map tiles\n",
    "            closest_factory_tile = sorted(factory_tiles, key=lambda p: (p[0] - unit.pos[0])**2 + (p[1] - unit.pos[1])**2 )[0]\n",
    "            closest_hostile_factory_tile = sorted(hostile_factory_tiles, key=lambda p: (p[0] - unit.pos[0])**2 + (p[1] - unit.pos[1])**2)[0]\n",
    "            closest_ice_tile = sorted(ice_tile_locations, key=lambda p: (p[0] - unit.pos[0])**2 + (p[1] - unit.pos[1])**2 )[0]\n",
    "            \n",
    "            cargo_limit_ice = 960\n",
    "            on_factory = all(unit.pos == closest_factory_tile)\n",
    "            ajacent_factory = 1 >= abs((unit.pos[0] - closest_factory_tile[0])**2 + (unit.pos[1] - closest_factory_tile[1])**2)\n",
    "            ajacent_hostile_factory = 1 >= abs((unit.pos[0] - closest_hostile_factory_tile[0])**2 + (unit.pos[1] - closest_hostile_factory_tile[1])**2)\n",
    "\n",
    "\n",
    "            ### Heavy bot logic\n",
    "            if isHeavy:\n",
    "                below_power_threshold_heavy = unit.power <= 100\n",
    "                below_power_move_heavy = unit.power <= 50\n",
    "                free_cargo_ice = unit.cargo.ice < cargo_limit_ice\n",
    "                recharge_need_heavy = math.floor(1000 - unit.power)\n",
    "                on_ice = all(unit.pos == closest_ice_tile)\n",
    "                \n",
    "                # has hostile HEAVY on flank, moves to attack, or to factory tile if not already on one\n",
    "                overwatch_check = heavy_overwatch(\n",
    "                    unit=unit,\n",
    "                    unit_x=unit.pos[0],\n",
    "                    unit_y=unit.pos[1],\n",
    "                    on_factory=on_factory,\n",
    "                    closest_factory_tile=closest_factory_tile,\n",
    "                    game_state=game_state,\n",
    "                    opponent=self.opp_player\n",
    "                )\n",
    "                if overwatch_check != False:\n",
    "                    move_bookings.append(overwatch_check)\n",
    "                    actions[unit_id] = [unit.move(overwatch_check, repeat=0)]\n",
    "                    continue\n",
    "\n",
    "                # on ice, but not over cargo capacity limit. Dig ice\n",
    "                elif on_ice and free_cargo_ice and not below_power_threshold_heavy:\n",
    "                    actions[unit_id] = [unit.dig(repeat=0)]\n",
    "                    #print(unit_id, \"digging\")\n",
    "                \n",
    "                # not on ice, not over cargo capacity limit. Move to ice\n",
    "                elif not on_ice and free_cargo_ice and not below_power_threshold_heavy:\n",
    "                    direction = direction_to(unit.pos, closest_ice_tile)\n",
    "                    move_bookings.append(coord_from_direction(x=unit.pos[0], y=unit.pos[1], direction=direction))\n",
    "                    actions[unit_id] = [unit.move(direction, repeat=0)]\n",
    "                    #print(unit_id, \"move dig\")\n",
    "                \n",
    "                # on factory, below power threshold. Pickup power\n",
    "                elif on_factory and below_power_threshold_heavy:\n",
    "                    direction = direction_to(unit.pos, closest_factory_tile)\n",
    "                    actions[unit_id] = [unit.pickup(4, recharge_need_heavy, repeat=0)]\n",
    "                    #print(unit_id, \"pickup power\")\n",
    "                \n",
    "                # not on factory, below power threshold. Move to recharge\n",
    "                elif not on_factory and (below_power_threshold_heavy and not below_power_move_heavy):\n",
    "                    direction = direction_to(unit.pos, closest_factory_tile)\n",
    "                    move_bookings.append(coord_from_direction(x=unit.pos[0], y=unit.pos[1], direction=direction))\n",
    "                    actions[unit_id] = [unit.move(direction, repeat=0)]\n",
    "                    #print(unit_id, \"move recharge\")\n",
    "\n",
    "                # ajacent to factory, over cargo limit. Transfer ice\n",
    "                elif ajacent_factory and not free_cargo_ice and not below_power_threshold_heavy:\n",
    "                    direction = direction_to(unit.pos, closest_factory_tile)\n",
    "                    actions[unit_id] = [unit.transfer(direction, 0, unit.cargo.ice, repeat=0)]\n",
    "                    #print(unit_id, \"transfer\")\n",
    "\n",
    "                # not ajacent to factory. Move to transfer\n",
    "                elif not ajacent_factory and not free_cargo_ice and not below_power_threshold_heavy:\n",
    "                    direction = direction_to(unit.pos, closest_factory_tile)\n",
    "                    move_bookings.append(coord_from_direction(x=unit.pos[0], y=unit.pos[1], direction=direction))\n",
    "                    actions[unit_id] = [unit.move(direction, repeat=0)]\n",
    "                    #print(unit_id, \"move transfer\")\n",
    "                \n",
    "                # not on factory, below critical power. Do nothing (recharge)\n",
    "                elif not on_factory and (below_power_threshold_heavy and below_power_move_heavy):\n",
    "                    #print(unit_id, \"doing nothing (recharging)\")\n",
    "                    continue\n",
    "\n",
    "\n",
    "            ### Light bot logic\n",
    "            if isLight:\n",
    "                # sorts low rubble tiles by proximity to closest factory tile to unit\n",
    "                sorted_rubble_tile_vision = sorted(filter(lambda x: (game_state.board.rubble[x[0]][x[1]] != 0) and (game_state.board.ice[x[0]][x[1]] != 1) and (game_state.board.ore[x[0]][x[1]] != 1), rubble_tile_locations_low_rubble), key=lambda coord: (coord[0] - closest_factory_tile[0])**2 + (coord[1] - closest_factory_tile[1])**2)\n",
    "                lowest_rubble__tile_visible = sorted_rubble_tile_vision[0]\n",
    "\n",
    "                closest_ore_tiles = sorted(ore_tile_locations, key=lambda p: (p[0] - unit.pos[0])**2 + (p[1] - unit.pos[1])**2 )\n",
    "                closest_rubble_tiles = sorted(rubble_tile_locations, key=lambda p: (p[0] - unit.pos[0])**2 + (p[1] - unit.pos[1])**2 )\n",
    "                closest_ore_tile = closest_ore_tiles[0]\n",
    "                closest_rubble_tile = closest_rubble_tiles[0]\n",
    "                \n",
    "                # decides if the bot should be assigned an ore location or find closest rubble\n",
    "                on_ore_assignment = mine_assignments < light_ore_miners\n",
    "                if on_ore_assignment and mine_assignments < len(closest_ore_tiles):\n",
    "                    closest_ore_tile = closest_ore_tiles[mine_assignments]\n",
    "                    mine_assignments += 1\n",
    "                if not on_ore_assignment and rubble_assignments < len(closest_rubble_tiles):\n",
    "                    rubble_assignments += 1\n",
    "\n",
    "                charge_state = game_state.is_day() and unit.power < 150 and not on_factory\n",
    "                below_power_threshold_light = unit.power <= 6\n",
    "                on_ore = all(unit.pos == closest_ore_tile)\n",
    "                on_rubble = all(unit.pos == closest_rubble_tile)\n",
    "                free_cargo_ore = unit.cargo.ore < 50\n",
    "\n",
    "                ### performs overwatch check to see if HEAVY bots on flanks\n",
    "                overwatch_check = light_overwatch(unit=unit, unit_x=unit.pos[0], unit_y=unit.pos[1], game_state=game_state, opponent=self.opp_player)\n",
    "                if overwatch_check != False:\n",
    "                    newDirection = check_tile_occupation(\n",
    "                        game_state=game_state,\n",
    "                        unit_x=unit.pos[0],\n",
    "                        unit_y=unit.pos[1],\n",
    "                        direction=overwatch_check,\n",
    "                        booked_coords=move_bookings,\n",
    "                        player=self.player,\n",
    "                        opponent=self.opp_player\n",
    "                    )\n",
    "                    move_bookings.append(coord_from_direction(x=unit.pos[0], y=unit.pos[1], direction=newDirection))\n",
    "                    actions[unit_id] = [unit.move(newDirection, repeat=0)]\n",
    "                    continue\n",
    "\n",
    "                # on ore, under cargo limit, not below power threshold, not charge state, not charge state. Dig ore\n",
    "                if on_ore and free_cargo_ore and not below_power_threshold_light and not charge_state:\n",
    "                    actions[unit_id] = [unit.dig(repeat=0)]\n",
    "                    #print(unit_id, \"dig ore\")\n",
    "\n",
    "                # on rubble, under cargo limit, not below power threshold, not charge state. Dig rubble\n",
    "                elif on_rubble and free_cargo_ore and not below_power_threshold_light and not charge_state:\n",
    "                    actions[unit_id] = [unit.dig(repeat=0)]\n",
    "                    #print(unit_id, \"dig rubble\")\n",
    "\n",
    "                # on ore assignment, not on ore, not on rubble, under cargo limit, not below power threshold, not charge state. Move to ore\n",
    "                elif on_ore_assignment and not on_ore and not on_rubble and free_cargo_ore and not below_power_threshold_light and not charge_state:\n",
    "                    direction = direction_to(unit.pos, closest_ore_tile)\n",
    "                    newDirection = check_tile_occupation(game_state=game_state,\n",
    "                        unit_x=unit.pos[0],\n",
    "                        unit_y=unit.pos[1],\n",
    "                        direction=direction,\n",
    "                        booked_coords=move_bookings,\n",
    "                        player=self.player,\n",
    "                        opponent=self.opp_player\n",
    "                    )\n",
    "                \n",
    "                    if newDirection == 0:\n",
    "                        continue\n",
    "                        #print(unit_id, \"recharge instead of moving\")\n",
    "                    else:\n",
    "                        move_bookings.append(coord_from_direction(x=unit.pos[0], y=unit.pos[1], direction=newDirection))\n",
    "                        actions[unit_id] = [unit.move(newDirection, repeat=0)]\n",
    "                        #print(unit_id, \"move to ore\")\n",
    "                    \n",
    "                # not on ore assignment, not on ore, not on rubble, under cargo limit, not below power threshold, not charge state. Move to rubble\n",
    "                elif not on_ore_assignment and not on_rubble and free_cargo_ore and not below_power_threshold_light and not charge_state:\n",
    "                    direction = direction_to(unit.pos, lowest_rubble__tile_visible)\n",
    "                    newDirection = check_tile_occupation(\n",
    "                        game_state=game_state,\n",
    "                        unit_x=unit.pos[0],\n",
    "                        unit_y=unit.pos[1],\n",
    "                        direction=direction,\n",
    "                        booked_coords=move_bookings,\n",
    "                        player=self.player,\n",
    "                        opponent=self.opp_player\n",
    "                    )\n",
    "\n",
    "                    if newDirection == 0:\n",
    "                        continue\n",
    "                        #print(unit_id, \"recharge instead of moving\")\n",
    "                    else:\n",
    "                        move_bookings.append(coord_from_direction(x=unit.pos[0], y=unit.pos[1], direction=newDirection))\n",
    "                        actions[unit_id] = [unit.move(newDirection, repeat=0)]\n",
    "                        #print(unit_id, \"move to rubble\")\n",
    "\n",
    "                # ajacent to factory, at/over cargo limit, not below power threshold, not charge state. Transfer ore\n",
    "                elif ajacent_factory and not free_cargo_ore and not below_power_threshold_light and not charge_state:\n",
    "                    direction = direction_to(unit.pos, closest_factory_tile)\n",
    "                    actions[unit_id] = [unit.transfer(direction, 1, unit.cargo.ore)]\n",
    "                    #print(unit_id, \"transfer cargo\")\n",
    "                \n",
    "                # not ajacent to factory, at/over cargo limit, not below power threshold, not charge state. Move to transfer\n",
    "                elif not ajacent_factory and not free_cargo_ore and not below_power_threshold_light and not charge_state:\n",
    "                    direction = direction_to(unit.pos, closest_factory_tile)\n",
    "                    move_bookings.append(coord_from_direction(x=unit.pos[0], y=unit.pos[1], direction=direction))\n",
    "                    actions[unit_id] = [unit.move(direction, repeat=0)]\n",
    "                    #print(unit_id, \"move to transfer cargo\")\n",
    "\n",
    "                # below power threshold or in a charge state. Do nothing (recharge)\n",
    "                elif below_power_threshold_light or charge_state:\n",
    "                    continue\n",
    "                    #print(unit_id, \"recharge\")\n",
    "\n",
    "\n",
    "        return actions"
   ]
  },
  {
   "cell_type": "code",
   "execution_count": 40,
   "metadata": {},
   "outputs": [
    {
     "data": {
      "application/vnd.plotly.v1+json": {
       "config": {
        "plotlyServerURL": "https://plot.ly"
       },
       "data": [
        {
         "hovertemplate": "x: %{x}<br>y: %{y}<br>color: [%{z[0]}, %{z[1]}, %{z[2]}]<extra></extra>",
         "name": "0",
         "source": "data:image/png;base64,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",
         "type": "image",
         "xaxis": "x",
         "yaxis": "y"
        }
       ],
       "layout": {
        "margin": {
         "t": 60
        },
        "template": {
         "data": {
          "bar": [
           {
            "error_x": {
             "color": "#2a3f5f"
            },
            "error_y": {
             "color": "#2a3f5f"
            },
            "marker": {
             "line": {
              "color": "#E5ECF6",
              "width": 0.5
             },
             "pattern": {
              "fillmode": "overlay",
              "size": 10,
              "solidity": 0.2
             }
            },
            "type": "bar"
           }
          ],
          "barpolar": [
           {
            "marker": {
             "line": {
              "color": "#E5ECF6",
              "width": 0.5
             },
             "pattern": {
              "fillmode": "overlay",
              "size": 10,
              "solidity": 0.2
             }
            },
            "type": "barpolar"
           }
          ],
          "carpet": [
           {
            "aaxis": {
             "endlinecolor": "#2a3f5f",
             "gridcolor": "white",
             "linecolor": "white",
             "minorgridcolor": "white",
             "startlinecolor": "#2a3f5f"
            },
            "baxis": {
             "endlinecolor": "#2a3f5f",
             "gridcolor": "white",
             "linecolor": "white",
             "minorgridcolor": "white",
             "startlinecolor": "#2a3f5f"
            },
            "type": "carpet"
           }
          ],
          "choropleth": [
           {
            "colorbar": {
             "outlinewidth": 0,
             "ticks": ""
            },
            "type": "choropleth"
           }
          ],
          "contour": [
           {
            "colorbar": {
             "outlinewidth": 0,
             "ticks": ""
            },
            "colorscale": [
             [
              0,
              "#0d0887"
             ],
             [
              0.1111111111111111,
              "#46039f"
             ],
             [
              0.2222222222222222,
              "#7201a8"
             ],
             [
              0.3333333333333333,
              "#9c179e"
             ],
             [
              0.4444444444444444,
              "#bd3786"
             ],
             [
              0.5555555555555556,
              "#d8576b"
             ],
             [
              0.6666666666666666,
              "#ed7953"
             ],
             [
              0.7777777777777778,
              "#fb9f3a"
             ],
             [
              0.8888888888888888,
              "#fdca26"
             ],
             [
              1,
              "#f0f921"
             ]
            ],
            "type": "contour"
           }
          ],
          "contourcarpet": [
           {
            "colorbar": {
             "outlinewidth": 0,
             "ticks": ""
            },
            "type": "contourcarpet"
           }
          ],
          "heatmap": [
           {
            "colorbar": {
             "outlinewidth": 0,
             "ticks": ""
            },
            "colorscale": [
             [
              0,
              "#0d0887"
             ],
             [
              0.1111111111111111,
              "#46039f"
             ],
             [
              0.2222222222222222,
              "#7201a8"
             ],
             [
              0.3333333333333333,
              "#9c179e"
             ],
             [
              0.4444444444444444,
              "#bd3786"
             ],
             [
              0.5555555555555556,
              "#d8576b"
             ],
             [
              0.6666666666666666,
              "#ed7953"
             ],
             [
              0.7777777777777778,
              "#fb9f3a"
             ],
             [
              0.8888888888888888,
              "#fdca26"
             ],
             [
              1,
              "#f0f921"
             ]
            ],
            "type": "heatmap"
           }
          ],
          "heatmapgl": [
           {
            "colorbar": {
             "outlinewidth": 0,
             "ticks": ""
            },
            "colorscale": [
             [
              0,
              "#0d0887"
             ],
             [
              0.1111111111111111,
              "#46039f"
             ],
             [
              0.2222222222222222,
              "#7201a8"
             ],
             [
              0.3333333333333333,
              "#9c179e"
             ],
             [
              0.4444444444444444,
              "#bd3786"
             ],
             [
              0.5555555555555556,
              "#d8576b"
             ],
             [
              0.6666666666666666,
              "#ed7953"
             ],
             [
              0.7777777777777778,
              "#fb9f3a"
             ],
             [
              0.8888888888888888,
              "#fdca26"
             ],
             [
              1,
              "#f0f921"
             ]
            ],
            "type": "heatmapgl"
           }
          ],
          "histogram": [
           {
            "marker": {
             "pattern": {
              "fillmode": "overlay",
              "size": 10,
              "solidity": 0.2
             }
            },
            "type": "histogram"
           }
          ],
          "histogram2d": [
           {
            "colorbar": {
             "outlinewidth": 0,
             "ticks": ""
            },
            "colorscale": [
             [
              0,
              "#0d0887"
             ],
             [
              0.1111111111111111,
              "#46039f"
             ],
             [
              0.2222222222222222,
              "#7201a8"
             ],
             [
              0.3333333333333333,
              "#9c179e"
             ],
             [
              0.4444444444444444,
              "#bd3786"
             ],
             [
              0.5555555555555556,
              "#d8576b"
             ],
             [
              0.6666666666666666,
              "#ed7953"
             ],
             [
              0.7777777777777778,
              "#fb9f3a"
             ],
             [
              0.8888888888888888,
              "#fdca26"
             ],
             [
              1,
              "#f0f921"
             ]
            ],
            "type": "histogram2d"
           }
          ],
          "histogram2dcontour": [
           {
            "colorbar": {
             "outlinewidth": 0,
             "ticks": ""
            },
            "colorscale": [
             [
              0,
              "#0d0887"
             ],
             [
              0.1111111111111111,
              "#46039f"
             ],
             [
              0.2222222222222222,
              "#7201a8"
             ],
             [
              0.3333333333333333,
              "#9c179e"
             ],
             [
              0.4444444444444444,
              "#bd3786"
             ],
             [
              0.5555555555555556,
              "#d8576b"
             ],
             [
              0.6666666666666666,
              "#ed7953"
             ],
             [
              0.7777777777777778,
              "#fb9f3a"
             ],
             [
              0.8888888888888888,
              "#fdca26"
             ],
             [
              1,
              "#f0f921"
             ]
            ],
            "type": "histogram2dcontour"
           }
          ],
          "mesh3d": [
           {
            "colorbar": {
             "outlinewidth": 0,
             "ticks": ""
            },
            "type": "mesh3d"
           }
          ],
          "parcoords": [
           {
            "line": {
             "colorbar": {
              "outlinewidth": 0,
              "ticks": ""
             }
            },
            "type": "parcoords"
           }
          ],
          "pie": [
           {
            "automargin": true,
            "type": "pie"
           }
          ],
          "scatter": [
           {
            "fillpattern": {
             "fillmode": "overlay",
             "size": 10,
             "solidity": 0.2
            },
            "type": "scatter"
           }
          ],
          "scatter3d": [
           {
            "line": {
             "colorbar": {
              "outlinewidth": 0,
              "ticks": ""
             }
            },
            "marker": {
             "colorbar": {
              "outlinewidth": 0,
              "ticks": ""
             }
            },
            "type": "scatter3d"
           }
          ],
          "scattercarpet": [
           {
            "marker": {
             "colorbar": {
              "outlinewidth": 0,
              "ticks": ""
             }
            },
            "type": "scattercarpet"
           }
          ],
          "scattergeo": [
           {
            "marker": {
             "colorbar": {
              "outlinewidth": 0,
              "ticks": ""
             }
            },
            "type": "scattergeo"
           }
          ],
          "scattergl": [
           {
            "marker": {
             "colorbar": {
              "outlinewidth": 0,
              "ticks": ""
             }
            },
            "type": "scattergl"
           }
          ],
          "scattermapbox": [
           {
            "marker": {
             "colorbar": {
              "outlinewidth": 0,
              "ticks": ""
             }
            },
            "type": "scattermapbox"
           }
          ],
          "scatterpolar": [
           {
            "marker": {
             "colorbar": {
              "outlinewidth": 0,
              "ticks": ""
             }
            },
            "type": "scatterpolar"
           }
          ],
          "scatterpolargl": [
           {
            "marker": {
             "colorbar": {
              "outlinewidth": 0,
              "ticks": ""
             }
            },
            "type": "scatterpolargl"
           }
          ],
          "scatterternary": [
           {
            "marker": {
             "colorbar": {
              "outlinewidth": 0,
              "ticks": ""
             }
            },
            "type": "scatterternary"
           }
          ],
          "surface": [
           {
            "colorbar": {
             "outlinewidth": 0,
             "ticks": ""
            },
            "colorscale": [
             [
              0,
              "#0d0887"
             ],
             [
              0.1111111111111111,
              "#46039f"
             ],
             [
              0.2222222222222222,
              "#7201a8"
             ],
             [
              0.3333333333333333,
              "#9c179e"
             ],
             [
              0.4444444444444444,
              "#bd3786"
             ],
             [
              0.5555555555555556,
              "#d8576b"
             ],
             [
              0.6666666666666666,
              "#ed7953"
             ],
             [
              0.7777777777777778,
              "#fb9f3a"
             ],
             [
              0.8888888888888888,
              "#fdca26"
             ],
             [
              1,
              "#f0f921"
             ]
            ],
            "type": "surface"
           }
          ],
          "table": [
           {
            "cells": {
             "fill": {
              "color": "#EBF0F8"
             },
             "line": {
              "color": "white"
             }
            },
            "header": {
             "fill": {
              "color": "#C8D4E3"
             },
             "line": {
              "color": "white"
             }
            },
            "type": "table"
           }
          ]
         },
         "layout": {
          "annotationdefaults": {
           "arrowcolor": "#2a3f5f",
           "arrowhead": 0,
           "arrowwidth": 1
          },
          "autotypenumbers": "strict",
          "coloraxis": {
           "colorbar": {
            "outlinewidth": 0,
            "ticks": ""
           }
          },
          "colorscale": {
           "diverging": [
            [
             0,
             "#8e0152"
            ],
            [
             0.1,
             "#c51b7d"
            ],
            [
             0.2,
             "#de77ae"
            ],
            [
             0.3,
             "#f1b6da"
            ],
            [
             0.4,
             "#fde0ef"
            ],
            [
             0.5,
             "#f7f7f7"
            ],
            [
             0.6,
             "#e6f5d0"
            ],
            [
             0.7,
             "#b8e186"
            ],
            [
             0.8,
             "#7fbc41"
            ],
            [
             0.9,
             "#4d9221"
            ],
            [
             1,
             "#276419"
            ]
           ],
           "sequential": [
            [
             0,
             "#0d0887"
            ],
            [
             0.1111111111111111,
             "#46039f"
            ],
            [
             0.2222222222222222,
             "#7201a8"
            ],
            [
             0.3333333333333333,
             "#9c179e"
            ],
            [
             0.4444444444444444,
             "#bd3786"
            ],
            [
             0.5555555555555556,
             "#d8576b"
            ],
            [
             0.6666666666666666,
             "#ed7953"
            ],
            [
             0.7777777777777778,
             "#fb9f3a"
            ],
            [
             0.8888888888888888,
             "#fdca26"
            ],
            [
             1,
             "#f0f921"
            ]
           ],
           "sequentialminus": [
            [
             0,
             "#0d0887"
            ],
            [
             0.1111111111111111,
             "#46039f"
            ],
            [
             0.2222222222222222,
             "#7201a8"
            ],
            [
             0.3333333333333333,
             "#9c179e"
            ],
            [
             0.4444444444444444,
             "#bd3786"
            ],
            [
             0.5555555555555556,
             "#d8576b"
            ],
            [
             0.6666666666666666,
             "#ed7953"
            ],
            [
             0.7777777777777778,
             "#fb9f3a"
            ],
            [
             0.8888888888888888,
             "#fdca26"
            ],
            [
             1,
             "#f0f921"
            ]
           ]
          },
          "colorway": [
           "#636efa",
           "#EF553B",
           "#00cc96",
           "#ab63fa",
           "#FFA15A",
           "#19d3f3",
           "#FF6692",
           "#B6E880",
           "#FF97FF",
           "#FECB52"
          ],
          "font": {
           "color": "#2a3f5f"
          },
          "geo": {
           "bgcolor": "white",
           "lakecolor": "white",
           "landcolor": "#E5ECF6",
           "showlakes": true,
           "showland": true,
           "subunitcolor": "white"
          },
          "hoverlabel": {
           "align": "left"
          },
          "hovermode": "closest",
          "mapbox": {
           "style": "light"
          },
          "paper_bgcolor": "white",
          "plot_bgcolor": "#E5ECF6",
          "polar": {
           "angularaxis": {
            "gridcolor": "white",
            "linecolor": "white",
            "ticks": ""
           },
           "bgcolor": "#E5ECF6",
           "radialaxis": {
            "gridcolor": "white",
            "linecolor": "white",
            "ticks": ""
           }
          },
          "scene": {
           "xaxis": {
            "backgroundcolor": "#E5ECF6",
            "gridcolor": "white",
            "gridwidth": 2,
            "linecolor": "white",
            "showbackground": true,
            "ticks": "",
            "zerolinecolor": "white"
           },
           "yaxis": {
            "backgroundcolor": "#E5ECF6",
            "gridcolor": "white",
            "gridwidth": 2,
            "linecolor": "white",
            "showbackground": true,
            "ticks": "",
            "zerolinecolor": "white"
           },
           "zaxis": {
            "backgroundcolor": "#E5ECF6",
            "gridcolor": "white",
            "gridwidth": 2,
            "linecolor": "white",
            "showbackground": true,
            "ticks": "",
            "zerolinecolor": "white"
           }
          },
          "shapedefaults": {
           "line": {
            "color": "#2a3f5f"
           }
          },
          "ternary": {
           "aaxis": {
            "gridcolor": "white",
            "linecolor": "white",
            "ticks": ""
           },
           "baxis": {
            "gridcolor": "white",
            "linecolor": "white",
            "ticks": ""
           },
           "bgcolor": "#E5ECF6",
           "caxis": {
            "gridcolor": "white",
            "linecolor": "white",
            "ticks": ""
           }
          },
          "title": {
           "x": 0.05
          },
          "xaxis": {
           "automargin": true,
           "gridcolor": "white",
           "linecolor": "white",
           "ticks": "",
           "title": {
            "standoff": 15
           },
           "zerolinecolor": "white",
           "zerolinewidth": 2
          },
          "yaxis": {
           "automargin": true,
           "gridcolor": "white",
           "linecolor": "white",
           "ticks": "",
           "title": {
            "standoff": 15
           },
           "zerolinecolor": "white",
           "zerolinewidth": 2
          }
         }
        },
        "xaxis": {
         "anchor": "y",
         "domain": [
          0,
          1
         ]
        },
        "yaxis": {
         "anchor": "x",
         "domain": [
          0,
          1
         ]
        }
       }
      }
     },
     "metadata": {},
     "output_type": "display_data"
    },
    {
     "name": "stdout",
     "output_type": "stream",
     "text": [
      "1000,0,150,0.0,0\n",
      "1050,-1,148,1.0,7\n",
      "1107,-2,146,1.0,14\n",
      "1164,-3,144,1.0,21\n",
      "1221,-4,142,1.0,28\n",
      "1278,-5,140,1.0,35\n",
      "1335,-6,138,1.0,42\n",
      "1392,-7,136,1.0,49\n",
      "1449,-8,134,1.0,56\n",
      "1506,-9,132,1.0,63\n",
      "1563,-10,130,1.0,70\n",
      "1620,-11,128,1.0,77\n",
      "1677,-12,126,1.0,84\n",
      "1734,-13,124,1.0,91\n",
      "1791,-14,122,1.0,98\n",
      "1848,-15,120,1.0,105\n",
      "1905,-16,118,1.0,112\n",
      "1962,-17,116,1.0,119\n",
      "2019,-18,114,1.0,126\n",
      "2076,-19,112,1.0,133\n",
      "2133,-20,110,1.0,140\n",
      "2190,-22,107,2.0,155\n",
      "2255,-24,104,2.0,170\n",
      "2320,-26,101,2.0,185\n",
      "2385,-28,98,2.0,200\n",
      "2400,-28,97,2.0,185\n",
      "2415,-28,96,2.0,170\n",
      "2430,-28,95,2.0,155\n",
      "2445,-28,94,1.0,140\n",
      "2452,-28,93,1.0,133\n",
      "2459,-28,92,1.0,126\n",
      "2466,-28,91,1.0,119\n",
      "2473,-28,90,1.0,112\n",
      "2480,-28,89,1.0,105\n",
      "2487,-28,88,1.0,98\n",
      "2494,-28,87,1.0,91\n",
      "2501,-28,86,1.0,84\n",
      "2508,-28,85,1.0,77\n",
      "2515,-28,84,1.0,70\n",
      "2522,-28,83,1.0,63\n",
      "2579,-28,82,1.0,56\n",
      "2636,-28,81,1.0,49\n",
      "2693,-28,80,1.0,42\n",
      "2750,-28,79,1.0,35\n",
      "2807,-28,78,1.0,28\n",
      "2864,-28,77,1.0,21\n",
      "2921,-28,76,1.0,14\n",
      "2978,-28,75,1.0,7\n",
      "3035,-28,74,0.0,0\n",
      "3085,-28,73,0.0,0\n",
      "3135,-28,72,0.0,0\n",
      "3185,-28,71,0.0,0\n",
      "3235,-28,70,0.0,0\n",
      "3285,-28,69,0.0,0\n",
      "3335,-28,68,0.0,0\n",
      "3385,-28,67,0.0,0\n",
      "3435,-28,66,0.0,0\n",
      "3485,-28,65,0.0,0\n",
      "3535,-28,64,0.0,0\n",
      "3585,-28,63,0.0,0\n",
      "3635,-28,62,0.0,0\n",
      "3685,-28,61,0.0,0\n",
      "3735,-28,60,0.0,0\n",
      "3785,-28,59,0.0,0\n",
      "3835,-28,58,0.0,0\n",
      "3885,-28,57,0.0,0\n",
      "3935,-28,56,0.0,0\n",
      "3985,-28,55,0.0,0\n",
      "4035,-28,54,0.0,0\n",
      "4085,-28,53,0.0,0\n",
      "4135,-28,52,0.0,0\n",
      "4185,-28,51,0.0,0\n",
      "4235,-28,50,0.0,0\n",
      "4285,-28,49,0.0,0\n",
      "4335,-28,48,0.0,0\n",
      "4385,-28,47,0.0,0\n",
      "4435,-28,46,0.0,0\n",
      "4485,-28,45,0.0,0\n",
      "4535,-28,44,0.0,0\n",
      "4585,-28,43,0.0,0\n",
      "4635,-28,42,0.0,0\n",
      "4685,-28,41,0.0,0\n",
      "4735,-28,40,0.0,0\n",
      "4785,-28,39,0.0,0\n",
      "4835,-28,38,0.0,0\n",
      "4885,-28,37,0.0,0\n",
      "4935,-28,36,0.0,0\n",
      "4985,-28,35,0.0,0\n",
      "5035,-28,34,0.0,0\n",
      "5085,-28,33,0.0,0\n",
      "5135,-28,32,0.0,0\n",
      "5185,-28,31,0.0,0\n",
      "5235,-28,30,0.0,0\n",
      "5285,-28,29,0.0,0\n",
      "5335,-28,28,0.0,0\n",
      "5385,-28,27,0.0,0\n",
      "5435,-28,26,0.0,0\n",
      "5485,-28,25,0.0,0\n",
      "5535,-28,24,0.0,0\n",
      "5585,-28,23,0.0,0\n",
      "5635,-28,22,0.0,0\n",
      "5685,-28,21,0.0,0\n",
      "5735,-28,20,0.0,0\n",
      "5785,-28,19,0.0,0\n",
      "5835,-28,18,0.0,0\n",
      "5885,-28,17,0.0,0\n",
      "5935,-28,16,0.0,0\n",
      "5985,-28,15,0.0,0\n",
      "6035,-28,14,0.0,0\n",
      "6085,-28,13,0.0,0\n",
      "6135,-28,12,0.0,0\n",
      "6185,-28,11,0.0,0\n",
      "6235,-28,10,0.0,0\n",
      "6285,-28,9,0.0,0\n",
      "6335,-28,8,0.0,0\n",
      "6385,-28,7,0.0,0\n",
      "6435,-28,6,0.0,0\n",
      "6485,-28,5,0.0,0\n",
      "6535,-28,4,0.0,0\n",
      "6585,-28,3,0.0,0\n",
      "6635,-28,2,0.0,0\n",
      "6685,-28,1,0.0,0\n",
      "6735,-28,0,0.0,0\n"
     ]
    },
    {
     "name": "stderr",
     "output_type": "stream",
     "text": [
      "OpenCV: FFMPEG: tag 0x30395056/'VP90' is not supported with codec id 167 and format 'webm / WebM'\n"
     ]
    },
    {
     "data": {
      "text/html": [
       "<video src=\"ofkCsdFstyFVLXNmuR.webm\" controls  >\n",
       "      Your browser does not support the <code>video</code> element.\n",
       "    </video>"
      ],
      "text/plain": [
       "<IPython.core.display.Video object>"
      ]
     },
     "execution_count": 40,
     "metadata": {},
     "output_type": "execute_result"
    }
   ],
   "source": [
    "# imports from support files with class and functions\n",
    "from Test_agents import submission_6_agent\n",
    "import lux_functions\n",
    "\n",
    "# recreate our agents and run\n",
    "player0 = env.agents[0]\n",
    "player1 = env.agents[1]\n",
    "agents = {\n",
    "    player0: Archimedes_Lever(env.agents[0], env.state.env_cfg), \n",
    "    player1: submission_6_agent.Archimedes_Lever_s(env.agents[1], env.state.env_cfg)#default_agent.Default_Agent(env.agents[1], env.state.env_cfg)\n",
    "}\n",
    "img = env.render(\"rgb_array\", width=48, height=48)\n",
    "px.imshow(img).show()\n",
    "lux_functions.interact(env=env, agents=agents, steps=1000, video=True)"
   ]
  },
  {
   "cell_type": "code",
   "execution_count": null,
   "metadata": {},
   "outputs": [],
   "source": [
    "### AGENT TESTING\n",
    "from Test_agents import submission_6_agent\n",
    "import default_agent\n",
    "import lux_functions\n",
    "\n",
    "tests = 10\n",
    "results = []\n",
    "for t in range(tests):\n",
    "    test_env = LuxAI_S2() # create the environment object\n",
    "    test_obs = test_env.reset(seed=np.random.seed()) # resets an environment with a seed\n",
    "\n",
    "    # recreate our agents and run\n",
    "    player0 = test_env.agents[0]\n",
    "    player1 = test_env.agents[1]\n",
    "    agents = {\n",
    "        player0: Archimedes_Lever(test_env.agents[0], test_env.state.env_cfg), \n",
    "        player1: submission_6_agent.Archimedes_Lever_s(test_env.agents[1], test_env.state.env_cfg)#default_agent.Default_Agent(test_env.agents[1], test_env.state.env_cfg)\n",
    "    }\n",
    "    # UNCOMMENT IF MAPS SHOULD BE VISUALIZED\n",
    "    '''\n",
    "    img = test_env.render(\"rgb_array\", width=48, height=48)\n",
    "    px.imshow(img).show()\n",
    "    '''\n",
    "    test_results = lux_functions.test_agents(env=test_env, agents=agents, steps=1000)\n",
    "    results.append(test_results)\n",
    "    del test_env\n",
    "    del test_obs\n",
    "\n",
    "for result in results:\n",
    "    print(result)"
   ]
  },
  {
   "cell_type": "code",
   "execution_count": null,
   "metadata": {},
   "outputs": [],
   "source": [
    "#!luxai-s2 archimedes_main.py main.py -v 2 -s 101 -o replay.html\n",
    "#!tar -czf submission.tar.gz *"
   ]
  }
 ],
 "metadata": {
  "kernelspec": {
   "display_name": "Python 3.10.0 64-bit",
   "language": "python",
   "name": "python3"
  },
  "language_info": {
   "codemirror_mode": {
    "name": "ipython",
    "version": 3
   },
   "file_extension": ".py",
   "mimetype": "text/x-python",
   "name": "python",
   "nbconvert_exporter": "python",
   "pygments_lexer": "ipython3",
   "version": "3.10.0"
  },
  "orig_nbformat": 4,
  "vscode": {
   "interpreter": {
    "hash": "aee8b7b246df8f9039afb4144a1f6fd8d2ca17a180786b69acc140d282b71a49"
   }
  }
 },
 "nbformat": 4,
 "nbformat_minor": 2
}
