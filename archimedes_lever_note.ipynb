{
 "cells": [
  {
   "cell_type": "code",
   "execution_count": 538,
   "metadata": {},
   "outputs": [
    {
     "name": "stdout",
     "output_type": "stream",
     "text": [
      "Python 3.10.0\n",
      "Requirement already satisfied: luxai_s2 in /Library/Frameworks/Python.framework/Versions/3.10/lib/python3.10/site-packages (2.1.9)\n",
      "Requirement already satisfied: vec-noise in /Library/Frameworks/Python.framework/Versions/3.10/lib/python3.10/site-packages (from luxai_s2) (1.1.4)\n",
      "Requirement already satisfied: matplotlib in /Library/Frameworks/Python.framework/Versions/3.10/lib/python3.10/site-packages (from luxai_s2) (3.7.0)\n",
      "Requirement already satisfied: importlib-metadata<5.0 in /Library/Frameworks/Python.framework/Versions/3.10/lib/python3.10/site-packages (from luxai_s2) (4.13.0)\n",
      "Requirement already satisfied: numpy in /Library/Frameworks/Python.framework/Versions/3.10/lib/python3.10/site-packages (from luxai_s2) (1.24.2)\n",
      "Requirement already satisfied: scipy in /Library/Frameworks/Python.framework/Versions/3.10/lib/python3.10/site-packages (from luxai_s2) (1.10.0)\n",
      "Requirement already satisfied: gym==0.21.0 in /Library/Frameworks/Python.framework/Versions/3.10/lib/python3.10/site-packages (from luxai_s2) (0.21.0)\n",
      "Requirement already satisfied: pygame in /Library/Frameworks/Python.framework/Versions/3.10/lib/python3.10/site-packages (from luxai_s2) (2.1.3)\n",
      "Requirement already satisfied: pettingzoo in /Library/Frameworks/Python.framework/Versions/3.10/lib/python3.10/site-packages (from luxai_s2) (1.22.3)\n",
      "Requirement already satisfied: termcolor in /Library/Frameworks/Python.framework/Versions/3.10/lib/python3.10/site-packages (from luxai_s2) (2.2.0)\n",
      "Requirement already satisfied: cloudpickle>=1.2.0 in /Library/Frameworks/Python.framework/Versions/3.10/lib/python3.10/site-packages (from gym==0.21.0->luxai_s2) (1.6.0)\n",
      "Requirement already satisfied: zipp>=0.5 in /Library/Frameworks/Python.framework/Versions/3.10/lib/python3.10/site-packages (from importlib-metadata<5.0->luxai_s2) (3.14.0)\n",
      "Requirement already satisfied: fonttools>=4.22.0 in /Library/Frameworks/Python.framework/Versions/3.10/lib/python3.10/site-packages (from matplotlib->luxai_s2) (4.38.0)\n",
      "Requirement already satisfied: contourpy>=1.0.1 in /Library/Frameworks/Python.framework/Versions/3.10/lib/python3.10/site-packages (from matplotlib->luxai_s2) (1.0.7)\n",
      "Requirement already satisfied: packaging>=20.0 in /Library/Frameworks/Python.framework/Versions/3.10/lib/python3.10/site-packages (from matplotlib->luxai_s2) (23.0)\n",
      "Requirement already satisfied: python-dateutil>=2.7 in /Library/Frameworks/Python.framework/Versions/3.10/lib/python3.10/site-packages (from matplotlib->luxai_s2) (2.8.2)\n",
      "Requirement already satisfied: kiwisolver>=1.0.1 in /Library/Frameworks/Python.framework/Versions/3.10/lib/python3.10/site-packages (from matplotlib->luxai_s2) (1.4.4)\n",
      "Requirement already satisfied: pillow>=6.2.0 in /Library/Frameworks/Python.framework/Versions/3.10/lib/python3.10/site-packages (from matplotlib->luxai_s2) (9.4.0)\n",
      "Requirement already satisfied: pyparsing>=2.3.1 in /Library/Frameworks/Python.framework/Versions/3.10/lib/python3.10/site-packages (from matplotlib->luxai_s2) (3.0.9)\n",
      "Requirement already satisfied: cycler>=0.10 in /Library/Frameworks/Python.framework/Versions/3.10/lib/python3.10/site-packages (from matplotlib->luxai_s2) (0.11.0)\n",
      "Requirement already satisfied: gymnasium>=0.26.0 in /Library/Frameworks/Python.framework/Versions/3.10/lib/python3.10/site-packages (from pettingzoo->luxai_s2) (0.27.1)\n",
      "Requirement already satisfied: jax-jumpy>=0.2.0 in /Library/Frameworks/Python.framework/Versions/3.10/lib/python3.10/site-packages (from gymnasium>=0.26.0->pettingzoo->luxai_s2) (0.2.0)\n",
      "Requirement already satisfied: typing-extensions>=4.3.0 in /Library/Frameworks/Python.framework/Versions/3.10/lib/python3.10/site-packages (from gymnasium>=0.26.0->pettingzoo->luxai_s2) (4.5.0)\n",
      "Requirement already satisfied: gymnasium-notices>=0.0.1 in /Library/Frameworks/Python.framework/Versions/3.10/lib/python3.10/site-packages (from gymnasium>=0.26.0->pettingzoo->luxai_s2) (0.0.1)\n",
      "Requirement already satisfied: six>=1.5 in /Library/Frameworks/Python.framework/Versions/3.10/lib/python3.10/site-packages (from python-dateutil>=2.7->matplotlib->luxai_s2) (1.16.0)\n",
      "Requirement already satisfied: importlib-metadata==4.13.0 in /Library/Frameworks/Python.framework/Versions/3.10/lib/python3.10/site-packages (4.13.0)\n",
      "Requirement already satisfied: zipp>=0.5 in /Library/Frameworks/Python.framework/Versions/3.10/lib/python3.10/site-packages (from importlib-metadata==4.13.0) (3.14.0)\n",
      "Requirement already satisfied: moviepy in /Library/Frameworks/Python.framework/Versions/3.10/lib/python3.10/site-packages (1.0.3)\n",
      "Requirement already satisfied: decorator<5.0,>=4.0.2 in /Library/Frameworks/Python.framework/Versions/3.10/lib/python3.10/site-packages (from moviepy) (4.4.2)\n",
      "Requirement already satisfied: tqdm<5.0,>=4.11.2 in /Library/Frameworks/Python.framework/Versions/3.10/lib/python3.10/site-packages (from moviepy) (4.64.1)\n",
      "Requirement already satisfied: requests<3.0,>=2.8.1 in /Library/Frameworks/Python.framework/Versions/3.10/lib/python3.10/site-packages (from moviepy) (2.28.2)\n",
      "Requirement already satisfied: proglog<=1.0.0 in /Library/Frameworks/Python.framework/Versions/3.10/lib/python3.10/site-packages (from moviepy) (0.1.10)\n",
      "Requirement already satisfied: numpy>=1.17.3 in /Library/Frameworks/Python.framework/Versions/3.10/lib/python3.10/site-packages (from moviepy) (1.24.2)\n",
      "Requirement already satisfied: imageio<3.0,>=2.5 in /Library/Frameworks/Python.framework/Versions/3.10/lib/python3.10/site-packages (from moviepy) (2.25.1)\n",
      "Requirement already satisfied: imageio_ffmpeg>=0.2.0 in /Library/Frameworks/Python.framework/Versions/3.10/lib/python3.10/site-packages (from moviepy) (0.4.8)\n",
      "Requirement already satisfied: pillow>=8.3.2 in /Library/Frameworks/Python.framework/Versions/3.10/lib/python3.10/site-packages (from imageio<3.0,>=2.5->moviepy) (9.4.0)\n",
      "Requirement already satisfied: idna<4,>=2.5 in /Library/Frameworks/Python.framework/Versions/3.10/lib/python3.10/site-packages (from requests<3.0,>=2.8.1->moviepy) (3.4)\n",
      "Requirement already satisfied: charset-normalizer<4,>=2 in /Library/Frameworks/Python.framework/Versions/3.10/lib/python3.10/site-packages (from requests<3.0,>=2.8.1->moviepy) (3.0.1)\n",
      "Requirement already satisfied: certifi>=2017.4.17 in /Library/Frameworks/Python.framework/Versions/3.10/lib/python3.10/site-packages (from requests<3.0,>=2.8.1->moviepy) (2022.12.7)\n",
      "Requirement already satisfied: urllib3<1.27,>=1.21.1 in /Library/Frameworks/Python.framework/Versions/3.10/lib/python3.10/site-packages (from requests<3.0,>=2.8.1->moviepy) (1.26.14)\n"
     ]
    }
   ],
   "source": [
    "# In case of import requirements\n",
    "# verify version\n",
    "!python3 --version\n",
    "!pip install --upgrade luxai_s2\n",
    "!pip install importlib-metadata==4.13.0\n",
    "!pip install --upgrade moviepy # needed to render videos of episodes"
   ]
  },
  {
   "cell_type": "code",
   "execution_count": 539,
   "metadata": {},
   "outputs": [],
   "source": [
    "from luxai_s2.env import LuxAI_S2\n",
    "from lux.kit import obs_to_game_state, GameState, EnvConfig\n",
    "from lux.utils import my_turn_to_place_factory, direction_to \n",
    "import matplotlib.pyplot as plt\n",
    "import numpy as np\n",
    "import plotly.express as px\n",
    "import random\n",
    "import math\n",
    "import cv2"
   ]
  },
  {
   "cell_type": "code",
   "execution_count": 540,
   "metadata": {},
   "outputs": [
    {
     "data": {
      "text/plain": [
       "'LOW PRIORITY'"
      ]
     },
     "execution_count": 540,
     "metadata": {},
     "output_type": "execute_result"
    }
   ],
   "source": [
    "# Create excel spreadsheets to look at strategies for when to start producing lichen to find weather its more optimal to\n",
    "#      continually grow lichen, or to hoard water until a certain turn (depending on water gathered?) and mass produce lichen then\n",
    "# [X] Made graphs and have found good enough growth estimates with tables for further estimation if necessary.\n",
    "# TODO Update files in repo, or move agent files to new repo. Basically move from beta to season 2.\n",
    "# [X]\n",
    "# TODO Clean up structure of notebook cells and segments of the algorithm to make it easier to find where what desicion is being made\n",
    "# [X]\n",
    "# TODO Make the agent place a factory right next to one ice tile\n",
    "# [X]\n",
    "# TODO Make the agent update its possible placing locations by removing coordinates around placed (friendly and foe) factory tiles\n",
    "# [X]\n",
    "# TODO Update the assignments to have n heavy bots on ice gathering just outside the factory, and some light for ore collection\n",
    "# [X]\n",
    "# TODO Observe the total ammount of water possible to gather with 1 heavy bot\n",
    "# [X]\n",
    "# TODO Fix ordering system so that heavies are assigned to ice tiles right by the factory for instant dropof and charging,\n",
    "#      and so that the bots are ordered to correct coordinates,\n",
    "#      and so that the return to factory scheduling works.\n",
    "# [X]\n",
    "# TODO Fix bug where only 4 out of 5 factories are built \n",
    "# [X]\n",
    "# TODO Fix placement of factories? So that all place near ice\n",
    "# [X]\n",
    "# TODO Fix bug where not every factory is watering lichen\n",
    "# [X]\n",
    "# TODO Optimize heavy bots ice collection, by increasing storage limit, and or tweaking their power level threshold\n",
    "# [X]\n",
    "\n",
    "\n",
    "\"\"\"HIGH PRIORITY\"\"\"\n",
    "# TODO Check if bidding 1 water and metal affects the number of factories that can be placed, if factories dont cost metal, bid 1 as default. This\n",
    "#      secures the first, best location more often. Combined with selection of 3rd best spot forces opponent to choose more bad spots with more rubble\n",
    "# []\n",
    "\n",
    "# TODO Check if there is logic in heavy and light bots that can be merged to reduce complexity in logic? If not, make sure google sheet matricees\n",
    "#      are up to date\n",
    "# []\n",
    "\n",
    "# TODO Add occupation tile check on heavy bots to avoid collisions with light bots that destroy these\n",
    "# []\n",
    "# TODO Add function that checks surrounding tiles for hostiles, that affects behaviour of heavy bots (moves bot from ice to neighbouring facotory tile, if on factory tile, and hostile heavy bot on ice, ambush this bot by moving onto this tile)\n",
    "# []\n",
    "\n",
    "# TODO Develop formula for when to start watering to optimize so that factory water, and a variable (average water gathering from 1 heavy),\n",
    "#      find the optimal turn for beginning watering\n",
    "# []\n",
    "\n",
    "# TODO Make function that gets the coordinates around factories with only rubble on, and assigns these tiles (by filtering for proximity) to light bots\n",
    "# []\n",
    "\n",
    "# TODO, make selection of spawn points less random, by sorting for rubble value, and selecting first in list, not random\n",
    "# []\n",
    "\n",
    "# TODO Incorporate a sorting function for rubble tiles as well as proximity to the light bot\n",
    "# []\n",
    "\n",
    "\n",
    "\"\"\"MEDIUM PRIORITY\"\"\"\n",
    "# TODO Make bots with ore assignments fetch power from factory with \"pickup\", as power is not utilized to full extent\n",
    "# []\n",
    "\n",
    "# TODO Take second look at border coordinate function to fix it so that it removes first and second rows on all 4 sides\n",
    "# []\n",
    "\n",
    "# TODO Take second look at non colision function to remove light bots coliding into each other and heavies. Also make ice tiles \"no go\" for lights\n",
    "# []\n",
    "\n",
    "# TODO Take second look at spawn selection functions as this might be running into \"overtime\" making me miss out on placing some crucial factories\n",
    "#      This can be reduced by looking at efficiency gains that can be made in the startup section\n",
    "# [X]\n",
    "\n",
    "\n",
    "\"\"\"LOW PRIORITY\"\"\"\n",
    "# TODO Make toggle between construction of heavy and light bots based on real env turns\n",
    "\n",
    "# TODO Evaluate weather to use 150-N turns to gather ore for multiplication of bots before water hoarding\n",
    "# []\n"
   ]
  },
  {
   "cell_type": "code",
   "execution_count": 541,
   "metadata": {},
   "outputs": [
    {
     "data": {
      "application/vnd.plotly.v1+json": {
       "config": {
        "plotlyServerURL": "https://plot.ly"
       },
       "data": [
        {
         "hovertemplate": "x: %{x}<br>y: %{y}<br>color: [%{z[0]}, %{z[1]}, %{z[2]}]<extra></extra>",
         "name": "0",
         "source": "data:image/png;base64,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",
         "type": "image",
         "xaxis": "x",
         "yaxis": "y"
        }
       ],
       "layout": {
        "margin": {
         "t": 60
        },
        "template": {
         "data": {
          "bar": [
           {
            "error_x": {
             "color": "#2a3f5f"
            },
            "error_y": {
             "color": "#2a3f5f"
            },
            "marker": {
             "line": {
              "color": "#E5ECF6",
              "width": 0.5
             },
             "pattern": {
              "fillmode": "overlay",
              "size": 10,
              "solidity": 0.2
             }
            },
            "type": "bar"
           }
          ],
          "barpolar": [
           {
            "marker": {
             "line": {
              "color": "#E5ECF6",
              "width": 0.5
             },
             "pattern": {
              "fillmode": "overlay",
              "size": 10,
              "solidity": 0.2
             }
            },
            "type": "barpolar"
           }
          ],
          "carpet": [
           {
            "aaxis": {
             "endlinecolor": "#2a3f5f",
             "gridcolor": "white",
             "linecolor": "white",
             "minorgridcolor": "white",
             "startlinecolor": "#2a3f5f"
            },
            "baxis": {
             "endlinecolor": "#2a3f5f",
             "gridcolor": "white",
             "linecolor": "white",
             "minorgridcolor": "white",
             "startlinecolor": "#2a3f5f"
            },
            "type": "carpet"
           }
          ],
          "choropleth": [
           {
            "colorbar": {
             "outlinewidth": 0,
             "ticks": ""
            },
            "type": "choropleth"
           }
          ],
          "contour": [
           {
            "colorbar": {
             "outlinewidth": 0,
             "ticks": ""
            },
            "colorscale": [
             [
              0,
              "#0d0887"
             ],
             [
              0.1111111111111111,
              "#46039f"
             ],
             [
              0.2222222222222222,
              "#7201a8"
             ],
             [
              0.3333333333333333,
              "#9c179e"
             ],
             [
              0.4444444444444444,
              "#bd3786"
             ],
             [
              0.5555555555555556,
              "#d8576b"
             ],
             [
              0.6666666666666666,
              "#ed7953"
             ],
             [
              0.7777777777777778,
              "#fb9f3a"
             ],
             [
              0.8888888888888888,
              "#fdca26"
             ],
             [
              1,
              "#f0f921"
             ]
            ],
            "type": "contour"
           }
          ],
          "contourcarpet": [
           {
            "colorbar": {
             "outlinewidth": 0,
             "ticks": ""
            },
            "type": "contourcarpet"
           }
          ],
          "heatmap": [
           {
            "colorbar": {
             "outlinewidth": 0,
             "ticks": ""
            },
            "colorscale": [
             [
              0,
              "#0d0887"
             ],
             [
              0.1111111111111111,
              "#46039f"
             ],
             [
              0.2222222222222222,
              "#7201a8"
             ],
             [
              0.3333333333333333,
              "#9c179e"
             ],
             [
              0.4444444444444444,
              "#bd3786"
             ],
             [
              0.5555555555555556,
              "#d8576b"
             ],
             [
              0.6666666666666666,
              "#ed7953"
             ],
             [
              0.7777777777777778,
              "#fb9f3a"
             ],
             [
              0.8888888888888888,
              "#fdca26"
             ],
             [
              1,
              "#f0f921"
             ]
            ],
            "type": "heatmap"
           }
          ],
          "heatmapgl": [
           {
            "colorbar": {
             "outlinewidth": 0,
             "ticks": ""
            },
            "colorscale": [
             [
              0,
              "#0d0887"
             ],
             [
              0.1111111111111111,
              "#46039f"
             ],
             [
              0.2222222222222222,
              "#7201a8"
             ],
             [
              0.3333333333333333,
              "#9c179e"
             ],
             [
              0.4444444444444444,
              "#bd3786"
             ],
             [
              0.5555555555555556,
              "#d8576b"
             ],
             [
              0.6666666666666666,
              "#ed7953"
             ],
             [
              0.7777777777777778,
              "#fb9f3a"
             ],
             [
              0.8888888888888888,
              "#fdca26"
             ],
             [
              1,
              "#f0f921"
             ]
            ],
            "type": "heatmapgl"
           }
          ],
          "histogram": [
           {
            "marker": {
             "pattern": {
              "fillmode": "overlay",
              "size": 10,
              "solidity": 0.2
             }
            },
            "type": "histogram"
           }
          ],
          "histogram2d": [
           {
            "colorbar": {
             "outlinewidth": 0,
             "ticks": ""
            },
            "colorscale": [
             [
              0,
              "#0d0887"
             ],
             [
              0.1111111111111111,
              "#46039f"
             ],
             [
              0.2222222222222222,
              "#7201a8"
             ],
             [
              0.3333333333333333,
              "#9c179e"
             ],
             [
              0.4444444444444444,
              "#bd3786"
             ],
             [
              0.5555555555555556,
              "#d8576b"
             ],
             [
              0.6666666666666666,
              "#ed7953"
             ],
             [
              0.7777777777777778,
              "#fb9f3a"
             ],
             [
              0.8888888888888888,
              "#fdca26"
             ],
             [
              1,
              "#f0f921"
             ]
            ],
            "type": "histogram2d"
           }
          ],
          "histogram2dcontour": [
           {
            "colorbar": {
             "outlinewidth": 0,
             "ticks": ""
            },
            "colorscale": [
             [
              0,
              "#0d0887"
             ],
             [
              0.1111111111111111,
              "#46039f"
             ],
             [
              0.2222222222222222,
              "#7201a8"
             ],
             [
              0.3333333333333333,
              "#9c179e"
             ],
             [
              0.4444444444444444,
              "#bd3786"
             ],
             [
              0.5555555555555556,
              "#d8576b"
             ],
             [
              0.6666666666666666,
              "#ed7953"
             ],
             [
              0.7777777777777778,
              "#fb9f3a"
             ],
             [
              0.8888888888888888,
              "#fdca26"
             ],
             [
              1,
              "#f0f921"
             ]
            ],
            "type": "histogram2dcontour"
           }
          ],
          "mesh3d": [
           {
            "colorbar": {
             "outlinewidth": 0,
             "ticks": ""
            },
            "type": "mesh3d"
           }
          ],
          "parcoords": [
           {
            "line": {
             "colorbar": {
              "outlinewidth": 0,
              "ticks": ""
             }
            },
            "type": "parcoords"
           }
          ],
          "pie": [
           {
            "automargin": true,
            "type": "pie"
           }
          ],
          "scatter": [
           {
            "fillpattern": {
             "fillmode": "overlay",
             "size": 10,
             "solidity": 0.2
            },
            "type": "scatter"
           }
          ],
          "scatter3d": [
           {
            "line": {
             "colorbar": {
              "outlinewidth": 0,
              "ticks": ""
             }
            },
            "marker": {
             "colorbar": {
              "outlinewidth": 0,
              "ticks": ""
             }
            },
            "type": "scatter3d"
           }
          ],
          "scattercarpet": [
           {
            "marker": {
             "colorbar": {
              "outlinewidth": 0,
              "ticks": ""
             }
            },
            "type": "scattercarpet"
           }
          ],
          "scattergeo": [
           {
            "marker": {
             "colorbar": {
              "outlinewidth": 0,
              "ticks": ""
             }
            },
            "type": "scattergeo"
           }
          ],
          "scattergl": [
           {
            "marker": {
             "colorbar": {
              "outlinewidth": 0,
              "ticks": ""
             }
            },
            "type": "scattergl"
           }
          ],
          "scattermapbox": [
           {
            "marker": {
             "colorbar": {
              "outlinewidth": 0,
              "ticks": ""
             }
            },
            "type": "scattermapbox"
           }
          ],
          "scatterpolar": [
           {
            "marker": {
             "colorbar": {
              "outlinewidth": 0,
              "ticks": ""
             }
            },
            "type": "scatterpolar"
           }
          ],
          "scatterpolargl": [
           {
            "marker": {
             "colorbar": {
              "outlinewidth": 0,
              "ticks": ""
             }
            },
            "type": "scatterpolargl"
           }
          ],
          "scatterternary": [
           {
            "marker": {
             "colorbar": {
              "outlinewidth": 0,
              "ticks": ""
             }
            },
            "type": "scatterternary"
           }
          ],
          "surface": [
           {
            "colorbar": {
             "outlinewidth": 0,
             "ticks": ""
            },
            "colorscale": [
             [
              0,
              "#0d0887"
             ],
             [
              0.1111111111111111,
              "#46039f"
             ],
             [
              0.2222222222222222,
              "#7201a8"
             ],
             [
              0.3333333333333333,
              "#9c179e"
             ],
             [
              0.4444444444444444,
              "#bd3786"
             ],
             [
              0.5555555555555556,
              "#d8576b"
             ],
             [
              0.6666666666666666,
              "#ed7953"
             ],
             [
              0.7777777777777778,
              "#fb9f3a"
             ],
             [
              0.8888888888888888,
              "#fdca26"
             ],
             [
              1,
              "#f0f921"
             ]
            ],
            "type": "surface"
           }
          ],
          "table": [
           {
            "cells": {
             "fill": {
              "color": "#EBF0F8"
             },
             "line": {
              "color": "white"
             }
            },
            "header": {
             "fill": {
              "color": "#C8D4E3"
             },
             "line": {
              "color": "white"
             }
            },
            "type": "table"
           }
          ]
         },
         "layout": {
          "annotationdefaults": {
           "arrowcolor": "#2a3f5f",
           "arrowhead": 0,
           "arrowwidth": 1
          },
          "autotypenumbers": "strict",
          "coloraxis": {
           "colorbar": {
            "outlinewidth": 0,
            "ticks": ""
           }
          },
          "colorscale": {
           "diverging": [
            [
             0,
             "#8e0152"
            ],
            [
             0.1,
             "#c51b7d"
            ],
            [
             0.2,
             "#de77ae"
            ],
            [
             0.3,
             "#f1b6da"
            ],
            [
             0.4,
             "#fde0ef"
            ],
            [
             0.5,
             "#f7f7f7"
            ],
            [
             0.6,
             "#e6f5d0"
            ],
            [
             0.7,
             "#b8e186"
            ],
            [
             0.8,
             "#7fbc41"
            ],
            [
             0.9,
             "#4d9221"
            ],
            [
             1,
             "#276419"
            ]
           ],
           "sequential": [
            [
             0,
             "#0d0887"
            ],
            [
             0.1111111111111111,
             "#46039f"
            ],
            [
             0.2222222222222222,
             "#7201a8"
            ],
            [
             0.3333333333333333,
             "#9c179e"
            ],
            [
             0.4444444444444444,
             "#bd3786"
            ],
            [
             0.5555555555555556,
             "#d8576b"
            ],
            [
             0.6666666666666666,
             "#ed7953"
            ],
            [
             0.7777777777777778,
             "#fb9f3a"
            ],
            [
             0.8888888888888888,
             "#fdca26"
            ],
            [
             1,
             "#f0f921"
            ]
           ],
           "sequentialminus": [
            [
             0,
             "#0d0887"
            ],
            [
             0.1111111111111111,
             "#46039f"
            ],
            [
             0.2222222222222222,
             "#7201a8"
            ],
            [
             0.3333333333333333,
             "#9c179e"
            ],
            [
             0.4444444444444444,
             "#bd3786"
            ],
            [
             0.5555555555555556,
             "#d8576b"
            ],
            [
             0.6666666666666666,
             "#ed7953"
            ],
            [
             0.7777777777777778,
             "#fb9f3a"
            ],
            [
             0.8888888888888888,
             "#fdca26"
            ],
            [
             1,
             "#f0f921"
            ]
           ]
          },
          "colorway": [
           "#636efa",
           "#EF553B",
           "#00cc96",
           "#ab63fa",
           "#FFA15A",
           "#19d3f3",
           "#FF6692",
           "#B6E880",
           "#FF97FF",
           "#FECB52"
          ],
          "font": {
           "color": "#2a3f5f"
          },
          "geo": {
           "bgcolor": "white",
           "lakecolor": "white",
           "landcolor": "#E5ECF6",
           "showlakes": true,
           "showland": true,
           "subunitcolor": "white"
          },
          "hoverlabel": {
           "align": "left"
          },
          "hovermode": "closest",
          "mapbox": {
           "style": "light"
          },
          "paper_bgcolor": "white",
          "plot_bgcolor": "#E5ECF6",
          "polar": {
           "angularaxis": {
            "gridcolor": "white",
            "linecolor": "white",
            "ticks": ""
           },
           "bgcolor": "#E5ECF6",
           "radialaxis": {
            "gridcolor": "white",
            "linecolor": "white",
            "ticks": ""
           }
          },
          "scene": {
           "xaxis": {
            "backgroundcolor": "#E5ECF6",
            "gridcolor": "white",
            "gridwidth": 2,
            "linecolor": "white",
            "showbackground": true,
            "ticks": "",
            "zerolinecolor": "white"
           },
           "yaxis": {
            "backgroundcolor": "#E5ECF6",
            "gridcolor": "white",
            "gridwidth": 2,
            "linecolor": "white",
            "showbackground": true,
            "ticks": "",
            "zerolinecolor": "white"
           },
           "zaxis": {
            "backgroundcolor": "#E5ECF6",
            "gridcolor": "white",
            "gridwidth": 2,
            "linecolor": "white",
            "showbackground": true,
            "ticks": "",
            "zerolinecolor": "white"
           }
          },
          "shapedefaults": {
           "line": {
            "color": "#2a3f5f"
           }
          },
          "ternary": {
           "aaxis": {
            "gridcolor": "white",
            "linecolor": "white",
            "ticks": ""
           },
           "baxis": {
            "gridcolor": "white",
            "linecolor": "white",
            "ticks": ""
           },
           "bgcolor": "#E5ECF6",
           "caxis": {
            "gridcolor": "white",
            "linecolor": "white",
            "ticks": ""
           }
          },
          "title": {
           "x": 0.05
          },
          "xaxis": {
           "automargin": true,
           "gridcolor": "white",
           "linecolor": "white",
           "ticks": "",
           "title": {
            "standoff": 15
           },
           "zerolinecolor": "white",
           "zerolinewidth": 2
          },
          "yaxis": {
           "automargin": true,
           "gridcolor": "white",
           "linecolor": "white",
           "ticks": "",
           "title": {
            "standoff": 15
           },
           "zerolinecolor": "white",
           "zerolinewidth": 2
          }
         }
        },
        "xaxis": {
         "anchor": "y",
         "domain": [
          0,
          1
         ]
        },
        "yaxis": {
         "anchor": "x",
         "domain": [
          0,
          1
         ]
        }
       }
      }
     },
     "metadata": {},
     "output_type": "display_data"
    }
   ],
   "source": [
    "env = LuxAI_S2() # create the environment object\n",
    "obs = env.reset(seed=865006116) # resets an environment with a seed\n",
    "\n",
    "# the observation is always composed of observations for both players.\n",
    "obs.keys(), obs[\"player_0\"].keys()\n",
    "\n",
    "# visualize the environment so far with rgb_array to get a quick look at the map\n",
    "# dark orange - high rubble, light orange - low rubble\n",
    "# blue = ice, yellow = ore\n",
    "img = env.render(\"rgb_array\", width=48, height=48)\n",
    "px.imshow(img).show()"
   ]
  },
  {
   "cell_type": "code",
   "execution_count": 542,
   "metadata": {},
   "outputs": [],
   "source": [
    "def remove_spawns_at_border(desirable_coordinates, map_width, map_height):\n",
    "    for x in range(0, map_width):\n",
    "        desirable_coordinates[0][x] = 0\n",
    "        desirable_coordinates[1][x] = 0\n",
    "        desirable_coordinates[map_width - 1][x] = 0\n",
    "        desirable_coordinates[map_width - 2][x] = 0\n",
    "\n",
    "    for y in range(0, map_height):\n",
    "        desirable_coordinates[0][x] = 0\n",
    "        desirable_coordinates[y][map_height - 1] = 0\n",
    "        desirable_coordinates[y][map_height - 2] = 0\n",
    "\n",
    "    return desirable_coordinates\n",
    "\n",
    "\n",
    "def set_coords_zero(desirable_coordinates, resource_indexes):\n",
    "    for x, y in resource_indexes:\n",
    "        try:\n",
    "            desirable_coordinates[x][y] = 0\n",
    "       \n",
    "        except IndexError:\n",
    "            continue\n",
    "\n",
    "    return desirable_coordinates\n",
    "\n",
    "\n",
    "def set_coords_one(desirable_coordinates, spawn_indexes):\n",
    "    for x, y in spawn_indexes:\n",
    "        try:\n",
    "            desirable_coordinates[x][y] = 1\n",
    "       \n",
    "        except IndexError:\n",
    "            continue\n",
    "\n",
    "    return desirable_coordinates\n",
    "\n",
    "\n",
    "def get_factory_tiles_from_center(x, y):\n",
    "    return np.array([\n",
    "        (x, y), # factory center\n",
    "        (x-1, y), (x, y-1), # left and top\n",
    "        (x+1, y), (x, y+1), # right and bottom\n",
    "        (x-1, y-1), (x+1, y-1), # diagonals\n",
    "        (x-1, y+1), (x+1, y+1), # diagonals\n",
    "    ]) \n",
    "    '''\n",
    "    [.][.][.]\n",
    "    [.][.][.]\n",
    "    [.][.][.]\n",
    "    '''\n",
    "\n",
    "\n",
    "def get_factory_occupied_tiles(x, y):\n",
    "    return np.array([\n",
    "        (x, y), # factory center\n",
    "        (x-1, y), (x, y-1), # left and top\n",
    "        (x+1, y), (x, y+1), # right and bottom\n",
    "        (x-1, y-1), (x+1, y-1), # diagonals\n",
    "        (x-1, y+1), (x+1, y+1), # diagonals\n",
    "        (x-2, y), (x, y-2), # left and top \n",
    "        (x+2, y), (x, y+2), # right and bottom \n",
    "        (x-2, y-1), (x-1, y-2), (x-2, y-2), # left and top diagonals \n",
    "        (x+2, y+1), (x+1, y+2), (x+2, y+2), # right and bottom diagonals \n",
    "        (x+2, y-1), (x+1, y-2), (x+2, y-2), # right and top diagonals \n",
    "        (x-2, y+1), (x-1, y+2), (x-2, y+2), # left and bottom diagonals \n",
    "        (x-3, y), (x, y-3), (x+3, y), (x, y+3), # left and top\n",
    "        (x-3, y), (x, y-3), (x+3, y), (x, y+3), # right and bottom\n",
    "        (x-3, y-1), (x-1, y-3), (x-3, y-3), # left and top diagonals \n",
    "        (x+3, y+1), (x+1, y+3), (x+3, y+3), # right and bottom diagonals \n",
    "        (x+3, y-1), (x+1, y-3), (x+3, y-3), # left and top diagonals \n",
    "        (x-3, y+1), (x-1, y+3), (x-3, y+3), # right and bottom diagonals \n",
    "\n",
    "    ]) \n",
    "    '''\n",
    "    [ ][ ][ ][ ][ ]\n",
    "    [ ][.][.][.][ ]\n",
    "    [ ][.][.][.][ ]\n",
    "    [ ][.][.][.][ ]\n",
    "    [ ][ ][ ][ ][ ]\n",
    "    '''\n",
    "\n",
    "\n",
    "def get_bordering_coords(x, y):\n",
    "    return np.array([\n",
    "        (x, y), # center\n",
    "        (x-1, y), (x, y-1), # left and top\n",
    "        (x+1, y), (x, y+1), # right and bottom\n",
    "        (x-1, y-1), (x+1, y-1), # diagonals\n",
    "        (x-1, y+1), (x+1, y+1), # diagonals\n",
    "    ])\n",
    "\n",
    "\n",
    "# function used by Archimedes for locating resource border coordinates\n",
    "def neighbors(x, y):\n",
    "    return np.array([\n",
    "        # commented to give buffer, avoiding placing factory on resource\n",
    "        # layer 1\n",
    "        #(x-1, y), (x, y-1), # left and top\n",
    "        #(x+1, y), (x, y+1), # right and bottom\n",
    "\n",
    "        # layer 2\n",
    "        (x-2, y), (x, y-2), # left and top \n",
    "        (x+2, y), (x, y+2), # right and bottom \n",
    "\n",
    "        (x-2, y-1), (x-1, y-2), # (x-2, y-2), # left and top diagonals \n",
    "        (x+2, y+1), (x+1, y+2), # (x+2, y+2), # right and bottom diagonals \n",
    "\n",
    "        (x+2, y-1), (x+1, y-2), # (x+2, y-2), # right and top diagonals \n",
    "        (x-2, y+1), (x-1, y+2), # (x-2, y+2), # left and bottom diagonals \n",
    "\n",
    "        # commented away to try to get factory right next to resource\n",
    "        # layer 3\n",
    "        #(x-3, y), (x, y-3), (x+3, y), (x, y+3), # left and top\n",
    "        #(x-3, y), (x, y-3), (x+3, y), (x, y+3), # right and bottom\n",
    "\n",
    "        #(x-3, y-1), (x-1, y-3), (x-3, y-3), # left and top diagonals \n",
    "        #(x+3, y+1), (x+1, y+3), (x+3, y+3), # right and bottom diagonals \n",
    "\n",
    "        #(x+3, y-1), (x+1, y-3), (x+3, y-3), # left and top diagonals \n",
    "        #(x-3, y+1), (x-1, y+3), (x-3, y+3), # right and bottom diagonals \n",
    "\n",
    "    ])\n",
    "    '''\n",
    "    [ ][.][.][.][ ]\n",
    "    [.][ ][ ][ ][.]\n",
    "    [.][ ][X][ ][.]\n",
    "    [.][ ][ ][ ][.]\n",
    "    [ ][.][.][.][ ]\n",
    "    '''\n",
    "\n",
    "\n",
    "# function used by Archimedes to check if tile is occupied by other bots\n",
    "def check_tile_occupation(game_state, unit_x, unit_y, direction, player, opponent):\n",
    "    friendly_bots = game_state.units[player]\n",
    "    hostile_bots = game_state.units[opponent]\n",
    "\n",
    "    friendly_coords = {(unit.pos[0], unit.pos[1]): unit.unit_type for (unit_id, unit) in friendly_bots.items()}\n",
    "    hostile_coords = {(unit.pos[0], unit.pos[1]): unit.unit_type for (unit_id, unit) in hostile_bots.items()}\n",
    "\n",
    "    # a[1] = direction (1 = up, 2 = right, 3 = down, 4 = left)\n",
    "    # move_deltas = np.array([0, -1], [1, 0], [0, 1], [-1, 0]])\n",
    "    bot_up = (unit_x, unit_y - 1)\n",
    "    bot_right = (unit_x + 1, unit_y)\n",
    "    bot_down = (unit_x, unit_y + 1)\n",
    "    bot_left = (unit_x - 1, unit_y)\n",
    "\n",
    "\n",
    "    # checks if no friendly is on direction tile, if none, direction remains, else set to 0\n",
    "    up_friendly = (bot_up not in friendly_coords) * 1\n",
    "    right_friendly = (bot_right not in friendly_coords) * 2\n",
    "    down_friendly = (bot_down not in friendly_coords) * 3\n",
    "    left_friendly = (bot_left not in friendly_coords) * 4\n",
    "\n",
    "    # checks if hostile bot is on direction tile, if there is one of type 'LIGHT', direction remains, else set to 0\n",
    "    up_hostile = True if (bot_up not in hostile_coords) or (bot_up in hostile_coords and hostile_coords[bot_up] == 'LIGHT' ) else False\n",
    "    right_hostile = True if (bot_up not in hostile_coords) or (bot_up in hostile_coords and hostile_coords[bot_up] == 'LIGHT' ) else False\n",
    "    down_hostile = True if (bot_up not in hostile_coords) or (bot_up in hostile_coords and hostile_coords[bot_up] == 'LIGHT' ) else False\n",
    "    left_hostile = True if (bot_up not in hostile_coords) or (bot_up in hostile_coords and hostile_coords[bot_up] == 'LIGHT' ) else False\n",
    "\n",
    "    '''\n",
    "    # this is where the hostile attack decision making will be placed, as distinguishing between light/heavy is important for combat\n",
    "    hostiles = [up_hostile, right_hostile, down_hostile, left_hostile]\n",
    "    '''\n",
    "    \n",
    "    # sets non occupied tile directions\n",
    "    up_free = up_friendly * up_hostile\n",
    "    right_free = right_friendly * right_hostile\n",
    "    down_free = down_friendly * down_hostile\n",
    "    left_free = left_friendly * left_hostile\n",
    "\n",
    "\n",
    "    # finds possible directions not occupied by friendly bots and hostile bots\n",
    "    directions = [up_free, right_free, down_free, left_free]\n",
    "    if direction in directions:\n",
    "        return direction\n",
    "    \n",
    "    elif sum(directions) > 0:\n",
    "        alt_directions = [d for d in directions if d > 0]\n",
    "        return random.choice(alt_directions)\n",
    "    '''\n",
    "    # this directs the random movement choice in the opposite axis to direction to keep the bot moving in the general direction\n",
    "    odd_direction = direction % 2 > 0\n",
    "    for alt_direction in directions:\n",
    "        alt_horisontal_directions = [d for d in directions if d > 0 and d % 2 == 0]\n",
    "        if odd_direction and len(alt_horisontal_directions) > 0:\n",
    "            return random.choice(alt_horisontal_directions)\n",
    "\n",
    "        alt_vertical_directions = [d for d in directions if d > 0 and d % 2 == 1]\n",
    "        if not odd_direction and len(alt_vertical_directions) > 0:\n",
    "            return random.choice(alt_vertical_directions)\n",
    "    '''\n",
    "\n",
    "    '''\n",
    "      []1\n",
    "    []2[][]4\n",
    "      []3\n",
    "    ''' \n",
    "\n",
    "    # if all direction tiles occupied with friendly bots, recharge recommended\n",
    "    return -1\n",
    "\n",
    "    \n",
    "\n",
    "class Archimedes_Lever():\n",
    "    def __init__(self, player: str, env_cfg: EnvConfig) -> None:\n",
    "        self.player = player\n",
    "        self.opp_player = \"player_1\" if self.player == \"player_0\" else \"player_0\"\n",
    "        #np.random.seed(0)\n",
    "        self.env_cfg: EnvConfig = env_cfg\n",
    "\n",
    "    # Setup of early game\n",
    "    def early_setup(self, step: int, obs, remainingOverageTime: int = 60):\n",
    "        if step == 0:\n",
    "            # bid 0 to not waste resources bidding and declare as the default faction\n",
    "            # you can bid -n to prefer going second or n to prefer going first in placement\n",
    "            return dict(faction=\"AlphaStrike\", bid=0)\n",
    "        else:\n",
    "            game_state = obs_to_game_state(step, self.env_cfg, obs)\n",
    "            my_turn_to_evaluate_spawns = my_turn_to_place_factory(game_state.teams[self.player].place_first, step)\n",
    "            if my_turn_to_evaluate_spawns:\n",
    "                print(\"if\", step, my_turn_to_evaluate_spawns, game_state.teams[self.player].factories_to_place)\n",
    "                ### Using numpy arrays, maps out desirable spawn locations\n",
    "\n",
    "                # gets border indexes of ore coordinates and ice coordinates\n",
    "                from sys import getsizeof\n",
    "\n",
    "                hash_indOre = np.transpose(np.where(game_state.board.ore > 0))\n",
    "                hash_indIce = np.transpose(np.where(game_state.board.ice > 0))\n",
    "                hash_indFactories = np.transpose(np.where(game_state.board.factory_occupancy_map >= 0))\n",
    "\n",
    "                print(\"hash_indOre\", getsizeof(hash_indOre))\n",
    "                print(\"hash_indIce\", getsizeof(hash_indIce))\n",
    "                print(\"hash_indFactories\", getsizeof(hash_indFactories))\n",
    "\n",
    "                array_spawns = np.unique(np.concatenate(\n",
    "                    [neighbors(*ind) for ind in hash_indIce],\n",
    "                    #[neighbors(*ind) for ind in hash_iceSpawns],\n",
    "                    ), axis=0)\n",
    "\n",
    "                array_occupied_coords = np.unique(np.concatenate([get_factory_occupied_tiles(*i) for i in hash_indFactories]), axis=0) if len(hash_indFactories) > 0 else []\n",
    "                array_invalid_coords = np.unique(np.concatenate(\n",
    "                    (np.concatenate([get_bordering_coords(*ind) for ind in hash_indOre], axis=0),\n",
    "                    np.concatenate([get_bordering_coords(*ind) for ind in hash_indIce], axis=0))\n",
    "                ), axis=0)\n",
    "\n",
    "                    \n",
    "                array_inside_map_spawns = [(np.array([c[0], c[1]]), game_state.board.rubble[c[0]][c[1]]) for c in array_spawns if (c[0] <= 46 and c[0] >= 1) and (c[1] <= 46 and c[1] >= 1)]\n",
    "                array_valid_spawns = [coord for coord in array_inside_map_spawns if \n",
    "                    all(all(coord[0] == inv_coord) == False for inv_coord in array_invalid_coords) and \n",
    "                    all(all(coord[0] == occ_coord) == False for occ_coord in array_occupied_coords)\n",
    "                    ]\n",
    "                \n",
    "\n",
    "                print(\"spawns\", len(array_spawns), getsizeof(array_spawns))\n",
    "                print(\"invalid\", len(array_invalid_coords), getsizeof(array_invalid_coords))\n",
    "                print(\"occupied\", len(array_occupied_coords), getsizeof(array_occupied_coords))\n",
    "                print(\"inside map\", len(array_inside_map_spawns), getsizeof(array_inside_map_spawns))\n",
    "                print(\"valid spawns\", len(array_valid_spawns), getsizeof(array_valid_spawns))\n",
    "\n",
    "\n",
    "\n",
    "                '''\n",
    "                desirable_coordinates_filtered = np.copy(game_state.board.valid_spawns_mask)\n",
    "                desirable_coordinates_filtered[desirable_coordinates_filtered == 1] = 0\n",
    "                # TODO mirror filtering here\n",
    "                # visualizes the map and AI vision\n",
    "                img = env.render(\"rgb_array\", width=48, height=48)\n",
    "                #px.imshow(game_state.board.rubble.T).show()\n",
    "                px.imshow(img).show()\n",
    "                px.imshow(desirable_coordinates_filtered.T).show()\n",
    "                '''\n",
    "\n",
    "\n",
    "                ### Factory placement period\n",
    "                # how much water and metal you have in your starting pool to give to new factories\n",
    "                water_left = game_state.teams[self.player].water\n",
    "                metal_left = game_state.teams[self.player].metal\n",
    "                \n",
    "                # how many factories you have left to place\n",
    "                factories_to_place = game_state.teams[self.player].factories_to_place\n",
    "\n",
    "                # whether it is your turn to place a factory\n",
    "                my_turn_to_place = my_turn_to_place_factory(game_state.teams[self.player].place_first, step)\n",
    "                if factories_to_place > 0 and my_turn_to_place:\n",
    "                    # we will spawn our factory in a random location with 150 metal and water if it is our turn to place\n",
    "                    array_sorted_spawns = sorted(array_valid_spawns, key=lambda coord: coord[1])\n",
    "                    spawn_loc = array_sorted_spawns[0][0]\n",
    "\n",
    "                    print(spawn_loc)\n",
    "                    img = env.render(\"rgb_array\", width=48, height=48)\n",
    "                    px.imshow(img).show()\n",
    "                    px.imshow(game_state.board.valid_spawns_mask.T).show()\n",
    "                    return dict(spawn=spawn_loc, metal=150, water=150)\n",
    "\n",
    "            else:\n",
    "                img = env.render(\"rgb_array\", width=48, height=48)\n",
    "                px.imshow(img).show()\n",
    "                px.imshow(game_state.board.valid_spawns_mask.T).show()\n",
    "                print(\"else\", step, my_turn_to_evaluate_spawns, game_state.teams[self.player].factories_to_place)\n",
    "                # returns empty dictionary if no decisions were reached\n",
    "                return dict()\n",
    "\n",
    "\n",
    "    \n",
    "    # Setup of logic in the act phase\n",
    "    def act(self, step: int, obs, remainingOverageTime: int = 60):\n",
    "        # info used to make decisions in the act phase\n",
    "        actions = dict()\n",
    "        game_state: GameState = obs_to_game_state(step, self.env_cfg, obs)\n",
    "        factories = game_state.factories[self.player]\n",
    "        game_state.teams[self.player].place_first\n",
    "\n",
    "        # storing of info about factories\n",
    "        factory_tiles, factory_units = [], []\n",
    "        for unit_id, factory in factories.items():\n",
    "            tiles = get_factory_tiles_from_center(x=factory.pos[0], y=factory.pos[1])\n",
    "            for tile in tiles:\n",
    "                factory_tiles += [tile]\n",
    "            factory_units += [factory]\n",
    "        factory_tiles = np.array(factory_tiles)\n",
    "\n",
    "        ### Creation of bots\n",
    "        heavy_bot_cost = self.env_cfg.ROBOTS[\"HEAVY\"]\n",
    "        light_bot_cost = self.env_cfg.ROBOTS[\"LIGHT\"]\n",
    "\n",
    "        # heavy bots\n",
    "        for unit_id, factory in factories.items():\n",
    "            if factory.power >= heavy_bot_cost.POWER_COST and factory.cargo.metal >= heavy_bot_cost.METAL_COST:\n",
    "                actions[unit_id] = factory.build_heavy()\n",
    "\n",
    "        \n",
    "        # light bots\n",
    "        if game_state.real_env_steps >= 2:\n",
    "            for unit_id, factory in factories.items():\n",
    "                if factory.power >= light_bot_cost.POWER_COST and factory.cargo.metal >= light_bot_cost.METAL_COST:\n",
    "                    actions[unit_id] = factory.build_light()\n",
    "\n",
    "\n",
    "        \n",
    "\n",
    "        print(self.player)\n",
    "        print(\"turn:\", game_state.real_env_steps)\n",
    "\n",
    "        ### Decides when the factories should start growing Lichen\n",
    "        # Watering lichen if at right turn\n",
    "        '''\n",
    "        # starting idea of some sort of regulating mechanism on when to start watering\n",
    "        # see google sheets for optimal time to start watering by looking at water cargo,\n",
    "        # number of turns left, \n",
    "        # and the water cost from the calculus of water consumption growth\n",
    "        '''\n",
    "        growth_turn = 990 - 300 # calculations suggenst 77 turns prior\n",
    "        grow = game_state.real_env_steps >= growth_turn\n",
    "        for factory_id, factory in factories.items():\n",
    "            #print(factory_id, \"has;\", factory.cargo.metal, \"metal\", factory.cargo.water, \"water\", factory.cargo.ice, \"ice\", factory.power, \"power\", \"watering cost: \", factory.water_cost(game_state))\n",
    "            if game_state.real_env_steps >= growth_turn:\n",
    "                actions[factory_id] = factory.water()\n",
    "       \n",
    "        \n",
    "        ### Finds all ice and ore tiles\n",
    "        ice_map = game_state.board.ice \n",
    "        ore_map = game_state.board.ore \n",
    "        rubble_map = game_state.board.rubble\n",
    "        ice_tile_locations = np.argwhere(ice_map == 1) # numpy magic to get the position of every ice tile\n",
    "        ore_tile_locations = np.argwhere(ore_map == 1) # numpy magic to get the position of every ore tile\n",
    "        rubble_tile_locations = np.argwhere(rubble_map > 0) # numpy magic to get the position of every rubble tile\n",
    "        closest_rubble_tile = rubble_tile_locations[0]\n",
    "        units = game_state.units[self.player]\n",
    "\n",
    "        for unit_id, unit in units.items():\n",
    "            isHeavy = unit.unit_type == 'HEAVY'\n",
    "            isLight = unit.unit_type == 'LIGHT'\n",
    "\n",
    "            # info about closest map tiles\n",
    "            closest_factory_tile = sorted(factory_tiles, key=lambda p: (p[0] - unit.pos[0])**2 + (p[1] - unit.pos[1])**2 )[0]\n",
    "            closest_ice_tile = sorted(ice_tile_locations, key=lambda p: (p[0] - unit.pos[0])**2 + (p[1] - unit.pos[1])**2 )[0]\n",
    "            closest_ore_tiles = sorted(ore_tile_locations, key=lambda p: (p[0] - unit.pos[0])**2 + (p[1] - unit.pos[1])**2 )\n",
    "            closest_rubble_tiles = sorted(rubble_tile_locations, key=lambda p: (p[0] - unit.pos[0])**2 + (p[1] - unit.pos[1])**2 )\n",
    "            closest_ore_tile = closest_ore_tiles[0]\n",
    "            closest_rubble_tile = closest_rubble_tiles[0]\n",
    "            light_ore_miners = 1\n",
    "            mine_assignments = 0\n",
    "            rubble_assignments = 0\n",
    "\n",
    "            cargo_limit_ice = 960\n",
    "            cargo_limit_ore = 50\n",
    "            on_factory = all(unit.pos == closest_factory_tile)\n",
    "            ajacent_factory = 1 >= abs((unit.pos[0] - closest_factory_tile[0])**2 + (unit.pos[1] - closest_factory_tile[1])**2)\n",
    "\n",
    "\n",
    "            ### Heavy bot logic\n",
    "            if isHeavy:\n",
    "                below_power_threshold_heavy = unit.power <= 100\n",
    "                recharge_need_heavy = math.floor(1000 - unit.power)\n",
    "                on_ice = all(unit.pos == closest_ice_tile)\n",
    "\n",
    "                # Print out bot info \n",
    "                print(unit.unit_type, unit_id, \"at:\", unit.pos, \"power and ice:\", unit.power, unit.cargo.ice, \"unit queue:\", len(unit.action_queue))\n",
    "\n",
    "                # on ice, but not over cargo capacity limit\n",
    "                if on_ice and unit.cargo.ice < cargo_limit_ice and not below_power_threshold_heavy:\n",
    "                    actions[unit_id] = [unit.dig(repeat=0)]\n",
    "                    #print(unit_id, \"digging\")\n",
    "                \n",
    "                # not on ice, not over cargo capacity limit, moves to closest ice\n",
    "                elif not on_ice and unit.cargo.ice < cargo_limit_ice and not below_power_threshold_heavy:\n",
    "                    direction = direction_to(unit.pos, closest_ice_tile)\n",
    "                    actions[unit_id] = [unit.move(direction, repeat=0)]\n",
    "                    #print(unit_id, \"move dig\")\n",
    "                \n",
    "                # on factory, below power threshold, pickup power\n",
    "                elif on_factory and below_power_threshold_heavy:\n",
    "                    direction = direction_to(unit.pos, closest_factory_tile)\n",
    "                    actions[unit_id] = [unit.pickup(4, recharge_need_heavy, repeat=0)]\n",
    "                    #print(unit_id, \"recharging\")\n",
    "                \n",
    "                # not on factory, below power threshold. move on factory\n",
    "                elif not on_factory and below_power_threshold_heavy:\n",
    "                    direction = direction_to(unit.pos, closest_factory_tile)\n",
    "                    actions[unit_id] = [unit.move(direction, repeat=0)]\n",
    "                    #print(unit_id, \"move recharge\")\n",
    "\n",
    "                # ajacent to factory, over cargo limit \n",
    "                elif ajacent_factory and unit.cargo.ice >= cargo_limit_ice and not below_power_threshold_heavy:\n",
    "                    direction = direction_to(unit.pos, closest_factory_tile)\n",
    "                    actions[unit_id] = [unit.transfer(direction, 0, unit.cargo.ice, repeat=0)]\n",
    "                    #print(unit_id, \"transfer\")\n",
    "\n",
    "                # not ajacent to factory, moves to closest factory\n",
    "                elif not ajacent_factory and unit.cargo.ice >= cargo_limit_ice and not below_power_threshold_heavy:\n",
    "                    direction = direction_to(unit.pos, closest_factory_tile)\n",
    "                    actions[unit_id] = [unit.move(direction, repeat=0)]\n",
    "                    #print(unit_id, \"move transfer\")\n",
    "\n",
    "\n",
    "            ### Finds all ore tiles, sorts by proximity to light bot\n",
    "            ### Light bot logic\n",
    "            if isLight:\n",
    "                # decides if the bot should be assigned an ore location or find closest rubble\n",
    "                on_ore_assignment = mine_assignments < light_ore_miners\n",
    "                if on_ore_assignment and mine_assignments < len(closest_ore_tiles):\n",
    "                    closest_ore_tile = closest_ore_tiles[mine_assignments]\n",
    "                    mine_assignments += 1\n",
    "                if not on_ore_assignment and rubble_assignments < len(closest_rubble_tiles):\n",
    "                    rubble_assignments += 1\n",
    "\n",
    "                power_threshold_light = 6\n",
    "                below_power_threshold_light = unit.power < power_threshold_light\n",
    "                power_for_dig = unit.power >= unit.dig_cost(game_state)\n",
    "                recharge_need_light = math.floor(150 - unit.power)\n",
    "                on_ore = all(unit.pos == closest_ore_tile)\n",
    "                on_rubble = all(unit.pos == closest_rubble_tile) \n",
    "\n",
    "                # TODO remove the ore assignment to spread the bots\n",
    "\n",
    "                # Print out bot info \n",
    "                print(unit.unit_type, unit_id, \"at:\", unit.pos, \"power and ore:\", unit.power, unit.cargo.ore, \"unit queue:\", len(unit.action_queue))\n",
    "\n",
    "                # on ore, not on rubble, under cargo limit, not below power threshold. dig ore\n",
    "                if on_ore and not on_rubble and unit.cargo.ore < cargo_limit_ore and not below_power_threshold_light:\n",
    "                    actions[unit_id] = [unit.dig(repeat=0)]\n",
    "                    #print(unit_id, \"dig ore\")\n",
    "                \n",
    "\n",
    "                # on rubble, under cargo limit, not below power threshold. dig rubble\n",
    "                elif on_rubble and unit.cargo.ore < cargo_limit_ore and not below_power_threshold_light:\n",
    "                    actions[unit_id] = [unit.dig(repeat=0)]\n",
    "                    #print(unit_id, \"dig rubble\")\n",
    "                \n",
    "\n",
    "                # on ore assignment, not on ore, not on rubble, under cargo limit, not below power threshold. move towards ore\n",
    "                elif on_ore_assignment and not on_ore and not on_rubble and unit.cargo.ore < cargo_limit_ore and not below_power_threshold_light:\n",
    "                    direction = direction_to(unit.pos, closest_ore_tile)\n",
    "                    newDirection = check_tile_occupation(game_state=game_state,\n",
    "                        unit_x=unit.pos[0],\n",
    "                        unit_y=unit.pos[1],\n",
    "                        direction=direction,\n",
    "                        player=self.player,\n",
    "                        opponent=self.opp_player\n",
    "                    )\n",
    "                \n",
    "                    if newDirection == -1:\n",
    "                        actions[unit_id] = [unit.recharge(unit.power + power_threshold_light)]\n",
    "                        #print(unit_id, \"recharge instead of moving\")\n",
    "                        \n",
    "                    else:\n",
    "                        actions[unit_id] = [unit.move(newDirection, repeat=0)]\n",
    "                        #print(unit_id, \"move to ore\")\n",
    "                    \n",
    "\n",
    "                # not on ore assignment, not on ore, not on rubble, under cargo limit, not below power threshold. move towards rubble\n",
    "                elif not on_ore_assignment and not on_ore and not on_rubble and unit.cargo.ore < cargo_limit_ore and not below_power_threshold_light:\n",
    "                    direction = direction_to(unit.pos, closest_rubble_tile)\n",
    "                    newDirection = check_tile_occupation(game_state=game_state,\n",
    "                        unit_x=unit.pos[0],\n",
    "                        unit_y=unit.pos[1],\n",
    "                        direction=direction,\n",
    "                        player=self.player,\n",
    "                        opponent=self.opp_player\n",
    "                    )\n",
    "\n",
    "                    if newDirection == -1:\n",
    "                        actions[unit_id] = [unit.recharge(unit.power + power_threshold_light)]\n",
    "                        #print(unit_id, \"recharge instead of moving\")\n",
    "                        \n",
    "                    else:\n",
    "                        actions[unit_id] = [unit.move(newDirection, repeat=0)]\n",
    "                        #print(unit_id, \"move to rubble\")\n",
    "\n",
    "\n",
    "                # below power threshold, no actions in queue. recharge to power threshold\n",
    "                elif below_power_threshold_light and len(unit.action_queue) < 1:\n",
    "                    actions[unit_id] = [unit.recharge(power_threshold_light)]\n",
    "                    #print(unit_id, \"recharge\")\n",
    "                \n",
    "\n",
    "                # ajacent to factory, at/over cargo limit, not below power threshold. transfer ore\n",
    "                elif ajacent_factory and unit.cargo.ore >= cargo_limit_ore and not below_power_threshold_light:\n",
    "                    direction = direction_to(unit.pos, closest_factory_tile)\n",
    "                    actions[unit_id] = [unit.transfer(direction, 1, unit.cargo.ore)]\n",
    "                    #print(unit_id, \"transfer cargo\")\n",
    "                \n",
    "\n",
    "                # not ajacent to factory, at/over cargo limit, not below power threshold. move to factory\n",
    "                elif not ajacent_factory and unit.cargo.ore >= cargo_limit_ore and not below_power_threshold_light:\n",
    "                    direction = direction_to(unit.pos, closest_factory_tile)\n",
    "                    actions[unit_id] = [unit.move(direction, repeat=0)]\n",
    "                    #print(unit_id, \"move to transfer cargo\")\n",
    "\n",
    "                \n",
    "                # wait for recharging queue to finish\n",
    "                else:\n",
    "                    #print(\"do nothing\")\n",
    "                    continue\n",
    "\n",
    "\n",
    "            \n",
    "\n",
    "        print()\n",
    "\n",
    "\n",
    "\n",
    "\n",
    "        \n",
    "\n",
    "        return actions\n",
    "\n"
   ]
  },
  {
   "cell_type": "code",
   "execution_count": 543,
   "metadata": {},
   "outputs": [
    {
     "data": {
      "application/vnd.plotly.v1+json": {
       "config": {
        "plotlyServerURL": "https://plot.ly"
       },
       "data": [
        {
         "hovertemplate": "x: %{x}<br>y: %{y}<br>color: [%{z[0]}, %{z[1]}, %{z[2]}]<extra></extra>",
         "name": "0",
         "source": "data:image/png;base64,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",
         "type": "image",
         "xaxis": "x",
         "yaxis": "y"
        }
       ],
       "layout": {
        "margin": {
         "t": 60
        },
        "template": {
         "data": {
          "bar": [
           {
            "error_x": {
             "color": "#2a3f5f"
            },
            "error_y": {
             "color": "#2a3f5f"
            },
            "marker": {
             "line": {
              "color": "#E5ECF6",
              "width": 0.5
             },
             "pattern": {
              "fillmode": "overlay",
              "size": 10,
              "solidity": 0.2
             }
            },
            "type": "bar"
           }
          ],
          "barpolar": [
           {
            "marker": {
             "line": {
              "color": "#E5ECF6",
              "width": 0.5
             },
             "pattern": {
              "fillmode": "overlay",
              "size": 10,
              "solidity": 0.2
             }
            },
            "type": "barpolar"
           }
          ],
          "carpet": [
           {
            "aaxis": {
             "endlinecolor": "#2a3f5f",
             "gridcolor": "white",
             "linecolor": "white",
             "minorgridcolor": "white",
             "startlinecolor": "#2a3f5f"
            },
            "baxis": {
             "endlinecolor": "#2a3f5f",
             "gridcolor": "white",
             "linecolor": "white",
             "minorgridcolor": "white",
             "startlinecolor": "#2a3f5f"
            },
            "type": "carpet"
           }
          ],
          "choropleth": [
           {
            "colorbar": {
             "outlinewidth": 0,
             "ticks": ""
            },
            "type": "choropleth"
           }
          ],
          "contour": [
           {
            "colorbar": {
             "outlinewidth": 0,
             "ticks": ""
            },
            "colorscale": [
             [
              0,
              "#0d0887"
             ],
             [
              0.1111111111111111,
              "#46039f"
             ],
             [
              0.2222222222222222,
              "#7201a8"
             ],
             [
              0.3333333333333333,
              "#9c179e"
             ],
             [
              0.4444444444444444,
              "#bd3786"
             ],
             [
              0.5555555555555556,
              "#d8576b"
             ],
             [
              0.6666666666666666,
              "#ed7953"
             ],
             [
              0.7777777777777778,
              "#fb9f3a"
             ],
             [
              0.8888888888888888,
              "#fdca26"
             ],
             [
              1,
              "#f0f921"
             ]
            ],
            "type": "contour"
           }
          ],
          "contourcarpet": [
           {
            "colorbar": {
             "outlinewidth": 0,
             "ticks": ""
            },
            "type": "contourcarpet"
           }
          ],
          "heatmap": [
           {
            "colorbar": {
             "outlinewidth": 0,
             "ticks": ""
            },
            "colorscale": [
             [
              0,
              "#0d0887"
             ],
             [
              0.1111111111111111,
              "#46039f"
             ],
             [
              0.2222222222222222,
              "#7201a8"
             ],
             [
              0.3333333333333333,
              "#9c179e"
             ],
             [
              0.4444444444444444,
              "#bd3786"
             ],
             [
              0.5555555555555556,
              "#d8576b"
             ],
             [
              0.6666666666666666,
              "#ed7953"
             ],
             [
              0.7777777777777778,
              "#fb9f3a"
             ],
             [
              0.8888888888888888,
              "#fdca26"
             ],
             [
              1,
              "#f0f921"
             ]
            ],
            "type": "heatmap"
           }
          ],
          "heatmapgl": [
           {
            "colorbar": {
             "outlinewidth": 0,
             "ticks": ""
            },
            "colorscale": [
             [
              0,
              "#0d0887"
             ],
             [
              0.1111111111111111,
              "#46039f"
             ],
             [
              0.2222222222222222,
              "#7201a8"
             ],
             [
              0.3333333333333333,
              "#9c179e"
             ],
             [
              0.4444444444444444,
              "#bd3786"
             ],
             [
              0.5555555555555556,
              "#d8576b"
             ],
             [
              0.6666666666666666,
              "#ed7953"
             ],
             [
              0.7777777777777778,
              "#fb9f3a"
             ],
             [
              0.8888888888888888,
              "#fdca26"
             ],
             [
              1,
              "#f0f921"
             ]
            ],
            "type": "heatmapgl"
           }
          ],
          "histogram": [
           {
            "marker": {
             "pattern": {
              "fillmode": "overlay",
              "size": 10,
              "solidity": 0.2
             }
            },
            "type": "histogram"
           }
          ],
          "histogram2d": [
           {
            "colorbar": {
             "outlinewidth": 0,
             "ticks": ""
            },
            "colorscale": [
             [
              0,
              "#0d0887"
             ],
             [
              0.1111111111111111,
              "#46039f"
             ],
             [
              0.2222222222222222,
              "#7201a8"
             ],
             [
              0.3333333333333333,
              "#9c179e"
             ],
             [
              0.4444444444444444,
              "#bd3786"
             ],
             [
              0.5555555555555556,
              "#d8576b"
             ],
             [
              0.6666666666666666,
              "#ed7953"
             ],
             [
              0.7777777777777778,
              "#fb9f3a"
             ],
             [
              0.8888888888888888,
              "#fdca26"
             ],
             [
              1,
              "#f0f921"
             ]
            ],
            "type": "histogram2d"
           }
          ],
          "histogram2dcontour": [
           {
            "colorbar": {
             "outlinewidth": 0,
             "ticks": ""
            },
            "colorscale": [
             [
              0,
              "#0d0887"
             ],
             [
              0.1111111111111111,
              "#46039f"
             ],
             [
              0.2222222222222222,
              "#7201a8"
             ],
             [
              0.3333333333333333,
              "#9c179e"
             ],
             [
              0.4444444444444444,
              "#bd3786"
             ],
             [
              0.5555555555555556,
              "#d8576b"
             ],
             [
              0.6666666666666666,
              "#ed7953"
             ],
             [
              0.7777777777777778,
              "#fb9f3a"
             ],
             [
              0.8888888888888888,
              "#fdca26"
             ],
             [
              1,
              "#f0f921"
             ]
            ],
            "type": "histogram2dcontour"
           }
          ],
          "mesh3d": [
           {
            "colorbar": {
             "outlinewidth": 0,
             "ticks": ""
            },
            "type": "mesh3d"
           }
          ],
          "parcoords": [
           {
            "line": {
             "colorbar": {
              "outlinewidth": 0,
              "ticks": ""
             }
            },
            "type": "parcoords"
           }
          ],
          "pie": [
           {
            "automargin": true,
            "type": "pie"
           }
          ],
          "scatter": [
           {
            "fillpattern": {
             "fillmode": "overlay",
             "size": 10,
             "solidity": 0.2
            },
            "type": "scatter"
           }
          ],
          "scatter3d": [
           {
            "line": {
             "colorbar": {
              "outlinewidth": 0,
              "ticks": ""
             }
            },
            "marker": {
             "colorbar": {
              "outlinewidth": 0,
              "ticks": ""
             }
            },
            "type": "scatter3d"
           }
          ],
          "scattercarpet": [
           {
            "marker": {
             "colorbar": {
              "outlinewidth": 0,
              "ticks": ""
             }
            },
            "type": "scattercarpet"
           }
          ],
          "scattergeo": [
           {
            "marker": {
             "colorbar": {
              "outlinewidth": 0,
              "ticks": ""
             }
            },
            "type": "scattergeo"
           }
          ],
          "scattergl": [
           {
            "marker": {
             "colorbar": {
              "outlinewidth": 0,
              "ticks": ""
             }
            },
            "type": "scattergl"
           }
          ],
          "scattermapbox": [
           {
            "marker": {
             "colorbar": {
              "outlinewidth": 0,
              "ticks": ""
             }
            },
            "type": "scattermapbox"
           }
          ],
          "scatterpolar": [
           {
            "marker": {
             "colorbar": {
              "outlinewidth": 0,
              "ticks": ""
             }
            },
            "type": "scatterpolar"
           }
          ],
          "scatterpolargl": [
           {
            "marker": {
             "colorbar": {
              "outlinewidth": 0,
              "ticks": ""
             }
            },
            "type": "scatterpolargl"
           }
          ],
          "scatterternary": [
           {
            "marker": {
             "colorbar": {
              "outlinewidth": 0,
              "ticks": ""
             }
            },
            "type": "scatterternary"
           }
          ],
          "surface": [
           {
            "colorbar": {
             "outlinewidth": 0,
             "ticks": ""
            },
            "colorscale": [
             [
              0,
              "#0d0887"
             ],
             [
              0.1111111111111111,
              "#46039f"
             ],
             [
              0.2222222222222222,
              "#7201a8"
             ],
             [
              0.3333333333333333,
              "#9c179e"
             ],
             [
              0.4444444444444444,
              "#bd3786"
             ],
             [
              0.5555555555555556,
              "#d8576b"
             ],
             [
              0.6666666666666666,
              "#ed7953"
             ],
             [
              0.7777777777777778,
              "#fb9f3a"
             ],
             [
              0.8888888888888888,
              "#fdca26"
             ],
             [
              1,
              "#f0f921"
             ]
            ],
            "type": "surface"
           }
          ],
          "table": [
           {
            "cells": {
             "fill": {
              "color": "#EBF0F8"
             },
             "line": {
              "color": "white"
             }
            },
            "header": {
             "fill": {
              "color": "#C8D4E3"
             },
             "line": {
              "color": "white"
             }
            },
            "type": "table"
           }
          ]
         },
         "layout": {
          "annotationdefaults": {
           "arrowcolor": "#2a3f5f",
           "arrowhead": 0,
           "arrowwidth": 1
          },
          "autotypenumbers": "strict",
          "coloraxis": {
           "colorbar": {
            "outlinewidth": 0,
            "ticks": ""
           }
          },
          "colorscale": {
           "diverging": [
            [
             0,
             "#8e0152"
            ],
            [
             0.1,
             "#c51b7d"
            ],
            [
             0.2,
             "#de77ae"
            ],
            [
             0.3,
             "#f1b6da"
            ],
            [
             0.4,
             "#fde0ef"
            ],
            [
             0.5,
             "#f7f7f7"
            ],
            [
             0.6,
             "#e6f5d0"
            ],
            [
             0.7,
             "#b8e186"
            ],
            [
             0.8,
             "#7fbc41"
            ],
            [
             0.9,
             "#4d9221"
            ],
            [
             1,
             "#276419"
            ]
           ],
           "sequential": [
            [
             0,
             "#0d0887"
            ],
            [
             0.1111111111111111,
             "#46039f"
            ],
            [
             0.2222222222222222,
             "#7201a8"
            ],
            [
             0.3333333333333333,
             "#9c179e"
            ],
            [
             0.4444444444444444,
             "#bd3786"
            ],
            [
             0.5555555555555556,
             "#d8576b"
            ],
            [
             0.6666666666666666,
             "#ed7953"
            ],
            [
             0.7777777777777778,
             "#fb9f3a"
            ],
            [
             0.8888888888888888,
             "#fdca26"
            ],
            [
             1,
             "#f0f921"
            ]
           ],
           "sequentialminus": [
            [
             0,
             "#0d0887"
            ],
            [
             0.1111111111111111,
             "#46039f"
            ],
            [
             0.2222222222222222,
             "#7201a8"
            ],
            [
             0.3333333333333333,
             "#9c179e"
            ],
            [
             0.4444444444444444,
             "#bd3786"
            ],
            [
             0.5555555555555556,
             "#d8576b"
            ],
            [
             0.6666666666666666,
             "#ed7953"
            ],
            [
             0.7777777777777778,
             "#fb9f3a"
            ],
            [
             0.8888888888888888,
             "#fdca26"
            ],
            [
             1,
             "#f0f921"
            ]
           ]
          },
          "colorway": [
           "#636efa",
           "#EF553B",
           "#00cc96",
           "#ab63fa",
           "#FFA15A",
           "#19d3f3",
           "#FF6692",
           "#B6E880",
           "#FF97FF",
           "#FECB52"
          ],
          "font": {
           "color": "#2a3f5f"
          },
          "geo": {
           "bgcolor": "white",
           "lakecolor": "white",
           "landcolor": "#E5ECF6",
           "showlakes": true,
           "showland": true,
           "subunitcolor": "white"
          },
          "hoverlabel": {
           "align": "left"
          },
          "hovermode": "closest",
          "mapbox": {
           "style": "light"
          },
          "paper_bgcolor": "white",
          "plot_bgcolor": "#E5ECF6",
          "polar": {
           "angularaxis": {
            "gridcolor": "white",
            "linecolor": "white",
            "ticks": ""
           },
           "bgcolor": "#E5ECF6",
           "radialaxis": {
            "gridcolor": "white",
            "linecolor": "white",
            "ticks": ""
           }
          },
          "scene": {
           "xaxis": {
            "backgroundcolor": "#E5ECF6",
            "gridcolor": "white",
            "gridwidth": 2,
            "linecolor": "white",
            "showbackground": true,
            "ticks": "",
            "zerolinecolor": "white"
           },
           "yaxis": {
            "backgroundcolor": "#E5ECF6",
            "gridcolor": "white",
            "gridwidth": 2,
            "linecolor": "white",
            "showbackground": true,
            "ticks": "",
            "zerolinecolor": "white"
           },
           "zaxis": {
            "backgroundcolor": "#E5ECF6",
            "gridcolor": "white",
            "gridwidth": 2,
            "linecolor": "white",
            "showbackground": true,
            "ticks": "",
            "zerolinecolor": "white"
           }
          },
          "shapedefaults": {
           "line": {
            "color": "#2a3f5f"
           }
          },
          "ternary": {
           "aaxis": {
            "gridcolor": "white",
            "linecolor": "white",
            "ticks": ""
           },
           "baxis": {
            "gridcolor": "white",
            "linecolor": "white",
            "ticks": ""
           },
           "bgcolor": "#E5ECF6",
           "caxis": {
            "gridcolor": "white",
            "linecolor": "white",
            "ticks": ""
           }
          },
          "title": {
           "x": 0.05
          },
          "xaxis": {
           "automargin": true,
           "gridcolor": "white",
           "linecolor": "white",
           "ticks": "",
           "title": {
            "standoff": 15
           },
           "zerolinecolor": "white",
           "zerolinewidth": 2
          },
          "yaxis": {
           "automargin": true,
           "gridcolor": "white",
           "linecolor": "white",
           "ticks": "",
           "title": {
            "standoff": 15
           },
           "zerolinecolor": "white",
           "zerolinewidth": 2
          }
         }
        },
        "xaxis": {
         "anchor": "y",
         "domain": [
          0,
          1
         ]
        },
        "yaxis": {
         "anchor": "x",
         "domain": [
          0,
          1
         ]
        }
       }
      }
     },
     "metadata": {},
     "output_type": "display_data"
    },
    {
     "name": "stdout",
     "output_type": "stream",
     "text": [
      "if 1 True 4\n",
      "hash_indOre 128\n",
      "hash_indIce 128\n",
      "hash_indFactories 128\n",
      "spawns 290 128\n",
      "invalid 364 128\n",
      "occupied 0 56\n",
      "inside map 255 2200\n",
      "valid spawns 143 1240\n",
      "[5 7]\n"
     ]
    },
    {
     "data": {
      "application/vnd.plotly.v1+json": {
       "config": {
        "plotlyServerURL": "https://plot.ly"
       },
       "data": [
        {
         "hovertemplate": "x: %{x}<br>y: %{y}<br>color: [%{z[0]}, %{z[1]}, %{z[2]}]<extra></extra>",
         "name": "0",
         "source": "data:image/png;base64,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",
         "type": "image",
         "xaxis": "x",
         "yaxis": "y"
        }
       ],
       "layout": {
        "margin": {
         "t": 60
        },
        "template": {
         "data": {
          "bar": [
           {
            "error_x": {
             "color": "#2a3f5f"
            },
            "error_y": {
             "color": "#2a3f5f"
            },
            "marker": {
             "line": {
              "color": "#E5ECF6",
              "width": 0.5
             },
             "pattern": {
              "fillmode": "overlay",
              "size": 10,
              "solidity": 0.2
             }
            },
            "type": "bar"
           }
          ],
          "barpolar": [
           {
            "marker": {
             "line": {
              "color": "#E5ECF6",
              "width": 0.5
             },
             "pattern": {
              "fillmode": "overlay",
              "size": 10,
              "solidity": 0.2
             }
            },
            "type": "barpolar"
           }
          ],
          "carpet": [
           {
            "aaxis": {
             "endlinecolor": "#2a3f5f",
             "gridcolor": "white",
             "linecolor": "white",
             "minorgridcolor": "white",
             "startlinecolor": "#2a3f5f"
            },
            "baxis": {
             "endlinecolor": "#2a3f5f",
             "gridcolor": "white",
             "linecolor": "white",
             "minorgridcolor": "white",
             "startlinecolor": "#2a3f5f"
            },
            "type": "carpet"
           }
          ],
          "choropleth": [
           {
            "colorbar": {
             "outlinewidth": 0,
             "ticks": ""
            },
            "type": "choropleth"
           }
          ],
          "contour": [
           {
            "colorbar": {
             "outlinewidth": 0,
             "ticks": ""
            },
            "colorscale": [
             [
              0,
              "#0d0887"
             ],
             [
              0.1111111111111111,
              "#46039f"
             ],
             [
              0.2222222222222222,
              "#7201a8"
             ],
             [
              0.3333333333333333,
              "#9c179e"
             ],
             [
              0.4444444444444444,
              "#bd3786"
             ],
             [
              0.5555555555555556,
              "#d8576b"
             ],
             [
              0.6666666666666666,
              "#ed7953"
             ],
             [
              0.7777777777777778,
              "#fb9f3a"
             ],
             [
              0.8888888888888888,
              "#fdca26"
             ],
             [
              1,
              "#f0f921"
             ]
            ],
            "type": "contour"
           }
          ],
          "contourcarpet": [
           {
            "colorbar": {
             "outlinewidth": 0,
             "ticks": ""
            },
            "type": "contourcarpet"
           }
          ],
          "heatmap": [
           {
            "colorbar": {
             "outlinewidth": 0,
             "ticks": ""
            },
            "colorscale": [
             [
              0,
              "#0d0887"
             ],
             [
              0.1111111111111111,
              "#46039f"
             ],
             [
              0.2222222222222222,
              "#7201a8"
             ],
             [
              0.3333333333333333,
              "#9c179e"
             ],
             [
              0.4444444444444444,
              "#bd3786"
             ],
             [
              0.5555555555555556,
              "#d8576b"
             ],
             [
              0.6666666666666666,
              "#ed7953"
             ],
             [
              0.7777777777777778,
              "#fb9f3a"
             ],
             [
              0.8888888888888888,
              "#fdca26"
             ],
             [
              1,
              "#f0f921"
             ]
            ],
            "type": "heatmap"
           }
          ],
          "heatmapgl": [
           {
            "colorbar": {
             "outlinewidth": 0,
             "ticks": ""
            },
            "colorscale": [
             [
              0,
              "#0d0887"
             ],
             [
              0.1111111111111111,
              "#46039f"
             ],
             [
              0.2222222222222222,
              "#7201a8"
             ],
             [
              0.3333333333333333,
              "#9c179e"
             ],
             [
              0.4444444444444444,
              "#bd3786"
             ],
             [
              0.5555555555555556,
              "#d8576b"
             ],
             [
              0.6666666666666666,
              "#ed7953"
             ],
             [
              0.7777777777777778,
              "#fb9f3a"
             ],
             [
              0.8888888888888888,
              "#fdca26"
             ],
             [
              1,
              "#f0f921"
             ]
            ],
            "type": "heatmapgl"
           }
          ],
          "histogram": [
           {
            "marker": {
             "pattern": {
              "fillmode": "overlay",
              "size": 10,
              "solidity": 0.2
             }
            },
            "type": "histogram"
           }
          ],
          "histogram2d": [
           {
            "colorbar": {
             "outlinewidth": 0,
             "ticks": ""
            },
            "colorscale": [
             [
              0,
              "#0d0887"
             ],
             [
              0.1111111111111111,
              "#46039f"
             ],
             [
              0.2222222222222222,
              "#7201a8"
             ],
             [
              0.3333333333333333,
              "#9c179e"
             ],
             [
              0.4444444444444444,
              "#bd3786"
             ],
             [
              0.5555555555555556,
              "#d8576b"
             ],
             [
              0.6666666666666666,
              "#ed7953"
             ],
             [
              0.7777777777777778,
              "#fb9f3a"
             ],
             [
              0.8888888888888888,
              "#fdca26"
             ],
             [
              1,
              "#f0f921"
             ]
            ],
            "type": "histogram2d"
           }
          ],
          "histogram2dcontour": [
           {
            "colorbar": {
             "outlinewidth": 0,
             "ticks": ""
            },
            "colorscale": [
             [
              0,
              "#0d0887"
             ],
             [
              0.1111111111111111,
              "#46039f"
             ],
             [
              0.2222222222222222,
              "#7201a8"
             ],
             [
              0.3333333333333333,
              "#9c179e"
             ],
             [
              0.4444444444444444,
              "#bd3786"
             ],
             [
              0.5555555555555556,
              "#d8576b"
             ],
             [
              0.6666666666666666,
              "#ed7953"
             ],
             [
              0.7777777777777778,
              "#fb9f3a"
             ],
             [
              0.8888888888888888,
              "#fdca26"
             ],
             [
              1,
              "#f0f921"
             ]
            ],
            "type": "histogram2dcontour"
           }
          ],
          "mesh3d": [
           {
            "colorbar": {
             "outlinewidth": 0,
             "ticks": ""
            },
            "type": "mesh3d"
           }
          ],
          "parcoords": [
           {
            "line": {
             "colorbar": {
              "outlinewidth": 0,
              "ticks": ""
             }
            },
            "type": "parcoords"
           }
          ],
          "pie": [
           {
            "automargin": true,
            "type": "pie"
           }
          ],
          "scatter": [
           {
            "fillpattern": {
             "fillmode": "overlay",
             "size": 10,
             "solidity": 0.2
            },
            "type": "scatter"
           }
          ],
          "scatter3d": [
           {
            "line": {
             "colorbar": {
              "outlinewidth": 0,
              "ticks": ""
             }
            },
            "marker": {
             "colorbar": {
              "outlinewidth": 0,
              "ticks": ""
             }
            },
            "type": "scatter3d"
           }
          ],
          "scattercarpet": [
           {
            "marker": {
             "colorbar": {
              "outlinewidth": 0,
              "ticks": ""
             }
            },
            "type": "scattercarpet"
           }
          ],
          "scattergeo": [
           {
            "marker": {
             "colorbar": {
              "outlinewidth": 0,
              "ticks": ""
             }
            },
            "type": "scattergeo"
           }
          ],
          "scattergl": [
           {
            "marker": {
             "colorbar": {
              "outlinewidth": 0,
              "ticks": ""
             }
            },
            "type": "scattergl"
           }
          ],
          "scattermapbox": [
           {
            "marker": {
             "colorbar": {
              "outlinewidth": 0,
              "ticks": ""
             }
            },
            "type": "scattermapbox"
           }
          ],
          "scatterpolar": [
           {
            "marker": {
             "colorbar": {
              "outlinewidth": 0,
              "ticks": ""
             }
            },
            "type": "scatterpolar"
           }
          ],
          "scatterpolargl": [
           {
            "marker": {
             "colorbar": {
              "outlinewidth": 0,
              "ticks": ""
             }
            },
            "type": "scatterpolargl"
           }
          ],
          "scatterternary": [
           {
            "marker": {
             "colorbar": {
              "outlinewidth": 0,
              "ticks": ""
             }
            },
            "type": "scatterternary"
           }
          ],
          "surface": [
           {
            "colorbar": {
             "outlinewidth": 0,
             "ticks": ""
            },
            "colorscale": [
             [
              0,
              "#0d0887"
             ],
             [
              0.1111111111111111,
              "#46039f"
             ],
             [
              0.2222222222222222,
              "#7201a8"
             ],
             [
              0.3333333333333333,
              "#9c179e"
             ],
             [
              0.4444444444444444,
              "#bd3786"
             ],
             [
              0.5555555555555556,
              "#d8576b"
             ],
             [
              0.6666666666666666,
              "#ed7953"
             ],
             [
              0.7777777777777778,
              "#fb9f3a"
             ],
             [
              0.8888888888888888,
              "#fdca26"
             ],
             [
              1,
              "#f0f921"
             ]
            ],
            "type": "surface"
           }
          ],
          "table": [
           {
            "cells": {
             "fill": {
              "color": "#EBF0F8"
             },
             "line": {
              "color": "white"
             }
            },
            "header": {
             "fill": {
              "color": "#C8D4E3"
             },
             "line": {
              "color": "white"
             }
            },
            "type": "table"
           }
          ]
         },
         "layout": {
          "annotationdefaults": {
           "arrowcolor": "#2a3f5f",
           "arrowhead": 0,
           "arrowwidth": 1
          },
          "autotypenumbers": "strict",
          "coloraxis": {
           "colorbar": {
            "outlinewidth": 0,
            "ticks": ""
           }
          },
          "colorscale": {
           "diverging": [
            [
             0,
             "#8e0152"
            ],
            [
             0.1,
             "#c51b7d"
            ],
            [
             0.2,
             "#de77ae"
            ],
            [
             0.3,
             "#f1b6da"
            ],
            [
             0.4,
             "#fde0ef"
            ],
            [
             0.5,
             "#f7f7f7"
            ],
            [
             0.6,
             "#e6f5d0"
            ],
            [
             0.7,
             "#b8e186"
            ],
            [
             0.8,
             "#7fbc41"
            ],
            [
             0.9,
             "#4d9221"
            ],
            [
             1,
             "#276419"
            ]
           ],
           "sequential": [
            [
             0,
             "#0d0887"
            ],
            [
             0.1111111111111111,
             "#46039f"
            ],
            [
             0.2222222222222222,
             "#7201a8"
            ],
            [
             0.3333333333333333,
             "#9c179e"
            ],
            [
             0.4444444444444444,
             "#bd3786"
            ],
            [
             0.5555555555555556,
             "#d8576b"
            ],
            [
             0.6666666666666666,
             "#ed7953"
            ],
            [
             0.7777777777777778,
             "#fb9f3a"
            ],
            [
             0.8888888888888888,
             "#fdca26"
            ],
            [
             1,
             "#f0f921"
            ]
           ],
           "sequentialminus": [
            [
             0,
             "#0d0887"
            ],
            [
             0.1111111111111111,
             "#46039f"
            ],
            [
             0.2222222222222222,
             "#7201a8"
            ],
            [
             0.3333333333333333,
             "#9c179e"
            ],
            [
             0.4444444444444444,
             "#bd3786"
            ],
            [
             0.5555555555555556,
             "#d8576b"
            ],
            [
             0.6666666666666666,
             "#ed7953"
            ],
            [
             0.7777777777777778,
             "#fb9f3a"
            ],
            [
             0.8888888888888888,
             "#fdca26"
            ],
            [
             1,
             "#f0f921"
            ]
           ]
          },
          "colorway": [
           "#636efa",
           "#EF553B",
           "#00cc96",
           "#ab63fa",
           "#FFA15A",
           "#19d3f3",
           "#FF6692",
           "#B6E880",
           "#FF97FF",
           "#FECB52"
          ],
          "font": {
           "color": "#2a3f5f"
          },
          "geo": {
           "bgcolor": "white",
           "lakecolor": "white",
           "landcolor": "#E5ECF6",
           "showlakes": true,
           "showland": true,
           "subunitcolor": "white"
          },
          "hoverlabel": {
           "align": "left"
          },
          "hovermode": "closest",
          "mapbox": {
           "style": "light"
          },
          "paper_bgcolor": "white",
          "plot_bgcolor": "#E5ECF6",
          "polar": {
           "angularaxis": {
            "gridcolor": "white",
            "linecolor": "white",
            "ticks": ""
           },
           "bgcolor": "#E5ECF6",
           "radialaxis": {
            "gridcolor": "white",
            "linecolor": "white",
            "ticks": ""
           }
          },
          "scene": {
           "xaxis": {
            "backgroundcolor": "#E5ECF6",
            "gridcolor": "white",
            "gridwidth": 2,
            "linecolor": "white",
            "showbackground": true,
            "ticks": "",
            "zerolinecolor": "white"
           },
           "yaxis": {
            "backgroundcolor": "#E5ECF6",
            "gridcolor": "white",
            "gridwidth": 2,
            "linecolor": "white",
            "showbackground": true,
            "ticks": "",
            "zerolinecolor": "white"
           },
           "zaxis": {
            "backgroundcolor": "#E5ECF6",
            "gridcolor": "white",
            "gridwidth": 2,
            "linecolor": "white",
            "showbackground": true,
            "ticks": "",
            "zerolinecolor": "white"
           }
          },
          "shapedefaults": {
           "line": {
            "color": "#2a3f5f"
           }
          },
          "ternary": {
           "aaxis": {
            "gridcolor": "white",
            "linecolor": "white",
            "ticks": ""
           },
           "baxis": {
            "gridcolor": "white",
            "linecolor": "white",
            "ticks": ""
           },
           "bgcolor": "#E5ECF6",
           "caxis": {
            "gridcolor": "white",
            "linecolor": "white",
            "ticks": ""
           }
          },
          "title": {
           "x": 0.05
          },
          "xaxis": {
           "automargin": true,
           "gridcolor": "white",
           "linecolor": "white",
           "ticks": "",
           "title": {
            "standoff": 15
           },
           "zerolinecolor": "white",
           "zerolinewidth": 2
          },
          "yaxis": {
           "automargin": true,
           "gridcolor": "white",
           "linecolor": "white",
           "ticks": "",
           "title": {
            "standoff": 15
           },
           "zerolinecolor": "white",
           "zerolinewidth": 2
          }
         }
        },
        "xaxis": {
         "anchor": "y",
         "domain": [
          0,
          1
         ]
        },
        "yaxis": {
         "anchor": "x",
         "domain": [
          0,
          1
         ]
        }
       }
      }
     },
     "metadata": {},
     "output_type": "display_data"
    },
    {
     "data": {
      "application/vnd.plotly.v1+json": {
       "config": {
        "plotlyServerURL": "https://plot.ly"
       },
       "data": [
        {
         "coloraxis": "coloraxis",
         "hovertemplate": "x: %{x}<br>y: %{y}<br>color: %{z}<extra></extra>",
         "name": "0",
         "type": "heatmap",
         "xaxis": "x",
         "yaxis": "y",
         "z": [
          [
           0,
           0,
           0,
           0,
           0,
           0,
           0,
           0,
           0,
           0,
           0,
           0,
           0,
           0,
           0,
           0,
           0,
           0,
           0,
           0,
           0,
           0,
           0,
           0,
           0,
           0,
           0,
           0,
           0,
           0,
           0,
           0,
           0,
           0,
           0,
           0,
           0,
           0,
           0,
           0,
           0,
           0,
           0,
           0,
           0,
           0,
           0,
           0
          ],
          [
           0,
           255,
           255,
           255,
           255,
           0,
           0,
           0,
           0,
           0,
           255,
           255,
           255,
           255,
           255,
           255,
           255,
           255,
           255,
           255,
           255,
           255,
           255,
           255,
           255,
           255,
           255,
           255,
           255,
           255,
           255,
           255,
           255,
           255,
           255,
           255,
           255,
           255,
           255,
           255,
           255,
           255,
           255,
           255,
           255,
           255,
           255,
           0
          ],
          [
           0,
           255,
           255,
           255,
           255,
           0,
           0,
           0,
           0,
           0,
           255,
           255,
           255,
           255,
           255,
           255,
           255,
           255,
           255,
           255,
           255,
           255,
           255,
           255,
           255,
           255,
           255,
           255,
           255,
           255,
           255,
           255,
           255,
           255,
           255,
           255,
           255,
           255,
           255,
           255,
           255,
           255,
           255,
           255,
           255,
           255,
           255,
           0
          ],
          [
           0,
           255,
           255,
           255,
           0,
           0,
           0,
           0,
           0,
           0,
           255,
           255,
           255,
           255,
           255,
           255,
           255,
           255,
           255,
           255,
           255,
           255,
           255,
           255,
           255,
           255,
           255,
           255,
           255,
           255,
           255,
           255,
           255,
           255,
           255,
           255,
           255,
           255,
           255,
           255,
           255,
           255,
           255,
           255,
           255,
           255,
           255,
           0
          ],
          [
           0,
           255,
           255,
           255,
           0,
           0,
           0,
           0,
           0,
           255,
           255,
           0,
           0,
           0,
           255,
           255,
           255,
           255,
           255,
           255,
           255,
           255,
           255,
           255,
           255,
           255,
           255,
           255,
           255,
           255,
           255,
           255,
           255,
           255,
           255,
           255,
           255,
           255,
           255,
           255,
           255,
           255,
           255,
           255,
           255,
           255,
           255,
           0
          ],
          [
           0,
           255,
           255,
           255,
           0,
           0,
           0,
           0,
           0,
           255,
           0,
           0,
           0,
           0,
           255,
           255,
           255,
           255,
           255,
           255,
           255,
           255,
           255,
           255,
           255,
           255,
           255,
           255,
           255,
           255,
           255,
           255,
           255,
           255,
           255,
           255,
           255,
           255,
           255,
           255,
           255,
           255,
           255,
           255,
           255,
           255,
           255,
           0
          ],
          [
           0,
           0,
           0,
           0,
           0,
           0,
           0,
           0,
           255,
           255,
           0,
           0,
           0,
           0,
           255,
           255,
           255,
           255,
           255,
           255,
           255,
           255,
           255,
           255,
           255,
           255,
           255,
           255,
           255,
           255,
           255,
           255,
           255,
           255,
           255,
           255,
           255,
           255,
           255,
           255,
           255,
           255,
           255,
           255,
           255,
           255,
           255,
           0
          ],
          [
           0,
           0,
           0,
           0,
           0,
           255,
           255,
           255,
           255,
           255,
           0,
           0,
           0,
           255,
           255,
           255,
           255,
           255,
           255,
           255,
           255,
           255,
           255,
           255,
           255,
           255,
           255,
           255,
           255,
           255,
           255,
           255,
           255,
           255,
           255,
           255,
           255,
           255,
           255,
           255,
           255,
           255,
           255,
           255,
           255,
           255,
           255,
           0
          ],
          [
           0,
           0,
           0,
           0,
           0,
           255,
           255,
           255,
           255,
           255,
           255,
           255,
           255,
           255,
           255,
           255,
           255,
           255,
           255,
           255,
           255,
           255,
           255,
           255,
           255,
           255,
           255,
           255,
           255,
           255,
           255,
           255,
           255,
           0,
           0,
           0,
           255,
           255,
           255,
           255,
           255,
           255,
           255,
           255,
           255,
           255,
           255,
           0
          ],
          [
           0,
           255,
           0,
           0,
           0,
           255,
           255,
           255,
           255,
           255,
           255,
           255,
           255,
           255,
           255,
           255,
           255,
           255,
           255,
           255,
           255,
           255,
           255,
           255,
           255,
           255,
           255,
           255,
           255,
           255,
           255,
           255,
           255,
           0,
           0,
           0,
           255,
           255,
           255,
           255,
           255,
           255,
           255,
           255,
           255,
           255,
           255,
           0
          ],
          [
           0,
           255,
           255,
           255,
           255,
           255,
           255,
           255,
           255,
           255,
           255,
           255,
           255,
           255,
           255,
           255,
           255,
           255,
           255,
           255,
           255,
           255,
           255,
           255,
           255,
           255,
           255,
           255,
           255,
           255,
           255,
           255,
           255,
           0,
           0,
           0,
           255,
           255,
           255,
           255,
           255,
           0,
           0,
           0,
           255,
           255,
           255,
           0
          ],
          [
           0,
           255,
           255,
           255,
           255,
           255,
           255,
           255,
           255,
           255,
           255,
           255,
           255,
           255,
           255,
           255,
           255,
           255,
           255,
           255,
           255,
           255,
           255,
           255,
           255,
           255,
           255,
           255,
           255,
           255,
           255,
           255,
           255,
           255,
           255,
           255,
           255,
           255,
           255,
           255,
           255,
           0,
           0,
           0,
           255,
           255,
           255,
           0
          ],
          [
           0,
           255,
           255,
           255,
           255,
           255,
           255,
           255,
           255,
           255,
           255,
           255,
           255,
           255,
           255,
           255,
           255,
           255,
           255,
           255,
           255,
           255,
           255,
           255,
           255,
           255,
           255,
           255,
           255,
           255,
           255,
           255,
           255,
           0,
           0,
           0,
           255,
           255,
           255,
           255,
           255,
           0,
           0,
           0,
           255,
           255,
           0,
           0
          ],
          [
           0,
           255,
           255,
           255,
           255,
           255,
           255,
           255,
           255,
           255,
           255,
           255,
           255,
           255,
           255,
           255,
           0,
           0,
           0,
           255,
           255,
           255,
           255,
           255,
           255,
           255,
           255,
           255,
           255,
           255,
           255,
           255,
           255,
           0,
           0,
           0,
           255,
           255,
           255,
           255,
           255,
           255,
           255,
           255,
           255,
           0,
           0,
           0
          ],
          [
           0,
           255,
           255,
           255,
           255,
           255,
           255,
           255,
           255,
           255,
           255,
           255,
           255,
           255,
           255,
           255,
           0,
           0,
           0,
           255,
           255,
           255,
           255,
           255,
           255,
           255,
           255,
           255,
           255,
           255,
           255,
           255,
           255,
           0,
           0,
           0,
           255,
           255,
           255,
           255,
           255,
           255,
           255,
           255,
           255,
           0,
           0,
           0
          ],
          [
           0,
           255,
           255,
           255,
           255,
           255,
           255,
           255,
           255,
           0,
           0,
           0,
           255,
           255,
           255,
           255,
           0,
           0,
           0,
           255,
           255,
           255,
           255,
           255,
           255,
           255,
           255,
           255,
           255,
           255,
           255,
           255,
           255,
           0,
           0,
           0,
           255,
           255,
           255,
           255,
           255,
           255,
           255,
           255,
           255,
           0,
           0,
           0
          ],
          [
           0,
           255,
           255,
           255,
           255,
           255,
           255,
           255,
           255,
           0,
           0,
           0,
           255,
           255,
           255,
           255,
           255,
           255,
           255,
           255,
           255,
           255,
           255,
           255,
           255,
           255,
           255,
           255,
           255,
           255,
           255,
           0,
           0,
           0,
           0,
           0,
           255,
           255,
           255,
           255,
           255,
           255,
           255,
           255,
           255,
           255,
           255,
           0
          ],
          [
           0,
           255,
           255,
           255,
           255,
           0,
           0,
           0,
           255,
           0,
           0,
           0,
           255,
           255,
           255,
           255,
           255,
           255,
           255,
           255,
           255,
           255,
           255,
           255,
           255,
           255,
           255,
           255,
           255,
           255,
           255,
           0,
           0,
           0,
           0,
           0,
           255,
           255,
           255,
           255,
           255,
           255,
           255,
           255,
           255,
           255,
           255,
           0
          ],
          [
           0,
           255,
           255,
           255,
           255,
           0,
           0,
           0,
           255,
           255,
           255,
           255,
           255,
           255,
           255,
           255,
           255,
           255,
           255,
           255,
           255,
           255,
           255,
           255,
           255,
           255,
           255,
           255,
           255,
           255,
           255,
           0,
           0,
           0,
           255,
           255,
           255,
           255,
           255,
           255,
           255,
           255,
           255,
           255,
           255,
           255,
           255,
           0
          ],
          [
           0,
           255,
           255,
           255,
           255,
           0,
           0,
           0,
           255,
           255,
           255,
           255,
           255,
           255,
           255,
           255,
           255,
           255,
           255,
           255,
           255,
           255,
           255,
           255,
           255,
           255,
           255,
           255,
           255,
           255,
           255,
           255,
           255,
           255,
           255,
           255,
           255,
           255,
           255,
           255,
           255,
           255,
           255,
           0,
           0,
           0,
           255,
           0
          ],
          [
           0,
           255,
           255,
           255,
           255,
           255,
           255,
           255,
           255,
           255,
           255,
           255,
           255,
           255,
           255,
           255,
           255,
           255,
           255,
           255,
           255,
           255,
           255,
           0,
           0,
           0,
           0,
           255,
           255,
           255,
           255,
           255,
           255,
           255,
           255,
           0,
           0,
           0,
           255,
           255,
           255,
           255,
           0,
           0,
           0,
           0,
           255,
           0
          ],
          [
           0,
           255,
           255,
           255,
           255,
           255,
           255,
           255,
           255,
           255,
           255,
           255,
           255,
           255,
           255,
           255,
           255,
           255,
           255,
           255,
           255,
           255,
           255,
           0,
           0,
           0,
           0,
           0,
           255,
           255,
           255,
           255,
           255,
           255,
           255,
           0,
           0,
           0,
           255,
           255,
           255,
           255,
           0,
           0,
           0,
           0,
           255,
           0
          ],
          [
           0,
           255,
           255,
           255,
           255,
           255,
           255,
           255,
           255,
           255,
           255,
           255,
           255,
           255,
           255,
           255,
           255,
           255,
           255,
           255,
           255,
           255,
           255,
           0,
           0,
           0,
           0,
           0,
           255,
           255,
           255,
           255,
           255,
           255,
           255,
           0,
           0,
           0,
           255,
           255,
           255,
           255,
           0,
           0,
           0,
           0,
           255,
           0
          ],
          [
           0,
           255,
           255,
           255,
           255,
           255,
           255,
           255,
           255,
           255,
           255,
           255,
           255,
           255,
           255,
           255,
           255,
           255,
           255,
           255,
           255,
           255,
           255,
           0,
           0,
           0,
           0,
           0,
           255,
           255,
           255,
           0,
           0,
           0,
           255,
           255,
           255,
           255,
           255,
           255,
           255,
           255,
           0,
           0,
           0,
           0,
           255,
           0
          ],
          [
           0,
           255,
           255,
           255,
           255,
           255,
           255,
           255,
           255,
           255,
           255,
           255,
           255,
           255,
           255,
           255,
           255,
           255,
           255,
           255,
           255,
           255,
           255,
           0,
           0,
           0,
           0,
           0,
           255,
           255,
           255,
           0,
           0,
           0,
           255,
           255,
           255,
           255,
           255,
           255,
           255,
           255,
           0,
           0,
           0,
           0,
           255,
           0
          ],
          [
           0,
           255,
           255,
           255,
           255,
           255,
           255,
           255,
           255,
           255,
           255,
           255,
           255,
           255,
           255,
           255,
           255,
           255,
           255,
           255,
           255,
           255,
           255,
           0,
           0,
           0,
           0,
           0,
           255,
           255,
           255,
           0,
           0,
           0,
           255,
           255,
           255,
           255,
           255,
           255,
           255,
           255,
           0,
           0,
           0,
           0,
           255,
           0
          ],
          [
           0,
           255,
           255,
           255,
           255,
           255,
           255,
           255,
           255,
           255,
           255,
           255,
           255,
           255,
           255,
           255,
           255,
           255,
           255,
           255,
           255,
           255,
           255,
           0,
           0,
           0,
           0,
           0,
           255,
           255,
           255,
           0,
           0,
           0,
           255,
           255,
           255,
           255,
           255,
           255,
           255,
           255,
           0,
           0,
           0,
           0,
           255,
           0
          ],
          [
           0,
           255,
           255,
           255,
           255,
           255,
           255,
           255,
           255,
           255,
           255,
           255,
           255,
           255,
           255,
           255,
           255,
           255,
           255,
           255,
           255,
           255,
           255,
           0,
           0,
           0,
           0,
           255,
           255,
           255,
           255,
           255,
           255,
           255,
           255,
           255,
           255,
           255,
           255,
           255,
           255,
           255,
           0,
           0,
           0,
           0,
           255,
           0
          ],
          [
           0,
           255,
           255,
           255,
           255,
           255,
           255,
           255,
           255,
           255,
           255,
           255,
           255,
           255,
           255,
           255,
           255,
           255,
           255,
           255,
           255,
           255,
           255,
           255,
           255,
           255,
           255,
           255,
           255,
           255,
           255,
           255,
           255,
           255,
           255,
           255,
           255,
           255,
           255,
           255,
           255,
           255,
           255,
           0,
           0,
           0,
           255,
           0
          ],
          [
           0,
           255,
           255,
           255,
           255,
           255,
           255,
           255,
           255,
           255,
           255,
           255,
           255,
           255,
           255,
           255,
           255,
           255,
           255,
           255,
           255,
           255,
           255,
           255,
           255,
           255,
           255,
           255,
           255,
           255,
           255,
           255,
           255,
           255,
           255,
           255,
           255,
           255,
           255,
           255,
           255,
           255,
           255,
           255,
           255,
           255,
           255,
           0
          ],
          [
           0,
           255,
           255,
           255,
           255,
           255,
           255,
           255,
           255,
           0,
           0,
           0,
           255,
           255,
           255,
           255,
           255,
           255,
           255,
           255,
           255,
           255,
           255,
           255,
           255,
           255,
           255,
           255,
           255,
           255,
           255,
           255,
           255,
           255,
           255,
           255,
           255,
           255,
           255,
           255,
           255,
           255,
           255,
           255,
           255,
           255,
           255,
           0
          ],
          [
           0,
           255,
           255,
           255,
           255,
           255,
           255,
           255,
           255,
           0,
           0,
           0,
           255,
           255,
           255,
           255,
           255,
           255,
           255,
           255,
           255,
           255,
           255,
           255,
           255,
           255,
           255,
           255,
           255,
           255,
           255,
           255,
           255,
           255,
           255,
           255,
           255,
           255,
           255,
           255,
           255,
           255,
           255,
           255,
           255,
           255,
           255,
           0
          ],
          [
           0,
           255,
           255,
           255,
           255,
           255,
           255,
           255,
           255,
           0,
           0,
           0,
           255,
           255,
           255,
           255,
           255,
           255,
           255,
           255,
           255,
           255,
           255,
           255,
           255,
           255,
           255,
           255,
           255,
           255,
           255,
           255,
           255,
           255,
           255,
           255,
           255,
           255,
           255,
           255,
           255,
           255,
           255,
           255,
           255,
           0,
           0,
           0
          ],
          [
           0,
           255,
           255,
           255,
           255,
           255,
           255,
           255,
           255,
           255,
           255,
           255,
           255,
           255,
           255,
           255,
           255,
           255,
           255,
           255,
           255,
           255,
           255,
           255,
           255,
           0,
           0,
           0,
           255,
           255,
           255,
           255,
           255,
           255,
           255,
           255,
           255,
           255,
           255,
           255,
           255,
           255,
           255,
           255,
           255,
           0,
           0,
           0
          ],
          [
           0,
           255,
           255,
           255,
           255,
           255,
           255,
           255,
           255,
           255,
           255,
           255,
           255,
           255,
           255,
           255,
           255,
           255,
           255,
           255,
           255,
           255,
           255,
           255,
           255,
           0,
           0,
           0,
           255,
           255,
           255,
           255,
           255,
           255,
           255,
           255,
           255,
           255,
           255,
           255,
           255,
           255,
           255,
           255,
           255,
           0,
           0,
           0
          ],
          [
           0,
           255,
           255,
           255,
           255,
           255,
           255,
           255,
           255,
           255,
           255,
           255,
           255,
           255,
           255,
           255,
           255,
           255,
           255,
           255,
           255,
           255,
           255,
           255,
           255,
           0,
           0,
           0,
           255,
           255,
           255,
           255,
           255,
           255,
           255,
           255,
           255,
           255,
           255,
           255,
           255,
           0,
           0,
           0,
           255,
           255,
           0,
           0
          ],
          [
           0,
           255,
           0,
           0,
           0,
           255,
           255,
           255,
           255,
           255,
           255,
           255,
           255,
           255,
           255,
           255,
           255,
           255,
           255,
           255,
           255,
           255,
           255,
           255,
           255,
           255,
           255,
           255,
           255,
           255,
           255,
           255,
           255,
           255,
           255,
           255,
           255,
           255,
           255,
           255,
           255,
           0,
           0,
           0,
           255,
           255,
           255,
           0
          ],
          [
           0,
           255,
           0,
           0,
           0,
           255,
           255,
           255,
           255,
           255,
           255,
           255,
           255,
           255,
           255,
           255,
           255,
           255,
           255,
           255,
           255,
           255,
           255,
           255,
           255,
           255,
           255,
           255,
           255,
           255,
           255,
           255,
           255,
           255,
           255,
           255,
           255,
           255,
           255,
           255,
           255,
           0,
           0,
           0,
           255,
           255,
           255,
           0
          ],
          [
           0,
           255,
           0,
           0,
           0,
           255,
           255,
           255,
           255,
           255,
           255,
           255,
           255,
           255,
           255,
           255,
           255,
           255,
           255,
           255,
           255,
           255,
           255,
           255,
           255,
           255,
           255,
           255,
           255,
           255,
           255,
           255,
           255,
           255,
           255,
           255,
           255,
           255,
           255,
           255,
           255,
           255,
           255,
           255,
           255,
           255,
           255,
           0
          ],
          [
           0,
           0,
           0,
           0,
           255,
           255,
           255,
           255,
           255,
           255,
           255,
           255,
           255,
           255,
           255,
           255,
           255,
           255,
           255,
           255,
           255,
           255,
           255,
           255,
           255,
           255,
           255,
           255,
           255,
           255,
           255,
           255,
           255,
           255,
           255,
           255,
           255,
           255,
           255,
           255,
           255,
           255,
           255,
           255,
           255,
           255,
           255,
           0
          ],
          [
           0,
           0,
           0,
           0,
           255,
           255,
           255,
           255,
           255,
           255,
           255,
           255,
           255,
           255,
           255,
           255,
           255,
           255,
           255,
           255,
           255,
           255,
           255,
           255,
           255,
           255,
           255,
           255,
           255,
           255,
           255,
           255,
           255,
           255,
           255,
           255,
           255,
           255,
           255,
           255,
           255,
           255,
           255,
           255,
           255,
           255,
           255,
           0
          ],
          [
           0,
           0,
           0,
           0,
           255,
           0,
           0,
           0,
           255,
           255,
           255,
           0,
           0,
           0,
           255,
           255,
           255,
           255,
           255,
           255,
           255,
           255,
           255,
           255,
           255,
           255,
           255,
           255,
           255,
           255,
           255,
           255,
           255,
           255,
           255,
           255,
           255,
           255,
           255,
           255,
           255,
           255,
           255,
           255,
           255,
           255,
           255,
           0
          ],
          [
           0,
           255,
           255,
           255,
           0,
           0,
           0,
           0,
           0,
           255,
           255,
           0,
           0,
           0,
           255,
           255,
           255,
           255,
           255,
           255,
           255,
           255,
           255,
           255,
           255,
           255,
           255,
           255,
           255,
           255,
           255,
           255,
           255,
           255,
           255,
           255,
           255,
           255,
           255,
           255,
           255,
           255,
           255,
           255,
           255,
           255,
           255,
           0
          ],
          [
           0,
           255,
           255,
           255,
           0,
           0,
           0,
           0,
           0,
           0,
           255,
           0,
           0,
           0,
           255,
           255,
           255,
           255,
           255,
           255,
           255,
           255,
           255,
           255,
           255,
           255,
           255,
           255,
           255,
           255,
           255,
           255,
           255,
           255,
           255,
           255,
           255,
           255,
           255,
           255,
           255,
           255,
           255,
           255,
           255,
           255,
           255,
           0
          ],
          [
           0,
           255,
           255,
           255,
           0,
           0,
           0,
           0,
           0,
           0,
           255,
           255,
           255,
           255,
           255,
           255,
           255,
           255,
           0,
           0,
           0,
           0,
           0,
           0,
           255,
           255,
           255,
           255,
           255,
           255,
           255,
           255,
           255,
           255,
           255,
           255,
           255,
           255,
           255,
           255,
           255,
           255,
           255,
           255,
           255,
           255,
           255,
           0
          ],
          [
           0,
           255,
           255,
           255,
           255,
           0,
           0,
           0,
           0,
           0,
           255,
           255,
           255,
           255,
           255,
           255,
           255,
           255,
           0,
           0,
           0,
           0,
           0,
           0,
           255,
           255,
           255,
           255,
           255,
           255,
           255,
           255,
           255,
           255,
           255,
           255,
           255,
           255,
           255,
           255,
           255,
           255,
           255,
           255,
           255,
           255,
           255,
           0
          ],
          [
           0,
           255,
           255,
           255,
           255,
           0,
           0,
           0,
           0,
           255,
           255,
           255,
           255,
           255,
           255,
           255,
           255,
           255,
           0,
           0,
           0,
           0,
           0,
           0,
           255,
           255,
           255,
           255,
           255,
           255,
           255,
           255,
           255,
           255,
           255,
           255,
           255,
           255,
           255,
           255,
           255,
           255,
           255,
           255,
           255,
           255,
           255,
           0
          ],
          [
           0,
           0,
           0,
           0,
           0,
           0,
           0,
           0,
           0,
           0,
           0,
           0,
           0,
           0,
           0,
           0,
           0,
           0,
           0,
           0,
           0,
           0,
           0,
           0,
           0,
           0,
           0,
           0,
           0,
           0,
           0,
           0,
           0,
           0,
           0,
           0,
           0,
           0,
           0,
           0,
           0,
           0,
           0,
           0,
           0,
           0,
           0,
           0
          ]
         ]
        }
       ],
       "layout": {
        "coloraxis": {
         "colorscale": [
          [
           0,
           "#0d0887"
          ],
          [
           0.1111111111111111,
           "#46039f"
          ],
          [
           0.2222222222222222,
           "#7201a8"
          ],
          [
           0.3333333333333333,
           "#9c179e"
          ],
          [
           0.4444444444444444,
           "#bd3786"
          ],
          [
           0.5555555555555556,
           "#d8576b"
          ],
          [
           0.6666666666666666,
           "#ed7953"
          ],
          [
           0.7777777777777778,
           "#fb9f3a"
          ],
          [
           0.8888888888888888,
           "#fdca26"
          ],
          [
           1,
           "#f0f921"
          ]
         ]
        },
        "margin": {
         "t": 60
        },
        "template": {
         "data": {
          "bar": [
           {
            "error_x": {
             "color": "#2a3f5f"
            },
            "error_y": {
             "color": "#2a3f5f"
            },
            "marker": {
             "line": {
              "color": "#E5ECF6",
              "width": 0.5
             },
             "pattern": {
              "fillmode": "overlay",
              "size": 10,
              "solidity": 0.2
             }
            },
            "type": "bar"
           }
          ],
          "barpolar": [
           {
            "marker": {
             "line": {
              "color": "#E5ECF6",
              "width": 0.5
             },
             "pattern": {
              "fillmode": "overlay",
              "size": 10,
              "solidity": 0.2
             }
            },
            "type": "barpolar"
           }
          ],
          "carpet": [
           {
            "aaxis": {
             "endlinecolor": "#2a3f5f",
             "gridcolor": "white",
             "linecolor": "white",
             "minorgridcolor": "white",
             "startlinecolor": "#2a3f5f"
            },
            "baxis": {
             "endlinecolor": "#2a3f5f",
             "gridcolor": "white",
             "linecolor": "white",
             "minorgridcolor": "white",
             "startlinecolor": "#2a3f5f"
            },
            "type": "carpet"
           }
          ],
          "choropleth": [
           {
            "colorbar": {
             "outlinewidth": 0,
             "ticks": ""
            },
            "type": "choropleth"
           }
          ],
          "contour": [
           {
            "colorbar": {
             "outlinewidth": 0,
             "ticks": ""
            },
            "colorscale": [
             [
              0,
              "#0d0887"
             ],
             [
              0.1111111111111111,
              "#46039f"
             ],
             [
              0.2222222222222222,
              "#7201a8"
             ],
             [
              0.3333333333333333,
              "#9c179e"
             ],
             [
              0.4444444444444444,
              "#bd3786"
             ],
             [
              0.5555555555555556,
              "#d8576b"
             ],
             [
              0.6666666666666666,
              "#ed7953"
             ],
             [
              0.7777777777777778,
              "#fb9f3a"
             ],
             [
              0.8888888888888888,
              "#fdca26"
             ],
             [
              1,
              "#f0f921"
             ]
            ],
            "type": "contour"
           }
          ],
          "contourcarpet": [
           {
            "colorbar": {
             "outlinewidth": 0,
             "ticks": ""
            },
            "type": "contourcarpet"
           }
          ],
          "heatmap": [
           {
            "colorbar": {
             "outlinewidth": 0,
             "ticks": ""
            },
            "colorscale": [
             [
              0,
              "#0d0887"
             ],
             [
              0.1111111111111111,
              "#46039f"
             ],
             [
              0.2222222222222222,
              "#7201a8"
             ],
             [
              0.3333333333333333,
              "#9c179e"
             ],
             [
              0.4444444444444444,
              "#bd3786"
             ],
             [
              0.5555555555555556,
              "#d8576b"
             ],
             [
              0.6666666666666666,
              "#ed7953"
             ],
             [
              0.7777777777777778,
              "#fb9f3a"
             ],
             [
              0.8888888888888888,
              "#fdca26"
             ],
             [
              1,
              "#f0f921"
             ]
            ],
            "type": "heatmap"
           }
          ],
          "heatmapgl": [
           {
            "colorbar": {
             "outlinewidth": 0,
             "ticks": ""
            },
            "colorscale": [
             [
              0,
              "#0d0887"
             ],
             [
              0.1111111111111111,
              "#46039f"
             ],
             [
              0.2222222222222222,
              "#7201a8"
             ],
             [
              0.3333333333333333,
              "#9c179e"
             ],
             [
              0.4444444444444444,
              "#bd3786"
             ],
             [
              0.5555555555555556,
              "#d8576b"
             ],
             [
              0.6666666666666666,
              "#ed7953"
             ],
             [
              0.7777777777777778,
              "#fb9f3a"
             ],
             [
              0.8888888888888888,
              "#fdca26"
             ],
             [
              1,
              "#f0f921"
             ]
            ],
            "type": "heatmapgl"
           }
          ],
          "histogram": [
           {
            "marker": {
             "pattern": {
              "fillmode": "overlay",
              "size": 10,
              "solidity": 0.2
             }
            },
            "type": "histogram"
           }
          ],
          "histogram2d": [
           {
            "colorbar": {
             "outlinewidth": 0,
             "ticks": ""
            },
            "colorscale": [
             [
              0,
              "#0d0887"
             ],
             [
              0.1111111111111111,
              "#46039f"
             ],
             [
              0.2222222222222222,
              "#7201a8"
             ],
             [
              0.3333333333333333,
              "#9c179e"
             ],
             [
              0.4444444444444444,
              "#bd3786"
             ],
             [
              0.5555555555555556,
              "#d8576b"
             ],
             [
              0.6666666666666666,
              "#ed7953"
             ],
             [
              0.7777777777777778,
              "#fb9f3a"
             ],
             [
              0.8888888888888888,
              "#fdca26"
             ],
             [
              1,
              "#f0f921"
             ]
            ],
            "type": "histogram2d"
           }
          ],
          "histogram2dcontour": [
           {
            "colorbar": {
             "outlinewidth": 0,
             "ticks": ""
            },
            "colorscale": [
             [
              0,
              "#0d0887"
             ],
             [
              0.1111111111111111,
              "#46039f"
             ],
             [
              0.2222222222222222,
              "#7201a8"
             ],
             [
              0.3333333333333333,
              "#9c179e"
             ],
             [
              0.4444444444444444,
              "#bd3786"
             ],
             [
              0.5555555555555556,
              "#d8576b"
             ],
             [
              0.6666666666666666,
              "#ed7953"
             ],
             [
              0.7777777777777778,
              "#fb9f3a"
             ],
             [
              0.8888888888888888,
              "#fdca26"
             ],
             [
              1,
              "#f0f921"
             ]
            ],
            "type": "histogram2dcontour"
           }
          ],
          "mesh3d": [
           {
            "colorbar": {
             "outlinewidth": 0,
             "ticks": ""
            },
            "type": "mesh3d"
           }
          ],
          "parcoords": [
           {
            "line": {
             "colorbar": {
              "outlinewidth": 0,
              "ticks": ""
             }
            },
            "type": "parcoords"
           }
          ],
          "pie": [
           {
            "automargin": true,
            "type": "pie"
           }
          ],
          "scatter": [
           {
            "fillpattern": {
             "fillmode": "overlay",
             "size": 10,
             "solidity": 0.2
            },
            "type": "scatter"
           }
          ],
          "scatter3d": [
           {
            "line": {
             "colorbar": {
              "outlinewidth": 0,
              "ticks": ""
             }
            },
            "marker": {
             "colorbar": {
              "outlinewidth": 0,
              "ticks": ""
             }
            },
            "type": "scatter3d"
           }
          ],
          "scattercarpet": [
           {
            "marker": {
             "colorbar": {
              "outlinewidth": 0,
              "ticks": ""
             }
            },
            "type": "scattercarpet"
           }
          ],
          "scattergeo": [
           {
            "marker": {
             "colorbar": {
              "outlinewidth": 0,
              "ticks": ""
             }
            },
            "type": "scattergeo"
           }
          ],
          "scattergl": [
           {
            "marker": {
             "colorbar": {
              "outlinewidth": 0,
              "ticks": ""
             }
            },
            "type": "scattergl"
           }
          ],
          "scattermapbox": [
           {
            "marker": {
             "colorbar": {
              "outlinewidth": 0,
              "ticks": ""
             }
            },
            "type": "scattermapbox"
           }
          ],
          "scatterpolar": [
           {
            "marker": {
             "colorbar": {
              "outlinewidth": 0,
              "ticks": ""
             }
            },
            "type": "scatterpolar"
           }
          ],
          "scatterpolargl": [
           {
            "marker": {
             "colorbar": {
              "outlinewidth": 0,
              "ticks": ""
             }
            },
            "type": "scatterpolargl"
           }
          ],
          "scatterternary": [
           {
            "marker": {
             "colorbar": {
              "outlinewidth": 0,
              "ticks": ""
             }
            },
            "type": "scatterternary"
           }
          ],
          "surface": [
           {
            "colorbar": {
             "outlinewidth": 0,
             "ticks": ""
            },
            "colorscale": [
             [
              0,
              "#0d0887"
             ],
             [
              0.1111111111111111,
              "#46039f"
             ],
             [
              0.2222222222222222,
              "#7201a8"
             ],
             [
              0.3333333333333333,
              "#9c179e"
             ],
             [
              0.4444444444444444,
              "#bd3786"
             ],
             [
              0.5555555555555556,
              "#d8576b"
             ],
             [
              0.6666666666666666,
              "#ed7953"
             ],
             [
              0.7777777777777778,
              "#fb9f3a"
             ],
             [
              0.8888888888888888,
              "#fdca26"
             ],
             [
              1,
              "#f0f921"
             ]
            ],
            "type": "surface"
           }
          ],
          "table": [
           {
            "cells": {
             "fill": {
              "color": "#EBF0F8"
             },
             "line": {
              "color": "white"
             }
            },
            "header": {
             "fill": {
              "color": "#C8D4E3"
             },
             "line": {
              "color": "white"
             }
            },
            "type": "table"
           }
          ]
         },
         "layout": {
          "annotationdefaults": {
           "arrowcolor": "#2a3f5f",
           "arrowhead": 0,
           "arrowwidth": 1
          },
          "autotypenumbers": "strict",
          "coloraxis": {
           "colorbar": {
            "outlinewidth": 0,
            "ticks": ""
           }
          },
          "colorscale": {
           "diverging": [
            [
             0,
             "#8e0152"
            ],
            [
             0.1,
             "#c51b7d"
            ],
            [
             0.2,
             "#de77ae"
            ],
            [
             0.3,
             "#f1b6da"
            ],
            [
             0.4,
             "#fde0ef"
            ],
            [
             0.5,
             "#f7f7f7"
            ],
            [
             0.6,
             "#e6f5d0"
            ],
            [
             0.7,
             "#b8e186"
            ],
            [
             0.8,
             "#7fbc41"
            ],
            [
             0.9,
             "#4d9221"
            ],
            [
             1,
             "#276419"
            ]
           ],
           "sequential": [
            [
             0,
             "#0d0887"
            ],
            [
             0.1111111111111111,
             "#46039f"
            ],
            [
             0.2222222222222222,
             "#7201a8"
            ],
            [
             0.3333333333333333,
             "#9c179e"
            ],
            [
             0.4444444444444444,
             "#bd3786"
            ],
            [
             0.5555555555555556,
             "#d8576b"
            ],
            [
             0.6666666666666666,
             "#ed7953"
            ],
            [
             0.7777777777777778,
             "#fb9f3a"
            ],
            [
             0.8888888888888888,
             "#fdca26"
            ],
            [
             1,
             "#f0f921"
            ]
           ],
           "sequentialminus": [
            [
             0,
             "#0d0887"
            ],
            [
             0.1111111111111111,
             "#46039f"
            ],
            [
             0.2222222222222222,
             "#7201a8"
            ],
            [
             0.3333333333333333,
             "#9c179e"
            ],
            [
             0.4444444444444444,
             "#bd3786"
            ],
            [
             0.5555555555555556,
             "#d8576b"
            ],
            [
             0.6666666666666666,
             "#ed7953"
            ],
            [
             0.7777777777777778,
             "#fb9f3a"
            ],
            [
             0.8888888888888888,
             "#fdca26"
            ],
            [
             1,
             "#f0f921"
            ]
           ]
          },
          "colorway": [
           "#636efa",
           "#EF553B",
           "#00cc96",
           "#ab63fa",
           "#FFA15A",
           "#19d3f3",
           "#FF6692",
           "#B6E880",
           "#FF97FF",
           "#FECB52"
          ],
          "font": {
           "color": "#2a3f5f"
          },
          "geo": {
           "bgcolor": "white",
           "lakecolor": "white",
           "landcolor": "#E5ECF6",
           "showlakes": true,
           "showland": true,
           "subunitcolor": "white"
          },
          "hoverlabel": {
           "align": "left"
          },
          "hovermode": "closest",
          "mapbox": {
           "style": "light"
          },
          "paper_bgcolor": "white",
          "plot_bgcolor": "#E5ECF6",
          "polar": {
           "angularaxis": {
            "gridcolor": "white",
            "linecolor": "white",
            "ticks": ""
           },
           "bgcolor": "#E5ECF6",
           "radialaxis": {
            "gridcolor": "white",
            "linecolor": "white",
            "ticks": ""
           }
          },
          "scene": {
           "xaxis": {
            "backgroundcolor": "#E5ECF6",
            "gridcolor": "white",
            "gridwidth": 2,
            "linecolor": "white",
            "showbackground": true,
            "ticks": "",
            "zerolinecolor": "white"
           },
           "yaxis": {
            "backgroundcolor": "#E5ECF6",
            "gridcolor": "white",
            "gridwidth": 2,
            "linecolor": "white",
            "showbackground": true,
            "ticks": "",
            "zerolinecolor": "white"
           },
           "zaxis": {
            "backgroundcolor": "#E5ECF6",
            "gridcolor": "white",
            "gridwidth": 2,
            "linecolor": "white",
            "showbackground": true,
            "ticks": "",
            "zerolinecolor": "white"
           }
          },
          "shapedefaults": {
           "line": {
            "color": "#2a3f5f"
           }
          },
          "ternary": {
           "aaxis": {
            "gridcolor": "white",
            "linecolor": "white",
            "ticks": ""
           },
           "baxis": {
            "gridcolor": "white",
            "linecolor": "white",
            "ticks": ""
           },
           "bgcolor": "#E5ECF6",
           "caxis": {
            "gridcolor": "white",
            "linecolor": "white",
            "ticks": ""
           }
          },
          "title": {
           "x": 0.05
          },
          "xaxis": {
           "automargin": true,
           "gridcolor": "white",
           "linecolor": "white",
           "ticks": "",
           "title": {
            "standoff": 15
           },
           "zerolinecolor": "white",
           "zerolinewidth": 2
          },
          "yaxis": {
           "automargin": true,
           "gridcolor": "white",
           "linecolor": "white",
           "ticks": "",
           "title": {
            "standoff": 15
           },
           "zerolinecolor": "white",
           "zerolinewidth": 2
          }
         }
        },
        "xaxis": {
         "anchor": "y",
         "constrain": "domain",
         "domain": [
          0,
          1
         ],
         "scaleanchor": "y"
        },
        "yaxis": {
         "anchor": "x",
         "autorange": "reversed",
         "constrain": "domain",
         "domain": [
          0,
          1
         ]
        }
       }
      }
     },
     "metadata": {},
     "output_type": "display_data"
    },
    {
     "data": {
      "application/vnd.plotly.v1+json": {
       "config": {
        "plotlyServerURL": "https://plot.ly"
       },
       "data": [
        {
         "hovertemplate": "x: %{x}<br>y: %{y}<br>color: [%{z[0]}, %{z[1]}, %{z[2]}]<extra></extra>",
         "name": "0",
         "source": "data:image/png;base64,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",
         "type": "image",
         "xaxis": "x",
         "yaxis": "y"
        }
       ],
       "layout": {
        "margin": {
         "t": 60
        },
        "template": {
         "data": {
          "bar": [
           {
            "error_x": {
             "color": "#2a3f5f"
            },
            "error_y": {
             "color": "#2a3f5f"
            },
            "marker": {
             "line": {
              "color": "#E5ECF6",
              "width": 0.5
             },
             "pattern": {
              "fillmode": "overlay",
              "size": 10,
              "solidity": 0.2
             }
            },
            "type": "bar"
           }
          ],
          "barpolar": [
           {
            "marker": {
             "line": {
              "color": "#E5ECF6",
              "width": 0.5
             },
             "pattern": {
              "fillmode": "overlay",
              "size": 10,
              "solidity": 0.2
             }
            },
            "type": "barpolar"
           }
          ],
          "carpet": [
           {
            "aaxis": {
             "endlinecolor": "#2a3f5f",
             "gridcolor": "white",
             "linecolor": "white",
             "minorgridcolor": "white",
             "startlinecolor": "#2a3f5f"
            },
            "baxis": {
             "endlinecolor": "#2a3f5f",
             "gridcolor": "white",
             "linecolor": "white",
             "minorgridcolor": "white",
             "startlinecolor": "#2a3f5f"
            },
            "type": "carpet"
           }
          ],
          "choropleth": [
           {
            "colorbar": {
             "outlinewidth": 0,
             "ticks": ""
            },
            "type": "choropleth"
           }
          ],
          "contour": [
           {
            "colorbar": {
             "outlinewidth": 0,
             "ticks": ""
            },
            "colorscale": [
             [
              0,
              "#0d0887"
             ],
             [
              0.1111111111111111,
              "#46039f"
             ],
             [
              0.2222222222222222,
              "#7201a8"
             ],
             [
              0.3333333333333333,
              "#9c179e"
             ],
             [
              0.4444444444444444,
              "#bd3786"
             ],
             [
              0.5555555555555556,
              "#d8576b"
             ],
             [
              0.6666666666666666,
              "#ed7953"
             ],
             [
              0.7777777777777778,
              "#fb9f3a"
             ],
             [
              0.8888888888888888,
              "#fdca26"
             ],
             [
              1,
              "#f0f921"
             ]
            ],
            "type": "contour"
           }
          ],
          "contourcarpet": [
           {
            "colorbar": {
             "outlinewidth": 0,
             "ticks": ""
            },
            "type": "contourcarpet"
           }
          ],
          "heatmap": [
           {
            "colorbar": {
             "outlinewidth": 0,
             "ticks": ""
            },
            "colorscale": [
             [
              0,
              "#0d0887"
             ],
             [
              0.1111111111111111,
              "#46039f"
             ],
             [
              0.2222222222222222,
              "#7201a8"
             ],
             [
              0.3333333333333333,
              "#9c179e"
             ],
             [
              0.4444444444444444,
              "#bd3786"
             ],
             [
              0.5555555555555556,
              "#d8576b"
             ],
             [
              0.6666666666666666,
              "#ed7953"
             ],
             [
              0.7777777777777778,
              "#fb9f3a"
             ],
             [
              0.8888888888888888,
              "#fdca26"
             ],
             [
              1,
              "#f0f921"
             ]
            ],
            "type": "heatmap"
           }
          ],
          "heatmapgl": [
           {
            "colorbar": {
             "outlinewidth": 0,
             "ticks": ""
            },
            "colorscale": [
             [
              0,
              "#0d0887"
             ],
             [
              0.1111111111111111,
              "#46039f"
             ],
             [
              0.2222222222222222,
              "#7201a8"
             ],
             [
              0.3333333333333333,
              "#9c179e"
             ],
             [
              0.4444444444444444,
              "#bd3786"
             ],
             [
              0.5555555555555556,
              "#d8576b"
             ],
             [
              0.6666666666666666,
              "#ed7953"
             ],
             [
              0.7777777777777778,
              "#fb9f3a"
             ],
             [
              0.8888888888888888,
              "#fdca26"
             ],
             [
              1,
              "#f0f921"
             ]
            ],
            "type": "heatmapgl"
           }
          ],
          "histogram": [
           {
            "marker": {
             "pattern": {
              "fillmode": "overlay",
              "size": 10,
              "solidity": 0.2
             }
            },
            "type": "histogram"
           }
          ],
          "histogram2d": [
           {
            "colorbar": {
             "outlinewidth": 0,
             "ticks": ""
            },
            "colorscale": [
             [
              0,
              "#0d0887"
             ],
             [
              0.1111111111111111,
              "#46039f"
             ],
             [
              0.2222222222222222,
              "#7201a8"
             ],
             [
              0.3333333333333333,
              "#9c179e"
             ],
             [
              0.4444444444444444,
              "#bd3786"
             ],
             [
              0.5555555555555556,
              "#d8576b"
             ],
             [
              0.6666666666666666,
              "#ed7953"
             ],
             [
              0.7777777777777778,
              "#fb9f3a"
             ],
             [
              0.8888888888888888,
              "#fdca26"
             ],
             [
              1,
              "#f0f921"
             ]
            ],
            "type": "histogram2d"
           }
          ],
          "histogram2dcontour": [
           {
            "colorbar": {
             "outlinewidth": 0,
             "ticks": ""
            },
            "colorscale": [
             [
              0,
              "#0d0887"
             ],
             [
              0.1111111111111111,
              "#46039f"
             ],
             [
              0.2222222222222222,
              "#7201a8"
             ],
             [
              0.3333333333333333,
              "#9c179e"
             ],
             [
              0.4444444444444444,
              "#bd3786"
             ],
             [
              0.5555555555555556,
              "#d8576b"
             ],
             [
              0.6666666666666666,
              "#ed7953"
             ],
             [
              0.7777777777777778,
              "#fb9f3a"
             ],
             [
              0.8888888888888888,
              "#fdca26"
             ],
             [
              1,
              "#f0f921"
             ]
            ],
            "type": "histogram2dcontour"
           }
          ],
          "mesh3d": [
           {
            "colorbar": {
             "outlinewidth": 0,
             "ticks": ""
            },
            "type": "mesh3d"
           }
          ],
          "parcoords": [
           {
            "line": {
             "colorbar": {
              "outlinewidth": 0,
              "ticks": ""
             }
            },
            "type": "parcoords"
           }
          ],
          "pie": [
           {
            "automargin": true,
            "type": "pie"
           }
          ],
          "scatter": [
           {
            "fillpattern": {
             "fillmode": "overlay",
             "size": 10,
             "solidity": 0.2
            },
            "type": "scatter"
           }
          ],
          "scatter3d": [
           {
            "line": {
             "colorbar": {
              "outlinewidth": 0,
              "ticks": ""
             }
            },
            "marker": {
             "colorbar": {
              "outlinewidth": 0,
              "ticks": ""
             }
            },
            "type": "scatter3d"
           }
          ],
          "scattercarpet": [
           {
            "marker": {
             "colorbar": {
              "outlinewidth": 0,
              "ticks": ""
             }
            },
            "type": "scattercarpet"
           }
          ],
          "scattergeo": [
           {
            "marker": {
             "colorbar": {
              "outlinewidth": 0,
              "ticks": ""
             }
            },
            "type": "scattergeo"
           }
          ],
          "scattergl": [
           {
            "marker": {
             "colorbar": {
              "outlinewidth": 0,
              "ticks": ""
             }
            },
            "type": "scattergl"
           }
          ],
          "scattermapbox": [
           {
            "marker": {
             "colorbar": {
              "outlinewidth": 0,
              "ticks": ""
             }
            },
            "type": "scattermapbox"
           }
          ],
          "scatterpolar": [
           {
            "marker": {
             "colorbar": {
              "outlinewidth": 0,
              "ticks": ""
             }
            },
            "type": "scatterpolar"
           }
          ],
          "scatterpolargl": [
           {
            "marker": {
             "colorbar": {
              "outlinewidth": 0,
              "ticks": ""
             }
            },
            "type": "scatterpolargl"
           }
          ],
          "scatterternary": [
           {
            "marker": {
             "colorbar": {
              "outlinewidth": 0,
              "ticks": ""
             }
            },
            "type": "scatterternary"
           }
          ],
          "surface": [
           {
            "colorbar": {
             "outlinewidth": 0,
             "ticks": ""
            },
            "colorscale": [
             [
              0,
              "#0d0887"
             ],
             [
              0.1111111111111111,
              "#46039f"
             ],
             [
              0.2222222222222222,
              "#7201a8"
             ],
             [
              0.3333333333333333,
              "#9c179e"
             ],
             [
              0.4444444444444444,
              "#bd3786"
             ],
             [
              0.5555555555555556,
              "#d8576b"
             ],
             [
              0.6666666666666666,
              "#ed7953"
             ],
             [
              0.7777777777777778,
              "#fb9f3a"
             ],
             [
              0.8888888888888888,
              "#fdca26"
             ],
             [
              1,
              "#f0f921"
             ]
            ],
            "type": "surface"
           }
          ],
          "table": [
           {
            "cells": {
             "fill": {
              "color": "#EBF0F8"
             },
             "line": {
              "color": "white"
             }
            },
            "header": {
             "fill": {
              "color": "#C8D4E3"
             },
             "line": {
              "color": "white"
             }
            },
            "type": "table"
           }
          ]
         },
         "layout": {
          "annotationdefaults": {
           "arrowcolor": "#2a3f5f",
           "arrowhead": 0,
           "arrowwidth": 1
          },
          "autotypenumbers": "strict",
          "coloraxis": {
           "colorbar": {
            "outlinewidth": 0,
            "ticks": ""
           }
          },
          "colorscale": {
           "diverging": [
            [
             0,
             "#8e0152"
            ],
            [
             0.1,
             "#c51b7d"
            ],
            [
             0.2,
             "#de77ae"
            ],
            [
             0.3,
             "#f1b6da"
            ],
            [
             0.4,
             "#fde0ef"
            ],
            [
             0.5,
             "#f7f7f7"
            ],
            [
             0.6,
             "#e6f5d0"
            ],
            [
             0.7,
             "#b8e186"
            ],
            [
             0.8,
             "#7fbc41"
            ],
            [
             0.9,
             "#4d9221"
            ],
            [
             1,
             "#276419"
            ]
           ],
           "sequential": [
            [
             0,
             "#0d0887"
            ],
            [
             0.1111111111111111,
             "#46039f"
            ],
            [
             0.2222222222222222,
             "#7201a8"
            ],
            [
             0.3333333333333333,
             "#9c179e"
            ],
            [
             0.4444444444444444,
             "#bd3786"
            ],
            [
             0.5555555555555556,
             "#d8576b"
            ],
            [
             0.6666666666666666,
             "#ed7953"
            ],
            [
             0.7777777777777778,
             "#fb9f3a"
            ],
            [
             0.8888888888888888,
             "#fdca26"
            ],
            [
             1,
             "#f0f921"
            ]
           ],
           "sequentialminus": [
            [
             0,
             "#0d0887"
            ],
            [
             0.1111111111111111,
             "#46039f"
            ],
            [
             0.2222222222222222,
             "#7201a8"
            ],
            [
             0.3333333333333333,
             "#9c179e"
            ],
            [
             0.4444444444444444,
             "#bd3786"
            ],
            [
             0.5555555555555556,
             "#d8576b"
            ],
            [
             0.6666666666666666,
             "#ed7953"
            ],
            [
             0.7777777777777778,
             "#fb9f3a"
            ],
            [
             0.8888888888888888,
             "#fdca26"
            ],
            [
             1,
             "#f0f921"
            ]
           ]
          },
          "colorway": [
           "#636efa",
           "#EF553B",
           "#00cc96",
           "#ab63fa",
           "#FFA15A",
           "#19d3f3",
           "#FF6692",
           "#B6E880",
           "#FF97FF",
           "#FECB52"
          ],
          "font": {
           "color": "#2a3f5f"
          },
          "geo": {
           "bgcolor": "white",
           "lakecolor": "white",
           "landcolor": "#E5ECF6",
           "showlakes": true,
           "showland": true,
           "subunitcolor": "white"
          },
          "hoverlabel": {
           "align": "left"
          },
          "hovermode": "closest",
          "mapbox": {
           "style": "light"
          },
          "paper_bgcolor": "white",
          "plot_bgcolor": "#E5ECF6",
          "polar": {
           "angularaxis": {
            "gridcolor": "white",
            "linecolor": "white",
            "ticks": ""
           },
           "bgcolor": "#E5ECF6",
           "radialaxis": {
            "gridcolor": "white",
            "linecolor": "white",
            "ticks": ""
           }
          },
          "scene": {
           "xaxis": {
            "backgroundcolor": "#E5ECF6",
            "gridcolor": "white",
            "gridwidth": 2,
            "linecolor": "white",
            "showbackground": true,
            "ticks": "",
            "zerolinecolor": "white"
           },
           "yaxis": {
            "backgroundcolor": "#E5ECF6",
            "gridcolor": "white",
            "gridwidth": 2,
            "linecolor": "white",
            "showbackground": true,
            "ticks": "",
            "zerolinecolor": "white"
           },
           "zaxis": {
            "backgroundcolor": "#E5ECF6",
            "gridcolor": "white",
            "gridwidth": 2,
            "linecolor": "white",
            "showbackground": true,
            "ticks": "",
            "zerolinecolor": "white"
           }
          },
          "shapedefaults": {
           "line": {
            "color": "#2a3f5f"
           }
          },
          "ternary": {
           "aaxis": {
            "gridcolor": "white",
            "linecolor": "white",
            "ticks": ""
           },
           "baxis": {
            "gridcolor": "white",
            "linecolor": "white",
            "ticks": ""
           },
           "bgcolor": "#E5ECF6",
           "caxis": {
            "gridcolor": "white",
            "linecolor": "white",
            "ticks": ""
           }
          },
          "title": {
           "x": 0.05
          },
          "xaxis": {
           "automargin": true,
           "gridcolor": "white",
           "linecolor": "white",
           "ticks": "",
           "title": {
            "standoff": 15
           },
           "zerolinecolor": "white",
           "zerolinewidth": 2
          },
          "yaxis": {
           "automargin": true,
           "gridcolor": "white",
           "linecolor": "white",
           "ticks": "",
           "title": {
            "standoff": 15
           },
           "zerolinecolor": "white",
           "zerolinewidth": 2
          }
         }
        },
        "xaxis": {
         "anchor": "y",
         "domain": [
          0,
          1
         ]
        },
        "yaxis": {
         "anchor": "x",
         "domain": [
          0,
          1
         ]
        }
       }
      }
     },
     "metadata": {},
     "output_type": "display_data"
    },
    {
     "data": {
      "application/vnd.plotly.v1+json": {
       "config": {
        "plotlyServerURL": "https://plot.ly"
       },
       "data": [
        {
         "coloraxis": "coloraxis",
         "hovertemplate": "x: %{x}<br>y: %{y}<br>color: %{z}<extra></extra>",
         "name": "0",
         "type": "heatmap",
         "xaxis": "x",
         "yaxis": "y",
         "z": [
          [
           0,
           0,
           0,
           0,
           0,
           0,
           0,
           0,
           0,
           0,
           0,
           0,
           0,
           0,
           0,
           0,
           0,
           0,
           0,
           0,
           0,
           0,
           0,
           0,
           0,
           0,
           0,
           0,
           0,
           0,
           0,
           0,
           0,
           0,
           0,
           0,
           0,
           0,
           0,
           0,
           0,
           0,
           0,
           0,
           0,
           0,
           0,
           0
          ],
          [
           0,
           255,
           255,
           255,
           255,
           0,
           0,
           0,
           0,
           0,
           255,
           255,
           255,
           255,
           255,
           255,
           255,
           255,
           255,
           255,
           255,
           255,
           255,
           255,
           255,
           255,
           255,
           255,
           255,
           255,
           255,
           255,
           255,
           255,
           255,
           255,
           255,
           255,
           255,
           255,
           255,
           255,
           255,
           255,
           255,
           255,
           255,
           0
          ],
          [
           0,
           255,
           255,
           255,
           0,
           0,
           0,
           0,
           0,
           0,
           255,
           255,
           255,
           255,
           255,
           255,
           255,
           255,
           255,
           255,
           255,
           255,
           255,
           255,
           255,
           255,
           255,
           255,
           255,
           255,
           255,
           255,
           255,
           255,
           255,
           255,
           255,
           255,
           255,
           255,
           255,
           255,
           255,
           255,
           255,
           255,
           255,
           0
          ],
          [
           0,
           255,
           255,
           0,
           0,
           0,
           0,
           0,
           0,
           0,
           255,
           255,
           255,
           255,
           255,
           255,
           255,
           255,
           255,
           255,
           255,
           255,
           255,
           255,
           255,
           255,
           255,
           255,
           255,
           255,
           255,
           255,
           255,
           255,
           255,
           255,
           255,
           255,
           255,
           255,
           255,
           255,
           255,
           255,
           255,
           255,
           255,
           0
          ],
          [
           0,
           255,
           0,
           0,
           0,
           0,
           0,
           0,
           0,
           255,
           255,
           0,
           0,
           0,
           255,
           255,
           255,
           255,
           255,
           255,
           255,
           255,
           255,
           255,
           255,
           255,
           255,
           255,
           255,
           255,
           255,
           255,
           255,
           255,
           255,
           255,
           255,
           255,
           255,
           255,
           255,
           255,
           255,
           255,
           255,
           255,
           255,
           0
          ],
          [
           0,
           0,
           0,
           0,
           0,
           0,
           0,
           0,
           0,
           0,
           0,
           0,
           0,
           0,
           255,
           255,
           255,
           255,
           255,
           255,
           255,
           255,
           255,
           255,
           255,
           255,
           255,
           255,
           255,
           255,
           255,
           255,
           255,
           255,
           255,
           255,
           255,
           255,
           255,
           255,
           255,
           255,
           255,
           255,
           255,
           255,
           255,
           0
          ],
          [
           0,
           0,
           0,
           0,
           0,
           0,
           0,
           0,
           0,
           0,
           0,
           0,
           0,
           0,
           255,
           255,
           255,
           255,
           255,
           255,
           255,
           255,
           255,
           255,
           255,
           255,
           255,
           255,
           255,
           255,
           255,
           255,
           255,
           255,
           255,
           255,
           255,
           255,
           255,
           255,
           255,
           255,
           255,
           255,
           255,
           255,
           255,
           0
          ],
          [
           0,
           0,
           0,
           0,
           0,
           0,
           0,
           0,
           0,
           0,
           0,
           0,
           0,
           255,
           255,
           255,
           255,
           255,
           255,
           255,
           255,
           255,
           255,
           255,
           255,
           255,
           255,
           255,
           255,
           255,
           255,
           255,
           255,
           255,
           255,
           255,
           255,
           255,
           255,
           255,
           255,
           255,
           255,
           255,
           255,
           255,
           255,
           0
          ],
          [
           0,
           0,
           0,
           0,
           0,
           0,
           0,
           0,
           0,
           0,
           0,
           255,
           255,
           255,
           255,
           255,
           255,
           255,
           255,
           255,
           255,
           255,
           255,
           255,
           255,
           255,
           255,
           255,
           255,
           255,
           255,
           255,
           255,
           0,
           0,
           0,
           255,
           255,
           255,
           255,
           255,
           255,
           255,
           255,
           255,
           255,
           255,
           0
          ],
          [
           0,
           0,
           0,
           0,
           0,
           0,
           0,
           0,
           0,
           0,
           255,
           255,
           255,
           255,
           255,
           255,
           255,
           255,
           255,
           255,
           255,
           255,
           255,
           255,
           255,
           255,
           255,
           255,
           255,
           255,
           255,
           255,
           255,
           0,
           0,
           0,
           255,
           255,
           255,
           255,
           255,
           255,
           255,
           255,
           255,
           255,
           255,
           0
          ],
          [
           0,
           255,
           0,
           0,
           0,
           0,
           0,
           0,
           0,
           255,
           255,
           255,
           255,
           255,
           255,
           255,
           255,
           255,
           255,
           255,
           255,
           255,
           255,
           255,
           255,
           255,
           255,
           255,
           255,
           255,
           255,
           255,
           255,
           0,
           0,
           0,
           255,
           255,
           255,
           255,
           255,
           0,
           0,
           0,
           255,
           255,
           255,
           0
          ],
          [
           0,
           255,
           255,
           0,
           0,
           0,
           0,
           0,
           255,
           255,
           255,
           255,
           255,
           255,
           255,
           255,
           255,
           255,
           255,
           255,
           255,
           255,
           255,
           255,
           255,
           255,
           255,
           255,
           255,
           255,
           255,
           255,
           255,
           255,
           255,
           255,
           255,
           255,
           255,
           255,
           255,
           0,
           0,
           0,
           255,
           255,
           255,
           0
          ],
          [
           0,
           255,
           255,
           255,
           0,
           0,
           0,
           255,
           255,
           255,
           255,
           255,
           255,
           255,
           255,
           255,
           255,
           255,
           255,
           255,
           255,
           255,
           255,
           255,
           255,
           255,
           255,
           255,
           255,
           255,
           255,
           255,
           255,
           0,
           0,
           0,
           255,
           255,
           255,
           255,
           255,
           0,
           0,
           0,
           255,
           255,
           0,
           0
          ],
          [
           0,
           255,
           255,
           255,
           255,
           0,
           255,
           255,
           255,
           255,
           255,
           255,
           255,
           255,
           255,
           255,
           0,
           0,
           0,
           255,
           255,
           255,
           255,
           255,
           255,
           255,
           255,
           255,
           255,
           255,
           255,
           255,
           255,
           0,
           0,
           0,
           255,
           255,
           255,
           255,
           255,
           255,
           255,
           255,
           255,
           0,
           0,
           0
          ],
          [
           0,
           255,
           255,
           255,
           255,
           255,
           255,
           255,
           255,
           255,
           255,
           255,
           255,
           255,
           255,
           255,
           0,
           0,
           0,
           255,
           255,
           255,
           255,
           255,
           255,
           255,
           255,
           255,
           255,
           255,
           255,
           255,
           255,
           0,
           0,
           0,
           255,
           255,
           255,
           255,
           255,
           255,
           255,
           255,
           255,
           0,
           0,
           0
          ],
          [
           0,
           255,
           255,
           255,
           255,
           255,
           255,
           255,
           255,
           0,
           0,
           0,
           255,
           255,
           255,
           255,
           0,
           0,
           0,
           255,
           255,
           255,
           255,
           255,
           255,
           255,
           255,
           255,
           255,
           255,
           255,
           255,
           255,
           0,
           0,
           0,
           255,
           255,
           255,
           255,
           255,
           255,
           255,
           255,
           255,
           0,
           0,
           0
          ],
          [
           0,
           255,
           255,
           255,
           255,
           255,
           255,
           255,
           255,
           0,
           0,
           0,
           255,
           255,
           255,
           255,
           255,
           255,
           255,
           255,
           255,
           255,
           255,
           255,
           255,
           255,
           255,
           255,
           255,
           255,
           255,
           0,
           0,
           0,
           0,
           0,
           255,
           255,
           255,
           255,
           255,
           255,
           255,
           255,
           255,
           255,
           255,
           0
          ],
          [
           0,
           255,
           255,
           255,
           255,
           0,
           0,
           0,
           255,
           0,
           0,
           0,
           255,
           255,
           255,
           255,
           255,
           255,
           255,
           255,
           255,
           255,
           255,
           255,
           255,
           255,
           255,
           255,
           255,
           255,
           255,
           0,
           0,
           0,
           0,
           0,
           255,
           255,
           255,
           255,
           255,
           255,
           255,
           255,
           255,
           255,
           255,
           0
          ],
          [
           0,
           255,
           255,
           255,
           255,
           0,
           0,
           0,
           255,
           255,
           255,
           255,
           255,
           255,
           255,
           255,
           255,
           255,
           255,
           255,
           255,
           255,
           255,
           255,
           255,
           255,
           255,
           255,
           255,
           255,
           255,
           0,
           0,
           0,
           255,
           255,
           255,
           255,
           255,
           255,
           255,
           255,
           255,
           255,
           255,
           255,
           255,
           0
          ],
          [
           0,
           255,
           255,
           255,
           255,
           0,
           0,
           0,
           255,
           255,
           255,
           255,
           255,
           255,
           255,
           255,
           255,
           255,
           255,
           255,
           255,
           255,
           255,
           255,
           255,
           255,
           255,
           255,
           255,
           255,
           255,
           255,
           255,
           255,
           255,
           255,
           255,
           255,
           255,
           255,
           255,
           255,
           255,
           0,
           0,
           0,
           255,
           0
          ],
          [
           0,
           255,
           255,
           255,
           255,
           255,
           255,
           255,
           255,
           255,
           255,
           255,
           255,
           255,
           255,
           255,
           255,
           255,
           255,
           255,
           255,
           255,
           255,
           0,
           0,
           0,
           0,
           255,
           255,
           255,
           255,
           255,
           255,
           255,
           255,
           0,
           0,
           0,
           255,
           255,
           255,
           255,
           0,
           0,
           0,
           0,
           255,
           0
          ],
          [
           0,
           255,
           255,
           255,
           255,
           255,
           255,
           255,
           255,
           255,
           255,
           255,
           255,
           255,
           255,
           255,
           255,
           255,
           255,
           255,
           255,
           255,
           255,
           0,
           0,
           0,
           0,
           0,
           255,
           255,
           255,
           255,
           255,
           255,
           255,
           0,
           0,
           0,
           255,
           255,
           255,
           255,
           0,
           0,
           0,
           0,
           255,
           0
          ],
          [
           0,
           255,
           255,
           255,
           255,
           255,
           255,
           255,
           255,
           255,
           255,
           255,
           255,
           255,
           255,
           255,
           255,
           255,
           255,
           255,
           255,
           255,
           255,
           0,
           0,
           0,
           0,
           0,
           255,
           255,
           255,
           255,
           255,
           255,
           255,
           0,
           0,
           0,
           255,
           255,
           255,
           255,
           0,
           0,
           0,
           0,
           255,
           0
          ],
          [
           0,
           255,
           255,
           255,
           255,
           255,
           255,
           255,
           255,
           255,
           255,
           255,
           255,
           255,
           255,
           255,
           255,
           255,
           255,
           255,
           255,
           255,
           255,
           0,
           0,
           0,
           0,
           0,
           255,
           255,
           255,
           0,
           0,
           0,
           255,
           255,
           255,
           255,
           255,
           255,
           255,
           255,
           0,
           0,
           0,
           0,
           255,
           0
          ],
          [
           0,
           255,
           255,
           255,
           255,
           255,
           255,
           255,
           255,
           255,
           255,
           255,
           255,
           255,
           255,
           255,
           255,
           255,
           255,
           255,
           255,
           255,
           255,
           0,
           0,
           0,
           0,
           0,
           255,
           255,
           255,
           0,
           0,
           0,
           255,
           255,
           255,
           255,
           255,
           255,
           255,
           255,
           0,
           0,
           0,
           0,
           255,
           0
          ],
          [
           0,
           255,
           255,
           255,
           255,
           255,
           255,
           255,
           255,
           255,
           255,
           255,
           255,
           255,
           255,
           255,
           255,
           255,
           255,
           255,
           255,
           255,
           255,
           0,
           0,
           0,
           0,
           0,
           255,
           255,
           255,
           0,
           0,
           0,
           255,
           255,
           255,
           255,
           255,
           255,
           255,
           255,
           0,
           0,
           0,
           0,
           255,
           0
          ],
          [
           0,
           255,
           255,
           255,
           255,
           255,
           255,
           255,
           255,
           255,
           255,
           255,
           255,
           255,
           255,
           255,
           255,
           255,
           255,
           255,
           255,
           255,
           255,
           0,
           0,
           0,
           0,
           0,
           255,
           255,
           255,
           0,
           0,
           0,
           255,
           255,
           255,
           255,
           255,
           255,
           255,
           255,
           0,
           0,
           0,
           0,
           255,
           0
          ],
          [
           0,
           255,
           255,
           255,
           255,
           255,
           255,
           255,
           255,
           255,
           255,
           255,
           255,
           255,
           255,
           255,
           255,
           255,
           255,
           255,
           255,
           255,
           255,
           0,
           0,
           0,
           0,
           255,
           255,
           255,
           255,
           255,
           255,
           255,
           255,
           255,
           255,
           255,
           255,
           255,
           255,
           255,
           0,
           0,
           0,
           0,
           255,
           0
          ],
          [
           0,
           255,
           255,
           255,
           255,
           255,
           255,
           255,
           255,
           255,
           255,
           255,
           255,
           255,
           255,
           255,
           255,
           255,
           255,
           255,
           255,
           255,
           255,
           255,
           255,
           255,
           255,
           255,
           255,
           255,
           255,
           255,
           255,
           255,
           255,
           255,
           255,
           255,
           255,
           255,
           255,
           255,
           255,
           0,
           0,
           0,
           255,
           0
          ],
          [
           0,
           255,
           255,
           255,
           255,
           255,
           255,
           255,
           255,
           255,
           255,
           255,
           255,
           255,
           255,
           255,
           255,
           255,
           255,
           255,
           255,
           255,
           255,
           255,
           255,
           255,
           255,
           255,
           255,
           255,
           255,
           255,
           255,
           255,
           255,
           255,
           255,
           255,
           255,
           255,
           255,
           255,
           255,
           255,
           255,
           255,
           255,
           0
          ],
          [
           0,
           255,
           255,
           255,
           255,
           255,
           255,
           255,
           255,
           0,
           0,
           0,
           255,
           255,
           255,
           255,
           255,
           255,
           255,
           255,
           255,
           255,
           255,
           255,
           255,
           255,
           255,
           255,
           255,
           255,
           255,
           255,
           255,
           255,
           255,
           255,
           255,
           255,
           255,
           255,
           255,
           255,
           255,
           255,
           255,
           255,
           255,
           0
          ],
          [
           0,
           255,
           255,
           255,
           255,
           255,
           255,
           255,
           255,
           0,
           0,
           0,
           255,
           255,
           255,
           255,
           255,
           255,
           255,
           255,
           255,
           255,
           255,
           255,
           255,
           255,
           255,
           255,
           255,
           255,
           255,
           255,
           255,
           255,
           255,
           255,
           255,
           255,
           255,
           255,
           255,
           255,
           255,
           255,
           255,
           255,
           255,
           0
          ],
          [
           0,
           255,
           255,
           255,
           255,
           255,
           255,
           255,
           255,
           0,
           0,
           0,
           255,
           255,
           255,
           255,
           255,
           255,
           255,
           255,
           255,
           255,
           255,
           255,
           255,
           255,
           255,
           255,
           255,
           255,
           255,
           255,
           255,
           255,
           255,
           255,
           255,
           255,
           255,
           255,
           255,
           255,
           255,
           255,
           255,
           0,
           0,
           0
          ],
          [
           0,
           255,
           255,
           255,
           255,
           255,
           255,
           255,
           255,
           255,
           255,
           255,
           255,
           255,
           255,
           255,
           255,
           255,
           255,
           255,
           255,
           255,
           255,
           255,
           255,
           0,
           0,
           0,
           255,
           255,
           255,
           255,
           255,
           255,
           255,
           255,
           255,
           255,
           255,
           255,
           255,
           255,
           255,
           255,
           255,
           0,
           0,
           0
          ],
          [
           0,
           255,
           255,
           255,
           255,
           255,
           255,
           255,
           255,
           255,
           255,
           255,
           255,
           255,
           255,
           255,
           255,
           255,
           255,
           255,
           255,
           255,
           255,
           255,
           255,
           0,
           0,
           0,
           255,
           255,
           255,
           255,
           255,
           255,
           255,
           255,
           255,
           255,
           255,
           255,
           255,
           255,
           255,
           255,
           255,
           0,
           0,
           0
          ],
          [
           0,
           255,
           255,
           255,
           255,
           255,
           255,
           255,
           255,
           255,
           255,
           255,
           255,
           255,
           255,
           255,
           255,
           255,
           255,
           255,
           255,
           255,
           255,
           255,
           255,
           0,
           0,
           0,
           255,
           255,
           255,
           255,
           255,
           255,
           255,
           255,
           255,
           255,
           255,
           255,
           255,
           0,
           0,
           0,
           255,
           255,
           0,
           0
          ],
          [
           0,
           255,
           0,
           0,
           0,
           255,
           255,
           255,
           255,
           255,
           255,
           255,
           255,
           255,
           255,
           255,
           255,
           255,
           255,
           255,
           255,
           255,
           255,
           255,
           255,
           255,
           255,
           255,
           255,
           255,
           255,
           255,
           255,
           255,
           255,
           255,
           255,
           255,
           255,
           255,
           255,
           0,
           0,
           0,
           255,
           255,
           255,
           0
          ],
          [
           0,
           255,
           0,
           0,
           0,
           255,
           255,
           255,
           255,
           255,
           255,
           255,
           255,
           255,
           255,
           255,
           255,
           255,
           255,
           255,
           255,
           255,
           255,
           255,
           255,
           255,
           255,
           255,
           255,
           255,
           255,
           255,
           255,
           255,
           255,
           255,
           255,
           255,
           255,
           255,
           255,
           0,
           0,
           0,
           255,
           255,
           255,
           0
          ],
          [
           0,
           255,
           0,
           0,
           0,
           255,
           255,
           255,
           255,
           255,
           255,
           255,
           255,
           255,
           255,
           255,
           255,
           255,
           255,
           255,
           255,
           255,
           255,
           255,
           255,
           255,
           255,
           255,
           255,
           255,
           255,
           255,
           255,
           255,
           255,
           255,
           255,
           255,
           255,
           255,
           255,
           255,
           255,
           255,
           255,
           255,
           255,
           0
          ],
          [
           0,
           0,
           0,
           0,
           255,
           255,
           255,
           255,
           255,
           255,
           255,
           255,
           255,
           255,
           255,
           255,
           255,
           255,
           255,
           255,
           255,
           255,
           255,
           255,
           255,
           255,
           255,
           255,
           255,
           255,
           255,
           255,
           255,
           255,
           255,
           255,
           255,
           255,
           255,
           255,
           255,
           255,
           255,
           255,
           255,
           255,
           255,
           0
          ],
          [
           0,
           0,
           0,
           0,
           255,
           255,
           255,
           255,
           255,
           255,
           255,
           255,
           255,
           255,
           255,
           255,
           255,
           255,
           255,
           255,
           255,
           255,
           255,
           255,
           255,
           255,
           255,
           255,
           255,
           255,
           255,
           255,
           255,
           255,
           255,
           255,
           255,
           255,
           255,
           255,
           255,
           255,
           255,
           255,
           255,
           255,
           255,
           0
          ],
          [
           0,
           0,
           0,
           0,
           255,
           0,
           0,
           0,
           255,
           255,
           255,
           0,
           0,
           0,
           255,
           255,
           255,
           255,
           255,
           255,
           255,
           255,
           255,
           255,
           255,
           255,
           255,
           255,
           255,
           255,
           255,
           255,
           255,
           255,
           255,
           255,
           255,
           255,
           255,
           255,
           255,
           255,
           255,
           255,
           255,
           255,
           255,
           0
          ],
          [
           0,
           255,
           255,
           255,
           0,
           0,
           0,
           0,
           0,
           255,
           255,
           0,
           0,
           0,
           255,
           255,
           255,
           255,
           255,
           255,
           255,
           255,
           255,
           255,
           255,
           255,
           255,
           255,
           255,
           255,
           255,
           255,
           255,
           255,
           255,
           255,
           255,
           255,
           255,
           255,
           255,
           255,
           255,
           255,
           255,
           255,
           255,
           0
          ],
          [
           0,
           255,
           255,
           255,
           0,
           0,
           0,
           0,
           0,
           0,
           255,
           0,
           0,
           0,
           255,
           255,
           255,
           255,
           255,
           255,
           255,
           255,
           255,
           255,
           255,
           255,
           255,
           255,
           255,
           255,
           255,
           255,
           255,
           255,
           255,
           255,
           255,
           255,
           255,
           255,
           255,
           255,
           255,
           255,
           255,
           255,
           255,
           0
          ],
          [
           0,
           255,
           255,
           255,
           0,
           0,
           0,
           0,
           0,
           0,
           255,
           255,
           255,
           255,
           255,
           255,
           255,
           255,
           0,
           0,
           0,
           0,
           0,
           0,
           255,
           255,
           255,
           255,
           255,
           255,
           255,
           255,
           255,
           255,
           255,
           255,
           255,
           255,
           255,
           255,
           255,
           255,
           255,
           255,
           255,
           255,
           255,
           0
          ],
          [
           0,
           255,
           255,
           255,
           255,
           0,
           0,
           0,
           0,
           0,
           255,
           255,
           255,
           255,
           255,
           255,
           255,
           255,
           0,
           0,
           0,
           0,
           0,
           0,
           255,
           255,
           255,
           255,
           255,
           255,
           255,
           255,
           255,
           255,
           255,
           255,
           255,
           255,
           255,
           255,
           255,
           255,
           255,
           255,
           255,
           255,
           255,
           0
          ],
          [
           0,
           255,
           255,
           255,
           255,
           0,
           0,
           0,
           0,
           255,
           255,
           255,
           255,
           255,
           255,
           255,
           255,
           255,
           0,
           0,
           0,
           0,
           0,
           0,
           255,
           255,
           255,
           255,
           255,
           255,
           255,
           255,
           255,
           255,
           255,
           255,
           255,
           255,
           255,
           255,
           255,
           255,
           255,
           255,
           255,
           255,
           255,
           0
          ],
          [
           0,
           0,
           0,
           0,
           0,
           0,
           0,
           0,
           0,
           0,
           0,
           0,
           0,
           0,
           0,
           0,
           0,
           0,
           0,
           0,
           0,
           0,
           0,
           0,
           0,
           0,
           0,
           0,
           0,
           0,
           0,
           0,
           0,
           0,
           0,
           0,
           0,
           0,
           0,
           0,
           0,
           0,
           0,
           0,
           0,
           0,
           0,
           0
          ]
         ]
        }
       ],
       "layout": {
        "coloraxis": {
         "colorscale": [
          [
           0,
           "#0d0887"
          ],
          [
           0.1111111111111111,
           "#46039f"
          ],
          [
           0.2222222222222222,
           "#7201a8"
          ],
          [
           0.3333333333333333,
           "#9c179e"
          ],
          [
           0.4444444444444444,
           "#bd3786"
          ],
          [
           0.5555555555555556,
           "#d8576b"
          ],
          [
           0.6666666666666666,
           "#ed7953"
          ],
          [
           0.7777777777777778,
           "#fb9f3a"
          ],
          [
           0.8888888888888888,
           "#fdca26"
          ],
          [
           1,
           "#f0f921"
          ]
         ]
        },
        "margin": {
         "t": 60
        },
        "template": {
         "data": {
          "bar": [
           {
            "error_x": {
             "color": "#2a3f5f"
            },
            "error_y": {
             "color": "#2a3f5f"
            },
            "marker": {
             "line": {
              "color": "#E5ECF6",
              "width": 0.5
             },
             "pattern": {
              "fillmode": "overlay",
              "size": 10,
              "solidity": 0.2
             }
            },
            "type": "bar"
           }
          ],
          "barpolar": [
           {
            "marker": {
             "line": {
              "color": "#E5ECF6",
              "width": 0.5
             },
             "pattern": {
              "fillmode": "overlay",
              "size": 10,
              "solidity": 0.2
             }
            },
            "type": "barpolar"
           }
          ],
          "carpet": [
           {
            "aaxis": {
             "endlinecolor": "#2a3f5f",
             "gridcolor": "white",
             "linecolor": "white",
             "minorgridcolor": "white",
             "startlinecolor": "#2a3f5f"
            },
            "baxis": {
             "endlinecolor": "#2a3f5f",
             "gridcolor": "white",
             "linecolor": "white",
             "minorgridcolor": "white",
             "startlinecolor": "#2a3f5f"
            },
            "type": "carpet"
           }
          ],
          "choropleth": [
           {
            "colorbar": {
             "outlinewidth": 0,
             "ticks": ""
            },
            "type": "choropleth"
           }
          ],
          "contour": [
           {
            "colorbar": {
             "outlinewidth": 0,
             "ticks": ""
            },
            "colorscale": [
             [
              0,
              "#0d0887"
             ],
             [
              0.1111111111111111,
              "#46039f"
             ],
             [
              0.2222222222222222,
              "#7201a8"
             ],
             [
              0.3333333333333333,
              "#9c179e"
             ],
             [
              0.4444444444444444,
              "#bd3786"
             ],
             [
              0.5555555555555556,
              "#d8576b"
             ],
             [
              0.6666666666666666,
              "#ed7953"
             ],
             [
              0.7777777777777778,
              "#fb9f3a"
             ],
             [
              0.8888888888888888,
              "#fdca26"
             ],
             [
              1,
              "#f0f921"
             ]
            ],
            "type": "contour"
           }
          ],
          "contourcarpet": [
           {
            "colorbar": {
             "outlinewidth": 0,
             "ticks": ""
            },
            "type": "contourcarpet"
           }
          ],
          "heatmap": [
           {
            "colorbar": {
             "outlinewidth": 0,
             "ticks": ""
            },
            "colorscale": [
             [
              0,
              "#0d0887"
             ],
             [
              0.1111111111111111,
              "#46039f"
             ],
             [
              0.2222222222222222,
              "#7201a8"
             ],
             [
              0.3333333333333333,
              "#9c179e"
             ],
             [
              0.4444444444444444,
              "#bd3786"
             ],
             [
              0.5555555555555556,
              "#d8576b"
             ],
             [
              0.6666666666666666,
              "#ed7953"
             ],
             [
              0.7777777777777778,
              "#fb9f3a"
             ],
             [
              0.8888888888888888,
              "#fdca26"
             ],
             [
              1,
              "#f0f921"
             ]
            ],
            "type": "heatmap"
           }
          ],
          "heatmapgl": [
           {
            "colorbar": {
             "outlinewidth": 0,
             "ticks": ""
            },
            "colorscale": [
             [
              0,
              "#0d0887"
             ],
             [
              0.1111111111111111,
              "#46039f"
             ],
             [
              0.2222222222222222,
              "#7201a8"
             ],
             [
              0.3333333333333333,
              "#9c179e"
             ],
             [
              0.4444444444444444,
              "#bd3786"
             ],
             [
              0.5555555555555556,
              "#d8576b"
             ],
             [
              0.6666666666666666,
              "#ed7953"
             ],
             [
              0.7777777777777778,
              "#fb9f3a"
             ],
             [
              0.8888888888888888,
              "#fdca26"
             ],
             [
              1,
              "#f0f921"
             ]
            ],
            "type": "heatmapgl"
           }
          ],
          "histogram": [
           {
            "marker": {
             "pattern": {
              "fillmode": "overlay",
              "size": 10,
              "solidity": 0.2
             }
            },
            "type": "histogram"
           }
          ],
          "histogram2d": [
           {
            "colorbar": {
             "outlinewidth": 0,
             "ticks": ""
            },
            "colorscale": [
             [
              0,
              "#0d0887"
             ],
             [
              0.1111111111111111,
              "#46039f"
             ],
             [
              0.2222222222222222,
              "#7201a8"
             ],
             [
              0.3333333333333333,
              "#9c179e"
             ],
             [
              0.4444444444444444,
              "#bd3786"
             ],
             [
              0.5555555555555556,
              "#d8576b"
             ],
             [
              0.6666666666666666,
              "#ed7953"
             ],
             [
              0.7777777777777778,
              "#fb9f3a"
             ],
             [
              0.8888888888888888,
              "#fdca26"
             ],
             [
              1,
              "#f0f921"
             ]
            ],
            "type": "histogram2d"
           }
          ],
          "histogram2dcontour": [
           {
            "colorbar": {
             "outlinewidth": 0,
             "ticks": ""
            },
            "colorscale": [
             [
              0,
              "#0d0887"
             ],
             [
              0.1111111111111111,
              "#46039f"
             ],
             [
              0.2222222222222222,
              "#7201a8"
             ],
             [
              0.3333333333333333,
              "#9c179e"
             ],
             [
              0.4444444444444444,
              "#bd3786"
             ],
             [
              0.5555555555555556,
              "#d8576b"
             ],
             [
              0.6666666666666666,
              "#ed7953"
             ],
             [
              0.7777777777777778,
              "#fb9f3a"
             ],
             [
              0.8888888888888888,
              "#fdca26"
             ],
             [
              1,
              "#f0f921"
             ]
            ],
            "type": "histogram2dcontour"
           }
          ],
          "mesh3d": [
           {
            "colorbar": {
             "outlinewidth": 0,
             "ticks": ""
            },
            "type": "mesh3d"
           }
          ],
          "parcoords": [
           {
            "line": {
             "colorbar": {
              "outlinewidth": 0,
              "ticks": ""
             }
            },
            "type": "parcoords"
           }
          ],
          "pie": [
           {
            "automargin": true,
            "type": "pie"
           }
          ],
          "scatter": [
           {
            "fillpattern": {
             "fillmode": "overlay",
             "size": 10,
             "solidity": 0.2
            },
            "type": "scatter"
           }
          ],
          "scatter3d": [
           {
            "line": {
             "colorbar": {
              "outlinewidth": 0,
              "ticks": ""
             }
            },
            "marker": {
             "colorbar": {
              "outlinewidth": 0,
              "ticks": ""
             }
            },
            "type": "scatter3d"
           }
          ],
          "scattercarpet": [
           {
            "marker": {
             "colorbar": {
              "outlinewidth": 0,
              "ticks": ""
             }
            },
            "type": "scattercarpet"
           }
          ],
          "scattergeo": [
           {
            "marker": {
             "colorbar": {
              "outlinewidth": 0,
              "ticks": ""
             }
            },
            "type": "scattergeo"
           }
          ],
          "scattergl": [
           {
            "marker": {
             "colorbar": {
              "outlinewidth": 0,
              "ticks": ""
             }
            },
            "type": "scattergl"
           }
          ],
          "scattermapbox": [
           {
            "marker": {
             "colorbar": {
              "outlinewidth": 0,
              "ticks": ""
             }
            },
            "type": "scattermapbox"
           }
          ],
          "scatterpolar": [
           {
            "marker": {
             "colorbar": {
              "outlinewidth": 0,
              "ticks": ""
             }
            },
            "type": "scatterpolar"
           }
          ],
          "scatterpolargl": [
           {
            "marker": {
             "colorbar": {
              "outlinewidth": 0,
              "ticks": ""
             }
            },
            "type": "scatterpolargl"
           }
          ],
          "scatterternary": [
           {
            "marker": {
             "colorbar": {
              "outlinewidth": 0,
              "ticks": ""
             }
            },
            "type": "scatterternary"
           }
          ],
          "surface": [
           {
            "colorbar": {
             "outlinewidth": 0,
             "ticks": ""
            },
            "colorscale": [
             [
              0,
              "#0d0887"
             ],
             [
              0.1111111111111111,
              "#46039f"
             ],
             [
              0.2222222222222222,
              "#7201a8"
             ],
             [
              0.3333333333333333,
              "#9c179e"
             ],
             [
              0.4444444444444444,
              "#bd3786"
             ],
             [
              0.5555555555555556,
              "#d8576b"
             ],
             [
              0.6666666666666666,
              "#ed7953"
             ],
             [
              0.7777777777777778,
              "#fb9f3a"
             ],
             [
              0.8888888888888888,
              "#fdca26"
             ],
             [
              1,
              "#f0f921"
             ]
            ],
            "type": "surface"
           }
          ],
          "table": [
           {
            "cells": {
             "fill": {
              "color": "#EBF0F8"
             },
             "line": {
              "color": "white"
             }
            },
            "header": {
             "fill": {
              "color": "#C8D4E3"
             },
             "line": {
              "color": "white"
             }
            },
            "type": "table"
           }
          ]
         },
         "layout": {
          "annotationdefaults": {
           "arrowcolor": "#2a3f5f",
           "arrowhead": 0,
           "arrowwidth": 1
          },
          "autotypenumbers": "strict",
          "coloraxis": {
           "colorbar": {
            "outlinewidth": 0,
            "ticks": ""
           }
          },
          "colorscale": {
           "diverging": [
            [
             0,
             "#8e0152"
            ],
            [
             0.1,
             "#c51b7d"
            ],
            [
             0.2,
             "#de77ae"
            ],
            [
             0.3,
             "#f1b6da"
            ],
            [
             0.4,
             "#fde0ef"
            ],
            [
             0.5,
             "#f7f7f7"
            ],
            [
             0.6,
             "#e6f5d0"
            ],
            [
             0.7,
             "#b8e186"
            ],
            [
             0.8,
             "#7fbc41"
            ],
            [
             0.9,
             "#4d9221"
            ],
            [
             1,
             "#276419"
            ]
           ],
           "sequential": [
            [
             0,
             "#0d0887"
            ],
            [
             0.1111111111111111,
             "#46039f"
            ],
            [
             0.2222222222222222,
             "#7201a8"
            ],
            [
             0.3333333333333333,
             "#9c179e"
            ],
            [
             0.4444444444444444,
             "#bd3786"
            ],
            [
             0.5555555555555556,
             "#d8576b"
            ],
            [
             0.6666666666666666,
             "#ed7953"
            ],
            [
             0.7777777777777778,
             "#fb9f3a"
            ],
            [
             0.8888888888888888,
             "#fdca26"
            ],
            [
             1,
             "#f0f921"
            ]
           ],
           "sequentialminus": [
            [
             0,
             "#0d0887"
            ],
            [
             0.1111111111111111,
             "#46039f"
            ],
            [
             0.2222222222222222,
             "#7201a8"
            ],
            [
             0.3333333333333333,
             "#9c179e"
            ],
            [
             0.4444444444444444,
             "#bd3786"
            ],
            [
             0.5555555555555556,
             "#d8576b"
            ],
            [
             0.6666666666666666,
             "#ed7953"
            ],
            [
             0.7777777777777778,
             "#fb9f3a"
            ],
            [
             0.8888888888888888,
             "#fdca26"
            ],
            [
             1,
             "#f0f921"
            ]
           ]
          },
          "colorway": [
           "#636efa",
           "#EF553B",
           "#00cc96",
           "#ab63fa",
           "#FFA15A",
           "#19d3f3",
           "#FF6692",
           "#B6E880",
           "#FF97FF",
           "#FECB52"
          ],
          "font": {
           "color": "#2a3f5f"
          },
          "geo": {
           "bgcolor": "white",
           "lakecolor": "white",
           "landcolor": "#E5ECF6",
           "showlakes": true,
           "showland": true,
           "subunitcolor": "white"
          },
          "hoverlabel": {
           "align": "left"
          },
          "hovermode": "closest",
          "mapbox": {
           "style": "light"
          },
          "paper_bgcolor": "white",
          "plot_bgcolor": "#E5ECF6",
          "polar": {
           "angularaxis": {
            "gridcolor": "white",
            "linecolor": "white",
            "ticks": ""
           },
           "bgcolor": "#E5ECF6",
           "radialaxis": {
            "gridcolor": "white",
            "linecolor": "white",
            "ticks": ""
           }
          },
          "scene": {
           "xaxis": {
            "backgroundcolor": "#E5ECF6",
            "gridcolor": "white",
            "gridwidth": 2,
            "linecolor": "white",
            "showbackground": true,
            "ticks": "",
            "zerolinecolor": "white"
           },
           "yaxis": {
            "backgroundcolor": "#E5ECF6",
            "gridcolor": "white",
            "gridwidth": 2,
            "linecolor": "white",
            "showbackground": true,
            "ticks": "",
            "zerolinecolor": "white"
           },
           "zaxis": {
            "backgroundcolor": "#E5ECF6",
            "gridcolor": "white",
            "gridwidth": 2,
            "linecolor": "white",
            "showbackground": true,
            "ticks": "",
            "zerolinecolor": "white"
           }
          },
          "shapedefaults": {
           "line": {
            "color": "#2a3f5f"
           }
          },
          "ternary": {
           "aaxis": {
            "gridcolor": "white",
            "linecolor": "white",
            "ticks": ""
           },
           "baxis": {
            "gridcolor": "white",
            "linecolor": "white",
            "ticks": ""
           },
           "bgcolor": "#E5ECF6",
           "caxis": {
            "gridcolor": "white",
            "linecolor": "white",
            "ticks": ""
           }
          },
          "title": {
           "x": 0.05
          },
          "xaxis": {
           "automargin": true,
           "gridcolor": "white",
           "linecolor": "white",
           "ticks": "",
           "title": {
            "standoff": 15
           },
           "zerolinecolor": "white",
           "zerolinewidth": 2
          },
          "yaxis": {
           "automargin": true,
           "gridcolor": "white",
           "linecolor": "white",
           "ticks": "",
           "title": {
            "standoff": 15
           },
           "zerolinecolor": "white",
           "zerolinewidth": 2
          }
         }
        },
        "xaxis": {
         "anchor": "y",
         "constrain": "domain",
         "domain": [
          0,
          1
         ],
         "scaleanchor": "y"
        },
        "yaxis": {
         "anchor": "x",
         "autorange": "reversed",
         "constrain": "domain",
         "domain": [
          0,
          1
         ]
        }
       }
      }
     },
     "metadata": {},
     "output_type": "display_data"
    },
    {
     "name": "stdout",
     "output_type": "stream",
     "text": [
      "else 2 False 3\n",
      "if 3 True 3\n",
      "hash_indOre 128\n",
      "hash_indIce 128\n",
      "hash_indFactories 128\n",
      "spawns 290 128\n",
      "invalid 364 128\n",
      "occupied 162 128\n",
      "inside map 255 2200\n",
      "valid spawns 124 1080\n",
      "[30 18]\n"
     ]
    },
    {
     "data": {
      "application/vnd.plotly.v1+json": {
       "config": {
        "plotlyServerURL": "https://plot.ly"
       },
       "data": [
        {
         "hovertemplate": "x: %{x}<br>y: %{y}<br>color: [%{z[0]}, %{z[1]}, %{z[2]}]<extra></extra>",
         "name": "0",
         "source": "data:image/png;base64,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",
         "type": "image",
         "xaxis": "x",
         "yaxis": "y"
        }
       ],
       "layout": {
        "margin": {
         "t": 60
        },
        "template": {
         "data": {
          "bar": [
           {
            "error_x": {
             "color": "#2a3f5f"
            },
            "error_y": {
             "color": "#2a3f5f"
            },
            "marker": {
             "line": {
              "color": "#E5ECF6",
              "width": 0.5
             },
             "pattern": {
              "fillmode": "overlay",
              "size": 10,
              "solidity": 0.2
             }
            },
            "type": "bar"
           }
          ],
          "barpolar": [
           {
            "marker": {
             "line": {
              "color": "#E5ECF6",
              "width": 0.5
             },
             "pattern": {
              "fillmode": "overlay",
              "size": 10,
              "solidity": 0.2
             }
            },
            "type": "barpolar"
           }
          ],
          "carpet": [
           {
            "aaxis": {
             "endlinecolor": "#2a3f5f",
             "gridcolor": "white",
             "linecolor": "white",
             "minorgridcolor": "white",
             "startlinecolor": "#2a3f5f"
            },
            "baxis": {
             "endlinecolor": "#2a3f5f",
             "gridcolor": "white",
             "linecolor": "white",
             "minorgridcolor": "white",
             "startlinecolor": "#2a3f5f"
            },
            "type": "carpet"
           }
          ],
          "choropleth": [
           {
            "colorbar": {
             "outlinewidth": 0,
             "ticks": ""
            },
            "type": "choropleth"
           }
          ],
          "contour": [
           {
            "colorbar": {
             "outlinewidth": 0,
             "ticks": ""
            },
            "colorscale": [
             [
              0,
              "#0d0887"
             ],
             [
              0.1111111111111111,
              "#46039f"
             ],
             [
              0.2222222222222222,
              "#7201a8"
             ],
             [
              0.3333333333333333,
              "#9c179e"
             ],
             [
              0.4444444444444444,
              "#bd3786"
             ],
             [
              0.5555555555555556,
              "#d8576b"
             ],
             [
              0.6666666666666666,
              "#ed7953"
             ],
             [
              0.7777777777777778,
              "#fb9f3a"
             ],
             [
              0.8888888888888888,
              "#fdca26"
             ],
             [
              1,
              "#f0f921"
             ]
            ],
            "type": "contour"
           }
          ],
          "contourcarpet": [
           {
            "colorbar": {
             "outlinewidth": 0,
             "ticks": ""
            },
            "type": "contourcarpet"
           }
          ],
          "heatmap": [
           {
            "colorbar": {
             "outlinewidth": 0,
             "ticks": ""
            },
            "colorscale": [
             [
              0,
              "#0d0887"
             ],
             [
              0.1111111111111111,
              "#46039f"
             ],
             [
              0.2222222222222222,
              "#7201a8"
             ],
             [
              0.3333333333333333,
              "#9c179e"
             ],
             [
              0.4444444444444444,
              "#bd3786"
             ],
             [
              0.5555555555555556,
              "#d8576b"
             ],
             [
              0.6666666666666666,
              "#ed7953"
             ],
             [
              0.7777777777777778,
              "#fb9f3a"
             ],
             [
              0.8888888888888888,
              "#fdca26"
             ],
             [
              1,
              "#f0f921"
             ]
            ],
            "type": "heatmap"
           }
          ],
          "heatmapgl": [
           {
            "colorbar": {
             "outlinewidth": 0,
             "ticks": ""
            },
            "colorscale": [
             [
              0,
              "#0d0887"
             ],
             [
              0.1111111111111111,
              "#46039f"
             ],
             [
              0.2222222222222222,
              "#7201a8"
             ],
             [
              0.3333333333333333,
              "#9c179e"
             ],
             [
              0.4444444444444444,
              "#bd3786"
             ],
             [
              0.5555555555555556,
              "#d8576b"
             ],
             [
              0.6666666666666666,
              "#ed7953"
             ],
             [
              0.7777777777777778,
              "#fb9f3a"
             ],
             [
              0.8888888888888888,
              "#fdca26"
             ],
             [
              1,
              "#f0f921"
             ]
            ],
            "type": "heatmapgl"
           }
          ],
          "histogram": [
           {
            "marker": {
             "pattern": {
              "fillmode": "overlay",
              "size": 10,
              "solidity": 0.2
             }
            },
            "type": "histogram"
           }
          ],
          "histogram2d": [
           {
            "colorbar": {
             "outlinewidth": 0,
             "ticks": ""
            },
            "colorscale": [
             [
              0,
              "#0d0887"
             ],
             [
              0.1111111111111111,
              "#46039f"
             ],
             [
              0.2222222222222222,
              "#7201a8"
             ],
             [
              0.3333333333333333,
              "#9c179e"
             ],
             [
              0.4444444444444444,
              "#bd3786"
             ],
             [
              0.5555555555555556,
              "#d8576b"
             ],
             [
              0.6666666666666666,
              "#ed7953"
             ],
             [
              0.7777777777777778,
              "#fb9f3a"
             ],
             [
              0.8888888888888888,
              "#fdca26"
             ],
             [
              1,
              "#f0f921"
             ]
            ],
            "type": "histogram2d"
           }
          ],
          "histogram2dcontour": [
           {
            "colorbar": {
             "outlinewidth": 0,
             "ticks": ""
            },
            "colorscale": [
             [
              0,
              "#0d0887"
             ],
             [
              0.1111111111111111,
              "#46039f"
             ],
             [
              0.2222222222222222,
              "#7201a8"
             ],
             [
              0.3333333333333333,
              "#9c179e"
             ],
             [
              0.4444444444444444,
              "#bd3786"
             ],
             [
              0.5555555555555556,
              "#d8576b"
             ],
             [
              0.6666666666666666,
              "#ed7953"
             ],
             [
              0.7777777777777778,
              "#fb9f3a"
             ],
             [
              0.8888888888888888,
              "#fdca26"
             ],
             [
              1,
              "#f0f921"
             ]
            ],
            "type": "histogram2dcontour"
           }
          ],
          "mesh3d": [
           {
            "colorbar": {
             "outlinewidth": 0,
             "ticks": ""
            },
            "type": "mesh3d"
           }
          ],
          "parcoords": [
           {
            "line": {
             "colorbar": {
              "outlinewidth": 0,
              "ticks": ""
             }
            },
            "type": "parcoords"
           }
          ],
          "pie": [
           {
            "automargin": true,
            "type": "pie"
           }
          ],
          "scatter": [
           {
            "fillpattern": {
             "fillmode": "overlay",
             "size": 10,
             "solidity": 0.2
            },
            "type": "scatter"
           }
          ],
          "scatter3d": [
           {
            "line": {
             "colorbar": {
              "outlinewidth": 0,
              "ticks": ""
             }
            },
            "marker": {
             "colorbar": {
              "outlinewidth": 0,
              "ticks": ""
             }
            },
            "type": "scatter3d"
           }
          ],
          "scattercarpet": [
           {
            "marker": {
             "colorbar": {
              "outlinewidth": 0,
              "ticks": ""
             }
            },
            "type": "scattercarpet"
           }
          ],
          "scattergeo": [
           {
            "marker": {
             "colorbar": {
              "outlinewidth": 0,
              "ticks": ""
             }
            },
            "type": "scattergeo"
           }
          ],
          "scattergl": [
           {
            "marker": {
             "colorbar": {
              "outlinewidth": 0,
              "ticks": ""
             }
            },
            "type": "scattergl"
           }
          ],
          "scattermapbox": [
           {
            "marker": {
             "colorbar": {
              "outlinewidth": 0,
              "ticks": ""
             }
            },
            "type": "scattermapbox"
           }
          ],
          "scatterpolar": [
           {
            "marker": {
             "colorbar": {
              "outlinewidth": 0,
              "ticks": ""
             }
            },
            "type": "scatterpolar"
           }
          ],
          "scatterpolargl": [
           {
            "marker": {
             "colorbar": {
              "outlinewidth": 0,
              "ticks": ""
             }
            },
            "type": "scatterpolargl"
           }
          ],
          "scatterternary": [
           {
            "marker": {
             "colorbar": {
              "outlinewidth": 0,
              "ticks": ""
             }
            },
            "type": "scatterternary"
           }
          ],
          "surface": [
           {
            "colorbar": {
             "outlinewidth": 0,
             "ticks": ""
            },
            "colorscale": [
             [
              0,
              "#0d0887"
             ],
             [
              0.1111111111111111,
              "#46039f"
             ],
             [
              0.2222222222222222,
              "#7201a8"
             ],
             [
              0.3333333333333333,
              "#9c179e"
             ],
             [
              0.4444444444444444,
              "#bd3786"
             ],
             [
              0.5555555555555556,
              "#d8576b"
             ],
             [
              0.6666666666666666,
              "#ed7953"
             ],
             [
              0.7777777777777778,
              "#fb9f3a"
             ],
             [
              0.8888888888888888,
              "#fdca26"
             ],
             [
              1,
              "#f0f921"
             ]
            ],
            "type": "surface"
           }
          ],
          "table": [
           {
            "cells": {
             "fill": {
              "color": "#EBF0F8"
             },
             "line": {
              "color": "white"
             }
            },
            "header": {
             "fill": {
              "color": "#C8D4E3"
             },
             "line": {
              "color": "white"
             }
            },
            "type": "table"
           }
          ]
         },
         "layout": {
          "annotationdefaults": {
           "arrowcolor": "#2a3f5f",
           "arrowhead": 0,
           "arrowwidth": 1
          },
          "autotypenumbers": "strict",
          "coloraxis": {
           "colorbar": {
            "outlinewidth": 0,
            "ticks": ""
           }
          },
          "colorscale": {
           "diverging": [
            [
             0,
             "#8e0152"
            ],
            [
             0.1,
             "#c51b7d"
            ],
            [
             0.2,
             "#de77ae"
            ],
            [
             0.3,
             "#f1b6da"
            ],
            [
             0.4,
             "#fde0ef"
            ],
            [
             0.5,
             "#f7f7f7"
            ],
            [
             0.6,
             "#e6f5d0"
            ],
            [
             0.7,
             "#b8e186"
            ],
            [
             0.8,
             "#7fbc41"
            ],
            [
             0.9,
             "#4d9221"
            ],
            [
             1,
             "#276419"
            ]
           ],
           "sequential": [
            [
             0,
             "#0d0887"
            ],
            [
             0.1111111111111111,
             "#46039f"
            ],
            [
             0.2222222222222222,
             "#7201a8"
            ],
            [
             0.3333333333333333,
             "#9c179e"
            ],
            [
             0.4444444444444444,
             "#bd3786"
            ],
            [
             0.5555555555555556,
             "#d8576b"
            ],
            [
             0.6666666666666666,
             "#ed7953"
            ],
            [
             0.7777777777777778,
             "#fb9f3a"
            ],
            [
             0.8888888888888888,
             "#fdca26"
            ],
            [
             1,
             "#f0f921"
            ]
           ],
           "sequentialminus": [
            [
             0,
             "#0d0887"
            ],
            [
             0.1111111111111111,
             "#46039f"
            ],
            [
             0.2222222222222222,
             "#7201a8"
            ],
            [
             0.3333333333333333,
             "#9c179e"
            ],
            [
             0.4444444444444444,
             "#bd3786"
            ],
            [
             0.5555555555555556,
             "#d8576b"
            ],
            [
             0.6666666666666666,
             "#ed7953"
            ],
            [
             0.7777777777777778,
             "#fb9f3a"
            ],
            [
             0.8888888888888888,
             "#fdca26"
            ],
            [
             1,
             "#f0f921"
            ]
           ]
          },
          "colorway": [
           "#636efa",
           "#EF553B",
           "#00cc96",
           "#ab63fa",
           "#FFA15A",
           "#19d3f3",
           "#FF6692",
           "#B6E880",
           "#FF97FF",
           "#FECB52"
          ],
          "font": {
           "color": "#2a3f5f"
          },
          "geo": {
           "bgcolor": "white",
           "lakecolor": "white",
           "landcolor": "#E5ECF6",
           "showlakes": true,
           "showland": true,
           "subunitcolor": "white"
          },
          "hoverlabel": {
           "align": "left"
          },
          "hovermode": "closest",
          "mapbox": {
           "style": "light"
          },
          "paper_bgcolor": "white",
          "plot_bgcolor": "#E5ECF6",
          "polar": {
           "angularaxis": {
            "gridcolor": "white",
            "linecolor": "white",
            "ticks": ""
           },
           "bgcolor": "#E5ECF6",
           "radialaxis": {
            "gridcolor": "white",
            "linecolor": "white",
            "ticks": ""
           }
          },
          "scene": {
           "xaxis": {
            "backgroundcolor": "#E5ECF6",
            "gridcolor": "white",
            "gridwidth": 2,
            "linecolor": "white",
            "showbackground": true,
            "ticks": "",
            "zerolinecolor": "white"
           },
           "yaxis": {
            "backgroundcolor": "#E5ECF6",
            "gridcolor": "white",
            "gridwidth": 2,
            "linecolor": "white",
            "showbackground": true,
            "ticks": "",
            "zerolinecolor": "white"
           },
           "zaxis": {
            "backgroundcolor": "#E5ECF6",
            "gridcolor": "white",
            "gridwidth": 2,
            "linecolor": "white",
            "showbackground": true,
            "ticks": "",
            "zerolinecolor": "white"
           }
          },
          "shapedefaults": {
           "line": {
            "color": "#2a3f5f"
           }
          },
          "ternary": {
           "aaxis": {
            "gridcolor": "white",
            "linecolor": "white",
            "ticks": ""
           },
           "baxis": {
            "gridcolor": "white",
            "linecolor": "white",
            "ticks": ""
           },
           "bgcolor": "#E5ECF6",
           "caxis": {
            "gridcolor": "white",
            "linecolor": "white",
            "ticks": ""
           }
          },
          "title": {
           "x": 0.05
          },
          "xaxis": {
           "automargin": true,
           "gridcolor": "white",
           "linecolor": "white",
           "ticks": "",
           "title": {
            "standoff": 15
           },
           "zerolinecolor": "white",
           "zerolinewidth": 2
          },
          "yaxis": {
           "automargin": true,
           "gridcolor": "white",
           "linecolor": "white",
           "ticks": "",
           "title": {
            "standoff": 15
           },
           "zerolinecolor": "white",
           "zerolinewidth": 2
          }
         }
        },
        "xaxis": {
         "anchor": "y",
         "domain": [
          0,
          1
         ]
        },
        "yaxis": {
         "anchor": "x",
         "domain": [
          0,
          1
         ]
        }
       }
      }
     },
     "metadata": {},
     "output_type": "display_data"
    },
    {
     "data": {
      "application/vnd.plotly.v1+json": {
       "config": {
        "plotlyServerURL": "https://plot.ly"
       },
       "data": [
        {
         "coloraxis": "coloraxis",
         "hovertemplate": "x: %{x}<br>y: %{y}<br>color: %{z}<extra></extra>",
         "name": "0",
         "type": "heatmap",
         "xaxis": "x",
         "yaxis": "y",
         "z": [
          [
           0,
           0,
           0,
           0,
           0,
           0,
           0,
           0,
           0,
           0,
           0,
           0,
           0,
           0,
           0,
           0,
           0,
           0,
           0,
           0,
           0,
           0,
           0,
           0,
           0,
           0,
           0,
           0,
           0,
           0,
           0,
           0,
           0,
           0,
           0,
           0,
           0,
           0,
           0,
           0,
           0,
           0,
           0,
           0,
           0,
           0,
           0,
           0
          ],
          [
           0,
           255,
           255,
           255,
           255,
           0,
           0,
           0,
           0,
           0,
           255,
           255,
           255,
           255,
           255,
           255,
           255,
           255,
           255,
           255,
           255,
           255,
           255,
           255,
           255,
           255,
           255,
           255,
           255,
           255,
           255,
           255,
           255,
           255,
           255,
           255,
           255,
           255,
           255,
           255,
           255,
           255,
           255,
           255,
           255,
           255,
           255,
           0
          ],
          [
           0,
           255,
           255,
           255,
           0,
           0,
           0,
           0,
           0,
           0,
           255,
           255,
           255,
           255,
           255,
           255,
           255,
           255,
           255,
           255,
           255,
           255,
           255,
           255,
           255,
           255,
           255,
           255,
           255,
           255,
           255,
           255,
           255,
           255,
           255,
           255,
           255,
           255,
           255,
           255,
           255,
           255,
           255,
           255,
           255,
           255,
           255,
           0
          ],
          [
           0,
           255,
           255,
           0,
           0,
           0,
           0,
           0,
           0,
           0,
           255,
           255,
           255,
           255,
           255,
           255,
           255,
           255,
           255,
           255,
           255,
           255,
           255,
           255,
           255,
           255,
           255,
           255,
           255,
           255,
           255,
           255,
           255,
           255,
           255,
           255,
           255,
           255,
           255,
           255,
           255,
           255,
           255,
           255,
           255,
           255,
           255,
           0
          ],
          [
           0,
           255,
           0,
           0,
           0,
           0,
           0,
           0,
           0,
           255,
           255,
           0,
           0,
           0,
           255,
           255,
           255,
           255,
           255,
           255,
           0,
           255,
           255,
           255,
           255,
           255,
           255,
           255,
           255,
           255,
           255,
           255,
           255,
           255,
           255,
           255,
           255,
           255,
           255,
           255,
           255,
           255,
           255,
           255,
           255,
           255,
           255,
           0
          ],
          [
           0,
           0,
           0,
           0,
           0,
           0,
           0,
           0,
           0,
           0,
           0,
           0,
           0,
           0,
           255,
           255,
           255,
           255,
           255,
           0,
           0,
           0,
           255,
           255,
           255,
           255,
           255,
           255,
           255,
           255,
           255,
           255,
           255,
           255,
           255,
           255,
           255,
           255,
           255,
           255,
           255,
           255,
           255,
           255,
           255,
           255,
           255,
           0
          ],
          [
           0,
           0,
           0,
           0,
           0,
           0,
           0,
           0,
           0,
           0,
           0,
           0,
           0,
           0,
           255,
           255,
           255,
           255,
           0,
           0,
           0,
           0,
           0,
           255,
           255,
           255,
           255,
           255,
           255,
           255,
           255,
           255,
           255,
           255,
           255,
           255,
           255,
           255,
           255,
           255,
           255,
           255,
           255,
           255,
           255,
           255,
           255,
           0
          ],
          [
           0,
           0,
           0,
           0,
           0,
           0,
           0,
           0,
           0,
           0,
           0,
           0,
           0,
           255,
           255,
           255,
           255,
           0,
           0,
           0,
           0,
           0,
           0,
           0,
           255,
           255,
           255,
           255,
           255,
           255,
           255,
           255,
           255,
           255,
           255,
           255,
           255,
           255,
           255,
           255,
           255,
           255,
           255,
           255,
           255,
           255,
           255,
           0
          ],
          [
           0,
           0,
           0,
           0,
           0,
           0,
           0,
           0,
           0,
           0,
           0,
           255,
           255,
           255,
           255,
           255,
           0,
           0,
           0,
           0,
           0,
           0,
           0,
           0,
           0,
           255,
           255,
           255,
           255,
           255,
           255,
           255,
           255,
           0,
           0,
           0,
           255,
           255,
           255,
           255,
           255,
           255,
           255,
           255,
           255,
           255,
           255,
           0
          ],
          [
           0,
           0,
           0,
           0,
           0,
           0,
           0,
           0,
           0,
           0,
           255,
           255,
           255,
           255,
           255,
           0,
           0,
           0,
           0,
           0,
           0,
           0,
           0,
           0,
           0,
           0,
           255,
           255,
           255,
           255,
           255,
           255,
           255,
           0,
           0,
           0,
           255,
           255,
           255,
           255,
           255,
           255,
           255,
           255,
           255,
           255,
           255,
           0
          ],
          [
           0,
           255,
           0,
           0,
           0,
           0,
           0,
           0,
           0,
           255,
           255,
           255,
           255,
           255,
           0,
           0,
           0,
           0,
           0,
           0,
           0,
           0,
           0,
           0,
           0,
           0,
           0,
           255,
           255,
           255,
           255,
           255,
           255,
           0,
           0,
           0,
           255,
           255,
           255,
           255,
           255,
           0,
           0,
           0,
           255,
           255,
           255,
           0
          ],
          [
           0,
           255,
           255,
           0,
           0,
           0,
           0,
           0,
           255,
           255,
           255,
           255,
           255,
           255,
           255,
           0,
           0,
           0,
           0,
           0,
           0,
           0,
           0,
           0,
           0,
           0,
           255,
           255,
           255,
           255,
           255,
           255,
           255,
           255,
           255,
           255,
           255,
           255,
           255,
           255,
           255,
           0,
           0,
           0,
           255,
           255,
           255,
           0
          ],
          [
           0,
           255,
           255,
           255,
           0,
           0,
           0,
           255,
           255,
           255,
           255,
           255,
           255,
           255,
           255,
           255,
           0,
           0,
           0,
           0,
           0,
           0,
           0,
           0,
           0,
           255,
           255,
           255,
           255,
           255,
           255,
           255,
           255,
           0,
           0,
           0,
           255,
           255,
           255,
           255,
           255,
           0,
           0,
           0,
           255,
           255,
           0,
           0
          ],
          [
           0,
           255,
           255,
           255,
           255,
           0,
           255,
           255,
           255,
           255,
           255,
           255,
           255,
           255,
           255,
           255,
           0,
           0,
           0,
           0,
           0,
           0,
           0,
           0,
           255,
           255,
           255,
           255,
           255,
           255,
           255,
           255,
           255,
           0,
           0,
           0,
           255,
           255,
           255,
           255,
           255,
           255,
           255,
           255,
           255,
           0,
           0,
           0
          ],
          [
           0,
           255,
           255,
           255,
           255,
           255,
           255,
           255,
           255,
           255,
           255,
           255,
           255,
           255,
           255,
           255,
           0,
           0,
           0,
           0,
           0,
           0,
           0,
           255,
           255,
           255,
           255,
           255,
           255,
           255,
           255,
           255,
           255,
           0,
           0,
           0,
           255,
           255,
           255,
           255,
           255,
           255,
           255,
           255,
           255,
           0,
           0,
           0
          ],
          [
           0,
           255,
           255,
           255,
           255,
           255,
           255,
           255,
           255,
           0,
           0,
           0,
           255,
           255,
           255,
           255,
           0,
           0,
           0,
           0,
           0,
           0,
           255,
           255,
           255,
           255,
           255,
           255,
           255,
           255,
           255,
           255,
           255,
           0,
           0,
           0,
           255,
           255,
           255,
           255,
           255,
           255,
           255,
           255,
           255,
           0,
           0,
           0
          ],
          [
           0,
           255,
           255,
           255,
           255,
           255,
           255,
           255,
           255,
           0,
           0,
           0,
           255,
           255,
           255,
           255,
           255,
           255,
           255,
           255,
           0,
           255,
           255,
           255,
           255,
           255,
           255,
           255,
           255,
           255,
           255,
           0,
           0,
           0,
           0,
           0,
           255,
           255,
           255,
           255,
           255,
           255,
           255,
           255,
           255,
           255,
           255,
           0
          ],
          [
           0,
           255,
           255,
           255,
           255,
           0,
           0,
           0,
           255,
           0,
           0,
           0,
           255,
           255,
           255,
           255,
           255,
           255,
           255,
           255,
           255,
           255,
           255,
           255,
           255,
           255,
           255,
           255,
           255,
           255,
           255,
           0,
           0,
           0,
           0,
           0,
           255,
           255,
           255,
           255,
           255,
           255,
           255,
           255,
           255,
           255,
           255,
           0
          ],
          [
           0,
           255,
           255,
           255,
           255,
           0,
           0,
           0,
           255,
           255,
           255,
           255,
           255,
           255,
           255,
           255,
           255,
           255,
           255,
           255,
           255,
           255,
           255,
           255,
           255,
           255,
           255,
           255,
           255,
           255,
           255,
           0,
           0,
           0,
           255,
           255,
           255,
           255,
           255,
           255,
           255,
           255,
           255,
           255,
           255,
           255,
           255,
           0
          ],
          [
           0,
           255,
           255,
           255,
           255,
           0,
           0,
           0,
           255,
           255,
           255,
           255,
           255,
           255,
           255,
           255,
           255,
           255,
           255,
           255,
           255,
           255,
           255,
           255,
           255,
           255,
           255,
           255,
           255,
           255,
           255,
           255,
           255,
           255,
           255,
           255,
           255,
           255,
           255,
           255,
           255,
           255,
           255,
           0,
           0,
           0,
           255,
           0
          ],
          [
           0,
           255,
           255,
           255,
           255,
           255,
           255,
           255,
           255,
           255,
           255,
           255,
           255,
           255,
           255,
           255,
           255,
           255,
           255,
           255,
           255,
           255,
           255,
           0,
           0,
           0,
           0,
           255,
           255,
           255,
           255,
           255,
           255,
           255,
           255,
           0,
           0,
           0,
           255,
           255,
           255,
           255,
           0,
           0,
           0,
           0,
           255,
           0
          ],
          [
           0,
           255,
           255,
           255,
           255,
           255,
           255,
           255,
           255,
           255,
           255,
           255,
           255,
           255,
           255,
           255,
           255,
           255,
           255,
           255,
           255,
           255,
           255,
           0,
           0,
           0,
           0,
           0,
           255,
           255,
           255,
           255,
           255,
           255,
           255,
           0,
           0,
           0,
           255,
           255,
           255,
           255,
           0,
           0,
           0,
           0,
           255,
           0
          ],
          [
           0,
           255,
           255,
           255,
           255,
           255,
           255,
           255,
           255,
           255,
           255,
           255,
           255,
           255,
           255,
           255,
           255,
           255,
           255,
           255,
           255,
           255,
           255,
           0,
           0,
           0,
           0,
           0,
           255,
           255,
           255,
           255,
           255,
           255,
           255,
           0,
           0,
           0,
           255,
           255,
           255,
           255,
           0,
           0,
           0,
           0,
           255,
           0
          ],
          [
           0,
           255,
           255,
           255,
           255,
           255,
           255,
           255,
           255,
           255,
           255,
           255,
           255,
           255,
           255,
           255,
           255,
           255,
           255,
           255,
           255,
           255,
           255,
           0,
           0,
           0,
           0,
           0,
           255,
           255,
           255,
           0,
           0,
           0,
           255,
           255,
           255,
           255,
           255,
           255,
           255,
           255,
           0,
           0,
           0,
           0,
           255,
           0
          ],
          [
           0,
           255,
           255,
           255,
           255,
           255,
           255,
           255,
           255,
           255,
           255,
           255,
           255,
           255,
           255,
           255,
           255,
           255,
           255,
           255,
           255,
           255,
           255,
           0,
           0,
           0,
           0,
           0,
           255,
           255,
           255,
           0,
           0,
           0,
           255,
           255,
           255,
           255,
           255,
           255,
           255,
           255,
           0,
           0,
           0,
           0,
           255,
           0
          ],
          [
           0,
           255,
           255,
           255,
           255,
           255,
           255,
           255,
           255,
           255,
           255,
           255,
           255,
           255,
           255,
           255,
           255,
           255,
           255,
           255,
           255,
           255,
           255,
           0,
           0,
           0,
           0,
           0,
           255,
           255,
           255,
           0,
           0,
           0,
           255,
           255,
           255,
           255,
           255,
           255,
           255,
           255,
           0,
           0,
           0,
           0,
           255,
           0
          ],
          [
           0,
           255,
           255,
           255,
           255,
           255,
           255,
           255,
           255,
           255,
           255,
           255,
           255,
           255,
           255,
           255,
           255,
           255,
           255,
           255,
           255,
           255,
           255,
           0,
           0,
           0,
           0,
           0,
           255,
           255,
           255,
           0,
           0,
           0,
           255,
           255,
           255,
           255,
           255,
           255,
           255,
           255,
           0,
           0,
           0,
           0,
           255,
           0
          ],
          [
           0,
           255,
           255,
           255,
           255,
           255,
           255,
           255,
           255,
           255,
           255,
           255,
           255,
           255,
           255,
           255,
           255,
           255,
           255,
           255,
           255,
           255,
           255,
           0,
           0,
           0,
           0,
           255,
           255,
           255,
           255,
           255,
           255,
           255,
           255,
           255,
           255,
           255,
           255,
           255,
           255,
           255,
           0,
           0,
           0,
           0,
           255,
           0
          ],
          [
           0,
           255,
           255,
           255,
           255,
           255,
           255,
           255,
           255,
           255,
           255,
           255,
           255,
           255,
           255,
           255,
           255,
           255,
           255,
           255,
           255,
           255,
           255,
           255,
           255,
           255,
           255,
           255,
           255,
           255,
           255,
           255,
           255,
           255,
           255,
           255,
           255,
           255,
           255,
           255,
           255,
           255,
           255,
           0,
           0,
           0,
           255,
           0
          ],
          [
           0,
           255,
           255,
           255,
           255,
           255,
           255,
           255,
           255,
           255,
           255,
           255,
           255,
           255,
           255,
           255,
           255,
           255,
           255,
           255,
           255,
           255,
           255,
           255,
           255,
           255,
           255,
           255,
           255,
           255,
           255,
           255,
           255,
           255,
           255,
           255,
           255,
           255,
           255,
           255,
           255,
           255,
           255,
           255,
           255,
           255,
           255,
           0
          ],
          [
           0,
           255,
           255,
           255,
           255,
           255,
           255,
           255,
           255,
           0,
           0,
           0,
           255,
           255,
           255,
           255,
           255,
           255,
           255,
           255,
           255,
           255,
           255,
           255,
           255,
           255,
           255,
           255,
           255,
           255,
           255,
           255,
           255,
           255,
           255,
           255,
           255,
           255,
           255,
           255,
           255,
           255,
           255,
           255,
           255,
           255,
           255,
           0
          ],
          [
           0,
           255,
           255,
           255,
           255,
           255,
           255,
           255,
           255,
           0,
           0,
           0,
           255,
           255,
           255,
           255,
           255,
           255,
           255,
           255,
           255,
           255,
           255,
           255,
           255,
           255,
           255,
           255,
           255,
           255,
           255,
           255,
           255,
           255,
           255,
           255,
           255,
           255,
           255,
           255,
           255,
           255,
           255,
           255,
           255,
           255,
           255,
           0
          ],
          [
           0,
           255,
           255,
           255,
           255,
           255,
           255,
           255,
           255,
           0,
           0,
           0,
           255,
           255,
           255,
           255,
           255,
           255,
           255,
           255,
           255,
           255,
           255,
           255,
           255,
           255,
           255,
           255,
           255,
           255,
           255,
           255,
           255,
           255,
           255,
           255,
           255,
           255,
           255,
           255,
           255,
           255,
           255,
           255,
           255,
           0,
           0,
           0
          ],
          [
           0,
           255,
           255,
           255,
           255,
           255,
           255,
           255,
           255,
           255,
           255,
           255,
           255,
           255,
           255,
           255,
           255,
           255,
           255,
           255,
           255,
           255,
           255,
           255,
           255,
           0,
           0,
           0,
           255,
           255,
           255,
           255,
           255,
           255,
           255,
           255,
           255,
           255,
           255,
           255,
           255,
           255,
           255,
           255,
           255,
           0,
           0,
           0
          ],
          [
           0,
           255,
           255,
           255,
           255,
           255,
           255,
           255,
           255,
           255,
           255,
           255,
           255,
           255,
           255,
           255,
           255,
           255,
           255,
           255,
           255,
           255,
           255,
           255,
           255,
           0,
           0,
           0,
           255,
           255,
           255,
           255,
           255,
           255,
           255,
           255,
           255,
           255,
           255,
           255,
           255,
           255,
           255,
           255,
           255,
           0,
           0,
           0
          ],
          [
           0,
           255,
           255,
           255,
           255,
           255,
           255,
           255,
           255,
           255,
           255,
           255,
           255,
           255,
           255,
           255,
           255,
           255,
           255,
           255,
           255,
           255,
           255,
           255,
           255,
           0,
           0,
           0,
           255,
           255,
           255,
           255,
           255,
           255,
           255,
           255,
           255,
           255,
           255,
           255,
           255,
           0,
           0,
           0,
           255,
           255,
           0,
           0
          ],
          [
           0,
           255,
           0,
           0,
           0,
           255,
           255,
           255,
           255,
           255,
           255,
           255,
           255,
           255,
           255,
           255,
           255,
           255,
           255,
           255,
           255,
           255,
           255,
           255,
           255,
           255,
           255,
           255,
           255,
           255,
           255,
           255,
           255,
           255,
           255,
           255,
           255,
           255,
           255,
           255,
           255,
           0,
           0,
           0,
           255,
           255,
           255,
           0
          ],
          [
           0,
           255,
           0,
           0,
           0,
           255,
           255,
           255,
           255,
           255,
           255,
           255,
           255,
           255,
           255,
           255,
           255,
           255,
           255,
           255,
           255,
           255,
           255,
           255,
           255,
           255,
           255,
           255,
           255,
           255,
           255,
           255,
           255,
           255,
           255,
           255,
           255,
           255,
           255,
           255,
           255,
           0,
           0,
           0,
           255,
           255,
           255,
           0
          ],
          [
           0,
           255,
           0,
           0,
           0,
           255,
           255,
           255,
           255,
           255,
           255,
           255,
           255,
           255,
           255,
           255,
           255,
           255,
           255,
           255,
           255,
           255,
           255,
           255,
           255,
           255,
           255,
           255,
           255,
           255,
           255,
           255,
           255,
           255,
           255,
           255,
           255,
           255,
           255,
           255,
           255,
           255,
           255,
           255,
           255,
           255,
           255,
           0
          ],
          [
           0,
           0,
           0,
           0,
           255,
           255,
           255,
           255,
           255,
           255,
           255,
           255,
           255,
           255,
           255,
           255,
           255,
           255,
           255,
           255,
           255,
           255,
           255,
           255,
           255,
           255,
           255,
           255,
           255,
           255,
           255,
           255,
           255,
           255,
           255,
           255,
           255,
           255,
           255,
           255,
           255,
           255,
           255,
           255,
           255,
           255,
           255,
           0
          ],
          [
           0,
           0,
           0,
           0,
           255,
           255,
           255,
           255,
           255,
           255,
           255,
           255,
           255,
           255,
           255,
           255,
           255,
           255,
           255,
           255,
           255,
           255,
           255,
           255,
           255,
           255,
           255,
           255,
           255,
           255,
           255,
           255,
           255,
           255,
           255,
           255,
           255,
           255,
           255,
           255,
           255,
           255,
           255,
           255,
           255,
           255,
           255,
           0
          ],
          [
           0,
           0,
           0,
           0,
           255,
           0,
           0,
           0,
           255,
           255,
           255,
           0,
           0,
           0,
           255,
           255,
           255,
           255,
           255,
           255,
           255,
           255,
           255,
           255,
           255,
           255,
           255,
           255,
           255,
           255,
           255,
           255,
           255,
           255,
           255,
           255,
           255,
           255,
           255,
           255,
           255,
           255,
           255,
           255,
           255,
           255,
           255,
           0
          ],
          [
           0,
           255,
           255,
           255,
           0,
           0,
           0,
           0,
           0,
           255,
           255,
           0,
           0,
           0,
           255,
           255,
           255,
           255,
           255,
           255,
           255,
           255,
           255,
           255,
           255,
           255,
           255,
           255,
           255,
           255,
           255,
           255,
           255,
           255,
           255,
           255,
           255,
           255,
           255,
           255,
           255,
           255,
           255,
           255,
           255,
           255,
           255,
           0
          ],
          [
           0,
           255,
           255,
           255,
           0,
           0,
           0,
           0,
           0,
           0,
           255,
           0,
           0,
           0,
           255,
           255,
           255,
           255,
           255,
           255,
           255,
           255,
           255,
           255,
           255,
           255,
           255,
           255,
           255,
           255,
           255,
           255,
           255,
           255,
           255,
           255,
           255,
           255,
           255,
           255,
           255,
           255,
           255,
           255,
           255,
           255,
           255,
           0
          ],
          [
           0,
           255,
           255,
           255,
           0,
           0,
           0,
           0,
           0,
           0,
           255,
           255,
           255,
           255,
           255,
           255,
           255,
           255,
           0,
           0,
           0,
           0,
           0,
           0,
           255,
           255,
           255,
           255,
           255,
           255,
           255,
           255,
           255,
           255,
           255,
           255,
           255,
           255,
           255,
           255,
           255,
           255,
           255,
           255,
           255,
           255,
           255,
           0
          ],
          [
           0,
           255,
           255,
           255,
           255,
           0,
           0,
           0,
           0,
           0,
           255,
           255,
           255,
           255,
           255,
           255,
           255,
           255,
           0,
           0,
           0,
           0,
           0,
           0,
           255,
           255,
           255,
           255,
           255,
           255,
           255,
           255,
           255,
           255,
           255,
           255,
           255,
           255,
           255,
           255,
           255,
           255,
           255,
           255,
           255,
           255,
           255,
           0
          ],
          [
           0,
           255,
           255,
           255,
           255,
           0,
           0,
           0,
           0,
           255,
           255,
           255,
           255,
           255,
           255,
           255,
           255,
           255,
           0,
           0,
           0,
           0,
           0,
           0,
           255,
           255,
           255,
           255,
           255,
           255,
           255,
           255,
           255,
           255,
           255,
           255,
           255,
           255,
           255,
           255,
           255,
           255,
           255,
           255,
           255,
           255,
           255,
           0
          ],
          [
           0,
           0,
           0,
           0,
           0,
           0,
           0,
           0,
           0,
           0,
           0,
           0,
           0,
           0,
           0,
           0,
           0,
           0,
           0,
           0,
           0,
           0,
           0,
           0,
           0,
           0,
           0,
           0,
           0,
           0,
           0,
           0,
           0,
           0,
           0,
           0,
           0,
           0,
           0,
           0,
           0,
           0,
           0,
           0,
           0,
           0,
           0,
           0
          ]
         ]
        }
       ],
       "layout": {
        "coloraxis": {
         "colorscale": [
          [
           0,
           "#0d0887"
          ],
          [
           0.1111111111111111,
           "#46039f"
          ],
          [
           0.2222222222222222,
           "#7201a8"
          ],
          [
           0.3333333333333333,
           "#9c179e"
          ],
          [
           0.4444444444444444,
           "#bd3786"
          ],
          [
           0.5555555555555556,
           "#d8576b"
          ],
          [
           0.6666666666666666,
           "#ed7953"
          ],
          [
           0.7777777777777778,
           "#fb9f3a"
          ],
          [
           0.8888888888888888,
           "#fdca26"
          ],
          [
           1,
           "#f0f921"
          ]
         ]
        },
        "margin": {
         "t": 60
        },
        "template": {
         "data": {
          "bar": [
           {
            "error_x": {
             "color": "#2a3f5f"
            },
            "error_y": {
             "color": "#2a3f5f"
            },
            "marker": {
             "line": {
              "color": "#E5ECF6",
              "width": 0.5
             },
             "pattern": {
              "fillmode": "overlay",
              "size": 10,
              "solidity": 0.2
             }
            },
            "type": "bar"
           }
          ],
          "barpolar": [
           {
            "marker": {
             "line": {
              "color": "#E5ECF6",
              "width": 0.5
             },
             "pattern": {
              "fillmode": "overlay",
              "size": 10,
              "solidity": 0.2
             }
            },
            "type": "barpolar"
           }
          ],
          "carpet": [
           {
            "aaxis": {
             "endlinecolor": "#2a3f5f",
             "gridcolor": "white",
             "linecolor": "white",
             "minorgridcolor": "white",
             "startlinecolor": "#2a3f5f"
            },
            "baxis": {
             "endlinecolor": "#2a3f5f",
             "gridcolor": "white",
             "linecolor": "white",
             "minorgridcolor": "white",
             "startlinecolor": "#2a3f5f"
            },
            "type": "carpet"
           }
          ],
          "choropleth": [
           {
            "colorbar": {
             "outlinewidth": 0,
             "ticks": ""
            },
            "type": "choropleth"
           }
          ],
          "contour": [
           {
            "colorbar": {
             "outlinewidth": 0,
             "ticks": ""
            },
            "colorscale": [
             [
              0,
              "#0d0887"
             ],
             [
              0.1111111111111111,
              "#46039f"
             ],
             [
              0.2222222222222222,
              "#7201a8"
             ],
             [
              0.3333333333333333,
              "#9c179e"
             ],
             [
              0.4444444444444444,
              "#bd3786"
             ],
             [
              0.5555555555555556,
              "#d8576b"
             ],
             [
              0.6666666666666666,
              "#ed7953"
             ],
             [
              0.7777777777777778,
              "#fb9f3a"
             ],
             [
              0.8888888888888888,
              "#fdca26"
             ],
             [
              1,
              "#f0f921"
             ]
            ],
            "type": "contour"
           }
          ],
          "contourcarpet": [
           {
            "colorbar": {
             "outlinewidth": 0,
             "ticks": ""
            },
            "type": "contourcarpet"
           }
          ],
          "heatmap": [
           {
            "colorbar": {
             "outlinewidth": 0,
             "ticks": ""
            },
            "colorscale": [
             [
              0,
              "#0d0887"
             ],
             [
              0.1111111111111111,
              "#46039f"
             ],
             [
              0.2222222222222222,
              "#7201a8"
             ],
             [
              0.3333333333333333,
              "#9c179e"
             ],
             [
              0.4444444444444444,
              "#bd3786"
             ],
             [
              0.5555555555555556,
              "#d8576b"
             ],
             [
              0.6666666666666666,
              "#ed7953"
             ],
             [
              0.7777777777777778,
              "#fb9f3a"
             ],
             [
              0.8888888888888888,
              "#fdca26"
             ],
             [
              1,
              "#f0f921"
             ]
            ],
            "type": "heatmap"
           }
          ],
          "heatmapgl": [
           {
            "colorbar": {
             "outlinewidth": 0,
             "ticks": ""
            },
            "colorscale": [
             [
              0,
              "#0d0887"
             ],
             [
              0.1111111111111111,
              "#46039f"
             ],
             [
              0.2222222222222222,
              "#7201a8"
             ],
             [
              0.3333333333333333,
              "#9c179e"
             ],
             [
              0.4444444444444444,
              "#bd3786"
             ],
             [
              0.5555555555555556,
              "#d8576b"
             ],
             [
              0.6666666666666666,
              "#ed7953"
             ],
             [
              0.7777777777777778,
              "#fb9f3a"
             ],
             [
              0.8888888888888888,
              "#fdca26"
             ],
             [
              1,
              "#f0f921"
             ]
            ],
            "type": "heatmapgl"
           }
          ],
          "histogram": [
           {
            "marker": {
             "pattern": {
              "fillmode": "overlay",
              "size": 10,
              "solidity": 0.2
             }
            },
            "type": "histogram"
           }
          ],
          "histogram2d": [
           {
            "colorbar": {
             "outlinewidth": 0,
             "ticks": ""
            },
            "colorscale": [
             [
              0,
              "#0d0887"
             ],
             [
              0.1111111111111111,
              "#46039f"
             ],
             [
              0.2222222222222222,
              "#7201a8"
             ],
             [
              0.3333333333333333,
              "#9c179e"
             ],
             [
              0.4444444444444444,
              "#bd3786"
             ],
             [
              0.5555555555555556,
              "#d8576b"
             ],
             [
              0.6666666666666666,
              "#ed7953"
             ],
             [
              0.7777777777777778,
              "#fb9f3a"
             ],
             [
              0.8888888888888888,
              "#fdca26"
             ],
             [
              1,
              "#f0f921"
             ]
            ],
            "type": "histogram2d"
           }
          ],
          "histogram2dcontour": [
           {
            "colorbar": {
             "outlinewidth": 0,
             "ticks": ""
            },
            "colorscale": [
             [
              0,
              "#0d0887"
             ],
             [
              0.1111111111111111,
              "#46039f"
             ],
             [
              0.2222222222222222,
              "#7201a8"
             ],
             [
              0.3333333333333333,
              "#9c179e"
             ],
             [
              0.4444444444444444,
              "#bd3786"
             ],
             [
              0.5555555555555556,
              "#d8576b"
             ],
             [
              0.6666666666666666,
              "#ed7953"
             ],
             [
              0.7777777777777778,
              "#fb9f3a"
             ],
             [
              0.8888888888888888,
              "#fdca26"
             ],
             [
              1,
              "#f0f921"
             ]
            ],
            "type": "histogram2dcontour"
           }
          ],
          "mesh3d": [
           {
            "colorbar": {
             "outlinewidth": 0,
             "ticks": ""
            },
            "type": "mesh3d"
           }
          ],
          "parcoords": [
           {
            "line": {
             "colorbar": {
              "outlinewidth": 0,
              "ticks": ""
             }
            },
            "type": "parcoords"
           }
          ],
          "pie": [
           {
            "automargin": true,
            "type": "pie"
           }
          ],
          "scatter": [
           {
            "fillpattern": {
             "fillmode": "overlay",
             "size": 10,
             "solidity": 0.2
            },
            "type": "scatter"
           }
          ],
          "scatter3d": [
           {
            "line": {
             "colorbar": {
              "outlinewidth": 0,
              "ticks": ""
             }
            },
            "marker": {
             "colorbar": {
              "outlinewidth": 0,
              "ticks": ""
             }
            },
            "type": "scatter3d"
           }
          ],
          "scattercarpet": [
           {
            "marker": {
             "colorbar": {
              "outlinewidth": 0,
              "ticks": ""
             }
            },
            "type": "scattercarpet"
           }
          ],
          "scattergeo": [
           {
            "marker": {
             "colorbar": {
              "outlinewidth": 0,
              "ticks": ""
             }
            },
            "type": "scattergeo"
           }
          ],
          "scattergl": [
           {
            "marker": {
             "colorbar": {
              "outlinewidth": 0,
              "ticks": ""
             }
            },
            "type": "scattergl"
           }
          ],
          "scattermapbox": [
           {
            "marker": {
             "colorbar": {
              "outlinewidth": 0,
              "ticks": ""
             }
            },
            "type": "scattermapbox"
           }
          ],
          "scatterpolar": [
           {
            "marker": {
             "colorbar": {
              "outlinewidth": 0,
              "ticks": ""
             }
            },
            "type": "scatterpolar"
           }
          ],
          "scatterpolargl": [
           {
            "marker": {
             "colorbar": {
              "outlinewidth": 0,
              "ticks": ""
             }
            },
            "type": "scatterpolargl"
           }
          ],
          "scatterternary": [
           {
            "marker": {
             "colorbar": {
              "outlinewidth": 0,
              "ticks": ""
             }
            },
            "type": "scatterternary"
           }
          ],
          "surface": [
           {
            "colorbar": {
             "outlinewidth": 0,
             "ticks": ""
            },
            "colorscale": [
             [
              0,
              "#0d0887"
             ],
             [
              0.1111111111111111,
              "#46039f"
             ],
             [
              0.2222222222222222,
              "#7201a8"
             ],
             [
              0.3333333333333333,
              "#9c179e"
             ],
             [
              0.4444444444444444,
              "#bd3786"
             ],
             [
              0.5555555555555556,
              "#d8576b"
             ],
             [
              0.6666666666666666,
              "#ed7953"
             ],
             [
              0.7777777777777778,
              "#fb9f3a"
             ],
             [
              0.8888888888888888,
              "#fdca26"
             ],
             [
              1,
              "#f0f921"
             ]
            ],
            "type": "surface"
           }
          ],
          "table": [
           {
            "cells": {
             "fill": {
              "color": "#EBF0F8"
             },
             "line": {
              "color": "white"
             }
            },
            "header": {
             "fill": {
              "color": "#C8D4E3"
             },
             "line": {
              "color": "white"
             }
            },
            "type": "table"
           }
          ]
         },
         "layout": {
          "annotationdefaults": {
           "arrowcolor": "#2a3f5f",
           "arrowhead": 0,
           "arrowwidth": 1
          },
          "autotypenumbers": "strict",
          "coloraxis": {
           "colorbar": {
            "outlinewidth": 0,
            "ticks": ""
           }
          },
          "colorscale": {
           "diverging": [
            [
             0,
             "#8e0152"
            ],
            [
             0.1,
             "#c51b7d"
            ],
            [
             0.2,
             "#de77ae"
            ],
            [
             0.3,
             "#f1b6da"
            ],
            [
             0.4,
             "#fde0ef"
            ],
            [
             0.5,
             "#f7f7f7"
            ],
            [
             0.6,
             "#e6f5d0"
            ],
            [
             0.7,
             "#b8e186"
            ],
            [
             0.8,
             "#7fbc41"
            ],
            [
             0.9,
             "#4d9221"
            ],
            [
             1,
             "#276419"
            ]
           ],
           "sequential": [
            [
             0,
             "#0d0887"
            ],
            [
             0.1111111111111111,
             "#46039f"
            ],
            [
             0.2222222222222222,
             "#7201a8"
            ],
            [
             0.3333333333333333,
             "#9c179e"
            ],
            [
             0.4444444444444444,
             "#bd3786"
            ],
            [
             0.5555555555555556,
             "#d8576b"
            ],
            [
             0.6666666666666666,
             "#ed7953"
            ],
            [
             0.7777777777777778,
             "#fb9f3a"
            ],
            [
             0.8888888888888888,
             "#fdca26"
            ],
            [
             1,
             "#f0f921"
            ]
           ],
           "sequentialminus": [
            [
             0,
             "#0d0887"
            ],
            [
             0.1111111111111111,
             "#46039f"
            ],
            [
             0.2222222222222222,
             "#7201a8"
            ],
            [
             0.3333333333333333,
             "#9c179e"
            ],
            [
             0.4444444444444444,
             "#bd3786"
            ],
            [
             0.5555555555555556,
             "#d8576b"
            ],
            [
             0.6666666666666666,
             "#ed7953"
            ],
            [
             0.7777777777777778,
             "#fb9f3a"
            ],
            [
             0.8888888888888888,
             "#fdca26"
            ],
            [
             1,
             "#f0f921"
            ]
           ]
          },
          "colorway": [
           "#636efa",
           "#EF553B",
           "#00cc96",
           "#ab63fa",
           "#FFA15A",
           "#19d3f3",
           "#FF6692",
           "#B6E880",
           "#FF97FF",
           "#FECB52"
          ],
          "font": {
           "color": "#2a3f5f"
          },
          "geo": {
           "bgcolor": "white",
           "lakecolor": "white",
           "landcolor": "#E5ECF6",
           "showlakes": true,
           "showland": true,
           "subunitcolor": "white"
          },
          "hoverlabel": {
           "align": "left"
          },
          "hovermode": "closest",
          "mapbox": {
           "style": "light"
          },
          "paper_bgcolor": "white",
          "plot_bgcolor": "#E5ECF6",
          "polar": {
           "angularaxis": {
            "gridcolor": "white",
            "linecolor": "white",
            "ticks": ""
           },
           "bgcolor": "#E5ECF6",
           "radialaxis": {
            "gridcolor": "white",
            "linecolor": "white",
            "ticks": ""
           }
          },
          "scene": {
           "xaxis": {
            "backgroundcolor": "#E5ECF6",
            "gridcolor": "white",
            "gridwidth": 2,
            "linecolor": "white",
            "showbackground": true,
            "ticks": "",
            "zerolinecolor": "white"
           },
           "yaxis": {
            "backgroundcolor": "#E5ECF6",
            "gridcolor": "white",
            "gridwidth": 2,
            "linecolor": "white",
            "showbackground": true,
            "ticks": "",
            "zerolinecolor": "white"
           },
           "zaxis": {
            "backgroundcolor": "#E5ECF6",
            "gridcolor": "white",
            "gridwidth": 2,
            "linecolor": "white",
            "showbackground": true,
            "ticks": "",
            "zerolinecolor": "white"
           }
          },
          "shapedefaults": {
           "line": {
            "color": "#2a3f5f"
           }
          },
          "ternary": {
           "aaxis": {
            "gridcolor": "white",
            "linecolor": "white",
            "ticks": ""
           },
           "baxis": {
            "gridcolor": "white",
            "linecolor": "white",
            "ticks": ""
           },
           "bgcolor": "#E5ECF6",
           "caxis": {
            "gridcolor": "white",
            "linecolor": "white",
            "ticks": ""
           }
          },
          "title": {
           "x": 0.05
          },
          "xaxis": {
           "automargin": true,
           "gridcolor": "white",
           "linecolor": "white",
           "ticks": "",
           "title": {
            "standoff": 15
           },
           "zerolinecolor": "white",
           "zerolinewidth": 2
          },
          "yaxis": {
           "automargin": true,
           "gridcolor": "white",
           "linecolor": "white",
           "ticks": "",
           "title": {
            "standoff": 15
           },
           "zerolinecolor": "white",
           "zerolinewidth": 2
          }
         }
        },
        "xaxis": {
         "anchor": "y",
         "constrain": "domain",
         "domain": [
          0,
          1
         ],
         "scaleanchor": "y"
        },
        "yaxis": {
         "anchor": "x",
         "autorange": "reversed",
         "constrain": "domain",
         "domain": [
          0,
          1
         ]
        }
       }
      }
     },
     "metadata": {},
     "output_type": "display_data"
    },
    {
     "data": {
      "application/vnd.plotly.v1+json": {
       "config": {
        "plotlyServerURL": "https://plot.ly"
       },
       "data": [
        {
         "hovertemplate": "x: %{x}<br>y: %{y}<br>color: [%{z[0]}, %{z[1]}, %{z[2]}]<extra></extra>",
         "name": "0",
         "source": "data:image/png;base64,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",
         "type": "image",
         "xaxis": "x",
         "yaxis": "y"
        }
       ],
       "layout": {
        "margin": {
         "t": 60
        },
        "template": {
         "data": {
          "bar": [
           {
            "error_x": {
             "color": "#2a3f5f"
            },
            "error_y": {
             "color": "#2a3f5f"
            },
            "marker": {
             "line": {
              "color": "#E5ECF6",
              "width": 0.5
             },
             "pattern": {
              "fillmode": "overlay",
              "size": 10,
              "solidity": 0.2
             }
            },
            "type": "bar"
           }
          ],
          "barpolar": [
           {
            "marker": {
             "line": {
              "color": "#E5ECF6",
              "width": 0.5
             },
             "pattern": {
              "fillmode": "overlay",
              "size": 10,
              "solidity": 0.2
             }
            },
            "type": "barpolar"
           }
          ],
          "carpet": [
           {
            "aaxis": {
             "endlinecolor": "#2a3f5f",
             "gridcolor": "white",
             "linecolor": "white",
             "minorgridcolor": "white",
             "startlinecolor": "#2a3f5f"
            },
            "baxis": {
             "endlinecolor": "#2a3f5f",
             "gridcolor": "white",
             "linecolor": "white",
             "minorgridcolor": "white",
             "startlinecolor": "#2a3f5f"
            },
            "type": "carpet"
           }
          ],
          "choropleth": [
           {
            "colorbar": {
             "outlinewidth": 0,
             "ticks": ""
            },
            "type": "choropleth"
           }
          ],
          "contour": [
           {
            "colorbar": {
             "outlinewidth": 0,
             "ticks": ""
            },
            "colorscale": [
             [
              0,
              "#0d0887"
             ],
             [
              0.1111111111111111,
              "#46039f"
             ],
             [
              0.2222222222222222,
              "#7201a8"
             ],
             [
              0.3333333333333333,
              "#9c179e"
             ],
             [
              0.4444444444444444,
              "#bd3786"
             ],
             [
              0.5555555555555556,
              "#d8576b"
             ],
             [
              0.6666666666666666,
              "#ed7953"
             ],
             [
              0.7777777777777778,
              "#fb9f3a"
             ],
             [
              0.8888888888888888,
              "#fdca26"
             ],
             [
              1,
              "#f0f921"
             ]
            ],
            "type": "contour"
           }
          ],
          "contourcarpet": [
           {
            "colorbar": {
             "outlinewidth": 0,
             "ticks": ""
            },
            "type": "contourcarpet"
           }
          ],
          "heatmap": [
           {
            "colorbar": {
             "outlinewidth": 0,
             "ticks": ""
            },
            "colorscale": [
             [
              0,
              "#0d0887"
             ],
             [
              0.1111111111111111,
              "#46039f"
             ],
             [
              0.2222222222222222,
              "#7201a8"
             ],
             [
              0.3333333333333333,
              "#9c179e"
             ],
             [
              0.4444444444444444,
              "#bd3786"
             ],
             [
              0.5555555555555556,
              "#d8576b"
             ],
             [
              0.6666666666666666,
              "#ed7953"
             ],
             [
              0.7777777777777778,
              "#fb9f3a"
             ],
             [
              0.8888888888888888,
              "#fdca26"
             ],
             [
              1,
              "#f0f921"
             ]
            ],
            "type": "heatmap"
           }
          ],
          "heatmapgl": [
           {
            "colorbar": {
             "outlinewidth": 0,
             "ticks": ""
            },
            "colorscale": [
             [
              0,
              "#0d0887"
             ],
             [
              0.1111111111111111,
              "#46039f"
             ],
             [
              0.2222222222222222,
              "#7201a8"
             ],
             [
              0.3333333333333333,
              "#9c179e"
             ],
             [
              0.4444444444444444,
              "#bd3786"
             ],
             [
              0.5555555555555556,
              "#d8576b"
             ],
             [
              0.6666666666666666,
              "#ed7953"
             ],
             [
              0.7777777777777778,
              "#fb9f3a"
             ],
             [
              0.8888888888888888,
              "#fdca26"
             ],
             [
              1,
              "#f0f921"
             ]
            ],
            "type": "heatmapgl"
           }
          ],
          "histogram": [
           {
            "marker": {
             "pattern": {
              "fillmode": "overlay",
              "size": 10,
              "solidity": 0.2
             }
            },
            "type": "histogram"
           }
          ],
          "histogram2d": [
           {
            "colorbar": {
             "outlinewidth": 0,
             "ticks": ""
            },
            "colorscale": [
             [
              0,
              "#0d0887"
             ],
             [
              0.1111111111111111,
              "#46039f"
             ],
             [
              0.2222222222222222,
              "#7201a8"
             ],
             [
              0.3333333333333333,
              "#9c179e"
             ],
             [
              0.4444444444444444,
              "#bd3786"
             ],
             [
              0.5555555555555556,
              "#d8576b"
             ],
             [
              0.6666666666666666,
              "#ed7953"
             ],
             [
              0.7777777777777778,
              "#fb9f3a"
             ],
             [
              0.8888888888888888,
              "#fdca26"
             ],
             [
              1,
              "#f0f921"
             ]
            ],
            "type": "histogram2d"
           }
          ],
          "histogram2dcontour": [
           {
            "colorbar": {
             "outlinewidth": 0,
             "ticks": ""
            },
            "colorscale": [
             [
              0,
              "#0d0887"
             ],
             [
              0.1111111111111111,
              "#46039f"
             ],
             [
              0.2222222222222222,
              "#7201a8"
             ],
             [
              0.3333333333333333,
              "#9c179e"
             ],
             [
              0.4444444444444444,
              "#bd3786"
             ],
             [
              0.5555555555555556,
              "#d8576b"
             ],
             [
              0.6666666666666666,
              "#ed7953"
             ],
             [
              0.7777777777777778,
              "#fb9f3a"
             ],
             [
              0.8888888888888888,
              "#fdca26"
             ],
             [
              1,
              "#f0f921"
             ]
            ],
            "type": "histogram2dcontour"
           }
          ],
          "mesh3d": [
           {
            "colorbar": {
             "outlinewidth": 0,
             "ticks": ""
            },
            "type": "mesh3d"
           }
          ],
          "parcoords": [
           {
            "line": {
             "colorbar": {
              "outlinewidth": 0,
              "ticks": ""
             }
            },
            "type": "parcoords"
           }
          ],
          "pie": [
           {
            "automargin": true,
            "type": "pie"
           }
          ],
          "scatter": [
           {
            "fillpattern": {
             "fillmode": "overlay",
             "size": 10,
             "solidity": 0.2
            },
            "type": "scatter"
           }
          ],
          "scatter3d": [
           {
            "line": {
             "colorbar": {
              "outlinewidth": 0,
              "ticks": ""
             }
            },
            "marker": {
             "colorbar": {
              "outlinewidth": 0,
              "ticks": ""
             }
            },
            "type": "scatter3d"
           }
          ],
          "scattercarpet": [
           {
            "marker": {
             "colorbar": {
              "outlinewidth": 0,
              "ticks": ""
             }
            },
            "type": "scattercarpet"
           }
          ],
          "scattergeo": [
           {
            "marker": {
             "colorbar": {
              "outlinewidth": 0,
              "ticks": ""
             }
            },
            "type": "scattergeo"
           }
          ],
          "scattergl": [
           {
            "marker": {
             "colorbar": {
              "outlinewidth": 0,
              "ticks": ""
             }
            },
            "type": "scattergl"
           }
          ],
          "scattermapbox": [
           {
            "marker": {
             "colorbar": {
              "outlinewidth": 0,
              "ticks": ""
             }
            },
            "type": "scattermapbox"
           }
          ],
          "scatterpolar": [
           {
            "marker": {
             "colorbar": {
              "outlinewidth": 0,
              "ticks": ""
             }
            },
            "type": "scatterpolar"
           }
          ],
          "scatterpolargl": [
           {
            "marker": {
             "colorbar": {
              "outlinewidth": 0,
              "ticks": ""
             }
            },
            "type": "scatterpolargl"
           }
          ],
          "scatterternary": [
           {
            "marker": {
             "colorbar": {
              "outlinewidth": 0,
              "ticks": ""
             }
            },
            "type": "scatterternary"
           }
          ],
          "surface": [
           {
            "colorbar": {
             "outlinewidth": 0,
             "ticks": ""
            },
            "colorscale": [
             [
              0,
              "#0d0887"
             ],
             [
              0.1111111111111111,
              "#46039f"
             ],
             [
              0.2222222222222222,
              "#7201a8"
             ],
             [
              0.3333333333333333,
              "#9c179e"
             ],
             [
              0.4444444444444444,
              "#bd3786"
             ],
             [
              0.5555555555555556,
              "#d8576b"
             ],
             [
              0.6666666666666666,
              "#ed7953"
             ],
             [
              0.7777777777777778,
              "#fb9f3a"
             ],
             [
              0.8888888888888888,
              "#fdca26"
             ],
             [
              1,
              "#f0f921"
             ]
            ],
            "type": "surface"
           }
          ],
          "table": [
           {
            "cells": {
             "fill": {
              "color": "#EBF0F8"
             },
             "line": {
              "color": "white"
             }
            },
            "header": {
             "fill": {
              "color": "#C8D4E3"
             },
             "line": {
              "color": "white"
             }
            },
            "type": "table"
           }
          ]
         },
         "layout": {
          "annotationdefaults": {
           "arrowcolor": "#2a3f5f",
           "arrowhead": 0,
           "arrowwidth": 1
          },
          "autotypenumbers": "strict",
          "coloraxis": {
           "colorbar": {
            "outlinewidth": 0,
            "ticks": ""
           }
          },
          "colorscale": {
           "diverging": [
            [
             0,
             "#8e0152"
            ],
            [
             0.1,
             "#c51b7d"
            ],
            [
             0.2,
             "#de77ae"
            ],
            [
             0.3,
             "#f1b6da"
            ],
            [
             0.4,
             "#fde0ef"
            ],
            [
             0.5,
             "#f7f7f7"
            ],
            [
             0.6,
             "#e6f5d0"
            ],
            [
             0.7,
             "#b8e186"
            ],
            [
             0.8,
             "#7fbc41"
            ],
            [
             0.9,
             "#4d9221"
            ],
            [
             1,
             "#276419"
            ]
           ],
           "sequential": [
            [
             0,
             "#0d0887"
            ],
            [
             0.1111111111111111,
             "#46039f"
            ],
            [
             0.2222222222222222,
             "#7201a8"
            ],
            [
             0.3333333333333333,
             "#9c179e"
            ],
            [
             0.4444444444444444,
             "#bd3786"
            ],
            [
             0.5555555555555556,
             "#d8576b"
            ],
            [
             0.6666666666666666,
             "#ed7953"
            ],
            [
             0.7777777777777778,
             "#fb9f3a"
            ],
            [
             0.8888888888888888,
             "#fdca26"
            ],
            [
             1,
             "#f0f921"
            ]
           ],
           "sequentialminus": [
            [
             0,
             "#0d0887"
            ],
            [
             0.1111111111111111,
             "#46039f"
            ],
            [
             0.2222222222222222,
             "#7201a8"
            ],
            [
             0.3333333333333333,
             "#9c179e"
            ],
            [
             0.4444444444444444,
             "#bd3786"
            ],
            [
             0.5555555555555556,
             "#d8576b"
            ],
            [
             0.6666666666666666,
             "#ed7953"
            ],
            [
             0.7777777777777778,
             "#fb9f3a"
            ],
            [
             0.8888888888888888,
             "#fdca26"
            ],
            [
             1,
             "#f0f921"
            ]
           ]
          },
          "colorway": [
           "#636efa",
           "#EF553B",
           "#00cc96",
           "#ab63fa",
           "#FFA15A",
           "#19d3f3",
           "#FF6692",
           "#B6E880",
           "#FF97FF",
           "#FECB52"
          ],
          "font": {
           "color": "#2a3f5f"
          },
          "geo": {
           "bgcolor": "white",
           "lakecolor": "white",
           "landcolor": "#E5ECF6",
           "showlakes": true,
           "showland": true,
           "subunitcolor": "white"
          },
          "hoverlabel": {
           "align": "left"
          },
          "hovermode": "closest",
          "mapbox": {
           "style": "light"
          },
          "paper_bgcolor": "white",
          "plot_bgcolor": "#E5ECF6",
          "polar": {
           "angularaxis": {
            "gridcolor": "white",
            "linecolor": "white",
            "ticks": ""
           },
           "bgcolor": "#E5ECF6",
           "radialaxis": {
            "gridcolor": "white",
            "linecolor": "white",
            "ticks": ""
           }
          },
          "scene": {
           "xaxis": {
            "backgroundcolor": "#E5ECF6",
            "gridcolor": "white",
            "gridwidth": 2,
            "linecolor": "white",
            "showbackground": true,
            "ticks": "",
            "zerolinecolor": "white"
           },
           "yaxis": {
            "backgroundcolor": "#E5ECF6",
            "gridcolor": "white",
            "gridwidth": 2,
            "linecolor": "white",
            "showbackground": true,
            "ticks": "",
            "zerolinecolor": "white"
           },
           "zaxis": {
            "backgroundcolor": "#E5ECF6",
            "gridcolor": "white",
            "gridwidth": 2,
            "linecolor": "white",
            "showbackground": true,
            "ticks": "",
            "zerolinecolor": "white"
           }
          },
          "shapedefaults": {
           "line": {
            "color": "#2a3f5f"
           }
          },
          "ternary": {
           "aaxis": {
            "gridcolor": "white",
            "linecolor": "white",
            "ticks": ""
           },
           "baxis": {
            "gridcolor": "white",
            "linecolor": "white",
            "ticks": ""
           },
           "bgcolor": "#E5ECF6",
           "caxis": {
            "gridcolor": "white",
            "linecolor": "white",
            "ticks": ""
           }
          },
          "title": {
           "x": 0.05
          },
          "xaxis": {
           "automargin": true,
           "gridcolor": "white",
           "linecolor": "white",
           "ticks": "",
           "title": {
            "standoff": 15
           },
           "zerolinecolor": "white",
           "zerolinewidth": 2
          },
          "yaxis": {
           "automargin": true,
           "gridcolor": "white",
           "linecolor": "white",
           "ticks": "",
           "title": {
            "standoff": 15
           },
           "zerolinecolor": "white",
           "zerolinewidth": 2
          }
         }
        },
        "xaxis": {
         "anchor": "y",
         "domain": [
          0,
          1
         ]
        },
        "yaxis": {
         "anchor": "x",
         "domain": [
          0,
          1
         ]
        }
       }
      }
     },
     "metadata": {},
     "output_type": "display_data"
    },
    {
     "data": {
      "application/vnd.plotly.v1+json": {
       "config": {
        "plotlyServerURL": "https://plot.ly"
       },
       "data": [
        {
         "coloraxis": "coloraxis",
         "hovertemplate": "x: %{x}<br>y: %{y}<br>color: %{z}<extra></extra>",
         "name": "0",
         "type": "heatmap",
         "xaxis": "x",
         "yaxis": "y",
         "z": [
          [
           0,
           0,
           0,
           0,
           0,
           0,
           0,
           0,
           0,
           0,
           0,
           0,
           0,
           0,
           0,
           0,
           0,
           0,
           0,
           0,
           0,
           0,
           0,
           0,
           0,
           0,
           0,
           0,
           0,
           0,
           0,
           0,
           0,
           0,
           0,
           0,
           0,
           0,
           0,
           0,
           0,
           0,
           0,
           0,
           0,
           0,
           0,
           0
          ],
          [
           0,
           255,
           255,
           255,
           255,
           0,
           0,
           0,
           0,
           0,
           255,
           255,
           255,
           255,
           255,
           255,
           255,
           255,
           255,
           255,
           255,
           255,
           255,
           255,
           255,
           255,
           255,
           255,
           255,
           255,
           255,
           255,
           255,
           255,
           255,
           255,
           255,
           255,
           255,
           255,
           255,
           255,
           255,
           255,
           255,
           255,
           255,
           0
          ],
          [
           0,
           255,
           255,
           255,
           0,
           0,
           0,
           0,
           0,
           0,
           255,
           255,
           255,
           255,
           255,
           255,
           255,
           255,
           255,
           255,
           255,
           255,
           255,
           255,
           255,
           255,
           255,
           255,
           255,
           255,
           255,
           255,
           255,
           255,
           255,
           255,
           255,
           255,
           255,
           255,
           255,
           255,
           255,
           255,
           255,
           255,
           255,
           0
          ],
          [
           0,
           255,
           255,
           0,
           0,
           0,
           0,
           0,
           0,
           0,
           255,
           255,
           255,
           255,
           255,
           255,
           255,
           255,
           255,
           255,
           255,
           255,
           255,
           255,
           255,
           255,
           255,
           255,
           255,
           255,
           255,
           255,
           255,
           255,
           255,
           255,
           255,
           255,
           255,
           255,
           255,
           255,
           255,
           255,
           255,
           255,
           255,
           0
          ],
          [
           0,
           255,
           0,
           0,
           0,
           0,
           0,
           0,
           0,
           255,
           255,
           0,
           0,
           0,
           255,
           255,
           255,
           255,
           255,
           255,
           0,
           255,
           255,
           255,
           255,
           255,
           255,
           255,
           255,
           255,
           255,
           255,
           255,
           255,
           255,
           255,
           255,
           255,
           255,
           255,
           255,
           255,
           255,
           255,
           255,
           255,
           255,
           0
          ],
          [
           0,
           0,
           0,
           0,
           0,
           0,
           0,
           0,
           0,
           0,
           0,
           0,
           0,
           0,
           255,
           255,
           255,
           255,
           255,
           0,
           0,
           0,
           255,
           255,
           255,
           255,
           255,
           255,
           255,
           255,
           255,
           255,
           255,
           255,
           255,
           255,
           255,
           255,
           255,
           255,
           255,
           255,
           255,
           255,
           255,
           255,
           255,
           0
          ],
          [
           0,
           0,
           0,
           0,
           0,
           0,
           0,
           0,
           0,
           0,
           0,
           0,
           0,
           0,
           255,
           255,
           255,
           255,
           0,
           0,
           0,
           0,
           0,
           255,
           255,
           255,
           255,
           255,
           255,
           255,
           255,
           255,
           255,
           255,
           255,
           255,
           255,
           255,
           255,
           255,
           255,
           255,
           255,
           255,
           255,
           255,
           255,
           0
          ],
          [
           0,
           0,
           0,
           0,
           0,
           0,
           0,
           0,
           0,
           0,
           0,
           0,
           0,
           255,
           255,
           255,
           255,
           0,
           0,
           0,
           0,
           0,
           0,
           0,
           255,
           255,
           255,
           255,
           255,
           255,
           255,
           255,
           255,
           255,
           255,
           255,
           255,
           255,
           255,
           255,
           255,
           255,
           255,
           255,
           255,
           255,
           255,
           0
          ],
          [
           0,
           0,
           0,
           0,
           0,
           0,
           0,
           0,
           0,
           0,
           0,
           255,
           255,
           255,
           255,
           255,
           0,
           0,
           0,
           0,
           0,
           0,
           0,
           0,
           0,
           255,
           255,
           255,
           255,
           255,
           255,
           255,
           255,
           0,
           0,
           0,
           255,
           255,
           255,
           255,
           255,
           255,
           255,
           255,
           255,
           255,
           255,
           0
          ],
          [
           0,
           0,
           0,
           0,
           0,
           0,
           0,
           0,
           0,
           0,
           255,
           255,
           255,
           255,
           255,
           0,
           0,
           0,
           0,
           0,
           0,
           0,
           0,
           0,
           0,
           0,
           255,
           255,
           255,
           255,
           255,
           255,
           255,
           0,
           0,
           0,
           255,
           255,
           255,
           255,
           255,
           255,
           255,
           255,
           255,
           255,
           255,
           0
          ],
          [
           0,
           255,
           0,
           0,
           0,
           0,
           0,
           0,
           0,
           255,
           255,
           255,
           255,
           255,
           0,
           0,
           0,
           0,
           0,
           0,
           0,
           0,
           0,
           0,
           0,
           0,
           0,
           255,
           255,
           255,
           255,
           255,
           255,
           0,
           0,
           0,
           255,
           255,
           255,
           255,
           255,
           0,
           0,
           0,
           255,
           255,
           255,
           0
          ],
          [
           0,
           255,
           255,
           0,
           0,
           0,
           0,
           0,
           255,
           255,
           255,
           255,
           255,
           255,
           255,
           0,
           0,
           0,
           0,
           0,
           0,
           0,
           0,
           0,
           0,
           0,
           255,
           255,
           255,
           255,
           255,
           255,
           255,
           255,
           255,
           255,
           255,
           255,
           255,
           255,
           255,
           0,
           0,
           0,
           255,
           255,
           255,
           0
          ],
          [
           0,
           255,
           255,
           255,
           0,
           0,
           0,
           255,
           255,
           255,
           255,
           255,
           255,
           255,
           255,
           255,
           0,
           0,
           0,
           0,
           0,
           0,
           0,
           0,
           0,
           255,
           255,
           255,
           255,
           255,
           0,
           255,
           255,
           0,
           0,
           0,
           255,
           255,
           255,
           255,
           255,
           0,
           0,
           0,
           255,
           255,
           0,
           0
          ],
          [
           0,
           255,
           255,
           255,
           255,
           0,
           255,
           255,
           255,
           255,
           255,
           255,
           255,
           255,
           255,
           255,
           0,
           0,
           0,
           0,
           0,
           0,
           0,
           0,
           255,
           255,
           255,
           255,
           255,
           0,
           0,
           0,
           255,
           0,
           0,
           0,
           255,
           255,
           255,
           255,
           255,
           255,
           255,
           255,
           255,
           0,
           0,
           0
          ],
          [
           0,
           255,
           255,
           255,
           255,
           255,
           255,
           255,
           255,
           255,
           255,
           255,
           255,
           255,
           255,
           255,
           0,
           0,
           0,
           0,
           0,
           0,
           0,
           255,
           255,
           255,
           255,
           255,
           0,
           0,
           0,
           0,
           0,
           0,
           0,
           0,
           255,
           255,
           255,
           255,
           255,
           255,
           255,
           255,
           255,
           0,
           0,
           0
          ],
          [
           0,
           255,
           255,
           255,
           255,
           255,
           255,
           255,
           255,
           0,
           0,
           0,
           255,
           255,
           255,
           255,
           0,
           0,
           0,
           0,
           0,
           0,
           255,
           255,
           255,
           255,
           255,
           0,
           0,
           0,
           0,
           0,
           0,
           0,
           0,
           0,
           255,
           255,
           255,
           255,
           255,
           255,
           255,
           255,
           255,
           0,
           0,
           0
          ],
          [
           0,
           255,
           255,
           255,
           255,
           255,
           255,
           255,
           255,
           0,
           0,
           0,
           255,
           255,
           255,
           255,
           255,
           255,
           255,
           255,
           0,
           255,
           255,
           255,
           255,
           255,
           0,
           0,
           0,
           0,
           0,
           0,
           0,
           0,
           0,
           0,
           255,
           255,
           255,
           255,
           255,
           255,
           255,
           255,
           255,
           255,
           255,
           0
          ],
          [
           0,
           255,
           255,
           255,
           255,
           0,
           0,
           0,
           255,
           0,
           0,
           0,
           255,
           255,
           255,
           255,
           255,
           255,
           255,
           255,
           255,
           255,
           255,
           255,
           255,
           0,
           0,
           0,
           0,
           0,
           0,
           0,
           0,
           0,
           0,
           0,
           255,
           255,
           255,
           255,
           255,
           255,
           255,
           255,
           255,
           255,
           255,
           0
          ],
          [
           0,
           255,
           255,
           255,
           255,
           0,
           0,
           0,
           255,
           255,
           255,
           255,
           255,
           255,
           255,
           255,
           255,
           255,
           255,
           255,
           255,
           255,
           255,
           255,
           0,
           0,
           0,
           0,
           0,
           0,
           0,
           0,
           0,
           0,
           0,
           0,
           0,
           255,
           255,
           255,
           255,
           255,
           255,
           255,
           255,
           255,
           255,
           0
          ],
          [
           0,
           255,
           255,
           255,
           255,
           0,
           0,
           0,
           255,
           255,
           255,
           255,
           255,
           255,
           255,
           255,
           255,
           255,
           255,
           255,
           255,
           255,
           255,
           255,
           255,
           0,
           0,
           0,
           0,
           0,
           0,
           0,
           0,
           0,
           0,
           0,
           255,
           255,
           255,
           255,
           255,
           255,
           255,
           0,
           0,
           0,
           255,
           0
          ],
          [
           0,
           255,
           255,
           255,
           255,
           255,
           255,
           255,
           255,
           255,
           255,
           255,
           255,
           255,
           255,
           255,
           255,
           255,
           255,
           255,
           255,
           255,
           255,
           0,
           0,
           0,
           0,
           0,
           0,
           0,
           0,
           0,
           0,
           0,
           0,
           0,
           0,
           0,
           255,
           255,
           255,
           255,
           0,
           0,
           0,
           0,
           255,
           0
          ],
          [
           0,
           255,
           255,
           255,
           255,
           255,
           255,
           255,
           255,
           255,
           255,
           255,
           255,
           255,
           255,
           255,
           255,
           255,
           255,
           255,
           255,
           255,
           255,
           0,
           0,
           0,
           0,
           0,
           0,
           0,
           0,
           0,
           0,
           0,
           255,
           0,
           0,
           0,
           255,
           255,
           255,
           255,
           0,
           0,
           0,
           0,
           255,
           0
          ],
          [
           0,
           255,
           255,
           255,
           255,
           255,
           255,
           255,
           255,
           255,
           255,
           255,
           255,
           255,
           255,
           255,
           255,
           255,
           255,
           255,
           255,
           255,
           255,
           0,
           0,
           0,
           0,
           0,
           0,
           0,
           0,
           0,
           0,
           255,
           255,
           0,
           0,
           0,
           255,
           255,
           255,
           255,
           0,
           0,
           0,
           0,
           255,
           0
          ],
          [
           0,
           255,
           255,
           255,
           255,
           255,
           255,
           255,
           255,
           255,
           255,
           255,
           255,
           255,
           255,
           255,
           255,
           255,
           255,
           255,
           255,
           255,
           255,
           0,
           0,
           0,
           0,
           0,
           255,
           0,
           0,
           0,
           0,
           0,
           255,
           255,
           255,
           255,
           255,
           255,
           255,
           255,
           0,
           0,
           0,
           0,
           255,
           0
          ],
          [
           0,
           255,
           255,
           255,
           255,
           255,
           255,
           255,
           255,
           255,
           255,
           255,
           255,
           255,
           255,
           255,
           255,
           255,
           255,
           255,
           255,
           255,
           255,
           0,
           0,
           0,
           0,
           0,
           255,
           255,
           0,
           0,
           0,
           0,
           255,
           255,
           255,
           255,
           255,
           255,
           255,
           255,
           0,
           0,
           0,
           0,
           255,
           0
          ],
          [
           0,
           255,
           255,
           255,
           255,
           255,
           255,
           255,
           255,
           255,
           255,
           255,
           255,
           255,
           255,
           255,
           255,
           255,
           255,
           255,
           255,
           255,
           255,
           0,
           0,
           0,
           0,
           0,
           255,
           255,
           255,
           0,
           0,
           0,
           255,
           255,
           255,
           255,
           255,
           255,
           255,
           255,
           0,
           0,
           0,
           0,
           255,
           0
          ],
          [
           0,
           255,
           255,
           255,
           255,
           255,
           255,
           255,
           255,
           255,
           255,
           255,
           255,
           255,
           255,
           255,
           255,
           255,
           255,
           255,
           255,
           255,
           255,
           0,
           0,
           0,
           0,
           0,
           255,
           255,
           255,
           0,
           0,
           0,
           255,
           255,
           255,
           255,
           255,
           255,
           255,
           255,
           0,
           0,
           0,
           0,
           255,
           0
          ],
          [
           0,
           255,
           255,
           255,
           255,
           255,
           255,
           255,
           255,
           255,
           255,
           255,
           255,
           255,
           255,
           255,
           255,
           255,
           255,
           255,
           255,
           255,
           255,
           0,
           0,
           0,
           0,
           255,
           255,
           255,
           255,
           255,
           255,
           255,
           255,
           255,
           255,
           255,
           255,
           255,
           255,
           255,
           0,
           0,
           0,
           0,
           255,
           0
          ],
          [
           0,
           255,
           255,
           255,
           255,
           255,
           255,
           255,
           255,
           255,
           255,
           255,
           255,
           255,
           255,
           255,
           255,
           255,
           255,
           255,
           255,
           255,
           255,
           255,
           255,
           255,
           255,
           255,
           255,
           255,
           255,
           255,
           255,
           255,
           255,
           255,
           255,
           255,
           255,
           255,
           255,
           255,
           255,
           0,
           0,
           0,
           255,
           0
          ],
          [
           0,
           255,
           255,
           255,
           255,
           255,
           255,
           255,
           255,
           255,
           255,
           255,
           255,
           255,
           255,
           255,
           255,
           255,
           255,
           255,
           255,
           255,
           255,
           255,
           255,
           255,
           255,
           255,
           255,
           255,
           255,
           255,
           255,
           255,
           255,
           255,
           255,
           255,
           255,
           255,
           255,
           255,
           255,
           255,
           255,
           255,
           255,
           0
          ],
          [
           0,
           255,
           255,
           255,
           255,
           255,
           255,
           255,
           255,
           0,
           0,
           0,
           255,
           255,
           255,
           255,
           255,
           255,
           255,
           255,
           255,
           255,
           255,
           255,
           255,
           255,
           255,
           255,
           255,
           255,
           255,
           255,
           255,
           255,
           255,
           255,
           255,
           255,
           255,
           255,
           255,
           255,
           255,
           255,
           255,
           255,
           255,
           0
          ],
          [
           0,
           255,
           255,
           255,
           255,
           255,
           255,
           255,
           255,
           0,
           0,
           0,
           255,
           255,
           255,
           255,
           255,
           255,
           255,
           255,
           255,
           255,
           255,
           255,
           255,
           255,
           255,
           255,
           255,
           255,
           255,
           255,
           255,
           255,
           255,
           255,
           255,
           255,
           255,
           255,
           255,
           255,
           255,
           255,
           255,
           255,
           255,
           0
          ],
          [
           0,
           255,
           255,
           255,
           255,
           255,
           255,
           255,
           255,
           0,
           0,
           0,
           255,
           255,
           255,
           255,
           255,
           255,
           255,
           255,
           255,
           255,
           255,
           255,
           255,
           255,
           255,
           255,
           255,
           255,
           255,
           255,
           255,
           255,
           255,
           255,
           255,
           255,
           255,
           255,
           255,
           255,
           255,
           255,
           255,
           0,
           0,
           0
          ],
          [
           0,
           255,
           255,
           255,
           255,
           255,
           255,
           255,
           255,
           255,
           255,
           255,
           255,
           255,
           255,
           255,
           255,
           255,
           255,
           255,
           255,
           255,
           255,
           255,
           255,
           0,
           0,
           0,
           255,
           255,
           255,
           255,
           255,
           255,
           255,
           255,
           255,
           255,
           255,
           255,
           255,
           255,
           255,
           255,
           255,
           0,
           0,
           0
          ],
          [
           0,
           255,
           255,
           255,
           255,
           255,
           255,
           255,
           255,
           255,
           255,
           255,
           255,
           255,
           255,
           255,
           255,
           255,
           255,
           255,
           255,
           255,
           255,
           255,
           255,
           0,
           0,
           0,
           255,
           255,
           255,
           255,
           255,
           255,
           255,
           255,
           255,
           255,
           255,
           255,
           255,
           255,
           255,
           255,
           255,
           0,
           0,
           0
          ],
          [
           0,
           255,
           255,
           255,
           255,
           255,
           255,
           255,
           255,
           255,
           255,
           255,
           255,
           255,
           255,
           255,
           255,
           255,
           255,
           255,
           255,
           255,
           255,
           255,
           255,
           0,
           0,
           0,
           255,
           255,
           255,
           255,
           255,
           255,
           255,
           255,
           255,
           255,
           255,
           255,
           255,
           0,
           0,
           0,
           255,
           255,
           0,
           0
          ],
          [
           0,
           255,
           0,
           0,
           0,
           255,
           255,
           255,
           255,
           255,
           255,
           255,
           255,
           255,
           255,
           255,
           255,
           255,
           255,
           255,
           255,
           255,
           255,
           255,
           255,
           255,
           255,
           255,
           255,
           255,
           255,
           255,
           255,
           255,
           255,
           255,
           255,
           255,
           255,
           255,
           255,
           0,
           0,
           0,
           255,
           255,
           255,
           0
          ],
          [
           0,
           255,
           0,
           0,
           0,
           255,
           255,
           255,
           255,
           255,
           255,
           255,
           255,
           255,
           255,
           255,
           255,
           255,
           255,
           255,
           255,
           255,
           255,
           255,
           255,
           255,
           255,
           255,
           255,
           255,
           255,
           255,
           255,
           255,
           255,
           255,
           255,
           255,
           255,
           255,
           255,
           0,
           0,
           0,
           255,
           255,
           255,
           0
          ],
          [
           0,
           255,
           0,
           0,
           0,
           255,
           255,
           255,
           255,
           255,
           255,
           255,
           255,
           255,
           255,
           255,
           255,
           255,
           255,
           255,
           255,
           255,
           255,
           255,
           255,
           255,
           255,
           255,
           255,
           255,
           255,
           255,
           255,
           255,
           255,
           255,
           255,
           255,
           255,
           255,
           255,
           255,
           255,
           255,
           255,
           255,
           255,
           0
          ],
          [
           0,
           0,
           0,
           0,
           255,
           255,
           255,
           255,
           255,
           255,
           255,
           255,
           255,
           255,
           255,
           255,
           255,
           255,
           255,
           255,
           255,
           255,
           255,
           255,
           255,
           255,
           255,
           255,
           255,
           255,
           255,
           255,
           255,
           255,
           255,
           255,
           255,
           255,
           255,
           255,
           255,
           255,
           255,
           255,
           255,
           255,
           255,
           0
          ],
          [
           0,
           0,
           0,
           0,
           255,
           255,
           255,
           255,
           255,
           255,
           255,
           255,
           255,
           255,
           255,
           255,
           255,
           255,
           255,
           255,
           255,
           255,
           255,
           255,
           255,
           255,
           255,
           255,
           255,
           255,
           255,
           255,
           255,
           255,
           255,
           255,
           255,
           255,
           255,
           255,
           255,
           255,
           255,
           255,
           255,
           255,
           255,
           0
          ],
          [
           0,
           0,
           0,
           0,
           255,
           0,
           0,
           0,
           255,
           255,
           255,
           0,
           0,
           0,
           255,
           255,
           255,
           255,
           255,
           255,
           255,
           255,
           255,
           255,
           255,
           255,
           255,
           255,
           255,
           255,
           255,
           255,
           255,
           255,
           255,
           255,
           255,
           255,
           255,
           255,
           255,
           255,
           255,
           255,
           255,
           255,
           255,
           0
          ],
          [
           0,
           255,
           255,
           255,
           0,
           0,
           0,
           0,
           0,
           255,
           255,
           0,
           0,
           0,
           255,
           255,
           255,
           255,
           255,
           255,
           255,
           255,
           255,
           255,
           255,
           255,
           255,
           255,
           255,
           255,
           255,
           255,
           255,
           255,
           255,
           255,
           255,
           255,
           255,
           255,
           255,
           255,
           255,
           255,
           255,
           255,
           255,
           0
          ],
          [
           0,
           255,
           255,
           255,
           0,
           0,
           0,
           0,
           0,
           0,
           255,
           0,
           0,
           0,
           255,
           255,
           255,
           255,
           255,
           255,
           255,
           255,
           255,
           255,
           255,
           255,
           255,
           255,
           255,
           255,
           255,
           255,
           255,
           255,
           255,
           255,
           255,
           255,
           255,
           255,
           255,
           255,
           255,
           255,
           255,
           255,
           255,
           0
          ],
          [
           0,
           255,
           255,
           255,
           0,
           0,
           0,
           0,
           0,
           0,
           255,
           255,
           255,
           255,
           255,
           255,
           255,
           255,
           0,
           0,
           0,
           0,
           0,
           0,
           255,
           255,
           255,
           255,
           255,
           255,
           255,
           255,
           255,
           255,
           255,
           255,
           255,
           255,
           255,
           255,
           255,
           255,
           255,
           255,
           255,
           255,
           255,
           0
          ],
          [
           0,
           255,
           255,
           255,
           255,
           0,
           0,
           0,
           0,
           0,
           255,
           255,
           255,
           255,
           255,
           255,
           255,
           255,
           0,
           0,
           0,
           0,
           0,
           0,
           255,
           255,
           255,
           255,
           255,
           255,
           255,
           255,
           255,
           255,
           255,
           255,
           255,
           255,
           255,
           255,
           255,
           255,
           255,
           255,
           255,
           255,
           255,
           0
          ],
          [
           0,
           255,
           255,
           255,
           255,
           0,
           0,
           0,
           0,
           255,
           255,
           255,
           255,
           255,
           255,
           255,
           255,
           255,
           0,
           0,
           0,
           0,
           0,
           0,
           255,
           255,
           255,
           255,
           255,
           255,
           255,
           255,
           255,
           255,
           255,
           255,
           255,
           255,
           255,
           255,
           255,
           255,
           255,
           255,
           255,
           255,
           255,
           0
          ],
          [
           0,
           0,
           0,
           0,
           0,
           0,
           0,
           0,
           0,
           0,
           0,
           0,
           0,
           0,
           0,
           0,
           0,
           0,
           0,
           0,
           0,
           0,
           0,
           0,
           0,
           0,
           0,
           0,
           0,
           0,
           0,
           0,
           0,
           0,
           0,
           0,
           0,
           0,
           0,
           0,
           0,
           0,
           0,
           0,
           0,
           0,
           0,
           0
          ]
         ]
        }
       ],
       "layout": {
        "coloraxis": {
         "colorscale": [
          [
           0,
           "#0d0887"
          ],
          [
           0.1111111111111111,
           "#46039f"
          ],
          [
           0.2222222222222222,
           "#7201a8"
          ],
          [
           0.3333333333333333,
           "#9c179e"
          ],
          [
           0.4444444444444444,
           "#bd3786"
          ],
          [
           0.5555555555555556,
           "#d8576b"
          ],
          [
           0.6666666666666666,
           "#ed7953"
          ],
          [
           0.7777777777777778,
           "#fb9f3a"
          ],
          [
           0.8888888888888888,
           "#fdca26"
          ],
          [
           1,
           "#f0f921"
          ]
         ]
        },
        "margin": {
         "t": 60
        },
        "template": {
         "data": {
          "bar": [
           {
            "error_x": {
             "color": "#2a3f5f"
            },
            "error_y": {
             "color": "#2a3f5f"
            },
            "marker": {
             "line": {
              "color": "#E5ECF6",
              "width": 0.5
             },
             "pattern": {
              "fillmode": "overlay",
              "size": 10,
              "solidity": 0.2
             }
            },
            "type": "bar"
           }
          ],
          "barpolar": [
           {
            "marker": {
             "line": {
              "color": "#E5ECF6",
              "width": 0.5
             },
             "pattern": {
              "fillmode": "overlay",
              "size": 10,
              "solidity": 0.2
             }
            },
            "type": "barpolar"
           }
          ],
          "carpet": [
           {
            "aaxis": {
             "endlinecolor": "#2a3f5f",
             "gridcolor": "white",
             "linecolor": "white",
             "minorgridcolor": "white",
             "startlinecolor": "#2a3f5f"
            },
            "baxis": {
             "endlinecolor": "#2a3f5f",
             "gridcolor": "white",
             "linecolor": "white",
             "minorgridcolor": "white",
             "startlinecolor": "#2a3f5f"
            },
            "type": "carpet"
           }
          ],
          "choropleth": [
           {
            "colorbar": {
             "outlinewidth": 0,
             "ticks": ""
            },
            "type": "choropleth"
           }
          ],
          "contour": [
           {
            "colorbar": {
             "outlinewidth": 0,
             "ticks": ""
            },
            "colorscale": [
             [
              0,
              "#0d0887"
             ],
             [
              0.1111111111111111,
              "#46039f"
             ],
             [
              0.2222222222222222,
              "#7201a8"
             ],
             [
              0.3333333333333333,
              "#9c179e"
             ],
             [
              0.4444444444444444,
              "#bd3786"
             ],
             [
              0.5555555555555556,
              "#d8576b"
             ],
             [
              0.6666666666666666,
              "#ed7953"
             ],
             [
              0.7777777777777778,
              "#fb9f3a"
             ],
             [
              0.8888888888888888,
              "#fdca26"
             ],
             [
              1,
              "#f0f921"
             ]
            ],
            "type": "contour"
           }
          ],
          "contourcarpet": [
           {
            "colorbar": {
             "outlinewidth": 0,
             "ticks": ""
            },
            "type": "contourcarpet"
           }
          ],
          "heatmap": [
           {
            "colorbar": {
             "outlinewidth": 0,
             "ticks": ""
            },
            "colorscale": [
             [
              0,
              "#0d0887"
             ],
             [
              0.1111111111111111,
              "#46039f"
             ],
             [
              0.2222222222222222,
              "#7201a8"
             ],
             [
              0.3333333333333333,
              "#9c179e"
             ],
             [
              0.4444444444444444,
              "#bd3786"
             ],
             [
              0.5555555555555556,
              "#d8576b"
             ],
             [
              0.6666666666666666,
              "#ed7953"
             ],
             [
              0.7777777777777778,
              "#fb9f3a"
             ],
             [
              0.8888888888888888,
              "#fdca26"
             ],
             [
              1,
              "#f0f921"
             ]
            ],
            "type": "heatmap"
           }
          ],
          "heatmapgl": [
           {
            "colorbar": {
             "outlinewidth": 0,
             "ticks": ""
            },
            "colorscale": [
             [
              0,
              "#0d0887"
             ],
             [
              0.1111111111111111,
              "#46039f"
             ],
             [
              0.2222222222222222,
              "#7201a8"
             ],
             [
              0.3333333333333333,
              "#9c179e"
             ],
             [
              0.4444444444444444,
              "#bd3786"
             ],
             [
              0.5555555555555556,
              "#d8576b"
             ],
             [
              0.6666666666666666,
              "#ed7953"
             ],
             [
              0.7777777777777778,
              "#fb9f3a"
             ],
             [
              0.8888888888888888,
              "#fdca26"
             ],
             [
              1,
              "#f0f921"
             ]
            ],
            "type": "heatmapgl"
           }
          ],
          "histogram": [
           {
            "marker": {
             "pattern": {
              "fillmode": "overlay",
              "size": 10,
              "solidity": 0.2
             }
            },
            "type": "histogram"
           }
          ],
          "histogram2d": [
           {
            "colorbar": {
             "outlinewidth": 0,
             "ticks": ""
            },
            "colorscale": [
             [
              0,
              "#0d0887"
             ],
             [
              0.1111111111111111,
              "#46039f"
             ],
             [
              0.2222222222222222,
              "#7201a8"
             ],
             [
              0.3333333333333333,
              "#9c179e"
             ],
             [
              0.4444444444444444,
              "#bd3786"
             ],
             [
              0.5555555555555556,
              "#d8576b"
             ],
             [
              0.6666666666666666,
              "#ed7953"
             ],
             [
              0.7777777777777778,
              "#fb9f3a"
             ],
             [
              0.8888888888888888,
              "#fdca26"
             ],
             [
              1,
              "#f0f921"
             ]
            ],
            "type": "histogram2d"
           }
          ],
          "histogram2dcontour": [
           {
            "colorbar": {
             "outlinewidth": 0,
             "ticks": ""
            },
            "colorscale": [
             [
              0,
              "#0d0887"
             ],
             [
              0.1111111111111111,
              "#46039f"
             ],
             [
              0.2222222222222222,
              "#7201a8"
             ],
             [
              0.3333333333333333,
              "#9c179e"
             ],
             [
              0.4444444444444444,
              "#bd3786"
             ],
             [
              0.5555555555555556,
              "#d8576b"
             ],
             [
              0.6666666666666666,
              "#ed7953"
             ],
             [
              0.7777777777777778,
              "#fb9f3a"
             ],
             [
              0.8888888888888888,
              "#fdca26"
             ],
             [
              1,
              "#f0f921"
             ]
            ],
            "type": "histogram2dcontour"
           }
          ],
          "mesh3d": [
           {
            "colorbar": {
             "outlinewidth": 0,
             "ticks": ""
            },
            "type": "mesh3d"
           }
          ],
          "parcoords": [
           {
            "line": {
             "colorbar": {
              "outlinewidth": 0,
              "ticks": ""
             }
            },
            "type": "parcoords"
           }
          ],
          "pie": [
           {
            "automargin": true,
            "type": "pie"
           }
          ],
          "scatter": [
           {
            "fillpattern": {
             "fillmode": "overlay",
             "size": 10,
             "solidity": 0.2
            },
            "type": "scatter"
           }
          ],
          "scatter3d": [
           {
            "line": {
             "colorbar": {
              "outlinewidth": 0,
              "ticks": ""
             }
            },
            "marker": {
             "colorbar": {
              "outlinewidth": 0,
              "ticks": ""
             }
            },
            "type": "scatter3d"
           }
          ],
          "scattercarpet": [
           {
            "marker": {
             "colorbar": {
              "outlinewidth": 0,
              "ticks": ""
             }
            },
            "type": "scattercarpet"
           }
          ],
          "scattergeo": [
           {
            "marker": {
             "colorbar": {
              "outlinewidth": 0,
              "ticks": ""
             }
            },
            "type": "scattergeo"
           }
          ],
          "scattergl": [
           {
            "marker": {
             "colorbar": {
              "outlinewidth": 0,
              "ticks": ""
             }
            },
            "type": "scattergl"
           }
          ],
          "scattermapbox": [
           {
            "marker": {
             "colorbar": {
              "outlinewidth": 0,
              "ticks": ""
             }
            },
            "type": "scattermapbox"
           }
          ],
          "scatterpolar": [
           {
            "marker": {
             "colorbar": {
              "outlinewidth": 0,
              "ticks": ""
             }
            },
            "type": "scatterpolar"
           }
          ],
          "scatterpolargl": [
           {
            "marker": {
             "colorbar": {
              "outlinewidth": 0,
              "ticks": ""
             }
            },
            "type": "scatterpolargl"
           }
          ],
          "scatterternary": [
           {
            "marker": {
             "colorbar": {
              "outlinewidth": 0,
              "ticks": ""
             }
            },
            "type": "scatterternary"
           }
          ],
          "surface": [
           {
            "colorbar": {
             "outlinewidth": 0,
             "ticks": ""
            },
            "colorscale": [
             [
              0,
              "#0d0887"
             ],
             [
              0.1111111111111111,
              "#46039f"
             ],
             [
              0.2222222222222222,
              "#7201a8"
             ],
             [
              0.3333333333333333,
              "#9c179e"
             ],
             [
              0.4444444444444444,
              "#bd3786"
             ],
             [
              0.5555555555555556,
              "#d8576b"
             ],
             [
              0.6666666666666666,
              "#ed7953"
             ],
             [
              0.7777777777777778,
              "#fb9f3a"
             ],
             [
              0.8888888888888888,
              "#fdca26"
             ],
             [
              1,
              "#f0f921"
             ]
            ],
            "type": "surface"
           }
          ],
          "table": [
           {
            "cells": {
             "fill": {
              "color": "#EBF0F8"
             },
             "line": {
              "color": "white"
             }
            },
            "header": {
             "fill": {
              "color": "#C8D4E3"
             },
             "line": {
              "color": "white"
             }
            },
            "type": "table"
           }
          ]
         },
         "layout": {
          "annotationdefaults": {
           "arrowcolor": "#2a3f5f",
           "arrowhead": 0,
           "arrowwidth": 1
          },
          "autotypenumbers": "strict",
          "coloraxis": {
           "colorbar": {
            "outlinewidth": 0,
            "ticks": ""
           }
          },
          "colorscale": {
           "diverging": [
            [
             0,
             "#8e0152"
            ],
            [
             0.1,
             "#c51b7d"
            ],
            [
             0.2,
             "#de77ae"
            ],
            [
             0.3,
             "#f1b6da"
            ],
            [
             0.4,
             "#fde0ef"
            ],
            [
             0.5,
             "#f7f7f7"
            ],
            [
             0.6,
             "#e6f5d0"
            ],
            [
             0.7,
             "#b8e186"
            ],
            [
             0.8,
             "#7fbc41"
            ],
            [
             0.9,
             "#4d9221"
            ],
            [
             1,
             "#276419"
            ]
           ],
           "sequential": [
            [
             0,
             "#0d0887"
            ],
            [
             0.1111111111111111,
             "#46039f"
            ],
            [
             0.2222222222222222,
             "#7201a8"
            ],
            [
             0.3333333333333333,
             "#9c179e"
            ],
            [
             0.4444444444444444,
             "#bd3786"
            ],
            [
             0.5555555555555556,
             "#d8576b"
            ],
            [
             0.6666666666666666,
             "#ed7953"
            ],
            [
             0.7777777777777778,
             "#fb9f3a"
            ],
            [
             0.8888888888888888,
             "#fdca26"
            ],
            [
             1,
             "#f0f921"
            ]
           ],
           "sequentialminus": [
            [
             0,
             "#0d0887"
            ],
            [
             0.1111111111111111,
             "#46039f"
            ],
            [
             0.2222222222222222,
             "#7201a8"
            ],
            [
             0.3333333333333333,
             "#9c179e"
            ],
            [
             0.4444444444444444,
             "#bd3786"
            ],
            [
             0.5555555555555556,
             "#d8576b"
            ],
            [
             0.6666666666666666,
             "#ed7953"
            ],
            [
             0.7777777777777778,
             "#fb9f3a"
            ],
            [
             0.8888888888888888,
             "#fdca26"
            ],
            [
             1,
             "#f0f921"
            ]
           ]
          },
          "colorway": [
           "#636efa",
           "#EF553B",
           "#00cc96",
           "#ab63fa",
           "#FFA15A",
           "#19d3f3",
           "#FF6692",
           "#B6E880",
           "#FF97FF",
           "#FECB52"
          ],
          "font": {
           "color": "#2a3f5f"
          },
          "geo": {
           "bgcolor": "white",
           "lakecolor": "white",
           "landcolor": "#E5ECF6",
           "showlakes": true,
           "showland": true,
           "subunitcolor": "white"
          },
          "hoverlabel": {
           "align": "left"
          },
          "hovermode": "closest",
          "mapbox": {
           "style": "light"
          },
          "paper_bgcolor": "white",
          "plot_bgcolor": "#E5ECF6",
          "polar": {
           "angularaxis": {
            "gridcolor": "white",
            "linecolor": "white",
            "ticks": ""
           },
           "bgcolor": "#E5ECF6",
           "radialaxis": {
            "gridcolor": "white",
            "linecolor": "white",
            "ticks": ""
           }
          },
          "scene": {
           "xaxis": {
            "backgroundcolor": "#E5ECF6",
            "gridcolor": "white",
            "gridwidth": 2,
            "linecolor": "white",
            "showbackground": true,
            "ticks": "",
            "zerolinecolor": "white"
           },
           "yaxis": {
            "backgroundcolor": "#E5ECF6",
            "gridcolor": "white",
            "gridwidth": 2,
            "linecolor": "white",
            "showbackground": true,
            "ticks": "",
            "zerolinecolor": "white"
           },
           "zaxis": {
            "backgroundcolor": "#E5ECF6",
            "gridcolor": "white",
            "gridwidth": 2,
            "linecolor": "white",
            "showbackground": true,
            "ticks": "",
            "zerolinecolor": "white"
           }
          },
          "shapedefaults": {
           "line": {
            "color": "#2a3f5f"
           }
          },
          "ternary": {
           "aaxis": {
            "gridcolor": "white",
            "linecolor": "white",
            "ticks": ""
           },
           "baxis": {
            "gridcolor": "white",
            "linecolor": "white",
            "ticks": ""
           },
           "bgcolor": "#E5ECF6",
           "caxis": {
            "gridcolor": "white",
            "linecolor": "white",
            "ticks": ""
           }
          },
          "title": {
           "x": 0.05
          },
          "xaxis": {
           "automargin": true,
           "gridcolor": "white",
           "linecolor": "white",
           "ticks": "",
           "title": {
            "standoff": 15
           },
           "zerolinecolor": "white",
           "zerolinewidth": 2
          },
          "yaxis": {
           "automargin": true,
           "gridcolor": "white",
           "linecolor": "white",
           "ticks": "",
           "title": {
            "standoff": 15
           },
           "zerolinecolor": "white",
           "zerolinewidth": 2
          }
         }
        },
        "xaxis": {
         "anchor": "y",
         "constrain": "domain",
         "domain": [
          0,
          1
         ],
         "scaleanchor": "y"
        },
        "yaxis": {
         "anchor": "x",
         "autorange": "reversed",
         "constrain": "domain",
         "domain": [
          0,
          1
         ]
        }
       }
      }
     },
     "metadata": {},
     "output_type": "display_data"
    },
    {
     "name": "stdout",
     "output_type": "stream",
     "text": [
      "else 4 False 2\n",
      "if 5 True 2\n",
      "hash_indOre 128\n",
      "hash_indIce 128\n",
      "hash_indFactories 128\n",
      "spawns 290 128\n",
      "invalid 364 128\n",
      "occupied 324 128\n",
      "inside map 255 2200\n",
      "valid spawns 108 920\n",
      "[31 27]\n"
     ]
    },
    {
     "data": {
      "application/vnd.plotly.v1+json": {
       "config": {
        "plotlyServerURL": "https://plot.ly"
       },
       "data": [
        {
         "hovertemplate": "x: %{x}<br>y: %{y}<br>color: [%{z[0]}, %{z[1]}, %{z[2]}]<extra></extra>",
         "name": "0",
         "source": "data:image/png;base64,iVBORw0KGgoAAAANSUhEUgAAADAAAAAwCAIAAADYYG7QAAALo0lEQVR4Xs1Za3BV1RX+1joHJTdRwECBEM0LQiS8JoCgFMEYIoioqEWl06kdFIqt6NgZndY+rPqj1XHqo4JQHNtRg9CK8pCHQAml2oSHBPMguRDyqBIFZIrJJQFy9uqPtc/O4SLan/3m/thnn733WY9vr7X2vvToiL5MxMxMRAQHhn0IRAJjzgUmMCYwIiIAmImJmMkj0nluso4QkUDEGBGBQAhEBGYikMfkMTORR+S+ygAAIvJ9z4u+Ky7IfrB4OYA7X5kuAv28AxG0QwQGAgMhMIHJih/RyOL2ouGuTcB7+xsAJhhiBtGNV+foq/L6ZpWMnhgzQBV1wq5cuFkH3fnKdGNELTRz1FAVToA1++pFRC2jqhPRbWPzdfr7nxwCICKzRg/T8VEQsLYq3stjn3nGqLxQEexsaLEDfl000CPymNSeAN54YOPSHQvK61sCkSAwBlJamBsaxq7/zr56bTux5hQN10cd4AbrhP5pMQAnOk4DIGBj9WGf2WeeXpjrbKPgXh6rUz1ij+mNBzYCWHTDcl2RiEoLcwHolOhMB2VJ2O6xiA7unxZTadzbdz9uCIwYEQPZVtdklHbhxFAapuuGZl6bl7msfCGAectmRJf4SfGfAGypadxUfVg/w2QBgAh3FBXoeADrquIbDsQ3HIjr44mO0yc6Th9vTxxvTwBYvafOiBgR3SKBGGWFAQIREaFnr80k0KS8IQCGHP0PAgOPy9pPdQcmEBHBmp9unfNyCYBAxIjMGJnnFNVPqrMc1h84xAQARjB7zDBV/O3dtc7FPhMT+x771hZstyqBiNhjZqaF05YtnLYMgYnLpQhMlIl3/HG6s4RCH+cUDWe21FGkp8X0lREYgUBU6NV76qCeFRgj3Ua6jekOzLnAzBw1tLQwt6QwR01ljPhMJCL3vz57xY/Ww+P84Aw8vj7/KvXp9oNN4efCHR+B21kArkhN0catY/PXVcUFYowot+ZOGLGysgawVLt7QiFCrZSmKigYLPBVeQD3vz77aM4QS08R/ZDPLCLKOwAzR+WpVOlpscmxvgkgFVh/vM1Jo5g9Zth7+xuMyJyiAgAi8q8nKl7cOj86RkVxDQFEYEh8AoEsxyubPrsmJwNAn5TeAE51dk0ryNrZ0AIjQigdkRtdMQGkdphEGidJA2BtVdwqHWqSJE1ZZQ0TMVEvz/OYennsMQtARBqyoYSamDOEQC5YKaYOz5pWkO1CqlruZKIzFUikcWp0KABgXVUcgEACEfUUABEMuCx1wGWpAN6qqNEeAIufzAEQ5azPBCMEYHz24J5uAECflN6nOrvcI4E21zQaEWPMzaOHrT/ehgh1Loa3KmrmTRwJ4NhXCbctREAEAV74TaPPXnQ8M/P47MHjswe70Wm9L3Gv+6T0VvcB2FZnCU5Emh++FreOzY8+EqGssuaR0tf0Uc0DQCCWKCGI6IePZWjIcF0gQkfX2Y6us+1dZ9q7zpzq7FIjbT/Y5ObP/3mmm3Uy0Rn9aedtY/MJxIQwuODFrfOdwhfDfY9nvPnc5/ThD67V59RLLwGQOHN2b3ObhtFuY64bmonQ31trj2gwNWKVE0AzqDOYTajh29V76gJjRHDvxEIdAKCssgYAgZjJZ/LZu8Rn3/M8Jo+Ylt6QNzrzO4gItKf5qDGiAs1ZnP7FxhQVyCUshQg2VR+OPIqTz9lSwvbD01+LbrSVlbVEYCKf2fe4l9cjECc5EoAIJPz831447vqTdt8HtUds4LfFXY9P0tNiOcfac9pO5R5rf3j6awi3ve4yAPdOLNQZbpKIGCOBGA6M0a7EmbOJM2dFMHNRn9DmPbL2jfXuG+vdL5bSL5aiknmqH7PWUiqTG++yUFnFYt3wKo2TKQrNkkbEGPE1gyr2tbQZEbNERCxvFEQ41dklgr4xu+N21Ld4no1hxQU5ALbUNsKqhpOJzsvDLGS7IhhwWerx9oR+VkRESASBETBEhDWeKnrKGihzAWBXvHVXvBWhWDqguCDbI/KIbrw6W3s8YmbaXNOoj80DL28a3Oer3IGu9nA/HXDPNYVKDCPy4K+yjEi3Md1G6PnJVzHRhOwMhBaKVioIsyARJg+9Ute6ECIYNKsTwJ9/f9RFztDvWLW7VgBjpOKXyRntr3sPPvpUHoBXnmqGpg7nMNJaXeMGelym24FAHx3+1HZdgF2HWrVx3+MZTMTMCDVZs6/eYyKAmSY9M6msssbFRgBzJ4zQhpJERKyP97e27W/9/DxWAlPyr3JtzYUfHv535H0yyp7/QhvJwRaW8GHbhqIoHFv88/t78N1hX+OgqNf+EW+l0AzfgB2P/XPq7yYn914c1kJGU0t0awGIGMmIaNROQnTWvJ8NtJ097/XRDhLRNjTdRuGCnG8ZA9Gcr468bmimCT/jrOJ6tAoQEYTmcVvVkRqAiKSnxV7adv8qI0pqleZroSsR0XnJVR05KTcTAF/EF7qictAYERth5c3nPv/Ls0dN1GIh5k4Y8bXSaJB86ckmqCj2eK5bCISI3RTR2mNnQ0t5fYsIZvUfNDbWd1b/QVOHZwUi3UYCkeKCbA0TEqbepI/fO7EwWcwQd44rWPJ0i81rTL5HBIDIlrHjsjLcUBcGy+tbRMQA2w82JaYM0spVIMUF2VCKRE63CidQ/7SYC4aK709KJtBtY/M3Vh/WjazHIKbQVvtb2xCa6qPDn+6Kt+5saJHwKsMYiVauKoouejEDOBCBKFkaPdQS0azRw5iImXyNEFYhIhHZ22LLDwB3PTJg9R+OmZDsJYU5JSfaAPSLpSD2LcVrFBcGHpdl09NiJxOdRGAtP9wIp2GUSa78KBmRU1KYo+1vNUYUSf5SJOV8Lcz1EsF39HNeVy8QgYkMEVw4j8BVq67Idz0Il5KwUVZZ8w06fNlxWkNPxi1dqIOv03Rm9DjiltCw//f65uKCbIFsqm4UERNe/5xMdF6RmqLSvP/JoQd+ceWrz7Rqhj4XmO+Nv1qX0hjmQsnx9oQWIUqYdVXxXh57tXzf4xn08vXZRjAuazCAvS1HlSsCGCNGJBATGBtpjJFuYzTuqRq3jOk5YLh7KiO4UKA3K6qdQFFev7PvoM+eVrFKatZbAX09PisjSZqoqZ1PHdydy8Xw9u5ahFHYmeetipqyypqVlbWr99Q98tu8pABML07JVvMsmPbq8vIfVxz5VC1sA50qnWSh0MWKqJ0ArKuKG51ijBs/b+LIaNWhBOXzj9JqIXphStb4MBhWNn0W9ZR+V0QMYMKS7aaReRsOxB3bNPUkyaTirvm4Xms9o+uEJiYChWcgj/WiyJ0U4DtVdzd9pg3VT60StYRuSxHcMiZ/bZW9rdKUrHDs1rh/R1HBmo/rAQMDA4EQSACb6olozb56JvKIZo0eRoQPao8wyDciC6a9CmB+02z3efVUVJ4bR2TbFrCuKq6WIyKBEFnd3QZGRKZ39tUbMveElaF7C8BdWG+paZwxKq+0MHd7XbMfGKP3isjJqDxijRTlWdRItsdKa19FL9HWVjUQSI/3VqZx9orIjVFpCJhTVLCp+rC90gNB7+O7w3MZgIm5QyblDdGLWJ2mC7370DYd0C+WAkAEIjAitxcNj96L/y9w0hAREW4ePdRn5rAIYoCenjCYgKnDs7Rr4bRl2rh76U3dxoggEOPYc0Vqypcdp4GePKPQ9d7b38BMBGKyNBeR9LTYiY7TIvL27loie5hXsym7AZTXNyOUlc8FdiNozCmrWAxg6Y4FqxZtUZsD2FzdqCZXaZJwoTQANhyI61y9LF+1p46ICCAQEd7/5FBINsBaKzRSEJhuY3YcbAZgRLQGWnTD8rlLSnVF9c6GA3HdWRKaZ3HJCgIWl6x4qGTF2qq4k8atvi4SNgkgwP5fQARgc7U9UpbXN5/HsMdGpeveY7Z/hTxYvPyuJaWOtkHk3yCNCAgZwESkVZUqHlpLYCcaIzaeQTT2MJHH9oZa2UNk7xXtCv9vf0/9FyibcRFUuk4lAAAAAElFTkSuQmCC",
         "type": "image",
         "xaxis": "x",
         "yaxis": "y"
        }
       ],
       "layout": {
        "margin": {
         "t": 60
        },
        "template": {
         "data": {
          "bar": [
           {
            "error_x": {
             "color": "#2a3f5f"
            },
            "error_y": {
             "color": "#2a3f5f"
            },
            "marker": {
             "line": {
              "color": "#E5ECF6",
              "width": 0.5
             },
             "pattern": {
              "fillmode": "overlay",
              "size": 10,
              "solidity": 0.2
             }
            },
            "type": "bar"
           }
          ],
          "barpolar": [
           {
            "marker": {
             "line": {
              "color": "#E5ECF6",
              "width": 0.5
             },
             "pattern": {
              "fillmode": "overlay",
              "size": 10,
              "solidity": 0.2
             }
            },
            "type": "barpolar"
           }
          ],
          "carpet": [
           {
            "aaxis": {
             "endlinecolor": "#2a3f5f",
             "gridcolor": "white",
             "linecolor": "white",
             "minorgridcolor": "white",
             "startlinecolor": "#2a3f5f"
            },
            "baxis": {
             "endlinecolor": "#2a3f5f",
             "gridcolor": "white",
             "linecolor": "white",
             "minorgridcolor": "white",
             "startlinecolor": "#2a3f5f"
            },
            "type": "carpet"
           }
          ],
          "choropleth": [
           {
            "colorbar": {
             "outlinewidth": 0,
             "ticks": ""
            },
            "type": "choropleth"
           }
          ],
          "contour": [
           {
            "colorbar": {
             "outlinewidth": 0,
             "ticks": ""
            },
            "colorscale": [
             [
              0,
              "#0d0887"
             ],
             [
              0.1111111111111111,
              "#46039f"
             ],
             [
              0.2222222222222222,
              "#7201a8"
             ],
             [
              0.3333333333333333,
              "#9c179e"
             ],
             [
              0.4444444444444444,
              "#bd3786"
             ],
             [
              0.5555555555555556,
              "#d8576b"
             ],
             [
              0.6666666666666666,
              "#ed7953"
             ],
             [
              0.7777777777777778,
              "#fb9f3a"
             ],
             [
              0.8888888888888888,
              "#fdca26"
             ],
             [
              1,
              "#f0f921"
             ]
            ],
            "type": "contour"
           }
          ],
          "contourcarpet": [
           {
            "colorbar": {
             "outlinewidth": 0,
             "ticks": ""
            },
            "type": "contourcarpet"
           }
          ],
          "heatmap": [
           {
            "colorbar": {
             "outlinewidth": 0,
             "ticks": ""
            },
            "colorscale": [
             [
              0,
              "#0d0887"
             ],
             [
              0.1111111111111111,
              "#46039f"
             ],
             [
              0.2222222222222222,
              "#7201a8"
             ],
             [
              0.3333333333333333,
              "#9c179e"
             ],
             [
              0.4444444444444444,
              "#bd3786"
             ],
             [
              0.5555555555555556,
              "#d8576b"
             ],
             [
              0.6666666666666666,
              "#ed7953"
             ],
             [
              0.7777777777777778,
              "#fb9f3a"
             ],
             [
              0.8888888888888888,
              "#fdca26"
             ],
             [
              1,
              "#f0f921"
             ]
            ],
            "type": "heatmap"
           }
          ],
          "heatmapgl": [
           {
            "colorbar": {
             "outlinewidth": 0,
             "ticks": ""
            },
            "colorscale": [
             [
              0,
              "#0d0887"
             ],
             [
              0.1111111111111111,
              "#46039f"
             ],
             [
              0.2222222222222222,
              "#7201a8"
             ],
             [
              0.3333333333333333,
              "#9c179e"
             ],
             [
              0.4444444444444444,
              "#bd3786"
             ],
             [
              0.5555555555555556,
              "#d8576b"
             ],
             [
              0.6666666666666666,
              "#ed7953"
             ],
             [
              0.7777777777777778,
              "#fb9f3a"
             ],
             [
              0.8888888888888888,
              "#fdca26"
             ],
             [
              1,
              "#f0f921"
             ]
            ],
            "type": "heatmapgl"
           }
          ],
          "histogram": [
           {
            "marker": {
             "pattern": {
              "fillmode": "overlay",
              "size": 10,
              "solidity": 0.2
             }
            },
            "type": "histogram"
           }
          ],
          "histogram2d": [
           {
            "colorbar": {
             "outlinewidth": 0,
             "ticks": ""
            },
            "colorscale": [
             [
              0,
              "#0d0887"
             ],
             [
              0.1111111111111111,
              "#46039f"
             ],
             [
              0.2222222222222222,
              "#7201a8"
             ],
             [
              0.3333333333333333,
              "#9c179e"
             ],
             [
              0.4444444444444444,
              "#bd3786"
             ],
             [
              0.5555555555555556,
              "#d8576b"
             ],
             [
              0.6666666666666666,
              "#ed7953"
             ],
             [
              0.7777777777777778,
              "#fb9f3a"
             ],
             [
              0.8888888888888888,
              "#fdca26"
             ],
             [
              1,
              "#f0f921"
             ]
            ],
            "type": "histogram2d"
           }
          ],
          "histogram2dcontour": [
           {
            "colorbar": {
             "outlinewidth": 0,
             "ticks": ""
            },
            "colorscale": [
             [
              0,
              "#0d0887"
             ],
             [
              0.1111111111111111,
              "#46039f"
             ],
             [
              0.2222222222222222,
              "#7201a8"
             ],
             [
              0.3333333333333333,
              "#9c179e"
             ],
             [
              0.4444444444444444,
              "#bd3786"
             ],
             [
              0.5555555555555556,
              "#d8576b"
             ],
             [
              0.6666666666666666,
              "#ed7953"
             ],
             [
              0.7777777777777778,
              "#fb9f3a"
             ],
             [
              0.8888888888888888,
              "#fdca26"
             ],
             [
              1,
              "#f0f921"
             ]
            ],
            "type": "histogram2dcontour"
           }
          ],
          "mesh3d": [
           {
            "colorbar": {
             "outlinewidth": 0,
             "ticks": ""
            },
            "type": "mesh3d"
           }
          ],
          "parcoords": [
           {
            "line": {
             "colorbar": {
              "outlinewidth": 0,
              "ticks": ""
             }
            },
            "type": "parcoords"
           }
          ],
          "pie": [
           {
            "automargin": true,
            "type": "pie"
           }
          ],
          "scatter": [
           {
            "fillpattern": {
             "fillmode": "overlay",
             "size": 10,
             "solidity": 0.2
            },
            "type": "scatter"
           }
          ],
          "scatter3d": [
           {
            "line": {
             "colorbar": {
              "outlinewidth": 0,
              "ticks": ""
             }
            },
            "marker": {
             "colorbar": {
              "outlinewidth": 0,
              "ticks": ""
             }
            },
            "type": "scatter3d"
           }
          ],
          "scattercarpet": [
           {
            "marker": {
             "colorbar": {
              "outlinewidth": 0,
              "ticks": ""
             }
            },
            "type": "scattercarpet"
           }
          ],
          "scattergeo": [
           {
            "marker": {
             "colorbar": {
              "outlinewidth": 0,
              "ticks": ""
             }
            },
            "type": "scattergeo"
           }
          ],
          "scattergl": [
           {
            "marker": {
             "colorbar": {
              "outlinewidth": 0,
              "ticks": ""
             }
            },
            "type": "scattergl"
           }
          ],
          "scattermapbox": [
           {
            "marker": {
             "colorbar": {
              "outlinewidth": 0,
              "ticks": ""
             }
            },
            "type": "scattermapbox"
           }
          ],
          "scatterpolar": [
           {
            "marker": {
             "colorbar": {
              "outlinewidth": 0,
              "ticks": ""
             }
            },
            "type": "scatterpolar"
           }
          ],
          "scatterpolargl": [
           {
            "marker": {
             "colorbar": {
              "outlinewidth": 0,
              "ticks": ""
             }
            },
            "type": "scatterpolargl"
           }
          ],
          "scatterternary": [
           {
            "marker": {
             "colorbar": {
              "outlinewidth": 0,
              "ticks": ""
             }
            },
            "type": "scatterternary"
           }
          ],
          "surface": [
           {
            "colorbar": {
             "outlinewidth": 0,
             "ticks": ""
            },
            "colorscale": [
             [
              0,
              "#0d0887"
             ],
             [
              0.1111111111111111,
              "#46039f"
             ],
             [
              0.2222222222222222,
              "#7201a8"
             ],
             [
              0.3333333333333333,
              "#9c179e"
             ],
             [
              0.4444444444444444,
              "#bd3786"
             ],
             [
              0.5555555555555556,
              "#d8576b"
             ],
             [
              0.6666666666666666,
              "#ed7953"
             ],
             [
              0.7777777777777778,
              "#fb9f3a"
             ],
             [
              0.8888888888888888,
              "#fdca26"
             ],
             [
              1,
              "#f0f921"
             ]
            ],
            "type": "surface"
           }
          ],
          "table": [
           {
            "cells": {
             "fill": {
              "color": "#EBF0F8"
             },
             "line": {
              "color": "white"
             }
            },
            "header": {
             "fill": {
              "color": "#C8D4E3"
             },
             "line": {
              "color": "white"
             }
            },
            "type": "table"
           }
          ]
         },
         "layout": {
          "annotationdefaults": {
           "arrowcolor": "#2a3f5f",
           "arrowhead": 0,
           "arrowwidth": 1
          },
          "autotypenumbers": "strict",
          "coloraxis": {
           "colorbar": {
            "outlinewidth": 0,
            "ticks": ""
           }
          },
          "colorscale": {
           "diverging": [
            [
             0,
             "#8e0152"
            ],
            [
             0.1,
             "#c51b7d"
            ],
            [
             0.2,
             "#de77ae"
            ],
            [
             0.3,
             "#f1b6da"
            ],
            [
             0.4,
             "#fde0ef"
            ],
            [
             0.5,
             "#f7f7f7"
            ],
            [
             0.6,
             "#e6f5d0"
            ],
            [
             0.7,
             "#b8e186"
            ],
            [
             0.8,
             "#7fbc41"
            ],
            [
             0.9,
             "#4d9221"
            ],
            [
             1,
             "#276419"
            ]
           ],
           "sequential": [
            [
             0,
             "#0d0887"
            ],
            [
             0.1111111111111111,
             "#46039f"
            ],
            [
             0.2222222222222222,
             "#7201a8"
            ],
            [
             0.3333333333333333,
             "#9c179e"
            ],
            [
             0.4444444444444444,
             "#bd3786"
            ],
            [
             0.5555555555555556,
             "#d8576b"
            ],
            [
             0.6666666666666666,
             "#ed7953"
            ],
            [
             0.7777777777777778,
             "#fb9f3a"
            ],
            [
             0.8888888888888888,
             "#fdca26"
            ],
            [
             1,
             "#f0f921"
            ]
           ],
           "sequentialminus": [
            [
             0,
             "#0d0887"
            ],
            [
             0.1111111111111111,
             "#46039f"
            ],
            [
             0.2222222222222222,
             "#7201a8"
            ],
            [
             0.3333333333333333,
             "#9c179e"
            ],
            [
             0.4444444444444444,
             "#bd3786"
            ],
            [
             0.5555555555555556,
             "#d8576b"
            ],
            [
             0.6666666666666666,
             "#ed7953"
            ],
            [
             0.7777777777777778,
             "#fb9f3a"
            ],
            [
             0.8888888888888888,
             "#fdca26"
            ],
            [
             1,
             "#f0f921"
            ]
           ]
          },
          "colorway": [
           "#636efa",
           "#EF553B",
           "#00cc96",
           "#ab63fa",
           "#FFA15A",
           "#19d3f3",
           "#FF6692",
           "#B6E880",
           "#FF97FF",
           "#FECB52"
          ],
          "font": {
           "color": "#2a3f5f"
          },
          "geo": {
           "bgcolor": "white",
           "lakecolor": "white",
           "landcolor": "#E5ECF6",
           "showlakes": true,
           "showland": true,
           "subunitcolor": "white"
          },
          "hoverlabel": {
           "align": "left"
          },
          "hovermode": "closest",
          "mapbox": {
           "style": "light"
          },
          "paper_bgcolor": "white",
          "plot_bgcolor": "#E5ECF6",
          "polar": {
           "angularaxis": {
            "gridcolor": "white",
            "linecolor": "white",
            "ticks": ""
           },
           "bgcolor": "#E5ECF6",
           "radialaxis": {
            "gridcolor": "white",
            "linecolor": "white",
            "ticks": ""
           }
          },
          "scene": {
           "xaxis": {
            "backgroundcolor": "#E5ECF6",
            "gridcolor": "white",
            "gridwidth": 2,
            "linecolor": "white",
            "showbackground": true,
            "ticks": "",
            "zerolinecolor": "white"
           },
           "yaxis": {
            "backgroundcolor": "#E5ECF6",
            "gridcolor": "white",
            "gridwidth": 2,
            "linecolor": "white",
            "showbackground": true,
            "ticks": "",
            "zerolinecolor": "white"
           },
           "zaxis": {
            "backgroundcolor": "#E5ECF6",
            "gridcolor": "white",
            "gridwidth": 2,
            "linecolor": "white",
            "showbackground": true,
            "ticks": "",
            "zerolinecolor": "white"
           }
          },
          "shapedefaults": {
           "line": {
            "color": "#2a3f5f"
           }
          },
          "ternary": {
           "aaxis": {
            "gridcolor": "white",
            "linecolor": "white",
            "ticks": ""
           },
           "baxis": {
            "gridcolor": "white",
            "linecolor": "white",
            "ticks": ""
           },
           "bgcolor": "#E5ECF6",
           "caxis": {
            "gridcolor": "white",
            "linecolor": "white",
            "ticks": ""
           }
          },
          "title": {
           "x": 0.05
          },
          "xaxis": {
           "automargin": true,
           "gridcolor": "white",
           "linecolor": "white",
           "ticks": "",
           "title": {
            "standoff": 15
           },
           "zerolinecolor": "white",
           "zerolinewidth": 2
          },
          "yaxis": {
           "automargin": true,
           "gridcolor": "white",
           "linecolor": "white",
           "ticks": "",
           "title": {
            "standoff": 15
           },
           "zerolinecolor": "white",
           "zerolinewidth": 2
          }
         }
        },
        "xaxis": {
         "anchor": "y",
         "domain": [
          0,
          1
         ]
        },
        "yaxis": {
         "anchor": "x",
         "domain": [
          0,
          1
         ]
        }
       }
      }
     },
     "metadata": {},
     "output_type": "display_data"
    },
    {
     "data": {
      "application/vnd.plotly.v1+json": {
       "config": {
        "plotlyServerURL": "https://plot.ly"
       },
       "data": [
        {
         "coloraxis": "coloraxis",
         "hovertemplate": "x: %{x}<br>y: %{y}<br>color: %{z}<extra></extra>",
         "name": "0",
         "type": "heatmap",
         "xaxis": "x",
         "yaxis": "y",
         "z": [
          [
           0,
           0,
           0,
           0,
           0,
           0,
           0,
           0,
           0,
           0,
           0,
           0,
           0,
           0,
           0,
           0,
           0,
           0,
           0,
           0,
           0,
           0,
           0,
           0,
           0,
           0,
           0,
           0,
           0,
           0,
           0,
           0,
           0,
           0,
           0,
           0,
           0,
           0,
           0,
           0,
           0,
           0,
           0,
           0,
           0,
           0,
           0,
           0
          ],
          [
           0,
           255,
           255,
           255,
           255,
           0,
           0,
           0,
           0,
           0,
           255,
           255,
           255,
           255,
           255,
           255,
           255,
           255,
           255,
           255,
           255,
           255,
           255,
           255,
           255,
           255,
           255,
           255,
           255,
           255,
           255,
           255,
           255,
           255,
           255,
           255,
           255,
           255,
           255,
           255,
           255,
           255,
           255,
           255,
           255,
           255,
           255,
           0
          ],
          [
           0,
           255,
           255,
           255,
           0,
           0,
           0,
           0,
           0,
           0,
           255,
           255,
           255,
           255,
           255,
           255,
           255,
           255,
           255,
           255,
           255,
           255,
           255,
           255,
           255,
           255,
           255,
           255,
           255,
           255,
           255,
           255,
           255,
           255,
           255,
           255,
           255,
           255,
           255,
           255,
           255,
           255,
           255,
           255,
           255,
           255,
           255,
           0
          ],
          [
           0,
           255,
           255,
           0,
           0,
           0,
           0,
           0,
           0,
           0,
           255,
           255,
           255,
           255,
           255,
           255,
           255,
           255,
           255,
           255,
           255,
           255,
           255,
           255,
           255,
           255,
           255,
           255,
           255,
           255,
           255,
           255,
           255,
           255,
           255,
           255,
           255,
           255,
           255,
           255,
           255,
           255,
           255,
           255,
           255,
           255,
           255,
           0
          ],
          [
           0,
           255,
           0,
           0,
           0,
           0,
           0,
           0,
           0,
           255,
           255,
           0,
           0,
           0,
           255,
           255,
           255,
           255,
           255,
           255,
           0,
           255,
           255,
           255,
           255,
           255,
           255,
           255,
           255,
           255,
           255,
           255,
           255,
           255,
           255,
           255,
           255,
           255,
           255,
           255,
           255,
           255,
           255,
           255,
           255,
           255,
           255,
           0
          ],
          [
           0,
           0,
           0,
           0,
           0,
           0,
           0,
           0,
           0,
           0,
           0,
           0,
           0,
           0,
           255,
           255,
           255,
           255,
           255,
           0,
           0,
           0,
           255,
           255,
           255,
           255,
           255,
           255,
           255,
           255,
           255,
           255,
           255,
           255,
           255,
           255,
           255,
           255,
           255,
           255,
           255,
           255,
           255,
           255,
           255,
           255,
           255,
           0
          ],
          [
           0,
           0,
           0,
           0,
           0,
           0,
           0,
           0,
           0,
           0,
           0,
           0,
           0,
           0,
           255,
           255,
           255,
           255,
           0,
           0,
           0,
           0,
           0,
           255,
           255,
           255,
           255,
           255,
           255,
           255,
           255,
           255,
           255,
           255,
           255,
           255,
           255,
           255,
           255,
           255,
           255,
           255,
           255,
           255,
           255,
           255,
           255,
           0
          ],
          [
           0,
           0,
           0,
           0,
           0,
           0,
           0,
           0,
           0,
           0,
           0,
           0,
           0,
           255,
           255,
           255,
           255,
           0,
           0,
           0,
           0,
           0,
           0,
           0,
           255,
           255,
           255,
           255,
           255,
           255,
           255,
           255,
           255,
           255,
           255,
           255,
           255,
           255,
           255,
           255,
           255,
           255,
           255,
           255,
           255,
           255,
           255,
           0
          ],
          [
           0,
           0,
           0,
           0,
           0,
           0,
           0,
           0,
           0,
           0,
           0,
           255,
           255,
           255,
           255,
           255,
           0,
           0,
           0,
           0,
           0,
           0,
           0,
           0,
           0,
           255,
           255,
           255,
           255,
           255,
           255,
           255,
           255,
           0,
           0,
           0,
           255,
           255,
           255,
           255,
           255,
           255,
           255,
           255,
           255,
           255,
           255,
           0
          ],
          [
           0,
           0,
           0,
           0,
           0,
           0,
           0,
           0,
           0,
           0,
           255,
           255,
           255,
           255,
           255,
           0,
           0,
           0,
           0,
           0,
           0,
           0,
           0,
           0,
           0,
           0,
           255,
           255,
           255,
           255,
           255,
           255,
           255,
           0,
           0,
           0,
           255,
           255,
           255,
           255,
           255,
           255,
           255,
           255,
           255,
           255,
           255,
           0
          ],
          [
           0,
           255,
           0,
           0,
           0,
           0,
           0,
           0,
           0,
           255,
           255,
           255,
           255,
           255,
           0,
           0,
           0,
           0,
           0,
           0,
           0,
           0,
           0,
           0,
           0,
           0,
           0,
           255,
           255,
           255,
           255,
           255,
           255,
           0,
           0,
           0,
           255,
           255,
           255,
           255,
           255,
           0,
           0,
           0,
           255,
           255,
           255,
           0
          ],
          [
           0,
           255,
           255,
           0,
           0,
           0,
           0,
           0,
           255,
           255,
           255,
           255,
           255,
           255,
           255,
           0,
           0,
           0,
           0,
           0,
           0,
           0,
           0,
           0,
           0,
           0,
           255,
           255,
           255,
           255,
           255,
           255,
           255,
           255,
           255,
           255,
           255,
           255,
           255,
           255,
           255,
           0,
           0,
           0,
           255,
           255,
           255,
           0
          ],
          [
           0,
           255,
           255,
           255,
           0,
           0,
           0,
           255,
           255,
           255,
           255,
           255,
           255,
           255,
           255,
           255,
           0,
           0,
           0,
           0,
           0,
           0,
           0,
           0,
           0,
           255,
           255,
           255,
           255,
           255,
           0,
           255,
           255,
           0,
           0,
           0,
           255,
           255,
           255,
           255,
           255,
           0,
           0,
           0,
           255,
           255,
           0,
           0
          ],
          [
           0,
           255,
           255,
           255,
           255,
           0,
           255,
           255,
           255,
           255,
           255,
           255,
           255,
           255,
           255,
           255,
           0,
           0,
           0,
           0,
           0,
           0,
           0,
           0,
           255,
           255,
           255,
           255,
           255,
           0,
           0,
           0,
           255,
           0,
           0,
           0,
           255,
           255,
           255,
           255,
           255,
           255,
           255,
           255,
           255,
           0,
           0,
           0
          ],
          [
           0,
           255,
           255,
           255,
           255,
           255,
           255,
           255,
           255,
           255,
           255,
           255,
           255,
           255,
           255,
           255,
           0,
           0,
           0,
           0,
           0,
           0,
           0,
           255,
           255,
           255,
           255,
           255,
           0,
           0,
           0,
           0,
           0,
           0,
           0,
           0,
           255,
           255,
           255,
           255,
           255,
           255,
           255,
           255,
           255,
           0,
           0,
           0
          ],
          [
           0,
           255,
           255,
           255,
           255,
           255,
           255,
           255,
           255,
           0,
           0,
           0,
           255,
           255,
           255,
           255,
           0,
           0,
           0,
           0,
           0,
           0,
           255,
           255,
           255,
           255,
           255,
           0,
           0,
           0,
           0,
           0,
           0,
           0,
           0,
           0,
           255,
           255,
           255,
           255,
           255,
           255,
           255,
           255,
           255,
           0,
           0,
           0
          ],
          [
           0,
           255,
           255,
           255,
           255,
           255,
           255,
           255,
           255,
           0,
           0,
           0,
           255,
           255,
           255,
           255,
           255,
           255,
           255,
           255,
           0,
           255,
           255,
           255,
           255,
           255,
           0,
           0,
           0,
           0,
           0,
           0,
           0,
           0,
           0,
           0,
           255,
           255,
           255,
           255,
           255,
           255,
           255,
           255,
           255,
           255,
           255,
           0
          ],
          [
           0,
           255,
           255,
           255,
           255,
           0,
           0,
           0,
           255,
           0,
           0,
           0,
           255,
           255,
           255,
           255,
           255,
           255,
           255,
           255,
           255,
           255,
           255,
           255,
           255,
           0,
           0,
           0,
           0,
           0,
           0,
           0,
           0,
           0,
           0,
           0,
           255,
           255,
           255,
           255,
           255,
           255,
           255,
           255,
           255,
           255,
           255,
           0
          ],
          [
           0,
           255,
           255,
           255,
           255,
           0,
           0,
           0,
           255,
           255,
           255,
           255,
           255,
           255,
           255,
           255,
           255,
           255,
           255,
           255,
           255,
           255,
           255,
           255,
           0,
           0,
           0,
           0,
           0,
           0,
           0,
           0,
           0,
           0,
           0,
           0,
           0,
           255,
           255,
           255,
           255,
           255,
           255,
           255,
           255,
           255,
           255,
           0
          ],
          [
           0,
           255,
           255,
           255,
           255,
           0,
           0,
           0,
           255,
           255,
           255,
           255,
           255,
           255,
           255,
           255,
           255,
           255,
           255,
           255,
           255,
           255,
           255,
           255,
           255,
           0,
           0,
           0,
           0,
           0,
           0,
           0,
           0,
           0,
           0,
           0,
           255,
           255,
           255,
           255,
           255,
           255,
           255,
           0,
           0,
           0,
           255,
           0
          ],
          [
           0,
           255,
           255,
           255,
           255,
           255,
           255,
           255,
           255,
           255,
           255,
           255,
           255,
           255,
           255,
           255,
           255,
           255,
           255,
           255,
           255,
           255,
           255,
           0,
           0,
           0,
           0,
           0,
           0,
           0,
           0,
           0,
           0,
           0,
           0,
           0,
           0,
           0,
           255,
           255,
           255,
           255,
           0,
           0,
           0,
           0,
           255,
           0
          ],
          [
           0,
           255,
           255,
           255,
           255,
           255,
           255,
           255,
           255,
           255,
           255,
           255,
           255,
           255,
           255,
           255,
           255,
           255,
           255,
           255,
           255,
           255,
           255,
           0,
           0,
           0,
           0,
           0,
           0,
           0,
           0,
           0,
           0,
           0,
           255,
           0,
           0,
           0,
           255,
           255,
           255,
           255,
           0,
           0,
           0,
           0,
           255,
           0
          ],
          [
           0,
           255,
           255,
           255,
           255,
           255,
           255,
           255,
           255,
           255,
           255,
           255,
           255,
           255,
           255,
           255,
           255,
           255,
           255,
           255,
           255,
           255,
           255,
           0,
           0,
           0,
           0,
           0,
           0,
           0,
           0,
           0,
           0,
           255,
           255,
           0,
           0,
           0,
           255,
           255,
           255,
           255,
           0,
           0,
           0,
           0,
           255,
           0
          ],
          [
           0,
           255,
           255,
           255,
           255,
           255,
           255,
           255,
           255,
           255,
           255,
           255,
           255,
           255,
           255,
           255,
           255,
           0,
           255,
           255,
           255,
           255,
           255,
           0,
           0,
           0,
           0,
           0,
           255,
           0,
           0,
           0,
           0,
           0,
           255,
           255,
           255,
           255,
           255,
           255,
           255,
           255,
           0,
           0,
           0,
           0,
           255,
           0
          ],
          [
           0,
           255,
           255,
           255,
           255,
           255,
           255,
           255,
           255,
           255,
           255,
           255,
           255,
           255,
           255,
           255,
           0,
           0,
           0,
           255,
           255,
           255,
           255,
           0,
           0,
           0,
           0,
           0,
           255,
           255,
           0,
           0,
           0,
           0,
           255,
           255,
           255,
           255,
           255,
           255,
           255,
           255,
           0,
           0,
           0,
           0,
           255,
           0
          ],
          [
           0,
           255,
           255,
           255,
           255,
           255,
           255,
           255,
           255,
           255,
           255,
           255,
           255,
           255,
           255,
           0,
           0,
           0,
           0,
           0,
           255,
           255,
           255,
           0,
           0,
           0,
           0,
           0,
           255,
           255,
           255,
           0,
           0,
           0,
           255,
           255,
           255,
           255,
           255,
           255,
           255,
           255,
           0,
           0,
           0,
           0,
           255,
           0
          ],
          [
           0,
           255,
           255,
           255,
           255,
           255,
           255,
           255,
           255,
           255,
           255,
           255,
           255,
           255,
           0,
           0,
           0,
           0,
           0,
           0,
           0,
           255,
           255,
           0,
           0,
           0,
           0,
           0,
           255,
           255,
           255,
           0,
           0,
           0,
           255,
           255,
           255,
           255,
           255,
           255,
           255,
           255,
           0,
           0,
           0,
           0,
           255,
           0
          ],
          [
           0,
           255,
           255,
           255,
           255,
           255,
           255,
           255,
           255,
           255,
           255,
           255,
           255,
           0,
           0,
           0,
           0,
           0,
           0,
           0,
           0,
           0,
           255,
           0,
           0,
           0,
           0,
           255,
           255,
           255,
           255,
           255,
           255,
           255,
           255,
           255,
           255,
           255,
           255,
           255,
           255,
           255,
           0,
           0,
           0,
           0,
           255,
           0
          ],
          [
           0,
           255,
           255,
           255,
           255,
           255,
           255,
           255,
           255,
           255,
           255,
           255,
           0,
           0,
           0,
           0,
           0,
           0,
           0,
           0,
           0,
           0,
           0,
           255,
           255,
           255,
           255,
           255,
           255,
           255,
           255,
           255,
           255,
           255,
           255,
           255,
           255,
           255,
           255,
           255,
           255,
           255,
           255,
           0,
           0,
           0,
           255,
           0
          ],
          [
           0,
           255,
           255,
           255,
           255,
           255,
           255,
           255,
           255,
           255,
           255,
           0,
           0,
           0,
           0,
           0,
           0,
           0,
           0,
           0,
           0,
           0,
           0,
           0,
           255,
           255,
           255,
           255,
           255,
           255,
           255,
           255,
           255,
           255,
           255,
           255,
           255,
           255,
           255,
           255,
           255,
           255,
           255,
           255,
           255,
           255,
           255,
           0
          ],
          [
           0,
           255,
           255,
           255,
           255,
           255,
           255,
           255,
           255,
           0,
           0,
           0,
           0,
           0,
           0,
           0,
           0,
           0,
           0,
           0,
           0,
           0,
           0,
           255,
           255,
           255,
           255,
           255,
           255,
           255,
           255,
           255,
           255,
           255,
           255,
           255,
           255,
           255,
           255,
           255,
           255,
           255,
           255,
           255,
           255,
           255,
           255,
           0
          ],
          [
           0,
           255,
           255,
           255,
           255,
           255,
           255,
           255,
           255,
           0,
           0,
           0,
           255,
           0,
           0,
           0,
           0,
           0,
           0,
           0,
           0,
           0,
           255,
           255,
           255,
           255,
           255,
           255,
           255,
           255,
           255,
           255,
           255,
           255,
           255,
           255,
           255,
           255,
           255,
           255,
           255,
           255,
           255,
           255,
           255,
           255,
           255,
           0
          ],
          [
           0,
           255,
           255,
           255,
           255,
           255,
           255,
           255,
           255,
           0,
           0,
           0,
           255,
           255,
           0,
           0,
           0,
           0,
           0,
           0,
           0,
           255,
           255,
           255,
           255,
           255,
           255,
           255,
           255,
           255,
           255,
           255,
           255,
           255,
           255,
           255,
           255,
           255,
           255,
           255,
           255,
           255,
           255,
           255,
           255,
           0,
           0,
           0
          ],
          [
           0,
           255,
           255,
           255,
           255,
           255,
           255,
           255,
           255,
           255,
           255,
           255,
           255,
           255,
           255,
           0,
           0,
           0,
           0,
           0,
           255,
           255,
           255,
           255,
           255,
           0,
           0,
           0,
           255,
           255,
           255,
           255,
           255,
           255,
           255,
           255,
           255,
           255,
           255,
           255,
           255,
           255,
           255,
           255,
           255,
           0,
           0,
           0
          ],
          [
           0,
           255,
           255,
           255,
           255,
           255,
           255,
           255,
           255,
           255,
           255,
           255,
           255,
           255,
           255,
           255,
           0,
           0,
           0,
           255,
           255,
           255,
           255,
           255,
           255,
           0,
           0,
           0,
           255,
           255,
           255,
           255,
           255,
           255,
           255,
           255,
           255,
           255,
           255,
           255,
           255,
           255,
           255,
           255,
           255,
           0,
           0,
           0
          ],
          [
           0,
           255,
           255,
           255,
           255,
           255,
           255,
           255,
           255,
           255,
           255,
           255,
           255,
           255,
           255,
           255,
           255,
           0,
           255,
           255,
           255,
           255,
           255,
           255,
           255,
           0,
           0,
           0,
           255,
           255,
           255,
           255,
           255,
           255,
           255,
           255,
           255,
           255,
           255,
           255,
           255,
           0,
           0,
           0,
           255,
           255,
           0,
           0
          ],
          [
           0,
           255,
           0,
           0,
           0,
           255,
           255,
           255,
           255,
           255,
           255,
           255,
           255,
           255,
           255,
           255,
           255,
           255,
           255,
           255,
           255,
           255,
           255,
           255,
           255,
           255,
           255,
           255,
           255,
           255,
           255,
           255,
           255,
           255,
           255,
           255,
           255,
           255,
           255,
           255,
           255,
           0,
           0,
           0,
           255,
           255,
           255,
           0
          ],
          [
           0,
           255,
           0,
           0,
           0,
           255,
           255,
           255,
           255,
           255,
           255,
           255,
           255,
           255,
           255,
           255,
           255,
           255,
           255,
           255,
           255,
           255,
           255,
           255,
           255,
           255,
           255,
           255,
           255,
           255,
           255,
           255,
           255,
           255,
           255,
           255,
           255,
           255,
           255,
           255,
           255,
           0,
           0,
           0,
           255,
           255,
           255,
           0
          ],
          [
           0,
           255,
           0,
           0,
           0,
           255,
           255,
           255,
           255,
           255,
           255,
           255,
           255,
           255,
           255,
           255,
           255,
           255,
           255,
           255,
           255,
           255,
           255,
           255,
           255,
           255,
           255,
           255,
           255,
           255,
           255,
           255,
           255,
           255,
           255,
           255,
           255,
           255,
           255,
           255,
           255,
           255,
           255,
           255,
           255,
           255,
           255,
           0
          ],
          [
           0,
           0,
           0,
           0,
           255,
           255,
           255,
           255,
           255,
           255,
           255,
           255,
           255,
           255,
           255,
           255,
           255,
           255,
           255,
           255,
           255,
           255,
           255,
           255,
           255,
           255,
           255,
           255,
           255,
           255,
           255,
           255,
           255,
           255,
           255,
           255,
           255,
           255,
           255,
           255,
           255,
           255,
           255,
           255,
           255,
           255,
           255,
           0
          ],
          [
           0,
           0,
           0,
           0,
           255,
           255,
           255,
           255,
           255,
           255,
           255,
           255,
           255,
           255,
           255,
           255,
           255,
           255,
           255,
           255,
           255,
           255,
           255,
           255,
           255,
           255,
           255,
           255,
           255,
           255,
           255,
           255,
           255,
           255,
           255,
           255,
           255,
           255,
           255,
           255,
           255,
           255,
           255,
           255,
           255,
           255,
           255,
           0
          ],
          [
           0,
           0,
           0,
           0,
           255,
           0,
           0,
           0,
           255,
           255,
           255,
           0,
           0,
           0,
           255,
           255,
           255,
           255,
           255,
           255,
           255,
           255,
           255,
           255,
           255,
           255,
           255,
           255,
           255,
           255,
           255,
           255,
           255,
           255,
           255,
           255,
           255,
           255,
           255,
           255,
           255,
           255,
           255,
           255,
           255,
           255,
           255,
           0
          ],
          [
           0,
           255,
           255,
           255,
           0,
           0,
           0,
           0,
           0,
           255,
           255,
           0,
           0,
           0,
           255,
           255,
           255,
           255,
           255,
           255,
           255,
           255,
           255,
           255,
           255,
           255,
           255,
           255,
           255,
           255,
           255,
           255,
           255,
           255,
           255,
           255,
           255,
           255,
           255,
           255,
           255,
           255,
           255,
           255,
           255,
           255,
           255,
           0
          ],
          [
           0,
           255,
           255,
           255,
           0,
           0,
           0,
           0,
           0,
           0,
           255,
           0,
           0,
           0,
           255,
           255,
           255,
           255,
           255,
           255,
           255,
           255,
           255,
           255,
           255,
           255,
           255,
           255,
           255,
           255,
           255,
           255,
           255,
           255,
           255,
           255,
           255,
           255,
           255,
           255,
           255,
           255,
           255,
           255,
           255,
           255,
           255,
           0
          ],
          [
           0,
           255,
           255,
           255,
           0,
           0,
           0,
           0,
           0,
           0,
           255,
           255,
           255,
           255,
           255,
           255,
           255,
           255,
           0,
           0,
           0,
           0,
           0,
           0,
           255,
           255,
           255,
           255,
           255,
           255,
           255,
           255,
           255,
           255,
           255,
           255,
           255,
           255,
           255,
           255,
           255,
           255,
           255,
           255,
           255,
           255,
           255,
           0
          ],
          [
           0,
           255,
           255,
           255,
           255,
           0,
           0,
           0,
           0,
           0,
           255,
           255,
           255,
           255,
           255,
           255,
           255,
           255,
           0,
           0,
           0,
           0,
           0,
           0,
           255,
           255,
           255,
           255,
           255,
           255,
           255,
           255,
           255,
           255,
           255,
           255,
           255,
           255,
           255,
           255,
           255,
           255,
           255,
           255,
           255,
           255,
           255,
           0
          ],
          [
           0,
           255,
           255,
           255,
           255,
           0,
           0,
           0,
           0,
           255,
           255,
           255,
           255,
           255,
           255,
           255,
           255,
           255,
           0,
           0,
           0,
           0,
           0,
           0,
           255,
           255,
           255,
           255,
           255,
           255,
           255,
           255,
           255,
           255,
           255,
           255,
           255,
           255,
           255,
           255,
           255,
           255,
           255,
           255,
           255,
           255,
           255,
           0
          ],
          [
           0,
           0,
           0,
           0,
           0,
           0,
           0,
           0,
           0,
           0,
           0,
           0,
           0,
           0,
           0,
           0,
           0,
           0,
           0,
           0,
           0,
           0,
           0,
           0,
           0,
           0,
           0,
           0,
           0,
           0,
           0,
           0,
           0,
           0,
           0,
           0,
           0,
           0,
           0,
           0,
           0,
           0,
           0,
           0,
           0,
           0,
           0,
           0
          ]
         ]
        }
       ],
       "layout": {
        "coloraxis": {
         "colorscale": [
          [
           0,
           "#0d0887"
          ],
          [
           0.1111111111111111,
           "#46039f"
          ],
          [
           0.2222222222222222,
           "#7201a8"
          ],
          [
           0.3333333333333333,
           "#9c179e"
          ],
          [
           0.4444444444444444,
           "#bd3786"
          ],
          [
           0.5555555555555556,
           "#d8576b"
          ],
          [
           0.6666666666666666,
           "#ed7953"
          ],
          [
           0.7777777777777778,
           "#fb9f3a"
          ],
          [
           0.8888888888888888,
           "#fdca26"
          ],
          [
           1,
           "#f0f921"
          ]
         ]
        },
        "margin": {
         "t": 60
        },
        "template": {
         "data": {
          "bar": [
           {
            "error_x": {
             "color": "#2a3f5f"
            },
            "error_y": {
             "color": "#2a3f5f"
            },
            "marker": {
             "line": {
              "color": "#E5ECF6",
              "width": 0.5
             },
             "pattern": {
              "fillmode": "overlay",
              "size": 10,
              "solidity": 0.2
             }
            },
            "type": "bar"
           }
          ],
          "barpolar": [
           {
            "marker": {
             "line": {
              "color": "#E5ECF6",
              "width": 0.5
             },
             "pattern": {
              "fillmode": "overlay",
              "size": 10,
              "solidity": 0.2
             }
            },
            "type": "barpolar"
           }
          ],
          "carpet": [
           {
            "aaxis": {
             "endlinecolor": "#2a3f5f",
             "gridcolor": "white",
             "linecolor": "white",
             "minorgridcolor": "white",
             "startlinecolor": "#2a3f5f"
            },
            "baxis": {
             "endlinecolor": "#2a3f5f",
             "gridcolor": "white",
             "linecolor": "white",
             "minorgridcolor": "white",
             "startlinecolor": "#2a3f5f"
            },
            "type": "carpet"
           }
          ],
          "choropleth": [
           {
            "colorbar": {
             "outlinewidth": 0,
             "ticks": ""
            },
            "type": "choropleth"
           }
          ],
          "contour": [
           {
            "colorbar": {
             "outlinewidth": 0,
             "ticks": ""
            },
            "colorscale": [
             [
              0,
              "#0d0887"
             ],
             [
              0.1111111111111111,
              "#46039f"
             ],
             [
              0.2222222222222222,
              "#7201a8"
             ],
             [
              0.3333333333333333,
              "#9c179e"
             ],
             [
              0.4444444444444444,
              "#bd3786"
             ],
             [
              0.5555555555555556,
              "#d8576b"
             ],
             [
              0.6666666666666666,
              "#ed7953"
             ],
             [
              0.7777777777777778,
              "#fb9f3a"
             ],
             [
              0.8888888888888888,
              "#fdca26"
             ],
             [
              1,
              "#f0f921"
             ]
            ],
            "type": "contour"
           }
          ],
          "contourcarpet": [
           {
            "colorbar": {
             "outlinewidth": 0,
             "ticks": ""
            },
            "type": "contourcarpet"
           }
          ],
          "heatmap": [
           {
            "colorbar": {
             "outlinewidth": 0,
             "ticks": ""
            },
            "colorscale": [
             [
              0,
              "#0d0887"
             ],
             [
              0.1111111111111111,
              "#46039f"
             ],
             [
              0.2222222222222222,
              "#7201a8"
             ],
             [
              0.3333333333333333,
              "#9c179e"
             ],
             [
              0.4444444444444444,
              "#bd3786"
             ],
             [
              0.5555555555555556,
              "#d8576b"
             ],
             [
              0.6666666666666666,
              "#ed7953"
             ],
             [
              0.7777777777777778,
              "#fb9f3a"
             ],
             [
              0.8888888888888888,
              "#fdca26"
             ],
             [
              1,
              "#f0f921"
             ]
            ],
            "type": "heatmap"
           }
          ],
          "heatmapgl": [
           {
            "colorbar": {
             "outlinewidth": 0,
             "ticks": ""
            },
            "colorscale": [
             [
              0,
              "#0d0887"
             ],
             [
              0.1111111111111111,
              "#46039f"
             ],
             [
              0.2222222222222222,
              "#7201a8"
             ],
             [
              0.3333333333333333,
              "#9c179e"
             ],
             [
              0.4444444444444444,
              "#bd3786"
             ],
             [
              0.5555555555555556,
              "#d8576b"
             ],
             [
              0.6666666666666666,
              "#ed7953"
             ],
             [
              0.7777777777777778,
              "#fb9f3a"
             ],
             [
              0.8888888888888888,
              "#fdca26"
             ],
             [
              1,
              "#f0f921"
             ]
            ],
            "type": "heatmapgl"
           }
          ],
          "histogram": [
           {
            "marker": {
             "pattern": {
              "fillmode": "overlay",
              "size": 10,
              "solidity": 0.2
             }
            },
            "type": "histogram"
           }
          ],
          "histogram2d": [
           {
            "colorbar": {
             "outlinewidth": 0,
             "ticks": ""
            },
            "colorscale": [
             [
              0,
              "#0d0887"
             ],
             [
              0.1111111111111111,
              "#46039f"
             ],
             [
              0.2222222222222222,
              "#7201a8"
             ],
             [
              0.3333333333333333,
              "#9c179e"
             ],
             [
              0.4444444444444444,
              "#bd3786"
             ],
             [
              0.5555555555555556,
              "#d8576b"
             ],
             [
              0.6666666666666666,
              "#ed7953"
             ],
             [
              0.7777777777777778,
              "#fb9f3a"
             ],
             [
              0.8888888888888888,
              "#fdca26"
             ],
             [
              1,
              "#f0f921"
             ]
            ],
            "type": "histogram2d"
           }
          ],
          "histogram2dcontour": [
           {
            "colorbar": {
             "outlinewidth": 0,
             "ticks": ""
            },
            "colorscale": [
             [
              0,
              "#0d0887"
             ],
             [
              0.1111111111111111,
              "#46039f"
             ],
             [
              0.2222222222222222,
              "#7201a8"
             ],
             [
              0.3333333333333333,
              "#9c179e"
             ],
             [
              0.4444444444444444,
              "#bd3786"
             ],
             [
              0.5555555555555556,
              "#d8576b"
             ],
             [
              0.6666666666666666,
              "#ed7953"
             ],
             [
              0.7777777777777778,
              "#fb9f3a"
             ],
             [
              0.8888888888888888,
              "#fdca26"
             ],
             [
              1,
              "#f0f921"
             ]
            ],
            "type": "histogram2dcontour"
           }
          ],
          "mesh3d": [
           {
            "colorbar": {
             "outlinewidth": 0,
             "ticks": ""
            },
            "type": "mesh3d"
           }
          ],
          "parcoords": [
           {
            "line": {
             "colorbar": {
              "outlinewidth": 0,
              "ticks": ""
             }
            },
            "type": "parcoords"
           }
          ],
          "pie": [
           {
            "automargin": true,
            "type": "pie"
           }
          ],
          "scatter": [
           {
            "fillpattern": {
             "fillmode": "overlay",
             "size": 10,
             "solidity": 0.2
            },
            "type": "scatter"
           }
          ],
          "scatter3d": [
           {
            "line": {
             "colorbar": {
              "outlinewidth": 0,
              "ticks": ""
             }
            },
            "marker": {
             "colorbar": {
              "outlinewidth": 0,
              "ticks": ""
             }
            },
            "type": "scatter3d"
           }
          ],
          "scattercarpet": [
           {
            "marker": {
             "colorbar": {
              "outlinewidth": 0,
              "ticks": ""
             }
            },
            "type": "scattercarpet"
           }
          ],
          "scattergeo": [
           {
            "marker": {
             "colorbar": {
              "outlinewidth": 0,
              "ticks": ""
             }
            },
            "type": "scattergeo"
           }
          ],
          "scattergl": [
           {
            "marker": {
             "colorbar": {
              "outlinewidth": 0,
              "ticks": ""
             }
            },
            "type": "scattergl"
           }
          ],
          "scattermapbox": [
           {
            "marker": {
             "colorbar": {
              "outlinewidth": 0,
              "ticks": ""
             }
            },
            "type": "scattermapbox"
           }
          ],
          "scatterpolar": [
           {
            "marker": {
             "colorbar": {
              "outlinewidth": 0,
              "ticks": ""
             }
            },
            "type": "scatterpolar"
           }
          ],
          "scatterpolargl": [
           {
            "marker": {
             "colorbar": {
              "outlinewidth": 0,
              "ticks": ""
             }
            },
            "type": "scatterpolargl"
           }
          ],
          "scatterternary": [
           {
            "marker": {
             "colorbar": {
              "outlinewidth": 0,
              "ticks": ""
             }
            },
            "type": "scatterternary"
           }
          ],
          "surface": [
           {
            "colorbar": {
             "outlinewidth": 0,
             "ticks": ""
            },
            "colorscale": [
             [
              0,
              "#0d0887"
             ],
             [
              0.1111111111111111,
              "#46039f"
             ],
             [
              0.2222222222222222,
              "#7201a8"
             ],
             [
              0.3333333333333333,
              "#9c179e"
             ],
             [
              0.4444444444444444,
              "#bd3786"
             ],
             [
              0.5555555555555556,
              "#d8576b"
             ],
             [
              0.6666666666666666,
              "#ed7953"
             ],
             [
              0.7777777777777778,
              "#fb9f3a"
             ],
             [
              0.8888888888888888,
              "#fdca26"
             ],
             [
              1,
              "#f0f921"
             ]
            ],
            "type": "surface"
           }
          ],
          "table": [
           {
            "cells": {
             "fill": {
              "color": "#EBF0F8"
             },
             "line": {
              "color": "white"
             }
            },
            "header": {
             "fill": {
              "color": "#C8D4E3"
             },
             "line": {
              "color": "white"
             }
            },
            "type": "table"
           }
          ]
         },
         "layout": {
          "annotationdefaults": {
           "arrowcolor": "#2a3f5f",
           "arrowhead": 0,
           "arrowwidth": 1
          },
          "autotypenumbers": "strict",
          "coloraxis": {
           "colorbar": {
            "outlinewidth": 0,
            "ticks": ""
           }
          },
          "colorscale": {
           "diverging": [
            [
             0,
             "#8e0152"
            ],
            [
             0.1,
             "#c51b7d"
            ],
            [
             0.2,
             "#de77ae"
            ],
            [
             0.3,
             "#f1b6da"
            ],
            [
             0.4,
             "#fde0ef"
            ],
            [
             0.5,
             "#f7f7f7"
            ],
            [
             0.6,
             "#e6f5d0"
            ],
            [
             0.7,
             "#b8e186"
            ],
            [
             0.8,
             "#7fbc41"
            ],
            [
             0.9,
             "#4d9221"
            ],
            [
             1,
             "#276419"
            ]
           ],
           "sequential": [
            [
             0,
             "#0d0887"
            ],
            [
             0.1111111111111111,
             "#46039f"
            ],
            [
             0.2222222222222222,
             "#7201a8"
            ],
            [
             0.3333333333333333,
             "#9c179e"
            ],
            [
             0.4444444444444444,
             "#bd3786"
            ],
            [
             0.5555555555555556,
             "#d8576b"
            ],
            [
             0.6666666666666666,
             "#ed7953"
            ],
            [
             0.7777777777777778,
             "#fb9f3a"
            ],
            [
             0.8888888888888888,
             "#fdca26"
            ],
            [
             1,
             "#f0f921"
            ]
           ],
           "sequentialminus": [
            [
             0,
             "#0d0887"
            ],
            [
             0.1111111111111111,
             "#46039f"
            ],
            [
             0.2222222222222222,
             "#7201a8"
            ],
            [
             0.3333333333333333,
             "#9c179e"
            ],
            [
             0.4444444444444444,
             "#bd3786"
            ],
            [
             0.5555555555555556,
             "#d8576b"
            ],
            [
             0.6666666666666666,
             "#ed7953"
            ],
            [
             0.7777777777777778,
             "#fb9f3a"
            ],
            [
             0.8888888888888888,
             "#fdca26"
            ],
            [
             1,
             "#f0f921"
            ]
           ]
          },
          "colorway": [
           "#636efa",
           "#EF553B",
           "#00cc96",
           "#ab63fa",
           "#FFA15A",
           "#19d3f3",
           "#FF6692",
           "#B6E880",
           "#FF97FF",
           "#FECB52"
          ],
          "font": {
           "color": "#2a3f5f"
          },
          "geo": {
           "bgcolor": "white",
           "lakecolor": "white",
           "landcolor": "#E5ECF6",
           "showlakes": true,
           "showland": true,
           "subunitcolor": "white"
          },
          "hoverlabel": {
           "align": "left"
          },
          "hovermode": "closest",
          "mapbox": {
           "style": "light"
          },
          "paper_bgcolor": "white",
          "plot_bgcolor": "#E5ECF6",
          "polar": {
           "angularaxis": {
            "gridcolor": "white",
            "linecolor": "white",
            "ticks": ""
           },
           "bgcolor": "#E5ECF6",
           "radialaxis": {
            "gridcolor": "white",
            "linecolor": "white",
            "ticks": ""
           }
          },
          "scene": {
           "xaxis": {
            "backgroundcolor": "#E5ECF6",
            "gridcolor": "white",
            "gridwidth": 2,
            "linecolor": "white",
            "showbackground": true,
            "ticks": "",
            "zerolinecolor": "white"
           },
           "yaxis": {
            "backgroundcolor": "#E5ECF6",
            "gridcolor": "white",
            "gridwidth": 2,
            "linecolor": "white",
            "showbackground": true,
            "ticks": "",
            "zerolinecolor": "white"
           },
           "zaxis": {
            "backgroundcolor": "#E5ECF6",
            "gridcolor": "white",
            "gridwidth": 2,
            "linecolor": "white",
            "showbackground": true,
            "ticks": "",
            "zerolinecolor": "white"
           }
          },
          "shapedefaults": {
           "line": {
            "color": "#2a3f5f"
           }
          },
          "ternary": {
           "aaxis": {
            "gridcolor": "white",
            "linecolor": "white",
            "ticks": ""
           },
           "baxis": {
            "gridcolor": "white",
            "linecolor": "white",
            "ticks": ""
           },
           "bgcolor": "#E5ECF6",
           "caxis": {
            "gridcolor": "white",
            "linecolor": "white",
            "ticks": ""
           }
          },
          "title": {
           "x": 0.05
          },
          "xaxis": {
           "automargin": true,
           "gridcolor": "white",
           "linecolor": "white",
           "ticks": "",
           "title": {
            "standoff": 15
           },
           "zerolinecolor": "white",
           "zerolinewidth": 2
          },
          "yaxis": {
           "automargin": true,
           "gridcolor": "white",
           "linecolor": "white",
           "ticks": "",
           "title": {
            "standoff": 15
           },
           "zerolinecolor": "white",
           "zerolinewidth": 2
          }
         }
        },
        "xaxis": {
         "anchor": "y",
         "constrain": "domain",
         "domain": [
          0,
          1
         ],
         "scaleanchor": "y"
        },
        "yaxis": {
         "anchor": "x",
         "autorange": "reversed",
         "constrain": "domain",
         "domain": [
          0,
          1
         ]
        }
       }
      }
     },
     "metadata": {},
     "output_type": "display_data"
    },
    {
     "data": {
      "application/vnd.plotly.v1+json": {
       "config": {
        "plotlyServerURL": "https://plot.ly"
       },
       "data": [
        {
         "hovertemplate": "x: %{x}<br>y: %{y}<br>color: [%{z[0]}, %{z[1]}, %{z[2]}]<extra></extra>",
         "name": "0",
         "source": "data:image/png;base64,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",
         "type": "image",
         "xaxis": "x",
         "yaxis": "y"
        }
       ],
       "layout": {
        "margin": {
         "t": 60
        },
        "template": {
         "data": {
          "bar": [
           {
            "error_x": {
             "color": "#2a3f5f"
            },
            "error_y": {
             "color": "#2a3f5f"
            },
            "marker": {
             "line": {
              "color": "#E5ECF6",
              "width": 0.5
             },
             "pattern": {
              "fillmode": "overlay",
              "size": 10,
              "solidity": 0.2
             }
            },
            "type": "bar"
           }
          ],
          "barpolar": [
           {
            "marker": {
             "line": {
              "color": "#E5ECF6",
              "width": 0.5
             },
             "pattern": {
              "fillmode": "overlay",
              "size": 10,
              "solidity": 0.2
             }
            },
            "type": "barpolar"
           }
          ],
          "carpet": [
           {
            "aaxis": {
             "endlinecolor": "#2a3f5f",
             "gridcolor": "white",
             "linecolor": "white",
             "minorgridcolor": "white",
             "startlinecolor": "#2a3f5f"
            },
            "baxis": {
             "endlinecolor": "#2a3f5f",
             "gridcolor": "white",
             "linecolor": "white",
             "minorgridcolor": "white",
             "startlinecolor": "#2a3f5f"
            },
            "type": "carpet"
           }
          ],
          "choropleth": [
           {
            "colorbar": {
             "outlinewidth": 0,
             "ticks": ""
            },
            "type": "choropleth"
           }
          ],
          "contour": [
           {
            "colorbar": {
             "outlinewidth": 0,
             "ticks": ""
            },
            "colorscale": [
             [
              0,
              "#0d0887"
             ],
             [
              0.1111111111111111,
              "#46039f"
             ],
             [
              0.2222222222222222,
              "#7201a8"
             ],
             [
              0.3333333333333333,
              "#9c179e"
             ],
             [
              0.4444444444444444,
              "#bd3786"
             ],
             [
              0.5555555555555556,
              "#d8576b"
             ],
             [
              0.6666666666666666,
              "#ed7953"
             ],
             [
              0.7777777777777778,
              "#fb9f3a"
             ],
             [
              0.8888888888888888,
              "#fdca26"
             ],
             [
              1,
              "#f0f921"
             ]
            ],
            "type": "contour"
           }
          ],
          "contourcarpet": [
           {
            "colorbar": {
             "outlinewidth": 0,
             "ticks": ""
            },
            "type": "contourcarpet"
           }
          ],
          "heatmap": [
           {
            "colorbar": {
             "outlinewidth": 0,
             "ticks": ""
            },
            "colorscale": [
             [
              0,
              "#0d0887"
             ],
             [
              0.1111111111111111,
              "#46039f"
             ],
             [
              0.2222222222222222,
              "#7201a8"
             ],
             [
              0.3333333333333333,
              "#9c179e"
             ],
             [
              0.4444444444444444,
              "#bd3786"
             ],
             [
              0.5555555555555556,
              "#d8576b"
             ],
             [
              0.6666666666666666,
              "#ed7953"
             ],
             [
              0.7777777777777778,
              "#fb9f3a"
             ],
             [
              0.8888888888888888,
              "#fdca26"
             ],
             [
              1,
              "#f0f921"
             ]
            ],
            "type": "heatmap"
           }
          ],
          "heatmapgl": [
           {
            "colorbar": {
             "outlinewidth": 0,
             "ticks": ""
            },
            "colorscale": [
             [
              0,
              "#0d0887"
             ],
             [
              0.1111111111111111,
              "#46039f"
             ],
             [
              0.2222222222222222,
              "#7201a8"
             ],
             [
              0.3333333333333333,
              "#9c179e"
             ],
             [
              0.4444444444444444,
              "#bd3786"
             ],
             [
              0.5555555555555556,
              "#d8576b"
             ],
             [
              0.6666666666666666,
              "#ed7953"
             ],
             [
              0.7777777777777778,
              "#fb9f3a"
             ],
             [
              0.8888888888888888,
              "#fdca26"
             ],
             [
              1,
              "#f0f921"
             ]
            ],
            "type": "heatmapgl"
           }
          ],
          "histogram": [
           {
            "marker": {
             "pattern": {
              "fillmode": "overlay",
              "size": 10,
              "solidity": 0.2
             }
            },
            "type": "histogram"
           }
          ],
          "histogram2d": [
           {
            "colorbar": {
             "outlinewidth": 0,
             "ticks": ""
            },
            "colorscale": [
             [
              0,
              "#0d0887"
             ],
             [
              0.1111111111111111,
              "#46039f"
             ],
             [
              0.2222222222222222,
              "#7201a8"
             ],
             [
              0.3333333333333333,
              "#9c179e"
             ],
             [
              0.4444444444444444,
              "#bd3786"
             ],
             [
              0.5555555555555556,
              "#d8576b"
             ],
             [
              0.6666666666666666,
              "#ed7953"
             ],
             [
              0.7777777777777778,
              "#fb9f3a"
             ],
             [
              0.8888888888888888,
              "#fdca26"
             ],
             [
              1,
              "#f0f921"
             ]
            ],
            "type": "histogram2d"
           }
          ],
          "histogram2dcontour": [
           {
            "colorbar": {
             "outlinewidth": 0,
             "ticks": ""
            },
            "colorscale": [
             [
              0,
              "#0d0887"
             ],
             [
              0.1111111111111111,
              "#46039f"
             ],
             [
              0.2222222222222222,
              "#7201a8"
             ],
             [
              0.3333333333333333,
              "#9c179e"
             ],
             [
              0.4444444444444444,
              "#bd3786"
             ],
             [
              0.5555555555555556,
              "#d8576b"
             ],
             [
              0.6666666666666666,
              "#ed7953"
             ],
             [
              0.7777777777777778,
              "#fb9f3a"
             ],
             [
              0.8888888888888888,
              "#fdca26"
             ],
             [
              1,
              "#f0f921"
             ]
            ],
            "type": "histogram2dcontour"
           }
          ],
          "mesh3d": [
           {
            "colorbar": {
             "outlinewidth": 0,
             "ticks": ""
            },
            "type": "mesh3d"
           }
          ],
          "parcoords": [
           {
            "line": {
             "colorbar": {
              "outlinewidth": 0,
              "ticks": ""
             }
            },
            "type": "parcoords"
           }
          ],
          "pie": [
           {
            "automargin": true,
            "type": "pie"
           }
          ],
          "scatter": [
           {
            "fillpattern": {
             "fillmode": "overlay",
             "size": 10,
             "solidity": 0.2
            },
            "type": "scatter"
           }
          ],
          "scatter3d": [
           {
            "line": {
             "colorbar": {
              "outlinewidth": 0,
              "ticks": ""
             }
            },
            "marker": {
             "colorbar": {
              "outlinewidth": 0,
              "ticks": ""
             }
            },
            "type": "scatter3d"
           }
          ],
          "scattercarpet": [
           {
            "marker": {
             "colorbar": {
              "outlinewidth": 0,
              "ticks": ""
             }
            },
            "type": "scattercarpet"
           }
          ],
          "scattergeo": [
           {
            "marker": {
             "colorbar": {
              "outlinewidth": 0,
              "ticks": ""
             }
            },
            "type": "scattergeo"
           }
          ],
          "scattergl": [
           {
            "marker": {
             "colorbar": {
              "outlinewidth": 0,
              "ticks": ""
             }
            },
            "type": "scattergl"
           }
          ],
          "scattermapbox": [
           {
            "marker": {
             "colorbar": {
              "outlinewidth": 0,
              "ticks": ""
             }
            },
            "type": "scattermapbox"
           }
          ],
          "scatterpolar": [
           {
            "marker": {
             "colorbar": {
              "outlinewidth": 0,
              "ticks": ""
             }
            },
            "type": "scatterpolar"
           }
          ],
          "scatterpolargl": [
           {
            "marker": {
             "colorbar": {
              "outlinewidth": 0,
              "ticks": ""
             }
            },
            "type": "scatterpolargl"
           }
          ],
          "scatterternary": [
           {
            "marker": {
             "colorbar": {
              "outlinewidth": 0,
              "ticks": ""
             }
            },
            "type": "scatterternary"
           }
          ],
          "surface": [
           {
            "colorbar": {
             "outlinewidth": 0,
             "ticks": ""
            },
            "colorscale": [
             [
              0,
              "#0d0887"
             ],
             [
              0.1111111111111111,
              "#46039f"
             ],
             [
              0.2222222222222222,
              "#7201a8"
             ],
             [
              0.3333333333333333,
              "#9c179e"
             ],
             [
              0.4444444444444444,
              "#bd3786"
             ],
             [
              0.5555555555555556,
              "#d8576b"
             ],
             [
              0.6666666666666666,
              "#ed7953"
             ],
             [
              0.7777777777777778,
              "#fb9f3a"
             ],
             [
              0.8888888888888888,
              "#fdca26"
             ],
             [
              1,
              "#f0f921"
             ]
            ],
            "type": "surface"
           }
          ],
          "table": [
           {
            "cells": {
             "fill": {
              "color": "#EBF0F8"
             },
             "line": {
              "color": "white"
             }
            },
            "header": {
             "fill": {
              "color": "#C8D4E3"
             },
             "line": {
              "color": "white"
             }
            },
            "type": "table"
           }
          ]
         },
         "layout": {
          "annotationdefaults": {
           "arrowcolor": "#2a3f5f",
           "arrowhead": 0,
           "arrowwidth": 1
          },
          "autotypenumbers": "strict",
          "coloraxis": {
           "colorbar": {
            "outlinewidth": 0,
            "ticks": ""
           }
          },
          "colorscale": {
           "diverging": [
            [
             0,
             "#8e0152"
            ],
            [
             0.1,
             "#c51b7d"
            ],
            [
             0.2,
             "#de77ae"
            ],
            [
             0.3,
             "#f1b6da"
            ],
            [
             0.4,
             "#fde0ef"
            ],
            [
             0.5,
             "#f7f7f7"
            ],
            [
             0.6,
             "#e6f5d0"
            ],
            [
             0.7,
             "#b8e186"
            ],
            [
             0.8,
             "#7fbc41"
            ],
            [
             0.9,
             "#4d9221"
            ],
            [
             1,
             "#276419"
            ]
           ],
           "sequential": [
            [
             0,
             "#0d0887"
            ],
            [
             0.1111111111111111,
             "#46039f"
            ],
            [
             0.2222222222222222,
             "#7201a8"
            ],
            [
             0.3333333333333333,
             "#9c179e"
            ],
            [
             0.4444444444444444,
             "#bd3786"
            ],
            [
             0.5555555555555556,
             "#d8576b"
            ],
            [
             0.6666666666666666,
             "#ed7953"
            ],
            [
             0.7777777777777778,
             "#fb9f3a"
            ],
            [
             0.8888888888888888,
             "#fdca26"
            ],
            [
             1,
             "#f0f921"
            ]
           ],
           "sequentialminus": [
            [
             0,
             "#0d0887"
            ],
            [
             0.1111111111111111,
             "#46039f"
            ],
            [
             0.2222222222222222,
             "#7201a8"
            ],
            [
             0.3333333333333333,
             "#9c179e"
            ],
            [
             0.4444444444444444,
             "#bd3786"
            ],
            [
             0.5555555555555556,
             "#d8576b"
            ],
            [
             0.6666666666666666,
             "#ed7953"
            ],
            [
             0.7777777777777778,
             "#fb9f3a"
            ],
            [
             0.8888888888888888,
             "#fdca26"
            ],
            [
             1,
             "#f0f921"
            ]
           ]
          },
          "colorway": [
           "#636efa",
           "#EF553B",
           "#00cc96",
           "#ab63fa",
           "#FFA15A",
           "#19d3f3",
           "#FF6692",
           "#B6E880",
           "#FF97FF",
           "#FECB52"
          ],
          "font": {
           "color": "#2a3f5f"
          },
          "geo": {
           "bgcolor": "white",
           "lakecolor": "white",
           "landcolor": "#E5ECF6",
           "showlakes": true,
           "showland": true,
           "subunitcolor": "white"
          },
          "hoverlabel": {
           "align": "left"
          },
          "hovermode": "closest",
          "mapbox": {
           "style": "light"
          },
          "paper_bgcolor": "white",
          "plot_bgcolor": "#E5ECF6",
          "polar": {
           "angularaxis": {
            "gridcolor": "white",
            "linecolor": "white",
            "ticks": ""
           },
           "bgcolor": "#E5ECF6",
           "radialaxis": {
            "gridcolor": "white",
            "linecolor": "white",
            "ticks": ""
           }
          },
          "scene": {
           "xaxis": {
            "backgroundcolor": "#E5ECF6",
            "gridcolor": "white",
            "gridwidth": 2,
            "linecolor": "white",
            "showbackground": true,
            "ticks": "",
            "zerolinecolor": "white"
           },
           "yaxis": {
            "backgroundcolor": "#E5ECF6",
            "gridcolor": "white",
            "gridwidth": 2,
            "linecolor": "white",
            "showbackground": true,
            "ticks": "",
            "zerolinecolor": "white"
           },
           "zaxis": {
            "backgroundcolor": "#E5ECF6",
            "gridcolor": "white",
            "gridwidth": 2,
            "linecolor": "white",
            "showbackground": true,
            "ticks": "",
            "zerolinecolor": "white"
           }
          },
          "shapedefaults": {
           "line": {
            "color": "#2a3f5f"
           }
          },
          "ternary": {
           "aaxis": {
            "gridcolor": "white",
            "linecolor": "white",
            "ticks": ""
           },
           "baxis": {
            "gridcolor": "white",
            "linecolor": "white",
            "ticks": ""
           },
           "bgcolor": "#E5ECF6",
           "caxis": {
            "gridcolor": "white",
            "linecolor": "white",
            "ticks": ""
           }
          },
          "title": {
           "x": 0.05
          },
          "xaxis": {
           "automargin": true,
           "gridcolor": "white",
           "linecolor": "white",
           "ticks": "",
           "title": {
            "standoff": 15
           },
           "zerolinecolor": "white",
           "zerolinewidth": 2
          },
          "yaxis": {
           "automargin": true,
           "gridcolor": "white",
           "linecolor": "white",
           "ticks": "",
           "title": {
            "standoff": 15
           },
           "zerolinecolor": "white",
           "zerolinewidth": 2
          }
         }
        },
        "xaxis": {
         "anchor": "y",
         "domain": [
          0,
          1
         ]
        },
        "yaxis": {
         "anchor": "x",
         "domain": [
          0,
          1
         ]
        }
       }
      }
     },
     "metadata": {},
     "output_type": "display_data"
    },
    {
     "data": {
      "application/vnd.plotly.v1+json": {
       "config": {
        "plotlyServerURL": "https://plot.ly"
       },
       "data": [
        {
         "coloraxis": "coloraxis",
         "hovertemplate": "x: %{x}<br>y: %{y}<br>color: %{z}<extra></extra>",
         "name": "0",
         "type": "heatmap",
         "xaxis": "x",
         "yaxis": "y",
         "z": [
          [
           0,
           0,
           0,
           0,
           0,
           0,
           0,
           0,
           0,
           0,
           0,
           0,
           0,
           0,
           0,
           0,
           0,
           0,
           0,
           0,
           0,
           0,
           0,
           0,
           0,
           0,
           0,
           0,
           0,
           0,
           0,
           0,
           0,
           0,
           0,
           0,
           0,
           0,
           0,
           0,
           0,
           0,
           0,
           0,
           0,
           0,
           0,
           0
          ],
          [
           0,
           255,
           255,
           255,
           255,
           0,
           0,
           0,
           0,
           0,
           255,
           255,
           255,
           255,
           255,
           255,
           255,
           255,
           255,
           255,
           255,
           255,
           255,
           255,
           255,
           255,
           255,
           255,
           255,
           255,
           255,
           255,
           255,
           255,
           255,
           255,
           255,
           255,
           255,
           255,
           255,
           255,
           255,
           255,
           255,
           255,
           255,
           0
          ],
          [
           0,
           255,
           255,
           255,
           0,
           0,
           0,
           0,
           0,
           0,
           255,
           255,
           255,
           255,
           255,
           255,
           255,
           255,
           255,
           255,
           255,
           255,
           255,
           255,
           255,
           255,
           255,
           255,
           255,
           255,
           255,
           255,
           255,
           255,
           255,
           255,
           255,
           255,
           255,
           255,
           255,
           255,
           255,
           255,
           255,
           255,
           255,
           0
          ],
          [
           0,
           255,
           255,
           0,
           0,
           0,
           0,
           0,
           0,
           0,
           255,
           255,
           255,
           255,
           255,
           255,
           255,
           255,
           255,
           255,
           255,
           255,
           255,
           255,
           255,
           255,
           255,
           255,
           255,
           255,
           255,
           255,
           255,
           255,
           255,
           255,
           255,
           255,
           255,
           255,
           255,
           255,
           255,
           255,
           255,
           255,
           255,
           0
          ],
          [
           0,
           255,
           0,
           0,
           0,
           0,
           0,
           0,
           0,
           255,
           255,
           0,
           0,
           0,
           255,
           255,
           255,
           255,
           255,
           255,
           0,
           255,
           255,
           255,
           255,
           255,
           255,
           255,
           255,
           255,
           255,
           255,
           255,
           255,
           255,
           255,
           255,
           255,
           255,
           255,
           255,
           255,
           255,
           255,
           255,
           255,
           255,
           0
          ],
          [
           0,
           0,
           0,
           0,
           0,
           0,
           0,
           0,
           0,
           0,
           0,
           0,
           0,
           0,
           255,
           255,
           255,
           255,
           255,
           0,
           0,
           0,
           255,
           255,
           255,
           255,
           255,
           255,
           255,
           255,
           255,
           255,
           255,
           255,
           255,
           255,
           255,
           255,
           255,
           255,
           255,
           255,
           255,
           255,
           255,
           255,
           255,
           0
          ],
          [
           0,
           0,
           0,
           0,
           0,
           0,
           0,
           0,
           0,
           0,
           0,
           0,
           0,
           0,
           255,
           255,
           255,
           255,
           0,
           0,
           0,
           0,
           0,
           255,
           255,
           255,
           255,
           255,
           255,
           255,
           255,
           255,
           255,
           255,
           255,
           255,
           255,
           255,
           255,
           255,
           255,
           255,
           255,
           255,
           255,
           255,
           255,
           0
          ],
          [
           0,
           0,
           0,
           0,
           0,
           0,
           0,
           0,
           0,
           0,
           0,
           0,
           0,
           255,
           255,
           255,
           255,
           0,
           0,
           0,
           0,
           0,
           0,
           0,
           255,
           255,
           255,
           255,
           255,
           255,
           255,
           255,
           255,
           255,
           255,
           255,
           255,
           255,
           255,
           255,
           255,
           255,
           255,
           255,
           255,
           255,
           255,
           0
          ],
          [
           0,
           0,
           0,
           0,
           0,
           0,
           0,
           0,
           0,
           0,
           0,
           255,
           255,
           255,
           255,
           255,
           0,
           0,
           0,
           0,
           0,
           0,
           0,
           0,
           0,
           255,
           255,
           255,
           255,
           255,
           255,
           255,
           255,
           0,
           0,
           0,
           255,
           255,
           255,
           255,
           255,
           255,
           255,
           255,
           255,
           255,
           255,
           0
          ],
          [
           0,
           0,
           0,
           0,
           0,
           0,
           0,
           0,
           0,
           0,
           255,
           255,
           255,
           255,
           255,
           0,
           0,
           0,
           0,
           0,
           0,
           0,
           0,
           0,
           0,
           0,
           255,
           255,
           255,
           255,
           255,
           255,
           255,
           0,
           0,
           0,
           255,
           255,
           255,
           255,
           255,
           255,
           255,
           255,
           255,
           255,
           255,
           0
          ],
          [
           0,
           255,
           0,
           0,
           0,
           0,
           0,
           0,
           0,
           255,
           255,
           255,
           255,
           255,
           0,
           0,
           0,
           0,
           0,
           0,
           0,
           0,
           0,
           0,
           0,
           0,
           0,
           255,
           255,
           255,
           255,
           255,
           255,
           0,
           0,
           0,
           255,
           255,
           255,
           255,
           255,
           0,
           0,
           0,
           255,
           255,
           255,
           0
          ],
          [
           0,
           255,
           255,
           0,
           0,
           0,
           0,
           0,
           255,
           255,
           255,
           255,
           255,
           255,
           255,
           0,
           0,
           0,
           0,
           0,
           0,
           0,
           0,
           0,
           0,
           0,
           255,
           255,
           255,
           255,
           255,
           255,
           255,
           255,
           255,
           255,
           255,
           255,
           255,
           255,
           255,
           0,
           0,
           0,
           255,
           255,
           255,
           0
          ],
          [
           0,
           255,
           255,
           255,
           0,
           0,
           0,
           255,
           255,
           255,
           255,
           255,
           255,
           255,
           255,
           255,
           0,
           0,
           0,
           0,
           0,
           0,
           0,
           0,
           0,
           255,
           255,
           255,
           255,
           255,
           0,
           255,
           255,
           0,
           0,
           0,
           255,
           255,
           255,
           255,
           255,
           0,
           0,
           0,
           255,
           255,
           0,
           0
          ],
          [
           0,
           255,
           255,
           255,
           255,
           0,
           255,
           255,
           255,
           255,
           255,
           255,
           255,
           255,
           255,
           255,
           0,
           0,
           0,
           0,
           0,
           0,
           0,
           0,
           255,
           255,
           255,
           255,
           255,
           0,
           0,
           0,
           255,
           0,
           0,
           0,
           255,
           255,
           255,
           255,
           255,
           255,
           255,
           255,
           255,
           0,
           0,
           0
          ],
          [
           0,
           255,
           255,
           255,
           255,
           255,
           255,
           255,
           255,
           255,
           255,
           255,
           255,
           255,
           255,
           255,
           0,
           0,
           0,
           0,
           0,
           0,
           0,
           255,
           255,
           255,
           255,
           255,
           0,
           0,
           0,
           0,
           0,
           0,
           0,
           0,
           255,
           255,
           255,
           255,
           255,
           255,
           255,
           255,
           255,
           0,
           0,
           0
          ],
          [
           0,
           255,
           255,
           255,
           255,
           255,
           255,
           255,
           255,
           0,
           0,
           0,
           255,
           255,
           255,
           255,
           0,
           0,
           0,
           0,
           0,
           0,
           255,
           255,
           255,
           255,
           255,
           0,
           0,
           0,
           0,
           0,
           0,
           0,
           0,
           0,
           255,
           255,
           255,
           255,
           255,
           255,
           255,
           255,
           255,
           0,
           0,
           0
          ],
          [
           0,
           255,
           255,
           255,
           255,
           255,
           255,
           255,
           255,
           0,
           0,
           0,
           255,
           255,
           255,
           255,
           255,
           255,
           255,
           255,
           0,
           255,
           255,
           255,
           255,
           255,
           0,
           0,
           0,
           0,
           0,
           0,
           0,
           0,
           0,
           0,
           255,
           255,
           255,
           255,
           255,
           255,
           255,
           255,
           255,
           255,
           255,
           0
          ],
          [
           0,
           255,
           255,
           255,
           255,
           0,
           0,
           0,
           255,
           0,
           0,
           0,
           255,
           255,
           255,
           255,
           255,
           255,
           255,
           255,
           255,
           255,
           255,
           255,
           255,
           0,
           0,
           0,
           0,
           0,
           0,
           0,
           0,
           0,
           0,
           0,
           255,
           255,
           255,
           255,
           255,
           255,
           255,
           255,
           255,
           255,
           255,
           0
          ],
          [
           0,
           255,
           255,
           255,
           255,
           0,
           0,
           0,
           255,
           255,
           255,
           255,
           255,
           255,
           255,
           255,
           255,
           255,
           255,
           255,
           255,
           255,
           255,
           255,
           0,
           0,
           0,
           0,
           0,
           0,
           0,
           0,
           0,
           0,
           0,
           0,
           0,
           255,
           255,
           255,
           255,
           255,
           255,
           255,
           255,
           255,
           255,
           0
          ],
          [
           0,
           255,
           255,
           255,
           255,
           0,
           0,
           0,
           255,
           255,
           255,
           255,
           255,
           255,
           255,
           255,
           255,
           255,
           255,
           255,
           255,
           255,
           255,
           255,
           255,
           0,
           0,
           0,
           0,
           0,
           0,
           0,
           0,
           0,
           0,
           0,
           255,
           255,
           255,
           255,
           255,
           255,
           255,
           0,
           0,
           0,
           255,
           0
          ],
          [
           0,
           255,
           255,
           255,
           255,
           255,
           255,
           255,
           255,
           255,
           255,
           255,
           255,
           255,
           255,
           255,
           255,
           255,
           255,
           255,
           255,
           255,
           255,
           0,
           0,
           0,
           0,
           0,
           0,
           0,
           0,
           0,
           0,
           0,
           0,
           0,
           0,
           0,
           255,
           255,
           255,
           255,
           0,
           0,
           0,
           0,
           255,
           0
          ],
          [
           0,
           255,
           255,
           255,
           255,
           255,
           255,
           255,
           255,
           255,
           255,
           255,
           255,
           255,
           255,
           255,
           255,
           255,
           255,
           255,
           255,
           255,
           255,
           0,
           0,
           0,
           0,
           0,
           0,
           0,
           0,
           0,
           0,
           0,
           255,
           0,
           0,
           0,
           255,
           255,
           255,
           255,
           0,
           0,
           0,
           0,
           255,
           0
          ],
          [
           0,
           255,
           255,
           255,
           255,
           255,
           255,
           255,
           255,
           255,
           255,
           255,
           255,
           255,
           255,
           255,
           255,
           255,
           255,
           255,
           255,
           255,
           255,
           0,
           0,
           0,
           0,
           0,
           0,
           0,
           0,
           0,
           0,
           255,
           255,
           0,
           0,
           0,
           255,
           255,
           255,
           255,
           0,
           0,
           0,
           0,
           255,
           0
          ],
          [
           0,
           255,
           255,
           255,
           255,
           255,
           255,
           255,
           255,
           255,
           255,
           255,
           255,
           255,
           255,
           255,
           255,
           0,
           255,
           255,
           255,
           255,
           255,
           0,
           0,
           0,
           0,
           0,
           255,
           0,
           0,
           0,
           0,
           0,
           255,
           255,
           255,
           255,
           255,
           255,
           255,
           255,
           0,
           0,
           0,
           0,
           255,
           0
          ],
          [
           0,
           255,
           255,
           255,
           255,
           255,
           255,
           255,
           255,
           255,
           255,
           255,
           255,
           255,
           255,
           255,
           0,
           0,
           0,
           255,
           255,
           255,
           255,
           0,
           0,
           0,
           0,
           0,
           0,
           0,
           0,
           0,
           0,
           0,
           0,
           255,
           255,
           255,
           255,
           255,
           255,
           255,
           0,
           0,
           0,
           0,
           255,
           0
          ],
          [
           0,
           255,
           255,
           255,
           255,
           255,
           255,
           255,
           255,
           255,
           255,
           255,
           255,
           255,
           255,
           0,
           0,
           0,
           0,
           0,
           255,
           255,
           255,
           0,
           0,
           0,
           0,
           0,
           0,
           0,
           0,
           0,
           0,
           0,
           0,
           0,
           255,
           255,
           255,
           255,
           255,
           255,
           0,
           0,
           0,
           0,
           255,
           0
          ],
          [
           0,
           255,
           255,
           255,
           255,
           255,
           255,
           255,
           255,
           255,
           255,
           255,
           255,
           255,
           0,
           0,
           0,
           0,
           0,
           0,
           0,
           255,
           255,
           0,
           0,
           0,
           0,
           0,
           0,
           0,
           0,
           0,
           0,
           0,
           0,
           0,
           0,
           255,
           255,
           255,
           255,
           255,
           0,
           0,
           0,
           0,
           255,
           0
          ],
          [
           0,
           255,
           255,
           255,
           255,
           255,
           255,
           255,
           255,
           255,
           255,
           255,
           255,
           0,
           0,
           0,
           0,
           0,
           0,
           0,
           0,
           0,
           255,
           0,
           0,
           0,
           0,
           0,
           0,
           0,
           0,
           0,
           0,
           0,
           0,
           0,
           0,
           0,
           255,
           255,
           255,
           255,
           0,
           0,
           0,
           0,
           255,
           0
          ],
          [
           0,
           255,
           255,
           255,
           255,
           255,
           255,
           255,
           255,
           255,
           255,
           255,
           0,
           0,
           0,
           0,
           0,
           0,
           0,
           0,
           0,
           0,
           0,
           255,
           255,
           255,
           0,
           0,
           0,
           0,
           0,
           0,
           0,
           0,
           0,
           0,
           0,
           255,
           255,
           255,
           255,
           255,
           255,
           0,
           0,
           0,
           255,
           0
          ],
          [
           0,
           255,
           255,
           255,
           255,
           255,
           255,
           255,
           255,
           255,
           255,
           0,
           0,
           0,
           0,
           0,
           0,
           0,
           0,
           0,
           0,
           0,
           0,
           0,
           255,
           255,
           255,
           0,
           0,
           0,
           0,
           0,
           0,
           0,
           0,
           0,
           255,
           255,
           255,
           255,
           255,
           255,
           255,
           255,
           255,
           255,
           255,
           0
          ],
          [
           0,
           255,
           255,
           255,
           255,
           255,
           255,
           255,
           255,
           0,
           0,
           0,
           0,
           0,
           0,
           0,
           0,
           0,
           0,
           0,
           0,
           0,
           0,
           255,
           255,
           255,
           255,
           255,
           0,
           0,
           0,
           0,
           0,
           0,
           0,
           255,
           255,
           255,
           255,
           255,
           255,
           255,
           255,
           255,
           255,
           255,
           255,
           0
          ],
          [
           0,
           255,
           255,
           255,
           255,
           255,
           255,
           255,
           255,
           0,
           0,
           0,
           255,
           0,
           0,
           0,
           0,
           0,
           0,
           0,
           0,
           0,
           255,
           255,
           255,
           255,
           255,
           255,
           255,
           0,
           0,
           0,
           0,
           0,
           255,
           255,
           255,
           255,
           255,
           255,
           255,
           255,
           255,
           255,
           255,
           255,
           255,
           0
          ],
          [
           0,
           255,
           255,
           255,
           255,
           255,
           255,
           255,
           255,
           0,
           0,
           0,
           255,
           255,
           0,
           0,
           0,
           0,
           0,
           0,
           0,
           255,
           255,
           255,
           255,
           255,
           255,
           255,
           255,
           255,
           0,
           0,
           0,
           255,
           255,
           255,
           255,
           255,
           255,
           255,
           255,
           255,
           255,
           255,
           255,
           0,
           0,
           0
          ],
          [
           0,
           255,
           255,
           255,
           255,
           255,
           255,
           255,
           255,
           255,
           255,
           255,
           255,
           255,
           255,
           0,
           0,
           0,
           0,
           0,
           255,
           255,
           255,
           255,
           255,
           0,
           0,
           0,
           255,
           255,
           255,
           0,
           255,
           255,
           255,
           255,
           255,
           255,
           255,
           255,
           255,
           255,
           255,
           255,
           255,
           0,
           0,
           0
          ],
          [
           0,
           255,
           255,
           255,
           255,
           255,
           255,
           255,
           255,
           255,
           255,
           255,
           255,
           255,
           255,
           255,
           0,
           0,
           0,
           255,
           255,
           255,
           255,
           255,
           255,
           0,
           0,
           0,
           255,
           255,
           255,
           255,
           255,
           255,
           255,
           255,
           255,
           255,
           255,
           255,
           255,
           255,
           255,
           255,
           255,
           0,
           0,
           0
          ],
          [
           0,
           255,
           255,
           255,
           255,
           255,
           255,
           255,
           255,
           255,
           255,
           255,
           255,
           255,
           255,
           255,
           255,
           0,
           255,
           255,
           255,
           255,
           255,
           255,
           255,
           0,
           0,
           0,
           255,
           255,
           255,
           255,
           255,
           255,
           255,
           255,
           255,
           255,
           255,
           255,
           255,
           0,
           0,
           0,
           255,
           255,
           0,
           0
          ],
          [
           0,
           255,
           0,
           0,
           0,
           255,
           255,
           255,
           255,
           255,
           255,
           255,
           255,
           255,
           255,
           255,
           255,
           255,
           255,
           255,
           255,
           255,
           255,
           255,
           255,
           255,
           255,
           255,
           255,
           255,
           255,
           255,
           255,
           255,
           255,
           255,
           255,
           255,
           255,
           255,
           255,
           0,
           0,
           0,
           255,
           255,
           255,
           0
          ],
          [
           0,
           255,
           0,
           0,
           0,
           255,
           255,
           255,
           255,
           255,
           255,
           255,
           255,
           255,
           255,
           255,
           255,
           255,
           255,
           255,
           255,
           255,
           255,
           255,
           255,
           255,
           255,
           255,
           255,
           255,
           255,
           255,
           255,
           255,
           255,
           255,
           255,
           255,
           255,
           255,
           255,
           0,
           0,
           0,
           255,
           255,
           255,
           0
          ],
          [
           0,
           255,
           0,
           0,
           0,
           255,
           255,
           255,
           255,
           255,
           255,
           255,
           255,
           255,
           255,
           255,
           255,
           255,
           255,
           255,
           255,
           255,
           255,
           255,
           255,
           255,
           255,
           255,
           255,
           255,
           255,
           255,
           255,
           255,
           255,
           255,
           255,
           255,
           255,
           255,
           255,
           255,
           255,
           255,
           255,
           255,
           255,
           0
          ],
          [
           0,
           0,
           0,
           0,
           255,
           255,
           255,
           255,
           255,
           255,
           255,
           255,
           255,
           255,
           255,
           255,
           255,
           255,
           255,
           255,
           255,
           255,
           255,
           255,
           255,
           255,
           255,
           255,
           255,
           255,
           255,
           255,
           255,
           255,
           255,
           255,
           255,
           255,
           255,
           255,
           255,
           255,
           255,
           255,
           255,
           255,
           255,
           0
          ],
          [
           0,
           0,
           0,
           0,
           255,
           255,
           255,
           255,
           255,
           255,
           255,
           255,
           255,
           255,
           255,
           255,
           255,
           255,
           255,
           255,
           255,
           255,
           255,
           255,
           255,
           255,
           255,
           255,
           255,
           255,
           255,
           255,
           255,
           255,
           255,
           255,
           255,
           255,
           255,
           255,
           255,
           255,
           255,
           255,
           255,
           255,
           255,
           0
          ],
          [
           0,
           0,
           0,
           0,
           255,
           0,
           0,
           0,
           255,
           255,
           255,
           0,
           0,
           0,
           255,
           255,
           255,
           255,
           255,
           255,
           255,
           255,
           255,
           255,
           255,
           255,
           255,
           255,
           255,
           255,
           255,
           255,
           255,
           255,
           255,
           255,
           255,
           255,
           255,
           255,
           255,
           255,
           255,
           255,
           255,
           255,
           255,
           0
          ],
          [
           0,
           255,
           255,
           255,
           0,
           0,
           0,
           0,
           0,
           255,
           255,
           0,
           0,
           0,
           255,
           255,
           255,
           255,
           255,
           255,
           255,
           255,
           255,
           255,
           255,
           255,
           255,
           255,
           255,
           255,
           255,
           255,
           255,
           255,
           255,
           255,
           255,
           255,
           255,
           255,
           255,
           255,
           255,
           255,
           255,
           255,
           255,
           0
          ],
          [
           0,
           255,
           255,
           255,
           0,
           0,
           0,
           0,
           0,
           0,
           255,
           0,
           0,
           0,
           255,
           255,
           255,
           255,
           255,
           255,
           255,
           255,
           255,
           255,
           255,
           255,
           255,
           255,
           255,
           255,
           255,
           255,
           255,
           255,
           255,
           255,
           255,
           255,
           255,
           255,
           255,
           255,
           255,
           255,
           255,
           255,
           255,
           0
          ],
          [
           0,
           255,
           255,
           255,
           0,
           0,
           0,
           0,
           0,
           0,
           255,
           255,
           255,
           255,
           255,
           255,
           255,
           255,
           0,
           0,
           0,
           0,
           0,
           0,
           255,
           255,
           255,
           255,
           255,
           255,
           255,
           255,
           255,
           255,
           255,
           255,
           255,
           255,
           255,
           255,
           255,
           255,
           255,
           255,
           255,
           255,
           255,
           0
          ],
          [
           0,
           255,
           255,
           255,
           255,
           0,
           0,
           0,
           0,
           0,
           255,
           255,
           255,
           255,
           255,
           255,
           255,
           255,
           0,
           0,
           0,
           0,
           0,
           0,
           255,
           255,
           255,
           255,
           255,
           255,
           255,
           255,
           255,
           255,
           255,
           255,
           255,
           255,
           255,
           255,
           255,
           255,
           255,
           255,
           255,
           255,
           255,
           0
          ],
          [
           0,
           255,
           255,
           255,
           255,
           0,
           0,
           0,
           0,
           255,
           255,
           255,
           255,
           255,
           255,
           255,
           255,
           255,
           0,
           0,
           0,
           0,
           0,
           0,
           255,
           255,
           255,
           255,
           255,
           255,
           255,
           255,
           255,
           255,
           255,
           255,
           255,
           255,
           255,
           255,
           255,
           255,
           255,
           255,
           255,
           255,
           255,
           0
          ],
          [
           0,
           0,
           0,
           0,
           0,
           0,
           0,
           0,
           0,
           0,
           0,
           0,
           0,
           0,
           0,
           0,
           0,
           0,
           0,
           0,
           0,
           0,
           0,
           0,
           0,
           0,
           0,
           0,
           0,
           0,
           0,
           0,
           0,
           0,
           0,
           0,
           0,
           0,
           0,
           0,
           0,
           0,
           0,
           0,
           0,
           0,
           0,
           0
          ]
         ]
        }
       ],
       "layout": {
        "coloraxis": {
         "colorscale": [
          [
           0,
           "#0d0887"
          ],
          [
           0.1111111111111111,
           "#46039f"
          ],
          [
           0.2222222222222222,
           "#7201a8"
          ],
          [
           0.3333333333333333,
           "#9c179e"
          ],
          [
           0.4444444444444444,
           "#bd3786"
          ],
          [
           0.5555555555555556,
           "#d8576b"
          ],
          [
           0.6666666666666666,
           "#ed7953"
          ],
          [
           0.7777777777777778,
           "#fb9f3a"
          ],
          [
           0.8888888888888888,
           "#fdca26"
          ],
          [
           1,
           "#f0f921"
          ]
         ]
        },
        "margin": {
         "t": 60
        },
        "template": {
         "data": {
          "bar": [
           {
            "error_x": {
             "color": "#2a3f5f"
            },
            "error_y": {
             "color": "#2a3f5f"
            },
            "marker": {
             "line": {
              "color": "#E5ECF6",
              "width": 0.5
             },
             "pattern": {
              "fillmode": "overlay",
              "size": 10,
              "solidity": 0.2
             }
            },
            "type": "bar"
           }
          ],
          "barpolar": [
           {
            "marker": {
             "line": {
              "color": "#E5ECF6",
              "width": 0.5
             },
             "pattern": {
              "fillmode": "overlay",
              "size": 10,
              "solidity": 0.2
             }
            },
            "type": "barpolar"
           }
          ],
          "carpet": [
           {
            "aaxis": {
             "endlinecolor": "#2a3f5f",
             "gridcolor": "white",
             "linecolor": "white",
             "minorgridcolor": "white",
             "startlinecolor": "#2a3f5f"
            },
            "baxis": {
             "endlinecolor": "#2a3f5f",
             "gridcolor": "white",
             "linecolor": "white",
             "minorgridcolor": "white",
             "startlinecolor": "#2a3f5f"
            },
            "type": "carpet"
           }
          ],
          "choropleth": [
           {
            "colorbar": {
             "outlinewidth": 0,
             "ticks": ""
            },
            "type": "choropleth"
           }
          ],
          "contour": [
           {
            "colorbar": {
             "outlinewidth": 0,
             "ticks": ""
            },
            "colorscale": [
             [
              0,
              "#0d0887"
             ],
             [
              0.1111111111111111,
              "#46039f"
             ],
             [
              0.2222222222222222,
              "#7201a8"
             ],
             [
              0.3333333333333333,
              "#9c179e"
             ],
             [
              0.4444444444444444,
              "#bd3786"
             ],
             [
              0.5555555555555556,
              "#d8576b"
             ],
             [
              0.6666666666666666,
              "#ed7953"
             ],
             [
              0.7777777777777778,
              "#fb9f3a"
             ],
             [
              0.8888888888888888,
              "#fdca26"
             ],
             [
              1,
              "#f0f921"
             ]
            ],
            "type": "contour"
           }
          ],
          "contourcarpet": [
           {
            "colorbar": {
             "outlinewidth": 0,
             "ticks": ""
            },
            "type": "contourcarpet"
           }
          ],
          "heatmap": [
           {
            "colorbar": {
             "outlinewidth": 0,
             "ticks": ""
            },
            "colorscale": [
             [
              0,
              "#0d0887"
             ],
             [
              0.1111111111111111,
              "#46039f"
             ],
             [
              0.2222222222222222,
              "#7201a8"
             ],
             [
              0.3333333333333333,
              "#9c179e"
             ],
             [
              0.4444444444444444,
              "#bd3786"
             ],
             [
              0.5555555555555556,
              "#d8576b"
             ],
             [
              0.6666666666666666,
              "#ed7953"
             ],
             [
              0.7777777777777778,
              "#fb9f3a"
             ],
             [
              0.8888888888888888,
              "#fdca26"
             ],
             [
              1,
              "#f0f921"
             ]
            ],
            "type": "heatmap"
           }
          ],
          "heatmapgl": [
           {
            "colorbar": {
             "outlinewidth": 0,
             "ticks": ""
            },
            "colorscale": [
             [
              0,
              "#0d0887"
             ],
             [
              0.1111111111111111,
              "#46039f"
             ],
             [
              0.2222222222222222,
              "#7201a8"
             ],
             [
              0.3333333333333333,
              "#9c179e"
             ],
             [
              0.4444444444444444,
              "#bd3786"
             ],
             [
              0.5555555555555556,
              "#d8576b"
             ],
             [
              0.6666666666666666,
              "#ed7953"
             ],
             [
              0.7777777777777778,
              "#fb9f3a"
             ],
             [
              0.8888888888888888,
              "#fdca26"
             ],
             [
              1,
              "#f0f921"
             ]
            ],
            "type": "heatmapgl"
           }
          ],
          "histogram": [
           {
            "marker": {
             "pattern": {
              "fillmode": "overlay",
              "size": 10,
              "solidity": 0.2
             }
            },
            "type": "histogram"
           }
          ],
          "histogram2d": [
           {
            "colorbar": {
             "outlinewidth": 0,
             "ticks": ""
            },
            "colorscale": [
             [
              0,
              "#0d0887"
             ],
             [
              0.1111111111111111,
              "#46039f"
             ],
             [
              0.2222222222222222,
              "#7201a8"
             ],
             [
              0.3333333333333333,
              "#9c179e"
             ],
             [
              0.4444444444444444,
              "#bd3786"
             ],
             [
              0.5555555555555556,
              "#d8576b"
             ],
             [
              0.6666666666666666,
              "#ed7953"
             ],
             [
              0.7777777777777778,
              "#fb9f3a"
             ],
             [
              0.8888888888888888,
              "#fdca26"
             ],
             [
              1,
              "#f0f921"
             ]
            ],
            "type": "histogram2d"
           }
          ],
          "histogram2dcontour": [
           {
            "colorbar": {
             "outlinewidth": 0,
             "ticks": ""
            },
            "colorscale": [
             [
              0,
              "#0d0887"
             ],
             [
              0.1111111111111111,
              "#46039f"
             ],
             [
              0.2222222222222222,
              "#7201a8"
             ],
             [
              0.3333333333333333,
              "#9c179e"
             ],
             [
              0.4444444444444444,
              "#bd3786"
             ],
             [
              0.5555555555555556,
              "#d8576b"
             ],
             [
              0.6666666666666666,
              "#ed7953"
             ],
             [
              0.7777777777777778,
              "#fb9f3a"
             ],
             [
              0.8888888888888888,
              "#fdca26"
             ],
             [
              1,
              "#f0f921"
             ]
            ],
            "type": "histogram2dcontour"
           }
          ],
          "mesh3d": [
           {
            "colorbar": {
             "outlinewidth": 0,
             "ticks": ""
            },
            "type": "mesh3d"
           }
          ],
          "parcoords": [
           {
            "line": {
             "colorbar": {
              "outlinewidth": 0,
              "ticks": ""
             }
            },
            "type": "parcoords"
           }
          ],
          "pie": [
           {
            "automargin": true,
            "type": "pie"
           }
          ],
          "scatter": [
           {
            "fillpattern": {
             "fillmode": "overlay",
             "size": 10,
             "solidity": 0.2
            },
            "type": "scatter"
           }
          ],
          "scatter3d": [
           {
            "line": {
             "colorbar": {
              "outlinewidth": 0,
              "ticks": ""
             }
            },
            "marker": {
             "colorbar": {
              "outlinewidth": 0,
              "ticks": ""
             }
            },
            "type": "scatter3d"
           }
          ],
          "scattercarpet": [
           {
            "marker": {
             "colorbar": {
              "outlinewidth": 0,
              "ticks": ""
             }
            },
            "type": "scattercarpet"
           }
          ],
          "scattergeo": [
           {
            "marker": {
             "colorbar": {
              "outlinewidth": 0,
              "ticks": ""
             }
            },
            "type": "scattergeo"
           }
          ],
          "scattergl": [
           {
            "marker": {
             "colorbar": {
              "outlinewidth": 0,
              "ticks": ""
             }
            },
            "type": "scattergl"
           }
          ],
          "scattermapbox": [
           {
            "marker": {
             "colorbar": {
              "outlinewidth": 0,
              "ticks": ""
             }
            },
            "type": "scattermapbox"
           }
          ],
          "scatterpolar": [
           {
            "marker": {
             "colorbar": {
              "outlinewidth": 0,
              "ticks": ""
             }
            },
            "type": "scatterpolar"
           }
          ],
          "scatterpolargl": [
           {
            "marker": {
             "colorbar": {
              "outlinewidth": 0,
              "ticks": ""
             }
            },
            "type": "scatterpolargl"
           }
          ],
          "scatterternary": [
           {
            "marker": {
             "colorbar": {
              "outlinewidth": 0,
              "ticks": ""
             }
            },
            "type": "scatterternary"
           }
          ],
          "surface": [
           {
            "colorbar": {
             "outlinewidth": 0,
             "ticks": ""
            },
            "colorscale": [
             [
              0,
              "#0d0887"
             ],
             [
              0.1111111111111111,
              "#46039f"
             ],
             [
              0.2222222222222222,
              "#7201a8"
             ],
             [
              0.3333333333333333,
              "#9c179e"
             ],
             [
              0.4444444444444444,
              "#bd3786"
             ],
             [
              0.5555555555555556,
              "#d8576b"
             ],
             [
              0.6666666666666666,
              "#ed7953"
             ],
             [
              0.7777777777777778,
              "#fb9f3a"
             ],
             [
              0.8888888888888888,
              "#fdca26"
             ],
             [
              1,
              "#f0f921"
             ]
            ],
            "type": "surface"
           }
          ],
          "table": [
           {
            "cells": {
             "fill": {
              "color": "#EBF0F8"
             },
             "line": {
              "color": "white"
             }
            },
            "header": {
             "fill": {
              "color": "#C8D4E3"
             },
             "line": {
              "color": "white"
             }
            },
            "type": "table"
           }
          ]
         },
         "layout": {
          "annotationdefaults": {
           "arrowcolor": "#2a3f5f",
           "arrowhead": 0,
           "arrowwidth": 1
          },
          "autotypenumbers": "strict",
          "coloraxis": {
           "colorbar": {
            "outlinewidth": 0,
            "ticks": ""
           }
          },
          "colorscale": {
           "diverging": [
            [
             0,
             "#8e0152"
            ],
            [
             0.1,
             "#c51b7d"
            ],
            [
             0.2,
             "#de77ae"
            ],
            [
             0.3,
             "#f1b6da"
            ],
            [
             0.4,
             "#fde0ef"
            ],
            [
             0.5,
             "#f7f7f7"
            ],
            [
             0.6,
             "#e6f5d0"
            ],
            [
             0.7,
             "#b8e186"
            ],
            [
             0.8,
             "#7fbc41"
            ],
            [
             0.9,
             "#4d9221"
            ],
            [
             1,
             "#276419"
            ]
           ],
           "sequential": [
            [
             0,
             "#0d0887"
            ],
            [
             0.1111111111111111,
             "#46039f"
            ],
            [
             0.2222222222222222,
             "#7201a8"
            ],
            [
             0.3333333333333333,
             "#9c179e"
            ],
            [
             0.4444444444444444,
             "#bd3786"
            ],
            [
             0.5555555555555556,
             "#d8576b"
            ],
            [
             0.6666666666666666,
             "#ed7953"
            ],
            [
             0.7777777777777778,
             "#fb9f3a"
            ],
            [
             0.8888888888888888,
             "#fdca26"
            ],
            [
             1,
             "#f0f921"
            ]
           ],
           "sequentialminus": [
            [
             0,
             "#0d0887"
            ],
            [
             0.1111111111111111,
             "#46039f"
            ],
            [
             0.2222222222222222,
             "#7201a8"
            ],
            [
             0.3333333333333333,
             "#9c179e"
            ],
            [
             0.4444444444444444,
             "#bd3786"
            ],
            [
             0.5555555555555556,
             "#d8576b"
            ],
            [
             0.6666666666666666,
             "#ed7953"
            ],
            [
             0.7777777777777778,
             "#fb9f3a"
            ],
            [
             0.8888888888888888,
             "#fdca26"
            ],
            [
             1,
             "#f0f921"
            ]
           ]
          },
          "colorway": [
           "#636efa",
           "#EF553B",
           "#00cc96",
           "#ab63fa",
           "#FFA15A",
           "#19d3f3",
           "#FF6692",
           "#B6E880",
           "#FF97FF",
           "#FECB52"
          ],
          "font": {
           "color": "#2a3f5f"
          },
          "geo": {
           "bgcolor": "white",
           "lakecolor": "white",
           "landcolor": "#E5ECF6",
           "showlakes": true,
           "showland": true,
           "subunitcolor": "white"
          },
          "hoverlabel": {
           "align": "left"
          },
          "hovermode": "closest",
          "mapbox": {
           "style": "light"
          },
          "paper_bgcolor": "white",
          "plot_bgcolor": "#E5ECF6",
          "polar": {
           "angularaxis": {
            "gridcolor": "white",
            "linecolor": "white",
            "ticks": ""
           },
           "bgcolor": "#E5ECF6",
           "radialaxis": {
            "gridcolor": "white",
            "linecolor": "white",
            "ticks": ""
           }
          },
          "scene": {
           "xaxis": {
            "backgroundcolor": "#E5ECF6",
            "gridcolor": "white",
            "gridwidth": 2,
            "linecolor": "white",
            "showbackground": true,
            "ticks": "",
            "zerolinecolor": "white"
           },
           "yaxis": {
            "backgroundcolor": "#E5ECF6",
            "gridcolor": "white",
            "gridwidth": 2,
            "linecolor": "white",
            "showbackground": true,
            "ticks": "",
            "zerolinecolor": "white"
           },
           "zaxis": {
            "backgroundcolor": "#E5ECF6",
            "gridcolor": "white",
            "gridwidth": 2,
            "linecolor": "white",
            "showbackground": true,
            "ticks": "",
            "zerolinecolor": "white"
           }
          },
          "shapedefaults": {
           "line": {
            "color": "#2a3f5f"
           }
          },
          "ternary": {
           "aaxis": {
            "gridcolor": "white",
            "linecolor": "white",
            "ticks": ""
           },
           "baxis": {
            "gridcolor": "white",
            "linecolor": "white",
            "ticks": ""
           },
           "bgcolor": "#E5ECF6",
           "caxis": {
            "gridcolor": "white",
            "linecolor": "white",
            "ticks": ""
           }
          },
          "title": {
           "x": 0.05
          },
          "xaxis": {
           "automargin": true,
           "gridcolor": "white",
           "linecolor": "white",
           "ticks": "",
           "title": {
            "standoff": 15
           },
           "zerolinecolor": "white",
           "zerolinewidth": 2
          },
          "yaxis": {
           "automargin": true,
           "gridcolor": "white",
           "linecolor": "white",
           "ticks": "",
           "title": {
            "standoff": 15
           },
           "zerolinecolor": "white",
           "zerolinewidth": 2
          }
         }
        },
        "xaxis": {
         "anchor": "y",
         "constrain": "domain",
         "domain": [
          0,
          1
         ],
         "scaleanchor": "y"
        },
        "yaxis": {
         "anchor": "x",
         "autorange": "reversed",
         "constrain": "domain",
         "domain": [
          0,
          1
         ]
        }
       }
      }
     },
     "metadata": {},
     "output_type": "display_data"
    },
    {
     "name": "stdout",
     "output_type": "stream",
     "text": [
      "else 6 False 1\n",
      "if 7 True 1\n",
      "hash_indOre 128\n",
      "hash_indIce 128\n",
      "hash_indFactories 128\n",
      "spawns 290 128\n",
      "invalid 364 128\n",
      "occupied 486 128\n",
      "inside map 255 2200\n",
      "valid spawns 96 920\n",
      "[35 11]\n"
     ]
    },
    {
     "data": {
      "application/vnd.plotly.v1+json": {
       "config": {
        "plotlyServerURL": "https://plot.ly"
       },
       "data": [
        {
         "hovertemplate": "x: %{x}<br>y: %{y}<br>color: [%{z[0]}, %{z[1]}, %{z[2]}]<extra></extra>",
         "name": "0",
         "source": "data:image/png;base64,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",
         "type": "image",
         "xaxis": "x",
         "yaxis": "y"
        }
       ],
       "layout": {
        "margin": {
         "t": 60
        },
        "template": {
         "data": {
          "bar": [
           {
            "error_x": {
             "color": "#2a3f5f"
            },
            "error_y": {
             "color": "#2a3f5f"
            },
            "marker": {
             "line": {
              "color": "#E5ECF6",
              "width": 0.5
             },
             "pattern": {
              "fillmode": "overlay",
              "size": 10,
              "solidity": 0.2
             }
            },
            "type": "bar"
           }
          ],
          "barpolar": [
           {
            "marker": {
             "line": {
              "color": "#E5ECF6",
              "width": 0.5
             },
             "pattern": {
              "fillmode": "overlay",
              "size": 10,
              "solidity": 0.2
             }
            },
            "type": "barpolar"
           }
          ],
          "carpet": [
           {
            "aaxis": {
             "endlinecolor": "#2a3f5f",
             "gridcolor": "white",
             "linecolor": "white",
             "minorgridcolor": "white",
             "startlinecolor": "#2a3f5f"
            },
            "baxis": {
             "endlinecolor": "#2a3f5f",
             "gridcolor": "white",
             "linecolor": "white",
             "minorgridcolor": "white",
             "startlinecolor": "#2a3f5f"
            },
            "type": "carpet"
           }
          ],
          "choropleth": [
           {
            "colorbar": {
             "outlinewidth": 0,
             "ticks": ""
            },
            "type": "choropleth"
           }
          ],
          "contour": [
           {
            "colorbar": {
             "outlinewidth": 0,
             "ticks": ""
            },
            "colorscale": [
             [
              0,
              "#0d0887"
             ],
             [
              0.1111111111111111,
              "#46039f"
             ],
             [
              0.2222222222222222,
              "#7201a8"
             ],
             [
              0.3333333333333333,
              "#9c179e"
             ],
             [
              0.4444444444444444,
              "#bd3786"
             ],
             [
              0.5555555555555556,
              "#d8576b"
             ],
             [
              0.6666666666666666,
              "#ed7953"
             ],
             [
              0.7777777777777778,
              "#fb9f3a"
             ],
             [
              0.8888888888888888,
              "#fdca26"
             ],
             [
              1,
              "#f0f921"
             ]
            ],
            "type": "contour"
           }
          ],
          "contourcarpet": [
           {
            "colorbar": {
             "outlinewidth": 0,
             "ticks": ""
            },
            "type": "contourcarpet"
           }
          ],
          "heatmap": [
           {
            "colorbar": {
             "outlinewidth": 0,
             "ticks": ""
            },
            "colorscale": [
             [
              0,
              "#0d0887"
             ],
             [
              0.1111111111111111,
              "#46039f"
             ],
             [
              0.2222222222222222,
              "#7201a8"
             ],
             [
              0.3333333333333333,
              "#9c179e"
             ],
             [
              0.4444444444444444,
              "#bd3786"
             ],
             [
              0.5555555555555556,
              "#d8576b"
             ],
             [
              0.6666666666666666,
              "#ed7953"
             ],
             [
              0.7777777777777778,
              "#fb9f3a"
             ],
             [
              0.8888888888888888,
              "#fdca26"
             ],
             [
              1,
              "#f0f921"
             ]
            ],
            "type": "heatmap"
           }
          ],
          "heatmapgl": [
           {
            "colorbar": {
             "outlinewidth": 0,
             "ticks": ""
            },
            "colorscale": [
             [
              0,
              "#0d0887"
             ],
             [
              0.1111111111111111,
              "#46039f"
             ],
             [
              0.2222222222222222,
              "#7201a8"
             ],
             [
              0.3333333333333333,
              "#9c179e"
             ],
             [
              0.4444444444444444,
              "#bd3786"
             ],
             [
              0.5555555555555556,
              "#d8576b"
             ],
             [
              0.6666666666666666,
              "#ed7953"
             ],
             [
              0.7777777777777778,
              "#fb9f3a"
             ],
             [
              0.8888888888888888,
              "#fdca26"
             ],
             [
              1,
              "#f0f921"
             ]
            ],
            "type": "heatmapgl"
           }
          ],
          "histogram": [
           {
            "marker": {
             "pattern": {
              "fillmode": "overlay",
              "size": 10,
              "solidity": 0.2
             }
            },
            "type": "histogram"
           }
          ],
          "histogram2d": [
           {
            "colorbar": {
             "outlinewidth": 0,
             "ticks": ""
            },
            "colorscale": [
             [
              0,
              "#0d0887"
             ],
             [
              0.1111111111111111,
              "#46039f"
             ],
             [
              0.2222222222222222,
              "#7201a8"
             ],
             [
              0.3333333333333333,
              "#9c179e"
             ],
             [
              0.4444444444444444,
              "#bd3786"
             ],
             [
              0.5555555555555556,
              "#d8576b"
             ],
             [
              0.6666666666666666,
              "#ed7953"
             ],
             [
              0.7777777777777778,
              "#fb9f3a"
             ],
             [
              0.8888888888888888,
              "#fdca26"
             ],
             [
              1,
              "#f0f921"
             ]
            ],
            "type": "histogram2d"
           }
          ],
          "histogram2dcontour": [
           {
            "colorbar": {
             "outlinewidth": 0,
             "ticks": ""
            },
            "colorscale": [
             [
              0,
              "#0d0887"
             ],
             [
              0.1111111111111111,
              "#46039f"
             ],
             [
              0.2222222222222222,
              "#7201a8"
             ],
             [
              0.3333333333333333,
              "#9c179e"
             ],
             [
              0.4444444444444444,
              "#bd3786"
             ],
             [
              0.5555555555555556,
              "#d8576b"
             ],
             [
              0.6666666666666666,
              "#ed7953"
             ],
             [
              0.7777777777777778,
              "#fb9f3a"
             ],
             [
              0.8888888888888888,
              "#fdca26"
             ],
             [
              1,
              "#f0f921"
             ]
            ],
            "type": "histogram2dcontour"
           }
          ],
          "mesh3d": [
           {
            "colorbar": {
             "outlinewidth": 0,
             "ticks": ""
            },
            "type": "mesh3d"
           }
          ],
          "parcoords": [
           {
            "line": {
             "colorbar": {
              "outlinewidth": 0,
              "ticks": ""
             }
            },
            "type": "parcoords"
           }
          ],
          "pie": [
           {
            "automargin": true,
            "type": "pie"
           }
          ],
          "scatter": [
           {
            "fillpattern": {
             "fillmode": "overlay",
             "size": 10,
             "solidity": 0.2
            },
            "type": "scatter"
           }
          ],
          "scatter3d": [
           {
            "line": {
             "colorbar": {
              "outlinewidth": 0,
              "ticks": ""
             }
            },
            "marker": {
             "colorbar": {
              "outlinewidth": 0,
              "ticks": ""
             }
            },
            "type": "scatter3d"
           }
          ],
          "scattercarpet": [
           {
            "marker": {
             "colorbar": {
              "outlinewidth": 0,
              "ticks": ""
             }
            },
            "type": "scattercarpet"
           }
          ],
          "scattergeo": [
           {
            "marker": {
             "colorbar": {
              "outlinewidth": 0,
              "ticks": ""
             }
            },
            "type": "scattergeo"
           }
          ],
          "scattergl": [
           {
            "marker": {
             "colorbar": {
              "outlinewidth": 0,
              "ticks": ""
             }
            },
            "type": "scattergl"
           }
          ],
          "scattermapbox": [
           {
            "marker": {
             "colorbar": {
              "outlinewidth": 0,
              "ticks": ""
             }
            },
            "type": "scattermapbox"
           }
          ],
          "scatterpolar": [
           {
            "marker": {
             "colorbar": {
              "outlinewidth": 0,
              "ticks": ""
             }
            },
            "type": "scatterpolar"
           }
          ],
          "scatterpolargl": [
           {
            "marker": {
             "colorbar": {
              "outlinewidth": 0,
              "ticks": ""
             }
            },
            "type": "scatterpolargl"
           }
          ],
          "scatterternary": [
           {
            "marker": {
             "colorbar": {
              "outlinewidth": 0,
              "ticks": ""
             }
            },
            "type": "scatterternary"
           }
          ],
          "surface": [
           {
            "colorbar": {
             "outlinewidth": 0,
             "ticks": ""
            },
            "colorscale": [
             [
              0,
              "#0d0887"
             ],
             [
              0.1111111111111111,
              "#46039f"
             ],
             [
              0.2222222222222222,
              "#7201a8"
             ],
             [
              0.3333333333333333,
              "#9c179e"
             ],
             [
              0.4444444444444444,
              "#bd3786"
             ],
             [
              0.5555555555555556,
              "#d8576b"
             ],
             [
              0.6666666666666666,
              "#ed7953"
             ],
             [
              0.7777777777777778,
              "#fb9f3a"
             ],
             [
              0.8888888888888888,
              "#fdca26"
             ],
             [
              1,
              "#f0f921"
             ]
            ],
            "type": "surface"
           }
          ],
          "table": [
           {
            "cells": {
             "fill": {
              "color": "#EBF0F8"
             },
             "line": {
              "color": "white"
             }
            },
            "header": {
             "fill": {
              "color": "#C8D4E3"
             },
             "line": {
              "color": "white"
             }
            },
            "type": "table"
           }
          ]
         },
         "layout": {
          "annotationdefaults": {
           "arrowcolor": "#2a3f5f",
           "arrowhead": 0,
           "arrowwidth": 1
          },
          "autotypenumbers": "strict",
          "coloraxis": {
           "colorbar": {
            "outlinewidth": 0,
            "ticks": ""
           }
          },
          "colorscale": {
           "diverging": [
            [
             0,
             "#8e0152"
            ],
            [
             0.1,
             "#c51b7d"
            ],
            [
             0.2,
             "#de77ae"
            ],
            [
             0.3,
             "#f1b6da"
            ],
            [
             0.4,
             "#fde0ef"
            ],
            [
             0.5,
             "#f7f7f7"
            ],
            [
             0.6,
             "#e6f5d0"
            ],
            [
             0.7,
             "#b8e186"
            ],
            [
             0.8,
             "#7fbc41"
            ],
            [
             0.9,
             "#4d9221"
            ],
            [
             1,
             "#276419"
            ]
           ],
           "sequential": [
            [
             0,
             "#0d0887"
            ],
            [
             0.1111111111111111,
             "#46039f"
            ],
            [
             0.2222222222222222,
             "#7201a8"
            ],
            [
             0.3333333333333333,
             "#9c179e"
            ],
            [
             0.4444444444444444,
             "#bd3786"
            ],
            [
             0.5555555555555556,
             "#d8576b"
            ],
            [
             0.6666666666666666,
             "#ed7953"
            ],
            [
             0.7777777777777778,
             "#fb9f3a"
            ],
            [
             0.8888888888888888,
             "#fdca26"
            ],
            [
             1,
             "#f0f921"
            ]
           ],
           "sequentialminus": [
            [
             0,
             "#0d0887"
            ],
            [
             0.1111111111111111,
             "#46039f"
            ],
            [
             0.2222222222222222,
             "#7201a8"
            ],
            [
             0.3333333333333333,
             "#9c179e"
            ],
            [
             0.4444444444444444,
             "#bd3786"
            ],
            [
             0.5555555555555556,
             "#d8576b"
            ],
            [
             0.6666666666666666,
             "#ed7953"
            ],
            [
             0.7777777777777778,
             "#fb9f3a"
            ],
            [
             0.8888888888888888,
             "#fdca26"
            ],
            [
             1,
             "#f0f921"
            ]
           ]
          },
          "colorway": [
           "#636efa",
           "#EF553B",
           "#00cc96",
           "#ab63fa",
           "#FFA15A",
           "#19d3f3",
           "#FF6692",
           "#B6E880",
           "#FF97FF",
           "#FECB52"
          ],
          "font": {
           "color": "#2a3f5f"
          },
          "geo": {
           "bgcolor": "white",
           "lakecolor": "white",
           "landcolor": "#E5ECF6",
           "showlakes": true,
           "showland": true,
           "subunitcolor": "white"
          },
          "hoverlabel": {
           "align": "left"
          },
          "hovermode": "closest",
          "mapbox": {
           "style": "light"
          },
          "paper_bgcolor": "white",
          "plot_bgcolor": "#E5ECF6",
          "polar": {
           "angularaxis": {
            "gridcolor": "white",
            "linecolor": "white",
            "ticks": ""
           },
           "bgcolor": "#E5ECF6",
           "radialaxis": {
            "gridcolor": "white",
            "linecolor": "white",
            "ticks": ""
           }
          },
          "scene": {
           "xaxis": {
            "backgroundcolor": "#E5ECF6",
            "gridcolor": "white",
            "gridwidth": 2,
            "linecolor": "white",
            "showbackground": true,
            "ticks": "",
            "zerolinecolor": "white"
           },
           "yaxis": {
            "backgroundcolor": "#E5ECF6",
            "gridcolor": "white",
            "gridwidth": 2,
            "linecolor": "white",
            "showbackground": true,
            "ticks": "",
            "zerolinecolor": "white"
           },
           "zaxis": {
            "backgroundcolor": "#E5ECF6",
            "gridcolor": "white",
            "gridwidth": 2,
            "linecolor": "white",
            "showbackground": true,
            "ticks": "",
            "zerolinecolor": "white"
           }
          },
          "shapedefaults": {
           "line": {
            "color": "#2a3f5f"
           }
          },
          "ternary": {
           "aaxis": {
            "gridcolor": "white",
            "linecolor": "white",
            "ticks": ""
           },
           "baxis": {
            "gridcolor": "white",
            "linecolor": "white",
            "ticks": ""
           },
           "bgcolor": "#E5ECF6",
           "caxis": {
            "gridcolor": "white",
            "linecolor": "white",
            "ticks": ""
           }
          },
          "title": {
           "x": 0.05
          },
          "xaxis": {
           "automargin": true,
           "gridcolor": "white",
           "linecolor": "white",
           "ticks": "",
           "title": {
            "standoff": 15
           },
           "zerolinecolor": "white",
           "zerolinewidth": 2
          },
          "yaxis": {
           "automargin": true,
           "gridcolor": "white",
           "linecolor": "white",
           "ticks": "",
           "title": {
            "standoff": 15
           },
           "zerolinecolor": "white",
           "zerolinewidth": 2
          }
         }
        },
        "xaxis": {
         "anchor": "y",
         "domain": [
          0,
          1
         ]
        },
        "yaxis": {
         "anchor": "x",
         "domain": [
          0,
          1
         ]
        }
       }
      }
     },
     "metadata": {},
     "output_type": "display_data"
    },
    {
     "data": {
      "application/vnd.plotly.v1+json": {
       "config": {
        "plotlyServerURL": "https://plot.ly"
       },
       "data": [
        {
         "coloraxis": "coloraxis",
         "hovertemplate": "x: %{x}<br>y: %{y}<br>color: %{z}<extra></extra>",
         "name": "0",
         "type": "heatmap",
         "xaxis": "x",
         "yaxis": "y",
         "z": [
          [
           0,
           0,
           0,
           0,
           0,
           0,
           0,
           0,
           0,
           0,
           0,
           0,
           0,
           0,
           0,
           0,
           0,
           0,
           0,
           0,
           0,
           0,
           0,
           0,
           0,
           0,
           0,
           0,
           0,
           0,
           0,
           0,
           0,
           0,
           0,
           0,
           0,
           0,
           0,
           0,
           0,
           0,
           0,
           0,
           0,
           0,
           0,
           0
          ],
          [
           0,
           255,
           255,
           255,
           255,
           0,
           0,
           0,
           0,
           0,
           255,
           255,
           255,
           255,
           255,
           255,
           255,
           255,
           255,
           255,
           255,
           255,
           255,
           255,
           255,
           255,
           255,
           255,
           255,
           255,
           255,
           255,
           255,
           255,
           255,
           255,
           255,
           255,
           255,
           255,
           255,
           255,
           255,
           255,
           255,
           255,
           255,
           0
          ],
          [
           0,
           255,
           255,
           255,
           0,
           0,
           0,
           0,
           0,
           0,
           255,
           255,
           255,
           255,
           255,
           255,
           255,
           255,
           255,
           255,
           255,
           255,
           255,
           255,
           255,
           255,
           255,
           255,
           255,
           255,
           255,
           255,
           255,
           255,
           255,
           255,
           255,
           255,
           255,
           255,
           255,
           255,
           255,
           255,
           255,
           255,
           255,
           0
          ],
          [
           0,
           255,
           255,
           0,
           0,
           0,
           0,
           0,
           0,
           0,
           255,
           255,
           255,
           255,
           255,
           255,
           255,
           255,
           255,
           255,
           255,
           255,
           255,
           255,
           255,
           255,
           255,
           255,
           255,
           255,
           255,
           255,
           255,
           255,
           255,
           255,
           255,
           255,
           255,
           255,
           255,
           255,
           255,
           255,
           255,
           255,
           255,
           0
          ],
          [
           0,
           255,
           0,
           0,
           0,
           0,
           0,
           0,
           0,
           255,
           255,
           0,
           0,
           0,
           255,
           255,
           255,
           255,
           255,
           255,
           0,
           255,
           255,
           255,
           255,
           255,
           255,
           255,
           255,
           255,
           255,
           255,
           255,
           255,
           255,
           255,
           255,
           255,
           255,
           255,
           255,
           255,
           255,
           255,
           255,
           255,
           255,
           0
          ],
          [
           0,
           0,
           0,
           0,
           0,
           0,
           0,
           0,
           0,
           0,
           0,
           0,
           0,
           0,
           255,
           255,
           255,
           255,
           255,
           0,
           0,
           0,
           255,
           255,
           255,
           255,
           255,
           255,
           255,
           255,
           255,
           255,
           255,
           255,
           255,
           255,
           255,
           255,
           255,
           255,
           255,
           255,
           255,
           255,
           255,
           255,
           255,
           0
          ],
          [
           0,
           0,
           0,
           0,
           0,
           0,
           0,
           0,
           0,
           0,
           0,
           0,
           0,
           0,
           255,
           255,
           255,
           255,
           0,
           0,
           0,
           0,
           0,
           255,
           255,
           255,
           255,
           255,
           255,
           255,
           255,
           255,
           255,
           255,
           255,
           255,
           255,
           255,
           255,
           255,
           255,
           255,
           255,
           255,
           255,
           255,
           255,
           0
          ],
          [
           0,
           0,
           0,
           0,
           0,
           0,
           0,
           0,
           0,
           0,
           0,
           0,
           0,
           255,
           255,
           255,
           255,
           0,
           0,
           0,
           0,
           0,
           0,
           0,
           255,
           255,
           255,
           255,
           255,
           255,
           255,
           255,
           255,
           255,
           255,
           255,
           255,
           255,
           255,
           255,
           255,
           255,
           255,
           255,
           255,
           255,
           255,
           0
          ],
          [
           0,
           0,
           0,
           0,
           0,
           0,
           0,
           0,
           0,
           0,
           0,
           255,
           255,
           255,
           255,
           255,
           0,
           0,
           0,
           0,
           0,
           0,
           0,
           0,
           0,
           255,
           255,
           255,
           255,
           255,
           255,
           255,
           255,
           0,
           0,
           0,
           255,
           255,
           255,
           255,
           255,
           255,
           255,
           255,
           255,
           255,
           255,
           0
          ],
          [
           0,
           0,
           0,
           0,
           0,
           0,
           0,
           0,
           0,
           0,
           255,
           255,
           255,
           255,
           255,
           0,
           0,
           0,
           0,
           0,
           0,
           0,
           0,
           0,
           0,
           0,
           255,
           255,
           255,
           255,
           255,
           255,
           255,
           0,
           0,
           0,
           255,
           255,
           255,
           255,
           255,
           255,
           255,
           255,
           255,
           255,
           255,
           0
          ],
          [
           0,
           255,
           0,
           0,
           0,
           0,
           0,
           0,
           0,
           255,
           255,
           255,
           255,
           255,
           0,
           0,
           0,
           0,
           0,
           0,
           0,
           0,
           0,
           0,
           0,
           0,
           0,
           255,
           255,
           255,
           255,
           255,
           255,
           0,
           0,
           0,
           255,
           255,
           255,
           255,
           255,
           0,
           0,
           0,
           255,
           255,
           255,
           0
          ],
          [
           0,
           255,
           255,
           0,
           0,
           0,
           0,
           0,
           255,
           255,
           255,
           255,
           255,
           255,
           255,
           0,
           0,
           0,
           0,
           0,
           0,
           0,
           0,
           0,
           0,
           0,
           255,
           255,
           255,
           255,
           255,
           255,
           255,
           255,
           255,
           255,
           255,
           255,
           255,
           255,
           255,
           0,
           0,
           0,
           255,
           255,
           255,
           0
          ],
          [
           0,
           255,
           255,
           255,
           0,
           0,
           0,
           255,
           255,
           255,
           255,
           255,
           255,
           255,
           255,
           255,
           0,
           0,
           0,
           0,
           0,
           0,
           0,
           0,
           0,
           255,
           255,
           255,
           255,
           255,
           0,
           255,
           255,
           0,
           0,
           0,
           255,
           255,
           255,
           255,
           255,
           0,
           0,
           0,
           255,
           255,
           0,
           0
          ],
          [
           0,
           255,
           255,
           255,
           255,
           0,
           255,
           255,
           255,
           255,
           255,
           255,
           255,
           255,
           255,
           255,
           0,
           0,
           0,
           0,
           0,
           0,
           0,
           0,
           255,
           255,
           255,
           255,
           255,
           0,
           0,
           0,
           255,
           0,
           0,
           0,
           255,
           255,
           255,
           255,
           255,
           255,
           255,
           255,
           255,
           0,
           0,
           0
          ],
          [
           0,
           255,
           255,
           255,
           255,
           255,
           255,
           255,
           255,
           255,
           255,
           255,
           255,
           255,
           255,
           255,
           0,
           0,
           0,
           0,
           0,
           0,
           0,
           255,
           255,
           255,
           255,
           255,
           0,
           0,
           0,
           0,
           0,
           0,
           0,
           0,
           255,
           255,
           255,
           255,
           255,
           255,
           255,
           255,
           255,
           0,
           0,
           0
          ],
          [
           0,
           255,
           255,
           255,
           255,
           255,
           255,
           255,
           255,
           0,
           0,
           0,
           255,
           255,
           255,
           255,
           0,
           0,
           0,
           0,
           0,
           0,
           255,
           255,
           255,
           255,
           255,
           0,
           0,
           0,
           0,
           0,
           0,
           0,
           0,
           0,
           255,
           255,
           255,
           255,
           255,
           255,
           255,
           255,
           255,
           0,
           0,
           0
          ],
          [
           0,
           255,
           255,
           255,
           255,
           255,
           255,
           255,
           255,
           0,
           0,
           0,
           255,
           255,
           255,
           255,
           255,
           255,
           255,
           255,
           0,
           255,
           255,
           255,
           255,
           255,
           0,
           0,
           0,
           0,
           0,
           0,
           0,
           0,
           0,
           0,
           255,
           255,
           255,
           255,
           255,
           255,
           255,
           255,
           255,
           255,
           255,
           0
          ],
          [
           0,
           255,
           255,
           255,
           255,
           0,
           0,
           0,
           255,
           0,
           0,
           0,
           255,
           255,
           255,
           255,
           255,
           255,
           255,
           255,
           255,
           255,
           255,
           255,
           255,
           0,
           0,
           0,
           0,
           0,
           0,
           0,
           0,
           0,
           0,
           0,
           255,
           255,
           255,
           255,
           255,
           255,
           255,
           255,
           255,
           255,
           255,
           0
          ],
          [
           0,
           255,
           255,
           255,
           255,
           0,
           0,
           0,
           255,
           255,
           255,
           255,
           255,
           255,
           255,
           255,
           255,
           255,
           255,
           255,
           255,
           255,
           255,
           255,
           0,
           0,
           0,
           0,
           0,
           0,
           0,
           0,
           0,
           0,
           0,
           0,
           0,
           255,
           255,
           255,
           255,
           255,
           255,
           255,
           255,
           255,
           255,
           0
          ],
          [
           0,
           255,
           255,
           255,
           255,
           0,
           0,
           0,
           255,
           255,
           255,
           255,
           255,
           255,
           255,
           255,
           255,
           255,
           255,
           255,
           255,
           255,
           255,
           255,
           255,
           0,
           0,
           0,
           0,
           0,
           0,
           0,
           0,
           0,
           0,
           0,
           255,
           255,
           255,
           255,
           255,
           255,
           255,
           0,
           0,
           0,
           255,
           0
          ],
          [
           0,
           255,
           255,
           255,
           255,
           255,
           255,
           255,
           255,
           255,
           255,
           255,
           255,
           255,
           255,
           255,
           255,
           255,
           255,
           255,
           255,
           255,
           255,
           0,
           0,
           0,
           0,
           0,
           0,
           0,
           0,
           0,
           0,
           0,
           0,
           0,
           0,
           0,
           255,
           255,
           255,
           255,
           0,
           0,
           0,
           0,
           255,
           0
          ],
          [
           0,
           255,
           255,
           255,
           255,
           255,
           255,
           255,
           255,
           255,
           255,
           255,
           255,
           255,
           255,
           255,
           255,
           255,
           255,
           255,
           255,
           255,
           255,
           0,
           0,
           0,
           0,
           0,
           0,
           0,
           0,
           0,
           0,
           0,
           255,
           0,
           0,
           0,
           255,
           255,
           255,
           255,
           0,
           0,
           0,
           0,
           255,
           0
          ],
          [
           0,
           255,
           255,
           255,
           255,
           255,
           255,
           255,
           255,
           255,
           255,
           255,
           255,
           255,
           255,
           255,
           255,
           255,
           255,
           255,
           255,
           255,
           255,
           0,
           0,
           0,
           0,
           0,
           0,
           0,
           0,
           0,
           0,
           255,
           255,
           0,
           0,
           0,
           255,
           255,
           255,
           255,
           0,
           0,
           0,
           0,
           255,
           0
          ],
          [
           0,
           255,
           255,
           255,
           255,
           255,
           255,
           255,
           255,
           255,
           255,
           255,
           255,
           255,
           255,
           255,
           255,
           0,
           255,
           255,
           255,
           255,
           255,
           0,
           0,
           0,
           0,
           0,
           255,
           0,
           0,
           0,
           0,
           0,
           255,
           255,
           255,
           255,
           255,
           255,
           255,
           255,
           0,
           0,
           0,
           0,
           255,
           0
          ],
          [
           0,
           255,
           255,
           255,
           255,
           255,
           255,
           255,
           255,
           255,
           255,
           255,
           255,
           255,
           255,
           255,
           0,
           0,
           0,
           255,
           255,
           255,
           255,
           0,
           0,
           0,
           0,
           0,
           0,
           0,
           0,
           0,
           0,
           0,
           0,
           255,
           255,
           255,
           255,
           255,
           255,
           255,
           0,
           0,
           0,
           0,
           255,
           0
          ],
          [
           0,
           255,
           255,
           255,
           255,
           255,
           255,
           255,
           255,
           255,
           255,
           255,
           255,
           255,
           255,
           0,
           0,
           0,
           0,
           0,
           255,
           255,
           255,
           0,
           0,
           0,
           0,
           0,
           0,
           0,
           0,
           0,
           0,
           0,
           0,
           0,
           255,
           255,
           255,
           255,
           255,
           255,
           0,
           0,
           0,
           0,
           255,
           0
          ],
          [
           0,
           255,
           255,
           255,
           255,
           255,
           255,
           255,
           255,
           255,
           255,
           255,
           255,
           255,
           0,
           0,
           0,
           0,
           0,
           0,
           0,
           255,
           255,
           0,
           0,
           0,
           0,
           0,
           0,
           0,
           0,
           0,
           0,
           0,
           0,
           0,
           0,
           255,
           255,
           255,
           255,
           255,
           0,
           0,
           0,
           0,
           255,
           0
          ],
          [
           0,
           255,
           255,
           255,
           255,
           255,
           255,
           255,
           255,
           255,
           255,
           255,
           255,
           0,
           0,
           0,
           0,
           0,
           0,
           0,
           0,
           0,
           255,
           0,
           0,
           0,
           0,
           0,
           0,
           0,
           0,
           0,
           0,
           0,
           0,
           0,
           0,
           0,
           255,
           255,
           0,
           255,
           0,
           0,
           0,
           0,
           255,
           0
          ],
          [
           0,
           255,
           255,
           255,
           255,
           255,
           255,
           255,
           255,
           255,
           255,
           255,
           0,
           0,
           0,
           0,
           0,
           0,
           0,
           0,
           0,
           0,
           0,
           255,
           255,
           255,
           0,
           0,
           0,
           0,
           0,
           0,
           0,
           0,
           0,
           0,
           0,
           255,
           255,
           0,
           0,
           0,
           255,
           0,
           0,
           0,
           255,
           0
          ],
          [
           0,
           255,
           255,
           255,
           255,
           255,
           255,
           255,
           255,
           255,
           255,
           0,
           0,
           0,
           0,
           0,
           0,
           0,
           0,
           0,
           0,
           0,
           0,
           0,
           255,
           255,
           255,
           0,
           0,
           0,
           0,
           0,
           0,
           0,
           0,
           0,
           255,
           255,
           0,
           0,
           0,
           0,
           0,
           255,
           255,
           255,
           255,
           0
          ],
          [
           0,
           255,
           255,
           255,
           255,
           255,
           255,
           255,
           255,
           0,
           0,
           0,
           0,
           0,
           0,
           0,
           0,
           0,
           0,
           0,
           0,
           0,
           0,
           255,
           255,
           255,
           255,
           255,
           0,
           0,
           0,
           0,
           0,
           0,
           0,
           255,
           255,
           0,
           0,
           0,
           0,
           0,
           0,
           0,
           255,
           255,
           255,
           0
          ],
          [
           0,
           255,
           255,
           255,
           255,
           255,
           255,
           255,
           255,
           0,
           0,
           0,
           255,
           0,
           0,
           0,
           0,
           0,
           0,
           0,
           0,
           0,
           255,
           255,
           255,
           255,
           255,
           255,
           255,
           0,
           0,
           0,
           0,
           0,
           255,
           255,
           0,
           0,
           0,
           0,
           0,
           0,
           0,
           0,
           0,
           255,
           255,
           0
          ],
          [
           0,
           255,
           255,
           255,
           255,
           255,
           255,
           255,
           255,
           0,
           0,
           0,
           255,
           255,
           0,
           0,
           0,
           0,
           0,
           0,
           0,
           255,
           255,
           255,
           255,
           255,
           255,
           255,
           255,
           255,
           0,
           0,
           0,
           255,
           255,
           0,
           0,
           0,
           0,
           0,
           0,
           0,
           0,
           0,
           0,
           0,
           0,
           0
          ],
          [
           0,
           255,
           255,
           255,
           255,
           255,
           255,
           255,
           255,
           255,
           255,
           255,
           255,
           255,
           255,
           0,
           0,
           0,
           0,
           0,
           255,
           255,
           255,
           255,
           255,
           0,
           0,
           0,
           255,
           255,
           255,
           0,
           255,
           255,
           0,
           0,
           0,
           0,
           0,
           0,
           0,
           0,
           0,
           0,
           0,
           0,
           0,
           0
          ],
          [
           0,
           255,
           255,
           255,
           255,
           255,
           255,
           255,
           255,
           255,
           255,
           255,
           255,
           255,
           255,
           255,
           0,
           0,
           0,
           255,
           255,
           255,
           255,
           255,
           255,
           0,
           0,
           0,
           255,
           255,
           255,
           255,
           255,
           255,
           255,
           0,
           0,
           0,
           0,
           0,
           0,
           0,
           0,
           0,
           0,
           0,
           0,
           0
          ],
          [
           0,
           255,
           255,
           255,
           255,
           255,
           255,
           255,
           255,
           255,
           255,
           255,
           255,
           255,
           255,
           255,
           255,
           0,
           255,
           255,
           255,
           255,
           255,
           255,
           255,
           0,
           0,
           0,
           255,
           255,
           255,
           255,
           255,
           255,
           255,
           255,
           0,
           0,
           0,
           0,
           0,
           0,
           0,
           0,
           0,
           255,
           0,
           0
          ],
          [
           0,
           255,
           0,
           0,
           0,
           255,
           255,
           255,
           255,
           255,
           255,
           255,
           255,
           255,
           255,
           255,
           255,
           255,
           255,
           255,
           255,
           255,
           255,
           255,
           255,
           255,
           255,
           255,
           255,
           255,
           255,
           255,
           255,
           255,
           255,
           255,
           255,
           0,
           0,
           0,
           0,
           0,
           0,
           0,
           255,
           255,
           255,
           0
          ],
          [
           0,
           255,
           0,
           0,
           0,
           255,
           255,
           255,
           255,
           255,
           255,
           255,
           255,
           255,
           255,
           255,
           255,
           255,
           255,
           255,
           255,
           255,
           255,
           255,
           255,
           255,
           255,
           255,
           255,
           255,
           255,
           255,
           255,
           255,
           255,
           255,
           255,
           255,
           0,
           0,
           0,
           0,
           0,
           0,
           255,
           255,
           255,
           0
          ],
          [
           0,
           255,
           0,
           0,
           0,
           255,
           255,
           255,
           255,
           255,
           255,
           255,
           255,
           255,
           255,
           255,
           255,
           255,
           255,
           255,
           255,
           255,
           255,
           255,
           255,
           255,
           255,
           255,
           255,
           255,
           255,
           255,
           255,
           255,
           255,
           255,
           255,
           255,
           255,
           0,
           0,
           0,
           255,
           255,
           255,
           255,
           255,
           0
          ],
          [
           0,
           0,
           0,
           0,
           255,
           255,
           255,
           255,
           255,
           255,
           255,
           255,
           255,
           255,
           255,
           255,
           255,
           255,
           255,
           255,
           255,
           255,
           255,
           255,
           255,
           255,
           255,
           255,
           255,
           255,
           255,
           255,
           255,
           255,
           255,
           255,
           255,
           255,
           255,
           255,
           0,
           255,
           255,
           255,
           255,
           255,
           255,
           0
          ],
          [
           0,
           0,
           0,
           0,
           255,
           255,
           255,
           255,
           255,
           255,
           255,
           255,
           255,
           255,
           255,
           255,
           255,
           255,
           255,
           255,
           255,
           255,
           255,
           255,
           255,
           255,
           255,
           255,
           255,
           255,
           255,
           255,
           255,
           255,
           255,
           255,
           255,
           255,
           255,
           255,
           255,
           255,
           255,
           255,
           255,
           255,
           255,
           0
          ],
          [
           0,
           0,
           0,
           0,
           255,
           0,
           0,
           0,
           255,
           255,
           255,
           0,
           0,
           0,
           255,
           255,
           255,
           255,
           255,
           255,
           255,
           255,
           255,
           255,
           255,
           255,
           255,
           255,
           255,
           255,
           255,
           255,
           255,
           255,
           255,
           255,
           255,
           255,
           255,
           255,
           255,
           255,
           255,
           255,
           255,
           255,
           255,
           0
          ],
          [
           0,
           255,
           255,
           255,
           0,
           0,
           0,
           0,
           0,
           255,
           255,
           0,
           0,
           0,
           255,
           255,
           255,
           255,
           255,
           255,
           255,
           255,
           255,
           255,
           255,
           255,
           255,
           255,
           255,
           255,
           255,
           255,
           255,
           255,
           255,
           255,
           255,
           255,
           255,
           255,
           255,
           255,
           255,
           255,
           255,
           255,
           255,
           0
          ],
          [
           0,
           255,
           255,
           255,
           0,
           0,
           0,
           0,
           0,
           0,
           255,
           0,
           0,
           0,
           255,
           255,
           255,
           255,
           255,
           255,
           255,
           255,
           255,
           255,
           255,
           255,
           255,
           255,
           255,
           255,
           255,
           255,
           255,
           255,
           255,
           255,
           255,
           255,
           255,
           255,
           255,
           255,
           255,
           255,
           255,
           255,
           255,
           0
          ],
          [
           0,
           255,
           255,
           255,
           0,
           0,
           0,
           0,
           0,
           0,
           255,
           255,
           255,
           255,
           255,
           255,
           255,
           255,
           0,
           0,
           0,
           0,
           0,
           0,
           255,
           255,
           255,
           255,
           255,
           255,
           255,
           255,
           255,
           255,
           255,
           255,
           255,
           255,
           255,
           255,
           255,
           255,
           255,
           255,
           255,
           255,
           255,
           0
          ],
          [
           0,
           255,
           255,
           255,
           255,
           0,
           0,
           0,
           0,
           0,
           255,
           255,
           255,
           255,
           255,
           255,
           255,
           255,
           0,
           0,
           0,
           0,
           0,
           0,
           255,
           255,
           255,
           255,
           255,
           255,
           255,
           255,
           255,
           255,
           255,
           255,
           255,
           255,
           255,
           255,
           255,
           255,
           255,
           255,
           255,
           255,
           255,
           0
          ],
          [
           0,
           255,
           255,
           255,
           255,
           0,
           0,
           0,
           0,
           255,
           255,
           255,
           255,
           255,
           255,
           255,
           255,
           255,
           0,
           0,
           0,
           0,
           0,
           0,
           255,
           255,
           255,
           255,
           255,
           255,
           255,
           255,
           255,
           255,
           255,
           255,
           255,
           255,
           255,
           255,
           255,
           255,
           255,
           255,
           255,
           255,
           255,
           0
          ],
          [
           0,
           0,
           0,
           0,
           0,
           0,
           0,
           0,
           0,
           0,
           0,
           0,
           0,
           0,
           0,
           0,
           0,
           0,
           0,
           0,
           0,
           0,
           0,
           0,
           0,
           0,
           0,
           0,
           0,
           0,
           0,
           0,
           0,
           0,
           0,
           0,
           0,
           0,
           0,
           0,
           0,
           0,
           0,
           0,
           0,
           0,
           0,
           0
          ]
         ]
        }
       ],
       "layout": {
        "coloraxis": {
         "colorscale": [
          [
           0,
           "#0d0887"
          ],
          [
           0.1111111111111111,
           "#46039f"
          ],
          [
           0.2222222222222222,
           "#7201a8"
          ],
          [
           0.3333333333333333,
           "#9c179e"
          ],
          [
           0.4444444444444444,
           "#bd3786"
          ],
          [
           0.5555555555555556,
           "#d8576b"
          ],
          [
           0.6666666666666666,
           "#ed7953"
          ],
          [
           0.7777777777777778,
           "#fb9f3a"
          ],
          [
           0.8888888888888888,
           "#fdca26"
          ],
          [
           1,
           "#f0f921"
          ]
         ]
        },
        "margin": {
         "t": 60
        },
        "template": {
         "data": {
          "bar": [
           {
            "error_x": {
             "color": "#2a3f5f"
            },
            "error_y": {
             "color": "#2a3f5f"
            },
            "marker": {
             "line": {
              "color": "#E5ECF6",
              "width": 0.5
             },
             "pattern": {
              "fillmode": "overlay",
              "size": 10,
              "solidity": 0.2
             }
            },
            "type": "bar"
           }
          ],
          "barpolar": [
           {
            "marker": {
             "line": {
              "color": "#E5ECF6",
              "width": 0.5
             },
             "pattern": {
              "fillmode": "overlay",
              "size": 10,
              "solidity": 0.2
             }
            },
            "type": "barpolar"
           }
          ],
          "carpet": [
           {
            "aaxis": {
             "endlinecolor": "#2a3f5f",
             "gridcolor": "white",
             "linecolor": "white",
             "minorgridcolor": "white",
             "startlinecolor": "#2a3f5f"
            },
            "baxis": {
             "endlinecolor": "#2a3f5f",
             "gridcolor": "white",
             "linecolor": "white",
             "minorgridcolor": "white",
             "startlinecolor": "#2a3f5f"
            },
            "type": "carpet"
           }
          ],
          "choropleth": [
           {
            "colorbar": {
             "outlinewidth": 0,
             "ticks": ""
            },
            "type": "choropleth"
           }
          ],
          "contour": [
           {
            "colorbar": {
             "outlinewidth": 0,
             "ticks": ""
            },
            "colorscale": [
             [
              0,
              "#0d0887"
             ],
             [
              0.1111111111111111,
              "#46039f"
             ],
             [
              0.2222222222222222,
              "#7201a8"
             ],
             [
              0.3333333333333333,
              "#9c179e"
             ],
             [
              0.4444444444444444,
              "#bd3786"
             ],
             [
              0.5555555555555556,
              "#d8576b"
             ],
             [
              0.6666666666666666,
              "#ed7953"
             ],
             [
              0.7777777777777778,
              "#fb9f3a"
             ],
             [
              0.8888888888888888,
              "#fdca26"
             ],
             [
              1,
              "#f0f921"
             ]
            ],
            "type": "contour"
           }
          ],
          "contourcarpet": [
           {
            "colorbar": {
             "outlinewidth": 0,
             "ticks": ""
            },
            "type": "contourcarpet"
           }
          ],
          "heatmap": [
           {
            "colorbar": {
             "outlinewidth": 0,
             "ticks": ""
            },
            "colorscale": [
             [
              0,
              "#0d0887"
             ],
             [
              0.1111111111111111,
              "#46039f"
             ],
             [
              0.2222222222222222,
              "#7201a8"
             ],
             [
              0.3333333333333333,
              "#9c179e"
             ],
             [
              0.4444444444444444,
              "#bd3786"
             ],
             [
              0.5555555555555556,
              "#d8576b"
             ],
             [
              0.6666666666666666,
              "#ed7953"
             ],
             [
              0.7777777777777778,
              "#fb9f3a"
             ],
             [
              0.8888888888888888,
              "#fdca26"
             ],
             [
              1,
              "#f0f921"
             ]
            ],
            "type": "heatmap"
           }
          ],
          "heatmapgl": [
           {
            "colorbar": {
             "outlinewidth": 0,
             "ticks": ""
            },
            "colorscale": [
             [
              0,
              "#0d0887"
             ],
             [
              0.1111111111111111,
              "#46039f"
             ],
             [
              0.2222222222222222,
              "#7201a8"
             ],
             [
              0.3333333333333333,
              "#9c179e"
             ],
             [
              0.4444444444444444,
              "#bd3786"
             ],
             [
              0.5555555555555556,
              "#d8576b"
             ],
             [
              0.6666666666666666,
              "#ed7953"
             ],
             [
              0.7777777777777778,
              "#fb9f3a"
             ],
             [
              0.8888888888888888,
              "#fdca26"
             ],
             [
              1,
              "#f0f921"
             ]
            ],
            "type": "heatmapgl"
           }
          ],
          "histogram": [
           {
            "marker": {
             "pattern": {
              "fillmode": "overlay",
              "size": 10,
              "solidity": 0.2
             }
            },
            "type": "histogram"
           }
          ],
          "histogram2d": [
           {
            "colorbar": {
             "outlinewidth": 0,
             "ticks": ""
            },
            "colorscale": [
             [
              0,
              "#0d0887"
             ],
             [
              0.1111111111111111,
              "#46039f"
             ],
             [
              0.2222222222222222,
              "#7201a8"
             ],
             [
              0.3333333333333333,
              "#9c179e"
             ],
             [
              0.4444444444444444,
              "#bd3786"
             ],
             [
              0.5555555555555556,
              "#d8576b"
             ],
             [
              0.6666666666666666,
              "#ed7953"
             ],
             [
              0.7777777777777778,
              "#fb9f3a"
             ],
             [
              0.8888888888888888,
              "#fdca26"
             ],
             [
              1,
              "#f0f921"
             ]
            ],
            "type": "histogram2d"
           }
          ],
          "histogram2dcontour": [
           {
            "colorbar": {
             "outlinewidth": 0,
             "ticks": ""
            },
            "colorscale": [
             [
              0,
              "#0d0887"
             ],
             [
              0.1111111111111111,
              "#46039f"
             ],
             [
              0.2222222222222222,
              "#7201a8"
             ],
             [
              0.3333333333333333,
              "#9c179e"
             ],
             [
              0.4444444444444444,
              "#bd3786"
             ],
             [
              0.5555555555555556,
              "#d8576b"
             ],
             [
              0.6666666666666666,
              "#ed7953"
             ],
             [
              0.7777777777777778,
              "#fb9f3a"
             ],
             [
              0.8888888888888888,
              "#fdca26"
             ],
             [
              1,
              "#f0f921"
             ]
            ],
            "type": "histogram2dcontour"
           }
          ],
          "mesh3d": [
           {
            "colorbar": {
             "outlinewidth": 0,
             "ticks": ""
            },
            "type": "mesh3d"
           }
          ],
          "parcoords": [
           {
            "line": {
             "colorbar": {
              "outlinewidth": 0,
              "ticks": ""
             }
            },
            "type": "parcoords"
           }
          ],
          "pie": [
           {
            "automargin": true,
            "type": "pie"
           }
          ],
          "scatter": [
           {
            "fillpattern": {
             "fillmode": "overlay",
             "size": 10,
             "solidity": 0.2
            },
            "type": "scatter"
           }
          ],
          "scatter3d": [
           {
            "line": {
             "colorbar": {
              "outlinewidth": 0,
              "ticks": ""
             }
            },
            "marker": {
             "colorbar": {
              "outlinewidth": 0,
              "ticks": ""
             }
            },
            "type": "scatter3d"
           }
          ],
          "scattercarpet": [
           {
            "marker": {
             "colorbar": {
              "outlinewidth": 0,
              "ticks": ""
             }
            },
            "type": "scattercarpet"
           }
          ],
          "scattergeo": [
           {
            "marker": {
             "colorbar": {
              "outlinewidth": 0,
              "ticks": ""
             }
            },
            "type": "scattergeo"
           }
          ],
          "scattergl": [
           {
            "marker": {
             "colorbar": {
              "outlinewidth": 0,
              "ticks": ""
             }
            },
            "type": "scattergl"
           }
          ],
          "scattermapbox": [
           {
            "marker": {
             "colorbar": {
              "outlinewidth": 0,
              "ticks": ""
             }
            },
            "type": "scattermapbox"
           }
          ],
          "scatterpolar": [
           {
            "marker": {
             "colorbar": {
              "outlinewidth": 0,
              "ticks": ""
             }
            },
            "type": "scatterpolar"
           }
          ],
          "scatterpolargl": [
           {
            "marker": {
             "colorbar": {
              "outlinewidth": 0,
              "ticks": ""
             }
            },
            "type": "scatterpolargl"
           }
          ],
          "scatterternary": [
           {
            "marker": {
             "colorbar": {
              "outlinewidth": 0,
              "ticks": ""
             }
            },
            "type": "scatterternary"
           }
          ],
          "surface": [
           {
            "colorbar": {
             "outlinewidth": 0,
             "ticks": ""
            },
            "colorscale": [
             [
              0,
              "#0d0887"
             ],
             [
              0.1111111111111111,
              "#46039f"
             ],
             [
              0.2222222222222222,
              "#7201a8"
             ],
             [
              0.3333333333333333,
              "#9c179e"
             ],
             [
              0.4444444444444444,
              "#bd3786"
             ],
             [
              0.5555555555555556,
              "#d8576b"
             ],
             [
              0.6666666666666666,
              "#ed7953"
             ],
             [
              0.7777777777777778,
              "#fb9f3a"
             ],
             [
              0.8888888888888888,
              "#fdca26"
             ],
             [
              1,
              "#f0f921"
             ]
            ],
            "type": "surface"
           }
          ],
          "table": [
           {
            "cells": {
             "fill": {
              "color": "#EBF0F8"
             },
             "line": {
              "color": "white"
             }
            },
            "header": {
             "fill": {
              "color": "#C8D4E3"
             },
             "line": {
              "color": "white"
             }
            },
            "type": "table"
           }
          ]
         },
         "layout": {
          "annotationdefaults": {
           "arrowcolor": "#2a3f5f",
           "arrowhead": 0,
           "arrowwidth": 1
          },
          "autotypenumbers": "strict",
          "coloraxis": {
           "colorbar": {
            "outlinewidth": 0,
            "ticks": ""
           }
          },
          "colorscale": {
           "diverging": [
            [
             0,
             "#8e0152"
            ],
            [
             0.1,
             "#c51b7d"
            ],
            [
             0.2,
             "#de77ae"
            ],
            [
             0.3,
             "#f1b6da"
            ],
            [
             0.4,
             "#fde0ef"
            ],
            [
             0.5,
             "#f7f7f7"
            ],
            [
             0.6,
             "#e6f5d0"
            ],
            [
             0.7,
             "#b8e186"
            ],
            [
             0.8,
             "#7fbc41"
            ],
            [
             0.9,
             "#4d9221"
            ],
            [
             1,
             "#276419"
            ]
           ],
           "sequential": [
            [
             0,
             "#0d0887"
            ],
            [
             0.1111111111111111,
             "#46039f"
            ],
            [
             0.2222222222222222,
             "#7201a8"
            ],
            [
             0.3333333333333333,
             "#9c179e"
            ],
            [
             0.4444444444444444,
             "#bd3786"
            ],
            [
             0.5555555555555556,
             "#d8576b"
            ],
            [
             0.6666666666666666,
             "#ed7953"
            ],
            [
             0.7777777777777778,
             "#fb9f3a"
            ],
            [
             0.8888888888888888,
             "#fdca26"
            ],
            [
             1,
             "#f0f921"
            ]
           ],
           "sequentialminus": [
            [
             0,
             "#0d0887"
            ],
            [
             0.1111111111111111,
             "#46039f"
            ],
            [
             0.2222222222222222,
             "#7201a8"
            ],
            [
             0.3333333333333333,
             "#9c179e"
            ],
            [
             0.4444444444444444,
             "#bd3786"
            ],
            [
             0.5555555555555556,
             "#d8576b"
            ],
            [
             0.6666666666666666,
             "#ed7953"
            ],
            [
             0.7777777777777778,
             "#fb9f3a"
            ],
            [
             0.8888888888888888,
             "#fdca26"
            ],
            [
             1,
             "#f0f921"
            ]
           ]
          },
          "colorway": [
           "#636efa",
           "#EF553B",
           "#00cc96",
           "#ab63fa",
           "#FFA15A",
           "#19d3f3",
           "#FF6692",
           "#B6E880",
           "#FF97FF",
           "#FECB52"
          ],
          "font": {
           "color": "#2a3f5f"
          },
          "geo": {
           "bgcolor": "white",
           "lakecolor": "white",
           "landcolor": "#E5ECF6",
           "showlakes": true,
           "showland": true,
           "subunitcolor": "white"
          },
          "hoverlabel": {
           "align": "left"
          },
          "hovermode": "closest",
          "mapbox": {
           "style": "light"
          },
          "paper_bgcolor": "white",
          "plot_bgcolor": "#E5ECF6",
          "polar": {
           "angularaxis": {
            "gridcolor": "white",
            "linecolor": "white",
            "ticks": ""
           },
           "bgcolor": "#E5ECF6",
           "radialaxis": {
            "gridcolor": "white",
            "linecolor": "white",
            "ticks": ""
           }
          },
          "scene": {
           "xaxis": {
            "backgroundcolor": "#E5ECF6",
            "gridcolor": "white",
            "gridwidth": 2,
            "linecolor": "white",
            "showbackground": true,
            "ticks": "",
            "zerolinecolor": "white"
           },
           "yaxis": {
            "backgroundcolor": "#E5ECF6",
            "gridcolor": "white",
            "gridwidth": 2,
            "linecolor": "white",
            "showbackground": true,
            "ticks": "",
            "zerolinecolor": "white"
           },
           "zaxis": {
            "backgroundcolor": "#E5ECF6",
            "gridcolor": "white",
            "gridwidth": 2,
            "linecolor": "white",
            "showbackground": true,
            "ticks": "",
            "zerolinecolor": "white"
           }
          },
          "shapedefaults": {
           "line": {
            "color": "#2a3f5f"
           }
          },
          "ternary": {
           "aaxis": {
            "gridcolor": "white",
            "linecolor": "white",
            "ticks": ""
           },
           "baxis": {
            "gridcolor": "white",
            "linecolor": "white",
            "ticks": ""
           },
           "bgcolor": "#E5ECF6",
           "caxis": {
            "gridcolor": "white",
            "linecolor": "white",
            "ticks": ""
           }
          },
          "title": {
           "x": 0.05
          },
          "xaxis": {
           "automargin": true,
           "gridcolor": "white",
           "linecolor": "white",
           "ticks": "",
           "title": {
            "standoff": 15
           },
           "zerolinecolor": "white",
           "zerolinewidth": 2
          },
          "yaxis": {
           "automargin": true,
           "gridcolor": "white",
           "linecolor": "white",
           "ticks": "",
           "title": {
            "standoff": 15
           },
           "zerolinecolor": "white",
           "zerolinewidth": 2
          }
         }
        },
        "xaxis": {
         "anchor": "y",
         "constrain": "domain",
         "domain": [
          0,
          1
         ],
         "scaleanchor": "y"
        },
        "yaxis": {
         "anchor": "x",
         "autorange": "reversed",
         "constrain": "domain",
         "domain": [
          0,
          1
         ]
        }
       }
      }
     },
     "metadata": {},
     "output_type": "display_data"
    },
    {
     "data": {
      "application/vnd.plotly.v1+json": {
       "config": {
        "plotlyServerURL": "https://plot.ly"
       },
       "data": [
        {
         "hovertemplate": "x: %{x}<br>y: %{y}<br>color: [%{z[0]}, %{z[1]}, %{z[2]}]<extra></extra>",
         "name": "0",
         "source": "data:image/png;base64,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",
         "type": "image",
         "xaxis": "x",
         "yaxis": "y"
        }
       ],
       "layout": {
        "margin": {
         "t": 60
        },
        "template": {
         "data": {
          "bar": [
           {
            "error_x": {
             "color": "#2a3f5f"
            },
            "error_y": {
             "color": "#2a3f5f"
            },
            "marker": {
             "line": {
              "color": "#E5ECF6",
              "width": 0.5
             },
             "pattern": {
              "fillmode": "overlay",
              "size": 10,
              "solidity": 0.2
             }
            },
            "type": "bar"
           }
          ],
          "barpolar": [
           {
            "marker": {
             "line": {
              "color": "#E5ECF6",
              "width": 0.5
             },
             "pattern": {
              "fillmode": "overlay",
              "size": 10,
              "solidity": 0.2
             }
            },
            "type": "barpolar"
           }
          ],
          "carpet": [
           {
            "aaxis": {
             "endlinecolor": "#2a3f5f",
             "gridcolor": "white",
             "linecolor": "white",
             "minorgridcolor": "white",
             "startlinecolor": "#2a3f5f"
            },
            "baxis": {
             "endlinecolor": "#2a3f5f",
             "gridcolor": "white",
             "linecolor": "white",
             "minorgridcolor": "white",
             "startlinecolor": "#2a3f5f"
            },
            "type": "carpet"
           }
          ],
          "choropleth": [
           {
            "colorbar": {
             "outlinewidth": 0,
             "ticks": ""
            },
            "type": "choropleth"
           }
          ],
          "contour": [
           {
            "colorbar": {
             "outlinewidth": 0,
             "ticks": ""
            },
            "colorscale": [
             [
              0,
              "#0d0887"
             ],
             [
              0.1111111111111111,
              "#46039f"
             ],
             [
              0.2222222222222222,
              "#7201a8"
             ],
             [
              0.3333333333333333,
              "#9c179e"
             ],
             [
              0.4444444444444444,
              "#bd3786"
             ],
             [
              0.5555555555555556,
              "#d8576b"
             ],
             [
              0.6666666666666666,
              "#ed7953"
             ],
             [
              0.7777777777777778,
              "#fb9f3a"
             ],
             [
              0.8888888888888888,
              "#fdca26"
             ],
             [
              1,
              "#f0f921"
             ]
            ],
            "type": "contour"
           }
          ],
          "contourcarpet": [
           {
            "colorbar": {
             "outlinewidth": 0,
             "ticks": ""
            },
            "type": "contourcarpet"
           }
          ],
          "heatmap": [
           {
            "colorbar": {
             "outlinewidth": 0,
             "ticks": ""
            },
            "colorscale": [
             [
              0,
              "#0d0887"
             ],
             [
              0.1111111111111111,
              "#46039f"
             ],
             [
              0.2222222222222222,
              "#7201a8"
             ],
             [
              0.3333333333333333,
              "#9c179e"
             ],
             [
              0.4444444444444444,
              "#bd3786"
             ],
             [
              0.5555555555555556,
              "#d8576b"
             ],
             [
              0.6666666666666666,
              "#ed7953"
             ],
             [
              0.7777777777777778,
              "#fb9f3a"
             ],
             [
              0.8888888888888888,
              "#fdca26"
             ],
             [
              1,
              "#f0f921"
             ]
            ],
            "type": "heatmap"
           }
          ],
          "heatmapgl": [
           {
            "colorbar": {
             "outlinewidth": 0,
             "ticks": ""
            },
            "colorscale": [
             [
              0,
              "#0d0887"
             ],
             [
              0.1111111111111111,
              "#46039f"
             ],
             [
              0.2222222222222222,
              "#7201a8"
             ],
             [
              0.3333333333333333,
              "#9c179e"
             ],
             [
              0.4444444444444444,
              "#bd3786"
             ],
             [
              0.5555555555555556,
              "#d8576b"
             ],
             [
              0.6666666666666666,
              "#ed7953"
             ],
             [
              0.7777777777777778,
              "#fb9f3a"
             ],
             [
              0.8888888888888888,
              "#fdca26"
             ],
             [
              1,
              "#f0f921"
             ]
            ],
            "type": "heatmapgl"
           }
          ],
          "histogram": [
           {
            "marker": {
             "pattern": {
              "fillmode": "overlay",
              "size": 10,
              "solidity": 0.2
             }
            },
            "type": "histogram"
           }
          ],
          "histogram2d": [
           {
            "colorbar": {
             "outlinewidth": 0,
             "ticks": ""
            },
            "colorscale": [
             [
              0,
              "#0d0887"
             ],
             [
              0.1111111111111111,
              "#46039f"
             ],
             [
              0.2222222222222222,
              "#7201a8"
             ],
             [
              0.3333333333333333,
              "#9c179e"
             ],
             [
              0.4444444444444444,
              "#bd3786"
             ],
             [
              0.5555555555555556,
              "#d8576b"
             ],
             [
              0.6666666666666666,
              "#ed7953"
             ],
             [
              0.7777777777777778,
              "#fb9f3a"
             ],
             [
              0.8888888888888888,
              "#fdca26"
             ],
             [
              1,
              "#f0f921"
             ]
            ],
            "type": "histogram2d"
           }
          ],
          "histogram2dcontour": [
           {
            "colorbar": {
             "outlinewidth": 0,
             "ticks": ""
            },
            "colorscale": [
             [
              0,
              "#0d0887"
             ],
             [
              0.1111111111111111,
              "#46039f"
             ],
             [
              0.2222222222222222,
              "#7201a8"
             ],
             [
              0.3333333333333333,
              "#9c179e"
             ],
             [
              0.4444444444444444,
              "#bd3786"
             ],
             [
              0.5555555555555556,
              "#d8576b"
             ],
             [
              0.6666666666666666,
              "#ed7953"
             ],
             [
              0.7777777777777778,
              "#fb9f3a"
             ],
             [
              0.8888888888888888,
              "#fdca26"
             ],
             [
              1,
              "#f0f921"
             ]
            ],
            "type": "histogram2dcontour"
           }
          ],
          "mesh3d": [
           {
            "colorbar": {
             "outlinewidth": 0,
             "ticks": ""
            },
            "type": "mesh3d"
           }
          ],
          "parcoords": [
           {
            "line": {
             "colorbar": {
              "outlinewidth": 0,
              "ticks": ""
             }
            },
            "type": "parcoords"
           }
          ],
          "pie": [
           {
            "automargin": true,
            "type": "pie"
           }
          ],
          "scatter": [
           {
            "fillpattern": {
             "fillmode": "overlay",
             "size": 10,
             "solidity": 0.2
            },
            "type": "scatter"
           }
          ],
          "scatter3d": [
           {
            "line": {
             "colorbar": {
              "outlinewidth": 0,
              "ticks": ""
             }
            },
            "marker": {
             "colorbar": {
              "outlinewidth": 0,
              "ticks": ""
             }
            },
            "type": "scatter3d"
           }
          ],
          "scattercarpet": [
           {
            "marker": {
             "colorbar": {
              "outlinewidth": 0,
              "ticks": ""
             }
            },
            "type": "scattercarpet"
           }
          ],
          "scattergeo": [
           {
            "marker": {
             "colorbar": {
              "outlinewidth": 0,
              "ticks": ""
             }
            },
            "type": "scattergeo"
           }
          ],
          "scattergl": [
           {
            "marker": {
             "colorbar": {
              "outlinewidth": 0,
              "ticks": ""
             }
            },
            "type": "scattergl"
           }
          ],
          "scattermapbox": [
           {
            "marker": {
             "colorbar": {
              "outlinewidth": 0,
              "ticks": ""
             }
            },
            "type": "scattermapbox"
           }
          ],
          "scatterpolar": [
           {
            "marker": {
             "colorbar": {
              "outlinewidth": 0,
              "ticks": ""
             }
            },
            "type": "scatterpolar"
           }
          ],
          "scatterpolargl": [
           {
            "marker": {
             "colorbar": {
              "outlinewidth": 0,
              "ticks": ""
             }
            },
            "type": "scatterpolargl"
           }
          ],
          "scatterternary": [
           {
            "marker": {
             "colorbar": {
              "outlinewidth": 0,
              "ticks": ""
             }
            },
            "type": "scatterternary"
           }
          ],
          "surface": [
           {
            "colorbar": {
             "outlinewidth": 0,
             "ticks": ""
            },
            "colorscale": [
             [
              0,
              "#0d0887"
             ],
             [
              0.1111111111111111,
              "#46039f"
             ],
             [
              0.2222222222222222,
              "#7201a8"
             ],
             [
              0.3333333333333333,
              "#9c179e"
             ],
             [
              0.4444444444444444,
              "#bd3786"
             ],
             [
              0.5555555555555556,
              "#d8576b"
             ],
             [
              0.6666666666666666,
              "#ed7953"
             ],
             [
              0.7777777777777778,
              "#fb9f3a"
             ],
             [
              0.8888888888888888,
              "#fdca26"
             ],
             [
              1,
              "#f0f921"
             ]
            ],
            "type": "surface"
           }
          ],
          "table": [
           {
            "cells": {
             "fill": {
              "color": "#EBF0F8"
             },
             "line": {
              "color": "white"
             }
            },
            "header": {
             "fill": {
              "color": "#C8D4E3"
             },
             "line": {
              "color": "white"
             }
            },
            "type": "table"
           }
          ]
         },
         "layout": {
          "annotationdefaults": {
           "arrowcolor": "#2a3f5f",
           "arrowhead": 0,
           "arrowwidth": 1
          },
          "autotypenumbers": "strict",
          "coloraxis": {
           "colorbar": {
            "outlinewidth": 0,
            "ticks": ""
           }
          },
          "colorscale": {
           "diverging": [
            [
             0,
             "#8e0152"
            ],
            [
             0.1,
             "#c51b7d"
            ],
            [
             0.2,
             "#de77ae"
            ],
            [
             0.3,
             "#f1b6da"
            ],
            [
             0.4,
             "#fde0ef"
            ],
            [
             0.5,
             "#f7f7f7"
            ],
            [
             0.6,
             "#e6f5d0"
            ],
            [
             0.7,
             "#b8e186"
            ],
            [
             0.8,
             "#7fbc41"
            ],
            [
             0.9,
             "#4d9221"
            ],
            [
             1,
             "#276419"
            ]
           ],
           "sequential": [
            [
             0,
             "#0d0887"
            ],
            [
             0.1111111111111111,
             "#46039f"
            ],
            [
             0.2222222222222222,
             "#7201a8"
            ],
            [
             0.3333333333333333,
             "#9c179e"
            ],
            [
             0.4444444444444444,
             "#bd3786"
            ],
            [
             0.5555555555555556,
             "#d8576b"
            ],
            [
             0.6666666666666666,
             "#ed7953"
            ],
            [
             0.7777777777777778,
             "#fb9f3a"
            ],
            [
             0.8888888888888888,
             "#fdca26"
            ],
            [
             1,
             "#f0f921"
            ]
           ],
           "sequentialminus": [
            [
             0,
             "#0d0887"
            ],
            [
             0.1111111111111111,
             "#46039f"
            ],
            [
             0.2222222222222222,
             "#7201a8"
            ],
            [
             0.3333333333333333,
             "#9c179e"
            ],
            [
             0.4444444444444444,
             "#bd3786"
            ],
            [
             0.5555555555555556,
             "#d8576b"
            ],
            [
             0.6666666666666666,
             "#ed7953"
            ],
            [
             0.7777777777777778,
             "#fb9f3a"
            ],
            [
             0.8888888888888888,
             "#fdca26"
            ],
            [
             1,
             "#f0f921"
            ]
           ]
          },
          "colorway": [
           "#636efa",
           "#EF553B",
           "#00cc96",
           "#ab63fa",
           "#FFA15A",
           "#19d3f3",
           "#FF6692",
           "#B6E880",
           "#FF97FF",
           "#FECB52"
          ],
          "font": {
           "color": "#2a3f5f"
          },
          "geo": {
           "bgcolor": "white",
           "lakecolor": "white",
           "landcolor": "#E5ECF6",
           "showlakes": true,
           "showland": true,
           "subunitcolor": "white"
          },
          "hoverlabel": {
           "align": "left"
          },
          "hovermode": "closest",
          "mapbox": {
           "style": "light"
          },
          "paper_bgcolor": "white",
          "plot_bgcolor": "#E5ECF6",
          "polar": {
           "angularaxis": {
            "gridcolor": "white",
            "linecolor": "white",
            "ticks": ""
           },
           "bgcolor": "#E5ECF6",
           "radialaxis": {
            "gridcolor": "white",
            "linecolor": "white",
            "ticks": ""
           }
          },
          "scene": {
           "xaxis": {
            "backgroundcolor": "#E5ECF6",
            "gridcolor": "white",
            "gridwidth": 2,
            "linecolor": "white",
            "showbackground": true,
            "ticks": "",
            "zerolinecolor": "white"
           },
           "yaxis": {
            "backgroundcolor": "#E5ECF6",
            "gridcolor": "white",
            "gridwidth": 2,
            "linecolor": "white",
            "showbackground": true,
            "ticks": "",
            "zerolinecolor": "white"
           },
           "zaxis": {
            "backgroundcolor": "#E5ECF6",
            "gridcolor": "white",
            "gridwidth": 2,
            "linecolor": "white",
            "showbackground": true,
            "ticks": "",
            "zerolinecolor": "white"
           }
          },
          "shapedefaults": {
           "line": {
            "color": "#2a3f5f"
           }
          },
          "ternary": {
           "aaxis": {
            "gridcolor": "white",
            "linecolor": "white",
            "ticks": ""
           },
           "baxis": {
            "gridcolor": "white",
            "linecolor": "white",
            "ticks": ""
           },
           "bgcolor": "#E5ECF6",
           "caxis": {
            "gridcolor": "white",
            "linecolor": "white",
            "ticks": ""
           }
          },
          "title": {
           "x": 0.05
          },
          "xaxis": {
           "automargin": true,
           "gridcolor": "white",
           "linecolor": "white",
           "ticks": "",
           "title": {
            "standoff": 15
           },
           "zerolinecolor": "white",
           "zerolinewidth": 2
          },
          "yaxis": {
           "automargin": true,
           "gridcolor": "white",
           "linecolor": "white",
           "ticks": "",
           "title": {
            "standoff": 15
           },
           "zerolinecolor": "white",
           "zerolinewidth": 2
          }
         }
        },
        "xaxis": {
         "anchor": "y",
         "domain": [
          0,
          1
         ]
        },
        "yaxis": {
         "anchor": "x",
         "domain": [
          0,
          1
         ]
        }
       }
      }
     },
     "metadata": {},
     "output_type": "display_data"
    },
    {
     "data": {
      "application/vnd.plotly.v1+json": {
       "config": {
        "plotlyServerURL": "https://plot.ly"
       },
       "data": [
        {
         "coloraxis": "coloraxis",
         "hovertemplate": "x: %{x}<br>y: %{y}<br>color: %{z}<extra></extra>",
         "name": "0",
         "type": "heatmap",
         "xaxis": "x",
         "yaxis": "y",
         "z": [
          [
           0,
           0,
           0,
           0,
           0,
           0,
           0,
           0,
           0,
           0,
           0,
           0,
           0,
           0,
           0,
           0,
           0,
           0,
           0,
           0,
           0,
           0,
           0,
           0,
           0,
           0,
           0,
           0,
           0,
           0,
           0,
           0,
           0,
           0,
           0,
           0,
           0,
           0,
           0,
           0,
           0,
           0,
           0,
           0,
           0,
           0,
           0,
           0
          ],
          [
           0,
           255,
           255,
           255,
           255,
           0,
           0,
           0,
           0,
           0,
           255,
           255,
           255,
           255,
           255,
           255,
           255,
           255,
           255,
           255,
           255,
           255,
           255,
           255,
           255,
           255,
           255,
           255,
           255,
           255,
           255,
           255,
           255,
           255,
           255,
           255,
           255,
           255,
           255,
           255,
           255,
           255,
           255,
           255,
           255,
           255,
           255,
           0
          ],
          [
           0,
           255,
           255,
           255,
           0,
           0,
           0,
           0,
           0,
           0,
           255,
           255,
           255,
           255,
           255,
           255,
           255,
           255,
           255,
           255,
           255,
           255,
           255,
           255,
           255,
           255,
           255,
           255,
           255,
           255,
           255,
           255,
           255,
           255,
           255,
           255,
           255,
           255,
           255,
           255,
           255,
           255,
           255,
           255,
           255,
           255,
           255,
           0
          ],
          [
           0,
           255,
           255,
           0,
           0,
           0,
           0,
           0,
           0,
           0,
           255,
           255,
           255,
           255,
           255,
           255,
           255,
           255,
           255,
           255,
           255,
           255,
           255,
           255,
           255,
           255,
           255,
           255,
           255,
           255,
           255,
           255,
           255,
           255,
           255,
           255,
           255,
           255,
           255,
           255,
           255,
           255,
           255,
           255,
           255,
           255,
           255,
           0
          ],
          [
           0,
           255,
           0,
           0,
           0,
           0,
           0,
           0,
           0,
           255,
           255,
           0,
           0,
           0,
           255,
           255,
           255,
           255,
           255,
           255,
           0,
           255,
           255,
           255,
           255,
           255,
           255,
           255,
           255,
           255,
           255,
           255,
           255,
           255,
           255,
           255,
           255,
           255,
           255,
           255,
           255,
           255,
           255,
           255,
           255,
           255,
           255,
           0
          ],
          [
           0,
           0,
           0,
           0,
           0,
           0,
           0,
           0,
           0,
           0,
           0,
           0,
           0,
           0,
           255,
           255,
           255,
           255,
           255,
           0,
           0,
           0,
           255,
           255,
           255,
           255,
           255,
           255,
           255,
           255,
           255,
           255,
           255,
           255,
           255,
           0,
           255,
           255,
           255,
           255,
           255,
           255,
           255,
           255,
           255,
           255,
           255,
           0
          ],
          [
           0,
           0,
           0,
           0,
           0,
           0,
           0,
           0,
           0,
           0,
           0,
           0,
           0,
           0,
           255,
           255,
           255,
           255,
           0,
           0,
           0,
           0,
           0,
           255,
           255,
           255,
           255,
           255,
           255,
           255,
           255,
           255,
           255,
           255,
           0,
           0,
           0,
           255,
           255,
           255,
           255,
           255,
           255,
           255,
           255,
           255,
           255,
           0
          ],
          [
           0,
           0,
           0,
           0,
           0,
           0,
           0,
           0,
           0,
           0,
           0,
           0,
           0,
           255,
           255,
           255,
           255,
           0,
           0,
           0,
           0,
           0,
           0,
           0,
           255,
           255,
           255,
           255,
           255,
           255,
           255,
           255,
           255,
           0,
           0,
           0,
           0,
           0,
           255,
           255,
           255,
           255,
           255,
           255,
           255,
           255,
           255,
           0
          ],
          [
           0,
           0,
           0,
           0,
           0,
           0,
           0,
           0,
           0,
           0,
           0,
           255,
           255,
           255,
           255,
           255,
           0,
           0,
           0,
           0,
           0,
           0,
           0,
           0,
           0,
           255,
           255,
           255,
           255,
           255,
           255,
           255,
           0,
           0,
           0,
           0,
           0,
           0,
           0,
           255,
           255,
           255,
           255,
           255,
           255,
           255,
           255,
           0
          ],
          [
           0,
           0,
           0,
           0,
           0,
           0,
           0,
           0,
           0,
           0,
           255,
           255,
           255,
           255,
           255,
           0,
           0,
           0,
           0,
           0,
           0,
           0,
           0,
           0,
           0,
           0,
           255,
           255,
           255,
           255,
           255,
           0,
           0,
           0,
           0,
           0,
           0,
           0,
           0,
           0,
           255,
           255,
           255,
           255,
           255,
           255,
           255,
           0
          ],
          [
           0,
           255,
           0,
           0,
           0,
           0,
           0,
           0,
           0,
           255,
           255,
           255,
           255,
           255,
           0,
           0,
           0,
           0,
           0,
           0,
           0,
           0,
           0,
           0,
           0,
           0,
           0,
           255,
           255,
           255,
           0,
           0,
           0,
           0,
           0,
           0,
           0,
           0,
           0,
           0,
           0,
           0,
           0,
           0,
           255,
           255,
           255,
           0
          ],
          [
           0,
           255,
           255,
           0,
           0,
           0,
           0,
           0,
           255,
           255,
           255,
           255,
           255,
           255,
           255,
           0,
           0,
           0,
           0,
           0,
           0,
           0,
           0,
           0,
           0,
           0,
           255,
           255,
           255,
           0,
           0,
           0,
           0,
           0,
           0,
           0,
           0,
           0,
           0,
           0,
           0,
           0,
           0,
           0,
           255,
           255,
           255,
           0
          ],
          [
           0,
           255,
           255,
           255,
           0,
           0,
           0,
           255,
           255,
           255,
           255,
           255,
           255,
           255,
           255,
           255,
           0,
           0,
           0,
           0,
           0,
           0,
           0,
           0,
           0,
           255,
           255,
           255,
           255,
           255,
           0,
           0,
           0,
           0,
           0,
           0,
           0,
           0,
           0,
           0,
           0,
           0,
           0,
           0,
           255,
           255,
           0,
           0
          ],
          [
           0,
           255,
           255,
           255,
           255,
           0,
           255,
           255,
           255,
           255,
           255,
           255,
           255,
           255,
           255,
           255,
           0,
           0,
           0,
           0,
           0,
           0,
           0,
           0,
           255,
           255,
           255,
           255,
           255,
           0,
           0,
           0,
           0,
           0,
           0,
           0,
           0,
           0,
           0,
           0,
           255,
           255,
           255,
           255,
           255,
           0,
           0,
           0
          ],
          [
           0,
           255,
           255,
           255,
           255,
           255,
           255,
           255,
           255,
           255,
           255,
           255,
           255,
           255,
           255,
           255,
           0,
           0,
           0,
           0,
           0,
           0,
           0,
           255,
           255,
           255,
           255,
           255,
           0,
           0,
           0,
           0,
           0,
           0,
           0,
           0,
           0,
           0,
           0,
           255,
           255,
           255,
           255,
           255,
           255,
           0,
           0,
           0
          ],
          [
           0,
           255,
           255,
           255,
           255,
           255,
           255,
           255,
           255,
           0,
           0,
           0,
           255,
           255,
           255,
           255,
           0,
           0,
           0,
           0,
           0,
           0,
           255,
           255,
           255,
           255,
           255,
           0,
           0,
           0,
           0,
           0,
           0,
           0,
           0,
           0,
           0,
           0,
           255,
           255,
           255,
           255,
           255,
           255,
           255,
           0,
           0,
           0
          ],
          [
           0,
           255,
           255,
           255,
           255,
           255,
           255,
           255,
           255,
           0,
           0,
           0,
           255,
           255,
           255,
           255,
           255,
           255,
           255,
           255,
           0,
           255,
           255,
           255,
           255,
           255,
           0,
           0,
           0,
           0,
           0,
           0,
           0,
           0,
           0,
           0,
           0,
           255,
           255,
           255,
           255,
           255,
           255,
           255,
           255,
           255,
           255,
           0
          ],
          [
           0,
           255,
           255,
           255,
           255,
           0,
           0,
           0,
           255,
           0,
           0,
           0,
           255,
           255,
           255,
           255,
           255,
           255,
           255,
           255,
           255,
           255,
           255,
           255,
           255,
           0,
           0,
           0,
           0,
           0,
           0,
           0,
           0,
           0,
           0,
           0,
           255,
           255,
           255,
           255,
           255,
           255,
           255,
           255,
           255,
           255,
           255,
           0
          ],
          [
           0,
           255,
           255,
           255,
           255,
           0,
           0,
           0,
           255,
           255,
           255,
           255,
           255,
           255,
           255,
           255,
           255,
           255,
           255,
           255,
           255,
           255,
           255,
           255,
           0,
           0,
           0,
           0,
           0,
           0,
           0,
           0,
           0,
           0,
           0,
           0,
           0,
           255,
           255,
           255,
           255,
           255,
           255,
           255,
           255,
           255,
           255,
           0
          ],
          [
           0,
           255,
           255,
           255,
           255,
           0,
           0,
           0,
           255,
           255,
           255,
           255,
           255,
           255,
           255,
           255,
           255,
           255,
           255,
           255,
           255,
           255,
           255,
           255,
           255,
           0,
           0,
           0,
           0,
           0,
           0,
           0,
           0,
           0,
           0,
           0,
           255,
           255,
           255,
           255,
           255,
           255,
           255,
           0,
           0,
           0,
           255,
           0
          ],
          [
           0,
           255,
           255,
           255,
           255,
           255,
           255,
           255,
           255,
           255,
           255,
           255,
           255,
           255,
           255,
           255,
           255,
           255,
           255,
           255,
           255,
           255,
           255,
           0,
           0,
           0,
           0,
           0,
           0,
           0,
           0,
           0,
           0,
           0,
           0,
           0,
           0,
           0,
           255,
           255,
           255,
           255,
           0,
           0,
           0,
           0,
           255,
           0
          ],
          [
           0,
           255,
           255,
           255,
           255,
           255,
           255,
           255,
           255,
           255,
           255,
           255,
           255,
           255,
           255,
           255,
           255,
           255,
           255,
           255,
           255,
           255,
           255,
           0,
           0,
           0,
           0,
           0,
           0,
           0,
           0,
           0,
           0,
           0,
           255,
           0,
           0,
           0,
           255,
           255,
           255,
           255,
           0,
           0,
           0,
           0,
           255,
           0
          ],
          [
           0,
           255,
           255,
           255,
           255,
           255,
           255,
           255,
           255,
           255,
           255,
           255,
           255,
           255,
           255,
           255,
           255,
           255,
           255,
           255,
           255,
           255,
           255,
           0,
           0,
           0,
           0,
           0,
           0,
           0,
           0,
           0,
           0,
           255,
           255,
           0,
           0,
           0,
           255,
           255,
           255,
           255,
           0,
           0,
           0,
           0,
           255,
           0
          ],
          [
           0,
           255,
           255,
           255,
           255,
           255,
           255,
           255,
           255,
           255,
           255,
           255,
           255,
           255,
           255,
           255,
           255,
           0,
           255,
           255,
           255,
           255,
           255,
           0,
           0,
           0,
           0,
           0,
           255,
           0,
           0,
           0,
           0,
           0,
           255,
           255,
           255,
           255,
           255,
           255,
           255,
           255,
           0,
           0,
           0,
           0,
           255,
           0
          ],
          [
           0,
           255,
           255,
           255,
           255,
           255,
           255,
           255,
           255,
           255,
           255,
           255,
           255,
           255,
           255,
           255,
           0,
           0,
           0,
           255,
           255,
           255,
           255,
           0,
           0,
           0,
           0,
           0,
           0,
           0,
           0,
           0,
           0,
           0,
           0,
           255,
           255,
           255,
           255,
           255,
           255,
           255,
           0,
           0,
           0,
           0,
           255,
           0
          ],
          [
           0,
           255,
           255,
           255,
           255,
           255,
           255,
           255,
           255,
           255,
           255,
           255,
           255,
           255,
           255,
           0,
           0,
           0,
           0,
           0,
           255,
           255,
           255,
           0,
           0,
           0,
           0,
           0,
           0,
           0,
           0,
           0,
           0,
           0,
           0,
           0,
           255,
           255,
           255,
           255,
           255,
           255,
           0,
           0,
           0,
           0,
           255,
           0
          ],
          [
           0,
           255,
           255,
           255,
           255,
           255,
           255,
           255,
           255,
           255,
           255,
           255,
           255,
           255,
           0,
           0,
           0,
           0,
           0,
           0,
           0,
           255,
           255,
           0,
           0,
           0,
           0,
           0,
           0,
           0,
           0,
           0,
           0,
           0,
           0,
           0,
           0,
           255,
           255,
           255,
           255,
           255,
           0,
           0,
           0,
           0,
           255,
           0
          ],
          [
           0,
           255,
           255,
           255,
           255,
           255,
           255,
           255,
           255,
           255,
           255,
           255,
           255,
           0,
           0,
           0,
           0,
           0,
           0,
           0,
           0,
           0,
           255,
           0,
           0,
           0,
           0,
           0,
           0,
           0,
           0,
           0,
           0,
           0,
           0,
           0,
           0,
           0,
           255,
           255,
           0,
           255,
           0,
           0,
           0,
           0,
           255,
           0
          ],
          [
           0,
           255,
           255,
           255,
           255,
           255,
           255,
           255,
           255,
           255,
           255,
           255,
           0,
           0,
           0,
           0,
           0,
           0,
           0,
           0,
           0,
           0,
           0,
           255,
           255,
           255,
           0,
           0,
           0,
           0,
           0,
           0,
           0,
           0,
           0,
           0,
           0,
           255,
           255,
           0,
           0,
           0,
           255,
           0,
           0,
           0,
           255,
           0
          ],
          [
           0,
           255,
           255,
           255,
           255,
           255,
           255,
           255,
           255,
           255,
           255,
           0,
           0,
           0,
           0,
           0,
           0,
           0,
           0,
           0,
           0,
           0,
           0,
           0,
           255,
           255,
           255,
           0,
           0,
           0,
           0,
           0,
           0,
           0,
           0,
           0,
           255,
           255,
           0,
           0,
           0,
           0,
           0,
           255,
           255,
           255,
           255,
           0
          ],
          [
           0,
           255,
           255,
           255,
           255,
           255,
           255,
           255,
           255,
           0,
           0,
           0,
           0,
           0,
           0,
           0,
           0,
           0,
           0,
           0,
           0,
           0,
           0,
           255,
           255,
           255,
           255,
           255,
           0,
           0,
           0,
           0,
           0,
           0,
           0,
           255,
           255,
           0,
           0,
           0,
           0,
           0,
           0,
           0,
           255,
           255,
           255,
           0
          ],
          [
           0,
           255,
           255,
           255,
           255,
           255,
           255,
           255,
           255,
           0,
           0,
           0,
           255,
           0,
           0,
           0,
           0,
           0,
           0,
           0,
           0,
           0,
           255,
           255,
           255,
           255,
           255,
           255,
           255,
           0,
           0,
           0,
           0,
           0,
           255,
           255,
           0,
           0,
           0,
           0,
           0,
           0,
           0,
           0,
           0,
           255,
           255,
           0
          ],
          [
           0,
           255,
           255,
           255,
           255,
           255,
           255,
           255,
           255,
           0,
           0,
           0,
           255,
           255,
           0,
           0,
           0,
           0,
           0,
           0,
           0,
           255,
           255,
           255,
           255,
           255,
           255,
           255,
           255,
           255,
           0,
           0,
           0,
           255,
           255,
           0,
           0,
           0,
           0,
           0,
           0,
           0,
           0,
           0,
           0,
           0,
           0,
           0
          ],
          [
           0,
           255,
           255,
           255,
           255,
           255,
           255,
           255,
           255,
           255,
           255,
           255,
           255,
           255,
           255,
           0,
           0,
           0,
           0,
           0,
           255,
           255,
           255,
           255,
           255,
           0,
           0,
           0,
           255,
           255,
           255,
           0,
           255,
           255,
           0,
           0,
           0,
           0,
           0,
           0,
           0,
           0,
           0,
           0,
           0,
           0,
           0,
           0
          ],
          [
           0,
           255,
           255,
           255,
           255,
           255,
           255,
           255,
           255,
           255,
           255,
           255,
           255,
           255,
           255,
           255,
           0,
           0,
           0,
           255,
           255,
           255,
           255,
           255,
           255,
           0,
           0,
           0,
           255,
           255,
           255,
           255,
           255,
           255,
           255,
           0,
           0,
           0,
           0,
           0,
           0,
           0,
           0,
           0,
           0,
           0,
           0,
           0
          ],
          [
           0,
           255,
           255,
           255,
           255,
           255,
           255,
           255,
           255,
           255,
           255,
           255,
           255,
           255,
           255,
           255,
           255,
           0,
           255,
           255,
           255,
           255,
           255,
           255,
           255,
           0,
           0,
           0,
           255,
           255,
           255,
           255,
           255,
           255,
           255,
           255,
           0,
           0,
           0,
           0,
           0,
           0,
           0,
           0,
           0,
           255,
           0,
           0
          ],
          [
           0,
           255,
           0,
           0,
           0,
           255,
           255,
           255,
           255,
           255,
           255,
           255,
           255,
           255,
           255,
           255,
           255,
           255,
           255,
           255,
           255,
           255,
           255,
           255,
           255,
           255,
           255,
           255,
           255,
           255,
           255,
           255,
           255,
           255,
           255,
           255,
           255,
           0,
           0,
           0,
           0,
           0,
           0,
           0,
           255,
           255,
           255,
           0
          ],
          [
           0,
           255,
           0,
           0,
           0,
           255,
           255,
           255,
           255,
           255,
           255,
           255,
           255,
           255,
           255,
           255,
           255,
           255,
           255,
           255,
           255,
           255,
           255,
           255,
           255,
           255,
           255,
           255,
           255,
           255,
           255,
           255,
           255,
           255,
           255,
           255,
           255,
           255,
           0,
           0,
           0,
           0,
           0,
           0,
           255,
           255,
           255,
           0
          ],
          [
           0,
           255,
           0,
           0,
           0,
           255,
           255,
           255,
           255,
           255,
           255,
           255,
           255,
           255,
           255,
           255,
           255,
           255,
           255,
           255,
           255,
           255,
           255,
           255,
           255,
           255,
           255,
           255,
           255,
           255,
           255,
           255,
           255,
           255,
           255,
           255,
           255,
           255,
           255,
           0,
           0,
           0,
           255,
           255,
           255,
           255,
           255,
           0
          ],
          [
           0,
           0,
           0,
           0,
           255,
           255,
           255,
           255,
           255,
           255,
           255,
           255,
           255,
           255,
           255,
           255,
           255,
           255,
           255,
           255,
           255,
           255,
           255,
           255,
           255,
           255,
           255,
           255,
           255,
           255,
           255,
           255,
           255,
           255,
           255,
           255,
           255,
           255,
           255,
           255,
           0,
           255,
           255,
           255,
           255,
           255,
           255,
           0
          ],
          [
           0,
           0,
           0,
           0,
           255,
           255,
           255,
           255,
           255,
           255,
           255,
           255,
           255,
           255,
           255,
           255,
           255,
           255,
           255,
           255,
           255,
           255,
           255,
           255,
           255,
           255,
           255,
           255,
           255,
           255,
           255,
           255,
           255,
           255,
           255,
           255,
           255,
           255,
           255,
           255,
           255,
           255,
           255,
           255,
           255,
           255,
           255,
           0
          ],
          [
           0,
           0,
           0,
           0,
           255,
           0,
           0,
           0,
           255,
           255,
           255,
           0,
           0,
           0,
           255,
           255,
           255,
           255,
           255,
           255,
           255,
           255,
           255,
           255,
           255,
           255,
           255,
           255,
           255,
           255,
           255,
           255,
           255,
           255,
           255,
           255,
           255,
           255,
           255,
           255,
           255,
           255,
           255,
           255,
           255,
           255,
           255,
           0
          ],
          [
           0,
           255,
           255,
           255,
           0,
           0,
           0,
           0,
           0,
           255,
           255,
           0,
           0,
           0,
           255,
           255,
           255,
           255,
           255,
           255,
           255,
           255,
           255,
           255,
           255,
           255,
           255,
           255,
           255,
           255,
           255,
           255,
           255,
           255,
           255,
           255,
           255,
           255,
           255,
           255,
           255,
           255,
           255,
           255,
           255,
           255,
           255,
           0
          ],
          [
           0,
           255,
           255,
           255,
           0,
           0,
           0,
           0,
           0,
           0,
           255,
           0,
           0,
           0,
           255,
           255,
           255,
           255,
           255,
           255,
           255,
           255,
           255,
           255,
           255,
           255,
           255,
           255,
           255,
           255,
           255,
           255,
           255,
           255,
           255,
           255,
           255,
           255,
           255,
           255,
           255,
           255,
           255,
           255,
           255,
           255,
           255,
           0
          ],
          [
           0,
           255,
           255,
           255,
           0,
           0,
           0,
           0,
           0,
           0,
           255,
           255,
           255,
           255,
           255,
           255,
           255,
           255,
           0,
           0,
           0,
           0,
           0,
           0,
           255,
           255,
           255,
           255,
           255,
           255,
           255,
           255,
           255,
           255,
           255,
           255,
           255,
           255,
           255,
           255,
           255,
           255,
           255,
           255,
           255,
           255,
           255,
           0
          ],
          [
           0,
           255,
           255,
           255,
           255,
           0,
           0,
           0,
           0,
           0,
           255,
           255,
           255,
           255,
           255,
           255,
           255,
           255,
           0,
           0,
           0,
           0,
           0,
           0,
           255,
           255,
           255,
           255,
           255,
           255,
           255,
           255,
           255,
           255,
           255,
           255,
           255,
           255,
           255,
           255,
           255,
           255,
           255,
           255,
           255,
           255,
           255,
           0
          ],
          [
           0,
           255,
           255,
           255,
           255,
           0,
           0,
           0,
           0,
           255,
           255,
           255,
           255,
           255,
           255,
           255,
           255,
           255,
           0,
           0,
           0,
           0,
           0,
           0,
           255,
           255,
           255,
           255,
           255,
           255,
           255,
           255,
           255,
           255,
           255,
           255,
           255,
           255,
           255,
           255,
           255,
           255,
           255,
           255,
           255,
           255,
           255,
           0
          ],
          [
           0,
           0,
           0,
           0,
           0,
           0,
           0,
           0,
           0,
           0,
           0,
           0,
           0,
           0,
           0,
           0,
           0,
           0,
           0,
           0,
           0,
           0,
           0,
           0,
           0,
           0,
           0,
           0,
           0,
           0,
           0,
           0,
           0,
           0,
           0,
           0,
           0,
           0,
           0,
           0,
           0,
           0,
           0,
           0,
           0,
           0,
           0,
           0
          ]
         ]
        }
       ],
       "layout": {
        "coloraxis": {
         "colorscale": [
          [
           0,
           "#0d0887"
          ],
          [
           0.1111111111111111,
           "#46039f"
          ],
          [
           0.2222222222222222,
           "#7201a8"
          ],
          [
           0.3333333333333333,
           "#9c179e"
          ],
          [
           0.4444444444444444,
           "#bd3786"
          ],
          [
           0.5555555555555556,
           "#d8576b"
          ],
          [
           0.6666666666666666,
           "#ed7953"
          ],
          [
           0.7777777777777778,
           "#fb9f3a"
          ],
          [
           0.8888888888888888,
           "#fdca26"
          ],
          [
           1,
           "#f0f921"
          ]
         ]
        },
        "margin": {
         "t": 60
        },
        "template": {
         "data": {
          "bar": [
           {
            "error_x": {
             "color": "#2a3f5f"
            },
            "error_y": {
             "color": "#2a3f5f"
            },
            "marker": {
             "line": {
              "color": "#E5ECF6",
              "width": 0.5
             },
             "pattern": {
              "fillmode": "overlay",
              "size": 10,
              "solidity": 0.2
             }
            },
            "type": "bar"
           }
          ],
          "barpolar": [
           {
            "marker": {
             "line": {
              "color": "#E5ECF6",
              "width": 0.5
             },
             "pattern": {
              "fillmode": "overlay",
              "size": 10,
              "solidity": 0.2
             }
            },
            "type": "barpolar"
           }
          ],
          "carpet": [
           {
            "aaxis": {
             "endlinecolor": "#2a3f5f",
             "gridcolor": "white",
             "linecolor": "white",
             "minorgridcolor": "white",
             "startlinecolor": "#2a3f5f"
            },
            "baxis": {
             "endlinecolor": "#2a3f5f",
             "gridcolor": "white",
             "linecolor": "white",
             "minorgridcolor": "white",
             "startlinecolor": "#2a3f5f"
            },
            "type": "carpet"
           }
          ],
          "choropleth": [
           {
            "colorbar": {
             "outlinewidth": 0,
             "ticks": ""
            },
            "type": "choropleth"
           }
          ],
          "contour": [
           {
            "colorbar": {
             "outlinewidth": 0,
             "ticks": ""
            },
            "colorscale": [
             [
              0,
              "#0d0887"
             ],
             [
              0.1111111111111111,
              "#46039f"
             ],
             [
              0.2222222222222222,
              "#7201a8"
             ],
             [
              0.3333333333333333,
              "#9c179e"
             ],
             [
              0.4444444444444444,
              "#bd3786"
             ],
             [
              0.5555555555555556,
              "#d8576b"
             ],
             [
              0.6666666666666666,
              "#ed7953"
             ],
             [
              0.7777777777777778,
              "#fb9f3a"
             ],
             [
              0.8888888888888888,
              "#fdca26"
             ],
             [
              1,
              "#f0f921"
             ]
            ],
            "type": "contour"
           }
          ],
          "contourcarpet": [
           {
            "colorbar": {
             "outlinewidth": 0,
             "ticks": ""
            },
            "type": "contourcarpet"
           }
          ],
          "heatmap": [
           {
            "colorbar": {
             "outlinewidth": 0,
             "ticks": ""
            },
            "colorscale": [
             [
              0,
              "#0d0887"
             ],
             [
              0.1111111111111111,
              "#46039f"
             ],
             [
              0.2222222222222222,
              "#7201a8"
             ],
             [
              0.3333333333333333,
              "#9c179e"
             ],
             [
              0.4444444444444444,
              "#bd3786"
             ],
             [
              0.5555555555555556,
              "#d8576b"
             ],
             [
              0.6666666666666666,
              "#ed7953"
             ],
             [
              0.7777777777777778,
              "#fb9f3a"
             ],
             [
              0.8888888888888888,
              "#fdca26"
             ],
             [
              1,
              "#f0f921"
             ]
            ],
            "type": "heatmap"
           }
          ],
          "heatmapgl": [
           {
            "colorbar": {
             "outlinewidth": 0,
             "ticks": ""
            },
            "colorscale": [
             [
              0,
              "#0d0887"
             ],
             [
              0.1111111111111111,
              "#46039f"
             ],
             [
              0.2222222222222222,
              "#7201a8"
             ],
             [
              0.3333333333333333,
              "#9c179e"
             ],
             [
              0.4444444444444444,
              "#bd3786"
             ],
             [
              0.5555555555555556,
              "#d8576b"
             ],
             [
              0.6666666666666666,
              "#ed7953"
             ],
             [
              0.7777777777777778,
              "#fb9f3a"
             ],
             [
              0.8888888888888888,
              "#fdca26"
             ],
             [
              1,
              "#f0f921"
             ]
            ],
            "type": "heatmapgl"
           }
          ],
          "histogram": [
           {
            "marker": {
             "pattern": {
              "fillmode": "overlay",
              "size": 10,
              "solidity": 0.2
             }
            },
            "type": "histogram"
           }
          ],
          "histogram2d": [
           {
            "colorbar": {
             "outlinewidth": 0,
             "ticks": ""
            },
            "colorscale": [
             [
              0,
              "#0d0887"
             ],
             [
              0.1111111111111111,
              "#46039f"
             ],
             [
              0.2222222222222222,
              "#7201a8"
             ],
             [
              0.3333333333333333,
              "#9c179e"
             ],
             [
              0.4444444444444444,
              "#bd3786"
             ],
             [
              0.5555555555555556,
              "#d8576b"
             ],
             [
              0.6666666666666666,
              "#ed7953"
             ],
             [
              0.7777777777777778,
              "#fb9f3a"
             ],
             [
              0.8888888888888888,
              "#fdca26"
             ],
             [
              1,
              "#f0f921"
             ]
            ],
            "type": "histogram2d"
           }
          ],
          "histogram2dcontour": [
           {
            "colorbar": {
             "outlinewidth": 0,
             "ticks": ""
            },
            "colorscale": [
             [
              0,
              "#0d0887"
             ],
             [
              0.1111111111111111,
              "#46039f"
             ],
             [
              0.2222222222222222,
              "#7201a8"
             ],
             [
              0.3333333333333333,
              "#9c179e"
             ],
             [
              0.4444444444444444,
              "#bd3786"
             ],
             [
              0.5555555555555556,
              "#d8576b"
             ],
             [
              0.6666666666666666,
              "#ed7953"
             ],
             [
              0.7777777777777778,
              "#fb9f3a"
             ],
             [
              0.8888888888888888,
              "#fdca26"
             ],
             [
              1,
              "#f0f921"
             ]
            ],
            "type": "histogram2dcontour"
           }
          ],
          "mesh3d": [
           {
            "colorbar": {
             "outlinewidth": 0,
             "ticks": ""
            },
            "type": "mesh3d"
           }
          ],
          "parcoords": [
           {
            "line": {
             "colorbar": {
              "outlinewidth": 0,
              "ticks": ""
             }
            },
            "type": "parcoords"
           }
          ],
          "pie": [
           {
            "automargin": true,
            "type": "pie"
           }
          ],
          "scatter": [
           {
            "fillpattern": {
             "fillmode": "overlay",
             "size": 10,
             "solidity": 0.2
            },
            "type": "scatter"
           }
          ],
          "scatter3d": [
           {
            "line": {
             "colorbar": {
              "outlinewidth": 0,
              "ticks": ""
             }
            },
            "marker": {
             "colorbar": {
              "outlinewidth": 0,
              "ticks": ""
             }
            },
            "type": "scatter3d"
           }
          ],
          "scattercarpet": [
           {
            "marker": {
             "colorbar": {
              "outlinewidth": 0,
              "ticks": ""
             }
            },
            "type": "scattercarpet"
           }
          ],
          "scattergeo": [
           {
            "marker": {
             "colorbar": {
              "outlinewidth": 0,
              "ticks": ""
             }
            },
            "type": "scattergeo"
           }
          ],
          "scattergl": [
           {
            "marker": {
             "colorbar": {
              "outlinewidth": 0,
              "ticks": ""
             }
            },
            "type": "scattergl"
           }
          ],
          "scattermapbox": [
           {
            "marker": {
             "colorbar": {
              "outlinewidth": 0,
              "ticks": ""
             }
            },
            "type": "scattermapbox"
           }
          ],
          "scatterpolar": [
           {
            "marker": {
             "colorbar": {
              "outlinewidth": 0,
              "ticks": ""
             }
            },
            "type": "scatterpolar"
           }
          ],
          "scatterpolargl": [
           {
            "marker": {
             "colorbar": {
              "outlinewidth": 0,
              "ticks": ""
             }
            },
            "type": "scatterpolargl"
           }
          ],
          "scatterternary": [
           {
            "marker": {
             "colorbar": {
              "outlinewidth": 0,
              "ticks": ""
             }
            },
            "type": "scatterternary"
           }
          ],
          "surface": [
           {
            "colorbar": {
             "outlinewidth": 0,
             "ticks": ""
            },
            "colorscale": [
             [
              0,
              "#0d0887"
             ],
             [
              0.1111111111111111,
              "#46039f"
             ],
             [
              0.2222222222222222,
              "#7201a8"
             ],
             [
              0.3333333333333333,
              "#9c179e"
             ],
             [
              0.4444444444444444,
              "#bd3786"
             ],
             [
              0.5555555555555556,
              "#d8576b"
             ],
             [
              0.6666666666666666,
              "#ed7953"
             ],
             [
              0.7777777777777778,
              "#fb9f3a"
             ],
             [
              0.8888888888888888,
              "#fdca26"
             ],
             [
              1,
              "#f0f921"
             ]
            ],
            "type": "surface"
           }
          ],
          "table": [
           {
            "cells": {
             "fill": {
              "color": "#EBF0F8"
             },
             "line": {
              "color": "white"
             }
            },
            "header": {
             "fill": {
              "color": "#C8D4E3"
             },
             "line": {
              "color": "white"
             }
            },
            "type": "table"
           }
          ]
         },
         "layout": {
          "annotationdefaults": {
           "arrowcolor": "#2a3f5f",
           "arrowhead": 0,
           "arrowwidth": 1
          },
          "autotypenumbers": "strict",
          "coloraxis": {
           "colorbar": {
            "outlinewidth": 0,
            "ticks": ""
           }
          },
          "colorscale": {
           "diverging": [
            [
             0,
             "#8e0152"
            ],
            [
             0.1,
             "#c51b7d"
            ],
            [
             0.2,
             "#de77ae"
            ],
            [
             0.3,
             "#f1b6da"
            ],
            [
             0.4,
             "#fde0ef"
            ],
            [
             0.5,
             "#f7f7f7"
            ],
            [
             0.6,
             "#e6f5d0"
            ],
            [
             0.7,
             "#b8e186"
            ],
            [
             0.8,
             "#7fbc41"
            ],
            [
             0.9,
             "#4d9221"
            ],
            [
             1,
             "#276419"
            ]
           ],
           "sequential": [
            [
             0,
             "#0d0887"
            ],
            [
             0.1111111111111111,
             "#46039f"
            ],
            [
             0.2222222222222222,
             "#7201a8"
            ],
            [
             0.3333333333333333,
             "#9c179e"
            ],
            [
             0.4444444444444444,
             "#bd3786"
            ],
            [
             0.5555555555555556,
             "#d8576b"
            ],
            [
             0.6666666666666666,
             "#ed7953"
            ],
            [
             0.7777777777777778,
             "#fb9f3a"
            ],
            [
             0.8888888888888888,
             "#fdca26"
            ],
            [
             1,
             "#f0f921"
            ]
           ],
           "sequentialminus": [
            [
             0,
             "#0d0887"
            ],
            [
             0.1111111111111111,
             "#46039f"
            ],
            [
             0.2222222222222222,
             "#7201a8"
            ],
            [
             0.3333333333333333,
             "#9c179e"
            ],
            [
             0.4444444444444444,
             "#bd3786"
            ],
            [
             0.5555555555555556,
             "#d8576b"
            ],
            [
             0.6666666666666666,
             "#ed7953"
            ],
            [
             0.7777777777777778,
             "#fb9f3a"
            ],
            [
             0.8888888888888888,
             "#fdca26"
            ],
            [
             1,
             "#f0f921"
            ]
           ]
          },
          "colorway": [
           "#636efa",
           "#EF553B",
           "#00cc96",
           "#ab63fa",
           "#FFA15A",
           "#19d3f3",
           "#FF6692",
           "#B6E880",
           "#FF97FF",
           "#FECB52"
          ],
          "font": {
           "color": "#2a3f5f"
          },
          "geo": {
           "bgcolor": "white",
           "lakecolor": "white",
           "landcolor": "#E5ECF6",
           "showlakes": true,
           "showland": true,
           "subunitcolor": "white"
          },
          "hoverlabel": {
           "align": "left"
          },
          "hovermode": "closest",
          "mapbox": {
           "style": "light"
          },
          "paper_bgcolor": "white",
          "plot_bgcolor": "#E5ECF6",
          "polar": {
           "angularaxis": {
            "gridcolor": "white",
            "linecolor": "white",
            "ticks": ""
           },
           "bgcolor": "#E5ECF6",
           "radialaxis": {
            "gridcolor": "white",
            "linecolor": "white",
            "ticks": ""
           }
          },
          "scene": {
           "xaxis": {
            "backgroundcolor": "#E5ECF6",
            "gridcolor": "white",
            "gridwidth": 2,
            "linecolor": "white",
            "showbackground": true,
            "ticks": "",
            "zerolinecolor": "white"
           },
           "yaxis": {
            "backgroundcolor": "#E5ECF6",
            "gridcolor": "white",
            "gridwidth": 2,
            "linecolor": "white",
            "showbackground": true,
            "ticks": "",
            "zerolinecolor": "white"
           },
           "zaxis": {
            "backgroundcolor": "#E5ECF6",
            "gridcolor": "white",
            "gridwidth": 2,
            "linecolor": "white",
            "showbackground": true,
            "ticks": "",
            "zerolinecolor": "white"
           }
          },
          "shapedefaults": {
           "line": {
            "color": "#2a3f5f"
           }
          },
          "ternary": {
           "aaxis": {
            "gridcolor": "white",
            "linecolor": "white",
            "ticks": ""
           },
           "baxis": {
            "gridcolor": "white",
            "linecolor": "white",
            "ticks": ""
           },
           "bgcolor": "#E5ECF6",
           "caxis": {
            "gridcolor": "white",
            "linecolor": "white",
            "ticks": ""
           }
          },
          "title": {
           "x": 0.05
          },
          "xaxis": {
           "automargin": true,
           "gridcolor": "white",
           "linecolor": "white",
           "ticks": "",
           "title": {
            "standoff": 15
           },
           "zerolinecolor": "white",
           "zerolinewidth": 2
          },
          "yaxis": {
           "automargin": true,
           "gridcolor": "white",
           "linecolor": "white",
           "ticks": "",
           "title": {
            "standoff": 15
           },
           "zerolinecolor": "white",
           "zerolinewidth": 2
          }
         }
        },
        "xaxis": {
         "anchor": "y",
         "constrain": "domain",
         "domain": [
          0,
          1
         ],
         "scaleanchor": "y"
        },
        "yaxis": {
         "anchor": "x",
         "autorange": "reversed",
         "constrain": "domain",
         "domain": [
          0,
          1
         ]
        }
       }
      }
     },
     "metadata": {},
     "output_type": "display_data"
    },
    {
     "name": "stdout",
     "output_type": "stream",
     "text": [
      "else 8 False 0\n",
      "player_0\n",
      "turn: 0\n",
      "\n",
      "player_0\n",
      "turn: 1\n",
      "HEAVY unit_8 at: [5 7] power and ice: 510 0 unit queue: 0\n",
      "HEAVY unit_9 at: [30 18] power and ice: 510 0 unit queue: 0\n",
      "HEAVY unit_10 at: [31 27] power and ice: 510 0 unit queue: 0\n",
      "HEAVY unit_11 at: [35 11] power and ice: 510 0 unit queue: 0\n",
      "\n",
      "player_0\n",
      "turn: 2\n",
      "HEAVY unit_8 at: [4 7] power and ice: 490 0 unit queue: 0\n",
      "HEAVY unit_9 at: [31 18] power and ice: 490 0 unit queue: 0\n",
      "HEAVY unit_10 at: [31 26] power and ice: 490 0 unit queue: 0\n",
      "HEAVY unit_11 at: [35 10] power and ice: 490 0 unit queue: 0\n",
      "\n",
      "player_0\n",
      "turn: 3\n",
      "HEAVY unit_8 at: [3 7] power and ice: 459 0 unit queue: 0\n",
      "HEAVY unit_9 at: [31 17] power and ice: 470 0 unit queue: 0\n",
      "HEAVY unit_10 at: [31 25] power and ice: 453 0 unit queue: 0\n",
      "HEAVY unit_11 at: [35  9] power and ice: 451 0 unit queue: 0\n",
      "LIGHT unit_16 at: [5 7] power and ore: 51 0 unit queue: 0\n",
      "LIGHT unit_17 at: [30 18] power and ore: 51 0 unit queue: 0\n",
      "LIGHT unit_18 at: [31 27] power and ore: 51 0 unit queue: 0\n",
      "LIGHT unit_19 at: [35 11] power and ore: 51 0 unit queue: 0\n",
      "\n",
      "player_0\n",
      "turn: 4\n",
      "HEAVY unit_8 at: [3 7] power and ice: 399 0 unit queue: 0\n",
      "HEAVY unit_9 at: [32 17] power and ice: 432 0 unit queue: 0\n",
      "HEAVY unit_10 at: [32 25] power and ice: 415 0 unit queue: 0\n",
      "HEAVY unit_11 at: [34  9] power and ice: 412 0 unit queue: 0\n",
      "LIGHT unit_16 at: [5 8] power and ore: 50 0 unit queue: 0\n",
      "LIGHT unit_17 at: [30 19] power and ore: 50 0 unit queue: 0\n",
      "LIGHT unit_18 at: [30 27] power and ore: 50 0 unit queue: 0\n",
      "LIGHT unit_19 at: [36 11] power and ore: 50 0 unit queue: 0\n",
      "LIGHT unit_20 at: [5 7] power and ore: 51 0 unit queue: 0\n",
      "LIGHT unit_21 at: [30 18] power and ore: 51 0 unit queue: 0\n",
      "LIGHT unit_22 at: [31 27] power and ore: 51 0 unit queue: 0\n",
      "LIGHT unit_23 at: [35 11] power and ore: 51 0 unit queue: 0\n",
      "\n",
      "player_0\n",
      "turn: 5\n",
      "HEAVY unit_8 at: [3 7] power and ice: 339 20 unit queue: 0\n",
      "HEAVY unit_9 at: [32 17] power and ice: 372 0 unit queue: 0\n",
      "HEAVY unit_10 at: [32 25] power and ice: 355 0 unit queue: 0\n",
      "HEAVY unit_11 at: [34  9] power and ice: 352 0 unit queue: 0\n",
      "LIGHT unit_16 at: [5 9] power and ore: 49 0 unit queue: 0\n",
      "LIGHT unit_17 at: [29 19] power and ore: 49 0 unit queue: 0\n",
      "LIGHT unit_18 at: [29 27] power and ore: 49 0 unit queue: 0\n",
      "LIGHT unit_19 at: [37 11] power and ore: 49 0 unit queue: 0\n",
      "LIGHT unit_20 at: [6 7] power and ore: 50 0 unit queue: 0\n",
      "LIGHT unit_21 at: [30 17] power and ore: 50 0 unit queue: 0\n",
      "LIGHT unit_22 at: [31 26] power and ore: 50 0 unit queue: 0\n",
      "LIGHT unit_23 at: [35 12] power and ore: 50 0 unit queue: 0\n",
      "LIGHT unit_24 at: [5 7] power and ore: 51 0 unit queue: 0\n",
      "LIGHT unit_25 at: [30 18] power and ore: 51 0 unit queue: 0\n",
      "LIGHT unit_26 at: [31 27] power and ore: 51 0 unit queue: 0\n",
      "LIGHT unit_27 at: [35 11] power and ore: 51 0 unit queue: 0\n",
      "\n",
      "player_0\n",
      "turn: 6\n",
      "HEAVY unit_8 at: [3 7] power and ice: 279 40 unit queue: 0\n",
      "HEAVY unit_9 at: [32 17] power and ice: 312 20 unit queue: 0\n",
      "HEAVY unit_10 at: [32 25] power and ice: 295 20 unit queue: 0\n",
      "HEAVY unit_11 at: [34  9] power and ice: 292 20 unit queue: 0\n",
      "LIGHT unit_16 at: [5 9] power and ore: 44 0 unit queue: 0\n",
      "LIGHT unit_17 at: [29 20] power and ore: 48 0 unit queue: 0\n",
      "LIGHT unit_18 at: [29 27] power and ore: 44 0 unit queue: 0\n",
      "LIGHT unit_19 at: [37 11] power and ore: 44 0 unit queue: 0\n",
      "LIGHT unit_20 at: [6 8] power and ore: 49 0 unit queue: 0\n",
      "LIGHT unit_21 at: [29 17] power and ore: 49 0 unit queue: 0\n",
      "LIGHT unit_22 at: [30 26] power and ore: 49 0 unit queue: 0\n",
      "LIGHT unit_23 at: [36 12] power and ore: 49 0 unit queue: 0\n",
      "LIGHT unit_24 at: [5 8] power and ore: 50 0 unit queue: 0\n",
      "LIGHT unit_25 at: [30 19] power and ore: 50 0 unit queue: 0\n",
      "LIGHT unit_26 at: [30 27] power and ore: 50 0 unit queue: 0\n",
      "LIGHT unit_27 at: [36 11] power and ore: 50 0 unit queue: 0\n",
      "LIGHT unit_28 at: [5 7] power and ore: 51 0 unit queue: 0\n",
      "LIGHT unit_29 at: [30 18] power and ore: 51 0 unit queue: 0\n",
      "LIGHT unit_30 at: [31 27] power and ore: 51 0 unit queue: 0\n",
      "LIGHT unit_31 at: [35 11] power and ore: 51 0 unit queue: 0\n",
      "\n",
      "player_0\n",
      "turn: 7\n",
      "HEAVY unit_8 at: [3 7] power and ice: 219 60 unit queue: 0\n",
      "HEAVY unit_9 at: [32 17] power and ice: 252 40 unit queue: 0\n",
      "HEAVY unit_10 at: [32 25] power and ice: 235 40 unit queue: 0\n",
      "HEAVY unit_11 at: [34  9] power and ice: 232 40 unit queue: 0\n",
      "LIGHT unit_16 at: [5 9] power and ore: 39 0 unit queue: 0\n",
      "LIGHT unit_17 at: [29 20] power and ore: 43 0 unit queue: 0\n",
      "LIGHT unit_18 at: [29 27] power and ore: 39 0 unit queue: 0\n",
      "LIGHT unit_19 at: [37 11] power and ore: 39 0 unit queue: 0\n",
      "LIGHT unit_20 at: [6 9] power and ore: 48 0 unit queue: 0\n",
      "LIGHT unit_21 at: [29 18] power and ore: 48 0 unit queue: 0\n",
      "LIGHT unit_22 at: [29 26] power and ore: 48 0 unit queue: 0\n",
      "LIGHT unit_23 at: [37 12] power and ore: 48 0 unit queue: 0\n",
      "LIGHT unit_24 at: [4 8] power and ore: 49 0 unit queue: 0\n",
      "LIGHT unit_25 at: [29 19] power and ore: 49 0 unit queue: 0\n",
      "LIGHT unit_26 at: [30 28] power and ore: 49 0 unit queue: 0\n",
      "LIGHT unit_27 at: [36 10] power and ore: 49 0 unit queue: 0\n",
      "LIGHT unit_28 at: [5 6] power and ore: 50 0 unit queue: 0\n",
      "LIGHT unit_29 at: [30 17] power and ore: 50 0 unit queue: 0\n",
      "LIGHT unit_30 at: [31 26] power and ore: 50 0 unit queue: 0\n",
      "LIGHT unit_31 at: [34 11] power and ore: 50 0 unit queue: 0\n",
      "LIGHT unit_32 at: [5 7] power and ore: 51 0 unit queue: 0\n",
      "LIGHT unit_33 at: [30 18] power and ore: 51 0 unit queue: 0\n",
      "LIGHT unit_34 at: [31 27] power and ore: 51 0 unit queue: 0\n",
      "LIGHT unit_35 at: [35 11] power and ore: 51 0 unit queue: 0\n",
      "\n",
      "player_0\n",
      "turn: 8\n",
      "HEAVY unit_8 at: [3 7] power and ice: 159 80 unit queue: 0\n",
      "HEAVY unit_9 at: [32 17] power and ice: 192 60 unit queue: 0\n",
      "HEAVY unit_10 at: [32 25] power and ice: 175 60 unit queue: 0\n",
      "LIGHT unit_16 at: [5 9] power and ore: 34 0 unit queue: 0\n",
      "LIGHT unit_17 at: [29 20] power and ore: 38 0 unit queue: 0\n",
      "LIGHT unit_18 at: [29 27] power and ore: 34 0 unit queue: 0\n",
      "LIGHT unit_19 at: [37 11] power and ore: 34 0 unit queue: 0\n",
      "LIGHT unit_20 at: [6 9] power and ore: 43 0 unit queue: 0\n",
      "LIGHT unit_21 at: [28 18] power and ore: 47 0 unit queue: 0\n",
      "LIGHT unit_22 at: [29 26] power and ore: 43 0 unit queue: 0\n",
      "LIGHT unit_23 at: [37 12] power and ore: 43 0 unit queue: 0\n",
      "LIGHT unit_24 at: [4 9] power and ore: 48 0 unit queue: 0\n",
      "LIGHT unit_26 at: [29 28] power and ore: 48 0 unit queue: 0\n",
      "LIGHT unit_27 at: [37 10] power and ore: 48 0 unit queue: 0\n",
      "LIGHT unit_28 at: [5 5] power and ore: 49 0 unit queue: 0\n",
      "LIGHT unit_29 at: [29 17] power and ore: 49 0 unit queue: 0\n",
      "LIGHT unit_30 at: [30 26] power and ore: 49 0 unit queue: 0\n",
      "LIGHT unit_31 at: [34 12] power and ore: 49 0 unit queue: 0\n",
      "LIGHT unit_32 at: [5 8] power and ore: 50 0 unit queue: 0\n",
      "LIGHT unit_33 at: [30 19] power and ore: 26 0 unit queue: 0\n",
      "LIGHT unit_34 at: [30 27] power and ore: 50 0 unit queue: 0\n",
      "LIGHT unit_35 at: [36 11] power and ore: 50 0 unit queue: 0\n",
      "\n",
      "player_0\n",
      "turn: 9\n",
      "HEAVY unit_8 at: [3 7] power and ice: 99 100 unit queue: 0\n",
      "HEAVY unit_9 at: [32 17] power and ice: 132 80 unit queue: 0\n",
      "HEAVY unit_10 at: [32 25] power and ice: 115 80 unit queue: 0\n",
      "LIGHT unit_16 at: [5 9] power and ore: 29 0 unit queue: 0\n",
      "LIGHT unit_17 at: [29 20] power and ore: 33 0 unit queue: 0\n",
      "LIGHT unit_18 at: [29 27] power and ore: 29 0 unit queue: 0\n",
      "LIGHT unit_19 at: [37 11] power and ore: 29 0 unit queue: 0\n",
      "LIGHT unit_20 at: [6 9] power and ore: 38 0 unit queue: 0\n",
      "LIGHT unit_21 at: [28 19] power and ore: 46 0 unit queue: 0\n",
      "LIGHT unit_22 at: [29 26] power and ore: 38 0 unit queue: 0\n",
      "LIGHT unit_23 at: [37 12] power and ore: 38 0 unit queue: 0\n",
      "LIGHT unit_24 at: [4 9] power and ore: 43 0 unit queue: 0\n",
      "LIGHT unit_26 at: [29 28] power and ore: 43 0 unit queue: 0\n",
      "LIGHT unit_27 at: [37 10] power and ore: 43 0 unit queue: 0\n",
      "LIGHT unit_28 at: [5 5] power and ore: 44 0 unit queue: 0\n",
      "LIGHT unit_29 at: [29 18] power and ore: 48 0 unit queue: 0\n",
      "LIGHT unit_30 at: [31 26] power and ore: 48 0 unit queue: 0\n",
      "LIGHT unit_31 at: [35 12] power and ore: 48 0 unit queue: 0\n",
      "LIGHT unit_32 at: [6 8] power and ore: 49 0 unit queue: 0\n",
      "LIGHT unit_33 at: [29 19] power and ore: 25 0 unit queue: 0\n",
      "LIGHT unit_34 at: [31 27] power and ore: 49 0 unit queue: 0\n",
      "LIGHT unit_35 at: [35 11] power and ore: 49 0 unit queue: 0\n",
      "\n",
      "player_0\n",
      "turn: 10\n",
      "HEAVY unit_8 at: [4 7] power and ice: 79 100 unit queue: 0\n",
      "HEAVY unit_9 at: [32 17] power and ice: 72 100 unit queue: 0\n",
      "HEAVY unit_10 at: [32 25] power and ice: 55 100 unit queue: 0\n",
      "LIGHT unit_16 at: [5 9] power and ore: 24 0 unit queue: 0\n",
      "LIGHT unit_17 at: [29 20] power and ore: 28 0 unit queue: 0\n",
      "LIGHT unit_18 at: [29 27] power and ore: 24 0 unit queue: 0\n",
      "LIGHT unit_19 at: [37 11] power and ore: 24 0 unit queue: 0\n",
      "LIGHT unit_20 at: [6 9] power and ore: 33 0 unit queue: 0\n",
      "LIGHT unit_21 at: [28 19] power and ore: 41 0 unit queue: 0\n",
      "LIGHT unit_22 at: [29 26] power and ore: 33 0 unit queue: 0\n",
      "LIGHT unit_23 at: [37 12] power and ore: 33 0 unit queue: 0\n",
      "LIGHT unit_24 at: [4 9] power and ore: 38 0 unit queue: 0\n",
      "LIGHT unit_26 at: [29 28] power and ore: 38 0 unit queue: 0\n",
      "LIGHT unit_27 at: [37 10] power and ore: 38 0 unit queue: 0\n",
      "LIGHT unit_28 at: [5 5] power and ore: 39 0 unit queue: 0\n",
      "LIGHT unit_29 at: [28 18] power and ore: 47 0 unit queue: 0\n",
      "LIGHT unit_30 at: [30 26] power and ore: 47 0 unit queue: 0\n",
      "LIGHT unit_31 at: [36 12] power and ore: 47 0 unit queue: 0\n",
      "LIGHT unit_32 at: [7 8] power and ore: 48 0 unit queue: 0\n",
      "LIGHT unit_33 at: [30 19] power and ore: 24 0 unit queue: 0\n",
      "LIGHT unit_34 at: [30 27] power and ore: 48 0 unit queue: 0\n",
      "LIGHT unit_35 at: [36 11] power and ore: 48 0 unit queue: 0\n",
      "\n",
      "player_0\n",
      "turn: 11\n",
      "HEAVY unit_8 at: [4 7] power and ice: 829 100 unit queue: 0\n",
      "HEAVY unit_9 at: [31 17] power and ice: 52 100 unit queue: 0\n",
      "HEAVY unit_10 at: [32 26] power and ice: 35 100 unit queue: 0\n",
      "LIGHT unit_16 at: [5 9] power and ore: 19 0 unit queue: 0\n",
      "LIGHT unit_17 at: [29 20] power and ore: 23 0 unit queue: 0\n",
      "LIGHT unit_18 at: [29 27] power and ore: 19 0 unit queue: 0\n",
      "LIGHT unit_19 at: [37 11] power and ore: 19 0 unit queue: 0\n",
      "LIGHT unit_20 at: [6 9] power and ore: 28 0 unit queue: 0\n",
      "LIGHT unit_21 at: [28 19] power and ore: 36 0 unit queue: 0\n",
      "LIGHT unit_22 at: [29 26] power and ore: 28 0 unit queue: 0\n",
      "LIGHT unit_23 at: [37 12] power and ore: 28 0 unit queue: 0\n",
      "LIGHT unit_24 at: [4 9] power and ore: 33 0 unit queue: 0\n",
      "LIGHT unit_26 at: [29 28] power and ore: 33 0 unit queue: 0\n",
      "LIGHT unit_27 at: [37 10] power and ore: 33 0 unit queue: 0\n",
      "LIGHT unit_28 at: [5 5] power and ore: 34 0 unit queue: 0\n",
      "LIGHT unit_29 at: [29 18] power and ore: 46 0 unit queue: 0\n",
      "LIGHT unit_30 at: [30 25] power and ore: 46 0 unit queue: 0\n",
      "LIGHT unit_31 at: [35 12] power and ore: 46 0 unit queue: 0\n",
      "LIGHT unit_32 at: [7 8] power and ore: 43 0 unit queue: 0\n",
      "LIGHT unit_33 at: [29 19] power and ore: 23 0 unit queue: 0\n",
      "LIGHT unit_34 at: [30 28] power and ore: 47 0 unit queue: 0\n",
      "LIGHT unit_35 at: [35 11] power and ore: 47 0 unit queue: 0\n",
      "\n",
      "player_0\n",
      "turn: 12\n",
      "HEAVY unit_8 at: [3 7] power and ice: 809 100 unit queue: 0\n",
      "HEAVY unit_9 at: [31 17] power and ice: 852 100 unit queue: 0\n",
      "HEAVY unit_10 at: [32 26] power and ice: 835 100 unit queue: 0\n",
      "LIGHT unit_16 at: [ 5 10] power and ore: 18 0 unit queue: 0\n",
      "LIGHT unit_17 at: [29 20] power and ore: 18 0 unit queue: 0\n",
      "LIGHT unit_18 at: [29 27] power and ore: 14 0 unit queue: 0\n",
      "LIGHT unit_19 at: [37 11] power and ore: 14 0 unit queue: 0\n",
      "LIGHT unit_20 at: [6 9] power and ore: 23 0 unit queue: 0\n",
      "LIGHT unit_21 at: [28 19] power and ore: 31 0 unit queue: 0\n",
      "LIGHT unit_22 at: [29 26] power and ore: 23 0 unit queue: 0\n",
      "LIGHT unit_23 at: [37 12] power and ore: 23 0 unit queue: 0\n",
      "LIGHT unit_24 at: [4 9] power and ore: 28 0 unit queue: 0\n",
      "LIGHT unit_26 at: [29 28] power and ore: 28 0 unit queue: 0\n",
      "LIGHT unit_27 at: [37 10] power and ore: 28 0 unit queue: 0\n",
      "LIGHT unit_28 at: [5 5] power and ore: 29 0 unit queue: 0\n",
      "LIGHT unit_29 at: [28 18] power and ore: 45 0 unit queue: 0\n",
      "LIGHT unit_30 at: [30 25] power and ore: 41 0 unit queue: 0\n",
      "LIGHT unit_31 at: [36 12] power and ore: 45 0 unit queue: 0\n",
      "LIGHT unit_32 at: [7 8] power and ore: 38 0 unit queue: 0\n",
      "LIGHT unit_33 at: [30 19] power and ore: 22 0 unit queue: 0\n",
      "LIGHT unit_34 at: [30 29] power and ore: 46 0 unit queue: 0\n",
      "LIGHT unit_35 at: [36 11] power and ore: 46 0 unit queue: 0\n",
      "\n",
      "player_0\n",
      "turn: 13\n",
      "HEAVY unit_8 at: [3 7] power and ice: 749 120 unit queue: 0\n",
      "HEAVY unit_9 at: [32 17] power and ice: 832 100 unit queue: 0\n",
      "HEAVY unit_10 at: [32 25] power and ice: 815 100 unit queue: 0\n",
      "LIGHT unit_16 at: [ 5 10] power and ore: 13 0 unit queue: 0\n",
      "LIGHT unit_17 at: [29 20] power and ore: 13 0 unit queue: 0\n",
      "LIGHT unit_18 at: [29 27] power and ore: 9 0 unit queue: 0\n",
      "LIGHT unit_19 at: [37 11] power and ore: 9 0 unit queue: 0\n",
      "LIGHT unit_20 at: [6 9] power and ore: 18 0 unit queue: 0\n",
      "LIGHT unit_21 at: [28 19] power and ore: 26 0 unit queue: 0\n",
      "LIGHT unit_22 at: [29 26] power and ore: 18 0 unit queue: 0\n",
      "LIGHT unit_23 at: [37 12] power and ore: 18 0 unit queue: 0\n",
      "LIGHT unit_24 at: [4 9] power and ore: 23 0 unit queue: 0\n",
      "LIGHT unit_26 at: [29 28] power and ore: 23 0 unit queue: 0\n",
      "LIGHT unit_27 at: [37 10] power and ore: 23 0 unit queue: 0\n",
      "LIGHT unit_28 at: [5 5] power and ore: 24 0 unit queue: 0\n",
      "LIGHT unit_29 at: [28 17] power and ore: 44 0 unit queue: 0\n",
      "LIGHT unit_30 at: [30 25] power and ore: 36 0 unit queue: 0\n",
      "LIGHT unit_31 at: [36 13] power and ore: 44 0 unit queue: 0\n",
      "LIGHT unit_32 at: [7 8] power and ore: 33 0 unit queue: 0\n",
      "LIGHT unit_33 at: [29 19] power and ore: 21 0 unit queue: 0\n",
      "LIGHT unit_34 at: [30 29] power and ore: 41 0 unit queue: 0\n",
      "LIGHT unit_35 at: [36 10] power and ore: 45 0 unit queue: 0\n",
      "\n",
      "player_0\n",
      "turn: 14\n",
      "HEAVY unit_8 at: [3 7] power and ice: 689 140 unit queue: 0\n",
      "HEAVY unit_9 at: [32 17] power and ice: 772 120 unit queue: 0\n",
      "HEAVY unit_10 at: [32 25] power and ice: 755 120 unit queue: 0\n",
      "LIGHT unit_16 at: [ 5 10] power and ore: 8 0 unit queue: 0\n",
      "LIGHT unit_17 at: [29 20] power and ore: 8 0 unit queue: 0\n",
      "LIGHT unit_18 at: [28 27] power and ore: 4 0 unit queue: 0\n",
      "LIGHT unit_19 at: [37 11] power and ore: 4 0 unit queue: 0\n",
      "LIGHT unit_20 at: [ 6 10] power and ore: 17 0 unit queue: 0\n",
      "LIGHT unit_21 at: [28 19] power and ore: 21 0 unit queue: 0\n",
      "LIGHT unit_22 at: [29 26] power and ore: 13 0 unit queue: 0\n",
      "LIGHT unit_23 at: [37 12] power and ore: 13 0 unit queue: 0\n",
      "LIGHT unit_24 at: [4 9] power and ore: 18 0 unit queue: 0\n",
      "LIGHT unit_26 at: [29 28] power and ore: 18 0 unit queue: 0\n",
      "LIGHT unit_27 at: [37 10] power and ore: 18 0 unit queue: 0\n",
      "LIGHT unit_28 at: [5 5] power and ore: 19 0 unit queue: 0\n",
      "LIGHT unit_29 at: [28 18] power and ore: 43 0 unit queue: 0\n",
      "LIGHT unit_30 at: [30 25] power and ore: 31 0 unit queue: 0\n",
      "LIGHT unit_31 at: [36 13] power and ore: 39 0 unit queue: 0\n",
      "LIGHT unit_32 at: [7 8] power and ore: 28 0 unit queue: 0\n",
      "LIGHT unit_33 at: [30 19] power and ore: 20 0 unit queue: 0\n",
      "LIGHT unit_34 at: [30 29] power and ore: 36 0 unit queue: 0\n",
      "LIGHT unit_35 at: [36  9] power and ore: 44 0 unit queue: 0\n",
      "\n",
      "player_0\n",
      "turn: 15\n",
      "HEAVY unit_8 at: [3 7] power and ice: 629 160 unit queue: 0\n",
      "HEAVY unit_9 at: [32 17] power and ice: 712 140 unit queue: 0\n",
      "HEAVY unit_10 at: [32 25] power and ice: 695 140 unit queue: 0\n",
      "LIGHT unit_16 at: [ 5 10] power and ore: 3 0 unit queue: 0\n",
      "LIGHT unit_17 at: [28 20] power and ore: 7 0 unit queue: 0\n",
      "LIGHT unit_18 at: [28 27] power and ore: 4 0 unit queue: 1\n",
      "LIGHT unit_19 at: [37 11] power and ore: 4 0 unit queue: 1\n",
      "LIGHT unit_20 at: [ 6 10] power and ore: 12 0 unit queue: 0\n",
      "LIGHT unit_21 at: [28 19] power and ore: 16 0 unit queue: 0\n",
      "LIGHT unit_22 at: [29 26] power and ore: 8 0 unit queue: 0\n",
      "LIGHT unit_23 at: [37 12] power and ore: 8 0 unit queue: 0\n",
      "LIGHT unit_24 at: [ 4 10] power and ore: 15 0 unit queue: 0\n",
      "LIGHT unit_26 at: [29 28] power and ore: 13 0 unit queue: 0\n",
      "LIGHT unit_27 at: [37 10] power and ore: 13 0 unit queue: 0\n",
      "LIGHT unit_28 at: [5 6] power and ore: 18 0 unit queue: 0\n",
      "LIGHT unit_29 at: [28 17] power and ore: 42 0 unit queue: 0\n",
      "LIGHT unit_30 at: [30 25] power and ore: 26 0 unit queue: 0\n",
      "LIGHT unit_31 at: [36 13] power and ore: 34 0 unit queue: 0\n",
      "LIGHT unit_32 at: [7 8] power and ore: 23 0 unit queue: 0\n",
      "LIGHT unit_33 at: [29 19] power and ore: 19 0 unit queue: 0\n",
      "LIGHT unit_34 at: [30 29] power and ore: 31 0 unit queue: 0\n",
      "LIGHT unit_35 at: [36  9] power and ore: 39 0 unit queue: 0\n",
      "\n",
      "player_0\n",
      "turn: 16\n",
      "HEAVY unit_8 at: [3 7] power and ice: 569 180 unit queue: 0\n",
      "HEAVY unit_9 at: [32 17] power and ice: 652 160 unit queue: 0\n",
      "HEAVY unit_10 at: [32 25] power and ice: 635 160 unit queue: 0\n",
      "LIGHT unit_16 at: [ 5 10] power and ore: 3 0 unit queue: 1\n",
      "LIGHT unit_17 at: [28 20] power and ore: 2 0 unit queue: 0\n",
      "LIGHT unit_18 at: [28 27] power and ore: 5 0 unit queue: 1\n",
      "LIGHT unit_19 at: [37 11] power and ore: 5 0 unit queue: 1\n",
      "LIGHT unit_20 at: [ 6 10] power and ore: 7 0 unit queue: 0\n",
      "LIGHT unit_21 at: [28 19] power and ore: 11 0 unit queue: 0\n",
      "LIGHT unit_22 at: [28 26] power and ore: 3 0 unit queue: 0\n",
      "LIGHT unit_23 at: [37 12] power and ore: 3 0 unit queue: 0\n",
      "LIGHT unit_24 at: [ 4 10] power and ore: 10 0 unit queue: 0\n",
      "LIGHT unit_26 at: [29 28] power and ore: 8 0 unit queue: 0\n",
      "LIGHT unit_27 at: [37 10] power and ore: 8 0 unit queue: 0\n",
      "LIGHT unit_28 at: [5 7] power and ore: 17 0 unit queue: 0\n",
      "LIGHT unit_29 at: [28 18] power and ore: 41 0 unit queue: 0\n",
      "LIGHT unit_30 at: [30 25] power and ore: 21 0 unit queue: 0\n",
      "LIGHT unit_31 at: [36 13] power and ore: 29 0 unit queue: 0\n",
      "LIGHT unit_32 at: [7 8] power and ore: 18 0 unit queue: 0\n",
      "LIGHT unit_33 at: [29 20] power and ore: 18 0 unit queue: 0\n",
      "LIGHT unit_34 at: [30 29] power and ore: 26 0 unit queue: 0\n",
      "LIGHT unit_35 at: [36  9] power and ore: 34 0 unit queue: 0\n",
      "\n",
      "player_0\n",
      "turn: 17\n",
      "HEAVY unit_8 at: [3 7] power and ice: 509 200 unit queue: 0\n",
      "HEAVY unit_9 at: [32 17] power and ice: 592 180 unit queue: 0\n",
      "HEAVY unit_10 at: [32 25] power and ice: 575 180 unit queue: 0\n",
      "LIGHT unit_16 at: [ 5 10] power and ore: 4 0 unit queue: 1\n",
      "LIGHT unit_17 at: [28 20] power and ore: 2 0 unit queue: 1\n",
      "LIGHT unit_18 at: [28 27] power and ore: 6 0 unit queue: 1\n",
      "LIGHT unit_19 at: [37 11] power and ore: 6 0 unit queue: 1\n",
      "LIGHT unit_20 at: [ 6 10] power and ore: 2 0 unit queue: 0\n",
      "LIGHT unit_21 at: [28 19] power and ore: 6 0 unit queue: 0\n",
      "LIGHT unit_22 at: [28 26] power and ore: 3 0 unit queue: 1\n",
      "LIGHT unit_23 at: [37 12] power and ore: 3 0 unit queue: 1\n",
      "LIGHT unit_24 at: [ 4 10] power and ore: 5 0 unit queue: 0\n",
      "LIGHT unit_26 at: [29 28] power and ore: 3 0 unit queue: 0\n",
      "LIGHT unit_27 at: [37 10] power and ore: 3 0 unit queue: 0\n",
      "LIGHT unit_28 at: [5 8] power and ore: 16 0 unit queue: 0\n",
      "LIGHT unit_29 at: [28 17] power and ore: 40 0 unit queue: 0\n",
      "LIGHT unit_30 at: [30 25] power and ore: 16 0 unit queue: 0\n",
      "LIGHT unit_31 at: [36 13] power and ore: 24 0 unit queue: 0\n",
      "LIGHT unit_32 at: [7 8] power and ore: 13 0 unit queue: 0\n",
      "LIGHT unit_33 at: [30 20] power and ore: 17 0 unit queue: 0\n",
      "LIGHT unit_34 at: [30 29] power and ore: 21 0 unit queue: 0\n",
      "LIGHT unit_35 at: [36  9] power and ore: 29 0 unit queue: 0\n",
      "\n",
      "player_0\n",
      "turn: 18\n",
      "HEAVY unit_8 at: [3 7] power and ice: 449 220 unit queue: 0\n",
      "HEAVY unit_9 at: [32 17] power and ice: 532 200 unit queue: 0\n",
      "HEAVY unit_10 at: [32 25] power and ice: 515 200 unit queue: 0\n",
      "LIGHT unit_16 at: [ 5 10] power and ore: 5 0 unit queue: 1\n",
      "LIGHT unit_17 at: [28 20] power and ore: 3 0 unit queue: 1\n",
      "LIGHT unit_18 at: [28 27] power and ore: 1 0 unit queue: 0\n",
      "LIGHT unit_19 at: [37 11] power and ore: 1 0 unit queue: 0\n",
      "LIGHT unit_20 at: [ 6 10] power and ore: 2 0 unit queue: 1\n",
      "LIGHT unit_21 at: [27 19] power and ore: 5 0 unit queue: 0\n",
      "LIGHT unit_22 at: [28 26] power and ore: 4 0 unit queue: 1\n",
      "LIGHT unit_23 at: [37 12] power and ore: 4 0 unit queue: 1\n",
      "LIGHT unit_24 at: [ 4 10] power and ore: 5 0 unit queue: 1\n",
      "LIGHT unit_26 at: [29 28] power and ore: 3 0 unit queue: 1\n",
      "LIGHT unit_27 at: [37 10] power and ore: 3 0 unit queue: 1\n",
      "LIGHT unit_28 at: [5 9] power and ore: 15 0 unit queue: 0\n",
      "LIGHT unit_29 at: [28 18] power and ore: 39 0 unit queue: 0\n",
      "LIGHT unit_30 at: [30 25] power and ore: 11 0 unit queue: 0\n",
      "LIGHT unit_31 at: [36 13] power and ore: 19 0 unit queue: 0\n",
      "LIGHT unit_32 at: [7 9] power and ore: 12 0 unit queue: 0\n",
      "LIGHT unit_33 at: [30 20] power and ore: 12 0 unit queue: 0\n",
      "LIGHT unit_34 at: [30 29] power and ore: 16 0 unit queue: 0\n",
      "LIGHT unit_35 at: [36  9] power and ore: 24 0 unit queue: 0\n",
      "\n",
      "player_0\n",
      "turn: 19\n",
      "HEAVY unit_8 at: [3 7] power and ice: 389 240 unit queue: 0\n",
      "HEAVY unit_9 at: [32 17] power and ice: 472 220 unit queue: 0\n",
      "HEAVY unit_10 at: [32 25] power and ice: 455 220 unit queue: 0\n",
      "LIGHT unit_16 at: [ 5 10] power and ore: 6 0 unit queue: 1\n",
      "LIGHT unit_17 at: [28 20] power and ore: 4 0 unit queue: 1\n",
      "LIGHT unit_18 at: [28 27] power and ore: 1 0 unit queue: 1\n",
      "LIGHT unit_19 at: [37 11] power and ore: 1 0 unit queue: 1\n",
      "LIGHT unit_20 at: [ 6 10] power and ore: 3 0 unit queue: 1\n",
      "LIGHT unit_21 at: [27 19] power and ore: 5 0 unit queue: 1\n",
      "LIGHT unit_22 at: [28 26] power and ore: 5 0 unit queue: 1\n",
      "LIGHT unit_23 at: [37 12] power and ore: 5 0 unit queue: 1\n",
      "LIGHT unit_24 at: [ 4 10] power and ore: 6 0 unit queue: 1\n",
      "LIGHT unit_26 at: [29 28] power and ore: 4 0 unit queue: 1\n",
      "LIGHT unit_27 at: [37 10] power and ore: 4 0 unit queue: 1\n",
      "LIGHT unit_28 at: [6 9] power and ore: 14 0 unit queue: 0\n",
      "LIGHT unit_29 at: [28 19] power and ore: 38 0 unit queue: 0\n",
      "LIGHT unit_30 at: [30 25] power and ore: 6 0 unit queue: 0\n",
      "LIGHT unit_31 at: [36 13] power and ore: 14 0 unit queue: 0\n",
      "LIGHT unit_32 at: [7 9] power and ore: 7 0 unit queue: 0\n",
      "LIGHT unit_33 at: [30 20] power and ore: 7 0 unit queue: 0\n",
      "LIGHT unit_34 at: [30 29] power and ore: 11 0 unit queue: 0\n",
      "LIGHT unit_35 at: [36  9] power and ore: 19 0 unit queue: 0\n",
      "\n",
      "player_0\n",
      "turn: 20\n",
      "HEAVY unit_8 at: [3 7] power and ice: 329 260 unit queue: 0\n",
      "HEAVY unit_9 at: [32 17] power and ice: 412 240 unit queue: 0\n",
      "HEAVY unit_10 at: [32 25] power and ice: 395 240 unit queue: 0\n",
      "LIGHT unit_16 at: [ 5 10] power and ore: 1 0 unit queue: 0\n",
      "LIGHT unit_17 at: [28 20] power and ore: 5 0 unit queue: 1\n",
      "LIGHT unit_18 at: [28 27] power and ore: 2 0 unit queue: 1\n",
      "LIGHT unit_19 at: [37 11] power and ore: 2 0 unit queue: 1\n",
      "LIGHT unit_20 at: [ 6 10] power and ore: 4 0 unit queue: 1\n",
      "LIGHT unit_21 at: [27 19] power and ore: 6 0 unit queue: 1\n",
      "LIGHT unit_22 at: [28 26] power and ore: 6 0 unit queue: 1\n",
      "LIGHT unit_23 at: [37 12] power and ore: 6 0 unit queue: 1\n",
      "LIGHT unit_24 at: [ 4 10] power and ore: 1 0 unit queue: 0\n",
      "LIGHT unit_26 at: [29 28] power and ore: 5 0 unit queue: 1\n",
      "LIGHT unit_27 at: [37 10] power and ore: 5 0 unit queue: 1\n",
      "LIGHT unit_28 at: [5 9] power and ore: 13 0 unit queue: 0\n",
      "LIGHT unit_29 at: [29 19] power and ore: 37 0 unit queue: 0\n",
      "LIGHT unit_30 at: [29 25] power and ore: 5 0 unit queue: 0\n",
      "LIGHT unit_31 at: [36 13] power and ore: 9 0 unit queue: 0\n",
      "LIGHT unit_32 at: [7 9] power and ore: 2 0 unit queue: 0\n",
      "LIGHT unit_33 at: [30 20] power and ore: 2 0 unit queue: 0\n",
      "LIGHT unit_34 at: [30 29] power and ore: 6 0 unit queue: 0\n",
      "LIGHT unit_35 at: [36  9] power and ore: 14 0 unit queue: 0\n",
      "\n",
      "player_0\n",
      "turn: 21\n",
      "HEAVY unit_8 at: [3 7] power and ice: 269 280 unit queue: 0\n",
      "HEAVY unit_9 at: [32 17] power and ice: 352 260 unit queue: 0\n",
      "HEAVY unit_10 at: [32 25] power and ice: 335 260 unit queue: 0\n",
      "LIGHT unit_16 at: [ 5 10] power and ore: 1 0 unit queue: 1\n",
      "LIGHT unit_17 at: [28 20] power and ore: 6 0 unit queue: 1\n",
      "LIGHT unit_18 at: [28 27] power and ore: 3 0 unit queue: 1\n",
      "LIGHT unit_19 at: [37 11] power and ore: 3 0 unit queue: 1\n",
      "LIGHT unit_20 at: [ 6 10] power and ore: 5 0 unit queue: 1\n",
      "LIGHT unit_21 at: [27 19] power and ore: 1 0 unit queue: 0\n",
      "LIGHT unit_22 at: [28 26] power and ore: 1 0 unit queue: 0\n",
      "LIGHT unit_23 at: [37 12] power and ore: 1 0 unit queue: 0\n",
      "LIGHT unit_24 at: [ 4 10] power and ore: 1 0 unit queue: 1\n",
      "LIGHT unit_26 at: [29 28] power and ore: 6 0 unit queue: 1\n",
      "LIGHT unit_27 at: [37 10] power and ore: 6 0 unit queue: 1\n",
      "LIGHT unit_28 at: [5 8] power and ore: 12 0 unit queue: 0\n",
      "LIGHT unit_29 at: [29 20] power and ore: 36 0 unit queue: 0\n",
      "LIGHT unit_30 at: [29 25] power and ore: 5 0 unit queue: 1\n",
      "LIGHT unit_31 at: [36 13] power and ore: 4 0 unit queue: 0\n",
      "LIGHT unit_32 at: [7 9] power and ore: 2 0 unit queue: 1\n",
      "LIGHT unit_33 at: [30 20] power and ore: 2 0 unit queue: 1\n",
      "LIGHT unit_34 at: [30 29] power and ore: 1 0 unit queue: 0\n",
      "LIGHT unit_35 at: [36  9] power and ore: 9 0 unit queue: 0\n",
      "\n",
      "player_0\n",
      "turn: 22\n",
      "HEAVY unit_8 at: [3 7] power and ice: 209 300 unit queue: 0\n",
      "HEAVY unit_9 at: [32 17] power and ice: 292 280 unit queue: 0\n",
      "HEAVY unit_10 at: [32 25] power and ice: 275 280 unit queue: 0\n",
      "LIGHT unit_16 at: [ 5 10] power and ore: 2 0 unit queue: 1\n",
      "LIGHT unit_17 at: [28 20] power and ore: 1 0 unit queue: 0\n",
      "LIGHT unit_18 at: [28 27] power and ore: 4 0 unit queue: 1\n",
      "LIGHT unit_19 at: [37 11] power and ore: 4 0 unit queue: 1\n",
      "LIGHT unit_20 at: [ 6 10] power and ore: 6 0 unit queue: 1\n",
      "LIGHT unit_21 at: [27 19] power and ore: 1 0 unit queue: 1\n",
      "LIGHT unit_22 at: [28 26] power and ore: 1 0 unit queue: 1\n",
      "LIGHT unit_23 at: [37 12] power and ore: 1 0 unit queue: 1\n",
      "LIGHT unit_24 at: [ 4 10] power and ore: 2 0 unit queue: 1\n",
      "LIGHT unit_26 at: [29 27] power and ore: 5 0 unit queue: 0\n",
      "LIGHT unit_27 at: [37 10] power and ore: 1 0 unit queue: 0\n",
      "LIGHT unit_28 at: [5 9] power and ore: 11 0 unit queue: 0\n",
      "LIGHT unit_29 at: [29 21] power and ore: 35 0 unit queue: 0\n",
      "LIGHT unit_30 at: [29 25] power and ore: 6 0 unit queue: 1\n",
      "LIGHT unit_31 at: [36 13] power and ore: 4 0 unit queue: 1\n",
      "LIGHT unit_32 at: [7 9] power and ore: 3 0 unit queue: 1\n",
      "LIGHT unit_33 at: [30 20] power and ore: 3 0 unit queue: 1\n",
      "LIGHT unit_34 at: [30 29] power and ore: 1 0 unit queue: 1\n",
      "LIGHT unit_35 at: [36  9] power and ore: 4 0 unit queue: 0\n",
      "\n",
      "player_0\n",
      "turn: 23\n",
      "HEAVY unit_8 at: [3 7] power and ice: 149 320 unit queue: 0\n",
      "HEAVY unit_9 at: [32 17] power and ice: 232 300 unit queue: 0\n",
      "HEAVY unit_10 at: [32 25] power and ice: 215 300 unit queue: 0\n",
      "LIGHT unit_16 at: [ 5 10] power and ore: 3 0 unit queue: 1\n",
      "LIGHT unit_17 at: [28 20] power and ore: 1 0 unit queue: 1\n",
      "LIGHT unit_18 at: [28 27] power and ore: 5 0 unit queue: 1\n",
      "LIGHT unit_19 at: [37 11] power and ore: 5 0 unit queue: 1\n",
      "LIGHT unit_20 at: [ 6 10] power and ore: 1 0 unit queue: 0\n",
      "LIGHT unit_21 at: [27 19] power and ore: 2 0 unit queue: 1\n",
      "LIGHT unit_22 at: [28 26] power and ore: 2 0 unit queue: 1\n",
      "LIGHT unit_23 at: [37 12] power and ore: 2 0 unit queue: 1\n",
      "LIGHT unit_24 at: [ 4 10] power and ore: 3 0 unit queue: 1\n",
      "LIGHT unit_26 at: [29 27] power and ore: 5 0 unit queue: 1\n",
      "LIGHT unit_27 at: [37 10] power and ore: 1 0 unit queue: 1\n",
      "LIGHT unit_28 at: [4 9] power and ore: 10 0 unit queue: 0\n",
      "LIGHT unit_29 at: [29 21] power and ore: 30 0 unit queue: 0\n",
      "LIGHT unit_30 at: [29 25] power and ore: 1 0 unit queue: 0\n",
      "LIGHT unit_31 at: [36 13] power and ore: 5 0 unit queue: 1\n",
      "LIGHT unit_32 at: [7 9] power and ore: 4 0 unit queue: 1\n",
      "LIGHT unit_33 at: [30 20] power and ore: 4 0 unit queue: 1\n",
      "LIGHT unit_34 at: [30 29] power and ore: 2 0 unit queue: 1\n",
      "LIGHT unit_35 at: [36  9] power and ore: 4 0 unit queue: 1\n",
      "\n",
      "player_0\n",
      "turn: 24\n",
      "HEAVY unit_8 at: [3 7] power and ice: 89 340 unit queue: 0\n",
      "HEAVY unit_9 at: [32 17] power and ice: 172 320 unit queue: 0\n",
      "HEAVY unit_10 at: [32 25] power and ice: 155 320 unit queue: 0\n",
      "LIGHT unit_16 at: [ 5 10] power and ore: 4 0 unit queue: 1\n",
      "LIGHT unit_17 at: [28 20] power and ore: 2 0 unit queue: 1\n",
      "LIGHT unit_18 at: [28 27] power and ore: 6 0 unit queue: 1\n",
      "LIGHT unit_19 at: [37 11] power and ore: 6 0 unit queue: 1\n",
      "LIGHT unit_20 at: [ 6 10] power and ore: 1 0 unit queue: 1\n",
      "LIGHT unit_21 at: [27 19] power and ore: 3 0 unit queue: 1\n",
      "LIGHT unit_22 at: [28 26] power and ore: 3 0 unit queue: 1\n",
      "LIGHT unit_23 at: [37 12] power and ore: 3 0 unit queue: 1\n",
      "LIGHT unit_24 at: [ 4 10] power and ore: 4 0 unit queue: 1\n",
      "LIGHT unit_26 at: [29 27] power and ore: 6 0 unit queue: 1\n",
      "LIGHT unit_27 at: [37 10] power and ore: 2 0 unit queue: 1\n",
      "LIGHT unit_28 at: [3 9] power and ore: 7 0 unit queue: 0\n",
      "LIGHT unit_29 at: [29 21] power and ore: 25 0 unit queue: 0\n",
      "LIGHT unit_30 at: [29 25] power and ore: 1 0 unit queue: 1\n",
      "LIGHT unit_31 at: [36 13] power and ore: 6 0 unit queue: 1\n",
      "LIGHT unit_32 at: [7 9] power and ore: 5 0 unit queue: 1\n",
      "LIGHT unit_33 at: [30 20] power and ore: 5 0 unit queue: 1\n",
      "LIGHT unit_34 at: [30 29] power and ore: 3 0 unit queue: 1\n",
      "LIGHT unit_35 at: [36  9] power and ore: 5 0 unit queue: 1\n",
      "\n",
      "player_0\n",
      "turn: 25\n",
      "HEAVY unit_8 at: [4 7] power and ice: 69 340 unit queue: 0\n",
      "HEAVY unit_9 at: [32 17] power and ice: 112 340 unit queue: 0\n",
      "HEAVY unit_10 at: [32 25] power and ice: 95 340 unit queue: 0\n",
      "LIGHT unit_16 at: [ 5 10] power and ore: 5 0 unit queue: 1\n",
      "LIGHT unit_17 at: [28 20] power and ore: 3 0 unit queue: 1\n",
      "LIGHT unit_18 at: [28 27] power and ore: 1 0 unit queue: 0\n",
      "LIGHT unit_19 at: [38 11] power and ore: 1 0 unit queue: 0\n",
      "LIGHT unit_20 at: [ 6 10] power and ore: 2 0 unit queue: 1\n",
      "LIGHT unit_21 at: [27 19] power and ore: 4 0 unit queue: 1\n",
      "LIGHT unit_22 at: [28 26] power and ore: 4 0 unit queue: 1\n",
      "LIGHT unit_23 at: [37 12] power and ore: 4 0 unit queue: 1\n",
      "LIGHT unit_24 at: [ 4 10] power and ore: 5 0 unit queue: 1\n",
      "LIGHT unit_26 at: [30 27] power and ore: 5 0 unit queue: 0\n",
      "LIGHT unit_27 at: [37 10] power and ore: 3 0 unit queue: 1\n",
      "LIGHT unit_28 at: [3 9] power and ore: 2 0 unit queue: 0\n",
      "LIGHT unit_29 at: [29 21] power and ore: 20 0 unit queue: 0\n",
      "LIGHT unit_30 at: [29 25] power and ore: 2 0 unit queue: 1\n",
      "LIGHT unit_31 at: [36 13] power and ore: 1 0 unit queue: 0\n",
      "LIGHT unit_32 at: [7 9] power and ore: 6 0 unit queue: 1\n",
      "LIGHT unit_33 at: [30 20] power and ore: 6 0 unit queue: 1\n",
      "LIGHT unit_34 at: [30 29] power and ore: 4 0 unit queue: 1\n",
      "LIGHT unit_35 at: [36  9] power and ore: 6 0 unit queue: 1\n",
      "\n",
      "player_0\n",
      "turn: 26\n",
      "HEAVY unit_8 at: [4 7] power and ice: 819 340 unit queue: 0\n",
      "HEAVY unit_9 at: [32 17] power and ice: 52 360 unit queue: 0\n",
      "HEAVY unit_10 at: [32 26] power and ice: 75 340 unit queue: 0\n",
      "LIGHT unit_16 at: [ 5 10] power and ore: 6 0 unit queue: 1\n",
      "LIGHT unit_17 at: [28 20] power and ore: 4 0 unit queue: 1\n",
      "LIGHT unit_18 at: [28 27] power and ore: 1 0 unit queue: 1\n",
      "LIGHT unit_19 at: [38 11] power and ore: 1 0 unit queue: 1\n",
      "LIGHT unit_20 at: [ 6 10] power and ore: 3 0 unit queue: 1\n",
      "LIGHT unit_21 at: [27 19] power and ore: 5 0 unit queue: 1\n",
      "LIGHT unit_22 at: [28 26] power and ore: 5 0 unit queue: 1\n",
      "LIGHT unit_23 at: [37 12] power and ore: 5 0 unit queue: 1\n",
      "LIGHT unit_24 at: [ 4 10] power and ore: 6 0 unit queue: 1\n",
      "LIGHT unit_26 at: [30 27] power and ore: 5 0 unit queue: 1\n",
      "LIGHT unit_27 at: [37 10] power and ore: 4 0 unit queue: 1\n",
      "LIGHT unit_28 at: [3 9] power and ore: 2 0 unit queue: 1\n",
      "LIGHT unit_29 at: [29 21] power and ore: 15 0 unit queue: 0\n",
      "LIGHT unit_30 at: [29 25] power and ore: 3 0 unit queue: 1\n",
      "LIGHT unit_31 at: [36 13] power and ore: 1 0 unit queue: 1\n",
      "LIGHT unit_32 at: [7 9] power and ore: 1 0 unit queue: 0\n",
      "LIGHT unit_33 at: [30 20] power and ore: 1 0 unit queue: 0\n",
      "LIGHT unit_34 at: [30 29] power and ore: 5 0 unit queue: 1\n",
      "LIGHT unit_35 at: [36  9] power and ore: 1 0 unit queue: 0\n",
      "\n",
      "player_0\n",
      "turn: 27\n",
      "HEAVY unit_8 at: [3 7] power and ice: 799 340 unit queue: 0\n",
      "HEAVY unit_9 at: [31 17] power and ice: 32 360 unit queue: 0\n",
      "HEAVY unit_10 at: [32 26] power and ice: 825 340 unit queue: 0\n",
      "LIGHT unit_16 at: [ 5 10] power and ore: 1 0 unit queue: 0\n",
      "LIGHT unit_17 at: [28 20] power and ore: 5 0 unit queue: 1\n",
      "LIGHT unit_18 at: [28 27] power and ore: 2 0 unit queue: 1\n",
      "LIGHT unit_19 at: [38 11] power and ore: 2 0 unit queue: 1\n",
      "LIGHT unit_20 at: [ 6 10] power and ore: 4 0 unit queue: 1\n",
      "LIGHT unit_21 at: [27 19] power and ore: 6 0 unit queue: 1\n",
      "LIGHT unit_22 at: [28 26] power and ore: 6 0 unit queue: 1\n",
      "LIGHT unit_23 at: [37 12] power and ore: 6 0 unit queue: 1\n",
      "LIGHT unit_24 at: [ 4 10] power and ore: 1 0 unit queue: 0\n",
      "LIGHT unit_26 at: [30 27] power and ore: 6 0 unit queue: 1\n",
      "LIGHT unit_27 at: [37 10] power and ore: 5 0 unit queue: 1\n",
      "LIGHT unit_28 at: [3 9] power and ore: 3 0 unit queue: 1\n",
      "LIGHT unit_29 at: [29 21] power and ore: 10 0 unit queue: 0\n",
      "LIGHT unit_30 at: [29 25] power and ore: 4 0 unit queue: 1\n",
      "LIGHT unit_31 at: [36 13] power and ore: 2 0 unit queue: 1\n",
      "LIGHT unit_32 at: [7 9] power and ore: 1 0 unit queue: 1\n",
      "LIGHT unit_33 at: [30 20] power and ore: 1 0 unit queue: 1\n",
      "LIGHT unit_34 at: [30 29] power and ore: 6 0 unit queue: 1\n",
      "LIGHT unit_35 at: [36  9] power and ore: 1 0 unit queue: 1\n",
      "\n",
      "player_0\n",
      "turn: 28\n",
      "HEAVY unit_8 at: [3 7] power and ice: 739 360 unit queue: 0\n",
      "HEAVY unit_9 at: [31 17] power and ice: 832 360 unit queue: 0\n",
      "HEAVY unit_10 at: [32 25] power and ice: 805 340 unit queue: 0\n",
      "LIGHT unit_16 at: [ 5 10] power and ore: 1 0 unit queue: 1\n",
      "LIGHT unit_17 at: [28 20] power and ore: 6 0 unit queue: 1\n",
      "LIGHT unit_18 at: [28 27] power and ore: 3 0 unit queue: 1\n",
      "LIGHT unit_19 at: [38 11] power and ore: 3 0 unit queue: 1\n",
      "LIGHT unit_20 at: [ 6 10] power and ore: 5 0 unit queue: 1\n",
      "LIGHT unit_21 at: [27 19] power and ore: 1 0 unit queue: 0\n",
      "LIGHT unit_22 at: [28 26] power and ore: 1 0 unit queue: 0\n",
      "LIGHT unit_23 at: [38 12] power and ore: 1 0 unit queue: 0\n",
      "LIGHT unit_24 at: [ 4 10] power and ore: 1 0 unit queue: 1\n",
      "LIGHT unit_26 at: [29 27] power and ore: 5 0 unit queue: 0\n",
      "LIGHT unit_27 at: [37 10] power and ore: 6 0 unit queue: 1\n",
      "LIGHT unit_28 at: [3 9] power and ore: 4 0 unit queue: 1\n",
      "LIGHT unit_29 at: [29 21] power and ore: 5 0 unit queue: 0\n",
      "LIGHT unit_30 at: [29 25] power and ore: 5 0 unit queue: 1\n",
      "LIGHT unit_31 at: [36 13] power and ore: 3 0 unit queue: 1\n",
      "LIGHT unit_32 at: [7 9] power and ore: 2 0 unit queue: 1\n",
      "LIGHT unit_33 at: [30 20] power and ore: 2 0 unit queue: 1\n",
      "LIGHT unit_34 at: [30 28] power and ore: 5 0 unit queue: 0\n",
      "LIGHT unit_35 at: [36  9] power and ore: 2 0 unit queue: 1\n",
      "\n",
      "player_0\n",
      "turn: 29\n",
      "HEAVY unit_8 at: [3 7] power and ice: 679 380 unit queue: 0\n",
      "HEAVY unit_9 at: [32 17] power and ice: 812 360 unit queue: 0\n",
      "HEAVY unit_10 at: [32 25] power and ice: 745 360 unit queue: 0\n",
      "LIGHT unit_16 at: [ 5 10] power and ore: 2 0 unit queue: 1\n",
      "LIGHT unit_17 at: [28 20] power and ore: 1 0 unit queue: 0\n",
      "LIGHT unit_18 at: [28 27] power and ore: 4 0 unit queue: 1\n",
      "LIGHT unit_19 at: [38 11] power and ore: 4 0 unit queue: 1\n",
      "LIGHT unit_20 at: [ 6 10] power and ore: 6 0 unit queue: 1\n",
      "LIGHT unit_21 at: [27 19] power and ore: 1 0 unit queue: 1\n",
      "LIGHT unit_22 at: [28 26] power and ore: 1 0 unit queue: 1\n",
      "LIGHT unit_23 at: [38 12] power and ore: 1 0 unit queue: 1\n",
      "LIGHT unit_24 at: [ 4 10] power and ore: 2 0 unit queue: 1\n",
      "LIGHT unit_26 at: [29 27] power and ore: 5 0 unit queue: 1\n",
      "LIGHT unit_27 at: [38 10] power and ore: 5 0 unit queue: 0\n",
      "LIGHT unit_28 at: [3 9] power and ore: 5 0 unit queue: 1\n",
      "LIGHT unit_29 at: [29 21] power and ore: 5 0 unit queue: 1\n",
      "LIGHT unit_30 at: [29 25] power and ore: 6 0 unit queue: 1\n",
      "LIGHT unit_31 at: [36 13] power and ore: 4 0 unit queue: 1\n",
      "LIGHT unit_32 at: [7 9] power and ore: 3 0 unit queue: 1\n",
      "LIGHT unit_33 at: [30 20] power and ore: 3 0 unit queue: 1\n",
      "LIGHT unit_34 at: [30 28] power and ore: 5 0 unit queue: 1\n",
      "LIGHT unit_35 at: [36  9] power and ore: 3 0 unit queue: 1\n",
      "\n",
      "player_0\n",
      "turn: 30\n",
      "HEAVY unit_8 at: [3 7] power and ice: 619 400 unit queue: 0\n",
      "HEAVY unit_9 at: [32 17] power and ice: 752 380 unit queue: 0\n",
      "HEAVY unit_10 at: [32 25] power and ice: 685 380 unit queue: 0\n",
      "LIGHT unit_16 at: [ 5 10] power and ore: 3 0 unit queue: 1\n",
      "LIGHT unit_17 at: [28 20] power and ore: 1 0 unit queue: 1\n",
      "LIGHT unit_18 at: [28 27] power and ore: 5 0 unit queue: 1\n",
      "LIGHT unit_19 at: [38 11] power and ore: 5 0 unit queue: 1\n",
      "LIGHT unit_20 at: [ 6 10] power and ore: 1 0 unit queue: 0\n",
      "LIGHT unit_21 at: [27 19] power and ore: 2 0 unit queue: 1\n",
      "LIGHT unit_22 at: [28 26] power and ore: 2 0 unit queue: 1\n",
      "LIGHT unit_23 at: [38 12] power and ore: 2 0 unit queue: 1\n",
      "LIGHT unit_24 at: [ 4 10] power and ore: 3 0 unit queue: 1\n",
      "LIGHT unit_26 at: [29 27] power and ore: 6 0 unit queue: 1\n",
      "LIGHT unit_27 at: [38 10] power and ore: 5 0 unit queue: 1\n",
      "LIGHT unit_28 at: [3 9] power and ore: 6 0 unit queue: 1\n",
      "LIGHT unit_29 at: [29 21] power and ore: 6 0 unit queue: 1\n",
      "LIGHT unit_30 at: [29 25] power and ore: 1 0 unit queue: 0\n",
      "LIGHT unit_31 at: [36 13] power and ore: 5 0 unit queue: 1\n",
      "LIGHT unit_32 at: [7 9] power and ore: 4 0 unit queue: 1\n",
      "LIGHT unit_33 at: [30 20] power and ore: 4 0 unit queue: 1\n",
      "LIGHT unit_34 at: [30 28] power and ore: 6 0 unit queue: 1\n",
      "LIGHT unit_35 at: [36  9] power and ore: 4 0 unit queue: 1\n",
      "\n",
      "player_0\n",
      "turn: 31\n",
      "HEAVY unit_8 at: [3 7] power and ice: 549 420 unit queue: 0\n",
      "HEAVY unit_9 at: [32 17] power and ice: 682 400 unit queue: 0\n",
      "HEAVY unit_10 at: [32 25] power and ice: 615 400 unit queue: 0\n",
      "LIGHT unit_16 at: [ 5 10] power and ore: 3 0 unit queue: 1\n",
      "LIGHT unit_17 at: [28 20] power and ore: 1 0 unit queue: 1\n",
      "LIGHT unit_18 at: [28 27] power and ore: 5 0 unit queue: 1\n",
      "LIGHT unit_19 at: [38 11] power and ore: 5 0 unit queue: 1\n",
      "LIGHT unit_20 at: [ 6 10] power and ore: 0 0 unit queue: 1\n",
      "LIGHT unit_21 at: [27 19] power and ore: 2 0 unit queue: 1\n",
      "LIGHT unit_22 at: [28 26] power and ore: 2 0 unit queue: 1\n",
      "LIGHT unit_23 at: [38 12] power and ore: 2 0 unit queue: 1\n",
      "LIGHT unit_24 at: [ 4 10] power and ore: 3 0 unit queue: 1\n",
      "LIGHT unit_26 at: [30 27] power and ore: 4 0 unit queue: 0\n",
      "LIGHT unit_27 at: [38 10] power and ore: 5 0 unit queue: 1\n",
      "LIGHT unit_28 at: [3 9] power and ore: 0 0 unit queue: 0\n",
      "LIGHT unit_29 at: [29 21] power and ore: 0 0 unit queue: 0\n",
      "LIGHT unit_30 at: [29 25] power and ore: 0 0 unit queue: 1\n",
      "LIGHT unit_31 at: [36 13] power and ore: 5 0 unit queue: 1\n",
      "LIGHT unit_32 at: [7 9] power and ore: 4 0 unit queue: 1\n",
      "LIGHT unit_33 at: [30 20] power and ore: 4 0 unit queue: 1\n",
      "LIGHT unit_34 at: [29 28] power and ore: 4 0 unit queue: 0\n",
      "LIGHT unit_35 at: [36  9] power and ore: 4 0 unit queue: 1\n",
      "\n",
      "player_0\n",
      "turn: 32\n",
      "HEAVY unit_8 at: [3 7] power and ice: 479 440 unit queue: 0\n",
      "HEAVY unit_9 at: [32 17] power and ice: 612 420 unit queue: 0\n",
      "HEAVY unit_10 at: [32 25] power and ice: 545 420 unit queue: 0\n",
      "LIGHT unit_16 at: [ 5 10] power and ore: 3 0 unit queue: 1\n",
      "LIGHT unit_17 at: [28 20] power and ore: 1 0 unit queue: 1\n",
      "LIGHT unit_18 at: [28 27] power and ore: 5 0 unit queue: 1\n",
      "LIGHT unit_19 at: [38 11] power and ore: 5 0 unit queue: 1\n",
      "LIGHT unit_20 at: [ 6 10] power and ore: 0 0 unit queue: 1\n",
      "LIGHT unit_21 at: [27 19] power and ore: 2 0 unit queue: 1\n",
      "LIGHT unit_22 at: [28 26] power and ore: 2 0 unit queue: 1\n",
      "LIGHT unit_23 at: [38 12] power and ore: 2 0 unit queue: 1\n",
      "LIGHT unit_24 at: [ 4 10] power and ore: 3 0 unit queue: 1\n",
      "LIGHT unit_26 at: [30 27] power and ore: 3 0 unit queue: 1\n",
      "LIGHT unit_27 at: [38 10] power and ore: 5 0 unit queue: 1\n",
      "LIGHT unit_28 at: [3 9] power and ore: 0 0 unit queue: 0\n",
      "LIGHT unit_29 at: [29 21] power and ore: 0 0 unit queue: 0\n",
      "LIGHT unit_30 at: [29 25] power and ore: 0 0 unit queue: 1\n",
      "LIGHT unit_31 at: [36 13] power and ore: 5 0 unit queue: 1\n",
      "LIGHT unit_32 at: [7 9] power and ore: 4 0 unit queue: 1\n",
      "LIGHT unit_33 at: [30 20] power and ore: 4 0 unit queue: 1\n",
      "LIGHT unit_34 at: [29 28] power and ore: 3 0 unit queue: 1\n",
      "LIGHT unit_35 at: [36  9] power and ore: 4 0 unit queue: 1\n",
      "\n",
      "player_0\n",
      "turn: 33\n",
      "HEAVY unit_8 at: [3 7] power and ice: 409 460 unit queue: 0\n",
      "HEAVY unit_9 at: [32 17] power and ice: 542 440 unit queue: 0\n",
      "HEAVY unit_10 at: [32 25] power and ice: 475 440 unit queue: 0\n",
      "LIGHT unit_16 at: [ 5 10] power and ore: 3 0 unit queue: 1\n",
      "LIGHT unit_17 at: [28 20] power and ore: 1 0 unit queue: 1\n",
      "LIGHT unit_18 at: [28 27] power and ore: 5 0 unit queue: 1\n",
      "LIGHT unit_19 at: [38 11] power and ore: 5 0 unit queue: 1\n",
      "LIGHT unit_20 at: [ 6 10] power and ore: 0 0 unit queue: 1\n",
      "LIGHT unit_21 at: [27 19] power and ore: 2 0 unit queue: 1\n",
      "LIGHT unit_22 at: [28 26] power and ore: 2 0 unit queue: 1\n",
      "LIGHT unit_23 at: [38 12] power and ore: 2 0 unit queue: 1\n",
      "LIGHT unit_24 at: [ 4 10] power and ore: 3 0 unit queue: 1\n",
      "LIGHT unit_26 at: [30 27] power and ore: 3 0 unit queue: 1\n",
      "LIGHT unit_27 at: [38 10] power and ore: 5 0 unit queue: 1\n",
      "LIGHT unit_28 at: [3 9] power and ore: 0 0 unit queue: 0\n",
      "LIGHT unit_29 at: [29 21] power and ore: 0 0 unit queue: 0\n",
      "LIGHT unit_30 at: [29 25] power and ore: 0 0 unit queue: 1\n",
      "LIGHT unit_31 at: [36 13] power and ore: 5 0 unit queue: 1\n",
      "LIGHT unit_32 at: [7 9] power and ore: 4 0 unit queue: 1\n",
      "LIGHT unit_33 at: [30 20] power and ore: 4 0 unit queue: 1\n",
      "LIGHT unit_34 at: [29 28] power and ore: 3 0 unit queue: 1\n",
      "LIGHT unit_35 at: [36  9] power and ore: 4 0 unit queue: 1\n",
      "\n",
      "player_0\n",
      "turn: 34\n",
      "HEAVY unit_8 at: [3 7] power and ice: 339 480 unit queue: 0\n",
      "HEAVY unit_9 at: [32 17] power and ice: 472 460 unit queue: 0\n",
      "HEAVY unit_10 at: [32 25] power and ice: 405 460 unit queue: 0\n",
      "LIGHT unit_16 at: [ 5 10] power and ore: 3 0 unit queue: 1\n",
      "LIGHT unit_17 at: [28 20] power and ore: 1 0 unit queue: 1\n",
      "LIGHT unit_18 at: [28 27] power and ore: 5 0 unit queue: 1\n",
      "LIGHT unit_19 at: [38 11] power and ore: 5 0 unit queue: 1\n",
      "LIGHT unit_20 at: [ 6 10] power and ore: 0 0 unit queue: 1\n",
      "LIGHT unit_21 at: [27 19] power and ore: 2 0 unit queue: 1\n",
      "LIGHT unit_22 at: [28 26] power and ore: 2 0 unit queue: 1\n",
      "LIGHT unit_23 at: [38 12] power and ore: 2 0 unit queue: 1\n",
      "LIGHT unit_24 at: [ 4 10] power and ore: 3 0 unit queue: 1\n",
      "LIGHT unit_26 at: [30 27] power and ore: 3 0 unit queue: 1\n",
      "LIGHT unit_27 at: [38 10] power and ore: 5 0 unit queue: 1\n",
      "LIGHT unit_28 at: [3 9] power and ore: 0 0 unit queue: 0\n",
      "LIGHT unit_29 at: [29 21] power and ore: 0 0 unit queue: 0\n",
      "LIGHT unit_30 at: [29 25] power and ore: 0 0 unit queue: 1\n",
      "LIGHT unit_31 at: [36 13] power and ore: 5 0 unit queue: 1\n",
      "LIGHT unit_32 at: [7 9] power and ore: 4 0 unit queue: 1\n",
      "LIGHT unit_33 at: [30 20] power and ore: 4 0 unit queue: 1\n",
      "LIGHT unit_34 at: [29 28] power and ore: 3 0 unit queue: 1\n",
      "LIGHT unit_35 at: [36  9] power and ore: 4 0 unit queue: 1\n",
      "\n",
      "player_0\n",
      "turn: 35\n",
      "HEAVY unit_8 at: [3 7] power and ice: 269 500 unit queue: 0\n",
      "HEAVY unit_9 at: [32 17] power and ice: 402 480 unit queue: 0\n",
      "HEAVY unit_10 at: [32 25] power and ice: 335 480 unit queue: 0\n",
      "LIGHT unit_16 at: [ 5 10] power and ore: 3 0 unit queue: 1\n",
      "LIGHT unit_17 at: [28 20] power and ore: 1 0 unit queue: 1\n",
      "LIGHT unit_18 at: [28 27] power and ore: 5 0 unit queue: 1\n",
      "LIGHT unit_19 at: [38 11] power and ore: 5 0 unit queue: 1\n",
      "LIGHT unit_20 at: [ 6 10] power and ore: 0 0 unit queue: 1\n",
      "LIGHT unit_21 at: [27 19] power and ore: 2 0 unit queue: 1\n",
      "LIGHT unit_22 at: [28 26] power and ore: 2 0 unit queue: 1\n",
      "LIGHT unit_23 at: [38 12] power and ore: 2 0 unit queue: 1\n",
      "LIGHT unit_24 at: [ 4 10] power and ore: 3 0 unit queue: 1\n",
      "LIGHT unit_26 at: [30 27] power and ore: 3 0 unit queue: 1\n",
      "LIGHT unit_27 at: [38 10] power and ore: 5 0 unit queue: 1\n",
      "LIGHT unit_28 at: [3 9] power and ore: 0 0 unit queue: 0\n",
      "LIGHT unit_29 at: [29 21] power and ore: 0 0 unit queue: 0\n",
      "LIGHT unit_30 at: [29 25] power and ore: 0 0 unit queue: 1\n",
      "LIGHT unit_31 at: [36 13] power and ore: 5 0 unit queue: 1\n",
      "LIGHT unit_32 at: [7 9] power and ore: 4 0 unit queue: 1\n",
      "LIGHT unit_33 at: [30 20] power and ore: 4 0 unit queue: 1\n",
      "LIGHT unit_34 at: [29 28] power and ore: 3 0 unit queue: 1\n",
      "LIGHT unit_35 at: [36  9] power and ore: 4 0 unit queue: 1\n",
      "\n",
      "player_0\n",
      "turn: 36\n",
      "HEAVY unit_8 at: [3 7] power and ice: 199 520 unit queue: 0\n",
      "HEAVY unit_9 at: [32 17] power and ice: 332 500 unit queue: 0\n",
      "HEAVY unit_10 at: [32 25] power and ice: 265 500 unit queue: 0\n",
      "LIGHT unit_16 at: [ 5 10] power and ore: 3 0 unit queue: 1\n",
      "LIGHT unit_17 at: [28 20] power and ore: 1 0 unit queue: 1\n",
      "LIGHT unit_18 at: [28 27] power and ore: 5 0 unit queue: 1\n",
      "LIGHT unit_19 at: [38 11] power and ore: 5 0 unit queue: 1\n",
      "LIGHT unit_20 at: [ 6 10] power and ore: 0 0 unit queue: 1\n",
      "LIGHT unit_21 at: [27 19] power and ore: 2 0 unit queue: 1\n",
      "LIGHT unit_22 at: [28 26] power and ore: 2 0 unit queue: 1\n",
      "LIGHT unit_23 at: [38 12] power and ore: 2 0 unit queue: 1\n",
      "LIGHT unit_24 at: [ 4 10] power and ore: 3 0 unit queue: 1\n",
      "LIGHT unit_26 at: [30 27] power and ore: 3 0 unit queue: 1\n",
      "LIGHT unit_27 at: [38 10] power and ore: 5 0 unit queue: 1\n",
      "LIGHT unit_28 at: [3 9] power and ore: 0 0 unit queue: 0\n",
      "LIGHT unit_29 at: [29 21] power and ore: 0 0 unit queue: 0\n",
      "LIGHT unit_30 at: [29 25] power and ore: 0 0 unit queue: 1\n",
      "LIGHT unit_31 at: [36 13] power and ore: 5 0 unit queue: 1\n",
      "LIGHT unit_32 at: [7 9] power and ore: 4 0 unit queue: 1\n",
      "LIGHT unit_33 at: [30 20] power and ore: 4 0 unit queue: 1\n",
      "LIGHT unit_34 at: [29 28] power and ore: 3 0 unit queue: 1\n",
      "LIGHT unit_35 at: [36  9] power and ore: 4 0 unit queue: 1\n",
      "\n",
      "player_0\n",
      "turn: 37\n",
      "HEAVY unit_8 at: [3 7] power and ice: 129 540 unit queue: 0\n",
      "HEAVY unit_9 at: [32 17] power and ice: 262 520 unit queue: 0\n",
      "HEAVY unit_10 at: [32 25] power and ice: 195 520 unit queue: 0\n",
      "LIGHT unit_16 at: [ 5 10] power and ore: 3 0 unit queue: 1\n",
      "LIGHT unit_17 at: [28 20] power and ore: 1 0 unit queue: 1\n",
      "LIGHT unit_18 at: [28 27] power and ore: 5 0 unit queue: 1\n",
      "LIGHT unit_19 at: [38 11] power and ore: 5 0 unit queue: 1\n",
      "LIGHT unit_20 at: [ 6 10] power and ore: 0 0 unit queue: 1\n",
      "LIGHT unit_21 at: [27 19] power and ore: 2 0 unit queue: 1\n",
      "LIGHT unit_22 at: [28 26] power and ore: 2 0 unit queue: 1\n",
      "LIGHT unit_23 at: [38 12] power and ore: 2 0 unit queue: 1\n",
      "LIGHT unit_24 at: [ 4 10] power and ore: 3 0 unit queue: 1\n",
      "LIGHT unit_26 at: [30 27] power and ore: 3 0 unit queue: 1\n",
      "LIGHT unit_27 at: [38 10] power and ore: 5 0 unit queue: 1\n",
      "LIGHT unit_28 at: [3 9] power and ore: 0 0 unit queue: 0\n",
      "LIGHT unit_29 at: [29 21] power and ore: 0 0 unit queue: 0\n",
      "LIGHT unit_30 at: [29 25] power and ore: 0 0 unit queue: 1\n",
      "LIGHT unit_31 at: [36 13] power and ore: 5 0 unit queue: 1\n",
      "LIGHT unit_32 at: [7 9] power and ore: 4 0 unit queue: 1\n",
      "LIGHT unit_33 at: [30 20] power and ore: 4 0 unit queue: 1\n",
      "LIGHT unit_34 at: [29 28] power and ore: 3 0 unit queue: 1\n",
      "LIGHT unit_35 at: [36  9] power and ore: 4 0 unit queue: 1\n",
      "\n",
      "player_0\n",
      "turn: 38\n",
      "HEAVY unit_8 at: [3 7] power and ice: 59 560 unit queue: 0\n",
      "HEAVY unit_9 at: [32 17] power and ice: 192 540 unit queue: 0\n",
      "HEAVY unit_10 at: [32 25] power and ice: 125 540 unit queue: 0\n",
      "LIGHT unit_16 at: [ 5 10] power and ore: 3 0 unit queue: 1\n",
      "LIGHT unit_17 at: [28 20] power and ore: 1 0 unit queue: 1\n",
      "LIGHT unit_18 at: [28 27] power and ore: 5 0 unit queue: 1\n",
      "LIGHT unit_19 at: [38 11] power and ore: 5 0 unit queue: 1\n",
      "LIGHT unit_20 at: [ 6 10] power and ore: 0 0 unit queue: 1\n",
      "LIGHT unit_21 at: [27 19] power and ore: 2 0 unit queue: 1\n",
      "LIGHT unit_22 at: [28 26] power and ore: 2 0 unit queue: 1\n",
      "LIGHT unit_23 at: [38 12] power and ore: 2 0 unit queue: 1\n",
      "LIGHT unit_24 at: [ 4 10] power and ore: 3 0 unit queue: 1\n",
      "LIGHT unit_26 at: [30 27] power and ore: 3 0 unit queue: 1\n",
      "LIGHT unit_27 at: [38 10] power and ore: 5 0 unit queue: 1\n",
      "LIGHT unit_28 at: [3 9] power and ore: 0 0 unit queue: 0\n",
      "LIGHT unit_29 at: [29 21] power and ore: 0 0 unit queue: 0\n",
      "LIGHT unit_30 at: [29 25] power and ore: 0 0 unit queue: 1\n",
      "LIGHT unit_31 at: [36 13] power and ore: 5 0 unit queue: 1\n",
      "LIGHT unit_32 at: [7 9] power and ore: 4 0 unit queue: 1\n",
      "LIGHT unit_33 at: [30 20] power and ore: 4 0 unit queue: 1\n",
      "LIGHT unit_34 at: [29 28] power and ore: 3 0 unit queue: 1\n",
      "LIGHT unit_35 at: [36  9] power and ore: 4 0 unit queue: 1\n",
      "\n",
      "player_0\n",
      "turn: 39\n",
      "HEAVY unit_8 at: [4 7] power and ice: 29 560 unit queue: 0\n",
      "HEAVY unit_9 at: [32 17] power and ice: 122 560 unit queue: 0\n",
      "HEAVY unit_10 at: [32 25] power and ice: 55 560 unit queue: 0\n",
      "LIGHT unit_16 at: [ 5 10] power and ore: 3 0 unit queue: 1\n",
      "LIGHT unit_17 at: [28 20] power and ore: 1 0 unit queue: 1\n",
      "LIGHT unit_18 at: [28 27] power and ore: 5 0 unit queue: 1\n",
      "LIGHT unit_19 at: [38 11] power and ore: 5 0 unit queue: 1\n",
      "LIGHT unit_20 at: [ 6 10] power and ore: 0 0 unit queue: 1\n",
      "LIGHT unit_21 at: [27 19] power and ore: 2 0 unit queue: 1\n",
      "LIGHT unit_22 at: [28 26] power and ore: 2 0 unit queue: 1\n",
      "LIGHT unit_23 at: [38 12] power and ore: 2 0 unit queue: 1\n",
      "LIGHT unit_24 at: [ 4 10] power and ore: 3 0 unit queue: 1\n",
      "LIGHT unit_26 at: [30 27] power and ore: 3 0 unit queue: 1\n",
      "LIGHT unit_27 at: [38 10] power and ore: 5 0 unit queue: 1\n",
      "LIGHT unit_28 at: [3 9] power and ore: 0 0 unit queue: 0\n",
      "LIGHT unit_29 at: [29 21] power and ore: 0 0 unit queue: 0\n",
      "LIGHT unit_30 at: [29 25] power and ore: 0 0 unit queue: 1\n",
      "LIGHT unit_31 at: [36 13] power and ore: 5 0 unit queue: 1\n",
      "LIGHT unit_32 at: [7 9] power and ore: 4 0 unit queue: 1\n",
      "LIGHT unit_33 at: [30 20] power and ore: 4 0 unit queue: 1\n",
      "LIGHT unit_34 at: [29 28] power and ore: 3 0 unit queue: 1\n",
      "LIGHT unit_35 at: [36  9] power and ore: 4 0 unit queue: 1\n",
      "\n",
      "player_0\n",
      "turn: 40\n",
      "HEAVY unit_8 at: [4 7] power and ice: 719 560 unit queue: 0\n",
      "HEAVY unit_9 at: [32 17] power and ice: 52 580 unit queue: 0\n",
      "HEAVY unit_10 at: [32 26] power and ice: 25 560 unit queue: 0\n",
      "LIGHT unit_16 at: [ 5 10] power and ore: 3 0 unit queue: 1\n",
      "LIGHT unit_17 at: [28 20] power and ore: 1 0 unit queue: 1\n",
      "LIGHT unit_18 at: [28 27] power and ore: 5 0 unit queue: 1\n",
      "LIGHT unit_19 at: [38 11] power and ore: 5 0 unit queue: 1\n",
      "LIGHT unit_20 at: [ 6 10] power and ore: 0 0 unit queue: 1\n",
      "LIGHT unit_21 at: [27 19] power and ore: 2 0 unit queue: 1\n",
      "LIGHT unit_22 at: [28 26] power and ore: 2 0 unit queue: 1\n",
      "LIGHT unit_23 at: [38 12] power and ore: 2 0 unit queue: 1\n",
      "LIGHT unit_24 at: [ 4 10] power and ore: 3 0 unit queue: 1\n",
      "LIGHT unit_26 at: [30 27] power and ore: 3 0 unit queue: 1\n",
      "LIGHT unit_27 at: [38 10] power and ore: 5 0 unit queue: 1\n",
      "LIGHT unit_28 at: [3 9] power and ore: 0 0 unit queue: 0\n",
      "LIGHT unit_29 at: [29 21] power and ore: 0 0 unit queue: 0\n",
      "LIGHT unit_30 at: [29 25] power and ore: 0 0 unit queue: 1\n",
      "LIGHT unit_31 at: [36 13] power and ore: 5 0 unit queue: 1\n",
      "LIGHT unit_32 at: [7 9] power and ore: 4 0 unit queue: 1\n",
      "LIGHT unit_33 at: [30 20] power and ore: 4 0 unit queue: 1\n",
      "LIGHT unit_34 at: [29 28] power and ore: 3 0 unit queue: 1\n",
      "LIGHT unit_35 at: [36  9] power and ore: 4 0 unit queue: 1\n",
      "\n",
      "player_0\n",
      "turn: 41\n",
      "HEAVY unit_8 at: [3 7] power and ice: 689 560 unit queue: 0\n",
      "HEAVY unit_9 at: [31 17] power and ice: 22 580 unit queue: 0\n",
      "HEAVY unit_10 at: [32 26] power and ice: 715 560 unit queue: 0\n",
      "LIGHT unit_16 at: [ 5 10] power and ore: 3 0 unit queue: 1\n",
      "LIGHT unit_17 at: [28 20] power and ore: 1 0 unit queue: 1\n",
      "LIGHT unit_18 at: [28 27] power and ore: 5 0 unit queue: 1\n",
      "LIGHT unit_19 at: [38 11] power and ore: 5 0 unit queue: 1\n",
      "LIGHT unit_20 at: [ 6 10] power and ore: 0 0 unit queue: 1\n",
      "LIGHT unit_21 at: [27 19] power and ore: 2 0 unit queue: 1\n",
      "LIGHT unit_22 at: [28 26] power and ore: 2 0 unit queue: 1\n",
      "LIGHT unit_23 at: [38 12] power and ore: 2 0 unit queue: 1\n",
      "LIGHT unit_24 at: [ 4 10] power and ore: 3 0 unit queue: 1\n",
      "LIGHT unit_26 at: [30 27] power and ore: 3 0 unit queue: 1\n",
      "LIGHT unit_27 at: [38 10] power and ore: 5 0 unit queue: 1\n",
      "LIGHT unit_28 at: [3 9] power and ore: 0 0 unit queue: 0\n",
      "LIGHT unit_29 at: [29 21] power and ore: 0 0 unit queue: 0\n",
      "LIGHT unit_30 at: [29 25] power and ore: 0 0 unit queue: 1\n",
      "LIGHT unit_31 at: [36 13] power and ore: 5 0 unit queue: 1\n",
      "LIGHT unit_32 at: [7 9] power and ore: 4 0 unit queue: 1\n",
      "LIGHT unit_33 at: [30 20] power and ore: 4 0 unit queue: 1\n",
      "LIGHT unit_34 at: [29 28] power and ore: 3 0 unit queue: 1\n",
      "LIGHT unit_35 at: [36  9] power and ore: 4 0 unit queue: 1\n",
      "\n",
      "player_0\n",
      "turn: 42\n",
      "HEAVY unit_8 at: [3 7] power and ice: 619 580 unit queue: 0\n",
      "HEAVY unit_9 at: [31 17] power and ice: 712 580 unit queue: 0\n",
      "HEAVY unit_10 at: [32 25] power and ice: 685 560 unit queue: 0\n",
      "LIGHT unit_16 at: [ 5 10] power and ore: 3 0 unit queue: 1\n",
      "LIGHT unit_17 at: [28 20] power and ore: 1 0 unit queue: 1\n",
      "LIGHT unit_18 at: [28 27] power and ore: 5 0 unit queue: 1\n",
      "LIGHT unit_19 at: [38 11] power and ore: 5 0 unit queue: 1\n",
      "LIGHT unit_20 at: [ 6 10] power and ore: 0 0 unit queue: 1\n",
      "LIGHT unit_21 at: [27 19] power and ore: 2 0 unit queue: 1\n",
      "LIGHT unit_22 at: [28 26] power and ore: 2 0 unit queue: 1\n",
      "LIGHT unit_23 at: [38 12] power and ore: 2 0 unit queue: 1\n",
      "LIGHT unit_24 at: [ 4 10] power and ore: 3 0 unit queue: 1\n",
      "LIGHT unit_26 at: [30 27] power and ore: 3 0 unit queue: 1\n",
      "LIGHT unit_27 at: [38 10] power and ore: 5 0 unit queue: 1\n",
      "LIGHT unit_28 at: [3 9] power and ore: 0 0 unit queue: 0\n",
      "LIGHT unit_29 at: [29 21] power and ore: 0 0 unit queue: 0\n",
      "LIGHT unit_30 at: [29 25] power and ore: 0 0 unit queue: 1\n",
      "LIGHT unit_31 at: [36 13] power and ore: 5 0 unit queue: 1\n",
      "LIGHT unit_32 at: [7 9] power and ore: 4 0 unit queue: 1\n",
      "LIGHT unit_33 at: [30 20] power and ore: 4 0 unit queue: 1\n",
      "LIGHT unit_34 at: [29 28] power and ore: 3 0 unit queue: 1\n",
      "LIGHT unit_35 at: [36  9] power and ore: 4 0 unit queue: 1\n",
      "\n",
      "player_0\n",
      "turn: 43\n",
      "HEAVY unit_8 at: [3 7] power and ice: 549 600 unit queue: 0\n",
      "HEAVY unit_9 at: [32 17] power and ice: 682 580 unit queue: 0\n",
      "HEAVY unit_10 at: [32 25] power and ice: 615 580 unit queue: 0\n",
      "LIGHT unit_16 at: [ 5 10] power and ore: 3 0 unit queue: 1\n",
      "LIGHT unit_17 at: [28 20] power and ore: 1 0 unit queue: 1\n",
      "LIGHT unit_18 at: [28 27] power and ore: 5 0 unit queue: 1\n",
      "LIGHT unit_19 at: [38 11] power and ore: 5 0 unit queue: 1\n",
      "LIGHT unit_20 at: [ 6 10] power and ore: 0 0 unit queue: 1\n",
      "LIGHT unit_21 at: [27 19] power and ore: 2 0 unit queue: 1\n",
      "LIGHT unit_22 at: [28 26] power and ore: 2 0 unit queue: 1\n",
      "LIGHT unit_23 at: [38 12] power and ore: 2 0 unit queue: 1\n",
      "LIGHT unit_24 at: [ 4 10] power and ore: 3 0 unit queue: 1\n",
      "LIGHT unit_26 at: [30 27] power and ore: 3 0 unit queue: 1\n",
      "LIGHT unit_27 at: [38 10] power and ore: 5 0 unit queue: 1\n",
      "LIGHT unit_28 at: [3 9] power and ore: 0 0 unit queue: 0\n",
      "LIGHT unit_29 at: [29 21] power and ore: 0 0 unit queue: 0\n",
      "LIGHT unit_30 at: [29 25] power and ore: 0 0 unit queue: 1\n",
      "LIGHT unit_31 at: [36 13] power and ore: 5 0 unit queue: 1\n",
      "LIGHT unit_32 at: [7 9] power and ore: 4 0 unit queue: 1\n",
      "LIGHT unit_33 at: [30 20] power and ore: 4 0 unit queue: 1\n",
      "LIGHT unit_34 at: [29 28] power and ore: 3 0 unit queue: 1\n",
      "LIGHT unit_35 at: [36  9] power and ore: 4 0 unit queue: 1\n",
      "\n",
      "player_0\n",
      "turn: 44\n",
      "HEAVY unit_8 at: [3 7] power and ice: 479 620 unit queue: 0\n",
      "HEAVY unit_9 at: [32 17] power and ice: 612 600 unit queue: 0\n",
      "HEAVY unit_10 at: [32 25] power and ice: 545 600 unit queue: 0\n",
      "LIGHT unit_16 at: [ 5 10] power and ore: 3 0 unit queue: 1\n",
      "LIGHT unit_17 at: [28 20] power and ore: 1 0 unit queue: 1\n",
      "LIGHT unit_18 at: [28 27] power and ore: 5 0 unit queue: 1\n",
      "LIGHT unit_19 at: [38 11] power and ore: 5 0 unit queue: 1\n",
      "LIGHT unit_20 at: [ 6 10] power and ore: 0 0 unit queue: 1\n",
      "LIGHT unit_21 at: [27 19] power and ore: 2 0 unit queue: 1\n",
      "LIGHT unit_22 at: [28 26] power and ore: 2 0 unit queue: 1\n",
      "LIGHT unit_23 at: [38 12] power and ore: 2 0 unit queue: 1\n",
      "LIGHT unit_24 at: [ 4 10] power and ore: 3 0 unit queue: 1\n",
      "LIGHT unit_26 at: [30 27] power and ore: 3 0 unit queue: 1\n",
      "LIGHT unit_27 at: [38 10] power and ore: 5 0 unit queue: 1\n",
      "LIGHT unit_28 at: [3 9] power and ore: 0 0 unit queue: 0\n",
      "LIGHT unit_29 at: [29 21] power and ore: 0 0 unit queue: 0\n",
      "LIGHT unit_30 at: [29 25] power and ore: 0 0 unit queue: 1\n",
      "LIGHT unit_31 at: [36 13] power and ore: 5 0 unit queue: 1\n",
      "LIGHT unit_32 at: [7 9] power and ore: 4 0 unit queue: 1\n",
      "LIGHT unit_33 at: [30 20] power and ore: 4 0 unit queue: 1\n",
      "LIGHT unit_34 at: [29 28] power and ore: 3 0 unit queue: 1\n",
      "LIGHT unit_35 at: [36  9] power and ore: 4 0 unit queue: 1\n",
      "\n",
      "player_0\n",
      "turn: 45\n",
      "HEAVY unit_8 at: [3 7] power and ice: 409 640 unit queue: 0\n",
      "HEAVY unit_9 at: [32 17] power and ice: 542 620 unit queue: 0\n",
      "HEAVY unit_10 at: [32 25] power and ice: 475 620 unit queue: 0\n",
      "LIGHT unit_16 at: [ 5 10] power and ore: 3 0 unit queue: 1\n",
      "LIGHT unit_17 at: [28 20] power and ore: 1 0 unit queue: 1\n",
      "LIGHT unit_18 at: [28 27] power and ore: 5 0 unit queue: 1\n",
      "LIGHT unit_19 at: [38 11] power and ore: 5 0 unit queue: 1\n",
      "LIGHT unit_20 at: [ 6 10] power and ore: 0 0 unit queue: 1\n",
      "LIGHT unit_21 at: [27 19] power and ore: 2 0 unit queue: 1\n",
      "LIGHT unit_22 at: [28 26] power and ore: 2 0 unit queue: 1\n",
      "LIGHT unit_23 at: [38 12] power and ore: 2 0 unit queue: 1\n",
      "LIGHT unit_24 at: [ 4 10] power and ore: 3 0 unit queue: 1\n",
      "LIGHT unit_26 at: [30 27] power and ore: 3 0 unit queue: 1\n",
      "LIGHT unit_27 at: [38 10] power and ore: 5 0 unit queue: 1\n",
      "LIGHT unit_28 at: [3 9] power and ore: 0 0 unit queue: 0\n",
      "LIGHT unit_29 at: [29 21] power and ore: 0 0 unit queue: 0\n",
      "LIGHT unit_30 at: [29 25] power and ore: 0 0 unit queue: 1\n",
      "LIGHT unit_31 at: [36 13] power and ore: 5 0 unit queue: 1\n",
      "LIGHT unit_32 at: [7 9] power and ore: 4 0 unit queue: 1\n",
      "LIGHT unit_33 at: [30 20] power and ore: 4 0 unit queue: 1\n",
      "LIGHT unit_34 at: [29 28] power and ore: 3 0 unit queue: 1\n",
      "LIGHT unit_35 at: [36  9] power and ore: 4 0 unit queue: 1\n",
      "\n",
      "player_0\n",
      "turn: 46\n",
      "HEAVY unit_8 at: [3 7] power and ice: 339 660 unit queue: 0\n",
      "HEAVY unit_9 at: [32 17] power and ice: 472 640 unit queue: 0\n",
      "HEAVY unit_10 at: [32 25] power and ice: 405 640 unit queue: 0\n",
      "LIGHT unit_16 at: [ 5 10] power and ore: 3 0 unit queue: 1\n",
      "LIGHT unit_17 at: [28 20] power and ore: 1 0 unit queue: 1\n",
      "LIGHT unit_18 at: [28 27] power and ore: 5 0 unit queue: 1\n",
      "LIGHT unit_19 at: [38 11] power and ore: 5 0 unit queue: 1\n",
      "LIGHT unit_20 at: [ 6 10] power and ore: 0 0 unit queue: 1\n",
      "LIGHT unit_21 at: [27 19] power and ore: 2 0 unit queue: 1\n",
      "LIGHT unit_22 at: [28 26] power and ore: 2 0 unit queue: 1\n",
      "LIGHT unit_23 at: [38 12] power and ore: 2 0 unit queue: 1\n",
      "LIGHT unit_24 at: [ 4 10] power and ore: 3 0 unit queue: 1\n",
      "LIGHT unit_26 at: [30 27] power and ore: 3 0 unit queue: 1\n",
      "LIGHT unit_27 at: [38 10] power and ore: 5 0 unit queue: 1\n",
      "LIGHT unit_28 at: [3 9] power and ore: 0 0 unit queue: 0\n",
      "LIGHT unit_29 at: [29 21] power and ore: 0 0 unit queue: 0\n",
      "LIGHT unit_30 at: [29 25] power and ore: 0 0 unit queue: 1\n",
      "LIGHT unit_31 at: [36 13] power and ore: 5 0 unit queue: 1\n",
      "LIGHT unit_32 at: [7 9] power and ore: 4 0 unit queue: 1\n",
      "LIGHT unit_33 at: [30 20] power and ore: 4 0 unit queue: 1\n",
      "LIGHT unit_34 at: [29 28] power and ore: 3 0 unit queue: 1\n",
      "LIGHT unit_35 at: [36  9] power and ore: 4 0 unit queue: 1\n",
      "\n",
      "player_0\n",
      "turn: 47\n",
      "HEAVY unit_8 at: [3 7] power and ice: 269 680 unit queue: 0\n",
      "HEAVY unit_9 at: [32 17] power and ice: 402 660 unit queue: 0\n",
      "HEAVY unit_10 at: [32 25] power and ice: 335 660 unit queue: 0\n",
      "LIGHT unit_16 at: [ 5 10] power and ore: 3 0 unit queue: 1\n",
      "LIGHT unit_17 at: [28 20] power and ore: 1 0 unit queue: 1\n",
      "LIGHT unit_18 at: [28 27] power and ore: 5 0 unit queue: 1\n",
      "LIGHT unit_19 at: [38 11] power and ore: 5 0 unit queue: 1\n",
      "LIGHT unit_20 at: [ 6 10] power and ore: 0 0 unit queue: 1\n",
      "LIGHT unit_21 at: [27 19] power and ore: 2 0 unit queue: 1\n",
      "LIGHT unit_22 at: [28 26] power and ore: 2 0 unit queue: 1\n",
      "LIGHT unit_23 at: [38 12] power and ore: 2 0 unit queue: 1\n",
      "LIGHT unit_24 at: [ 4 10] power and ore: 3 0 unit queue: 1\n",
      "LIGHT unit_26 at: [30 27] power and ore: 3 0 unit queue: 1\n",
      "LIGHT unit_27 at: [38 10] power and ore: 5 0 unit queue: 1\n",
      "LIGHT unit_28 at: [3 9] power and ore: 0 0 unit queue: 0\n",
      "LIGHT unit_29 at: [29 21] power and ore: 0 0 unit queue: 0\n",
      "LIGHT unit_30 at: [29 25] power and ore: 0 0 unit queue: 1\n",
      "LIGHT unit_31 at: [36 13] power and ore: 5 0 unit queue: 1\n",
      "LIGHT unit_32 at: [7 9] power and ore: 4 0 unit queue: 1\n",
      "LIGHT unit_33 at: [30 20] power and ore: 4 0 unit queue: 1\n",
      "LIGHT unit_34 at: [29 28] power and ore: 3 0 unit queue: 1\n",
      "LIGHT unit_35 at: [36  9] power and ore: 4 0 unit queue: 1\n",
      "\n",
      "player_0\n",
      "turn: 48\n",
      "HEAVY unit_8 at: [3 7] power and ice: 199 700 unit queue: 0\n",
      "HEAVY unit_9 at: [32 17] power and ice: 332 680 unit queue: 0\n",
      "HEAVY unit_10 at: [32 25] power and ice: 265 680 unit queue: 0\n",
      "LIGHT unit_16 at: [ 5 10] power and ore: 3 0 unit queue: 1\n",
      "LIGHT unit_17 at: [28 20] power and ore: 1 0 unit queue: 1\n",
      "LIGHT unit_18 at: [28 27] power and ore: 5 0 unit queue: 1\n",
      "LIGHT unit_19 at: [38 11] power and ore: 5 0 unit queue: 1\n",
      "LIGHT unit_20 at: [ 6 10] power and ore: 0 0 unit queue: 1\n",
      "LIGHT unit_21 at: [27 19] power and ore: 2 0 unit queue: 1\n",
      "LIGHT unit_22 at: [28 26] power and ore: 2 0 unit queue: 1\n",
      "LIGHT unit_23 at: [38 12] power and ore: 2 0 unit queue: 1\n",
      "LIGHT unit_24 at: [ 4 10] power and ore: 3 0 unit queue: 1\n",
      "LIGHT unit_26 at: [30 27] power and ore: 3 0 unit queue: 1\n",
      "LIGHT unit_27 at: [38 10] power and ore: 5 0 unit queue: 1\n",
      "LIGHT unit_28 at: [3 9] power and ore: 0 0 unit queue: 0\n",
      "LIGHT unit_29 at: [29 21] power and ore: 0 0 unit queue: 0\n",
      "LIGHT unit_30 at: [29 25] power and ore: 0 0 unit queue: 1\n",
      "LIGHT unit_31 at: [36 13] power and ore: 5 0 unit queue: 1\n",
      "LIGHT unit_32 at: [7 9] power and ore: 4 0 unit queue: 1\n",
      "LIGHT unit_33 at: [30 20] power and ore: 4 0 unit queue: 1\n",
      "LIGHT unit_34 at: [29 28] power and ore: 3 0 unit queue: 1\n",
      "LIGHT unit_35 at: [36  9] power and ore: 4 0 unit queue: 1\n",
      "\n",
      "player_0\n",
      "turn: 49\n",
      "HEAVY unit_8 at: [3 7] power and ice: 129 720 unit queue: 0\n",
      "HEAVY unit_9 at: [32 17] power and ice: 262 700 unit queue: 0\n",
      "HEAVY unit_10 at: [32 25] power and ice: 195 700 unit queue: 0\n",
      "LIGHT unit_16 at: [ 5 10] power and ore: 3 0 unit queue: 1\n",
      "LIGHT unit_17 at: [28 20] power and ore: 1 0 unit queue: 1\n",
      "LIGHT unit_18 at: [28 27] power and ore: 5 0 unit queue: 1\n",
      "LIGHT unit_19 at: [38 11] power and ore: 5 0 unit queue: 1\n",
      "LIGHT unit_20 at: [ 6 10] power and ore: 0 0 unit queue: 1\n",
      "LIGHT unit_21 at: [27 19] power and ore: 2 0 unit queue: 1\n",
      "LIGHT unit_22 at: [28 26] power and ore: 2 0 unit queue: 1\n",
      "LIGHT unit_23 at: [38 12] power and ore: 2 0 unit queue: 1\n",
      "LIGHT unit_24 at: [ 4 10] power and ore: 3 0 unit queue: 1\n",
      "LIGHT unit_26 at: [30 27] power and ore: 3 0 unit queue: 1\n",
      "LIGHT unit_27 at: [38 10] power and ore: 5 0 unit queue: 1\n",
      "LIGHT unit_28 at: [3 9] power and ore: 0 0 unit queue: 0\n",
      "LIGHT unit_29 at: [29 21] power and ore: 0 0 unit queue: 0\n",
      "LIGHT unit_30 at: [29 25] power and ore: 0 0 unit queue: 1\n",
      "LIGHT unit_31 at: [36 13] power and ore: 5 0 unit queue: 1\n",
      "LIGHT unit_32 at: [7 9] power and ore: 4 0 unit queue: 1\n",
      "LIGHT unit_33 at: [30 20] power and ore: 4 0 unit queue: 1\n",
      "LIGHT unit_34 at: [29 28] power and ore: 3 0 unit queue: 1\n",
      "LIGHT unit_35 at: [36  9] power and ore: 4 0 unit queue: 1\n",
      "\n",
      "player_0\n",
      "turn: 50\n",
      "HEAVY unit_8 at: [3 7] power and ice: 59 740 unit queue: 0\n",
      "HEAVY unit_9 at: [32 17] power and ice: 192 720 unit queue: 0\n",
      "HEAVY unit_10 at: [32 25] power and ice: 125 720 unit queue: 0\n",
      "LIGHT unit_16 at: [ 5 10] power and ore: 3 0 unit queue: 1\n",
      "LIGHT unit_17 at: [28 20] power and ore: 1 0 unit queue: 1\n",
      "LIGHT unit_18 at: [28 27] power and ore: 5 0 unit queue: 1\n",
      "LIGHT unit_19 at: [38 11] power and ore: 5 0 unit queue: 1\n",
      "LIGHT unit_20 at: [ 6 10] power and ore: 0 0 unit queue: 1\n",
      "LIGHT unit_21 at: [27 19] power and ore: 2 0 unit queue: 1\n",
      "LIGHT unit_22 at: [28 26] power and ore: 2 0 unit queue: 1\n",
      "LIGHT unit_23 at: [38 12] power and ore: 2 0 unit queue: 1\n",
      "LIGHT unit_24 at: [ 4 10] power and ore: 3 0 unit queue: 1\n",
      "LIGHT unit_26 at: [30 27] power and ore: 3 0 unit queue: 1\n",
      "LIGHT unit_27 at: [38 10] power and ore: 5 0 unit queue: 1\n",
      "LIGHT unit_28 at: [3 9] power and ore: 0 0 unit queue: 0\n",
      "LIGHT unit_29 at: [29 21] power and ore: 0 0 unit queue: 0\n",
      "LIGHT unit_30 at: [29 25] power and ore: 0 0 unit queue: 1\n",
      "LIGHT unit_31 at: [36 13] power and ore: 5 0 unit queue: 1\n",
      "LIGHT unit_32 at: [7 9] power and ore: 4 0 unit queue: 1\n",
      "LIGHT unit_33 at: [30 20] power and ore: 4 0 unit queue: 1\n",
      "LIGHT unit_34 at: [29 28] power and ore: 3 0 unit queue: 1\n",
      "LIGHT unit_35 at: [36  9] power and ore: 4 0 unit queue: 1\n",
      "\n",
      "player_0\n",
      "turn: 51\n",
      "HEAVY unit_8 at: [4 7] power and ice: 39 740 unit queue: 0\n",
      "HEAVY unit_9 at: [32 17] power and ice: 132 740 unit queue: 0\n",
      "HEAVY unit_10 at: [32 25] power and ice: 65 740 unit queue: 0\n",
      "LIGHT unit_16 at: [ 5 10] power and ore: 4 0 unit queue: 1\n",
      "LIGHT unit_17 at: [28 20] power and ore: 2 0 unit queue: 1\n",
      "LIGHT unit_18 at: [28 27] power and ore: 6 0 unit queue: 1\n",
      "LIGHT unit_19 at: [38 11] power and ore: 6 0 unit queue: 1\n",
      "LIGHT unit_20 at: [ 6 10] power and ore: 1 0 unit queue: 1\n",
      "LIGHT unit_21 at: [27 19] power and ore: 3 0 unit queue: 1\n",
      "LIGHT unit_22 at: [28 26] power and ore: 3 0 unit queue: 1\n",
      "LIGHT unit_23 at: [38 12] power and ore: 3 0 unit queue: 1\n",
      "LIGHT unit_24 at: [ 4 10] power and ore: 4 0 unit queue: 1\n",
      "LIGHT unit_26 at: [30 27] power and ore: 4 0 unit queue: 1\n",
      "LIGHT unit_27 at: [38 10] power and ore: 6 0 unit queue: 1\n",
      "LIGHT unit_28 at: [3 9] power and ore: 1 0 unit queue: 0\n",
      "LIGHT unit_29 at: [29 21] power and ore: 1 0 unit queue: 0\n",
      "LIGHT unit_30 at: [29 25] power and ore: 1 0 unit queue: 1\n",
      "LIGHT unit_31 at: [36 13] power and ore: 6 0 unit queue: 1\n",
      "LIGHT unit_32 at: [7 9] power and ore: 5 0 unit queue: 1\n",
      "LIGHT unit_33 at: [30 20] power and ore: 5 0 unit queue: 1\n",
      "LIGHT unit_34 at: [29 28] power and ore: 4 0 unit queue: 1\n",
      "LIGHT unit_35 at: [36  9] power and ore: 5 0 unit queue: 1\n",
      "\n",
      "player_0\n",
      "turn: 52\n",
      "HEAVY unit_8 at: [4 7] power and ice: 639 740 unit queue: 0\n",
      "HEAVY unit_9 at: [32 17] power and ice: 72 760 unit queue: 0\n",
      "HEAVY unit_10 at: [32 26] power and ice: 45 740 unit queue: 0\n",
      "LIGHT unit_16 at: [ 5 10] power and ore: 5 0 unit queue: 1\n",
      "LIGHT unit_17 at: [28 20] power and ore: 3 0 unit queue: 1\n",
      "LIGHT unit_18 at: [28 27] power and ore: 1 0 unit queue: 0\n",
      "LIGHT unit_19 at: [38 11] power and ore: 1 0 unit queue: 0\n",
      "LIGHT unit_20 at: [ 6 10] power and ore: 2 0 unit queue: 1\n",
      "LIGHT unit_21 at: [27 19] power and ore: 4 0 unit queue: 1\n",
      "LIGHT unit_22 at: [28 26] power and ore: 4 0 unit queue: 1\n",
      "LIGHT unit_23 at: [38 12] power and ore: 4 0 unit queue: 1\n",
      "LIGHT unit_24 at: [ 4 10] power and ore: 5 0 unit queue: 1\n",
      "LIGHT unit_26 at: [30 27] power and ore: 5 0 unit queue: 1\n",
      "LIGHT unit_27 at: [38 10] power and ore: 1 0 unit queue: 0\n",
      "LIGHT unit_28 at: [3 9] power and ore: 1 0 unit queue: 1\n",
      "LIGHT unit_29 at: [29 21] power and ore: 1 0 unit queue: 1\n",
      "LIGHT unit_30 at: [29 25] power and ore: 2 0 unit queue: 1\n",
      "LIGHT unit_31 at: [36 13] power and ore: 1 0 unit queue: 0\n",
      "LIGHT unit_32 at: [7 9] power and ore: 6 0 unit queue: 1\n",
      "LIGHT unit_33 at: [30 20] power and ore: 6 0 unit queue: 1\n",
      "LIGHT unit_34 at: [29 28] power and ore: 5 0 unit queue: 1\n",
      "LIGHT unit_35 at: [36  9] power and ore: 6 0 unit queue: 1\n",
      "\n",
      "player_0\n",
      "turn: 53\n",
      "HEAVY unit_8 at: [3 7] power and ice: 619 740 unit queue: 0\n",
      "HEAVY unit_9 at: [31 17] power and ice: 52 760 unit queue: 0\n",
      "HEAVY unit_10 at: [32 26] power and ice: 645 740 unit queue: 0\n",
      "LIGHT unit_16 at: [ 5 10] power and ore: 6 0 unit queue: 1\n",
      "LIGHT unit_17 at: [28 20] power and ore: 4 0 unit queue: 1\n",
      "LIGHT unit_18 at: [28 27] power and ore: 1 0 unit queue: 1\n",
      "LIGHT unit_19 at: [38 11] power and ore: 1 0 unit queue: 1\n",
      "LIGHT unit_20 at: [ 6 10] power and ore: 3 0 unit queue: 1\n",
      "LIGHT unit_21 at: [27 19] power and ore: 5 0 unit queue: 1\n",
      "LIGHT unit_22 at: [28 26] power and ore: 5 0 unit queue: 1\n",
      "LIGHT unit_23 at: [38 12] power and ore: 5 0 unit queue: 1\n",
      "LIGHT unit_24 at: [ 4 10] power and ore: 6 0 unit queue: 1\n",
      "LIGHT unit_26 at: [30 27] power and ore: 6 0 unit queue: 1\n",
      "LIGHT unit_27 at: [38 10] power and ore: 1 0 unit queue: 1\n",
      "LIGHT unit_28 at: [3 9] power and ore: 2 0 unit queue: 1\n",
      "LIGHT unit_29 at: [29 21] power and ore: 2 0 unit queue: 1\n",
      "LIGHT unit_30 at: [29 25] power and ore: 3 0 unit queue: 1\n",
      "LIGHT unit_31 at: [36 13] power and ore: 1 0 unit queue: 1\n",
      "LIGHT unit_32 at: [7 9] power and ore: 1 0 unit queue: 0\n",
      "LIGHT unit_33 at: [30 20] power and ore: 1 0 unit queue: 0\n",
      "LIGHT unit_34 at: [29 28] power and ore: 6 0 unit queue: 1\n",
      "LIGHT unit_35 at: [36  9] power and ore: 1 0 unit queue: 0\n",
      "\n",
      "player_0\n",
      "turn: 54\n",
      "HEAVY unit_8 at: [3 7] power and ice: 559 760 unit queue: 0\n",
      "HEAVY unit_9 at: [31 17] power and ice: 652 760 unit queue: 0\n",
      "HEAVY unit_10 at: [32 25] power and ice: 625 740 unit queue: 0\n",
      "LIGHT unit_16 at: [ 5 10] power and ore: 1 0 unit queue: 0\n",
      "LIGHT unit_17 at: [28 20] power and ore: 5 0 unit queue: 1\n",
      "LIGHT unit_18 at: [28 27] power and ore: 2 0 unit queue: 1\n",
      "LIGHT unit_19 at: [38 11] power and ore: 2 0 unit queue: 1\n",
      "LIGHT unit_20 at: [ 6 10] power and ore: 4 0 unit queue: 1\n",
      "LIGHT unit_21 at: [27 19] power and ore: 6 0 unit queue: 1\n",
      "LIGHT unit_22 at: [28 26] power and ore: 6 0 unit queue: 1\n",
      "LIGHT unit_23 at: [38 12] power and ore: 6 0 unit queue: 1\n",
      "LIGHT unit_24 at: [ 4 10] power and ore: 1 0 unit queue: 0\n",
      "LIGHT unit_27 at: [38 10] power and ore: 2 0 unit queue: 1\n",
      "LIGHT unit_28 at: [3 9] power and ore: 3 0 unit queue: 1\n",
      "LIGHT unit_29 at: [29 21] power and ore: 3 0 unit queue: 1\n",
      "LIGHT unit_30 at: [29 25] power and ore: 4 0 unit queue: 1\n",
      "LIGHT unit_31 at: [36 13] power and ore: 2 0 unit queue: 1\n",
      "LIGHT unit_32 at: [7 9] power and ore: 1 0 unit queue: 1\n",
      "LIGHT unit_33 at: [30 20] power and ore: 1 0 unit queue: 1\n",
      "LIGHT unit_35 at: [36  9] power and ore: 1 0 unit queue: 1\n",
      "\n",
      "player_0\n",
      "turn: 55\n",
      "HEAVY unit_8 at: [3 7] power and ice: 499 780 unit queue: 0\n",
      "HEAVY unit_9 at: [32 17] power and ice: 632 760 unit queue: 0\n",
      "HEAVY unit_10 at: [32 25] power and ice: 565 760 unit queue: 0\n",
      "LIGHT unit_16 at: [ 5 10] power and ore: 1 0 unit queue: 1\n",
      "LIGHT unit_17 at: [28 20] power and ore: 6 0 unit queue: 1\n",
      "LIGHT unit_18 at: [28 27] power and ore: 3 0 unit queue: 1\n",
      "LIGHT unit_19 at: [38 11] power and ore: 3 0 unit queue: 1\n",
      "LIGHT unit_20 at: [ 6 10] power and ore: 5 0 unit queue: 1\n",
      "LIGHT unit_21 at: [27 19] power and ore: 1 0 unit queue: 0\n",
      "LIGHT unit_22 at: [28 26] power and ore: 1 0 unit queue: 0\n",
      "LIGHT unit_23 at: [38 12] power and ore: 1 0 unit queue: 0\n",
      "LIGHT unit_24 at: [ 4 10] power and ore: 1 0 unit queue: 1\n",
      "LIGHT unit_27 at: [38 10] power and ore: 3 0 unit queue: 1\n",
      "LIGHT unit_28 at: [3 9] power and ore: 4 0 unit queue: 1\n",
      "LIGHT unit_29 at: [29 21] power and ore: 4 0 unit queue: 1\n",
      "LIGHT unit_30 at: [29 25] power and ore: 5 0 unit queue: 1\n",
      "LIGHT unit_31 at: [36 13] power and ore: 3 0 unit queue: 1\n",
      "LIGHT unit_32 at: [7 9] power and ore: 2 0 unit queue: 1\n",
      "LIGHT unit_33 at: [30 20] power and ore: 2 0 unit queue: 1\n",
      "LIGHT unit_35 at: [36  9] power and ore: 2 0 unit queue: 1\n",
      "\n",
      "player_0\n",
      "turn: 56\n",
      "HEAVY unit_8 at: [3 7] power and ice: 439 800 unit queue: 0\n",
      "HEAVY unit_9 at: [32 17] power and ice: 572 780 unit queue: 0\n",
      "HEAVY unit_10 at: [32 25] power and ice: 505 780 unit queue: 0\n",
      "LIGHT unit_16 at: [ 5 10] power and ore: 2 0 unit queue: 1\n",
      "LIGHT unit_17 at: [28 20] power and ore: 1 0 unit queue: 0\n",
      "LIGHT unit_18 at: [28 27] power and ore: 4 0 unit queue: 1\n",
      "LIGHT unit_19 at: [38 11] power and ore: 4 0 unit queue: 1\n",
      "LIGHT unit_20 at: [ 6 10] power and ore: 6 0 unit queue: 1\n",
      "LIGHT unit_21 at: [27 19] power and ore: 1 0 unit queue: 1\n",
      "LIGHT unit_22 at: [28 26] power and ore: 1 0 unit queue: 1\n",
      "LIGHT unit_23 at: [38 12] power and ore: 1 0 unit queue: 1\n",
      "LIGHT unit_24 at: [ 4 10] power and ore: 2 0 unit queue: 1\n",
      "LIGHT unit_27 at: [38 10] power and ore: 4 0 unit queue: 1\n",
      "LIGHT unit_28 at: [3 9] power and ore: 5 0 unit queue: 1\n",
      "LIGHT unit_29 at: [29 21] power and ore: 5 0 unit queue: 1\n",
      "LIGHT unit_30 at: [29 25] power and ore: 6 0 unit queue: 1\n",
      "LIGHT unit_31 at: [36 13] power and ore: 4 0 unit queue: 1\n",
      "LIGHT unit_32 at: [7 9] power and ore: 3 0 unit queue: 1\n",
      "LIGHT unit_33 at: [30 20] power and ore: 3 0 unit queue: 1\n",
      "LIGHT unit_35 at: [36  9] power and ore: 3 0 unit queue: 1\n",
      "\n",
      "player_0\n",
      "turn: 57\n",
      "HEAVY unit_8 at: [3 7] power and ice: 379 820 unit queue: 0\n",
      "HEAVY unit_9 at: [32 17] power and ice: 512 800 unit queue: 0\n",
      "HEAVY unit_10 at: [32 25] power and ice: 445 800 unit queue: 0\n",
      "LIGHT unit_16 at: [ 5 10] power and ore: 3 0 unit queue: 1\n",
      "LIGHT unit_17 at: [28 20] power and ore: 1 0 unit queue: 1\n",
      "LIGHT unit_18 at: [28 27] power and ore: 5 0 unit queue: 1\n",
      "LIGHT unit_19 at: [38 11] power and ore: 5 0 unit queue: 1\n",
      "LIGHT unit_20 at: [ 6 10] power and ore: 1 0 unit queue: 0\n",
      "LIGHT unit_21 at: [27 19] power and ore: 2 0 unit queue: 1\n",
      "LIGHT unit_22 at: [28 26] power and ore: 2 0 unit queue: 1\n",
      "LIGHT unit_23 at: [38 12] power and ore: 2 0 unit queue: 1\n",
      "LIGHT unit_24 at: [ 4 10] power and ore: 3 0 unit queue: 1\n",
      "LIGHT unit_27 at: [38 10] power and ore: 5 0 unit queue: 1\n",
      "LIGHT unit_28 at: [3 9] power and ore: 6 0 unit queue: 1\n",
      "LIGHT unit_29 at: [29 21] power and ore: 6 0 unit queue: 1\n",
      "LIGHT unit_30 at: [29 25] power and ore: 1 0 unit queue: 0\n",
      "LIGHT unit_31 at: [36 13] power and ore: 5 0 unit queue: 1\n",
      "LIGHT unit_32 at: [7 9] power and ore: 4 0 unit queue: 1\n",
      "LIGHT unit_33 at: [30 20] power and ore: 4 0 unit queue: 1\n",
      "LIGHT unit_35 at: [36  9] power and ore: 4 0 unit queue: 1\n",
      "\n",
      "player_0\n",
      "turn: 58\n",
      "HEAVY unit_8 at: [3 7] power and ice: 319 840 unit queue: 0\n",
      "HEAVY unit_9 at: [32 17] power and ice: 452 820 unit queue: 0\n",
      "HEAVY unit_10 at: [32 25] power and ice: 385 820 unit queue: 0\n",
      "LIGHT unit_16 at: [ 5 10] power and ore: 4 0 unit queue: 1\n",
      "LIGHT unit_17 at: [28 20] power and ore: 2 0 unit queue: 1\n",
      "LIGHT unit_18 at: [28 27] power and ore: 6 0 unit queue: 1\n",
      "LIGHT unit_19 at: [38 11] power and ore: 6 0 unit queue: 1\n",
      "LIGHT unit_20 at: [ 6 10] power and ore: 1 0 unit queue: 1\n",
      "LIGHT unit_21 at: [27 19] power and ore: 3 0 unit queue: 1\n",
      "LIGHT unit_22 at: [28 26] power and ore: 3 0 unit queue: 1\n",
      "LIGHT unit_23 at: [38 12] power and ore: 3 0 unit queue: 1\n",
      "LIGHT unit_24 at: [ 4 10] power and ore: 4 0 unit queue: 1\n",
      "LIGHT unit_27 at: [38 10] power and ore: 6 0 unit queue: 1\n",
      "LIGHT unit_28 at: [3 9] power and ore: 1 0 unit queue: 0\n",
      "LIGHT unit_29 at: [29 21] power and ore: 1 0 unit queue: 0\n",
      "LIGHT unit_30 at: [29 25] power and ore: 1 0 unit queue: 1\n",
      "LIGHT unit_31 at: [36 13] power and ore: 6 0 unit queue: 1\n",
      "LIGHT unit_32 at: [7 9] power and ore: 5 0 unit queue: 1\n",
      "LIGHT unit_33 at: [30 20] power and ore: 5 0 unit queue: 1\n",
      "LIGHT unit_35 at: [36  9] power and ore: 5 0 unit queue: 1\n",
      "\n",
      "player_0\n",
      "turn: 59\n",
      "HEAVY unit_8 at: [3 7] power and ice: 259 860 unit queue: 0\n",
      "HEAVY unit_9 at: [32 17] power and ice: 392 840 unit queue: 0\n",
      "HEAVY unit_10 at: [32 25] power and ice: 325 840 unit queue: 0\n",
      "LIGHT unit_16 at: [ 5 10] power and ore: 5 0 unit queue: 1\n",
      "LIGHT unit_17 at: [28 20] power and ore: 3 0 unit queue: 1\n",
      "LIGHT unit_18 at: [28 27] power and ore: 1 0 unit queue: 0\n",
      "LIGHT unit_19 at: [38 11] power and ore: 1 0 unit queue: 0\n",
      "LIGHT unit_20 at: [ 6 10] power and ore: 2 0 unit queue: 1\n",
      "LIGHT unit_21 at: [27 19] power and ore: 4 0 unit queue: 1\n",
      "LIGHT unit_22 at: [28 26] power and ore: 4 0 unit queue: 1\n",
      "LIGHT unit_23 at: [38 12] power and ore: 4 0 unit queue: 1\n",
      "LIGHT unit_24 at: [ 4 10] power and ore: 5 0 unit queue: 1\n",
      "LIGHT unit_27 at: [38 10] power and ore: 1 0 unit queue: 0\n",
      "LIGHT unit_28 at: [3 9] power and ore: 1 0 unit queue: 1\n",
      "LIGHT unit_29 at: [29 21] power and ore: 1 0 unit queue: 1\n",
      "LIGHT unit_30 at: [29 25] power and ore: 2 0 unit queue: 1\n",
      "LIGHT unit_31 at: [37 13] power and ore: 1 0 unit queue: 0\n",
      "LIGHT unit_32 at: [7 9] power and ore: 6 0 unit queue: 1\n",
      "LIGHT unit_33 at: [30 20] power and ore: 6 0 unit queue: 1\n",
      "LIGHT unit_35 at: [36  9] power and ore: 6 0 unit queue: 1\n",
      "\n",
      "player_0\n",
      "turn: 60\n",
      "HEAVY unit_8 at: [3 7] power and ice: 199 880 unit queue: 0\n",
      "HEAVY unit_9 at: [32 17] power and ice: 332 860 unit queue: 0\n",
      "HEAVY unit_10 at: [32 25] power and ice: 265 860 unit queue: 0\n",
      "LIGHT unit_16 at: [ 5 10] power and ore: 6 0 unit queue: 1\n",
      "LIGHT unit_17 at: [28 20] power and ore: 4 0 unit queue: 1\n",
      "LIGHT unit_18 at: [28 27] power and ore: 1 0 unit queue: 1\n",
      "LIGHT unit_19 at: [38 11] power and ore: 1 0 unit queue: 1\n",
      "LIGHT unit_20 at: [ 6 10] power and ore: 3 0 unit queue: 1\n",
      "LIGHT unit_21 at: [27 19] power and ore: 5 0 unit queue: 1\n",
      "LIGHT unit_22 at: [28 26] power and ore: 5 0 unit queue: 1\n",
      "LIGHT unit_23 at: [38 12] power and ore: 5 0 unit queue: 1\n",
      "LIGHT unit_24 at: [ 4 10] power and ore: 6 0 unit queue: 1\n",
      "LIGHT unit_27 at: [38 10] power and ore: 1 0 unit queue: 1\n",
      "LIGHT unit_28 at: [3 9] power and ore: 2 0 unit queue: 1\n",
      "LIGHT unit_29 at: [29 21] power and ore: 2 0 unit queue: 1\n",
      "LIGHT unit_30 at: [29 25] power and ore: 3 0 unit queue: 1\n",
      "LIGHT unit_31 at: [37 13] power and ore: 1 0 unit queue: 1\n",
      "LIGHT unit_32 at: [7 9] power and ore: 1 0 unit queue: 0\n",
      "LIGHT unit_33 at: [30 20] power and ore: 1 0 unit queue: 0\n",
      "LIGHT unit_35 at: [37  9] power and ore: 5 0 unit queue: 0\n",
      "\n",
      "player_0\n",
      "turn: 61\n",
      "HEAVY unit_8 at: [3 7] power and ice: 139 900 unit queue: 0\n",
      "HEAVY unit_9 at: [32 17] power and ice: 272 880 unit queue: 0\n",
      "HEAVY unit_10 at: [32 25] power and ice: 205 880 unit queue: 0\n",
      "LIGHT unit_16 at: [ 5 11] power and ore: 5 0 unit queue: 0\n",
      "LIGHT unit_17 at: [28 20] power and ore: 5 0 unit queue: 1\n",
      "LIGHT unit_18 at: [28 27] power and ore: 2 0 unit queue: 1\n",
      "LIGHT unit_19 at: [38 11] power and ore: 2 0 unit queue: 1\n",
      "LIGHT unit_20 at: [ 6 10] power and ore: 4 0 unit queue: 1\n",
      "LIGHT unit_21 at: [27 19] power and ore: 6 0 unit queue: 1\n",
      "LIGHT unit_22 at: [28 26] power and ore: 6 0 unit queue: 1\n",
      "LIGHT unit_23 at: [38 12] power and ore: 6 0 unit queue: 1\n",
      "LIGHT unit_24 at: [ 4 10] power and ore: 1 0 unit queue: 0\n",
      "LIGHT unit_27 at: [38 10] power and ore: 2 0 unit queue: 1\n",
      "LIGHT unit_28 at: [3 9] power and ore: 3 0 unit queue: 1\n",
      "LIGHT unit_29 at: [29 21] power and ore: 3 0 unit queue: 1\n",
      "LIGHT unit_30 at: [29 25] power and ore: 4 0 unit queue: 1\n",
      "LIGHT unit_31 at: [37 13] power and ore: 2 0 unit queue: 1\n",
      "LIGHT unit_32 at: [7 9] power and ore: 1 0 unit queue: 1\n",
      "LIGHT unit_33 at: [30 20] power and ore: 1 0 unit queue: 1\n",
      "LIGHT unit_35 at: [37  9] power and ore: 5 0 unit queue: 1\n",
      "\n",
      "player_0\n",
      "turn: 62\n",
      "HEAVY unit_8 at: [3 7] power and ice: 79 920 unit queue: 0\n",
      "HEAVY unit_9 at: [32 17] power and ice: 212 900 unit queue: 0\n",
      "HEAVY unit_10 at: [32 25] power and ice: 145 900 unit queue: 0\n",
      "LIGHT unit_16 at: [ 5 11] power and ore: 5 0 unit queue: 1\n",
      "LIGHT unit_17 at: [28 20] power and ore: 6 0 unit queue: 1\n",
      "LIGHT unit_18 at: [28 27] power and ore: 3 0 unit queue: 1\n",
      "LIGHT unit_19 at: [38 11] power and ore: 3 0 unit queue: 1\n",
      "LIGHT unit_20 at: [ 6 10] power and ore: 5 0 unit queue: 1\n",
      "LIGHT unit_21 at: [27 19] power and ore: 1 0 unit queue: 0\n",
      "LIGHT unit_22 at: [28 26] power and ore: 1 0 unit queue: 0\n",
      "LIGHT unit_23 at: [38 12] power and ore: 1 0 unit queue: 0\n",
      "LIGHT unit_24 at: [ 4 10] power and ore: 1 0 unit queue: 1\n",
      "LIGHT unit_27 at: [38 10] power and ore: 3 0 unit queue: 1\n",
      "LIGHT unit_28 at: [3 9] power and ore: 4 0 unit queue: 1\n",
      "LIGHT unit_29 at: [29 21] power and ore: 4 0 unit queue: 1\n",
      "LIGHT unit_30 at: [29 25] power and ore: 5 0 unit queue: 1\n",
      "LIGHT unit_31 at: [37 13] power and ore: 3 0 unit queue: 1\n",
      "LIGHT unit_32 at: [7 9] power and ore: 2 0 unit queue: 1\n",
      "LIGHT unit_33 at: [30 20] power and ore: 2 0 unit queue: 1\n",
      "LIGHT unit_35 at: [37  9] power and ore: 6 0 unit queue: 1\n",
      "\n",
      "player_0\n",
      "turn: 63\n",
      "HEAVY unit_8 at: [4 7] power and ice: 59 920 unit queue: 0\n",
      "HEAVY unit_9 at: [32 17] power and ice: 152 920 unit queue: 0\n",
      "HEAVY unit_10 at: [32 25] power and ice: 85 920 unit queue: 0\n",
      "LIGHT unit_16 at: [ 5 11] power and ore: 6 0 unit queue: 1\n",
      "LIGHT unit_17 at: [28 20] power and ore: 1 0 unit queue: 0\n",
      "LIGHT unit_18 at: [28 27] power and ore: 4 0 unit queue: 1\n",
      "LIGHT unit_19 at: [38 11] power and ore: 4 0 unit queue: 1\n",
      "LIGHT unit_20 at: [ 6 10] power and ore: 6 0 unit queue: 1\n",
      "LIGHT unit_21 at: [27 19] power and ore: 1 0 unit queue: 1\n",
      "LIGHT unit_22 at: [28 26] power and ore: 1 0 unit queue: 1\n",
      "LIGHT unit_23 at: [38 12] power and ore: 1 0 unit queue: 1\n",
      "LIGHT unit_24 at: [ 4 10] power and ore: 2 0 unit queue: 1\n",
      "LIGHT unit_27 at: [38 10] power and ore: 4 0 unit queue: 1\n",
      "LIGHT unit_28 at: [3 9] power and ore: 5 0 unit queue: 1\n",
      "LIGHT unit_29 at: [29 21] power and ore: 5 0 unit queue: 1\n",
      "LIGHT unit_30 at: [29 25] power and ore: 6 0 unit queue: 1\n",
      "LIGHT unit_31 at: [37 13] power and ore: 4 0 unit queue: 1\n",
      "LIGHT unit_32 at: [7 9] power and ore: 3 0 unit queue: 1\n",
      "LIGHT unit_33 at: [30 20] power and ore: 3 0 unit queue: 1\n",
      "LIGHT unit_35 at: [37  9] power and ore: 1 0 unit queue: 0\n",
      "\n",
      "player_0\n",
      "turn: 64\n",
      "HEAVY unit_8 at: [4 7] power and ice: 659 920 unit queue: 0\n",
      "HEAVY unit_9 at: [32 17] power and ice: 92 940 unit queue: 0\n",
      "HEAVY unit_10 at: [32 26] power and ice: 65 920 unit queue: 0\n",
      "LIGHT unit_16 at: [ 5 11] power and ore: 1 0 unit queue: 0\n",
      "LIGHT unit_17 at: [28 20] power and ore: 1 0 unit queue: 1\n",
      "LIGHT unit_18 at: [28 27] power and ore: 5 0 unit queue: 1\n",
      "LIGHT unit_19 at: [38 11] power and ore: 5 0 unit queue: 1\n",
      "LIGHT unit_20 at: [ 6 11] power and ore: 5 0 unit queue: 0\n",
      "LIGHT unit_21 at: [27 19] power and ore: 2 0 unit queue: 1\n",
      "LIGHT unit_22 at: [28 26] power and ore: 2 0 unit queue: 1\n",
      "LIGHT unit_23 at: [38 12] power and ore: 2 0 unit queue: 1\n",
      "LIGHT unit_24 at: [ 4 10] power and ore: 3 0 unit queue: 1\n",
      "LIGHT unit_27 at: [38 10] power and ore: 5 0 unit queue: 1\n",
      "LIGHT unit_28 at: [3 9] power and ore: 6 0 unit queue: 1\n",
      "LIGHT unit_29 at: [29 21] power and ore: 6 0 unit queue: 1\n",
      "LIGHT unit_30 at: [29 25] power and ore: 1 0 unit queue: 0\n",
      "LIGHT unit_31 at: [37 13] power and ore: 5 0 unit queue: 1\n",
      "LIGHT unit_32 at: [7 9] power and ore: 4 0 unit queue: 1\n",
      "LIGHT unit_33 at: [30 20] power and ore: 4 0 unit queue: 1\n",
      "LIGHT unit_35 at: [37  9] power and ore: 1 0 unit queue: 1\n",
      "\n",
      "player_0\n",
      "turn: 65\n",
      "HEAVY unit_8 at: [3 7] power and ice: 639 920 unit queue: 0\n",
      "HEAVY unit_9 at: [31 17] power and ice: 72 940 unit queue: 0\n",
      "HEAVY unit_10 at: [32 26] power and ice: 665 920 unit queue: 0\n",
      "LIGHT unit_16 at: [ 5 11] power and ore: 1 0 unit queue: 1\n",
      "LIGHT unit_17 at: [28 20] power and ore: 2 0 unit queue: 1\n",
      "LIGHT unit_18 at: [28 27] power and ore: 6 0 unit queue: 1\n",
      "LIGHT unit_19 at: [38 11] power and ore: 6 0 unit queue: 1\n",
      "LIGHT unit_20 at: [ 6 11] power and ore: 5 0 unit queue: 1\n",
      "LIGHT unit_21 at: [27 19] power and ore: 3 0 unit queue: 1\n",
      "LIGHT unit_22 at: [28 26] power and ore: 3 0 unit queue: 1\n",
      "LIGHT unit_23 at: [38 12] power and ore: 3 0 unit queue: 1\n",
      "LIGHT unit_24 at: [ 4 10] power and ore: 4 0 unit queue: 1\n",
      "LIGHT unit_27 at: [38 10] power and ore: 6 0 unit queue: 1\n",
      "LIGHT unit_28 at: [3 9] power and ore: 1 0 unit queue: 0\n",
      "LIGHT unit_29 at: [28 21] power and ore: 1 0 unit queue: 0\n",
      "LIGHT unit_30 at: [29 25] power and ore: 1 0 unit queue: 1\n",
      "LIGHT unit_31 at: [37 13] power and ore: 6 0 unit queue: 1\n",
      "LIGHT unit_32 at: [7 9] power and ore: 5 0 unit queue: 1\n",
      "LIGHT unit_33 at: [30 20] power and ore: 5 0 unit queue: 1\n",
      "LIGHT unit_35 at: [37  9] power and ore: 2 0 unit queue: 1\n",
      "\n",
      "player_0\n",
      "turn: 66\n",
      "HEAVY unit_8 at: [3 7] power and ice: 579 940 unit queue: 0\n",
      "HEAVY unit_9 at: [31 17] power and ice: 672 940 unit queue: 0\n",
      "HEAVY unit_10 at: [32 25] power and ice: 645 920 unit queue: 0\n",
      "LIGHT unit_16 at: [ 5 11] power and ore: 2 0 unit queue: 1\n",
      "LIGHT unit_17 at: [28 20] power and ore: 3 0 unit queue: 1\n",
      "LIGHT unit_18 at: [28 27] power and ore: 1 0 unit queue: 0\n",
      "LIGHT unit_19 at: [38 11] power and ore: 1 0 unit queue: 0\n",
      "LIGHT unit_20 at: [ 6 11] power and ore: 6 0 unit queue: 1\n",
      "LIGHT unit_21 at: [27 19] power and ore: 4 0 unit queue: 1\n",
      "LIGHT unit_22 at: [28 26] power and ore: 4 0 unit queue: 1\n",
      "LIGHT unit_23 at: [38 12] power and ore: 4 0 unit queue: 1\n",
      "LIGHT unit_24 at: [ 4 10] power and ore: 5 0 unit queue: 1\n",
      "LIGHT unit_27 at: [38 10] power and ore: 1 0 unit queue: 0\n",
      "LIGHT unit_28 at: [3 9] power and ore: 1 0 unit queue: 1\n",
      "LIGHT unit_29 at: [28 21] power and ore: 1 0 unit queue: 1\n",
      "LIGHT unit_30 at: [29 25] power and ore: 2 0 unit queue: 1\n",
      "LIGHT unit_31 at: [37 13] power and ore: 1 0 unit queue: 0\n",
      "LIGHT unit_32 at: [7 9] power and ore: 6 0 unit queue: 1\n",
      "LIGHT unit_33 at: [30 20] power and ore: 6 0 unit queue: 1\n",
      "LIGHT unit_35 at: [37  9] power and ore: 3 0 unit queue: 1\n",
      "\n",
      "player_0\n",
      "turn: 67\n",
      "HEAVY unit_8 at: [3 7] power and ice: 519 960 unit queue: 0\n",
      "HEAVY unit_9 at: [32 17] power and ice: 652 940 unit queue: 0\n",
      "HEAVY unit_10 at: [32 25] power and ice: 585 940 unit queue: 0\n",
      "LIGHT unit_16 at: [ 5 11] power and ore: 3 0 unit queue: 1\n",
      "LIGHT unit_17 at: [28 20] power and ore: 4 0 unit queue: 1\n",
      "LIGHT unit_18 at: [28 27] power and ore: 1 0 unit queue: 1\n",
      "LIGHT unit_19 at: [38 11] power and ore: 1 0 unit queue: 1\n",
      "LIGHT unit_20 at: [ 6 11] power and ore: 1 0 unit queue: 0\n",
      "LIGHT unit_21 at: [27 19] power and ore: 5 0 unit queue: 1\n",
      "LIGHT unit_22 at: [28 26] power and ore: 5 0 unit queue: 1\n",
      "LIGHT unit_23 at: [38 12] power and ore: 5 0 unit queue: 1\n",
      "LIGHT unit_24 at: [ 4 10] power and ore: 6 0 unit queue: 1\n",
      "LIGHT unit_27 at: [38 10] power and ore: 1 0 unit queue: 1\n",
      "LIGHT unit_28 at: [3 9] power and ore: 2 0 unit queue: 1\n",
      "LIGHT unit_29 at: [28 21] power and ore: 2 0 unit queue: 1\n",
      "LIGHT unit_30 at: [29 25] power and ore: 3 0 unit queue: 1\n",
      "LIGHT unit_31 at: [37 13] power and ore: 1 0 unit queue: 1\n",
      "LIGHT unit_32 at: [7 9] power and ore: 1 0 unit queue: 0\n",
      "LIGHT unit_33 at: [30 20] power and ore: 1 0 unit queue: 0\n",
      "LIGHT unit_35 at: [37  9] power and ore: 4 0 unit queue: 1\n",
      "\n",
      "player_0\n",
      "turn: 68\n",
      "HEAVY unit_8 at: [3 7] power and ice: 519 0 unit queue: 0\n",
      "HEAVY unit_9 at: [32 17] power and ice: 592 960 unit queue: 0\n",
      "HEAVY unit_10 at: [32 25] power and ice: 525 960 unit queue: 0\n",
      "LIGHT unit_16 at: [ 5 11] power and ore: 4 0 unit queue: 1\n",
      "LIGHT unit_17 at: [28 20] power and ore: 5 0 unit queue: 1\n",
      "LIGHT unit_18 at: [28 27] power and ore: 2 0 unit queue: 1\n",
      "LIGHT unit_19 at: [38 11] power and ore: 2 0 unit queue: 1\n",
      "LIGHT unit_20 at: [ 6 11] power and ore: 1 0 unit queue: 1\n",
      "LIGHT unit_21 at: [27 19] power and ore: 6 0 unit queue: 1\n",
      "LIGHT unit_22 at: [28 26] power and ore: 6 0 unit queue: 1\n",
      "LIGHT unit_23 at: [38 12] power and ore: 6 0 unit queue: 1\n",
      "LIGHT unit_24 at: [ 4 10] power and ore: 1 0 unit queue: 0\n",
      "LIGHT unit_27 at: [38 10] power and ore: 2 0 unit queue: 1\n",
      "LIGHT unit_28 at: [3 9] power and ore: 3 0 unit queue: 1\n",
      "LIGHT unit_29 at: [28 21] power and ore: 3 0 unit queue: 1\n",
      "LIGHT unit_30 at: [29 25] power and ore: 4 0 unit queue: 1\n",
      "LIGHT unit_31 at: [37 13] power and ore: 2 0 unit queue: 1\n",
      "LIGHT unit_32 at: [7 9] power and ore: 1 0 unit queue: 1\n",
      "LIGHT unit_33 at: [30 20] power and ore: 1 0 unit queue: 1\n",
      "LIGHT unit_35 at: [37  9] power and ore: 5 0 unit queue: 1\n",
      "\n",
      "player_0\n",
      "turn: 69\n",
      "HEAVY unit_8 at: [3 7] power and ice: 459 20 unit queue: 0\n",
      "HEAVY unit_9 at: [32 17] power and ice: 592 0 unit queue: 0\n",
      "HEAVY unit_10 at: [32 25] power and ice: 525 0 unit queue: 0\n",
      "LIGHT unit_16 at: [ 5 11] power and ore: 5 0 unit queue: 1\n",
      "LIGHT unit_17 at: [28 20] power and ore: 6 0 unit queue: 1\n",
      "LIGHT unit_18 at: [28 27] power and ore: 3 0 unit queue: 1\n",
      "LIGHT unit_19 at: [38 11] power and ore: 3 0 unit queue: 1\n",
      "LIGHT unit_20 at: [ 6 11] power and ore: 2 0 unit queue: 1\n",
      "LIGHT unit_21 at: [27 19] power and ore: 1 0 unit queue: 0\n",
      "LIGHT unit_22 at: [28 26] power and ore: 1 0 unit queue: 0\n",
      "LIGHT unit_23 at: [38 12] power and ore: 1 0 unit queue: 0\n",
      "LIGHT unit_24 at: [ 4 10] power and ore: 1 0 unit queue: 1\n",
      "LIGHT unit_27 at: [38 10] power and ore: 3 0 unit queue: 1\n",
      "LIGHT unit_28 at: [3 9] power and ore: 4 0 unit queue: 1\n",
      "LIGHT unit_29 at: [28 21] power and ore: 4 0 unit queue: 1\n",
      "LIGHT unit_30 at: [29 25] power and ore: 5 0 unit queue: 1\n",
      "LIGHT unit_31 at: [37 13] power and ore: 3 0 unit queue: 1\n",
      "LIGHT unit_32 at: [7 9] power and ore: 2 0 unit queue: 1\n",
      "LIGHT unit_33 at: [30 20] power and ore: 2 0 unit queue: 1\n",
      "LIGHT unit_35 at: [37  9] power and ore: 6 0 unit queue: 1\n",
      "\n",
      "player_0\n",
      "turn: 70\n",
      "HEAVY unit_8 at: [3 7] power and ice: 399 40 unit queue: 0\n",
      "HEAVY unit_9 at: [32 17] power and ice: 532 20 unit queue: 0\n",
      "HEAVY unit_10 at: [32 25] power and ice: 465 20 unit queue: 0\n",
      "LIGHT unit_16 at: [ 5 11] power and ore: 6 0 unit queue: 1\n",
      "LIGHT unit_17 at: [28 20] power and ore: 1 0 unit queue: 0\n",
      "LIGHT unit_18 at: [28 27] power and ore: 4 0 unit queue: 1\n",
      "LIGHT unit_19 at: [38 11] power and ore: 4 0 unit queue: 1\n",
      "LIGHT unit_20 at: [ 6 11] power and ore: 3 0 unit queue: 1\n",
      "LIGHT unit_21 at: [27 19] power and ore: 1 0 unit queue: 1\n",
      "LIGHT unit_22 at: [28 26] power and ore: 1 0 unit queue: 1\n",
      "LIGHT unit_23 at: [38 12] power and ore: 1 0 unit queue: 1\n",
      "LIGHT unit_24 at: [ 4 10] power and ore: 2 0 unit queue: 1\n",
      "LIGHT unit_27 at: [38 10] power and ore: 4 0 unit queue: 1\n",
      "LIGHT unit_28 at: [3 9] power and ore: 5 0 unit queue: 1\n",
      "LIGHT unit_29 at: [28 21] power and ore: 5 0 unit queue: 1\n",
      "LIGHT unit_30 at: [29 25] power and ore: 6 0 unit queue: 1\n",
      "LIGHT unit_31 at: [37 13] power and ore: 4 0 unit queue: 1\n",
      "LIGHT unit_32 at: [7 9] power and ore: 3 0 unit queue: 1\n",
      "LIGHT unit_33 at: [30 20] power and ore: 3 0 unit queue: 1\n",
      "LIGHT unit_35 at: [37  9] power and ore: 1 0 unit queue: 0\n",
      "\n",
      "player_0\n",
      "turn: 71\n",
      "HEAVY unit_8 at: [3 7] power and ice: 339 60 unit queue: 0\n",
      "HEAVY unit_9 at: [32 17] power and ice: 472 40 unit queue: 0\n",
      "HEAVY unit_10 at: [32 25] power and ice: 405 40 unit queue: 0\n",
      "LIGHT unit_16 at: [ 5 11] power and ore: 1 0 unit queue: 0\n",
      "LIGHT unit_17 at: [28 20] power and ore: 1 0 unit queue: 1\n",
      "LIGHT unit_18 at: [28 27] power and ore: 5 0 unit queue: 1\n",
      "LIGHT unit_19 at: [38 11] power and ore: 5 0 unit queue: 1\n",
      "LIGHT unit_20 at: [ 6 11] power and ore: 4 0 unit queue: 1\n",
      "LIGHT unit_21 at: [27 19] power and ore: 2 0 unit queue: 1\n",
      "LIGHT unit_22 at: [28 26] power and ore: 2 0 unit queue: 1\n",
      "LIGHT unit_23 at: [38 12] power and ore: 2 0 unit queue: 1\n",
      "LIGHT unit_24 at: [ 4 10] power and ore: 3 0 unit queue: 1\n",
      "LIGHT unit_27 at: [38 10] power and ore: 5 0 unit queue: 1\n",
      "LIGHT unit_28 at: [3 9] power and ore: 6 0 unit queue: 1\n",
      "LIGHT unit_29 at: [28 21] power and ore: 6 0 unit queue: 1\n",
      "LIGHT unit_30 at: [29 25] power and ore: 1 0 unit queue: 0\n",
      "LIGHT unit_31 at: [37 13] power and ore: 5 0 unit queue: 1\n",
      "LIGHT unit_32 at: [7 9] power and ore: 4 0 unit queue: 1\n",
      "LIGHT unit_33 at: [30 20] power and ore: 4 0 unit queue: 1\n",
      "LIGHT unit_35 at: [37  9] power and ore: 1 0 unit queue: 1\n",
      "\n",
      "player_0\n",
      "turn: 72\n",
      "HEAVY unit_8 at: [3 7] power and ice: 279 80 unit queue: 0\n",
      "HEAVY unit_9 at: [32 17] power and ice: 412 60 unit queue: 0\n",
      "HEAVY unit_10 at: [32 25] power and ice: 345 60 unit queue: 0\n",
      "LIGHT unit_16 at: [ 5 11] power and ore: 1 0 unit queue: 1\n",
      "LIGHT unit_17 at: [28 20] power and ore: 2 0 unit queue: 1\n",
      "LIGHT unit_18 at: [28 27] power and ore: 6 0 unit queue: 1\n",
      "LIGHT unit_19 at: [38 11] power and ore: 6 0 unit queue: 1\n",
      "LIGHT unit_20 at: [ 6 11] power and ore: 5 0 unit queue: 1\n",
      "LIGHT unit_21 at: [27 19] power and ore: 3 0 unit queue: 1\n",
      "LIGHT unit_22 at: [28 26] power and ore: 3 0 unit queue: 1\n",
      "LIGHT unit_23 at: [38 12] power and ore: 3 0 unit queue: 1\n",
      "LIGHT unit_24 at: [ 4 10] power and ore: 4 0 unit queue: 1\n",
      "LIGHT unit_27 at: [38 10] power and ore: 6 0 unit queue: 1\n",
      "LIGHT unit_28 at: [3 9] power and ore: 1 0 unit queue: 0\n",
      "LIGHT unit_29 at: [28 21] power and ore: 1 0 unit queue: 0\n",
      "LIGHT unit_30 at: [29 25] power and ore: 1 0 unit queue: 1\n",
      "LIGHT unit_31 at: [37 13] power and ore: 6 0 unit queue: 1\n",
      "LIGHT unit_32 at: [7 9] power and ore: 5 0 unit queue: 1\n",
      "LIGHT unit_33 at: [30 20] power and ore: 5 0 unit queue: 1\n",
      "LIGHT unit_35 at: [37  9] power and ore: 2 0 unit queue: 1\n",
      "\n",
      "player_0\n",
      "turn: 73\n",
      "HEAVY unit_8 at: [3 7] power and ice: 219 100 unit queue: 0\n",
      "HEAVY unit_9 at: [32 17] power and ice: 352 80 unit queue: 0\n",
      "HEAVY unit_10 at: [32 25] power and ice: 285 80 unit queue: 0\n",
      "LIGHT unit_16 at: [ 5 11] power and ore: 2 0 unit queue: 1\n",
      "LIGHT unit_17 at: [28 20] power and ore: 3 0 unit queue: 1\n",
      "LIGHT unit_18 at: [28 27] power and ore: 1 0 unit queue: 0\n",
      "LIGHT unit_19 at: [38 11] power and ore: 1 0 unit queue: 0\n",
      "LIGHT unit_20 at: [ 6 11] power and ore: 6 0 unit queue: 1\n",
      "LIGHT unit_21 at: [27 19] power and ore: 4 0 unit queue: 1\n",
      "LIGHT unit_22 at: [28 26] power and ore: 4 0 unit queue: 1\n",
      "LIGHT unit_23 at: [38 12] power and ore: 4 0 unit queue: 1\n",
      "LIGHT unit_24 at: [ 4 10] power and ore: 5 0 unit queue: 1\n",
      "LIGHT unit_27 at: [38 10] power and ore: 1 0 unit queue: 0\n",
      "LIGHT unit_28 at: [3 9] power and ore: 1 0 unit queue: 1\n",
      "LIGHT unit_29 at: [28 21] power and ore: 1 0 unit queue: 1\n",
      "LIGHT unit_30 at: [29 25] power and ore: 2 0 unit queue: 1\n",
      "LIGHT unit_31 at: [37 13] power and ore: 1 0 unit queue: 0\n",
      "LIGHT unit_32 at: [7 9] power and ore: 6 0 unit queue: 1\n",
      "LIGHT unit_33 at: [30 20] power and ore: 6 0 unit queue: 1\n",
      "LIGHT unit_35 at: [37  9] power and ore: 3 0 unit queue: 1\n",
      "\n",
      "player_0\n",
      "turn: 74\n",
      "HEAVY unit_8 at: [3 7] power and ice: 159 120 unit queue: 0\n",
      "HEAVY unit_9 at: [32 17] power and ice: 292 100 unit queue: 0\n",
      "HEAVY unit_10 at: [32 25] power and ice: 225 100 unit queue: 0\n",
      "LIGHT unit_16 at: [ 5 11] power and ore: 3 0 unit queue: 1\n",
      "LIGHT unit_17 at: [28 20] power and ore: 4 0 unit queue: 1\n",
      "LIGHT unit_18 at: [28 27] power and ore: 1 0 unit queue: 1\n",
      "LIGHT unit_19 at: [38 11] power and ore: 1 0 unit queue: 1\n",
      "LIGHT unit_20 at: [ 6 11] power and ore: 1 0 unit queue: 0\n",
      "LIGHT unit_21 at: [27 19] power and ore: 5 0 unit queue: 1\n",
      "LIGHT unit_22 at: [28 26] power and ore: 5 0 unit queue: 1\n",
      "LIGHT unit_23 at: [38 12] power and ore: 5 0 unit queue: 1\n",
      "LIGHT unit_24 at: [ 4 10] power and ore: 6 0 unit queue: 1\n",
      "LIGHT unit_27 at: [38 10] power and ore: 1 0 unit queue: 1\n",
      "LIGHT unit_28 at: [3 9] power and ore: 2 0 unit queue: 1\n",
      "LIGHT unit_29 at: [28 21] power and ore: 2 0 unit queue: 1\n",
      "LIGHT unit_30 at: [29 25] power and ore: 3 0 unit queue: 1\n",
      "LIGHT unit_31 at: [37 13] power and ore: 1 0 unit queue: 1\n",
      "LIGHT unit_32 at: [7 9] power and ore: 1 0 unit queue: 0\n",
      "LIGHT unit_33 at: [30 20] power and ore: 1 0 unit queue: 0\n",
      "LIGHT unit_35 at: [37  9] power and ore: 4 0 unit queue: 1\n",
      "\n",
      "player_0\n",
      "turn: 75\n",
      "HEAVY unit_8 at: [3 7] power and ice: 99 140 unit queue: 0\n",
      "HEAVY unit_9 at: [32 17] power and ice: 232 120 unit queue: 0\n",
      "HEAVY unit_10 at: [32 25] power and ice: 165 120 unit queue: 0\n",
      "LIGHT unit_16 at: [ 5 11] power and ore: 4 0 unit queue: 1\n",
      "LIGHT unit_17 at: [28 20] power and ore: 5 0 unit queue: 1\n",
      "LIGHT unit_18 at: [28 27] power and ore: 2 0 unit queue: 1\n",
      "LIGHT unit_19 at: [38 11] power and ore: 2 0 unit queue: 1\n",
      "LIGHT unit_20 at: [ 6 11] power and ore: 1 0 unit queue: 1\n",
      "LIGHT unit_21 at: [27 19] power and ore: 6 0 unit queue: 1\n",
      "LIGHT unit_22 at: [28 26] power and ore: 6 0 unit queue: 1\n",
      "LIGHT unit_23 at: [38 12] power and ore: 6 0 unit queue: 1\n",
      "LIGHT unit_24 at: [ 4 10] power and ore: 1 0 unit queue: 0\n",
      "LIGHT unit_27 at: [38 10] power and ore: 2 0 unit queue: 1\n",
      "LIGHT unit_28 at: [3 9] power and ore: 3 0 unit queue: 1\n",
      "LIGHT unit_29 at: [28 21] power and ore: 3 0 unit queue: 1\n",
      "LIGHT unit_30 at: [29 25] power and ore: 4 0 unit queue: 1\n",
      "LIGHT unit_31 at: [37 13] power and ore: 2 0 unit queue: 1\n",
      "LIGHT unit_32 at: [7 9] power and ore: 1 0 unit queue: 1\n",
      "LIGHT unit_33 at: [30 20] power and ore: 1 0 unit queue: 1\n",
      "LIGHT unit_35 at: [37  9] power and ore: 5 0 unit queue: 1\n",
      "\n",
      "player_0\n",
      "turn: 76\n",
      "HEAVY unit_8 at: [4 7] power and ice: 79 140 unit queue: 0\n",
      "HEAVY unit_9 at: [32 17] power and ice: 172 140 unit queue: 0\n",
      "HEAVY unit_10 at: [32 25] power and ice: 105 140 unit queue: 0\n",
      "LIGHT unit_16 at: [ 5 11] power and ore: 5 0 unit queue: 1\n",
      "LIGHT unit_17 at: [28 20] power and ore: 6 0 unit queue: 1\n",
      "LIGHT unit_18 at: [28 27] power and ore: 3 0 unit queue: 1\n",
      "LIGHT unit_19 at: [38 11] power and ore: 3 0 unit queue: 1\n",
      "LIGHT unit_20 at: [ 6 11] power and ore: 2 0 unit queue: 1\n",
      "LIGHT unit_21 at: [27 19] power and ore: 1 0 unit queue: 0\n",
      "LIGHT unit_22 at: [28 26] power and ore: 1 0 unit queue: 0\n",
      "LIGHT unit_23 at: [38 12] power and ore: 1 0 unit queue: 0\n",
      "LIGHT unit_24 at: [ 4 10] power and ore: 1 0 unit queue: 1\n",
      "LIGHT unit_27 at: [38 10] power and ore: 3 0 unit queue: 1\n",
      "LIGHT unit_28 at: [3 9] power and ore: 4 0 unit queue: 1\n",
      "LIGHT unit_29 at: [28 21] power and ore: 4 0 unit queue: 1\n",
      "LIGHT unit_30 at: [29 25] power and ore: 5 0 unit queue: 1\n",
      "LIGHT unit_31 at: [37 13] power and ore: 3 0 unit queue: 1\n",
      "LIGHT unit_32 at: [7 9] power and ore: 2 0 unit queue: 1\n",
      "LIGHT unit_33 at: [30 20] power and ore: 2 0 unit queue: 1\n",
      "LIGHT unit_35 at: [37  9] power and ore: 6 0 unit queue: 1\n",
      "\n",
      "player_0\n",
      "turn: 77\n",
      "HEAVY unit_8 at: [4 7] power and ice: 729 140 unit queue: 0\n",
      "HEAVY unit_9 at: [32 17] power and ice: 112 160 unit queue: 0\n",
      "HEAVY unit_10 at: [32 25] power and ice: 45 160 unit queue: 0\n",
      "LIGHT unit_16 at: [ 5 11] power and ore: 6 0 unit queue: 1\n",
      "LIGHT unit_17 at: [28 20] power and ore: 1 0 unit queue: 0\n",
      "LIGHT unit_18 at: [28 27] power and ore: 4 0 unit queue: 1\n",
      "LIGHT unit_19 at: [38 11] power and ore: 4 0 unit queue: 1\n",
      "LIGHT unit_20 at: [ 6 11] power and ore: 3 0 unit queue: 1\n",
      "LIGHT unit_21 at: [27 19] power and ore: 1 0 unit queue: 1\n",
      "LIGHT unit_22 at: [28 26] power and ore: 1 0 unit queue: 1\n",
      "LIGHT unit_23 at: [38 12] power and ore: 1 0 unit queue: 1\n",
      "LIGHT unit_24 at: [ 4 10] power and ore: 2 0 unit queue: 1\n",
      "LIGHT unit_27 at: [38 10] power and ore: 4 0 unit queue: 1\n",
      "LIGHT unit_28 at: [3 9] power and ore: 5 0 unit queue: 1\n",
      "LIGHT unit_29 at: [28 21] power and ore: 5 0 unit queue: 1\n",
      "LIGHT unit_30 at: [29 25] power and ore: 6 0 unit queue: 1\n",
      "LIGHT unit_31 at: [37 13] power and ore: 4 0 unit queue: 1\n",
      "LIGHT unit_32 at: [7 9] power and ore: 3 0 unit queue: 1\n",
      "LIGHT unit_33 at: [30 20] power and ore: 3 0 unit queue: 1\n",
      "LIGHT unit_35 at: [37  9] power and ore: 1 0 unit queue: 0\n",
      "\n",
      "player_0\n",
      "turn: 78\n",
      "HEAVY unit_8 at: [3 7] power and ice: 709 140 unit queue: 0\n",
      "HEAVY unit_9 at: [32 17] power and ice: 52 180 unit queue: 0\n",
      "HEAVY unit_10 at: [32 26] power and ice: 25 160 unit queue: 0\n",
      "LIGHT unit_16 at: [ 5 11] power and ore: 1 0 unit queue: 0\n",
      "LIGHT unit_17 at: [28 20] power and ore: 1 0 unit queue: 1\n",
      "LIGHT unit_18 at: [28 27] power and ore: 5 0 unit queue: 1\n",
      "LIGHT unit_19 at: [38 11] power and ore: 5 0 unit queue: 1\n",
      "LIGHT unit_20 at: [ 6 11] power and ore: 4 0 unit queue: 1\n",
      "LIGHT unit_21 at: [27 19] power and ore: 2 0 unit queue: 1\n",
      "LIGHT unit_22 at: [28 26] power and ore: 2 0 unit queue: 1\n",
      "LIGHT unit_23 at: [38 12] power and ore: 2 0 unit queue: 1\n",
      "LIGHT unit_24 at: [ 4 10] power and ore: 3 0 unit queue: 1\n",
      "LIGHT unit_27 at: [38 10] power and ore: 5 0 unit queue: 1\n",
      "LIGHT unit_28 at: [3 9] power and ore: 6 0 unit queue: 1\n",
      "LIGHT unit_29 at: [28 21] power and ore: 6 0 unit queue: 1\n",
      "LIGHT unit_30 at: [29 25] power and ore: 1 0 unit queue: 0\n",
      "LIGHT unit_31 at: [37 13] power and ore: 5 0 unit queue: 1\n",
      "LIGHT unit_32 at: [7 9] power and ore: 4 0 unit queue: 1\n",
      "LIGHT unit_33 at: [30 20] power and ore: 4 0 unit queue: 1\n",
      "LIGHT unit_35 at: [37  9] power and ore: 1 0 unit queue: 1\n",
      "\n",
      "player_0\n",
      "turn: 79\n",
      "HEAVY unit_8 at: [3 7] power and ice: 649 160 unit queue: 0\n",
      "HEAVY unit_9 at: [31 17] power and ice: 32 180 unit queue: 0\n",
      "HEAVY unit_10 at: [32 26] power and ice: 725 160 unit queue: 0\n",
      "LIGHT unit_16 at: [ 5 11] power and ore: 1 0 unit queue: 1\n",
      "LIGHT unit_17 at: [28 20] power and ore: 2 0 unit queue: 1\n",
      "LIGHT unit_18 at: [28 27] power and ore: 6 0 unit queue: 1\n",
      "LIGHT unit_19 at: [38 11] power and ore: 6 0 unit queue: 1\n",
      "LIGHT unit_20 at: [ 6 11] power and ore: 5 0 unit queue: 1\n",
      "LIGHT unit_21 at: [27 19] power and ore: 3 0 unit queue: 1\n",
      "LIGHT unit_22 at: [28 26] power and ore: 3 0 unit queue: 1\n",
      "LIGHT unit_23 at: [38 12] power and ore: 3 0 unit queue: 1\n",
      "LIGHT unit_24 at: [ 4 10] power and ore: 4 0 unit queue: 1\n",
      "LIGHT unit_27 at: [38 10] power and ore: 6 0 unit queue: 1\n",
      "LIGHT unit_28 at: [3 9] power and ore: 1 0 unit queue: 0\n",
      "LIGHT unit_29 at: [28 21] power and ore: 1 0 unit queue: 0\n",
      "LIGHT unit_30 at: [29 25] power and ore: 1 0 unit queue: 1\n",
      "LIGHT unit_31 at: [37 13] power and ore: 6 0 unit queue: 1\n",
      "LIGHT unit_32 at: [7 9] power and ore: 5 0 unit queue: 1\n",
      "LIGHT unit_33 at: [30 20] power and ore: 5 0 unit queue: 1\n",
      "LIGHT unit_35 at: [37  9] power and ore: 2 0 unit queue: 1\n",
      "\n",
      "player_0\n",
      "turn: 80\n",
      "HEAVY unit_8 at: [3 7] power and ice: 589 180 unit queue: 0\n",
      "HEAVY unit_9 at: [31 17] power and ice: 732 180 unit queue: 0\n",
      "HEAVY unit_10 at: [32 25] power and ice: 705 160 unit queue: 0\n",
      "LIGHT unit_16 at: [ 5 11] power and ore: 2 0 unit queue: 1\n",
      "LIGHT unit_17 at: [28 20] power and ore: 3 0 unit queue: 1\n",
      "LIGHT unit_18 at: [28 27] power and ore: 1 0 unit queue: 0\n",
      "LIGHT unit_19 at: [38 11] power and ore: 1 0 unit queue: 0\n",
      "LIGHT unit_20 at: [ 6 11] power and ore: 6 0 unit queue: 1\n",
      "LIGHT unit_21 at: [27 19] power and ore: 4 0 unit queue: 1\n",
      "LIGHT unit_22 at: [28 26] power and ore: 4 0 unit queue: 1\n",
      "LIGHT unit_23 at: [38 12] power and ore: 4 0 unit queue: 1\n",
      "LIGHT unit_24 at: [ 4 10] power and ore: 5 0 unit queue: 1\n",
      "LIGHT unit_27 at: [38 10] power and ore: 1 0 unit queue: 0\n",
      "LIGHT unit_28 at: [3 9] power and ore: 1 0 unit queue: 1\n",
      "LIGHT unit_29 at: [28 21] power and ore: 1 0 unit queue: 1\n",
      "LIGHT unit_30 at: [29 25] power and ore: 2 0 unit queue: 1\n",
      "LIGHT unit_31 at: [37 13] power and ore: 1 0 unit queue: 0\n",
      "LIGHT unit_32 at: [7 9] power and ore: 6 0 unit queue: 1\n",
      "LIGHT unit_33 at: [30 20] power and ore: 6 0 unit queue: 1\n",
      "LIGHT unit_35 at: [37  9] power and ore: 3 0 unit queue: 1\n",
      "\n",
      "player_0\n",
      "turn: 81\n",
      "HEAVY unit_8 at: [3 7] power and ice: 519 200 unit queue: 0\n",
      "HEAVY unit_9 at: [32 17] power and ice: 702 180 unit queue: 0\n",
      "HEAVY unit_10 at: [32 25] power and ice: 635 180 unit queue: 0\n",
      "LIGHT unit_16 at: [ 5 11] power and ore: 2 0 unit queue: 1\n",
      "LIGHT unit_17 at: [28 20] power and ore: 3 0 unit queue: 1\n",
      "LIGHT unit_18 at: [28 27] power and ore: 0 0 unit queue: 1\n",
      "LIGHT unit_19 at: [38 11] power and ore: 0 0 unit queue: 1\n",
      "LIGHT unit_20 at: [ 6 11] power and ore: 0 0 unit queue: 0\n",
      "LIGHT unit_21 at: [27 19] power and ore: 4 0 unit queue: 1\n",
      "LIGHT unit_22 at: [28 26] power and ore: 4 0 unit queue: 1\n",
      "LIGHT unit_23 at: [38 12] power and ore: 4 0 unit queue: 1\n",
      "LIGHT unit_24 at: [ 4 10] power and ore: 5 0 unit queue: 1\n",
      "LIGHT unit_27 at: [38 10] power and ore: 0 0 unit queue: 1\n",
      "LIGHT unit_28 at: [3 9] power and ore: 1 0 unit queue: 1\n",
      "LIGHT unit_29 at: [28 21] power and ore: 1 0 unit queue: 1\n",
      "LIGHT unit_30 at: [29 25] power and ore: 2 0 unit queue: 1\n",
      "LIGHT unit_31 at: [37 13] power and ore: 0 0 unit queue: 1\n",
      "LIGHT unit_32 at: [ 7 10] power and ore: 4 0 unit queue: 0\n",
      "LIGHT unit_33 at: [30 20] power and ore: 0 0 unit queue: 0\n",
      "LIGHT unit_35 at: [37  9] power and ore: 3 0 unit queue: 1\n",
      "\n",
      "player_0\n",
      "turn: 82\n",
      "HEAVY unit_8 at: [3 7] power and ice: 449 220 unit queue: 0\n",
      "HEAVY unit_9 at: [32 17] power and ice: 632 200 unit queue: 0\n",
      "HEAVY unit_10 at: [32 25] power and ice: 565 200 unit queue: 0\n",
      "LIGHT unit_16 at: [ 5 11] power and ore: 2 0 unit queue: 1\n",
      "LIGHT unit_17 at: [28 20] power and ore: 3 0 unit queue: 1\n",
      "LIGHT unit_18 at: [28 27] power and ore: 0 0 unit queue: 1\n",
      "LIGHT unit_19 at: [38 11] power and ore: 0 0 unit queue: 1\n",
      "LIGHT unit_20 at: [ 6 11] power and ore: 0 0 unit queue: 0\n",
      "LIGHT unit_21 at: [27 19] power and ore: 4 0 unit queue: 1\n",
      "LIGHT unit_22 at: [28 26] power and ore: 4 0 unit queue: 1\n",
      "LIGHT unit_23 at: [38 12] power and ore: 4 0 unit queue: 1\n",
      "LIGHT unit_24 at: [ 4 10] power and ore: 5 0 unit queue: 1\n",
      "LIGHT unit_27 at: [38 10] power and ore: 0 0 unit queue: 1\n",
      "LIGHT unit_28 at: [3 9] power and ore: 1 0 unit queue: 1\n",
      "LIGHT unit_29 at: [28 21] power and ore: 1 0 unit queue: 1\n",
      "LIGHT unit_30 at: [29 25] power and ore: 2 0 unit queue: 1\n",
      "LIGHT unit_31 at: [37 13] power and ore: 0 0 unit queue: 1\n",
      "LIGHT unit_32 at: [ 7 10] power and ore: 3 0 unit queue: 1\n",
      "LIGHT unit_33 at: [30 20] power and ore: 0 0 unit queue: 0\n",
      "LIGHT unit_35 at: [37  9] power and ore: 3 0 unit queue: 1\n",
      "\n",
      "player_0\n",
      "turn: 83\n",
      "HEAVY unit_8 at: [3 7] power and ice: 379 240 unit queue: 0\n",
      "HEAVY unit_9 at: [32 17] power and ice: 562 220 unit queue: 0\n",
      "HEAVY unit_10 at: [32 25] power and ice: 495 220 unit queue: 0\n",
      "LIGHT unit_16 at: [ 5 11] power and ore: 2 0 unit queue: 1\n",
      "LIGHT unit_17 at: [28 20] power and ore: 3 0 unit queue: 1\n",
      "LIGHT unit_18 at: [28 27] power and ore: 0 0 unit queue: 1\n",
      "LIGHT unit_19 at: [38 11] power and ore: 0 0 unit queue: 1\n",
      "LIGHT unit_20 at: [ 6 11] power and ore: 0 0 unit queue: 0\n",
      "LIGHT unit_21 at: [27 19] power and ore: 4 0 unit queue: 1\n",
      "LIGHT unit_22 at: [28 26] power and ore: 4 0 unit queue: 1\n",
      "LIGHT unit_23 at: [38 12] power and ore: 4 0 unit queue: 1\n",
      "LIGHT unit_24 at: [ 4 10] power and ore: 5 0 unit queue: 1\n",
      "LIGHT unit_27 at: [38 10] power and ore: 0 0 unit queue: 1\n",
      "LIGHT unit_28 at: [3 9] power and ore: 1 0 unit queue: 1\n",
      "LIGHT unit_29 at: [28 21] power and ore: 1 0 unit queue: 1\n",
      "LIGHT unit_30 at: [29 25] power and ore: 2 0 unit queue: 1\n",
      "LIGHT unit_31 at: [37 13] power and ore: 0 0 unit queue: 1\n",
      "LIGHT unit_32 at: [ 7 10] power and ore: 3 0 unit queue: 1\n",
      "LIGHT unit_33 at: [30 20] power and ore: 0 0 unit queue: 0\n",
      "LIGHT unit_35 at: [37  9] power and ore: 3 0 unit queue: 1\n",
      "\n",
      "player_0\n",
      "turn: 84\n",
      "HEAVY unit_8 at: [3 7] power and ice: 309 260 unit queue: 0\n",
      "HEAVY unit_9 at: [32 17] power and ice: 492 240 unit queue: 0\n",
      "HEAVY unit_10 at: [32 25] power and ice: 425 240 unit queue: 0\n",
      "LIGHT unit_16 at: [ 5 11] power and ore: 2 0 unit queue: 1\n",
      "LIGHT unit_17 at: [28 20] power and ore: 3 0 unit queue: 1\n",
      "LIGHT unit_18 at: [28 27] power and ore: 0 0 unit queue: 1\n",
      "LIGHT unit_19 at: [38 11] power and ore: 0 0 unit queue: 1\n",
      "LIGHT unit_20 at: [ 6 11] power and ore: 0 0 unit queue: 0\n",
      "LIGHT unit_21 at: [27 19] power and ore: 4 0 unit queue: 1\n",
      "LIGHT unit_22 at: [28 26] power and ore: 4 0 unit queue: 1\n",
      "LIGHT unit_23 at: [38 12] power and ore: 4 0 unit queue: 1\n",
      "LIGHT unit_24 at: [ 4 10] power and ore: 5 0 unit queue: 1\n",
      "LIGHT unit_27 at: [38 10] power and ore: 0 0 unit queue: 1\n",
      "LIGHT unit_28 at: [3 9] power and ore: 1 0 unit queue: 1\n",
      "LIGHT unit_29 at: [28 21] power and ore: 1 0 unit queue: 1\n",
      "LIGHT unit_30 at: [29 25] power and ore: 2 0 unit queue: 1\n",
      "LIGHT unit_31 at: [37 13] power and ore: 0 0 unit queue: 1\n",
      "LIGHT unit_32 at: [ 7 10] power and ore: 3 0 unit queue: 1\n",
      "LIGHT unit_33 at: [30 20] power and ore: 0 0 unit queue: 0\n",
      "LIGHT unit_35 at: [37  9] power and ore: 3 0 unit queue: 1\n",
      "\n",
      "player_0\n",
      "turn: 85\n",
      "HEAVY unit_8 at: [3 7] power and ice: 239 280 unit queue: 0\n",
      "HEAVY unit_9 at: [32 17] power and ice: 422 260 unit queue: 0\n",
      "HEAVY unit_10 at: [32 25] power and ice: 355 260 unit queue: 0\n",
      "LIGHT unit_16 at: [ 5 11] power and ore: 2 0 unit queue: 1\n",
      "LIGHT unit_17 at: [28 20] power and ore: 3 0 unit queue: 1\n",
      "LIGHT unit_18 at: [28 27] power and ore: 0 0 unit queue: 1\n",
      "LIGHT unit_19 at: [38 11] power and ore: 0 0 unit queue: 1\n",
      "LIGHT unit_20 at: [ 6 11] power and ore: 0 0 unit queue: 0\n",
      "LIGHT unit_21 at: [27 19] power and ore: 4 0 unit queue: 1\n",
      "LIGHT unit_22 at: [28 26] power and ore: 4 0 unit queue: 1\n",
      "LIGHT unit_23 at: [38 12] power and ore: 4 0 unit queue: 1\n",
      "LIGHT unit_24 at: [ 4 10] power and ore: 5 0 unit queue: 1\n",
      "LIGHT unit_27 at: [38 10] power and ore: 0 0 unit queue: 1\n",
      "LIGHT unit_28 at: [3 9] power and ore: 1 0 unit queue: 1\n",
      "LIGHT unit_29 at: [28 21] power and ore: 1 0 unit queue: 1\n",
      "LIGHT unit_30 at: [29 25] power and ore: 2 0 unit queue: 1\n",
      "LIGHT unit_31 at: [37 13] power and ore: 0 0 unit queue: 1\n",
      "LIGHT unit_32 at: [ 7 10] power and ore: 3 0 unit queue: 1\n",
      "LIGHT unit_33 at: [30 20] power and ore: 0 0 unit queue: 0\n",
      "LIGHT unit_35 at: [37  9] power and ore: 3 0 unit queue: 1\n",
      "\n",
      "player_0\n",
      "turn: 86\n",
      "HEAVY unit_8 at: [3 7] power and ice: 169 300 unit queue: 0\n",
      "HEAVY unit_9 at: [32 17] power and ice: 352 280 unit queue: 0\n",
      "HEAVY unit_10 at: [32 25] power and ice: 285 280 unit queue: 0\n",
      "LIGHT unit_16 at: [ 5 11] power and ore: 2 0 unit queue: 1\n",
      "LIGHT unit_17 at: [28 20] power and ore: 3 0 unit queue: 1\n",
      "LIGHT unit_18 at: [28 27] power and ore: 0 0 unit queue: 1\n",
      "LIGHT unit_19 at: [38 11] power and ore: 0 0 unit queue: 1\n",
      "LIGHT unit_20 at: [ 6 11] power and ore: 0 0 unit queue: 0\n",
      "LIGHT unit_21 at: [27 19] power and ore: 4 0 unit queue: 1\n",
      "LIGHT unit_22 at: [28 26] power and ore: 4 0 unit queue: 1\n",
      "LIGHT unit_23 at: [38 12] power and ore: 4 0 unit queue: 1\n",
      "LIGHT unit_24 at: [ 4 10] power and ore: 5 0 unit queue: 1\n",
      "LIGHT unit_27 at: [38 10] power and ore: 0 0 unit queue: 1\n",
      "LIGHT unit_28 at: [3 9] power and ore: 1 0 unit queue: 1\n",
      "LIGHT unit_29 at: [28 21] power and ore: 1 0 unit queue: 1\n",
      "LIGHT unit_30 at: [29 25] power and ore: 2 0 unit queue: 1\n",
      "LIGHT unit_31 at: [37 13] power and ore: 0 0 unit queue: 1\n",
      "LIGHT unit_32 at: [ 7 10] power and ore: 3 0 unit queue: 1\n",
      "LIGHT unit_33 at: [30 20] power and ore: 0 0 unit queue: 0\n",
      "LIGHT unit_35 at: [37  9] power and ore: 3 0 unit queue: 1\n",
      "\n",
      "player_0\n",
      "turn: 87\n",
      "HEAVY unit_8 at: [3 7] power and ice: 99 320 unit queue: 0\n",
      "HEAVY unit_9 at: [32 17] power and ice: 282 300 unit queue: 0\n",
      "HEAVY unit_10 at: [32 25] power and ice: 215 300 unit queue: 0\n",
      "LIGHT unit_16 at: [ 5 11] power and ore: 2 0 unit queue: 1\n",
      "LIGHT unit_17 at: [28 20] power and ore: 3 0 unit queue: 1\n",
      "LIGHT unit_18 at: [28 27] power and ore: 0 0 unit queue: 1\n",
      "LIGHT unit_19 at: [38 11] power and ore: 0 0 unit queue: 1\n",
      "LIGHT unit_20 at: [ 6 11] power and ore: 0 0 unit queue: 0\n",
      "LIGHT unit_21 at: [27 19] power and ore: 4 0 unit queue: 1\n",
      "LIGHT unit_22 at: [28 26] power and ore: 4 0 unit queue: 1\n",
      "LIGHT unit_23 at: [38 12] power and ore: 4 0 unit queue: 1\n",
      "LIGHT unit_24 at: [ 4 10] power and ore: 5 0 unit queue: 1\n",
      "LIGHT unit_27 at: [38 10] power and ore: 0 0 unit queue: 1\n",
      "LIGHT unit_28 at: [3 9] power and ore: 1 0 unit queue: 1\n",
      "LIGHT unit_29 at: [28 21] power and ore: 1 0 unit queue: 1\n",
      "LIGHT unit_30 at: [29 25] power and ore: 2 0 unit queue: 1\n",
      "LIGHT unit_31 at: [37 13] power and ore: 0 0 unit queue: 1\n",
      "LIGHT unit_32 at: [ 7 10] power and ore: 3 0 unit queue: 1\n",
      "LIGHT unit_33 at: [30 20] power and ore: 0 0 unit queue: 0\n",
      "LIGHT unit_35 at: [37  9] power and ore: 3 0 unit queue: 1\n",
      "\n",
      "player_0\n",
      "turn: 88\n",
      "HEAVY unit_8 at: [4 7] power and ice: 69 320 unit queue: 0\n",
      "HEAVY unit_9 at: [32 17] power and ice: 212 320 unit queue: 0\n",
      "HEAVY unit_10 at: [32 25] power and ice: 145 320 unit queue: 0\n",
      "LIGHT unit_16 at: [ 5 11] power and ore: 2 0 unit queue: 1\n",
      "LIGHT unit_17 at: [28 20] power and ore: 3 0 unit queue: 1\n",
      "LIGHT unit_18 at: [28 27] power and ore: 0 0 unit queue: 1\n",
      "LIGHT unit_19 at: [38 11] power and ore: 0 0 unit queue: 1\n",
      "LIGHT unit_20 at: [ 6 11] power and ore: 0 0 unit queue: 0\n",
      "LIGHT unit_21 at: [27 19] power and ore: 4 0 unit queue: 1\n",
      "LIGHT unit_22 at: [28 26] power and ore: 4 0 unit queue: 1\n",
      "LIGHT unit_23 at: [38 12] power and ore: 4 0 unit queue: 1\n",
      "LIGHT unit_24 at: [ 4 10] power and ore: 5 0 unit queue: 1\n",
      "LIGHT unit_27 at: [38 10] power and ore: 0 0 unit queue: 1\n",
      "LIGHT unit_28 at: [3 9] power and ore: 1 0 unit queue: 1\n",
      "LIGHT unit_29 at: [28 21] power and ore: 1 0 unit queue: 1\n",
      "LIGHT unit_30 at: [29 25] power and ore: 2 0 unit queue: 1\n",
      "LIGHT unit_31 at: [37 13] power and ore: 0 0 unit queue: 1\n",
      "LIGHT unit_32 at: [ 7 10] power and ore: 3 0 unit queue: 1\n",
      "LIGHT unit_33 at: [30 20] power and ore: 0 0 unit queue: 0\n",
      "LIGHT unit_35 at: [37  9] power and ore: 3 0 unit queue: 1\n",
      "\n",
      "player_0\n",
      "turn: 89\n",
      "HEAVY unit_8 at: [4 7] power and ice: 659 320 unit queue: 0\n",
      "HEAVY unit_9 at: [32 17] power and ice: 142 340 unit queue: 0\n",
      "HEAVY unit_10 at: [32 25] power and ice: 75 340 unit queue: 0\n",
      "LIGHT unit_16 at: [ 5 11] power and ore: 2 0 unit queue: 1\n",
      "LIGHT unit_17 at: [28 20] power and ore: 3 0 unit queue: 1\n",
      "LIGHT unit_18 at: [28 27] power and ore: 0 0 unit queue: 1\n",
      "LIGHT unit_19 at: [38 11] power and ore: 0 0 unit queue: 1\n",
      "LIGHT unit_20 at: [ 6 11] power and ore: 0 0 unit queue: 0\n",
      "LIGHT unit_21 at: [27 19] power and ore: 4 0 unit queue: 1\n",
      "LIGHT unit_22 at: [28 26] power and ore: 4 0 unit queue: 1\n",
      "LIGHT unit_23 at: [38 12] power and ore: 4 0 unit queue: 1\n",
      "LIGHT unit_24 at: [ 4 10] power and ore: 5 0 unit queue: 1\n",
      "LIGHT unit_27 at: [38 10] power and ore: 0 0 unit queue: 1\n",
      "LIGHT unit_28 at: [3 9] power and ore: 1 0 unit queue: 1\n",
      "LIGHT unit_29 at: [28 21] power and ore: 1 0 unit queue: 1\n",
      "LIGHT unit_30 at: [29 25] power and ore: 2 0 unit queue: 1\n",
      "LIGHT unit_31 at: [37 13] power and ore: 0 0 unit queue: 1\n",
      "LIGHT unit_32 at: [ 7 10] power and ore: 3 0 unit queue: 1\n",
      "LIGHT unit_33 at: [30 20] power and ore: 0 0 unit queue: 0\n",
      "LIGHT unit_35 at: [37  9] power and ore: 3 0 unit queue: 1\n",
      "\n",
      "player_0\n",
      "turn: 90\n",
      "HEAVY unit_8 at: [3 7] power and ice: 629 320 unit queue: 0\n",
      "HEAVY unit_9 at: [32 17] power and ice: 72 360 unit queue: 0\n",
      "HEAVY unit_10 at: [32 26] power and ice: 45 340 unit queue: 0\n",
      "LIGHT unit_16 at: [ 5 11] power and ore: 2 0 unit queue: 1\n",
      "LIGHT unit_17 at: [28 20] power and ore: 3 0 unit queue: 1\n",
      "LIGHT unit_18 at: [28 27] power and ore: 0 0 unit queue: 1\n",
      "LIGHT unit_19 at: [38 11] power and ore: 0 0 unit queue: 1\n",
      "LIGHT unit_20 at: [ 6 11] power and ore: 0 0 unit queue: 0\n",
      "LIGHT unit_21 at: [27 19] power and ore: 4 0 unit queue: 1\n",
      "LIGHT unit_22 at: [28 26] power and ore: 4 0 unit queue: 1\n",
      "LIGHT unit_23 at: [38 12] power and ore: 4 0 unit queue: 1\n",
      "LIGHT unit_24 at: [ 4 10] power and ore: 5 0 unit queue: 1\n",
      "LIGHT unit_27 at: [38 10] power and ore: 0 0 unit queue: 1\n",
      "LIGHT unit_28 at: [3 9] power and ore: 1 0 unit queue: 1\n",
      "LIGHT unit_29 at: [28 21] power and ore: 1 0 unit queue: 1\n",
      "LIGHT unit_30 at: [29 25] power and ore: 2 0 unit queue: 1\n",
      "LIGHT unit_31 at: [37 13] power and ore: 0 0 unit queue: 1\n",
      "LIGHT unit_32 at: [ 7 10] power and ore: 3 0 unit queue: 1\n",
      "LIGHT unit_33 at: [30 20] power and ore: 0 0 unit queue: 0\n",
      "LIGHT unit_35 at: [37  9] power and ore: 3 0 unit queue: 1\n",
      "\n",
      "player_0\n",
      "turn: 91\n",
      "HEAVY unit_8 at: [3 7] power and ice: 559 340 unit queue: 0\n",
      "HEAVY unit_9 at: [31 17] power and ice: 42 360 unit queue: 0\n",
      "HEAVY unit_10 at: [32 26] power and ice: 635 340 unit queue: 0\n",
      "LIGHT unit_16 at: [ 5 11] power and ore: 2 0 unit queue: 1\n",
      "LIGHT unit_17 at: [28 20] power and ore: 3 0 unit queue: 1\n",
      "LIGHT unit_18 at: [28 27] power and ore: 0 0 unit queue: 1\n",
      "LIGHT unit_19 at: [38 11] power and ore: 0 0 unit queue: 1\n",
      "LIGHT unit_20 at: [ 6 11] power and ore: 0 0 unit queue: 0\n",
      "LIGHT unit_21 at: [27 19] power and ore: 4 0 unit queue: 1\n",
      "LIGHT unit_22 at: [28 26] power and ore: 4 0 unit queue: 1\n",
      "LIGHT unit_23 at: [38 12] power and ore: 4 0 unit queue: 1\n",
      "LIGHT unit_24 at: [ 4 10] power and ore: 5 0 unit queue: 1\n",
      "LIGHT unit_27 at: [38 10] power and ore: 0 0 unit queue: 1\n",
      "LIGHT unit_28 at: [3 9] power and ore: 1 0 unit queue: 1\n",
      "LIGHT unit_29 at: [28 21] power and ore: 1 0 unit queue: 1\n",
      "LIGHT unit_30 at: [29 25] power and ore: 2 0 unit queue: 1\n",
      "LIGHT unit_31 at: [37 13] power and ore: 0 0 unit queue: 1\n",
      "LIGHT unit_32 at: [ 7 10] power and ore: 3 0 unit queue: 1\n",
      "LIGHT unit_33 at: [30 20] power and ore: 0 0 unit queue: 0\n",
      "LIGHT unit_35 at: [37  9] power and ore: 3 0 unit queue: 1\n",
      "\n",
      "player_0\n",
      "turn: 92\n",
      "HEAVY unit_8 at: [3 7] power and ice: 489 360 unit queue: 0\n",
      "HEAVY unit_9 at: [31 17] power and ice: 632 360 unit queue: 0\n",
      "HEAVY unit_10 at: [32 25] power and ice: 605 340 unit queue: 0\n",
      "LIGHT unit_16 at: [ 5 11] power and ore: 2 0 unit queue: 1\n",
      "LIGHT unit_17 at: [28 20] power and ore: 3 0 unit queue: 1\n",
      "LIGHT unit_18 at: [28 27] power and ore: 0 0 unit queue: 1\n",
      "LIGHT unit_19 at: [38 11] power and ore: 0 0 unit queue: 1\n",
      "LIGHT unit_20 at: [ 6 11] power and ore: 0 0 unit queue: 0\n",
      "LIGHT unit_21 at: [27 19] power and ore: 4 0 unit queue: 1\n",
      "LIGHT unit_22 at: [28 26] power and ore: 4 0 unit queue: 1\n",
      "LIGHT unit_23 at: [38 12] power and ore: 4 0 unit queue: 1\n",
      "LIGHT unit_24 at: [ 4 10] power and ore: 5 0 unit queue: 1\n",
      "LIGHT unit_27 at: [38 10] power and ore: 0 0 unit queue: 1\n",
      "LIGHT unit_28 at: [3 9] power and ore: 1 0 unit queue: 1\n",
      "LIGHT unit_29 at: [28 21] power and ore: 1 0 unit queue: 1\n",
      "LIGHT unit_30 at: [29 25] power and ore: 2 0 unit queue: 1\n",
      "LIGHT unit_31 at: [37 13] power and ore: 0 0 unit queue: 1\n",
      "LIGHT unit_32 at: [ 7 10] power and ore: 3 0 unit queue: 1\n",
      "LIGHT unit_33 at: [30 20] power and ore: 0 0 unit queue: 0\n",
      "LIGHT unit_35 at: [37  9] power and ore: 3 0 unit queue: 1\n",
      "\n",
      "player_0\n",
      "turn: 93\n",
      "HEAVY unit_8 at: [3 7] power and ice: 419 380 unit queue: 0\n",
      "HEAVY unit_9 at: [32 17] power and ice: 602 360 unit queue: 0\n",
      "HEAVY unit_10 at: [32 25] power and ice: 535 360 unit queue: 0\n",
      "LIGHT unit_16 at: [ 5 11] power and ore: 2 0 unit queue: 1\n",
      "LIGHT unit_17 at: [28 20] power and ore: 3 0 unit queue: 1\n",
      "LIGHT unit_18 at: [28 27] power and ore: 0 0 unit queue: 1\n",
      "LIGHT unit_19 at: [38 11] power and ore: 0 0 unit queue: 1\n",
      "LIGHT unit_20 at: [ 6 11] power and ore: 0 0 unit queue: 0\n",
      "LIGHT unit_21 at: [27 19] power and ore: 4 0 unit queue: 1\n",
      "LIGHT unit_22 at: [28 26] power and ore: 4 0 unit queue: 1\n",
      "LIGHT unit_23 at: [38 12] power and ore: 4 0 unit queue: 1\n",
      "LIGHT unit_24 at: [ 4 10] power and ore: 5 0 unit queue: 1\n",
      "LIGHT unit_27 at: [38 10] power and ore: 0 0 unit queue: 1\n",
      "LIGHT unit_28 at: [3 9] power and ore: 1 0 unit queue: 1\n",
      "LIGHT unit_29 at: [28 21] power and ore: 1 0 unit queue: 1\n",
      "LIGHT unit_30 at: [29 25] power and ore: 2 0 unit queue: 1\n",
      "LIGHT unit_31 at: [37 13] power and ore: 0 0 unit queue: 1\n",
      "LIGHT unit_32 at: [ 7 10] power and ore: 3 0 unit queue: 1\n",
      "LIGHT unit_33 at: [30 20] power and ore: 0 0 unit queue: 0\n",
      "LIGHT unit_35 at: [37  9] power and ore: 3 0 unit queue: 1\n",
      "\n",
      "player_0\n",
      "turn: 94\n",
      "HEAVY unit_8 at: [3 7] power and ice: 349 400 unit queue: 0\n",
      "HEAVY unit_9 at: [32 17] power and ice: 532 380 unit queue: 0\n",
      "HEAVY unit_10 at: [32 25] power and ice: 465 380 unit queue: 0\n",
      "LIGHT unit_16 at: [ 5 11] power and ore: 2 0 unit queue: 1\n",
      "LIGHT unit_17 at: [28 20] power and ore: 3 0 unit queue: 1\n",
      "LIGHT unit_18 at: [28 27] power and ore: 0 0 unit queue: 1\n",
      "LIGHT unit_19 at: [38 11] power and ore: 0 0 unit queue: 1\n",
      "LIGHT unit_20 at: [ 6 11] power and ore: 0 0 unit queue: 0\n",
      "LIGHT unit_21 at: [27 19] power and ore: 4 0 unit queue: 1\n",
      "LIGHT unit_22 at: [28 26] power and ore: 4 0 unit queue: 1\n",
      "LIGHT unit_23 at: [38 12] power and ore: 4 0 unit queue: 1\n",
      "LIGHT unit_24 at: [ 4 10] power and ore: 5 0 unit queue: 1\n",
      "LIGHT unit_27 at: [38 10] power and ore: 0 0 unit queue: 1\n",
      "LIGHT unit_28 at: [3 9] power and ore: 1 0 unit queue: 1\n",
      "LIGHT unit_29 at: [28 21] power and ore: 1 0 unit queue: 1\n",
      "LIGHT unit_30 at: [29 25] power and ore: 2 0 unit queue: 1\n",
      "LIGHT unit_31 at: [37 13] power and ore: 0 0 unit queue: 1\n",
      "LIGHT unit_32 at: [ 7 10] power and ore: 3 0 unit queue: 1\n",
      "LIGHT unit_33 at: [30 20] power and ore: 0 0 unit queue: 0\n",
      "LIGHT unit_35 at: [37  9] power and ore: 3 0 unit queue: 1\n",
      "\n",
      "player_0\n",
      "turn: 95\n",
      "HEAVY unit_8 at: [3 7] power and ice: 279 420 unit queue: 0\n",
      "HEAVY unit_9 at: [32 17] power and ice: 462 400 unit queue: 0\n",
      "HEAVY unit_10 at: [32 25] power and ice: 395 400 unit queue: 0\n",
      "LIGHT unit_16 at: [ 5 11] power and ore: 2 0 unit queue: 1\n",
      "LIGHT unit_17 at: [28 20] power and ore: 3 0 unit queue: 1\n",
      "LIGHT unit_18 at: [28 27] power and ore: 0 0 unit queue: 1\n",
      "LIGHT unit_19 at: [38 11] power and ore: 0 0 unit queue: 1\n",
      "LIGHT unit_20 at: [ 6 11] power and ore: 0 0 unit queue: 0\n",
      "LIGHT unit_21 at: [27 19] power and ore: 4 0 unit queue: 1\n",
      "LIGHT unit_22 at: [28 26] power and ore: 4 0 unit queue: 1\n",
      "LIGHT unit_23 at: [38 12] power and ore: 4 0 unit queue: 1\n",
      "LIGHT unit_24 at: [ 4 10] power and ore: 5 0 unit queue: 1\n",
      "LIGHT unit_27 at: [38 10] power and ore: 0 0 unit queue: 1\n",
      "LIGHT unit_28 at: [3 9] power and ore: 1 0 unit queue: 1\n",
      "LIGHT unit_29 at: [28 21] power and ore: 1 0 unit queue: 1\n",
      "LIGHT unit_30 at: [29 25] power and ore: 2 0 unit queue: 1\n",
      "LIGHT unit_31 at: [37 13] power and ore: 0 0 unit queue: 1\n",
      "LIGHT unit_32 at: [ 7 10] power and ore: 3 0 unit queue: 1\n",
      "LIGHT unit_33 at: [30 20] power and ore: 0 0 unit queue: 0\n",
      "LIGHT unit_35 at: [37  9] power and ore: 3 0 unit queue: 1\n",
      "\n",
      "player_0\n",
      "turn: 96\n",
      "HEAVY unit_8 at: [3 7] power and ice: 209 440 unit queue: 0\n",
      "HEAVY unit_9 at: [32 17] power and ice: 392 420 unit queue: 0\n",
      "HEAVY unit_10 at: [32 25] power and ice: 325 420 unit queue: 0\n",
      "LIGHT unit_16 at: [ 5 11] power and ore: 2 0 unit queue: 1\n",
      "LIGHT unit_17 at: [28 20] power and ore: 3 0 unit queue: 1\n",
      "LIGHT unit_18 at: [28 27] power and ore: 0 0 unit queue: 1\n",
      "LIGHT unit_19 at: [38 11] power and ore: 0 0 unit queue: 1\n",
      "LIGHT unit_20 at: [ 6 11] power and ore: 0 0 unit queue: 0\n",
      "LIGHT unit_21 at: [27 19] power and ore: 4 0 unit queue: 1\n",
      "LIGHT unit_22 at: [28 26] power and ore: 4 0 unit queue: 1\n",
      "LIGHT unit_23 at: [38 12] power and ore: 4 0 unit queue: 1\n",
      "LIGHT unit_24 at: [ 4 10] power and ore: 5 0 unit queue: 1\n",
      "LIGHT unit_27 at: [38 10] power and ore: 0 0 unit queue: 1\n",
      "LIGHT unit_28 at: [3 9] power and ore: 1 0 unit queue: 1\n",
      "LIGHT unit_29 at: [28 21] power and ore: 1 0 unit queue: 1\n",
      "LIGHT unit_30 at: [29 25] power and ore: 2 0 unit queue: 1\n",
      "LIGHT unit_31 at: [37 13] power and ore: 0 0 unit queue: 1\n",
      "LIGHT unit_32 at: [ 7 10] power and ore: 3 0 unit queue: 1\n",
      "LIGHT unit_33 at: [30 20] power and ore: 0 0 unit queue: 0\n",
      "LIGHT unit_35 at: [37  9] power and ore: 3 0 unit queue: 1\n",
      "\n",
      "player_0\n",
      "turn: 97\n",
      "HEAVY unit_8 at: [3 7] power and ice: 139 460 unit queue: 0\n",
      "HEAVY unit_9 at: [32 17] power and ice: 322 440 unit queue: 0\n",
      "HEAVY unit_10 at: [32 25] power and ice: 255 440 unit queue: 0\n",
      "LIGHT unit_16 at: [ 5 11] power and ore: 2 0 unit queue: 1\n",
      "LIGHT unit_17 at: [28 20] power and ore: 3 0 unit queue: 1\n",
      "LIGHT unit_18 at: [28 27] power and ore: 0 0 unit queue: 1\n",
      "LIGHT unit_19 at: [38 11] power and ore: 0 0 unit queue: 1\n",
      "LIGHT unit_20 at: [ 6 11] power and ore: 0 0 unit queue: 0\n",
      "LIGHT unit_21 at: [27 19] power and ore: 4 0 unit queue: 1\n",
      "LIGHT unit_22 at: [28 26] power and ore: 4 0 unit queue: 1\n",
      "LIGHT unit_23 at: [38 12] power and ore: 4 0 unit queue: 1\n",
      "LIGHT unit_24 at: [ 4 10] power and ore: 5 0 unit queue: 1\n",
      "LIGHT unit_27 at: [38 10] power and ore: 0 0 unit queue: 1\n",
      "LIGHT unit_28 at: [3 9] power and ore: 1 0 unit queue: 1\n",
      "LIGHT unit_29 at: [28 21] power and ore: 1 0 unit queue: 1\n",
      "LIGHT unit_30 at: [29 25] power and ore: 2 0 unit queue: 1\n",
      "LIGHT unit_31 at: [37 13] power and ore: 0 0 unit queue: 1\n",
      "LIGHT unit_32 at: [ 7 10] power and ore: 3 0 unit queue: 1\n",
      "LIGHT unit_33 at: [30 20] power and ore: 0 0 unit queue: 0\n",
      "LIGHT unit_35 at: [37  9] power and ore: 3 0 unit queue: 1\n",
      "\n",
      "player_0\n",
      "turn: 98\n",
      "HEAVY unit_8 at: [3 7] power and ice: 69 480 unit queue: 0\n",
      "HEAVY unit_9 at: [32 17] power and ice: 252 460 unit queue: 0\n",
      "HEAVY unit_10 at: [32 25] power and ice: 185 460 unit queue: 0\n",
      "LIGHT unit_16 at: [ 5 11] power and ore: 2 0 unit queue: 1\n",
      "LIGHT unit_17 at: [28 20] power and ore: 3 0 unit queue: 1\n",
      "LIGHT unit_18 at: [28 27] power and ore: 0 0 unit queue: 1\n",
      "LIGHT unit_19 at: [38 11] power and ore: 0 0 unit queue: 1\n",
      "LIGHT unit_20 at: [ 6 11] power and ore: 0 0 unit queue: 0\n",
      "LIGHT unit_21 at: [27 19] power and ore: 4 0 unit queue: 1\n",
      "LIGHT unit_22 at: [28 26] power and ore: 4 0 unit queue: 1\n",
      "LIGHT unit_23 at: [38 12] power and ore: 4 0 unit queue: 1\n",
      "LIGHT unit_24 at: [ 4 10] power and ore: 5 0 unit queue: 1\n",
      "LIGHT unit_27 at: [38 10] power and ore: 0 0 unit queue: 1\n",
      "LIGHT unit_28 at: [3 9] power and ore: 1 0 unit queue: 1\n",
      "LIGHT unit_29 at: [28 21] power and ore: 1 0 unit queue: 1\n",
      "LIGHT unit_30 at: [29 25] power and ore: 2 0 unit queue: 1\n",
      "LIGHT unit_31 at: [37 13] power and ore: 0 0 unit queue: 1\n",
      "LIGHT unit_32 at: [ 7 10] power and ore: 3 0 unit queue: 1\n",
      "LIGHT unit_33 at: [30 20] power and ore: 0 0 unit queue: 0\n",
      "LIGHT unit_35 at: [37  9] power and ore: 3 0 unit queue: 1\n",
      "\n",
      "player_0\n",
      "turn: 99\n",
      "HEAVY unit_8 at: [4 7] power and ice: 39 480 unit queue: 0\n",
      "HEAVY unit_9 at: [32 17] power and ice: 182 480 unit queue: 0\n",
      "HEAVY unit_10 at: [32 25] power and ice: 115 480 unit queue: 0\n",
      "LIGHT unit_16 at: [ 5 11] power and ore: 2 0 unit queue: 1\n",
      "LIGHT unit_17 at: [28 20] power and ore: 3 0 unit queue: 1\n",
      "LIGHT unit_18 at: [28 27] power and ore: 0 0 unit queue: 1\n",
      "LIGHT unit_19 at: [38 11] power and ore: 0 0 unit queue: 1\n",
      "LIGHT unit_20 at: [ 6 11] power and ore: 0 0 unit queue: 0\n",
      "LIGHT unit_21 at: [27 19] power and ore: 4 0 unit queue: 1\n",
      "LIGHT unit_22 at: [28 26] power and ore: 4 0 unit queue: 1\n",
      "LIGHT unit_23 at: [38 12] power and ore: 4 0 unit queue: 1\n",
      "LIGHT unit_24 at: [ 4 10] power and ore: 5 0 unit queue: 1\n",
      "LIGHT unit_27 at: [38 10] power and ore: 0 0 unit queue: 1\n",
      "LIGHT unit_28 at: [3 9] power and ore: 1 0 unit queue: 1\n",
      "LIGHT unit_29 at: [28 21] power and ore: 1 0 unit queue: 1\n",
      "LIGHT unit_30 at: [29 25] power and ore: 2 0 unit queue: 1\n",
      "LIGHT unit_31 at: [37 13] power and ore: 0 0 unit queue: 1\n",
      "LIGHT unit_32 at: [ 7 10] power and ore: 3 0 unit queue: 1\n",
      "LIGHT unit_33 at: [30 20] power and ore: 0 0 unit queue: 0\n",
      "LIGHT unit_35 at: [37  9] power and ore: 3 0 unit queue: 1\n",
      "\n",
      "player_0\n",
      "turn: 100\n",
      "HEAVY unit_8 at: [4 7] power and ice: 579 480 unit queue: 0\n",
      "HEAVY unit_9 at: [32 17] power and ice: 112 500 unit queue: 0\n",
      "HEAVY unit_10 at: [32 25] power and ice: 45 500 unit queue: 0\n",
      "LIGHT unit_16 at: [ 5 11] power and ore: 2 0 unit queue: 1\n",
      "LIGHT unit_17 at: [28 20] power and ore: 3 0 unit queue: 1\n",
      "LIGHT unit_18 at: [28 27] power and ore: 0 0 unit queue: 1\n",
      "LIGHT unit_19 at: [38 11] power and ore: 0 0 unit queue: 1\n",
      "LIGHT unit_20 at: [ 6 11] power and ore: 0 0 unit queue: 0\n",
      "LIGHT unit_21 at: [27 19] power and ore: 4 0 unit queue: 1\n",
      "LIGHT unit_22 at: [28 26] power and ore: 4 0 unit queue: 1\n",
      "LIGHT unit_23 at: [38 12] power and ore: 4 0 unit queue: 1\n",
      "LIGHT unit_24 at: [ 4 10] power and ore: 5 0 unit queue: 1\n",
      "LIGHT unit_27 at: [38 10] power and ore: 0 0 unit queue: 1\n",
      "LIGHT unit_28 at: [3 9] power and ore: 1 0 unit queue: 1\n",
      "LIGHT unit_29 at: [28 21] power and ore: 1 0 unit queue: 1\n",
      "LIGHT unit_30 at: [29 25] power and ore: 2 0 unit queue: 1\n",
      "LIGHT unit_31 at: [37 13] power and ore: 0 0 unit queue: 1\n",
      "LIGHT unit_32 at: [ 7 10] power and ore: 3 0 unit queue: 1\n",
      "LIGHT unit_33 at: [30 20] power and ore: 0 0 unit queue: 0\n",
      "LIGHT unit_35 at: [37  9] power and ore: 3 0 unit queue: 1\n",
      "\n",
      "player_0\n",
      "turn: 101\n",
      "HEAVY unit_8 at: [3 7] power and ice: 559 480 unit queue: 0\n",
      "HEAVY unit_9 at: [32 17] power and ice: 52 520 unit queue: 0\n",
      "HEAVY unit_10 at: [32 26] power and ice: 25 500 unit queue: 0\n",
      "LIGHT unit_16 at: [ 5 11] power and ore: 3 0 unit queue: 1\n",
      "LIGHT unit_17 at: [28 20] power and ore: 4 0 unit queue: 1\n",
      "LIGHT unit_18 at: [28 27] power and ore: 1 0 unit queue: 1\n",
      "LIGHT unit_19 at: [38 11] power and ore: 1 0 unit queue: 1\n",
      "LIGHT unit_20 at: [ 6 11] power and ore: 1 0 unit queue: 0\n",
      "LIGHT unit_21 at: [27 19] power and ore: 5 0 unit queue: 1\n",
      "LIGHT unit_22 at: [28 26] power and ore: 5 0 unit queue: 1\n",
      "LIGHT unit_23 at: [38 12] power and ore: 5 0 unit queue: 1\n",
      "LIGHT unit_24 at: [ 4 10] power and ore: 6 0 unit queue: 1\n",
      "LIGHT unit_27 at: [38 10] power and ore: 1 0 unit queue: 1\n",
      "LIGHT unit_28 at: [3 9] power and ore: 2 0 unit queue: 1\n",
      "LIGHT unit_29 at: [28 21] power and ore: 2 0 unit queue: 1\n",
      "LIGHT unit_30 at: [29 25] power and ore: 3 0 unit queue: 1\n",
      "LIGHT unit_31 at: [37 13] power and ore: 1 0 unit queue: 1\n",
      "LIGHT unit_32 at: [ 7 10] power and ore: 4 0 unit queue: 1\n",
      "LIGHT unit_33 at: [30 20] power and ore: 1 0 unit queue: 0\n",
      "LIGHT unit_35 at: [37  9] power and ore: 4 0 unit queue: 1\n",
      "\n",
      "player_0\n",
      "turn: 102\n",
      "HEAVY unit_8 at: [3 7] power and ice: 499 500 unit queue: 0\n",
      "HEAVY unit_9 at: [31 17] power and ice: 32 520 unit queue: 0\n",
      "HEAVY unit_10 at: [32 26] power and ice: 575 500 unit queue: 0\n",
      "LIGHT unit_16 at: [ 5 11] power and ore: 4 0 unit queue: 1\n",
      "LIGHT unit_17 at: [28 20] power and ore: 5 0 unit queue: 1\n",
      "LIGHT unit_18 at: [28 27] power and ore: 2 0 unit queue: 1\n",
      "LIGHT unit_19 at: [38 11] power and ore: 2 0 unit queue: 1\n",
      "LIGHT unit_20 at: [ 6 11] power and ore: 1 0 unit queue: 1\n",
      "LIGHT unit_21 at: [27 19] power and ore: 6 0 unit queue: 1\n",
      "LIGHT unit_22 at: [28 26] power and ore: 6 0 unit queue: 1\n",
      "LIGHT unit_23 at: [38 12] power and ore: 6 0 unit queue: 1\n",
      "LIGHT unit_24 at: [ 4 10] power and ore: 1 0 unit queue: 0\n",
      "LIGHT unit_27 at: [38 10] power and ore: 2 0 unit queue: 1\n",
      "LIGHT unit_28 at: [3 9] power and ore: 3 0 unit queue: 1\n",
      "LIGHT unit_29 at: [28 21] power and ore: 3 0 unit queue: 1\n",
      "LIGHT unit_30 at: [29 25] power and ore: 4 0 unit queue: 1\n",
      "LIGHT unit_31 at: [37 13] power and ore: 2 0 unit queue: 1\n",
      "LIGHT unit_32 at: [ 7 10] power and ore: 5 0 unit queue: 1\n",
      "LIGHT unit_33 at: [30 20] power and ore: 1 0 unit queue: 1\n",
      "LIGHT unit_35 at: [37  9] power and ore: 5 0 unit queue: 1\n",
      "\n",
      "player_0\n",
      "turn: 103\n",
      "HEAVY unit_8 at: [3 7] power and ice: 439 520 unit queue: 0\n",
      "HEAVY unit_9 at: [31 17] power and ice: 582 520 unit queue: 0\n",
      "HEAVY unit_10 at: [32 25] power and ice: 555 500 unit queue: 0\n",
      "LIGHT unit_16 at: [ 5 11] power and ore: 5 0 unit queue: 1\n",
      "LIGHT unit_17 at: [28 20] power and ore: 6 0 unit queue: 1\n",
      "LIGHT unit_18 at: [28 27] power and ore: 3 0 unit queue: 1\n",
      "LIGHT unit_19 at: [38 11] power and ore: 3 0 unit queue: 1\n",
      "LIGHT unit_20 at: [ 6 11] power and ore: 2 0 unit queue: 1\n",
      "LIGHT unit_21 at: [27 19] power and ore: 1 0 unit queue: 0\n",
      "LIGHT unit_22 at: [28 26] power and ore: 1 0 unit queue: 0\n",
      "LIGHT unit_23 at: [38 12] power and ore: 1 0 unit queue: 0\n",
      "LIGHT unit_24 at: [ 4 10] power and ore: 1 0 unit queue: 1\n",
      "LIGHT unit_27 at: [38 10] power and ore: 3 0 unit queue: 1\n",
      "LIGHT unit_28 at: [3 9] power and ore: 4 0 unit queue: 1\n",
      "LIGHT unit_29 at: [28 21] power and ore: 4 0 unit queue: 1\n",
      "LIGHT unit_30 at: [29 25] power and ore: 5 0 unit queue: 1\n",
      "LIGHT unit_31 at: [37 13] power and ore: 3 0 unit queue: 1\n",
      "LIGHT unit_32 at: [ 7 10] power and ore: 6 0 unit queue: 1\n",
      "LIGHT unit_33 at: [30 20] power and ore: 2 0 unit queue: 1\n",
      "LIGHT unit_35 at: [37  9] power and ore: 6 0 unit queue: 1\n",
      "\n",
      "player_0\n",
      "turn: 104\n",
      "HEAVY unit_8 at: [3 7] power and ice: 379 540 unit queue: 0\n",
      "HEAVY unit_9 at: [32 17] power and ice: 562 520 unit queue: 0\n",
      "HEAVY unit_10 at: [32 25] power and ice: 495 520 unit queue: 0\n",
      "LIGHT unit_16 at: [ 5 11] power and ore: 6 0 unit queue: 1\n",
      "LIGHT unit_17 at: [28 20] power and ore: 1 0 unit queue: 0\n",
      "LIGHT unit_18 at: [28 27] power and ore: 4 0 unit queue: 1\n",
      "LIGHT unit_19 at: [38 11] power and ore: 4 0 unit queue: 1\n",
      "LIGHT unit_20 at: [ 6 11] power and ore: 3 0 unit queue: 1\n",
      "LIGHT unit_21 at: [27 19] power and ore: 1 0 unit queue: 1\n",
      "LIGHT unit_22 at: [28 26] power and ore: 1 0 unit queue: 1\n",
      "LIGHT unit_23 at: [38 12] power and ore: 1 0 unit queue: 1\n",
      "LIGHT unit_24 at: [ 4 10] power and ore: 2 0 unit queue: 1\n",
      "LIGHT unit_27 at: [38 10] power and ore: 4 0 unit queue: 1\n",
      "LIGHT unit_28 at: [3 9] power and ore: 5 0 unit queue: 1\n",
      "LIGHT unit_29 at: [28 21] power and ore: 5 0 unit queue: 1\n",
      "LIGHT unit_30 at: [29 25] power and ore: 6 0 unit queue: 1\n",
      "LIGHT unit_31 at: [37 13] power and ore: 4 0 unit queue: 1\n",
      "LIGHT unit_32 at: [ 7 11] power and ore: 5 0 unit queue: 0\n",
      "LIGHT unit_33 at: [30 20] power and ore: 3 0 unit queue: 1\n",
      "LIGHT unit_35 at: [37  9] power and ore: 1 0 unit queue: 0\n",
      "\n",
      "player_0\n",
      "turn: 105\n",
      "HEAVY unit_8 at: [3 7] power and ice: 319 560 unit queue: 0\n",
      "HEAVY unit_9 at: [32 17] power and ice: 502 540 unit queue: 0\n",
      "HEAVY unit_10 at: [32 25] power and ice: 435 540 unit queue: 0\n",
      "LIGHT unit_16 at: [ 5 11] power and ore: 1 0 unit queue: 0\n",
      "LIGHT unit_17 at: [28 20] power and ore: 1 0 unit queue: 1\n",
      "LIGHT unit_18 at: [28 27] power and ore: 5 0 unit queue: 1\n",
      "LIGHT unit_19 at: [38 11] power and ore: 5 0 unit queue: 1\n",
      "LIGHT unit_20 at: [ 6 11] power and ore: 4 0 unit queue: 1\n",
      "LIGHT unit_21 at: [27 19] power and ore: 2 0 unit queue: 1\n",
      "LIGHT unit_22 at: [28 26] power and ore: 2 0 unit queue: 1\n",
      "LIGHT unit_23 at: [38 12] power and ore: 2 0 unit queue: 1\n",
      "LIGHT unit_24 at: [ 4 10] power and ore: 3 0 unit queue: 1\n",
      "LIGHT unit_27 at: [38 10] power and ore: 5 0 unit queue: 1\n",
      "LIGHT unit_28 at: [3 9] power and ore: 6 0 unit queue: 1\n",
      "LIGHT unit_29 at: [28 21] power and ore: 6 0 unit queue: 1\n",
      "LIGHT unit_30 at: [29 25] power and ore: 1 0 unit queue: 0\n",
      "LIGHT unit_31 at: [37 13] power and ore: 5 0 unit queue: 1\n",
      "LIGHT unit_32 at: [ 7 11] power and ore: 5 0 unit queue: 1\n",
      "LIGHT unit_33 at: [30 20] power and ore: 4 0 unit queue: 1\n",
      "LIGHT unit_35 at: [37  9] power and ore: 1 0 unit queue: 1\n",
      "\n",
      "player_0\n",
      "turn: 106\n",
      "HEAVY unit_8 at: [3 7] power and ice: 259 580 unit queue: 0\n",
      "HEAVY unit_9 at: [32 17] power and ice: 442 560 unit queue: 0\n",
      "HEAVY unit_10 at: [32 25] power and ice: 375 560 unit queue: 0\n",
      "LIGHT unit_16 at: [ 5 11] power and ore: 1 0 unit queue: 1\n",
      "LIGHT unit_17 at: [28 20] power and ore: 2 0 unit queue: 1\n",
      "LIGHT unit_18 at: [28 27] power and ore: 6 0 unit queue: 1\n",
      "LIGHT unit_19 at: [38 11] power and ore: 6 0 unit queue: 1\n",
      "LIGHT unit_20 at: [ 6 11] power and ore: 5 0 unit queue: 1\n",
      "LIGHT unit_21 at: [27 19] power and ore: 3 0 unit queue: 1\n",
      "LIGHT unit_22 at: [28 26] power and ore: 3 0 unit queue: 1\n",
      "LIGHT unit_23 at: [38 12] power and ore: 3 0 unit queue: 1\n",
      "LIGHT unit_24 at: [ 4 10] power and ore: 4 0 unit queue: 1\n",
      "LIGHT unit_27 at: [38 10] power and ore: 6 0 unit queue: 1\n",
      "LIGHT unit_28 at: [3 9] power and ore: 1 0 unit queue: 0\n",
      "LIGHT unit_29 at: [28 21] power and ore: 1 0 unit queue: 0\n",
      "LIGHT unit_30 at: [29 25] power and ore: 1 0 unit queue: 1\n",
      "LIGHT unit_31 at: [37 13] power and ore: 6 0 unit queue: 1\n",
      "LIGHT unit_32 at: [ 7 11] power and ore: 6 0 unit queue: 1\n",
      "LIGHT unit_33 at: [30 20] power and ore: 5 0 unit queue: 1\n",
      "LIGHT unit_35 at: [37  9] power and ore: 2 0 unit queue: 1\n",
      "\n",
      "player_0\n",
      "turn: 107\n",
      "HEAVY unit_8 at: [3 7] power and ice: 199 600 unit queue: 0\n",
      "HEAVY unit_9 at: [32 17] power and ice: 382 580 unit queue: 0\n",
      "HEAVY unit_10 at: [32 25] power and ice: 315 580 unit queue: 0\n",
      "LIGHT unit_16 at: [ 5 11] power and ore: 2 0 unit queue: 1\n",
      "LIGHT unit_17 at: [28 20] power and ore: 3 0 unit queue: 1\n",
      "LIGHT unit_18 at: [28 27] power and ore: 1 0 unit queue: 0\n",
      "LIGHT unit_19 at: [38 11] power and ore: 1 0 unit queue: 0\n",
      "LIGHT unit_20 at: [ 6 11] power and ore: 6 0 unit queue: 1\n",
      "LIGHT unit_21 at: [27 19] power and ore: 4 0 unit queue: 1\n",
      "LIGHT unit_22 at: [28 26] power and ore: 4 0 unit queue: 1\n",
      "LIGHT unit_23 at: [38 12] power and ore: 4 0 unit queue: 1\n",
      "LIGHT unit_24 at: [ 4 10] power and ore: 5 0 unit queue: 1\n",
      "LIGHT unit_27 at: [38 10] power and ore: 1 0 unit queue: 0\n",
      "LIGHT unit_28 at: [3 9] power and ore: 1 0 unit queue: 1\n",
      "LIGHT unit_29 at: [28 21] power and ore: 1 0 unit queue: 1\n",
      "LIGHT unit_30 at: [29 25] power and ore: 2 0 unit queue: 1\n",
      "LIGHT unit_31 at: [37 13] power and ore: 1 0 unit queue: 0\n",
      "LIGHT unit_32 at: [ 7 12] power and ore: 5 0 unit queue: 0\n",
      "LIGHT unit_33 at: [30 20] power and ore: 6 0 unit queue: 1\n",
      "LIGHT unit_35 at: [37  9] power and ore: 3 0 unit queue: 1\n",
      "\n",
      "player_0\n",
      "turn: 108\n",
      "HEAVY unit_8 at: [3 7] power and ice: 139 620 unit queue: 0\n",
      "HEAVY unit_9 at: [32 17] power and ice: 322 600 unit queue: 0\n",
      "HEAVY unit_10 at: [32 25] power and ice: 255 600 unit queue: 0\n",
      "LIGHT unit_16 at: [ 5 11] power and ore: 3 0 unit queue: 1\n",
      "LIGHT unit_17 at: [28 20] power and ore: 4 0 unit queue: 1\n",
      "LIGHT unit_18 at: [28 27] power and ore: 1 0 unit queue: 1\n",
      "LIGHT unit_19 at: [38 11] power and ore: 1 0 unit queue: 1\n",
      "LIGHT unit_20 at: [ 6 11] power and ore: 1 0 unit queue: 0\n",
      "LIGHT unit_21 at: [27 19] power and ore: 5 0 unit queue: 1\n",
      "LIGHT unit_22 at: [28 26] power and ore: 5 0 unit queue: 1\n",
      "LIGHT unit_23 at: [38 12] power and ore: 5 0 unit queue: 1\n",
      "LIGHT unit_24 at: [ 4 10] power and ore: 6 0 unit queue: 1\n",
      "LIGHT unit_27 at: [38 10] power and ore: 1 0 unit queue: 1\n",
      "LIGHT unit_28 at: [3 9] power and ore: 2 0 unit queue: 1\n",
      "LIGHT unit_29 at: [28 21] power and ore: 2 0 unit queue: 1\n",
      "LIGHT unit_30 at: [29 25] power and ore: 3 0 unit queue: 1\n",
      "LIGHT unit_31 at: [37 13] power and ore: 1 0 unit queue: 1\n",
      "LIGHT unit_32 at: [ 7 12] power and ore: 5 0 unit queue: 1\n",
      "LIGHT unit_33 at: [29 20] power and ore: 5 0 unit queue: 0\n",
      "LIGHT unit_35 at: [37  9] power and ore: 4 0 unit queue: 1\n",
      "\n",
      "player_0\n",
      "turn: 109\n",
      "HEAVY unit_8 at: [3 7] power and ice: 79 640 unit queue: 0\n",
      "HEAVY unit_9 at: [32 17] power and ice: 262 620 unit queue: 0\n",
      "HEAVY unit_10 at: [32 25] power and ice: 195 620 unit queue: 0\n",
      "LIGHT unit_16 at: [ 5 11] power and ore: 4 0 unit queue: 1\n",
      "LIGHT unit_17 at: [28 20] power and ore: 5 0 unit queue: 1\n",
      "LIGHT unit_18 at: [28 27] power and ore: 2 0 unit queue: 1\n",
      "LIGHT unit_19 at: [38 11] power and ore: 2 0 unit queue: 1\n",
      "LIGHT unit_20 at: [ 6 11] power and ore: 1 0 unit queue: 1\n",
      "LIGHT unit_21 at: [27 19] power and ore: 6 0 unit queue: 1\n",
      "LIGHT unit_22 at: [28 26] power and ore: 6 0 unit queue: 1\n",
      "LIGHT unit_23 at: [38 12] power and ore: 6 0 unit queue: 1\n",
      "LIGHT unit_24 at: [ 4 10] power and ore: 1 0 unit queue: 0\n",
      "LIGHT unit_27 at: [38 10] power and ore: 2 0 unit queue: 1\n",
      "LIGHT unit_28 at: [3 9] power and ore: 3 0 unit queue: 1\n",
      "LIGHT unit_29 at: [28 21] power and ore: 3 0 unit queue: 1\n",
      "LIGHT unit_30 at: [29 25] power and ore: 4 0 unit queue: 1\n",
      "LIGHT unit_31 at: [37 13] power and ore: 2 0 unit queue: 1\n",
      "LIGHT unit_32 at: [ 7 12] power and ore: 6 0 unit queue: 1\n",
      "LIGHT unit_33 at: [29 20] power and ore: 5 0 unit queue: 1\n",
      "LIGHT unit_35 at: [37  9] power and ore: 5 0 unit queue: 1\n",
      "\n",
      "player_0\n",
      "turn: 110\n",
      "HEAVY unit_8 at: [4 7] power and ice: 59 640 unit queue: 0\n",
      "HEAVY unit_9 at: [32 17] power and ice: 202 640 unit queue: 0\n",
      "HEAVY unit_10 at: [32 25] power and ice: 135 640 unit queue: 0\n",
      "LIGHT unit_16 at: [ 5 11] power and ore: 5 0 unit queue: 1\n",
      "LIGHT unit_17 at: [28 20] power and ore: 6 0 unit queue: 1\n",
      "LIGHT unit_18 at: [28 27] power and ore: 3 0 unit queue: 1\n",
      "LIGHT unit_19 at: [38 11] power and ore: 3 0 unit queue: 1\n",
      "LIGHT unit_20 at: [ 6 11] power and ore: 2 0 unit queue: 1\n",
      "LIGHT unit_21 at: [27 19] power and ore: 1 0 unit queue: 0\n",
      "LIGHT unit_22 at: [28 26] power and ore: 1 0 unit queue: 0\n",
      "LIGHT unit_23 at: [38 12] power and ore: 1 0 unit queue: 0\n",
      "LIGHT unit_24 at: [ 4 10] power and ore: 1 0 unit queue: 1\n",
      "LIGHT unit_27 at: [38 10] power and ore: 3 0 unit queue: 1\n",
      "LIGHT unit_28 at: [3 9] power and ore: 4 0 unit queue: 1\n",
      "LIGHT unit_29 at: [28 21] power and ore: 4 0 unit queue: 1\n",
      "LIGHT unit_30 at: [29 25] power and ore: 5 0 unit queue: 1\n",
      "LIGHT unit_31 at: [37 13] power and ore: 3 0 unit queue: 1\n",
      "LIGHT unit_32 at: [ 7 13] power and ore: 5 0 unit queue: 0\n",
      "LIGHT unit_33 at: [29 20] power and ore: 6 0 unit queue: 1\n",
      "LIGHT unit_35 at: [37  9] power and ore: 6 0 unit queue: 1\n",
      "\n",
      "player_0\n",
      "turn: 111\n",
      "HEAVY unit_8 at: [4 7] power and ice: 609 640 unit queue: 0\n",
      "HEAVY unit_9 at: [32 17] power and ice: 142 660 unit queue: 0\n",
      "HEAVY unit_10 at: [32 25] power and ice: 75 660 unit queue: 0\n",
      "LIGHT unit_16 at: [ 5 11] power and ore: 6 0 unit queue: 1\n",
      "LIGHT unit_17 at: [28 19] power and ore: 5 0 unit queue: 0\n",
      "LIGHT unit_18 at: [28 27] power and ore: 4 0 unit queue: 1\n",
      "LIGHT unit_19 at: [38 11] power and ore: 4 0 unit queue: 1\n",
      "LIGHT unit_20 at: [ 6 11] power and ore: 3 0 unit queue: 1\n",
      "LIGHT unit_21 at: [27 19] power and ore: 1 0 unit queue: 1\n",
      "LIGHT unit_22 at: [28 26] power and ore: 1 0 unit queue: 1\n",
      "LIGHT unit_23 at: [38 12] power and ore: 1 0 unit queue: 1\n",
      "LIGHT unit_24 at: [ 4 10] power and ore: 2 0 unit queue: 1\n",
      "LIGHT unit_27 at: [38 10] power and ore: 4 0 unit queue: 1\n",
      "LIGHT unit_28 at: [3 9] power and ore: 5 0 unit queue: 1\n",
      "LIGHT unit_29 at: [28 21] power and ore: 5 0 unit queue: 1\n",
      "LIGHT unit_30 at: [29 25] power and ore: 6 0 unit queue: 1\n",
      "LIGHT unit_31 at: [37 13] power and ore: 4 0 unit queue: 1\n",
      "LIGHT unit_32 at: [ 7 13] power and ore: 5 0 unit queue: 1\n",
      "LIGHT unit_33 at: [30 20] power and ore: 5 0 unit queue: 0\n",
      "LIGHT unit_35 at: [37  9] power and ore: 1 0 unit queue: 0\n",
      "\n",
      "player_0\n",
      "turn: 112\n",
      "HEAVY unit_8 at: [3 7] power and ice: 589 640 unit queue: 0\n",
      "HEAVY unit_9 at: [32 17] power and ice: 82 680 unit queue: 0\n",
      "HEAVY unit_10 at: [32 26] power and ice: 55 660 unit queue: 0\n",
      "LIGHT unit_16 at: [ 5 11] power and ore: 1 0 unit queue: 0\n",
      "LIGHT unit_17 at: [28 19] power and ore: 5 0 unit queue: 1\n",
      "LIGHT unit_18 at: [28 27] power and ore: 5 0 unit queue: 1\n",
      "LIGHT unit_19 at: [38 11] power and ore: 5 0 unit queue: 1\n",
      "LIGHT unit_20 at: [ 6 11] power and ore: 4 0 unit queue: 1\n",
      "LIGHT unit_21 at: [27 19] power and ore: 2 0 unit queue: 1\n",
      "LIGHT unit_22 at: [28 26] power and ore: 2 0 unit queue: 1\n",
      "LIGHT unit_23 at: [38 12] power and ore: 2 0 unit queue: 1\n",
      "LIGHT unit_24 at: [ 4 10] power and ore: 3 0 unit queue: 1\n",
      "LIGHT unit_27 at: [38 10] power and ore: 5 0 unit queue: 1\n",
      "LIGHT unit_28 at: [3 9] power and ore: 6 0 unit queue: 1\n",
      "LIGHT unit_29 at: [28 21] power and ore: 6 0 unit queue: 1\n",
      "LIGHT unit_30 at: [29 25] power and ore: 1 0 unit queue: 0\n",
      "LIGHT unit_31 at: [37 13] power and ore: 5 0 unit queue: 1\n",
      "LIGHT unit_32 at: [ 7 13] power and ore: 6 0 unit queue: 1\n",
      "LIGHT unit_33 at: [30 20] power and ore: 5 0 unit queue: 1\n",
      "LIGHT unit_35 at: [37  9] power and ore: 1 0 unit queue: 1\n",
      "\n",
      "player_0\n",
      "turn: 113\n",
      "HEAVY unit_8 at: [3 7] power and ice: 529 660 unit queue: 0\n",
      "HEAVY unit_9 at: [31 17] power and ice: 62 680 unit queue: 0\n",
      "HEAVY unit_10 at: [32 26] power and ice: 605 660 unit queue: 0\n",
      "LIGHT unit_16 at: [ 5 11] power and ore: 1 0 unit queue: 1\n",
      "LIGHT unit_17 at: [28 19] power and ore: 6 0 unit queue: 1\n",
      "LIGHT unit_18 at: [28 27] power and ore: 6 0 unit queue: 1\n",
      "LIGHT unit_19 at: [38 11] power and ore: 6 0 unit queue: 1\n",
      "LIGHT unit_20 at: [ 6 11] power and ore: 5 0 unit queue: 1\n",
      "LIGHT unit_21 at: [27 19] power and ore: 3 0 unit queue: 1\n",
      "LIGHT unit_22 at: [28 26] power and ore: 3 0 unit queue: 1\n",
      "LIGHT unit_23 at: [38 12] power and ore: 3 0 unit queue: 1\n",
      "LIGHT unit_24 at: [ 4 10] power and ore: 4 0 unit queue: 1\n",
      "LIGHT unit_27 at: [38 10] power and ore: 6 0 unit queue: 1\n",
      "LIGHT unit_28 at: [3 9] power and ore: 1 0 unit queue: 0\n",
      "LIGHT unit_29 at: [28 21] power and ore: 1 0 unit queue: 0\n",
      "LIGHT unit_30 at: [29 25] power and ore: 1 0 unit queue: 1\n",
      "LIGHT unit_31 at: [37 13] power and ore: 6 0 unit queue: 1\n",
      "LIGHT unit_32 at: [ 7 14] power and ore: 5 0 unit queue: 0\n",
      "LIGHT unit_33 at: [30 20] power and ore: 6 0 unit queue: 1\n",
      "LIGHT unit_35 at: [37  9] power and ore: 2 0 unit queue: 1\n",
      "\n",
      "player_0\n",
      "turn: 114\n",
      "HEAVY unit_8 at: [3 7] power and ice: 469 680 unit queue: 0\n",
      "HEAVY unit_9 at: [31 17] power and ice: 612 680 unit queue: 0\n",
      "HEAVY unit_10 at: [32 25] power and ice: 585 660 unit queue: 0\n",
      "LIGHT unit_16 at: [ 5 11] power and ore: 2 0 unit queue: 1\n",
      "LIGHT unit_17 at: [29 19] power and ore: 5 0 unit queue: 0\n",
      "LIGHT unit_18 at: [28 27] power and ore: 1 0 unit queue: 0\n",
      "LIGHT unit_19 at: [38 11] power and ore: 1 0 unit queue: 0\n",
      "LIGHT unit_20 at: [ 6 11] power and ore: 6 0 unit queue: 1\n",
      "LIGHT unit_21 at: [27 19] power and ore: 4 0 unit queue: 1\n",
      "LIGHT unit_22 at: [28 26] power and ore: 4 0 unit queue: 1\n",
      "LIGHT unit_23 at: [38 12] power and ore: 4 0 unit queue: 1\n",
      "LIGHT unit_24 at: [ 4 10] power and ore: 5 0 unit queue: 1\n",
      "LIGHT unit_27 at: [38 10] power and ore: 1 0 unit queue: 0\n",
      "LIGHT unit_28 at: [3 9] power and ore: 1 0 unit queue: 1\n",
      "LIGHT unit_29 at: [28 21] power and ore: 1 0 unit queue: 1\n",
      "LIGHT unit_30 at: [29 25] power and ore: 2 0 unit queue: 1\n",
      "LIGHT unit_31 at: [37 13] power and ore: 1 0 unit queue: 0\n",
      "LIGHT unit_32 at: [ 7 14] power and ore: 5 0 unit queue: 1\n",
      "LIGHT unit_33 at: [29 20] power and ore: 5 0 unit queue: 0\n",
      "LIGHT unit_35 at: [37  9] power and ore: 3 0 unit queue: 1\n",
      "\n",
      "player_0\n",
      "turn: 115\n",
      "HEAVY unit_8 at: [3 7] power and ice: 409 700 unit queue: 0\n",
      "HEAVY unit_9 at: [32 17] power and ice: 592 680 unit queue: 0\n",
      "HEAVY unit_10 at: [32 25] power and ice: 525 680 unit queue: 0\n",
      "LIGHT unit_16 at: [ 5 11] power and ore: 3 0 unit queue: 1\n",
      "LIGHT unit_17 at: [29 19] power and ore: 5 0 unit queue: 1\n",
      "LIGHT unit_18 at: [28 27] power and ore: 1 0 unit queue: 1\n",
      "LIGHT unit_19 at: [38 11] power and ore: 1 0 unit queue: 1\n",
      "LIGHT unit_20 at: [ 6 11] power and ore: 1 0 unit queue: 0\n",
      "LIGHT unit_21 at: [27 19] power and ore: 5 0 unit queue: 1\n",
      "LIGHT unit_22 at: [28 26] power and ore: 5 0 unit queue: 1\n",
      "LIGHT unit_23 at: [38 12] power and ore: 5 0 unit queue: 1\n",
      "LIGHT unit_24 at: [ 4 10] power and ore: 6 0 unit queue: 1\n",
      "LIGHT unit_27 at: [38 10] power and ore: 1 0 unit queue: 1\n",
      "LIGHT unit_28 at: [3 9] power and ore: 2 0 unit queue: 1\n",
      "LIGHT unit_29 at: [28 21] power and ore: 2 0 unit queue: 1\n",
      "LIGHT unit_30 at: [29 25] power and ore: 3 0 unit queue: 1\n",
      "LIGHT unit_31 at: [37 13] power and ore: 1 0 unit queue: 1\n",
      "LIGHT unit_32 at: [ 7 14] power and ore: 6 0 unit queue: 1\n",
      "LIGHT unit_33 at: [29 20] power and ore: 5 0 unit queue: 1\n",
      "LIGHT unit_35 at: [37  9] power and ore: 4 0 unit queue: 1\n",
      "\n",
      "player_0\n",
      "turn: 116\n",
      "HEAVY unit_8 at: [3 7] power and ice: 349 720 unit queue: 0\n",
      "HEAVY unit_9 at: [32 17] power and ice: 532 700 unit queue: 0\n",
      "HEAVY unit_10 at: [32 25] power and ice: 465 700 unit queue: 0\n",
      "LIGHT unit_16 at: [ 5 11] power and ore: 4 0 unit queue: 1\n",
      "LIGHT unit_17 at: [29 19] power and ore: 6 0 unit queue: 1\n",
      "LIGHT unit_18 at: [28 27] power and ore: 2 0 unit queue: 1\n",
      "LIGHT unit_19 at: [38 11] power and ore: 2 0 unit queue: 1\n",
      "LIGHT unit_20 at: [ 6 11] power and ore: 1 0 unit queue: 1\n",
      "LIGHT unit_21 at: [27 19] power and ore: 6 0 unit queue: 1\n",
      "LIGHT unit_22 at: [28 26] power and ore: 6 0 unit queue: 1\n",
      "LIGHT unit_23 at: [38 12] power and ore: 6 0 unit queue: 1\n",
      "LIGHT unit_24 at: [ 4 10] power and ore: 1 0 unit queue: 0\n",
      "LIGHT unit_27 at: [38 10] power and ore: 2 0 unit queue: 1\n",
      "LIGHT unit_28 at: [3 9] power and ore: 3 0 unit queue: 1\n",
      "LIGHT unit_29 at: [28 21] power and ore: 3 0 unit queue: 1\n",
      "LIGHT unit_30 at: [29 25] power and ore: 4 0 unit queue: 1\n",
      "LIGHT unit_31 at: [37 13] power and ore: 2 0 unit queue: 1\n",
      "LIGHT unit_32 at: [ 7 14] power and ore: 1 0 unit queue: 0\n",
      "LIGHT unit_33 at: [29 20] power and ore: 6 0 unit queue: 1\n",
      "LIGHT unit_35 at: [37  9] power and ore: 5 0 unit queue: 1\n",
      "\n",
      "player_0\n",
      "turn: 117\n",
      "HEAVY unit_8 at: [3 7] power and ice: 289 740 unit queue: 0\n",
      "HEAVY unit_9 at: [32 17] power and ice: 472 720 unit queue: 0\n",
      "HEAVY unit_10 at: [32 25] power and ice: 405 720 unit queue: 0\n",
      "LIGHT unit_16 at: [ 5 11] power and ore: 5 0 unit queue: 1\n",
      "LIGHT unit_17 at: [28 19] power and ore: 5 0 unit queue: 0\n",
      "LIGHT unit_18 at: [28 27] power and ore: 3 0 unit queue: 1\n",
      "LIGHT unit_19 at: [38 11] power and ore: 3 0 unit queue: 1\n",
      "LIGHT unit_20 at: [ 6 11] power and ore: 2 0 unit queue: 1\n",
      "LIGHT unit_21 at: [27 20] power and ore: 5 0 unit queue: 0\n",
      "LIGHT unit_22 at: [28 26] power and ore: 1 0 unit queue: 0\n",
      "LIGHT unit_23 at: [38 12] power and ore: 1 0 unit queue: 0\n",
      "LIGHT unit_24 at: [ 4 10] power and ore: 1 0 unit queue: 1\n",
      "LIGHT unit_27 at: [38 10] power and ore: 3 0 unit queue: 1\n",
      "LIGHT unit_28 at: [3 9] power and ore: 4 0 unit queue: 1\n",
      "LIGHT unit_29 at: [28 21] power and ore: 4 0 unit queue: 1\n",
      "LIGHT unit_30 at: [29 25] power and ore: 5 0 unit queue: 1\n",
      "LIGHT unit_31 at: [37 13] power and ore: 3 0 unit queue: 1\n",
      "LIGHT unit_32 at: [ 7 14] power and ore: 1 0 unit queue: 1\n",
      "LIGHT unit_33 at: [28 20] power and ore: 5 0 unit queue: 0\n",
      "LIGHT unit_35 at: [37  9] power and ore: 6 0 unit queue: 1\n",
      "\n",
      "player_0\n",
      "turn: 118\n",
      "HEAVY unit_8 at: [3 7] power and ice: 229 760 unit queue: 0\n",
      "HEAVY unit_9 at: [32 17] power and ice: 412 740 unit queue: 0\n",
      "HEAVY unit_10 at: [32 25] power and ice: 345 740 unit queue: 0\n",
      "LIGHT unit_16 at: [ 5 11] power and ore: 6 0 unit queue: 1\n",
      "LIGHT unit_17 at: [28 19] power and ore: 5 0 unit queue: 1\n",
      "LIGHT unit_18 at: [28 27] power and ore: 4 0 unit queue: 1\n",
      "LIGHT unit_19 at: [38 11] power and ore: 4 0 unit queue: 1\n",
      "LIGHT unit_20 at: [ 6 11] power and ore: 3 0 unit queue: 1\n",
      "LIGHT unit_21 at: [27 20] power and ore: 5 0 unit queue: 1\n",
      "LIGHT unit_22 at: [28 26] power and ore: 1 0 unit queue: 1\n",
      "LIGHT unit_23 at: [38 12] power and ore: 1 0 unit queue: 1\n",
      "LIGHT unit_24 at: [ 4 10] power and ore: 2 0 unit queue: 1\n",
      "LIGHT unit_27 at: [38 10] power and ore: 4 0 unit queue: 1\n",
      "LIGHT unit_28 at: [3 9] power and ore: 5 0 unit queue: 1\n",
      "LIGHT unit_29 at: [28 21] power and ore: 5 0 unit queue: 1\n",
      "LIGHT unit_30 at: [29 25] power and ore: 6 0 unit queue: 1\n",
      "LIGHT unit_31 at: [37 13] power and ore: 4 0 unit queue: 1\n",
      "LIGHT unit_32 at: [ 7 14] power and ore: 2 0 unit queue: 1\n",
      "LIGHT unit_33 at: [28 20] power and ore: 5 0 unit queue: 1\n",
      "LIGHT unit_35 at: [37  9] power and ore: 1 0 unit queue: 0\n",
      "\n",
      "player_0\n",
      "turn: 119\n",
      "HEAVY unit_8 at: [3 7] power and ice: 169 780 unit queue: 0\n",
      "HEAVY unit_9 at: [32 17] power and ice: 352 760 unit queue: 0\n",
      "HEAVY unit_10 at: [32 25] power and ice: 285 760 unit queue: 0\n",
      "LIGHT unit_16 at: [ 5 11] power and ore: 1 0 unit queue: 0\n",
      "LIGHT unit_17 at: [28 19] power and ore: 6 0 unit queue: 1\n",
      "LIGHT unit_18 at: [28 27] power and ore: 5 0 unit queue: 1\n",
      "LIGHT unit_19 at: [38 11] power and ore: 5 0 unit queue: 1\n",
      "LIGHT unit_20 at: [ 6 11] power and ore: 4 0 unit queue: 1\n",
      "LIGHT unit_21 at: [27 20] power and ore: 6 0 unit queue: 1\n",
      "LIGHT unit_22 at: [28 26] power and ore: 2 0 unit queue: 1\n",
      "LIGHT unit_23 at: [38 12] power and ore: 2 0 unit queue: 1\n",
      "LIGHT unit_24 at: [ 4 10] power and ore: 3 0 unit queue: 1\n",
      "LIGHT unit_27 at: [38 10] power and ore: 5 0 unit queue: 1\n",
      "LIGHT unit_28 at: [3 9] power and ore: 6 0 unit queue: 1\n",
      "LIGHT unit_29 at: [28 21] power and ore: 6 0 unit queue: 1\n",
      "LIGHT unit_30 at: [28 25] power and ore: 2 0 unit queue: 0\n",
      "LIGHT unit_31 at: [37 13] power and ore: 5 0 unit queue: 1\n",
      "LIGHT unit_32 at: [ 7 14] power and ore: 3 0 unit queue: 1\n",
      "LIGHT unit_33 at: [28 20] power and ore: 6 0 unit queue: 1\n",
      "LIGHT unit_35 at: [37  9] power and ore: 1 0 unit queue: 1\n",
      "\n",
      "player_0\n",
      "turn: 120\n",
      "HEAVY unit_8 at: [3 7] power and ice: 109 800 unit queue: 0\n",
      "HEAVY unit_9 at: [32 17] power and ice: 292 780 unit queue: 0\n",
      "HEAVY unit_10 at: [32 25] power and ice: 225 780 unit queue: 0\n",
      "LIGHT unit_16 at: [ 5 11] power and ore: 1 0 unit queue: 1\n",
      "LIGHT unit_17 at: [27 19] power and ore: 5 0 unit queue: 0\n",
      "LIGHT unit_18 at: [28 27] power and ore: 6 0 unit queue: 1\n",
      "LIGHT unit_19 at: [38 11] power and ore: 6 0 unit queue: 1\n",
      "LIGHT unit_20 at: [ 6 11] power and ore: 5 0 unit queue: 1\n",
      "LIGHT unit_21 at: [27 20] power and ore: 1 0 unit queue: 0\n",
      "LIGHT unit_22 at: [28 26] power and ore: 3 0 unit queue: 1\n",
      "LIGHT unit_23 at: [38 12] power and ore: 3 0 unit queue: 1\n",
      "LIGHT unit_24 at: [ 4 10] power and ore: 4 0 unit queue: 1\n",
      "LIGHT unit_27 at: [38 10] power and ore: 6 0 unit queue: 1\n",
      "LIGHT unit_28 at: [3 9] power and ore: 1 0 unit queue: 0\n",
      "LIGHT unit_29 at: [28 21] power and ore: 1 0 unit queue: 0\n",
      "LIGHT unit_30 at: [28 25] power and ore: 2 0 unit queue: 1\n",
      "LIGHT unit_31 at: [37 13] power and ore: 6 0 unit queue: 1\n",
      "LIGHT unit_32 at: [ 7 14] power and ore: 4 0 unit queue: 1\n",
      "LIGHT unit_33 at: [29 20] power and ore: 5 0 unit queue: 0\n",
      "LIGHT unit_35 at: [37  9] power and ore: 2 0 unit queue: 1\n",
      "\n",
      "player_0\n",
      "turn: 121\n",
      "HEAVY unit_8 at: [3 7] power and ice: 49 820 unit queue: 0\n",
      "HEAVY unit_9 at: [32 17] power and ice: 232 800 unit queue: 0\n",
      "HEAVY unit_10 at: [32 25] power and ice: 165 800 unit queue: 0\n",
      "LIGHT unit_16 at: [ 5 11] power and ore: 2 0 unit queue: 1\n",
      "LIGHT unit_17 at: [27 19] power and ore: 5 0 unit queue: 1\n",
      "LIGHT unit_18 at: [28 27] power and ore: 1 0 unit queue: 0\n",
      "LIGHT unit_19 at: [38 11] power and ore: 1 0 unit queue: 0\n",
      "LIGHT unit_20 at: [ 6 11] power and ore: 6 0 unit queue: 1\n",
      "LIGHT unit_21 at: [27 20] power and ore: 1 0 unit queue: 1\n",
      "LIGHT unit_22 at: [28 26] power and ore: 4 0 unit queue: 1\n",
      "LIGHT unit_23 at: [38 12] power and ore: 4 0 unit queue: 1\n",
      "LIGHT unit_24 at: [ 4 10] power and ore: 5 0 unit queue: 1\n",
      "LIGHT unit_27 at: [38 10] power and ore: 1 0 unit queue: 0\n",
      "LIGHT unit_28 at: [3 9] power and ore: 1 0 unit queue: 1\n",
      "LIGHT unit_29 at: [28 21] power and ore: 1 0 unit queue: 1\n",
      "LIGHT unit_30 at: [28 25] power and ore: 3 0 unit queue: 1\n",
      "LIGHT unit_31 at: [37 13] power and ore: 1 0 unit queue: 0\n",
      "LIGHT unit_32 at: [ 7 14] power and ore: 5 0 unit queue: 1\n",
      "LIGHT unit_33 at: [29 20] power and ore: 5 0 unit queue: 1\n",
      "LIGHT unit_35 at: [37  9] power and ore: 3 0 unit queue: 1\n",
      "\n",
      "player_0\n",
      "turn: 122\n",
      "HEAVY unit_8 at: [4 7] power and ice: 29 820 unit queue: 0\n",
      "HEAVY unit_9 at: [32 17] power and ice: 172 820 unit queue: 0\n",
      "HEAVY unit_10 at: [32 25] power and ice: 105 820 unit queue: 0\n",
      "LIGHT unit_16 at: [ 5 11] power and ore: 3 0 unit queue: 1\n",
      "LIGHT unit_17 at: [27 19] power and ore: 6 0 unit queue: 1\n",
      "LIGHT unit_18 at: [28 27] power and ore: 1 0 unit queue: 1\n",
      "LIGHT unit_19 at: [38 11] power and ore: 1 0 unit queue: 1\n",
      "LIGHT unit_20 at: [ 6 11] power and ore: 1 0 unit queue: 0\n",
      "LIGHT unit_21 at: [27 20] power and ore: 2 0 unit queue: 1\n",
      "LIGHT unit_22 at: [28 26] power and ore: 5 0 unit queue: 1\n",
      "LIGHT unit_23 at: [38 12] power and ore: 5 0 unit queue: 1\n",
      "LIGHT unit_24 at: [ 4 10] power and ore: 6 0 unit queue: 1\n",
      "LIGHT unit_27 at: [38 10] power and ore: 1 0 unit queue: 1\n",
      "LIGHT unit_28 at: [3 9] power and ore: 2 0 unit queue: 1\n",
      "LIGHT unit_29 at: [28 21] power and ore: 2 0 unit queue: 1\n",
      "LIGHT unit_30 at: [28 25] power and ore: 4 0 unit queue: 1\n",
      "LIGHT unit_31 at: [37 13] power and ore: 1 0 unit queue: 1\n",
      "LIGHT unit_32 at: [ 7 14] power and ore: 6 0 unit queue: 1\n",
      "LIGHT unit_33 at: [29 20] power and ore: 6 0 unit queue: 1\n",
      "LIGHT unit_35 at: [37  9] power and ore: 4 0 unit queue: 1\n",
      "\n",
      "player_0\n",
      "turn: 123\n",
      "HEAVY unit_8 at: [4 7] power and ice: 629 820 unit queue: 0\n",
      "HEAVY unit_9 at: [32 17] power and ice: 112 840 unit queue: 0\n",
      "HEAVY unit_10 at: [32 25] power and ice: 45 840 unit queue: 0\n",
      "LIGHT unit_16 at: [ 5 11] power and ore: 4 0 unit queue: 1\n",
      "LIGHT unit_17 at: [28 19] power and ore: 5 0 unit queue: 0\n",
      "LIGHT unit_18 at: [28 27] power and ore: 2 0 unit queue: 1\n",
      "LIGHT unit_19 at: [38 11] power and ore: 2 0 unit queue: 1\n",
      "LIGHT unit_20 at: [ 6 11] power and ore: 1 0 unit queue: 1\n",
      "LIGHT unit_21 at: [27 20] power and ore: 3 0 unit queue: 1\n",
      "LIGHT unit_22 at: [28 26] power and ore: 6 0 unit queue: 1\n",
      "LIGHT unit_23 at: [38 12] power and ore: 6 0 unit queue: 1\n",
      "LIGHT unit_24 at: [ 4 10] power and ore: 1 0 unit queue: 0\n",
      "LIGHT unit_27 at: [38 10] power and ore: 2 0 unit queue: 1\n",
      "LIGHT unit_28 at: [3 9] power and ore: 3 0 unit queue: 1\n",
      "LIGHT unit_29 at: [28 21] power and ore: 3 0 unit queue: 1\n",
      "LIGHT unit_30 at: [28 25] power and ore: 5 0 unit queue: 1\n",
      "LIGHT unit_31 at: [37 13] power and ore: 2 0 unit queue: 1\n",
      "LIGHT unit_32 at: [ 7 14] power and ore: 1 0 unit queue: 0\n",
      "LIGHT unit_33 at: [28 20] power and ore: 5 0 unit queue: 0\n",
      "LIGHT unit_35 at: [37  9] power and ore: 5 0 unit queue: 1\n",
      "\n",
      "player_0\n",
      "turn: 124\n",
      "HEAVY unit_8 at: [3 7] power and ice: 609 820 unit queue: 0\n",
      "HEAVY unit_9 at: [32 17] power and ice: 52 860 unit queue: 0\n",
      "HEAVY unit_10 at: [32 26] power and ice: 25 840 unit queue: 0\n",
      "LIGHT unit_16 at: [ 5 11] power and ore: 5 0 unit queue: 1\n",
      "LIGHT unit_17 at: [28 19] power and ore: 5 0 unit queue: 1\n",
      "LIGHT unit_18 at: [28 27] power and ore: 3 0 unit queue: 1\n",
      "LIGHT unit_19 at: [38 11] power and ore: 3 0 unit queue: 1\n",
      "LIGHT unit_20 at: [ 6 11] power and ore: 2 0 unit queue: 1\n",
      "LIGHT unit_21 at: [27 20] power and ore: 4 0 unit queue: 1\n",
      "LIGHT unit_22 at: [28 26] power and ore: 1 0 unit queue: 0\n",
      "LIGHT unit_23 at: [38 12] power and ore: 1 0 unit queue: 0\n",
      "LIGHT unit_24 at: [ 4 10] power and ore: 1 0 unit queue: 1\n",
      "LIGHT unit_27 at: [38 10] power and ore: 3 0 unit queue: 1\n",
      "LIGHT unit_28 at: [3 9] power and ore: 4 0 unit queue: 1\n",
      "LIGHT unit_29 at: [28 21] power and ore: 4 0 unit queue: 1\n",
      "LIGHT unit_30 at: [28 25] power and ore: 6 0 unit queue: 1\n",
      "LIGHT unit_31 at: [37 13] power and ore: 3 0 unit queue: 1\n",
      "LIGHT unit_32 at: [ 7 14] power and ore: 1 0 unit queue: 1\n",
      "LIGHT unit_33 at: [28 20] power and ore: 5 0 unit queue: 1\n",
      "LIGHT unit_35 at: [37  9] power and ore: 6 0 unit queue: 1\n",
      "\n",
      "player_0\n",
      "turn: 125\n",
      "HEAVY unit_8 at: [3 7] power and ice: 549 840 unit queue: 0\n",
      "HEAVY unit_9 at: [31 17] power and ice: 32 860 unit queue: 0\n",
      "HEAVY unit_10 at: [32 26] power and ice: 625 840 unit queue: 0\n",
      "LIGHT unit_16 at: [ 5 11] power and ore: 6 0 unit queue: 1\n",
      "LIGHT unit_17 at: [28 19] power and ore: 6 0 unit queue: 1\n",
      "LIGHT unit_18 at: [28 27] power and ore: 4 0 unit queue: 1\n",
      "LIGHT unit_19 at: [38 11] power and ore: 4 0 unit queue: 1\n",
      "LIGHT unit_20 at: [ 6 11] power and ore: 3 0 unit queue: 1\n",
      "LIGHT unit_21 at: [27 20] power and ore: 5 0 unit queue: 1\n",
      "LIGHT unit_22 at: [28 26] power and ore: 1 0 unit queue: 1\n",
      "LIGHT unit_23 at: [38 12] power and ore: 1 0 unit queue: 1\n",
      "LIGHT unit_24 at: [ 4 10] power and ore: 2 0 unit queue: 1\n",
      "LIGHT unit_27 at: [38 10] power and ore: 4 0 unit queue: 1\n",
      "LIGHT unit_28 at: [3 9] power and ore: 5 0 unit queue: 1\n",
      "LIGHT unit_29 at: [28 21] power and ore: 5 0 unit queue: 1\n",
      "LIGHT unit_30 at: [28 25] power and ore: 1 0 unit queue: 0\n",
      "LIGHT unit_31 at: [37 13] power and ore: 4 0 unit queue: 1\n",
      "LIGHT unit_32 at: [ 7 14] power and ore: 2 0 unit queue: 1\n",
      "LIGHT unit_33 at: [28 20] power and ore: 6 0 unit queue: 1\n",
      "LIGHT unit_35 at: [37  9] power and ore: 1 0 unit queue: 0\n",
      "\n",
      "player_0\n",
      "turn: 126\n",
      "HEAVY unit_8 at: [3 7] power and ice: 489 860 unit queue: 0\n",
      "HEAVY unit_9 at: [31 17] power and ice: 632 860 unit queue: 0\n",
      "HEAVY unit_10 at: [32 25] power and ice: 605 840 unit queue: 0\n",
      "LIGHT unit_16 at: [ 5 12] power and ore: 5 0 unit queue: 0\n",
      "LIGHT unit_17 at: [27 19] power and ore: 5 0 unit queue: 0\n",
      "LIGHT unit_18 at: [28 27] power and ore: 5 0 unit queue: 1\n",
      "LIGHT unit_19 at: [38 11] power and ore: 5 0 unit queue: 1\n",
      "LIGHT unit_20 at: [ 6 11] power and ore: 4 0 unit queue: 1\n",
      "LIGHT unit_21 at: [27 20] power and ore: 6 0 unit queue: 1\n",
      "LIGHT unit_22 at: [28 26] power and ore: 2 0 unit queue: 1\n",
      "LIGHT unit_23 at: [38 12] power and ore: 2 0 unit queue: 1\n",
      "LIGHT unit_24 at: [ 4 10] power and ore: 3 0 unit queue: 1\n",
      "LIGHT unit_27 at: [38 10] power and ore: 5 0 unit queue: 1\n",
      "LIGHT unit_28 at: [3 9] power and ore: 6 0 unit queue: 1\n",
      "LIGHT unit_29 at: [28 21] power and ore: 6 0 unit queue: 1\n",
      "LIGHT unit_30 at: [28 25] power and ore: 1 0 unit queue: 1\n",
      "LIGHT unit_31 at: [37 13] power and ore: 5 0 unit queue: 1\n",
      "LIGHT unit_32 at: [ 7 14] power and ore: 3 0 unit queue: 1\n",
      "LIGHT unit_33 at: [29 20] power and ore: 5 0 unit queue: 0\n",
      "LIGHT unit_35 at: [37  9] power and ore: 1 0 unit queue: 1\n",
      "\n",
      "player_0\n",
      "turn: 127\n",
      "HEAVY unit_8 at: [3 7] power and ice: 429 880 unit queue: 0\n",
      "HEAVY unit_9 at: [32 17] power and ice: 612 860 unit queue: 0\n",
      "HEAVY unit_10 at: [32 25] power and ice: 545 860 unit queue: 0\n",
      "LIGHT unit_16 at: [ 5 12] power and ore: 5 0 unit queue: 1\n",
      "LIGHT unit_17 at: [27 19] power and ore: 5 0 unit queue: 1\n",
      "LIGHT unit_18 at: [28 27] power and ore: 6 0 unit queue: 1\n",
      "LIGHT unit_19 at: [38 11] power and ore: 6 0 unit queue: 1\n",
      "LIGHT unit_20 at: [ 6 11] power and ore: 5 0 unit queue: 1\n",
      "LIGHT unit_21 at: [27 20] power and ore: 1 0 unit queue: 0\n",
      "LIGHT unit_22 at: [28 26] power and ore: 3 0 unit queue: 1\n",
      "LIGHT unit_23 at: [38 12] power and ore: 3 0 unit queue: 1\n",
      "LIGHT unit_24 at: [ 4 10] power and ore: 4 0 unit queue: 1\n",
      "LIGHT unit_27 at: [38 10] power and ore: 6 0 unit queue: 1\n",
      "LIGHT unit_28 at: [3 9] power and ore: 1 0 unit queue: 0\n",
      "LIGHT unit_29 at: [28 21] power and ore: 1 0 unit queue: 0\n",
      "LIGHT unit_30 at: [28 25] power and ore: 2 0 unit queue: 1\n",
      "LIGHT unit_31 at: [37 13] power and ore: 6 0 unit queue: 1\n",
      "LIGHT unit_32 at: [ 7 14] power and ore: 4 0 unit queue: 1\n",
      "LIGHT unit_33 at: [29 20] power and ore: 5 0 unit queue: 1\n",
      "LIGHT unit_35 at: [37  9] power and ore: 2 0 unit queue: 1\n",
      "\n",
      "player_0\n",
      "turn: 128\n",
      "HEAVY unit_8 at: [3 7] power and ice: 369 900 unit queue: 0\n",
      "HEAVY unit_9 at: [32 17] power and ice: 552 880 unit queue: 0\n",
      "HEAVY unit_10 at: [32 25] power and ice: 485 880 unit queue: 0\n",
      "LIGHT unit_16 at: [ 5 12] power and ore: 6 0 unit queue: 1\n",
      "LIGHT unit_17 at: [27 19] power and ore: 6 0 unit queue: 1\n",
      "LIGHT unit_18 at: [28 27] power and ore: 1 0 unit queue: 0\n",
      "LIGHT unit_19 at: [38 11] power and ore: 1 0 unit queue: 0\n",
      "LIGHT unit_20 at: [ 6 11] power and ore: 6 0 unit queue: 1\n",
      "LIGHT unit_21 at: [27 20] power and ore: 1 0 unit queue: 1\n",
      "LIGHT unit_22 at: [28 26] power and ore: 4 0 unit queue: 1\n",
      "LIGHT unit_23 at: [38 12] power and ore: 4 0 unit queue: 1\n",
      "LIGHT unit_24 at: [ 4 10] power and ore: 5 0 unit queue: 1\n",
      "LIGHT unit_27 at: [38 10] power and ore: 1 0 unit queue: 0\n",
      "LIGHT unit_28 at: [3 9] power and ore: 1 0 unit queue: 1\n",
      "LIGHT unit_29 at: [28 21] power and ore: 1 0 unit queue: 1\n",
      "LIGHT unit_30 at: [28 25] power and ore: 3 0 unit queue: 1\n",
      "LIGHT unit_31 at: [37 13] power and ore: 1 0 unit queue: 0\n",
      "LIGHT unit_32 at: [ 7 14] power and ore: 5 0 unit queue: 1\n",
      "LIGHT unit_33 at: [29 20] power and ore: 6 0 unit queue: 1\n",
      "LIGHT unit_35 at: [37  9] power and ore: 3 0 unit queue: 1\n",
      "\n",
      "player_0\n",
      "turn: 129\n",
      "HEAVY unit_8 at: [3 7] power and ice: 309 920 unit queue: 0\n",
      "HEAVY unit_9 at: [32 17] power and ice: 492 900 unit queue: 0\n",
      "HEAVY unit_10 at: [32 25] power and ice: 425 900 unit queue: 0\n",
      "LIGHT unit_16 at: [ 5 12] power and ore: 1 0 unit queue: 0\n",
      "LIGHT unit_17 at: [26 19] power and ore: 5 0 unit queue: 0\n",
      "LIGHT unit_18 at: [28 27] power and ore: 1 0 unit queue: 1\n",
      "LIGHT unit_19 at: [38 11] power and ore: 1 0 unit queue: 1\n",
      "LIGHT unit_20 at: [ 6 12] power and ore: 5 0 unit queue: 0\n",
      "LIGHT unit_21 at: [27 20] power and ore: 2 0 unit queue: 1\n",
      "LIGHT unit_22 at: [28 26] power and ore: 5 0 unit queue: 1\n",
      "LIGHT unit_23 at: [38 12] power and ore: 5 0 unit queue: 1\n",
      "LIGHT unit_24 at: [ 4 10] power and ore: 6 0 unit queue: 1\n",
      "LIGHT unit_27 at: [38 10] power and ore: 1 0 unit queue: 1\n",
      "LIGHT unit_28 at: [3 9] power and ore: 2 0 unit queue: 1\n",
      "LIGHT unit_29 at: [28 21] power and ore: 2 0 unit queue: 1\n",
      "LIGHT unit_30 at: [28 25] power and ore: 4 0 unit queue: 1\n",
      "LIGHT unit_31 at: [37 13] power and ore: 1 0 unit queue: 1\n",
      "LIGHT unit_32 at: [ 7 14] power and ore: 6 0 unit queue: 1\n",
      "LIGHT unit_33 at: [28 20] power and ore: 5 0 unit queue: 0\n",
      "LIGHT unit_35 at: [37  9] power and ore: 4 0 unit queue: 1\n",
      "\n",
      "player_0\n",
      "turn: 130\n",
      "HEAVY unit_8 at: [3 7] power and ice: 249 940 unit queue: 0\n",
      "HEAVY unit_9 at: [32 17] power and ice: 432 920 unit queue: 0\n",
      "HEAVY unit_10 at: [32 25] power and ice: 365 920 unit queue: 0\n",
      "LIGHT unit_16 at: [ 5 12] power and ore: 1 0 unit queue: 1\n",
      "LIGHT unit_17 at: [26 19] power and ore: 5 0 unit queue: 1\n",
      "LIGHT unit_18 at: [28 27] power and ore: 2 0 unit queue: 1\n",
      "LIGHT unit_19 at: [38 11] power and ore: 2 0 unit queue: 1\n",
      "LIGHT unit_20 at: [ 6 12] power and ore: 5 0 unit queue: 1\n",
      "LIGHT unit_21 at: [27 20] power and ore: 3 0 unit queue: 1\n",
      "LIGHT unit_22 at: [28 26] power and ore: 6 0 unit queue: 1\n",
      "LIGHT unit_23 at: [38 12] power and ore: 6 0 unit queue: 1\n",
      "LIGHT unit_24 at: [ 4 10] power and ore: 1 0 unit queue: 0\n",
      "LIGHT unit_27 at: [38 10] power and ore: 2 0 unit queue: 1\n",
      "LIGHT unit_28 at: [3 9] power and ore: 3 0 unit queue: 1\n",
      "LIGHT unit_29 at: [28 21] power and ore: 3 0 unit queue: 1\n",
      "LIGHT unit_30 at: [28 25] power and ore: 5 0 unit queue: 1\n",
      "LIGHT unit_31 at: [37 13] power and ore: 2 0 unit queue: 1\n",
      "LIGHT unit_32 at: [ 7 14] power and ore: 1 0 unit queue: 0\n",
      "LIGHT unit_33 at: [28 20] power and ore: 5 0 unit queue: 1\n",
      "LIGHT unit_35 at: [37  9] power and ore: 5 0 unit queue: 1\n",
      "\n",
      "player_0\n",
      "turn: 131\n",
      "HEAVY unit_8 at: [3 7] power and ice: 179 960 unit queue: 0\n",
      "HEAVY unit_9 at: [32 17] power and ice: 362 940 unit queue: 0\n",
      "HEAVY unit_10 at: [32 25] power and ice: 295 940 unit queue: 0\n",
      "LIGHT unit_16 at: [ 5 12] power and ore: 1 0 unit queue: 1\n",
      "LIGHT unit_17 at: [26 19] power and ore: 5 0 unit queue: 1\n",
      "LIGHT unit_18 at: [28 27] power and ore: 2 0 unit queue: 1\n",
      "LIGHT unit_19 at: [38 11] power and ore: 2 0 unit queue: 1\n",
      "LIGHT unit_20 at: [ 6 12] power and ore: 5 0 unit queue: 1\n",
      "LIGHT unit_21 at: [27 20] power and ore: 3 0 unit queue: 1\n",
      "LIGHT unit_22 at: [28 26] power and ore: 0 0 unit queue: 0\n",
      "LIGHT unit_23 at: [38 12] power and ore: 0 0 unit queue: 0\n",
      "LIGHT unit_24 at: [ 4 10] power and ore: 0 0 unit queue: 1\n",
      "LIGHT unit_27 at: [38 10] power and ore: 2 0 unit queue: 1\n",
      "LIGHT unit_28 at: [3 9] power and ore: 3 0 unit queue: 1\n",
      "LIGHT unit_29 at: [28 21] power and ore: 3 0 unit queue: 1\n",
      "LIGHT unit_30 at: [28 25] power and ore: 5 0 unit queue: 1\n",
      "LIGHT unit_31 at: [37 13] power and ore: 2 0 unit queue: 1\n",
      "LIGHT unit_32 at: [ 7 14] power and ore: 0 0 unit queue: 1\n",
      "LIGHT unit_33 at: [28 20] power and ore: 5 0 unit queue: 1\n",
      "LIGHT unit_35 at: [37  9] power and ore: 5 0 unit queue: 1\n",
      "\n",
      "player_0\n",
      "turn: 132\n",
      "HEAVY unit_8 at: [3 7] power and ice: 169 0 unit queue: 0\n",
      "HEAVY unit_9 at: [32 17] power and ice: 292 960 unit queue: 0\n",
      "HEAVY unit_10 at: [32 25] power and ice: 225 960 unit queue: 0\n",
      "LIGHT unit_16 at: [ 5 12] power and ore: 1 0 unit queue: 1\n",
      "LIGHT unit_17 at: [26 19] power and ore: 5 0 unit queue: 1\n",
      "LIGHT unit_18 at: [28 27] power and ore: 2 0 unit queue: 1\n",
      "LIGHT unit_19 at: [38 11] power and ore: 2 0 unit queue: 1\n",
      "LIGHT unit_20 at: [ 6 12] power and ore: 5 0 unit queue: 1\n",
      "LIGHT unit_21 at: [27 20] power and ore: 3 0 unit queue: 1\n",
      "LIGHT unit_22 at: [28 26] power and ore: 0 0 unit queue: 0\n",
      "LIGHT unit_23 at: [38 12] power and ore: 0 0 unit queue: 0\n",
      "LIGHT unit_24 at: [ 4 10] power and ore: 0 0 unit queue: 1\n",
      "LIGHT unit_27 at: [38 10] power and ore: 2 0 unit queue: 1\n",
      "LIGHT unit_28 at: [3 9] power and ore: 3 0 unit queue: 1\n",
      "LIGHT unit_29 at: [28 21] power and ore: 3 0 unit queue: 1\n",
      "LIGHT unit_30 at: [28 25] power and ore: 5 0 unit queue: 1\n",
      "LIGHT unit_31 at: [37 13] power and ore: 2 0 unit queue: 1\n",
      "LIGHT unit_32 at: [ 7 14] power and ore: 0 0 unit queue: 1\n",
      "LIGHT unit_33 at: [28 20] power and ore: 5 0 unit queue: 1\n",
      "LIGHT unit_35 at: [37  9] power and ore: 5 0 unit queue: 1\n",
      "\n",
      "player_0\n",
      "turn: 133\n",
      "HEAVY unit_8 at: [3 7] power and ice: 99 20 unit queue: 0\n",
      "HEAVY unit_9 at: [32 17] power and ice: 282 0 unit queue: 0\n",
      "HEAVY unit_10 at: [32 25] power and ice: 215 0 unit queue: 0\n",
      "LIGHT unit_16 at: [ 5 12] power and ore: 1 0 unit queue: 1\n",
      "LIGHT unit_17 at: [26 19] power and ore: 5 0 unit queue: 1\n",
      "LIGHT unit_18 at: [28 27] power and ore: 2 0 unit queue: 1\n",
      "LIGHT unit_19 at: [38 11] power and ore: 2 0 unit queue: 1\n",
      "LIGHT unit_20 at: [ 6 12] power and ore: 5 0 unit queue: 1\n",
      "LIGHT unit_21 at: [27 20] power and ore: 3 0 unit queue: 1\n",
      "LIGHT unit_22 at: [28 26] power and ore: 0 0 unit queue: 0\n",
      "LIGHT unit_23 at: [38 12] power and ore: 0 0 unit queue: 0\n",
      "LIGHT unit_24 at: [ 4 10] power and ore: 0 0 unit queue: 1\n",
      "LIGHT unit_27 at: [38 10] power and ore: 2 0 unit queue: 1\n",
      "LIGHT unit_28 at: [3 9] power and ore: 3 0 unit queue: 1\n",
      "LIGHT unit_29 at: [28 21] power and ore: 3 0 unit queue: 1\n",
      "LIGHT unit_30 at: [28 25] power and ore: 5 0 unit queue: 1\n",
      "LIGHT unit_31 at: [37 13] power and ore: 2 0 unit queue: 1\n",
      "LIGHT unit_32 at: [ 7 14] power and ore: 0 0 unit queue: 1\n",
      "LIGHT unit_33 at: [28 20] power and ore: 5 0 unit queue: 1\n",
      "LIGHT unit_35 at: [37  9] power and ore: 5 0 unit queue: 1\n",
      "\n",
      "player_0\n",
      "turn: 134\n",
      "HEAVY unit_8 at: [4 7] power and ice: 69 20 unit queue: 0\n",
      "HEAVY unit_9 at: [32 17] power and ice: 212 20 unit queue: 0\n",
      "HEAVY unit_10 at: [32 25] power and ice: 145 20 unit queue: 0\n",
      "LIGHT unit_16 at: [ 5 12] power and ore: 1 0 unit queue: 1\n",
      "LIGHT unit_17 at: [26 19] power and ore: 5 0 unit queue: 1\n",
      "LIGHT unit_18 at: [28 27] power and ore: 2 0 unit queue: 1\n",
      "LIGHT unit_19 at: [38 11] power and ore: 2 0 unit queue: 1\n",
      "LIGHT unit_20 at: [ 6 12] power and ore: 5 0 unit queue: 1\n",
      "LIGHT unit_21 at: [27 20] power and ore: 3 0 unit queue: 1\n",
      "LIGHT unit_22 at: [28 26] power and ore: 0 0 unit queue: 0\n",
      "LIGHT unit_23 at: [38 12] power and ore: 0 0 unit queue: 0\n",
      "LIGHT unit_24 at: [ 4 10] power and ore: 0 0 unit queue: 1\n",
      "LIGHT unit_27 at: [38 10] power and ore: 2 0 unit queue: 1\n",
      "LIGHT unit_28 at: [3 9] power and ore: 3 0 unit queue: 1\n",
      "LIGHT unit_29 at: [28 21] power and ore: 3 0 unit queue: 1\n",
      "LIGHT unit_30 at: [28 25] power and ore: 5 0 unit queue: 1\n",
      "LIGHT unit_31 at: [37 13] power and ore: 2 0 unit queue: 1\n",
      "LIGHT unit_32 at: [ 7 14] power and ore: 0 0 unit queue: 1\n",
      "LIGHT unit_33 at: [28 20] power and ore: 5 0 unit queue: 1\n",
      "LIGHT unit_35 at: [37  9] power and ore: 5 0 unit queue: 1\n",
      "\n",
      "player_0\n",
      "turn: 135\n",
      "HEAVY unit_8 at: [4 7] power and ice: 659 20 unit queue: 0\n",
      "HEAVY unit_9 at: [32 17] power and ice: 142 40 unit queue: 0\n",
      "HEAVY unit_10 at: [32 25] power and ice: 75 40 unit queue: 0\n",
      "LIGHT unit_16 at: [ 5 12] power and ore: 1 0 unit queue: 1\n",
      "LIGHT unit_17 at: [26 19] power and ore: 5 0 unit queue: 1\n",
      "LIGHT unit_18 at: [28 27] power and ore: 2 0 unit queue: 1\n",
      "LIGHT unit_19 at: [38 11] power and ore: 2 0 unit queue: 1\n",
      "LIGHT unit_20 at: [ 6 12] power and ore: 5 0 unit queue: 1\n",
      "LIGHT unit_21 at: [27 20] power and ore: 3 0 unit queue: 1\n",
      "LIGHT unit_22 at: [28 26] power and ore: 0 0 unit queue: 0\n",
      "LIGHT unit_23 at: [38 12] power and ore: 0 0 unit queue: 0\n",
      "LIGHT unit_24 at: [ 4 10] power and ore: 0 0 unit queue: 1\n",
      "LIGHT unit_27 at: [38 10] power and ore: 2 0 unit queue: 1\n",
      "LIGHT unit_28 at: [3 9] power and ore: 3 0 unit queue: 1\n",
      "LIGHT unit_29 at: [28 21] power and ore: 3 0 unit queue: 1\n",
      "LIGHT unit_30 at: [28 25] power and ore: 5 0 unit queue: 1\n",
      "LIGHT unit_31 at: [37 13] power and ore: 2 0 unit queue: 1\n",
      "LIGHT unit_32 at: [ 7 14] power and ore: 0 0 unit queue: 1\n",
      "LIGHT unit_33 at: [28 20] power and ore: 5 0 unit queue: 1\n",
      "LIGHT unit_35 at: [37  9] power and ore: 5 0 unit queue: 1\n",
      "\n",
      "player_0\n",
      "turn: 136\n",
      "HEAVY unit_8 at: [3 7] power and ice: 629 20 unit queue: 0\n",
      "HEAVY unit_9 at: [32 17] power and ice: 72 60 unit queue: 0\n",
      "HEAVY unit_10 at: [32 26] power and ice: 45 40 unit queue: 0\n",
      "LIGHT unit_16 at: [ 5 12] power and ore: 1 0 unit queue: 1\n",
      "LIGHT unit_17 at: [26 19] power and ore: 5 0 unit queue: 1\n",
      "LIGHT unit_18 at: [28 27] power and ore: 2 0 unit queue: 1\n",
      "LIGHT unit_19 at: [38 11] power and ore: 2 0 unit queue: 1\n",
      "LIGHT unit_20 at: [ 6 12] power and ore: 5 0 unit queue: 1\n",
      "LIGHT unit_21 at: [27 20] power and ore: 3 0 unit queue: 1\n",
      "LIGHT unit_22 at: [28 26] power and ore: 0 0 unit queue: 0\n",
      "LIGHT unit_23 at: [38 12] power and ore: 0 0 unit queue: 0\n",
      "LIGHT unit_24 at: [ 4 10] power and ore: 0 0 unit queue: 1\n",
      "LIGHT unit_27 at: [38 10] power and ore: 2 0 unit queue: 1\n",
      "LIGHT unit_28 at: [3 9] power and ore: 3 0 unit queue: 1\n",
      "LIGHT unit_29 at: [28 21] power and ore: 3 0 unit queue: 1\n",
      "LIGHT unit_30 at: [28 25] power and ore: 5 0 unit queue: 1\n",
      "LIGHT unit_31 at: [37 13] power and ore: 2 0 unit queue: 1\n",
      "LIGHT unit_32 at: [ 7 14] power and ore: 0 0 unit queue: 1\n",
      "LIGHT unit_33 at: [28 20] power and ore: 5 0 unit queue: 1\n",
      "LIGHT unit_35 at: [37  9] power and ore: 5 0 unit queue: 1\n",
      "\n",
      "player_0\n",
      "turn: 137\n",
      "HEAVY unit_8 at: [3 7] power and ice: 559 40 unit queue: 0\n",
      "HEAVY unit_9 at: [31 17] power and ice: 42 60 unit queue: 0\n",
      "HEAVY unit_10 at: [32 26] power and ice: 635 40 unit queue: 0\n",
      "LIGHT unit_16 at: [ 5 12] power and ore: 1 0 unit queue: 1\n",
      "LIGHT unit_17 at: [26 19] power and ore: 5 0 unit queue: 1\n",
      "LIGHT unit_18 at: [28 27] power and ore: 2 0 unit queue: 1\n",
      "LIGHT unit_19 at: [38 11] power and ore: 2 0 unit queue: 1\n",
      "LIGHT unit_20 at: [ 6 12] power and ore: 5 0 unit queue: 1\n",
      "LIGHT unit_21 at: [27 20] power and ore: 3 0 unit queue: 1\n",
      "LIGHT unit_22 at: [28 26] power and ore: 0 0 unit queue: 0\n",
      "LIGHT unit_23 at: [38 12] power and ore: 0 0 unit queue: 0\n",
      "LIGHT unit_24 at: [ 4 10] power and ore: 0 0 unit queue: 1\n",
      "LIGHT unit_27 at: [38 10] power and ore: 2 0 unit queue: 1\n",
      "LIGHT unit_28 at: [3 9] power and ore: 3 0 unit queue: 1\n",
      "LIGHT unit_29 at: [28 21] power and ore: 3 0 unit queue: 1\n",
      "LIGHT unit_30 at: [28 25] power and ore: 5 0 unit queue: 1\n",
      "LIGHT unit_31 at: [37 13] power and ore: 2 0 unit queue: 1\n",
      "LIGHT unit_32 at: [ 7 14] power and ore: 0 0 unit queue: 1\n",
      "LIGHT unit_33 at: [28 20] power and ore: 5 0 unit queue: 1\n",
      "LIGHT unit_35 at: [37  9] power and ore: 5 0 unit queue: 1\n",
      "\n",
      "player_0\n",
      "turn: 138\n",
      "HEAVY unit_8 at: [3 7] power and ice: 489 60 unit queue: 0\n",
      "HEAVY unit_9 at: [31 17] power and ice: 632 60 unit queue: 0\n",
      "HEAVY unit_10 at: [32 25] power and ice: 605 40 unit queue: 0\n",
      "LIGHT unit_16 at: [ 5 12] power and ore: 1 0 unit queue: 1\n",
      "LIGHT unit_17 at: [26 19] power and ore: 5 0 unit queue: 1\n",
      "LIGHT unit_18 at: [28 27] power and ore: 2 0 unit queue: 1\n",
      "LIGHT unit_19 at: [38 11] power and ore: 2 0 unit queue: 1\n",
      "LIGHT unit_20 at: [ 6 12] power and ore: 5 0 unit queue: 1\n",
      "LIGHT unit_21 at: [27 20] power and ore: 3 0 unit queue: 1\n",
      "LIGHT unit_22 at: [28 26] power and ore: 0 0 unit queue: 0\n",
      "LIGHT unit_23 at: [38 12] power and ore: 0 0 unit queue: 0\n",
      "LIGHT unit_24 at: [ 4 10] power and ore: 0 0 unit queue: 1\n",
      "LIGHT unit_27 at: [38 10] power and ore: 2 0 unit queue: 1\n",
      "LIGHT unit_28 at: [3 9] power and ore: 3 0 unit queue: 1\n",
      "LIGHT unit_29 at: [28 21] power and ore: 3 0 unit queue: 1\n",
      "LIGHT unit_30 at: [28 25] power and ore: 5 0 unit queue: 1\n",
      "LIGHT unit_31 at: [37 13] power and ore: 2 0 unit queue: 1\n",
      "LIGHT unit_32 at: [ 7 14] power and ore: 0 0 unit queue: 1\n",
      "LIGHT unit_33 at: [28 20] power and ore: 5 0 unit queue: 1\n",
      "LIGHT unit_35 at: [37  9] power and ore: 5 0 unit queue: 1\n",
      "\n",
      "player_0\n",
      "turn: 139\n",
      "HEAVY unit_8 at: [3 7] power and ice: 419 80 unit queue: 0\n",
      "HEAVY unit_9 at: [32 17] power and ice: 602 60 unit queue: 0\n",
      "HEAVY unit_10 at: [32 25] power and ice: 535 60 unit queue: 0\n",
      "LIGHT unit_16 at: [ 5 12] power and ore: 1 0 unit queue: 1\n",
      "LIGHT unit_17 at: [26 19] power and ore: 5 0 unit queue: 1\n",
      "LIGHT unit_18 at: [28 27] power and ore: 2 0 unit queue: 1\n",
      "LIGHT unit_19 at: [38 11] power and ore: 2 0 unit queue: 1\n",
      "LIGHT unit_20 at: [ 6 12] power and ore: 5 0 unit queue: 1\n",
      "LIGHT unit_21 at: [27 20] power and ore: 3 0 unit queue: 1\n",
      "LIGHT unit_22 at: [28 26] power and ore: 0 0 unit queue: 0\n",
      "LIGHT unit_23 at: [38 12] power and ore: 0 0 unit queue: 0\n",
      "LIGHT unit_24 at: [ 4 10] power and ore: 0 0 unit queue: 1\n",
      "LIGHT unit_27 at: [38 10] power and ore: 2 0 unit queue: 1\n",
      "LIGHT unit_28 at: [3 9] power and ore: 3 0 unit queue: 1\n",
      "LIGHT unit_29 at: [28 21] power and ore: 3 0 unit queue: 1\n",
      "LIGHT unit_30 at: [28 25] power and ore: 5 0 unit queue: 1\n",
      "LIGHT unit_31 at: [37 13] power and ore: 2 0 unit queue: 1\n",
      "LIGHT unit_32 at: [ 7 14] power and ore: 0 0 unit queue: 1\n",
      "LIGHT unit_33 at: [28 20] power and ore: 5 0 unit queue: 1\n",
      "LIGHT unit_35 at: [37  9] power and ore: 5 0 unit queue: 1\n",
      "\n",
      "player_0\n",
      "turn: 140\n",
      "HEAVY unit_8 at: [3 7] power and ice: 349 100 unit queue: 0\n",
      "HEAVY unit_9 at: [32 17] power and ice: 532 80 unit queue: 0\n",
      "HEAVY unit_10 at: [32 25] power and ice: 465 80 unit queue: 0\n",
      "LIGHT unit_16 at: [ 5 12] power and ore: 1 0 unit queue: 1\n",
      "LIGHT unit_17 at: [26 19] power and ore: 5 0 unit queue: 1\n",
      "LIGHT unit_18 at: [28 27] power and ore: 2 0 unit queue: 1\n",
      "LIGHT unit_19 at: [38 11] power and ore: 2 0 unit queue: 1\n",
      "LIGHT unit_20 at: [ 6 12] power and ore: 5 0 unit queue: 1\n",
      "LIGHT unit_21 at: [27 20] power and ore: 3 0 unit queue: 1\n",
      "LIGHT unit_22 at: [28 26] power and ore: 0 0 unit queue: 0\n",
      "LIGHT unit_23 at: [38 12] power and ore: 0 0 unit queue: 0\n",
      "LIGHT unit_24 at: [ 4 10] power and ore: 0 0 unit queue: 1\n",
      "LIGHT unit_27 at: [38 10] power and ore: 2 0 unit queue: 1\n",
      "LIGHT unit_28 at: [3 9] power and ore: 3 0 unit queue: 1\n",
      "LIGHT unit_29 at: [28 21] power and ore: 3 0 unit queue: 1\n",
      "LIGHT unit_30 at: [28 25] power and ore: 5 0 unit queue: 1\n",
      "LIGHT unit_31 at: [37 13] power and ore: 2 0 unit queue: 1\n",
      "LIGHT unit_32 at: [ 7 14] power and ore: 0 0 unit queue: 1\n",
      "LIGHT unit_33 at: [28 20] power and ore: 5 0 unit queue: 1\n",
      "LIGHT unit_35 at: [37  9] power and ore: 5 0 unit queue: 1\n",
      "\n",
      "player_0\n",
      "turn: 141\n",
      "HEAVY unit_8 at: [3 7] power and ice: 279 120 unit queue: 0\n",
      "HEAVY unit_9 at: [32 17] power and ice: 462 100 unit queue: 0\n",
      "HEAVY unit_10 at: [32 25] power and ice: 395 100 unit queue: 0\n",
      "LIGHT unit_16 at: [ 5 12] power and ore: 1 0 unit queue: 1\n",
      "LIGHT unit_17 at: [26 19] power and ore: 5 0 unit queue: 1\n",
      "LIGHT unit_18 at: [28 27] power and ore: 2 0 unit queue: 1\n",
      "LIGHT unit_19 at: [38 11] power and ore: 2 0 unit queue: 1\n",
      "LIGHT unit_20 at: [ 6 12] power and ore: 5 0 unit queue: 1\n",
      "LIGHT unit_21 at: [27 20] power and ore: 3 0 unit queue: 1\n",
      "LIGHT unit_22 at: [28 26] power and ore: 0 0 unit queue: 0\n",
      "LIGHT unit_23 at: [38 12] power and ore: 0 0 unit queue: 0\n",
      "LIGHT unit_24 at: [ 4 10] power and ore: 0 0 unit queue: 1\n",
      "LIGHT unit_27 at: [38 10] power and ore: 2 0 unit queue: 1\n",
      "LIGHT unit_28 at: [3 9] power and ore: 3 0 unit queue: 1\n",
      "LIGHT unit_29 at: [28 21] power and ore: 3 0 unit queue: 1\n",
      "LIGHT unit_30 at: [28 25] power and ore: 5 0 unit queue: 1\n",
      "LIGHT unit_31 at: [37 13] power and ore: 2 0 unit queue: 1\n",
      "LIGHT unit_32 at: [ 7 14] power and ore: 0 0 unit queue: 1\n",
      "LIGHT unit_33 at: [28 20] power and ore: 5 0 unit queue: 1\n",
      "LIGHT unit_35 at: [37  9] power and ore: 5 0 unit queue: 1\n",
      "\n",
      "player_0\n",
      "turn: 142\n",
      "HEAVY unit_8 at: [3 7] power and ice: 209 140 unit queue: 0\n",
      "HEAVY unit_9 at: [32 17] power and ice: 392 120 unit queue: 0\n",
      "HEAVY unit_10 at: [32 25] power and ice: 325 120 unit queue: 0\n",
      "LIGHT unit_16 at: [ 5 12] power and ore: 1 0 unit queue: 1\n",
      "LIGHT unit_17 at: [26 19] power and ore: 5 0 unit queue: 1\n",
      "LIGHT unit_18 at: [28 27] power and ore: 2 0 unit queue: 1\n",
      "LIGHT unit_19 at: [38 11] power and ore: 2 0 unit queue: 1\n",
      "LIGHT unit_20 at: [ 6 12] power and ore: 5 0 unit queue: 1\n",
      "LIGHT unit_21 at: [27 20] power and ore: 3 0 unit queue: 1\n",
      "LIGHT unit_22 at: [28 26] power and ore: 0 0 unit queue: 0\n",
      "LIGHT unit_23 at: [38 12] power and ore: 0 0 unit queue: 0\n",
      "LIGHT unit_24 at: [ 4 10] power and ore: 0 0 unit queue: 1\n",
      "LIGHT unit_27 at: [38 10] power and ore: 2 0 unit queue: 1\n",
      "LIGHT unit_28 at: [3 9] power and ore: 3 0 unit queue: 1\n",
      "LIGHT unit_29 at: [28 21] power and ore: 3 0 unit queue: 1\n",
      "LIGHT unit_30 at: [28 25] power and ore: 5 0 unit queue: 1\n",
      "LIGHT unit_31 at: [37 13] power and ore: 2 0 unit queue: 1\n",
      "LIGHT unit_32 at: [ 7 14] power and ore: 0 0 unit queue: 1\n",
      "LIGHT unit_33 at: [28 20] power and ore: 5 0 unit queue: 1\n",
      "LIGHT unit_35 at: [37  9] power and ore: 5 0 unit queue: 1\n",
      "\n",
      "player_0\n",
      "turn: 143\n",
      "HEAVY unit_8 at: [3 7] power and ice: 139 160 unit queue: 0\n",
      "HEAVY unit_9 at: [32 17] power and ice: 322 140 unit queue: 0\n",
      "HEAVY unit_10 at: [32 25] power and ice: 255 140 unit queue: 0\n",
      "LIGHT unit_16 at: [ 5 12] power and ore: 1 0 unit queue: 1\n",
      "LIGHT unit_17 at: [26 19] power and ore: 5 0 unit queue: 1\n",
      "LIGHT unit_18 at: [28 27] power and ore: 2 0 unit queue: 1\n",
      "LIGHT unit_19 at: [38 11] power and ore: 2 0 unit queue: 1\n",
      "LIGHT unit_20 at: [ 6 12] power and ore: 5 0 unit queue: 1\n",
      "LIGHT unit_21 at: [27 20] power and ore: 3 0 unit queue: 1\n",
      "LIGHT unit_22 at: [28 26] power and ore: 0 0 unit queue: 0\n",
      "LIGHT unit_23 at: [38 12] power and ore: 0 0 unit queue: 0\n",
      "LIGHT unit_24 at: [ 4 10] power and ore: 0 0 unit queue: 1\n",
      "LIGHT unit_27 at: [38 10] power and ore: 2 0 unit queue: 1\n",
      "LIGHT unit_28 at: [3 9] power and ore: 3 0 unit queue: 1\n",
      "LIGHT unit_29 at: [28 21] power and ore: 3 0 unit queue: 1\n",
      "LIGHT unit_30 at: [28 25] power and ore: 5 0 unit queue: 1\n",
      "LIGHT unit_31 at: [37 13] power and ore: 2 0 unit queue: 1\n",
      "LIGHT unit_32 at: [ 7 14] power and ore: 0 0 unit queue: 1\n",
      "LIGHT unit_33 at: [28 20] power and ore: 5 0 unit queue: 1\n",
      "LIGHT unit_35 at: [37  9] power and ore: 5 0 unit queue: 1\n",
      "\n",
      "player_0\n",
      "turn: 144\n",
      "HEAVY unit_8 at: [3 7] power and ice: 69 180 unit queue: 0\n",
      "HEAVY unit_9 at: [32 17] power and ice: 252 160 unit queue: 0\n",
      "HEAVY unit_10 at: [32 25] power and ice: 185 160 unit queue: 0\n",
      "LIGHT unit_16 at: [ 5 12] power and ore: 1 0 unit queue: 1\n",
      "LIGHT unit_17 at: [26 19] power and ore: 5 0 unit queue: 1\n",
      "LIGHT unit_18 at: [28 27] power and ore: 2 0 unit queue: 1\n",
      "LIGHT unit_19 at: [38 11] power and ore: 2 0 unit queue: 1\n",
      "LIGHT unit_20 at: [ 6 12] power and ore: 5 0 unit queue: 1\n",
      "LIGHT unit_21 at: [27 20] power and ore: 3 0 unit queue: 1\n",
      "LIGHT unit_22 at: [28 26] power and ore: 0 0 unit queue: 0\n",
      "LIGHT unit_23 at: [38 12] power and ore: 0 0 unit queue: 0\n",
      "LIGHT unit_24 at: [ 4 10] power and ore: 0 0 unit queue: 1\n",
      "LIGHT unit_27 at: [38 10] power and ore: 2 0 unit queue: 1\n",
      "LIGHT unit_28 at: [3 9] power and ore: 3 0 unit queue: 1\n",
      "LIGHT unit_29 at: [28 21] power and ore: 3 0 unit queue: 1\n",
      "LIGHT unit_30 at: [28 25] power and ore: 5 0 unit queue: 1\n",
      "LIGHT unit_31 at: [37 13] power and ore: 2 0 unit queue: 1\n",
      "LIGHT unit_32 at: [ 7 14] power and ore: 0 0 unit queue: 1\n",
      "LIGHT unit_33 at: [28 20] power and ore: 5 0 unit queue: 1\n",
      "LIGHT unit_35 at: [37  9] power and ore: 5 0 unit queue: 1\n",
      "\n",
      "player_0\n",
      "turn: 145\n",
      "HEAVY unit_8 at: [4 7] power and ice: 39 180 unit queue: 0\n",
      "HEAVY unit_9 at: [32 17] power and ice: 182 180 unit queue: 0\n",
      "HEAVY unit_10 at: [32 25] power and ice: 115 180 unit queue: 0\n",
      "LIGHT unit_16 at: [ 5 12] power and ore: 1 0 unit queue: 1\n",
      "LIGHT unit_17 at: [26 19] power and ore: 5 0 unit queue: 1\n",
      "LIGHT unit_18 at: [28 27] power and ore: 2 0 unit queue: 1\n",
      "LIGHT unit_19 at: [38 11] power and ore: 2 0 unit queue: 1\n",
      "LIGHT unit_20 at: [ 6 12] power and ore: 5 0 unit queue: 1\n",
      "LIGHT unit_21 at: [27 20] power and ore: 3 0 unit queue: 1\n",
      "LIGHT unit_22 at: [28 26] power and ore: 0 0 unit queue: 0\n",
      "LIGHT unit_23 at: [38 12] power and ore: 0 0 unit queue: 0\n",
      "LIGHT unit_24 at: [ 4 10] power and ore: 0 0 unit queue: 1\n",
      "LIGHT unit_27 at: [38 10] power and ore: 2 0 unit queue: 1\n",
      "LIGHT unit_28 at: [3 9] power and ore: 3 0 unit queue: 1\n",
      "LIGHT unit_29 at: [28 21] power and ore: 3 0 unit queue: 1\n",
      "LIGHT unit_30 at: [28 25] power and ore: 5 0 unit queue: 1\n",
      "LIGHT unit_31 at: [37 13] power and ore: 2 0 unit queue: 1\n",
      "LIGHT unit_32 at: [ 7 14] power and ore: 0 0 unit queue: 1\n",
      "LIGHT unit_33 at: [28 20] power and ore: 5 0 unit queue: 1\n",
      "LIGHT unit_35 at: [37  9] power and ore: 5 0 unit queue: 1\n",
      "\n",
      "player_0\n",
      "turn: 146\n",
      "HEAVY unit_8 at: [4 7] power and ice: 579 180 unit queue: 0\n",
      "HEAVY unit_9 at: [32 17] power and ice: 112 200 unit queue: 0\n",
      "HEAVY unit_10 at: [32 25] power and ice: 45 200 unit queue: 0\n",
      "LIGHT unit_16 at: [ 5 12] power and ore: 1 0 unit queue: 1\n",
      "LIGHT unit_17 at: [26 19] power and ore: 5 0 unit queue: 1\n",
      "LIGHT unit_18 at: [28 27] power and ore: 2 0 unit queue: 1\n",
      "LIGHT unit_19 at: [38 11] power and ore: 2 0 unit queue: 1\n",
      "LIGHT unit_20 at: [ 6 12] power and ore: 5 0 unit queue: 1\n",
      "LIGHT unit_21 at: [27 20] power and ore: 3 0 unit queue: 1\n",
      "LIGHT unit_22 at: [28 26] power and ore: 0 0 unit queue: 0\n",
      "LIGHT unit_23 at: [38 12] power and ore: 0 0 unit queue: 0\n",
      "LIGHT unit_24 at: [ 4 10] power and ore: 0 0 unit queue: 1\n",
      "LIGHT unit_27 at: [38 10] power and ore: 2 0 unit queue: 1\n",
      "LIGHT unit_28 at: [3 9] power and ore: 3 0 unit queue: 1\n",
      "LIGHT unit_29 at: [28 21] power and ore: 3 0 unit queue: 1\n",
      "LIGHT unit_30 at: [28 25] power and ore: 5 0 unit queue: 1\n",
      "LIGHT unit_31 at: [37 13] power and ore: 2 0 unit queue: 1\n",
      "LIGHT unit_32 at: [ 7 14] power and ore: 0 0 unit queue: 1\n",
      "LIGHT unit_33 at: [28 20] power and ore: 5 0 unit queue: 1\n",
      "LIGHT unit_35 at: [37  9] power and ore: 5 0 unit queue: 1\n",
      "\n",
      "player_0\n",
      "turn: 147\n",
      "HEAVY unit_8 at: [3 7] power and ice: 549 180 unit queue: 0\n",
      "HEAVY unit_9 at: [32 17] power and ice: 42 220 unit queue: 0\n",
      "HEAVY unit_10 at: [32 26] power and ice: 15 200 unit queue: 0\n",
      "LIGHT unit_16 at: [ 5 12] power and ore: 1 0 unit queue: 1\n",
      "LIGHT unit_17 at: [26 19] power and ore: 5 0 unit queue: 1\n",
      "LIGHT unit_18 at: [28 27] power and ore: 2 0 unit queue: 1\n",
      "LIGHT unit_19 at: [38 11] power and ore: 2 0 unit queue: 1\n",
      "LIGHT unit_20 at: [ 6 12] power and ore: 5 0 unit queue: 1\n",
      "LIGHT unit_21 at: [27 20] power and ore: 3 0 unit queue: 1\n",
      "LIGHT unit_22 at: [28 26] power and ore: 0 0 unit queue: 0\n",
      "LIGHT unit_23 at: [38 12] power and ore: 0 0 unit queue: 0\n",
      "LIGHT unit_24 at: [ 4 10] power and ore: 0 0 unit queue: 1\n",
      "LIGHT unit_27 at: [38 10] power and ore: 2 0 unit queue: 1\n",
      "LIGHT unit_28 at: [3 9] power and ore: 3 0 unit queue: 1\n",
      "LIGHT unit_29 at: [28 21] power and ore: 3 0 unit queue: 1\n",
      "LIGHT unit_30 at: [28 25] power and ore: 5 0 unit queue: 1\n",
      "LIGHT unit_31 at: [37 13] power and ore: 2 0 unit queue: 1\n",
      "LIGHT unit_32 at: [ 7 14] power and ore: 0 0 unit queue: 1\n",
      "LIGHT unit_33 at: [28 20] power and ore: 5 0 unit queue: 1\n",
      "LIGHT unit_35 at: [37  9] power and ore: 5 0 unit queue: 1\n",
      "\n",
      "player_0\n",
      "turn: 148\n",
      "HEAVY unit_8 at: [3 7] power and ice: 479 200 unit queue: 0\n",
      "HEAVY unit_9 at: [31 17] power and ice: 12 220 unit queue: 0\n",
      "HEAVY unit_10 at: [32 26] power and ice: 555 200 unit queue: 0\n",
      "LIGHT unit_16 at: [ 5 12] power and ore: 1 0 unit queue: 1\n",
      "LIGHT unit_17 at: [26 19] power and ore: 5 0 unit queue: 1\n",
      "LIGHT unit_18 at: [28 27] power and ore: 2 0 unit queue: 1\n",
      "LIGHT unit_19 at: [38 11] power and ore: 2 0 unit queue: 1\n",
      "LIGHT unit_20 at: [ 6 12] power and ore: 5 0 unit queue: 1\n",
      "LIGHT unit_21 at: [27 20] power and ore: 3 0 unit queue: 1\n",
      "LIGHT unit_22 at: [28 26] power and ore: 0 0 unit queue: 0\n",
      "LIGHT unit_23 at: [38 12] power and ore: 0 0 unit queue: 0\n",
      "LIGHT unit_24 at: [ 4 10] power and ore: 0 0 unit queue: 1\n",
      "LIGHT unit_27 at: [38 10] power and ore: 2 0 unit queue: 1\n",
      "LIGHT unit_28 at: [3 9] power and ore: 3 0 unit queue: 1\n",
      "LIGHT unit_29 at: [28 21] power and ore: 3 0 unit queue: 1\n",
      "LIGHT unit_30 at: [28 25] power and ore: 5 0 unit queue: 1\n",
      "LIGHT unit_31 at: [37 13] power and ore: 2 0 unit queue: 1\n",
      "LIGHT unit_32 at: [ 7 14] power and ore: 0 0 unit queue: 1\n",
      "LIGHT unit_33 at: [28 20] power and ore: 5 0 unit queue: 1\n",
      "LIGHT unit_35 at: [37  9] power and ore: 5 0 unit queue: 1\n",
      "\n",
      "player_0\n",
      "turn: 149\n",
      "HEAVY unit_8 at: [3 7] power and ice: 409 220 unit queue: 0\n",
      "HEAVY unit_9 at: [31 17] power and ice: 552 220 unit queue: 0\n",
      "HEAVY unit_10 at: [32 25] power and ice: 525 200 unit queue: 0\n",
      "LIGHT unit_16 at: [ 5 12] power and ore: 1 0 unit queue: 1\n",
      "LIGHT unit_17 at: [26 19] power and ore: 5 0 unit queue: 1\n",
      "LIGHT unit_18 at: [28 27] power and ore: 2 0 unit queue: 1\n",
      "LIGHT unit_19 at: [38 11] power and ore: 2 0 unit queue: 1\n",
      "LIGHT unit_20 at: [ 6 12] power and ore: 5 0 unit queue: 1\n",
      "LIGHT unit_21 at: [27 20] power and ore: 3 0 unit queue: 1\n",
      "LIGHT unit_22 at: [28 26] power and ore: 0 0 unit queue: 0\n",
      "LIGHT unit_23 at: [38 12] power and ore: 0 0 unit queue: 0\n",
      "LIGHT unit_24 at: [ 4 10] power and ore: 0 0 unit queue: 1\n",
      "LIGHT unit_27 at: [38 10] power and ore: 2 0 unit queue: 1\n",
      "LIGHT unit_28 at: [3 9] power and ore: 3 0 unit queue: 1\n",
      "LIGHT unit_29 at: [28 21] power and ore: 3 0 unit queue: 1\n",
      "LIGHT unit_30 at: [28 25] power and ore: 5 0 unit queue: 1\n",
      "LIGHT unit_31 at: [37 13] power and ore: 2 0 unit queue: 1\n",
      "LIGHT unit_32 at: [ 7 14] power and ore: 0 0 unit queue: 1\n",
      "LIGHT unit_33 at: [28 20] power and ore: 5 0 unit queue: 1\n",
      "LIGHT unit_35 at: [37  9] power and ore: 5 0 unit queue: 1\n",
      "\n",
      "player_0\n",
      "turn: 150\n",
      "HEAVY unit_8 at: [3 7] power and ice: 339 240 unit queue: 0\n",
      "HEAVY unit_9 at: [32 17] power and ice: 522 220 unit queue: 0\n",
      "HEAVY unit_10 at: [32 25] power and ice: 455 220 unit queue: 0\n",
      "LIGHT unit_16 at: [ 5 12] power and ore: 1 0 unit queue: 1\n",
      "LIGHT unit_17 at: [26 19] power and ore: 5 0 unit queue: 1\n",
      "LIGHT unit_18 at: [28 27] power and ore: 2 0 unit queue: 1\n",
      "LIGHT unit_19 at: [38 11] power and ore: 2 0 unit queue: 1\n",
      "LIGHT unit_20 at: [ 6 12] power and ore: 5 0 unit queue: 1\n",
      "LIGHT unit_21 at: [27 20] power and ore: 3 0 unit queue: 1\n",
      "LIGHT unit_22 at: [28 26] power and ore: 0 0 unit queue: 0\n",
      "LIGHT unit_23 at: [38 12] power and ore: 0 0 unit queue: 0\n",
      "LIGHT unit_24 at: [ 4 10] power and ore: 0 0 unit queue: 1\n",
      "LIGHT unit_27 at: [38 10] power and ore: 2 0 unit queue: 1\n",
      "LIGHT unit_28 at: [3 9] power and ore: 3 0 unit queue: 1\n",
      "LIGHT unit_29 at: [28 21] power and ore: 3 0 unit queue: 1\n",
      "LIGHT unit_30 at: [28 25] power and ore: 5 0 unit queue: 1\n",
      "LIGHT unit_31 at: [37 13] power and ore: 2 0 unit queue: 1\n",
      "LIGHT unit_32 at: [ 7 14] power and ore: 0 0 unit queue: 1\n",
      "LIGHT unit_33 at: [28 20] power and ore: 5 0 unit queue: 1\n",
      "LIGHT unit_35 at: [37  9] power and ore: 5 0 unit queue: 1\n",
      "\n",
      "player_0\n",
      "turn: 151\n",
      "HEAVY unit_8 at: [3 7] power and ice: 279 260 unit queue: 0\n",
      "HEAVY unit_9 at: [32 17] power and ice: 462 240 unit queue: 0\n",
      "HEAVY unit_10 at: [32 25] power and ice: 395 240 unit queue: 0\n",
      "LIGHT unit_16 at: [ 5 12] power and ore: 2 0 unit queue: 1\n",
      "LIGHT unit_17 at: [26 19] power and ore: 6 0 unit queue: 1\n",
      "LIGHT unit_18 at: [28 27] power and ore: 3 0 unit queue: 1\n",
      "LIGHT unit_19 at: [38 11] power and ore: 3 0 unit queue: 1\n",
      "LIGHT unit_20 at: [ 6 12] power and ore: 6 0 unit queue: 1\n",
      "LIGHT unit_21 at: [27 20] power and ore: 4 0 unit queue: 1\n",
      "LIGHT unit_22 at: [28 26] power and ore: 1 0 unit queue: 0\n",
      "LIGHT unit_23 at: [38 12] power and ore: 1 0 unit queue: 0\n",
      "LIGHT unit_24 at: [ 4 10] power and ore: 1 0 unit queue: 1\n",
      "LIGHT unit_27 at: [38 10] power and ore: 3 0 unit queue: 1\n",
      "LIGHT unit_28 at: [3 9] power and ore: 4 0 unit queue: 1\n",
      "LIGHT unit_29 at: [28 21] power and ore: 4 0 unit queue: 1\n",
      "LIGHT unit_30 at: [28 25] power and ore: 6 0 unit queue: 1\n",
      "LIGHT unit_31 at: [37 13] power and ore: 3 0 unit queue: 1\n",
      "LIGHT unit_32 at: [ 7 14] power and ore: 1 0 unit queue: 1\n",
      "LIGHT unit_33 at: [28 20] power and ore: 6 0 unit queue: 1\n",
      "LIGHT unit_35 at: [37  9] power and ore: 6 0 unit queue: 1\n",
      "\n",
      "player_0\n",
      "turn: 152\n",
      "HEAVY unit_8 at: [3 7] power and ice: 219 280 unit queue: 0\n",
      "HEAVY unit_9 at: [32 17] power and ice: 402 260 unit queue: 0\n",
      "HEAVY unit_10 at: [32 25] power and ice: 335 260 unit queue: 0\n",
      "LIGHT unit_16 at: [ 5 12] power and ore: 3 0 unit queue: 1\n",
      "LIGHT unit_17 at: [26 19] power and ore: 1 0 unit queue: 0\n",
      "LIGHT unit_18 at: [28 27] power and ore: 4 0 unit queue: 1\n",
      "LIGHT unit_19 at: [38 11] power and ore: 4 0 unit queue: 1\n",
      "LIGHT unit_20 at: [ 6 12] power and ore: 1 0 unit queue: 0\n",
      "LIGHT unit_21 at: [27 20] power and ore: 5 0 unit queue: 1\n",
      "LIGHT unit_22 at: [28 26] power and ore: 1 0 unit queue: 1\n",
      "LIGHT unit_23 at: [38 12] power and ore: 1 0 unit queue: 1\n",
      "LIGHT unit_24 at: [ 4 10] power and ore: 2 0 unit queue: 1\n",
      "LIGHT unit_27 at: [38 10] power and ore: 4 0 unit queue: 1\n",
      "LIGHT unit_28 at: [3 9] power and ore: 5 0 unit queue: 1\n",
      "LIGHT unit_29 at: [28 21] power and ore: 5 0 unit queue: 1\n",
      "LIGHT unit_30 at: [28 25] power and ore: 1 0 unit queue: 0\n",
      "LIGHT unit_31 at: [37 13] power and ore: 4 0 unit queue: 1\n",
      "LIGHT unit_32 at: [ 7 14] power and ore: 2 0 unit queue: 1\n",
      "LIGHT unit_33 at: [28 19] power and ore: 5 0 unit queue: 0\n",
      "LIGHT unit_35 at: [37  9] power and ore: 1 0 unit queue: 0\n",
      "\n",
      "player_0\n",
      "turn: 153\n",
      "HEAVY unit_8 at: [3 7] power and ice: 159 300 unit queue: 0\n",
      "HEAVY unit_9 at: [32 17] power and ice: 342 280 unit queue: 0\n",
      "HEAVY unit_10 at: [32 25] power and ice: 275 280 unit queue: 0\n",
      "LIGHT unit_16 at: [ 5 12] power and ore: 4 0 unit queue: 1\n",
      "LIGHT unit_17 at: [26 19] power and ore: 1 0 unit queue: 1\n",
      "LIGHT unit_18 at: [28 27] power and ore: 5 0 unit queue: 1\n",
      "LIGHT unit_19 at: [38 11] power and ore: 5 0 unit queue: 1\n",
      "LIGHT unit_20 at: [ 6 12] power and ore: 1 0 unit queue: 1\n",
      "LIGHT unit_21 at: [27 20] power and ore: 6 0 unit queue: 1\n",
      "LIGHT unit_22 at: [28 26] power and ore: 2 0 unit queue: 1\n",
      "LIGHT unit_23 at: [38 12] power and ore: 2 0 unit queue: 1\n",
      "LIGHT unit_24 at: [ 4 10] power and ore: 3 0 unit queue: 1\n",
      "LIGHT unit_27 at: [38 10] power and ore: 5 0 unit queue: 1\n",
      "LIGHT unit_28 at: [3 9] power and ore: 6 0 unit queue: 1\n",
      "LIGHT unit_29 at: [28 21] power and ore: 6 0 unit queue: 1\n",
      "LIGHT unit_30 at: [28 25] power and ore: 1 0 unit queue: 1\n",
      "LIGHT unit_31 at: [37 13] power and ore: 5 0 unit queue: 1\n",
      "LIGHT unit_32 at: [ 7 14] power and ore: 3 0 unit queue: 1\n",
      "LIGHT unit_33 at: [28 19] power and ore: 5 0 unit queue: 1\n",
      "LIGHT unit_35 at: [37  9] power and ore: 1 0 unit queue: 1\n",
      "\n",
      "player_0\n",
      "turn: 154\n",
      "HEAVY unit_8 at: [3 7] power and ice: 99 320 unit queue: 0\n",
      "HEAVY unit_9 at: [32 17] power and ice: 282 300 unit queue: 0\n",
      "LIGHT unit_16 at: [ 5 12] power and ore: 5 0 unit queue: 1\n",
      "LIGHT unit_17 at: [26 19] power and ore: 2 0 unit queue: 1\n",
      "LIGHT unit_18 at: [28 27] power and ore: 6 0 unit queue: 1\n",
      "LIGHT unit_19 at: [38 11] power and ore: 6 0 unit queue: 1\n",
      "LIGHT unit_20 at: [ 6 12] power and ore: 2 0 unit queue: 1\n",
      "LIGHT unit_21 at: [27 20] power and ore: 1 0 unit queue: 0\n",
      "LIGHT unit_22 at: [28 26] power and ore: 3 0 unit queue: 1\n",
      "LIGHT unit_23 at: [38 12] power and ore: 3 0 unit queue: 1\n",
      "LIGHT unit_24 at: [ 4 10] power and ore: 4 0 unit queue: 1\n",
      "LIGHT unit_27 at: [38 10] power and ore: 6 0 unit queue: 1\n",
      "LIGHT unit_28 at: [3 9] power and ore: 1 0 unit queue: 0\n",
      "LIGHT unit_29 at: [28 21] power and ore: 1 0 unit queue: 0\n",
      "LIGHT unit_30 at: [28 25] power and ore: 2 0 unit queue: 1\n",
      "LIGHT unit_31 at: [37 13] power and ore: 6 0 unit queue: 1\n",
      "LIGHT unit_32 at: [ 7 14] power and ore: 4 0 unit queue: 1\n",
      "LIGHT unit_33 at: [28 19] power and ore: 6 0 unit queue: 1\n",
      "LIGHT unit_35 at: [37  9] power and ore: 2 0 unit queue: 1\n",
      "\n",
      "player_0\n",
      "turn: 155\n",
      "HEAVY unit_8 at: [4 7] power and ice: 79 320 unit queue: 0\n",
      "HEAVY unit_9 at: [32 17] power and ice: 222 320 unit queue: 0\n",
      "LIGHT unit_16 at: [ 5 12] power and ore: 6 0 unit queue: 1\n",
      "LIGHT unit_17 at: [26 19] power and ore: 3 0 unit queue: 1\n",
      "LIGHT unit_18 at: [28 27] power and ore: 1 0 unit queue: 0\n",
      "LIGHT unit_19 at: [38 11] power and ore: 1 0 unit queue: 0\n",
      "LIGHT unit_20 at: [ 6 12] power and ore: 3 0 unit queue: 1\n",
      "LIGHT unit_21 at: [27 20] power and ore: 1 0 unit queue: 1\n",
      "LIGHT unit_22 at: [28 26] power and ore: 4 0 unit queue: 1\n",
      "LIGHT unit_23 at: [38 12] power and ore: 4 0 unit queue: 1\n",
      "LIGHT unit_24 at: [ 4 10] power and ore: 5 0 unit queue: 1\n",
      "LIGHT unit_27 at: [38 10] power and ore: 1 0 unit queue: 0\n",
      "LIGHT unit_28 at: [3 9] power and ore: 1 0 unit queue: 1\n",
      "LIGHT unit_29 at: [28 21] power and ore: 1 0 unit queue: 1\n",
      "LIGHT unit_30 at: [28 25] power and ore: 3 0 unit queue: 1\n",
      "LIGHT unit_31 at: [37 13] power and ore: 1 0 unit queue: 0\n",
      "LIGHT unit_32 at: [ 7 14] power and ore: 5 0 unit queue: 1\n",
      "LIGHT unit_33 at: [27 19] power and ore: 5 0 unit queue: 0\n",
      "LIGHT unit_35 at: [37  9] power and ore: 3 0 unit queue: 1\n",
      "\n",
      "player_0\n",
      "turn: 156\n",
      "HEAVY unit_8 at: [4 7] power and ice: 579 320 unit queue: 0\n",
      "HEAVY unit_9 at: [32 17] power and ice: 162 340 unit queue: 0\n",
      "LIGHT unit_16 at: [ 5 12] power and ore: 1 0 unit queue: 0\n",
      "LIGHT unit_17 at: [26 19] power and ore: 4 0 unit queue: 1\n",
      "LIGHT unit_18 at: [28 27] power and ore: 1 0 unit queue: 1\n",
      "LIGHT unit_19 at: [38 11] power and ore: 1 0 unit queue: 1\n",
      "LIGHT unit_20 at: [ 6 12] power and ore: 4 0 unit queue: 1\n",
      "LIGHT unit_21 at: [27 20] power and ore: 2 0 unit queue: 1\n",
      "LIGHT unit_22 at: [28 26] power and ore: 5 0 unit queue: 1\n",
      "LIGHT unit_23 at: [38 12] power and ore: 5 0 unit queue: 1\n",
      "LIGHT unit_24 at: [ 4 10] power and ore: 6 0 unit queue: 1\n",
      "LIGHT unit_27 at: [38 10] power and ore: 1 0 unit queue: 1\n",
      "LIGHT unit_28 at: [3 9] power and ore: 2 0 unit queue: 1\n",
      "LIGHT unit_29 at: [28 21] power and ore: 2 0 unit queue: 1\n",
      "LIGHT unit_30 at: [28 25] power and ore: 4 0 unit queue: 1\n",
      "LIGHT unit_31 at: [37 13] power and ore: 1 0 unit queue: 1\n",
      "LIGHT unit_32 at: [ 7 14] power and ore: 6 0 unit queue: 1\n",
      "LIGHT unit_33 at: [27 19] power and ore: 5 0 unit queue: 1\n",
      "LIGHT unit_35 at: [37  9] power and ore: 4 0 unit queue: 1\n",
      "\n",
      "player_0\n",
      "turn: 157\n",
      "HEAVY unit_8 at: [3 7] power and ice: 559 320 unit queue: 0\n",
      "HEAVY unit_9 at: [32 17] power and ice: 102 360 unit queue: 0\n",
      "LIGHT unit_16 at: [ 5 12] power and ore: 1 0 unit queue: 1\n",
      "LIGHT unit_17 at: [26 19] power and ore: 5 0 unit queue: 1\n",
      "LIGHT unit_18 at: [28 27] power and ore: 2 0 unit queue: 1\n",
      "LIGHT unit_19 at: [38 11] power and ore: 2 0 unit queue: 1\n",
      "LIGHT unit_20 at: [ 6 12] power and ore: 5 0 unit queue: 1\n",
      "LIGHT unit_21 at: [27 20] power and ore: 3 0 unit queue: 1\n",
      "LIGHT unit_22 at: [28 26] power and ore: 6 0 unit queue: 1\n",
      "LIGHT unit_23 at: [38 12] power and ore: 6 0 unit queue: 1\n",
      "LIGHT unit_24 at: [ 4 10] power and ore: 1 0 unit queue: 0\n",
      "LIGHT unit_27 at: [38 10] power and ore: 2 0 unit queue: 1\n",
      "LIGHT unit_28 at: [3 9] power and ore: 3 0 unit queue: 1\n",
      "LIGHT unit_29 at: [28 21] power and ore: 3 0 unit queue: 1\n",
      "LIGHT unit_30 at: [28 25] power and ore: 5 0 unit queue: 1\n",
      "LIGHT unit_31 at: [37 13] power and ore: 2 0 unit queue: 1\n",
      "LIGHT unit_32 at: [ 7 14] power and ore: 1 0 unit queue: 0\n",
      "LIGHT unit_33 at: [27 19] power and ore: 6 0 unit queue: 1\n",
      "LIGHT unit_35 at: [37  9] power and ore: 5 0 unit queue: 1\n",
      "\n",
      "player_0\n",
      "turn: 158\n",
      "HEAVY unit_8 at: [3 7] power and ice: 499 340 unit queue: 0\n",
      "HEAVY unit_9 at: [32 17] power and ice: 42 380 unit queue: 0\n",
      "LIGHT unit_16 at: [ 5 12] power and ore: 2 0 unit queue: 1\n",
      "LIGHT unit_17 at: [26 19] power and ore: 6 0 unit queue: 1\n",
      "LIGHT unit_18 at: [28 27] power and ore: 3 0 unit queue: 1\n",
      "LIGHT unit_19 at: [38 11] power and ore: 3 0 unit queue: 1\n",
      "LIGHT unit_20 at: [ 6 12] power and ore: 6 0 unit queue: 1\n",
      "LIGHT unit_21 at: [27 20] power and ore: 4 0 unit queue: 1\n",
      "LIGHT unit_22 at: [28 26] power and ore: 1 0 unit queue: 0\n",
      "LIGHT unit_23 at: [38 12] power and ore: 1 0 unit queue: 0\n",
      "LIGHT unit_24 at: [ 4 10] power and ore: 1 0 unit queue: 1\n",
      "LIGHT unit_27 at: [38 10] power and ore: 3 0 unit queue: 1\n",
      "LIGHT unit_28 at: [3 9] power and ore: 4 0 unit queue: 1\n",
      "LIGHT unit_29 at: [28 21] power and ore: 4 0 unit queue: 1\n",
      "LIGHT unit_30 at: [28 25] power and ore: 6 0 unit queue: 1\n",
      "LIGHT unit_31 at: [37 13] power and ore: 3 0 unit queue: 1\n",
      "LIGHT unit_32 at: [ 7 14] power and ore: 1 0 unit queue: 1\n",
      "LIGHT unit_33 at: [28 19] power and ore: 5 0 unit queue: 0\n",
      "LIGHT unit_35 at: [37  9] power and ore: 6 0 unit queue: 1\n",
      "\n",
      "player_0\n",
      "turn: 159\n",
      "HEAVY unit_8 at: [3 7] power and ice: 439 360 unit queue: 0\n",
      "HEAVY unit_9 at: [31 17] power and ice: 22 380 unit queue: 0\n",
      "LIGHT unit_16 at: [ 5 12] power and ore: 3 0 unit queue: 1\n",
      "LIGHT unit_17 at: [26 19] power and ore: 1 0 unit queue: 0\n",
      "LIGHT unit_18 at: [28 27] power and ore: 4 0 unit queue: 1\n",
      "LIGHT unit_19 at: [38 11] power and ore: 4 0 unit queue: 1\n",
      "LIGHT unit_20 at: [ 6 12] power and ore: 1 0 unit queue: 0\n",
      "LIGHT unit_21 at: [27 20] power and ore: 5 0 unit queue: 1\n",
      "LIGHT unit_22 at: [28 26] power and ore: 1 0 unit queue: 1\n",
      "LIGHT unit_23 at: [38 12] power and ore: 1 0 unit queue: 1\n",
      "LIGHT unit_24 at: [ 4 10] power and ore: 2 0 unit queue: 1\n",
      "LIGHT unit_27 at: [38 10] power and ore: 4 0 unit queue: 1\n",
      "LIGHT unit_28 at: [3 9] power and ore: 5 0 unit queue: 1\n",
      "LIGHT unit_29 at: [28 21] power and ore: 5 0 unit queue: 1\n",
      "LIGHT unit_30 at: [28 25] power and ore: 1 0 unit queue: 0\n",
      "LIGHT unit_31 at: [37 13] power and ore: 4 0 unit queue: 1\n",
      "LIGHT unit_32 at: [ 7 14] power and ore: 2 0 unit queue: 1\n",
      "LIGHT unit_33 at: [28 19] power and ore: 5 0 unit queue: 1\n",
      "LIGHT unit_35 at: [37  9] power and ore: 1 0 unit queue: 0\n",
      "\n",
      "player_0\n",
      "turn: 160\n",
      "HEAVY unit_8 at: [3 7] power and ice: 379 380 unit queue: 0\n",
      "HEAVY unit_9 at: [31 17] power and ice: 572 380 unit queue: 0\n",
      "LIGHT unit_16 at: [ 5 12] power and ore: 4 0 unit queue: 1\n",
      "LIGHT unit_17 at: [26 19] power and ore: 1 0 unit queue: 1\n",
      "LIGHT unit_18 at: [28 27] power and ore: 5 0 unit queue: 1\n",
      "LIGHT unit_19 at: [38 11] power and ore: 5 0 unit queue: 1\n",
      "LIGHT unit_20 at: [ 6 12] power and ore: 1 0 unit queue: 1\n",
      "LIGHT unit_21 at: [27 20] power and ore: 6 0 unit queue: 1\n",
      "LIGHT unit_22 at: [28 26] power and ore: 2 0 unit queue: 1\n",
      "LIGHT unit_23 at: [38 12] power and ore: 2 0 unit queue: 1\n",
      "LIGHT unit_24 at: [ 4 10] power and ore: 3 0 unit queue: 1\n",
      "LIGHT unit_27 at: [38 10] power and ore: 5 0 unit queue: 1\n",
      "LIGHT unit_28 at: [3 9] power and ore: 6 0 unit queue: 1\n",
      "LIGHT unit_29 at: [28 21] power and ore: 6 0 unit queue: 1\n",
      "LIGHT unit_30 at: [28 25] power and ore: 1 0 unit queue: 1\n",
      "LIGHT unit_31 at: [37 13] power and ore: 5 0 unit queue: 1\n",
      "LIGHT unit_32 at: [ 7 14] power and ore: 3 0 unit queue: 1\n",
      "LIGHT unit_33 at: [28 19] power and ore: 6 0 unit queue: 1\n",
      "LIGHT unit_35 at: [37  9] power and ore: 1 0 unit queue: 1\n",
      "\n"
     ]
    },
    {
     "name": "stderr",
     "output_type": "stream",
     "text": [
      "OpenCV: FFMPEG: tag 0x30395056/'VP90' is not supported with codec id 167 and format 'webm / WebM'\n"
     ]
    },
    {
     "data": {
      "text/html": [
       "<video src=\"QfkBdHdZWLMeCZiKQn.webm\" controls  >\n",
       "      Your browser does not support the <code>video</code> element.\n",
       "    </video>"
      ],
      "text/plain": [
       "<IPython.core.display.Video object>"
      ]
     },
     "execution_count": 543,
     "metadata": {},
     "output_type": "execute_result"
    }
   ],
   "source": [
    "# imports from support files with class and functions\n",
    "import default_agent\n",
    "import lux_functions\n",
    "\n",
    "# recreate our agents and run\n",
    "player0 = env.agents[0]\n",
    "player1 = env.agents[1]\n",
    "agents = {\n",
    "    player0: Archimedes_Lever(env.agents[0], env.state.env_cfg), \n",
    "    player1: default_agent.Default_Agent(env.agents[1], env.state.env_cfg)#default_agent.Default_Agent(env.agents[1], env.state.env_cfg)\n",
    "}\n",
    "img = env.render(\"rgb_array\", width=48, height=48)\n",
    "px.imshow(img).show()\n",
    "lux_functions.interact(env=env, agents=agents, steps=1000, video=True)"
   ]
  },
  {
   "cell_type": "code",
   "execution_count": 544,
   "metadata": {},
   "outputs": [],
   "source": [
    "#!luxai-s2 archimedes_main.py main.py -v 2 -s 101 -o replay.html\n",
    "#!tar -czf submission.tar.gz *"
   ]
  }
 ],
 "metadata": {
  "kernelspec": {
   "display_name": "Python 3.10.0 64-bit",
   "language": "python",
   "name": "python3"
  },
  "language_info": {
   "codemirror_mode": {
    "name": "ipython",
    "version": 3
   },
   "file_extension": ".py",
   "mimetype": "text/x-python",
   "name": "python",
   "nbconvert_exporter": "python",
   "pygments_lexer": "ipython3",
   "version": "3.10.0"
  },
  "orig_nbformat": 4,
  "vscode": {
   "interpreter": {
    "hash": "aee8b7b246df8f9039afb4144a1f6fd8d2ca17a180786b69acc140d282b71a49"
   }
  }
 },
 "nbformat": 4,
 "nbformat_minor": 2
}
