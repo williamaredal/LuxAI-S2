{
 "cells": [
  {
   "cell_type": "code",
   "execution_count": null,
   "metadata": {},
   "outputs": [],
   "source": [
    "# In case of import requirements\n",
    "# verify version\n",
    "!python3 --version\n",
    "!pip install --upgrade luxai_s2\n",
    "!pip install importlib-metadata==4.13.0\n",
    "!pip install --upgrade moviepy # needed to render videos of episodes"
   ]
  },
  {
   "cell_type": "code",
   "execution_count": null,
   "metadata": {},
   "outputs": [],
   "source": [
    "from luxai_s2.env import LuxAI_S2\n",
    "from lux.kit import obs_to_game_state, GameState, EnvConfig\n",
    "from lux.utils import my_turn_to_place_factory, direction_to \n",
    "import matplotlib.pyplot as plt\n",
    "import numpy as np\n",
    "import plotly.express as px\n",
    "import random\n",
    "import math\n",
    "import cv2"
   ]
  },
  {
   "cell_type": "code",
   "execution_count": null,
   "metadata": {},
   "outputs": [],
   "source": [
    "'''DONE'''\n",
    "\n",
    "'''STRATEGY'''\n",
    "# TODO Make bots with ore assignments fetch power from factory with \"pickup\", as power is not utilized to full extent\n",
    "# []\n",
    "# TODO Evaluate weather to use 150-N turns to gather ore for multiplication of bots before water hoarding\n",
    "# []\n",
    "\n",
    "'''PLACEMENT LOCATIONS'''\n",
    "# TODO Simple switch from average rubble to median rubble for spawn selection better?\n",
    "# []\n",
    "\n",
    "\n",
    "'''HEAVY BEHAVIOUR'''\n",
    "# TODO Add \"hostile_facotry_ajacent\" to heavy and light overwatch functions and checks to avoid random choice of trying to attack, when it should\n",
    "#      move home (always when next to hostile factory)\n",
    "# []\n",
    "\n",
    "'''LIGHT BEHAVIOUR'''\n",
    "# TODO Set one light bot to mining assignment. If closest factory has more than 1500 power, recharge there. This bot assignment does not stop\n",
    "#      mining ore for new bots until turn N\n",
    "# []\n",
    "\n",
    "\n",
    "'''MISC'''\n",
    "# TODO Change spawn selection from using coordinates to use Djikstra algorithm to calculate distances from each ice tile, which then returns the\n",
    "#      average of the heatmap instead of ajacent rubble tiles for that ice tile.\n",
    "#      This means retooling the spawn filtering section to evaluate the spawns by their \"distance score\".\n",
    "# []\n",
    "# TODO Introduce switch for light bots toggling between curren behaviour (after turn 200), and creation of a \"human chain\" on a ore tile, if \n",
    "#      there is one ore tile N distance away from the factory center tile (can find where center coords are defined).\n",
    "#      Here one light bot is assigned as miner, while rest follows, and charges during daytime, and transfers M power forwards to mining bot.\n",
    "#      The mining bot transfers ore towards factory tile, and supporting bots towards factory, if bot is on coordinate towards factory.\n",
    "#      If no bot can recieve, the light bot starts moving towards factory to drop off ore (it has ore greater than free cargo space)\n",
    "# []"
   ]
  },
  {
   "cell_type": "code",
   "execution_count": 164,
   "metadata": {},
   "outputs": [
    {
     "data": {
      "application/vnd.plotly.v1+json": {
       "config": {
        "plotlyServerURL": "https://plot.ly"
       },
       "data": [
        {
         "hovertemplate": "x: %{x}<br>y: %{y}<br>color: [%{z[0]}, %{z[1]}, %{z[2]}]<extra></extra>",
         "name": "0",
         "source": "data:image/png;base64,iVBORw0KGgoAAAANSUhEUgAAADAAAAAwCAIAAADYYG7QAAALNUlEQVR4Xo1YfZBX1Xl+nvfetQHsTAI2JgaElY+F3fBlQDppohVXTPwAHRKlk+m002g6GrQzTWY00U7+aMZpZ2yb1lGn0PY/E0KNRg3xiyBjEFagFnB3gV1AcGO/RNCB3UX2d9+nf7z3nt/dD43P/Gb33nPe857nvF/nnMt7F04DQBKAJAHu7lLD5S5B7iokV/kKgCAJIzOj0UgkSHB54XJJQpI3o5EZacZ4zY1GmhlrswPIW7IsqbumfVbSK+mp1w8npQBIQM3JBbgAuMFSo8s9DQAIIgYCAARJJEGCpJkFyyAUsNwYv8721hgfIHnL5W3NV4QKkuh6oGvX/V23LW+/dXm7C6U5pGBz6/L225a377q/KyY2GzXh9nt33HJ5W0YamzYLg8XP4j0NIfipyZOmTpkUr2u/MN9oGZkZc+PO7+/adX8XgH986ZsIF0suCBLkKltCYNf9XZmVC86MGWm0h7feDuDGxfMSm6wyUjCxoFKPg8DUKZNSlxkzs1fu2xnqAJAkuXlP76gxta4Yu+N7O7++rP2V+3Zm4R7i5/95mORzbxypi6EiQJI/XP5ZlWvFVW0zAdy1csOPu+4JuXfPDsUDgLs7/yUe/mnr7U/s7XXBQgtKvVIZ9V9b1h6S91RDOh+6MixHhsEsM8vNzGjlGkotOcmIb0nbDh1fOX/WI9vuOA0oRWYN1/7dlRJ+7srMTCDLjGsSamYWAHQ+dGXIiKkNLli4VpLgpEnBhmROlnM7IOmlnmNVkvv1i+aGCgDP7u9ftf8qgIJijuASyR9TCYiEr/s/EmXNkran9x2uL1JAIcFhBievbpv56763SPDBFZe4KxWeQh6vLoX2Um81SVK6Zsm8LQf6Uy1BFAJ3l26oraSOp/f1AamARR1iRutsbw39rx4ZsAldk1DFWvlaZ0PyxsXzkqnTQzSWchVS/I3pWdVxWWd7a3qVajXNABJWK0UoA7Z8DjaS1iyZFw/xN8wZv9QIYNqFk6ddODnGPrz19mf295W+rvCVhbPTM4Bf970FIGfM6YDBHZ0dswD88sARAEa4QDDVXkk3L21WSwApzrYc6Jd04+J5qStl6NP7+kpLg0CZm19dOCdJfnLyJ94fPheezzMaAJq+PGd6aYNm6R+LOptpF06uF4XrF85BZZvA0/v64nW8BxMIfnLyJwDcefWGPzl6AwDLM8sz+9LcGalcv9hzrHosV4Na9ATCF+GU5Jc6SgeVodUcXpUuPN99NAmfOffBP2//82BiuVlully7/dBxqyLvw1Y2nkFiFl0kiTIWxiNao+eulRuicc+b/xVM8pbMIrcJWuyFTpJm5u51u0Qs/1aQ/MX+voi/CUEg9hGCj738rTMkQbNmLSitGriqbWZsOoyFkslrHx91hXVY5USimf87+gdee/Pt1JNLWjLjYtXOPSvnzxL0QvcxAqyiNJlnvL/G44ZFc3+xv6/eEsOD6PPdR0mu6rgs9UoqDwoAH75y1tJLPwtAKOtyIvfcG0ej8haS9Fs4vTd0DlWGltk6JhFS9FS2iSB79chAi2WZlUcR/v0fXCrgitZLALi0/dCJhvvKBbMASGV1iRMPgNVVmRnP6f3hcy8fPN5wjRRF4d5w3bR41Aby7P5+I6JQBafIpFePDORmsY0QsIZ7o3AAlXkUoZxWGbEZWfPs/v5S/USIE1bAiGf296EKxLBNCvNPTZ4EQND2Q8ddKuQuNQpvuNtI4Q33V/reCtE/nD+rs6M1GTtUGJGVWVBOUHZXOHPug3KzBOL4RzIjtxxoLmBMckh4oftYIYUJGu4N95HCrXAv3F268+oNUrMwSJJ00+K5QSLmq+8Mp4eG3xs6997QufeHzwHY0T8QPMxo5B3fnxFDkjxJY6k2Wq77/GVShCxcCib8q6WfJvnEXS8+uu1bAKKQB2JnSPYYZxe8fOhEeUovPVLemYrC41AVYl9dODuZPNhMu3DyqcFhEt9euTHmvWvlhq89ukoSv7f4IgOvrZKwTgjAu2eHPozQr3qPpwNoapTkgLtU5qYAfGUiQgCCU9okBL3YcywvXA4J+vbKjekonVDPplODw893H7XqkkBCUgFA+sZ3PwPg8Yf+JyQ721u39r6ZAQXglYvSTSah3nJ6aPj5N44KcbqtCX003F2SV8VGgnvJBsA3vvsZ91JdZ3urQ5LcHRPVpPEQIKl5QHtk2x213gmg5ikMhbyQP7n+pc6O1v/e0vRyw72QR6RKcOn6RXM/DpuEvJ4IH4GTZ4cINFyAo4qbR7bdIWH9NRufxB8D2PjgAIF0Co3NIdh8HEYESOYtWZZWcHpoGIA0gb8BPLH3oBklFlJGAohxD2+9/bH9J0KGoKmI9qRWwEVVLJ6MzA1hsj5RbkYyz40Objt4PBwRyzo1OFwXDS0Nd4oZaWKBMqhDYPXieXGjUHWhRi0hTp4dCg2BJ//jUGa85fL5qQUAwSwzAyzLrLpdw8AXuo/V5VCx2bS7J2rXiPtI4YV7MdF5R1LhrpqP3jkzKGnT7p6f7u6Jlthdqv4mMjLLLDcShqKYQHvCpt09kiQIonDbivbQKIDV4ZrVhbMewe+cGQTwk9d6yGYdq39UqSMK7IfG9KnB4XfPDqVjfLCJxEEVH2koyTVL2kjcvLRt7RfmJ4G/uPZfH+/qrnyIJ/b2puiJgaeHhmMLqvQgJ8jRSRBrfWZfX3N/AQAkNoEUpwnpcFKHSwYy1WMAwNQpk6JMv9B9LCOfunvrrY+uyjOLsyxJrvvOxSF63eebB7nAaFUTY+qUSeuv2RjPkVO/97tTAPzoxW/WxZKqU4PDAJ57o7x4rH3k2nXfuZikxccGEv/7y0nXLGgFSr+g2inDUzEskHx88uxQ3Ug/7roHo232zpnBMfGwdtmCCDtJWw70Z2YgSWbk5n/4vzwzErZ6/dQvz7101DhA0pol81xSdUADQJZsfvJamS8fgQjnx7u6rUqp267oiC4BT71+OLbeP733ElbHG4Kr10/l3/7+dJe+OGc6apGr0kwlJG3a3RO9BEmsu6KD5PgwCpw8OzRmyB+t6EAtln+292Ce2QV5dkGeXdcxm8SO/oFIMVtz91QAO4/8Zkf/wCt9J8ZEjFRyW3dFR1gokjOpHoN3zgyGbf5978GacNkrKdawdtkCkjcsmhtsUEXCmrun8sEVlxBl9jfcRxrFVfNnavTuEXP8dE8vEeYtP9qNsVCIbd7Tm2Q27+mVdOvy9rpYMIxFhb2N3HnkNxGxubuycCCYm31pwYzxgZwQM31E3m3a3ZOZZeTaZQsABJXkf5Kb9/TmZnlmNy9tI7ij/62WLCutKLgrF2J6kvji7OkAHCJwanA4RRLJTVXhj9f0PAbRFWzGICyXm2XGlsxe6j02qSVPbMrwBXJ3ERCxYvbn0uCXD534YKQxUhTnG164N6pz11/+9Zwf/eAoInUr4fBUYF2VSnUBAJt291h8mCZbMsvNWrIsMwvnSJDgLndZIRWuhnsa/OqRgaxcimXZqM/qANJmzmobJzlj9fkZq88nsfj3s70HN+/pnX7TB2FdkmbMMsYnl9jOUW0ADffCVUh8YMmn4w4bl9mQiDvbSOEjRXG+UTQKH6mMZGR8XyZ4y+VtT71+eP0PZgUPAG8/+zvx8OTrh+K2FbsNyRazSPWWLAsjRSUE4K5g4y7et+iiuMrEX5KqbjPuGnFvFMX5hje8aHhJKCPTl/k7H5iZ2AQe++GJsH/hzctQbswtuyC3PMtazD5sukLKY4C7RKMUEqGaZGYEMgBogPBCqi6v5dfdkPy3v3kbwJ/d9zkAuVnhEkXSIKBcQLCpMgqFVBTldBIKefju/wGJO4FkL7Kd6QAAAABJRU5ErkJggg==",
         "type": "image",
         "xaxis": "x",
         "yaxis": "y"
        }
       ],
       "layout": {
        "margin": {
         "t": 60
        },
        "template": {
         "data": {
          "bar": [
           {
            "error_x": {
             "color": "#2a3f5f"
            },
            "error_y": {
             "color": "#2a3f5f"
            },
            "marker": {
             "line": {
              "color": "#E5ECF6",
              "width": 0.5
             },
             "pattern": {
              "fillmode": "overlay",
              "size": 10,
              "solidity": 0.2
             }
            },
            "type": "bar"
           }
          ],
          "barpolar": [
           {
            "marker": {
             "line": {
              "color": "#E5ECF6",
              "width": 0.5
             },
             "pattern": {
              "fillmode": "overlay",
              "size": 10,
              "solidity": 0.2
             }
            },
            "type": "barpolar"
           }
          ],
          "carpet": [
           {
            "aaxis": {
             "endlinecolor": "#2a3f5f",
             "gridcolor": "white",
             "linecolor": "white",
             "minorgridcolor": "white",
             "startlinecolor": "#2a3f5f"
            },
            "baxis": {
             "endlinecolor": "#2a3f5f",
             "gridcolor": "white",
             "linecolor": "white",
             "minorgridcolor": "white",
             "startlinecolor": "#2a3f5f"
            },
            "type": "carpet"
           }
          ],
          "choropleth": [
           {
            "colorbar": {
             "outlinewidth": 0,
             "ticks": ""
            },
            "type": "choropleth"
           }
          ],
          "contour": [
           {
            "colorbar": {
             "outlinewidth": 0,
             "ticks": ""
            },
            "colorscale": [
             [
              0,
              "#0d0887"
             ],
             [
              0.1111111111111111,
              "#46039f"
             ],
             [
              0.2222222222222222,
              "#7201a8"
             ],
             [
              0.3333333333333333,
              "#9c179e"
             ],
             [
              0.4444444444444444,
              "#bd3786"
             ],
             [
              0.5555555555555556,
              "#d8576b"
             ],
             [
              0.6666666666666666,
              "#ed7953"
             ],
             [
              0.7777777777777778,
              "#fb9f3a"
             ],
             [
              0.8888888888888888,
              "#fdca26"
             ],
             [
              1,
              "#f0f921"
             ]
            ],
            "type": "contour"
           }
          ],
          "contourcarpet": [
           {
            "colorbar": {
             "outlinewidth": 0,
             "ticks": ""
            },
            "type": "contourcarpet"
           }
          ],
          "heatmap": [
           {
            "colorbar": {
             "outlinewidth": 0,
             "ticks": ""
            },
            "colorscale": [
             [
              0,
              "#0d0887"
             ],
             [
              0.1111111111111111,
              "#46039f"
             ],
             [
              0.2222222222222222,
              "#7201a8"
             ],
             [
              0.3333333333333333,
              "#9c179e"
             ],
             [
              0.4444444444444444,
              "#bd3786"
             ],
             [
              0.5555555555555556,
              "#d8576b"
             ],
             [
              0.6666666666666666,
              "#ed7953"
             ],
             [
              0.7777777777777778,
              "#fb9f3a"
             ],
             [
              0.8888888888888888,
              "#fdca26"
             ],
             [
              1,
              "#f0f921"
             ]
            ],
            "type": "heatmap"
           }
          ],
          "heatmapgl": [
           {
            "colorbar": {
             "outlinewidth": 0,
             "ticks": ""
            },
            "colorscale": [
             [
              0,
              "#0d0887"
             ],
             [
              0.1111111111111111,
              "#46039f"
             ],
             [
              0.2222222222222222,
              "#7201a8"
             ],
             [
              0.3333333333333333,
              "#9c179e"
             ],
             [
              0.4444444444444444,
              "#bd3786"
             ],
             [
              0.5555555555555556,
              "#d8576b"
             ],
             [
              0.6666666666666666,
              "#ed7953"
             ],
             [
              0.7777777777777778,
              "#fb9f3a"
             ],
             [
              0.8888888888888888,
              "#fdca26"
             ],
             [
              1,
              "#f0f921"
             ]
            ],
            "type": "heatmapgl"
           }
          ],
          "histogram": [
           {
            "marker": {
             "pattern": {
              "fillmode": "overlay",
              "size": 10,
              "solidity": 0.2
             }
            },
            "type": "histogram"
           }
          ],
          "histogram2d": [
           {
            "colorbar": {
             "outlinewidth": 0,
             "ticks": ""
            },
            "colorscale": [
             [
              0,
              "#0d0887"
             ],
             [
              0.1111111111111111,
              "#46039f"
             ],
             [
              0.2222222222222222,
              "#7201a8"
             ],
             [
              0.3333333333333333,
              "#9c179e"
             ],
             [
              0.4444444444444444,
              "#bd3786"
             ],
             [
              0.5555555555555556,
              "#d8576b"
             ],
             [
              0.6666666666666666,
              "#ed7953"
             ],
             [
              0.7777777777777778,
              "#fb9f3a"
             ],
             [
              0.8888888888888888,
              "#fdca26"
             ],
             [
              1,
              "#f0f921"
             ]
            ],
            "type": "histogram2d"
           }
          ],
          "histogram2dcontour": [
           {
            "colorbar": {
             "outlinewidth": 0,
             "ticks": ""
            },
            "colorscale": [
             [
              0,
              "#0d0887"
             ],
             [
              0.1111111111111111,
              "#46039f"
             ],
             [
              0.2222222222222222,
              "#7201a8"
             ],
             [
              0.3333333333333333,
              "#9c179e"
             ],
             [
              0.4444444444444444,
              "#bd3786"
             ],
             [
              0.5555555555555556,
              "#d8576b"
             ],
             [
              0.6666666666666666,
              "#ed7953"
             ],
             [
              0.7777777777777778,
              "#fb9f3a"
             ],
             [
              0.8888888888888888,
              "#fdca26"
             ],
             [
              1,
              "#f0f921"
             ]
            ],
            "type": "histogram2dcontour"
           }
          ],
          "mesh3d": [
           {
            "colorbar": {
             "outlinewidth": 0,
             "ticks": ""
            },
            "type": "mesh3d"
           }
          ],
          "parcoords": [
           {
            "line": {
             "colorbar": {
              "outlinewidth": 0,
              "ticks": ""
             }
            },
            "type": "parcoords"
           }
          ],
          "pie": [
           {
            "automargin": true,
            "type": "pie"
           }
          ],
          "scatter": [
           {
            "fillpattern": {
             "fillmode": "overlay",
             "size": 10,
             "solidity": 0.2
            },
            "type": "scatter"
           }
          ],
          "scatter3d": [
           {
            "line": {
             "colorbar": {
              "outlinewidth": 0,
              "ticks": ""
             }
            },
            "marker": {
             "colorbar": {
              "outlinewidth": 0,
              "ticks": ""
             }
            },
            "type": "scatter3d"
           }
          ],
          "scattercarpet": [
           {
            "marker": {
             "colorbar": {
              "outlinewidth": 0,
              "ticks": ""
             }
            },
            "type": "scattercarpet"
           }
          ],
          "scattergeo": [
           {
            "marker": {
             "colorbar": {
              "outlinewidth": 0,
              "ticks": ""
             }
            },
            "type": "scattergeo"
           }
          ],
          "scattergl": [
           {
            "marker": {
             "colorbar": {
              "outlinewidth": 0,
              "ticks": ""
             }
            },
            "type": "scattergl"
           }
          ],
          "scattermapbox": [
           {
            "marker": {
             "colorbar": {
              "outlinewidth": 0,
              "ticks": ""
             }
            },
            "type": "scattermapbox"
           }
          ],
          "scatterpolar": [
           {
            "marker": {
             "colorbar": {
              "outlinewidth": 0,
              "ticks": ""
             }
            },
            "type": "scatterpolar"
           }
          ],
          "scatterpolargl": [
           {
            "marker": {
             "colorbar": {
              "outlinewidth": 0,
              "ticks": ""
             }
            },
            "type": "scatterpolargl"
           }
          ],
          "scatterternary": [
           {
            "marker": {
             "colorbar": {
              "outlinewidth": 0,
              "ticks": ""
             }
            },
            "type": "scatterternary"
           }
          ],
          "surface": [
           {
            "colorbar": {
             "outlinewidth": 0,
             "ticks": ""
            },
            "colorscale": [
             [
              0,
              "#0d0887"
             ],
             [
              0.1111111111111111,
              "#46039f"
             ],
             [
              0.2222222222222222,
              "#7201a8"
             ],
             [
              0.3333333333333333,
              "#9c179e"
             ],
             [
              0.4444444444444444,
              "#bd3786"
             ],
             [
              0.5555555555555556,
              "#d8576b"
             ],
             [
              0.6666666666666666,
              "#ed7953"
             ],
             [
              0.7777777777777778,
              "#fb9f3a"
             ],
             [
              0.8888888888888888,
              "#fdca26"
             ],
             [
              1,
              "#f0f921"
             ]
            ],
            "type": "surface"
           }
          ],
          "table": [
           {
            "cells": {
             "fill": {
              "color": "#EBF0F8"
             },
             "line": {
              "color": "white"
             }
            },
            "header": {
             "fill": {
              "color": "#C8D4E3"
             },
             "line": {
              "color": "white"
             }
            },
            "type": "table"
           }
          ]
         },
         "layout": {
          "annotationdefaults": {
           "arrowcolor": "#2a3f5f",
           "arrowhead": 0,
           "arrowwidth": 1
          },
          "autotypenumbers": "strict",
          "coloraxis": {
           "colorbar": {
            "outlinewidth": 0,
            "ticks": ""
           }
          },
          "colorscale": {
           "diverging": [
            [
             0,
             "#8e0152"
            ],
            [
             0.1,
             "#c51b7d"
            ],
            [
             0.2,
             "#de77ae"
            ],
            [
             0.3,
             "#f1b6da"
            ],
            [
             0.4,
             "#fde0ef"
            ],
            [
             0.5,
             "#f7f7f7"
            ],
            [
             0.6,
             "#e6f5d0"
            ],
            [
             0.7,
             "#b8e186"
            ],
            [
             0.8,
             "#7fbc41"
            ],
            [
             0.9,
             "#4d9221"
            ],
            [
             1,
             "#276419"
            ]
           ],
           "sequential": [
            [
             0,
             "#0d0887"
            ],
            [
             0.1111111111111111,
             "#46039f"
            ],
            [
             0.2222222222222222,
             "#7201a8"
            ],
            [
             0.3333333333333333,
             "#9c179e"
            ],
            [
             0.4444444444444444,
             "#bd3786"
            ],
            [
             0.5555555555555556,
             "#d8576b"
            ],
            [
             0.6666666666666666,
             "#ed7953"
            ],
            [
             0.7777777777777778,
             "#fb9f3a"
            ],
            [
             0.8888888888888888,
             "#fdca26"
            ],
            [
             1,
             "#f0f921"
            ]
           ],
           "sequentialminus": [
            [
             0,
             "#0d0887"
            ],
            [
             0.1111111111111111,
             "#46039f"
            ],
            [
             0.2222222222222222,
             "#7201a8"
            ],
            [
             0.3333333333333333,
             "#9c179e"
            ],
            [
             0.4444444444444444,
             "#bd3786"
            ],
            [
             0.5555555555555556,
             "#d8576b"
            ],
            [
             0.6666666666666666,
             "#ed7953"
            ],
            [
             0.7777777777777778,
             "#fb9f3a"
            ],
            [
             0.8888888888888888,
             "#fdca26"
            ],
            [
             1,
             "#f0f921"
            ]
           ]
          },
          "colorway": [
           "#636efa",
           "#EF553B",
           "#00cc96",
           "#ab63fa",
           "#FFA15A",
           "#19d3f3",
           "#FF6692",
           "#B6E880",
           "#FF97FF",
           "#FECB52"
          ],
          "font": {
           "color": "#2a3f5f"
          },
          "geo": {
           "bgcolor": "white",
           "lakecolor": "white",
           "landcolor": "#E5ECF6",
           "showlakes": true,
           "showland": true,
           "subunitcolor": "white"
          },
          "hoverlabel": {
           "align": "left"
          },
          "hovermode": "closest",
          "mapbox": {
           "style": "light"
          },
          "paper_bgcolor": "white",
          "plot_bgcolor": "#E5ECF6",
          "polar": {
           "angularaxis": {
            "gridcolor": "white",
            "linecolor": "white",
            "ticks": ""
           },
           "bgcolor": "#E5ECF6",
           "radialaxis": {
            "gridcolor": "white",
            "linecolor": "white",
            "ticks": ""
           }
          },
          "scene": {
           "xaxis": {
            "backgroundcolor": "#E5ECF6",
            "gridcolor": "white",
            "gridwidth": 2,
            "linecolor": "white",
            "showbackground": true,
            "ticks": "",
            "zerolinecolor": "white"
           },
           "yaxis": {
            "backgroundcolor": "#E5ECF6",
            "gridcolor": "white",
            "gridwidth": 2,
            "linecolor": "white",
            "showbackground": true,
            "ticks": "",
            "zerolinecolor": "white"
           },
           "zaxis": {
            "backgroundcolor": "#E5ECF6",
            "gridcolor": "white",
            "gridwidth": 2,
            "linecolor": "white",
            "showbackground": true,
            "ticks": "",
            "zerolinecolor": "white"
           }
          },
          "shapedefaults": {
           "line": {
            "color": "#2a3f5f"
           }
          },
          "ternary": {
           "aaxis": {
            "gridcolor": "white",
            "linecolor": "white",
            "ticks": ""
           },
           "baxis": {
            "gridcolor": "white",
            "linecolor": "white",
            "ticks": ""
           },
           "bgcolor": "#E5ECF6",
           "caxis": {
            "gridcolor": "white",
            "linecolor": "white",
            "ticks": ""
           }
          },
          "title": {
           "x": 0.05
          },
          "xaxis": {
           "automargin": true,
           "gridcolor": "white",
           "linecolor": "white",
           "ticks": "",
           "title": {
            "standoff": 15
           },
           "zerolinecolor": "white",
           "zerolinewidth": 2
          },
          "yaxis": {
           "automargin": true,
           "gridcolor": "white",
           "linecolor": "white",
           "ticks": "",
           "title": {
            "standoff": 15
           },
           "zerolinecolor": "white",
           "zerolinewidth": 2
          }
         }
        },
        "xaxis": {
         "anchor": "y",
         "domain": [
          0,
          1
         ]
        },
        "yaxis": {
         "anchor": "x",
         "domain": [
          0,
          1
         ]
        }
       }
      }
     },
     "metadata": {},
     "output_type": "display_data"
    }
   ],
   "source": [
    "env = LuxAI_S2() # create the environment object\n",
    "obs = env.reset(seed=1051943745) # resets an environment with a seed\n",
    "\n",
    "# the observation is always composed of observations for both players.\n",
    "obs.keys(), obs[\"player_0\"].keys()\n",
    "\n",
    "# visualize the environment so far with rgb_array to get a quick look at the map\n",
    "# dark orange - high rubble, light orange - low rubble\n",
    "# blue = ice, yellow = ore\n",
    "img = env.render(\"rgb_array\", width=48, height=48)\n",
    "px.imshow(img).show()"
   ]
  },
  {
   "cell_type": "code",
   "execution_count": 165,
   "metadata": {},
   "outputs": [],
   "source": [
    "# TODO can be replaced with the interval method for searching in a square radius, perhaps not required to have else vision\n",
    "def rubble_tile_vision(x, y, rubble_map):\n",
    "    height = len(rubble_map) - 1\n",
    "    width = len(rubble_map[0]) - 1\n",
    "    vision_coords =  [\n",
    "\n",
    "        [x-1, y], [x, y-1], # left and top\n",
    "        [x+1, y], [x, y+1], # right and bottom\n",
    "        [x-1, y-1], [x+1, y-1], # diagonals\n",
    "        [x-1, y+1], [x+1, y+1], # diagonals\n",
    "        [x-2, y],   [x, y-2], # left and top \n",
    "        [x+2, y],   [x, y+2], # right and bottom \n",
    "        [x-2, y-1], [x-1, y-2], [x-2, y-2], # left and top diagonals \n",
    "        [x+2, y+1], [x+1, y+2], [x+2, y+2], # right and bottom diagonals \n",
    "        [x+2, y-1], [x+1, y-2], [x+2, y-2], # right and top diagonals \n",
    "        [x-2, y+1], [x-1, y+2], [x-2, y+2], # left and bottom diagonals \n",
    "\n",
    "        # feeler coords\n",
    "        [x-3, y],   [x, y-3], # left and top \n",
    "        [x+3, y],   [x, y+3], # right and bottom \n",
    "\n",
    "        [x, y-5],\n",
    "        [x-2, y-3], [x+2, y-3],\n",
    "        [x-5, y-2], [x-3, y-2], [x+3, y-2], [x+5, y-2],\n",
    "        [x+4, y-1], [x-4, y-1],\n",
    "        [x-6, y], [x+6, y],\n",
    "        [x+4, y+1], [x-4, y+1],\n",
    "        [x-5, y+2], [x-3, y+2], [x+3, y+2], [x+5, y+2],\n",
    "        [x-2, y+3], [x+2, y+3],\n",
    "        [x, y+5],\n",
    "\n",
    "    ]\n",
    "\n",
    "    return [(rubble_coord, rubble_map[rubble_coord[0]][rubble_coord[1]]) for rubble_coord in vision_coords \n",
    "        if rubble_coord[0] >= 0 and rubble_coord[0] <= width and\n",
    "           rubble_coord[1] >= 0 and rubble_coord[1] <= height\n",
    "    ]\n",
    "'''\n",
    "                  [ ]\n",
    "            [ ]   ^-5   [ ]\n",
    "    [ ]  [ ]      [ ]      [ ]   [ ]\n",
    "               [ ][ ][ ]   \n",
    "      [ ]   [ ][ ][ ][ ][ ]   [ ]\n",
    "[ ]      [ ][ ][ ] x [ ][ ][ ]      [ ]\n",
    "^-6   [ ]   [ ][ ][ ][ ][ ]   [ ]   ^+6\n",
    "               [ ][ ][ ]   \n",
    "    [ ]  [ ]      [ ]      [ ]   [ ]\n",
    "            [ ]         [ ]\n",
    "                  [ ]\n",
    "                  ^+5\n",
    "'''\n",
    "\n",
    "\n",
    "# TODO replace use of this function with the interval function\n",
    "def get_factory_tiles_from_center(x, y):\n",
    "    return np.array([\n",
    "        (x, y), # factory center\n",
    "        (x-1, y), (x, y-1), # left and top\n",
    "        (x+1, y), (x, y+1), # right and bottom\n",
    "        (x-1, y-1), (x+1, y-1), # diagonals\n",
    "        (x-1, y+1), (x+1, y+1), # diagonals\n",
    "    ]) \n",
    "'''\n",
    "[.][.][.]\n",
    "[.][.][.]\n",
    "[.][.][.]\n",
    "'''\n",
    "\n",
    "\n",
    "def get_factory_occupied_tiles(x, y):\n",
    "    return np.array([\n",
    "        (x, y), # factory center\n",
    "        (x-1, y), (x, y-1), # left and top\n",
    "        (x+1, y), (x, y+1), # right and bottom\n",
    "        (x-1, y-1), (x+1, y-1), # diagonals\n",
    "        (x-1, y+1), (x+1, y+1), # diagonals\n",
    "        (x-2, y), (x, y-2), # left and top \n",
    "        (x+2, y), (x, y+2), # right and bottom \n",
    "        (x-2, y-1), (x-1, y-2), (x-2, y-2), # left and top diagonals \n",
    "        (x+2, y+1), (x+1, y+2), (x+2, y+2), # right and bottom diagonals \n",
    "        (x+2, y-1), (x+1, y-2), (x+2, y-2), # right and top diagonals \n",
    "        (x-2, y+1), (x-1, y+2), (x-2, y+2), # left and bottom diagonals \n",
    "        (x-3, y), (x, y-3), (x+3, y), (x, y+3), # left and top\n",
    "        (x-3, y), (x, y-3), (x+3, y), (x, y+3), # right and bottom\n",
    "        (x-3, y-1), (x-1, y-3), (x-3, y-3), # left and top diagonals \n",
    "        (x+3, y+1), (x+1, y+3), (x+3, y+3), # right and bottom diagonals \n",
    "        (x+3, y-1), (x+1, y-3), (x+3, y-3), # left and top diagonals \n",
    "        (x-3, y+1), (x-1, y+3), (x-3, y+3), # right and bottom diagonals \n",
    "        (x-4, y), (x, y-4), (x+4, y), (x, y+4), # left and top\n",
    "        (x-5, y), (x, y-5), (x+5, y), (x, y+5), # right and bottom\n",
    "    ]) \n",
    "'''\n",
    "    [ ][ ][.][ ][ ]\n",
    "    [ ][ ][.][ ][ ]\n",
    "    [ ][.][.][.][ ]\n",
    " [.][.][.][X][.][.][.]\n",
    "    [ ][.][.][.][ ]\n",
    "    [ ][ ][.][ ][ ]\n",
    "    [ ][ ][.][ ][ ]\n",
    "'''\n",
    "\n",
    "\n",
    "def get_tiles_by_interval(x, y, interval_x, interval_y):\n",
    "    coordinates = np.array(\n",
    "        [(x + n, y + m) for n in range((-1 * interval_x), interval_x +1) for m in range((-1 * interval_y), interval_y +1) if (0 <= (x + n) <= 47) and (0 <= (y + m) <= 47)]\n",
    "    )\n",
    "    return coordinates\n",
    "'''\n",
    "    ^ interval y\n",
    "    [ ][ ][ ]\n",
    "    [ ][ ][ ]\n",
    "    [ ][ ][ ]\n",
    "    interval x ->\n",
    "'''\n",
    "\n",
    "\n",
    "# TODO use this so i can remove opponent factory tile neighbours from rubble removal\n",
    "def get_surrounding_tiles_by_interval(x, y, interval_x, interval_y):\n",
    "    coordinates = np.array(\n",
    "        [\n",
    "            (x + n, y + m) for n in range((-1 * interval_x), interval_x +1) for m in range((-1 * interval_y), interval_y +1) if\n",
    "            (0 <= (x + n) <= 47) and (n < -1 or n > 1 or m < -1 or m > 1) and\n",
    "            (0 <= (y + m) <= 47) #and (m < -1 or m > 1)\n",
    "        ]\n",
    "    )\n",
    "    return coordinates \n",
    "'''\n",
    "X = not marked factory tiles\n",
    "    ^ interval y\n",
    "    [ ][ ][ ][ ][ ][ ][ ]\n",
    "    [ ][ ][ ][ ][ ][ ][ ]\n",
    "    [ ][ ][X][X][X][ ][ ]\n",
    "    [ ][ ][X][X][X][ ][ ]\n",
    "    [ ][ ][X][X][X][ ][ ]\n",
    "    [ ][ ][ ][ ][ ][ ][ ]\n",
    "    [ ][ ][ ][ ][ ][ ][ ]\n",
    "    interval x ->\n",
    "'''\n",
    "\n",
    "\n",
    "def get_bordering_coords(x, y):\n",
    "    return np.array([\n",
    "        (x, y), # center\n",
    "        (x-1, y), (x, y-1), # left and top\n",
    "        (x+1, y), (x, y+1), # right and bottom\n",
    "        (x-1, y-1), (x+1, y-1), # diagonals\n",
    "        (x-1, y+1), (x+1, y+1), # diagonals\n",
    "    ])\n",
    "\n",
    "\n",
    "# function used by Archimedes for locating resource border coordinates\n",
    "def neighbors(x, y):\n",
    "    return np.array([\n",
    "        # startes at layer 2 to give buffer, avoiding placing factory on resource\n",
    "        (x-2, y), (x, y-2), # left and top \n",
    "        (x+2, y), (x, y+2), # right and bottom \n",
    "\n",
    "        (x-2, y-1), (x-1, y-2), # (x-2, y-2), # left and top diagonals \n",
    "        (x+2, y+1), (x+1, y+2), # (x+2, y+2), # right and bottom diagonals \n",
    "\n",
    "        (x+2, y-1), (x+1, y-2), # (x+2, y-2), # right and top diagonals \n",
    "        (x-2, y+1), (x-1, y+2), # (x-2, y+2), # left and bottom diagonals \n",
    "    ])\n",
    "'''\n",
    "[ ][.][.][.][ ]\n",
    "[.][ ][ ][ ][.]\n",
    "[.][ ][X][ ][.]\n",
    "[.][ ][ ][ ][.]\n",
    "[ ][.][.][.][ ]\n",
    "'''\n",
    "\n",
    "\n",
    "def coord_from_direction(x, y, direction):\n",
    "    if direction == 0:\n",
    "        return (x, y)\n",
    "    elif direction == 1:\n",
    "        return (x, y-1)\n",
    "    elif direction == 2:\n",
    "        return (x+1, y)\n",
    "    elif direction == 3:\n",
    "        return (x, y+1)\n",
    "    elif direction == 4:\n",
    "        return (x-1, y)\n",
    "\n",
    "\n",
    "# function used by Archimedes to check if tile is occupied by other bots\n",
    "def check_tile_occupation(game_state, unit_x, unit_y, direction, booked_coords, player, opponent):\n",
    "    friendly_bots = game_state.units[player]\n",
    "    hostile_bots = game_state.units[opponent]\n",
    "\n",
    "    friendly_coords = {(unit.pos[0], unit.pos[1]): unit.unit_type for (unit_id, unit) in friendly_bots.items()}\n",
    "    hostile_coords = {(unit.pos[0], unit.pos[1]): unit.unit_type for (unit_id, unit) in hostile_bots.items()}\n",
    "\n",
    "    # a[1] = direction (1 = up, 2 = right, 3 = down, 4 = left)\n",
    "    # move_deltas = np.array([0, -1], [1, 0], [0, 1], [-1, 0]])\n",
    "    bot_up = (unit_x, unit_y - 1)\n",
    "    bot_right = (unit_x + 1, unit_y)\n",
    "    bot_down = (unit_x, unit_y + 1)\n",
    "    bot_left = (unit_x - 1, unit_y)\n",
    "\n",
    "\n",
    "    # checks if no friendly is on direction tile, if none, direction remains, else set to 0\n",
    "    up_friendly = (bot_up not in friendly_coords and (not any([bot_up == b_coord for b_coord in booked_coords]) or len(booked_coords) == 0)) * 1\n",
    "    right_friendly = (bot_right not in friendly_coords and (not any([bot_right == b_coord for b_coord in booked_coords]) or len(booked_coords) == 0)) * 2\n",
    "    down_friendly = (bot_down not in friendly_coords and (not any([bot_down == b_coord for b_coord in booked_coords]) or len(booked_coords) == 0)) * 3\n",
    "    left_friendly = (bot_left not in friendly_coords and (not any([bot_left == b_coord for b_coord in booked_coords]) or len(booked_coords) == 0)) * 4\n",
    "\n",
    "    # checks if hostile bot is on direction tile, if there is one of type 'LIGHT', direction remains, else set to 0\n",
    "    up_hostile = True if (bot_up not in hostile_coords) or (bot_up in hostile_coords and hostile_coords[bot_up] == 'LIGHT' ) else False\n",
    "    right_hostile = True if (bot_right not in hostile_coords) or (bot_right in hostile_coords and hostile_coords[bot_right] == 'LIGHT' ) else False\n",
    "    down_hostile = True if (bot_down not in hostile_coords) or (bot_down in hostile_coords and hostile_coords[bot_down] == 'LIGHT' ) else False\n",
    "    left_hostile = True if (bot_left not in hostile_coords) or (bot_left in hostile_coords and hostile_coords[bot_left] == 'LIGHT' ) else False\n",
    "\n",
    "    # sets non occupied tile directions\n",
    "    up_free = up_friendly * up_hostile\n",
    "    right_free = right_friendly * right_hostile\n",
    "    down_free = down_friendly * down_hostile\n",
    "    left_free = left_friendly * left_hostile\n",
    "\n",
    "\n",
    "    # finds possible directions not occupied by friendly bots and hostile bots\n",
    "    directions = [up_free, right_free, down_free, left_free]\n",
    "    if direction in directions:\n",
    "        return direction\n",
    "    \n",
    "    elif sum(directions) > 0:\n",
    "        alt_directions = [d for d in directions if d > 0]\n",
    "        return random.choice(alt_directions)\n",
    "    '''\n",
    "      []1\n",
    "    []2[][]4\n",
    "      []3\n",
    "    ''' \n",
    "\n",
    "    # if all direction tiles occupied with friendly bots, recharge recommended\n",
    "    return 0\n",
    "\n",
    "\n",
    "def heavy_overwatch(unit, unit_x, unit_y, on_factory, closest_factory_tile, game_state, opponent):\n",
    "    # gets hostile bot coords\n",
    "    hostile_bots = game_state.units[opponent]\n",
    "    hostile_coords_heavy = [(unit.pos[0], unit.pos[1]) for (unit_id, unit) in hostile_bots.items() if unit.unit_type == 'HEAVY']\n",
    "\n",
    "    # coords relative to bot position\n",
    "    bot_up = (unit_x, unit_y - 1)\n",
    "    bot_right = (unit_x + 1, unit_y)\n",
    "    bot_down = (unit_x, unit_y + 1)\n",
    "    bot_left = (unit_x - 1, unit_y)\n",
    "\n",
    "    # checks if hostile bot is on directly neighbouring tiles, and is of type HEAVY\n",
    "    up_hostile = True if (bot_up in hostile_coords_heavy) else False\n",
    "    right_hostile = True if (bot_right in hostile_coords_heavy) else False\n",
    "    down_hostile = True if (bot_down in hostile_coords_heavy) else False\n",
    "    left_hostile = True if (bot_left in hostile_coords_heavy) else False\n",
    "    hostile_on_flank = (up_hostile or right_hostile or down_hostile or left_hostile)\n",
    "\n",
    "    # check for heavy hostiles on opposing tiles, if on factory tile move on hostile tile, else move to closest factory tile \n",
    "    if on_factory and hostile_on_flank:\n",
    "        up_target = up_hostile * 1\n",
    "        right_target = right_hostile * 2\n",
    "        down_target = down_hostile * 3\n",
    "        left_target = left_hostile * 4\n",
    "        directions = [up_target, right_target, down_target, left_target]\n",
    "        target_dir = [target for target in directions if target != 0]\n",
    "\n",
    "        return random.choice(target_dir)\n",
    "    \n",
    "    # attack if energy is greater than 240, but introduced random choice to disengage and move home\n",
    "    elif not on_factory and hostile_on_flank:\n",
    "        if unit.power > 240:\n",
    "            up_target = up_hostile * 1\n",
    "            right_target = right_hostile * 2\n",
    "            down_target = down_hostile * 3\n",
    "            left_target = left_hostile * 4\n",
    "            directions = [up_target, right_target, down_target, left_target, direction_to(np.array([unit_x, unit_y]), target=closest_factory_tile)]\n",
    "            target_dir = [target for target in directions if target != 0]\n",
    "            return random.choice(target_dir)\n",
    "        \n",
    "        else:\n",
    "            return direction_to(src=np.array([unit_x, unit_y]), target=closest_factory_tile)\n",
    "    \n",
    "    else:\n",
    "        return False\n",
    "\n",
    "\n",
    "def light_overwatch(unit, unit_x, unit_y, game_state, opponent):\n",
    "    # gets hostile bot coords\n",
    "    hostile_bots = game_state.units[opponent]\n",
    "    hostile_coords_heavy = [(unit.pos[0], unit.pos[1]) for (unit_id, unit) in hostile_bots.items() if unit.unit_type == 'HEAVY']\n",
    "    hostile_coords_light = [(unit.pos[0], unit.pos[1]) for (unit_id, unit) in hostile_bots.items() if unit.unit_type == 'LIGHT']\n",
    "\n",
    "    # coords relative to bot position\n",
    "    bot_up = (unit_x, unit_y - 1)\n",
    "    bot_right = (unit_x + 1, unit_y)\n",
    "    bot_down = (unit_x, unit_y + 1)\n",
    "    bot_left = (unit_x - 1, unit_y)\n",
    "\n",
    "    # checks if light hostile bot is on directly neighbouring tiles\n",
    "    up_hostile_light = True if (bot_up in hostile_coords_light) else False\n",
    "    right_hostile_light = True if (bot_right in hostile_coords_light) else False\n",
    "    down_hostile_light = True if (bot_down in hostile_coords_light) else False\n",
    "    left_hostile_light = True if (bot_left in hostile_coords_light) else False\n",
    "    light_hostile_on_flank = (up_hostile_light or right_hostile_light or down_hostile_light or left_hostile_light)\n",
    "\n",
    "    # checks if heavy hostile bot is on directly neighbouring tiles\n",
    "    up_hostile_heavy = True if (bot_up in hostile_coords_heavy) else False\n",
    "    right_hostile_heavy = True if (bot_right in hostile_coords_heavy) else False\n",
    "    down_hostile_heavy = True if (bot_down in hostile_coords_heavy) else False\n",
    "    left_hostile_heavy = True if (bot_left in hostile_coords_heavy) else False\n",
    "    heavy_hostile_on_flank = (up_hostile_heavy or right_hostile_heavy or down_hostile_heavy or left_hostile_heavy)\n",
    "\n",
    "\n",
    "    # if only heavy hostile on flank, returns direction that is away from heavy hostile\n",
    "    if heavy_hostile_on_flank and not light_hostile_on_flank:\n",
    "        if up_hostile_heavy:\n",
    "            return 3\n",
    "        elif right_hostile_heavy:\n",
    "            return 4\n",
    "        elif down_hostile_heavy:\n",
    "            return 1\n",
    "        elif left_hostile_heavy:\n",
    "            return 2\n",
    "    \n",
    "    # if light hostile on flank, attack\n",
    "    elif light_hostile_on_flank:\n",
    "        up_target = up_hostile_light * 1\n",
    "        right_target = right_hostile_light * 2\n",
    "        down_target = down_hostile_light * 3\n",
    "        left_target = left_hostile_light * 4\n",
    "        directions = [up_target, right_target, down_target, left_target]\n",
    "        target_dir = [target for target in directions if target != 0]\n",
    "        return random.choice(target_dir)\n",
    "    \n",
    "    else:\n",
    "        return False\n",
    "\n",
    "   \n",
    "\n",
    "class Archimedes_Lever():\n",
    "    def __init__(self, player: str, env_cfg: EnvConfig) -> None:\n",
    "        self.player = player\n",
    "        self.opp_player = \"player_1\" if self.player == \"player_0\" else \"player_0\"\n",
    "        self.env_cfg: EnvConfig = env_cfg\n",
    "\n",
    "    # Setup of early game\n",
    "    def early_setup(self, step: int, obs, remainingOverageTime: int = 60):\n",
    "        if step == 0:\n",
    "            # bid 0 to not waste resources bidding and declare as the default faction\n",
    "            # you can bid -n to prefer going second or n to prefer going first in placement\n",
    "            return dict(faction=\"AlphaStrike\", bid=10)\n",
    "        else:\n",
    "            game_state = obs_to_game_state(step, self.env_cfg, obs)\n",
    "            my_turn_to_evaluate_spawns = my_turn_to_place_factory(game_state.teams[self.player].place_first, step)\n",
    "\n",
    "            ### Using numpy arrays, maps out desirable spawn locations\n",
    "            # only processes map on my placement turns\n",
    "            if my_turn_to_evaluate_spawns:\n",
    "                # gets border indexes of ore coordinates and ice coordinates\n",
    "                indOre = np.transpose(np.where(game_state.board.ore > 0))\n",
    "                indIce = np.transpose(np.where(game_state.board.ice > 0))\n",
    "                indFactories = np.transpose(np.where(game_state.board.factory_occupancy_map >= 0))\n",
    "\n",
    "                # finds possible spawns around resources\n",
    "                array_spawns = np.unique(np.concatenate(\n",
    "                    [neighbors(*ind) for ind in indIce],\n",
    "                    #[neighbors(*ind) for ind in iceSpawns],\n",
    "                    ), axis=0)\n",
    "\n",
    "                # finds tiles that are occupied or invalid spawn coords\n",
    "                array_occupied_coords = np.unique(np.concatenate([get_factory_occupied_tiles(*i) for i in indFactories]), axis=0) if len(indFactories) > 0 else []\n",
    "                array_invalid_coords = np.unique(np.concatenate(\n",
    "                    (np.concatenate([get_bordering_coords(*ind) for ind in indOre], axis=0),\n",
    "                    np.concatenate([get_bordering_coords(*ind) for ind in indIce], axis=0))\n",
    "                ), axis=0)\n",
    "\n",
    "\n",
    "                # filters spawn coords for outside map coords (and those doesn't include spawns on map border), and those overlapping ivalid or occupied tiles\n",
    "                x_search_radius = 3\n",
    "                y_search_radius = 3\n",
    "                array_inside_map_spawns = [\n",
    "                    (np.array(\n",
    "                        [spawn_coord[0], spawn_coord[1]]), # first element in tuple is np array coordinate\n",
    "                        np.mean(                        # second elment in tuple is mean rubble value from ajacent coords\n",
    "                            [game_state.board.rubble[c[0]][c[1]] for c in get_surrounding_tiles_by_interval(x=spawn_coord[0], y=spawn_coord[1], interval_x=x_search_radius, interval_y=y_search_radius)]\n",
    "                        )\n",
    "                    ) for spawn_coord in array_spawns if (1 <= spawn_coord[0] <= 46) and (1 <= spawn_coord[1] <= 46)\n",
    "                ]\n",
    "                array_valid_spawns = [coord for coord in array_inside_map_spawns if \n",
    "                    all(all(coord[0] == inv_coord) == False for inv_coord in array_invalid_coords) and \n",
    "                    all(all(coord[0] == occ_coord) == False for occ_coord in array_occupied_coords)\n",
    "                ]\n",
    "\n",
    "                '''\n",
    "                # TODO mirror filtering here\n",
    "                desirable_coordinates_filtered = np.copy(game_state.board.valid_spawns_mask)\n",
    "                desirable_coordinates_filtered[desirable_coordinates_filtered == 1] = 0\n",
    "                for coord in array_valid_spawns:\n",
    "                    desirable_coordinates_filtered[coord[0]][coord[1]] == 1\n",
    "                # visualizes the map and AI vision\n",
    "                img = env.render(\"rgb_array\", width=48, height=48)\n",
    "                #px.imshow(game_state.board.rubble.T).show()\n",
    "                px.imshow(img).show()\n",
    "                px.imshow(desirable_coordinates_filtered.T).show()\n",
    "                '''\n",
    "\n",
    "                ### Factory placement period\n",
    "                # how much water and metal you have in your starting pool to give to new factories\n",
    "                water_left = game_state.teams[self.player].water\n",
    "                metal_left = game_state.teams[self.player].metal\n",
    "                \n",
    "                # how many factories you have left to place, and if its my turn to place\n",
    "                factories_to_place = game_state.teams[self.player].factories_to_place\n",
    "                my_turn_to_place = my_turn_to_place_factory(game_state.teams[self.player].place_first, step)\n",
    "\n",
    "                if factories_to_place > 0 and my_turn_to_place and len(array_valid_spawns) > 0:\n",
    "                    array_sorted_spawns = sorted(array_valid_spawns, key=lambda coord: coord[1])\n",
    "                    #print(\"spawn choices\", len(array_sorted_spawns))\n",
    "                    #print(array_sorted_spawns[0][0])\n",
    "                    spawn_loc = array_sorted_spawns[0][0]\n",
    "                    if water_left < 150 and metal_left < 150:\n",
    "                        return dict(spawn=spawn_loc, metal=metal_left, water=water_left)\n",
    "                    else:\n",
    "                        return dict(spawn=spawn_loc, metal=150, water=150)\n",
    "\n",
    "                else:\n",
    "                    # returns empty dictionary if there are no  valid spawn points to choose from\n",
    "                    return dict()\n",
    "\n",
    "            else:\n",
    "                # returns empty dictionary if no decisions were reached\n",
    "                return dict()\n",
    "\n",
    "\n",
    "    \n",
    "    # Setup of logic in the act phase\n",
    "    def act(self, step: int, obs, remainingOverageTime: int = 60):\n",
    "        # game state and other variables\n",
    "        actions = dict()\n",
    "        game_state: GameState = obs_to_game_state(step, self.env_cfg, obs)\n",
    "        game_state.teams[self.player].place_first\n",
    "\n",
    "\n",
    "        ### Factory decision making\n",
    "        factories = game_state.factories[self.player]\n",
    "        factory_tiles, factory_units, factory_centers = [], [], []\n",
    "        for unit_id, factory in factories.items():\n",
    "            center = factory.pos\n",
    "            tiles = get_factory_tiles_from_center(x=center[0], y=center[1])\n",
    "            factory_centers += [center]\n",
    "            for tile in tiles:\n",
    "                factory_tiles += [tile]\n",
    "            factory_units += [factory]\n",
    "        factory_tiles = np.array(factory_tiles)\n",
    "\n",
    "        hostile_factory_centers, hostile_factory_tiles = [], []\n",
    "        for h_unit_id, h_factory in game_state.factories[self.opp_player].items():\n",
    "            center = h_factory.pos\n",
    "            hostile_factory_centers.append(center)\n",
    "\n",
    "            tiles = get_factory_tiles_from_center(x=center[0], y=center[1])\n",
    "            for tile in tiles:\n",
    "                hostile_factory_tiles += [tile]\n",
    "        hostile_factory_tiles = np.array(hostile_factory_tiles)\n",
    "\n",
    "        # Creation of bots\n",
    "        heavy_bot_cost = self.env_cfg.ROBOTS[\"HEAVY\"]\n",
    "        light_bot_cost = self.env_cfg.ROBOTS[\"LIGHT\"]\n",
    "\n",
    "        # heavy bots\n",
    "        for unit_id, factory in factories.items():\n",
    "            if factory.power >= heavy_bot_cost.POWER_COST and factory.cargo.metal >= heavy_bot_cost.METAL_COST:\n",
    "                actions[unit_id] = factory.build_heavy()\n",
    "        \n",
    "        # light bots\n",
    "        if game_state.real_env_steps >= 1:\n",
    "            for unit_id, factory in factories.items():\n",
    "                if factory.power >= light_bot_cost.POWER_COST and factory.cargo.metal >= light_bot_cost.METAL_COST:\n",
    "                    actions[unit_id] = factory.build_light()\n",
    "\n",
    "\n",
    "        # Watering lichen if at right turn\n",
    "        growth_turn = 990 - 250 # calculations suggenst 77 turns prior\n",
    "        turns_left = 988 - game_state.real_env_steps\n",
    "        grow = game_state.real_env_steps >= growth_turn\n",
    "        for factory_id, factory in factories.items():\n",
    "            water_cost_reactor = turns_left\n",
    "            water_per_turn = 3.2\n",
    "            water_formula = (factory.cargo.water - water_cost_reactor + (water_per_turn * turns_left)) > (factory.water_cost(game_state) * turns_left)\n",
    "\n",
    "            # UNCOMMENT FOR TESTING OF LICHEN GROWTH\n",
    "            '''\n",
    "            if factory_id == 'factory_0' or factory_id == 'factory_1':\n",
    "                water_gathered = factory.cargo.water - 150 + game_state.real_env_steps\n",
    "                factory_lichen = 0\n",
    "                lichen_strain_tiles = np.argwhere(game_state.board.lichen_strains == factory.strain_id)\n",
    "                for tile in lichen_strain_tiles:\n",
    "                    factory_lichen += game_state.board.lichen[tile[0]][tile[1]]\n",
    "\n",
    "                print(str(factory.power) + \",\" +  str(water_gathered) + ',' + str(factory.cargo.water) + \",\" + str(factory.water_cost(game_state)) + ',' + str(factory_lichen))\n",
    "\n",
    "            if(factory.can_water(game_state) and factory.power < 2000 and factory.cargo.water > 150):\n",
    "                actions[factory_id] = factory.water()\n",
    "            '''\n",
    "\n",
    "            factory_power_formula = factory.can_water(game_state) and factory.power < 1000 and factory.cargo.water > 100 and factory.water_cost(game_state) < 3 and (game_state.real_env_steps >= 6)\n",
    "            if (game_state.real_env_steps >= growth_turn and water_formula) or (factory_power_formula):\n",
    "                actions[factory_id] = factory.water()\n",
    "\n",
    "        ### Finds all ice and ore tiles\n",
    "        ice_map = game_state.board.ice \n",
    "        ore_map = game_state.board.ore \n",
    "        rubble_map = game_state.board.rubble\n",
    "        ice_tile_locations = np.argwhere(ice_map == 1) # numpy magic to get the position of every ice tile\n",
    "        ore_tile_locations = np.argwhere(ore_map == 1) # numpy magic to get the position of every ore tile\n",
    "        rubble_tile_locations = np.argwhere(rubble_map > 0) # numpy magic to get the position of every rubble tile\n",
    "        rubble_tile_locations_low_rubble = np.argwhere(rubble_map <= 20)\n",
    "\n",
    "        # sets hostile rubble mask\n",
    "        hostile_rubble_mask = np.zeros((48, 48))\n",
    "        hostile_factory_rubble = np.concatenate([\n",
    "            get_surrounding_tiles_by_interval(\n",
    "                x=hostile_factory_center[0],\n",
    "                y=hostile_factory_center[1],\n",
    "                interval_x=4,\n",
    "                interval_y=4\n",
    "            ) for hostile_factory_center in hostile_factory_centers\n",
    "        ], axis=0)\n",
    "        \n",
    "        for tile in hostile_factory_rubble:\n",
    "            hostile_rubble_mask[tile[1]][tile[0]] = 1\n",
    "\n",
    "\n",
    "        units = game_state.units[self.player]\n",
    "\n",
    "        ### Specifies assignments for heavy and light bots\n",
    "        light_ore_miners = 0\n",
    "        mine_assignments = 0\n",
    "        rubble_assignments = 0\n",
    "        power_assignments = 0\n",
    "\n",
    "\n",
    "        # booked tiles for avoiding \n",
    "        move_bookings = []\n",
    "\n",
    "        for unit_id, unit in units.items():\n",
    "            isHeavy = unit.unit_type == 'HEAVY'\n",
    "            isLight = unit.unit_type == 'LIGHT'\n",
    "\n",
    "            # info about closest map tiles\n",
    "            closest_factory_tile = sorted(factory_tiles, key=lambda p: (p[0] - unit.pos[0])**2 + (p[1] - unit.pos[1])**2 )[0]\n",
    "            closest_hostile_factory_tile = sorted(hostile_factory_tiles, key=lambda p: (p[0] - unit.pos[0])**2 + (p[1] - unit.pos[1])**2)[0]\n",
    "            closest_ice_tile = sorted(ice_tile_locations, key=lambda p: (p[0] - unit.pos[0])**2 + (p[1] - unit.pos[1])**2 )[0]\n",
    "            \n",
    "            cargo_limit_ice = 960\n",
    "            on_factory = all(unit.pos == closest_factory_tile)\n",
    "            ajacent_factory = 1 >= abs((unit.pos[0] - closest_factory_tile[0])**2 + (unit.pos[1] - closest_factory_tile[1])**2)\n",
    "            ajacent_hostile_factory = 1 >= abs((unit.pos[0] - closest_hostile_factory_tile[0])**2 + (unit.pos[1] - closest_hostile_factory_tile[1])**2)\n",
    "\n",
    "\n",
    "            ### Heavy bot logic\n",
    "            if isHeavy:\n",
    "                below_power_threshold_heavy = unit.power <= 100\n",
    "                below_power_move_heavy = unit.power <= 50\n",
    "                free_cargo_ice = unit.cargo.ice < cargo_limit_ice\n",
    "                recharge_need_heavy = math.floor(3000 - unit.power)\n",
    "                on_ice = all(unit.pos == closest_ice_tile)\n",
    "                \n",
    "                # has hostile HEAVY on flank, moves to attack, or to factory tile if not already on one\n",
    "                overwatch_check = heavy_overwatch(\n",
    "                    unit=unit,\n",
    "                    unit_x=unit.pos[0],\n",
    "                    unit_y=unit.pos[1],\n",
    "                    on_factory=on_factory,\n",
    "                    closest_factory_tile=closest_factory_tile,\n",
    "                    game_state=game_state,\n",
    "                    opponent=self.opp_player\n",
    "                )\n",
    "                if overwatch_check != False:\n",
    "                    move_bookings.append(overwatch_check)\n",
    "                    actions[unit_id] = [unit.move(overwatch_check, repeat=0)]\n",
    "                    continue\n",
    "\n",
    "                # on ice, but not over cargo capacity limit. Dig ice\n",
    "                elif on_ice and free_cargo_ice and not below_power_threshold_heavy:\n",
    "                    move_bookings.append((unit.pos[0], unit.pos[1]))\n",
    "                    actions[unit_id] = [unit.dig(repeat=0)]\n",
    "                    #print(unit_id, \"digging\")\n",
    "                \n",
    "                # not on ice, not over cargo capacity limit. Move to ice\n",
    "                elif not on_ice and free_cargo_ice and not below_power_threshold_heavy:\n",
    "                    direction = direction_to(unit.pos, closest_ice_tile)\n",
    "                    move_bookings.append(coord_from_direction(x=unit.pos[0], y=unit.pos[1], direction=direction))\n",
    "                    actions[unit_id] = [unit.move(direction, repeat=0)]\n",
    "                    #print(unit_id, \"move dig\")\n",
    "                \n",
    "                # on factory, below power threshold. Pickup power\n",
    "                elif on_factory and below_power_threshold_heavy:\n",
    "                    direction = direction_to(unit.pos, closest_factory_tile)\n",
    "                    move_bookings.append((unit.pos[0], unit.pos[1]))\n",
    "                    actions[unit_id] = [unit.pickup(4, recharge_need_heavy, repeat=0)]\n",
    "                    #print(unit_id, \"pickup power\")\n",
    "                \n",
    "                # not on factory, below power threshold. Move to recharge\n",
    "                elif not on_factory and (below_power_threshold_heavy and not below_power_move_heavy):\n",
    "                    direction = direction_to(unit.pos, closest_factory_tile)\n",
    "                    move_bookings.append(coord_from_direction(x=unit.pos[0], y=unit.pos[1], direction=direction))\n",
    "                    actions[unit_id] = [unit.move(direction, repeat=0)]\n",
    "                    #print(unit_id, \"move recharge\")\n",
    "\n",
    "                # ajacent to factory, over cargo limit. Transfer ice\n",
    "                elif ajacent_factory and not free_cargo_ice and not below_power_threshold_heavy:\n",
    "                    direction = direction_to(unit.pos, closest_factory_tile)\n",
    "                    move_bookings.append((unit.pos[0], unit.pos[1]))\n",
    "                    actions[unit_id] = [unit.transfer(direction, 0, unit.cargo.ice, repeat=0)]\n",
    "                    #print(unit_id, \"transfer\")\n",
    "\n",
    "                # not ajacent to factory. Move to transfer\n",
    "                elif not ajacent_factory and not free_cargo_ice and not below_power_threshold_heavy:\n",
    "                    direction = direction_to(unit.pos, closest_factory_tile)\n",
    "                    move_bookings.append(coord_from_direction(x=unit.pos[0], y=unit.pos[1], direction=direction))\n",
    "                    actions[unit_id] = [unit.move(direction, repeat=0)]\n",
    "                    #print(unit_id, \"move transfer\")\n",
    "                \n",
    "                # not on factory, below critical power. Do nothing (recharge)\n",
    "                elif not on_factory and (below_power_threshold_heavy and below_power_move_heavy):\n",
    "                    #print(unit_id, \"doing nothing (recharging)\")\n",
    "                    continue\n",
    "\n",
    "\n",
    "            ### Light bot logic\n",
    "            if isLight:\n",
    "                # sorts low rubble tiles by proximity to closest factory tile to unit\n",
    "                sorted_rubble_tile_vision = sorted(\n",
    "                    [\n",
    "                        tile for tile in rubble_tile_locations_low_rubble if \n",
    "                        (hostile_rubble_mask[tile[0]][tile[1]] != 1) and\n",
    "                        (game_state.board.rubble[tile[0]][tile[1]] != 0) and \n",
    "                        (game_state.board.ice[tile[0]][tile[1]] != 1) and \n",
    "                        (game_state.board.ore[tile[0]][tile[1]] != 1)\n",
    "                    ], \n",
    "                    key=lambda coord: (coord[0] - closest_factory_tile[0])**2 + (coord[1] - closest_factory_tile[1])**2\n",
    "                )\n",
    "\n",
    "                lowest_rubble__tile_visible = sorted_rubble_tile_vision[0]\n",
    "                \n",
    "\n",
    "\n",
    "                closest_ore_tiles = sorted(ore_tile_locations, key=lambda p: (p[0] - unit.pos[0])**2 + (p[1] - unit.pos[1])**2 )\n",
    "                closest_rubble_tiles = sorted(rubble_tile_locations, key=lambda p: (p[0] - unit.pos[0])**2 + (p[1] - unit.pos[1])**2 )\n",
    "                closest_ore_tile = closest_ore_tiles[0]\n",
    "                closest_rubble_tile = closest_rubble_tiles[0]\n",
    "                \n",
    "                # decides if the bot should be assigned an ore location or find closest rubble\n",
    "                on_ore_assignment = mine_assignments < light_ore_miners\n",
    "                if on_ore_assignment and mine_assignments < len(closest_ore_tiles):\n",
    "                    closest_ore_tile = closest_ore_tiles[mine_assignments]\n",
    "                    mine_assignments += 1\n",
    "                if not on_ore_assignment and rubble_assignments < len(closest_rubble_tiles):\n",
    "                    rubble_assignments += 1\n",
    "\n",
    "                # info about closest factory power and resources\n",
    "                closest_factory = [(factory_id, factory) for factory_id, factory in factories.items() if (closest_factory_tile in get_factory_tiles_from_center(x=factory.pos[0], y=factory.pos[1]))]\n",
    "                free_power = (closest_factory[0][1].power - (power_assignments * 150)) > 1500 or water_formula\n",
    "                #print(free_power, closest_factory[0][0], closest_factory[0][1].pos, closest_factory[0][1].power)\n",
    "\n",
    "                charge_state = game_state.is_day() and unit.power < 150 and not on_factory and (not factory_power_formula or (game_state.real_env_steps >= 600 and water_formula))\n",
    "                below_power_threshold_light = unit.power <= 35\n",
    "                on_ore = all(unit.pos == closest_ore_tile)\n",
    "                on_rubble = all(unit.pos == closest_rubble_tile)\n",
    "                free_cargo_ore = unit.cargo.ore < 50\n",
    "\n",
    "                ### performs overwatch check to see if HEAVY bots on flanks\n",
    "                overwatch_check = light_overwatch(unit=unit, unit_x=unit.pos[0], unit_y=unit.pos[1], game_state=game_state, opponent=self.opp_player)\n",
    "                if overwatch_check != False:\n",
    "                    newDirection = check_tile_occupation(\n",
    "                        game_state=game_state,\n",
    "                        unit_x=unit.pos[0],\n",
    "                        unit_y=unit.pos[1],\n",
    "                        direction=overwatch_check,\n",
    "                        booked_coords=move_bookings,\n",
    "                        player=self.player,\n",
    "                        opponent=self.opp_player\n",
    "                    )\n",
    "                    move_bookings.append(coord_from_direction(x=unit.pos[0], y=unit.pos[1], direction=newDirection))\n",
    "                    actions[unit_id] = [unit.move(newDirection, repeat=0)]\n",
    "                    continue\n",
    "\n",
    "                # on ore, under cargo limit, not below power threshold, not charge state, not charge state. Dig ore\n",
    "                if on_ore and free_cargo_ore and not below_power_threshold_light and not charge_state:\n",
    "                    move_bookings.append((unit.pos[0], unit.pos[1]))\n",
    "                    actions[unit_id] = [unit.dig(repeat=0)]\n",
    "                    #print(unit_id, \"dig ore\")\n",
    "\n",
    "                # on rubble, under cargo limit, not below power threshold, not charge state. Dig rubble\n",
    "                elif on_rubble and free_cargo_ore and not below_power_threshold_light and not charge_state:\n",
    "                    actions[unit_id] = [unit.dig(repeat=0)]\n",
    "                    #print(unit_id, \"dig rubble\")\n",
    "\n",
    "                # on ore assignment, not on ore, not on rubble, under cargo limit, not below power threshold, not charge state. Move to ore\n",
    "                elif on_ore_assignment and not on_ore and not on_rubble and free_cargo_ore and not below_power_threshold_light and not charge_state:\n",
    "                    direction = direction_to(unit.pos, closest_ore_tile)\n",
    "                    newDirection = check_tile_occupation(game_state=game_state,\n",
    "                        unit_x=unit.pos[0],\n",
    "                        unit_y=unit.pos[1],\n",
    "                        direction=direction,\n",
    "                        booked_coords=move_bookings,\n",
    "                        player=self.player,\n",
    "                        opponent=self.opp_player\n",
    "                    )\n",
    "                \n",
    "                    if newDirection == 0:\n",
    "                        continue\n",
    "                        #print(unit_id, \"recharge instead of moving\")\n",
    "                    else:\n",
    "                        move_bookings.append(coord_from_direction(x=unit.pos[0], y=unit.pos[1], direction=newDirection))\n",
    "                        actions[unit_id] = [unit.move(newDirection, repeat=0)]\n",
    "                        #print(unit_id, \"move to ore\")\n",
    "                    \n",
    "                # not on ore assignment, not on ore, not on rubble, under cargo limit, not below power threshold, not charge state. Move to rubble\n",
    "                elif not on_ore_assignment and not on_rubble and free_cargo_ore and not below_power_threshold_light and not charge_state:\n",
    "                    direction = direction_to(unit.pos, lowest_rubble__tile_visible)\n",
    "                    newDirection = check_tile_occupation(\n",
    "                        game_state=game_state,\n",
    "                        unit_x=unit.pos[0],\n",
    "                        unit_y=unit.pos[1],\n",
    "                        direction=direction,\n",
    "                        booked_coords=move_bookings,\n",
    "                        player=self.player,\n",
    "                        opponent=self.opp_player\n",
    "                    )\n",
    "\n",
    "                    if newDirection == 0:\n",
    "                        continue\n",
    "                        #print(unit_id, \"recharge instead of moving\")\n",
    "                    else:\n",
    "                        move_bookings.append(coord_from_direction(x=unit.pos[0], y=unit.pos[1], direction=newDirection))\n",
    "                        actions[unit_id] = [unit.move(newDirection, repeat=0)]\n",
    "                        #print(unit_id, \"move to rubble\")\n",
    "\n",
    "                # ajacent to factory, at/over cargo limit, not below power threshold, not charge state. Transfer ore\n",
    "                elif ajacent_factory and not free_cargo_ore and not below_power_threshold_light and not charge_state:\n",
    "                    direction = direction_to(unit.pos, closest_factory_tile)\n",
    "                    move_bookings.append((unit.pos[0], unit.pos[1]))\n",
    "                    actions[unit_id] = [unit.transfer(direction, 1, unit.cargo.ore)]\n",
    "                    #print(unit_id, \"transfer cargo\")\n",
    "                \n",
    "                # not ajacent to factory, at/over cargo limit, not below power threshold, not charge state. Move to transfer\n",
    "                elif not ajacent_factory and not free_cargo_ore and not below_power_threshold_light and not charge_state:\n",
    "                    direction = direction_to(unit.pos, closest_factory_tile)\n",
    "                    direction = direction_to(unit.pos, closest_factory_tile)\n",
    "                    newDirection = check_tile_occupation(\n",
    "                        game_state=game_state,\n",
    "                        unit_x=unit.pos[0],\n",
    "                        unit_y=unit.pos[1],\n",
    "                        direction=direction,\n",
    "                        booked_coords=move_bookings,\n",
    "                        player=self.player,\n",
    "                        opponent=self.opp_player\n",
    "                    )\n",
    "\n",
    "                    if newDirection == 0:\n",
    "                        continue\n",
    "                        #print(unit_id, \"recharge instead of moving\")\n",
    "                    else:\n",
    "                        move_bookings.append(coord_from_direction(x=unit.pos[0], y=unit.pos[1], direction=newDirection))\n",
    "                        actions[unit_id] = [unit.move(newDirection, repeat=0)]\n",
    "                        #print(unit_id, \"move to transfer cargo\")\n",
    "\n",
    "                # below power threshold and in a charge state. Do nothing (recharge)\n",
    "                elif below_power_threshold_light and charge_state:\n",
    "                    continue\n",
    "                    #print(unit_id, \"recharge\")\n",
    "                \n",
    "                # below power threshold, not in charge state, on factory tile, nearest factory power > 1500. Pickup power\n",
    "                elif below_power_threshold_light and not charge_state and on_factory and free_power:\n",
    "                    power_assignments += 1\n",
    "                    move_bookings.append((unit.pos[0], unit.pos[1]))\n",
    "                    actions[unit_id] = [unit.pickup(4, 150 - unit.power, repeat=0)]\n",
    "                    #print(unit_id, \"pickup power light\")\n",
    "                \n",
    "                # below power threshold, not in charge state, not on factory tile, nearest factory power > 1500. Pickup power\n",
    "                elif below_power_threshold_light and not charge_state and not on_factory and free_power:\n",
    "                    power_assignments += 1\n",
    "                    direction = direction_to(unit.pos, closest_factory_tile)\n",
    "                    newDirection = check_tile_occupation(\n",
    "                        game_state=game_state,\n",
    "                        unit_x=unit.pos[0],\n",
    "                        unit_y=unit.pos[1],\n",
    "                        direction=direction,\n",
    "                        booked_coords=move_bookings,\n",
    "                        player=self.player,\n",
    "                        opponent=self.opp_player\n",
    "                    )\n",
    "\n",
    "                    if newDirection == 0:\n",
    "                        continue\n",
    "                        #print(unit_id, \"recharge instead of moving\")\n",
    "                    else:\n",
    "                        move_bookings.append(coord_from_direction(x=unit.pos[0], y=unit.pos[1], direction=newDirection))\n",
    "                        actions[unit_id] = [unit.move(newDirection, repeat=0)]\n",
    "                        #print(unit_id, \"move to factory recharge\")\n",
    "\n",
    "\n",
    "        return actions"
   ]
  },
  {
   "cell_type": "code",
   "execution_count": 166,
   "metadata": {},
   "outputs": [
    {
     "data": {
      "application/vnd.plotly.v1+json": {
       "config": {
        "plotlyServerURL": "https://plot.ly"
       },
       "data": [
        {
         "hovertemplate": "x: %{x}<br>y: %{y}<br>color: [%{z[0]}, %{z[1]}, %{z[2]}]<extra></extra>",
         "name": "0",
         "source": "data:image/png;base64,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",
         "type": "image",
         "xaxis": "x",
         "yaxis": "y"
        }
       ],
       "layout": {
        "margin": {
         "t": 60
        },
        "template": {
         "data": {
          "bar": [
           {
            "error_x": {
             "color": "#2a3f5f"
            },
            "error_y": {
             "color": "#2a3f5f"
            },
            "marker": {
             "line": {
              "color": "#E5ECF6",
              "width": 0.5
             },
             "pattern": {
              "fillmode": "overlay",
              "size": 10,
              "solidity": 0.2
             }
            },
            "type": "bar"
           }
          ],
          "barpolar": [
           {
            "marker": {
             "line": {
              "color": "#E5ECF6",
              "width": 0.5
             },
             "pattern": {
              "fillmode": "overlay",
              "size": 10,
              "solidity": 0.2
             }
            },
            "type": "barpolar"
           }
          ],
          "carpet": [
           {
            "aaxis": {
             "endlinecolor": "#2a3f5f",
             "gridcolor": "white",
             "linecolor": "white",
             "minorgridcolor": "white",
             "startlinecolor": "#2a3f5f"
            },
            "baxis": {
             "endlinecolor": "#2a3f5f",
             "gridcolor": "white",
             "linecolor": "white",
             "minorgridcolor": "white",
             "startlinecolor": "#2a3f5f"
            },
            "type": "carpet"
           }
          ],
          "choropleth": [
           {
            "colorbar": {
             "outlinewidth": 0,
             "ticks": ""
            },
            "type": "choropleth"
           }
          ],
          "contour": [
           {
            "colorbar": {
             "outlinewidth": 0,
             "ticks": ""
            },
            "colorscale": [
             [
              0,
              "#0d0887"
             ],
             [
              0.1111111111111111,
              "#46039f"
             ],
             [
              0.2222222222222222,
              "#7201a8"
             ],
             [
              0.3333333333333333,
              "#9c179e"
             ],
             [
              0.4444444444444444,
              "#bd3786"
             ],
             [
              0.5555555555555556,
              "#d8576b"
             ],
             [
              0.6666666666666666,
              "#ed7953"
             ],
             [
              0.7777777777777778,
              "#fb9f3a"
             ],
             [
              0.8888888888888888,
              "#fdca26"
             ],
             [
              1,
              "#f0f921"
             ]
            ],
            "type": "contour"
           }
          ],
          "contourcarpet": [
           {
            "colorbar": {
             "outlinewidth": 0,
             "ticks": ""
            },
            "type": "contourcarpet"
           }
          ],
          "heatmap": [
           {
            "colorbar": {
             "outlinewidth": 0,
             "ticks": ""
            },
            "colorscale": [
             [
              0,
              "#0d0887"
             ],
             [
              0.1111111111111111,
              "#46039f"
             ],
             [
              0.2222222222222222,
              "#7201a8"
             ],
             [
              0.3333333333333333,
              "#9c179e"
             ],
             [
              0.4444444444444444,
              "#bd3786"
             ],
             [
              0.5555555555555556,
              "#d8576b"
             ],
             [
              0.6666666666666666,
              "#ed7953"
             ],
             [
              0.7777777777777778,
              "#fb9f3a"
             ],
             [
              0.8888888888888888,
              "#fdca26"
             ],
             [
              1,
              "#f0f921"
             ]
            ],
            "type": "heatmap"
           }
          ],
          "heatmapgl": [
           {
            "colorbar": {
             "outlinewidth": 0,
             "ticks": ""
            },
            "colorscale": [
             [
              0,
              "#0d0887"
             ],
             [
              0.1111111111111111,
              "#46039f"
             ],
             [
              0.2222222222222222,
              "#7201a8"
             ],
             [
              0.3333333333333333,
              "#9c179e"
             ],
             [
              0.4444444444444444,
              "#bd3786"
             ],
             [
              0.5555555555555556,
              "#d8576b"
             ],
             [
              0.6666666666666666,
              "#ed7953"
             ],
             [
              0.7777777777777778,
              "#fb9f3a"
             ],
             [
              0.8888888888888888,
              "#fdca26"
             ],
             [
              1,
              "#f0f921"
             ]
            ],
            "type": "heatmapgl"
           }
          ],
          "histogram": [
           {
            "marker": {
             "pattern": {
              "fillmode": "overlay",
              "size": 10,
              "solidity": 0.2
             }
            },
            "type": "histogram"
           }
          ],
          "histogram2d": [
           {
            "colorbar": {
             "outlinewidth": 0,
             "ticks": ""
            },
            "colorscale": [
             [
              0,
              "#0d0887"
             ],
             [
              0.1111111111111111,
              "#46039f"
             ],
             [
              0.2222222222222222,
              "#7201a8"
             ],
             [
              0.3333333333333333,
              "#9c179e"
             ],
             [
              0.4444444444444444,
              "#bd3786"
             ],
             [
              0.5555555555555556,
              "#d8576b"
             ],
             [
              0.6666666666666666,
              "#ed7953"
             ],
             [
              0.7777777777777778,
              "#fb9f3a"
             ],
             [
              0.8888888888888888,
              "#fdca26"
             ],
             [
              1,
              "#f0f921"
             ]
            ],
            "type": "histogram2d"
           }
          ],
          "histogram2dcontour": [
           {
            "colorbar": {
             "outlinewidth": 0,
             "ticks": ""
            },
            "colorscale": [
             [
              0,
              "#0d0887"
             ],
             [
              0.1111111111111111,
              "#46039f"
             ],
             [
              0.2222222222222222,
              "#7201a8"
             ],
             [
              0.3333333333333333,
              "#9c179e"
             ],
             [
              0.4444444444444444,
              "#bd3786"
             ],
             [
              0.5555555555555556,
              "#d8576b"
             ],
             [
              0.6666666666666666,
              "#ed7953"
             ],
             [
              0.7777777777777778,
              "#fb9f3a"
             ],
             [
              0.8888888888888888,
              "#fdca26"
             ],
             [
              1,
              "#f0f921"
             ]
            ],
            "type": "histogram2dcontour"
           }
          ],
          "mesh3d": [
           {
            "colorbar": {
             "outlinewidth": 0,
             "ticks": ""
            },
            "type": "mesh3d"
           }
          ],
          "parcoords": [
           {
            "line": {
             "colorbar": {
              "outlinewidth": 0,
              "ticks": ""
             }
            },
            "type": "parcoords"
           }
          ],
          "pie": [
           {
            "automargin": true,
            "type": "pie"
           }
          ],
          "scatter": [
           {
            "fillpattern": {
             "fillmode": "overlay",
             "size": 10,
             "solidity": 0.2
            },
            "type": "scatter"
           }
          ],
          "scatter3d": [
           {
            "line": {
             "colorbar": {
              "outlinewidth": 0,
              "ticks": ""
             }
            },
            "marker": {
             "colorbar": {
              "outlinewidth": 0,
              "ticks": ""
             }
            },
            "type": "scatter3d"
           }
          ],
          "scattercarpet": [
           {
            "marker": {
             "colorbar": {
              "outlinewidth": 0,
              "ticks": ""
             }
            },
            "type": "scattercarpet"
           }
          ],
          "scattergeo": [
           {
            "marker": {
             "colorbar": {
              "outlinewidth": 0,
              "ticks": ""
             }
            },
            "type": "scattergeo"
           }
          ],
          "scattergl": [
           {
            "marker": {
             "colorbar": {
              "outlinewidth": 0,
              "ticks": ""
             }
            },
            "type": "scattergl"
           }
          ],
          "scattermapbox": [
           {
            "marker": {
             "colorbar": {
              "outlinewidth": 0,
              "ticks": ""
             }
            },
            "type": "scattermapbox"
           }
          ],
          "scatterpolar": [
           {
            "marker": {
             "colorbar": {
              "outlinewidth": 0,
              "ticks": ""
             }
            },
            "type": "scatterpolar"
           }
          ],
          "scatterpolargl": [
           {
            "marker": {
             "colorbar": {
              "outlinewidth": 0,
              "ticks": ""
             }
            },
            "type": "scatterpolargl"
           }
          ],
          "scatterternary": [
           {
            "marker": {
             "colorbar": {
              "outlinewidth": 0,
              "ticks": ""
             }
            },
            "type": "scatterternary"
           }
          ],
          "surface": [
           {
            "colorbar": {
             "outlinewidth": 0,
             "ticks": ""
            },
            "colorscale": [
             [
              0,
              "#0d0887"
             ],
             [
              0.1111111111111111,
              "#46039f"
             ],
             [
              0.2222222222222222,
              "#7201a8"
             ],
             [
              0.3333333333333333,
              "#9c179e"
             ],
             [
              0.4444444444444444,
              "#bd3786"
             ],
             [
              0.5555555555555556,
              "#d8576b"
             ],
             [
              0.6666666666666666,
              "#ed7953"
             ],
             [
              0.7777777777777778,
              "#fb9f3a"
             ],
             [
              0.8888888888888888,
              "#fdca26"
             ],
             [
              1,
              "#f0f921"
             ]
            ],
            "type": "surface"
           }
          ],
          "table": [
           {
            "cells": {
             "fill": {
              "color": "#EBF0F8"
             },
             "line": {
              "color": "white"
             }
            },
            "header": {
             "fill": {
              "color": "#C8D4E3"
             },
             "line": {
              "color": "white"
             }
            },
            "type": "table"
           }
          ]
         },
         "layout": {
          "annotationdefaults": {
           "arrowcolor": "#2a3f5f",
           "arrowhead": 0,
           "arrowwidth": 1
          },
          "autotypenumbers": "strict",
          "coloraxis": {
           "colorbar": {
            "outlinewidth": 0,
            "ticks": ""
           }
          },
          "colorscale": {
           "diverging": [
            [
             0,
             "#8e0152"
            ],
            [
             0.1,
             "#c51b7d"
            ],
            [
             0.2,
             "#de77ae"
            ],
            [
             0.3,
             "#f1b6da"
            ],
            [
             0.4,
             "#fde0ef"
            ],
            [
             0.5,
             "#f7f7f7"
            ],
            [
             0.6,
             "#e6f5d0"
            ],
            [
             0.7,
             "#b8e186"
            ],
            [
             0.8,
             "#7fbc41"
            ],
            [
             0.9,
             "#4d9221"
            ],
            [
             1,
             "#276419"
            ]
           ],
           "sequential": [
            [
             0,
             "#0d0887"
            ],
            [
             0.1111111111111111,
             "#46039f"
            ],
            [
             0.2222222222222222,
             "#7201a8"
            ],
            [
             0.3333333333333333,
             "#9c179e"
            ],
            [
             0.4444444444444444,
             "#bd3786"
            ],
            [
             0.5555555555555556,
             "#d8576b"
            ],
            [
             0.6666666666666666,
             "#ed7953"
            ],
            [
             0.7777777777777778,
             "#fb9f3a"
            ],
            [
             0.8888888888888888,
             "#fdca26"
            ],
            [
             1,
             "#f0f921"
            ]
           ],
           "sequentialminus": [
            [
             0,
             "#0d0887"
            ],
            [
             0.1111111111111111,
             "#46039f"
            ],
            [
             0.2222222222222222,
             "#7201a8"
            ],
            [
             0.3333333333333333,
             "#9c179e"
            ],
            [
             0.4444444444444444,
             "#bd3786"
            ],
            [
             0.5555555555555556,
             "#d8576b"
            ],
            [
             0.6666666666666666,
             "#ed7953"
            ],
            [
             0.7777777777777778,
             "#fb9f3a"
            ],
            [
             0.8888888888888888,
             "#fdca26"
            ],
            [
             1,
             "#f0f921"
            ]
           ]
          },
          "colorway": [
           "#636efa",
           "#EF553B",
           "#00cc96",
           "#ab63fa",
           "#FFA15A",
           "#19d3f3",
           "#FF6692",
           "#B6E880",
           "#FF97FF",
           "#FECB52"
          ],
          "font": {
           "color": "#2a3f5f"
          },
          "geo": {
           "bgcolor": "white",
           "lakecolor": "white",
           "landcolor": "#E5ECF6",
           "showlakes": true,
           "showland": true,
           "subunitcolor": "white"
          },
          "hoverlabel": {
           "align": "left"
          },
          "hovermode": "closest",
          "mapbox": {
           "style": "light"
          },
          "paper_bgcolor": "white",
          "plot_bgcolor": "#E5ECF6",
          "polar": {
           "angularaxis": {
            "gridcolor": "white",
            "linecolor": "white",
            "ticks": ""
           },
           "bgcolor": "#E5ECF6",
           "radialaxis": {
            "gridcolor": "white",
            "linecolor": "white",
            "ticks": ""
           }
          },
          "scene": {
           "xaxis": {
            "backgroundcolor": "#E5ECF6",
            "gridcolor": "white",
            "gridwidth": 2,
            "linecolor": "white",
            "showbackground": true,
            "ticks": "",
            "zerolinecolor": "white"
           },
           "yaxis": {
            "backgroundcolor": "#E5ECF6",
            "gridcolor": "white",
            "gridwidth": 2,
            "linecolor": "white",
            "showbackground": true,
            "ticks": "",
            "zerolinecolor": "white"
           },
           "zaxis": {
            "backgroundcolor": "#E5ECF6",
            "gridcolor": "white",
            "gridwidth": 2,
            "linecolor": "white",
            "showbackground": true,
            "ticks": "",
            "zerolinecolor": "white"
           }
          },
          "shapedefaults": {
           "line": {
            "color": "#2a3f5f"
           }
          },
          "ternary": {
           "aaxis": {
            "gridcolor": "white",
            "linecolor": "white",
            "ticks": ""
           },
           "baxis": {
            "gridcolor": "white",
            "linecolor": "white",
            "ticks": ""
           },
           "bgcolor": "#E5ECF6",
           "caxis": {
            "gridcolor": "white",
            "linecolor": "white",
            "ticks": ""
           }
          },
          "title": {
           "x": 0.05
          },
          "xaxis": {
           "automargin": true,
           "gridcolor": "white",
           "linecolor": "white",
           "ticks": "",
           "title": {
            "standoff": 15
           },
           "zerolinecolor": "white",
           "zerolinewidth": 2
          },
          "yaxis": {
           "automargin": true,
           "gridcolor": "white",
           "linecolor": "white",
           "ticks": "",
           "title": {
            "standoff": 15
           },
           "zerolinecolor": "white",
           "zerolinewidth": 2
          }
         }
        },
        "xaxis": {
         "anchor": "y",
         "domain": [
          0,
          1
         ]
        },
        "yaxis": {
         "anchor": "x",
         "domain": [
          0,
          1
         ]
        }
       }
      }
     },
     "metadata": {},
     "output_type": "display_data"
    },
    {
     "name": "stderr",
     "output_type": "stream",
     "text": [
      "OpenCV: FFMPEG: tag 0x30395056/'VP90' is not supported with codec id 167 and format 'webm / WebM'\n"
     ]
    },
    {
     "data": {
      "text/html": [
       "<video src=\"dZsGmnIQmgRzLOwqqJ.webm\" controls  >\n",
       "      Your browser does not support the <code>video</code> element.\n",
       "    </video>"
      ],
      "text/plain": [
       "<IPython.core.display.Video object>"
      ]
     },
     "execution_count": 166,
     "metadata": {},
     "output_type": "execute_result"
    }
   ],
   "source": [
    "# imports from support files with class and functions\n",
    "from Test_agents import submission_7_agent\n",
    "import lux_functions\n",
    "\n",
    "# recreate our agents and run\n",
    "player0 = env.agents[0]\n",
    "player1 = env.agents[1]\n",
    "agents = {\n",
    "    player0: Archimedes_Lever(env.agents[0], env.state.env_cfg), \n",
    "    player1: submission_7_agent.Archimedes_Lever_s(env.agents[1], env.state.env_cfg)#default_agent.Default_Agent(env.agents[1], env.state.env_cfg)\n",
    "}\n",
    "img = env.render(\"rgb_array\", width=48, height=48)\n",
    "px.imshow(img).show()\n",
    "lux_functions.interact(env=env, agents=agents, steps=1000, video=True)"
   ]
  },
  {
   "cell_type": "code",
   "execution_count": null,
   "metadata": {},
   "outputs": [],
   "source": [
    "### AGENT TESTING\n",
    "from Test_agents import submission_7_agent\n",
    "import default_agent\n",
    "import lux_functions\n",
    "\n",
    "tests = 30\n",
    "results = []\n",
    "for t in range(tests):\n",
    "    test_env = LuxAI_S2() # create the environment object\n",
    "    test_obs = test_env.reset(seed=np.random.seed()) # resets an environment with a seed\n",
    "\n",
    "    # recreate our agents and run\n",
    "    player0 = test_env.agents[0]\n",
    "    player1 = test_env.agents[1]\n",
    "    agents = {\n",
    "        player0: Archimedes_Lever(test_env.agents[0], test_env.state.env_cfg), \n",
    "        player1: submission_7_agent.Archimedes_Lever_s(test_env.agents[1], test_env.state.env_cfg)#default_agent.Default_Agent(test_env.agents[1], test_env.state.env_cfg)\n",
    "    }\n",
    "    # UNCOMMENT IF MAPS SHOULD BE VISUALIZED\n",
    "    '''\n",
    "    img = test_env.render(\"rgb_array\", width=48, height=48)\n",
    "    px.imshow(img).show()\n",
    "    '''\n",
    "    test_results = lux_functions.test_agents(env=test_env, agents=agents, steps=1000)\n",
    "    results.append(test_results)\n",
    "    del test_env\n",
    "    del test_obs\n",
    "\n",
    "# displays tests results sorted by performance difference\n",
    "for result in sorted(results, key=lambda test: test[2][1]):\n",
    "    print(result)"
   ]
  },
  {
   "cell_type": "code",
   "execution_count": null,
   "metadata": {},
   "outputs": [],
   "source": [
    "# map viewer for analysis of poor performance tests\n",
    "view_seed = 1661893797\n",
    "view_env = LuxAI_S2()\n",
    "view_obs = view_env.reset(seed=view_seed)\n",
    "view_image = view_env.render(\"rgb_array\", width=48, height=48)\n",
    "px.imshow(view_image).show()"
   ]
  },
  {
   "cell_type": "code",
   "execution_count": null,
   "metadata": {},
   "outputs": [],
   "source": [
    "#!luxai-s2 archimedes_main.py main.py -v 2 -s 101 -o replay.html\n",
    "#!tar -czf submission.tar.gz *"
   ]
  }
 ],
 "metadata": {
  "kernelspec": {
   "display_name": "Python 3.10.0 64-bit",
   "language": "python",
   "name": "python3"
  },
  "language_info": {
   "codemirror_mode": {
    "name": "ipython",
    "version": 3
   },
   "file_extension": ".py",
   "mimetype": "text/x-python",
   "name": "python",
   "nbconvert_exporter": "python",
   "pygments_lexer": "ipython3",
   "version": "3.10.0"
  },
  "orig_nbformat": 4,
  "vscode": {
   "interpreter": {
    "hash": "aee8b7b246df8f9039afb4144a1f6fd8d2ca17a180786b69acc140d282b71a49"
   }
  }
 },
 "nbformat": 4,
 "nbformat_minor": 2
}
