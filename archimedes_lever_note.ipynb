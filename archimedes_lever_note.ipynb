{
 "cells": [
  {
   "cell_type": "code",
   "execution_count": null,
   "metadata": {},
   "outputs": [],
   "source": [
    "# In case of import requirements\n",
    "# verify version\n",
    "!python3 --version\n",
    "!pip install --upgrade luxai_s2\n",
    "!pip install importlib-metadata==4.13.0\n",
    "!pip install --upgrade moviepy # needed to render videos of episodes"
   ]
  },
  {
   "cell_type": "code",
   "execution_count": 1,
   "metadata": {},
   "outputs": [],
   "source": [
    "from luxai_s2.env import LuxAI_S2\n",
    "from lux.kit import obs_to_game_state, GameState, EnvConfig\n",
    "from lux.utils import my_turn_to_place_factory, direction_to \n",
    "import matplotlib.pyplot as plt\n",
    "import numpy as np\n",
    "import plotly.express as px\n",
    "import random\n",
    "import math\n",
    "import cv2"
   ]
  },
  {
   "cell_type": "code",
   "execution_count": null,
   "metadata": {},
   "outputs": [],
   "source": [
    "# Create excel spreadsheets to look at strategies for when to start producing lichen to find weather its more optimal to\n",
    "#      continually grow lichen, or to hoard water until a certain turn (depending on water gathered?) and mass produce lichen then\n",
    "# [X] Made graphs and have found good enough growth estimates with tables for further estimation if necessary.\n",
    "# TODO Update files in repo, or move agent files to new repo. Basically move from beta to season 2.\n",
    "# [X]\n",
    "# TODO Clean up structure of notebook cells and segments of the algorithm to make it easier to find where what desicion is being made\n",
    "# [X]\n",
    "# TODO Make the agent place a factory right next to one ice tile\n",
    "# [X]\n",
    "# TODO Make the agent update its possible placing locations by removing coordinates around placed (friendly and foe) factory tiles\n",
    "# [X]\n",
    "# TODO Update the assignments to have n heavy bots on ice gathering just outside the factory, and some light for ore collection\n",
    "# [X]\n",
    "# TODO Observe the total ammount of water possible to gather with 1 heavy bot\n",
    "# [X]\n",
    "# TODO Fix ordering system so that heavies are assigned to ice tiles right by the factory for instant dropof and charging,\n",
    "#      and so that the bots are ordered to correct coordinates,\n",
    "#      and so that the return to factory scheduling works.\n",
    "# [X]\n",
    "# TODO Fix bug where only 4 out of 5 factories are built \n",
    "# [X]\n",
    "# TODO Fix placement of factories? So that all place near ice\n",
    "# [X]\n",
    "# TODO Fix bug where not every factory is watering lichen\n",
    "# [X]\n",
    "# TODO Optimize heavy bots ice collection, by increasing storage limit, and or tweaking their power level threshold\n",
    "# [X]\n",
    "# TODO Take second look at spawn selection functions as this might be running into \"overtime\" making me miss out on placing some crucial factories\n",
    "#      This can be reduced by looking at efficiency gains that can be made in the startup section\n",
    "# [X]\n",
    "# TODO Take second look at border coordinate function to fix it so that it removes first and second rows on all 4 sides\n",
    "# [X]\n",
    "# TODO, make selection of spawn points less random, by sorting for rubble value, and selecting first in list, not random\n",
    "# [X]\n",
    "# TODO Check if there is logic in heavy and light bots that can be merged to reduce complexity in logic? If not, make sure google sheet matricees\n",
    "#      are up to date\n",
    "# [X]\n",
    "# TODO Doing nothing equals recharging. Rewrite logic for light bots so that they do nothing instead of queueing 6 turn imobilizing recharge action.\n",
    "# [X]\n",
    "# TODO Heavy bot sometimes dont have enough power to move back to factory if there is one tile between ice tile being mined and factory\n",
    "# [X]\n",
    "# TODO Incorporate a sorting function for rubble tiles as well as proximity to the light bot (changed to factory tile with closest proximity to unit),\n",
    "#      this allows \"bootstrapping\" from start pos in factory\n",
    "# [X]\n",
    "# TODO Make function that gets the coordinates around factories with only rubble on, and assigns these tiles (by filtering for proximity) to light bots\n",
    "# [X]\n",
    "# TODO Take second look at non colision function. Also make ice tiles \"no go\" for lights.\n",
    "#      Function should be rewritten so that bot logic places \"tile bookings\" for where they want to go. \n",
    "#      If the booking is in the array of existing bookings, check opposite axis directions if in \"tile bookings\".\n",
    "#      If these are not in the np array, select that direction and return the direction.\n",
    "#      If doing nothing (recharging), place a booking for their current tile\n",
    "#\n",
    "#      This booking system should consist of a tuple of two np arrays, that indicate a vector for that unit.\n",
    "#      Start function by checking straight directions from bot pos, if not occupied, do final check if tile is in \"tile bookings\" array.\n",
    "#      This way diagonal directions can be accounted for, for friendly bots\n",
    "# [X]\n",
    "# TODO Add function that checks surrounding tiles for hostiles if on ice or factory tile, that affects behaviour of heavy bots (moves bot on hostile heavy bot on ajacent tile, ambush this bot by moving onto this tile)\n",
    "# [X]\n",
    "\n",
    "\n",
    "\"\"\"HIGH PRIORITY\"\"\"\n",
    "# TODO Develop formula for when to start watering to optimize so that factory water, and a variable (average water gathering from 1 heavy),\n",
    "#      find the optimal turn for beginning watering\n",
    "# []\n",
    "\n",
    "# TODO Remove enemy factory tile coordinates from closest rubble low list to avoid clearing out rubble for opponent\n",
    "# []\n",
    "\n",
    "\n",
    "\"\"\"MEDIUM PRIORITY\"\"\"\n",
    "# TODO Introduce switch for light bots toggling between curren behaviour (after turn 200), and creation of a \"human chain\" on a ore tile, if \n",
    "#      there is one ore tile N distance away from the factory center tile (can find where center coords are defined).\n",
    "#      Here one light bot is assigned as miner, while rest follows, and charges during daytime, and transfers M power forwards to mining bot.\n",
    "#      The mining bot transfers ore towards factory tile, and supporting bots towards factory, if bot is on coordinate towards factory.\n",
    "#      If no bot can recieve, the light bot starts moving towards factory to drop off ore (it has ore greater than free cargo space)\n",
    "# []\n",
    "# TODO Make bots with ore assignments fetch power from factory with \"pickup\", as power is not utilized to full extent\n",
    "# []\n",
    "\n",
    "\n",
    "\"\"\"LOW PRIORITY\"\"\"\n",
    "# TODO Check if bidding 1 water and metal affects the number of factories that can be placed, if factories dont cost metal, bid 1 as default. This\n",
    "#      secures the first, best location more often. Combined with selection of 3rd best spot forces opponent to choose more bad spots with more rubble\n",
    "# []\n",
    "# TODO Make toggle between construction of heavy and light bots based on real env turns\n",
    "\n",
    "# TODO Evaluate weather to use 150-N turns to gather ore for multiplication of bots before water hoarding\n",
    "# []\n"
   ]
  },
  {
   "cell_type": "code",
   "execution_count": 2,
   "metadata": {},
   "outputs": [
    {
     "data": {
      "application/vnd.plotly.v1+json": {
       "config": {
        "plotlyServerURL": "https://plot.ly"
       },
       "data": [
        {
         "hovertemplate": "x: %{x}<br>y: %{y}<br>color: [%{z[0]}, %{z[1]}, %{z[2]}]<extra></extra>",
         "name": "0",
         "source": "data:image/png;base64,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",
         "type": "image",
         "xaxis": "x",
         "yaxis": "y"
        }
       ],
       "layout": {
        "margin": {
         "t": 60
        },
        "template": {
         "data": {
          "bar": [
           {
            "error_x": {
             "color": "#2a3f5f"
            },
            "error_y": {
             "color": "#2a3f5f"
            },
            "marker": {
             "line": {
              "color": "#E5ECF6",
              "width": 0.5
             },
             "pattern": {
              "fillmode": "overlay",
              "size": 10,
              "solidity": 0.2
             }
            },
            "type": "bar"
           }
          ],
          "barpolar": [
           {
            "marker": {
             "line": {
              "color": "#E5ECF6",
              "width": 0.5
             },
             "pattern": {
              "fillmode": "overlay",
              "size": 10,
              "solidity": 0.2
             }
            },
            "type": "barpolar"
           }
          ],
          "carpet": [
           {
            "aaxis": {
             "endlinecolor": "#2a3f5f",
             "gridcolor": "white",
             "linecolor": "white",
             "minorgridcolor": "white",
             "startlinecolor": "#2a3f5f"
            },
            "baxis": {
             "endlinecolor": "#2a3f5f",
             "gridcolor": "white",
             "linecolor": "white",
             "minorgridcolor": "white",
             "startlinecolor": "#2a3f5f"
            },
            "type": "carpet"
           }
          ],
          "choropleth": [
           {
            "colorbar": {
             "outlinewidth": 0,
             "ticks": ""
            },
            "type": "choropleth"
           }
          ],
          "contour": [
           {
            "colorbar": {
             "outlinewidth": 0,
             "ticks": ""
            },
            "colorscale": [
             [
              0,
              "#0d0887"
             ],
             [
              0.1111111111111111,
              "#46039f"
             ],
             [
              0.2222222222222222,
              "#7201a8"
             ],
             [
              0.3333333333333333,
              "#9c179e"
             ],
             [
              0.4444444444444444,
              "#bd3786"
             ],
             [
              0.5555555555555556,
              "#d8576b"
             ],
             [
              0.6666666666666666,
              "#ed7953"
             ],
             [
              0.7777777777777778,
              "#fb9f3a"
             ],
             [
              0.8888888888888888,
              "#fdca26"
             ],
             [
              1,
              "#f0f921"
             ]
            ],
            "type": "contour"
           }
          ],
          "contourcarpet": [
           {
            "colorbar": {
             "outlinewidth": 0,
             "ticks": ""
            },
            "type": "contourcarpet"
           }
          ],
          "heatmap": [
           {
            "colorbar": {
             "outlinewidth": 0,
             "ticks": ""
            },
            "colorscale": [
             [
              0,
              "#0d0887"
             ],
             [
              0.1111111111111111,
              "#46039f"
             ],
             [
              0.2222222222222222,
              "#7201a8"
             ],
             [
              0.3333333333333333,
              "#9c179e"
             ],
             [
              0.4444444444444444,
              "#bd3786"
             ],
             [
              0.5555555555555556,
              "#d8576b"
             ],
             [
              0.6666666666666666,
              "#ed7953"
             ],
             [
              0.7777777777777778,
              "#fb9f3a"
             ],
             [
              0.8888888888888888,
              "#fdca26"
             ],
             [
              1,
              "#f0f921"
             ]
            ],
            "type": "heatmap"
           }
          ],
          "heatmapgl": [
           {
            "colorbar": {
             "outlinewidth": 0,
             "ticks": ""
            },
            "colorscale": [
             [
              0,
              "#0d0887"
             ],
             [
              0.1111111111111111,
              "#46039f"
             ],
             [
              0.2222222222222222,
              "#7201a8"
             ],
             [
              0.3333333333333333,
              "#9c179e"
             ],
             [
              0.4444444444444444,
              "#bd3786"
             ],
             [
              0.5555555555555556,
              "#d8576b"
             ],
             [
              0.6666666666666666,
              "#ed7953"
             ],
             [
              0.7777777777777778,
              "#fb9f3a"
             ],
             [
              0.8888888888888888,
              "#fdca26"
             ],
             [
              1,
              "#f0f921"
             ]
            ],
            "type": "heatmapgl"
           }
          ],
          "histogram": [
           {
            "marker": {
             "pattern": {
              "fillmode": "overlay",
              "size": 10,
              "solidity": 0.2
             }
            },
            "type": "histogram"
           }
          ],
          "histogram2d": [
           {
            "colorbar": {
             "outlinewidth": 0,
             "ticks": ""
            },
            "colorscale": [
             [
              0,
              "#0d0887"
             ],
             [
              0.1111111111111111,
              "#46039f"
             ],
             [
              0.2222222222222222,
              "#7201a8"
             ],
             [
              0.3333333333333333,
              "#9c179e"
             ],
             [
              0.4444444444444444,
              "#bd3786"
             ],
             [
              0.5555555555555556,
              "#d8576b"
             ],
             [
              0.6666666666666666,
              "#ed7953"
             ],
             [
              0.7777777777777778,
              "#fb9f3a"
             ],
             [
              0.8888888888888888,
              "#fdca26"
             ],
             [
              1,
              "#f0f921"
             ]
            ],
            "type": "histogram2d"
           }
          ],
          "histogram2dcontour": [
           {
            "colorbar": {
             "outlinewidth": 0,
             "ticks": ""
            },
            "colorscale": [
             [
              0,
              "#0d0887"
             ],
             [
              0.1111111111111111,
              "#46039f"
             ],
             [
              0.2222222222222222,
              "#7201a8"
             ],
             [
              0.3333333333333333,
              "#9c179e"
             ],
             [
              0.4444444444444444,
              "#bd3786"
             ],
             [
              0.5555555555555556,
              "#d8576b"
             ],
             [
              0.6666666666666666,
              "#ed7953"
             ],
             [
              0.7777777777777778,
              "#fb9f3a"
             ],
             [
              0.8888888888888888,
              "#fdca26"
             ],
             [
              1,
              "#f0f921"
             ]
            ],
            "type": "histogram2dcontour"
           }
          ],
          "mesh3d": [
           {
            "colorbar": {
             "outlinewidth": 0,
             "ticks": ""
            },
            "type": "mesh3d"
           }
          ],
          "parcoords": [
           {
            "line": {
             "colorbar": {
              "outlinewidth": 0,
              "ticks": ""
             }
            },
            "type": "parcoords"
           }
          ],
          "pie": [
           {
            "automargin": true,
            "type": "pie"
           }
          ],
          "scatter": [
           {
            "fillpattern": {
             "fillmode": "overlay",
             "size": 10,
             "solidity": 0.2
            },
            "type": "scatter"
           }
          ],
          "scatter3d": [
           {
            "line": {
             "colorbar": {
              "outlinewidth": 0,
              "ticks": ""
             }
            },
            "marker": {
             "colorbar": {
              "outlinewidth": 0,
              "ticks": ""
             }
            },
            "type": "scatter3d"
           }
          ],
          "scattercarpet": [
           {
            "marker": {
             "colorbar": {
              "outlinewidth": 0,
              "ticks": ""
             }
            },
            "type": "scattercarpet"
           }
          ],
          "scattergeo": [
           {
            "marker": {
             "colorbar": {
              "outlinewidth": 0,
              "ticks": ""
             }
            },
            "type": "scattergeo"
           }
          ],
          "scattergl": [
           {
            "marker": {
             "colorbar": {
              "outlinewidth": 0,
              "ticks": ""
             }
            },
            "type": "scattergl"
           }
          ],
          "scattermapbox": [
           {
            "marker": {
             "colorbar": {
              "outlinewidth": 0,
              "ticks": ""
             }
            },
            "type": "scattermapbox"
           }
          ],
          "scatterpolar": [
           {
            "marker": {
             "colorbar": {
              "outlinewidth": 0,
              "ticks": ""
             }
            },
            "type": "scatterpolar"
           }
          ],
          "scatterpolargl": [
           {
            "marker": {
             "colorbar": {
              "outlinewidth": 0,
              "ticks": ""
             }
            },
            "type": "scatterpolargl"
           }
          ],
          "scatterternary": [
           {
            "marker": {
             "colorbar": {
              "outlinewidth": 0,
              "ticks": ""
             }
            },
            "type": "scatterternary"
           }
          ],
          "surface": [
           {
            "colorbar": {
             "outlinewidth": 0,
             "ticks": ""
            },
            "colorscale": [
             [
              0,
              "#0d0887"
             ],
             [
              0.1111111111111111,
              "#46039f"
             ],
             [
              0.2222222222222222,
              "#7201a8"
             ],
             [
              0.3333333333333333,
              "#9c179e"
             ],
             [
              0.4444444444444444,
              "#bd3786"
             ],
             [
              0.5555555555555556,
              "#d8576b"
             ],
             [
              0.6666666666666666,
              "#ed7953"
             ],
             [
              0.7777777777777778,
              "#fb9f3a"
             ],
             [
              0.8888888888888888,
              "#fdca26"
             ],
             [
              1,
              "#f0f921"
             ]
            ],
            "type": "surface"
           }
          ],
          "table": [
           {
            "cells": {
             "fill": {
              "color": "#EBF0F8"
             },
             "line": {
              "color": "white"
             }
            },
            "header": {
             "fill": {
              "color": "#C8D4E3"
             },
             "line": {
              "color": "white"
             }
            },
            "type": "table"
           }
          ]
         },
         "layout": {
          "annotationdefaults": {
           "arrowcolor": "#2a3f5f",
           "arrowhead": 0,
           "arrowwidth": 1
          },
          "autotypenumbers": "strict",
          "coloraxis": {
           "colorbar": {
            "outlinewidth": 0,
            "ticks": ""
           }
          },
          "colorscale": {
           "diverging": [
            [
             0,
             "#8e0152"
            ],
            [
             0.1,
             "#c51b7d"
            ],
            [
             0.2,
             "#de77ae"
            ],
            [
             0.3,
             "#f1b6da"
            ],
            [
             0.4,
             "#fde0ef"
            ],
            [
             0.5,
             "#f7f7f7"
            ],
            [
             0.6,
             "#e6f5d0"
            ],
            [
             0.7,
             "#b8e186"
            ],
            [
             0.8,
             "#7fbc41"
            ],
            [
             0.9,
             "#4d9221"
            ],
            [
             1,
             "#276419"
            ]
           ],
           "sequential": [
            [
             0,
             "#0d0887"
            ],
            [
             0.1111111111111111,
             "#46039f"
            ],
            [
             0.2222222222222222,
             "#7201a8"
            ],
            [
             0.3333333333333333,
             "#9c179e"
            ],
            [
             0.4444444444444444,
             "#bd3786"
            ],
            [
             0.5555555555555556,
             "#d8576b"
            ],
            [
             0.6666666666666666,
             "#ed7953"
            ],
            [
             0.7777777777777778,
             "#fb9f3a"
            ],
            [
             0.8888888888888888,
             "#fdca26"
            ],
            [
             1,
             "#f0f921"
            ]
           ],
           "sequentialminus": [
            [
             0,
             "#0d0887"
            ],
            [
             0.1111111111111111,
             "#46039f"
            ],
            [
             0.2222222222222222,
             "#7201a8"
            ],
            [
             0.3333333333333333,
             "#9c179e"
            ],
            [
             0.4444444444444444,
             "#bd3786"
            ],
            [
             0.5555555555555556,
             "#d8576b"
            ],
            [
             0.6666666666666666,
             "#ed7953"
            ],
            [
             0.7777777777777778,
             "#fb9f3a"
            ],
            [
             0.8888888888888888,
             "#fdca26"
            ],
            [
             1,
             "#f0f921"
            ]
           ]
          },
          "colorway": [
           "#636efa",
           "#EF553B",
           "#00cc96",
           "#ab63fa",
           "#FFA15A",
           "#19d3f3",
           "#FF6692",
           "#B6E880",
           "#FF97FF",
           "#FECB52"
          ],
          "font": {
           "color": "#2a3f5f"
          },
          "geo": {
           "bgcolor": "white",
           "lakecolor": "white",
           "landcolor": "#E5ECF6",
           "showlakes": true,
           "showland": true,
           "subunitcolor": "white"
          },
          "hoverlabel": {
           "align": "left"
          },
          "hovermode": "closest",
          "mapbox": {
           "style": "light"
          },
          "paper_bgcolor": "white",
          "plot_bgcolor": "#E5ECF6",
          "polar": {
           "angularaxis": {
            "gridcolor": "white",
            "linecolor": "white",
            "ticks": ""
           },
           "bgcolor": "#E5ECF6",
           "radialaxis": {
            "gridcolor": "white",
            "linecolor": "white",
            "ticks": ""
           }
          },
          "scene": {
           "xaxis": {
            "backgroundcolor": "#E5ECF6",
            "gridcolor": "white",
            "gridwidth": 2,
            "linecolor": "white",
            "showbackground": true,
            "ticks": "",
            "zerolinecolor": "white"
           },
           "yaxis": {
            "backgroundcolor": "#E5ECF6",
            "gridcolor": "white",
            "gridwidth": 2,
            "linecolor": "white",
            "showbackground": true,
            "ticks": "",
            "zerolinecolor": "white"
           },
           "zaxis": {
            "backgroundcolor": "#E5ECF6",
            "gridcolor": "white",
            "gridwidth": 2,
            "linecolor": "white",
            "showbackground": true,
            "ticks": "",
            "zerolinecolor": "white"
           }
          },
          "shapedefaults": {
           "line": {
            "color": "#2a3f5f"
           }
          },
          "ternary": {
           "aaxis": {
            "gridcolor": "white",
            "linecolor": "white",
            "ticks": ""
           },
           "baxis": {
            "gridcolor": "white",
            "linecolor": "white",
            "ticks": ""
           },
           "bgcolor": "#E5ECF6",
           "caxis": {
            "gridcolor": "white",
            "linecolor": "white",
            "ticks": ""
           }
          },
          "title": {
           "x": 0.05
          },
          "xaxis": {
           "automargin": true,
           "gridcolor": "white",
           "linecolor": "white",
           "ticks": "",
           "title": {
            "standoff": 15
           },
           "zerolinecolor": "white",
           "zerolinewidth": 2
          },
          "yaxis": {
           "automargin": true,
           "gridcolor": "white",
           "linecolor": "white",
           "ticks": "",
           "title": {
            "standoff": 15
           },
           "zerolinecolor": "white",
           "zerolinewidth": 2
          }
         }
        },
        "xaxis": {
         "anchor": "y",
         "domain": [
          0,
          1
         ]
        },
        "yaxis": {
         "anchor": "x",
         "domain": [
          0,
          1
         ]
        }
       }
      }
     },
     "metadata": {},
     "output_type": "display_data"
    }
   ],
   "source": [
    "env = LuxAI_S2() # create the environment object\n",
    "obs = env.reset(seed=126120267) # resets an environment with a seed\n",
    "\n",
    "# the observation is always composed of observations for both players.\n",
    "obs.keys(), obs[\"player_0\"].keys()\n",
    "\n",
    "# visualize the environment so far with rgb_array to get a quick look at the map\n",
    "# dark orange - high rubble, light orange - low rubble\n",
    "# blue = ice, yellow = ore\n",
    "img = env.render(\"rgb_array\", width=48, height=48)\n",
    "px.imshow(img).show()"
   ]
  },
  {
   "cell_type": "code",
   "execution_count": 3,
   "metadata": {},
   "outputs": [],
   "source": [
    "def rubble_tile_vision(x, y, rubble_map):\n",
    "    height = len(rubble_map) - 1\n",
    "    width = len(rubble_map[0]) - 1\n",
    "    vision_coords =  [\n",
    "\n",
    "        [x-1, y], [x, y-1], # left and top\n",
    "        [x+1, y], [x, y+1], # right and bottom\n",
    "        [x-1, y-1], [x+1, y-1], # diagonals\n",
    "        [x-1, y+1], [x+1, y+1], # diagonals\n",
    "        [x-2, y],   [x, y-2], # left and top \n",
    "        [x+2, y],   [x, y+2], # right and bottom \n",
    "        [x-2, y-1], [x-1, y-2], [x-2, y-2], # left and top diagonals \n",
    "        [x+2, y+1], [x+1, y+2], [x+2, y+2], # right and bottom diagonals \n",
    "        [x+2, y-1], [x+1, y-2], [x+2, y-2], # right and top diagonals \n",
    "        [x-2, y+1], [x-1, y+2], [x-2, y+2], # left and bottom diagonals \n",
    "\n",
    "        # feeler coords\n",
    "        [x-3, y],   [x, y-3], # left and top \n",
    "        [x+3, y],   [x, y+3], # right and bottom \n",
    "\n",
    "        [x, y-5],\n",
    "        [x-2, y-3], [x+2, y-3],\n",
    "        [x-5, y-2], [x-3, y-2], [x+3, y-2], [x+5, y-2],\n",
    "        [x+4, y-1], [x-4, y-1],\n",
    "        [x-6, y], [x+6, y],\n",
    "        [x+4, y+1], [x-4, y+1],\n",
    "        [x-5, y+2], [x-3, y+2], [x+3, y+2], [x+5, y+2],\n",
    "        [x-2, y+3], [x+2, y+3],\n",
    "        [x, y+5],\n",
    "\n",
    "    ]\n",
    "\n",
    "    return [(rubble_coord, rubble_map[rubble_coord[0]][rubble_coord[1]]) for rubble_coord in vision_coords \n",
    "        if rubble_coord[0] >= 0 and rubble_coord[0] <= width and\n",
    "           rubble_coord[1] >= 0 and rubble_coord[1] <= height\n",
    "    ]\n",
    "'''\n",
    "                  [ ]\n",
    "            [ ]   ^-5   [ ]\n",
    "    [ ]  [ ]      [ ]      [ ]   [ ]\n",
    "               [ ][ ][ ]   \n",
    "      [ ]   [ ][ ][ ][ ][ ]   [ ]\n",
    "[ ]      [ ][ ][ ] x [ ][ ][ ]      [ ]\n",
    "^-6   [ ]   [ ][ ][ ][ ][ ]   [ ]   ^+6\n",
    "               [ ][ ][ ]   \n",
    "    [ ]  [ ]      [ ]      [ ]   [ ]\n",
    "            [ ]         [ ]\n",
    "                  [ ]\n",
    "                  ^+5\n",
    "'''\n",
    "\n",
    "\n",
    "def set_coords_zero(desirable_coordinates, resource_indexes):\n",
    "    for x, y in resource_indexes:\n",
    "        try:\n",
    "            desirable_coordinates[x][y] = 0\n",
    "       \n",
    "        except IndexError:\n",
    "            continue\n",
    "\n",
    "    return desirable_coordinates\n",
    "\n",
    "\n",
    "def set_coords_one(desirable_coordinates, spawn_indexes):\n",
    "    for x, y in spawn_indexes:\n",
    "        try:\n",
    "            desirable_coordinates[x][y] = 1\n",
    "       \n",
    "        except IndexError:\n",
    "            continue\n",
    "\n",
    "    return desirable_coordinates\n",
    "\n",
    "\n",
    "def get_factory_tiles_from_center(x, y):\n",
    "    return np.array([\n",
    "        (x, y), # factory center\n",
    "        (x-1, y), (x, y-1), # left and top\n",
    "        (x+1, y), (x, y+1), # right and bottom\n",
    "        (x-1, y-1), (x+1, y-1), # diagonals\n",
    "        (x-1, y+1), (x+1, y+1), # diagonals\n",
    "    ]) \n",
    "    '''\n",
    "    [.][.][.]\n",
    "    [.][.][.]\n",
    "    [.][.][.]\n",
    "    '''\n",
    "\n",
    "\n",
    "def get_factory_occupied_tiles(x, y):\n",
    "    return np.array([\n",
    "        (x, y), # factory center\n",
    "        (x-1, y), (x, y-1), # left and top\n",
    "        (x+1, y), (x, y+1), # right and bottom\n",
    "        (x-1, y-1), (x+1, y-1), # diagonals\n",
    "        (x-1, y+1), (x+1, y+1), # diagonals\n",
    "        (x-2, y), (x, y-2), # left and top \n",
    "        (x+2, y), (x, y+2), # right and bottom \n",
    "        (x-2, y-1), (x-1, y-2), (x-2, y-2), # left and top diagonals \n",
    "        (x+2, y+1), (x+1, y+2), (x+2, y+2), # right and bottom diagonals \n",
    "        (x+2, y-1), (x+1, y-2), (x+2, y-2), # right and top diagonals \n",
    "        (x-2, y+1), (x-1, y+2), (x-2, y+2), # left and bottom diagonals \n",
    "        (x-3, y), (x, y-3), (x+3, y), (x, y+3), # left and top\n",
    "        (x-3, y), (x, y-3), (x+3, y), (x, y+3), # right and bottom\n",
    "        (x-3, y-1), (x-1, y-3), (x-3, y-3), # left and top diagonals \n",
    "        (x+3, y+1), (x+1, y+3), (x+3, y+3), # right and bottom diagonals \n",
    "        (x+3, y-1), (x+1, y-3), (x+3, y-3), # left and top diagonals \n",
    "        (x-3, y+1), (x-1, y+3), (x-3, y+3), # right and bottom diagonals \n",
    "        (x-4, y), (x, y-4), (x+4, y), (x, y+4), # left and top\n",
    "        (x-5, y), (x, y-5), (x+5, y), (x, y+5), # right and bottom\n",
    "    ]) \n",
    "    '''\n",
    "    [ ][ ][.][ ][ ]\n",
    "    [ ][ ][.][ ][ ]\n",
    "    [ ][.][.][.][ ]\n",
    " [.][.][.][X][.][.][.]\n",
    "    [ ][.][.][.][ ]\n",
    "    [ ][ ][.][ ][ ]\n",
    "    [ ][ ][.][ ][ ]\n",
    "    '''\n",
    "\n",
    "\n",
    "def get_bordering_coords(x, y):\n",
    "    return np.array([\n",
    "        (x, y), # center\n",
    "        (x-1, y), (x, y-1), # left and top\n",
    "        (x+1, y), (x, y+1), # right and bottom\n",
    "        (x-1, y-1), (x+1, y-1), # diagonals\n",
    "        (x-1, y+1), (x+1, y+1), # diagonals\n",
    "    ])\n",
    "\n",
    "\n",
    "# function used by Archimedes for locating resource border coordinates\n",
    "def neighbors(x, y):\n",
    "    return np.array([\n",
    "        # commented to give buffer, avoiding placing factory on resource\n",
    "        # layer 1\n",
    "        #(x-1, y), (x, y-1), # left and top\n",
    "        #(x+1, y), (x, y+1), # right and bottom\n",
    "\n",
    "        # layer 2\n",
    "        (x-2, y), (x, y-2), # left and top \n",
    "        (x+2, y), (x, y+2), # right and bottom \n",
    "\n",
    "        (x-2, y-1), (x-1, y-2), # (x-2, y-2), # left and top diagonals \n",
    "        (x+2, y+1), (x+1, y+2), # (x+2, y+2), # right and bottom diagonals \n",
    "\n",
    "        (x+2, y-1), (x+1, y-2), # (x+2, y-2), # right and top diagonals \n",
    "        (x-2, y+1), (x-1, y+2), # (x-2, y+2), # left and bottom diagonals \n",
    "\n",
    "        # commented away to try to get factory right next to resource\n",
    "        # layer 3\n",
    "        #(x-3, y), (x, y-3), (x+3, y), (x, y+3), # left and top\n",
    "        #(x-3, y), (x, y-3), (x+3, y), (x, y+3), # right and bottom\n",
    "\n",
    "        #(x-3, y-1), (x-1, y-3), (x-3, y-3), # left and top diagonals \n",
    "        #(x+3, y+1), (x+1, y+3), (x+3, y+3), # right and bottom diagonals \n",
    "\n",
    "        #(x+3, y-1), (x+1, y-3), (x+3, y-3), # left and top diagonals \n",
    "        #(x-3, y+1), (x-1, y+3), (x-3, y+3), # right and bottom diagonals \n",
    "\n",
    "    ])\n",
    "    '''\n",
    "    [ ][.][.][.][ ]\n",
    "    [.][ ][ ][ ][.]\n",
    "    [.][ ][X][ ][.]\n",
    "    [.][ ][ ][ ][.]\n",
    "    [ ][.][.][.][ ]\n",
    "    '''\n",
    "\n",
    "\n",
    "def coord_from_direction(x, y, direction):\n",
    "    if direction == 0:\n",
    "        return (x, y)\n",
    "    elif direction == 1:\n",
    "        return (x, y-1)\n",
    "    elif direction == 2:\n",
    "        return (x+1, y)\n",
    "    elif direction == 3:\n",
    "        return (x, y+1)\n",
    "    elif direction == 4:\n",
    "        return (x-1, y)\n",
    "'''\n",
    "# a[1] = direction (0 = center, 1 = up, 2 = right, 3 = down, 4 = left)\n",
    "move_deltas = np.array([[0, 0], [0, -1], [1, 0], [0, 1], [-1, 0]])\n",
    "'''\n",
    "\n",
    "\n",
    "# function used by Archimedes to check if tile is occupied by other bots\n",
    "def check_tile_occupation(game_state, unit_x, unit_y, direction, booked_coords, player, opponent):\n",
    "    friendly_bots = game_state.units[player]\n",
    "    hostile_bots = game_state.units[opponent]\n",
    "\n",
    "    friendly_coords = {(unit.pos[0], unit.pos[1]): unit.unit_type for (unit_id, unit) in friendly_bots.items()}\n",
    "    hostile_coords = {(unit.pos[0], unit.pos[1]): unit.unit_type for (unit_id, unit) in hostile_bots.items()}\n",
    "\n",
    "    # a[1] = direction (1 = up, 2 = right, 3 = down, 4 = left)\n",
    "    # move_deltas = np.array([0, -1], [1, 0], [0, 1], [-1, 0]])\n",
    "    bot_up = (unit_x, unit_y - 1)\n",
    "    bot_right = (unit_x + 1, unit_y)\n",
    "    bot_down = (unit_x, unit_y + 1)\n",
    "    bot_left = (unit_x - 1, unit_y)\n",
    "\n",
    "\n",
    "    # checks if no friendly is on direction tile, if none, direction remains, else set to 0\n",
    "    up_friendly = (bot_up not in friendly_coords and bot_up not in booked_coords) * 1\n",
    "    right_friendly = (bot_right not in friendly_coords and bot_right not in booked_coords) * 2\n",
    "    down_friendly = (bot_down not in friendly_coords and bot_down not in booked_coords) * 3\n",
    "    left_friendly = (bot_left not in friendly_coords and bot_left not in booked_coords) * 4\n",
    "\n",
    "    # checks if hostile bot is on direction tile, if there is one of type 'LIGHT', direction remains, else set to 0\n",
    "    up_hostile = True if (bot_up not in hostile_coords) or (bot_up in hostile_coords and hostile_coords[bot_up] == 'LIGHT' ) else False\n",
    "    right_hostile = True if (bot_right not in hostile_coords) or (bot_right in hostile_coords and hostile_coords[bot_right] == 'LIGHT' ) else False\n",
    "    down_hostile = True if (bot_down not in hostile_coords) or (bot_down in hostile_coords and hostile_coords[bot_down] == 'LIGHT' ) else False\n",
    "    left_hostile = True if (bot_left not in hostile_coords) or (bot_left in hostile_coords and hostile_coords[bot_left] == 'LIGHT' ) else False\n",
    "\n",
    "    '''\n",
    "    # this is where the hostile attack decision making will be placed, as distinguishing between light/heavy is important for combat\n",
    "    hostiles = [up_hostile, right_hostile, down_hostile, left_hostile]\n",
    "    '''\n",
    "    \n",
    "    # sets non occupied tile directions\n",
    "    up_free = up_friendly * up_hostile\n",
    "    right_free = right_friendly * right_hostile\n",
    "    down_free = down_friendly * down_hostile\n",
    "    left_free = left_friendly * left_hostile\n",
    "\n",
    "\n",
    "    # finds possible directions not occupied by friendly bots and hostile bots\n",
    "    directions = [up_free, right_free, down_free, left_free]\n",
    "    if direction in directions:\n",
    "        return direction\n",
    "    \n",
    "    elif sum(directions) > 0:\n",
    "        alt_directions = [d for d in directions if d > 0]\n",
    "        return random.choice(alt_directions)\n",
    "    '''\n",
    "    # this directs the random movement choice in the opposite axis to direction to keep the bot moving in the general direction\n",
    "    odd_direction = direction % 2 > 0\n",
    "    for alt_direction in directions:\n",
    "        alt_horisontal_directions = [d for d in directions if d > 0 and d % 2 == 0]\n",
    "        if odd_direction and len(alt_horisontal_directions) > 0:\n",
    "            return random.choice(alt_horisontal_directions)\n",
    "\n",
    "        alt_vertical_directions = [d for d in directions if d > 0 and d % 2 == 1]\n",
    "        if not odd_direction and len(alt_vertical_directions) > 0:\n",
    "            return random.choice(alt_vertical_directions)\n",
    "    '''\n",
    "\n",
    "    '''\n",
    "      []1\n",
    "    []2[][]4\n",
    "      []3\n",
    "    ''' \n",
    "\n",
    "    # if all direction tiles occupied with friendly bots, recharge recommended\n",
    "    return 0\n",
    "\n",
    "\n",
    "def heavy_overwatch(unit_x, unit_y, on_factory, closest_factory_tile, game_state, opponent):\n",
    "    # gets hostile bot coords\n",
    "    hostile_bots = game_state.units[opponent]\n",
    "    hostile_coords = {(unit.pos[0], unit.pos[1]): unit.unit_type for (unit_id, unit) in hostile_bots.items()}\n",
    "\n",
    "    # coords relative to bot position\n",
    "    bot_up = (unit_x, unit_y - 1)\n",
    "    bot_right = (unit_x + 1, unit_y)\n",
    "    bot_down = (unit_x, unit_y + 1)\n",
    "    bot_left = (unit_x - 1, unit_y)\n",
    "\n",
    "    # checks if hostile bot is on directly neighbouring tiles, and is of type HEAVY\n",
    "    up_hostile = True if (bot_up in hostile_coords and hostile_coords[bot_up] == 'HEAVY' ) else False\n",
    "    right_hostile = True if (bot_right in hostile_coords and hostile_coords[bot_right] == 'HEAVY' ) else False\n",
    "    down_hostile = True if (bot_down in hostile_coords and hostile_coords[bot_down] == 'HEAVY' ) else False\n",
    "    left_hostile = True if (bot_left in hostile_coords and hostile_coords[bot_left] == 'HEAVY' ) else False\n",
    "    hostile_on_flank = (up_hostile or right_hostile or down_hostile or left_hostile)\n",
    "\n",
    "    # check for heavy hostiles on opposing tiles, if on factory tile move on hostile tile, else move to closest factory tile \n",
    "    if on_factory and hostile_on_flank:\n",
    "        up_target = up_hostile * 1\n",
    "        right_target = right_hostile * 2\n",
    "        down_target = down_hostile * 3\n",
    "        left_target = left_hostile * 4\n",
    "        directions = [up_target, right_target, down_target, left_target]\n",
    "        target_dir = [target for target in directions if target != 0]\n",
    "\n",
    "        return\n",
    "    \n",
    "    elif not on_factory and hostile_on_flank:\n",
    "        return direction_to(src=np.array([unit_x, unit_y]), target=closest_factory_tile)\n",
    "    \n",
    "    else:\n",
    "        return False\n",
    "\n",
    "\n",
    "    \n",
    "\n",
    "class Archimedes_Lever():\n",
    "    def __init__(self, player: str, env_cfg: EnvConfig) -> None:\n",
    "        self.player = player\n",
    "        self.opp_player = \"player_1\" if self.player == \"player_0\" else \"player_0\"\n",
    "        np.random.seed(0)\n",
    "        self.env_cfg: EnvConfig = env_cfg\n",
    "\n",
    "    # Setup of early game\n",
    "    def early_setup(self, step: int, obs, remainingOverageTime: int = 60):\n",
    "        if step == 0:\n",
    "            # bid 0 to not waste resources bidding and declare as the default faction\n",
    "            # you can bid -n to prefer going second or n to prefer going first in placement\n",
    "            return dict(faction=\"AlphaStrike\", bid=0)\n",
    "        else:\n",
    "            game_state = obs_to_game_state(step, self.env_cfg, obs)\n",
    "            my_turn_to_evaluate_spawns = my_turn_to_place_factory(game_state.teams[self.player].place_first, step)\n",
    "\n",
    "            # only processes map on my placement turns\n",
    "            if my_turn_to_evaluate_spawns:\n",
    "                ### Using numpy arrays, maps out desirable spawn locations\n",
    "                # gets border indexes of ore coordinates and ice coordinates\n",
    "                indOre = np.transpose(np.where(game_state.board.ore > 0))\n",
    "                indIce = np.transpose(np.where(game_state.board.ice > 0))\n",
    "                indFactories = np.transpose(np.where(game_state.board.factory_occupancy_map >= 0))\n",
    "\n",
    "                # finds possible spawns around resources\n",
    "                array_spawns = np.unique(np.concatenate(\n",
    "                    [neighbors(*ind) for ind in indIce],\n",
    "                    #[neighbors(*ind) for ind in iceSpawns],\n",
    "                    ), axis=0)\n",
    "\n",
    "                # finds tiles that are occupied or invalid spawn coords\n",
    "                array_occupied_coords = np.unique(np.concatenate([get_factory_occupied_tiles(*i) for i in indFactories]), axis=0) if len(indFactories) > 0 else []\n",
    "                array_invalid_coords = np.unique(np.concatenate(\n",
    "                    (np.concatenate([get_bordering_coords(*ind) for ind in indOre], axis=0),\n",
    "                    np.concatenate([get_bordering_coords(*ind) for ind in indIce], axis=0))\n",
    "                ), axis=0)\n",
    "\n",
    "\n",
    "                # filters spawn coords for outside map coords, and those overlapping ivalid or occupied tiles\n",
    "                array_inside_map_spawns = [(np.array([c[0], c[1]]), game_state.board.rubble[c[0]][c[1]]) for c in array_spawns if (c[0] <= 46 and c[0] >= 1) and (c[1] <= 46 and c[1] >= 1)]\n",
    "                array_valid_spawns = [coord for coord in array_inside_map_spawns if \n",
    "                    all(all(coord[0] == inv_coord) == False for inv_coord in array_invalid_coords) and \n",
    "                    all(all(coord[0] == occ_coord) == False for occ_coord in array_occupied_coords)\n",
    "                ]\n",
    "\n",
    "                '''\n",
    "                desirable_coordinates_filtered = np.copy(game_state.board.valid_spawns_mask)\n",
    "                desirable_coordinates_filtered[desirable_coordinates_filtered == 1] = 0\n",
    "                # TODO mirror filtering here\n",
    "                # visualizes the map and AI vision\n",
    "                img = env.render(\"rgb_array\", width=48, height=48)\n",
    "                #px.imshow(game_state.board.rubble.T).show()\n",
    "                px.imshow(img).show()\n",
    "                px.imshow(desirable_coordinates_filtered.T).show()\n",
    "                '''\n",
    "\n",
    "\n",
    "                ### Factory placement period\n",
    "                # how much water and metal you have in your starting pool to give to new factories\n",
    "                water_left = game_state.teams[self.player].water\n",
    "                metal_left = game_state.teams[self.player].metal\n",
    "                \n",
    "                # how many factories you have left to place\n",
    "                factories_to_place = game_state.teams[self.player].factories_to_place\n",
    "                # whether it is your turn to place a factory\n",
    "                my_turn_to_place = my_turn_to_place_factory(game_state.teams[self.player].place_first, step)\n",
    "\n",
    "                if factories_to_place > 0 and my_turn_to_place:\n",
    "                    # we will spawn our factory in a random location with 150 metal and water if it is our turn to place\n",
    "                    array_sorted_spawns = sorted(array_valid_spawns, key=lambda coord: coord[1])\n",
    "                    #print(\"spawn choices\", len(array_sorted_spawns))\n",
    "                    spawn_loc = array_sorted_spawns[0][0]\n",
    "\n",
    "                    return dict(spawn=spawn_loc, metal=150, water=150)\n",
    "\n",
    "            else:\n",
    "                # returns empty dictionary if no decisions were reached\n",
    "                return dict()\n",
    "\n",
    "\n",
    "    \n",
    "    # Setup of logic in the act phase\n",
    "    def act(self, step: int, obs, remainingOverageTime: int = 60):\n",
    "        # info used to make decisions in the act phase\n",
    "        actions = dict()\n",
    "        game_state: GameState = obs_to_game_state(step, self.env_cfg, obs)\n",
    "        factories = game_state.factories[self.player]\n",
    "        game_state.teams[self.player].place_first\n",
    "\n",
    "        # storing of info about factories\n",
    "        factory_tiles, factory_units = [], []\n",
    "        for unit_id, factory in factories.items():\n",
    "            tiles = get_factory_tiles_from_center(x=factory.pos[0], y=factory.pos[1])\n",
    "            for tile in tiles:\n",
    "                factory_tiles += [tile]\n",
    "            factory_units += [factory]\n",
    "        factory_tiles = np.array(factory_tiles)\n",
    "\n",
    "        ### Creation of bots\n",
    "        heavy_bot_cost = self.env_cfg.ROBOTS[\"HEAVY\"]\n",
    "        light_bot_cost = self.env_cfg.ROBOTS[\"LIGHT\"]\n",
    "\n",
    "        # heavy bots\n",
    "        for unit_id, factory in factories.items():\n",
    "            if factory.power >= heavy_bot_cost.POWER_COST and factory.cargo.metal >= heavy_bot_cost.METAL_COST:\n",
    "                actions[unit_id] = factory.build_heavy()\n",
    "\n",
    "        \n",
    "        # light bots\n",
    "        if game_state.real_env_steps >= 2:\n",
    "            for unit_id, factory in factories.items():\n",
    "                if factory.power >= light_bot_cost.POWER_COST and factory.cargo.metal >= light_bot_cost.METAL_COST:\n",
    "                    actions[unit_id] = factory.build_light()\n",
    "\n",
    "\n",
    "        \n",
    "\n",
    "        #print(self.player)\n",
    "        #print(\"turn:\", game_state.real_env_steps)\n",
    "\n",
    "        ### Decides when the factories should start growing Lichen\n",
    "        # Watering lichen if at right turn\n",
    "        '''\n",
    "        # starting idea of some sort of regulating mechanism on when to start watering\n",
    "        # see google sheets for optimal time to start watering by looking at water cargo,\n",
    "        # number of turns left, \n",
    "        # and the water cost from the calculus of water consumption growth\n",
    "        '''\n",
    "        growth_turn = 990 - 300 # calculations suggenst 77 turns prior\n",
    "        grow = game_state.real_env_steps >= growth_turn\n",
    "        for factory_id, factory in factories.items():\n",
    "            #print(factory_id, \"has;\", factory.cargo.metal, \"metal\", factory.cargo.water, \"water\", factory.cargo.ice, \"ice\", factory.power, \"power\", \"watering cost: \", factory.water_cost(game_state))\n",
    "            if game_state.real_env_steps >= growth_turn:\n",
    "                actions[factory_id] = factory.water()\n",
    "        '''\n",
    "        # TODO continue this experiment of water to power conversion to see what strategies this unlocks, such as more efficient clearing of rubble,\n",
    "        #      or mining assignments picking up power for ore mining\n",
    "        grow = game_state.real_env_steps % 3 == 0\n",
    "        for factory_id, factory in factories.items():\n",
    "            #print(factory_id, \"has;\", factory.cargo.metal, \"metal\", factory.cargo.water, \"water\", factory.cargo.ice, \"ice\", factory.power, \"power\", \"watering cost: \", factory.water_cost(game_state))\n",
    "            if grow:\n",
    "                actions[factory_id] = factory.water()\n",
    "        '''\n",
    "\n",
    "        ### Finds all ice and ore tiles\n",
    "        ice_map = game_state.board.ice \n",
    "        ore_map = game_state.board.ore \n",
    "        rubble_map = game_state.board.rubble\n",
    "        ice_tile_locations = np.argwhere(ice_map == 1) # numpy magic to get the position of every ice tile\n",
    "        ore_tile_locations = np.argwhere(ore_map == 1) # numpy magic to get the position of every ore tile\n",
    "        rubble_tile_locations = np.argwhere(rubble_map > 0) # numpy magic to get the position of every rubble tile\n",
    "        rubble_tile_locations_low_rubble = np.argwhere(rubble_map <= 30)\n",
    "        closest_rubble_tile = rubble_tile_locations[0]\n",
    "        units = game_state.units[self.player]\n",
    "\n",
    "        ### Specifies assignments for heavy and light bots\n",
    "        light_ore_miners = 0\n",
    "        mine_assignments = 0\n",
    "        rubble_assignments = 0\n",
    "\n",
    "\n",
    "        # booked tiles for avoiding \n",
    "        move_bookings = []\n",
    "\n",
    "        for unit_id, unit in units.items():\n",
    "            isHeavy = unit.unit_type == 'HEAVY'\n",
    "            isLight = unit.unit_type == 'LIGHT'\n",
    "\n",
    "            # info about closest map tiles\n",
    "            closest_factory_tile = sorted(factory_tiles, key=lambda p: (p[0] - unit.pos[0])**2 + (p[1] - unit.pos[1])**2 )[0]\n",
    "            closest_ice_tile = sorted(ice_tile_locations, key=lambda p: (p[0] - unit.pos[0])**2 + (p[1] - unit.pos[1])**2 )[0]\n",
    "            \n",
    "\n",
    "            cargo_limit_ice = 960\n",
    "            cargo_limit_ore = 50\n",
    "            on_factory = all(unit.pos == closest_factory_tile)\n",
    "            ajacent_factory = 1 >= abs((unit.pos[0] - closest_factory_tile[0])**2 + (unit.pos[1] - closest_factory_tile[1])**2)\n",
    "\n",
    "\n",
    "            ### Heavy bot logic\n",
    "            if isHeavy:\n",
    "                below_power_threshold_heavy = unit.power <= 100\n",
    "                below_power_move_heavy = unit.power <= 50\n",
    "                free_cargo_ice = unit.cargo.ice < cargo_limit_ice\n",
    "                recharge_need_heavy = math.floor(1000 - unit.power)\n",
    "                on_ice = all(unit.pos == closest_ice_tile)\n",
    "\n",
    "                # Print out bot info \n",
    "                #print(unit.unit_type, unit_id, \"at:\", unit.pos, \"power and ice:\", unit.power, unit.cargo.ice, \"unit queue:\", len(unit.action_queue))\n",
    "                \n",
    "                ### performs overwatch check to see if HEAVY bots on flanks\n",
    "                overwatch_check = heavy_overwatch(\n",
    "                    unit_x=unit.pos[0],\n",
    "                    unit_y=unit.pos[1],\n",
    "                    on_factory=on_factory,\n",
    "                    closest_factory_tile=closest_factory_tile,\n",
    "                    game_state=game_state,\n",
    "                    opponent=self.opp_player\n",
    "                )\n",
    "\n",
    "                # has hostile HEAVY on flank, moves to attack, or to factory tile if not already on one\n",
    "                if overwatch_check != False:\n",
    "                    move_bookings.append(overwatch_check)\n",
    "                    actions[unit_id] = [unit.move(overwatch_check, repeat=0)]\n",
    "                    continue\n",
    "\n",
    "                # on ice, but not over cargo capacity limit. Dig ice\n",
    "                elif on_ice and free_cargo_ice and not below_power_threshold_heavy:\n",
    "                    actions[unit_id] = [unit.dig(repeat=0)]\n",
    "                    #print(unit_id, \"digging\")\n",
    "                \n",
    "                # not on ice, not over cargo capacity limit. Move to ice\n",
    "                elif not on_ice and free_cargo_ice and not below_power_threshold_heavy:\n",
    "                    direction = direction_to(unit.pos, closest_ice_tile)\n",
    "                    move_bookings.append(coord_from_direction(x=unit.pos[0], y=unit.pos[1], direction=direction))\n",
    "                    actions[unit_id] = [unit.move(direction, repeat=0)]\n",
    "                    #print(unit_id, \"move dig\")\n",
    "                \n",
    "                # on factory, below power threshold. Pickup power\n",
    "                elif on_factory and below_power_threshold_heavy:\n",
    "                    direction = direction_to(unit.pos, closest_factory_tile)\n",
    "                    actions[unit_id] = [unit.pickup(4, recharge_need_heavy, repeat=0)]\n",
    "                    #print(unit_id, \"pickup power\")\n",
    "                \n",
    "                # not on factory, below power threshold. Move to recharge\n",
    "                elif not on_factory and (below_power_threshold_heavy and not below_power_move_heavy):\n",
    "                    direction = direction_to(unit.pos, closest_factory_tile)\n",
    "                    move_bookings.append(coord_from_direction(x=unit.pos[0], y=unit.pos[1], direction=direction))\n",
    "                    actions[unit_id] = [unit.move(direction, repeat=0)]\n",
    "                    #print(unit_id, \"move recharge\")\n",
    "\n",
    "                # ajacent to factory, over cargo limit. Transfer ice\n",
    "                elif ajacent_factory and not free_cargo_ice and not below_power_threshold_heavy:\n",
    "                    direction = direction_to(unit.pos, closest_factory_tile)\n",
    "                    actions[unit_id] = [unit.transfer(direction, 0, unit.cargo.ice, repeat=0)]\n",
    "                    #print(unit_id, \"transfer\")\n",
    "\n",
    "                # not ajacent to factory. Move to transfer\n",
    "                elif not ajacent_factory and not free_cargo_ice and not below_power_threshold_heavy:\n",
    "                    direction = direction_to(unit.pos, closest_factory_tile)\n",
    "                    move_bookings.append(coord_from_direction(x=unit.pos[0], y=unit.pos[1], direction=direction))\n",
    "                    actions[unit_id] = [unit.move(direction, repeat=0)]\n",
    "                    #print(unit_id, \"move transfer\")\n",
    "                \n",
    "                # not on factory, below critical power. Do nothing (recharge)\n",
    "                elif not on_factory and (below_power_threshold_heavy and below_power_move_heavy):\n",
    "                    #print(unit_id, \"doing nothing (recharging)\")\n",
    "                    continue\n",
    "\n",
    "\n",
    "            ### Finds all ore tiles, sorts by proximity to light bot\n",
    "            ### Light bot logic\n",
    "            if isLight:\n",
    "                # TODO figure out weather to keep this vision function\n",
    "                #bot_rubble_vision = rubble_tile_vision(x=unit.pos[0], y=unit.pos[1], rubble_map=game_state.board.rubble)\n",
    "                # sorts low rubble tiles by proximity to closest factory tile to unit\n",
    "                sorted_rubble_tile_vision = sorted(filter(lambda x: game_state.board.rubble[x[0]][x[1]] != 0, rubble_tile_locations_low_rubble), key=lambda coord: (coord[0] - closest_factory_tile[0])**2 + (coord[1] - closest_factory_tile[1])**2)\n",
    "                lowest_rubble__tile_visible = sorted_rubble_tile_vision[0]\n",
    "\n",
    "                closest_ore_tiles = sorted(ore_tile_locations, key=lambda p: (p[0] - unit.pos[0])**2 + (p[1] - unit.pos[1])**2 )\n",
    "                closest_rubble_tiles = sorted(filter(lambda x: (game_state.board.rubble[x[0]][x[1]] != 0) or (game_state.board.ice[x[0]][x[1]] == 1) or (game_state.board.rubble[x[0]][x[1]] == 1), rubble_tile_locations_low_rubble), key=lambda p: (p[0] - unit.pos[0])**2 + (p[1] - unit.pos[1])**2 )\n",
    "                closest_ore_tile = closest_ore_tiles[0]\n",
    "                closest_rubble_tile = closest_rubble_tiles[0]\n",
    "                \n",
    "                # decides if the bot should be assigned an ore location or find closest rubble\n",
    "                on_ore_assignment = mine_assignments < light_ore_miners\n",
    "                if on_ore_assignment and mine_assignments < len(closest_ore_tiles):\n",
    "                    closest_ore_tile = closest_ore_tiles[mine_assignments]\n",
    "                    mine_assignments += 1\n",
    "                if not on_ore_assignment and rubble_assignments < len(closest_rubble_tiles):\n",
    "                    rubble_assignments += 1\n",
    "\n",
    "                charge_state = game_state.is_day() and unit.power < 150 and not on_factory\n",
    "                power_threshold_light = 6\n",
    "                below_power_threshold_light = unit.power <= 6\n",
    "                power_for_dig = unit.power >= unit.dig_cost(game_state)\n",
    "                recharge_need_light = math.floor(150 - unit.power)\n",
    "                on_ore = all(unit.pos == closest_ore_tile)\n",
    "                on_rubble = all(unit.pos == closest_rubble_tile)\n",
    "                free_cargo_ore = unit.cargo.ore < cargo_limit_ore\n",
    "\n",
    "\n",
    "                # Print out bot info \n",
    "                #print(unit.unit_type, unit_id, \"at:\", unit.pos, \"power and ore:\", unit.power, unit.cargo.ore, \"unit queue:\", len(unit.action_queue))\n",
    "\n",
    "                # TODO perform some sort of check to see if bot has hostile bot (light = attack, heavy = flee) on horizontal/vertical tiles\n",
    "\n",
    "                # on ore, under cargo limit, not below power threshold, not charge state, not charge state. Dig ore\n",
    "                if on_ore and free_cargo_ore and not below_power_threshold_light and not charge_state:\n",
    "                    actions[unit_id] = [unit.dig(repeat=0)]\n",
    "                    #print(unit_id, \"dig ore\")\n",
    "                \n",
    "\n",
    "                # on rubble, under cargo limit, not below power threshold, not charge state. Dig rubble\n",
    "                elif on_rubble and free_cargo_ore and not below_power_threshold_light and not charge_state:\n",
    "                    actions[unit_id] = [unit.dig(repeat=0)]\n",
    "                    #print(unit_id, \"dig rubble\")\n",
    "                \n",
    "\n",
    "                # on ore assignment, not on ore, not on rubble, under cargo limit, not below power threshold, not charge state. Move to ore\n",
    "                elif on_ore_assignment and not on_ore and not on_rubble and free_cargo_ore and not below_power_threshold_light and not charge_state:\n",
    "                    direction = direction_to(unit.pos, closest_ore_tile)\n",
    "                    newDirection = check_tile_occupation(game_state=game_state,\n",
    "                        unit_x=unit.pos[0],\n",
    "                        unit_y=unit.pos[1],\n",
    "                        direction=direction,\n",
    "                        booked_coords=move_bookings,\n",
    "                        player=self.player,\n",
    "                        opponent=self.opp_player\n",
    "                    )\n",
    "                \n",
    "                    if newDirection == 0:\n",
    "                        continue\n",
    "                        #print(unit_id, \"recharge instead of moving\")\n",
    "                        \n",
    "                    else:\n",
    "                        move_bookings.append(coord_from_direction(x=unit.pos[0], y=unit.pos[1], direction=newDirection))\n",
    "                        actions[unit_id] = [unit.move(newDirection, repeat=0)]\n",
    "                        #print(unit_id, \"move to ore\")\n",
    "                    \n",
    "\n",
    "                # not on ore assignment, not on ore, not on rubble, under cargo limit, not below power threshold, not charge state. Move to rubble\n",
    "                elif not on_ore_assignment and not on_rubble and free_cargo_ore and not below_power_threshold_light and not charge_state:\n",
    "                    direction = direction_to(unit.pos, lowest_rubble__tile_visible)\n",
    "                    newDirection = check_tile_occupation(game_state=game_state,\n",
    "                        unit_x=unit.pos[0],\n",
    "                        unit_y=unit.pos[1],\n",
    "                        direction=direction,\n",
    "                        booked_coords=move_bookings,\n",
    "                        player=self.player,\n",
    "                        opponent=self.opp_player\n",
    "                    )\n",
    "\n",
    "                    if newDirection == 0:\n",
    "                        continue\n",
    "                        #print(unit_id, \"recharge instead of moving\")\n",
    "                        \n",
    "                    else:\n",
    "                        move_bookings.append(coord_from_direction(x=unit.pos[0], y=unit.pos[1], direction=newDirection))\n",
    "                        actions[unit_id] = [unit.move(newDirection, repeat=0)]\n",
    "                        #print(unit_id, \"move to rubble\")\n",
    "\n",
    "\n",
    "                # below power threshold or in a charge state. Do nothing (recharge)\n",
    "                elif below_power_threshold_light or charge_state:\n",
    "                    continue\n",
    "                    #print(unit_id, \"recharge\")\n",
    "                \n",
    "\n",
    "                # ajacent to factory, at/over cargo limit, not below power threshold, not charge state. Transfer ore\n",
    "                elif ajacent_factory and not free_cargo_ore and not below_power_threshold_light and not charge_state:\n",
    "                    direction = direction_to(unit.pos, closest_factory_tile)\n",
    "                    actions[unit_id] = [unit.transfer(direction, 1, unit.cargo.ore)]\n",
    "                    #print(unit_id, \"transfer cargo\")\n",
    "                \n",
    "\n",
    "                # not ajacent to factory, at/over cargo limit, not below power threshold, not charge state. Move to transfer\n",
    "                elif not ajacent_factory and not free_cargo_ore and not below_power_threshold_light and not charge_state:\n",
    "                    direction = direction_to(unit.pos, closest_factory_tile)\n",
    "                    move_bookings.append(coord_from_direction(x=unit.pos[0], y=unit.pos[1], direction=direction))\n",
    "                    actions[unit_id] = [unit.move(direction, repeat=0)]\n",
    "                    #print(unit_id, \"move to transfer cargo\")\n",
    "\n",
    "        '''\n",
    "        # NB DO NOT REMOVE\n",
    "        # SERVES AS BACKUP FOR TESTING if lux_functions stops working\n",
    "        if game_state.env_steps >= 998:\n",
    "            player0_total_lichen = 0\n",
    "            player1_total_lichen = 0\n",
    "            game_state: GameState = obs_to_game_state(step, env.state.env_cfg, obs)\n",
    "            player0_factories = game_state.factories['player_0']\n",
    "            player1_factories = game_state.factories['player_1']\n",
    "\n",
    "            for factory_id, factory in player0_factories.items():\n",
    "                lichen_strain_tiles = np.argwhere(game_state.board.lichen_strains == factory.strain_id)\n",
    "                for tile in lichen_strain_tiles:\n",
    "                    player0_total_lichen += game_state.board.lichen[tile[0]][tile[1]]\n",
    "\n",
    "\n",
    "            for factory_id, factory in player1_factories.items():\n",
    "                lichen_strain_tiles = np.argwhere(game_state.board.lichen_strains == factory.strain_id)\n",
    "                for tile in lichen_strain_tiles:\n",
    "                    player1_total_lichen += game_state.board.lichen[tile[0]][tile[1]]\n",
    "\n",
    "\n",
    "            print(\"turn:\", game_state.env_steps)\n",
    "            print('player_0 lichen:', player0_total_lichen)\n",
    "            print('player_1 lichen:', player1_total_lichen)\n",
    "        '''\n",
    "\n",
    "        #print()\n",
    "\n",
    "\n",
    "\n",
    "\n",
    "        \n",
    "\n",
    "        return actions\n",
    "\n"
   ]
  },
  {
   "cell_type": "code",
   "execution_count": 4,
   "metadata": {},
   "outputs": [
    {
     "data": {
      "application/vnd.plotly.v1+json": {
       "config": {
        "plotlyServerURL": "https://plot.ly"
       },
       "data": [
        {
         "hovertemplate": "x: %{x}<br>y: %{y}<br>color: [%{z[0]}, %{z[1]}, %{z[2]}]<extra></extra>",
         "name": "0",
         "source": "data:image/png;base64,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",
         "type": "image",
         "xaxis": "x",
         "yaxis": "y"
        }
       ],
       "layout": {
        "margin": {
         "t": 60
        },
        "template": {
         "data": {
          "bar": [
           {
            "error_x": {
             "color": "#2a3f5f"
            },
            "error_y": {
             "color": "#2a3f5f"
            },
            "marker": {
             "line": {
              "color": "#E5ECF6",
              "width": 0.5
             },
             "pattern": {
              "fillmode": "overlay",
              "size": 10,
              "solidity": 0.2
             }
            },
            "type": "bar"
           }
          ],
          "barpolar": [
           {
            "marker": {
             "line": {
              "color": "#E5ECF6",
              "width": 0.5
             },
             "pattern": {
              "fillmode": "overlay",
              "size": 10,
              "solidity": 0.2
             }
            },
            "type": "barpolar"
           }
          ],
          "carpet": [
           {
            "aaxis": {
             "endlinecolor": "#2a3f5f",
             "gridcolor": "white",
             "linecolor": "white",
             "minorgridcolor": "white",
             "startlinecolor": "#2a3f5f"
            },
            "baxis": {
             "endlinecolor": "#2a3f5f",
             "gridcolor": "white",
             "linecolor": "white",
             "minorgridcolor": "white",
             "startlinecolor": "#2a3f5f"
            },
            "type": "carpet"
           }
          ],
          "choropleth": [
           {
            "colorbar": {
             "outlinewidth": 0,
             "ticks": ""
            },
            "type": "choropleth"
           }
          ],
          "contour": [
           {
            "colorbar": {
             "outlinewidth": 0,
             "ticks": ""
            },
            "colorscale": [
             [
              0,
              "#0d0887"
             ],
             [
              0.1111111111111111,
              "#46039f"
             ],
             [
              0.2222222222222222,
              "#7201a8"
             ],
             [
              0.3333333333333333,
              "#9c179e"
             ],
             [
              0.4444444444444444,
              "#bd3786"
             ],
             [
              0.5555555555555556,
              "#d8576b"
             ],
             [
              0.6666666666666666,
              "#ed7953"
             ],
             [
              0.7777777777777778,
              "#fb9f3a"
             ],
             [
              0.8888888888888888,
              "#fdca26"
             ],
             [
              1,
              "#f0f921"
             ]
            ],
            "type": "contour"
           }
          ],
          "contourcarpet": [
           {
            "colorbar": {
             "outlinewidth": 0,
             "ticks": ""
            },
            "type": "contourcarpet"
           }
          ],
          "heatmap": [
           {
            "colorbar": {
             "outlinewidth": 0,
             "ticks": ""
            },
            "colorscale": [
             [
              0,
              "#0d0887"
             ],
             [
              0.1111111111111111,
              "#46039f"
             ],
             [
              0.2222222222222222,
              "#7201a8"
             ],
             [
              0.3333333333333333,
              "#9c179e"
             ],
             [
              0.4444444444444444,
              "#bd3786"
             ],
             [
              0.5555555555555556,
              "#d8576b"
             ],
             [
              0.6666666666666666,
              "#ed7953"
             ],
             [
              0.7777777777777778,
              "#fb9f3a"
             ],
             [
              0.8888888888888888,
              "#fdca26"
             ],
             [
              1,
              "#f0f921"
             ]
            ],
            "type": "heatmap"
           }
          ],
          "heatmapgl": [
           {
            "colorbar": {
             "outlinewidth": 0,
             "ticks": ""
            },
            "colorscale": [
             [
              0,
              "#0d0887"
             ],
             [
              0.1111111111111111,
              "#46039f"
             ],
             [
              0.2222222222222222,
              "#7201a8"
             ],
             [
              0.3333333333333333,
              "#9c179e"
             ],
             [
              0.4444444444444444,
              "#bd3786"
             ],
             [
              0.5555555555555556,
              "#d8576b"
             ],
             [
              0.6666666666666666,
              "#ed7953"
             ],
             [
              0.7777777777777778,
              "#fb9f3a"
             ],
             [
              0.8888888888888888,
              "#fdca26"
             ],
             [
              1,
              "#f0f921"
             ]
            ],
            "type": "heatmapgl"
           }
          ],
          "histogram": [
           {
            "marker": {
             "pattern": {
              "fillmode": "overlay",
              "size": 10,
              "solidity": 0.2
             }
            },
            "type": "histogram"
           }
          ],
          "histogram2d": [
           {
            "colorbar": {
             "outlinewidth": 0,
             "ticks": ""
            },
            "colorscale": [
             [
              0,
              "#0d0887"
             ],
             [
              0.1111111111111111,
              "#46039f"
             ],
             [
              0.2222222222222222,
              "#7201a8"
             ],
             [
              0.3333333333333333,
              "#9c179e"
             ],
             [
              0.4444444444444444,
              "#bd3786"
             ],
             [
              0.5555555555555556,
              "#d8576b"
             ],
             [
              0.6666666666666666,
              "#ed7953"
             ],
             [
              0.7777777777777778,
              "#fb9f3a"
             ],
             [
              0.8888888888888888,
              "#fdca26"
             ],
             [
              1,
              "#f0f921"
             ]
            ],
            "type": "histogram2d"
           }
          ],
          "histogram2dcontour": [
           {
            "colorbar": {
             "outlinewidth": 0,
             "ticks": ""
            },
            "colorscale": [
             [
              0,
              "#0d0887"
             ],
             [
              0.1111111111111111,
              "#46039f"
             ],
             [
              0.2222222222222222,
              "#7201a8"
             ],
             [
              0.3333333333333333,
              "#9c179e"
             ],
             [
              0.4444444444444444,
              "#bd3786"
             ],
             [
              0.5555555555555556,
              "#d8576b"
             ],
             [
              0.6666666666666666,
              "#ed7953"
             ],
             [
              0.7777777777777778,
              "#fb9f3a"
             ],
             [
              0.8888888888888888,
              "#fdca26"
             ],
             [
              1,
              "#f0f921"
             ]
            ],
            "type": "histogram2dcontour"
           }
          ],
          "mesh3d": [
           {
            "colorbar": {
             "outlinewidth": 0,
             "ticks": ""
            },
            "type": "mesh3d"
           }
          ],
          "parcoords": [
           {
            "line": {
             "colorbar": {
              "outlinewidth": 0,
              "ticks": ""
             }
            },
            "type": "parcoords"
           }
          ],
          "pie": [
           {
            "automargin": true,
            "type": "pie"
           }
          ],
          "scatter": [
           {
            "fillpattern": {
             "fillmode": "overlay",
             "size": 10,
             "solidity": 0.2
            },
            "type": "scatter"
           }
          ],
          "scatter3d": [
           {
            "line": {
             "colorbar": {
              "outlinewidth": 0,
              "ticks": ""
             }
            },
            "marker": {
             "colorbar": {
              "outlinewidth": 0,
              "ticks": ""
             }
            },
            "type": "scatter3d"
           }
          ],
          "scattercarpet": [
           {
            "marker": {
             "colorbar": {
              "outlinewidth": 0,
              "ticks": ""
             }
            },
            "type": "scattercarpet"
           }
          ],
          "scattergeo": [
           {
            "marker": {
             "colorbar": {
              "outlinewidth": 0,
              "ticks": ""
             }
            },
            "type": "scattergeo"
           }
          ],
          "scattergl": [
           {
            "marker": {
             "colorbar": {
              "outlinewidth": 0,
              "ticks": ""
             }
            },
            "type": "scattergl"
           }
          ],
          "scattermapbox": [
           {
            "marker": {
             "colorbar": {
              "outlinewidth": 0,
              "ticks": ""
             }
            },
            "type": "scattermapbox"
           }
          ],
          "scatterpolar": [
           {
            "marker": {
             "colorbar": {
              "outlinewidth": 0,
              "ticks": ""
             }
            },
            "type": "scatterpolar"
           }
          ],
          "scatterpolargl": [
           {
            "marker": {
             "colorbar": {
              "outlinewidth": 0,
              "ticks": ""
             }
            },
            "type": "scatterpolargl"
           }
          ],
          "scatterternary": [
           {
            "marker": {
             "colorbar": {
              "outlinewidth": 0,
              "ticks": ""
             }
            },
            "type": "scatterternary"
           }
          ],
          "surface": [
           {
            "colorbar": {
             "outlinewidth": 0,
             "ticks": ""
            },
            "colorscale": [
             [
              0,
              "#0d0887"
             ],
             [
              0.1111111111111111,
              "#46039f"
             ],
             [
              0.2222222222222222,
              "#7201a8"
             ],
             [
              0.3333333333333333,
              "#9c179e"
             ],
             [
              0.4444444444444444,
              "#bd3786"
             ],
             [
              0.5555555555555556,
              "#d8576b"
             ],
             [
              0.6666666666666666,
              "#ed7953"
             ],
             [
              0.7777777777777778,
              "#fb9f3a"
             ],
             [
              0.8888888888888888,
              "#fdca26"
             ],
             [
              1,
              "#f0f921"
             ]
            ],
            "type": "surface"
           }
          ],
          "table": [
           {
            "cells": {
             "fill": {
              "color": "#EBF0F8"
             },
             "line": {
              "color": "white"
             }
            },
            "header": {
             "fill": {
              "color": "#C8D4E3"
             },
             "line": {
              "color": "white"
             }
            },
            "type": "table"
           }
          ]
         },
         "layout": {
          "annotationdefaults": {
           "arrowcolor": "#2a3f5f",
           "arrowhead": 0,
           "arrowwidth": 1
          },
          "autotypenumbers": "strict",
          "coloraxis": {
           "colorbar": {
            "outlinewidth": 0,
            "ticks": ""
           }
          },
          "colorscale": {
           "diverging": [
            [
             0,
             "#8e0152"
            ],
            [
             0.1,
             "#c51b7d"
            ],
            [
             0.2,
             "#de77ae"
            ],
            [
             0.3,
             "#f1b6da"
            ],
            [
             0.4,
             "#fde0ef"
            ],
            [
             0.5,
             "#f7f7f7"
            ],
            [
             0.6,
             "#e6f5d0"
            ],
            [
             0.7,
             "#b8e186"
            ],
            [
             0.8,
             "#7fbc41"
            ],
            [
             0.9,
             "#4d9221"
            ],
            [
             1,
             "#276419"
            ]
           ],
           "sequential": [
            [
             0,
             "#0d0887"
            ],
            [
             0.1111111111111111,
             "#46039f"
            ],
            [
             0.2222222222222222,
             "#7201a8"
            ],
            [
             0.3333333333333333,
             "#9c179e"
            ],
            [
             0.4444444444444444,
             "#bd3786"
            ],
            [
             0.5555555555555556,
             "#d8576b"
            ],
            [
             0.6666666666666666,
             "#ed7953"
            ],
            [
             0.7777777777777778,
             "#fb9f3a"
            ],
            [
             0.8888888888888888,
             "#fdca26"
            ],
            [
             1,
             "#f0f921"
            ]
           ],
           "sequentialminus": [
            [
             0,
             "#0d0887"
            ],
            [
             0.1111111111111111,
             "#46039f"
            ],
            [
             0.2222222222222222,
             "#7201a8"
            ],
            [
             0.3333333333333333,
             "#9c179e"
            ],
            [
             0.4444444444444444,
             "#bd3786"
            ],
            [
             0.5555555555555556,
             "#d8576b"
            ],
            [
             0.6666666666666666,
             "#ed7953"
            ],
            [
             0.7777777777777778,
             "#fb9f3a"
            ],
            [
             0.8888888888888888,
             "#fdca26"
            ],
            [
             1,
             "#f0f921"
            ]
           ]
          },
          "colorway": [
           "#636efa",
           "#EF553B",
           "#00cc96",
           "#ab63fa",
           "#FFA15A",
           "#19d3f3",
           "#FF6692",
           "#B6E880",
           "#FF97FF",
           "#FECB52"
          ],
          "font": {
           "color": "#2a3f5f"
          },
          "geo": {
           "bgcolor": "white",
           "lakecolor": "white",
           "landcolor": "#E5ECF6",
           "showlakes": true,
           "showland": true,
           "subunitcolor": "white"
          },
          "hoverlabel": {
           "align": "left"
          },
          "hovermode": "closest",
          "mapbox": {
           "style": "light"
          },
          "paper_bgcolor": "white",
          "plot_bgcolor": "#E5ECF6",
          "polar": {
           "angularaxis": {
            "gridcolor": "white",
            "linecolor": "white",
            "ticks": ""
           },
           "bgcolor": "#E5ECF6",
           "radialaxis": {
            "gridcolor": "white",
            "linecolor": "white",
            "ticks": ""
           }
          },
          "scene": {
           "xaxis": {
            "backgroundcolor": "#E5ECF6",
            "gridcolor": "white",
            "gridwidth": 2,
            "linecolor": "white",
            "showbackground": true,
            "ticks": "",
            "zerolinecolor": "white"
           },
           "yaxis": {
            "backgroundcolor": "#E5ECF6",
            "gridcolor": "white",
            "gridwidth": 2,
            "linecolor": "white",
            "showbackground": true,
            "ticks": "",
            "zerolinecolor": "white"
           },
           "zaxis": {
            "backgroundcolor": "#E5ECF6",
            "gridcolor": "white",
            "gridwidth": 2,
            "linecolor": "white",
            "showbackground": true,
            "ticks": "",
            "zerolinecolor": "white"
           }
          },
          "shapedefaults": {
           "line": {
            "color": "#2a3f5f"
           }
          },
          "ternary": {
           "aaxis": {
            "gridcolor": "white",
            "linecolor": "white",
            "ticks": ""
           },
           "baxis": {
            "gridcolor": "white",
            "linecolor": "white",
            "ticks": ""
           },
           "bgcolor": "#E5ECF6",
           "caxis": {
            "gridcolor": "white",
            "linecolor": "white",
            "ticks": ""
           }
          },
          "title": {
           "x": 0.05
          },
          "xaxis": {
           "automargin": true,
           "gridcolor": "white",
           "linecolor": "white",
           "ticks": "",
           "title": {
            "standoff": 15
           },
           "zerolinecolor": "white",
           "zerolinewidth": 2
          },
          "yaxis": {
           "automargin": true,
           "gridcolor": "white",
           "linecolor": "white",
           "ticks": "",
           "title": {
            "standoff": 15
           },
           "zerolinecolor": "white",
           "zerolinewidth": 2
          }
         }
        },
        "xaxis": {
         "anchor": "y",
         "domain": [
          0,
          1
         ]
        },
        "yaxis": {
         "anchor": "x",
         "domain": [
          0,
          1
         ]
        }
       }
      }
     },
     "metadata": {},
     "output_type": "display_data"
    },
    {
     "name": "stderr",
     "output_type": "stream",
     "text": [
      "OpenCV: FFMPEG: tag 0x30395056/'VP90' is not supported with codec id 167 and format 'webm / WebM'\n"
     ]
    },
    {
     "data": {
      "text/html": [
       "<video src=\"SbQHstSbVPYjuWTDci.webm\" controls  >\n",
       "      Your browser does not support the <code>video</code> element.\n",
       "    </video>"
      ],
      "text/plain": [
       "<IPython.core.display.Video object>"
      ]
     },
     "execution_count": 4,
     "metadata": {},
     "output_type": "execute_result"
    }
   ],
   "source": [
    "# imports from support files with class and functions\n",
    "#from Submission1.agent import Archimedes_Lever_s\n",
    "import submission_4_agent\n",
    "import default_agent\n",
    "import lux_functions\n",
    "\n",
    "# recreate our agents and run\n",
    "player0 = env.agents[0]\n",
    "player1 = env.agents[1]\n",
    "agents = {\n",
    "    player0: Archimedes_Lever(env.agents[0], env.state.env_cfg), \n",
    "    player1: submission_4_agent.Archimedes_Lever_s(env.agents[1], env.state.env_cfg)#default_agent.Default_Agent(env.agents[1], env.state.env_cfg)\n",
    "}\n",
    "img = env.render(\"rgb_array\", width=48, height=48)\n",
    "px.imshow(img).show()\n",
    "lux_functions.interact(env=env, agents=agents, steps=1000, video=True)"
   ]
  },
  {
   "cell_type": "code",
   "execution_count": 10,
   "metadata": {},
   "outputs": [
    {
     "name": "stdout",
     "output_type": "stream",
     "text": [
      "[('player_0', 20854), ('player_1', 15348), ('p0 % performance:', 1.3587438102684388), ('p0-p1 lichen difference:', 5506), ('map seed:', 2357136044)]\n",
      "[('player_0', 21400), ('player_1', 18379), ('p0 % performance:', 1.1643723815223896), ('p0-p1 lichen difference:', 3021), ('map seed:', 2357136044)]\n",
      "[('player_0', 21458), ('player_1', 16904), ('p0 % performance:', 1.2694036914339801), ('p0-p1 lichen difference:', 4554), ('map seed:', 2357136044)]\n"
     ]
    }
   ],
   "source": [
    "### AGENT TESTING\n",
    "import submission_4_agent\n",
    "import default_agent\n",
    "import lux_functions\n",
    "\n",
    "tests = 3\n",
    "results = []\n",
    "for t in range(tests):\n",
    "    test_env = LuxAI_S2() # create the environment object\n",
    "    test_obs = test_env.reset(seed=None) # resets an environment with a seed\n",
    "\n",
    "    # recreate our agents and run\n",
    "    player0 = test_env.agents[0]\n",
    "    player1 = test_env.agents[1]\n",
    "    agents = {\n",
    "        player0: Archimedes_Lever(test_env.agents[0], test_env.state.env_cfg), \n",
    "        player1: submission_4_agent.Archimedes_Lever_s(test_env.agents[1], test_env.state.env_cfg)#default_agent.Default_Agent(test_env.agents[1], test_env.state.env_cfg)\n",
    "    }\n",
    "    '''\n",
    "    # UNCOMMENT IF MAPS SHOULD BE VISUALIZED\n",
    "    img = test_env.render(\"rgb_array\", width=48, height=48)\n",
    "    px.imshow(img).show()\n",
    "    '''\n",
    "    test_results = lux_functions.test_agents(env=test_env, agents=agents, steps=1000)\n",
    "    results.append(test_results)\n",
    "    del test_env\n",
    "    del test_obs\n",
    "\n",
    "for result in results:\n",
    "    print(result)"
   ]
  },
  {
   "cell_type": "code",
   "execution_count": null,
   "metadata": {},
   "outputs": [],
   "source": [
    "#!luxai-s2 archimedes_main.py main.py -v 2 -s 101 -o replay.html\n",
    "#!tar -czf submission.tar.gz *"
   ]
  }
 ],
 "metadata": {
  "kernelspec": {
   "display_name": "Python 3.10.0 64-bit",
   "language": "python",
   "name": "python3"
  },
  "language_info": {
   "codemirror_mode": {
    "name": "ipython",
    "version": 3
   },
   "file_extension": ".py",
   "mimetype": "text/x-python",
   "name": "python",
   "nbconvert_exporter": "python",
   "pygments_lexer": "ipython3",
   "version": "3.10.0"
  },
  "orig_nbformat": 4,
  "vscode": {
   "interpreter": {
    "hash": "aee8b7b246df8f9039afb4144a1f6fd8d2ca17a180786b69acc140d282b71a49"
   }
  }
 },
 "nbformat": 4,
 "nbformat_minor": 2
}
