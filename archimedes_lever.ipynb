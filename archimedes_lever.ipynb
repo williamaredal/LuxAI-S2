{
 "cells": [
  {
   "cell_type": "code",
   "execution_count": 513,
   "metadata": {},
   "outputs": [
    {
     "data": {
      "text/plain": [
       "'\\n# verify version\\n!python3 --version\\n# install luxai2022\\n!pip3 install --upgrade luxai2022\\n!pip3 install --upgrade moviepy # needed to render videos of episodes\\n'"
      ]
     },
     "execution_count": 513,
     "metadata": {},
     "output_type": "execute_result"
    }
   ],
   "source": [
    "# In case of import requirements\n",
    "'''\n",
    "# verify version\n",
    "!python3 --version\n",
    "# install luxai2022\n",
    "!pip3 install --upgrade luxai2022\n",
    "!pip3 install --upgrade moviepy # needed to render videos of episodes\n",
    "'''"
   ]
  },
  {
   "cell_type": "code",
   "execution_count": 514,
   "metadata": {},
   "outputs": [],
   "source": [
    "from luxai2022.env import LuxAI2022\n",
    "from lux.kit import obs_to_game_state, GameState, EnvConfig\n",
    "from lux.utils import my_turn_to_place_factory, direction_to \n",
    "import matplotlib.pyplot as plt\n",
    "import numpy as np\n",
    "import plotly.express as px\n",
    "import math\n",
    "import cv2"
   ]
  },
  {
   "cell_type": "code",
   "execution_count": 515,
   "metadata": {},
   "outputs": [],
   "source": [
    "# Create excel spreadsheets to look at strategies for when to start producing lichen to find weather its more optimal to\n",
    "#      continually grow lichen, or to hoard water until a certain turn (depending on water gathered?) and mass produce lichen then\n",
    "# [X] Made graphs and have found good enough growth estimates with tables for further estimation if necessary.\n",
    "\n",
    "# TODO Update files in repo, or move agent files to new repo. Basically move from beta to season 2.\n",
    "# [X]\n",
    "\n",
    "# TODO Clean up structure of notebook cells and segments of the algorithm to make it easier to find where what desicion is being made\n",
    "# [X]\n",
    "\n",
    "# TODO Move functions used by algorithm to separate file?\n",
    "# []\n",
    "\n",
    "# TODO Make the agent place a factory right next to one ice tile\n",
    "# [X]\n",
    "\n",
    "# TODO Make the agent update its possible placing locations by removing coordinates around placed (friendly and foe) factory tiles\n",
    "# []\n",
    "\n",
    "# TODO Update placement of factories so that they place only right next to ice tiles, with no/low rubble\n",
    "#      This can be acchieved through the \"board.rubble\" property\n",
    "# []\n",
    "\n",
    "# TODO Update the assignments to have n heavy bots on ice gathering just outside the factory, and some light for ore collection\n",
    "# []\n",
    "\n",
    "# TODO Fix ordering system so that heavies are assigned to ice tiles right by the factory for instant dropof and charging,\n",
    "#      and so that the bots are ordered to correct coordinates,\n",
    "#      and so that the return to factory scheduling works.\n",
    "# []\n",
    "\n"
   ]
  },
  {
   "cell_type": "code",
   "execution_count": 516,
   "metadata": {},
   "outputs": [
    {
     "data": {
      "application/vnd.plotly.v1+json": {
       "config": {
        "plotlyServerURL": "https://plot.ly"
       },
       "data": [
        {
         "hovertemplate": "x: %{x}<br>y: %{y}<br>color: [%{z[0]}, %{z[1]}, %{z[2]}]<extra></extra>",
         "name": "0",
         "source": "data:image/png;base64,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",
         "type": "image",
         "xaxis": "x",
         "yaxis": "y"
        }
       ],
       "layout": {
        "margin": {
         "t": 60
        },
        "template": {
         "data": {
          "bar": [
           {
            "error_x": {
             "color": "#2a3f5f"
            },
            "error_y": {
             "color": "#2a3f5f"
            },
            "marker": {
             "line": {
              "color": "#E5ECF6",
              "width": 0.5
             },
             "pattern": {
              "fillmode": "overlay",
              "size": 10,
              "solidity": 0.2
             }
            },
            "type": "bar"
           }
          ],
          "barpolar": [
           {
            "marker": {
             "line": {
              "color": "#E5ECF6",
              "width": 0.5
             },
             "pattern": {
              "fillmode": "overlay",
              "size": 10,
              "solidity": 0.2
             }
            },
            "type": "barpolar"
           }
          ],
          "carpet": [
           {
            "aaxis": {
             "endlinecolor": "#2a3f5f",
             "gridcolor": "white",
             "linecolor": "white",
             "minorgridcolor": "white",
             "startlinecolor": "#2a3f5f"
            },
            "baxis": {
             "endlinecolor": "#2a3f5f",
             "gridcolor": "white",
             "linecolor": "white",
             "minorgridcolor": "white",
             "startlinecolor": "#2a3f5f"
            },
            "type": "carpet"
           }
          ],
          "choropleth": [
           {
            "colorbar": {
             "outlinewidth": 0,
             "ticks": ""
            },
            "type": "choropleth"
           }
          ],
          "contour": [
           {
            "colorbar": {
             "outlinewidth": 0,
             "ticks": ""
            },
            "colorscale": [
             [
              0,
              "#0d0887"
             ],
             [
              0.1111111111111111,
              "#46039f"
             ],
             [
              0.2222222222222222,
              "#7201a8"
             ],
             [
              0.3333333333333333,
              "#9c179e"
             ],
             [
              0.4444444444444444,
              "#bd3786"
             ],
             [
              0.5555555555555556,
              "#d8576b"
             ],
             [
              0.6666666666666666,
              "#ed7953"
             ],
             [
              0.7777777777777778,
              "#fb9f3a"
             ],
             [
              0.8888888888888888,
              "#fdca26"
             ],
             [
              1,
              "#f0f921"
             ]
            ],
            "type": "contour"
           }
          ],
          "contourcarpet": [
           {
            "colorbar": {
             "outlinewidth": 0,
             "ticks": ""
            },
            "type": "contourcarpet"
           }
          ],
          "heatmap": [
           {
            "colorbar": {
             "outlinewidth": 0,
             "ticks": ""
            },
            "colorscale": [
             [
              0,
              "#0d0887"
             ],
             [
              0.1111111111111111,
              "#46039f"
             ],
             [
              0.2222222222222222,
              "#7201a8"
             ],
             [
              0.3333333333333333,
              "#9c179e"
             ],
             [
              0.4444444444444444,
              "#bd3786"
             ],
             [
              0.5555555555555556,
              "#d8576b"
             ],
             [
              0.6666666666666666,
              "#ed7953"
             ],
             [
              0.7777777777777778,
              "#fb9f3a"
             ],
             [
              0.8888888888888888,
              "#fdca26"
             ],
             [
              1,
              "#f0f921"
             ]
            ],
            "type": "heatmap"
           }
          ],
          "heatmapgl": [
           {
            "colorbar": {
             "outlinewidth": 0,
             "ticks": ""
            },
            "colorscale": [
             [
              0,
              "#0d0887"
             ],
             [
              0.1111111111111111,
              "#46039f"
             ],
             [
              0.2222222222222222,
              "#7201a8"
             ],
             [
              0.3333333333333333,
              "#9c179e"
             ],
             [
              0.4444444444444444,
              "#bd3786"
             ],
             [
              0.5555555555555556,
              "#d8576b"
             ],
             [
              0.6666666666666666,
              "#ed7953"
             ],
             [
              0.7777777777777778,
              "#fb9f3a"
             ],
             [
              0.8888888888888888,
              "#fdca26"
             ],
             [
              1,
              "#f0f921"
             ]
            ],
            "type": "heatmapgl"
           }
          ],
          "histogram": [
           {
            "marker": {
             "pattern": {
              "fillmode": "overlay",
              "size": 10,
              "solidity": 0.2
             }
            },
            "type": "histogram"
           }
          ],
          "histogram2d": [
           {
            "colorbar": {
             "outlinewidth": 0,
             "ticks": ""
            },
            "colorscale": [
             [
              0,
              "#0d0887"
             ],
             [
              0.1111111111111111,
              "#46039f"
             ],
             [
              0.2222222222222222,
              "#7201a8"
             ],
             [
              0.3333333333333333,
              "#9c179e"
             ],
             [
              0.4444444444444444,
              "#bd3786"
             ],
             [
              0.5555555555555556,
              "#d8576b"
             ],
             [
              0.6666666666666666,
              "#ed7953"
             ],
             [
              0.7777777777777778,
              "#fb9f3a"
             ],
             [
              0.8888888888888888,
              "#fdca26"
             ],
             [
              1,
              "#f0f921"
             ]
            ],
            "type": "histogram2d"
           }
          ],
          "histogram2dcontour": [
           {
            "colorbar": {
             "outlinewidth": 0,
             "ticks": ""
            },
            "colorscale": [
             [
              0,
              "#0d0887"
             ],
             [
              0.1111111111111111,
              "#46039f"
             ],
             [
              0.2222222222222222,
              "#7201a8"
             ],
             [
              0.3333333333333333,
              "#9c179e"
             ],
             [
              0.4444444444444444,
              "#bd3786"
             ],
             [
              0.5555555555555556,
              "#d8576b"
             ],
             [
              0.6666666666666666,
              "#ed7953"
             ],
             [
              0.7777777777777778,
              "#fb9f3a"
             ],
             [
              0.8888888888888888,
              "#fdca26"
             ],
             [
              1,
              "#f0f921"
             ]
            ],
            "type": "histogram2dcontour"
           }
          ],
          "mesh3d": [
           {
            "colorbar": {
             "outlinewidth": 0,
             "ticks": ""
            },
            "type": "mesh3d"
           }
          ],
          "parcoords": [
           {
            "line": {
             "colorbar": {
              "outlinewidth": 0,
              "ticks": ""
             }
            },
            "type": "parcoords"
           }
          ],
          "pie": [
           {
            "automargin": true,
            "type": "pie"
           }
          ],
          "scatter": [
           {
            "fillpattern": {
             "fillmode": "overlay",
             "size": 10,
             "solidity": 0.2
            },
            "type": "scatter"
           }
          ],
          "scatter3d": [
           {
            "line": {
             "colorbar": {
              "outlinewidth": 0,
              "ticks": ""
             }
            },
            "marker": {
             "colorbar": {
              "outlinewidth": 0,
              "ticks": ""
             }
            },
            "type": "scatter3d"
           }
          ],
          "scattercarpet": [
           {
            "marker": {
             "colorbar": {
              "outlinewidth": 0,
              "ticks": ""
             }
            },
            "type": "scattercarpet"
           }
          ],
          "scattergeo": [
           {
            "marker": {
             "colorbar": {
              "outlinewidth": 0,
              "ticks": ""
             }
            },
            "type": "scattergeo"
           }
          ],
          "scattergl": [
           {
            "marker": {
             "colorbar": {
              "outlinewidth": 0,
              "ticks": ""
             }
            },
            "type": "scattergl"
           }
          ],
          "scattermapbox": [
           {
            "marker": {
             "colorbar": {
              "outlinewidth": 0,
              "ticks": ""
             }
            },
            "type": "scattermapbox"
           }
          ],
          "scatterpolar": [
           {
            "marker": {
             "colorbar": {
              "outlinewidth": 0,
              "ticks": ""
             }
            },
            "type": "scatterpolar"
           }
          ],
          "scatterpolargl": [
           {
            "marker": {
             "colorbar": {
              "outlinewidth": 0,
              "ticks": ""
             }
            },
            "type": "scatterpolargl"
           }
          ],
          "scatterternary": [
           {
            "marker": {
             "colorbar": {
              "outlinewidth": 0,
              "ticks": ""
             }
            },
            "type": "scatterternary"
           }
          ],
          "surface": [
           {
            "colorbar": {
             "outlinewidth": 0,
             "ticks": ""
            },
            "colorscale": [
             [
              0,
              "#0d0887"
             ],
             [
              0.1111111111111111,
              "#46039f"
             ],
             [
              0.2222222222222222,
              "#7201a8"
             ],
             [
              0.3333333333333333,
              "#9c179e"
             ],
             [
              0.4444444444444444,
              "#bd3786"
             ],
             [
              0.5555555555555556,
              "#d8576b"
             ],
             [
              0.6666666666666666,
              "#ed7953"
             ],
             [
              0.7777777777777778,
              "#fb9f3a"
             ],
             [
              0.8888888888888888,
              "#fdca26"
             ],
             [
              1,
              "#f0f921"
             ]
            ],
            "type": "surface"
           }
          ],
          "table": [
           {
            "cells": {
             "fill": {
              "color": "#EBF0F8"
             },
             "line": {
              "color": "white"
             }
            },
            "header": {
             "fill": {
              "color": "#C8D4E3"
             },
             "line": {
              "color": "white"
             }
            },
            "type": "table"
           }
          ]
         },
         "layout": {
          "annotationdefaults": {
           "arrowcolor": "#2a3f5f",
           "arrowhead": 0,
           "arrowwidth": 1
          },
          "autotypenumbers": "strict",
          "coloraxis": {
           "colorbar": {
            "outlinewidth": 0,
            "ticks": ""
           }
          },
          "colorscale": {
           "diverging": [
            [
             0,
             "#8e0152"
            ],
            [
             0.1,
             "#c51b7d"
            ],
            [
             0.2,
             "#de77ae"
            ],
            [
             0.3,
             "#f1b6da"
            ],
            [
             0.4,
             "#fde0ef"
            ],
            [
             0.5,
             "#f7f7f7"
            ],
            [
             0.6,
             "#e6f5d0"
            ],
            [
             0.7,
             "#b8e186"
            ],
            [
             0.8,
             "#7fbc41"
            ],
            [
             0.9,
             "#4d9221"
            ],
            [
             1,
             "#276419"
            ]
           ],
           "sequential": [
            [
             0,
             "#0d0887"
            ],
            [
             0.1111111111111111,
             "#46039f"
            ],
            [
             0.2222222222222222,
             "#7201a8"
            ],
            [
             0.3333333333333333,
             "#9c179e"
            ],
            [
             0.4444444444444444,
             "#bd3786"
            ],
            [
             0.5555555555555556,
             "#d8576b"
            ],
            [
             0.6666666666666666,
             "#ed7953"
            ],
            [
             0.7777777777777778,
             "#fb9f3a"
            ],
            [
             0.8888888888888888,
             "#fdca26"
            ],
            [
             1,
             "#f0f921"
            ]
           ],
           "sequentialminus": [
            [
             0,
             "#0d0887"
            ],
            [
             0.1111111111111111,
             "#46039f"
            ],
            [
             0.2222222222222222,
             "#7201a8"
            ],
            [
             0.3333333333333333,
             "#9c179e"
            ],
            [
             0.4444444444444444,
             "#bd3786"
            ],
            [
             0.5555555555555556,
             "#d8576b"
            ],
            [
             0.6666666666666666,
             "#ed7953"
            ],
            [
             0.7777777777777778,
             "#fb9f3a"
            ],
            [
             0.8888888888888888,
             "#fdca26"
            ],
            [
             1,
             "#f0f921"
            ]
           ]
          },
          "colorway": [
           "#636efa",
           "#EF553B",
           "#00cc96",
           "#ab63fa",
           "#FFA15A",
           "#19d3f3",
           "#FF6692",
           "#B6E880",
           "#FF97FF",
           "#FECB52"
          ],
          "font": {
           "color": "#2a3f5f"
          },
          "geo": {
           "bgcolor": "white",
           "lakecolor": "white",
           "landcolor": "#E5ECF6",
           "showlakes": true,
           "showland": true,
           "subunitcolor": "white"
          },
          "hoverlabel": {
           "align": "left"
          },
          "hovermode": "closest",
          "mapbox": {
           "style": "light"
          },
          "paper_bgcolor": "white",
          "plot_bgcolor": "#E5ECF6",
          "polar": {
           "angularaxis": {
            "gridcolor": "white",
            "linecolor": "white",
            "ticks": ""
           },
           "bgcolor": "#E5ECF6",
           "radialaxis": {
            "gridcolor": "white",
            "linecolor": "white",
            "ticks": ""
           }
          },
          "scene": {
           "xaxis": {
            "backgroundcolor": "#E5ECF6",
            "gridcolor": "white",
            "gridwidth": 2,
            "linecolor": "white",
            "showbackground": true,
            "ticks": "",
            "zerolinecolor": "white"
           },
           "yaxis": {
            "backgroundcolor": "#E5ECF6",
            "gridcolor": "white",
            "gridwidth": 2,
            "linecolor": "white",
            "showbackground": true,
            "ticks": "",
            "zerolinecolor": "white"
           },
           "zaxis": {
            "backgroundcolor": "#E5ECF6",
            "gridcolor": "white",
            "gridwidth": 2,
            "linecolor": "white",
            "showbackground": true,
            "ticks": "",
            "zerolinecolor": "white"
           }
          },
          "shapedefaults": {
           "line": {
            "color": "#2a3f5f"
           }
          },
          "ternary": {
           "aaxis": {
            "gridcolor": "white",
            "linecolor": "white",
            "ticks": ""
           },
           "baxis": {
            "gridcolor": "white",
            "linecolor": "white",
            "ticks": ""
           },
           "bgcolor": "#E5ECF6",
           "caxis": {
            "gridcolor": "white",
            "linecolor": "white",
            "ticks": ""
           }
          },
          "title": {
           "x": 0.05
          },
          "xaxis": {
           "automargin": true,
           "gridcolor": "white",
           "linecolor": "white",
           "ticks": "",
           "title": {
            "standoff": 15
           },
           "zerolinecolor": "white",
           "zerolinewidth": 2
          },
          "yaxis": {
           "automargin": true,
           "gridcolor": "white",
           "linecolor": "white",
           "ticks": "",
           "title": {
            "standoff": 15
           },
           "zerolinecolor": "white",
           "zerolinewidth": 2
          }
         }
        },
        "xaxis": {
         "anchor": "y",
         "domain": [
          0,
          1
         ]
        },
        "yaxis": {
         "anchor": "x",
         "domain": [
          0,
          1
         ]
        }
       }
      }
     },
     "metadata": {},
     "output_type": "display_data"
    }
   ],
   "source": [
    "env = LuxAI2022() # create the environment object\n",
    "obs = env.reset(seed=69) # resets an environment with a seed\n",
    "\n",
    "# the observation is always composed of observations for both players.\n",
    "obs.keys(), obs[\"player_0\"].keys()\n",
    "\n",
    "# visualize the environment so far with rgb_array to get a quick look at the map\n",
    "# dark orange - high rubble, light orange - low rubble\n",
    "# blue = ice, yellow = ore\n",
    "img = env.render(\"rgb_array\", width=48, height=48)\n",
    "px.imshow(img).show()"
   ]
  },
  {
   "cell_type": "code",
   "execution_count": 517,
   "metadata": {},
   "outputs": [],
   "source": [
    "\n",
    "# defines the agent class\n",
    "class Agent_007():\n",
    "    def __init__(self, player: str, env_cfg: EnvConfig) -> None:\n",
    "        self.player = player\n",
    "        self.opp_player = \"player_1\" if self.player == \"player_0\" else \"player_0\"\n",
    "        #np.random.seed(0)\n",
    "        self.env_cfg: EnvConfig = env_cfg\n",
    "\n",
    "    def early_setup(self, step: int, obs, remainingOverageTime: int = 60):\n",
    "\n",
    "        actions = dict()\n",
    "        # optionally convert observations to python objects with utility functions\n",
    "        game_state = obs_to_game_state(step, self.env_cfg, obs) \n",
    "        return actions\n",
    "\n",
    "    def act(self, step: int, obs, remainingOverageTime: int = 60):\n",
    "        actions = dict()\n",
    "        game_state = obs_to_game_state(step, self.env_cfg, obs)\n",
    "        return actions"
   ]
  },
  {
   "cell_type": "code",
   "execution_count": 518,
   "metadata": {},
   "outputs": [],
   "source": [
    "def remove_spawns_at_border(desirable_coordinates, map_width, map_height):\n",
    "    for x in range(0, map_width):\n",
    "        desirable_coordinates[0][x] = 0\n",
    "        desirable_coordinates[map_width - 1][x] = 0\n",
    "\n",
    "    for y in range(0, map_height):\n",
    "        desirable_coordinates[0][x] = 0\n",
    "        desirable_coordinates[y][map_height - 1] = 0\n",
    "\n",
    "    return desirable_coordinates\n",
    "\n",
    "\n",
    "def remove_spawns_with_resources(desirable_coordinates, resource_indexes):\n",
    "    for x, y in resource_indexes:\n",
    "        # resource node\n",
    "        desirable_coordinates[y][x] = 0\n",
    "        try:\n",
    "\n",
    "            # top bottom\n",
    "            desirable_coordinates[y][x-1] = 0\n",
    "            desirable_coordinates[y][x+1] = 0\n",
    "\n",
    "            # left right\n",
    "            desirable_coordinates[y-1][x] = 0\n",
    "            desirable_coordinates[y+1][x] = 0\n",
    "\n",
    "            # diagonals\n",
    "            desirable_coordinates[y-1][x-1] = 0\n",
    "            desirable_coordinates[y-1][x+1] = 0\n",
    "            desirable_coordinates[y+1][x-1] = 0\n",
    "            desirable_coordinates[y+1][x+1] = 0\n",
    "        \n",
    "        except IndexError:\n",
    "            continue\n",
    "\n",
    "    return desirable_coordinates\n",
    "\n",
    "\n",
    "\n",
    "def remove_spawns_factory_occupied_tiles(x, y):\n",
    "    return np.array([\n",
    "        (x-1, y), (x, y-1), # left and top\n",
    "        (x+1, y), (x, y+1), # right and bottom\n",
    "        (x-1, y-1), (x+1, y-1),\n",
    "        (x-1, y+1), (x+1, y+1),\n",
    "        (x-2, y), (x, y-2), # left and top \n",
    "        (x+2, y), (x, y+2), # right and bottom \n",
    "        (x-2, y-1), (x-1, y-2), (x-2, y-2), # left and top diagonals \n",
    "        (x+2, y+1), (x+1, y+2), (x+2, y+2), # right and bottom diagonals \n",
    "        (x+2, y-1), (x+1, y-2), (x+2, y-2), # right and top diagonals \n",
    "        (x-2, y+1), (x-1, y+2), (x-2, y+2), # left and bottom diagonals \n",
    "        (x-3, y), (x, y-3), (x+3, y), (x, y+3), # left and top\n",
    "        (x-3, y), (x, y-3), (x+3, y), (x, y+3), # right and bottom\n",
    "        (x-3, y-1), (x-1, y-3), (x-3, y-3), # left and top diagonals \n",
    "        (x+3, y+1), (x+1, y+3), (x+3, y+3), # right and bottom diagonals \n",
    "        (x+3, y-1), (x+1, y-3), (x+3, y-3), # left and top diagonals \n",
    "        (x-3, y+1), (x-1, y+3), (x-3, y+3), # right and bottom diagonals \n",
    "\n",
    "    ]) \n",
    "\n",
    "\n",
    "# function used by Agent_007 for locating resource border coordinates\n",
    "def neighbors(x, y):\n",
    "    return np.array([\n",
    "        # commented to give buffer, avoiding placing factory on resource\n",
    "        # layer 1\n",
    "        #(x-1, y), (x, y-1), # left and top\n",
    "        #(x+1, y), (x, y+1), # right and bottom\n",
    "\n",
    "        # layer 2\n",
    "        (x-2, y), (x, y-2), # left and top \n",
    "        (x+2, y), (x, y+2), # right and bottom \n",
    "\n",
    "        (x-2, y-1), #(x-1, y-2), (x-2, y-2), # left and top diagonals \n",
    "        (x+2, y+1), #(x+1, y+2), (x+2, y+2), # right and bottom diagonals \n",
    "\n",
    "        (x+2, y-1), #(x+1, y-2), (x+2, y-2), # right and top diagonals \n",
    "        (x-2, y+1), #(x-1, y+2), (x-2, y+2), # left and bottom diagonals \n",
    "\n",
    "        # commented away to try to get factory right next to resource\n",
    "        # layer 3\n",
    "        #(x-3, y), (x, y-3), (x+3, y), (x, y+3), # left and top\n",
    "        #(x-3, y), (x, y-3), (x+3, y), (x, y+3), # right and bottom\n",
    "\n",
    "        #(x-3, y-1), (x-1, y-3), (x-3, y-3), # left and top diagonals \n",
    "        #(x+3, y+1), (x+1, y+3), (x+3, y+3), # right and bottom diagonals \n",
    "\n",
    "        #(x+3, y-1), (x+1, y-3), (x+3, y-3), # left and top diagonals \n",
    "        #(x-3, y+1), (x-1, y+3), (x-3, y+3), # right and bottom diagonals \n",
    "\n",
    "    ])\n",
    "    # expand this to include diagonal border coordinates, up to 3 away, or possibly make this method take a search grid range \n",
    "    # and return a np array with results from this grid range\n",
    "\n",
    "\n",
    "# function used by Agent_007 for sorting list of resource locations by point x and y value\n",
    "def get_ordered_list(points, x, y):\n",
    "    p_list2 = sorted(points, key=lambda p: abs(p[0] - x) + abs(p[1] - y))\n",
    "    #p_list = list(points)\n",
    "    #p_list.sort(key= lambda p: abs(p[0] - x) + abs(p[1] - y))\n",
    "    return p_list2\n",
    "\n",
    "\n",
    "# function used by Agent_007 for deciding what action the unit should take to accieve its assignment\n",
    "def assignment_action_decision(unit, unit_id, assignment_tile, actions, direction, move_power_cost, dig_power_cost):\n",
    "    if type(assignment_tile) == str or (unit.power < move_power_cost) or (unit.power < dig_power_cost):\n",
    "        print('idle assignment: ', assignment_tile)\n",
    "        actions[unit_id] = [unit.recharge(1, repeat=0)]\n",
    "        #actions[unit_id] = [unit.move(0, repeat=0)] # move 0 equals move center\n",
    "\n",
    "    if all(unit.pos == assignment_tile) and (unit.power >= dig_power_cost):\n",
    "        print('dig assignment: ', assignment_tile)\n",
    "        actions[unit_id] = [unit.dig(repeat=0)]\n",
    "\n",
    "    else:\n",
    "        direction = direction_to(unit.pos, assignment_tile)\n",
    "        print('move assignment: ', assignment_tile, direction)\n",
    "        actions[unit_id] = [unit.move(direction, repeat=0)]\n",
    "\n",
    "\n",
    "\n",
    "\n",
    "\n",
    "# Agent_007 setup of early game\n",
    "def early_setup(self, step: int, obs, remainingOverageTime: int = 60):\n",
    "    if step == 0:\n",
    "        # bid 0 to not waste resources bidding and declare as the default faction\n",
    "        # you can bid -n to prefer going second or n to prefer going first in placement\n",
    "        return dict(faction=\"AlphaStrike\", bid=0)\n",
    "    else:\n",
    "        game_state = obs_to_game_state(step, self.env_cfg, obs)\n",
    "\n",
    "        ### finds desirable spawn coordinates to place factories\n",
    "        # gets border indexes of ore coordinates and ice coordinates\n",
    "        indOre = np.transpose(np.where(game_state.board.ore > 0))\n",
    "        neighbOre = np.concatenate([neighbors(*i) for i in indOre])\n",
    "\n",
    "        indIce = np.transpose(np.where(game_state.board.ice > 0))\n",
    "        neighbIce = np.concatenate([neighbors(*i) for i in indIce])\n",
    "\n",
    "\n",
    "        # sets all valid coordinates to 0 as only zero and one are possible \n",
    "        desirable_coordinates_filtered = np.copy(game_state.board.valid_spawns_mask)\n",
    "\n",
    "        # visualizes the map\n",
    "        img = env.render(\"rgb_array\", width=48, height=48)\n",
    "        px.imshow(img).show()\n",
    "        desirable_coordinates_filtered[desirable_coordinates_filtered == 1] = 0\n",
    "\n",
    "        # replaces border coordinates around ore and ice with 1 values in valid spawn mask\n",
    "        '''\n",
    "        for row, col in neighbOre:\n",
    "            try:\n",
    "                desirable_coordinates_filtered[col][row] = 1\n",
    "\n",
    "            except IndexError:\n",
    "                continue\n",
    "        '''\n",
    "\n",
    "        for row, col in neighbIce:\n",
    "            try:\n",
    "                desirable_coordinates_filtered[col][row] = 1\n",
    "\n",
    "            except IndexError:\n",
    "               continue\n",
    " \n",
    "        # then replaces ore and ice coordinates with 0, as these are not valid spawn locations\n",
    "        desirable_coordinates_filtered = remove_spawns_with_resources(desirable_coordinates=desirable_coordinates_filtered, resource_indexes=indOre)\n",
    "        \n",
    "        desirable_coordinates_filtered = remove_spawns_with_resources(desirable_coordinates=desirable_coordinates_filtered, resource_indexes=indIce)\n",
    "\n",
    "        # then replace border coordinates with 0, as these are not valid spawn locations\n",
    "        map_width = len(desirable_coordinates_filtered[0])\n",
    "        map_height = len(desirable_coordinates_filtered)\n",
    "        desirable_coordinates_filtered = remove_spawns_at_border(desirable_coordinates=desirable_coordinates_filtered, map_width=map_width, map_height=map_height)\n",
    "\n",
    "        # then replace coordinates where there are factories, as these are no longer valid spawn locations\n",
    "        factory_indexes = np.transpose(np.where(game_state.board.factory_occupancy_map > 0))\n",
    "        if len(factory_indexes) > 0:\n",
    "            occupied_indexes = np.concatenate([remove_spawns_factory_occupied_tiles(*i) for i in factory_indexes])\n",
    "\n",
    "            for row, col in occupied_indexes:\n",
    "                try:\n",
    "                    desirable_coordinates_filtered[col][row] = 0\n",
    "                \n",
    "                except IndexError:\n",
    "                    continue\n",
    "\n",
    "\n",
    "\n",
    "        px.imshow(desirable_coordinates_filtered).show()\n",
    "        ### factory placement period\n",
    "        # how much water and metal you have in your starting pool to give to new factories\n",
    "        water_left = game_state.teams[self.player].water\n",
    "        metal_left = game_state.teams[self.player].metal\n",
    "        \n",
    "        # how many factories you have left to place\n",
    "        factories_to_place = game_state.teams[self.player].factories_to_place\n",
    "\n",
    "        # whether it is your turn to place a factory\n",
    "        my_turn_to_place = my_turn_to_place_factory(game_state.teams[self.player].place_first, step)\n",
    "        if factories_to_place > 0 and my_turn_to_place:\n",
    "            # we will spawn our factory in a random location with 150 metal and water if it is our turn to place\n",
    "            potential_spawns = np.array(list(zip(*np.where(desirable_coordinates_filtered == 1))))\n",
    "            \n",
    "            spawn_loc = potential_spawns[np.random.randint(0, len(potential_spawns))]\n",
    "            print(spawn_loc)\n",
    "\n",
    "            # potential_spawns coordinates are in wrong order for some reason\n",
    "            spawn_loc_x = spawn_loc[1]\n",
    "            spawn_loc_y = spawn_loc[0]\n",
    "            return dict(spawn=[spawn_loc_x, spawn_loc_y], metal=150, water=150)\n",
    "\n",
    "        # returns empty dictionary if no decisions were reached\n",
    "        return dict()\n",
    "\n",
    "\n",
    "\n",
    "\n",
    "\n",
    "# Agent_007 setup of logic in the act phase\n",
    "def act(self, step: int, obs, remainingOverageTime: int = 60):\n",
    "    # info used to make decisions in the act phase\n",
    "    actions = dict()\n",
    "    game_state: GameState = obs_to_game_state(step, self.env_cfg, obs)\n",
    "    factories = game_state.factories[self.player]\n",
    "\n",
    "    ### creation of bots\n",
    "    for unit_id, factory in factories.items():\n",
    "        if factory.power >= self.env_cfg.ROBOTS[\"HEAVY\"].POWER_COST and \\\n",
    "        factory.cargo.metal >= self.env_cfg.ROBOTS[\"HEAVY\"].METAL_COST:\n",
    "            # sets factory with unit_id to construct light bot\n",
    "            actions[unit_id] = factory.build_heavy()\n",
    "\n",
    "    ### refilling of energy to bots if on factory and below energy threshold\n",
    "\n",
    "\n",
    "#############    ### movement of bots, towards resources if enough energy. to nearest factory if full or low energy\n",
    "    # iterate over our units and have them mine the closest ice tile\n",
    "    units = game_state.units[self.player]\n",
    "    factory_tile_locations = np.array([factory.pos for id, factory in factories.items()])\n",
    "    factories_midpoint_x = np.mean([factory[0] for factory in factory_tile_locations])\n",
    "    factories_midpoint_y = np.mean([factory[1] for factory in factory_tile_locations])\n",
    "    factories_midpoint_coordinate = np.array([factories_midpoint_x, factories_midpoint_y])\n",
    "\n",
    "\n",
    "    ### finds all ice tiles, sorts by proximity to factory \n",
    "    ice_map = game_state.board.ice \n",
    "    ice_tile_locations = np.argwhere(ice_map == 1) # numpy magic to get the position of every ice tile\n",
    "    sorted_ice_locations = get_ordered_list(points=ice_tile_locations, x=factories_midpoint_coordinate[0], y=factories_midpoint_coordinate[1])\n",
    "\n",
    "\n",
    "    ### finds all ore tiles, sorts by proximity to factory\n",
    "    ore_map = game_state.board.ore\n",
    "    ore_tile_locations = np.argwhere(ore_map == 1)\n",
    "    sorted_ore_locations = get_ordered_list(points=ore_tile_locations, x=factories_midpoint_coordinate[0], y=factories_midpoint_coordinate[1])\n",
    "\n",
    "\n",
    "    ### distributes 'tile assignments' for ore and ice tiles to 40 and 60 percent of the bots available, bots left are given ice assignments\n",
    "    num_bots = len(units)\n",
    "    ice_assignments = math.floor((num_bots * 0.4))\n",
    "    ore_assignments = math.floor((num_bots * 0.6))\n",
    "    # as long as distribution of assignments sum to 100%, only one remaining bot is required to give extra assignment\n",
    "    if (ice_assignments + ore_assignments) < num_bots:\n",
    "        ice_assignments += 1\n",
    "        ore_assignments += 1\n",
    "\n",
    "    print('\\n', game_state.real_env_steps)\n",
    "    print([(factory_id, factory.cargo.water) for factory_id, factory in factories.items()])\n",
    "    #print(game_state.teams[self.player].water)\n",
    "    assignment_count = 0\n",
    "    for unit_id, unit in units.items():\n",
    "        if (assignment_count == (assignment_count - 1) ):\n",
    "            break\n",
    "\n",
    "        factory_tile_distances = np.mean((factory_tile_locations - unit.pos) ** 2, 1)\n",
    "        closest_factory_tile = factory_tile_locations[np.argmin(factory_tile_distances)]\n",
    "        moves_to_closest_factory = abs(closest_factory_tile[0] - unit.pos[0]) + abs(closest_factory_tile[1] - unit.pos[1])\n",
    "\n",
    "        # begins moving back if cargo is filled with ice\n",
    "        home_direction = direction_to(unit.pos, closest_factory_tile)\n",
    "        home_move_cost = unit.move_cost(game_state, home_direction) + unit.action_queue_cost(game_state)\n",
    "        if (unit.cargo.ice >= 20) or (unit.cargo.ore >= 20) or (unit.power <= (home_move_cost * moves_to_closest_factory)):\n",
    "            print('home chosen', assignment_count, num_bots)\n",
    "            adjacent_to_factory = np.mean((closest_factory_tile - unit.pos) ** 2) == 0\n",
    "\n",
    "            if adjacent_to_factory and (unit.cargo.ice > 0):\n",
    "                direction = direction_to(unit.pos, closest_factory_tile)\n",
    "                print('offloaded', unit.cargo.ice)\n",
    "                actions[unit_id] = [unit.transfer(direction, 0, unit.cargo.ice, repeat=0)]\n",
    "                continue\n",
    "\n",
    "            if adjacent_to_factory and (unit.cargo.ore > 0):\n",
    "                direction = direction_to(unit.pos, closest_factory_tile)\n",
    "                print('offloaded', unit.cargo.ore)\n",
    "                actions[unit_id] = [unit.transfer(direction, 0, unit.cargo.ore, repeat=0)]\n",
    "                continue\n",
    "\n",
    "            if adjacent_to_factory and (unit.cargo.ice == 0) and (unit.cargo.ore == 0):\n",
    "                actions[unit_id] = [unit.recharge(150, repeat=0)]\n",
    "                continue\n",
    "            \n",
    "            else:\n",
    "                direction = direction_to(unit.pos, closest_factory_tile)\n",
    "                actions[unit_id] = [unit.move(direction, repeat=0)]\n",
    "                continue\n",
    "\n",
    "        # assigns bot to ice duty to closest ice tile\n",
    "        if assignment_count < ice_assignments:\n",
    "            # decides weather bot can be assigned, is on assignement tile and should dig, or if it should move towards tile\n",
    "            assignment_tile = sorted_ice_locations[0] if len(sorted_ice_locations) > 0 else 'unassigned'\n",
    "            print('ice chosen', unit.pos, assignment_tile, unit.pos == assignment_tile)\n",
    "\n",
    "            direction = direction_to(unit.pos, assignment_tile)\n",
    "            move_power_cost = unit.move_cost(game_state, direction) + unit.action_queue_cost(game_state)\n",
    "            dig_power_cost = unit.dig_cost(game_state) + unit.action_queue_cost(game_state)\n",
    "            assignment_action_decision(\n",
    "                unit=unit, \n",
    "                unit_id=unit_id,\n",
    "                assignment_tile=assignment_tile,\n",
    "                actions=actions,\n",
    "                direction=direction,\n",
    "                move_power_cost=move_power_cost,\n",
    "                dig_power_cost=dig_power_cost\n",
    "                )\n",
    "            sorted_ice_locations = np.delete(sorted_ice_locations, 0, axis=0) if len(sorted_ice_locations) > 0 else sorted_ice_locations\n",
    "            assignment_count += 1\n",
    "            continue\n",
    "\n",
    "        # assigns bot to ore duty to closest ore tile\n",
    "        if assignment_count >= ice_assignments and assignment_count < ore_assignments:\n",
    "            assignment_tile = sorted_ore_locations[0] if len(sorted_ore_locations) > 0 else 'unassigned'\n",
    "            print('ore chosen', unit.pos, assignment_tile, num_bots)\n",
    "\n",
    "            direction = direction_to(unit.pos, assignment_tile)\n",
    "            move_power_cost = unit.move_cost(game_state, direction) + unit.action_queue_cost(game_state)\n",
    "            dig_power_cost = unit.dig_cost(game_state) + unit.action_queue_cost(game_state)\n",
    "            assignment_action_decision(\n",
    "                unit=unit, \n",
    "                unit_id=unit_id,\n",
    "                assignment_tile=assignment_tile,\n",
    "                actions=actions,\n",
    "                direction=direction,\n",
    "                move_power_cost=move_power_cost,\n",
    "                dig_power_cost=dig_power_cost\n",
    "                )\n",
    "            sorted_ore_locations = np.delete(sorted_ore_locations, 0, axis=0) if len(sorted_ore_locations) > 0 else sorted_ore_locations\n",
    "            assignment_count += 1\n",
    "            continue\n",
    "\n",
    "        else:\n",
    "            print('none chosen', unit_id, assignment_count, num_bots)\n",
    "            assignment_count += 1\n",
    "            continue\n",
    "\n",
    "\n",
    "    return actions\n",
    "\n",
    "\n",
    "# redefines early setup logic to be new function\n",
    "Agent_007.early_setup = early_setup\n",
    "\n",
    "# redefines acting logic to be new function\n",
    "Agent_007.act = act"
   ]
  },
  {
   "cell_type": "code",
   "execution_count": 519,
   "metadata": {},
   "outputs": [
    {
     "data": {
      "application/vnd.plotly.v1+json": {
       "config": {
        "plotlyServerURL": "https://plot.ly"
       },
       "data": [
        {
         "hovertemplate": "x: %{x}<br>y: %{y}<br>color: [%{z[0]}, %{z[1]}, %{z[2]}]<extra></extra>",
         "name": "0",
         "source": "data:image/png;base64,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",
         "type": "image",
         "xaxis": "x",
         "yaxis": "y"
        }
       ],
       "layout": {
        "margin": {
         "t": 60
        },
        "template": {
         "data": {
          "bar": [
           {
            "error_x": {
             "color": "#2a3f5f"
            },
            "error_y": {
             "color": "#2a3f5f"
            },
            "marker": {
             "line": {
              "color": "#E5ECF6",
              "width": 0.5
             },
             "pattern": {
              "fillmode": "overlay",
              "size": 10,
              "solidity": 0.2
             }
            },
            "type": "bar"
           }
          ],
          "barpolar": [
           {
            "marker": {
             "line": {
              "color": "#E5ECF6",
              "width": 0.5
             },
             "pattern": {
              "fillmode": "overlay",
              "size": 10,
              "solidity": 0.2
             }
            },
            "type": "barpolar"
           }
          ],
          "carpet": [
           {
            "aaxis": {
             "endlinecolor": "#2a3f5f",
             "gridcolor": "white",
             "linecolor": "white",
             "minorgridcolor": "white",
             "startlinecolor": "#2a3f5f"
            },
            "baxis": {
             "endlinecolor": "#2a3f5f",
             "gridcolor": "white",
             "linecolor": "white",
             "minorgridcolor": "white",
             "startlinecolor": "#2a3f5f"
            },
            "type": "carpet"
           }
          ],
          "choropleth": [
           {
            "colorbar": {
             "outlinewidth": 0,
             "ticks": ""
            },
            "type": "choropleth"
           }
          ],
          "contour": [
           {
            "colorbar": {
             "outlinewidth": 0,
             "ticks": ""
            },
            "colorscale": [
             [
              0,
              "#0d0887"
             ],
             [
              0.1111111111111111,
              "#46039f"
             ],
             [
              0.2222222222222222,
              "#7201a8"
             ],
             [
              0.3333333333333333,
              "#9c179e"
             ],
             [
              0.4444444444444444,
              "#bd3786"
             ],
             [
              0.5555555555555556,
              "#d8576b"
             ],
             [
              0.6666666666666666,
              "#ed7953"
             ],
             [
              0.7777777777777778,
              "#fb9f3a"
             ],
             [
              0.8888888888888888,
              "#fdca26"
             ],
             [
              1,
              "#f0f921"
             ]
            ],
            "type": "contour"
           }
          ],
          "contourcarpet": [
           {
            "colorbar": {
             "outlinewidth": 0,
             "ticks": ""
            },
            "type": "contourcarpet"
           }
          ],
          "heatmap": [
           {
            "colorbar": {
             "outlinewidth": 0,
             "ticks": ""
            },
            "colorscale": [
             [
              0,
              "#0d0887"
             ],
             [
              0.1111111111111111,
              "#46039f"
             ],
             [
              0.2222222222222222,
              "#7201a8"
             ],
             [
              0.3333333333333333,
              "#9c179e"
             ],
             [
              0.4444444444444444,
              "#bd3786"
             ],
             [
              0.5555555555555556,
              "#d8576b"
             ],
             [
              0.6666666666666666,
              "#ed7953"
             ],
             [
              0.7777777777777778,
              "#fb9f3a"
             ],
             [
              0.8888888888888888,
              "#fdca26"
             ],
             [
              1,
              "#f0f921"
             ]
            ],
            "type": "heatmap"
           }
          ],
          "heatmapgl": [
           {
            "colorbar": {
             "outlinewidth": 0,
             "ticks": ""
            },
            "colorscale": [
             [
              0,
              "#0d0887"
             ],
             [
              0.1111111111111111,
              "#46039f"
             ],
             [
              0.2222222222222222,
              "#7201a8"
             ],
             [
              0.3333333333333333,
              "#9c179e"
             ],
             [
              0.4444444444444444,
              "#bd3786"
             ],
             [
              0.5555555555555556,
              "#d8576b"
             ],
             [
              0.6666666666666666,
              "#ed7953"
             ],
             [
              0.7777777777777778,
              "#fb9f3a"
             ],
             [
              0.8888888888888888,
              "#fdca26"
             ],
             [
              1,
              "#f0f921"
             ]
            ],
            "type": "heatmapgl"
           }
          ],
          "histogram": [
           {
            "marker": {
             "pattern": {
              "fillmode": "overlay",
              "size": 10,
              "solidity": 0.2
             }
            },
            "type": "histogram"
           }
          ],
          "histogram2d": [
           {
            "colorbar": {
             "outlinewidth": 0,
             "ticks": ""
            },
            "colorscale": [
             [
              0,
              "#0d0887"
             ],
             [
              0.1111111111111111,
              "#46039f"
             ],
             [
              0.2222222222222222,
              "#7201a8"
             ],
             [
              0.3333333333333333,
              "#9c179e"
             ],
             [
              0.4444444444444444,
              "#bd3786"
             ],
             [
              0.5555555555555556,
              "#d8576b"
             ],
             [
              0.6666666666666666,
              "#ed7953"
             ],
             [
              0.7777777777777778,
              "#fb9f3a"
             ],
             [
              0.8888888888888888,
              "#fdca26"
             ],
             [
              1,
              "#f0f921"
             ]
            ],
            "type": "histogram2d"
           }
          ],
          "histogram2dcontour": [
           {
            "colorbar": {
             "outlinewidth": 0,
             "ticks": ""
            },
            "colorscale": [
             [
              0,
              "#0d0887"
             ],
             [
              0.1111111111111111,
              "#46039f"
             ],
             [
              0.2222222222222222,
              "#7201a8"
             ],
             [
              0.3333333333333333,
              "#9c179e"
             ],
             [
              0.4444444444444444,
              "#bd3786"
             ],
             [
              0.5555555555555556,
              "#d8576b"
             ],
             [
              0.6666666666666666,
              "#ed7953"
             ],
             [
              0.7777777777777778,
              "#fb9f3a"
             ],
             [
              0.8888888888888888,
              "#fdca26"
             ],
             [
              1,
              "#f0f921"
             ]
            ],
            "type": "histogram2dcontour"
           }
          ],
          "mesh3d": [
           {
            "colorbar": {
             "outlinewidth": 0,
             "ticks": ""
            },
            "type": "mesh3d"
           }
          ],
          "parcoords": [
           {
            "line": {
             "colorbar": {
              "outlinewidth": 0,
              "ticks": ""
             }
            },
            "type": "parcoords"
           }
          ],
          "pie": [
           {
            "automargin": true,
            "type": "pie"
           }
          ],
          "scatter": [
           {
            "fillpattern": {
             "fillmode": "overlay",
             "size": 10,
             "solidity": 0.2
            },
            "type": "scatter"
           }
          ],
          "scatter3d": [
           {
            "line": {
             "colorbar": {
              "outlinewidth": 0,
              "ticks": ""
             }
            },
            "marker": {
             "colorbar": {
              "outlinewidth": 0,
              "ticks": ""
             }
            },
            "type": "scatter3d"
           }
          ],
          "scattercarpet": [
           {
            "marker": {
             "colorbar": {
              "outlinewidth": 0,
              "ticks": ""
             }
            },
            "type": "scattercarpet"
           }
          ],
          "scattergeo": [
           {
            "marker": {
             "colorbar": {
              "outlinewidth": 0,
              "ticks": ""
             }
            },
            "type": "scattergeo"
           }
          ],
          "scattergl": [
           {
            "marker": {
             "colorbar": {
              "outlinewidth": 0,
              "ticks": ""
             }
            },
            "type": "scattergl"
           }
          ],
          "scattermapbox": [
           {
            "marker": {
             "colorbar": {
              "outlinewidth": 0,
              "ticks": ""
             }
            },
            "type": "scattermapbox"
           }
          ],
          "scatterpolar": [
           {
            "marker": {
             "colorbar": {
              "outlinewidth": 0,
              "ticks": ""
             }
            },
            "type": "scatterpolar"
           }
          ],
          "scatterpolargl": [
           {
            "marker": {
             "colorbar": {
              "outlinewidth": 0,
              "ticks": ""
             }
            },
            "type": "scatterpolargl"
           }
          ],
          "scatterternary": [
           {
            "marker": {
             "colorbar": {
              "outlinewidth": 0,
              "ticks": ""
             }
            },
            "type": "scatterternary"
           }
          ],
          "surface": [
           {
            "colorbar": {
             "outlinewidth": 0,
             "ticks": ""
            },
            "colorscale": [
             [
              0,
              "#0d0887"
             ],
             [
              0.1111111111111111,
              "#46039f"
             ],
             [
              0.2222222222222222,
              "#7201a8"
             ],
             [
              0.3333333333333333,
              "#9c179e"
             ],
             [
              0.4444444444444444,
              "#bd3786"
             ],
             [
              0.5555555555555556,
              "#d8576b"
             ],
             [
              0.6666666666666666,
              "#ed7953"
             ],
             [
              0.7777777777777778,
              "#fb9f3a"
             ],
             [
              0.8888888888888888,
              "#fdca26"
             ],
             [
              1,
              "#f0f921"
             ]
            ],
            "type": "surface"
           }
          ],
          "table": [
           {
            "cells": {
             "fill": {
              "color": "#EBF0F8"
             },
             "line": {
              "color": "white"
             }
            },
            "header": {
             "fill": {
              "color": "#C8D4E3"
             },
             "line": {
              "color": "white"
             }
            },
            "type": "table"
           }
          ]
         },
         "layout": {
          "annotationdefaults": {
           "arrowcolor": "#2a3f5f",
           "arrowhead": 0,
           "arrowwidth": 1
          },
          "autotypenumbers": "strict",
          "coloraxis": {
           "colorbar": {
            "outlinewidth": 0,
            "ticks": ""
           }
          },
          "colorscale": {
           "diverging": [
            [
             0,
             "#8e0152"
            ],
            [
             0.1,
             "#c51b7d"
            ],
            [
             0.2,
             "#de77ae"
            ],
            [
             0.3,
             "#f1b6da"
            ],
            [
             0.4,
             "#fde0ef"
            ],
            [
             0.5,
             "#f7f7f7"
            ],
            [
             0.6,
             "#e6f5d0"
            ],
            [
             0.7,
             "#b8e186"
            ],
            [
             0.8,
             "#7fbc41"
            ],
            [
             0.9,
             "#4d9221"
            ],
            [
             1,
             "#276419"
            ]
           ],
           "sequential": [
            [
             0,
             "#0d0887"
            ],
            [
             0.1111111111111111,
             "#46039f"
            ],
            [
             0.2222222222222222,
             "#7201a8"
            ],
            [
             0.3333333333333333,
             "#9c179e"
            ],
            [
             0.4444444444444444,
             "#bd3786"
            ],
            [
             0.5555555555555556,
             "#d8576b"
            ],
            [
             0.6666666666666666,
             "#ed7953"
            ],
            [
             0.7777777777777778,
             "#fb9f3a"
            ],
            [
             0.8888888888888888,
             "#fdca26"
            ],
            [
             1,
             "#f0f921"
            ]
           ],
           "sequentialminus": [
            [
             0,
             "#0d0887"
            ],
            [
             0.1111111111111111,
             "#46039f"
            ],
            [
             0.2222222222222222,
             "#7201a8"
            ],
            [
             0.3333333333333333,
             "#9c179e"
            ],
            [
             0.4444444444444444,
             "#bd3786"
            ],
            [
             0.5555555555555556,
             "#d8576b"
            ],
            [
             0.6666666666666666,
             "#ed7953"
            ],
            [
             0.7777777777777778,
             "#fb9f3a"
            ],
            [
             0.8888888888888888,
             "#fdca26"
            ],
            [
             1,
             "#f0f921"
            ]
           ]
          },
          "colorway": [
           "#636efa",
           "#EF553B",
           "#00cc96",
           "#ab63fa",
           "#FFA15A",
           "#19d3f3",
           "#FF6692",
           "#B6E880",
           "#FF97FF",
           "#FECB52"
          ],
          "font": {
           "color": "#2a3f5f"
          },
          "geo": {
           "bgcolor": "white",
           "lakecolor": "white",
           "landcolor": "#E5ECF6",
           "showlakes": true,
           "showland": true,
           "subunitcolor": "white"
          },
          "hoverlabel": {
           "align": "left"
          },
          "hovermode": "closest",
          "mapbox": {
           "style": "light"
          },
          "paper_bgcolor": "white",
          "plot_bgcolor": "#E5ECF6",
          "polar": {
           "angularaxis": {
            "gridcolor": "white",
            "linecolor": "white",
            "ticks": ""
           },
           "bgcolor": "#E5ECF6",
           "radialaxis": {
            "gridcolor": "white",
            "linecolor": "white",
            "ticks": ""
           }
          },
          "scene": {
           "xaxis": {
            "backgroundcolor": "#E5ECF6",
            "gridcolor": "white",
            "gridwidth": 2,
            "linecolor": "white",
            "showbackground": true,
            "ticks": "",
            "zerolinecolor": "white"
           },
           "yaxis": {
            "backgroundcolor": "#E5ECF6",
            "gridcolor": "white",
            "gridwidth": 2,
            "linecolor": "white",
            "showbackground": true,
            "ticks": "",
            "zerolinecolor": "white"
           },
           "zaxis": {
            "backgroundcolor": "#E5ECF6",
            "gridcolor": "white",
            "gridwidth": 2,
            "linecolor": "white",
            "showbackground": true,
            "ticks": "",
            "zerolinecolor": "white"
           }
          },
          "shapedefaults": {
           "line": {
            "color": "#2a3f5f"
           }
          },
          "ternary": {
           "aaxis": {
            "gridcolor": "white",
            "linecolor": "white",
            "ticks": ""
           },
           "baxis": {
            "gridcolor": "white",
            "linecolor": "white",
            "ticks": ""
           },
           "bgcolor": "#E5ECF6",
           "caxis": {
            "gridcolor": "white",
            "linecolor": "white",
            "ticks": ""
           }
          },
          "title": {
           "x": 0.05
          },
          "xaxis": {
           "automargin": true,
           "gridcolor": "white",
           "linecolor": "white",
           "ticks": "",
           "title": {
            "standoff": 15
           },
           "zerolinecolor": "white",
           "zerolinewidth": 2
          },
          "yaxis": {
           "automargin": true,
           "gridcolor": "white",
           "linecolor": "white",
           "ticks": "",
           "title": {
            "standoff": 15
           },
           "zerolinecolor": "white",
           "zerolinewidth": 2
          }
         }
        },
        "xaxis": {
         "anchor": "y",
         "domain": [
          0,
          1
         ]
        },
        "yaxis": {
         "anchor": "x",
         "domain": [
          0,
          1
         ]
        }
       }
      }
     },
     "metadata": {},
     "output_type": "display_data"
    },
    {
     "name": "stdout",
     "output_type": "stream",
     "text": [
      "[]\n"
     ]
    },
    {
     "ename": "ValueError",
     "evalue": "need at least one array to concatenate",
     "output_type": "error",
     "traceback": [
      "\u001b[0;31m---------------------------------------------------------------------------\u001b[0m",
      "\u001b[0;31mValueError\u001b[0m                                Traceback (most recent call last)",
      "Cell \u001b[0;32mIn[519], line 14\u001b[0m\n\u001b[1;32m      7\u001b[0m player1 \u001b[38;5;241m=\u001b[39m env\u001b[38;5;241m.\u001b[39magents[\u001b[38;5;241m1\u001b[39m]\n\u001b[1;32m      8\u001b[0m agents \u001b[38;5;241m=\u001b[39m {\n\u001b[1;32m      9\u001b[0m     player0: Agent_007(env\u001b[38;5;241m.\u001b[39magents[\u001b[38;5;241m0\u001b[39m], env\u001b[38;5;241m.\u001b[39mstate\u001b[38;5;241m.\u001b[39menv_cfg), \n\u001b[1;32m     10\u001b[0m     player1: default_agent\u001b[38;5;241m.\u001b[39mAgent_Default(env\u001b[38;5;241m.\u001b[39magents[\u001b[38;5;241m1\u001b[39m], env\u001b[38;5;241m.\u001b[39mstate\u001b[38;5;241m.\u001b[39menv_cfg)\n\u001b[1;32m     11\u001b[0m }\n\u001b[0;32m---> 14\u001b[0m \u001b[43mlux_functions\u001b[49m\u001b[38;5;241;43m.\u001b[39;49m\u001b[43minteract\u001b[49m\u001b[43m(\u001b[49m\u001b[43menv\u001b[49m\u001b[38;5;241;43m=\u001b[39;49m\u001b[43menv\u001b[49m\u001b[43m,\u001b[49m\u001b[43m \u001b[49m\u001b[43magents\u001b[49m\u001b[38;5;241;43m=\u001b[39;49m\u001b[43magents\u001b[49m\u001b[43m,\u001b[49m\u001b[43m \u001b[49m\u001b[43msteps\u001b[49m\u001b[38;5;241;43m=\u001b[39;49m\u001b[38;5;241;43m400\u001b[39;49m\u001b[43m,\u001b[49m\u001b[43m \u001b[49m\u001b[43mvideo\u001b[49m\u001b[38;5;241;43m=\u001b[39;49m\u001b[38;5;28;43;01mFalse\u001b[39;49;00m\u001b[43m)\u001b[49m\n",
      "File \u001b[0;32m~/Documents/LuxAI-S2/lux_functions.py:43\u001b[0m, in \u001b[0;36minteract\u001b[0;34m(env, agents, steps, video)\u001b[0m\n\u001b[1;32m     41\u001b[0m \u001b[39mfor\u001b[39;00m player \u001b[39min\u001b[39;00m env\u001b[39m.\u001b[39magents:\n\u001b[1;32m     42\u001b[0m     o \u001b[39m=\u001b[39m obs[player]\n\u001b[0;32m---> 43\u001b[0m     a \u001b[39m=\u001b[39m agents[player]\u001b[39m.\u001b[39;49mearly_setup(step, o)\n\u001b[1;32m     44\u001b[0m     actions[player] \u001b[39m=\u001b[39m a\n\u001b[1;32m     45\u001b[0m step \u001b[39m+\u001b[39m\u001b[39m=\u001b[39m \u001b[39m1\u001b[39m\n",
      "Cell \u001b[0;32mIn[518], line 180\u001b[0m, in \u001b[0;36mearly_setup\u001b[0;34m(self, step, obs, remainingOverageTime)\u001b[0m\n\u001b[1;32m    178\u001b[0m factory_indexes \u001b[38;5;241m=\u001b[39m np\u001b[38;5;241m.\u001b[39mtranspose(np\u001b[38;5;241m.\u001b[39mwhere(game_state\u001b[38;5;241m.\u001b[39mboard\u001b[38;5;241m.\u001b[39mfactory_occupancy_map \u001b[38;5;241m>\u001b[39m \u001b[38;5;241m0\u001b[39m))\n\u001b[1;32m    179\u001b[0m \u001b[38;5;28mprint\u001b[39m(factory_indexes)\n\u001b[0;32m--> 180\u001b[0m occupied_indexes \u001b[38;5;241m=\u001b[39m \u001b[43mnp\u001b[49m\u001b[38;5;241;43m.\u001b[39;49m\u001b[43mconcatenate\u001b[49m\u001b[43m(\u001b[49m\u001b[43m[\u001b[49m\u001b[43mneighbors\u001b[49m\u001b[43m(\u001b[49m\u001b[38;5;241;43m*\u001b[39;49m\u001b[43mi\u001b[49m\u001b[43m)\u001b[49m\u001b[43m \u001b[49m\u001b[38;5;28;43;01mfor\u001b[39;49;00m\u001b[43m \u001b[49m\u001b[43mi\u001b[49m\u001b[43m \u001b[49m\u001b[38;5;129;43;01min\u001b[39;49;00m\u001b[43m \u001b[49m\u001b[43mfactory_indexes\u001b[49m\u001b[43m]\u001b[49m\u001b[43m)\u001b[49m\n\u001b[1;32m    182\u001b[0m \u001b[38;5;28;01mfor\u001b[39;00m row, col \u001b[38;5;129;01min\u001b[39;00m occupied_indexes:\n\u001b[1;32m    183\u001b[0m     \u001b[38;5;28;01mtry\u001b[39;00m:\n",
      "File \u001b[0;32m<__array_function__ internals>:200\u001b[0m, in \u001b[0;36mconcatenate\u001b[0;34m(*args, **kwargs)\u001b[0m\n",
      "\u001b[0;31mValueError\u001b[0m: need at least one array to concatenate"
     ]
    }
   ],
   "source": [
    "# imports from support files with class and functions\n",
    "import default_agent\n",
    "import lux_functions\n",
    "\n",
    "# recreate our agents and run\n",
    "player0 = env.agents[0]\n",
    "player1 = env.agents[1]\n",
    "agents = {\n",
    "    player0: Agent_007(env.agents[0], env.state.env_cfg), \n",
    "    player1: default_agent.Agent_Default(env.agents[1], env.state.env_cfg)\n",
    "}\n",
    "\n",
    "\n",
    "lux_functions.interact(env=env, agents=agents, steps=400, video=False)"
   ]
  },
  {
   "cell_type": "code",
   "execution_count": null,
   "metadata": {},
   "outputs": [
    {
     "name": "stdout",
     "output_type": "stream",
     "text": [
      "    [[0, 1], [1, 1], [3, 4], [0, 0], [4, 0], [3, 2]]\n",
      "sorting\n",
      "r:  [[0, 0], [0, 1], [1, 1], [3, 2], [3, 4], [4, 0]]\n",
      "x:  [[0, 0], [0, 1], [1, 1], [3, 2], [3, 4], [4, 0]]\n",
      "y:  [[0, 0], [4, 0], [0, 1], [1, 1], [3, 2], [3, 4]]\n",
      "\n",
      "b:  [[4, 0], [3, 2], [0, 0], [1, 1], [0, 1], [3, 4]]\n",
      "e:  [[4, 0], [3, 2], [1, 1], [3, 4], [0, 0], [0, 1]]\n"
     ]
    }
   ],
   "source": [
    "testList = [1, 3, 6, 9, 8, 2, 4, 5, 7]\n",
    "testList.sort(key= lambda a: a**2-1)\n",
    "\n",
    "\n",
    "point = [5, 0]\n",
    "testList2 = [\n",
    "    [0, 1],\n",
    "    [1, 1],\n",
    "    [3, 4],\n",
    "    [0, 0],\n",
    "    [4, 0],\n",
    "    [3, 2],\n",
    "]\n",
    "print('   ', testList2)\n",
    "print('sorting')\n",
    "testList2.sort(key= lambda a: a)\n",
    "print('r: ', testList2)\n",
    "\n",
    "testList2.sort(key= lambda a: a[0])\n",
    "print('x: ', testList2)\n",
    "\n",
    "testList2.sort(key= lambda a: a[1])\n",
    "print('y: ', testList2)\n",
    "\n",
    "\n",
    "print()\n",
    "testList2.sort(key= lambda a: abs(a[0] - point[0]) + abs(a[1] - point[1]) )\n",
    "print('b: ', testList2)\n",
    "\n",
    "testList2.sort(key= lambda a: (a[0] - point[0])**2 + (a[1] - point[1])**2)\n",
    "print('e: ', testList2)"
   ]
  }
 ],
 "metadata": {
  "kernelspec": {
   "display_name": "Python 3.11.0 64-bit",
   "language": "python",
   "name": "python3"
  },
  "language_info": {
   "codemirror_mode": {
    "name": "ipython",
    "version": 3
   },
   "file_extension": ".py",
   "mimetype": "text/x-python",
   "name": "python",
   "nbconvert_exporter": "python",
   "pygments_lexer": "ipython3",
   "version": "3.11.1"
  },
  "orig_nbformat": 4,
  "vscode": {
   "interpreter": {
    "hash": "aee8b7b246df8f9039afb4144a1f6fd8d2ca17a180786b69acc140d282b71a49"
   }
  }
 },
 "nbformat": 4,
 "nbformat_minor": 2
}
