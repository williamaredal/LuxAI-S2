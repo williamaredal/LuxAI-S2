{
 "cells": [
  {
   "cell_type": "code",
   "execution_count": 123,
   "metadata": {},
   "outputs": [
    {
     "data": {
      "text/plain": [
       "'\\n# verify version\\n!python3 --version\\n!pip install --upgrade luxai_s2\\n!pip install importlib-metadata==4.13.0\\n!pip install --upgrade moviepy # needed to render videos of episodes\\n'"
      ]
     },
     "execution_count": 123,
     "metadata": {},
     "output_type": "execute_result"
    }
   ],
   "source": [
    "# In case of import requirements\n",
    "'''\n",
    "# verify version\n",
    "!python3 --version\n",
    "!pip install --upgrade luxai_s2\n",
    "!pip install importlib-metadata==4.13.0\n",
    "!pip install --upgrade moviepy # needed to render videos of episodes\n",
    "'''"
   ]
  },
  {
   "cell_type": "code",
   "execution_count": 117,
   "metadata": {},
   "outputs": [],
   "source": [
    "from luxai_s2.env import LuxAI_S2\n",
    "from lux.kit import obs_to_game_state, GameState, EnvConfig\n",
    "from lux.utils import my_turn_to_place_factory, direction_to \n",
    "import matplotlib.pyplot as plt\n",
    "import numpy as np\n",
    "import plotly.express as px\n",
    "import math\n",
    "import cv2"
   ]
  },
  {
   "cell_type": "code",
   "execution_count": 118,
   "metadata": {},
   "outputs": [],
   "source": [
    "# Create excel spreadsheets to look at strategies for when to start producing lichen to find weather its more optimal to\n",
    "#      continually grow lichen, or to hoard water until a certain turn (depending on water gathered?) and mass produce lichen then\n",
    "# [X] Made graphs and have found good enough growth estimates with tables for further estimation if necessary.\n",
    "# TODO Update files in repo, or move agent files to new repo. Basically move from beta to season 2.\n",
    "# [X]\n",
    "# TODO Clean up structure of notebook cells and segments of the algorithm to make it easier to find where what desicion is being made\n",
    "# [X]\n",
    "# TODO Make the agent place a factory right next to one ice tile\n",
    "# [X]\n",
    "# TODO Make the agent update its possible placing locations by removing coordinates around placed (friendly and foe) factory tiles\n",
    "# [X]\n",
    "\n",
    "# TODO Update placement of factories so that they place only right next to ice tiles, with no/low rubble\n",
    "#      This can be acchieved through the \"board.rubble\" property\n",
    "# []\n",
    "\n",
    "# TODO Update the assignments to have n heavy bots on ice gathering just outside the factory, and some light for ore collection\n",
    "# []\n",
    "\n",
    "# TODO Observe the total ammount of water possible to gather with 1 heavy bot\n",
    "\n",
    "# TODO Evaluate weather to use 150-N turns to gather ore for multiplication of bots before water hoarding\n",
    "# []\n",
    "\n",
    "# TODO Fix ordering system so that heavies are assigned to ice tiles right by the factory for instant dropof and charging,\n",
    "#      and so that the bots are ordered to correct coordinates,\n",
    "#      and so that the return to factory scheduling works.\n",
    "# []\n",
    "\n",
    "# TODO Move functions used by algorithm to separate file?\n",
    "# []\n"
   ]
  },
  {
   "cell_type": "code",
   "execution_count": 119,
   "metadata": {},
   "outputs": [
    {
     "data": {
      "application/vnd.plotly.v1+json": {
       "config": {
        "plotlyServerURL": "https://plot.ly"
       },
       "data": [
        {
         "hovertemplate": "x: %{x}<br>y: %{y}<br>color: [%{z[0]}, %{z[1]}, %{z[2]}]<extra></extra>",
         "name": "0",
         "source": "data:image/png;base64,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",
         "type": "image",
         "xaxis": "x",
         "yaxis": "y"
        }
       ],
       "layout": {
        "margin": {
         "t": 60
        },
        "template": {
         "data": {
          "bar": [
           {
            "error_x": {
             "color": "#2a3f5f"
            },
            "error_y": {
             "color": "#2a3f5f"
            },
            "marker": {
             "line": {
              "color": "#E5ECF6",
              "width": 0.5
             },
             "pattern": {
              "fillmode": "overlay",
              "size": 10,
              "solidity": 0.2
             }
            },
            "type": "bar"
           }
          ],
          "barpolar": [
           {
            "marker": {
             "line": {
              "color": "#E5ECF6",
              "width": 0.5
             },
             "pattern": {
              "fillmode": "overlay",
              "size": 10,
              "solidity": 0.2
             }
            },
            "type": "barpolar"
           }
          ],
          "carpet": [
           {
            "aaxis": {
             "endlinecolor": "#2a3f5f",
             "gridcolor": "white",
             "linecolor": "white",
             "minorgridcolor": "white",
             "startlinecolor": "#2a3f5f"
            },
            "baxis": {
             "endlinecolor": "#2a3f5f",
             "gridcolor": "white",
             "linecolor": "white",
             "minorgridcolor": "white",
             "startlinecolor": "#2a3f5f"
            },
            "type": "carpet"
           }
          ],
          "choropleth": [
           {
            "colorbar": {
             "outlinewidth": 0,
             "ticks": ""
            },
            "type": "choropleth"
           }
          ],
          "contour": [
           {
            "colorbar": {
             "outlinewidth": 0,
             "ticks": ""
            },
            "colorscale": [
             [
              0,
              "#0d0887"
             ],
             [
              0.1111111111111111,
              "#46039f"
             ],
             [
              0.2222222222222222,
              "#7201a8"
             ],
             [
              0.3333333333333333,
              "#9c179e"
             ],
             [
              0.4444444444444444,
              "#bd3786"
             ],
             [
              0.5555555555555556,
              "#d8576b"
             ],
             [
              0.6666666666666666,
              "#ed7953"
             ],
             [
              0.7777777777777778,
              "#fb9f3a"
             ],
             [
              0.8888888888888888,
              "#fdca26"
             ],
             [
              1,
              "#f0f921"
             ]
            ],
            "type": "contour"
           }
          ],
          "contourcarpet": [
           {
            "colorbar": {
             "outlinewidth": 0,
             "ticks": ""
            },
            "type": "contourcarpet"
           }
          ],
          "heatmap": [
           {
            "colorbar": {
             "outlinewidth": 0,
             "ticks": ""
            },
            "colorscale": [
             [
              0,
              "#0d0887"
             ],
             [
              0.1111111111111111,
              "#46039f"
             ],
             [
              0.2222222222222222,
              "#7201a8"
             ],
             [
              0.3333333333333333,
              "#9c179e"
             ],
             [
              0.4444444444444444,
              "#bd3786"
             ],
             [
              0.5555555555555556,
              "#d8576b"
             ],
             [
              0.6666666666666666,
              "#ed7953"
             ],
             [
              0.7777777777777778,
              "#fb9f3a"
             ],
             [
              0.8888888888888888,
              "#fdca26"
             ],
             [
              1,
              "#f0f921"
             ]
            ],
            "type": "heatmap"
           }
          ],
          "heatmapgl": [
           {
            "colorbar": {
             "outlinewidth": 0,
             "ticks": ""
            },
            "colorscale": [
             [
              0,
              "#0d0887"
             ],
             [
              0.1111111111111111,
              "#46039f"
             ],
             [
              0.2222222222222222,
              "#7201a8"
             ],
             [
              0.3333333333333333,
              "#9c179e"
             ],
             [
              0.4444444444444444,
              "#bd3786"
             ],
             [
              0.5555555555555556,
              "#d8576b"
             ],
             [
              0.6666666666666666,
              "#ed7953"
             ],
             [
              0.7777777777777778,
              "#fb9f3a"
             ],
             [
              0.8888888888888888,
              "#fdca26"
             ],
             [
              1,
              "#f0f921"
             ]
            ],
            "type": "heatmapgl"
           }
          ],
          "histogram": [
           {
            "marker": {
             "pattern": {
              "fillmode": "overlay",
              "size": 10,
              "solidity": 0.2
             }
            },
            "type": "histogram"
           }
          ],
          "histogram2d": [
           {
            "colorbar": {
             "outlinewidth": 0,
             "ticks": ""
            },
            "colorscale": [
             [
              0,
              "#0d0887"
             ],
             [
              0.1111111111111111,
              "#46039f"
             ],
             [
              0.2222222222222222,
              "#7201a8"
             ],
             [
              0.3333333333333333,
              "#9c179e"
             ],
             [
              0.4444444444444444,
              "#bd3786"
             ],
             [
              0.5555555555555556,
              "#d8576b"
             ],
             [
              0.6666666666666666,
              "#ed7953"
             ],
             [
              0.7777777777777778,
              "#fb9f3a"
             ],
             [
              0.8888888888888888,
              "#fdca26"
             ],
             [
              1,
              "#f0f921"
             ]
            ],
            "type": "histogram2d"
           }
          ],
          "histogram2dcontour": [
           {
            "colorbar": {
             "outlinewidth": 0,
             "ticks": ""
            },
            "colorscale": [
             [
              0,
              "#0d0887"
             ],
             [
              0.1111111111111111,
              "#46039f"
             ],
             [
              0.2222222222222222,
              "#7201a8"
             ],
             [
              0.3333333333333333,
              "#9c179e"
             ],
             [
              0.4444444444444444,
              "#bd3786"
             ],
             [
              0.5555555555555556,
              "#d8576b"
             ],
             [
              0.6666666666666666,
              "#ed7953"
             ],
             [
              0.7777777777777778,
              "#fb9f3a"
             ],
             [
              0.8888888888888888,
              "#fdca26"
             ],
             [
              1,
              "#f0f921"
             ]
            ],
            "type": "histogram2dcontour"
           }
          ],
          "mesh3d": [
           {
            "colorbar": {
             "outlinewidth": 0,
             "ticks": ""
            },
            "type": "mesh3d"
           }
          ],
          "parcoords": [
           {
            "line": {
             "colorbar": {
              "outlinewidth": 0,
              "ticks": ""
             }
            },
            "type": "parcoords"
           }
          ],
          "pie": [
           {
            "automargin": true,
            "type": "pie"
           }
          ],
          "scatter": [
           {
            "fillpattern": {
             "fillmode": "overlay",
             "size": 10,
             "solidity": 0.2
            },
            "type": "scatter"
           }
          ],
          "scatter3d": [
           {
            "line": {
             "colorbar": {
              "outlinewidth": 0,
              "ticks": ""
             }
            },
            "marker": {
             "colorbar": {
              "outlinewidth": 0,
              "ticks": ""
             }
            },
            "type": "scatter3d"
           }
          ],
          "scattercarpet": [
           {
            "marker": {
             "colorbar": {
              "outlinewidth": 0,
              "ticks": ""
             }
            },
            "type": "scattercarpet"
           }
          ],
          "scattergeo": [
           {
            "marker": {
             "colorbar": {
              "outlinewidth": 0,
              "ticks": ""
             }
            },
            "type": "scattergeo"
           }
          ],
          "scattergl": [
           {
            "marker": {
             "colorbar": {
              "outlinewidth": 0,
              "ticks": ""
             }
            },
            "type": "scattergl"
           }
          ],
          "scattermapbox": [
           {
            "marker": {
             "colorbar": {
              "outlinewidth": 0,
              "ticks": ""
             }
            },
            "type": "scattermapbox"
           }
          ],
          "scatterpolar": [
           {
            "marker": {
             "colorbar": {
              "outlinewidth": 0,
              "ticks": ""
             }
            },
            "type": "scatterpolar"
           }
          ],
          "scatterpolargl": [
           {
            "marker": {
             "colorbar": {
              "outlinewidth": 0,
              "ticks": ""
             }
            },
            "type": "scatterpolargl"
           }
          ],
          "scatterternary": [
           {
            "marker": {
             "colorbar": {
              "outlinewidth": 0,
              "ticks": ""
             }
            },
            "type": "scatterternary"
           }
          ],
          "surface": [
           {
            "colorbar": {
             "outlinewidth": 0,
             "ticks": ""
            },
            "colorscale": [
             [
              0,
              "#0d0887"
             ],
             [
              0.1111111111111111,
              "#46039f"
             ],
             [
              0.2222222222222222,
              "#7201a8"
             ],
             [
              0.3333333333333333,
              "#9c179e"
             ],
             [
              0.4444444444444444,
              "#bd3786"
             ],
             [
              0.5555555555555556,
              "#d8576b"
             ],
             [
              0.6666666666666666,
              "#ed7953"
             ],
             [
              0.7777777777777778,
              "#fb9f3a"
             ],
             [
              0.8888888888888888,
              "#fdca26"
             ],
             [
              1,
              "#f0f921"
             ]
            ],
            "type": "surface"
           }
          ],
          "table": [
           {
            "cells": {
             "fill": {
              "color": "#EBF0F8"
             },
             "line": {
              "color": "white"
             }
            },
            "header": {
             "fill": {
              "color": "#C8D4E3"
             },
             "line": {
              "color": "white"
             }
            },
            "type": "table"
           }
          ]
         },
         "layout": {
          "annotationdefaults": {
           "arrowcolor": "#2a3f5f",
           "arrowhead": 0,
           "arrowwidth": 1
          },
          "autotypenumbers": "strict",
          "coloraxis": {
           "colorbar": {
            "outlinewidth": 0,
            "ticks": ""
           }
          },
          "colorscale": {
           "diverging": [
            [
             0,
             "#8e0152"
            ],
            [
             0.1,
             "#c51b7d"
            ],
            [
             0.2,
             "#de77ae"
            ],
            [
             0.3,
             "#f1b6da"
            ],
            [
             0.4,
             "#fde0ef"
            ],
            [
             0.5,
             "#f7f7f7"
            ],
            [
             0.6,
             "#e6f5d0"
            ],
            [
             0.7,
             "#b8e186"
            ],
            [
             0.8,
             "#7fbc41"
            ],
            [
             0.9,
             "#4d9221"
            ],
            [
             1,
             "#276419"
            ]
           ],
           "sequential": [
            [
             0,
             "#0d0887"
            ],
            [
             0.1111111111111111,
             "#46039f"
            ],
            [
             0.2222222222222222,
             "#7201a8"
            ],
            [
             0.3333333333333333,
             "#9c179e"
            ],
            [
             0.4444444444444444,
             "#bd3786"
            ],
            [
             0.5555555555555556,
             "#d8576b"
            ],
            [
             0.6666666666666666,
             "#ed7953"
            ],
            [
             0.7777777777777778,
             "#fb9f3a"
            ],
            [
             0.8888888888888888,
             "#fdca26"
            ],
            [
             1,
             "#f0f921"
            ]
           ],
           "sequentialminus": [
            [
             0,
             "#0d0887"
            ],
            [
             0.1111111111111111,
             "#46039f"
            ],
            [
             0.2222222222222222,
             "#7201a8"
            ],
            [
             0.3333333333333333,
             "#9c179e"
            ],
            [
             0.4444444444444444,
             "#bd3786"
            ],
            [
             0.5555555555555556,
             "#d8576b"
            ],
            [
             0.6666666666666666,
             "#ed7953"
            ],
            [
             0.7777777777777778,
             "#fb9f3a"
            ],
            [
             0.8888888888888888,
             "#fdca26"
            ],
            [
             1,
             "#f0f921"
            ]
           ]
          },
          "colorway": [
           "#636efa",
           "#EF553B",
           "#00cc96",
           "#ab63fa",
           "#FFA15A",
           "#19d3f3",
           "#FF6692",
           "#B6E880",
           "#FF97FF",
           "#FECB52"
          ],
          "font": {
           "color": "#2a3f5f"
          },
          "geo": {
           "bgcolor": "white",
           "lakecolor": "white",
           "landcolor": "#E5ECF6",
           "showlakes": true,
           "showland": true,
           "subunitcolor": "white"
          },
          "hoverlabel": {
           "align": "left"
          },
          "hovermode": "closest",
          "mapbox": {
           "style": "light"
          },
          "paper_bgcolor": "white",
          "plot_bgcolor": "#E5ECF6",
          "polar": {
           "angularaxis": {
            "gridcolor": "white",
            "linecolor": "white",
            "ticks": ""
           },
           "bgcolor": "#E5ECF6",
           "radialaxis": {
            "gridcolor": "white",
            "linecolor": "white",
            "ticks": ""
           }
          },
          "scene": {
           "xaxis": {
            "backgroundcolor": "#E5ECF6",
            "gridcolor": "white",
            "gridwidth": 2,
            "linecolor": "white",
            "showbackground": true,
            "ticks": "",
            "zerolinecolor": "white"
           },
           "yaxis": {
            "backgroundcolor": "#E5ECF6",
            "gridcolor": "white",
            "gridwidth": 2,
            "linecolor": "white",
            "showbackground": true,
            "ticks": "",
            "zerolinecolor": "white"
           },
           "zaxis": {
            "backgroundcolor": "#E5ECF6",
            "gridcolor": "white",
            "gridwidth": 2,
            "linecolor": "white",
            "showbackground": true,
            "ticks": "",
            "zerolinecolor": "white"
           }
          },
          "shapedefaults": {
           "line": {
            "color": "#2a3f5f"
           }
          },
          "ternary": {
           "aaxis": {
            "gridcolor": "white",
            "linecolor": "white",
            "ticks": ""
           },
           "baxis": {
            "gridcolor": "white",
            "linecolor": "white",
            "ticks": ""
           },
           "bgcolor": "#E5ECF6",
           "caxis": {
            "gridcolor": "white",
            "linecolor": "white",
            "ticks": ""
           }
          },
          "title": {
           "x": 0.05
          },
          "xaxis": {
           "automargin": true,
           "gridcolor": "white",
           "linecolor": "white",
           "ticks": "",
           "title": {
            "standoff": 15
           },
           "zerolinecolor": "white",
           "zerolinewidth": 2
          },
          "yaxis": {
           "automargin": true,
           "gridcolor": "white",
           "linecolor": "white",
           "ticks": "",
           "title": {
            "standoff": 15
           },
           "zerolinecolor": "white",
           "zerolinewidth": 2
          }
         }
        },
        "xaxis": {
         "anchor": "y",
         "domain": [
          0,
          1
         ]
        },
        "yaxis": {
         "anchor": "x",
         "domain": [
          0,
          1
         ]
        }
       }
      }
     },
     "metadata": {},
     "output_type": "display_data"
    }
   ],
   "source": [
    "env = LuxAI_S2() # create the environment object\n",
    "obs = env.reset(seed=69) # resets an environment with a seed\n",
    "\n",
    "# the observation is always composed of observations for both players.\n",
    "obs.keys(), obs[\"player_0\"].keys()\n",
    "\n",
    "# visualize the environment so far with rgb_array to get a quick look at the map\n",
    "# dark orange - high rubble, light orange - low rubble\n",
    "# blue = ice, yellow = ore\n",
    "img = env.render(\"rgb_array\", width=48, height=48)\n",
    "px.imshow(img).show()"
   ]
  },
  {
   "cell_type": "code",
   "execution_count": 120,
   "metadata": {},
   "outputs": [],
   "source": [
    "\n",
    "# defines the agent class\n",
    "class Archimedes():\n",
    "    def __init__(self, player: str, env_cfg: EnvConfig) -> None:\n",
    "        self.player = player\n",
    "        self.opp_player = \"player_1\" if self.player == \"player_0\" else \"player_0\"\n",
    "        #np.random.seed(0)\n",
    "        self.env_cfg: EnvConfig = env_cfg\n",
    "\n",
    "    def early_setup(self, step: int, obs, remainingOverageTime: int = 60):\n",
    "\n",
    "        actions = dict()\n",
    "        # optionally convert observations to python objects with utility functions\n",
    "        game_state = obs_to_game_state(step, self.env_cfg, obs) \n",
    "        return actions\n",
    "\n",
    "    def act(self, step: int, obs, remainingOverageTime: int = 60):\n",
    "        actions = dict()\n",
    "        game_state = obs_to_game_state(step, self.env_cfg, obs)\n",
    "        return actions"
   ]
  },
  {
   "cell_type": "code",
   "execution_count": 121,
   "metadata": {},
   "outputs": [],
   "source": [
    "def remove_spawns_at_border(desirable_coordinates, map_width, map_height):\n",
    "    for x in range(0, map_width):\n",
    "        desirable_coordinates[0][x] = 0\n",
    "        desirable_coordinates[map_width - 1][x] = 0\n",
    "\n",
    "    for y in range(0, map_height):\n",
    "        desirable_coordinates[0][x] = 0\n",
    "        desirable_coordinates[y][map_height - 1] = 0\n",
    "\n",
    "    return desirable_coordinates\n",
    "\n",
    "\n",
    "def set_coords_zero(desirable_coordinates, resource_indexes):\n",
    "    for x, y in resource_indexes:\n",
    "        try:\n",
    "            desirable_coordinates[x][y] = 0\n",
    "       \n",
    "        except IndexError:\n",
    "            continue\n",
    "\n",
    "    return desirable_coordinates\n",
    "\n",
    "\n",
    "def set_coords_one(desirable_coordinates, spawn_indexes):\n",
    "    for x, y in spawn_indexes:\n",
    "        try:\n",
    "            desirable_coordinates[x][y] = 1\n",
    "       \n",
    "        except IndexError:\n",
    "            continue\n",
    "\n",
    "    return desirable_coordinates\n",
    "\n",
    "\n",
    "def get_factory_occupied_tiles(x, y):\n",
    "    return np.array([\n",
    "        (x, y), # factory center\n",
    "        (x-1, y), (x, y-1), # left and top\n",
    "        (x+1, y), (x, y+1), # right and bottom\n",
    "        (x-1, y-1), (x+1, y-1), # diagonals\n",
    "        (x-1, y+1), (x+1, y+1), # diagonals\n",
    "        (x-2, y), (x, y-2), # left and top \n",
    "        (x+2, y), (x, y+2), # right and bottom \n",
    "        (x-2, y-1), (x-1, y-2), (x-2, y-2), # left and top diagonals \n",
    "        (x+2, y+1), (x+1, y+2), (x+2, y+2), # right and bottom diagonals \n",
    "        (x+2, y-1), (x+1, y-2), (x+2, y-2), # right and top diagonals \n",
    "        (x-2, y+1), (x-1, y+2), (x-2, y+2), # left and bottom diagonals \n",
    "        (x-3, y), (x, y-3), (x+3, y), (x, y+3), # left and top\n",
    "        (x-3, y), (x, y-3), (x+3, y), (x, y+3), # right and bottom\n",
    "        (x-3, y-1), (x-1, y-3), (x-3, y-3), # left and top diagonals \n",
    "        (x+3, y+1), (x+1, y+3), (x+3, y+3), # right and bottom diagonals \n",
    "        (x+3, y-1), (x+1, y-3), (x+3, y-3), # left and top diagonals \n",
    "        (x-3, y+1), (x-1, y+3), (x-3, y+3), # right and bottom diagonals \n",
    "\n",
    "    ]) \n",
    "\n",
    "\n",
    "def get_bordering_coords(x, y):\n",
    "    return np.array([\n",
    "        (x, y), # center\n",
    "        (x-1, y), (x, y-1), # left and top\n",
    "        (x+1, y), (x, y+1), # right and bottom\n",
    "        (x-1, y-1), (x+1, y-1), # diagonals\n",
    "        (x-1, y+1), (x+1, y+1), # diagonals\n",
    "    ])\n",
    "\n",
    "\n",
    "# function used by Agent_007 for locating resource border coordinates\n",
    "def neighbors(x, y):\n",
    "    return np.array([\n",
    "        # commented to give buffer, avoiding placing factory on resource\n",
    "        # layer 1\n",
    "        #(x-1, y), (x, y-1), # left and top\n",
    "        #(x+1, y), (x, y+1), # right and bottom\n",
    "\n",
    "        # layer 2\n",
    "        (x-2, y), (x, y-2), # left and top \n",
    "        (x+2, y), (x, y+2), # right and bottom \n",
    "\n",
    "        (x-2, y-1), #(x-1, y-2), (x-2, y-2), # left and top diagonals \n",
    "        (x+2, y+1), #(x+1, y+2), (x+2, y+2), # right and bottom diagonals \n",
    "\n",
    "        (x+2, y-1), #(x+1, y-2), (x+2, y-2), # right and top diagonals \n",
    "        (x-2, y+1), #(x-1, y+2), (x-2, y+2), # left and bottom diagonals \n",
    "\n",
    "        # commented away to try to get factory right next to resource\n",
    "        # layer 3\n",
    "        #(x-3, y), (x, y-3), (x+3, y), (x, y+3), # left and top\n",
    "        #(x-3, y), (x, y-3), (x+3, y), (x, y+3), # right and bottom\n",
    "\n",
    "        #(x-3, y-1), (x-1, y-3), (x-3, y-3), # left and top diagonals \n",
    "        #(x+3, y+1), (x+1, y+3), (x+3, y+3), # right and bottom diagonals \n",
    "\n",
    "        #(x+3, y-1), (x+1, y-3), (x+3, y-3), # left and top diagonals \n",
    "        #(x-3, y+1), (x-1, y+3), (x-3, y+3), # right and bottom diagonals \n",
    "\n",
    "    ])\n",
    "    # expand this to include diagonal border coordinates, up to 3 away, or possibly make this method take a search grid range \n",
    "    # and return a np array with results from this grid range\n",
    "\n",
    "\n",
    "# function used by Agent_007 for sorting list of resource locations by point x and y value\n",
    "def get_ordered_list(points, x, y):\n",
    "    p_list2 = sorted(points, key=lambda p: abs(p[0] - x) + abs(p[1] - y))\n",
    "    return p_list2\n",
    "\n",
    "\n",
    "# function used by Agent_007 for deciding what action the unit should take to accieve its assignment\n",
    "def assignment_action_decision(unit, unit_id, assignment_tile, actions, direction, move_power_cost, dig_power_cost):\n",
    "    if type(assignment_tile) == str or (unit.power < move_power_cost) or (unit.power < dig_power_cost):\n",
    "        print('idle assignment: ', assignment_tile)\n",
    "        actions[unit_id] = [unit.recharge(1, repeat=0)]\n",
    "        #actions[unit_id] = [unit.move(0, repeat=0)] # move 0 equals move center\n",
    "\n",
    "    if all(unit.pos == assignment_tile) and (unit.power >= dig_power_cost):\n",
    "        print('dig assignment: ', assignment_tile)\n",
    "        actions[unit_id] = [unit.dig(repeat=0)]\n",
    "\n",
    "    else:\n",
    "        direction = direction_to(unit.pos, assignment_tile)\n",
    "        print('move assignment: ', assignment_tile, direction)\n",
    "        actions[unit_id] = [unit.move(direction, repeat=0)]\n",
    "\n",
    "\n",
    "\n",
    "\n",
    "\n",
    "# Agent_007 setup of early game\n",
    "def early_setup(self, step: int, obs, remainingOverageTime: int = 60):\n",
    "    if step == 0:\n",
    "        # bid 0 to not waste resources bidding and declare as the default faction\n",
    "        # you can bid -n to prefer going second or n to prefer going first in placement\n",
    "        return dict(faction=\"AlphaStrike\", bid=0)\n",
    "    else:\n",
    "        game_state = obs_to_game_state(step, self.env_cfg, obs)\n",
    "\n",
    "        ### Resets spawn mask coordinates and sets desirable coords with proximity to ice/ore coordinates as spawn coordinates\n",
    "        # sets all valid coordinates to 0 as only zero and one are possible \n",
    "        desirable_coordinates_filtered = np.copy(game_state.board.valid_spawns_mask)\n",
    "        desirable_coordinates_filtered[desirable_coordinates_filtered == 1] = 0\n",
    "\n",
    "        # gets border indexes of ore coordinates and ice coordinates\n",
    "        indOre = np.transpose(np.where(game_state.board.ore > 0))\n",
    "        oreSpawns = np.unique(np.concatenate([neighbors(*i) for i in indOre]), axis=0)\n",
    "\n",
    "        indIce = np.transpose(np.where(game_state.board.ice > 0))\n",
    "        iceSpawns = np.unique(np.concatenate([neighbors(*i) for i in indIce]), axis=0)\n",
    "\n",
    "        # sets coordinates around ore and ice to 1\n",
    "        '''\n",
    "        desirable_coordinates_filtered = set_coords_one(desirable_coordinates=desirable_coordinates_filtered, spawn_indexes=oreSpawns)\n",
    "        '''\n",
    "        desirable_coordinates_filtered = set_coords_one(desirable_coordinates=desirable_coordinates_filtered, spawn_indexes=iceSpawns)\n",
    "\n",
    "        # then replaces ore and ice coordinates (and directly ajacent ones) with 0, as these are not valid spawn locations\n",
    "        oreNeighb = np.unique(np.concatenate([get_bordering_coords(*i) for i in indOre]), axis=0)\n",
    "        desirable_coordinates_filtered = set_coords_zero(desirable_coordinates=desirable_coordinates_filtered, resource_indexes=oreNeighb)\n",
    "\n",
    "        iceNeighb = np.unique(np.concatenate([get_bordering_coords(*i) for i in indIce]), axis=0)\n",
    "        desirable_coordinates_filtered = set_coords_zero(desirable_coordinates=desirable_coordinates_filtered, resource_indexes=iceNeighb)\n",
    "        \n",
    "        \n",
    "        # then replace border coordinates with 0, as these are not valid spawn locations\n",
    "        map_width = len(desirable_coordinates_filtered[0])\n",
    "        map_height = len(desirable_coordinates_filtered)\n",
    "        desirable_coordinates_filtered = remove_spawns_at_border(desirable_coordinates=desirable_coordinates_filtered, map_width=map_width, map_height=map_height)\n",
    "\n",
    "        # then replace coordinates where there are factories (and directly ajacent ones) with 0, as these are no longer valid spawn locations\n",
    "        factory_indexes = np.transpose(np.where(game_state.board.factory_occupancy_map > 0))\n",
    "        if len(factory_indexes) > 0:\n",
    "            occupied_indexes = np.unique(np.concatenate([get_factory_occupied_tiles(*i) for i in factory_indexes]), axis=0)\n",
    "            desirable_coordinates_filtered = set_coords_zero(desirable_coordinates=desirable_coordinates_filtered, resource_indexes=occupied_indexes)\n",
    "\n",
    "\n",
    "        # visualizes the map and AI vision\n",
    "        #img = env.render(\"rgb_array\", width=48, height=48)\n",
    "        #px.imshow(img).show()\n",
    "        #px.imshow(desirable_coordinates_filtered.T).show()\n",
    "\n",
    "\n",
    "        ### Factory placement period\n",
    "        # how much water and metal you have in your starting pool to give to new factories\n",
    "        water_left = game_state.teams[self.player].water\n",
    "        metal_left = game_state.teams[self.player].metal\n",
    "        \n",
    "        # how many factories you have left to place\n",
    "        factories_to_place = game_state.teams[self.player].factories_to_place\n",
    "\n",
    "        # whether it is your turn to place a factory\n",
    "        my_turn_to_place = my_turn_to_place_factory(game_state.teams[self.player].place_first, step)\n",
    "        if factories_to_place > 0 and my_turn_to_place:\n",
    "            # we will spawn our factory in a random location with 150 metal and water if it is our turn to place\n",
    "            potential_spawns = np.array(list(zip(*np.where(desirable_coordinates_filtered == 1))))\n",
    "            spawn_loc = potential_spawns[np.random.randint(0, len(potential_spawns))]\n",
    "\n",
    "            return dict(spawn=spawn_loc, metal=150, water=150)\n",
    "\n",
    "        # returns empty dictionary if no decisions were reached\n",
    "        return dict()\n",
    "\n",
    "\n",
    "\n",
    "\n",
    "\n",
    "# Agent_007 setup of logic in the act phase\n",
    "def act(self, step: int, obs, remainingOverageTime: int = 60):\n",
    "    # info used to make decisions in the act phase\n",
    "    actions = dict()\n",
    "    game_state: GameState = obs_to_game_state(step, self.env_cfg, obs)\n",
    "    factories = game_state.factories[self.player]\n",
    "    game_state.teams[self.player].place_first\n",
    "    factory_tiles, factory_units = [], []\n",
    "\n",
    "\n",
    "    ### Creation of bots\n",
    "    heavy_bot_cost = self.env_cfg.ROBOTS[\"HEAVY\"]\n",
    "    light_bot_cost = self.env_cfg.ROBOTS[\"HEAVY\"]\n",
    "    for unit_id, factory in factories.items():\n",
    "        if factory.power >= heavy_bot_cost.POWER_COST and factory.cargo.metal >= heavy_bot_cost.METAL_COST:\n",
    "            # sets factory with unit_id to construct heavy bot\n",
    "            actions[unit_id] = factory.build_heavy()\n",
    "\n",
    "\n",
    "    ### Finds all ice tiles, sorts by proximity to heavy bot\n",
    "    ice_map = game_state.board.ice \n",
    "    ice_tile_locations = np.argwhere(ice_map == 1) # numpy magic to get the position of every ice tile\n",
    "    units = game_state.units[self.player]\n",
    "\n",
    "    for unit_id, unit in units.items():\n",
    "        isHeavy = unit.unit_type == 'HEAVY'\n",
    "        isLight = unit.unit_type == 'LIGHT'\n",
    "\n",
    "        ice_map = game_state.board.ice # flip the board as it stores by rows then columns\n",
    "        ice_tile_locations = np.argwhere(ice_map == 1) # numpy magic to get the position of every ice tile\n",
    "        sorted_ice_locations = sorted(ice_tile_locations, key=lambda p: (p[0] - unit.pos[0])**2 + (p[1] - unit.pos[1])**2 )\n",
    "\n",
    "        if isHeavy and unit.cargo.ice == 0 and all(unit.pos == sorted_ice_locations[0]):\n",
    "            actions[unit_id] = [unit.dig(repeat=0)]\n",
    "\n",
    "        elif isHeavy and unit.cargo.ice == 0 and not all(unit.pos == sorted_ice_locations[0]):\n",
    "            direction = direction_to(unit.pos, sorted_ice_locations[0])\n",
    "            actions[unit_id] = [unit.move(direction, repeat=0)]\n",
    "\n",
    "\n",
    "    ### Finds all ore tiles, sorts by proximity to light bot\n",
    "\n",
    "\n",
    "    return actions\n",
    "\n",
    "\n",
    "\n",
    "    ### Movement of bots, towards resources if enough energy. to nearest factory if full or low energy\n",
    "    # iterate over our units and have them mine the closest ice tile\n",
    "    units = game_state.units[self.player]\n",
    "    factory_tile_locations = np.array([factory.pos for id, factory in factories.items()])\n",
    "    factories_midpoint_x = np.mean([factory[0] for factory in factory_tile_locations])\n",
    "    factories_midpoint_y = np.mean([factory[1] for factory in factory_tile_locations])\n",
    "    factories_midpoint_coordinate = np.array([factories_midpoint_x, factories_midpoint_y])\n",
    "\n",
    "\n",
    "    ### Finds all ice tiles, sorts by proximity to factory \n",
    "    sorted_ice_locations = get_ordered_list(points=ice_tile_locations, x=factories_midpoint_coordinate[0], y=factories_midpoint_coordinate[1])\n",
    "\n",
    "\n",
    "    ### Finds all ore tiles, sorts by proximity to factory\n",
    "    ore_map = game_state.board.ore\n",
    "    ore_tile_locations = np.argwhere(ore_map == 1)\n",
    "    sorted_ore_locations = get_ordered_list(points=ore_tile_locations, x=factories_midpoint_coordinate[0], y=factories_midpoint_coordinate[1])\n",
    "\n",
    "\n",
    "    ### Distributes 'tile assignments' for ore and ice tiles to 40 and 60 percent of the bots available, bots left are given ice assignments\n",
    "    num_bots = len(units)\n",
    "    ice_assignments = math.floor((num_bots * 0.4))\n",
    "    ore_assignments = math.floor((num_bots * 0.6))\n",
    "    # as long as distribution of assignments sum to 100%, only one remaining bot is required to give extra assignment\n",
    "    if (ice_assignments + ore_assignments) < num_bots:\n",
    "        ice_assignments += 1\n",
    "        ore_assignments += 1\n",
    "\n",
    "    print('\\n', game_state.real_env_steps)\n",
    "    print([(factory_id, factory.cargo.water) for factory_id, factory in factories.items()])\n",
    "    #print(game_state.teams[self.player].water)\n",
    "    assignment_count = 0\n",
    "    for unit_id, unit in units.items():\n",
    "        if (assignment_count == (assignment_count - 1) ):\n",
    "            break\n",
    "\n",
    "        factory_tile_distances = np.mean((factory_tile_locations - unit.pos) ** 2, 1)\n",
    "        closest_factory_tile = factory_tile_locations[np.argmin(factory_tile_distances)]\n",
    "        moves_to_closest_factory = abs(closest_factory_tile[0] - unit.pos[0]) + abs(closest_factory_tile[1] - unit.pos[1])\n",
    "\n",
    "        # begins moving back if cargo is filled with ice\n",
    "        home_direction = direction_to(unit.pos, closest_factory_tile)\n",
    "        home_move_cost = unit.move_cost(game_state, home_direction) + unit.action_queue_cost(game_state)\n",
    "        if (unit.cargo.ice >= 20) or (unit.cargo.ore >= 20) or (unit.power <= (home_move_cost * moves_to_closest_factory)):\n",
    "            print('home chosen', assignment_count, num_bots)\n",
    "            adjacent_to_factory = np.mean((closest_factory_tile - unit.pos) ** 2) == 0\n",
    "\n",
    "            if adjacent_to_factory and (unit.cargo.ice > 0):\n",
    "                direction = direction_to(unit.pos, closest_factory_tile)\n",
    "                print('offloaded', unit.cargo.ice)\n",
    "                actions[unit_id] = [unit.transfer(direction, 0, unit.cargo.ice, repeat=0)]\n",
    "                continue\n",
    "\n",
    "            if adjacent_to_factory and (unit.cargo.ore > 0):\n",
    "                direction = direction_to(unit.pos, closest_factory_tile)\n",
    "                print('offloaded', unit.cargo.ore)\n",
    "                actions[unit_id] = [unit.transfer(direction, 0, unit.cargo.ore, repeat=0)]\n",
    "                continue\n",
    "\n",
    "            if adjacent_to_factory and (unit.cargo.ice == 0) and (unit.cargo.ore == 0):\n",
    "                actions[unit_id] = [unit.recharge(150, repeat=0)]\n",
    "                continue\n",
    "            \n",
    "            else:\n",
    "                direction = direction_to(unit.pos, closest_factory_tile)\n",
    "                actions[unit_id] = [unit.move(direction, repeat=0)]\n",
    "                continue\n",
    "\n",
    "        # assigns bot to ice duty to closest ice tile\n",
    "        if assignment_count < ice_assignments:\n",
    "            # decides weather bot can be assigned, is on assignement tile and should dig, or if it should move towards tile\n",
    "            assignment_tile = sorted_ice_locations[0] if len(sorted_ice_locations) > 0 else 'unassigned'\n",
    "            print('ice chosen', unit.pos, assignment_tile, unit.pos == assignment_tile)\n",
    "\n",
    "            direction = direction_to(unit.pos, assignment_tile)\n",
    "            move_power_cost = unit.move_cost(game_state, direction) + unit.action_queue_cost(game_state)\n",
    "            dig_power_cost = unit.dig_cost(game_state) + unit.action_queue_cost(game_state)\n",
    "            assignment_action_decision(\n",
    "                unit=unit, \n",
    "                unit_id=unit_id,\n",
    "                assignment_tile=assignment_tile,\n",
    "                actions=actions,\n",
    "                direction=direction,\n",
    "                move_power_cost=move_power_cost,\n",
    "                dig_power_cost=dig_power_cost\n",
    "                )\n",
    "            sorted_ice_locations = np.delete(sorted_ice_locations, 0, axis=0) if len(sorted_ice_locations) > 0 else sorted_ice_locations\n",
    "            assignment_count += 1\n",
    "            continue\n",
    "\n",
    "        # assigns bot to ore duty to closest ore tile\n",
    "        if assignment_count >= ice_assignments and assignment_count < ore_assignments:\n",
    "            assignment_tile = sorted_ore_locations[0] if len(sorted_ore_locations) > 0 else 'unassigned'\n",
    "            print('ore chosen', unit.pos, assignment_tile, num_bots)\n",
    "\n",
    "            direction = direction_to(unit.pos, assignment_tile)\n",
    "            move_power_cost = unit.move_cost(game_state, direction) + unit.action_queue_cost(game_state)\n",
    "            dig_power_cost = unit.dig_cost(game_state) + unit.action_queue_cost(game_state)\n",
    "            \n",
    "            assignment_action_decision(\n",
    "                unit=unit, \n",
    "                unit_id=unit_id,\n",
    "                assignment_tile=assignment_tile,\n",
    "                actions=actions,\n",
    "                direction=direction,\n",
    "                move_power_cost=move_power_cost,\n",
    "                dig_power_cost=dig_power_cost\n",
    "                )\n",
    "            sorted_ore_locations = np.delete(sorted_ore_locations, 0, axis=0) if len(sorted_ore_locations) > 0 else sorted_ore_locations\n",
    "            assignment_count += 1\n",
    "            continue\n",
    "\n",
    "        else:\n",
    "            print('none chosen', unit_id, assignment_count, num_bots)\n",
    "            assignment_count += 1\n",
    "            continue\n",
    "\n",
    "\n",
    "    return actions\n",
    "\n",
    "\n",
    "# redefines early setup logic to be new function\n",
    "Archimedes.early_setup = early_setup\n",
    "\n",
    "# redefines acting logic to be new function\n",
    "Archimedes.act = act"
   ]
  },
  {
   "cell_type": "code",
   "execution_count": 122,
   "metadata": {},
   "outputs": [
    {
     "name": "stderr",
     "output_type": "stream",
     "text": [
      "OpenCV: FFMPEG: tag 0x30395056/'VP90' is not supported with codec id 167 and format 'webm / WebM'\n"
     ]
    },
    {
     "data": {
      "text/html": [
       "<video src=\"NNKHpzhDKfdWYMwKEW.webm\" controls  >\n",
       "      Your browser does not support the <code>video</code> element.\n",
       "    </video>"
      ],
      "text/plain": [
       "<IPython.core.display.Video object>"
      ]
     },
     "execution_count": 122,
     "metadata": {},
     "output_type": "execute_result"
    }
   ],
   "source": [
    "# imports from support files with class and functions\n",
    "import default_agent\n",
    "import lux_functions\n",
    "\n",
    "# recreate our agents and run\n",
    "player0 = env.agents[0]\n",
    "player1 = env.agents[1]\n",
    "agents = {\n",
    "    player0: Archimedes(env.agents[0], env.state.env_cfg), \n",
    "    player1: default_agent.Default_Agent(env.agents[1], env.state.env_cfg)\n",
    "}\n",
    "\n",
    "lux_functions.interact(env=env, agents=agents, steps=1000, video=True)"
   ]
  }
 ],
 "metadata": {
  "kernelspec": {
   "display_name": "Python 3.11.0 64-bit",
   "language": "python",
   "name": "python3"
  },
  "language_info": {
   "codemirror_mode": {
    "name": "ipython",
    "version": 3
   },
   "file_extension": ".py",
   "mimetype": "text/x-python",
   "name": "python",
   "nbconvert_exporter": "python",
   "pygments_lexer": "ipython3",
   "version": "3.10.0"
  },
  "orig_nbformat": 4,
  "vscode": {
   "interpreter": {
    "hash": "aee8b7b246df8f9039afb4144a1f6fd8d2ca17a180786b69acc140d282b71a49"
   }
  }
 },
 "nbformat": 4,
 "nbformat_minor": 2
}
